{
 "cells": [
  {
   "cell_type": "markdown",
   "source": [
    "# Predict single footballer future points"
   ],
   "metadata": {
    "collapsed": false
   }
  },
  {
   "cell_type": "markdown",
   "source": [
    "## Import merged_gw data from 2020-21 season"
   ],
   "metadata": {
    "collapsed": false
   }
  },
  {
   "cell_type": "code",
   "execution_count": 1082,
   "metadata": {
    "collapsed": true
   },
   "outputs": [],
   "source": [
    "import os\n",
    "import pandas as pd\n",
    "import numpy as np\n",
    "import keras\n",
    "import matplotlib.pyplot as plt\n",
    "from sklearn.preprocessing import MinMaxScaler\n",
    "from keras.preprocessing.sequence import TimeseriesGenerator\n",
    "from keras.models import Sequential\n",
    "from keras.layers import Dense\n",
    "from keras.layers import LSTM"
   ]
  },
  {
   "cell_type": "code",
   "execution_count": 1083,
   "outputs": [],
   "source": [
    "data_path = os.path.dirname(os.getcwd()) + '\\\\data'\n",
    "merged_gw_2021_path = data_path + '\\\\2020-21\\\\gws\\\\merged_gw.csv'"
   ],
   "metadata": {
    "collapsed": false,
    "pycharm": {
     "name": "#%%\n"
    }
   }
  },
  {
   "cell_type": "code",
   "execution_count": 1084,
   "outputs": [],
   "source": [
    "merged_gw = pd.read_csv(merged_gw_2021_path, encoding='latin-1', )"
   ],
   "metadata": {
    "collapsed": false,
    "pycharm": {
     "name": "#%%\n"
    }
   }
  },
  {
   "cell_type": "code",
   "execution_count": 1085,
   "outputs": [
    {
     "data": {
      "text/plain": "                  name position           team   xP  assists  bonus  bps  \\\n0       Aaron Connolly      FWD       Brighton  0.5        0      0   -3   \n1      Aaron Cresswell      DEF       West Ham  2.1        0      0   11   \n2           Aaron Mooy      MID       Brighton  0.0        0      0    0   \n3       Aaron Ramsdale       GK  Sheffield Utd  2.5        0      0   12   \n4  Abdoulaye DoucourÃ©      MID        Everton  1.3        0      0   20   \n\n   clean_sheets  creativity  element  ...  team_h_score  threat  total_points  \\\n0             0         0.3       78  ...             1    32.0             1   \n1             0        11.2      435  ...             0     0.0             1   \n2             0         0.0       60  ...             1     0.0             0   \n3             0         0.0      483  ...             0     0.0             1   \n4             1        44.6      512  ...             0     4.0             3   \n\n   transfers_balance  transfers_in transfers_out  value  was_home  \\\n0                  0             0             0     55      True   \n1                  0             0             0     50      True   \n2                  0             0             0     50      True   \n3                  0             0             0     50      True   \n4                  0             0             0     55     False   \n\n   yellow_cards  GW  \n0             0   1  \n1             0   1  \n2             0   1  \n3             0   1  \n4             0   1  \n\n[5 rows x 36 columns]",
      "text/html": "<div>\n<style scoped>\n    .dataframe tbody tr th:only-of-type {\n        vertical-align: middle;\n    }\n\n    .dataframe tbody tr th {\n        vertical-align: top;\n    }\n\n    .dataframe thead th {\n        text-align: right;\n    }\n</style>\n<table border=\"1\" class=\"dataframe\">\n  <thead>\n    <tr style=\"text-align: right;\">\n      <th></th>\n      <th>name</th>\n      <th>position</th>\n      <th>team</th>\n      <th>xP</th>\n      <th>assists</th>\n      <th>bonus</th>\n      <th>bps</th>\n      <th>clean_sheets</th>\n      <th>creativity</th>\n      <th>element</th>\n      <th>...</th>\n      <th>team_h_score</th>\n      <th>threat</th>\n      <th>total_points</th>\n      <th>transfers_balance</th>\n      <th>transfers_in</th>\n      <th>transfers_out</th>\n      <th>value</th>\n      <th>was_home</th>\n      <th>yellow_cards</th>\n      <th>GW</th>\n    </tr>\n  </thead>\n  <tbody>\n    <tr>\n      <th>0</th>\n      <td>Aaron Connolly</td>\n      <td>FWD</td>\n      <td>Brighton</td>\n      <td>0.5</td>\n      <td>0</td>\n      <td>0</td>\n      <td>-3</td>\n      <td>0</td>\n      <td>0.3</td>\n      <td>78</td>\n      <td>...</td>\n      <td>1</td>\n      <td>32.0</td>\n      <td>1</td>\n      <td>0</td>\n      <td>0</td>\n      <td>0</td>\n      <td>55</td>\n      <td>True</td>\n      <td>0</td>\n      <td>1</td>\n    </tr>\n    <tr>\n      <th>1</th>\n      <td>Aaron Cresswell</td>\n      <td>DEF</td>\n      <td>West Ham</td>\n      <td>2.1</td>\n      <td>0</td>\n      <td>0</td>\n      <td>11</td>\n      <td>0</td>\n      <td>11.2</td>\n      <td>435</td>\n      <td>...</td>\n      <td>0</td>\n      <td>0.0</td>\n      <td>1</td>\n      <td>0</td>\n      <td>0</td>\n      <td>0</td>\n      <td>50</td>\n      <td>True</td>\n      <td>0</td>\n      <td>1</td>\n    </tr>\n    <tr>\n      <th>2</th>\n      <td>Aaron Mooy</td>\n      <td>MID</td>\n      <td>Brighton</td>\n      <td>0.0</td>\n      <td>0</td>\n      <td>0</td>\n      <td>0</td>\n      <td>0</td>\n      <td>0.0</td>\n      <td>60</td>\n      <td>...</td>\n      <td>1</td>\n      <td>0.0</td>\n      <td>0</td>\n      <td>0</td>\n      <td>0</td>\n      <td>0</td>\n      <td>50</td>\n      <td>True</td>\n      <td>0</td>\n      <td>1</td>\n    </tr>\n    <tr>\n      <th>3</th>\n      <td>Aaron Ramsdale</td>\n      <td>GK</td>\n      <td>Sheffield Utd</td>\n      <td>2.5</td>\n      <td>0</td>\n      <td>0</td>\n      <td>12</td>\n      <td>0</td>\n      <td>0.0</td>\n      <td>483</td>\n      <td>...</td>\n      <td>0</td>\n      <td>0.0</td>\n      <td>1</td>\n      <td>0</td>\n      <td>0</td>\n      <td>0</td>\n      <td>50</td>\n      <td>True</td>\n      <td>0</td>\n      <td>1</td>\n    </tr>\n    <tr>\n      <th>4</th>\n      <td>Abdoulaye DoucourÃ©</td>\n      <td>MID</td>\n      <td>Everton</td>\n      <td>1.3</td>\n      <td>0</td>\n      <td>0</td>\n      <td>20</td>\n      <td>1</td>\n      <td>44.6</td>\n      <td>512</td>\n      <td>...</td>\n      <td>0</td>\n      <td>4.0</td>\n      <td>3</td>\n      <td>0</td>\n      <td>0</td>\n      <td>0</td>\n      <td>55</td>\n      <td>False</td>\n      <td>0</td>\n      <td>1</td>\n    </tr>\n  </tbody>\n</table>\n<p>5 rows × 36 columns</p>\n</div>"
     },
     "execution_count": 1085,
     "metadata": {},
     "output_type": "execute_result"
    }
   ],
   "source": [
    "merged_gw.head()"
   ],
   "metadata": {
    "collapsed": false,
    "pycharm": {
     "name": "#%%\n"
    }
   }
  },
  {
   "cell_type": "code",
   "execution_count": 1086,
   "outputs": [],
   "source": [
    "# sort rows by column 'GW' ascending\n",
    "merged_gw.sort_values(by='GW', inplace=True)"
   ],
   "metadata": {
    "collapsed": false,
    "pycharm": {
     "name": "#%%\n"
    }
   }
  },
  {
   "cell_type": "markdown",
   "source": [
    "## Extract Jamie Vardy data"
   ],
   "metadata": {
    "collapsed": false
   }
  },
  {
   "cell_type": "code",
   "execution_count": 1087,
   "outputs": [],
   "source": [
    "vardy_data = merged_gw[merged_gw['name'] == 'Jamie Vardy']"
   ],
   "metadata": {
    "collapsed": false,
    "pycharm": {
     "name": "#%%\n"
    }
   }
  },
  {
   "cell_type": "code",
   "execution_count": 1088,
   "outputs": [
    {
     "data": {
      "text/plain": "             name position       team    xP  assists  bonus  bps  \\\n183   Jamie Vardy      FWD  Leicester   4.8        0      3   52   \n660   Jamie Vardy      FWD  Leicester   8.0        0      0    6   \n1207  Jamie Vardy      FWD  Leicester  10.2        0      3   82   \n1764  Jamie Vardy      FWD  Leicester   9.0        0      0   -2   \n2335  Jamie Vardy      FWD  Leicester   4.3        0      0    0   \n\n      clean_sheets  creativity  element  ...  team_h_score  threat  \\\n183              1        10.3      224  ...             0    36.0   \n660              0        11.2      224  ...             4    22.0   \n1207             0         0.5      224  ...             2    71.0   \n1764             0         1.4      224  ...             0    14.0   \n2335             0         0.0      224  ...             0     0.0   \n\n      total_points  transfers_balance  transfers_in transfers_out  value  \\\n183             13                  0             0             0    100   \n660              2             226309        303351         77042    101   \n1207            17            -247620         71441        319061    100   \n1764             2             296313        427289        130976    101   \n2335             0             -30736        210612        241348    101   \n\n      was_home  yellow_cards  GW  \n183      False             0   1  \n660       True             0   2  \n1207     False             0   3  \n1764      True             0   4  \n2335      True             0   5  \n\n[5 rows x 36 columns]",
      "text/html": "<div>\n<style scoped>\n    .dataframe tbody tr th:only-of-type {\n        vertical-align: middle;\n    }\n\n    .dataframe tbody tr th {\n        vertical-align: top;\n    }\n\n    .dataframe thead th {\n        text-align: right;\n    }\n</style>\n<table border=\"1\" class=\"dataframe\">\n  <thead>\n    <tr style=\"text-align: right;\">\n      <th></th>\n      <th>name</th>\n      <th>position</th>\n      <th>team</th>\n      <th>xP</th>\n      <th>assists</th>\n      <th>bonus</th>\n      <th>bps</th>\n      <th>clean_sheets</th>\n      <th>creativity</th>\n      <th>element</th>\n      <th>...</th>\n      <th>team_h_score</th>\n      <th>threat</th>\n      <th>total_points</th>\n      <th>transfers_balance</th>\n      <th>transfers_in</th>\n      <th>transfers_out</th>\n      <th>value</th>\n      <th>was_home</th>\n      <th>yellow_cards</th>\n      <th>GW</th>\n    </tr>\n  </thead>\n  <tbody>\n    <tr>\n      <th>183</th>\n      <td>Jamie Vardy</td>\n      <td>FWD</td>\n      <td>Leicester</td>\n      <td>4.8</td>\n      <td>0</td>\n      <td>3</td>\n      <td>52</td>\n      <td>1</td>\n      <td>10.3</td>\n      <td>224</td>\n      <td>...</td>\n      <td>0</td>\n      <td>36.0</td>\n      <td>13</td>\n      <td>0</td>\n      <td>0</td>\n      <td>0</td>\n      <td>100</td>\n      <td>False</td>\n      <td>0</td>\n      <td>1</td>\n    </tr>\n    <tr>\n      <th>660</th>\n      <td>Jamie Vardy</td>\n      <td>FWD</td>\n      <td>Leicester</td>\n      <td>8.0</td>\n      <td>0</td>\n      <td>0</td>\n      <td>6</td>\n      <td>0</td>\n      <td>11.2</td>\n      <td>224</td>\n      <td>...</td>\n      <td>4</td>\n      <td>22.0</td>\n      <td>2</td>\n      <td>226309</td>\n      <td>303351</td>\n      <td>77042</td>\n      <td>101</td>\n      <td>True</td>\n      <td>0</td>\n      <td>2</td>\n    </tr>\n    <tr>\n      <th>1207</th>\n      <td>Jamie Vardy</td>\n      <td>FWD</td>\n      <td>Leicester</td>\n      <td>10.2</td>\n      <td>0</td>\n      <td>3</td>\n      <td>82</td>\n      <td>0</td>\n      <td>0.5</td>\n      <td>224</td>\n      <td>...</td>\n      <td>2</td>\n      <td>71.0</td>\n      <td>17</td>\n      <td>-247620</td>\n      <td>71441</td>\n      <td>319061</td>\n      <td>100</td>\n      <td>False</td>\n      <td>0</td>\n      <td>3</td>\n    </tr>\n    <tr>\n      <th>1764</th>\n      <td>Jamie Vardy</td>\n      <td>FWD</td>\n      <td>Leicester</td>\n      <td>9.0</td>\n      <td>0</td>\n      <td>0</td>\n      <td>-2</td>\n      <td>0</td>\n      <td>1.4</td>\n      <td>224</td>\n      <td>...</td>\n      <td>0</td>\n      <td>14.0</td>\n      <td>2</td>\n      <td>296313</td>\n      <td>427289</td>\n      <td>130976</td>\n      <td>101</td>\n      <td>True</td>\n      <td>0</td>\n      <td>4</td>\n    </tr>\n    <tr>\n      <th>2335</th>\n      <td>Jamie Vardy</td>\n      <td>FWD</td>\n      <td>Leicester</td>\n      <td>4.3</td>\n      <td>0</td>\n      <td>0</td>\n      <td>0</td>\n      <td>0</td>\n      <td>0.0</td>\n      <td>224</td>\n      <td>...</td>\n      <td>0</td>\n      <td>0.0</td>\n      <td>0</td>\n      <td>-30736</td>\n      <td>210612</td>\n      <td>241348</td>\n      <td>101</td>\n      <td>True</td>\n      <td>0</td>\n      <td>5</td>\n    </tr>\n  </tbody>\n</table>\n<p>5 rows × 36 columns</p>\n</div>"
     },
     "execution_count": 1088,
     "metadata": {},
     "output_type": "execute_result"
    }
   ],
   "source": [
    "vardy_data.head()"
   ],
   "metadata": {
    "collapsed": false,
    "pycharm": {
     "name": "#%%\n"
    }
   }
  },
  {
   "cell_type": "code",
   "execution_count": 1089,
   "outputs": [
    {
     "data": {
      "text/plain": "<Figure size 432x288 with 1 Axes>",
      "image/png": "[encoded data removed]"
     },
     "metadata": {
      "needs_background": "light"
     },
     "output_type": "display_data"
    }
   ],
   "source": [
    "plt.plot(vardy_data['GW'], vardy_data['total_points']);"
   ],
   "metadata": {
    "collapsed": false,
    "pycharm": {
     "name": "#%%\n"
    }
   }
  },
  {
   "cell_type": "markdown",
   "source": [
    "## Data preprocessing"
   ],
   "metadata": {
    "collapsed": false
   }
  },
  {
   "cell_type": "code",
   "execution_count": 1090,
   "outputs": [],
   "source": [
    "cleaned_data = vardy_data.drop(['name', 'position', 'team', 'element', 'fixture', 'kickoff_time', 'saves', 'penalties_saved', 'round', 'GW'], axis=1)"
   ],
   "metadata": {
    "collapsed": false,
    "pycharm": {
     "name": "#%%\n"
    }
   }
  },
  {
   "cell_type": "code",
   "execution_count": 1091,
   "outputs": [],
   "source": [
    "# change was_home column to binary\n",
    "cleaned_data['was_home'] = cleaned_data['was_home'].map({True: 1, False: 0})"
   ],
   "metadata": {
    "collapsed": false,
    "pycharm": {
     "name": "#%%\n"
    }
   }
  },
  {
   "cell_type": "code",
   "execution_count": 1092,
   "outputs": [],
   "source": [
    "# one hot encode 'opponent_team' column\n",
    "cleaned_data = pd.get_dummies(cleaned_data, columns=['opponent_team'], drop_first=True)"
   ],
   "metadata": {
    "collapsed": false,
    "pycharm": {
     "name": "#%%\n"
    }
   }
  },
  {
   "cell_type": "code",
   "execution_count": 1093,
   "outputs": [
    {
     "data": {
      "text/plain": "        xP  assists  bonus  bps  clean_sheets  creativity  goals_conceded  \\\n183    4.8        0      3   52             1        10.3               0   \n660    8.0        0      0    6             0        11.2               2   \n1207  10.2        0      3   82             0         0.5               2   \n1764   9.0        0      0   -2             0         1.4               3   \n2335   4.3        0      0    0             0         0.0               0   \n\n      goals_scored  ict_index  influence  ...  opponent_team_11  \\\n183              2       11.8       71.2  ...                 0   \n660              0        3.6        2.6  ...                 0   \n1207             3       17.7      105.2  ...                 0   \n1764             0        1.8        2.6  ...                 0   \n2335             0        0.0        0.0  ...                 0   \n\n      opponent_team_12  opponent_team_13  opponent_team_14  opponent_team_15  \\\n183                  0                 0                 0                 0   \n660                  0                 0                 0                 0   \n1207                 1                 0                 0                 0   \n1764                 0                 0                 0                 0   \n2335                 0                 0                 0                 0   \n\n      opponent_team_16  opponent_team_17  opponent_team_18  opponent_team_19  \\\n183                  0                 0                 1                 0   \n660                  0                 0                 0                 0   \n1207                 0                 0                 0                 0   \n1764                 0                 0                 0                 1   \n2335                 0                 0                 0                 0   \n\n      opponent_team_20  \n183                  0  \n660                  0  \n1207                 0  \n1764                 0  \n2335                 0  \n\n[5 rows x 43 columns]",
      "text/html": "<div>\n<style scoped>\n    .dataframe tbody tr th:only-of-type {\n        vertical-align: middle;\n    }\n\n    .dataframe tbody tr th {\n        vertical-align: top;\n    }\n\n    .dataframe thead th {\n        text-align: right;\n    }\n</style>\n<table border=\"1\" class=\"dataframe\">\n  <thead>\n    <tr style=\"text-align: right;\">\n      <th></th>\n      <th>xP</th>\n      <th>assists</th>\n      <th>bonus</th>\n      <th>bps</th>\n      <th>clean_sheets</th>\n      <th>creativity</th>\n      <th>goals_conceded</th>\n      <th>goals_scored</th>\n      <th>ict_index</th>\n      <th>influence</th>\n      <th>...</th>\n      <th>opponent_team_11</th>\n      <th>opponent_team_12</th>\n      <th>opponent_team_13</th>\n      <th>opponent_team_14</th>\n      <th>opponent_team_15</th>\n      <th>opponent_team_16</th>\n      <th>opponent_team_17</th>\n      <th>opponent_team_18</th>\n      <th>opponent_team_19</th>\n      <th>opponent_team_20</th>\n    </tr>\n  </thead>\n  <tbody>\n    <tr>\n      <th>183</th>\n      <td>4.8</td>\n      <td>0</td>\n      <td>3</td>\n      <td>52</td>\n      <td>1</td>\n      <td>10.3</td>\n      <td>0</td>\n      <td>2</td>\n      <td>11.8</td>\n      <td>71.2</td>\n      <td>...</td>\n      <td>0</td>\n      <td>0</td>\n      <td>0</td>\n      <td>0</td>\n      <td>0</td>\n      <td>0</td>\n      <td>0</td>\n      <td>1</td>\n      <td>0</td>\n      <td>0</td>\n    </tr>\n    <tr>\n      <th>660</th>\n      <td>8.0</td>\n      <td>0</td>\n      <td>0</td>\n      <td>6</td>\n      <td>0</td>\n      <td>11.2</td>\n      <td>2</td>\n      <td>0</td>\n      <td>3.6</td>\n      <td>2.6</td>\n      <td>...</td>\n      <td>0</td>\n      <td>0</td>\n      <td>0</td>\n      <td>0</td>\n      <td>0</td>\n      <td>0</td>\n      <td>0</td>\n      <td>0</td>\n      <td>0</td>\n      <td>0</td>\n    </tr>\n    <tr>\n      <th>1207</th>\n      <td>10.2</td>\n      <td>0</td>\n      <td>3</td>\n      <td>82</td>\n      <td>0</td>\n      <td>0.5</td>\n      <td>2</td>\n      <td>3</td>\n      <td>17.7</td>\n      <td>105.2</td>\n      <td>...</td>\n      <td>0</td>\n      <td>1</td>\n      <td>0</td>\n      <td>0</td>\n      <td>0</td>\n      <td>0</td>\n      <td>0</td>\n      <td>0</td>\n      <td>0</td>\n      <td>0</td>\n    </tr>\n    <tr>\n      <th>1764</th>\n      <td>9.0</td>\n      <td>0</td>\n      <td>0</td>\n      <td>-2</td>\n      <td>0</td>\n      <td>1.4</td>\n      <td>3</td>\n      <td>0</td>\n      <td>1.8</td>\n      <td>2.6</td>\n      <td>...</td>\n      <td>0</td>\n      <td>0</td>\n      <td>0</td>\n      <td>0</td>\n      <td>0</td>\n      <td>0</td>\n      <td>0</td>\n      <td>0</td>\n      <td>1</td>\n      <td>0</td>\n    </tr>\n    <tr>\n      <th>2335</th>\n      <td>4.3</td>\n      <td>0</td>\n      <td>0</td>\n      <td>0</td>\n      <td>0</td>\n      <td>0.0</td>\n      <td>0</td>\n      <td>0</td>\n      <td>0.0</td>\n      <td>0.0</td>\n      <td>...</td>\n      <td>0</td>\n      <td>0</td>\n      <td>0</td>\n      <td>0</td>\n      <td>0</td>\n      <td>0</td>\n      <td>0</td>\n      <td>0</td>\n      <td>0</td>\n      <td>0</td>\n    </tr>\n  </tbody>\n</table>\n<p>5 rows × 43 columns</p>\n</div>"
     },
     "execution_count": 1093,
     "metadata": {},
     "output_type": "execute_result"
    }
   ],
   "source": [
    "cleaned_data.head()"
   ],
   "metadata": {
    "collapsed": false,
    "pycharm": {
     "name": "#%%\n"
    }
   }
  },
  {
   "cell_type": "code",
   "execution_count": 1094,
   "outputs": [],
   "source": [
    "train = cleaned_data[:30]\n",
    "test = cleaned_data[30:]"
   ],
   "metadata": {
    "collapsed": false,
    "pycharm": {
     "name": "#%%\n"
    }
   }
  },
  {
   "cell_type": "code",
   "execution_count": 1095,
   "outputs": [
    {
     "data": {
      "text/plain": "<Figure size 432x288 with 1 Axes>",
      "image/png": "[encoded data removed]"
     },
     "metadata": {
      "needs_background": "light"
     },
     "output_type": "display_data"
    }
   ],
   "source": [
    "plt.plot(range(len(train)), train['total_points'], label='train')\n",
    "plt.plot(range(len(train), len(train + test)), test['total_points'], label='test')\n",
    "plt.legend();"
   ],
   "metadata": {
    "collapsed": false,
    "pycharm": {
     "name": "#%%\n"
    }
   }
  },
  {
   "cell_type": "code",
   "execution_count": 1096,
   "outputs": [
    {
     "name": "stdout",
     "output_type": "stream",
     "text": [
      "(30, 42) (30, 1)\n"
     ]
    }
   ],
   "source": [
    "X_train = train.drop('total_points', axis=1).copy()\n",
    "y_train = train[['total_points']].copy()\n",
    "\n",
    "print(X_train.shape, y_train.shape)"
   ],
   "metadata": {
    "collapsed": false,
    "pycharm": {
     "name": "#%%\n"
    }
   }
  },
  {
   "cell_type": "code",
   "execution_count": 1097,
   "outputs": [
    {
     "name": "stdout",
     "output_type": "stream",
     "text": [
      "(30, 42)\n",
      "(30, 1)\n",
      "(30,)\n"
     ]
    }
   ],
   "source": [
    "Xscaler = MinMaxScaler(feature_range=(0, 1))\n",
    "scaled_X_train = Xscaler.fit_transform(X_train)\n",
    "print(X_train.shape)\n",
    "\n",
    "Yscaler = MinMaxScaler(feature_range=(0, 1))\n",
    "scaled_y_train = Yscaler.fit_transform(y_train)\n",
    "print(scaled_y_train.shape)\n",
    "\n",
    "scaled_y_train = scaled_y_train.reshape(-1)\n",
    "print(scaled_y_train.shape)\n",
    "\n",
    "scaled_y_train = np.insert(scaled_y_train, 0, 0)\n",
    "scaled_y_train = np.delete(scaled_y_train, -1)"
   ],
   "metadata": {
    "collapsed": false,
    "pycharm": {
     "name": "#%%\n"
    }
   }
  },
  {
   "cell_type": "code",
   "execution_count": 1098,
   "outputs": [
    {
     "name": "stdout",
     "output_type": "stream",
     "text": [
      "(3, 3, 42)\n"
     ]
    }
   ],
   "source": [
    "n_input = 3 #how many samples/rows/timesteps to look in the past in order to forecast the next sample\n",
    "n_features = X_train.shape[1] # how many predictors/Xs/features we have to predict y\n",
    "b_size = 3 # Number of timeseries samples in each batch\n",
    "generator = TimeseriesGenerator(scaled_X_train, scaled_y_train, length=n_input, batch_size=b_size)\n",
    "\n",
    "print(generator[0][0].shape)"
   ],
   "metadata": {
    "collapsed": false,
    "pycharm": {
     "name": "#%%\n"
    }
   }
  },
  {
   "cell_type": "markdown",
   "source": [
    "## Build LSTM model"
   ],
   "metadata": {
    "collapsed": false
   }
  },
  {
   "cell_type": "code",
   "execution_count": 1099,
   "outputs": [
    {
     "name": "stdout",
     "output_type": "stream",
     "text": [
      "Model: \"sequential_45\"\n",
      "_________________________________________________________________\n",
      " Layer (type)                Output Shape              Param #   \n",
      "=================================================================\n",
      " lstm_45 (LSTM)              (None, 150)               115800    \n",
      "                                                                 \n",
      " dense_45 (Dense)            (None, 1)                 151       \n",
      "                                                                 \n",
      "=================================================================\n",
      "Total params: 115,951\n",
      "Trainable params: 115,951\n",
      "Non-trainable params: 0\n",
      "_________________________________________________________________\n"
     ]
    }
   ],
   "source": [
    "model = Sequential()\n",
    "model.add(LSTM(150, activation='relu', input_shape=(n_input, n_features)))\n",
    "model.add(Dense(1))\n",
    "model.compile(optimizer='adam', loss='mse')\n",
    "model.summary()"
   ],
   "metadata": {
    "collapsed": false,
    "pycharm": {
     "name": "#%%\n"
    }
   }
  },
  {
   "cell_type": "code",
   "execution_count": 1100,
   "outputs": [
    {
     "name": "stdout",
     "output_type": "stream",
     "text": [
      "Epoch 1/20\n"
     ]
    },
    {
     "name": "stderr",
     "output_type": "stream",
     "text": [
      "C:\\Users\\gracj\\AppData\\Local\\Temp\\ipykernel_2224\\2163120762.py:1: UserWarning: `Model.fit_generator` is deprecated and will be removed in a future version. Please use `Model.fit`, which supports generators.\n",
      "  model.fit_generator(generator,epochs=20)\n"
     ]
    },
    {
     "name": "stdout",
     "output_type": "stream",
     "text": [
      "9/9 [==============================] - 1s 2ms/step - loss: 0.0977\n",
      "Epoch 2/20\n",
      "9/9 [==============================] - 0s 2ms/step - loss: 0.0660\n",
      "Epoch 3/20\n",
      "9/9 [==============================] - 0s 2ms/step - loss: 0.0523\n",
      "Epoch 4/20\n",
      "9/9 [==============================] - 0s 2ms/step - loss: 0.0414\n",
      "Epoch 5/20\n",
      "9/9 [==============================] - 0s 2ms/step - loss: 0.0299\n",
      "Epoch 6/20\n",
      "9/9 [==============================] - 0s 2ms/step - loss: 0.0207\n",
      "Epoch 7/20\n",
      "9/9 [==============================] - 0s 2ms/step - loss: 0.0128\n",
      "Epoch 8/20\n",
      "9/9 [==============================] - 0s 2ms/step - loss: 0.0056\n",
      "Epoch 9/20\n",
      "9/9 [==============================] - 0s 2ms/step - loss: 0.0028\n",
      "Epoch 10/20\n",
      "9/9 [==============================] - 0s 2ms/step - loss: 0.0016\n",
      "Epoch 11/20\n",
      "9/9 [==============================] - 0s 2ms/step - loss: 8.8837e-04\n",
      "Epoch 12/20\n",
      "9/9 [==============================] - 0s 2ms/step - loss: 5.3869e-04\n",
      "Epoch 13/20\n",
      "9/9 [==============================] - 0s 2ms/step - loss: 4.3005e-04\n",
      "Epoch 14/20\n",
      "9/9 [==============================] - 0s 2ms/step - loss: 2.5472e-04\n",
      "Epoch 15/20\n",
      "9/9 [==============================] - 0s 2ms/step - loss: 1.4111e-04\n",
      "Epoch 16/20\n",
      "9/9 [==============================] - 0s 2ms/step - loss: 7.6013e-05\n",
      "Epoch 17/20\n",
      "9/9 [==============================] - 0s 2ms/step - loss: 1.0185e-04\n",
      "Epoch 18/20\n",
      "9/9 [==============================] - 0s 2ms/step - loss: 8.6275e-05\n",
      "Epoch 19/20\n",
      "9/9 [==============================] - 0s 2ms/step - loss: 6.9907e-05\n",
      "Epoch 20/20\n",
      "9/9 [==============================] - 0s 2ms/step - loss: 4.2446e-05\n"
     ]
    },
    {
     "data": {
      "text/plain": "<keras.callbacks.History at 0x1e9065a2970>"
     },
     "execution_count": 1100,
     "metadata": {},
     "output_type": "execute_result"
    }
   ],
   "source": [
    "model.fit_generator(generator,epochs=20)"
   ],
   "metadata": {
    "collapsed": false,
    "pycharm": {
     "name": "#%%\n"
    }
   }
  },
  {
   "cell_type": "markdown",
   "source": [],
   "metadata": {
    "collapsed": false,
    "pycharm": {
     "name": "#%% md\n"
    }
   }
  },
  {
   "cell_type": "code",
   "execution_count": 1101,
   "outputs": [
    {
     "name": "stdout",
     "output_type": "stream",
     "text": [
      "(3, 3, 42)\n",
      "[ 2  5  2  2 13]\n",
      "[2.8503518 2.6551204 5.8073173 1.8734047 2.2187634]\n",
      "   y_true    y_pred\n",
      "0       2  2.850352\n",
      "1       5  2.655120\n",
      "2       2  5.807317\n",
      "3       2  1.873405\n",
      "4      13  2.218763\n"
     ]
    }
   ],
   "source": [
    "X_test = test.drop('total_points', axis=1).copy()\n",
    "scaled_X_test = Xscaler.transform(X_test)\n",
    "\n",
    "test_generator = TimeseriesGenerator(scaled_X_test, np.zeros(len(X_test)), length=n_input, batch_size=b_size)\n",
    "\n",
    "print(test_generator[0][0].shape)\n",
    "\n",
    "y_pred_scaled = model.predict(test_generator)\n",
    "y_pred = Yscaler.inverse_transform(y_pred_scaled)\n",
    "\n",
    "\n",
    "print(test[['total_points']].values[n_input:].reshape(-1))\n",
    "print(y_pred.ravel())\n",
    "\n",
    "y_pred_0 = y_pred\n",
    "\n",
    "results_0 = pd.DataFrame({'y_true':test[['total_points']].values[n_input:].reshape(-1),'y_pred':y_pred.ravel()})\n",
    "print(results_0)"
   ],
   "metadata": {
    "collapsed": false,
    "pycharm": {
     "name": "#%%\n"
    }
   }
  },
  {
   "cell_type": "code",
   "execution_count": 1102,
   "outputs": [
    {
     "data": {
      "text/plain": "<Figure size 432x288 with 1 Axes>",
      "image/png": "[encoded data removed]"
     },
     "metadata": {
      "needs_background": "light"
     },
     "output_type": "display_data"
    }
   ],
   "source": [
    "results_0.plot();"
   ],
   "metadata": {
    "collapsed": false,
    "pycharm": {
     "name": "#%%\n"
    }
   }
  },
  {
   "cell_type": "markdown",
   "source": [
    "## Add Jamie Vardy understat data and train new model"
   ],
   "metadata": {
    "collapsed": false
   }
  },
  {
   "cell_type": "code",
   "execution_count": 1103,
   "outputs": [
    {
     "data": {
      "text/plain": "   goals  shots        xG  time position       h_team     a_team  h_goals  \\\n0      0      0  0.000000    62       FW    Leicester      Leeds        1   \n1      1      2  0.474730    16      Sub      Burnley  Leicester        0   \n2      0      2  0.149755    90       FW    Leicester  Liverpool        1   \n3      0      0  0.000000    22      Sub  Aston Villa  Leicester        2   \n4      0      3  0.508952    90       FW  Southampton  Leicester        2   \n\n   a_goals        date     id  season  roster_id        xA  assists  \\\n0        0  2022-03-05  16648    2021     517260  0.000000        0   \n1        2  2022-03-01  16588    2021     517091  0.087236        1   \n2        0  2021-12-28  16573    2021     505323  0.320443        0   \n3        1  2021-12-05  16516    2021     500887  0.000000        0   \n4        2  2021-12-01  16514    2021     499112  0.101893        0   \n\n   key_passes  npg      npxG   xGChain  xGBuildup  \n0           0    0  0.000000  0.000000   0.000000  \n1           2    1  0.474730  0.561967   0.000000  \n2           1    0  0.149755  0.470198   0.000000  \n3           0    0  0.000000  0.000000   0.000000  \n4           2    0  0.508952  0.594523   0.160227  ",
      "text/html": "<div>\n<style scoped>\n    .dataframe tbody tr th:only-of-type {\n        vertical-align: middle;\n    }\n\n    .dataframe tbody tr th {\n        vertical-align: top;\n    }\n\n    .dataframe thead th {\n        text-align: right;\n    }\n</style>\n<table border=\"1\" class=\"dataframe\">\n  <thead>\n    <tr style=\"text-align: right;\">\n      <th></th>\n      <th>goals</th>\n      <th>shots</th>\n      <th>xG</th>\n      <th>time</th>\n      <th>position</th>\n      <th>h_team</th>\n      <th>a_team</th>\n      <th>h_goals</th>\n      <th>a_goals</th>\n      <th>date</th>\n      <th>id</th>\n      <th>season</th>\n      <th>roster_id</th>\n      <th>xA</th>\n      <th>assists</th>\n      <th>key_passes</th>\n      <th>npg</th>\n      <th>npxG</th>\n      <th>xGChain</th>\n      <th>xGBuildup</th>\n    </tr>\n  </thead>\n  <tbody>\n    <tr>\n      <th>0</th>\n      <td>0</td>\n      <td>0</td>\n      <td>0.000000</td>\n      <td>62</td>\n      <td>FW</td>\n      <td>Leicester</td>\n      <td>Leeds</td>\n      <td>1</td>\n      <td>0</td>\n      <td>2022-03-05</td>\n      <td>16648</td>\n      <td>2021</td>\n      <td>517260</td>\n      <td>0.000000</td>\n      <td>0</td>\n      <td>0</td>\n      <td>0</td>\n      <td>0.000000</td>\n      <td>0.000000</td>\n      <td>0.000000</td>\n    </tr>\n    <tr>\n      <th>1</th>\n      <td>1</td>\n      <td>2</td>\n      <td>0.474730</td>\n      <td>16</td>\n      <td>Sub</td>\n      <td>Burnley</td>\n      <td>Leicester</td>\n      <td>0</td>\n      <td>2</td>\n      <td>2022-03-01</td>\n      <td>16588</td>\n      <td>2021</td>\n      <td>517091</td>\n      <td>0.087236</td>\n      <td>1</td>\n      <td>2</td>\n      <td>1</td>\n      <td>0.474730</td>\n      <td>0.561967</td>\n      <td>0.000000</td>\n    </tr>\n    <tr>\n      <th>2</th>\n      <td>0</td>\n      <td>2</td>\n      <td>0.149755</td>\n      <td>90</td>\n      <td>FW</td>\n      <td>Leicester</td>\n      <td>Liverpool</td>\n      <td>1</td>\n      <td>0</td>\n      <td>2021-12-28</td>\n      <td>16573</td>\n      <td>2021</td>\n      <td>505323</td>\n      <td>0.320443</td>\n      <td>0</td>\n      <td>1</td>\n      <td>0</td>\n      <td>0.149755</td>\n      <td>0.470198</td>\n      <td>0.000000</td>\n    </tr>\n    <tr>\n      <th>3</th>\n      <td>0</td>\n      <td>0</td>\n      <td>0.000000</td>\n      <td>22</td>\n      <td>Sub</td>\n      <td>Aston Villa</td>\n      <td>Leicester</td>\n      <td>2</td>\n      <td>1</td>\n      <td>2021-12-05</td>\n      <td>16516</td>\n      <td>2021</td>\n      <td>500887</td>\n      <td>0.000000</td>\n      <td>0</td>\n      <td>0</td>\n      <td>0</td>\n      <td>0.000000</td>\n      <td>0.000000</td>\n      <td>0.000000</td>\n    </tr>\n    <tr>\n      <th>4</th>\n      <td>0</td>\n      <td>3</td>\n      <td>0.508952</td>\n      <td>90</td>\n      <td>FW</td>\n      <td>Southampton</td>\n      <td>Leicester</td>\n      <td>2</td>\n      <td>2</td>\n      <td>2021-12-01</td>\n      <td>16514</td>\n      <td>2021</td>\n      <td>499112</td>\n      <td>0.101893</td>\n      <td>0</td>\n      <td>2</td>\n      <td>0</td>\n      <td>0.508952</td>\n      <td>0.594523</td>\n      <td>0.160227</td>\n    </tr>\n  </tbody>\n</table>\n</div>"
     },
     "execution_count": 1103,
     "metadata": {},
     "output_type": "execute_result"
    }
   ],
   "source": [
    "data_path = os.path.dirname(os.getcwd()) + '\\\\data'\n",
    "vardy_understat = data_path + '\\\\2021-22\\\\understat\\\\Jamie_Vardy_755.csv'\n",
    "vardy_understat = pd.read_csv(vardy_understat, encoding='latin-1', )\n",
    "vardy_understat.head()"
   ],
   "metadata": {
    "collapsed": false,
    "pycharm": {
     "name": "#%%\n"
    }
   }
  },
  {
   "cell_type": "code",
   "execution_count": 1104,
   "outputs": [
    {
     "name": "stderr",
     "output_type": "stream",
     "text": [
      "C:\\Users\\gracj\\AppData\\Local\\Temp\\ipykernel_2224\\4273698592.py:2: SettingWithCopyWarning: \n",
      "A value is trying to be set on a copy of a slice from a DataFrame.\n",
      "Try using .loc[row_indexer,col_indexer] = value instead\n",
      "\n",
      "See the caveats in the documentation: https://pandas.pydata.org/pandas-docs/stable/user_guide/indexing.html#returning-a-view-versus-a-copy\n",
      "  vardy_data['date'] = vardy_data['kickoff_time'].str.split('T').str[0]\n",
      "C:\\Users\\gracj\\AppData\\Local\\Temp\\ipykernel_2224\\4273698592.py:3: SettingWithCopyWarning: \n",
      "A value is trying to be set on a copy of a slice from a DataFrame\n",
      "\n",
      "See the caveats in the documentation: https://pandas.pydata.org/pandas-docs/stable/user_guide/indexing.html#returning-a-view-versus-a-copy\n",
      "  vardy_data.drop(['kickoff_time'], axis=1, inplace=True)\n"
     ]
    }
   ],
   "source": [
    "# clean what's after \"T\" in the kickoff_time column from vardy_data\n",
    "vardy_data['date'] = vardy_data['kickoff_time'].str.split('T').str[0]\n",
    "vardy_data.drop(['kickoff_time'], axis=1, inplace=True)"
   ],
   "metadata": {
    "collapsed": false,
    "pycharm": {
     "name": "#%%\n"
    }
   }
  },
  {
   "cell_type": "code",
   "execution_count": 1105,
   "outputs": [],
   "source": [
    "vardy_data = vardy_data.merge(vardy_understat, on='date', how='left')"
   ],
   "metadata": {
    "collapsed": false,
    "pycharm": {
     "name": "#%%\n"
    }
   }
  },
  {
   "cell_type": "code",
   "execution_count": 1106,
   "outputs": [
    {
     "data": {
      "text/plain": "Index(['name', 'position_x', 'team', 'xP', 'assists_x', 'bonus', 'bps',\n       'clean_sheets', 'creativity', 'element', 'fixture', 'goals_conceded',\n       'goals_scored', 'ict_index', 'influence', 'minutes', 'opponent_team',\n       'own_goals', 'penalties_missed', 'penalties_saved', 'red_cards',\n       'round', 'saves', 'selected', 'team_a_score', 'team_h_score', 'threat',\n       'total_points', 'transfers_balance', 'transfers_in', 'transfers_out',\n       'value', 'was_home', 'yellow_cards', 'GW', 'date', 'goals', 'shots',\n       'xG', 'time', 'position_y', 'h_team', 'a_team', 'h_goals', 'a_goals',\n       'id', 'season', 'roster_id', 'xA', 'assists_y', 'key_passes', 'npg',\n       'npxG', 'xGChain', 'xGBuildup'],\n      dtype='object')"
     },
     "execution_count": 1106,
     "metadata": {},
     "output_type": "execute_result"
    }
   ],
   "source": [
    "vardy_data.columns"
   ],
   "metadata": {
    "collapsed": false,
    "pycharm": {
     "name": "#%%\n"
    }
   }
  },
  {
   "cell_type": "code",
   "execution_count": 1107,
   "outputs": [],
   "source": [
    "vardy_data = vardy_data.drop(['goals', 'time', 'position_y', 'h_team', 'a_team', 'h_goals', 'a_goals', 'id', 'season', 'roster_id', 'assists_y'], axis=1)"
   ],
   "metadata": {
    "collapsed": false,
    "pycharm": {
     "name": "#%%\n"
    }
   }
  },
  {
   "cell_type": "code",
   "execution_count": 1108,
   "outputs": [],
   "source": [
    "# insert 0's for missing values\n",
    "vardy_data.fillna(0, inplace=True)"
   ],
   "metadata": {
    "collapsed": false,
    "pycharm": {
     "name": "#%%\n"
    }
   }
  },
  {
   "cell_type": "code",
   "execution_count": 1109,
   "outputs": [
    {
     "data": {
      "text/plain": "          name position_x       team    xP  assists_x  bonus  bps  \\\n0  Jamie Vardy        FWD  Leicester   4.8          0      3   52   \n1  Jamie Vardy        FWD  Leicester   8.0          0      0    6   \n2  Jamie Vardy        FWD  Leicester  10.2          0      3   82   \n3  Jamie Vardy        FWD  Leicester   9.0          0      0   -2   \n4  Jamie Vardy        FWD  Leicester   4.3          0      0    0   \n\n   clean_sheets  creativity  element  ...  GW        date  shots        xG  \\\n0             1        10.3      224  ...   1  2020-09-13    2.0  1.522338   \n1             0        11.2      224  ...   2  2020-09-20    1.0  0.089161   \n2             0         0.5      224  ...   3  2020-09-27    3.0  1.965583   \n3             0         1.4      224  ...   4  2020-10-04    1.0  0.302199   \n4             0         0.0      224  ...   5  2020-10-18    0.0  0.000000   \n\n         xA  key_passes  npg      npxG   xGChain  xGBuildup  \n0  0.066219         1.0  0.0  0.000000  0.112795   0.046576  \n1  0.096211         1.0  0.0  0.089161  0.277284   0.091911  \n2  0.000000         0.0  1.0  0.443245  0.521428   0.078183  \n3  0.000000         0.0  0.0  0.302199  0.302199   0.000000  \n4  0.000000         0.0  0.0  0.000000  0.000000   0.000000  \n\n[5 rows x 44 columns]",
      "text/html": "<div>\n<style scoped>\n    .dataframe tbody tr th:only-of-type {\n        vertical-align: middle;\n    }\n\n    .dataframe tbody tr th {\n        vertical-align: top;\n    }\n\n    .dataframe thead th {\n        text-align: right;\n    }\n</style>\n<table border=\"1\" class=\"dataframe\">\n  <thead>\n    <tr style=\"text-align: right;\">\n      <th></th>\n      <th>name</th>\n      <th>position_x</th>\n      <th>team</th>\n      <th>xP</th>\n      <th>assists_x</th>\n      <th>bonus</th>\n      <th>bps</th>\n      <th>clean_sheets</th>\n      <th>creativity</th>\n      <th>element</th>\n      <th>...</th>\n      <th>GW</th>\n      <th>date</th>\n      <th>shots</th>\n      <th>xG</th>\n      <th>xA</th>\n      <th>key_passes</th>\n      <th>npg</th>\n      <th>npxG</th>\n      <th>xGChain</th>\n      <th>xGBuildup</th>\n    </tr>\n  </thead>\n  <tbody>\n    <tr>\n      <th>0</th>\n      <td>Jamie Vardy</td>\n      <td>FWD</td>\n      <td>Leicester</td>\n      <td>4.8</td>\n      <td>0</td>\n      <td>3</td>\n      <td>52</td>\n      <td>1</td>\n      <td>10.3</td>\n      <td>224</td>\n      <td>...</td>\n      <td>1</td>\n      <td>2020-09-13</td>\n      <td>2.0</td>\n      <td>1.522338</td>\n      <td>0.066219</td>\n      <td>1.0</td>\n      <td>0.0</td>\n      <td>0.000000</td>\n      <td>0.112795</td>\n      <td>0.046576</td>\n    </tr>\n    <tr>\n      <th>1</th>\n      <td>Jamie Vardy</td>\n      <td>FWD</td>\n      <td>Leicester</td>\n      <td>8.0</td>\n      <td>0</td>\n      <td>0</td>\n      <td>6</td>\n      <td>0</td>\n      <td>11.2</td>\n      <td>224</td>\n      <td>...</td>\n      <td>2</td>\n      <td>2020-09-20</td>\n      <td>1.0</td>\n      <td>0.089161</td>\n      <td>0.096211</td>\n      <td>1.0</td>\n      <td>0.0</td>\n      <td>0.089161</td>\n      <td>0.277284</td>\n      <td>0.091911</td>\n    </tr>\n    <tr>\n      <th>2</th>\n      <td>Jamie Vardy</td>\n      <td>FWD</td>\n      <td>Leicester</td>\n      <td>10.2</td>\n      <td>0</td>\n      <td>3</td>\n      <td>82</td>\n      <td>0</td>\n      <td>0.5</td>\n      <td>224</td>\n      <td>...</td>\n      <td>3</td>\n      <td>2020-09-27</td>\n      <td>3.0</td>\n      <td>1.965583</td>\n      <td>0.000000</td>\n      <td>0.0</td>\n      <td>1.0</td>\n      <td>0.443245</td>\n      <td>0.521428</td>\n      <td>0.078183</td>\n    </tr>\n    <tr>\n      <th>3</th>\n      <td>Jamie Vardy</td>\n      <td>FWD</td>\n      <td>Leicester</td>\n      <td>9.0</td>\n      <td>0</td>\n      <td>0</td>\n      <td>-2</td>\n      <td>0</td>\n      <td>1.4</td>\n      <td>224</td>\n      <td>...</td>\n      <td>4</td>\n      <td>2020-10-04</td>\n      <td>1.0</td>\n      <td>0.302199</td>\n      <td>0.000000</td>\n      <td>0.0</td>\n      <td>0.0</td>\n      <td>0.302199</td>\n      <td>0.302199</td>\n      <td>0.000000</td>\n    </tr>\n    <tr>\n      <th>4</th>\n      <td>Jamie Vardy</td>\n      <td>FWD</td>\n      <td>Leicester</td>\n      <td>4.3</td>\n      <td>0</td>\n      <td>0</td>\n      <td>0</td>\n      <td>0</td>\n      <td>0.0</td>\n      <td>224</td>\n      <td>...</td>\n      <td>5</td>\n      <td>2020-10-18</td>\n      <td>0.0</td>\n      <td>0.000000</td>\n      <td>0.000000</td>\n      <td>0.0</td>\n      <td>0.0</td>\n      <td>0.000000</td>\n      <td>0.000000</td>\n      <td>0.000000</td>\n    </tr>\n  </tbody>\n</table>\n<p>5 rows × 44 columns</p>\n</div>"
     },
     "execution_count": 1109,
     "metadata": {},
     "output_type": "execute_result"
    }
   ],
   "source": [
    "vardy_data.head()"
   ],
   "metadata": {
    "collapsed": false,
    "pycharm": {
     "name": "#%%\n"
    }
   }
  },
  {
   "cell_type": "markdown",
   "source": [
    "## Do data preprocessing and build model again, with understat data"
   ],
   "metadata": {
    "collapsed": false
   }
  },
  {
   "cell_type": "code",
   "execution_count": 1110,
   "outputs": [
    {
     "name": "stdout",
     "output_type": "stream",
     "text": [
      "(30, 50) (30, 1)\n",
      "(30, 50)\n",
      "(30, 1)\n",
      "(30,)\n",
      "(3, 3, 50)\n",
      "Model: \"sequential_46\"\n",
      "_________________________________________________________________\n",
      " Layer (type)                Output Shape              Param #   \n",
      "=================================================================\n",
      " lstm_46 (LSTM)              (None, 150)               120600    \n",
      "                                                                 \n",
      " dense_46 (Dense)            (None, 1)                 151       \n",
      "                                                                 \n",
      "=================================================================\n",
      "Total params: 120,751\n",
      "Trainable params: 120,751\n",
      "Non-trainable params: 0\n",
      "_________________________________________________________________\n",
      "Epoch 1/20\n"
     ]
    },
    {
     "name": "stderr",
     "output_type": "stream",
     "text": [
      "C:\\Users\\gracj\\AppData\\Local\\Temp\\ipykernel_2224\\95176939.py:45: UserWarning: `Model.fit_generator` is deprecated and will be removed in a future version. Please use `Model.fit`, which supports generators.\n",
      "  model.fit_generator(generator, epochs=20)\n"
     ]
    },
    {
     "name": "stdout",
     "output_type": "stream",
     "text": [
      "9/9 [==============================] - 1s 2ms/step - loss: 0.0890\n",
      "Epoch 2/20\n",
      "9/9 [==============================] - 0s 2ms/step - loss: 0.0522\n",
      "Epoch 3/20\n",
      "9/9 [==============================] - 0s 2ms/step - loss: 0.0332\n",
      "Epoch 4/20\n",
      "9/9 [==============================] - 0s 2ms/step - loss: 0.0223\n",
      "Epoch 5/20\n",
      "9/9 [==============================] - 0s 2ms/step - loss: 0.0133\n",
      "Epoch 6/20\n",
      "9/9 [==============================] - 0s 2ms/step - loss: 0.0073\n",
      "Epoch 7/20\n",
      "9/9 [==============================] - 0s 2ms/step - loss: 0.0046\n",
      "Epoch 8/20\n",
      "9/9 [==============================] - 0s 3ms/step - loss: 0.0022\n",
      "Epoch 9/20\n",
      "9/9 [==============================] - 0s 2ms/step - loss: 0.0015\n",
      "Epoch 10/20\n",
      "9/9 [==============================] - 0s 2ms/step - loss: 0.0018\n",
      "Epoch 11/20\n",
      "9/9 [==============================] - 0s 2ms/step - loss: 0.0020\n",
      "Epoch 12/20\n",
      "9/9 [==============================] - 0s 2ms/step - loss: 0.0020\n",
      "Epoch 13/20\n",
      "9/9 [==============================] - 0s 2ms/step - loss: 0.0021\n",
      "Epoch 14/20\n",
      "9/9 [==============================] - 0s 2ms/step - loss: 5.1549e-04\n",
      "Epoch 15/20\n",
      "9/9 [==============================] - 0s 2ms/step - loss: 4.1411e-04\n",
      "Epoch 16/20\n",
      "9/9 [==============================] - 0s 2ms/step - loss: 4.0633e-04\n",
      "Epoch 17/20\n",
      "9/9 [==============================] - 0s 2ms/step - loss: 2.8565e-04\n",
      "Epoch 18/20\n",
      "9/9 [==============================] - 0s 2ms/step - loss: 1.3516e-04\n",
      "Epoch 19/20\n",
      "9/9 [==============================] - 0s 2ms/step - loss: 6.9821e-05\n",
      "Epoch 20/20\n",
      "9/9 [==============================] - 0s 2ms/step - loss: 4.6332e-05\n",
      "(3, 3, 50)\n",
      "[ 2  5  2  2 13]\n",
      "[3.6044147 3.2903004 5.870966  2.0149071 2.8225806]\n",
      "   y_true    y_pred\n",
      "0       2  3.604415\n",
      "1       5  3.290300\n",
      "2       2  5.870966\n",
      "3       2  2.014907\n",
      "4      13  2.822581\n"
     ]
    },
    {
     "data": {
      "text/plain": "<Figure size 432x288 with 1 Axes>",
      "image/png": "[encoded data removed]"
     },
     "metadata": {
      "needs_background": "light"
     },
     "output_type": "display_data"
    },
    {
     "data": {
      "text/plain": "<Figure size 432x288 with 1 Axes>",
      "image/png": "[encoded data removed]"
     },
     "metadata": {
      "needs_background": "light"
     },
     "output_type": "display_data"
    }
   ],
   "source": [
    "## Data preprocessing\n",
    "cleaned_data = vardy_data.drop(\n",
    "    ['name', 'position_x', 'team', 'element', 'fixture', 'date', 'saves', 'penalties_saved', 'round', 'GW'],\n",
    "    axis=1)\n",
    "\n",
    "# change was_home column to binary\n",
    "cleaned_data['was_home'] = cleaned_data['was_home'].map({True: 1, False: 0})\n",
    "\n",
    "# one hot encode 'opponent_team' column\n",
    "cleaned_data = pd.get_dummies(cleaned_data, columns=['opponent_team'], drop_first=True)\n",
    "train = cleaned_data[:30]\n",
    "test = cleaned_data[30:]\n",
    "plt.plot(range(len(train)), train['total_points'], label='train')\n",
    "plt.plot(range(len(train), len(train + test)), test['total_points'], label='test')\n",
    "plt.legend();\n",
    "X_train = train.drop('total_points', axis=1).copy()\n",
    "y_train = train[['total_points']].copy()\n",
    "\n",
    "print(X_train.shape, y_train.shape)\n",
    "Xscaler = MinMaxScaler(feature_range=(0, 1))\n",
    "scaled_X_train = Xscaler.fit_transform(X_train)\n",
    "print(X_train.shape)\n",
    "\n",
    "Yscaler = MinMaxScaler(feature_range=(0, 1))\n",
    "scaled_y_train = Yscaler.fit_transform(y_train)\n",
    "print(scaled_y_train.shape)\n",
    "\n",
    "scaled_y_train = scaled_y_train.reshape(-1)\n",
    "print(scaled_y_train.shape)\n",
    "\n",
    "scaled_y_train = np.insert(scaled_y_train, 0, 0)\n",
    "scaled_y_train = np.delete(scaled_y_train, -1)\n",
    "n_input = 3  #how many samples/rows/timesteps to look in the past in order to forecast the next sample\n",
    "n_features = X_train.shape[1]  # how many predictors/Xs/features we have to predict y\n",
    "b_size = 3  # Number of timeseries samples in each batch\n",
    "generator = TimeseriesGenerator(scaled_X_train, scaled_y_train, length=n_input, batch_size=b_size)\n",
    "\n",
    "print(generator[0][0].shape)\n",
    "## Build LSTM model\n",
    "model = Sequential()\n",
    "model.add(LSTM(150, activation='relu', input_shape=(n_input, n_features)))\n",
    "model.add(Dense(1))\n",
    "model.compile(optimizer='adam', loss='mse')\n",
    "model.summary()\n",
    "model.fit_generator(generator, epochs=20)\n",
    "X_test = test.drop('total_points', axis=1).copy()\n",
    "scaled_X_test = Xscaler.transform(X_test)\n",
    "\n",
    "test_generator = TimeseriesGenerator(scaled_X_test, np.zeros(len(X_test)), length=n_input, batch_size=b_size)\n",
    "\n",
    "print(test_generator[0][0].shape)\n",
    "\n",
    "y_pred_scaled = model.predict(test_generator)\n",
    "y_pred = Yscaler.inverse_transform(y_pred_scaled)\n",
    "\n",
    "y_pred_1 = y_pred\n",
    "\n",
    "print(test[['total_points']].values[n_input:].reshape(-1))\n",
    "print(y_pred.ravel())\n",
    "\n",
    "results_1 = pd.DataFrame({'y_true': test[['total_points']].values[n_input:].reshape(-1), 'y_pred': y_pred.ravel()})\n",
    "print(results_1)\n",
    "results_1.plot();"
   ],
   "metadata": {
    "collapsed": false,
    "pycharm": {
     "name": "#%%\n"
    }
   }
  },
  {
   "cell_type": "markdown",
   "source": [
    "## Compare predictions with understat data and without"
   ],
   "metadata": {
    "collapsed": false
   }
  },
  {
   "cell_type": "code",
   "execution_count": 1111,
   "outputs": [
    {
     "name": "stdout",
     "output_type": "stream",
     "text": [
      "   y_true  y_pred_without  y_pred_understat\n",
      "0       2        2.850352          3.604415\n",
      "1       5        2.655120          3.290300\n",
      "2       2        5.807317          5.870966\n",
      "3       2        1.873405          2.014907\n",
      "4      13        2.218763          2.822581\n"
     ]
    },
    {
     "data": {
      "text/plain": "<Figure size 432x288 with 1 Axes>",
      "image/png": "[encoded data removed]"
     },
     "metadata": {
      "needs_background": "light"
     },
     "output_type": "display_data"
    }
   ],
   "source": [
    "results_compare = pd.DataFrame({'y_true': test[['total_points']].values[n_input:].reshape(-1), 'y_pred_without': y_pred_0.ravel(), 'y_pred_understat': y_pred_1.ravel()})\n",
    "print(results_compare)\n",
    "results_compare.plot();"
   ],
   "metadata": {
    "collapsed": false,
    "pycharm": {
     "name": "#%%\n"
    }
   }
  }
 ],
 "metadata": {
  "kernelspec": {
   "display_name": "Python 3",
   "language": "python",
   "name": "python3"
  },
  "language_info": {
   "codemirror_mode": {
    "name": "ipython",
    "version": 2
   },
   "file_extension": ".py",
   "mimetype": "text/x-python",
   "name": "python",
   "nbconvert_exporter": "python",
   "pygments_lexer": "ipython2",
   "version": "2.7.6"
  }
 },
 "nbformat": 4,
 "nbformat_minor": 0
}