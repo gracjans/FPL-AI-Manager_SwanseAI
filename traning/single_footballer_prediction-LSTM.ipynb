{
 "cells": [
  {
   "cell_type": "markdown",
   "metadata": {
    "collapsed": false
   },
   "source": [
    "# Predict single footballer future points with LSTM (notebook deprecated)\n",
    "**NOTE: I initially tried to use the LSTM model, but after more thought, I decided to use the MLP model.**"
   ]
  },
  {
   "cell_type": "markdown",
   "metadata": {
    "collapsed": false
   },
   "source": [
    "## Import merged_gw data from 2020-21 season"
   ]
  },
  {
   "cell_type": "code",
   "execution_count": 24,
   "metadata": {
    "collapsed": true
   },
   "outputs": [],
   "source": [
    "import os\n",
    "import pandas as pd\n",
    "import numpy as np\n",
    "import keras\n",
    "import matplotlib.pyplot as plt\n",
    "from sklearn.preprocessing import MinMaxScaler\n",
    "from keras.preprocessing.sequence import TimeseriesGenerator\n",
    "from keras.models import Sequential\n",
    "from keras.layers import Dense\n",
    "from keras.layers import LSTM"
   ]
  },
  {
   "cell_type": "code",
   "execution_count": 25,
   "metadata": {
    "collapsed": false,
    "pycharm": {
     "name": "#%%\n"
    }
   },
   "outputs": [],
   "source": [
    "data_path = os.path.dirname(os.getcwd()) + '\\\\data\\\\Fantasy-Premier-League'\n",
    "merged_gw_2021_path = data_path + '\\\\2020-21\\\\gws\\\\merged_gw.csv'"
   ]
  },
  {
   "cell_type": "code",
   "execution_count": 26,
   "metadata": {
    "collapsed": false,
    "pycharm": {
     "name": "#%%\n"
    }
   },
   "outputs": [],
   "source": [
    "merged_gw_2021 = pd.read_csv(merged_gw_2021_path, encoding='latin-1')"
   ]
  },
  {
   "cell_type": "code",
   "execution_count": 27,
   "metadata": {
    "collapsed": false,
    "pycharm": {
     "name": "#%%\n"
    }
   },
   "outputs": [
    {
     "data": {
      "text/plain": "                  name position           team   xP  assists  bonus  bps  \\\n0       Aaron Connolly      FWD       Brighton  0.5        0      0   -3   \n1      Aaron Cresswell      DEF       West Ham  2.1        0      0   11   \n2           Aaron Mooy      MID       Brighton  0.0        0      0    0   \n3       Aaron Ramsdale       GK  Sheffield Utd  2.5        0      0   12   \n4  Abdoulaye DoucourÃ©      MID        Everton  1.3        0      0   20   \n\n   clean_sheets  creativity  element  ...  team_h_score  threat  total_points  \\\n0             0         0.3       78  ...             1    32.0             1   \n1             0        11.2      435  ...             0     0.0             1   \n2             0         0.0       60  ...             1     0.0             0   \n3             0         0.0      483  ...             0     0.0             1   \n4             1        44.6      512  ...             0     4.0             3   \n\n   transfers_balance  transfers_in transfers_out  value  was_home  \\\n0                  0             0             0     55      True   \n1                  0             0             0     50      True   \n2                  0             0             0     50      True   \n3                  0             0             0     50      True   \n4                  0             0             0     55     False   \n\n   yellow_cards  GW  \n0             0   1  \n1             0   1  \n2             0   1  \n3             0   1  \n4             0   1  \n\n[5 rows x 36 columns]",
      "text/html": "<div>\n<style scoped>\n    .dataframe tbody tr th:only-of-type {\n        vertical-align: middle;\n    }\n\n    .dataframe tbody tr th {\n        vertical-align: top;\n    }\n\n    .dataframe thead th {\n        text-align: right;\n    }\n</style>\n<table border=\"1\" class=\"dataframe\">\n  <thead>\n    <tr style=\"text-align: right;\">\n      <th></th>\n      <th>name</th>\n      <th>position</th>\n      <th>team</th>\n      <th>xP</th>\n      <th>assists</th>\n      <th>bonus</th>\n      <th>bps</th>\n      <th>clean_sheets</th>\n      <th>creativity</th>\n      <th>element</th>\n      <th>...</th>\n      <th>team_h_score</th>\n      <th>threat</th>\n      <th>total_points</th>\n      <th>transfers_balance</th>\n      <th>transfers_in</th>\n      <th>transfers_out</th>\n      <th>value</th>\n      <th>was_home</th>\n      <th>yellow_cards</th>\n      <th>GW</th>\n    </tr>\n  </thead>\n  <tbody>\n    <tr>\n      <th>0</th>\n      <td>Aaron Connolly</td>\n      <td>FWD</td>\n      <td>Brighton</td>\n      <td>0.5</td>\n      <td>0</td>\n      <td>0</td>\n      <td>-3</td>\n      <td>0</td>\n      <td>0.3</td>\n      <td>78</td>\n      <td>...</td>\n      <td>1</td>\n      <td>32.0</td>\n      <td>1</td>\n      <td>0</td>\n      <td>0</td>\n      <td>0</td>\n      <td>55</td>\n      <td>True</td>\n      <td>0</td>\n      <td>1</td>\n    </tr>\n    <tr>\n      <th>1</th>\n      <td>Aaron Cresswell</td>\n      <td>DEF</td>\n      <td>West Ham</td>\n      <td>2.1</td>\n      <td>0</td>\n      <td>0</td>\n      <td>11</td>\n      <td>0</td>\n      <td>11.2</td>\n      <td>435</td>\n      <td>...</td>\n      <td>0</td>\n      <td>0.0</td>\n      <td>1</td>\n      <td>0</td>\n      <td>0</td>\n      <td>0</td>\n      <td>50</td>\n      <td>True</td>\n      <td>0</td>\n      <td>1</td>\n    </tr>\n    <tr>\n      <th>2</th>\n      <td>Aaron Mooy</td>\n      <td>MID</td>\n      <td>Brighton</td>\n      <td>0.0</td>\n      <td>0</td>\n      <td>0</td>\n      <td>0</td>\n      <td>0</td>\n      <td>0.0</td>\n      <td>60</td>\n      <td>...</td>\n      <td>1</td>\n      <td>0.0</td>\n      <td>0</td>\n      <td>0</td>\n      <td>0</td>\n      <td>0</td>\n      <td>50</td>\n      <td>True</td>\n      <td>0</td>\n      <td>1</td>\n    </tr>\n    <tr>\n      <th>3</th>\n      <td>Aaron Ramsdale</td>\n      <td>GK</td>\n      <td>Sheffield Utd</td>\n      <td>2.5</td>\n      <td>0</td>\n      <td>0</td>\n      <td>12</td>\n      <td>0</td>\n      <td>0.0</td>\n      <td>483</td>\n      <td>...</td>\n      <td>0</td>\n      <td>0.0</td>\n      <td>1</td>\n      <td>0</td>\n      <td>0</td>\n      <td>0</td>\n      <td>50</td>\n      <td>True</td>\n      <td>0</td>\n      <td>1</td>\n    </tr>\n    <tr>\n      <th>4</th>\n      <td>Abdoulaye DoucourÃ©</td>\n      <td>MID</td>\n      <td>Everton</td>\n      <td>1.3</td>\n      <td>0</td>\n      <td>0</td>\n      <td>20</td>\n      <td>1</td>\n      <td>44.6</td>\n      <td>512</td>\n      <td>...</td>\n      <td>0</td>\n      <td>4.0</td>\n      <td>3</td>\n      <td>0</td>\n      <td>0</td>\n      <td>0</td>\n      <td>55</td>\n      <td>False</td>\n      <td>0</td>\n      <td>1</td>\n    </tr>\n  </tbody>\n</table>\n<p>5 rows × 36 columns</p>\n</div>"
     },
     "execution_count": 27,
     "metadata": {},
     "output_type": "execute_result"
    }
   ],
   "source": [
    "merged_gw_2021.head()"
   ]
  },
  {
   "cell_type": "code",
   "execution_count": 28,
   "metadata": {
    "collapsed": false,
    "pycharm": {
     "name": "#%%\n"
    }
   },
   "outputs": [],
   "source": [
    "# sort rows by column 'GW' ascending\n",
    "merged_gw_2021.sort_values(by='GW', inplace=True)"
   ]
  },
  {
   "cell_type": "markdown",
   "metadata": {
    "collapsed": false
   },
   "source": [
    "## Extract Jamie Vardy data"
   ]
  },
  {
   "cell_type": "code",
   "execution_count": 29,
   "metadata": {
    "collapsed": false,
    "pycharm": {
     "name": "#%%\n"
    }
   },
   "outputs": [],
   "source": [
    "vardy_data = merged_gw_2021[merged_gw_2021['name'] == 'Jamie Vardy']"
   ]
  },
  {
   "cell_type": "code",
   "execution_count": 30,
   "metadata": {
    "collapsed": false,
    "pycharm": {
     "name": "#%%\n"
    }
   },
   "outputs": [
    {
     "data": {
      "text/plain": "             name position       team    xP  assists  bonus  bps  \\\n183   Jamie Vardy      FWD  Leicester   4.8        0      3   52   \n660   Jamie Vardy      FWD  Leicester   8.0        0      0    6   \n1207  Jamie Vardy      FWD  Leicester  10.2        0      3   82   \n1764  Jamie Vardy      FWD  Leicester   9.0        0      0   -2   \n2335  Jamie Vardy      FWD  Leicester   4.3        0      0    0   \n\n      clean_sheets  creativity  element  ...  team_h_score  threat  \\\n183              1        10.3      224  ...             0    36.0   \n660              0        11.2      224  ...             4    22.0   \n1207             0         0.5      224  ...             2    71.0   \n1764             0         1.4      224  ...             0    14.0   \n2335             0         0.0      224  ...             0     0.0   \n\n      total_points  transfers_balance  transfers_in transfers_out  value  \\\n183             13                  0             0             0    100   \n660              2             226309        303351         77042    101   \n1207            17            -247620         71441        319061    100   \n1764             2             296313        427289        130976    101   \n2335             0             -30736        210612        241348    101   \n\n      was_home  yellow_cards  GW  \n183      False             0   1  \n660       True             0   2  \n1207     False             0   3  \n1764      True             0   4  \n2335      True             0   5  \n\n[5 rows x 36 columns]",
      "text/html": "<div>\n<style scoped>\n    .dataframe tbody tr th:only-of-type {\n        vertical-align: middle;\n    }\n\n    .dataframe tbody tr th {\n        vertical-align: top;\n    }\n\n    .dataframe thead th {\n        text-align: right;\n    }\n</style>\n<table border=\"1\" class=\"dataframe\">\n  <thead>\n    <tr style=\"text-align: right;\">\n      <th></th>\n      <th>name</th>\n      <th>position</th>\n      <th>team</th>\n      <th>xP</th>\n      <th>assists</th>\n      <th>bonus</th>\n      <th>bps</th>\n      <th>clean_sheets</th>\n      <th>creativity</th>\n      <th>element</th>\n      <th>...</th>\n      <th>team_h_score</th>\n      <th>threat</th>\n      <th>total_points</th>\n      <th>transfers_balance</th>\n      <th>transfers_in</th>\n      <th>transfers_out</th>\n      <th>value</th>\n      <th>was_home</th>\n      <th>yellow_cards</th>\n      <th>GW</th>\n    </tr>\n  </thead>\n  <tbody>\n    <tr>\n      <th>183</th>\n      <td>Jamie Vardy</td>\n      <td>FWD</td>\n      <td>Leicester</td>\n      <td>4.8</td>\n      <td>0</td>\n      <td>3</td>\n      <td>52</td>\n      <td>1</td>\n      <td>10.3</td>\n      <td>224</td>\n      <td>...</td>\n      <td>0</td>\n      <td>36.0</td>\n      <td>13</td>\n      <td>0</td>\n      <td>0</td>\n      <td>0</td>\n      <td>100</td>\n      <td>False</td>\n      <td>0</td>\n      <td>1</td>\n    </tr>\n    <tr>\n      <th>660</th>\n      <td>Jamie Vardy</td>\n      <td>FWD</td>\n      <td>Leicester</td>\n      <td>8.0</td>\n      <td>0</td>\n      <td>0</td>\n      <td>6</td>\n      <td>0</td>\n      <td>11.2</td>\n      <td>224</td>\n      <td>...</td>\n      <td>4</td>\n      <td>22.0</td>\n      <td>2</td>\n      <td>226309</td>\n      <td>303351</td>\n      <td>77042</td>\n      <td>101</td>\n      <td>True</td>\n      <td>0</td>\n      <td>2</td>\n    </tr>\n    <tr>\n      <th>1207</th>\n      <td>Jamie Vardy</td>\n      <td>FWD</td>\n      <td>Leicester</td>\n      <td>10.2</td>\n      <td>0</td>\n      <td>3</td>\n      <td>82</td>\n      <td>0</td>\n      <td>0.5</td>\n      <td>224</td>\n      <td>...</td>\n      <td>2</td>\n      <td>71.0</td>\n      <td>17</td>\n      <td>-247620</td>\n      <td>71441</td>\n      <td>319061</td>\n      <td>100</td>\n      <td>False</td>\n      <td>0</td>\n      <td>3</td>\n    </tr>\n    <tr>\n      <th>1764</th>\n      <td>Jamie Vardy</td>\n      <td>FWD</td>\n      <td>Leicester</td>\n      <td>9.0</td>\n      <td>0</td>\n      <td>0</td>\n      <td>-2</td>\n      <td>0</td>\n      <td>1.4</td>\n      <td>224</td>\n      <td>...</td>\n      <td>0</td>\n      <td>14.0</td>\n      <td>2</td>\n      <td>296313</td>\n      <td>427289</td>\n      <td>130976</td>\n      <td>101</td>\n      <td>True</td>\n      <td>0</td>\n      <td>4</td>\n    </tr>\n    <tr>\n      <th>2335</th>\n      <td>Jamie Vardy</td>\n      <td>FWD</td>\n      <td>Leicester</td>\n      <td>4.3</td>\n      <td>0</td>\n      <td>0</td>\n      <td>0</td>\n      <td>0</td>\n      <td>0.0</td>\n      <td>224</td>\n      <td>...</td>\n      <td>0</td>\n      <td>0.0</td>\n      <td>0</td>\n      <td>-30736</td>\n      <td>210612</td>\n      <td>241348</td>\n      <td>101</td>\n      <td>True</td>\n      <td>0</td>\n      <td>5</td>\n    </tr>\n  </tbody>\n</table>\n<p>5 rows × 36 columns</p>\n</div>"
     },
     "execution_count": 30,
     "metadata": {},
     "output_type": "execute_result"
    }
   ],
   "source": [
    "vardy_data.head()"
   ]
  },
  {
   "cell_type": "code",
   "execution_count": 31,
   "metadata": {
    "collapsed": false,
    "pycharm": {
     "name": "#%%\n"
    }
   },
   "outputs": [
    {
     "data": {
      "text/plain": "<Figure size 432x288 with 1 Axes>",
      "image/png": "[encoded data removed]"
     },
     "metadata": {
      "needs_background": "light"
     },
     "output_type": "display_data"
    }
   ],
   "source": [
    "plt.plot(vardy_data['GW'], vardy_data['total_points']);"
   ]
  },
  {
   "cell_type": "markdown",
   "metadata": {
    "collapsed": false
   },
   "source": [
    "## Data preprocessing"
   ]
  },
  {
   "cell_type": "code",
   "execution_count": 32,
   "metadata": {
    "collapsed": false,
    "pycharm": {
     "name": "#%%\n"
    }
   },
   "outputs": [],
   "source": [
    "cleaned_data = vardy_data.drop(['name', 'position', 'team', 'element', 'fixture', 'kickoff_time', 'saves', 'penalties_saved', 'round', 'GW'], axis=1)"
   ]
  },
  {
   "cell_type": "code",
   "execution_count": 33,
   "metadata": {
    "collapsed": false,
    "pycharm": {
     "name": "#%%\n"
    }
   },
   "outputs": [],
   "source": [
    "# change was_home column to binary\n",
    "cleaned_data['was_home'] = cleaned_data['was_home'].map({True: 1, False: 0})"
   ]
  },
  {
   "cell_type": "code",
   "execution_count": 34,
   "metadata": {
    "collapsed": false,
    "pycharm": {
     "name": "#%%\n"
    }
   },
   "outputs": [],
   "source": [
    "# one hot encode 'opponent_team' column\n",
    "cleaned_data = pd.get_dummies(cleaned_data, columns=['opponent_team'], drop_first=True)"
   ]
  },
  {
   "cell_type": "code",
   "execution_count": 35,
   "metadata": {
    "collapsed": false,
    "pycharm": {
     "name": "#%%\n"
    }
   },
   "outputs": [
    {
     "data": {
      "text/plain": "        xP  assists  bonus  bps  clean_sheets  creativity  goals_conceded  \\\n183    4.8        0      3   52             1        10.3               0   \n660    8.0        0      0    6             0        11.2               2   \n1207  10.2        0      3   82             0         0.5               2   \n1764   9.0        0      0   -2             0         1.4               3   \n2335   4.3        0      0    0             0         0.0               0   \n\n      goals_scored  ict_index  influence  ...  opponent_team_11  \\\n183              2       11.8       71.2  ...                 0   \n660              0        3.6        2.6  ...                 0   \n1207             3       17.7      105.2  ...                 0   \n1764             0        1.8        2.6  ...                 0   \n2335             0        0.0        0.0  ...                 0   \n\n      opponent_team_12  opponent_team_13  opponent_team_14  opponent_team_15  \\\n183                  0                 0                 0                 0   \n660                  0                 0                 0                 0   \n1207                 1                 0                 0                 0   \n1764                 0                 0                 0                 0   \n2335                 0                 0                 0                 0   \n\n      opponent_team_16  opponent_team_17  opponent_team_18  opponent_team_19  \\\n183                  0                 0                 1                 0   \n660                  0                 0                 0                 0   \n1207                 0                 0                 0                 0   \n1764                 0                 0                 0                 1   \n2335                 0                 0                 0                 0   \n\n      opponent_team_20  \n183                  0  \n660                  0  \n1207                 0  \n1764                 0  \n2335                 0  \n\n[5 rows x 43 columns]",
      "text/html": "<div>\n<style scoped>\n    .dataframe tbody tr th:only-of-type {\n        vertical-align: middle;\n    }\n\n    .dataframe tbody tr th {\n        vertical-align: top;\n    }\n\n    .dataframe thead th {\n        text-align: right;\n    }\n</style>\n<table border=\"1\" class=\"dataframe\">\n  <thead>\n    <tr style=\"text-align: right;\">\n      <th></th>\n      <th>xP</th>\n      <th>assists</th>\n      <th>bonus</th>\n      <th>bps</th>\n      <th>clean_sheets</th>\n      <th>creativity</th>\n      <th>goals_conceded</th>\n      <th>goals_scored</th>\n      <th>ict_index</th>\n      <th>influence</th>\n      <th>...</th>\n      <th>opponent_team_11</th>\n      <th>opponent_team_12</th>\n      <th>opponent_team_13</th>\n      <th>opponent_team_14</th>\n      <th>opponent_team_15</th>\n      <th>opponent_team_16</th>\n      <th>opponent_team_17</th>\n      <th>opponent_team_18</th>\n      <th>opponent_team_19</th>\n      <th>opponent_team_20</th>\n    </tr>\n  </thead>\n  <tbody>\n    <tr>\n      <th>183</th>\n      <td>4.8</td>\n      <td>0</td>\n      <td>3</td>\n      <td>52</td>\n      <td>1</td>\n      <td>10.3</td>\n      <td>0</td>\n      <td>2</td>\n      <td>11.8</td>\n      <td>71.2</td>\n      <td>...</td>\n      <td>0</td>\n      <td>0</td>\n      <td>0</td>\n      <td>0</td>\n      <td>0</td>\n      <td>0</td>\n      <td>0</td>\n      <td>1</td>\n      <td>0</td>\n      <td>0</td>\n    </tr>\n    <tr>\n      <th>660</th>\n      <td>8.0</td>\n      <td>0</td>\n      <td>0</td>\n      <td>6</td>\n      <td>0</td>\n      <td>11.2</td>\n      <td>2</td>\n      <td>0</td>\n      <td>3.6</td>\n      <td>2.6</td>\n      <td>...</td>\n      <td>0</td>\n      <td>0</td>\n      <td>0</td>\n      <td>0</td>\n      <td>0</td>\n      <td>0</td>\n      <td>0</td>\n      <td>0</td>\n      <td>0</td>\n      <td>0</td>\n    </tr>\n    <tr>\n      <th>1207</th>\n      <td>10.2</td>\n      <td>0</td>\n      <td>3</td>\n      <td>82</td>\n      <td>0</td>\n      <td>0.5</td>\n      <td>2</td>\n      <td>3</td>\n      <td>17.7</td>\n      <td>105.2</td>\n      <td>...</td>\n      <td>0</td>\n      <td>1</td>\n      <td>0</td>\n      <td>0</td>\n      <td>0</td>\n      <td>0</td>\n      <td>0</td>\n      <td>0</td>\n      <td>0</td>\n      <td>0</td>\n    </tr>\n    <tr>\n      <th>1764</th>\n      <td>9.0</td>\n      <td>0</td>\n      <td>0</td>\n      <td>-2</td>\n      <td>0</td>\n      <td>1.4</td>\n      <td>3</td>\n      <td>0</td>\n      <td>1.8</td>\n      <td>2.6</td>\n      <td>...</td>\n      <td>0</td>\n      <td>0</td>\n      <td>0</td>\n      <td>0</td>\n      <td>0</td>\n      <td>0</td>\n      <td>0</td>\n      <td>0</td>\n      <td>1</td>\n      <td>0</td>\n    </tr>\n    <tr>\n      <th>2335</th>\n      <td>4.3</td>\n      <td>0</td>\n      <td>0</td>\n      <td>0</td>\n      <td>0</td>\n      <td>0.0</td>\n      <td>0</td>\n      <td>0</td>\n      <td>0.0</td>\n      <td>0.0</td>\n      <td>...</td>\n      <td>0</td>\n      <td>0</td>\n      <td>0</td>\n      <td>0</td>\n      <td>0</td>\n      <td>0</td>\n      <td>0</td>\n      <td>0</td>\n      <td>0</td>\n      <td>0</td>\n    </tr>\n  </tbody>\n</table>\n<p>5 rows × 43 columns</p>\n</div>"
     },
     "execution_count": 35,
     "metadata": {},
     "output_type": "execute_result"
    }
   ],
   "source": [
    "cleaned_data.head()"
   ]
  },
  {
   "cell_type": "code",
   "execution_count": 36,
   "metadata": {},
   "outputs": [
    {
     "data": {
      "text/plain": "(38, 43)"
     },
     "execution_count": 36,
     "metadata": {},
     "output_type": "execute_result"
    }
   ],
   "source": [
    "cleaned_data.shape"
   ]
  },
  {
   "cell_type": "code",
   "execution_count": 37,
   "metadata": {
    "collapsed": false,
    "pycharm": {
     "name": "#%%\n"
    }
   },
   "outputs": [],
   "source": [
    "train = cleaned_data[:30]\n",
    "test = cleaned_data[30:]"
   ]
  },
  {
   "cell_type": "code",
   "execution_count": 38,
   "metadata": {
    "collapsed": false,
    "pycharm": {
     "name": "#%%\n"
    }
   },
   "outputs": [
    {
     "data": {
      "text/plain": "<Figure size 432x288 with 1 Axes>",
      "image/png": "[encoded data removed]"
     },
     "metadata": {
      "needs_background": "light"
     },
     "output_type": "display_data"
    }
   ],
   "source": [
    "plt.plot(range(len(train)), train['total_points'], label='train')\n",
    "plt.plot(range(len(train), len(train + test)), test['total_points'], label='test')\n",
    "plt.legend();"
   ]
  },
  {
   "cell_type": "code",
   "execution_count": 39,
   "metadata": {
    "collapsed": false,
    "pycharm": {
     "name": "#%%\n"
    }
   },
   "outputs": [
    {
     "name": "stdout",
     "output_type": "stream",
     "text": [
      "(30, 42) (30, 1)\n"
     ]
    }
   ],
   "source": [
    "X_train = train.drop('total_points', axis=1).copy()\n",
    "y_train = train[['total_points']].copy()\n",
    "\n",
    "print(X_train.shape, y_train.shape)"
   ]
  },
  {
   "cell_type": "code",
   "execution_count": 40,
   "metadata": {
    "collapsed": false,
    "pycharm": {
     "name": "#%%\n"
    }
   },
   "outputs": [
    {
     "name": "stdout",
     "output_type": "stream",
     "text": [
      "(30, 42)\n",
      "(30, 1)\n",
      "(30,)\n"
     ]
    }
   ],
   "source": [
    "Xscaler = MinMaxScaler(feature_range=(0, 1))\n",
    "scaled_X_train = Xscaler.fit_transform(X_train)\n",
    "print(X_train.shape)\n",
    "\n",
    "Yscaler = MinMaxScaler(feature_range=(0, 1))\n",
    "scaled_y_train = Yscaler.fit_transform(y_train)\n",
    "print(scaled_y_train.shape)\n",
    "\n",
    "scaled_y_train = scaled_y_train.reshape(-1)\n",
    "print(scaled_y_train.shape)\n",
    "\n",
    "scaled_y_train = np.insert(scaled_y_train, 0, 0)\n",
    "scaled_y_train = np.delete(scaled_y_train, -1)"
   ]
  },
  {
   "cell_type": "code",
   "execution_count": 41,
   "metadata": {
    "collapsed": false,
    "pycharm": {
     "name": "#%%\n"
    }
   },
   "outputs": [
    {
     "name": "stdout",
     "output_type": "stream",
     "text": [
      "(3, 3, 42)\n"
     ]
    }
   ],
   "source": [
    "n_input = 3 #how many samples/rows/timesteps to look in the past in order to forecast the next sample\n",
    "n_features = X_train.shape[1] # how many predictors/Xs/features we have to predict y\n",
    "b_size = 3 # Number of timeseries samples in each batch\n",
    "generator = TimeseriesGenerator(scaled_X_train, scaled_y_train, length=n_input, batch_size=b_size)\n",
    "\n",
    "print(generator[0][0].shape)"
   ]
  },
  {
   "cell_type": "markdown",
   "metadata": {
    "collapsed": false
   },
   "source": [
    "## Build LSTM model"
   ]
  },
  {
   "cell_type": "code",
   "execution_count": 42,
   "metadata": {
    "collapsed": false,
    "pycharm": {
     "name": "#%%\n"
    }
   },
   "outputs": [
    {
     "name": "stdout",
     "output_type": "stream",
     "text": [
      "Model: \"sequential_1\"\n",
      "_________________________________________________________________\n",
      " Layer (type)                Output Shape              Param #   \n",
      "=================================================================\n",
      " lstm_1 (LSTM)               (None, 150)               115800    \n",
      "                                                                 \n",
      " dense_1 (Dense)             (None, 1)                 151       \n",
      "                                                                 \n",
      "=================================================================\n",
      "Total params: 115,951\n",
      "Trainable params: 115,951\n",
      "Non-trainable params: 0\n",
      "_________________________________________________________________\n"
     ]
    }
   ],
   "source": [
    "model = Sequential()\n",
    "model.add(LSTM(150, activation='relu', input_shape=(n_input, n_features)))\n",
    "model.add(Dense(1))\n",
    "model.compile(optimizer='adam', loss='mse')\n",
    "model.summary()"
   ]
  },
  {
   "cell_type": "code",
   "execution_count": 43,
   "metadata": {
    "collapsed": false,
    "pycharm": {
     "name": "#%%\n"
    }
   },
   "outputs": [
    {
     "name": "stdout",
     "output_type": "stream",
     "text": [
      "Epoch 1/20\n"
     ]
    },
    {
     "name": "stderr",
     "output_type": "stream",
     "text": [
      "C:\\Users\\gracj\\AppData\\Local\\Temp\\ipykernel_9732\\2163120762.py:1: UserWarning: `Model.fit_generator` is deprecated and will be removed in a future version. Please use `Model.fit`, which supports generators.\n",
      "  model.fit_generator(generator,epochs=20)\n"
     ]
    },
    {
     "name": "stdout",
     "output_type": "stream",
     "text": [
      "9/9 [==============================] - 1s 2ms/step - loss: 0.1108\n",
      "Epoch 2/20\n",
      "9/9 [==============================] - 0s 2ms/step - loss: 0.0666\n",
      "Epoch 3/20\n",
      "9/9 [==============================] - 0s 2ms/step - loss: 0.0504\n",
      "Epoch 4/20\n",
      "9/9 [==============================] - 0s 2ms/step - loss: 0.0412\n",
      "Epoch 5/20\n",
      "9/9 [==============================] - 0s 2ms/step - loss: 0.0305\n",
      "Epoch 6/20\n",
      "9/9 [==============================] - 0s 2ms/step - loss: 0.0213\n",
      "Epoch 7/20\n",
      "9/9 [==============================] - 0s 2ms/step - loss: 0.0128\n",
      "Epoch 8/20\n",
      "9/9 [==============================] - 0s 2ms/step - loss: 0.0060\n",
      "Epoch 9/20\n",
      "9/9 [==============================] - 0s 4ms/step - loss: 0.0028\n",
      "Epoch 10/20\n",
      "9/9 [==============================] - 0s 2ms/step - loss: 0.0021\n",
      "Epoch 11/20\n",
      "9/9 [==============================] - 0s 3ms/step - loss: 0.0015\n",
      "Epoch 12/20\n",
      "9/9 [==============================] - 0s 2ms/step - loss: 7.3646e-04\n",
      "Epoch 13/20\n",
      "9/9 [==============================] - 0s 2ms/step - loss: 4.2819e-04\n",
      "Epoch 14/20\n",
      "9/9 [==============================] - 0s 2ms/step - loss: 2.6684e-04\n",
      "Epoch 15/20\n",
      "9/9 [==============================] - 0s 2ms/step - loss: 1.9677e-04\n",
      "Epoch 16/20\n",
      "9/9 [==============================] - 0s 2ms/step - loss: 1.7379e-04\n",
      "Epoch 17/20\n",
      "9/9 [==============================] - 0s 2ms/step - loss: 1.5910e-04\n",
      "Epoch 18/20\n",
      "9/9 [==============================] - 0s 2ms/step - loss: 5.9088e-05\n",
      "Epoch 19/20\n",
      "9/9 [==============================] - 0s 2ms/step - loss: 6.3576e-05\n",
      "Epoch 20/20\n",
      "9/9 [==============================] - 0s 2ms/step - loss: 3.1867e-05\n"
     ]
    },
    {
     "data": {
      "text/plain": "<keras.callbacks.History at 0x25625b6b550>"
     },
     "execution_count": 43,
     "metadata": {},
     "output_type": "execute_result"
    }
   ],
   "source": [
    "model.fit_generator(generator,epochs=20)"
   ]
  },
  {
   "cell_type": "markdown",
   "metadata": {
    "collapsed": false,
    "pycharm": {
     "name": "#%% md\n"
    }
   },
   "source": []
  },
  {
   "cell_type": "code",
   "execution_count": 44,
   "metadata": {
    "collapsed": false,
    "pycharm": {
     "name": "#%%\n"
    }
   },
   "outputs": [
    {
     "name": "stdout",
     "output_type": "stream",
     "text": [
      "(3, 3, 42)\n",
      "[ 2  5  2  2 13]\n",
      "[2.0237687 2.106643  5.6016316 1.1391746 2.0175688]\n",
      "   y_true    y_pred\n",
      "0       2  2.023769\n",
      "1       5  2.106643\n",
      "2       2  5.601632\n",
      "3       2  1.139175\n",
      "4      13  2.017569\n"
     ]
    }
   ],
   "source": [
    "X_test = test.drop('total_points', axis=1).copy()\n",
    "scaled_X_test = Xscaler.transform(X_test)\n",
    "\n",
    "test_generator = TimeseriesGenerator(scaled_X_test, np.zeros(len(X_test)), length=n_input, batch_size=b_size)\n",
    "\n",
    "print(test_generator[0][0].shape)\n",
    "\n",
    "y_pred_scaled = model.predict(test_generator)\n",
    "y_pred = Yscaler.inverse_transform(y_pred_scaled)\n",
    "\n",
    "\n",
    "print(test[['total_points']].values[n_input:].reshape(-1))\n",
    "print(y_pred.ravel())\n",
    "\n",
    "y_pred_0 = y_pred\n",
    "\n",
    "results_0 = pd.DataFrame({'y_true':test[['total_points']].values[n_input:].reshape(-1),'y_pred':y_pred.ravel()})\n",
    "print(results_0)"
   ]
  },
  {
   "cell_type": "code",
   "execution_count": 45,
   "metadata": {
    "collapsed": false,
    "pycharm": {
     "name": "#%%\n"
    }
   },
   "outputs": [
    {
     "data": {
      "text/plain": "<Figure size 432x288 with 1 Axes>",
      "image/png": "[encoded data removed]"
     },
     "metadata": {
      "needs_background": "light"
     },
     "output_type": "display_data"
    }
   ],
   "source": [
    "results_0.plot();"
   ]
  },
  {
   "cell_type": "markdown",
   "metadata": {
    "collapsed": false
   },
   "source": [
    "## Add Jamie Vardy understat data and train new model"
   ]
  },
  {
   "cell_type": "code",
   "execution_count": 46,
   "metadata": {
    "collapsed": false,
    "pycharm": {
     "name": "#%%\n"
    }
   },
   "outputs": [
    {
     "data": {
      "text/plain": "   goals  shots        xG  time position       h_team     a_team  h_goals  \\\n0      0      0  0.000000    62       FW    Leicester      Leeds        1   \n1      1      2  0.474730    16      Sub      Burnley  Leicester        0   \n2      0      2  0.149755    90       FW    Leicester  Liverpool        1   \n3      0      0  0.000000    22      Sub  Aston Villa  Leicester        2   \n4      0      3  0.508952    90       FW  Southampton  Leicester        2   \n\n   a_goals        date     id  season  roster_id        xA  assists  \\\n0        0  2022-03-05  16648    2021     517260  0.000000        0   \n1        2  2022-03-01  16588    2021     517091  0.087236        1   \n2        0  2021-12-28  16573    2021     505323  0.320443        0   \n3        1  2021-12-05  16516    2021     500887  0.000000        0   \n4        2  2021-12-01  16514    2021     499112  0.101893        0   \n\n   key_passes  npg      npxG   xGChain  xGBuildup  \n0           0    0  0.000000  0.000000   0.000000  \n1           2    1  0.474730  0.561967   0.000000  \n2           1    0  0.149755  0.470198   0.000000  \n3           0    0  0.000000  0.000000   0.000000  \n4           2    0  0.508952  0.594523   0.160227  ",
      "text/html": "<div>\n<style scoped>\n    .dataframe tbody tr th:only-of-type {\n        vertical-align: middle;\n    }\n\n    .dataframe tbody tr th {\n        vertical-align: top;\n    }\n\n    .dataframe thead th {\n        text-align: right;\n    }\n</style>\n<table border=\"1\" class=\"dataframe\">\n  <thead>\n    <tr style=\"text-align: right;\">\n      <th></th>\n      <th>goals</th>\n      <th>shots</th>\n      <th>xG</th>\n      <th>time</th>\n      <th>position</th>\n      <th>h_team</th>\n      <th>a_team</th>\n      <th>h_goals</th>\n      <th>a_goals</th>\n      <th>date</th>\n      <th>id</th>\n      <th>season</th>\n      <th>roster_id</th>\n      <th>xA</th>\n      <th>assists</th>\n      <th>key_passes</th>\n      <th>npg</th>\n      <th>npxG</th>\n      <th>xGChain</th>\n      <th>xGBuildup</th>\n    </tr>\n  </thead>\n  <tbody>\n    <tr>\n      <th>0</th>\n      <td>0</td>\n      <td>0</td>\n      <td>0.000000</td>\n      <td>62</td>\n      <td>FW</td>\n      <td>Leicester</td>\n      <td>Leeds</td>\n      <td>1</td>\n      <td>0</td>\n      <td>2022-03-05</td>\n      <td>16648</td>\n      <td>2021</td>\n      <td>517260</td>\n      <td>0.000000</td>\n      <td>0</td>\n      <td>0</td>\n      <td>0</td>\n      <td>0.000000</td>\n      <td>0.000000</td>\n      <td>0.000000</td>\n    </tr>\n    <tr>\n      <th>1</th>\n      <td>1</td>\n      <td>2</td>\n      <td>0.474730</td>\n      <td>16</td>\n      <td>Sub</td>\n      <td>Burnley</td>\n      <td>Leicester</td>\n      <td>0</td>\n      <td>2</td>\n      <td>2022-03-01</td>\n      <td>16588</td>\n      <td>2021</td>\n      <td>517091</td>\n      <td>0.087236</td>\n      <td>1</td>\n      <td>2</td>\n      <td>1</td>\n      <td>0.474730</td>\n      <td>0.561967</td>\n      <td>0.000000</td>\n    </tr>\n    <tr>\n      <th>2</th>\n      <td>0</td>\n      <td>2</td>\n      <td>0.149755</td>\n      <td>90</td>\n      <td>FW</td>\n      <td>Leicester</td>\n      <td>Liverpool</td>\n      <td>1</td>\n      <td>0</td>\n      <td>2021-12-28</td>\n      <td>16573</td>\n      <td>2021</td>\n      <td>505323</td>\n      <td>0.320443</td>\n      <td>0</td>\n      <td>1</td>\n      <td>0</td>\n      <td>0.149755</td>\n      <td>0.470198</td>\n      <td>0.000000</td>\n    </tr>\n    <tr>\n      <th>3</th>\n      <td>0</td>\n      <td>0</td>\n      <td>0.000000</td>\n      <td>22</td>\n      <td>Sub</td>\n      <td>Aston Villa</td>\n      <td>Leicester</td>\n      <td>2</td>\n      <td>1</td>\n      <td>2021-12-05</td>\n      <td>16516</td>\n      <td>2021</td>\n      <td>500887</td>\n      <td>0.000000</td>\n      <td>0</td>\n      <td>0</td>\n      <td>0</td>\n      <td>0.000000</td>\n      <td>0.000000</td>\n      <td>0.000000</td>\n    </tr>\n    <tr>\n      <th>4</th>\n      <td>0</td>\n      <td>3</td>\n      <td>0.508952</td>\n      <td>90</td>\n      <td>FW</td>\n      <td>Southampton</td>\n      <td>Leicester</td>\n      <td>2</td>\n      <td>2</td>\n      <td>2021-12-01</td>\n      <td>16514</td>\n      <td>2021</td>\n      <td>499112</td>\n      <td>0.101893</td>\n      <td>0</td>\n      <td>2</td>\n      <td>0</td>\n      <td>0.508952</td>\n      <td>0.594523</td>\n      <td>0.160227</td>\n    </tr>\n  </tbody>\n</table>\n</div>"
     },
     "execution_count": 46,
     "metadata": {},
     "output_type": "execute_result"
    }
   ],
   "source": [
    "data_path = os.path.dirname(os.getcwd()) + '\\\\data\\\\Fantasy-Premier-League'\n",
    "vardy_understat = data_path + '\\\\2021-22\\\\understat\\\\Jamie_Vardy_755.csv'\n",
    "vardy_understat = pd.read_csv(vardy_understat, encoding='latin-1', )\n",
    "vardy_understat.head()"
   ]
  },
  {
   "cell_type": "code",
   "execution_count": 47,
   "metadata": {
    "collapsed": false,
    "pycharm": {
     "name": "#%%\n"
    }
   },
   "outputs": [
    {
     "name": "stderr",
     "output_type": "stream",
     "text": [
      "C:\\Users\\gracj\\AppData\\Local\\Temp\\ipykernel_9732\\4273698592.py:2: SettingWithCopyWarning: \n",
      "A value is trying to be set on a copy of a slice from a DataFrame.\n",
      "Try using .loc[row_indexer,col_indexer] = value instead\n",
      "\n",
      "See the caveats in the documentation: https://pandas.pydata.org/pandas-docs/stable/user_guide/indexing.html#returning-a-view-versus-a-copy\n",
      "  vardy_data['date'] = vardy_data['kickoff_time'].str.split('T').str[0]\n",
      "C:\\Users\\gracj\\AppData\\Local\\Temp\\ipykernel_9732\\4273698592.py:3: SettingWithCopyWarning: \n",
      "A value is trying to be set on a copy of a slice from a DataFrame\n",
      "\n",
      "See the caveats in the documentation: https://pandas.pydata.org/pandas-docs/stable/user_guide/indexing.html#returning-a-view-versus-a-copy\n",
      "  vardy_data.drop(['kickoff_time'], axis=1, inplace=True)\n"
     ]
    }
   ],
   "source": [
    "# clean what's after \"T\" in the kickoff_time column from vardy_data\n",
    "vardy_data['date'] = vardy_data['kickoff_time'].str.split('T').str[0]\n",
    "vardy_data.drop(['kickoff_time'], axis=1, inplace=True)"
   ]
  },
  {
   "cell_type": "code",
   "execution_count": 48,
   "metadata": {
    "collapsed": false,
    "pycharm": {
     "name": "#%%\n"
    }
   },
   "outputs": [],
   "source": [
    "vardy_data_understat = vardy_data.merge(vardy_understat, on='date', how='left')"
   ]
  },
  {
   "cell_type": "code",
   "execution_count": 49,
   "metadata": {
    "collapsed": false,
    "pycharm": {
     "name": "#%%\n"
    }
   },
   "outputs": [
    {
     "data": {
      "text/plain": "Index(['name', 'position_x', 'team', 'xP', 'assists_x', 'bonus', 'bps',\n       'clean_sheets', 'creativity', 'element', 'fixture', 'goals_conceded',\n       'goals_scored', 'ict_index', 'influence', 'minutes', 'opponent_team',\n       'own_goals', 'penalties_missed', 'penalties_saved', 'red_cards',\n       'round', 'saves', 'selected', 'team_a_score', 'team_h_score', 'threat',\n       'total_points', 'transfers_balance', 'transfers_in', 'transfers_out',\n       'value', 'was_home', 'yellow_cards', 'GW', 'date', 'goals', 'shots',\n       'xG', 'time', 'position_y', 'h_team', 'a_team', 'h_goals', 'a_goals',\n       'id', 'season', 'roster_id', 'xA', 'assists_y', 'key_passes', 'npg',\n       'npxG', 'xGChain', 'xGBuildup'],\n      dtype='object')"
     },
     "execution_count": 49,
     "metadata": {},
     "output_type": "execute_result"
    }
   ],
   "source": [
    "vardy_data_understat.columns"
   ]
  },
  {
   "cell_type": "code",
   "execution_count": 50,
   "metadata": {
    "collapsed": false,
    "pycharm": {
     "name": "#%%\n"
    }
   },
   "outputs": [],
   "source": [
    "vardy_data_understat = vardy_data_understat.drop(['goals', 'time', 'position_y', 'h_team', 'a_team', 'h_goals', 'a_goals', 'id', 'season', 'roster_id', 'assists_y'], axis=1)"
   ]
  },
  {
   "cell_type": "code",
   "execution_count": 51,
   "metadata": {
    "collapsed": false,
    "pycharm": {
     "name": "#%%\n"
    }
   },
   "outputs": [],
   "source": [
    "# insert 0's for missing values\n",
    "vardy_data_understat.fillna(0, inplace=True)"
   ]
  },
  {
   "cell_type": "code",
   "execution_count": 52,
   "metadata": {
    "collapsed": false,
    "pycharm": {
     "name": "#%%\n"
    }
   },
   "outputs": [
    {
     "data": {
      "text/plain": "          name position_x       team    xP  assists_x  bonus  bps  \\\n0  Jamie Vardy        FWD  Leicester   4.8          0      3   52   \n1  Jamie Vardy        FWD  Leicester   8.0          0      0    6   \n2  Jamie Vardy        FWD  Leicester  10.2          0      3   82   \n3  Jamie Vardy        FWD  Leicester   9.0          0      0   -2   \n4  Jamie Vardy        FWD  Leicester   4.3          0      0    0   \n\n   clean_sheets  creativity  element  ...  GW        date  shots        xG  \\\n0             1        10.3      224  ...   1  2020-09-13    2.0  1.522338   \n1             0        11.2      224  ...   2  2020-09-20    1.0  0.089161   \n2             0         0.5      224  ...   3  2020-09-27    3.0  1.965583   \n3             0         1.4      224  ...   4  2020-10-04    1.0  0.302199   \n4             0         0.0      224  ...   5  2020-10-18    0.0  0.000000   \n\n         xA  key_passes  npg      npxG   xGChain  xGBuildup  \n0  0.066219         1.0  0.0  0.000000  0.112795   0.046576  \n1  0.096211         1.0  0.0  0.089161  0.277284   0.091911  \n2  0.000000         0.0  1.0  0.443245  0.521428   0.078183  \n3  0.000000         0.0  0.0  0.302199  0.302199   0.000000  \n4  0.000000         0.0  0.0  0.000000  0.000000   0.000000  \n\n[5 rows x 44 columns]",
      "text/html": "<div>\n<style scoped>\n    .dataframe tbody tr th:only-of-type {\n        vertical-align: middle;\n    }\n\n    .dataframe tbody tr th {\n        vertical-align: top;\n    }\n\n    .dataframe thead th {\n        text-align: right;\n    }\n</style>\n<table border=\"1\" class=\"dataframe\">\n  <thead>\n    <tr style=\"text-align: right;\">\n      <th></th>\n      <th>name</th>\n      <th>position_x</th>\n      <th>team</th>\n      <th>xP</th>\n      <th>assists_x</th>\n      <th>bonus</th>\n      <th>bps</th>\n      <th>clean_sheets</th>\n      <th>creativity</th>\n      <th>element</th>\n      <th>...</th>\n      <th>GW</th>\n      <th>date</th>\n      <th>shots</th>\n      <th>xG</th>\n      <th>xA</th>\n      <th>key_passes</th>\n      <th>npg</th>\n      <th>npxG</th>\n      <th>xGChain</th>\n      <th>xGBuildup</th>\n    </tr>\n  </thead>\n  <tbody>\n    <tr>\n      <th>0</th>\n      <td>Jamie Vardy</td>\n      <td>FWD</td>\n      <td>Leicester</td>\n      <td>4.8</td>\n      <td>0</td>\n      <td>3</td>\n      <td>52</td>\n      <td>1</td>\n      <td>10.3</td>\n      <td>224</td>\n      <td>...</td>\n      <td>1</td>\n      <td>2020-09-13</td>\n      <td>2.0</td>\n      <td>1.522338</td>\n      <td>0.066219</td>\n      <td>1.0</td>\n      <td>0.0</td>\n      <td>0.000000</td>\n      <td>0.112795</td>\n      <td>0.046576</td>\n    </tr>\n    <tr>\n      <th>1</th>\n      <td>Jamie Vardy</td>\n      <td>FWD</td>\n      <td>Leicester</td>\n      <td>8.0</td>\n      <td>0</td>\n      <td>0</td>\n      <td>6</td>\n      <td>0</td>\n      <td>11.2</td>\n      <td>224</td>\n      <td>...</td>\n      <td>2</td>\n      <td>2020-09-20</td>\n      <td>1.0</td>\n      <td>0.089161</td>\n      <td>0.096211</td>\n      <td>1.0</td>\n      <td>0.0</td>\n      <td>0.089161</td>\n      <td>0.277284</td>\n      <td>0.091911</td>\n    </tr>\n    <tr>\n      <th>2</th>\n      <td>Jamie Vardy</td>\n      <td>FWD</td>\n      <td>Leicester</td>\n      <td>10.2</td>\n      <td>0</td>\n      <td>3</td>\n      <td>82</td>\n      <td>0</td>\n      <td>0.5</td>\n      <td>224</td>\n      <td>...</td>\n      <td>3</td>\n      <td>2020-09-27</td>\n      <td>3.0</td>\n      <td>1.965583</td>\n      <td>0.000000</td>\n      <td>0.0</td>\n      <td>1.0</td>\n      <td>0.443245</td>\n      <td>0.521428</td>\n      <td>0.078183</td>\n    </tr>\n    <tr>\n      <th>3</th>\n      <td>Jamie Vardy</td>\n      <td>FWD</td>\n      <td>Leicester</td>\n      <td>9.0</td>\n      <td>0</td>\n      <td>0</td>\n      <td>-2</td>\n      <td>0</td>\n      <td>1.4</td>\n      <td>224</td>\n      <td>...</td>\n      <td>4</td>\n      <td>2020-10-04</td>\n      <td>1.0</td>\n      <td>0.302199</td>\n      <td>0.000000</td>\n      <td>0.0</td>\n      <td>0.0</td>\n      <td>0.302199</td>\n      <td>0.302199</td>\n      <td>0.000000</td>\n    </tr>\n    <tr>\n      <th>4</th>\n      <td>Jamie Vardy</td>\n      <td>FWD</td>\n      <td>Leicester</td>\n      <td>4.3</td>\n      <td>0</td>\n      <td>0</td>\n      <td>0</td>\n      <td>0</td>\n      <td>0.0</td>\n      <td>224</td>\n      <td>...</td>\n      <td>5</td>\n      <td>2020-10-18</td>\n      <td>0.0</td>\n      <td>0.000000</td>\n      <td>0.000000</td>\n      <td>0.0</td>\n      <td>0.0</td>\n      <td>0.000000</td>\n      <td>0.000000</td>\n      <td>0.000000</td>\n    </tr>\n  </tbody>\n</table>\n<p>5 rows × 44 columns</p>\n</div>"
     },
     "execution_count": 52,
     "metadata": {},
     "output_type": "execute_result"
    }
   ],
   "source": [
    "vardy_data_understat.head()"
   ]
  },
  {
   "cell_type": "markdown",
   "metadata": {
    "collapsed": false
   },
   "source": [
    "## Do data preprocessing and build model again, with understat data"
   ]
  },
  {
   "cell_type": "code",
   "execution_count": 53,
   "metadata": {
    "collapsed": false,
    "pycharm": {
     "name": "#%%\n"
    }
   },
   "outputs": [
    {
     "name": "stdout",
     "output_type": "stream",
     "text": [
      "Model: \"sequential_2\"\n",
      "_________________________________________________________________\n",
      " Layer (type)                Output Shape              Param #   \n",
      "=================================================================\n",
      " lstm_2 (LSTM)               (None, 150)               109800    \n",
      "                                                                 \n",
      " dense_2 (Dense)             (None, 1)                 151       \n",
      "                                                                 \n",
      "=================================================================\n",
      "Total params: 109,951\n",
      "Trainable params: 109,951\n",
      "Non-trainable params: 0\n",
      "_________________________________________________________________\n",
      "Epoch 1/20\n"
     ]
    },
    {
     "name": "stderr",
     "output_type": "stream",
     "text": [
      "C:\\Users\\gracj\\AppData\\Local\\Temp\\ipykernel_9732\\4227821409.py:45: UserWarning: `Model.fit_generator` is deprecated and will be removed in a future version. Please use `Model.fit`, which supports generators.\n",
      "  model.fit_generator(generator, epochs=20)\n"
     ]
    },
    {
     "name": "stdout",
     "output_type": "stream",
     "text": [
      "9/9 [==============================] - 1s 2ms/step - loss: 0.0927\n",
      "Epoch 2/20\n",
      "9/9 [==============================] - 0s 2ms/step - loss: 0.0716\n",
      "Epoch 3/20\n",
      "9/9 [==============================] - 0s 2ms/step - loss: 0.0445\n",
      "Epoch 4/20\n",
      "9/9 [==============================] - 0s 2ms/step - loss: 0.0366\n",
      "Epoch 5/20\n",
      "9/9 [==============================] - 0s 2ms/step - loss: 0.0232\n",
      "Epoch 6/20\n",
      "9/9 [==============================] - 0s 2ms/step - loss: 0.0136\n",
      "Epoch 7/20\n",
      "9/9 [==============================] - 0s 2ms/step - loss: 0.0066\n",
      "Epoch 8/20\n",
      "9/9 [==============================] - 0s 2ms/step - loss: 0.0044\n",
      "Epoch 9/20\n",
      "9/9 [==============================] - 0s 2ms/step - loss: 0.0027\n",
      "Epoch 10/20\n",
      "9/9 [==============================] - 0s 3ms/step - loss: 0.0021\n",
      "Epoch 11/20\n",
      "9/9 [==============================] - 0s 2ms/step - loss: 0.0017\n",
      "Epoch 12/20\n",
      "9/9 [==============================] - 0s 2ms/step - loss: 0.0013\n",
      "Epoch 13/20\n",
      "9/9 [==============================] - 0s 2ms/step - loss: 9.6631e-04\n",
      "Epoch 14/20\n",
      "9/9 [==============================] - 0s 2ms/step - loss: 7.8450e-04\n",
      "Epoch 15/20\n",
      "9/9 [==============================] - 0s 2ms/step - loss: 5.9142e-04\n",
      "Epoch 16/20\n",
      "9/9 [==============================] - 0s 2ms/step - loss: 4.9582e-04\n",
      "Epoch 17/20\n",
      "9/9 [==============================] - 0s 2ms/step - loss: 4.6359e-04\n",
      "Epoch 18/20\n",
      "9/9 [==============================] - 0s 2ms/step - loss: 3.5415e-04\n",
      "Epoch 19/20\n",
      "9/9 [==============================] - 0s 2ms/step - loss: 3.0861e-04\n",
      "Epoch 20/20\n",
      "9/9 [==============================] - 0s 2ms/step - loss: 2.7446e-04\n",
      "[ 2  5  2  2 13]\n",
      "[2.7669399 2.9648006 6.454776  2.4224992 2.5186074]\n",
      "   y_true    y_pred\n",
      "0       2  2.766940\n",
      "1       5  2.964801\n",
      "2       2  6.454776\n",
      "3       2  2.422499\n",
      "4      13  2.518607\n"
     ]
    },
    {
     "data": {
      "text/plain": "<Figure size 432x288 with 1 Axes>",
      "image/png": "[encoded data removed]"
     },
     "metadata": {
      "needs_background": "light"
     },
     "output_type": "display_data"
    },
    {
     "data": {
      "text/plain": "<Figure size 432x288 with 1 Axes>",
      "image/png": "[encoded data removed]"
     },
     "metadata": {
      "needs_background": "light"
     },
     "output_type": "display_data"
    }
   ],
   "source": [
    "## Data preprocessing\n",
    "cleaned_data_understat = vardy_data_understat.drop(\n",
    "    ['name', 'position_x', 'team', 'element', 'fixture', 'date', 'saves', 'penalties_saved', 'round', 'GW'],\n",
    "    axis=1)\n",
    "\n",
    "cleaned_data_understat = cleaned_data_understat.drop(['opponent_team'], axis=1)   \n",
    "\n",
    "# change was_home column to binary\n",
    "cleaned_data_understat['was_home'] = cleaned_data_understat['was_home'].map({True: 1, False: 0})\n",
    "\n",
    "# one hot encode 'opponent_team' column\n",
    "#cleaned_data_understat = pd.get_dummies(cleaned_data_understat, columns=['opponent_team'], drop_first=True)\n",
    "\n",
    "train = cleaned_data_understat[:30]\n",
    "test = cleaned_data_understat[30:]\n",
    "\n",
    "plt.plot(range(len(train)), train['total_points'], label='train')\n",
    "plt.plot(range(len(train), len(train + test)), test['total_points'], label='test')\n",
    "plt.legend();\n",
    "\n",
    "X_train = train.drop('total_points', axis=1).copy()\n",
    "y_train = train[['total_points']].copy()\n",
    "\n",
    "Xscaler = MinMaxScaler(feature_range=(0, 1))\n",
    "scaled_X_train = Xscaler.fit_transform(X_train)\n",
    "\n",
    "Yscaler = MinMaxScaler(feature_range=(0, 1))\n",
    "scaled_y_train = Yscaler.fit_transform(y_train)\n",
    "\n",
    "scaled_y_train = scaled_y_train.reshape(-1)\n",
    "\n",
    "scaled_y_train = np.insert(scaled_y_train, 0, 0)\n",
    "scaled_y_train = np.delete(scaled_y_train, -1)\n",
    "n_input = 3  #how many samples/rows/timesteps to look in the past in order to forecast the next sample\n",
    "n_features = X_train.shape[1]  # how many predictors/Xs/features we have to predict y\n",
    "b_size = 3  # Number of timeseries samples in each batch\n",
    "generator = TimeseriesGenerator(scaled_X_train, scaled_y_train, length=n_input, batch_size=b_size)\n",
    "\n",
    "## Build LSTM model\n",
    "model = Sequential()\n",
    "model.add(LSTM(150, activation='relu', input_shape=(n_input, n_features)))\n",
    "model.add(Dense(1))\n",
    "model.compile(optimizer='adam', loss='mse')\n",
    "model.summary()\n",
    "model.fit_generator(generator, epochs=20)\n",
    "X_test = test.drop('total_points', axis=1).copy()\n",
    "scaled_X_test = Xscaler.transform(X_test)\n",
    "\n",
    "test_generator = TimeseriesGenerator(scaled_X_test, np.zeros(len(X_test)), length=n_input, batch_size=b_size)\n",
    "\n",
    "y_pred_scaled = model.predict(test_generator)\n",
    "y_pred = Yscaler.inverse_transform(y_pred_scaled)\n",
    "\n",
    "y_pred_1 = y_pred\n",
    "\n",
    "print(test[['total_points']].values[n_input:].reshape(-1))\n",
    "print(y_pred.ravel())\n",
    "\n",
    "results_1 = pd.DataFrame({'y_true': test[['total_points']].values[n_input:].reshape(-1), 'y_pred': y_pred.ravel()})\n",
    "print(results_1)\n",
    "results_1.plot();"
   ]
  },
  {
   "cell_type": "markdown",
   "metadata": {
    "collapsed": false
   },
   "source": [
    "## Compare predictions with understat data and without"
   ]
  },
  {
   "cell_type": "code",
   "execution_count": 54,
   "metadata": {
    "collapsed": false,
    "pycharm": {
     "name": "#%%\n"
    }
   },
   "outputs": [
    {
     "name": "stdout",
     "output_type": "stream",
     "text": [
      "   y_true  y_pred_without  y_pred_understat\n",
      "0       2        2.023769          2.766940\n",
      "1       5        2.106643          2.964801\n",
      "2       2        5.601632          6.454776\n",
      "3       2        1.139175          2.422499\n",
      "4      13        2.017569          2.518607\n"
     ]
    },
    {
     "data": {
      "text/plain": "<Figure size 432x288 with 1 Axes>",
      "image/png": "[encoded data removed]"
     },
     "metadata": {
      "needs_background": "light"
     },
     "output_type": "display_data"
    }
   ],
   "source": [
    "results_compare = pd.DataFrame({'y_true': test[['total_points']].values[n_input:].reshape(-1), 'y_pred_without': y_pred_0.ravel(), 'y_pred_understat': y_pred_1.ravel()})\n",
    "print(results_compare)\n",
    "results_compare.plot();"
   ]
  },
  {
   "cell_type": "markdown",
   "metadata": {},
   "source": [
    "## Add Jamie Vardy data from 2019-20 season"
   ]
  },
  {
   "cell_type": "code",
   "execution_count": 55,
   "metadata": {
    "collapsed": false,
    "pycharm": {
     "name": "#%%\n"
    }
   },
   "outputs": [],
   "source": [
    "merged_gw_1920_path = data_path + '\\\\2019-20\\\\gws\\\\merged_gw.csv'"
   ]
  },
  {
   "cell_type": "code",
   "execution_count": 56,
   "metadata": {
    "collapsed": false,
    "pycharm": {
     "name": "#%%\n"
    }
   },
   "outputs": [],
   "source": [
    "merged_gw1920 = pd.read_csv(merged_gw_1920_path, encoding='latin-1')"
   ]
  },
  {
   "cell_type": "code",
   "execution_count": 57,
   "metadata": {
    "collapsed": false,
    "pycharm": {
     "name": "#%%\n"
    }
   },
   "outputs": [
    {
     "data": {
      "text/plain": "                    name  assists  bonus  bps  clean_sheets  creativity  \\\n0    Aaron_Cresswell_376        0      0    7             0         1.5   \n1       Aaron_Lennon_430        0      0    3             0         0.0   \n2         Aaron_Mooy_516        0      0    0             0         0.0   \n3     Aaron_Ramsdale_494        0      0   11             0         0.0   \n4  Aaron_Wan-Bissaka_122        0      2   34             1        16.1   \n\n   element  fixture  goals_conceded  goals_scored  ...  team_h_score  threat  \\\n0      376        8               5             0  ...           0.0     0.0   \n1      430        3               0             0  ...           3.0     0.0   \n2      516        7               0             0  ...           0.0     0.0   \n3      494        2               1             0  ...           1.0     0.0   \n4      122        9               0             0  ...           4.0     2.0   \n\n  total_points  transfers_balance  transfers_in  transfers_out  value  \\\n0            0                  0             0              0     50   \n1            1                  0             0              0     50   \n2            0                  0             0              0     50   \n3            2                  0             0              0     45   \n4            8                  0             0              0     55   \n\n   was_home  yellow_cards  GW  \n0      True             0   1  \n1      True             0   1  \n2     False             0   1  \n3      True             0   1  \n4      True             0   1  \n\n[5 rows x 33 columns]",
      "text/html": "<div>\n<style scoped>\n    .dataframe tbody tr th:only-of-type {\n        vertical-align: middle;\n    }\n\n    .dataframe tbody tr th {\n        vertical-align: top;\n    }\n\n    .dataframe thead th {\n        text-align: right;\n    }\n</style>\n<table border=\"1\" class=\"dataframe\">\n  <thead>\n    <tr style=\"text-align: right;\">\n      <th></th>\n      <th>name</th>\n      <th>assists</th>\n      <th>bonus</th>\n      <th>bps</th>\n      <th>clean_sheets</th>\n      <th>creativity</th>\n      <th>element</th>\n      <th>fixture</th>\n      <th>goals_conceded</th>\n      <th>goals_scored</th>\n      <th>...</th>\n      <th>team_h_score</th>\n      <th>threat</th>\n      <th>total_points</th>\n      <th>transfers_balance</th>\n      <th>transfers_in</th>\n      <th>transfers_out</th>\n      <th>value</th>\n      <th>was_home</th>\n      <th>yellow_cards</th>\n      <th>GW</th>\n    </tr>\n  </thead>\n  <tbody>\n    <tr>\n      <th>0</th>\n      <td>Aaron_Cresswell_376</td>\n      <td>0</td>\n      <td>0</td>\n      <td>7</td>\n      <td>0</td>\n      <td>1.5</td>\n      <td>376</td>\n      <td>8</td>\n      <td>5</td>\n      <td>0</td>\n      <td>...</td>\n      <td>0.0</td>\n      <td>0.0</td>\n      <td>0</td>\n      <td>0</td>\n      <td>0</td>\n      <td>0</td>\n      <td>50</td>\n      <td>True</td>\n      <td>0</td>\n      <td>1</td>\n    </tr>\n    <tr>\n      <th>1</th>\n      <td>Aaron_Lennon_430</td>\n      <td>0</td>\n      <td>0</td>\n      <td>3</td>\n      <td>0</td>\n      <td>0.0</td>\n      <td>430</td>\n      <td>3</td>\n      <td>0</td>\n      <td>0</td>\n      <td>...</td>\n      <td>3.0</td>\n      <td>0.0</td>\n      <td>1</td>\n      <td>0</td>\n      <td>0</td>\n      <td>0</td>\n      <td>50</td>\n      <td>True</td>\n      <td>0</td>\n      <td>1</td>\n    </tr>\n    <tr>\n      <th>2</th>\n      <td>Aaron_Mooy_516</td>\n      <td>0</td>\n      <td>0</td>\n      <td>0</td>\n      <td>0</td>\n      <td>0.0</td>\n      <td>516</td>\n      <td>7</td>\n      <td>0</td>\n      <td>0</td>\n      <td>...</td>\n      <td>0.0</td>\n      <td>0.0</td>\n      <td>0</td>\n      <td>0</td>\n      <td>0</td>\n      <td>0</td>\n      <td>50</td>\n      <td>False</td>\n      <td>0</td>\n      <td>1</td>\n    </tr>\n    <tr>\n      <th>3</th>\n      <td>Aaron_Ramsdale_494</td>\n      <td>0</td>\n      <td>0</td>\n      <td>11</td>\n      <td>0</td>\n      <td>0.0</td>\n      <td>494</td>\n      <td>2</td>\n      <td>1</td>\n      <td>0</td>\n      <td>...</td>\n      <td>1.0</td>\n      <td>0.0</td>\n      <td>2</td>\n      <td>0</td>\n      <td>0</td>\n      <td>0</td>\n      <td>45</td>\n      <td>True</td>\n      <td>0</td>\n      <td>1</td>\n    </tr>\n    <tr>\n      <th>4</th>\n      <td>Aaron_Wan-Bissaka_122</td>\n      <td>0</td>\n      <td>2</td>\n      <td>34</td>\n      <td>1</td>\n      <td>16.1</td>\n      <td>122</td>\n      <td>9</td>\n      <td>0</td>\n      <td>0</td>\n      <td>...</td>\n      <td>4.0</td>\n      <td>2.0</td>\n      <td>8</td>\n      <td>0</td>\n      <td>0</td>\n      <td>0</td>\n      <td>55</td>\n      <td>True</td>\n      <td>0</td>\n      <td>1</td>\n    </tr>\n  </tbody>\n</table>\n<p>5 rows × 33 columns</p>\n</div>"
     },
     "execution_count": 57,
     "metadata": {},
     "output_type": "execute_result"
    }
   ],
   "source": [
    "merged_gw1920.head()"
   ]
  },
  {
   "cell_type": "code",
   "execution_count": 58,
   "metadata": {},
   "outputs": [
    {
     "data": {
      "text/plain": "Index(['name', 'assists', 'bonus', 'bps', 'clean_sheets', 'creativity',\n       'element', 'fixture', 'goals_conceded', 'goals_scored', 'ict_index',\n       'influence', 'kickoff_time', 'minutes', 'opponent_team', 'own_goals',\n       'penalties_missed', 'penalties_saved', 'red_cards', 'round', 'saves',\n       'selected', 'team_a_score', 'team_h_score', 'threat', 'total_points',\n       'transfers_balance', 'transfers_in', 'transfers_out', 'value',\n       'was_home', 'yellow_cards', 'GW'],\n      dtype='object')"
     },
     "execution_count": 58,
     "metadata": {},
     "output_type": "execute_result"
    }
   ],
   "source": [
    "merged_gw1920.columns"
   ]
  },
  {
   "cell_type": "code",
   "execution_count": 59,
   "metadata": {
    "collapsed": false,
    "pycharm": {
     "name": "#%%\n"
    }
   },
   "outputs": [],
   "source": [
    "# sort rows by column 'GW' ascending\n",
    "merged_gw1920.sort_values(by='GW', inplace=True)"
   ]
  },
  {
   "cell_type": "markdown",
   "metadata": {},
   "source": [
    "### Compare columns from 20-21 and 19-20 season data"
   ]
  },
  {
   "cell_type": "code",
   "execution_count": 60,
   "metadata": {},
   "outputs": [
    {
     "data": {
      "text/plain": "Index(['position', 'team', 'xP'], dtype='object')"
     },
     "execution_count": 60,
     "metadata": {},
     "output_type": "execute_result"
    }
   ],
   "source": [
    "merged_gw_2021.columns.difference(merged_gw1920.columns)"
   ]
  },
  {
   "cell_type": "markdown",
   "metadata": {
    "collapsed": false
   },
   "source": [
    "## Extract 19-20 Jamie Vardy data"
   ]
  },
  {
   "cell_type": "code",
   "execution_count": 61,
   "metadata": {
    "collapsed": false,
    "pycharm": {
     "name": "#%%\n"
    }
   },
   "outputs": [],
   "source": [
    "# extract rows where 'name' contains 'Vardy'\n",
    "vardy_data1920 = merged_gw1920[merged_gw1920['name'].str.contains('Vardy')]"
   ]
  },
  {
   "cell_type": "code",
   "execution_count": 62,
   "metadata": {
    "collapsed": false,
    "pycharm": {
     "name": "#%%\n"
    }
   },
   "outputs": [
    {
     "data": {
      "text/plain": "                 name  assists  bonus  bps  clean_sheets  creativity  element  \\\n232   Jamie_Vardy_166        0      0    5             1         4.9      166   \n760   Jamie_Vardy_166        0      0   -3             0         2.3      166   \n1289  Jamie_Vardy_166        0      2   25             0         1.8      166   \n1821  Jamie_Vardy_166        1      3   63             0        13.6      166   \n2357  Jamie_Vardy_166        0      0    5             0        11.3      166   \n\n      fixture  goals_conceded  goals_scored  ...  team_h_score  threat  \\\n232         5               0             0  ...           0.0     4.0   \n760        14               1             0  ...           1.0    10.0   \n1289       27               1             1  ...           1.0    27.0   \n1821       36               1             2  ...           3.0    45.0   \n2357       45               1             0  ...           1.0     4.0   \n\n     total_points  transfers_balance  transfers_in  transfers_out  value  \\\n232             2                  0             0              0     90   \n760             2             -82257         18334         100591     90   \n1289            8             -78612         32101         110713     89   \n1821           16              -7210         49194          56404     89   \n2357            2              83507        136063          52556     89   \n\n      was_home  yellow_cards  GW  \n232       True             0   1  \n760      False             0   2  \n1289     False             0   3  \n1821      True             0   4  \n2357     False             0   5  \n\n[5 rows x 33 columns]",
      "text/html": "<div>\n<style scoped>\n    .dataframe tbody tr th:only-of-type {\n        vertical-align: middle;\n    }\n\n    .dataframe tbody tr th {\n        vertical-align: top;\n    }\n\n    .dataframe thead th {\n        text-align: right;\n    }\n</style>\n<table border=\"1\" class=\"dataframe\">\n  <thead>\n    <tr style=\"text-align: right;\">\n      <th></th>\n      <th>name</th>\n      <th>assists</th>\n      <th>bonus</th>\n      <th>bps</th>\n      <th>clean_sheets</th>\n      <th>creativity</th>\n      <th>element</th>\n      <th>fixture</th>\n      <th>goals_conceded</th>\n      <th>goals_scored</th>\n      <th>...</th>\n      <th>team_h_score</th>\n      <th>threat</th>\n      <th>total_points</th>\n      <th>transfers_balance</th>\n      <th>transfers_in</th>\n      <th>transfers_out</th>\n      <th>value</th>\n      <th>was_home</th>\n      <th>yellow_cards</th>\n      <th>GW</th>\n    </tr>\n  </thead>\n  <tbody>\n    <tr>\n      <th>232</th>\n      <td>Jamie_Vardy_166</td>\n      <td>0</td>\n      <td>0</td>\n      <td>5</td>\n      <td>1</td>\n      <td>4.9</td>\n      <td>166</td>\n      <td>5</td>\n      <td>0</td>\n      <td>0</td>\n      <td>...</td>\n      <td>0.0</td>\n      <td>4.0</td>\n      <td>2</td>\n      <td>0</td>\n      <td>0</td>\n      <td>0</td>\n      <td>90</td>\n      <td>True</td>\n      <td>0</td>\n      <td>1</td>\n    </tr>\n    <tr>\n      <th>760</th>\n      <td>Jamie_Vardy_166</td>\n      <td>0</td>\n      <td>0</td>\n      <td>-3</td>\n      <td>0</td>\n      <td>2.3</td>\n      <td>166</td>\n      <td>14</td>\n      <td>1</td>\n      <td>0</td>\n      <td>...</td>\n      <td>1.0</td>\n      <td>10.0</td>\n      <td>2</td>\n      <td>-82257</td>\n      <td>18334</td>\n      <td>100591</td>\n      <td>90</td>\n      <td>False</td>\n      <td>0</td>\n      <td>2</td>\n    </tr>\n    <tr>\n      <th>1289</th>\n      <td>Jamie_Vardy_166</td>\n      <td>0</td>\n      <td>2</td>\n      <td>25</td>\n      <td>0</td>\n      <td>1.8</td>\n      <td>166</td>\n      <td>27</td>\n      <td>1</td>\n      <td>1</td>\n      <td>...</td>\n      <td>1.0</td>\n      <td>27.0</td>\n      <td>8</td>\n      <td>-78612</td>\n      <td>32101</td>\n      <td>110713</td>\n      <td>89</td>\n      <td>False</td>\n      <td>0</td>\n      <td>3</td>\n    </tr>\n    <tr>\n      <th>1821</th>\n      <td>Jamie_Vardy_166</td>\n      <td>1</td>\n      <td>3</td>\n      <td>63</td>\n      <td>0</td>\n      <td>13.6</td>\n      <td>166</td>\n      <td>36</td>\n      <td>1</td>\n      <td>2</td>\n      <td>...</td>\n      <td>3.0</td>\n      <td>45.0</td>\n      <td>16</td>\n      <td>-7210</td>\n      <td>49194</td>\n      <td>56404</td>\n      <td>89</td>\n      <td>True</td>\n      <td>0</td>\n      <td>4</td>\n    </tr>\n    <tr>\n      <th>2357</th>\n      <td>Jamie_Vardy_166</td>\n      <td>0</td>\n      <td>0</td>\n      <td>5</td>\n      <td>0</td>\n      <td>11.3</td>\n      <td>166</td>\n      <td>45</td>\n      <td>1</td>\n      <td>0</td>\n      <td>...</td>\n      <td>1.0</td>\n      <td>4.0</td>\n      <td>2</td>\n      <td>83507</td>\n      <td>136063</td>\n      <td>52556</td>\n      <td>89</td>\n      <td>False</td>\n      <td>0</td>\n      <td>5</td>\n    </tr>\n  </tbody>\n</table>\n<p>5 rows × 33 columns</p>\n</div>"
     },
     "execution_count": 62,
     "metadata": {},
     "output_type": "execute_result"
    }
   ],
   "source": [
    "vardy_data1920.head()"
   ]
  },
  {
   "cell_type": "code",
   "execution_count": 63,
   "metadata": {
    "collapsed": false,
    "pycharm": {
     "name": "#%%\n"
    }
   },
   "outputs": [
    {
     "data": {
      "text/plain": "<Figure size 432x288 with 1 Axes>",
      "image/png": "[encoded data removed]"
     },
     "metadata": {
      "needs_background": "light"
     },
     "output_type": "display_data"
    }
   ],
   "source": [
    "plt.plot(vardy_data1920['GW'], vardy_data1920['total_points']);"
   ]
  },
  {
   "cell_type": "markdown",
   "metadata": {
    "collapsed": false
   },
   "source": [
    "## Data preprocessing for merging 2 seasons data"
   ]
  },
  {
   "cell_type": "markdown",
   "metadata": {},
   "source": [
    "## Add understat data 19-20"
   ]
  },
  {
   "cell_type": "code",
   "execution_count": 64,
   "metadata": {
    "collapsed": false,
    "pycharm": {
     "name": "#%%\n"
    }
   },
   "outputs": [
    {
     "data": {
      "text/plain": "   goals  shots        xG  time position       h_team     a_team  h_goals  \\\n0      0      0  0.000000    62       FW    Leicester      Leeds        1   \n1      1      2  0.474730    16      Sub      Burnley  Leicester        0   \n2      0      2  0.149755    90       FW    Leicester  Liverpool        1   \n3      0      0  0.000000    22      Sub  Aston Villa  Leicester        2   \n4      0      3  0.508952    90       FW  Southampton  Leicester        2   \n\n   a_goals        date     id  season  roster_id        xA  assists  \\\n0        0  2022-03-05  16648    2021     517260  0.000000        0   \n1        2  2022-03-01  16588    2021     517091  0.087236        1   \n2        0  2021-12-28  16573    2021     505323  0.320443        0   \n3        1  2021-12-05  16516    2021     500887  0.000000        0   \n4        2  2021-12-01  16514    2021     499112  0.101893        0   \n\n   key_passes  npg      npxG   xGChain  xGBuildup  \n0           0    0  0.000000  0.000000   0.000000  \n1           2    1  0.474730  0.561967   0.000000  \n2           1    0  0.149755  0.470198   0.000000  \n3           0    0  0.000000  0.000000   0.000000  \n4           2    0  0.508952  0.594523   0.160227  ",
      "text/html": "<div>\n<style scoped>\n    .dataframe tbody tr th:only-of-type {\n        vertical-align: middle;\n    }\n\n    .dataframe tbody tr th {\n        vertical-align: top;\n    }\n\n    .dataframe thead th {\n        text-align: right;\n    }\n</style>\n<table border=\"1\" class=\"dataframe\">\n  <thead>\n    <tr style=\"text-align: right;\">\n      <th></th>\n      <th>goals</th>\n      <th>shots</th>\n      <th>xG</th>\n      <th>time</th>\n      <th>position</th>\n      <th>h_team</th>\n      <th>a_team</th>\n      <th>h_goals</th>\n      <th>a_goals</th>\n      <th>date</th>\n      <th>id</th>\n      <th>season</th>\n      <th>roster_id</th>\n      <th>xA</th>\n      <th>assists</th>\n      <th>key_passes</th>\n      <th>npg</th>\n      <th>npxG</th>\n      <th>xGChain</th>\n      <th>xGBuildup</th>\n    </tr>\n  </thead>\n  <tbody>\n    <tr>\n      <th>0</th>\n      <td>0</td>\n      <td>0</td>\n      <td>0.000000</td>\n      <td>62</td>\n      <td>FW</td>\n      <td>Leicester</td>\n      <td>Leeds</td>\n      <td>1</td>\n      <td>0</td>\n      <td>2022-03-05</td>\n      <td>16648</td>\n      <td>2021</td>\n      <td>517260</td>\n      <td>0.000000</td>\n      <td>0</td>\n      <td>0</td>\n      <td>0</td>\n      <td>0.000000</td>\n      <td>0.000000</td>\n      <td>0.000000</td>\n    </tr>\n    <tr>\n      <th>1</th>\n      <td>1</td>\n      <td>2</td>\n      <td>0.474730</td>\n      <td>16</td>\n      <td>Sub</td>\n      <td>Burnley</td>\n      <td>Leicester</td>\n      <td>0</td>\n      <td>2</td>\n      <td>2022-03-01</td>\n      <td>16588</td>\n      <td>2021</td>\n      <td>517091</td>\n      <td>0.087236</td>\n      <td>1</td>\n      <td>2</td>\n      <td>1</td>\n      <td>0.474730</td>\n      <td>0.561967</td>\n      <td>0.000000</td>\n    </tr>\n    <tr>\n      <th>2</th>\n      <td>0</td>\n      <td>2</td>\n      <td>0.149755</td>\n      <td>90</td>\n      <td>FW</td>\n      <td>Leicester</td>\n      <td>Liverpool</td>\n      <td>1</td>\n      <td>0</td>\n      <td>2021-12-28</td>\n      <td>16573</td>\n      <td>2021</td>\n      <td>505323</td>\n      <td>0.320443</td>\n      <td>0</td>\n      <td>1</td>\n      <td>0</td>\n      <td>0.149755</td>\n      <td>0.470198</td>\n      <td>0.000000</td>\n    </tr>\n    <tr>\n      <th>3</th>\n      <td>0</td>\n      <td>0</td>\n      <td>0.000000</td>\n      <td>22</td>\n      <td>Sub</td>\n      <td>Aston Villa</td>\n      <td>Leicester</td>\n      <td>2</td>\n      <td>1</td>\n      <td>2021-12-05</td>\n      <td>16516</td>\n      <td>2021</td>\n      <td>500887</td>\n      <td>0.000000</td>\n      <td>0</td>\n      <td>0</td>\n      <td>0</td>\n      <td>0.000000</td>\n      <td>0.000000</td>\n      <td>0.000000</td>\n    </tr>\n    <tr>\n      <th>4</th>\n      <td>0</td>\n      <td>3</td>\n      <td>0.508952</td>\n      <td>90</td>\n      <td>FW</td>\n      <td>Southampton</td>\n      <td>Leicester</td>\n      <td>2</td>\n      <td>2</td>\n      <td>2021-12-01</td>\n      <td>16514</td>\n      <td>2021</td>\n      <td>499112</td>\n      <td>0.101893</td>\n      <td>0</td>\n      <td>2</td>\n      <td>0</td>\n      <td>0.508952</td>\n      <td>0.594523</td>\n      <td>0.160227</td>\n    </tr>\n  </tbody>\n</table>\n</div>"
     },
     "execution_count": 64,
     "metadata": {},
     "output_type": "execute_result"
    }
   ],
   "source": [
    "vardy_understat.head()"
   ]
  },
  {
   "cell_type": "code",
   "execution_count": 65,
   "metadata": {
    "collapsed": false,
    "pycharm": {
     "name": "#%%\n"
    }
   },
   "outputs": [
    {
     "name": "stderr",
     "output_type": "stream",
     "text": [
      "C:\\Users\\gracj\\AppData\\Local\\Temp\\ipykernel_9732\\936593865.py:2: SettingWithCopyWarning: \n",
      "A value is trying to be set on a copy of a slice from a DataFrame.\n",
      "Try using .loc[row_indexer,col_indexer] = value instead\n",
      "\n",
      "See the caveats in the documentation: https://pandas.pydata.org/pandas-docs/stable/user_guide/indexing.html#returning-a-view-versus-a-copy\n",
      "  vardy_data1920['date'] = vardy_data1920['kickoff_time'].str.split('T').str[0]\n",
      "C:\\Users\\gracj\\AppData\\Local\\Temp\\ipykernel_9732\\936593865.py:3: SettingWithCopyWarning: \n",
      "A value is trying to be set on a copy of a slice from a DataFrame\n",
      "\n",
      "See the caveats in the documentation: https://pandas.pydata.org/pandas-docs/stable/user_guide/indexing.html#returning-a-view-versus-a-copy\n",
      "  vardy_data1920.drop(['kickoff_time'], axis=1, inplace=True)\n"
     ]
    }
   ],
   "source": [
    "# clean what's after \"T\" in the kickoff_time column from vardy_data1920\n",
    "vardy_data1920['date'] = vardy_data1920['kickoff_time'].str.split('T').str[0]\n",
    "vardy_data1920.drop(['kickoff_time'], axis=1, inplace=True)"
   ]
  },
  {
   "cell_type": "code",
   "execution_count": 66,
   "metadata": {
    "collapsed": false,
    "pycharm": {
     "name": "#%%\n"
    }
   },
   "outputs": [],
   "source": [
    "vardy_data_understat_1920 = vardy_data1920.merge(vardy_understat, on='date', how='left')"
   ]
  },
  {
   "cell_type": "code",
   "execution_count": 67,
   "metadata": {
    "collapsed": false,
    "pycharm": {
     "name": "#%%\n"
    }
   },
   "outputs": [
    {
     "data": {
      "text/plain": "Index(['name', 'assists_x', 'bonus', 'bps', 'clean_sheets', 'creativity',\n       'element', 'fixture', 'goals_conceded', 'goals_scored', 'ict_index',\n       'influence', 'minutes', 'opponent_team', 'own_goals',\n       'penalties_missed', 'penalties_saved', 'red_cards', 'round', 'saves',\n       'selected', 'team_a_score', 'team_h_score', 'threat', 'total_points',\n       'transfers_balance', 'transfers_in', 'transfers_out', 'value',\n       'was_home', 'yellow_cards', 'GW', 'date', 'goals', 'shots', 'xG',\n       'time', 'position', 'h_team', 'a_team', 'h_goals', 'a_goals', 'id',\n       'season', 'roster_id', 'xA', 'assists_y', 'key_passes', 'npg', 'npxG',\n       'xGChain', 'xGBuildup'],\n      dtype='object')"
     },
     "execution_count": 67,
     "metadata": {},
     "output_type": "execute_result"
    }
   ],
   "source": [
    "vardy_data_understat_1920.columns"
   ]
  },
  {
   "cell_type": "code",
   "execution_count": 68,
   "metadata": {
    "collapsed": false,
    "pycharm": {
     "name": "#%%\n"
    }
   },
   "outputs": [],
   "source": [
    "vardy_data_understat_1920 = vardy_data_understat_1920.drop(['goals', 'time', 'position', 'h_team', 'a_team', 'h_goals', 'a_goals', 'id', 'season', 'roster_id', 'assists_y'], axis=1)"
   ]
  },
  {
   "cell_type": "code",
   "execution_count": 69,
   "metadata": {
    "collapsed": false,
    "pycharm": {
     "name": "#%%\n"
    }
   },
   "outputs": [],
   "source": [
    "# insert 0's for missing values\n",
    "vardy_data_understat_1920.fillna(0, inplace=True)"
   ]
  },
  {
   "cell_type": "code",
   "execution_count": 70,
   "metadata": {
    "collapsed": false,
    "pycharm": {
     "name": "#%%\n"
    }
   },
   "outputs": [
    {
     "data": {
      "text/plain": "              name  assists_x  bonus  bps  clean_sheets  creativity  element  \\\n0  Jamie_Vardy_166          0      0    5             1         4.9      166   \n1  Jamie_Vardy_166          0      0   -3             0         2.3      166   \n2  Jamie_Vardy_166          0      2   25             0         1.8      166   \n3  Jamie_Vardy_166          1      3   63             0        13.6      166   \n4  Jamie_Vardy_166          0      0    5             0        11.3      166   \n\n   fixture  goals_conceded  goals_scored  ...  GW        date  shots  \\\n0        5               0             0  ...   1  2019-08-11    0.0   \n1       14               1             0  ...   2  2019-08-18    1.0   \n2       27               1             1  ...   3  2019-08-24    2.0   \n3       36               1             2  ...   4  2019-08-31    3.0   \n4       45               1             0  ...   5  2019-09-14    0.0   \n\n         xG        xA  key_passes  npg      npxG   xGChain  xGBuildup  \n0  0.000000  0.000000         0.0  0.0  0.000000  0.038629   0.038629  \n1  0.048942  0.000000         0.0  0.0  0.048942  0.048942   0.000000  \n2  0.396917  0.000000         0.0  1.0  0.396917  0.419141   0.022224  \n3  0.665877  0.639668         1.0  2.0  0.665877  1.364839   0.059293  \n4  0.000000  0.019860         1.0  0.0  0.000000  0.019860   0.000000  \n\n[5 rows x 41 columns]",
      "text/html": "<div>\n<style scoped>\n    .dataframe tbody tr th:only-of-type {\n        vertical-align: middle;\n    }\n\n    .dataframe tbody tr th {\n        vertical-align: top;\n    }\n\n    .dataframe thead th {\n        text-align: right;\n    }\n</style>\n<table border=\"1\" class=\"dataframe\">\n  <thead>\n    <tr style=\"text-align: right;\">\n      <th></th>\n      <th>name</th>\n      <th>assists_x</th>\n      <th>bonus</th>\n      <th>bps</th>\n      <th>clean_sheets</th>\n      <th>creativity</th>\n      <th>element</th>\n      <th>fixture</th>\n      <th>goals_conceded</th>\n      <th>goals_scored</th>\n      <th>...</th>\n      <th>GW</th>\n      <th>date</th>\n      <th>shots</th>\n      <th>xG</th>\n      <th>xA</th>\n      <th>key_passes</th>\n      <th>npg</th>\n      <th>npxG</th>\n      <th>xGChain</th>\n      <th>xGBuildup</th>\n    </tr>\n  </thead>\n  <tbody>\n    <tr>\n      <th>0</th>\n      <td>Jamie_Vardy_166</td>\n      <td>0</td>\n      <td>0</td>\n      <td>5</td>\n      <td>1</td>\n      <td>4.9</td>\n      <td>166</td>\n      <td>5</td>\n      <td>0</td>\n      <td>0</td>\n      <td>...</td>\n      <td>1</td>\n      <td>2019-08-11</td>\n      <td>0.0</td>\n      <td>0.000000</td>\n      <td>0.000000</td>\n      <td>0.0</td>\n      <td>0.0</td>\n      <td>0.000000</td>\n      <td>0.038629</td>\n      <td>0.038629</td>\n    </tr>\n    <tr>\n      <th>1</th>\n      <td>Jamie_Vardy_166</td>\n      <td>0</td>\n      <td>0</td>\n      <td>-3</td>\n      <td>0</td>\n      <td>2.3</td>\n      <td>166</td>\n      <td>14</td>\n      <td>1</td>\n      <td>0</td>\n      <td>...</td>\n      <td>2</td>\n      <td>2019-08-18</td>\n      <td>1.0</td>\n      <td>0.048942</td>\n      <td>0.000000</td>\n      <td>0.0</td>\n      <td>0.0</td>\n      <td>0.048942</td>\n      <td>0.048942</td>\n      <td>0.000000</td>\n    </tr>\n    <tr>\n      <th>2</th>\n      <td>Jamie_Vardy_166</td>\n      <td>0</td>\n      <td>2</td>\n      <td>25</td>\n      <td>0</td>\n      <td>1.8</td>\n      <td>166</td>\n      <td>27</td>\n      <td>1</td>\n      <td>1</td>\n      <td>...</td>\n      <td>3</td>\n      <td>2019-08-24</td>\n      <td>2.0</td>\n      <td>0.396917</td>\n      <td>0.000000</td>\n      <td>0.0</td>\n      <td>1.0</td>\n      <td>0.396917</td>\n      <td>0.419141</td>\n      <td>0.022224</td>\n    </tr>\n    <tr>\n      <th>3</th>\n      <td>Jamie_Vardy_166</td>\n      <td>1</td>\n      <td>3</td>\n      <td>63</td>\n      <td>0</td>\n      <td>13.6</td>\n      <td>166</td>\n      <td>36</td>\n      <td>1</td>\n      <td>2</td>\n      <td>...</td>\n      <td>4</td>\n      <td>2019-08-31</td>\n      <td>3.0</td>\n      <td>0.665877</td>\n      <td>0.639668</td>\n      <td>1.0</td>\n      <td>2.0</td>\n      <td>0.665877</td>\n      <td>1.364839</td>\n      <td>0.059293</td>\n    </tr>\n    <tr>\n      <th>4</th>\n      <td>Jamie_Vardy_166</td>\n      <td>0</td>\n      <td>0</td>\n      <td>5</td>\n      <td>0</td>\n      <td>11.3</td>\n      <td>166</td>\n      <td>45</td>\n      <td>1</td>\n      <td>0</td>\n      <td>...</td>\n      <td>5</td>\n      <td>2019-09-14</td>\n      <td>0.0</td>\n      <td>0.000000</td>\n      <td>0.019860</td>\n      <td>1.0</td>\n      <td>0.0</td>\n      <td>0.000000</td>\n      <td>0.019860</td>\n      <td>0.000000</td>\n    </tr>\n  </tbody>\n</table>\n<p>5 rows × 41 columns</p>\n</div>"
     },
     "execution_count": 70,
     "metadata": {},
     "output_type": "execute_result"
    }
   ],
   "source": [
    "vardy_data_understat_1920.head()"
   ]
  },
  {
   "cell_type": "code",
   "execution_count": 71,
   "metadata": {
    "collapsed": false,
    "pycharm": {
     "name": "#%%\n"
    }
   },
   "outputs": [],
   "source": [
    "cleaned_data_understat_1920 = vardy_data_understat_1920.drop(['name', 'date', 'element', 'fixture', 'opponent_team', 'saves', 'penalties_saved', 'round', 'GW'], axis=1)"
   ]
  },
  {
   "cell_type": "code",
   "execution_count": 72,
   "metadata": {
    "collapsed": false,
    "pycharm": {
     "name": "#%%\n"
    }
   },
   "outputs": [],
   "source": [
    "# change was_home column to binary\n",
    "cleaned_data_understat_1920['was_home'] = cleaned_data_understat_1920['was_home'].map({True: 1, False: 0})"
   ]
  },
  {
   "cell_type": "code",
   "execution_count": 73,
   "metadata": {
    "collapsed": false,
    "pycharm": {
     "name": "#%%\n"
    }
   },
   "outputs": [
    {
     "data": {
      "text/plain": "   assists_x  bonus  bps  clean_sheets  creativity  goals_conceded  \\\n0          0      0    5             1         4.9               0   \n1          0      0   -3             0         2.3               1   \n2          0      2   25             0         1.8               1   \n3          1      3   63             0        13.6               1   \n4          0      0    5             0        11.3               1   \n\n   goals_scored  ict_index  influence  minutes  ...  was_home  yellow_cards  \\\n0             0        1.6        6.8       90  ...         1             0   \n1             0        0.9        0.0       90  ...         0             0   \n2             1        6.2       33.6       90  ...         0             0   \n3             2       14.6       87.6       90  ...         1             0   \n4             0        1.7        1.2       90  ...         0             0   \n\n   shots        xG        xA  key_passes  npg      npxG   xGChain  xGBuildup  \n0    0.0  0.000000  0.000000         0.0  0.0  0.000000  0.038629   0.038629  \n1    1.0  0.048942  0.000000         0.0  0.0  0.048942  0.048942   0.000000  \n2    2.0  0.396917  0.000000         0.0  1.0  0.396917  0.419141   0.022224  \n3    3.0  0.665877  0.639668         1.0  2.0  0.665877  1.364839   0.059293  \n4    0.0  0.000000  0.019860         1.0  0.0  0.000000  0.019860   0.000000  \n\n[5 rows x 32 columns]",
      "text/html": "<div>\n<style scoped>\n    .dataframe tbody tr th:only-of-type {\n        vertical-align: middle;\n    }\n\n    .dataframe tbody tr th {\n        vertical-align: top;\n    }\n\n    .dataframe thead th {\n        text-align: right;\n    }\n</style>\n<table border=\"1\" class=\"dataframe\">\n  <thead>\n    <tr style=\"text-align: right;\">\n      <th></th>\n      <th>assists_x</th>\n      <th>bonus</th>\n      <th>bps</th>\n      <th>clean_sheets</th>\n      <th>creativity</th>\n      <th>goals_conceded</th>\n      <th>goals_scored</th>\n      <th>ict_index</th>\n      <th>influence</th>\n      <th>minutes</th>\n      <th>...</th>\n      <th>was_home</th>\n      <th>yellow_cards</th>\n      <th>shots</th>\n      <th>xG</th>\n      <th>xA</th>\n      <th>key_passes</th>\n      <th>npg</th>\n      <th>npxG</th>\n      <th>xGChain</th>\n      <th>xGBuildup</th>\n    </tr>\n  </thead>\n  <tbody>\n    <tr>\n      <th>0</th>\n      <td>0</td>\n      <td>0</td>\n      <td>5</td>\n      <td>1</td>\n      <td>4.9</td>\n      <td>0</td>\n      <td>0</td>\n      <td>1.6</td>\n      <td>6.8</td>\n      <td>90</td>\n      <td>...</td>\n      <td>1</td>\n      <td>0</td>\n      <td>0.0</td>\n      <td>0.000000</td>\n      <td>0.000000</td>\n      <td>0.0</td>\n      <td>0.0</td>\n      <td>0.000000</td>\n      <td>0.038629</td>\n      <td>0.038629</td>\n    </tr>\n    <tr>\n      <th>1</th>\n      <td>0</td>\n      <td>0</td>\n      <td>-3</td>\n      <td>0</td>\n      <td>2.3</td>\n      <td>1</td>\n      <td>0</td>\n      <td>0.9</td>\n      <td>0.0</td>\n      <td>90</td>\n      <td>...</td>\n      <td>0</td>\n      <td>0</td>\n      <td>1.0</td>\n      <td>0.048942</td>\n      <td>0.000000</td>\n      <td>0.0</td>\n      <td>0.0</td>\n      <td>0.048942</td>\n      <td>0.048942</td>\n      <td>0.000000</td>\n    </tr>\n    <tr>\n      <th>2</th>\n      <td>0</td>\n      <td>2</td>\n      <td>25</td>\n      <td>0</td>\n      <td>1.8</td>\n      <td>1</td>\n      <td>1</td>\n      <td>6.2</td>\n      <td>33.6</td>\n      <td>90</td>\n      <td>...</td>\n      <td>0</td>\n      <td>0</td>\n      <td>2.0</td>\n      <td>0.396917</td>\n      <td>0.000000</td>\n      <td>0.0</td>\n      <td>1.0</td>\n      <td>0.396917</td>\n      <td>0.419141</td>\n      <td>0.022224</td>\n    </tr>\n    <tr>\n      <th>3</th>\n      <td>1</td>\n      <td>3</td>\n      <td>63</td>\n      <td>0</td>\n      <td>13.6</td>\n      <td>1</td>\n      <td>2</td>\n      <td>14.6</td>\n      <td>87.6</td>\n      <td>90</td>\n      <td>...</td>\n      <td>1</td>\n      <td>0</td>\n      <td>3.0</td>\n      <td>0.665877</td>\n      <td>0.639668</td>\n      <td>1.0</td>\n      <td>2.0</td>\n      <td>0.665877</td>\n      <td>1.364839</td>\n      <td>0.059293</td>\n    </tr>\n    <tr>\n      <th>4</th>\n      <td>0</td>\n      <td>0</td>\n      <td>5</td>\n      <td>0</td>\n      <td>11.3</td>\n      <td>1</td>\n      <td>0</td>\n      <td>1.7</td>\n      <td>1.2</td>\n      <td>90</td>\n      <td>...</td>\n      <td>0</td>\n      <td>0</td>\n      <td>0.0</td>\n      <td>0.000000</td>\n      <td>0.019860</td>\n      <td>1.0</td>\n      <td>0.0</td>\n      <td>0.000000</td>\n      <td>0.019860</td>\n      <td>0.000000</td>\n    </tr>\n  </tbody>\n</table>\n<p>5 rows × 32 columns</p>\n</div>"
     },
     "execution_count": 73,
     "metadata": {},
     "output_type": "execute_result"
    }
   ],
   "source": [
    "cleaned_data_understat_1920.head()"
   ]
  },
  {
   "cell_type": "code",
   "execution_count": 74,
   "metadata": {},
   "outputs": [
    {
     "data": {
      "text/plain": "   assists_x  bonus  bps  clean_sheets  creativity  goals_conceded  \\\n0          0      3   52             1        10.3               0   \n1          0      0    6             0        11.2               2   \n2          0      3   82             0         0.5               2   \n3          0      0   -2             0         1.4               3   \n4          0      0    0             0         0.0               0   \n\n   goals_scored  ict_index  influence  minutes  ...  was_home  yellow_cards  \\\n0             2       11.8       71.2       90  ...         0             0   \n1             0        3.6        2.6       90  ...         1             0   \n2             3       17.7      105.2       84  ...         0             0   \n3             0        1.8        2.6       90  ...         1             0   \n4             0        0.0        0.0        0  ...         1             0   \n\n   shots        xG        xA  key_passes  npg      npxG   xGChain  xGBuildup  \n0    2.0  1.522338  0.066219         1.0  0.0  0.000000  0.112795   0.046576  \n1    1.0  0.089161  0.096211         1.0  0.0  0.089161  0.277284   0.091911  \n2    3.0  1.965583  0.000000         0.0  1.0  0.443245  0.521428   0.078183  \n3    1.0  0.302199  0.000000         0.0  0.0  0.302199  0.302199   0.000000  \n4    0.0  0.000000  0.000000         0.0  0.0  0.000000  0.000000   0.000000  \n\n[5 rows x 32 columns]",
      "text/html": "<div>\n<style scoped>\n    .dataframe tbody tr th:only-of-type {\n        vertical-align: middle;\n    }\n\n    .dataframe tbody tr th {\n        vertical-align: top;\n    }\n\n    .dataframe thead th {\n        text-align: right;\n    }\n</style>\n<table border=\"1\" class=\"dataframe\">\n  <thead>\n    <tr style=\"text-align: right;\">\n      <th></th>\n      <th>assists_x</th>\n      <th>bonus</th>\n      <th>bps</th>\n      <th>clean_sheets</th>\n      <th>creativity</th>\n      <th>goals_conceded</th>\n      <th>goals_scored</th>\n      <th>ict_index</th>\n      <th>influence</th>\n      <th>minutes</th>\n      <th>...</th>\n      <th>was_home</th>\n      <th>yellow_cards</th>\n      <th>shots</th>\n      <th>xG</th>\n      <th>xA</th>\n      <th>key_passes</th>\n      <th>npg</th>\n      <th>npxG</th>\n      <th>xGChain</th>\n      <th>xGBuildup</th>\n    </tr>\n  </thead>\n  <tbody>\n    <tr>\n      <th>0</th>\n      <td>0</td>\n      <td>3</td>\n      <td>52</td>\n      <td>1</td>\n      <td>10.3</td>\n      <td>0</td>\n      <td>2</td>\n      <td>11.8</td>\n      <td>71.2</td>\n      <td>90</td>\n      <td>...</td>\n      <td>0</td>\n      <td>0</td>\n      <td>2.0</td>\n      <td>1.522338</td>\n      <td>0.066219</td>\n      <td>1.0</td>\n      <td>0.0</td>\n      <td>0.000000</td>\n      <td>0.112795</td>\n      <td>0.046576</td>\n    </tr>\n    <tr>\n      <th>1</th>\n      <td>0</td>\n      <td>0</td>\n      <td>6</td>\n      <td>0</td>\n      <td>11.2</td>\n      <td>2</td>\n      <td>0</td>\n      <td>3.6</td>\n      <td>2.6</td>\n      <td>90</td>\n      <td>...</td>\n      <td>1</td>\n      <td>0</td>\n      <td>1.0</td>\n      <td>0.089161</td>\n      <td>0.096211</td>\n      <td>1.0</td>\n      <td>0.0</td>\n      <td>0.089161</td>\n      <td>0.277284</td>\n      <td>0.091911</td>\n    </tr>\n    <tr>\n      <th>2</th>\n      <td>0</td>\n      <td>3</td>\n      <td>82</td>\n      <td>0</td>\n      <td>0.5</td>\n      <td>2</td>\n      <td>3</td>\n      <td>17.7</td>\n      <td>105.2</td>\n      <td>84</td>\n      <td>...</td>\n      <td>0</td>\n      <td>0</td>\n      <td>3.0</td>\n      <td>1.965583</td>\n      <td>0.000000</td>\n      <td>0.0</td>\n      <td>1.0</td>\n      <td>0.443245</td>\n      <td>0.521428</td>\n      <td>0.078183</td>\n    </tr>\n    <tr>\n      <th>3</th>\n      <td>0</td>\n      <td>0</td>\n      <td>-2</td>\n      <td>0</td>\n      <td>1.4</td>\n      <td>3</td>\n      <td>0</td>\n      <td>1.8</td>\n      <td>2.6</td>\n      <td>90</td>\n      <td>...</td>\n      <td>1</td>\n      <td>0</td>\n      <td>1.0</td>\n      <td>0.302199</td>\n      <td>0.000000</td>\n      <td>0.0</td>\n      <td>0.0</td>\n      <td>0.302199</td>\n      <td>0.302199</td>\n      <td>0.000000</td>\n    </tr>\n    <tr>\n      <th>4</th>\n      <td>0</td>\n      <td>0</td>\n      <td>0</td>\n      <td>0</td>\n      <td>0.0</td>\n      <td>0</td>\n      <td>0</td>\n      <td>0.0</td>\n      <td>0.0</td>\n      <td>0</td>\n      <td>...</td>\n      <td>1</td>\n      <td>0</td>\n      <td>0.0</td>\n      <td>0.000000</td>\n      <td>0.000000</td>\n      <td>0.0</td>\n      <td>0.0</td>\n      <td>0.000000</td>\n      <td>0.000000</td>\n      <td>0.000000</td>\n    </tr>\n  </tbody>\n</table>\n<p>5 rows × 32 columns</p>\n</div>"
     },
     "execution_count": 74,
     "metadata": {},
     "output_type": "execute_result"
    }
   ],
   "source": [
    "cleaned_data_understat.drop('xP', axis=1, inplace=True)\n",
    "cleaned_data_understat.head()"
   ]
  },
  {
   "cell_type": "code",
   "execution_count": 75,
   "metadata": {},
   "outputs": [],
   "source": [
    "vardy_data_2_seasons = pd.concat([cleaned_data_understat_1920, cleaned_data_understat], axis=0)"
   ]
  },
  {
   "cell_type": "code",
   "execution_count": 76,
   "metadata": {},
   "outputs": [
    {
     "data": {
      "text/plain": "(76, 32)"
     },
     "execution_count": 76,
     "metadata": {},
     "output_type": "execute_result"
    }
   ],
   "source": [
    "vardy_data_2_seasons.shape"
   ]
  },
  {
   "cell_type": "code",
   "execution_count": 77,
   "metadata": {},
   "outputs": [
    {
     "name": "stdout",
     "output_type": "stream",
     "text": [
      "Model: \"sequential_3\"\n",
      "_________________________________________________________________\n",
      " Layer (type)                Output Shape              Param #   \n",
      "=================================================================\n",
      " lstm_3 (LSTM)               (None, 150)               109200    \n",
      "                                                                 \n",
      " dense_3 (Dense)             (None, 1)                 151       \n",
      "                                                                 \n",
      "=================================================================\n",
      "Total params: 109,351\n",
      "Trainable params: 109,351\n",
      "Non-trainable params: 0\n",
      "_________________________________________________________________\n",
      "Epoch 1/20\n"
     ]
    },
    {
     "name": "stderr",
     "output_type": "stream",
     "text": [
      "C:\\Users\\gracj\\AppData\\Local\\Temp\\ipykernel_9732\\3438185243.py:32: UserWarning: `Model.fit_generator` is deprecated and will be removed in a future version. Please use `Model.fit`, which supports generators.\n",
      "  model.fit_generator(generator, epochs=20)\n"
     ]
    },
    {
     "name": "stdout",
     "output_type": "stream",
     "text": [
      "22/22 [==============================] - 1s 2ms/step - loss: 0.0628\n",
      "Epoch 2/20\n",
      "22/22 [==============================] - 0s 2ms/step - loss: 0.0366\n",
      "Epoch 3/20\n",
      "22/22 [==============================] - 0s 2ms/step - loss: 0.0242\n",
      "Epoch 4/20\n",
      "22/22 [==============================] - 0s 2ms/step - loss: 0.0103\n",
      "Epoch 5/20\n",
      "22/22 [==============================] - 0s 2ms/step - loss: 0.0042\n",
      "Epoch 6/20\n",
      "22/22 [==============================] - 0s 2ms/step - loss: 0.0028\n",
      "Epoch 7/20\n",
      "22/22 [==============================] - 0s 2ms/step - loss: 0.0022\n",
      "Epoch 8/20\n",
      "22/22 [==============================] - 0s 2ms/step - loss: 0.0015\n",
      "Epoch 9/20\n",
      "22/22 [==============================] - 0s 2ms/step - loss: 0.0012\n",
      "Epoch 10/20\n",
      "22/22 [==============================] - 0s 2ms/step - loss: 9.0534e-04\n",
      "Epoch 11/20\n",
      "22/22 [==============================] - 0s 2ms/step - loss: 6.8044e-04\n",
      "Epoch 12/20\n",
      "22/22 [==============================] - 0s 2ms/step - loss: 4.6330e-04\n",
      "Epoch 13/20\n",
      "22/22 [==============================] - 0s 2ms/step - loss: 3.6156e-04\n",
      "Epoch 14/20\n",
      "22/22 [==============================] - 0s 2ms/step - loss: 4.4018e-04\n",
      "Epoch 15/20\n",
      "22/22 [==============================] - 0s 2ms/step - loss: 6.0186e-04\n",
      "Epoch 16/20\n",
      "22/22 [==============================] - 0s 2ms/step - loss: 8.9482e-04\n",
      "Epoch 17/20\n",
      "22/22 [==============================] - 0s 2ms/step - loss: 6.0859e-04\n",
      "Epoch 18/20\n",
      "22/22 [==============================] - 0s 2ms/step - loss: 3.4470e-04\n",
      "Epoch 19/20\n",
      "22/22 [==============================] - 0s 2ms/step - loss: 3.7186e-04\n",
      "Epoch 20/20\n",
      "22/22 [==============================] - 0s 2ms/step - loss: 1.6585e-04\n",
      "[ 2  5  2  2 13]\n",
      "[2.2244208 2.691344  5.8434677 2.1633306 2.330841 ]\n",
      "   y_true    y_pred\n",
      "0       2  2.224421\n",
      "1       5  2.691344\n",
      "2       2  5.843468\n",
      "3       2  2.163331\n",
      "4      13  2.330841\n"
     ]
    },
    {
     "data": {
      "text/plain": "<Figure size 432x288 with 1 Axes>",
      "image/png": "[encoded data removed]"
     },
     "metadata": {
      "needs_background": "light"
     },
     "output_type": "display_data"
    },
    {
     "data": {
      "text/plain": "<Figure size 432x288 with 1 Axes>",
      "image/png": "[encoded data removed]"
     },
     "metadata": {
      "needs_background": "light"
     },
     "output_type": "display_data"
    }
   ],
   "source": [
    "train = vardy_data_2_seasons[:68]\n",
    "test = vardy_data_2_seasons[68:]\n",
    "\n",
    "plt.plot(range(len(train)), train['total_points'], label='train')\n",
    "plt.plot(range(len(train), train.shape[0]+test.shape[0]), test['total_points'], label='test')\n",
    "plt.legend();\n",
    "\n",
    "X_train = train.drop('total_points', axis=1).copy()\n",
    "y_train = train[['total_points']].copy()\n",
    "\n",
    "Xscaler = MinMaxScaler(feature_range=(0, 1))\n",
    "scaled_X_train = Xscaler.fit_transform(X_train)\n",
    "\n",
    "Yscaler = MinMaxScaler(feature_range=(0, 1))\n",
    "scaled_y_train = Yscaler.fit_transform(y_train)\n",
    "\n",
    "scaled_y_train = scaled_y_train.reshape(-1)\n",
    "\n",
    "scaled_y_train = np.insert(scaled_y_train, 0, 0)\n",
    "scaled_y_train = np.delete(scaled_y_train, -1)\n",
    "n_input = 3  #how many samples/rows/timesteps to look in the past in order to forecast the next sample\n",
    "n_features = X_train.shape[1]  # how many predictors/Xs/features we have to predict y\n",
    "b_size = 3  # Number of timeseries samples in each batch\n",
    "generator = TimeseriesGenerator(scaled_X_train, scaled_y_train, length=n_input, batch_size=b_size)\n",
    "\n",
    "## Build LSTM model\n",
    "model = Sequential()\n",
    "model.add(LSTM(150, activation='relu', input_shape=(n_input, n_features)))\n",
    "model.add(Dense(1))\n",
    "model.compile(optimizer='adam', loss='mse')\n",
    "model.summary()\n",
    "model.fit_generator(generator, epochs=20)\n",
    "X_test = test.drop('total_points', axis=1).copy()\n",
    "scaled_X_test = Xscaler.transform(X_test)\n",
    "\n",
    "test_generator = TimeseriesGenerator(scaled_X_test, np.zeros(len(X_test)), length=n_input, batch_size=b_size)\n",
    "\n",
    "y_pred_scaled = model.predict(test_generator)\n",
    "y_pred = Yscaler.inverse_transform(y_pred_scaled)\n",
    "\n",
    "y_pred_2 = y_pred\n",
    "\n",
    "print(test[['total_points']].values[n_input:].reshape(-1))\n",
    "print(y_pred.ravel())\n",
    "\n",
    "results_1 = pd.DataFrame({'y_true': test[['total_points']].values[n_input:].reshape(-1), 'y_pred': y_pred.ravel()})\n",
    "print(results_1)\n",
    "results_1.plot();"
   ]
  },
  {
   "cell_type": "markdown",
   "metadata": {},
   "source": [
    "## Compare results"
   ]
  },
  {
   "cell_type": "code",
   "execution_count": 78,
   "metadata": {},
   "outputs": [
    {
     "name": "stdout",
     "output_type": "stream",
     "text": [
      "   y_true  y_pred_without  y_pred_understat  y_pred_understat_2_seasons\n",
      "0       2        2.023769          2.766940                    2.224421\n",
      "1       5        2.106643          2.964801                    2.691344\n",
      "2       2        5.601632          6.454776                    5.843468\n",
      "3       2        1.139175          2.422499                    2.163331\n",
      "4      13        2.017569          2.518607                    2.330841\n"
     ]
    },
    {
     "data": {
      "text/plain": "<Figure size 432x288 with 1 Axes>",
      "image/png": "[encoded data removed]"
     },
     "metadata": {
      "needs_background": "light"
     },
     "output_type": "display_data"
    }
   ],
   "source": [
    "results_compare = pd.DataFrame({'y_true': test[['total_points']].values[n_input:].reshape(-1), 'y_pred_without': y_pred_0.ravel(), 'y_pred_understat': y_pred_1.ravel(), \n",
    "'y_pred_understat_2_seasons': y_pred_2.ravel()})\n",
    "print(results_compare)\n",
    "results_compare.plot();"
   ]
  },
  {
   "cell_type": "markdown",
   "metadata": {},
   "source": []
  }
 ],
 "metadata": {
  "kernelspec": {
   "display_name": "Python 3",
   "language": "python",
   "name": "python3"
  },
  "language_info": {
   "codemirror_mode": {
    "name": "ipython",
    "version": 3
   },
   "file_extension": ".py",
   "mimetype": "text/x-python",
   "name": "python",
   "nbconvert_exporter": "python",
   "pygments_lexer": "ipython3",
   "version": "3.9.12"
  }
 },
 "nbformat": 4,
 "nbformat_minor": 0
}