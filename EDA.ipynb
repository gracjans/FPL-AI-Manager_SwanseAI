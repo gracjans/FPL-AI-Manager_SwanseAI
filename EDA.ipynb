{
 "cells": [
  {
   "cell_type": "markdown",
   "source": [
    "# FPL Exploratory Data Analysis"
   ],
   "metadata": {
    "collapsed": false
   }
  },
  {
   "cell_type": "code",
   "execution_count": 11,
   "metadata": {
    "collapsed": true
   },
   "outputs": [],
   "source": [
    "import numpy as np\n",
    "import pandas as pd"
   ]
  },
  {
   "cell_type": "markdown",
   "source": [
    "## 1. Inspect cleaned_merged_seasons"
   ],
   "metadata": {
    "collapsed": false
   }
  },
  {
   "cell_type": "code",
   "execution_count": 12,
   "outputs": [
    {
     "name": "stderr",
     "output_type": "stream",
     "text": [
      "C:\\Users\\gracj\\AppData\\Local\\Temp\\ipykernel_13736\\4114656946.py:1: DtypeWarning: Columns (4) have mixed types. Specify dtype option on import or set low_memory=False.\n",
      "  cleaned_merged_seasons = pd.read_csv('data/cleaned_merged_seasons.csv', index_col=0)\n"
     ]
    }
   ],
   "source": [
    "cleaned_merged_seasons = pd.read_csv('data/cleaned_merged_seasons.csv', index_col=0)"
   ],
   "metadata": {
    "collapsed": false,
    "pycharm": {
     "name": "#%%\n"
    }
   }
  },
  {
   "cell_type": "code",
   "execution_count": 22,
   "outputs": [
    {
     "data": {
      "text/plain": "Index(['season_x', 'name', 'position', 'team_x', 'assists', 'bonus', 'bps',\n       'clean_sheets', 'creativity', 'element', 'fixture', 'goals_conceded',\n       'goals_scored', 'ict_index', 'influence', 'kickoff_time', 'minutes',\n       'opponent_team', 'opp_team_name', 'own_goals', 'penalties_missed',\n       'penalties_saved', 'red_cards', 'round', 'saves', 'selected',\n       'team_a_score', 'team_h_score', 'threat', 'total_points',\n       'transfers_balance', 'transfers_in', 'transfers_out', 'value',\n       'was_home', 'yellow_cards', 'GW'],\n      dtype='object')"
     },
     "execution_count": 22,
     "metadata": {},
     "output_type": "execute_result"
    }
   ],
   "source": [
    "# column names for the cleaned merged seasons dataframe\n",
    "cleaned_merged_seasons.columns"
   ],
   "metadata": {
    "collapsed": false,
    "pycharm": {
     "name": "#%%\n"
    }
   }
  },
  {
   "cell_type": "code",
   "execution_count": 15,
   "outputs": [
    {
     "data": {
      "text/plain": "True"
     },
     "execution_count": 15,
     "metadata": {},
     "output_type": "execute_result"
    }
   ],
   "source": [
    "# check if in every row of the cleaned merged seasons dataframe 'round' column is equal to the 'GW' column\n",
    "cleaned_merged_seasons['round'].equals(cleaned_merged_seasons['GW'])"
   ],
   "metadata": {
    "collapsed": false,
    "pycharm": {
     "name": "#%%\n"
    }
   }
  },
  {
   "cell_type": "markdown",
   "source": [
    "Column 'round' is equal to the 'GW' column (delete redundant column)\n",
    "\n",
    "Conclusion:\n",
    "**cleaned_merged_seasons data is not updated every game week, so it's better to use data from specific seasons folders**"
   ],
   "metadata": {
    "collapsed": false
   }
  },
  {
   "cell_type": "markdown",
   "source": [
    "## 2. Inspect data in season/gws folder"
   ],
   "metadata": {
    "collapsed": false
   }
  },
  {
   "cell_type": "markdown",
   "source": [
    "### 2.1 Inspect gws/gw1 data"
   ],
   "metadata": {
    "collapsed": false
   }
  },
  {
   "cell_type": "code",
   "execution_count": 17,
   "outputs": [],
   "source": [
    "gws_gw1 = pd.read_csv('data/2021-22/gws/gw1.csv')"
   ],
   "metadata": {
    "collapsed": false,
    "pycharm": {
     "name": "#%%\n"
    }
   }
  },
  {
   "cell_type": "code",
   "execution_count": 18,
   "outputs": [
    {
     "data": {
      "text/plain": "Index(['name', 'position', 'team', 'xP', 'assists', 'bonus', 'bps',\n       'clean_sheets', 'creativity', 'element', 'fixture', 'goals_conceded',\n       'goals_scored', 'ict_index', 'influence', 'kickoff_time', 'minutes',\n       'opponent_team', 'own_goals', 'penalties_missed', 'penalties_saved',\n       'red_cards', 'round', 'saves', 'selected', 'team_a_score',\n       'team_h_score', 'threat', 'total_points', 'transfers_balance',\n       'transfers_in', 'transfers_out', 'value', 'was_home', 'yellow_cards'],\n      dtype='object')"
     },
     "execution_count": 18,
     "metadata": {},
     "output_type": "execute_result"
    }
   ],
   "source": [
    "gws_gw1.columns"
   ],
   "metadata": {
    "collapsed": false,
    "pycharm": {
     "name": "#%%\n"
    }
   }
  },
  {
   "cell_type": "markdown",
   "source": [
    "### 2.2 Inspect gws/xP1 data"
   ],
   "metadata": {
    "collapsed": false
   }
  },
  {
   "cell_type": "code",
   "execution_count": 103,
   "outputs": [],
   "source": [
    "gws_xP1 = pd.read_csv('data/2021-22/gws/xP1.csv')"
   ],
   "metadata": {
    "collapsed": false,
    "pycharm": {
     "name": "#%%\n"
    }
   }
  },
  {
   "cell_type": "code",
   "execution_count": 104,
   "outputs": [
    {
     "data": {
      "text/plain": "   id   xP\n0   1  3.6\n1   2  2.0\n2   3  3.3\n3   4  1.1\n4   5  2.7\n5   6  0.9\n6   7  2.4\n7   8  2.7\n8   9  3.2\n9  10  2.7",
      "text/html": "<div>\n<style scoped>\n    .dataframe tbody tr th:only-of-type {\n        vertical-align: middle;\n    }\n\n    .dataframe tbody tr th {\n        vertical-align: top;\n    }\n\n    .dataframe thead th {\n        text-align: right;\n    }\n</style>\n<table border=\"1\" class=\"dataframe\">\n  <thead>\n    <tr style=\"text-align: right;\">\n      <th></th>\n      <th>id</th>\n      <th>xP</th>\n    </tr>\n  </thead>\n  <tbody>\n    <tr>\n      <th>0</th>\n      <td>1</td>\n      <td>3.6</td>\n    </tr>\n    <tr>\n      <th>1</th>\n      <td>2</td>\n      <td>2.0</td>\n    </tr>\n    <tr>\n      <th>2</th>\n      <td>3</td>\n      <td>3.3</td>\n    </tr>\n    <tr>\n      <th>3</th>\n      <td>4</td>\n      <td>1.1</td>\n    </tr>\n    <tr>\n      <th>4</th>\n      <td>5</td>\n      <td>2.7</td>\n    </tr>\n    <tr>\n      <th>5</th>\n      <td>6</td>\n      <td>0.9</td>\n    </tr>\n    <tr>\n      <th>6</th>\n      <td>7</td>\n      <td>2.4</td>\n    </tr>\n    <tr>\n      <th>7</th>\n      <td>8</td>\n      <td>2.7</td>\n    </tr>\n    <tr>\n      <th>8</th>\n      <td>9</td>\n      <td>3.2</td>\n    </tr>\n    <tr>\n      <th>9</th>\n      <td>10</td>\n      <td>2.7</td>\n    </tr>\n  </tbody>\n</table>\n</div>"
     },
     "execution_count": 104,
     "metadata": {},
     "output_type": "execute_result"
    }
   ],
   "source": [
    "gws_xP1.head(10)"
   ],
   "metadata": {
    "collapsed": false,
    "pycharm": {
     "name": "#%%\n"
    }
   }
  },
  {
   "cell_type": "markdown",
   "source": [
    "#### Check if data in gws_xP1 is the same as in 'xP' column of gws_gw1"
   ],
   "metadata": {
    "collapsed": false
   }
  },
  {
   "cell_type": "code",
   "execution_count": 105,
   "outputs": [],
   "source": [
    "gws_xP1_sorted = gws_xP1.sort_values(by='id').reset_index(drop=True)"
   ],
   "metadata": {
    "collapsed": false,
    "pycharm": {
     "name": "#%%\n"
    }
   }
  },
  {
   "cell_type": "code",
   "execution_count": 106,
   "outputs": [],
   "source": [
    "extracted_xP1_sorted = gws_gw1[['element', 'xP']].sort_values(by='element').rename(columns={'element': 'id'}).reset_index(drop=True)"
   ],
   "metadata": {
    "collapsed": false,
    "pycharm": {
     "name": "#%%\n"
    }
   }
  },
  {
   "cell_type": "code",
   "execution_count": 109,
   "outputs": [
    {
     "data": {
      "text/plain": "True"
     },
     "execution_count": 109,
     "metadata": {},
     "output_type": "execute_result"
    }
   ],
   "source": [
    "# compare gws_xP1 and extracted_xP1\n",
    "gws_xP1_sorted.compare(extracted_xP1_sorted)\n",
    "gws_xP1_sorted.equals(extracted_xP1_sorted)"
   ],
   "metadata": {
    "collapsed": false,
    "pycharm": {
     "name": "#%%\n"
    }
   }
  },
  {
   "cell_type": "markdown",
   "source": [
    "Conclusion:\n",
    "**Data from xPN files is presented as a column in game weeks data, so there is no need to use these files**"
   ],
   "metadata": {
    "collapsed": false
   }
  },
  {
   "cell_type": "markdown",
   "source": [
    "### 2.3 Inspect gws/merged_gw data"
   ],
   "metadata": {
    "collapsed": false
   }
  },
  {
   "cell_type": "code",
   "source": [
    "merged_gw = pd.read_csv('data/2021-22/gws/merged_gw.csv')"
   ],
   "metadata": {
    "collapsed": false,
    "pycharm": {
     "name": "#%%\n"
    }
   },
   "execution_count": 25,
   "outputs": []
  },
  {
   "cell_type": "code",
   "execution_count": 26,
   "outputs": [
    {
     "data": {
      "text/plain": "Index(['name', 'position', 'team', 'xP', 'assists', 'bonus', 'bps',\n       'clean_sheets', 'creativity', 'element', 'fixture', 'goals_conceded',\n       'goals_scored', 'ict_index', 'influence', 'kickoff_time', 'minutes',\n       'opponent_team', 'own_goals', 'penalties_missed', 'penalties_saved',\n       'red_cards', 'round', 'saves', 'selected', 'team_a_score',\n       'team_h_score', 'threat', 'total_points', 'transfers_balance',\n       'transfers_in', 'transfers_out', 'value', 'was_home', 'yellow_cards',\n       'GW'],\n      dtype='object')"
     },
     "execution_count": 26,
     "metadata": {},
     "output_type": "execute_result"
    }
   ],
   "source": [
    "merged_gw.columns"
   ],
   "metadata": {
    "collapsed": false,
    "pycharm": {
     "name": "#%%\n"
    }
   }
  },
  {
   "cell_type": "code",
   "execution_count": 41,
   "outputs": [
    {
     "data": {
      "text/plain": "True"
     },
     "execution_count": 41,
     "metadata": {},
     "output_type": "execute_result"
    }
   ],
   "source": [
    "merged_gw['round'].equals(merged_gw['GW'])"
   ],
   "metadata": {
    "collapsed": false,
    "pycharm": {
     "name": "#%%\n"
    }
   }
  },
  {
   "cell_type": "code",
   "execution_count": 33,
   "outputs": [
    {
     "data": {
      "text/plain": "Index(['GW'], dtype='object')"
     },
     "execution_count": 33,
     "metadata": {},
     "output_type": "execute_result"
    }
   ],
   "source": [
    "# show differences between columns in merged_gw and gws_gw1\n",
    "merged_gw.columns.difference(gws_gw1.columns)"
   ],
   "metadata": {
    "collapsed": false,
    "pycharm": {
     "name": "#%%\n"
    }
   }
  },
  {
   "cell_type": "markdown",
   "source": [
    "Conclusion:\n",
    "**merged_gw.csv contains data from every game week, so it's preferable to just use it instead of loading every gw data separately**\n",
    "It contains additional column 'GW' which is equal to the 'round' column (delete redundant column)"
   ],
   "metadata": {
    "collapsed": false
   }
  },
  {
   "cell_type": "markdown",
   "source": [
    "## 3. Inspect players data"
   ],
   "metadata": {
    "collapsed": false
   }
  },
  {
   "cell_type": "markdown",
   "source": [
    "### 3.1 Inspect players/Player_Name"
   ],
   "metadata": {
    "collapsed": false
   }
  },
  {
   "cell_type": "code",
   "execution_count": 20,
   "outputs": [],
   "source": [
    "moder_gw = pd.read_csv('data/2021-22/players/Jakub_Moder_75/gw.csv')"
   ],
   "metadata": {
    "collapsed": false,
    "pycharm": {
     "name": "#%%\n"
    }
   }
  },
  {
   "cell_type": "code",
   "execution_count": 39,
   "outputs": [
    {
     "data": {
      "text/plain": "Index(['assists', 'bonus', 'bps', 'clean_sheets', 'creativity', 'element',\n       'fixture', 'goals_conceded', 'goals_scored', 'ict_index', 'influence',\n       'kickoff_time', 'minutes', 'opponent_team', 'own_goals',\n       'penalties_missed', 'penalties_saved', 'red_cards', 'round', 'saves',\n       'selected', 'team_a_score', 'team_h_score', 'threat', 'total_points',\n       'transfers_balance', 'transfers_in', 'transfers_out', 'value',\n       'was_home', 'yellow_cards'],\n      dtype='object')"
     },
     "execution_count": 39,
     "metadata": {},
     "output_type": "execute_result"
    }
   ],
   "source": [
    "moder_gw.columns"
   ],
   "metadata": {
    "collapsed": false,
    "pycharm": {
     "name": "#%%\n"
    }
   }
  },
  {
   "cell_type": "code",
   "execution_count": 38,
   "outputs": [
    {
     "data": {
      "text/plain": "Index(['GW', 'name', 'position', 'team', 'xP'], dtype='object')"
     },
     "execution_count": 38,
     "metadata": {},
     "output_type": "execute_result"
    }
   ],
   "source": [
    "# show differences between columns in merged_gw and moder_gw\n",
    "merged_gw.columns.difference(moder_gw.columns)"
   ],
   "metadata": {
    "collapsed": false,
    "pycharm": {
     "name": "#%%\n"
    }
   }
  },
  {
   "cell_type": "markdown",
   "source": [
    "Conclusion:\n",
    "**It looks like there is also no point using data from 'players' folder**\n",
    "Each player has his own 'gw.csv' file with data from each game week, but it's preferable to get that data from 'merged_gw.csv' file where that information is in a single file.\n",
    "There is also 'hisotry.csv' file of every player which is overview of previous season, but it's also not needed since I use more detailed data from previous seasons"
   ],
   "metadata": {
    "collapsed": false
   }
  },
  {
   "cell_type": "markdown",
   "source": [
    "## 4. Inspect understat data"
   ],
   "metadata": {
    "collapsed": false
   }
  },
  {
   "cell_type": "markdown",
   "source": [
    "### 4.1 Inspect understat/Player_Name"
   ],
   "metadata": {
    "collapsed": false
   }
  },
  {
   "cell_type": "code",
   "execution_count": 113,
   "outputs": [],
   "source": [
    "moder_understat = pd.read_csv('data/2021-22/understat/Jakub_Moder_9284.csv')"
   ],
   "metadata": {
    "collapsed": false,
    "pycharm": {
     "name": "#%%\n"
    }
   }
  },
  {
   "cell_type": "code",
   "execution_count": 115,
   "outputs": [
    {
     "data": {
      "text/plain": "   goals  shots        xG  time position             h_team          a_team  \\\n0      0      0  0.000000    10      Sub           Brighton       Tottenham   \n1      0      0  0.000000    62       MC   Newcastle United        Brighton   \n2      0      1  0.046313    65       MC           Brighton     Aston Villa   \n3      0      0  0.000000    57       MR           Brighton         Burnley   \n4      0      3  0.380553    90      AMC  Manchester United        Brighton   \n5      0      3  0.308855    90       MC            Watford        Brighton   \n6      0      1  0.017743    90      AMC          Leicester        Brighton   \n7      0      1  0.094756    90       FW           Brighton         Chelsea   \n8      0      2  0.530660    90      AMC           Brighton  Crystal Palace   \n9      0      0  0.000000     6      Sub            Everton        Brighton   \n\n   h_goals  a_goals        date     id  season  roster_id        xA  assists  \\\n0        0        2  2022-03-16  16528    2021     520734  0.000000        0   \n1        2        1  2022-03-05  16651    2021     517569  0.138703        0   \n2        0        2  2022-02-26  16638    2021     516112  0.022925        0   \n3        0        3  2022-02-19  16628    2021     514181  0.000000        0   \n4        2        0  2022-02-15  16549    2021     513778  0.314073        0   \n5        0        2  2022-02-12  16625    2021     512693  0.293531        0   \n6        1        1  2022-01-23  16602    2021     510224  0.000000        0   \n7        1        1  2022-01-18  16607    2021     508923  0.000000        0   \n8        1        1  2022-01-14  16587    2021     507825  0.000000        0   \n9        2        3  2022-01-02  16580    2021     505591  0.000000        0   \n\n   key_passes  npg      npxG   xGChain  xGBuildup  \n0           0    0  0.000000  0.000000   0.000000  \n1           1    0  0.000000  0.138703   0.000000  \n2           1    0  0.046313  0.069237   0.000000  \n3           0    0  0.000000  0.000000   0.000000  \n4           1    0  0.380553  1.063944   0.369318  \n5           1    0  0.308855  0.482250   0.000000  \n6           0    0  0.017743  0.239173   0.221430  \n7           0    0  0.094756  0.550490   0.455734  \n8           0    0  0.530660  0.530660   0.000000  \n9           0    0  0.000000  0.000000   0.000000  ",
      "text/html": "<div>\n<style scoped>\n    .dataframe tbody tr th:only-of-type {\n        vertical-align: middle;\n    }\n\n    .dataframe tbody tr th {\n        vertical-align: top;\n    }\n\n    .dataframe thead th {\n        text-align: right;\n    }\n</style>\n<table border=\"1\" class=\"dataframe\">\n  <thead>\n    <tr style=\"text-align: right;\">\n      <th></th>\n      <th>goals</th>\n      <th>shots</th>\n      <th>xG</th>\n      <th>time</th>\n      <th>position</th>\n      <th>h_team</th>\n      <th>a_team</th>\n      <th>h_goals</th>\n      <th>a_goals</th>\n      <th>date</th>\n      <th>id</th>\n      <th>season</th>\n      <th>roster_id</th>\n      <th>xA</th>\n      <th>assists</th>\n      <th>key_passes</th>\n      <th>npg</th>\n      <th>npxG</th>\n      <th>xGChain</th>\n      <th>xGBuildup</th>\n    </tr>\n  </thead>\n  <tbody>\n    <tr>\n      <th>0</th>\n      <td>0</td>\n      <td>0</td>\n      <td>0.000000</td>\n      <td>10</td>\n      <td>Sub</td>\n      <td>Brighton</td>\n      <td>Tottenham</td>\n      <td>0</td>\n      <td>2</td>\n      <td>2022-03-16</td>\n      <td>16528</td>\n      <td>2021</td>\n      <td>520734</td>\n      <td>0.000000</td>\n      <td>0</td>\n      <td>0</td>\n      <td>0</td>\n      <td>0.000000</td>\n      <td>0.000000</td>\n      <td>0.000000</td>\n    </tr>\n    <tr>\n      <th>1</th>\n      <td>0</td>\n      <td>0</td>\n      <td>0.000000</td>\n      <td>62</td>\n      <td>MC</td>\n      <td>Newcastle United</td>\n      <td>Brighton</td>\n      <td>2</td>\n      <td>1</td>\n      <td>2022-03-05</td>\n      <td>16651</td>\n      <td>2021</td>\n      <td>517569</td>\n      <td>0.138703</td>\n      <td>0</td>\n      <td>1</td>\n      <td>0</td>\n      <td>0.000000</td>\n      <td>0.138703</td>\n      <td>0.000000</td>\n    </tr>\n    <tr>\n      <th>2</th>\n      <td>0</td>\n      <td>1</td>\n      <td>0.046313</td>\n      <td>65</td>\n      <td>MC</td>\n      <td>Brighton</td>\n      <td>Aston Villa</td>\n      <td>0</td>\n      <td>2</td>\n      <td>2022-02-26</td>\n      <td>16638</td>\n      <td>2021</td>\n      <td>516112</td>\n      <td>0.022925</td>\n      <td>0</td>\n      <td>1</td>\n      <td>0</td>\n      <td>0.046313</td>\n      <td>0.069237</td>\n      <td>0.000000</td>\n    </tr>\n    <tr>\n      <th>3</th>\n      <td>0</td>\n      <td>0</td>\n      <td>0.000000</td>\n      <td>57</td>\n      <td>MR</td>\n      <td>Brighton</td>\n      <td>Burnley</td>\n      <td>0</td>\n      <td>3</td>\n      <td>2022-02-19</td>\n      <td>16628</td>\n      <td>2021</td>\n      <td>514181</td>\n      <td>0.000000</td>\n      <td>0</td>\n      <td>0</td>\n      <td>0</td>\n      <td>0.000000</td>\n      <td>0.000000</td>\n      <td>0.000000</td>\n    </tr>\n    <tr>\n      <th>4</th>\n      <td>0</td>\n      <td>3</td>\n      <td>0.380553</td>\n      <td>90</td>\n      <td>AMC</td>\n      <td>Manchester United</td>\n      <td>Brighton</td>\n      <td>2</td>\n      <td>0</td>\n      <td>2022-02-15</td>\n      <td>16549</td>\n      <td>2021</td>\n      <td>513778</td>\n      <td>0.314073</td>\n      <td>0</td>\n      <td>1</td>\n      <td>0</td>\n      <td>0.380553</td>\n      <td>1.063944</td>\n      <td>0.369318</td>\n    </tr>\n    <tr>\n      <th>5</th>\n      <td>0</td>\n      <td>3</td>\n      <td>0.308855</td>\n      <td>90</td>\n      <td>MC</td>\n      <td>Watford</td>\n      <td>Brighton</td>\n      <td>0</td>\n      <td>2</td>\n      <td>2022-02-12</td>\n      <td>16625</td>\n      <td>2021</td>\n      <td>512693</td>\n      <td>0.293531</td>\n      <td>0</td>\n      <td>1</td>\n      <td>0</td>\n      <td>0.308855</td>\n      <td>0.482250</td>\n      <td>0.000000</td>\n    </tr>\n    <tr>\n      <th>6</th>\n      <td>0</td>\n      <td>1</td>\n      <td>0.017743</td>\n      <td>90</td>\n      <td>AMC</td>\n      <td>Leicester</td>\n      <td>Brighton</td>\n      <td>1</td>\n      <td>1</td>\n      <td>2022-01-23</td>\n      <td>16602</td>\n      <td>2021</td>\n      <td>510224</td>\n      <td>0.000000</td>\n      <td>0</td>\n      <td>0</td>\n      <td>0</td>\n      <td>0.017743</td>\n      <td>0.239173</td>\n      <td>0.221430</td>\n    </tr>\n    <tr>\n      <th>7</th>\n      <td>0</td>\n      <td>1</td>\n      <td>0.094756</td>\n      <td>90</td>\n      <td>FW</td>\n      <td>Brighton</td>\n      <td>Chelsea</td>\n      <td>1</td>\n      <td>1</td>\n      <td>2022-01-18</td>\n      <td>16607</td>\n      <td>2021</td>\n      <td>508923</td>\n      <td>0.000000</td>\n      <td>0</td>\n      <td>0</td>\n      <td>0</td>\n      <td>0.094756</td>\n      <td>0.550490</td>\n      <td>0.455734</td>\n    </tr>\n    <tr>\n      <th>8</th>\n      <td>0</td>\n      <td>2</td>\n      <td>0.530660</td>\n      <td>90</td>\n      <td>AMC</td>\n      <td>Brighton</td>\n      <td>Crystal Palace</td>\n      <td>1</td>\n      <td>1</td>\n      <td>2022-01-14</td>\n      <td>16587</td>\n      <td>2021</td>\n      <td>507825</td>\n      <td>0.000000</td>\n      <td>0</td>\n      <td>0</td>\n      <td>0</td>\n      <td>0.530660</td>\n      <td>0.530660</td>\n      <td>0.000000</td>\n    </tr>\n    <tr>\n      <th>9</th>\n      <td>0</td>\n      <td>0</td>\n      <td>0.000000</td>\n      <td>6</td>\n      <td>Sub</td>\n      <td>Everton</td>\n      <td>Brighton</td>\n      <td>2</td>\n      <td>3</td>\n      <td>2022-01-02</td>\n      <td>16580</td>\n      <td>2021</td>\n      <td>505591</td>\n      <td>0.000000</td>\n      <td>0</td>\n      <td>0</td>\n      <td>0</td>\n      <td>0.000000</td>\n      <td>0.000000</td>\n      <td>0.000000</td>\n    </tr>\n  </tbody>\n</table>\n</div>"
     },
     "execution_count": 115,
     "metadata": {},
     "output_type": "execute_result"
    }
   ],
   "source": [
    "moder_understat.head(10)"
   ],
   "metadata": {
    "collapsed": false,
    "pycharm": {
     "name": "#%%\n"
    }
   }
  },
  {
   "cell_type": "code",
   "execution_count": null,
   "outputs": [],
   "source": [],
   "metadata": {
    "collapsed": false,
    "pycharm": {
     "name": "#%%\n"
    }
   }
  }
 ],
 "metadata": {
  "kernelspec": {
   "display_name": "Python 3",
   "language": "python",
   "name": "python3"
  },
  "language_info": {
   "codemirror_mode": {
    "name": "ipython",
    "version": 2
   },
   "file_extension": ".py",
   "mimetype": "text/x-python",
   "name": "python",
   "nbconvert_exporter": "python",
   "pygments_lexer": "ipython2",
   "version": "2.7.6"
  }
 },
 "nbformat": 4,
 "nbformat_minor": 0
}