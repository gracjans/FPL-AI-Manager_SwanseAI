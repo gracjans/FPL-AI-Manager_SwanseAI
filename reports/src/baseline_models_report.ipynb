{
 "cells": [
  {
   "cell_type": "code",
   "execution_count": 13,
   "metadata": {
    "pycharm": {
     "name": "#%%\n"
    }
   },
   "outputs": [],
   "source": [
    "import pandas as pd\n",
    "import numpy as np"
   ]
  },
  {
   "cell_type": "markdown",
   "metadata": {
    "pycharm": {
     "name": "#%% md\n"
    }
   },
   "source": [
    "### Baseline models hyperparameters\n",
    "- **DummyRegressor** model: strategy \"mean\"\n",
    "- **DecisionTreeRegressor** model: scikit-learn default parameters (criterion='squared_error', splitter='best', max_depth=None, min_samples_split=2, min_samples_leaf=1)\n",
    "- **LinearSVR** model: scikit-learn default parameters (epsilon=0.0, tol=0.0001, C=1.0, loss='epsilon_insensitive)\n",
    "- **MLP** model: 3 dense layers, with 32, 16 and 1 neurons respectively, and activation function \"relu\"\n",
    "\n",
    "#### Each model is evaluated on the test set with mean squared error."
   ]
  },
  {
   "cell_type": "code",
   "execution_count": 14,
   "metadata": {
    "pycharm": {
     "name": "#%%\n"
    }
   },
   "outputs": [],
   "source": [
    "baseline_model = ['Dummy', 'DecisionTree', 'LinearSVR', 'MLP']\n",
    "baseline_loss_single_season = [6.1849, 9.0070, 5.2085, 4.7281]\n",
    "baseline_loss_merged_seasons = [6.2046, 9.3802, 5.2094, 4.4922]"
   ]
  },
  {
   "cell_type": "code",
   "execution_count": 15,
   "metadata": {
    "pycharm": {
     "name": "#%%\n"
    }
   },
   "outputs": [],
   "source": [
    "# create dataframe with baseline_model as columns and scores as values\n",
    "baseline_model_scores = pd.DataFrame(data=np.array([baseline_loss_single_season, baseline_loss_merged_seasons]), columns=baseline_model, index=['single_season', 'merged_seasons'])"
   ]
  },
  {
   "cell_type": "code",
   "execution_count": 16,
   "metadata": {
    "pycharm": {
     "name": "#%%\n"
    }
   },
   "outputs": [
    {
     "data": {
      "text/html": [
       "<div>\n",
       "<style scoped>\n",
       "    .dataframe tbody tr th:only-of-type {\n",
       "        vertical-align: middle;\n",
       "    }\n",
       "\n",
       "    .dataframe tbody tr th {\n",
       "        vertical-align: top;\n",
       "    }\n",
       "\n",
       "    .dataframe thead th {\n",
       "        text-align: right;\n",
       "    }\n",
       "</style>\n",
       "<table border=\"1\" class=\"dataframe\">\n",
       "  <thead>\n",
       "    <tr style=\"text-align: right;\">\n",
       "      <th></th>\n",
       "      <th>Dummy</th>\n",
       "      <th>DecisionTree</th>\n",
       "      <th>LinearSVR</th>\n",
       "      <th>MLP</th>\n",
       "    </tr>\n",
       "  </thead>\n",
       "  <tbody>\n",
       "    <tr>\n",
       "      <th>single_season</th>\n",
       "      <td>6.1849</td>\n",
       "      <td>9.0070</td>\n",
       "      <td>5.2085</td>\n",
       "      <td>4.7281</td>\n",
       "    </tr>\n",
       "    <tr>\n",
       "      <th>merged_seasons</th>\n",
       "      <td>6.2046</td>\n",
       "      <td>9.3802</td>\n",
       "      <td>5.2094</td>\n",
       "      <td>4.4922</td>\n",
       "    </tr>\n",
       "  </tbody>\n",
       "</table>\n",
       "</div>"
      ],
      "text/plain": [
       "                 Dummy  DecisionTree  LinearSVR     MLP\n",
       "single_season   6.1849        9.0070     5.2085  4.7281\n",
       "merged_seasons  6.2046        9.3802     5.2094  4.4922"
      ]
     },
     "execution_count": 16,
     "metadata": {},
     "output_type": "execute_result"
    }
   ],
   "source": [
    "baseline_model_scores"
   ]
  },
  {
   "cell_type": "markdown",
   "metadata": {
    "pycharm": {
     "name": "#%% md\n"
    }
   },
   "source": [
    "### Conclusion\n",
    "We can see that increasing number of data samples isn't improving mean squared error.\n",
    "To be sure that the model trained with more data isn't better I need to create my own evaluation, checking how many points did selected FPL squad gained.\n",
    "Now I'll add more features to the data, which will consist some information about previous performances of each player."
   ]
  }
 ],
 "metadata": {
  "kernelspec": {
   "display_name": "Python 3 (ipykernel)",
   "language": "python",
   "name": "python3"
  },
  "language_info": {
   "codemirror_mode": {
    "name": "ipython",
    "version": 3
   },
   "file_extension": ".py",
   "mimetype": "text/x-python",
   "name": "python",
   "nbconvert_exporter": "python",
   "pygments_lexer": "ipython3",
   "version": "3.9.2"
  }
 },
 "nbformat": 4,
 "nbformat_minor": 1
}