{
 "cells": [
  {
   "cell_type": "code",
   "execution_count": 3,
   "metadata": {
    "pycharm": {
     "name": "#%%\n"
    }
   },
   "outputs": [],
   "source": [
    "import pandas as pd\n",
    "import numpy as np"
   ]
  },
  {
   "cell_type": "markdown",
   "metadata": {
    "pycharm": {
     "name": "#%% md\n"
    }
   },
   "source": [
    "### Baseline models hyperparameters\n",
    "- **DummyRegressor** model: strategy \"mean\"\n",
    "- **DecisionTreeRegressor** model: scikit-learn default parameters (criterion='squared_error', splitter='best', max_depth=None, min_samples_split=2, min_samples_leaf=1)\n",
    "- **LinearSVR** model: scikit-learn default parameters (epsilon=0.0, tol=0.0001, C=1.0, loss='epsilon_insensitive)\n",
    "- **MLP** model: 3 dense layers, with 32, 16 and 1 neurons respectively, and activation function \"relu\"\n",
    "- **XGBoost** model: default parameters\n",
    "\n",
    "#### Each model is evaluated on the test set with mean squared error."
   ]
  },
  {
   "cell_type": "code",
   "execution_count": 4,
   "metadata": {
    "pycharm": {
     "name": "#%%\n"
    }
   },
   "outputs": [],
   "source": [
    "baseline_model = ['Dummy', 'DecisionTree', 'LinearSVR', 'MLP', 'XGBoost']\n",
    "baseline_loss_single_season = [6.1849, 9.0070, 5.2085, 4.7281, 4.7886]\n",
    "baseline_loss_merged_seasons = [6.2046, 9.3802, 5.2094, 4.4922, 4.6144]"
   ]
  },
  {
   "cell_type": "code",
   "execution_count": 5,
   "metadata": {
    "pycharm": {
     "name": "#%%\n"
    }
   },
   "outputs": [],
   "source": [
    "# create dataframe with baseline_model as columns and scores as values\n",
    "baseline_model_scores = pd.DataFrame(data=np.array([baseline_loss_single_season, baseline_loss_merged_seasons]), columns=baseline_model, index=['single_season', 'merged_seasons'])"
   ]
  },
  {
   "cell_type": "code",
   "execution_count": 6,
   "metadata": {
    "pycharm": {
     "name": "#%%\n"
    }
   },
   "outputs": [
    {
     "data": {
      "text/plain": "                 Dummy  DecisionTree  LinearSVR     MLP  XGBoost\nsingle_season   6.1849        9.0070     5.2085  4.7281   4.7886\nmerged_seasons  6.2046        9.3802     5.2094  4.4922   4.6144",
      "text/html": "<div>\n<style scoped>\n    .dataframe tbody tr th:only-of-type {\n        vertical-align: middle;\n    }\n\n    .dataframe tbody tr th {\n        vertical-align: top;\n    }\n\n    .dataframe thead th {\n        text-align: right;\n    }\n</style>\n<table border=\"1\" class=\"dataframe\">\n  <thead>\n    <tr style=\"text-align: right;\">\n      <th></th>\n      <th>Dummy</th>\n      <th>DecisionTree</th>\n      <th>LinearSVR</th>\n      <th>MLP</th>\n      <th>XGBoost</th>\n    </tr>\n  </thead>\n  <tbody>\n    <tr>\n      <th>single_season</th>\n      <td>6.1849</td>\n      <td>9.0070</td>\n      <td>5.2085</td>\n      <td>4.7281</td>\n      <td>4.7886</td>\n    </tr>\n    <tr>\n      <th>merged_seasons</th>\n      <td>6.2046</td>\n      <td>9.3802</td>\n      <td>5.2094</td>\n      <td>4.4922</td>\n      <td>4.6144</td>\n    </tr>\n  </tbody>\n</table>\n</div>"
     },
     "execution_count": 6,
     "metadata": {},
     "output_type": "execute_result"
    }
   ],
   "source": [
    "baseline_model_scores"
   ]
  },
  {
   "cell_type": "markdown",
   "source": [
    "### Conclusion\n",
    "We can see that increasing number of data samples isn't improving mean squared error, especially for simpler models like DecisionTreeRegressor. There is little improvement for MLP and XGBoost models, which are more complex and better handle bigger data.\n",
    "To be sure that the model trained with more data is better I need to create my own evaluation, checking how many points did selected FPL squad gained.\n",
    "Also, I'll add more features to the data, which will consist some information about previous performances of each player."
   ],
   "metadata": {
    "collapsed": false,
    "pycharm": {
     "name": "#%% md\n"
    }
   }
  }
 ],
 "metadata": {
  "kernelspec": {
   "display_name": "Python 3 (ipykernel)",
   "language": "python",
   "name": "python3"
  },
  "language_info": {
   "codemirror_mode": {
    "name": "ipython",
    "version": 3
   },
   "file_extension": ".py",
   "mimetype": "text/x-python",
   "name": "python",
   "nbconvert_exporter": "python",
   "pygments_lexer": "ipython3",
   "version": "3.9.2"
  }
 },
 "nbformat": 4,
 "nbformat_minor": 1
}