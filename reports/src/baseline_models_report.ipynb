{
 "cells": [
  {
   "cell_type": "code",
   "execution_count": 27,
   "metadata": {
    "pycharm": {
     "name": "#%%\n"
    }
   },
   "outputs": [],
   "source": [
    "import pandas as pd\n",
    "import numpy as np\n",
    "import matplotlib.pyplot as plt"
   ]
  },
  {
   "cell_type": "markdown",
   "metadata": {
    "pycharm": {
     "name": "#%% md\n"
    }
   },
   "source": [
    "### Baseline models hyperparameters\n",
    "- **DummyRegressor** model: strategy \"mean\"\n",
    "- **DecisionTreeRegressor** model: scikit-learn default parameters (criterion='squared_error', splitter='best', max_depth=None, min_samples_split=2, min_samples_leaf=1)\n",
    "- **LinearSVR** model: scikit-learn default parameters (epsilon=0.0, tol=0.0001, C=1.0, loss='epsilon_insensitive)\n",
    "- **MLP** model: 3 dense layers, with 32, 16 and 1 neurons respectively, and activation function \"relu\"\n",
    "- **XGBoost** model: default parameters\n",
    "\n",
    "#### Each model is evaluated on the test set with mean squared error."
   ]
  },
  {
   "cell_type": "code",
   "execution_count": 11,
   "metadata": {
    "pycharm": {
     "name": "#%%\n"
    }
   },
   "outputs": [],
   "source": [
    "baseline_model = ['Dummy', 'DecisionTree', 'LinearSVR', 'MLP', 'XGBoost']\n",
    "baseline_loss_single_season = [6.1849, 9.0070, 5.2085, 4.7281, 4.7886]\n",
    "baseline_loss_merged_seasons = [6.2046, 9.3802, 5.2094, 4.4922, 4.6144]\n"
   ]
  },
  {
   "cell_type": "code",
   "execution_count": 12,
   "metadata": {
    "pycharm": {
     "name": "#%%\n"
    }
   },
   "outputs": [],
   "source": [
    "# create dataframe with baseline_model as columns and scores as values\n",
    "baseline_model_scores = pd.DataFrame(data=np.array([baseline_loss_single_season, baseline_loss_merged_seasons]), columns=baseline_model, index=['single_season', 'merged_seasons'])"
   ]
  },
  {
   "cell_type": "code",
   "execution_count": 13,
   "metadata": {
    "pycharm": {
     "name": "#%%\n"
    }
   },
   "outputs": [
    {
     "data": {
      "text/plain": "                 Dummy  DecisionTree  LinearSVR     MLP  XGBoost\nsingle_season   6.1849        9.0070     5.2085  4.7281   4.7886\nmerged_seasons  6.2046        9.3802     5.2094  4.4922   4.6144",
      "text/html": "<div>\n<style scoped>\n    .dataframe tbody tr th:only-of-type {\n        vertical-align: middle;\n    }\n\n    .dataframe tbody tr th {\n        vertical-align: top;\n    }\n\n    .dataframe thead th {\n        text-align: right;\n    }\n</style>\n<table border=\"1\" class=\"dataframe\">\n  <thead>\n    <tr style=\"text-align: right;\">\n      <th></th>\n      <th>Dummy</th>\n      <th>DecisionTree</th>\n      <th>LinearSVR</th>\n      <th>MLP</th>\n      <th>XGBoost</th>\n    </tr>\n  </thead>\n  <tbody>\n    <tr>\n      <th>single_season</th>\n      <td>6.1849</td>\n      <td>9.0070</td>\n      <td>5.2085</td>\n      <td>4.7281</td>\n      <td>4.7886</td>\n    </tr>\n    <tr>\n      <th>merged_seasons</th>\n      <td>6.2046</td>\n      <td>9.3802</td>\n      <td>5.2094</td>\n      <td>4.4922</td>\n      <td>4.6144</td>\n    </tr>\n  </tbody>\n</table>\n</div>"
     },
     "execution_count": 13,
     "metadata": {},
     "output_type": "execute_result"
    }
   ],
   "source": [
    "baseline_model_scores"
   ]
  },
  {
   "cell_type": "markdown",
   "source": [
    "### Conclusion\n",
    "We can see that increasing number of data samples isn't improving mean squared error, especially for simpler models like DecisionTreeRegressor. There is little improvement for MLP and XGBoost models, which are more complex and better handle bigger data.\n",
    "To be sure that the model trained with more data is better I need to create my own evaluation, checking how many points did selected FPL squad gained.\n",
    "Also, I'll add more features to the data, which will consist some information about previous performances of each player."
   ],
   "metadata": {
    "collapsed": false,
    "pycharm": {
     "name": "#%% md\n"
    }
   }
  },
  {
   "cell_type": "markdown",
   "source": [
    "## Next iteration of data preprocessing"
   ],
   "metadata": {
    "collapsed": false,
    "pycharm": {
     "name": "#%% md\n"
    }
   }
  },
  {
   "cell_type": "code",
   "execution_count": 14,
   "outputs": [],
   "source": [
    "baseline_loss_rolling_features = [6.2294, 9.3771, 5.0866, 4.4743, 4.5560]\n",
    "baseline_loss_opponent_stats = [6.1980, 9.2768, 5.0600, 4.3868, 4.4320]"
   ],
   "metadata": {
    "collapsed": false,
    "pycharm": {
     "name": "#%%\n"
    }
   }
  },
  {
   "cell_type": "code",
   "execution_count": 15,
   "outputs": [],
   "source": [
    "# create dataframe with baseline_model as columns and scores as values\n",
    "baseline_model_scores = pd.DataFrame(data=np.array([baseline_loss_rolling_features, baseline_loss_opponent_stats]), columns=baseline_model, index=['rolling_features', 'opponent_stats'])"
   ],
   "metadata": {
    "collapsed": false,
    "pycharm": {
     "name": "#%%\n"
    }
   }
  },
  {
   "cell_type": "code",
   "execution_count": 16,
   "outputs": [
    {
     "data": {
      "text/plain": "                   Dummy  DecisionTree  LinearSVR     MLP  XGBoost\nrolling_features  6.2294        9.3771     5.0866  4.4743    4.556\nopponent_stats    6.1980        9.2768     5.0600  4.3868    4.432",
      "text/html": "<div>\n<style scoped>\n    .dataframe tbody tr th:only-of-type {\n        vertical-align: middle;\n    }\n\n    .dataframe tbody tr th {\n        vertical-align: top;\n    }\n\n    .dataframe thead th {\n        text-align: right;\n    }\n</style>\n<table border=\"1\" class=\"dataframe\">\n  <thead>\n    <tr style=\"text-align: right;\">\n      <th></th>\n      <th>Dummy</th>\n      <th>DecisionTree</th>\n      <th>LinearSVR</th>\n      <th>MLP</th>\n      <th>XGBoost</th>\n    </tr>\n  </thead>\n  <tbody>\n    <tr>\n      <th>rolling_features</th>\n      <td>6.2294</td>\n      <td>9.3771</td>\n      <td>5.0866</td>\n      <td>4.4743</td>\n      <td>4.556</td>\n    </tr>\n    <tr>\n      <th>opponent_stats</th>\n      <td>6.1980</td>\n      <td>9.2768</td>\n      <td>5.0600</td>\n      <td>4.3868</td>\n      <td>4.432</td>\n    </tr>\n  </tbody>\n</table>\n</div>"
     },
     "execution_count": 16,
     "metadata": {},
     "output_type": "execute_result"
    }
   ],
   "source": [
    "baseline_model_scores"
   ],
   "metadata": {
    "collapsed": false,
    "pycharm": {
     "name": "#%%\n"
    }
   }
  },
  {
   "cell_type": "markdown",
   "source": [
    "### Conclusion #2\n",
    "There is little improvement in terms of mean squared error for the models with more features datasets, but it isn't informative.\n",
    "I created my own evaluation, checking how many points did squad selected by model gained, and how is it compared to the points gained by average real FPL player.\n",
    "Problem with this evaluation metric is that, best squad is selected without money constraints, which is 'cheating', but on the next steps I will create real squad selection optimizator, which will be able to select squad with money constraints."
   ],
   "metadata": {
    "collapsed": false,
    "pycharm": {
     "name": "#%% md\n"
    }
   }
  },
  {
   "cell_type": "code",
   "execution_count": 18,
   "outputs": [],
   "source": [
    "models = ['MLP', 'XGBoost', 'Average FPL']\n",
    "points_gained_merged_seasons = [1610, 1576, 1386]\n",
    "points_gained_rolling_features = [1626, 1553, 1386]\n",
    "points_gained_opponent_stats = [1770, 1703, 1386]"
   ],
   "metadata": {
    "collapsed": false,
    "pycharm": {
     "name": "#%%\n"
    }
   }
  },
  {
   "cell_type": "code",
   "execution_count": 19,
   "outputs": [],
   "source": [
    "# create dataframe with baseline_model as columns and scores as values\n",
    "points_gained = pd.DataFrame(data=np.array([points_gained_merged_seasons, points_gained_rolling_features, points_gained_opponent_stats]), columns=models, index=['merged_seasons', 'rolling_features', 'opponent_stats'])"
   ],
   "metadata": {
    "collapsed": false,
    "pycharm": {
     "name": "#%%\n"
    }
   }
  },
  {
   "cell_type": "code",
   "execution_count": 20,
   "outputs": [
    {
     "data": {
      "text/plain": "                   MLP  XGBoost  Average FPL\nmerged_seasons    1610     1576         1386\nrolling_features  1626     1553         1386\nopponent_stats    1770     1703         1386",
      "text/html": "<div>\n<style scoped>\n    .dataframe tbody tr th:only-of-type {\n        vertical-align: middle;\n    }\n\n    .dataframe tbody tr th {\n        vertical-align: top;\n    }\n\n    .dataframe thead th {\n        text-align: right;\n    }\n</style>\n<table border=\"1\" class=\"dataframe\">\n  <thead>\n    <tr style=\"text-align: right;\">\n      <th></th>\n      <th>MLP</th>\n      <th>XGBoost</th>\n      <th>Average FPL</th>\n    </tr>\n  </thead>\n  <tbody>\n    <tr>\n      <th>merged_seasons</th>\n      <td>1610</td>\n      <td>1576</td>\n      <td>1386</td>\n    </tr>\n    <tr>\n      <th>rolling_features</th>\n      <td>1626</td>\n      <td>1553</td>\n      <td>1386</td>\n    </tr>\n    <tr>\n      <th>opponent_stats</th>\n      <td>1770</td>\n      <td>1703</td>\n      <td>1386</td>\n    </tr>\n  </tbody>\n</table>\n</div>"
     },
     "execution_count": 20,
     "metadata": {},
     "output_type": "execute_result"
    }
   ],
   "source": [
    "points_gained"
   ],
   "metadata": {
    "collapsed": false,
    "pycharm": {
     "name": "#%%\n"
    }
   }
  },
  {
   "cell_type": "code",
   "execution_count": 47,
   "outputs": [
    {
     "data": {
      "text/plain": "<Figure size 720x504 with 1 Axes>",
      "image/png": "[encoded data removed]"
     },
     "metadata": {},
     "output_type": "display_data"
    }
   ],
   "source": [
    "plt.figure(figsize=(10,7))\n",
    "\n",
    "X_axis = np.arange(3)\n",
    "\n",
    "plt.bar(X_axis - 0.3, points_gained['MLP'], 0.3, label = 'Selected squad points MLP')\n",
    "plt.bar(X_axis, points_gained['XGBoost'], 0.3, label = 'Selected squad points XGB')\n",
    "plt.bar(X_axis + 0.3, points_gained['Average FPL'], 0.3, label = 'Real player average points')\n",
    "\n",
    "plt.xticks(X_axis, ['merged_seasons data', 'rolling_features data', 'opponent_stats + rolling data'])\n",
    "plt.xlabel(\"Data used for model training\")\n",
    "plt.ylabel(\"Points gained\")\n",
    "plt.ylim(1300)\n",
    "plt.title(\"Comparison of pts gained by squad selected by MLP model with points gained by squad selected by XGB model for big test subset\")\n",
    "plt.legend(loc='upper left')\n",
    "plt.show()"
   ],
   "metadata": {
    "collapsed": false,
    "pycharm": {
     "name": "#%%\n"
    }
   }
  },
  {
   "cell_type": "markdown",
   "source": [],
   "metadata": {
    "collapsed": false,
    "pycharm": {
     "name": "#%% md\n"
    }
   }
  }
 ],
 "metadata": {
  "kernelspec": {
   "display_name": "Python 3 (ipykernel)",
   "language": "python",
   "name": "python3"
  },
  "language_info": {
   "codemirror_mode": {
    "name": "ipython",
    "version": 3
   },
   "file_extension": ".py",
   "mimetype": "text/x-python",
   "name": "python",
   "nbconvert_exporter": "python",
   "pygments_lexer": "ipython3",
   "version": "3.9.2"
  }
 },
 "nbformat": 4,
 "nbformat_minor": 1
}