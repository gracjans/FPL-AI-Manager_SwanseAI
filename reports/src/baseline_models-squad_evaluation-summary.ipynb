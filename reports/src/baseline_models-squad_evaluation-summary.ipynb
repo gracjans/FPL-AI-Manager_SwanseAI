{
 "cells": [
  {
   "cell_type": "markdown",
   "source": [
    "# Summary of squad evaluation without money constraint (different datasets)"
   ],
   "metadata": {
    "collapsed": false,
    "pycharm": {
     "name": "#%% md\n"
    }
   }
  },
  {
   "cell_type": "markdown",
   "source": [
    "Dataset used to train and evaluate the model (picking best squad on each gameweek without constraints):\n",
    "NOTE: Each evaluation was done on the same 'test_subset': ['2016-17', [4, 8, 9, 14, 18, 20, 21, 26, 32]], ['2018-19', [1, 2, 3, 4, 5, 6, 7, 8, 9, 10]], ['2021-22', [17, 18, 19, 20, 21, 22, 23, 24, 25, 26]] - (season, gameweeks)\n",
    "\n",
    "\n",
    "- **Plain data**: Dataset just with information about last game player performance\n",
    "- **Rolling features**: Dataset with rolling features added (added mean of last 3, 6, and all season gameweek stats)\n",
    "- **Rolling features + next game opponent form**: Dataset with same rolling features as above + stats informing about next opponent form from last 2 months\n",
    "- **Rolling features + next game opponent form + feature selection**: Dataset same as above, but with some useless features removed\n",
    "- **Rolling + opponent + selection + positions separated (4)**: Dataset similar as above, but separated by players position (4 models trained)\n",
    "- **Rolling + opponent + selection + positions separated (2)**: Dataset similar as above, but separated on Goalkeeper and Field players (2 models trained)"
   ],
   "metadata": {
    "collapsed": false,
    "pycharm": {
     "name": "#%% md\n"
    }
   }
  },
  {
   "cell_type": "code",
   "execution_count": null,
   "metadata": {
    "collapsed": true,
    "pycharm": {
     "name": "#%%\n"
    }
   },
   "outputs": [],
   "source": [
    "plain_mlp = [289, 200, 324, 263, 224, 261]\n",
    "plain_xgb = [185, 162]\n",
    "\n",
    "rolling_mlp = [313, 252, 240, 308, 257, 196, 269]\n",
    "rolling_xgb = [162, 109]\n",
    "\n",
    "opponent_mlp = [384, 394, 441, 283, 350, 402, 490]\n",
    "opponent_xgb = [317, 253]\n",
    "\n",
    "opponent_feature_mlp = [479]\n",
    "opponent_feature_xgb = [408]\n",
    "\n",
    "position_separated_mlp = [405, 323]\n",
    "position_separated_xgb = [111]\n",
    "\n",
    "field_separated_mlp = [410, 415]\n",
    "field_separated_xgb = [200]"
   ]
  },
  {
   "cell_type": "code",
   "execution_count": null,
   "outputs": [],
   "source": [
    "# new runs\n",
    "plain_mlp = [165, 229, 299, 261, 238]\n",
    "plain_xgb = [162]\n",
    "\n",
    "rolling_mlp = [319, 290, 294, 269]\n",
    "rolling_xgb = [109]\n",
    "\n",
    "opponent_mlp = [403, 320, 339, 402]\n",
    "opponent_xgb = [253]\n",
    "\n",
    "opponent_feature_mlp = [358, 390, 479, 293]\n",
    "opponent_feature_xgb = [408]\n",
    "\n",
    "position_separated_mlp = [376, 428, 364, 313, 399]\n",
    "position_separated_xgb = [111]\n",
    "\n",
    "field_separated_mlp = [456, 365, 443, 478, 493]\n",
    "field_separated_xgb = [200]\n"
   ],
   "metadata": {
    "collapsed": false,
    "pycharm": {
     "name": "#%%\n"
    }
   }
  }
 ],
 "metadata": {
  "kernelspec": {
   "display_name": "Python 3",
   "language": "python",
   "name": "python3"
  },
  "language_info": {
   "codemirror_mode": {
    "name": "ipython",
    "version": 2
   },
   "file_extension": ".py",
   "mimetype": "text/x-python",
   "name": "python",
   "nbconvert_exporter": "python",
   "pygments_lexer": "ipython2",
   "version": "2.7.6"
  }
 },
 "nbformat": 4,
 "nbformat_minor": 0
}