{
 "cells": [
  {
   "cell_type": "markdown",
   "source": [
    "# Summary of squad evaluation without money constraint (different datasets)"
   ],
   "metadata": {
    "collapsed": false,
    "pycharm": {
     "name": "#%% md\n"
    }
   }
  },
  {
   "cell_type": "markdown",
   "source": [
    "Dataset used to train and evaluate the model (picking best squad on each gameweek without constraints):\n",
    "NOTE: Each evaluation was done on the same 'test_subset': ['2016-17', [4, 8, 9, 14, 18, 20, 21, 26, 32]], ['2018-19', [1, 2, 3, 4, 5, 6, 7, 8, 9, 10]], ['2021-22', [17, 18, 19, 20, 21, 22, 23, 24, 25, 26]] - (season, gameweeks)\n",
    "\n",
    "\n",
    "- **Plain data**: Dataset just with information about last game player performance\n",
    "- **Rolling features**: Dataset with rolling features added (added mean of last 3, 6, and all season gameweek stats)\n",
    "- **Rolling features + next game opponent form**: Dataset with same rolling features as above + stats informing about next opponent form from last 2 months\n",
    "- **Rolling features + next game opponent form + feature selection**: Dataset same as above, but with some useless features removed\n",
    "- **Rolling + opponent + selection + positions separated (4)**: Dataset similar as above, but separated by players position (4 models trained)\n",
    "- **Rolling + opponent + selection + positions separated (2)**: Dataset similar as above, but separated on Goalkeeper and Field players (2 models trained)"
   ],
   "metadata": {
    "collapsed": false,
    "pycharm": {
     "name": "#%% md\n"
    }
   }
  },
  {
   "cell_type": "code",
   "execution_count": 5,
   "outputs": [
    {
     "name": "stdout",
     "output_type": "stream",
     "text": [
      "Plain MLP dataset mean points: 238.4\n",
      "Plain XGB dataset points: 162\n",
      "Rolling MLP dataset mean points: 290.6\n",
      "Rolling XGB dataset points: 109\n",
      "Opponent MLP dataset mean points: 364.2\n",
      "Opponent XGB dataset points: 253\n",
      "Opponent feature MLP dataset mean points: 367.4\n",
      "Opponent feature XGB dataset points: 408\n",
      "Position separated MLP dataset mean points: 387.5\n",
      "Position separated XGB dataset points: 111\n",
      "Field separated MLP dataset mean points: 436.17\n",
      "Field separated XGB dataset points: 200\n"
     ]
    }
   ],
   "source": [
    "# new runs\n",
    "plain_mlp = [165, 229, 299, 261, 238]\n",
    "plain_xgb = [162]\n",
    "print('Plain MLP dataset mean points:', round(sum(plain_mlp)/len(plain_mlp), 2))\n",
    "print('Plain XGB dataset points:', sum(plain_xgb))\n",
    "\n",
    "rolling_mlp = [319, 290, 294, 269, 281]\n",
    "rolling_xgb = [109]\n",
    "print('Rolling MLP dataset mean points:', round(sum(rolling_mlp)/len(rolling_mlp), 2))\n",
    "print('Rolling XGB dataset points:', sum(rolling_xgb))\n",
    "\n",
    "opponent_mlp = [403, 320, 339, 402, 357]\n",
    "opponent_xgb = [253]\n",
    "print('Opponent MLP dataset mean points:', round(sum(opponent_mlp)/len(opponent_mlp), 2))\n",
    "print('Opponent XGB dataset points:', sum(opponent_xgb))\n",
    "\n",
    "opponent_feature_mlp = [358, 390, 479, 293, 317]\n",
    "opponent_feature_xgb = [408]\n",
    "print('Opponent feature MLP dataset mean points:', round(sum(opponent_feature_mlp)/len(opponent_feature_mlp), 2))\n",
    "print('Opponent feature XGB dataset points:', sum(opponent_feature_xgb))\n",
    "\n",
    "position_separated_mlp = [376, 428, 364, 313, 399, 445]\n",
    "position_separated_xgb = [111]\n",
    "print('Position separated MLP dataset mean points:', round(sum(position_separated_mlp)/len(position_separated_mlp), 2))\n",
    "print('Position separated XGB dataset points:', sum(position_separated_xgb))\n",
    "\n",
    "field_separated_mlp = [456, 365, 443, 478, 493, 382]\n",
    "field_separated_xgb = [200]\n",
    "print('Field separated MLP dataset mean points:', round(sum(field_separated_mlp)/len(field_separated_mlp), 2))\n",
    "print('Field separated XGB dataset points:', sum(field_separated_xgb))"
   ],
   "metadata": {
    "collapsed": false,
    "pycharm": {
     "name": "#%%\n"
    }
   }
  },
  {
   "cell_type": "markdown",
   "source": [
    "### Conclusion\n",
    "We can see that best results are achieved for full dataset (with rolling features and opponent features data). Best results for MLP model are achieved with two models, one trained on goalkeepers data and second on field (def, mid, fwd) players data. On the other hand, XGB model is the best model for full data, where dataset isn't separated by position."
   ],
   "metadata": {
    "collapsed": false,
    "pycharm": {
     "name": "#%% md\n"
    }
   }
  },
  {
   "cell_type": "markdown",
   "source": [
    "## Checking field_separated_mlp model with MEAN ABSOLUTE ERROR"
   ],
   "metadata": {
    "collapsed": false,
    "pycharm": {
     "name": "#%% md\n"
    }
   }
  },
  {
   "cell_type": "code",
   "execution_count": 4,
   "outputs": [
    {
     "name": "stdout",
     "output_type": "stream",
     "text": [
      "Field separated MLP (mean squared error loss) dataset mean points: 436.17\n",
      "Field separated MLP (mean absolute error loss) dataset mean points: 464.83\n"
     ]
    }
   ],
   "source": [
    "field_separated_mlp_MSE = [456, 365, 443, 478, 493, 382]\n",
    "print('Field separated MLP (mean squared error loss) dataset mean points:', round(sum(field_separated_mlp_MSE)/len(field_separated_mlp_MSE), 2))\n",
    "\n",
    "field_separated_mlp_MAE = [423, 447, 517, 420, 484, 498]\n",
    "print('Field separated MLP (mean absolute error loss) dataset mean points:', round(sum(field_separated_mlp_MAE)/len(field_separated_mlp_MAE), 2))"
   ],
   "metadata": {
    "collapsed": false,
    "pycharm": {
     "name": "#%%\n"
    }
   }
  },
  {
   "cell_type": "markdown",
   "source": [
    "### Conclusion #2\n",
    "We can see that setting Mean Absolute Error loss function gives us better results than Mean Squared Error loss function.\n",
    "Total points that model is trying to predict isn't normally distributed, so MAE loss function will be used."
   ],
   "metadata": {
    "collapsed": false,
    "pycharm": {
     "name": "#%% md\n"
    }
   }
  },
  {
   "cell_type": "code",
   "execution_count": null,
   "outputs": [],
   "source": [],
   "metadata": {
    "collapsed": false,
    "pycharm": {
     "name": "#%%\n"
    }
   }
  }
 ],
 "metadata": {
  "kernelspec": {
   "display_name": "Python 3",
   "language": "python",
   "name": "python3"
  },
  "language_info": {
   "codemirror_mode": {
    "name": "ipython",
    "version": 2
   },
   "file_extension": ".py",
   "mimetype": "text/x-python",
   "name": "python",
   "nbconvert_exporter": "python",
   "pygments_lexer": "ipython2",
   "version": "2.7.6"
  }
 },
 "nbformat": 4,
 "nbformat_minor": 0
}