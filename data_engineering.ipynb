{
 "cells": [
  {
   "cell_type": "markdown",
   "metadata": {},
   "source": [
    "# FPL data engeeniering"
   ]
  },
  {
   "cell_type": "code",
   "execution_count": 14,
   "outputs": [
    {
     "data": {
      "text/plain": "<module 'utils.data_loader' from 'D:\\\\Studies\\\\Informatyka\\\\Semestr_3\\\\FPL_AI_manager\\\\utils\\\\data_loader.py'>"
     },
     "execution_count": 14,
     "metadata": {},
     "output_type": "execute_result"
    }
   ],
   "source": [
    "# RELOAD MODULES (useful during development)\n",
    "import importlib\n",
    "from utils import data_loader\n",
    "importlib.reload(data_loader)"
   ],
   "metadata": {
    "collapsed": false,
    "pycharm": {
     "name": "#%%\n"
    }
   }
  },
  {
   "cell_type": "code",
   "execution_count": 58,
   "metadata": {},
   "outputs": [],
   "source": [
    "import pandas as pd\n",
    "from sklearn.preprocessing import MinMaxScaler\n",
    "from sklearn.model_selection import train_test_split\n",
    "\n",
    "from utils.data_loader import load_data"
   ]
  },
  {
   "cell_type": "markdown",
   "metadata": {},
   "source": [
    "Import data and prepare it for MLP model"
   ]
  },
  {
   "cell_type": "markdown",
   "metadata": {},
   "source": [
    "## 2020-21 season data engineering for baseline model\n",
    "Predict next game total_points based only on single previous game"
   ]
  },
  {
   "cell_type": "code",
   "execution_count": 190,
   "metadata": {},
   "outputs": [],
   "source": [
    "data_2021 = load_data('2020-21')"
   ]
  },
  {
   "cell_type": "code",
   "execution_count": 191,
   "metadata": {},
   "outputs": [],
   "source": [
    "# add 'total_points_next_gameweek' column where total_points_next_gameweek = total_points from next 'GW' for each 'element'\n",
    "data_2021['total_points_next_gameweek'] = data_2021.groupby('element')['total_points'].shift(-1)"
   ]
  },
  {
   "cell_type": "code",
   "execution_count": 192,
   "outputs": [
    {
     "data": {
      "text/plain": "              name position      team   xP  assists  bonus  bps  clean_sheets  \\\n8     Adam Lallana      MID  Brighton  1.2        0      0    6             0   \n434   Adam Lallana      MID  Brighton  0.4        0      0    3             0   \n973   Adam Lallana      MID  Brighton  0.3        0      0    7             0   \n1527  Adam Lallana      MID  Brighton  0.7        0      0    5             0   \n2089  Adam Lallana      MID  Brighton  1.5        0      0    4             0   \n2806  Adam Lallana      MID  Brighton  2.5        0      0   14             1   \n3396  Adam Lallana      MID  Brighton  1.8        0      0    4             0   \n3995  Adam Lallana      MID  Brighton  2.5        0      0   20             1   \n4595  Adam Lallana      MID  Brighton  3.0        1      0   18             0   \n5196  Adam Lallana      MID  Brighton  1.3        0      0    3             0   \n\n      creativity  element  ...  threat  total_points  transfers_balance  \\\n8           27.2       54  ...     2.0             1                  0   \n434          1.2       54  ...     0.0             1             -25783   \n973          2.8       54  ...     0.0             2             -13848   \n1527        13.0       54  ...     8.0             1              -5216   \n2089         4.9       54  ...     1.0             2              -6062   \n2806        22.1       54  ...    22.0             3              -2589   \n3396        16.1       54  ...    18.0             2              -2018   \n3995        43.6       54  ...    44.0             3              -1005   \n4595        11.1       54  ...     6.0             4              -1276   \n5196         0.0       54  ...     0.0             1              -2472   \n\n      transfers_in  transfers_out value  was_home  yellow_cards  GW  \\\n8                0              0    65      True             0   1   \n434           2185          27968    65     False             0   2   \n973           1340          15188    64      True             0   3   \n1527          1748           6964    64     False             0   4   \n2089          1191           7253    63     False             0   5   \n2806          1019           3608    63      True             0   6   \n3396           813           2831    63     False             0   7   \n3995          1667           2672    62      True             0   8   \n4595          1300           2576    62     False             0   9   \n5196           269           2741    62      True             0  10   \n\n      total_points_next_gameweek  \n8                            1.0  \n434                          2.0  \n973                          1.0  \n1527                         2.0  \n2089                         3.0  \n2806                         2.0  \n3396                         3.0  \n3995                         4.0  \n4595                         1.0  \n5196                         0.0  \n\n[10 rows x 37 columns]",
      "text/html": "<div>\n<style scoped>\n    .dataframe tbody tr th:only-of-type {\n        vertical-align: middle;\n    }\n\n    .dataframe tbody tr th {\n        vertical-align: top;\n    }\n\n    .dataframe thead th {\n        text-align: right;\n    }\n</style>\n<table border=\"1\" class=\"dataframe\">\n  <thead>\n    <tr style=\"text-align: right;\">\n      <th></th>\n      <th>name</th>\n      <th>position</th>\n      <th>team</th>\n      <th>xP</th>\n      <th>assists</th>\n      <th>bonus</th>\n      <th>bps</th>\n      <th>clean_sheets</th>\n      <th>creativity</th>\n      <th>element</th>\n      <th>...</th>\n      <th>threat</th>\n      <th>total_points</th>\n      <th>transfers_balance</th>\n      <th>transfers_in</th>\n      <th>transfers_out</th>\n      <th>value</th>\n      <th>was_home</th>\n      <th>yellow_cards</th>\n      <th>GW</th>\n      <th>total_points_next_gameweek</th>\n    </tr>\n  </thead>\n  <tbody>\n    <tr>\n      <th>8</th>\n      <td>Adam Lallana</td>\n      <td>MID</td>\n      <td>Brighton</td>\n      <td>1.2</td>\n      <td>0</td>\n      <td>0</td>\n      <td>6</td>\n      <td>0</td>\n      <td>27.2</td>\n      <td>54</td>\n      <td>...</td>\n      <td>2.0</td>\n      <td>1</td>\n      <td>0</td>\n      <td>0</td>\n      <td>0</td>\n      <td>65</td>\n      <td>True</td>\n      <td>0</td>\n      <td>1</td>\n      <td>1.0</td>\n    </tr>\n    <tr>\n      <th>434</th>\n      <td>Adam Lallana</td>\n      <td>MID</td>\n      <td>Brighton</td>\n      <td>0.4</td>\n      <td>0</td>\n      <td>0</td>\n      <td>3</td>\n      <td>0</td>\n      <td>1.2</td>\n      <td>54</td>\n      <td>...</td>\n      <td>0.0</td>\n      <td>1</td>\n      <td>-25783</td>\n      <td>2185</td>\n      <td>27968</td>\n      <td>65</td>\n      <td>False</td>\n      <td>0</td>\n      <td>2</td>\n      <td>2.0</td>\n    </tr>\n    <tr>\n      <th>973</th>\n      <td>Adam Lallana</td>\n      <td>MID</td>\n      <td>Brighton</td>\n      <td>0.3</td>\n      <td>0</td>\n      <td>0</td>\n      <td>7</td>\n      <td>0</td>\n      <td>2.8</td>\n      <td>54</td>\n      <td>...</td>\n      <td>0.0</td>\n      <td>2</td>\n      <td>-13848</td>\n      <td>1340</td>\n      <td>15188</td>\n      <td>64</td>\n      <td>True</td>\n      <td>0</td>\n      <td>3</td>\n      <td>1.0</td>\n    </tr>\n    <tr>\n      <th>1527</th>\n      <td>Adam Lallana</td>\n      <td>MID</td>\n      <td>Brighton</td>\n      <td>0.7</td>\n      <td>0</td>\n      <td>0</td>\n      <td>5</td>\n      <td>0</td>\n      <td>13.0</td>\n      <td>54</td>\n      <td>...</td>\n      <td>8.0</td>\n      <td>1</td>\n      <td>-5216</td>\n      <td>1748</td>\n      <td>6964</td>\n      <td>64</td>\n      <td>False</td>\n      <td>0</td>\n      <td>4</td>\n      <td>2.0</td>\n    </tr>\n    <tr>\n      <th>2089</th>\n      <td>Adam Lallana</td>\n      <td>MID</td>\n      <td>Brighton</td>\n      <td>1.5</td>\n      <td>0</td>\n      <td>0</td>\n      <td>4</td>\n      <td>0</td>\n      <td>4.9</td>\n      <td>54</td>\n      <td>...</td>\n      <td>1.0</td>\n      <td>2</td>\n      <td>-6062</td>\n      <td>1191</td>\n      <td>7253</td>\n      <td>63</td>\n      <td>False</td>\n      <td>0</td>\n      <td>5</td>\n      <td>3.0</td>\n    </tr>\n    <tr>\n      <th>2806</th>\n      <td>Adam Lallana</td>\n      <td>MID</td>\n      <td>Brighton</td>\n      <td>2.5</td>\n      <td>0</td>\n      <td>0</td>\n      <td>14</td>\n      <td>1</td>\n      <td>22.1</td>\n      <td>54</td>\n      <td>...</td>\n      <td>22.0</td>\n      <td>3</td>\n      <td>-2589</td>\n      <td>1019</td>\n      <td>3608</td>\n      <td>63</td>\n      <td>True</td>\n      <td>0</td>\n      <td>6</td>\n      <td>2.0</td>\n    </tr>\n    <tr>\n      <th>3396</th>\n      <td>Adam Lallana</td>\n      <td>MID</td>\n      <td>Brighton</td>\n      <td>1.8</td>\n      <td>0</td>\n      <td>0</td>\n      <td>4</td>\n      <td>0</td>\n      <td>16.1</td>\n      <td>54</td>\n      <td>...</td>\n      <td>18.0</td>\n      <td>2</td>\n      <td>-2018</td>\n      <td>813</td>\n      <td>2831</td>\n      <td>63</td>\n      <td>False</td>\n      <td>0</td>\n      <td>7</td>\n      <td>3.0</td>\n    </tr>\n    <tr>\n      <th>3995</th>\n      <td>Adam Lallana</td>\n      <td>MID</td>\n      <td>Brighton</td>\n      <td>2.5</td>\n      <td>0</td>\n      <td>0</td>\n      <td>20</td>\n      <td>1</td>\n      <td>43.6</td>\n      <td>54</td>\n      <td>...</td>\n      <td>44.0</td>\n      <td>3</td>\n      <td>-1005</td>\n      <td>1667</td>\n      <td>2672</td>\n      <td>62</td>\n      <td>True</td>\n      <td>0</td>\n      <td>8</td>\n      <td>4.0</td>\n    </tr>\n    <tr>\n      <th>4595</th>\n      <td>Adam Lallana</td>\n      <td>MID</td>\n      <td>Brighton</td>\n      <td>3.0</td>\n      <td>1</td>\n      <td>0</td>\n      <td>18</td>\n      <td>0</td>\n      <td>11.1</td>\n      <td>54</td>\n      <td>...</td>\n      <td>6.0</td>\n      <td>4</td>\n      <td>-1276</td>\n      <td>1300</td>\n      <td>2576</td>\n      <td>62</td>\n      <td>False</td>\n      <td>0</td>\n      <td>9</td>\n      <td>1.0</td>\n    </tr>\n    <tr>\n      <th>5196</th>\n      <td>Adam Lallana</td>\n      <td>MID</td>\n      <td>Brighton</td>\n      <td>1.3</td>\n      <td>0</td>\n      <td>0</td>\n      <td>3</td>\n      <td>0</td>\n      <td>0.0</td>\n      <td>54</td>\n      <td>...</td>\n      <td>0.0</td>\n      <td>1</td>\n      <td>-2472</td>\n      <td>269</td>\n      <td>2741</td>\n      <td>62</td>\n      <td>True</td>\n      <td>0</td>\n      <td>10</td>\n      <td>0.0</td>\n    </tr>\n  </tbody>\n</table>\n<p>10 rows × 37 columns</p>\n</div>"
     },
     "execution_count": 192,
     "metadata": {},
     "output_type": "execute_result"
    }
   ],
   "source": [
    "# preview data with 'Adam Lallana' name sorted by 'GW'\n",
    "data_2021[data_2021['name'] == 'Adam Lallana'].sort_values('GW').head(10)"
   ],
   "metadata": {
    "collapsed": false,
    "pycharm": {
     "name": "#%%\n"
    }
   }
  },
  {
   "cell_type": "markdown",
   "source": [
    "**NOTE:** Model won't have any information about for which player the prediction is made."
   ],
   "metadata": {
    "collapsed": false
   }
  },
  {
   "cell_type": "code",
   "execution_count": 193,
   "outputs": [],
   "source": [
    "# create data_2021_processed dataframe without 'name', 'team', 'fixture', 'kickoff_time', 'opponent_team', 'round', 'team_h_score', 'team_a_score'\n",
    "data_2021_processed = data_2021.drop(['name', 'team', 'fixture', 'kickoff_time', 'opponent_team', 'round', 'team_h_score', 'team_a_score'], axis=1)"
   ],
   "metadata": {
    "collapsed": false,
    "pycharm": {
     "name": "#%%\n"
    }
   }
  },
  {
   "cell_type": "code",
   "execution_count": 194,
   "outputs": [],
   "source": [
    "# extract 'GW', 'element' and 'total_points_next_gameweek' from data_2021_processed\n",
    "data_2021_extract_target = data_2021_processed[['GW', 'element', 'total_points_next_gameweek']]"
   ],
   "metadata": {
    "collapsed": false,
    "pycharm": {
     "name": "#%%\n"
    }
   }
  },
  {
   "cell_type": "code",
   "execution_count": 195,
   "outputs": [],
   "source": [
    "# drop 'GW' and 'element' from data_2021_processed\n",
    "data_2021_processed = data_2021_processed.drop(['GW', 'element'], axis=1)"
   ],
   "metadata": {
    "collapsed": false,
    "pycharm": {
     "name": "#%%\n"
    }
   }
  },
  {
   "cell_type": "code",
   "execution_count": 196,
   "outputs": [],
   "source": [
    "# one-hot encode 'position' column\n",
    "data_2021_processed = pd.get_dummies(data_2021_processed, columns=['position'])"
   ],
   "metadata": {
    "collapsed": false,
    "pycharm": {
     "name": "#%%\n"
    }
   }
  },
  {
   "cell_type": "code",
   "execution_count": 197,
   "outputs": [],
   "source": [
    "# change 'was_home' column to binary\n",
    "data_2021_processed['was_home'] = data_2021_processed['was_home'].map({True: 1, False: 0})"
   ],
   "metadata": {
    "collapsed": false,
    "pycharm": {
     "name": "#%%\n"
    }
   }
  },
  {
   "cell_type": "code",
   "execution_count": 198,
   "outputs": [],
   "source": [
    "# drop rows with NaN values\n",
    "data_2021_processed = data_2021_processed.dropna()"
   ],
   "metadata": {
    "collapsed": false,
    "pycharm": {
     "name": "#%%\n"
    }
   }
  },
  {
   "cell_type": "code",
   "execution_count": 199,
   "outputs": [
    {
     "data": {
      "text/plain": "    xP  assists  bonus  bps  clean_sheets  creativity  goals_conceded  \\\n0  0.5        0      0   -3             0         0.3               2   \n1  2.1        0      0   11             0        11.2               2   \n2  0.0        0      0    0             0         0.0               0   \n3  2.5        0      0   12             0         0.0               2   \n4  1.3        0      0   20             1        44.6               0   \n5  0.4        0      0   -2             0         1.8               3   \n6  2.2        0      0    6             1         1.8               0   \n7  0.0        0      0    0             0         0.0               0   \n8  1.2        0      0    6             0        27.2               1   \n9  0.6        0      0   14             0        11.8               3   \n\n   goals_scored  ict_index  influence  ...  transfers_in  transfers_out  \\\n0             0        3.4        1.2  ...             0              0   \n1             0        2.2       10.4  ...             0              0   \n2             0        0.0        0.0  ...             0              0   \n3             0        1.8       18.2  ...             0              0   \n4             0        6.9       20.4  ...             0              0   \n5             0        0.2        0.0  ...             0              0   \n6             0        3.2       12.8  ...             0              0   \n7             0        0.0        0.0  ...             0              0   \n8             0        3.6        6.8  ...             0              0   \n9             0        2.8       14.8  ...             0              0   \n\n   value  was_home  yellow_cards  total_points_next_gameweek  position_DEF  \\\n0     55         1             0                         8.0             0   \n1     50         1             0                         1.0             1   \n2     50         1             0                         0.0             0   \n3     50         1             0                         2.0             0   \n4     55         0             0                         1.0             0   \n5     50         1             0                         1.0             0   \n6     65         0             0                         2.0             0   \n7     50         0             0                         0.0             0   \n8     65         1             0                         1.0             0   \n9     45         1             0                         6.0             1   \n\n   position_FWD  position_GK  position_MID  \n0             1            0             0  \n1             0            0             0  \n2             0            0             1  \n3             0            1             0  \n4             0            0             1  \n5             0            0             1  \n6             0            0             1  \n7             0            0             1  \n8             0            0             1  \n9             0            0             0  \n\n[10 rows x 30 columns]",
      "text/html": "<div>\n<style scoped>\n    .dataframe tbody tr th:only-of-type {\n        vertical-align: middle;\n    }\n\n    .dataframe tbody tr th {\n        vertical-align: top;\n    }\n\n    .dataframe thead th {\n        text-align: right;\n    }\n</style>\n<table border=\"1\" class=\"dataframe\">\n  <thead>\n    <tr style=\"text-align: right;\">\n      <th></th>\n      <th>xP</th>\n      <th>assists</th>\n      <th>bonus</th>\n      <th>bps</th>\n      <th>clean_sheets</th>\n      <th>creativity</th>\n      <th>goals_conceded</th>\n      <th>goals_scored</th>\n      <th>ict_index</th>\n      <th>influence</th>\n      <th>...</th>\n      <th>transfers_in</th>\n      <th>transfers_out</th>\n      <th>value</th>\n      <th>was_home</th>\n      <th>yellow_cards</th>\n      <th>total_points_next_gameweek</th>\n      <th>position_DEF</th>\n      <th>position_FWD</th>\n      <th>position_GK</th>\n      <th>position_MID</th>\n    </tr>\n  </thead>\n  <tbody>\n    <tr>\n      <th>0</th>\n      <td>0.5</td>\n      <td>0</td>\n      <td>0</td>\n      <td>-3</td>\n      <td>0</td>\n      <td>0.3</td>\n      <td>2</td>\n      <td>0</td>\n      <td>3.4</td>\n      <td>1.2</td>\n      <td>...</td>\n      <td>0</td>\n      <td>0</td>\n      <td>55</td>\n      <td>1</td>\n      <td>0</td>\n      <td>8.0</td>\n      <td>0</td>\n      <td>1</td>\n      <td>0</td>\n      <td>0</td>\n    </tr>\n    <tr>\n      <th>1</th>\n      <td>2.1</td>\n      <td>0</td>\n      <td>0</td>\n      <td>11</td>\n      <td>0</td>\n      <td>11.2</td>\n      <td>2</td>\n      <td>0</td>\n      <td>2.2</td>\n      <td>10.4</td>\n      <td>...</td>\n      <td>0</td>\n      <td>0</td>\n      <td>50</td>\n      <td>1</td>\n      <td>0</td>\n      <td>1.0</td>\n      <td>1</td>\n      <td>0</td>\n      <td>0</td>\n      <td>0</td>\n    </tr>\n    <tr>\n      <th>2</th>\n      <td>0.0</td>\n      <td>0</td>\n      <td>0</td>\n      <td>0</td>\n      <td>0</td>\n      <td>0.0</td>\n      <td>0</td>\n      <td>0</td>\n      <td>0.0</td>\n      <td>0.0</td>\n      <td>...</td>\n      <td>0</td>\n      <td>0</td>\n      <td>50</td>\n      <td>1</td>\n      <td>0</td>\n      <td>0.0</td>\n      <td>0</td>\n      <td>0</td>\n      <td>0</td>\n      <td>1</td>\n    </tr>\n    <tr>\n      <th>3</th>\n      <td>2.5</td>\n      <td>0</td>\n      <td>0</td>\n      <td>12</td>\n      <td>0</td>\n      <td>0.0</td>\n      <td>2</td>\n      <td>0</td>\n      <td>1.8</td>\n      <td>18.2</td>\n      <td>...</td>\n      <td>0</td>\n      <td>0</td>\n      <td>50</td>\n      <td>1</td>\n      <td>0</td>\n      <td>2.0</td>\n      <td>0</td>\n      <td>0</td>\n      <td>1</td>\n      <td>0</td>\n    </tr>\n    <tr>\n      <th>4</th>\n      <td>1.3</td>\n      <td>0</td>\n      <td>0</td>\n      <td>20</td>\n      <td>1</td>\n      <td>44.6</td>\n      <td>0</td>\n      <td>0</td>\n      <td>6.9</td>\n      <td>20.4</td>\n      <td>...</td>\n      <td>0</td>\n      <td>0</td>\n      <td>55</td>\n      <td>0</td>\n      <td>0</td>\n      <td>1.0</td>\n      <td>0</td>\n      <td>0</td>\n      <td>0</td>\n      <td>1</td>\n    </tr>\n    <tr>\n      <th>5</th>\n      <td>0.4</td>\n      <td>0</td>\n      <td>0</td>\n      <td>-2</td>\n      <td>0</td>\n      <td>1.8</td>\n      <td>3</td>\n      <td>0</td>\n      <td>0.2</td>\n      <td>0.0</td>\n      <td>...</td>\n      <td>0</td>\n      <td>0</td>\n      <td>50</td>\n      <td>1</td>\n      <td>0</td>\n      <td>1.0</td>\n      <td>0</td>\n      <td>0</td>\n      <td>0</td>\n      <td>1</td>\n    </tr>\n    <tr>\n      <th>6</th>\n      <td>2.2</td>\n      <td>0</td>\n      <td>0</td>\n      <td>6</td>\n      <td>1</td>\n      <td>1.8</td>\n      <td>0</td>\n      <td>0</td>\n      <td>3.2</td>\n      <td>12.8</td>\n      <td>...</td>\n      <td>0</td>\n      <td>0</td>\n      <td>65</td>\n      <td>0</td>\n      <td>0</td>\n      <td>2.0</td>\n      <td>0</td>\n      <td>0</td>\n      <td>0</td>\n      <td>1</td>\n    </tr>\n    <tr>\n      <th>7</th>\n      <td>0.0</td>\n      <td>0</td>\n      <td>0</td>\n      <td>0</td>\n      <td>0</td>\n      <td>0.0</td>\n      <td>0</td>\n      <td>0</td>\n      <td>0.0</td>\n      <td>0.0</td>\n      <td>...</td>\n      <td>0</td>\n      <td>0</td>\n      <td>50</td>\n      <td>0</td>\n      <td>0</td>\n      <td>0.0</td>\n      <td>0</td>\n      <td>0</td>\n      <td>0</td>\n      <td>1</td>\n    </tr>\n    <tr>\n      <th>8</th>\n      <td>1.2</td>\n      <td>0</td>\n      <td>0</td>\n      <td>6</td>\n      <td>0</td>\n      <td>27.2</td>\n      <td>1</td>\n      <td>0</td>\n      <td>3.6</td>\n      <td>6.8</td>\n      <td>...</td>\n      <td>0</td>\n      <td>0</td>\n      <td>65</td>\n      <td>1</td>\n      <td>0</td>\n      <td>1.0</td>\n      <td>0</td>\n      <td>0</td>\n      <td>0</td>\n      <td>1</td>\n    </tr>\n    <tr>\n      <th>9</th>\n      <td>0.6</td>\n      <td>0</td>\n      <td>0</td>\n      <td>14</td>\n      <td>0</td>\n      <td>11.8</td>\n      <td>3</td>\n      <td>0</td>\n      <td>2.8</td>\n      <td>14.8</td>\n      <td>...</td>\n      <td>0</td>\n      <td>0</td>\n      <td>45</td>\n      <td>1</td>\n      <td>0</td>\n      <td>6.0</td>\n      <td>1</td>\n      <td>0</td>\n      <td>0</td>\n      <td>0</td>\n    </tr>\n  </tbody>\n</table>\n<p>10 rows × 30 columns</p>\n</div>"
     },
     "execution_count": 199,
     "metadata": {},
     "output_type": "execute_result"
    }
   ],
   "source": [
    "data_2021_processed.head(10)"
   ],
   "metadata": {
    "collapsed": false,
    "pycharm": {
     "name": "#%%\n"
    }
   }
  },
  {
   "cell_type": "code",
   "execution_count": 200,
   "outputs": [],
   "source": [
    "X_2021 = data_2021_processed.drop(['total_points_next_gameweek'], axis=1)\n",
    "y_2021 = data_2021_processed['total_points_next_gameweek']"
   ],
   "metadata": {
    "collapsed": false,
    "pycharm": {
     "name": "#%%\n"
    }
   }
  },
  {
   "cell_type": "code",
   "execution_count": 201,
   "outputs": [],
   "source": [
    "# scale X data\n",
    "X_scaler = MinMaxScaler(feature_range=(0, 1))\n",
    "X_2021_scaled = pd.DataFrame(X_scaler.fit_transform(X_2021), columns = X_2021.columns)"
   ],
   "metadata": {
    "collapsed": false,
    "pycharm": {
     "name": "#%%\n"
    }
   }
  },
  {
   "cell_type": "code",
   "execution_count": 202,
   "outputs": [],
   "source": [
    "# split data into train and test sets\n",
    "X_train_2021, X_test_2021, y_train_2021, y_test_2021 = train_test_split(X_2021_scaled, y_2021, test_size=0.2, random_state=42)"
   ],
   "metadata": {
    "collapsed": false,
    "pycharm": {
     "name": "#%%\n"
    }
   }
  },
  {
   "cell_type": "markdown",
   "source": [
    "### Train on baseline SVR model"
   ],
   "metadata": {
    "collapsed": false
   }
  },
  {
   "cell_type": "code",
   "execution_count": 203,
   "outputs": [],
   "source": [
    "from sklearn.svm import SVR\n",
    "from sklearn.metrics import mean_squared_error"
   ],
   "metadata": {
    "collapsed": false,
    "pycharm": {
     "name": "#%%from sklearn import svm\n"
    }
   }
  },
  {
   "cell_type": "code",
   "execution_count": 204,
   "outputs": [
    {
     "data": {
      "text/plain": "SVR()"
     },
     "execution_count": 204,
     "metadata": {},
     "output_type": "execute_result"
    }
   ],
   "source": [
    "model_svr = SVR()\n",
    "model_svr.fit(X_train_2021, y_train_2021)"
   ],
   "metadata": {
    "collapsed": false,
    "pycharm": {
     "name": "#%%\n"
    }
   }
  },
  {
   "cell_type": "code",
   "execution_count": 205,
   "outputs": [],
   "source": [
    "# predict on test set\n",
    "y_pred_2021 = model_svr.predict(X_test_2021)"
   ],
   "metadata": {
    "collapsed": false,
    "pycharm": {
     "name": "#%%\n"
    }
   }
  },
  {
   "cell_type": "code",
   "execution_count": 206,
   "outputs": [
    {
     "data": {
      "text/plain": "5.1224767586306035"
     },
     "execution_count": 206,
     "metadata": {},
     "output_type": "execute_result"
    }
   ],
   "source": [
    "mean_squared_error(y_pred_2021, y_test_2021)"
   ],
   "metadata": {
    "collapsed": false,
    "pycharm": {
     "name": "#%%\n"
    }
   }
  },
  {
   "cell_type": "code",
   "execution_count": 207,
   "outputs": [],
   "source": [
    "results = pd.DataFrame(y_test_2021)"
   ],
   "metadata": {
    "collapsed": false,
    "pycharm": {
     "name": "#%%\n"
    }
   }
  },
  {
   "cell_type": "code",
   "execution_count": 208,
   "outputs": [],
   "source": [
    "results['prediction'] = y_pred_2021"
   ],
   "metadata": {
    "collapsed": false,
    "pycharm": {
     "name": "#%%\n"
    }
   }
  },
  {
   "cell_type": "code",
   "execution_count": 211,
   "outputs": [
    {
     "data": {
      "text/plain": "       total_points_next_gameweek  prediction\n11387                         2.0    1.715704\n2055                          1.0    1.886470\n18887                         0.0    0.082232\n3353                          0.0    0.093830\n11466                         1.0    1.091189\n...                           ...         ...\n22524                         0.0    0.100445\n2998                          1.0    0.844867\n12020                         0.0    0.084547\n7306                          0.0    0.092959\n379                           0.0    0.143994\n\n[4731 rows x 2 columns]",
      "text/html": "<div>\n<style scoped>\n    .dataframe tbody tr th:only-of-type {\n        vertical-align: middle;\n    }\n\n    .dataframe tbody tr th {\n        vertical-align: top;\n    }\n\n    .dataframe thead th {\n        text-align: right;\n    }\n</style>\n<table border=\"1\" class=\"dataframe\">\n  <thead>\n    <tr style=\"text-align: right;\">\n      <th></th>\n      <th>total_points_next_gameweek</th>\n      <th>prediction</th>\n    </tr>\n  </thead>\n  <tbody>\n    <tr>\n      <th>11387</th>\n      <td>2.0</td>\n      <td>1.715704</td>\n    </tr>\n    <tr>\n      <th>2055</th>\n      <td>1.0</td>\n      <td>1.886470</td>\n    </tr>\n    <tr>\n      <th>18887</th>\n      <td>0.0</td>\n      <td>0.082232</td>\n    </tr>\n    <tr>\n      <th>3353</th>\n      <td>0.0</td>\n      <td>0.093830</td>\n    </tr>\n    <tr>\n      <th>11466</th>\n      <td>1.0</td>\n      <td>1.091189</td>\n    </tr>\n    <tr>\n      <th>...</th>\n      <td>...</td>\n      <td>...</td>\n    </tr>\n    <tr>\n      <th>22524</th>\n      <td>0.0</td>\n      <td>0.100445</td>\n    </tr>\n    <tr>\n      <th>2998</th>\n      <td>1.0</td>\n      <td>0.844867</td>\n    </tr>\n    <tr>\n      <th>12020</th>\n      <td>0.0</td>\n      <td>0.084547</td>\n    </tr>\n    <tr>\n      <th>7306</th>\n      <td>0.0</td>\n      <td>0.092959</td>\n    </tr>\n    <tr>\n      <th>379</th>\n      <td>0.0</td>\n      <td>0.143994</td>\n    </tr>\n  </tbody>\n</table>\n<p>4731 rows × 2 columns</p>\n</div>"
     },
     "execution_count": 211,
     "metadata": {},
     "output_type": "execute_result"
    }
   ],
   "source": [
    "results"
   ],
   "metadata": {
    "collapsed": false,
    "pycharm": {
     "name": "#%%\n"
    }
   }
  },
  {
   "cell_type": "code",
   "execution_count": null,
   "outputs": [],
   "source": [],
   "metadata": {
    "collapsed": false,
    "pycharm": {
     "name": "#%%\n"
    }
   }
  }
 ],
 "metadata": {
  "interpreter": {
   "hash": "bbb22d9559f6976b31c36950d3631592f33fcfe361ba08906d3d31a17b5db64c"
  },
  "kernelspec": {
   "display_name": "Python 3.9.7 64-bit ('venv': venv)",
   "language": "python",
   "name": "python3"
  },
  "language_info": {
   "codemirror_mode": {
    "name": "ipython",
    "version": 3
   },
   "file_extension": ".py",
   "mimetype": "text/x-python",
   "name": "python",
   "nbconvert_exporter": "python",
   "pygments_lexer": "ipython3",
   "version": "3.9.13"
  },
  "orig_nbformat": 4
 },
 "nbformat": 4,
 "nbformat_minor": 2
}