{
 "cells": [
  {
   "cell_type": "markdown",
   "source": [
    "# Train simple baseline models merged seasons (full) data"
   ],
   "metadata": {
    "collapsed": false,
    "pycharm": {
     "name": "#%% md\n"
    }
   }
  },
  {
   "cell_type": "code",
   "execution_count": 1,
   "metadata": {
    "collapsed": true,
    "pycharm": {
     "name": "#%%\n"
    }
   },
   "outputs": [],
   "source": [
    "import pandas as pd\n",
    "import matplotlib.pyplot as plt\n",
    "\n",
    "from src.features.data_engineering import preprocess_merged_seasons, reverse_processing"
   ]
  },
  {
   "cell_type": "code",
   "execution_count": 2,
   "outputs": [],
   "source": [
    "(x_train, y_train), (x_test, y_test), (x_train_target, x_test_target), x_scaler = preprocess_merged_seasons()"
   ],
   "metadata": {
    "collapsed": false,
    "pycharm": {
     "name": "#%%\n"
    }
   }
  },
  {
   "cell_type": "code",
   "execution_count": 3,
   "outputs": [
    {
     "data": {
      "text/plain": "        assists  bonus       bps  clean_sheets  creativity  goals_conceded  \\\n57145       0.0    0.0  0.142857           0.0    0.000000        0.000000   \n43801       0.0    0.0  0.263158           0.0    0.392042        0.111111   \n56695       0.0    0.0  0.157895           1.0    0.022235        0.000000   \n99393       0.0    0.0  0.165414           0.0    0.000000        0.000000   \n38950       0.0    0.0  0.203008           0.0    0.000000        0.222222   \n...         ...    ...       ...           ...         ...             ...   \n131439      0.0    0.0  0.142857           0.0    0.000000        0.000000   \n106314      0.0    0.0  0.165414           0.0    0.008777        0.333333   \n860         0.0    0.0  0.142857           0.0    0.000000        0.000000   \n15795       0.0    0.0  0.142857           0.0    0.000000        0.000000   \n125291      0.0    0.0  0.142857           0.0    0.000000        0.000000   \n\n        goals_scored  ict_index  influence   minutes  ...  transfers_balance  \\\n57145            0.0   0.000000   0.000000  0.000000  ...           0.483586   \n43801            0.0   0.388268   0.127139  0.866667  ...           0.498106   \n56695            0.0   0.036313   0.004890  0.866667  ...           0.483052   \n99393            0.0   0.000000   0.000000  0.011111  ...           0.483615   \n38950            0.0   0.022346   0.048900  1.000000  ...           0.492731   \n...              ...        ...        ...       ...  ...                ...   \n131439           0.0   0.000000   0.000000  0.000000  ...           0.483608   \n106314           0.0   0.005587   0.000000  0.388889  ...           0.482375   \n860              0.0   0.000000   0.000000  0.000000  ...           0.483748   \n15795            0.0   0.000000   0.000000  0.000000  ...           0.483573   \n125291           0.0   0.000000   0.000000  0.000000  ...           0.483634   \n\n        transfers_in  transfers_out     value  was_home  yellow_cards  \\\n57145       0.000136       0.000207  0.080808       0.0           0.0   \n43801       0.031793       0.005994  0.515152       1.0           0.0   \n56695       0.000375       0.001569  0.171717       1.0           0.0   \n99393       0.000027       0.000024  0.272727       0.0           0.0   \n38950       0.018432       0.002007  0.131313       1.0           0.0   \n...              ...            ...       ...       ...           ...   \n131439      0.000000       0.000008  0.282828       0.0           0.0   \n106314      0.002323       0.005148  0.151515       0.0           0.0   \n860         0.000288       0.000044  0.030303       0.0           0.0   \n15795       0.000041       0.000125  0.121212       0.0           0.0   \n125291      0.000222       0.000203  0.101010       0.0           0.0   \n\n        position_DEF  position_FWD  position_GK  position_MID  \n57145            0.0           0.0          0.0           1.0  \n43801            0.0           0.0          0.0           1.0  \n56695            0.0           0.0          0.0           1.0  \n99393            0.0           0.0          0.0           1.0  \n38950            0.0           0.0          1.0           0.0  \n...              ...           ...          ...           ...  \n131439           0.0           1.0          0.0           0.0  \n106314           0.0           1.0          0.0           0.0  \n860              1.0           0.0          0.0           0.0  \n15795            1.0           0.0          0.0           0.0  \n125291           0.0           0.0          1.0           0.0  \n\n[103640 rows x 28 columns]",
      "text/html": "<div>\n<style scoped>\n    .dataframe tbody tr th:only-of-type {\n        vertical-align: middle;\n    }\n\n    .dataframe tbody tr th {\n        vertical-align: top;\n    }\n\n    .dataframe thead th {\n        text-align: right;\n    }\n</style>\n<table border=\"1\" class=\"dataframe\">\n  <thead>\n    <tr style=\"text-align: right;\">\n      <th></th>\n      <th>assists</th>\n      <th>bonus</th>\n      <th>bps</th>\n      <th>clean_sheets</th>\n      <th>creativity</th>\n      <th>goals_conceded</th>\n      <th>goals_scored</th>\n      <th>ict_index</th>\n      <th>influence</th>\n      <th>minutes</th>\n      <th>...</th>\n      <th>transfers_balance</th>\n      <th>transfers_in</th>\n      <th>transfers_out</th>\n      <th>value</th>\n      <th>was_home</th>\n      <th>yellow_cards</th>\n      <th>position_DEF</th>\n      <th>position_FWD</th>\n      <th>position_GK</th>\n      <th>position_MID</th>\n    </tr>\n  </thead>\n  <tbody>\n    <tr>\n      <th>57145</th>\n      <td>0.0</td>\n      <td>0.0</td>\n      <td>0.142857</td>\n      <td>0.0</td>\n      <td>0.000000</td>\n      <td>0.000000</td>\n      <td>0.0</td>\n      <td>0.000000</td>\n      <td>0.000000</td>\n      <td>0.000000</td>\n      <td>...</td>\n      <td>0.483586</td>\n      <td>0.000136</td>\n      <td>0.000207</td>\n      <td>0.080808</td>\n      <td>0.0</td>\n      <td>0.0</td>\n      <td>0.0</td>\n      <td>0.0</td>\n      <td>0.0</td>\n      <td>1.0</td>\n    </tr>\n    <tr>\n      <th>43801</th>\n      <td>0.0</td>\n      <td>0.0</td>\n      <td>0.263158</td>\n      <td>0.0</td>\n      <td>0.392042</td>\n      <td>0.111111</td>\n      <td>0.0</td>\n      <td>0.388268</td>\n      <td>0.127139</td>\n      <td>0.866667</td>\n      <td>...</td>\n      <td>0.498106</td>\n      <td>0.031793</td>\n      <td>0.005994</td>\n      <td>0.515152</td>\n      <td>1.0</td>\n      <td>0.0</td>\n      <td>0.0</td>\n      <td>0.0</td>\n      <td>0.0</td>\n      <td>1.0</td>\n    </tr>\n    <tr>\n      <th>56695</th>\n      <td>0.0</td>\n      <td>0.0</td>\n      <td>0.157895</td>\n      <td>1.0</td>\n      <td>0.022235</td>\n      <td>0.000000</td>\n      <td>0.0</td>\n      <td>0.036313</td>\n      <td>0.004890</td>\n      <td>0.866667</td>\n      <td>...</td>\n      <td>0.483052</td>\n      <td>0.000375</td>\n      <td>0.001569</td>\n      <td>0.171717</td>\n      <td>1.0</td>\n      <td>0.0</td>\n      <td>0.0</td>\n      <td>0.0</td>\n      <td>0.0</td>\n      <td>1.0</td>\n    </tr>\n    <tr>\n      <th>99393</th>\n      <td>0.0</td>\n      <td>0.0</td>\n      <td>0.165414</td>\n      <td>0.0</td>\n      <td>0.000000</td>\n      <td>0.000000</td>\n      <td>0.0</td>\n      <td>0.000000</td>\n      <td>0.000000</td>\n      <td>0.011111</td>\n      <td>...</td>\n      <td>0.483615</td>\n      <td>0.000027</td>\n      <td>0.000024</td>\n      <td>0.272727</td>\n      <td>0.0</td>\n      <td>0.0</td>\n      <td>0.0</td>\n      <td>0.0</td>\n      <td>0.0</td>\n      <td>1.0</td>\n    </tr>\n    <tr>\n      <th>38950</th>\n      <td>0.0</td>\n      <td>0.0</td>\n      <td>0.203008</td>\n      <td>0.0</td>\n      <td>0.000000</td>\n      <td>0.222222</td>\n      <td>0.0</td>\n      <td>0.022346</td>\n      <td>0.048900</td>\n      <td>1.000000</td>\n      <td>...</td>\n      <td>0.492731</td>\n      <td>0.018432</td>\n      <td>0.002007</td>\n      <td>0.131313</td>\n      <td>1.0</td>\n      <td>0.0</td>\n      <td>0.0</td>\n      <td>0.0</td>\n      <td>1.0</td>\n      <td>0.0</td>\n    </tr>\n    <tr>\n      <th>...</th>\n      <td>...</td>\n      <td>...</td>\n      <td>...</td>\n      <td>...</td>\n      <td>...</td>\n      <td>...</td>\n      <td>...</td>\n      <td>...</td>\n      <td>...</td>\n      <td>...</td>\n      <td>...</td>\n      <td>...</td>\n      <td>...</td>\n      <td>...</td>\n      <td>...</td>\n      <td>...</td>\n      <td>...</td>\n      <td>...</td>\n      <td>...</td>\n      <td>...</td>\n      <td>...</td>\n    </tr>\n    <tr>\n      <th>131439</th>\n      <td>0.0</td>\n      <td>0.0</td>\n      <td>0.142857</td>\n      <td>0.0</td>\n      <td>0.000000</td>\n      <td>0.000000</td>\n      <td>0.0</td>\n      <td>0.000000</td>\n      <td>0.000000</td>\n      <td>0.000000</td>\n      <td>...</td>\n      <td>0.483608</td>\n      <td>0.000000</td>\n      <td>0.000008</td>\n      <td>0.282828</td>\n      <td>0.0</td>\n      <td>0.0</td>\n      <td>0.0</td>\n      <td>1.0</td>\n      <td>0.0</td>\n      <td>0.0</td>\n    </tr>\n    <tr>\n      <th>106314</th>\n      <td>0.0</td>\n      <td>0.0</td>\n      <td>0.165414</td>\n      <td>0.0</td>\n      <td>0.008777</td>\n      <td>0.333333</td>\n      <td>0.0</td>\n      <td>0.005587</td>\n      <td>0.000000</td>\n      <td>0.388889</td>\n      <td>...</td>\n      <td>0.482375</td>\n      <td>0.002323</td>\n      <td>0.005148</td>\n      <td>0.151515</td>\n      <td>0.0</td>\n      <td>0.0</td>\n      <td>0.0</td>\n      <td>1.0</td>\n      <td>0.0</td>\n      <td>0.0</td>\n    </tr>\n    <tr>\n      <th>860</th>\n      <td>0.0</td>\n      <td>0.0</td>\n      <td>0.142857</td>\n      <td>0.0</td>\n      <td>0.000000</td>\n      <td>0.000000</td>\n      <td>0.0</td>\n      <td>0.000000</td>\n      <td>0.000000</td>\n      <td>0.000000</td>\n      <td>...</td>\n      <td>0.483748</td>\n      <td>0.000288</td>\n      <td>0.000044</td>\n      <td>0.030303</td>\n      <td>0.0</td>\n      <td>0.0</td>\n      <td>1.0</td>\n      <td>0.0</td>\n      <td>0.0</td>\n      <td>0.0</td>\n    </tr>\n    <tr>\n      <th>15795</th>\n      <td>0.0</td>\n      <td>0.0</td>\n      <td>0.142857</td>\n      <td>0.0</td>\n      <td>0.000000</td>\n      <td>0.000000</td>\n      <td>0.0</td>\n      <td>0.000000</td>\n      <td>0.000000</td>\n      <td>0.000000</td>\n      <td>...</td>\n      <td>0.483573</td>\n      <td>0.000041</td>\n      <td>0.000125</td>\n      <td>0.121212</td>\n      <td>0.0</td>\n      <td>0.0</td>\n      <td>1.0</td>\n      <td>0.0</td>\n      <td>0.0</td>\n      <td>0.0</td>\n    </tr>\n    <tr>\n      <th>125291</th>\n      <td>0.0</td>\n      <td>0.0</td>\n      <td>0.142857</td>\n      <td>0.0</td>\n      <td>0.000000</td>\n      <td>0.000000</td>\n      <td>0.0</td>\n      <td>0.000000</td>\n      <td>0.000000</td>\n      <td>0.000000</td>\n      <td>...</td>\n      <td>0.483634</td>\n      <td>0.000222</td>\n      <td>0.000203</td>\n      <td>0.101010</td>\n      <td>0.0</td>\n      <td>0.0</td>\n      <td>0.0</td>\n      <td>0.0</td>\n      <td>1.0</td>\n      <td>0.0</td>\n    </tr>\n  </tbody>\n</table>\n<p>103640 rows × 28 columns</p>\n</div>"
     },
     "execution_count": 3,
     "metadata": {},
     "output_type": "execute_result"
    }
   ],
   "source": [
    "x_train"
   ],
   "metadata": {
    "collapsed": false,
    "pycharm": {
     "name": "#%%\n"
    }
   }
  },
  {
   "cell_type": "code",
   "execution_count": null,
   "outputs": [],
   "source": [],
   "metadata": {
    "collapsed": false,
    "pycharm": {
     "name": "#%%\n"
    }
   }
  }
 ],
 "metadata": {
  "kernelspec": {
   "display_name": "Python 3",
   "language": "python",
   "name": "python3"
  },
  "language_info": {
   "codemirror_mode": {
    "name": "ipython",
    "version": 2
   },
   "file_extension": ".py",
   "mimetype": "text/x-python",
   "name": "python",
   "nbconvert_exporter": "python",
   "pygments_lexer": "ipython2",
   "version": "2.7.6"
  }
 },
 "nbformat": 4,
 "nbformat_minor": 0
}