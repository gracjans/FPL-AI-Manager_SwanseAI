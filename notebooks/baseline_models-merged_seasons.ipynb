{
 "cells": [
  {
   "cell_type": "markdown",
   "source": [
    "# Train simple baseline models merged seasons (full) data"
   ],
   "metadata": {
    "collapsed": false,
    "pycharm": {
     "name": "#%% md\n"
    }
   }
  },
  {
   "cell_type": "code",
   "execution_count": 4,
   "metadata": {
    "collapsed": true,
    "pycharm": {
     "name": "#%%\n"
    }
   },
   "outputs": [],
   "source": [
    "import pandas as pd\n",
    "import matplotlib.pyplot as plt\n",
    "\n",
    "from src.features.data_engineering import preprocess_merged_seasons, reverse_processing"
   ]
  },
  {
   "cell_type": "code",
   "execution_count": 5,
   "outputs": [],
   "source": [
    "(x_train, y_train), (x_test, y_test), (x_train_target, x_test_target), x_scaler = preprocess_merged_seasons()"
   ],
   "metadata": {
    "collapsed": false,
    "pycharm": {
     "name": "#%%\n"
    }
   }
  },
  {
   "cell_type": "markdown",
   "source": [
    "## Train on baseline Dummy model"
   ],
   "metadata": {
    "collapsed": false,
    "pycharm": {
     "name": "#%% md\n"
    }
   }
  },
  {
   "cell_type": "code",
   "execution_count": 6,
   "outputs": [],
   "source": [
    "from sklearn.dummy import DummyRegressor\n",
    "from sklearn.metrics import mean_squared_error"
   ],
   "metadata": {
    "collapsed": false,
    "pycharm": {
     "name": "#%%\n"
    }
   }
  },
  {
   "cell_type": "code",
   "execution_count": 7,
   "outputs": [
    {
     "data": {
      "text/plain": "DummyRegressor()"
     },
     "execution_count": 7,
     "metadata": {},
     "output_type": "execute_result"
    }
   ],
   "source": [
    "dummy_regr = DummyRegressor(strategy=\"mean\")\n",
    "dummy_regr.fit(x_train, y_train)"
   ],
   "metadata": {
    "collapsed": false,
    "pycharm": {
     "name": "#%%\n"
    }
   }
  },
  {
   "cell_type": "code",
   "execution_count": 8,
   "outputs": [],
   "source": [
    "y_pred = dummy_regr.predict(x_test)"
   ],
   "metadata": {
    "collapsed": false,
    "pycharm": {
     "name": "#%%\n"
    }
   }
  },
  {
   "cell_type": "code",
   "execution_count": 9,
   "outputs": [
    {
     "data": {
      "text/plain": "6.2045750740819905"
     },
     "execution_count": 9,
     "metadata": {},
     "output_type": "execute_result"
    }
   ],
   "source": [
    "mean_squared_error(y_pred, y_test)"
   ],
   "metadata": {
    "collapsed": false,
    "pycharm": {
     "name": "#%%\n"
    }
   }
  },
  {
   "cell_type": "markdown",
   "source": [
    "## Train on baseline decision tree model"
   ],
   "metadata": {
    "collapsed": false,
    "pycharm": {
     "name": "#%% md\n"
    }
   }
  },
  {
   "cell_type": "code",
   "execution_count": 10,
   "outputs": [],
   "source": [
    "from sklearn.tree import DecisionTreeRegressor"
   ],
   "metadata": {
    "collapsed": false,
    "pycharm": {
     "name": "#%%\n"
    }
   }
  },
  {
   "cell_type": "code",
   "execution_count": 11,
   "outputs": [
    {
     "data": {
      "text/plain": "DecisionTreeRegressor()"
     },
     "execution_count": 11,
     "metadata": {},
     "output_type": "execute_result"
    }
   ],
   "source": [
    "tree_regr = DecisionTreeRegressor()\n",
    "tree_regr.fit(x_train, y_train)"
   ],
   "metadata": {
    "collapsed": false,
    "pycharm": {
     "name": "#%%\n"
    }
   }
  },
  {
   "cell_type": "code",
   "execution_count": 12,
   "outputs": [],
   "source": [
    "y_pred = tree_regr.predict(x_test)"
   ],
   "metadata": {
    "collapsed": false,
    "pycharm": {
     "name": "#%%\n"
    }
   }
  },
  {
   "cell_type": "code",
   "execution_count": 13,
   "outputs": [
    {
     "data": {
      "text/plain": "9.380201062038857"
     },
     "execution_count": 13,
     "metadata": {},
     "output_type": "execute_result"
    }
   ],
   "source": [
    "mean_squared_error(y_pred, y_test)"
   ],
   "metadata": {
    "collapsed": false,
    "pycharm": {
     "name": "#%%\n"
    }
   }
  },
  {
   "cell_type": "code",
   "execution_count": 14,
   "outputs": [
    {
     "name": "stdout",
     "output_type": "stream",
     "text": [
      "Feature 0: assists, Score: 0.00302\n",
      "Feature 1: bonus, Score: 0.00447\n",
      "Feature 2: bps, Score: 0.03975\n",
      "Feature 3: clean_sheets, Score: 0.0028\n",
      "Feature 4: creativity, Score: 0.05644\n",
      "Feature 5: goals_conceded, Score: 0.01642\n",
      "Feature 6: goals_scored, Score: 0.00161\n",
      "Feature 7: ict_index, Score: 0.04305\n",
      "Feature 8: influence, Score: 0.04971\n",
      "Feature 9: minutes, Score: 0.23814\n",
      "Feature 10: own_goals, Score: 0.00045\n",
      "Feature 11: penalties_missed, Score: 0.00057\n",
      "Feature 12: penalties_saved, Score: 0.00019\n",
      "Feature 13: red_cards, Score: 0.00044\n",
      "Feature 14: saves, Score: 0.00179\n",
      "Feature 15: selected, Score: 0.13173\n",
      "Feature 16: threat, Score: 0.03517\n",
      "Feature 17: total_points, Score: 0.01597\n",
      "Feature 18: transfers_balance, Score: 0.07465\n",
      "Feature 19: transfers_in, Score: 0.09323\n",
      "Feature 20: transfers_out, Score: 0.08391\n",
      "Feature 21: value, Score: 0.07245\n",
      "Feature 22: was_home, Score: 0.01151\n",
      "Feature 23: yellow_cards, Score: 0.00407\n",
      "Feature 24: position_DEF, Score: 0.00663\n",
      "Feature 25: position_FWD, Score: 0.00338\n",
      "Feature 26: position_GK, Score: 0.00246\n",
      "Feature 27: position_MID, Score: 0.006\n"
     ]
    },
    {
     "data": {
      "text/plain": "<Figure size 432x288 with 1 Axes>",
      "image/png": "[encoded data removed]"
     },
     "metadata": {
      "needs_background": "light"
     },
     "output_type": "display_data"
    }
   ],
   "source": [
    "# summarize feature importance\n",
    "importance = tree_regr.feature_importances_\n",
    "for i,v in enumerate(importance):\n",
    "    print(f'Feature {i}: {x_train.columns[i]}, Score: {round(v,5)}')\n",
    "# plot feature importance\n",
    "plt.bar([x for x in range(len(importance))], importance)\n",
    "plt.show()"
   ],
   "metadata": {
    "collapsed": false,
    "pycharm": {
     "name": "#%%\n"
    }
   }
  },
  {
   "cell_type": "markdown",
   "source": [
    "## Train on baseline SVR model"
   ],
   "metadata": {
    "collapsed": false,
    "pycharm": {
     "name": "#%% md\n"
    }
   }
  },
  {
   "cell_type": "code",
   "execution_count": 15,
   "outputs": [],
   "source": [
    "from sklearn.svm import LinearSVR"
   ],
   "metadata": {
    "collapsed": false,
    "pycharm": {
     "name": "#%%from sklearn import svm\n"
    }
   }
  },
  {
   "cell_type": "markdown",
   "source": [
    "For single season data at first I used SVR as the model, but because of it's time complexity for bigger data, now I use LinearSVR."
   ],
   "metadata": {
    "collapsed": false,
    "pycharm": {
     "name": "#%% md\n"
    }
   }
  },
  {
   "cell_type": "code",
   "execution_count": 16,
   "outputs": [
    {
     "name": "stderr",
     "output_type": "stream",
     "text": [
      "d:\\studies\\informatyka\\semestr_3\\fpl_ai_manager\\venv\\lib\\site-packages\\sklearn\\svm\\_base.py:1206: ConvergenceWarning: Liblinear failed to converge, increase the number of iterations.\n",
      "  warnings.warn(\n"
     ]
    },
    {
     "data": {
      "text/plain": "LinearSVR()"
     },
     "execution_count": 16,
     "metadata": {},
     "output_type": "execute_result"
    }
   ],
   "source": [
    "model_svr = LinearSVR()\n",
    "model_svr.fit(x_train, y_train)"
   ],
   "metadata": {
    "collapsed": false,
    "pycharm": {
     "name": "#%%\n"
    }
   }
  },
  {
   "cell_type": "code",
   "execution_count": 17,
   "outputs": [],
   "source": [
    "# create series to keep indexes and name same as in the original y data\n",
    "y_pred_2021 = pd.Series(model_svr.predict(x_test), index=y_test.index, name='predicted_total_points_next_gameweek')"
   ],
   "metadata": {
    "collapsed": false,
    "pycharm": {
     "name": "#%%\n"
    }
   }
  },
  {
   "cell_type": "code",
   "execution_count": 18,
   "outputs": [
    {
     "data": {
      "text/plain": "5.209431930050453"
     },
     "execution_count": 18,
     "metadata": {},
     "output_type": "execute_result"
    }
   ],
   "source": [
    "mean_squared_error(y_pred_2021, y_test)"
   ],
   "metadata": {
    "collapsed": false,
    "pycharm": {
     "name": "#%%\n"
    }
   }
  },
  {
   "cell_type": "markdown",
   "source": [
    "## Merge results with footballers extracted target data"
   ],
   "metadata": {
    "collapsed": false,
    "pycharm": {
     "name": "#%% md\n"
    }
   }
  },
  {
   "cell_type": "code",
   "execution_count": 19,
   "outputs": [],
   "source": [
    "x_test_reversed = reverse_processing(x_test, x_scaler, x_test_target)"
   ],
   "metadata": {
    "collapsed": false,
    "pycharm": {
     "name": "#%%\n"
    }
   }
  },
  {
   "cell_type": "code",
   "execution_count": 20,
   "outputs": [],
   "source": [
    "x_test_reversed_svr = pd.concat([y_pred_2021, x_test_reversed], axis=1)"
   ],
   "metadata": {
    "collapsed": false,
    "pycharm": {
     "name": "#%%\n"
    }
   }
  },
  {
   "cell_type": "code",
   "execution_count": 23,
   "outputs": [
    {
     "data": {
      "text/plain": "        predicted_total_points_next_gameweek  \\\n95003                               3.225766   \n124386                              3.143495   \n92785                               2.924833   \n70011                               2.899406   \n93416                               2.861371   \n92826                               2.852597   \n56967                               2.845919   \n116779                              2.841192   \n117598                              2.834723   \n101534                              2.809059   \n\n                                           name  GW  element  \\\n95003             Bruno Miguel Borges Fernandes   9      302   \n124386  Bernardo Mota Veiga de Carvalho e Silva  16      261   \n92785                                Harry Kane   5      388   \n70011                           Teemu_Pukki_278   4      278   \n93416                             Heung-Min Son   6      390   \n92826                          James RodrÃ­guez   5      508   \n56967                            Paul_Pogba_302  20      302   \n116779                             Demarai Gray   4      484   \n117598                            Romelu Lukaku   5      529   \n101534                          Raheem Sterling  20      276   \n\n        total_points_next_gameweek   season  assists  bonus   bps  \\\n95003                         10.0  2020-21      0.0    3.0  44.0   \n124386                         1.0  2021-22      1.0    0.0  17.0   \n92785                          5.0  2020-21      1.0    3.0  69.0   \n70011                         12.0  2019-20      0.0    0.0   5.0   \n93416                          2.0  2020-21      0.0    3.0  30.0   \n92826                          2.0  2020-21      1.0    0.0  22.0   \n56967                          3.0  2018-19      1.0    3.0  66.0   \n116779                         2.0  2021-22      0.0    0.0  25.0   \n117598                         2.0  2021-22      0.0    0.0  11.0   \n101534                         0.0  2020-21      1.0    0.0  38.0   \n\n        clean_sheets  ...  transfers_balance  transfers_in  transfers_out  \\\n95003            1.0  ...          1033358.0     1055501.0        22143.0   \n124386           1.0  ...           983926.0      993639.0         9713.0   \n92785            0.0  ...           723621.0      769600.0        45979.0   \n70011            0.0  ...           984950.0     1013156.0        28206.0   \n93416            1.0  ...           746754.0      764606.0        17852.0   \n92826            0.0  ...           735240.0      817940.0        82700.0   \n56967            0.0  ...           420835.0      427541.0         6706.0   \n116779           0.0  ...           614701.0      802662.0       187961.0   \n117598           1.0  ...           686333.0      788504.0       102171.0   \n101534           1.0  ...           417851.0      452070.0        34219.0   \n\n        value  was_home  yellow_cards  position_DEF  position_FWD  \\\n95003   107.0       1.0           0.0           0.0           0.0   \n124386   76.0       1.0           0.0           0.0           0.0   \n92785   106.0       1.0           0.0           0.0           1.0   \n70011    70.0       0.0           0.0           0.0           1.0   \n93416    94.0       0.0           0.0           0.0           0.0   \n92826    79.0       1.0           1.0           0.0           0.0   \n56967    81.0       1.0           0.0           0.0           0.0   \n116779   56.0       1.0           0.0           0.0           0.0   \n117598  116.0       0.0           0.0           0.0           1.0   \n101534  115.0       0.0           0.0           0.0           0.0   \n\n        position_GK  position_MID  \n95003           0.0           1.0  \n124386          0.0           1.0  \n92785           0.0           0.0  \n70011           0.0           0.0  \n93416           0.0           1.0  \n92826           0.0           1.0  \n56967           0.0           1.0  \n116779          0.0           1.0  \n117598          0.0           0.0  \n101534          0.0           1.0  \n\n[10 rows x 34 columns]",
      "text/html": "<div>\n<style scoped>\n    .dataframe tbody tr th:only-of-type {\n        vertical-align: middle;\n    }\n\n    .dataframe tbody tr th {\n        vertical-align: top;\n    }\n\n    .dataframe thead th {\n        text-align: right;\n    }\n</style>\n<table border=\"1\" class=\"dataframe\">\n  <thead>\n    <tr style=\"text-align: right;\">\n      <th></th>\n      <th>predicted_total_points_next_gameweek</th>\n      <th>name</th>\n      <th>GW</th>\n      <th>element</th>\n      <th>total_points_next_gameweek</th>\n      <th>season</th>\n      <th>assists</th>\n      <th>bonus</th>\n      <th>bps</th>\n      <th>clean_sheets</th>\n      <th>...</th>\n      <th>transfers_balance</th>\n      <th>transfers_in</th>\n      <th>transfers_out</th>\n      <th>value</th>\n      <th>was_home</th>\n      <th>yellow_cards</th>\n      <th>position_DEF</th>\n      <th>position_FWD</th>\n      <th>position_GK</th>\n      <th>position_MID</th>\n    </tr>\n  </thead>\n  <tbody>\n    <tr>\n      <th>95003</th>\n      <td>3.225766</td>\n      <td>Bruno Miguel Borges Fernandes</td>\n      <td>9</td>\n      <td>302</td>\n      <td>10.0</td>\n      <td>2020-21</td>\n      <td>0.0</td>\n      <td>3.0</td>\n      <td>44.0</td>\n      <td>1.0</td>\n      <td>...</td>\n      <td>1033358.0</td>\n      <td>1055501.0</td>\n      <td>22143.0</td>\n      <td>107.0</td>\n      <td>1.0</td>\n      <td>0.0</td>\n      <td>0.0</td>\n      <td>0.0</td>\n      <td>0.0</td>\n      <td>1.0</td>\n    </tr>\n    <tr>\n      <th>124386</th>\n      <td>3.143495</td>\n      <td>Bernardo Mota Veiga de Carvalho e Silva</td>\n      <td>16</td>\n      <td>261</td>\n      <td>1.0</td>\n      <td>2021-22</td>\n      <td>1.0</td>\n      <td>0.0</td>\n      <td>17.0</td>\n      <td>1.0</td>\n      <td>...</td>\n      <td>983926.0</td>\n      <td>993639.0</td>\n      <td>9713.0</td>\n      <td>76.0</td>\n      <td>1.0</td>\n      <td>0.0</td>\n      <td>0.0</td>\n      <td>0.0</td>\n      <td>0.0</td>\n      <td>1.0</td>\n    </tr>\n    <tr>\n      <th>92785</th>\n      <td>2.924833</td>\n      <td>Harry Kane</td>\n      <td>5</td>\n      <td>388</td>\n      <td>5.0</td>\n      <td>2020-21</td>\n      <td>1.0</td>\n      <td>3.0</td>\n      <td>69.0</td>\n      <td>0.0</td>\n      <td>...</td>\n      <td>723621.0</td>\n      <td>769600.0</td>\n      <td>45979.0</td>\n      <td>106.0</td>\n      <td>1.0</td>\n      <td>0.0</td>\n      <td>0.0</td>\n      <td>1.0</td>\n      <td>0.0</td>\n      <td>0.0</td>\n    </tr>\n    <tr>\n      <th>70011</th>\n      <td>2.899406</td>\n      <td>Teemu_Pukki_278</td>\n      <td>4</td>\n      <td>278</td>\n      <td>12.0</td>\n      <td>2019-20</td>\n      <td>0.0</td>\n      <td>0.0</td>\n      <td>5.0</td>\n      <td>0.0</td>\n      <td>...</td>\n      <td>984950.0</td>\n      <td>1013156.0</td>\n      <td>28206.0</td>\n      <td>70.0</td>\n      <td>0.0</td>\n      <td>0.0</td>\n      <td>0.0</td>\n      <td>1.0</td>\n      <td>0.0</td>\n      <td>0.0</td>\n    </tr>\n    <tr>\n      <th>93416</th>\n      <td>2.861371</td>\n      <td>Heung-Min Son</td>\n      <td>6</td>\n      <td>390</td>\n      <td>2.0</td>\n      <td>2020-21</td>\n      <td>0.0</td>\n      <td>3.0</td>\n      <td>30.0</td>\n      <td>1.0</td>\n      <td>...</td>\n      <td>746754.0</td>\n      <td>764606.0</td>\n      <td>17852.0</td>\n      <td>94.0</td>\n      <td>0.0</td>\n      <td>0.0</td>\n      <td>0.0</td>\n      <td>0.0</td>\n      <td>0.0</td>\n      <td>1.0</td>\n    </tr>\n    <tr>\n      <th>92826</th>\n      <td>2.852597</td>\n      <td>James RodrÃ­guez</td>\n      <td>5</td>\n      <td>508</td>\n      <td>2.0</td>\n      <td>2020-21</td>\n      <td>1.0</td>\n      <td>0.0</td>\n      <td>22.0</td>\n      <td>0.0</td>\n      <td>...</td>\n      <td>735240.0</td>\n      <td>817940.0</td>\n      <td>82700.0</td>\n      <td>79.0</td>\n      <td>1.0</td>\n      <td>1.0</td>\n      <td>0.0</td>\n      <td>0.0</td>\n      <td>0.0</td>\n      <td>1.0</td>\n    </tr>\n    <tr>\n      <th>56967</th>\n      <td>2.845919</td>\n      <td>Paul_Pogba_302</td>\n      <td>20</td>\n      <td>302</td>\n      <td>3.0</td>\n      <td>2018-19</td>\n      <td>1.0</td>\n      <td>3.0</td>\n      <td>66.0</td>\n      <td>0.0</td>\n      <td>...</td>\n      <td>420835.0</td>\n      <td>427541.0</td>\n      <td>6706.0</td>\n      <td>81.0</td>\n      <td>1.0</td>\n      <td>0.0</td>\n      <td>0.0</td>\n      <td>0.0</td>\n      <td>0.0</td>\n      <td>1.0</td>\n    </tr>\n    <tr>\n      <th>116779</th>\n      <td>2.841192</td>\n      <td>Demarai Gray</td>\n      <td>4</td>\n      <td>484</td>\n      <td>2.0</td>\n      <td>2021-22</td>\n      <td>0.0</td>\n      <td>0.0</td>\n      <td>25.0</td>\n      <td>0.0</td>\n      <td>...</td>\n      <td>614701.0</td>\n      <td>802662.0</td>\n      <td>187961.0</td>\n      <td>56.0</td>\n      <td>1.0</td>\n      <td>0.0</td>\n      <td>0.0</td>\n      <td>0.0</td>\n      <td>0.0</td>\n      <td>1.0</td>\n    </tr>\n    <tr>\n      <th>117598</th>\n      <td>2.834723</td>\n      <td>Romelu Lukaku</td>\n      <td>5</td>\n      <td>529</td>\n      <td>2.0</td>\n      <td>2021-22</td>\n      <td>0.0</td>\n      <td>0.0</td>\n      <td>11.0</td>\n      <td>1.0</td>\n      <td>...</td>\n      <td>686333.0</td>\n      <td>788504.0</td>\n      <td>102171.0</td>\n      <td>116.0</td>\n      <td>0.0</td>\n      <td>0.0</td>\n      <td>0.0</td>\n      <td>1.0</td>\n      <td>0.0</td>\n      <td>0.0</td>\n    </tr>\n    <tr>\n      <th>101534</th>\n      <td>2.809059</td>\n      <td>Raheem Sterling</td>\n      <td>20</td>\n      <td>276</td>\n      <td>0.0</td>\n      <td>2020-21</td>\n      <td>1.0</td>\n      <td>0.0</td>\n      <td>38.0</td>\n      <td>1.0</td>\n      <td>...</td>\n      <td>417851.0</td>\n      <td>452070.0</td>\n      <td>34219.0</td>\n      <td>115.0</td>\n      <td>0.0</td>\n      <td>0.0</td>\n      <td>0.0</td>\n      <td>0.0</td>\n      <td>0.0</td>\n      <td>1.0</td>\n    </tr>\n  </tbody>\n</table>\n<p>10 rows × 34 columns</p>\n</div>"
     },
     "execution_count": 23,
     "metadata": {},
     "output_type": "execute_result"
    }
   ],
   "source": [
    "#preview x_test_reversed sorted by predicted total points descending\n",
    "x_test_reversed_svr.sort_values(by='predicted_total_points_next_gameweek', ascending=False).head(10)"
   ],
   "metadata": {
    "collapsed": false,
    "pycharm": {
     "name": "#%%\n"
    }
   }
  },
  {
   "cell_type": "markdown",
   "source": [
    "## Train on baseline Multi-layer Perceptron model"
   ],
   "metadata": {
    "collapsed": false,
    "pycharm": {
     "name": "#%% md\n"
    }
   }
  },
  {
   "cell_type": "code",
   "execution_count": 25,
   "outputs": [],
   "source": [
    "import tensorflow as tf"
   ],
   "metadata": {
    "collapsed": false,
    "pycharm": {
     "name": "#%%\n"
    }
   }
  },
  {
   "cell_type": "code",
   "execution_count": 26,
   "outputs": [],
   "source": [
    "model_mlp = tf.keras.models.Sequential()\n",
    "\n",
    "model_mlp.add(tf.keras.layers.Dense(units=32, activation='relu', input_shape=(x_train.shape[1],)))\n",
    "model_mlp.add(tf.keras.layers.Dense(units=16, activation='relu'))\n",
    "model_mlp.add(tf.keras.layers.Dense(units=1, activation='linear'))\n"
   ],
   "metadata": {
    "collapsed": false,
    "pycharm": {
     "name": "#%%\n"
    }
   }
  },
  {
   "cell_type": "code",
   "execution_count": 27,
   "outputs": [],
   "source": [
    "model_mlp.compile(optimizer='adam',\n",
    "                  loss='mse')"
   ],
   "metadata": {
    "collapsed": false,
    "pycharm": {
     "name": "#%%model_mlp.compile(optimizer='adam', loss='mse')\n"
    }
   }
  },
  {
   "cell_type": "code",
   "execution_count": 28,
   "outputs": [
    {
     "name": "stdout",
     "output_type": "stream",
     "text": [
      "Epoch 1/30\n",
      "5182/5182 [==============================] - 4s 793us/step - loss: 4.6529 - val_loss: 4.7341\n",
      "Epoch 2/30\n",
      "5182/5182 [==============================] - 4s 705us/step - loss: 4.5508 - val_loss: 4.7211\n",
      "Epoch 3/30\n",
      "5182/5182 [==============================] - 4s 763us/step - loss: 4.5383 - val_loss: 4.7035\n",
      "Epoch 4/30\n",
      "5182/5182 [==============================] - 4s 743us/step - loss: 4.5289 - val_loss: 4.7000\n",
      "Epoch 5/30\n",
      "5182/5182 [==============================] - 4s 734us/step - loss: 4.5199 - val_loss: 4.7541\n",
      "Epoch 6/30\n",
      "5182/5182 [==============================] - 4s 710us/step - loss: 4.5124 - val_loss: 4.6930\n",
      "Epoch 7/30\n",
      "5182/5182 [==============================] - 4s 688us/step - loss: 4.5089 - val_loss: 4.6944\n",
      "Epoch 8/30\n",
      "5182/5182 [==============================] - 4s 826us/step - loss: 4.5065 - val_loss: 4.6871\n",
      "Epoch 9/30\n",
      "5182/5182 [==============================] - 4s 786us/step - loss: 4.5042 - val_loss: 4.6779\n",
      "Epoch 10/30\n",
      "5182/5182 [==============================] - 4s 761us/step - loss: 4.5003 - val_loss: 4.7033\n",
      "Epoch 11/30\n",
      "5182/5182 [==============================] - 4s 755us/step - loss: 4.4972 - val_loss: 4.6933\n",
      "Epoch 12/30\n",
      "5182/5182 [==============================] - 4s 738us/step - loss: 4.4933 - val_loss: 4.7041\n",
      "Epoch 13/30\n",
      "5182/5182 [==============================] - 4s 722us/step - loss: 4.4955 - val_loss: 4.6808\n",
      "Epoch 14/30\n",
      "5182/5182 [==============================] - 4s 728us/step - loss: 4.4881 - val_loss: 4.6906\n",
      "Epoch 15/30\n",
      "5182/5182 [==============================] - 4s 693us/step - loss: 4.4863 - val_loss: 4.7032\n",
      "Epoch 16/30\n",
      "5182/5182 [==============================] - 4s 706us/step - loss: 4.4861 - val_loss: 4.6883\n",
      "Epoch 17/30\n",
      "5182/5182 [==============================] - 4s 758us/step - loss: 4.4796 - val_loss: 4.6812\n",
      "Epoch 18/30\n",
      "5182/5182 [==============================] - 5s 888us/step - loss: 4.4823 - val_loss: 4.6768\n",
      "Epoch 19/30\n",
      "5182/5182 [==============================] - 4s 780us/step - loss: 4.4781 - val_loss: 4.6887\n",
      "Epoch 20/30\n",
      "5182/5182 [==============================] - 4s 687us/step - loss: 4.4773 - val_loss: 4.6793\n",
      "Epoch 21/30\n",
      "5182/5182 [==============================] - 4s 759us/step - loss: 4.4730 - val_loss: 4.6743\n",
      "Epoch 22/30\n",
      "5182/5182 [==============================] - 4s 760us/step - loss: 4.4727 - val_loss: 4.7127\n",
      "Epoch 23/30\n",
      "5182/5182 [==============================] - 4s 743us/step - loss: 4.4696 - val_loss: 4.7056\n",
      "Epoch 24/30\n",
      "5182/5182 [==============================] - 4s 740us/step - loss: 4.4651 - val_loss: 4.6912\n",
      "Epoch 25/30\n",
      "5182/5182 [==============================] - 4s 677us/step - loss: 4.4655 - val_loss: 4.6813\n",
      "Epoch 26/30\n",
      "5182/5182 [==============================] - 4s 712us/step - loss: 4.4619 - val_loss: 4.6877\n",
      "Epoch 27/30\n",
      "5182/5182 [==============================] - 4s 689us/step - loss: 4.4630 - val_loss: 4.7018\n",
      "Epoch 28/30\n",
      "5182/5182 [==============================] - 4s 719us/step - loss: 4.4625 - val_loss: 4.6907\n",
      "Epoch 29/30\n",
      "5182/5182 [==============================] - 4s 834us/step - loss: 4.4594 - val_loss: 4.6965\n",
      "Epoch 30/30\n",
      "5182/5182 [==============================] - 4s 703us/step - loss: 4.4600 - val_loss: 4.6943\n"
     ]
    }
   ],
   "source": [
    "history = model_mlp.fit(x_train, y_train,\n",
    "                        batch_size=16,\n",
    "                        epochs=30,\n",
    "                        validation_split=0.2)"
   ],
   "metadata": {
    "collapsed": false,
    "pycharm": {
     "name": "#%%\n"
    }
   }
  },
  {
   "cell_type": "code",
   "execution_count": 29,
   "outputs": [
    {
     "name": "stdout",
     "output_type": "stream",
     "text": [
      "Test loss: 4.492274761199951\n"
     ]
    }
   ],
   "source": [
    "score = model_mlp.evaluate(x_test, y_test, verbose=0)\n",
    "print('Test loss:', score)"
   ],
   "metadata": {
    "collapsed": false,
    "pycharm": {
     "name": "#%%\n"
    }
   }
  },
  {
   "cell_type": "code",
   "execution_count": 30,
   "outputs": [
    {
     "data": {
      "text/plain": "<Figure size 432x288 with 1 Axes>",
      "image/png": "[encoded data removed]"
     },
     "metadata": {
      "needs_background": "light"
     },
     "output_type": "display_data"
    }
   ],
   "source": [
    "# Plot training & validation loss values\n",
    "plt.plot(history.history['loss'])\n",
    "plt.plot(history.history['val_loss'])\n",
    "plt.title('Model loss')\n",
    "plt.ylabel('Loss')\n",
    "plt.xlabel('Epoch')\n",
    "plt.legend(['Train', 'Test'], loc='upper left')\n",
    "plt.show()"
   ],
   "metadata": {
    "collapsed": false,
    "pycharm": {
     "name": "#%%\n"
    }
   }
  },
  {
   "cell_type": "code",
   "execution_count": 31,
   "outputs": [],
   "source": [
    "y_pred_2021_mlp = pd.Series(model_mlp.predict(x_test).reshape(-1,), index=y_test.index, name='predicted_total_points_next_gameweek')"
   ],
   "metadata": {
    "collapsed": false,
    "pycharm": {
     "name": "#%%\n"
    }
   }
  },
  {
   "cell_type": "code",
   "execution_count": 32,
   "outputs": [
    {
     "data": {
      "text/plain": "        predicted_total_points_next_gameweek                           name  \\\n69898                               7.501763              Mohamed_Salah_191   \n99247                               7.399347                  Mohamed Salah   \n59869                               7.382651              Mohamed_Salah_253   \n99759                               7.018317                  Mohamed Salah   \n102240                              6.833116  Bruno Miguel Borges Fernandes   \n49716                               6.576674              Mohamed_Salah_253   \n47568                               6.564017              Mohamed_Salah_253   \n83427                               6.521564              Mohamed_Salah_191   \n53082                               6.473922                 Sadio_Mané_251   \n101534                              6.469264                Raheem Sterling   \n\n        GW  element  total_points_next_gameweek   season  assists  bonus  \\\n69898    4      191                         9.0  2019-20      1.0    0.0   \n99247   16      254                         2.0  2020-21      0.0    0.0   \n59869   25      253                         8.0  2018-19      0.0    0.0   \n99759   17      254                         3.0  2020-21      0.0    0.0   \n102240  21      302                        17.0  2020-21      0.0    0.0   \n49716    7      253                         3.0  2018-19      0.0    0.0   \n47568    3      253                         2.0  2018-19      0.0    0.0   \n83427   28      191                         9.0  2019-20      0.0    0.0   \n53082   13      251                         3.0  2018-19      2.0    0.0   \n101534  20      276                         0.0  2020-21      1.0    0.0   \n\n         bps  clean_sheets  ...  transfers_balance  transfers_in  \\\n69898   15.0           1.0  ...           243530.0      291554.0   \n99247   -5.0           1.0  ...            79807.0      108826.0   \n59869   -2.0           0.0  ...           -18495.0       36357.0   \n99759   -1.0           0.0  ...            12437.0       87003.0   \n102240   8.0           1.0  ...           -57421.0       75425.0   \n49716    8.0           0.0  ...          -106042.0       22128.0   \n47568   28.0           1.0  ...             5370.0       80831.0   \n83427    5.0           0.0  ...            23476.0       57735.0   \n53082   20.0           1.0  ...           -56036.0       48051.0   \n101534  38.0           1.0  ...           417851.0      452070.0   \n\n        transfers_out  value  was_home  yellow_cards  position_DEF  \\\n69898         48024.0  125.0       0.0           0.0           0.0   \n99247         29019.0  126.0       0.0           0.0           0.0   \n59869         54852.0  136.0       0.0           0.0           0.0   \n99759         74566.0  126.0       0.0           0.0           0.0   \n102240       132846.0  114.0       0.0           0.0           0.0   \n49716        128170.0  129.0       0.0           0.0           0.0   \n47568         75461.0  130.0       1.0           0.0           0.0   \n83427         34259.0  128.0       0.0           0.0           0.0   \n53082        104087.0   99.0       0.0           0.0           0.0   \n101534        34219.0  115.0       0.0           0.0           0.0   \n\n        position_FWD  position_GK  position_MID  \n69898            0.0          0.0           1.0  \n99247            0.0          0.0           1.0  \n59869            0.0          0.0           1.0  \n99759            0.0          0.0           1.0  \n102240           0.0          0.0           1.0  \n49716            0.0          0.0           1.0  \n47568            0.0          0.0           1.0  \n83427            0.0          0.0           1.0  \n53082            0.0          0.0           1.0  \n101534           0.0          0.0           1.0  \n\n[10 rows x 34 columns]",
      "text/html": "<div>\n<style scoped>\n    .dataframe tbody tr th:only-of-type {\n        vertical-align: middle;\n    }\n\n    .dataframe tbody tr th {\n        vertical-align: top;\n    }\n\n    .dataframe thead th {\n        text-align: right;\n    }\n</style>\n<table border=\"1\" class=\"dataframe\">\n  <thead>\n    <tr style=\"text-align: right;\">\n      <th></th>\n      <th>predicted_total_points_next_gameweek</th>\n      <th>name</th>\n      <th>GW</th>\n      <th>element</th>\n      <th>total_points_next_gameweek</th>\n      <th>season</th>\n      <th>assists</th>\n      <th>bonus</th>\n      <th>bps</th>\n      <th>clean_sheets</th>\n      <th>...</th>\n      <th>transfers_balance</th>\n      <th>transfers_in</th>\n      <th>transfers_out</th>\n      <th>value</th>\n      <th>was_home</th>\n      <th>yellow_cards</th>\n      <th>position_DEF</th>\n      <th>position_FWD</th>\n      <th>position_GK</th>\n      <th>position_MID</th>\n    </tr>\n  </thead>\n  <tbody>\n    <tr>\n      <th>69898</th>\n      <td>7.501763</td>\n      <td>Mohamed_Salah_191</td>\n      <td>4</td>\n      <td>191</td>\n      <td>9.0</td>\n      <td>2019-20</td>\n      <td>1.0</td>\n      <td>0.0</td>\n      <td>15.0</td>\n      <td>1.0</td>\n      <td>...</td>\n      <td>243530.0</td>\n      <td>291554.0</td>\n      <td>48024.0</td>\n      <td>125.0</td>\n      <td>0.0</td>\n      <td>0.0</td>\n      <td>0.0</td>\n      <td>0.0</td>\n      <td>0.0</td>\n      <td>1.0</td>\n    </tr>\n    <tr>\n      <th>99247</th>\n      <td>7.399347</td>\n      <td>Mohamed Salah</td>\n      <td>16</td>\n      <td>254</td>\n      <td>2.0</td>\n      <td>2020-21</td>\n      <td>0.0</td>\n      <td>0.0</td>\n      <td>-5.0</td>\n      <td>1.0</td>\n      <td>...</td>\n      <td>79807.0</td>\n      <td>108826.0</td>\n      <td>29019.0</td>\n      <td>126.0</td>\n      <td>0.0</td>\n      <td>0.0</td>\n      <td>0.0</td>\n      <td>0.0</td>\n      <td>0.0</td>\n      <td>1.0</td>\n    </tr>\n    <tr>\n      <th>59869</th>\n      <td>7.382651</td>\n      <td>Mohamed_Salah_253</td>\n      <td>25</td>\n      <td>253</td>\n      <td>8.0</td>\n      <td>2018-19</td>\n      <td>0.0</td>\n      <td>0.0</td>\n      <td>-2.0</td>\n      <td>0.0</td>\n      <td>...</td>\n      <td>-18495.0</td>\n      <td>36357.0</td>\n      <td>54852.0</td>\n      <td>136.0</td>\n      <td>0.0</td>\n      <td>0.0</td>\n      <td>0.0</td>\n      <td>0.0</td>\n      <td>0.0</td>\n      <td>1.0</td>\n    </tr>\n    <tr>\n      <th>99759</th>\n      <td>7.018317</td>\n      <td>Mohamed Salah</td>\n      <td>17</td>\n      <td>254</td>\n      <td>3.0</td>\n      <td>2020-21</td>\n      <td>0.0</td>\n      <td>0.0</td>\n      <td>-1.0</td>\n      <td>0.0</td>\n      <td>...</td>\n      <td>12437.0</td>\n      <td>87003.0</td>\n      <td>74566.0</td>\n      <td>126.0</td>\n      <td>0.0</td>\n      <td>0.0</td>\n      <td>0.0</td>\n      <td>0.0</td>\n      <td>0.0</td>\n      <td>1.0</td>\n    </tr>\n    <tr>\n      <th>102240</th>\n      <td>6.833116</td>\n      <td>Bruno Miguel Borges Fernandes</td>\n      <td>21</td>\n      <td>302</td>\n      <td>17.0</td>\n      <td>2020-21</td>\n      <td>0.0</td>\n      <td>0.0</td>\n      <td>8.0</td>\n      <td>1.0</td>\n      <td>...</td>\n      <td>-57421.0</td>\n      <td>75425.0</td>\n      <td>132846.0</td>\n      <td>114.0</td>\n      <td>0.0</td>\n      <td>0.0</td>\n      <td>0.0</td>\n      <td>0.0</td>\n      <td>0.0</td>\n      <td>1.0</td>\n    </tr>\n    <tr>\n      <th>49716</th>\n      <td>6.576674</td>\n      <td>Mohamed_Salah_253</td>\n      <td>7</td>\n      <td>253</td>\n      <td>3.0</td>\n      <td>2018-19</td>\n      <td>0.0</td>\n      <td>0.0</td>\n      <td>8.0</td>\n      <td>0.0</td>\n      <td>...</td>\n      <td>-106042.0</td>\n      <td>22128.0</td>\n      <td>128170.0</td>\n      <td>129.0</td>\n      <td>0.0</td>\n      <td>0.0</td>\n      <td>0.0</td>\n      <td>0.0</td>\n      <td>0.0</td>\n      <td>1.0</td>\n    </tr>\n    <tr>\n      <th>47568</th>\n      <td>6.564017</td>\n      <td>Mohamed_Salah_253</td>\n      <td>3</td>\n      <td>253</td>\n      <td>2.0</td>\n      <td>2018-19</td>\n      <td>0.0</td>\n      <td>0.0</td>\n      <td>28.0</td>\n      <td>1.0</td>\n      <td>...</td>\n      <td>5370.0</td>\n      <td>80831.0</td>\n      <td>75461.0</td>\n      <td>130.0</td>\n      <td>1.0</td>\n      <td>0.0</td>\n      <td>0.0</td>\n      <td>0.0</td>\n      <td>0.0</td>\n      <td>1.0</td>\n    </tr>\n    <tr>\n      <th>83427</th>\n      <td>6.521564</td>\n      <td>Mohamed_Salah_191</td>\n      <td>28</td>\n      <td>191</td>\n      <td>9.0</td>\n      <td>2019-20</td>\n      <td>0.0</td>\n      <td>0.0</td>\n      <td>5.0</td>\n      <td>0.0</td>\n      <td>...</td>\n      <td>23476.0</td>\n      <td>57735.0</td>\n      <td>34259.0</td>\n      <td>128.0</td>\n      <td>0.0</td>\n      <td>0.0</td>\n      <td>0.0</td>\n      <td>0.0</td>\n      <td>0.0</td>\n      <td>1.0</td>\n    </tr>\n    <tr>\n      <th>53082</th>\n      <td>6.473922</td>\n      <td>Sadio_Mané_251</td>\n      <td>13</td>\n      <td>251</td>\n      <td>3.0</td>\n      <td>2018-19</td>\n      <td>2.0</td>\n      <td>0.0</td>\n      <td>20.0</td>\n      <td>1.0</td>\n      <td>...</td>\n      <td>-56036.0</td>\n      <td>48051.0</td>\n      <td>104087.0</td>\n      <td>99.0</td>\n      <td>0.0</td>\n      <td>0.0</td>\n      <td>0.0</td>\n      <td>0.0</td>\n      <td>0.0</td>\n      <td>1.0</td>\n    </tr>\n    <tr>\n      <th>101534</th>\n      <td>6.469264</td>\n      <td>Raheem Sterling</td>\n      <td>20</td>\n      <td>276</td>\n      <td>0.0</td>\n      <td>2020-21</td>\n      <td>1.0</td>\n      <td>0.0</td>\n      <td>38.0</td>\n      <td>1.0</td>\n      <td>...</td>\n      <td>417851.0</td>\n      <td>452070.0</td>\n      <td>34219.0</td>\n      <td>115.0</td>\n      <td>0.0</td>\n      <td>0.0</td>\n      <td>0.0</td>\n      <td>0.0</td>\n      <td>0.0</td>\n      <td>1.0</td>\n    </tr>\n  </tbody>\n</table>\n<p>10 rows × 34 columns</p>\n</div>"
     },
     "execution_count": 32,
     "metadata": {},
     "output_type": "execute_result"
    }
   ],
   "source": [
    "x_test_reversed_mlp = pd.concat([y_pred_2021_mlp, x_test_reversed], axis=1)\n",
    "#preview x_test_reversed sorted by predicted total points descending\n",
    "x_test_reversed_mlp.sort_values(by='predicted_total_points_next_gameweek', ascending=False).head(10)"
   ],
   "metadata": {
    "collapsed": false,
    "pycharm": {
     "name": "#%%\n"
    }
   }
  },
  {
   "cell_type": "markdown",
   "source": [
    "### Train bigger MLP model"
   ],
   "metadata": {
    "collapsed": false,
    "pycharm": {
     "name": "#%% md\n"
    }
   }
  },
  {
   "cell_type": "code",
   "execution_count": 24,
   "outputs": [],
   "source": [
    "model_mlp_2 = tf.keras.models.Sequential()\n",
    "\n",
    "model_mlp_2.add(tf.keras.layers.Dense(units=128, activation='relu', input_shape=(x_train.shape[1],)))\n",
    "model_mlp_2.add(tf.keras.layers.Dense(units=256, activation='relu'))\n",
    "model_mlp_2.add(tf.keras.layers.Dense(units=256, activation='relu'))\n",
    "model_mlp_2.add(tf.keras.layers.Dense(units=126, activation='relu'))\n",
    "model_mlp_2.add(tf.keras.layers.Dense(units=64, activation='relu'))\n",
    "model_mlp_2.add(tf.keras.layers.Dense(units=1, activation='linear'))\n"
   ],
   "metadata": {
    "collapsed": false,
    "pycharm": {
     "name": "#%%\n"
    }
   }
  },
  {
   "cell_type": "code",
   "execution_count": 25,
   "outputs": [],
   "source": [
    "model_mlp_2.compile(optimizer='adam',\n",
    "                  loss='mse')"
   ],
   "metadata": {
    "collapsed": false,
    "pycharm": {
     "name": "#%%model_mlp.compile(optimizer='adam', loss='mse')\n"
    }
   }
  },
  {
   "cell_type": "code",
   "execution_count": 26,
   "outputs": [
    {
     "name": "stdout",
     "output_type": "stream",
     "text": [
      "Epoch 1/30\n",
      "5182/5182 [==============================] - 7s 1ms/step - loss: 4.6549 - val_loss: 4.7504\n",
      "Epoch 2/30\n",
      "5182/5182 [==============================] - 6s 1ms/step - loss: 4.5754 - val_loss: 4.9314\n",
      "Epoch 3/30\n",
      "5182/5182 [==============================] - 6s 1ms/step - loss: 4.5504 - val_loss: 4.7259\n",
      "Epoch 4/30\n",
      "5182/5182 [==============================] - 6s 1ms/step - loss: 4.5355 - val_loss: 4.6871\n",
      "Epoch 5/30\n",
      "5182/5182 [==============================] - 7s 1ms/step - loss: 4.5324 - val_loss: 4.7704\n",
      "Epoch 6/30\n",
      "5182/5182 [==============================] - 6s 1ms/step - loss: 4.5208 - val_loss: 4.7230\n",
      "Epoch 7/30\n",
      "5182/5182 [==============================] - 6s 1ms/step - loss: 4.5170 - val_loss: 4.6944\n",
      "Epoch 8/30\n",
      "5182/5182 [==============================] - 6s 1ms/step - loss: 4.5157 - val_loss: 4.6902\n",
      "Epoch 9/30\n",
      "5182/5182 [==============================] - 6s 1ms/step - loss: 4.5034 - val_loss: 4.6753\n",
      "Epoch 10/30\n",
      "5182/5182 [==============================] - 6s 1ms/step - loss: 4.5047 - val_loss: 4.6682\n",
      "Epoch 11/30\n",
      "5182/5182 [==============================] - 6s 1ms/step - loss: 4.5010 - val_loss: 4.7013\n",
      "Epoch 12/30\n",
      "5182/5182 [==============================] - 6s 1ms/step - loss: 4.4933 - val_loss: 4.7029\n",
      "Epoch 13/30\n",
      "5182/5182 [==============================] - 6s 1ms/step - loss: 4.4901 - val_loss: 4.6832\n",
      "Epoch 14/30\n",
      "5182/5182 [==============================] - 6s 1ms/step - loss: 4.4843 - val_loss: 4.6820\n",
      "Epoch 15/30\n",
      "5182/5182 [==============================] - 6s 1ms/step - loss: 4.4811 - val_loss: 4.6743\n",
      "Epoch 16/30\n",
      "5182/5182 [==============================] - 6s 1ms/step - loss: 4.4748 - val_loss: 4.6741\n",
      "Epoch 17/30\n",
      "5182/5182 [==============================] - 6s 1ms/step - loss: 4.4752 - val_loss: 4.7200\n",
      "Epoch 18/30\n",
      "5182/5182 [==============================] - 6s 1ms/step - loss: 4.4690 - val_loss: 4.6853\n",
      "Epoch 19/30\n",
      "5182/5182 [==============================] - 6s 1ms/step - loss: 4.4674 - val_loss: 4.7044\n",
      "Epoch 20/30\n",
      "5182/5182 [==============================] - 6s 1ms/step - loss: 4.4677 - val_loss: 4.6726\n",
      "Epoch 21/30\n",
      "5182/5182 [==============================] - 6s 1ms/step - loss: 4.4578 - val_loss: 4.6740\n",
      "Epoch 22/30\n",
      "5182/5182 [==============================] - 6s 1ms/step - loss: 4.4566 - val_loss: 4.6646\n",
      "Epoch 23/30\n",
      "5182/5182 [==============================] - 6s 1ms/step - loss: 4.4501 - val_loss: 4.6976\n",
      "Epoch 24/30\n",
      "5182/5182 [==============================] - 6s 1ms/step - loss: 4.4517 - val_loss: 4.6733\n",
      "Epoch 25/30\n",
      "5182/5182 [==============================] - 6s 1ms/step - loss: 4.4487 - val_loss: 4.6839\n",
      "Epoch 26/30\n",
      "5182/5182 [==============================] - 6s 1ms/step - loss: 4.4485 - val_loss: 4.6903\n",
      "Epoch 27/30\n",
      "5182/5182 [==============================] - 6s 1ms/step - loss: 4.4374 - val_loss: 4.6808\n",
      "Epoch 28/30\n",
      "5182/5182 [==============================] - 6s 1ms/step - loss: 4.4416 - val_loss: 4.7038\n",
      "Epoch 29/30\n",
      "5182/5182 [==============================] - 6s 1ms/step - loss: 4.4289 - val_loss: 4.6889\n",
      "Epoch 30/30\n",
      "5182/5182 [==============================] - 6s 1ms/step - loss: 4.4283 - val_loss: 4.6703\n"
     ]
    }
   ],
   "source": [
    "history_2 = model_mlp_2.fit(x_train, y_train,\n",
    "                        batch_size=16,\n",
    "                        epochs=30,\n",
    "                        validation_split=0.2)"
   ],
   "metadata": {
    "collapsed": false,
    "pycharm": {
     "name": "#%%\n"
    }
   }
  },
  {
   "cell_type": "code",
   "execution_count": 27,
   "outputs": [
    {
     "name": "stdout",
     "output_type": "stream",
     "text": [
      "Test loss: 4.473681926727295\n"
     ]
    }
   ],
   "source": [
    "score_2 = model_mlp_2.evaluate(x_test, y_test, verbose=0)\n",
    "print('Test loss:', score_2)"
   ],
   "metadata": {
    "collapsed": false,
    "pycharm": {
     "name": "#%%\n"
    }
   }
  },
  {
   "cell_type": "code",
   "execution_count": 28,
   "outputs": [
    {
     "data": {
      "text/plain": "<Figure size 432x288 with 1 Axes>",
      "image/png": "[encoded data removed]"
     },
     "metadata": {
      "needs_background": "light"
     },
     "output_type": "display_data"
    }
   ],
   "source": [
    "# Plot training & validation loss values\n",
    "plt.plot(history.history['loss'])\n",
    "plt.plot(history.history['val_loss'])\n",
    "plt.title('Model loss')\n",
    "plt.ylabel('Loss')\n",
    "plt.xlabel('Epoch')\n",
    "plt.legend(['Train', 'Test'], loc='upper left')\n",
    "plt.show()"
   ],
   "metadata": {
    "collapsed": false,
    "pycharm": {
     "name": "#%%\n"
    }
   }
  },
  {
   "cell_type": "code",
   "execution_count": null,
   "outputs": [],
   "source": [],
   "metadata": {
    "collapsed": false,
    "pycharm": {
     "name": "#%%\n"
    }
   }
  }
 ],
 "metadata": {
  "kernelspec": {
   "display_name": "Python 3",
   "language": "python",
   "name": "python3"
  },
  "language_info": {
   "codemirror_mode": {
    "name": "ipython",
    "version": 2
   },
   "file_extension": ".py",
   "mimetype": "text/x-python",
   "name": "python",
   "nbconvert_exporter": "python",
   "pygments_lexer": "ipython2",
   "version": "2.7.6"
  }
 },
 "nbformat": 4,
 "nbformat_minor": 0
}