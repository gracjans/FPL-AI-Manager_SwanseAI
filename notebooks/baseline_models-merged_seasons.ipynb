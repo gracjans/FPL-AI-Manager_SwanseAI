{
 "cells": [
  {
   "cell_type": "markdown",
   "source": [
    "# Train simple baseline models merged seasons (full) data"
   ],
   "metadata": {
    "collapsed": false,
    "pycharm": {
     "name": "#%% md\n"
    }
   }
  },
  {
   "cell_type": "code",
   "execution_count": 1,
   "metadata": {
    "collapsed": true,
    "pycharm": {
     "name": "#%%\n"
    }
   },
   "outputs": [],
   "source": [
    "import pandas as pd\n",
    "import matplotlib.pyplot as plt\n",
    "\n",
    "from src.features.data_engineering import preprocess_seasons_data, reverse_processing"
   ]
  },
  {
   "cell_type": "code",
   "execution_count": 2,
   "outputs": [],
   "source": [
    "(x_train, y_train), (x_test, y_test), (x_train_target, x_test_target), x_scaler = preprocess_seasons_data()"
   ],
   "metadata": {
    "collapsed": false,
    "pycharm": {
     "name": "#%%\n"
    }
   }
  },
  {
   "cell_type": "markdown",
   "source": [
    "## Train on baseline Dummy model"
   ],
   "metadata": {
    "collapsed": false,
    "pycharm": {
     "name": "#%% md\n"
    }
   }
  },
  {
   "cell_type": "code",
   "execution_count": 3,
   "outputs": [],
   "source": [
    "from sklearn.dummy import DummyRegressor\n",
    "from sklearn.metrics import mean_squared_error"
   ],
   "metadata": {
    "collapsed": false,
    "pycharm": {
     "name": "#%%\n"
    }
   }
  },
  {
   "cell_type": "code",
   "execution_count": 4,
   "outputs": [
    {
     "data": {
      "text/plain": "DummyRegressor()"
     },
     "execution_count": 4,
     "metadata": {},
     "output_type": "execute_result"
    }
   ],
   "source": [
    "dummy_regr = DummyRegressor(strategy=\"mean\")\n",
    "dummy_regr.fit(x_train, y_train)"
   ],
   "metadata": {
    "collapsed": false,
    "pycharm": {
     "name": "#%%\n"
    }
   }
  },
  {
   "cell_type": "code",
   "execution_count": 5,
   "outputs": [],
   "source": [
    "y_pred = dummy_regr.predict(x_test)"
   ],
   "metadata": {
    "collapsed": false,
    "pycharm": {
     "name": "#%%\n"
    }
   }
  },
  {
   "cell_type": "code",
   "execution_count": 6,
   "outputs": [
    {
     "data": {
      "text/plain": "6.2045750740819905"
     },
     "execution_count": 6,
     "metadata": {},
     "output_type": "execute_result"
    }
   ],
   "source": [
    "mean_squared_error(y_pred, y_test)"
   ],
   "metadata": {
    "collapsed": false,
    "pycharm": {
     "name": "#%%\n"
    }
   }
  },
  {
   "cell_type": "markdown",
   "source": [
    "## Train on baseline decision tree model"
   ],
   "metadata": {
    "collapsed": false,
    "pycharm": {
     "name": "#%% md\n"
    }
   }
  },
  {
   "cell_type": "code",
   "execution_count": 7,
   "outputs": [],
   "source": [
    "from sklearn.tree import DecisionTreeRegressor"
   ],
   "metadata": {
    "collapsed": false,
    "pycharm": {
     "name": "#%%\n"
    }
   }
  },
  {
   "cell_type": "code",
   "execution_count": 8,
   "outputs": [
    {
     "data": {
      "text/plain": "DecisionTreeRegressor()"
     },
     "execution_count": 8,
     "metadata": {},
     "output_type": "execute_result"
    }
   ],
   "source": [
    "tree_regr = DecisionTreeRegressor()\n",
    "tree_regr.fit(x_train, y_train)"
   ],
   "metadata": {
    "collapsed": false,
    "pycharm": {
     "name": "#%%\n"
    }
   }
  },
  {
   "cell_type": "code",
   "execution_count": 9,
   "outputs": [],
   "source": [
    "y_pred = tree_regr.predict(x_test)"
   ],
   "metadata": {
    "collapsed": false,
    "pycharm": {
     "name": "#%%\n"
    }
   }
  },
  {
   "cell_type": "code",
   "execution_count": 10,
   "outputs": [
    {
     "data": {
      "text/plain": "9.503787569699696"
     },
     "execution_count": 10,
     "metadata": {},
     "output_type": "execute_result"
    }
   ],
   "source": [
    "mean_squared_error(y_pred, y_test)"
   ],
   "metadata": {
    "collapsed": false,
    "pycharm": {
     "name": "#%%\n"
    }
   }
  },
  {
   "cell_type": "code",
   "execution_count": 11,
   "outputs": [
    {
     "name": "stdout",
     "output_type": "stream",
     "text": [
      "Feature 0: assists, Score: 0.00278\n",
      "Feature 1: bonus, Score: 0.00374\n",
      "Feature 2: bps, Score: 0.03948\n",
      "Feature 3: clean_sheets, Score: 0.00243\n",
      "Feature 4: creativity, Score: 0.05595\n",
      "Feature 5: goals_conceded, Score: 0.01584\n",
      "Feature 6: goals_scored, Score: 0.00137\n",
      "Feature 7: ict_index, Score: 0.04517\n",
      "Feature 8: influence, Score: 0.04957\n",
      "Feature 9: minutes, Score: 0.23762\n",
      "Feature 10: own_goals, Score: 0.00047\n",
      "Feature 11: penalties_missed, Score: 0.00054\n",
      "Feature 12: penalties_saved, Score: 0.00024\n",
      "Feature 13: red_cards, Score: 0.00045\n",
      "Feature 14: saves, Score: 0.0016\n",
      "Feature 15: selected, Score: 0.13115\n",
      "Feature 16: threat, Score: 0.03534\n",
      "Feature 17: total_points, Score: 0.0168\n",
      "Feature 18: transfers_balance, Score: 0.07798\n",
      "Feature 19: transfers_in, Score: 0.09327\n",
      "Feature 20: transfers_out, Score: 0.08229\n",
      "Feature 21: value, Score: 0.07302\n",
      "Feature 22: was_home, Score: 0.01133\n",
      "Feature 23: yellow_cards, Score: 0.00419\n",
      "Feature 24: position_DEF, Score: 0.00589\n",
      "Feature 25: position_FWD, Score: 0.00358\n",
      "Feature 26: position_GK, Score: 0.0024\n",
      "Feature 27: position_MID, Score: 0.00551\n"
     ]
    },
    {
     "data": {
      "text/plain": "<Figure size 432x288 with 1 Axes>",
      "image/png": "[encoded data removed]"
     },
     "metadata": {
      "needs_background": "light"
     },
     "output_type": "display_data"
    }
   ],
   "source": [
    "# summarize feature importance\n",
    "importance = tree_regr.feature_importances_\n",
    "for i,v in enumerate(importance):\n",
    "    print(f'Feature {i}: {x_train.columns[i]}, Score: {round(v,5)}')\n",
    "# plot feature importance\n",
    "plt.bar([x for x in range(len(importance))], importance)\n",
    "plt.show()"
   ],
   "metadata": {
    "collapsed": false,
    "pycharm": {
     "name": "#%%\n"
    }
   }
  },
  {
   "cell_type": "markdown",
   "source": [
    "## Train on baseline SVR model"
   ],
   "metadata": {
    "collapsed": false,
    "pycharm": {
     "name": "#%% md\n"
    }
   }
  },
  {
   "cell_type": "code",
   "execution_count": 12,
   "outputs": [],
   "source": [
    "from sklearn.svm import LinearSVR"
   ],
   "metadata": {
    "collapsed": false,
    "pycharm": {
     "name": "#%%from sklearn import svm\n"
    }
   }
  },
  {
   "cell_type": "markdown",
   "source": [
    "For single season data at first I used SVR as the model, but because of it's time complexity for bigger data, now I use LinearSVR."
   ],
   "metadata": {
    "collapsed": false,
    "pycharm": {
     "name": "#%% md\n"
    }
   }
  },
  {
   "cell_type": "code",
   "execution_count": 13,
   "outputs": [
    {
     "name": "stderr",
     "output_type": "stream",
     "text": [
      "d:\\studies\\informatyka\\semestr_3\\fpl_ai_manager\\venv\\lib\\site-packages\\sklearn\\svm\\_base.py:1206: ConvergenceWarning: Liblinear failed to converge, increase the number of iterations.\n",
      "  warnings.warn(\n"
     ]
    },
    {
     "data": {
      "text/plain": "LinearSVR()"
     },
     "execution_count": 13,
     "metadata": {},
     "output_type": "execute_result"
    }
   ],
   "source": [
    "model_svr = LinearSVR()\n",
    "model_svr.fit(x_train, y_train)"
   ],
   "metadata": {
    "collapsed": false,
    "pycharm": {
     "name": "#%%\n"
    }
   }
  },
  {
   "cell_type": "code",
   "execution_count": 15,
   "outputs": [],
   "source": [
    "# create series to keep indexes and name same as in the original y data\n",
    "y_pred_svr = pd.Series(model_svr.predict(x_test), index=y_test.index, name='predicted_total_points_next_gameweek')"
   ],
   "metadata": {
    "collapsed": false,
    "pycharm": {
     "name": "#%%\n"
    }
   }
  },
  {
   "cell_type": "code",
   "execution_count": 16,
   "outputs": [
    {
     "data": {
      "text/plain": "5.2130112423658845"
     },
     "execution_count": 16,
     "metadata": {},
     "output_type": "execute_result"
    }
   ],
   "source": [
    "mean_squared_error(y_pred_svr, y_test)"
   ],
   "metadata": {
    "collapsed": false,
    "pycharm": {
     "name": "#%%\n"
    }
   }
  },
  {
   "cell_type": "markdown",
   "source": [
    "## Merge results with footballers extracted target data"
   ],
   "metadata": {
    "collapsed": false,
    "pycharm": {
     "name": "#%% md\n"
    }
   }
  },
  {
   "cell_type": "code",
   "execution_count": 17,
   "outputs": [],
   "source": [
    "x_test_reversed = reverse_processing(x_test, x_scaler, x_test_target)"
   ],
   "metadata": {
    "collapsed": false,
    "pycharm": {
     "name": "#%%\n"
    }
   }
  },
  {
   "cell_type": "code",
   "execution_count": 18,
   "outputs": [],
   "source": [
    "predictions_svr = pd.concat([y_pred_svr, x_test_reversed], axis=1)"
   ],
   "metadata": {
    "collapsed": false,
    "pycharm": {
     "name": "#%%\n"
    }
   }
  },
  {
   "cell_type": "code",
   "execution_count": 19,
   "outputs": [
    {
     "data": {
      "text/plain": "        predicted_total_points_next_gameweek  \\\n95003                               3.218087   \n124386                              3.138493   \n92785                               2.918156   \n70011                               2.900592   \n92826                               2.855418   \n93416                               2.851311   \n116779                              2.840189   \n56967                               2.838132   \n117598                              2.830637   \n101534                              2.800470   \n\n                                           name  GW  element  \\\n95003             Bruno Miguel Borges Fernandes   9      302   \n124386  Bernardo Mota Veiga de Carvalho e Silva  16      261   \n92785                                Harry Kane   5      388   \n70011                           Teemu_Pukki_278   4      278   \n92826                          James RodrÃ­guez   5      508   \n93416                             Heung-Min Son   6      390   \n116779                             Demarai Gray   4      484   \n56967                            Paul_Pogba_302  20      302   \n117598                            Romelu Lukaku   5      529   \n101534                          Raheem Sterling  20      276   \n\n        total_points_next_gameweek   season  assists  bonus   bps  \\\n95003                         10.0  2020-21      0.0    3.0  44.0   \n124386                         1.0  2021-22      1.0    0.0  17.0   \n92785                          5.0  2020-21      1.0    3.0  69.0   \n70011                         12.0  2019-20      0.0    0.0   5.0   \n92826                          2.0  2020-21      1.0    0.0  22.0   \n93416                          2.0  2020-21      0.0    3.0  30.0   \n116779                         2.0  2021-22      0.0    0.0  25.0   \n56967                          3.0  2018-19      1.0    3.0  66.0   \n117598                         2.0  2021-22      0.0    0.0  11.0   \n101534                         0.0  2020-21      1.0    0.0  38.0   \n\n        clean_sheets  ...  transfers_balance  transfers_in  transfers_out  \\\n95003            1.0  ...          1033358.0     1055501.0        22143.0   \n124386           1.0  ...           983926.0      993639.0         9713.0   \n92785            0.0  ...           723621.0      769600.0        45979.0   \n70011            0.0  ...           984950.0     1013156.0        28206.0   \n92826            0.0  ...           735240.0      817940.0        82700.0   \n93416            1.0  ...           746754.0      764606.0        17852.0   \n116779           0.0  ...           614701.0      802662.0       187961.0   \n56967            0.0  ...           420835.0      427541.0         6706.0   \n117598           1.0  ...           686333.0      788504.0       102171.0   \n101534           1.0  ...           417851.0      452070.0        34219.0   \n\n        value  was_home  yellow_cards  position_DEF  position_FWD  \\\n95003   107.0       1.0           0.0           0.0           0.0   \n124386   76.0       1.0           0.0           0.0           0.0   \n92785   106.0       1.0           0.0           0.0           1.0   \n70011    70.0       0.0           0.0           0.0           1.0   \n92826    79.0       1.0           1.0           0.0           0.0   \n93416    94.0       0.0           0.0           0.0           0.0   \n116779   56.0       1.0           0.0           0.0           0.0   \n56967    81.0       1.0           0.0           0.0           0.0   \n117598  116.0       0.0           0.0           0.0           1.0   \n101534  115.0       0.0           0.0           0.0           0.0   \n\n        position_GK  position_MID  \n95003           0.0           1.0  \n124386          0.0           1.0  \n92785           0.0           0.0  \n70011           0.0           0.0  \n92826           0.0           1.0  \n93416           0.0           1.0  \n116779          0.0           1.0  \n56967           0.0           1.0  \n117598          0.0           0.0  \n101534          0.0           1.0  \n\n[10 rows x 34 columns]",
      "text/html": "<div>\n<style scoped>\n    .dataframe tbody tr th:only-of-type {\n        vertical-align: middle;\n    }\n\n    .dataframe tbody tr th {\n        vertical-align: top;\n    }\n\n    .dataframe thead th {\n        text-align: right;\n    }\n</style>\n<table border=\"1\" class=\"dataframe\">\n  <thead>\n    <tr style=\"text-align: right;\">\n      <th></th>\n      <th>predicted_total_points_next_gameweek</th>\n      <th>name</th>\n      <th>GW</th>\n      <th>element</th>\n      <th>total_points_next_gameweek</th>\n      <th>season</th>\n      <th>assists</th>\n      <th>bonus</th>\n      <th>bps</th>\n      <th>clean_sheets</th>\n      <th>...</th>\n      <th>transfers_balance</th>\n      <th>transfers_in</th>\n      <th>transfers_out</th>\n      <th>value</th>\n      <th>was_home</th>\n      <th>yellow_cards</th>\n      <th>position_DEF</th>\n      <th>position_FWD</th>\n      <th>position_GK</th>\n      <th>position_MID</th>\n    </tr>\n  </thead>\n  <tbody>\n    <tr>\n      <th>95003</th>\n      <td>3.218087</td>\n      <td>Bruno Miguel Borges Fernandes</td>\n      <td>9</td>\n      <td>302</td>\n      <td>10.0</td>\n      <td>2020-21</td>\n      <td>0.0</td>\n      <td>3.0</td>\n      <td>44.0</td>\n      <td>1.0</td>\n      <td>...</td>\n      <td>1033358.0</td>\n      <td>1055501.0</td>\n      <td>22143.0</td>\n      <td>107.0</td>\n      <td>1.0</td>\n      <td>0.0</td>\n      <td>0.0</td>\n      <td>0.0</td>\n      <td>0.0</td>\n      <td>1.0</td>\n    </tr>\n    <tr>\n      <th>124386</th>\n      <td>3.138493</td>\n      <td>Bernardo Mota Veiga de Carvalho e Silva</td>\n      <td>16</td>\n      <td>261</td>\n      <td>1.0</td>\n      <td>2021-22</td>\n      <td>1.0</td>\n      <td>0.0</td>\n      <td>17.0</td>\n      <td>1.0</td>\n      <td>...</td>\n      <td>983926.0</td>\n      <td>993639.0</td>\n      <td>9713.0</td>\n      <td>76.0</td>\n      <td>1.0</td>\n      <td>0.0</td>\n      <td>0.0</td>\n      <td>0.0</td>\n      <td>0.0</td>\n      <td>1.0</td>\n    </tr>\n    <tr>\n      <th>92785</th>\n      <td>2.918156</td>\n      <td>Harry Kane</td>\n      <td>5</td>\n      <td>388</td>\n      <td>5.0</td>\n      <td>2020-21</td>\n      <td>1.0</td>\n      <td>3.0</td>\n      <td>69.0</td>\n      <td>0.0</td>\n      <td>...</td>\n      <td>723621.0</td>\n      <td>769600.0</td>\n      <td>45979.0</td>\n      <td>106.0</td>\n      <td>1.0</td>\n      <td>0.0</td>\n      <td>0.0</td>\n      <td>1.0</td>\n      <td>0.0</td>\n      <td>0.0</td>\n    </tr>\n    <tr>\n      <th>70011</th>\n      <td>2.900592</td>\n      <td>Teemu_Pukki_278</td>\n      <td>4</td>\n      <td>278</td>\n      <td>12.0</td>\n      <td>2019-20</td>\n      <td>0.0</td>\n      <td>0.0</td>\n      <td>5.0</td>\n      <td>0.0</td>\n      <td>...</td>\n      <td>984950.0</td>\n      <td>1013156.0</td>\n      <td>28206.0</td>\n      <td>70.0</td>\n      <td>0.0</td>\n      <td>0.0</td>\n      <td>0.0</td>\n      <td>1.0</td>\n      <td>0.0</td>\n      <td>0.0</td>\n    </tr>\n    <tr>\n      <th>92826</th>\n      <td>2.855418</td>\n      <td>James RodrÃ­guez</td>\n      <td>5</td>\n      <td>508</td>\n      <td>2.0</td>\n      <td>2020-21</td>\n      <td>1.0</td>\n      <td>0.0</td>\n      <td>22.0</td>\n      <td>0.0</td>\n      <td>...</td>\n      <td>735240.0</td>\n      <td>817940.0</td>\n      <td>82700.0</td>\n      <td>79.0</td>\n      <td>1.0</td>\n      <td>1.0</td>\n      <td>0.0</td>\n      <td>0.0</td>\n      <td>0.0</td>\n      <td>1.0</td>\n    </tr>\n    <tr>\n      <th>93416</th>\n      <td>2.851311</td>\n      <td>Heung-Min Son</td>\n      <td>6</td>\n      <td>390</td>\n      <td>2.0</td>\n      <td>2020-21</td>\n      <td>0.0</td>\n      <td>3.0</td>\n      <td>30.0</td>\n      <td>1.0</td>\n      <td>...</td>\n      <td>746754.0</td>\n      <td>764606.0</td>\n      <td>17852.0</td>\n      <td>94.0</td>\n      <td>0.0</td>\n      <td>0.0</td>\n      <td>0.0</td>\n      <td>0.0</td>\n      <td>0.0</td>\n      <td>1.0</td>\n    </tr>\n    <tr>\n      <th>116779</th>\n      <td>2.840189</td>\n      <td>Demarai Gray</td>\n      <td>4</td>\n      <td>484</td>\n      <td>2.0</td>\n      <td>2021-22</td>\n      <td>0.0</td>\n      <td>0.0</td>\n      <td>25.0</td>\n      <td>0.0</td>\n      <td>...</td>\n      <td>614701.0</td>\n      <td>802662.0</td>\n      <td>187961.0</td>\n      <td>56.0</td>\n      <td>1.0</td>\n      <td>0.0</td>\n      <td>0.0</td>\n      <td>0.0</td>\n      <td>0.0</td>\n      <td>1.0</td>\n    </tr>\n    <tr>\n      <th>56967</th>\n      <td>2.838132</td>\n      <td>Paul_Pogba_302</td>\n      <td>20</td>\n      <td>302</td>\n      <td>3.0</td>\n      <td>2018-19</td>\n      <td>1.0</td>\n      <td>3.0</td>\n      <td>66.0</td>\n      <td>0.0</td>\n      <td>...</td>\n      <td>420835.0</td>\n      <td>427541.0</td>\n      <td>6706.0</td>\n      <td>81.0</td>\n      <td>1.0</td>\n      <td>0.0</td>\n      <td>0.0</td>\n      <td>0.0</td>\n      <td>0.0</td>\n      <td>1.0</td>\n    </tr>\n    <tr>\n      <th>117598</th>\n      <td>2.830637</td>\n      <td>Romelu Lukaku</td>\n      <td>5</td>\n      <td>529</td>\n      <td>2.0</td>\n      <td>2021-22</td>\n      <td>0.0</td>\n      <td>0.0</td>\n      <td>11.0</td>\n      <td>1.0</td>\n      <td>...</td>\n      <td>686333.0</td>\n      <td>788504.0</td>\n      <td>102171.0</td>\n      <td>116.0</td>\n      <td>0.0</td>\n      <td>0.0</td>\n      <td>0.0</td>\n      <td>1.0</td>\n      <td>0.0</td>\n      <td>0.0</td>\n    </tr>\n    <tr>\n      <th>101534</th>\n      <td>2.800470</td>\n      <td>Raheem Sterling</td>\n      <td>20</td>\n      <td>276</td>\n      <td>0.0</td>\n      <td>2020-21</td>\n      <td>1.0</td>\n      <td>0.0</td>\n      <td>38.0</td>\n      <td>1.0</td>\n      <td>...</td>\n      <td>417851.0</td>\n      <td>452070.0</td>\n      <td>34219.0</td>\n      <td>115.0</td>\n      <td>0.0</td>\n      <td>0.0</td>\n      <td>0.0</td>\n      <td>0.0</td>\n      <td>0.0</td>\n      <td>1.0</td>\n    </tr>\n  </tbody>\n</table>\n<p>10 rows × 34 columns</p>\n</div>"
     },
     "execution_count": 19,
     "metadata": {},
     "output_type": "execute_result"
    }
   ],
   "source": [
    "#preview predictions_svr sorted by predicted total points descending\n",
    "predictions_svr.sort_values(by='predicted_total_points_next_gameweek', ascending=False).head(10)"
   ],
   "metadata": {
    "collapsed": false,
    "pycharm": {
     "name": "#%%\n"
    }
   }
  },
  {
   "cell_type": "markdown",
   "source": [
    "## Train on baseline Multi-layer Perceptron model"
   ],
   "metadata": {
    "collapsed": false,
    "pycharm": {
     "name": "#%% md\n"
    }
   }
  },
  {
   "cell_type": "code",
   "execution_count": 20,
   "outputs": [],
   "source": [
    "import tensorflow as tf"
   ],
   "metadata": {
    "collapsed": false,
    "pycharm": {
     "name": "#%%\n"
    }
   }
  },
  {
   "cell_type": "code",
   "execution_count": 21,
   "outputs": [],
   "source": [
    "model_mlp = tf.keras.models.Sequential()\n",
    "\n",
    "model_mlp.add(tf.keras.layers.Dense(units=32, activation='relu', input_shape=(x_train.shape[1],)))\n",
    "model_mlp.add(tf.keras.layers.Dense(units=16, activation='relu'))\n",
    "model_mlp.add(tf.keras.layers.Dense(units=1, activation='linear'))\n"
   ],
   "metadata": {
    "collapsed": false,
    "pycharm": {
     "name": "#%%\n"
    }
   }
  },
  {
   "cell_type": "code",
   "execution_count": 22,
   "outputs": [],
   "source": [
    "model_mlp.compile(optimizer='adam',\n",
    "                  loss='mse')"
   ],
   "metadata": {
    "collapsed": false,
    "pycharm": {
     "name": "#%%model_mlp.compile(optimizer='adam', loss='mse')\n"
    }
   }
  },
  {
   "cell_type": "code",
   "execution_count": 23,
   "outputs": [
    {
     "name": "stdout",
     "output_type": "stream",
     "text": [
      "Epoch 1/30\n",
      "5182/5182 [==============================] - 4s 807us/step - loss: 4.6171 - val_loss: 4.7159\n",
      "Epoch 2/30\n",
      "5182/5182 [==============================] - 4s 762us/step - loss: 4.5394 - val_loss: 4.7024\n",
      "Epoch 3/30\n",
      "5182/5182 [==============================] - 4s 729us/step - loss: 4.5246 - val_loss: 4.6981\n",
      "Epoch 4/30\n",
      "5182/5182 [==============================] - 4s 727us/step - loss: 4.5149 - val_loss: 4.6821\n",
      "Epoch 5/30\n",
      "5182/5182 [==============================] - 4s 713us/step - loss: 4.5114 - val_loss: 4.6874\n",
      "Epoch 6/30\n",
      "5182/5182 [==============================] - 4s 741us/step - loss: 4.5080 - val_loss: 4.6827\n",
      "Epoch 7/30\n",
      "5182/5182 [==============================] - 4s 690us/step - loss: 4.5033 - val_loss: 4.6788\n",
      "Epoch 8/30\n",
      "5182/5182 [==============================] - 4s 724us/step - loss: 4.5038 - val_loss: 4.6898\n",
      "Epoch 9/30\n",
      "5182/5182 [==============================] - 3s 674us/step - loss: 4.4988 - val_loss: 4.6905\n",
      "Epoch 10/30\n",
      "5182/5182 [==============================] - 4s 712us/step - loss: 4.4974 - val_loss: 4.6722\n",
      "Epoch 11/30\n",
      "5182/5182 [==============================] - 4s 735us/step - loss: 4.4901 - val_loss: 4.6729\n",
      "Epoch 12/30\n",
      "5182/5182 [==============================] - 4s 719us/step - loss: 4.4904 - val_loss: 4.6806\n",
      "Epoch 13/30\n",
      "5182/5182 [==============================] - 4s 744us/step - loss: 4.4880 - val_loss: 4.6731\n",
      "Epoch 14/30\n",
      "5182/5182 [==============================] - 4s 728us/step - loss: 4.4863 - val_loss: 4.6736\n",
      "Epoch 15/30\n",
      "5182/5182 [==============================] - 4s 759us/step - loss: 4.4830 - val_loss: 4.6895\n",
      "Epoch 16/30\n",
      "5182/5182 [==============================] - 4s 697us/step - loss: 4.4808 - val_loss: 4.6873\n",
      "Epoch 17/30\n",
      "5182/5182 [==============================] - 4s 716us/step - loss: 4.4750 - val_loss: 4.6739\n",
      "Epoch 18/30\n",
      "5182/5182 [==============================] - 4s 719us/step - loss: 4.4758 - val_loss: 4.6621\n",
      "Epoch 19/30\n",
      "5182/5182 [==============================] - 4s 687us/step - loss: 4.4716 - val_loss: 4.6748\n",
      "Epoch 20/30\n",
      "5182/5182 [==============================] - 4s 702us/step - loss: 4.4750 - val_loss: 4.6688\n",
      "Epoch 21/30\n",
      "5182/5182 [==============================] - 4s 696us/step - loss: 4.4692 - val_loss: 4.6829\n",
      "Epoch 22/30\n",
      "5182/5182 [==============================] - 4s 695us/step - loss: 4.4648 - val_loss: 4.6779\n",
      "Epoch 23/30\n",
      "5182/5182 [==============================] - 3s 675us/step - loss: 4.4647 - val_loss: 4.6682\n",
      "Epoch 24/30\n",
      "5182/5182 [==============================] - 4s 696us/step - loss: 4.4641 - val_loss: 4.6817\n",
      "Epoch 25/30\n",
      "5182/5182 [==============================] - 4s 686us/step - loss: 4.4633 - val_loss: 4.6756\n",
      "Epoch 26/30\n",
      "5182/5182 [==============================] - 3s 656us/step - loss: 4.4576 - val_loss: 4.6889\n",
      "Epoch 27/30\n",
      "5182/5182 [==============================] - 4s 751us/step - loss: 4.4591 - val_loss: 4.6781\n",
      "Epoch 28/30\n",
      "5182/5182 [==============================] - 4s 693us/step - loss: 4.4531 - val_loss: 4.7019\n",
      "Epoch 29/30\n",
      "5182/5182 [==============================] - 4s 677us/step - loss: 4.4546 - val_loss: 4.6711\n",
      "Epoch 30/30\n",
      "5182/5182 [==============================] - 4s 698us/step - loss: 4.4504 - val_loss: 4.6941\n"
     ]
    }
   ],
   "source": [
    "history = model_mlp.fit(x_train, y_train,\n",
    "                        batch_size=16,\n",
    "                        epochs=30,\n",
    "                        validation_split=0.2)"
   ],
   "metadata": {
    "collapsed": false,
    "pycharm": {
     "name": "#%%\n"
    }
   }
  },
  {
   "cell_type": "code",
   "execution_count": 24,
   "outputs": [
    {
     "name": "stdout",
     "output_type": "stream",
     "text": [
      "Test loss: 4.494966506958008\n"
     ]
    }
   ],
   "source": [
    "score = model_mlp.evaluate(x_test, y_test, verbose=0)\n",
    "print('Test loss:', score)"
   ],
   "metadata": {
    "collapsed": false,
    "pycharm": {
     "name": "#%%\n"
    }
   }
  },
  {
   "cell_type": "code",
   "execution_count": 25,
   "outputs": [
    {
     "data": {
      "text/plain": "<Figure size 432x288 with 1 Axes>",
      "image/png": "[encoded data removed]"
     },
     "metadata": {
      "needs_background": "light"
     },
     "output_type": "display_data"
    }
   ],
   "source": [
    "# Plot training & validation loss values\n",
    "plt.plot(history.history['loss'])\n",
    "plt.plot(history.history['val_loss'])\n",
    "plt.title('Model loss')\n",
    "plt.ylabel('Loss')\n",
    "plt.xlabel('Epoch')\n",
    "plt.legend(['Train', 'Test'], loc='upper left')\n",
    "plt.show()"
   ],
   "metadata": {
    "collapsed": false,
    "pycharm": {
     "name": "#%%\n"
    }
   }
  },
  {
   "cell_type": "code",
   "execution_count": 26,
   "outputs": [],
   "source": [
    "y_pred_mlp = pd.Series(model_mlp.predict(x_test).reshape(-1,), index=y_test.index, name='predicted_total_points_next_gameweek')"
   ],
   "metadata": {
    "collapsed": false,
    "pycharm": {
     "name": "#%%\n"
    }
   }
  },
  {
   "cell_type": "code",
   "execution_count": 27,
   "outputs": [
    {
     "data": {
      "text/plain": "        predicted_total_points_next_gameweek                 name  GW  \\\n69898                               7.994510    Mohamed_Salah_191   4   \n59869                               7.609022    Mohamed_Salah_253  25   \n126767                              7.543309        Mohamed Salah  21   \n99759                               7.391932        Mohamed Salah  17   \n70486                               7.349533  Raheem_Sterling_214   5   \n99247                               7.330699        Mohamed Salah  16   \n83427                               7.314775    Mohamed_Salah_191  28   \n116716                              7.299340        Mohamed Salah   4   \n79907                               7.091304  Kevin_De Bruyne_215  22   \n101534                              7.090796      Raheem Sterling  20   \n\n        element  total_points_next_gameweek   season  assists  bonus   bps  \\\n69898       191                         9.0  2019-20      1.0    0.0  15.0   \n59869       253                         8.0  2018-19      0.0    0.0  -2.0   \n126767      233                         0.0  2021-22      0.0    0.0  25.0   \n99759       254                         3.0  2020-21      0.0    0.0  -1.0   \n70486       214                         0.0  2019-20      0.0    0.0  19.0   \n99247       254                         2.0  2020-21      0.0    0.0  -5.0   \n83427       191                         9.0  2019-20      0.0    0.0   5.0   \n116716      233                        12.0  2021-22      0.0    0.0  28.0   \n79907       215                         2.0  2019-20      2.0    0.0  34.0   \n101534      276                         0.0  2020-21      1.0    0.0  38.0   \n\n        clean_sheets  ...  transfers_balance  transfers_in  transfers_out  \\\n69898            1.0  ...           243530.0      291554.0        48024.0   \n59869            0.0  ...           -18495.0       36357.0        54852.0   \n126767           0.0  ...          -259533.0       52331.0       311864.0   \n99759            0.0  ...            12437.0       87003.0        74566.0   \n70486            0.0  ...           -53559.0       97908.0       151467.0   \n99247            1.0  ...            79807.0      108826.0        29019.0   \n83427            0.0  ...            23476.0       57735.0        34259.0   \n116716           1.0  ...           126513.0      335798.0       209285.0   \n79907            1.0  ...            83926.0      128395.0        44469.0   \n101534           1.0  ...           417851.0      452070.0        34219.0   \n\n        value  was_home  yellow_cards  position_DEF  position_FWD  \\\n69898   125.0       0.0           0.0           0.0           0.0   \n59869   136.0       0.0           0.0           0.0           0.0   \n126767  129.0       0.0           0.0           0.0           0.0   \n99759   126.0       0.0           0.0           0.0           0.0   \n70486   123.0       0.0           0.0           0.0           0.0   \n99247   126.0       0.0           0.0           0.0           0.0   \n83427   128.0       0.0           0.0           0.0           0.0   \n116716  125.0       0.0           0.0           0.0           0.0   \n79907   106.0       0.0           0.0           0.0           0.0   \n101534  115.0       0.0           0.0           0.0           0.0   \n\n        position_GK  position_MID  \n69898           0.0           1.0  \n59869           0.0           1.0  \n126767          0.0           1.0  \n99759           0.0           1.0  \n70486           0.0           1.0  \n99247           0.0           1.0  \n83427           0.0           1.0  \n116716          0.0           1.0  \n79907           0.0           1.0  \n101534          0.0           1.0  \n\n[10 rows x 34 columns]",
      "text/html": "<div>\n<style scoped>\n    .dataframe tbody tr th:only-of-type {\n        vertical-align: middle;\n    }\n\n    .dataframe tbody tr th {\n        vertical-align: top;\n    }\n\n    .dataframe thead th {\n        text-align: right;\n    }\n</style>\n<table border=\"1\" class=\"dataframe\">\n  <thead>\n    <tr style=\"text-align: right;\">\n      <th></th>\n      <th>predicted_total_points_next_gameweek</th>\n      <th>name</th>\n      <th>GW</th>\n      <th>element</th>\n      <th>total_points_next_gameweek</th>\n      <th>season</th>\n      <th>assists</th>\n      <th>bonus</th>\n      <th>bps</th>\n      <th>clean_sheets</th>\n      <th>...</th>\n      <th>transfers_balance</th>\n      <th>transfers_in</th>\n      <th>transfers_out</th>\n      <th>value</th>\n      <th>was_home</th>\n      <th>yellow_cards</th>\n      <th>position_DEF</th>\n      <th>position_FWD</th>\n      <th>position_GK</th>\n      <th>position_MID</th>\n    </tr>\n  </thead>\n  <tbody>\n    <tr>\n      <th>69898</th>\n      <td>7.994510</td>\n      <td>Mohamed_Salah_191</td>\n      <td>4</td>\n      <td>191</td>\n      <td>9.0</td>\n      <td>2019-20</td>\n      <td>1.0</td>\n      <td>0.0</td>\n      <td>15.0</td>\n      <td>1.0</td>\n      <td>...</td>\n      <td>243530.0</td>\n      <td>291554.0</td>\n      <td>48024.0</td>\n      <td>125.0</td>\n      <td>0.0</td>\n      <td>0.0</td>\n      <td>0.0</td>\n      <td>0.0</td>\n      <td>0.0</td>\n      <td>1.0</td>\n    </tr>\n    <tr>\n      <th>59869</th>\n      <td>7.609022</td>\n      <td>Mohamed_Salah_253</td>\n      <td>25</td>\n      <td>253</td>\n      <td>8.0</td>\n      <td>2018-19</td>\n      <td>0.0</td>\n      <td>0.0</td>\n      <td>-2.0</td>\n      <td>0.0</td>\n      <td>...</td>\n      <td>-18495.0</td>\n      <td>36357.0</td>\n      <td>54852.0</td>\n      <td>136.0</td>\n      <td>0.0</td>\n      <td>0.0</td>\n      <td>0.0</td>\n      <td>0.0</td>\n      <td>0.0</td>\n      <td>1.0</td>\n    </tr>\n    <tr>\n      <th>126767</th>\n      <td>7.543309</td>\n      <td>Mohamed Salah</td>\n      <td>21</td>\n      <td>233</td>\n      <td>0.0</td>\n      <td>2021-22</td>\n      <td>0.0</td>\n      <td>0.0</td>\n      <td>25.0</td>\n      <td>0.0</td>\n      <td>...</td>\n      <td>-259533.0</td>\n      <td>52331.0</td>\n      <td>311864.0</td>\n      <td>129.0</td>\n      <td>0.0</td>\n      <td>0.0</td>\n      <td>0.0</td>\n      <td>0.0</td>\n      <td>0.0</td>\n      <td>1.0</td>\n    </tr>\n    <tr>\n      <th>99759</th>\n      <td>7.391932</td>\n      <td>Mohamed Salah</td>\n      <td>17</td>\n      <td>254</td>\n      <td>3.0</td>\n      <td>2020-21</td>\n      <td>0.0</td>\n      <td>0.0</td>\n      <td>-1.0</td>\n      <td>0.0</td>\n      <td>...</td>\n      <td>12437.0</td>\n      <td>87003.0</td>\n      <td>74566.0</td>\n      <td>126.0</td>\n      <td>0.0</td>\n      <td>0.0</td>\n      <td>0.0</td>\n      <td>0.0</td>\n      <td>0.0</td>\n      <td>1.0</td>\n    </tr>\n    <tr>\n      <th>70486</th>\n      <td>7.349533</td>\n      <td>Raheem_Sterling_214</td>\n      <td>5</td>\n      <td>214</td>\n      <td>0.0</td>\n      <td>2019-20</td>\n      <td>0.0</td>\n      <td>0.0</td>\n      <td>19.0</td>\n      <td>0.0</td>\n      <td>...</td>\n      <td>-53559.0</td>\n      <td>97908.0</td>\n      <td>151467.0</td>\n      <td>123.0</td>\n      <td>0.0</td>\n      <td>0.0</td>\n      <td>0.0</td>\n      <td>0.0</td>\n      <td>0.0</td>\n      <td>1.0</td>\n    </tr>\n    <tr>\n      <th>99247</th>\n      <td>7.330699</td>\n      <td>Mohamed Salah</td>\n      <td>16</td>\n      <td>254</td>\n      <td>2.0</td>\n      <td>2020-21</td>\n      <td>0.0</td>\n      <td>0.0</td>\n      <td>-5.0</td>\n      <td>1.0</td>\n      <td>...</td>\n      <td>79807.0</td>\n      <td>108826.0</td>\n      <td>29019.0</td>\n      <td>126.0</td>\n      <td>0.0</td>\n      <td>0.0</td>\n      <td>0.0</td>\n      <td>0.0</td>\n      <td>0.0</td>\n      <td>1.0</td>\n    </tr>\n    <tr>\n      <th>83427</th>\n      <td>7.314775</td>\n      <td>Mohamed_Salah_191</td>\n      <td>28</td>\n      <td>191</td>\n      <td>9.0</td>\n      <td>2019-20</td>\n      <td>0.0</td>\n      <td>0.0</td>\n      <td>5.0</td>\n      <td>0.0</td>\n      <td>...</td>\n      <td>23476.0</td>\n      <td>57735.0</td>\n      <td>34259.0</td>\n      <td>128.0</td>\n      <td>0.0</td>\n      <td>0.0</td>\n      <td>0.0</td>\n      <td>0.0</td>\n      <td>0.0</td>\n      <td>1.0</td>\n    </tr>\n    <tr>\n      <th>116716</th>\n      <td>7.299340</td>\n      <td>Mohamed Salah</td>\n      <td>4</td>\n      <td>233</td>\n      <td>12.0</td>\n      <td>2021-22</td>\n      <td>0.0</td>\n      <td>0.0</td>\n      <td>28.0</td>\n      <td>1.0</td>\n      <td>...</td>\n      <td>126513.0</td>\n      <td>335798.0</td>\n      <td>209285.0</td>\n      <td>125.0</td>\n      <td>0.0</td>\n      <td>0.0</td>\n      <td>0.0</td>\n      <td>0.0</td>\n      <td>0.0</td>\n      <td>1.0</td>\n    </tr>\n    <tr>\n      <th>79907</th>\n      <td>7.091304</td>\n      <td>Kevin_De Bruyne_215</td>\n      <td>22</td>\n      <td>215</td>\n      <td>2.0</td>\n      <td>2019-20</td>\n      <td>2.0</td>\n      <td>0.0</td>\n      <td>34.0</td>\n      <td>1.0</td>\n      <td>...</td>\n      <td>83926.0</td>\n      <td>128395.0</td>\n      <td>44469.0</td>\n      <td>106.0</td>\n      <td>0.0</td>\n      <td>0.0</td>\n      <td>0.0</td>\n      <td>0.0</td>\n      <td>0.0</td>\n      <td>1.0</td>\n    </tr>\n    <tr>\n      <th>101534</th>\n      <td>7.090796</td>\n      <td>Raheem Sterling</td>\n      <td>20</td>\n      <td>276</td>\n      <td>0.0</td>\n      <td>2020-21</td>\n      <td>1.0</td>\n      <td>0.0</td>\n      <td>38.0</td>\n      <td>1.0</td>\n      <td>...</td>\n      <td>417851.0</td>\n      <td>452070.0</td>\n      <td>34219.0</td>\n      <td>115.0</td>\n      <td>0.0</td>\n      <td>0.0</td>\n      <td>0.0</td>\n      <td>0.0</td>\n      <td>0.0</td>\n      <td>1.0</td>\n    </tr>\n  </tbody>\n</table>\n<p>10 rows × 34 columns</p>\n</div>"
     },
     "execution_count": 27,
     "metadata": {},
     "output_type": "execute_result"
    }
   ],
   "source": [
    "predictions_mlp = pd.concat([y_pred_mlp, x_test_reversed], axis=1)\n",
    "#preview predictions_mlp sorted by predicted total points descending\n",
    "predictions_mlp.sort_values(by='predicted_total_points_next_gameweek', ascending=False).head(10)"
   ],
   "metadata": {
    "collapsed": false,
    "pycharm": {
     "name": "#%%\n"
    }
   }
  },
  {
   "cell_type": "markdown",
   "source": [
    "### Train bigger MLP model"
   ],
   "metadata": {
    "collapsed": false,
    "pycharm": {
     "name": "#%% md\n"
    }
   }
  },
  {
   "cell_type": "code",
   "execution_count": 28,
   "outputs": [],
   "source": [
    "model_mlp_2 = tf.keras.models.Sequential()\n",
    "\n",
    "model_mlp_2.add(tf.keras.layers.Dense(units=128, activation='relu', input_shape=(x_train.shape[1],)))\n",
    "model_mlp_2.add(tf.keras.layers.Dense(units=256, activation='relu'))\n",
    "model_mlp_2.add(tf.keras.layers.Dense(units=256, activation='relu'))\n",
    "model_mlp_2.add(tf.keras.layers.Dense(units=126, activation='relu'))\n",
    "model_mlp_2.add(tf.keras.layers.Dense(units=64, activation='relu'))\n",
    "model_mlp_2.add(tf.keras.layers.Dense(units=1, activation='linear'))\n"
   ],
   "metadata": {
    "collapsed": false,
    "pycharm": {
     "name": "#%%\n"
    }
   }
  },
  {
   "cell_type": "code",
   "execution_count": 29,
   "outputs": [],
   "source": [
    "model_mlp_2.compile(optimizer='adam',\n",
    "                  loss='mse')"
   ],
   "metadata": {
    "collapsed": false,
    "pycharm": {
     "name": "#%%model_mlp.compile(optimizer='adam', loss='mse')\n"
    }
   }
  },
  {
   "cell_type": "code",
   "execution_count": 30,
   "outputs": [
    {
     "name": "stdout",
     "output_type": "stream",
     "text": [
      "Epoch 1/30\n",
      "5182/5182 [==============================] - 7s 1ms/step - loss: 4.6491 - val_loss: 4.7137\n",
      "Epoch 2/30\n",
      "5182/5182 [==============================] - 6s 1ms/step - loss: 4.5568 - val_loss: 4.7289\n",
      "Epoch 3/30\n",
      "5182/5182 [==============================] - 7s 1ms/step - loss: 4.5477 - val_loss: 4.6891\n",
      "Epoch 4/30\n",
      "5182/5182 [==============================] - 7s 1ms/step - loss: 4.5404 - val_loss: 4.6928\n",
      "Epoch 5/30\n",
      "5182/5182 [==============================] - 6s 1ms/step - loss: 4.5292 - val_loss: 4.7733\n",
      "Epoch 6/30\n",
      "5182/5182 [==============================] - 7s 1ms/step - loss: 4.5229 - val_loss: 4.7077\n",
      "Epoch 7/30\n",
      "5182/5182 [==============================] - 7s 1ms/step - loss: 4.5153 - val_loss: 4.6911\n",
      "Epoch 8/30\n",
      "5182/5182 [==============================] - 6s 1ms/step - loss: 4.5140 - val_loss: 4.6921\n",
      "Epoch 9/30\n",
      "5182/5182 [==============================] - 6s 1ms/step - loss: 4.5060 - val_loss: 4.6881\n",
      "Epoch 10/30\n",
      "5182/5182 [==============================] - 6s 1ms/step - loss: 4.5061 - val_loss: 4.6734\n",
      "Epoch 11/30\n",
      "5182/5182 [==============================] - 6s 1ms/step - loss: 4.4981 - val_loss: 4.6935\n",
      "Epoch 12/30\n",
      "5182/5182 [==============================] - 6s 1ms/step - loss: 4.4943 - val_loss: 4.7133\n",
      "Epoch 13/30\n",
      "5182/5182 [==============================] - 6s 1ms/step - loss: 4.4865 - val_loss: 4.6793\n",
      "Epoch 14/30\n",
      "5182/5182 [==============================] - 6s 1ms/step - loss: 4.4832 - val_loss: 4.6804\n",
      "Epoch 15/30\n",
      "5182/5182 [==============================] - 6s 1ms/step - loss: 4.4822 - val_loss: 4.6692\n",
      "Epoch 16/30\n",
      "5182/5182 [==============================] - 6s 1ms/step - loss: 4.4750 - val_loss: 4.6745\n",
      "Epoch 17/30\n",
      "5182/5182 [==============================] - 6s 1ms/step - loss: 4.4749 - val_loss: 4.6962\n",
      "Epoch 18/30\n",
      "5182/5182 [==============================] - 6s 1ms/step - loss: 4.4650 - val_loss: 4.6783\n",
      "Epoch 19/30\n",
      "5182/5182 [==============================] - 6s 1ms/step - loss: 4.4613 - val_loss: 4.6818\n",
      "Epoch 20/30\n",
      "5182/5182 [==============================] - 6s 1ms/step - loss: 4.4638 - val_loss: 4.6739\n",
      "Epoch 21/30\n",
      "5182/5182 [==============================] - 6s 1ms/step - loss: 4.4575 - val_loss: 4.6874\n",
      "Epoch 22/30\n",
      "5182/5182 [==============================] - 6s 1ms/step - loss: 4.4510 - val_loss: 4.6831\n",
      "Epoch 23/30\n",
      "5182/5182 [==============================] - 6s 1ms/step - loss: 4.4490 - val_loss: 4.6937\n",
      "Epoch 24/30\n",
      "5182/5182 [==============================] - 6s 1ms/step - loss: 4.4441 - val_loss: 4.6843\n",
      "Epoch 25/30\n",
      "5182/5182 [==============================] - 6s 1ms/step - loss: 4.4368 - val_loss: 4.6909\n",
      "Epoch 26/30\n",
      "5182/5182 [==============================] - 7s 1ms/step - loss: 4.4354 - val_loss: 4.6850\n",
      "Epoch 27/30\n",
      "5182/5182 [==============================] - 6s 1ms/step - loss: 4.4264 - val_loss: 4.8372\n",
      "Epoch 28/30\n",
      "5182/5182 [==============================] - 6s 1ms/step - loss: 4.4346 - val_loss: 4.7224\n",
      "Epoch 29/30\n",
      "5182/5182 [==============================] - 6s 1ms/step - loss: 4.4258 - val_loss: 4.7190\n",
      "Epoch 30/30\n",
      "5182/5182 [==============================] - 6s 1ms/step - loss: 4.4193 - val_loss: 4.7627\n"
     ]
    }
   ],
   "source": [
    "history_2 = model_mlp_2.fit(x_train, y_train,\n",
    "                        batch_size=16,\n",
    "                        epochs=30,\n",
    "                        validation_split=0.2)"
   ],
   "metadata": {
    "collapsed": false,
    "pycharm": {
     "name": "#%%\n"
    }
   }
  },
  {
   "cell_type": "code",
   "execution_count": 31,
   "outputs": [
    {
     "name": "stdout",
     "output_type": "stream",
     "text": [
      "Test loss: 4.539733409881592\n"
     ]
    }
   ],
   "source": [
    "score_2 = model_mlp_2.evaluate(x_test, y_test, verbose=0)\n",
    "print('Test loss:', score_2)"
   ],
   "metadata": {
    "collapsed": false,
    "pycharm": {
     "name": "#%%\n"
    }
   }
  },
  {
   "cell_type": "code",
   "execution_count": 32,
   "outputs": [
    {
     "data": {
      "text/plain": "<Figure size 432x288 with 1 Axes>",
      "image/png": "[encoded data removed]"
     },
     "metadata": {
      "needs_background": "light"
     },
     "output_type": "display_data"
    }
   ],
   "source": [
    "# Plot training & validation loss values\n",
    "plt.plot(history.history['loss'])\n",
    "plt.plot(history.history['val_loss'])\n",
    "plt.title('Model loss')\n",
    "plt.ylabel('Loss')\n",
    "plt.xlabel('Epoch')\n",
    "plt.legend(['Train', 'Test'], loc='upper left')\n",
    "plt.show()"
   ],
   "metadata": {
    "collapsed": false,
    "pycharm": {
     "name": "#%%\n"
    }
   }
  },
  {
   "cell_type": "code",
   "execution_count": 33,
   "outputs": [],
   "source": [
    "y_pred_mlp_2 = pd.Series(model_mlp_2.predict(x_test).reshape(-1,), index=y_test.index, name='predicted_total_points_next_gameweek')"
   ],
   "metadata": {
    "collapsed": false,
    "pycharm": {
     "name": "#%%\n"
    }
   }
  },
  {
   "cell_type": "code",
   "execution_count": 34,
   "outputs": [
    {
     "data": {
      "text/plain": "        predicted_total_points_next_gameweek                           name  \\\n59869                              10.754632              Mohamed_Salah_253   \n70486                              10.687531            Raheem_Sterling_214   \n69898                              10.638161              Mohamed_Salah_191   \n99759                              10.454197                  Mohamed Salah   \n81781                               9.987192            Kevin_De Bruyne_215   \n118991                              9.955945  Bruno Miguel Borges Fernandes   \n49716                               9.824412              Mohamed_Salah_253   \n99247                               9.627673                  Mohamed Salah   \n73656                               9.142138            Kevin_De Bruyne_215   \n78152                               9.051242            Kevin_De Bruyne_215   \n\n        GW  element  total_points_next_gameweek   season  assists  bonus  \\\n59869   25      253                         8.0  2018-19      0.0    0.0   \n70486    5      214                         0.0  2019-20      0.0    0.0   \n69898    4      191                         9.0  2019-20      1.0    0.0   \n99759   17      254                         3.0  2020-21      0.0    0.0   \n81781   25      215                        14.0  2019-20      0.0    0.0   \n118991   8      277                         1.0  2021-22      1.0    0.0   \n49716    7      253                         3.0  2018-19      0.0    0.0   \n99247   16      254                         2.0  2020-21      0.0    0.0   \n73656   11      215                         2.0  2019-20      0.0    0.0   \n78152   19      215                        14.0  2019-20      1.0    0.0   \n\n         bps  clean_sheets  ...  transfers_balance  transfers_in  \\\n59869   -2.0           0.0  ...           -18495.0       36357.0   \n70486   19.0           0.0  ...           -53559.0       97908.0   \n69898   15.0           1.0  ...           243530.0      291554.0   \n99759   -1.0           0.0  ...            12437.0       87003.0   \n81781   10.0           0.0  ...           167175.0      213846.0   \n118991  24.0           0.0  ...          -182100.0       24555.0   \n49716    8.0           0.0  ...          -106042.0       22128.0   \n99247   -5.0           1.0  ...            79807.0      108826.0   \n73656   21.0           0.0  ...           168126.0      197239.0   \n78152   21.0           0.0  ...           287829.0      315524.0   \n\n        transfers_out  value  was_home  yellow_cards  position_DEF  \\\n59869         54852.0  136.0       0.0           0.0           0.0   \n70486        151467.0  123.0       0.0           0.0           0.0   \n69898         48024.0  125.0       0.0           0.0           0.0   \n99759         74566.0  126.0       0.0           0.0           0.0   \n81781         46671.0  107.0       0.0           0.0           0.0   \n118991       206655.0  118.0       0.0           0.0           0.0   \n49716        128170.0  129.0       0.0           0.0           0.0   \n99247         29019.0  126.0       0.0           0.0           0.0   \n73656         29113.0  102.0       1.0           0.0           0.0   \n78152         27695.0  104.0       0.0           0.0           0.0   \n\n        position_FWD  position_GK  position_MID  \n59869            0.0          0.0           1.0  \n70486            0.0          0.0           1.0  \n69898            0.0          0.0           1.0  \n99759            0.0          0.0           1.0  \n81781            0.0          0.0           1.0  \n118991           0.0          0.0           1.0  \n49716            0.0          0.0           1.0  \n99247            0.0          0.0           1.0  \n73656            0.0          0.0           1.0  \n78152            0.0          0.0           1.0  \n\n[10 rows x 34 columns]",
      "text/html": "<div>\n<style scoped>\n    .dataframe tbody tr th:only-of-type {\n        vertical-align: middle;\n    }\n\n    .dataframe tbody tr th {\n        vertical-align: top;\n    }\n\n    .dataframe thead th {\n        text-align: right;\n    }\n</style>\n<table border=\"1\" class=\"dataframe\">\n  <thead>\n    <tr style=\"text-align: right;\">\n      <th></th>\n      <th>predicted_total_points_next_gameweek</th>\n      <th>name</th>\n      <th>GW</th>\n      <th>element</th>\n      <th>total_points_next_gameweek</th>\n      <th>season</th>\n      <th>assists</th>\n      <th>bonus</th>\n      <th>bps</th>\n      <th>clean_sheets</th>\n      <th>...</th>\n      <th>transfers_balance</th>\n      <th>transfers_in</th>\n      <th>transfers_out</th>\n      <th>value</th>\n      <th>was_home</th>\n      <th>yellow_cards</th>\n      <th>position_DEF</th>\n      <th>position_FWD</th>\n      <th>position_GK</th>\n      <th>position_MID</th>\n    </tr>\n  </thead>\n  <tbody>\n    <tr>\n      <th>59869</th>\n      <td>10.754632</td>\n      <td>Mohamed_Salah_253</td>\n      <td>25</td>\n      <td>253</td>\n      <td>8.0</td>\n      <td>2018-19</td>\n      <td>0.0</td>\n      <td>0.0</td>\n      <td>-2.0</td>\n      <td>0.0</td>\n      <td>...</td>\n      <td>-18495.0</td>\n      <td>36357.0</td>\n      <td>54852.0</td>\n      <td>136.0</td>\n      <td>0.0</td>\n      <td>0.0</td>\n      <td>0.0</td>\n      <td>0.0</td>\n      <td>0.0</td>\n      <td>1.0</td>\n    </tr>\n    <tr>\n      <th>70486</th>\n      <td>10.687531</td>\n      <td>Raheem_Sterling_214</td>\n      <td>5</td>\n      <td>214</td>\n      <td>0.0</td>\n      <td>2019-20</td>\n      <td>0.0</td>\n      <td>0.0</td>\n      <td>19.0</td>\n      <td>0.0</td>\n      <td>...</td>\n      <td>-53559.0</td>\n      <td>97908.0</td>\n      <td>151467.0</td>\n      <td>123.0</td>\n      <td>0.0</td>\n      <td>0.0</td>\n      <td>0.0</td>\n      <td>0.0</td>\n      <td>0.0</td>\n      <td>1.0</td>\n    </tr>\n    <tr>\n      <th>69898</th>\n      <td>10.638161</td>\n      <td>Mohamed_Salah_191</td>\n      <td>4</td>\n      <td>191</td>\n      <td>9.0</td>\n      <td>2019-20</td>\n      <td>1.0</td>\n      <td>0.0</td>\n      <td>15.0</td>\n      <td>1.0</td>\n      <td>...</td>\n      <td>243530.0</td>\n      <td>291554.0</td>\n      <td>48024.0</td>\n      <td>125.0</td>\n      <td>0.0</td>\n      <td>0.0</td>\n      <td>0.0</td>\n      <td>0.0</td>\n      <td>0.0</td>\n      <td>1.0</td>\n    </tr>\n    <tr>\n      <th>99759</th>\n      <td>10.454197</td>\n      <td>Mohamed Salah</td>\n      <td>17</td>\n      <td>254</td>\n      <td>3.0</td>\n      <td>2020-21</td>\n      <td>0.0</td>\n      <td>0.0</td>\n      <td>-1.0</td>\n      <td>0.0</td>\n      <td>...</td>\n      <td>12437.0</td>\n      <td>87003.0</td>\n      <td>74566.0</td>\n      <td>126.0</td>\n      <td>0.0</td>\n      <td>0.0</td>\n      <td>0.0</td>\n      <td>0.0</td>\n      <td>0.0</td>\n      <td>1.0</td>\n    </tr>\n    <tr>\n      <th>81781</th>\n      <td>9.987192</td>\n      <td>Kevin_De Bruyne_215</td>\n      <td>25</td>\n      <td>215</td>\n      <td>14.0</td>\n      <td>2019-20</td>\n      <td>0.0</td>\n      <td>0.0</td>\n      <td>10.0</td>\n      <td>0.0</td>\n      <td>...</td>\n      <td>167175.0</td>\n      <td>213846.0</td>\n      <td>46671.0</td>\n      <td>107.0</td>\n      <td>0.0</td>\n      <td>0.0</td>\n      <td>0.0</td>\n      <td>0.0</td>\n      <td>0.0</td>\n      <td>1.0</td>\n    </tr>\n    <tr>\n      <th>118991</th>\n      <td>9.955945</td>\n      <td>Bruno Miguel Borges Fernandes</td>\n      <td>8</td>\n      <td>277</td>\n      <td>1.0</td>\n      <td>2021-22</td>\n      <td>1.0</td>\n      <td>0.0</td>\n      <td>24.0</td>\n      <td>0.0</td>\n      <td>...</td>\n      <td>-182100.0</td>\n      <td>24555.0</td>\n      <td>206655.0</td>\n      <td>118.0</td>\n      <td>0.0</td>\n      <td>0.0</td>\n      <td>0.0</td>\n      <td>0.0</td>\n      <td>0.0</td>\n      <td>1.0</td>\n    </tr>\n    <tr>\n      <th>49716</th>\n      <td>9.824412</td>\n      <td>Mohamed_Salah_253</td>\n      <td>7</td>\n      <td>253</td>\n      <td>3.0</td>\n      <td>2018-19</td>\n      <td>0.0</td>\n      <td>0.0</td>\n      <td>8.0</td>\n      <td>0.0</td>\n      <td>...</td>\n      <td>-106042.0</td>\n      <td>22128.0</td>\n      <td>128170.0</td>\n      <td>129.0</td>\n      <td>0.0</td>\n      <td>0.0</td>\n      <td>0.0</td>\n      <td>0.0</td>\n      <td>0.0</td>\n      <td>1.0</td>\n    </tr>\n    <tr>\n      <th>99247</th>\n      <td>9.627673</td>\n      <td>Mohamed Salah</td>\n      <td>16</td>\n      <td>254</td>\n      <td>2.0</td>\n      <td>2020-21</td>\n      <td>0.0</td>\n      <td>0.0</td>\n      <td>-5.0</td>\n      <td>1.0</td>\n      <td>...</td>\n      <td>79807.0</td>\n      <td>108826.0</td>\n      <td>29019.0</td>\n      <td>126.0</td>\n      <td>0.0</td>\n      <td>0.0</td>\n      <td>0.0</td>\n      <td>0.0</td>\n      <td>0.0</td>\n      <td>1.0</td>\n    </tr>\n    <tr>\n      <th>73656</th>\n      <td>9.142138</td>\n      <td>Kevin_De Bruyne_215</td>\n      <td>11</td>\n      <td>215</td>\n      <td>2.0</td>\n      <td>2019-20</td>\n      <td>0.0</td>\n      <td>0.0</td>\n      <td>21.0</td>\n      <td>0.0</td>\n      <td>...</td>\n      <td>168126.0</td>\n      <td>197239.0</td>\n      <td>29113.0</td>\n      <td>102.0</td>\n      <td>1.0</td>\n      <td>0.0</td>\n      <td>0.0</td>\n      <td>0.0</td>\n      <td>0.0</td>\n      <td>1.0</td>\n    </tr>\n    <tr>\n      <th>78152</th>\n      <td>9.051242</td>\n      <td>Kevin_De Bruyne_215</td>\n      <td>19</td>\n      <td>215</td>\n      <td>14.0</td>\n      <td>2019-20</td>\n      <td>1.0</td>\n      <td>0.0</td>\n      <td>21.0</td>\n      <td>0.0</td>\n      <td>...</td>\n      <td>287829.0</td>\n      <td>315524.0</td>\n      <td>27695.0</td>\n      <td>104.0</td>\n      <td>0.0</td>\n      <td>0.0</td>\n      <td>0.0</td>\n      <td>0.0</td>\n      <td>0.0</td>\n      <td>1.0</td>\n    </tr>\n  </tbody>\n</table>\n<p>10 rows × 34 columns</p>\n</div>"
     },
     "execution_count": 34,
     "metadata": {},
     "output_type": "execute_result"
    }
   ],
   "source": [
    "predictions_mlp_2 = pd.concat([y_pred_mlp_2, x_test_reversed], axis=1)\n",
    "#preview predictions_mlp_2 sorted by predicted total points descending\n",
    "predictions_mlp_2.sort_values(by='predicted_total_points_next_gameweek', ascending=False).head(10)"
   ],
   "metadata": {
    "collapsed": false,
    "pycharm": {
     "name": "#%%\n"
    }
   }
  },
  {
   "cell_type": "markdown",
   "source": [
    "## Train on baseline XGBoost model"
   ],
   "metadata": {
    "collapsed": false,
    "pycharm": {
     "name": "#%% md\n"
    }
   }
  },
  {
   "cell_type": "code",
   "execution_count": 4,
   "outputs": [],
   "source": [
    "import xgboost as xgb"
   ],
   "metadata": {
    "collapsed": false,
    "pycharm": {
     "name": "#%%\n"
    }
   }
  },
  {
   "cell_type": "code",
   "execution_count": 5,
   "outputs": [],
   "source": [
    "model_xgb = xgb.XGBRegressor()"
   ],
   "metadata": {
    "collapsed": false,
    "pycharm": {
     "name": "#%%\n"
    }
   }
  },
  {
   "cell_type": "code",
   "execution_count": 7,
   "outputs": [
    {
     "data": {
      "text/plain": "XGBRegressor(base_score=0.5, booster='gbtree', callbacks=None,\n             colsample_bylevel=1, colsample_bynode=1, colsample_bytree=1,\n             early_stopping_rounds=None, enable_categorical=False,\n             eval_metric=None, gamma=0, gpu_id=-1, grow_policy='depthwise',\n             importance_type=None, interaction_constraints='',\n             learning_rate=0.300000012, max_bin=256, max_cat_to_onehot=4,\n             max_delta_step=0, max_depth=6, max_leaves=0, min_child_weight=1,\n             missing=nan, monotone_constraints='()', n_estimators=100, n_jobs=0,\n             num_parallel_tree=1, predictor='auto', random_state=0, reg_alpha=0,\n             reg_lambda=1, ...)"
     },
     "execution_count": 7,
     "metadata": {},
     "output_type": "execute_result"
    }
   ],
   "source": [
    "model_xgb.fit(x_train, y_train)"
   ],
   "metadata": {
    "collapsed": false,
    "pycharm": {
     "name": "#%%\n"
    }
   }
  },
  {
   "cell_type": "code",
   "execution_count": 9,
   "outputs": [],
   "source": [
    "# create series to keep indexes and name same as in the original y data\n",
    "y_pred = pd.Series(model_xgb.predict(x_test), index=y_test.index,\n",
    "                        name='predicted_total_points_next_gameweek')"
   ],
   "metadata": {
    "collapsed": false,
    "pycharm": {
     "name": "#%%\n"
    }
   }
  },
  {
   "cell_type": "code",
   "execution_count": 10,
   "outputs": [
    {
     "data": {
      "text/plain": "4.614374008179695"
     },
     "execution_count": 10,
     "metadata": {},
     "output_type": "execute_result"
    }
   ],
   "source": [
    "mean_squared_error(y_pred, y_test)"
   ],
   "metadata": {
    "collapsed": false,
    "pycharm": {
     "name": "#%%\n"
    }
   }
  },
  {
   "cell_type": "code",
   "execution_count": 11,
   "outputs": [
    {
     "name": "stdout",
     "output_type": "stream",
     "text": [
      "Feature 0: assists, Score: 0.005260000005364418\n",
      "Feature 1: bonus, Score: 0.0075599998235702515\n",
      "Feature 2: bps, Score: 0.00949000008404255\n",
      "Feature 3: clean_sheets, Score: 0.00863999966531992\n",
      "Feature 4: creativity, Score: 0.012199999764561653\n",
      "Feature 5: goals_conceded, Score: 0.010219999589025974\n",
      "Feature 6: goals_scored, Score: 0.006909999996423721\n",
      "Feature 7: ict_index, Score: 0.03853999823331833\n",
      "Feature 8: influence, Score: 0.014720000326633453\n",
      "Feature 9: minutes, Score: 0.5295799970626831\n",
      "Feature 10: own_goals, Score: 0.008320000022649765\n",
      "Feature 11: penalties_missed, Score: 0.015359999611973763\n",
      "Feature 12: penalties_saved, Score: 0.010619999840855598\n",
      "Feature 13: red_cards, Score: 0.03925999999046326\n",
      "Feature 14: saves, Score: 0.01336000021547079\n",
      "Feature 15: selected, Score: 0.029589999467134476\n",
      "Feature 16: threat, Score: 0.013670000247657299\n",
      "Feature 17: total_points, Score: 0.018719999119639397\n",
      "Feature 18: transfers_balance, Score: 0.013910000212490559\n",
      "Feature 19: transfers_in, Score: 0.024940000846982002\n",
      "Feature 20: transfers_out, Score: 0.014709999784827232\n",
      "Feature 21: value, Score: 0.03897000104188919\n",
      "Feature 22: was_home, Score: 0.018729999661445618\n",
      "Feature 23: yellow_cards, Score: 0.00791999977082014\n",
      "Feature 24: position_DEF, Score: 0.016939999535679817\n",
      "Feature 25: position_FWD, Score: 0.01607000082731247\n",
      "Feature 26: position_GK, Score: 0.04174000024795532\n",
      "Feature 27: position_MID, Score: 0.014069999568164349\n"
     ]
    },
    {
     "data": {
      "text/plain": "<Figure size 432x288 with 1 Axes>",
      "image/png": "[encoded data removed]"
     },
     "metadata": {
      "needs_background": "light"
     },
     "output_type": "display_data"
    }
   ],
   "source": [
    "# summarize feature importance\n",
    "importance = model_xgb.feature_importances_\n",
    "for i,v in enumerate(importance):\n",
    "    print(f'Feature {i}: {x_train.columns[i]}, Score: {round(v,5)}')\n",
    "# plot feature importance\n",
    "plt.bar([x for x in range(len(importance))], importance)\n",
    "plt.show()"
   ],
   "metadata": {
    "collapsed": false,
    "pycharm": {
     "name": "#%%\n"
    }
   }
  },
  {
   "cell_type": "code",
   "execution_count": null,
   "outputs": [],
   "source": [],
   "metadata": {
    "collapsed": false,
    "pycharm": {
     "name": "#%%\n"
    }
   }
  }
 ],
 "metadata": {
  "kernelspec": {
   "display_name": "Python 3",
   "language": "python",
   "name": "python3"
  },
  "language_info": {
   "codemirror_mode": {
    "name": "ipython",
    "version": 2
   },
   "file_extension": ".py",
   "mimetype": "text/x-python",
   "name": "python",
   "nbconvert_exporter": "python",
   "pygments_lexer": "ipython2",
   "version": "2.7.6"
  }
 },
 "nbformat": 4,
 "nbformat_minor": 0
}