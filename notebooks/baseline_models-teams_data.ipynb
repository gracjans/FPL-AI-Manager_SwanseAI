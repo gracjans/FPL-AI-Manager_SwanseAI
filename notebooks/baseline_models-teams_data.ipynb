{
 "cells": [
  {
   "cell_type": "markdown",
   "source": [
    "# Train simple baseline models on merged seasons (full) data with historical rolling features and with data about next opponent team"
   ],
   "metadata": {
    "collapsed": false,
    "pycharm": {
     "name": "#%% md\n"
    }
   }
  },
  {
   "cell_type": "code",
   "execution_count": 1,
   "outputs": [],
   "source": [
    "import pandas as pd\n",
    "import matplotlib.pyplot as plt\n",
    "\n",
    "from src.data.data_loader import load_master_team_list\n",
    "from src.data.data_loader import load_understat_team_stats\n",
    "from src.features.data_engineering import preprocess_seasons_data, reverse_processing, get_oponent_team_stats\n",
    "from src.features.utils import idx_to_team_name, str_date_days_forward"
   ],
   "metadata": {
    "collapsed": false,
    "pycharm": {
     "name": "#%%\n"
    }
   }
  },
  {
   "cell_type": "code",
   "execution_count": 2,
   "outputs": [],
   "source": [
    "rolling_columns = ['assists', 'bonus', 'bps', 'clean_sheets',\n",
    "                   'creativity', 'goals_conceded', 'goals_scored',\n",
    "                   'ict_index', 'influence', 'minutes',\n",
    "                   'own_goals', 'penalties_missed', 'penalties_saved', 'red_cards',\n",
    "                   'saves', 'selected', 'player_team_score', 'opponent_team_score', 'threat',\n",
    "                   'total_points', 'transfers_in', 'transfers_out',\n",
    "                   'value', 'yellow_cards']\n",
    "\n",
    "times = ['all', 6, 3]"
   ],
   "metadata": {
    "collapsed": false,
    "pycharm": {
     "name": "#%%\n"
    }
   }
  },
  {
   "cell_type": "code",
   "execution_count": 3,
   "outputs": [],
   "source": [
    "from src.features.data_engineering import get_merged_seasons_data\n",
    "\n",
    "data = get_merged_seasons_data()\n",
    "data_processed = data.copy()"
   ],
   "metadata": {
    "collapsed": false,
    "pycharm": {
     "name": "#%%\n"
    }
   }
  },
  {
   "cell_type": "code",
   "execution_count": 4,
   "outputs": [],
   "source": [
    "(x_train, y_train), (x_test, y_test), (x_train_target, x_test_target), x_scaler = preprocess_seasons_data(rolling_features=True, rolling_columns=rolling_columns, rolling_times=times, opponent_team_stats=True)"
   ],
   "metadata": {
    "collapsed": false,
    "pycharm": {
     "name": "#%%\n"
    }
   }
  },
  {
   "cell_type": "markdown",
   "source": [
    "## Train on baseline Dummy model"
   ],
   "metadata": {
    "collapsed": false,
    "pycharm": {
     "name": "#%% md\n"
    }
   }
  },
  {
   "cell_type": "code",
   "execution_count": 8,
   "outputs": [],
   "source": [
    "from sklearn.dummy import DummyRegressor\n",
    "from sklearn.metrics import mean_squared_error"
   ],
   "metadata": {
    "collapsed": false,
    "pycharm": {
     "name": "#%%\n"
    }
   }
  },
  {
   "cell_type": "code",
   "execution_count": 9,
   "outputs": [
    {
     "data": {
      "text/plain": "DummyRegressor()"
     },
     "execution_count": 9,
     "metadata": {},
     "output_type": "execute_result"
    }
   ],
   "source": [
    "dummy_regr = DummyRegressor(strategy=\"mean\")\n",
    "dummy_regr.fit(x_train, y_train)"
   ],
   "metadata": {
    "collapsed": false,
    "pycharm": {
     "name": "#%%\n"
    }
   }
  },
  {
   "cell_type": "code",
   "execution_count": 10,
   "outputs": [],
   "source": [
    "y_pred = dummy_regr.predict(x_test)"
   ],
   "metadata": {
    "collapsed": false,
    "pycharm": {
     "name": "#%%\n"
    }
   }
  },
  {
   "cell_type": "code",
   "execution_count": 11,
   "outputs": [
    {
     "data": {
      "text/plain": "6.198001949957157"
     },
     "execution_count": 11,
     "metadata": {},
     "output_type": "execute_result"
    }
   ],
   "source": [
    "mean_squared_error(y_pred, y_test)"
   ],
   "metadata": {
    "collapsed": false,
    "pycharm": {
     "name": "#%%\n"
    }
   }
  },
  {
   "cell_type": "markdown",
   "source": [
    "## Train on baseline decision tree model"
   ],
   "metadata": {
    "collapsed": false,
    "pycharm": {
     "name": "#%% md\n"
    }
   }
  },
  {
   "cell_type": "code",
   "execution_count": 12,
   "outputs": [],
   "source": [
    "from sklearn.tree import DecisionTreeRegressor"
   ],
   "metadata": {
    "collapsed": false,
    "pycharm": {
     "name": "#%%\n"
    }
   }
  },
  {
   "cell_type": "code",
   "execution_count": 13,
   "outputs": [
    {
     "data": {
      "text/plain": "DecisionTreeRegressor()"
     },
     "execution_count": 13,
     "metadata": {},
     "output_type": "execute_result"
    }
   ],
   "source": [
    "tree_regr = DecisionTreeRegressor()\n",
    "tree_regr.fit(x_train, y_train)"
   ],
   "metadata": {
    "collapsed": false,
    "pycharm": {
     "name": "#%%\n"
    }
   }
  },
  {
   "cell_type": "code",
   "execution_count": 14,
   "outputs": [],
   "source": [
    "y_pred = tree_regr.predict(x_test)"
   ],
   "metadata": {
    "collapsed": false,
    "pycharm": {
     "name": "#%%\n"
    }
   }
  },
  {
   "cell_type": "code",
   "execution_count": 15,
   "outputs": [
    {
     "data": {
      "text/plain": "9.276862381062891"
     },
     "execution_count": 15,
     "metadata": {},
     "output_type": "execute_result"
    }
   ],
   "source": [
    "mean_squared_error(y_pred, y_test)"
   ],
   "metadata": {
    "collapsed": false,
    "pycharm": {
     "name": "#%%\n"
    }
   }
  },
  {
   "cell_type": "markdown",
   "source": [
    "## Train on baseline SVR model"
   ],
   "metadata": {
    "collapsed": false,
    "pycharm": {
     "name": "#%% md\n"
    }
   }
  },
  {
   "cell_type": "code",
   "execution_count": 16,
   "outputs": [],
   "source": [
    "from sklearn.svm import LinearSVR"
   ],
   "metadata": {
    "collapsed": false,
    "pycharm": {
     "name": "#%%from sklearn import svm\n"
    }
   }
  },
  {
   "cell_type": "code",
   "execution_count": 17,
   "outputs": [
    {
     "name": "stderr",
     "output_type": "stream",
     "text": [
      "d:\\studies\\informatyka\\semestr_3\\fpl_ai_manager\\venv\\lib\\site-packages\\sklearn\\svm\\_base.py:1206: ConvergenceWarning: Liblinear failed to converge, increase the number of iterations.\n",
      "  warnings.warn(\n"
     ]
    },
    {
     "data": {
      "text/plain": "LinearSVR()"
     },
     "execution_count": 17,
     "metadata": {},
     "output_type": "execute_result"
    }
   ],
   "source": [
    "model_svr = LinearSVR()\n",
    "model_svr.fit(x_train, y_train)"
   ],
   "metadata": {
    "collapsed": false,
    "pycharm": {
     "name": "#%%\n"
    }
   }
  },
  {
   "cell_type": "code",
   "execution_count": 18,
   "outputs": [],
   "source": [
    "# create series to keep indexes and name same as in the original y data\n",
    "y_pred_svr = pd.Series(model_svr.predict(x_test), index=y_test.index, name='predicted_total_points_next_gameweek')"
   ],
   "metadata": {
    "collapsed": false,
    "pycharm": {
     "name": "#%%\n"
    }
   }
  },
  {
   "cell_type": "code",
   "execution_count": 19,
   "outputs": [
    {
     "data": {
      "text/plain": "5.060001693273523"
     },
     "execution_count": 19,
     "metadata": {},
     "output_type": "execute_result"
    }
   ],
   "source": [
    "mean_squared_error(y_pred_svr, y_test)"
   ],
   "metadata": {
    "collapsed": false,
    "pycharm": {
     "name": "#%%\n"
    }
   }
  },
  {
   "cell_type": "markdown",
   "source": [
    "## Merge results with footballers extracted target data"
   ],
   "metadata": {
    "collapsed": false,
    "pycharm": {
     "name": "#%% md\n"
    }
   }
  },
  {
   "cell_type": "code",
   "execution_count": 20,
   "outputs": [],
   "source": [
    "x_test_reversed = reverse_processing(x_test, x_scaler, x_test_target)"
   ],
   "metadata": {
    "collapsed": false,
    "pycharm": {
     "name": "#%%\n"
    }
   }
  },
  {
   "cell_type": "code",
   "execution_count": 21,
   "outputs": [],
   "source": [
    "predictions_svr = pd.concat([y_pred_svr, x_test_reversed], axis=1)"
   ],
   "metadata": {
    "collapsed": false,
    "pycharm": {
     "name": "#%%\n"
    }
   }
  },
  {
   "cell_type": "code",
   "execution_count": 22,
   "outputs": [
    {
     "data": {
      "text/plain": "        predicted_total_points_next_gameweek                 name  GW  \\\n115301                              3.848607        Mohamed Salah   1   \n120474                              3.664789        Mohamed Salah  10   \n68824                               3.652910  Raheem_Sterling_214   2   \n68032                               3.589415     Riyad_Mahrez_217   1   \n117091                              3.525489          Sadio ManÃ©   4   \n55441                               3.504597    Mohamed_Salah_253  18   \n121953                              3.500022        Mohamed Salah  12   \n8777                                3.427472       Alexis_Sánchez  16   \n117086                              3.410111        Mohamed Salah   4   \n115422                              3.409724        Mohamed Salah   2   \n\n        element  total_points_next_gameweek   season  assists  assists-3  \\\n115301      233                         3.0  2021-22      2.0   2.000000   \n120474      233                         5.0  2021-22      1.0   1.000000   \n68824       214                         8.0  2019-20      0.0   0.000000   \n68032       217                         1.0  2019-20      3.0   3.000000   \n117091      230                         8.0  2021-22      0.0   0.333333   \n55441       253                        12.0  2018-19      1.0   0.333333   \n121953      233                         6.0  2021-22      0.0   0.666667   \n8777         12                         5.0  2016-17      0.0   0.666667   \n117086      233                        12.0  2021-22      0.0   0.000000   \n115422      233                        10.0  2021-22      0.0   1.000000   \n\n        assists-6  assists-all  ...  opponent_next_xGA  opponent_next_NPxGA  \\\n115301   2.000000     2.000000  ...           1.690000             1.690000   \n120474   0.833333     0.700000  ...           1.042857             1.042857   \n68824    0.000000     0.000000  ...           1.625000             1.625000   \n68032    3.000000     3.000000  ...           0.640000             0.640000   \n117091   0.250000     0.250000  ...           0.855000             0.855000   \n55441    0.333333     0.333333  ...           1.597778             1.597778   \n121953   0.833333     0.666667  ...           1.092857             1.092857   \n8777     0.333333     0.375000  ...           0.832500             0.832500   \n117086   0.500000     0.500000  ...           0.855000             0.855000   \n115422   1.000000     1.000000  ...           0.475000             0.475000   \n\n        opponent_next_NPxGD  opponent_next_DC  opponent_next_ODC  \\\n115301             0.110000          3.000000           7.000000   \n120474             0.588571          5.714286           4.714286   \n68824             -0.520000          6.500000           9.000000   \n68032              1.930000         15.000000           2.000000   \n117091             0.327500          5.250000           8.000000   \n55441             -0.534444          4.333333           7.000000   \n121953             0.174286          7.000000           6.285714   \n8777               0.993750         12.875000           3.375000   \n117086             0.327500          5.250000           8.000000   \n115422             1.940000         16.500000           3.000000   \n\n        opponent_next_xPTS  position_DEF  position_FWD  position_GK  \\\n115301            1.460000           0.0           0.0          0.0   \n120474            1.878571           0.0           0.0          0.0   \n68824             1.190000           0.0           0.0          0.0   \n68032             2.590000           0.0           0.0          0.0   \n117091            1.570000           0.0           0.0          0.0   \n55441             0.984444           0.0           0.0          0.0   \n121953            1.691429           0.0           0.0          0.0   \n8777              2.106250           0.0           0.0          0.0   \n117086            1.570000           0.0           0.0          0.0   \n115422            2.550000           0.0           0.0          0.0   \n\n        position_MID  \n115301           1.0  \n120474           1.0  \n68824            1.0  \n68032            1.0  \n117091           1.0  \n55441            1.0  \n121953           1.0  \n8777             1.0  \n117086           1.0  \n115422           1.0  \n\n[10 rows x 120 columns]",
      "text/html": "<div>\n<style scoped>\n    .dataframe tbody tr th:only-of-type {\n        vertical-align: middle;\n    }\n\n    .dataframe tbody tr th {\n        vertical-align: top;\n    }\n\n    .dataframe thead th {\n        text-align: right;\n    }\n</style>\n<table border=\"1\" class=\"dataframe\">\n  <thead>\n    <tr style=\"text-align: right;\">\n      <th></th>\n      <th>predicted_total_points_next_gameweek</th>\n      <th>name</th>\n      <th>GW</th>\n      <th>element</th>\n      <th>total_points_next_gameweek</th>\n      <th>season</th>\n      <th>assists</th>\n      <th>assists-3</th>\n      <th>assists-6</th>\n      <th>assists-all</th>\n      <th>...</th>\n      <th>opponent_next_xGA</th>\n      <th>opponent_next_NPxGA</th>\n      <th>opponent_next_NPxGD</th>\n      <th>opponent_next_DC</th>\n      <th>opponent_next_ODC</th>\n      <th>opponent_next_xPTS</th>\n      <th>position_DEF</th>\n      <th>position_FWD</th>\n      <th>position_GK</th>\n      <th>position_MID</th>\n    </tr>\n  </thead>\n  <tbody>\n    <tr>\n      <th>115301</th>\n      <td>3.848607</td>\n      <td>Mohamed Salah</td>\n      <td>1</td>\n      <td>233</td>\n      <td>3.0</td>\n      <td>2021-22</td>\n      <td>2.0</td>\n      <td>2.000000</td>\n      <td>2.000000</td>\n      <td>2.000000</td>\n      <td>...</td>\n      <td>1.690000</td>\n      <td>1.690000</td>\n      <td>0.110000</td>\n      <td>3.000000</td>\n      <td>7.000000</td>\n      <td>1.460000</td>\n      <td>0.0</td>\n      <td>0.0</td>\n      <td>0.0</td>\n      <td>1.0</td>\n    </tr>\n    <tr>\n      <th>120474</th>\n      <td>3.664789</td>\n      <td>Mohamed Salah</td>\n      <td>10</td>\n      <td>233</td>\n      <td>5.0</td>\n      <td>2021-22</td>\n      <td>1.0</td>\n      <td>1.000000</td>\n      <td>0.833333</td>\n      <td>0.700000</td>\n      <td>...</td>\n      <td>1.042857</td>\n      <td>1.042857</td>\n      <td>0.588571</td>\n      <td>5.714286</td>\n      <td>4.714286</td>\n      <td>1.878571</td>\n      <td>0.0</td>\n      <td>0.0</td>\n      <td>0.0</td>\n      <td>1.0</td>\n    </tr>\n    <tr>\n      <th>68824</th>\n      <td>3.652910</td>\n      <td>Raheem_Sterling_214</td>\n      <td>2</td>\n      <td>214</td>\n      <td>8.0</td>\n      <td>2019-20</td>\n      <td>0.0</td>\n      <td>0.000000</td>\n      <td>0.000000</td>\n      <td>0.000000</td>\n      <td>...</td>\n      <td>1.625000</td>\n      <td>1.625000</td>\n      <td>-0.520000</td>\n      <td>6.500000</td>\n      <td>9.000000</td>\n      <td>1.190000</td>\n      <td>0.0</td>\n      <td>0.0</td>\n      <td>0.0</td>\n      <td>1.0</td>\n    </tr>\n    <tr>\n      <th>68032</th>\n      <td>3.589415</td>\n      <td>Riyad_Mahrez_217</td>\n      <td>1</td>\n      <td>217</td>\n      <td>1.0</td>\n      <td>2019-20</td>\n      <td>3.0</td>\n      <td>3.000000</td>\n      <td>3.000000</td>\n      <td>3.000000</td>\n      <td>...</td>\n      <td>0.640000</td>\n      <td>0.640000</td>\n      <td>1.930000</td>\n      <td>15.000000</td>\n      <td>2.000000</td>\n      <td>2.590000</td>\n      <td>0.0</td>\n      <td>0.0</td>\n      <td>0.0</td>\n      <td>1.0</td>\n    </tr>\n    <tr>\n      <th>117091</th>\n      <td>3.525489</td>\n      <td>Sadio ManÃ©</td>\n      <td>4</td>\n      <td>230</td>\n      <td>8.0</td>\n      <td>2021-22</td>\n      <td>0.0</td>\n      <td>0.333333</td>\n      <td>0.250000</td>\n      <td>0.250000</td>\n      <td>...</td>\n      <td>0.855000</td>\n      <td>0.855000</td>\n      <td>0.327500</td>\n      <td>5.250000</td>\n      <td>8.000000</td>\n      <td>1.570000</td>\n      <td>0.0</td>\n      <td>0.0</td>\n      <td>0.0</td>\n      <td>1.0</td>\n    </tr>\n    <tr>\n      <th>55441</th>\n      <td>3.504597</td>\n      <td>Mohamed_Salah_253</td>\n      <td>18</td>\n      <td>253</td>\n      <td>12.0</td>\n      <td>2018-19</td>\n      <td>1.0</td>\n      <td>0.333333</td>\n      <td>0.333333</td>\n      <td>0.333333</td>\n      <td>...</td>\n      <td>1.597778</td>\n      <td>1.597778</td>\n      <td>-0.534444</td>\n      <td>4.333333</td>\n      <td>7.000000</td>\n      <td>0.984444</td>\n      <td>0.0</td>\n      <td>0.0</td>\n      <td>0.0</td>\n      <td>1.0</td>\n    </tr>\n    <tr>\n      <th>121953</th>\n      <td>3.500022</td>\n      <td>Mohamed Salah</td>\n      <td>12</td>\n      <td>233</td>\n      <td>6.0</td>\n      <td>2021-22</td>\n      <td>0.0</td>\n      <td>0.666667</td>\n      <td>0.833333</td>\n      <td>0.666667</td>\n      <td>...</td>\n      <td>1.092857</td>\n      <td>1.092857</td>\n      <td>0.174286</td>\n      <td>7.000000</td>\n      <td>6.285714</td>\n      <td>1.691429</td>\n      <td>0.0</td>\n      <td>0.0</td>\n      <td>0.0</td>\n      <td>1.0</td>\n    </tr>\n    <tr>\n      <th>8777</th>\n      <td>3.427472</td>\n      <td>Alexis_Sánchez</td>\n      <td>16</td>\n      <td>12</td>\n      <td>5.0</td>\n      <td>2016-17</td>\n      <td>0.0</td>\n      <td>0.666667</td>\n      <td>0.333333</td>\n      <td>0.375000</td>\n      <td>...</td>\n      <td>0.832500</td>\n      <td>0.832500</td>\n      <td>0.993750</td>\n      <td>12.875000</td>\n      <td>3.375000</td>\n      <td>2.106250</td>\n      <td>0.0</td>\n      <td>0.0</td>\n      <td>0.0</td>\n      <td>1.0</td>\n    </tr>\n    <tr>\n      <th>117086</th>\n      <td>3.410111</td>\n      <td>Mohamed Salah</td>\n      <td>4</td>\n      <td>233</td>\n      <td>12.0</td>\n      <td>2021-22</td>\n      <td>0.0</td>\n      <td>0.000000</td>\n      <td>0.500000</td>\n      <td>0.500000</td>\n      <td>...</td>\n      <td>0.855000</td>\n      <td>0.855000</td>\n      <td>0.327500</td>\n      <td>5.250000</td>\n      <td>8.000000</td>\n      <td>1.570000</td>\n      <td>0.0</td>\n      <td>0.0</td>\n      <td>0.0</td>\n      <td>1.0</td>\n    </tr>\n    <tr>\n      <th>115422</th>\n      <td>3.409724</td>\n      <td>Mohamed Salah</td>\n      <td>2</td>\n      <td>233</td>\n      <td>10.0</td>\n      <td>2021-22</td>\n      <td>0.0</td>\n      <td>1.000000</td>\n      <td>1.000000</td>\n      <td>1.000000</td>\n      <td>...</td>\n      <td>0.475000</td>\n      <td>0.475000</td>\n      <td>1.940000</td>\n      <td>16.500000</td>\n      <td>3.000000</td>\n      <td>2.550000</td>\n      <td>0.0</td>\n      <td>0.0</td>\n      <td>0.0</td>\n      <td>1.0</td>\n    </tr>\n  </tbody>\n</table>\n<p>10 rows × 120 columns</p>\n</div>"
     },
     "execution_count": 22,
     "metadata": {},
     "output_type": "execute_result"
    }
   ],
   "source": [
    "#preview predictions_svr sorted by predicted total points descending\n",
    "predictions_svr.sort_values(by='predicted_total_points_next_gameweek', ascending=False).head(10)"
   ],
   "metadata": {
    "collapsed": false,
    "pycharm": {
     "name": "#%%\n"
    }
   }
  },
  {
   "cell_type": "markdown",
   "source": [
    "### Train baseline MLP model"
   ],
   "metadata": {
    "collapsed": false,
    "pycharm": {
     "name": "#%% md\n"
    }
   }
  },
  {
   "cell_type": "code",
   "execution_count": 23,
   "outputs": [],
   "source": [
    "import tensorflow as tf"
   ],
   "metadata": {
    "collapsed": false,
    "pycharm": {
     "name": "#%%\n"
    }
   }
  },
  {
   "cell_type": "code",
   "execution_count": 24,
   "outputs": [],
   "source": [
    "model_mlp = tf.keras.models.Sequential()\n",
    "\n",
    "model_mlp.add(tf.keras.layers.Dense(units=128, activation='relu', input_shape=(x_train.shape[1],)))\n",
    "model_mlp.add(tf.keras.layers.Dense(units=256, activation='relu'))\n",
    "model_mlp.add(tf.keras.layers.Dense(units=256, activation='relu'))\n",
    "model_mlp.add(tf.keras.layers.Dense(units=126, activation='relu'))\n",
    "model_mlp.add(tf.keras.layers.Dense(units=64, activation='relu'))\n",
    "model_mlp.add(tf.keras.layers.Dense(units=1, activation='linear'))\n"
   ],
   "metadata": {
    "collapsed": false,
    "pycharm": {
     "name": "#%%\n"
    }
   }
  },
  {
   "cell_type": "code",
   "execution_count": 25,
   "outputs": [],
   "source": [
    "model_mlp.compile(optimizer='adam',\n",
    "                  loss='mse')"
   ],
   "metadata": {
    "collapsed": false,
    "pycharm": {
     "name": "#%%model_mlp.compile(optimizer='adam', loss='mse')\n"
    }
   }
  },
  {
   "cell_type": "code",
   "execution_count": 26,
   "outputs": [
    {
     "name": "stdout",
     "output_type": "stream",
     "text": [
      "Epoch 1/15\n",
      "4525/4525 [==============================] - 7s 1ms/step - loss: 4.5823 - val_loss: 4.4256\n",
      "Epoch 2/15\n",
      "4525/4525 [==============================] - 6s 1ms/step - loss: 4.4999 - val_loss: 4.5075\n",
      "Epoch 3/15\n",
      "4525/4525 [==============================] - 6s 1ms/step - loss: 4.4748 - val_loss: 4.4034\n",
      "Epoch 4/15\n",
      "4525/4525 [==============================] - 6s 1ms/step - loss: 4.4566 - val_loss: 4.3582\n",
      "Epoch 5/15\n",
      "4525/4525 [==============================] - 6s 1ms/step - loss: 4.4463 - val_loss: 4.6861\n",
      "Epoch 6/15\n",
      "4525/4525 [==============================] - 6s 1ms/step - loss: 4.4360 - val_loss: 4.4204\n",
      "Epoch 7/15\n",
      "4525/4525 [==============================] - 6s 1ms/step - loss: 4.4253 - val_loss: 4.3332\n",
      "Epoch 8/15\n",
      "4525/4525 [==============================] - 6s 1ms/step - loss: 4.4200 - val_loss: 4.5303\n",
      "Epoch 9/15\n",
      "4525/4525 [==============================] - 6s 1ms/step - loss: 4.4100 - val_loss: 4.5135\n",
      "Epoch 10/15\n",
      "4525/4525 [==============================] - 6s 1ms/step - loss: 4.4022 - val_loss: 4.3512\n",
      "Epoch 11/15\n",
      "4525/4525 [==============================] - 6s 1ms/step - loss: 4.3939 - val_loss: 4.3869\n",
      "Epoch 12/15\n",
      "4525/4525 [==============================] - 6s 1ms/step - loss: 4.3851 - val_loss: 4.3819\n",
      "Epoch 13/15\n",
      "4525/4525 [==============================] - 6s 1ms/step - loss: 4.3795 - val_loss: 4.3628\n",
      "Epoch 14/15\n",
      "4525/4525 [==============================] - 6s 1ms/step - loss: 4.3724 - val_loss: 4.3772\n",
      "Epoch 15/15\n",
      "4525/4525 [==============================] - 6s 1ms/step - loss: 4.3679 - val_loss: 4.3707\n"
     ]
    }
   ],
   "source": [
    "history = model_mlp.fit(x_train, y_train,\n",
    "                        batch_size=16,\n",
    "                        epochs=15,\n",
    "                        validation_split=0.3)"
   ],
   "metadata": {
    "collapsed": false,
    "pycharm": {
     "name": "#%%\n"
    }
   }
  },
  {
   "cell_type": "code",
   "execution_count": 28,
   "outputs": [
    {
     "name": "stdout",
     "output_type": "stream",
     "text": [
      "Test loss: 4.386831760406494\n"
     ]
    }
   ],
   "source": [
    "score = model_mlp.evaluate(x_test, y_test, verbose=0)\n",
    "print('Test loss:', score)"
   ],
   "metadata": {
    "collapsed": false,
    "pycharm": {
     "name": "#%%\n"
    }
   }
  },
  {
   "cell_type": "code",
   "execution_count": 29,
   "outputs": [
    {
     "data": {
      "text/plain": "<Figure size 432x288 with 1 Axes>",
      "image/png": "[encoded data removed]"
     },
     "metadata": {
      "needs_background": "light"
     },
     "output_type": "display_data"
    }
   ],
   "source": [
    "# Plot training & validation loss values\n",
    "plt.plot(history.history['loss'])\n",
    "plt.plot(history.history['val_loss'])\n",
    "plt.title('Model loss')\n",
    "plt.ylabel('Loss')\n",
    "plt.xlabel('Epoch')\n",
    "plt.legend(['Train', 'Test'], loc='upper left')\n",
    "plt.show()"
   ],
   "metadata": {
    "collapsed": false,
    "pycharm": {
     "name": "#%%\n"
    }
   }
  },
  {
   "cell_type": "code",
   "execution_count": 30,
   "outputs": [],
   "source": [
    "y_pred_mlp = pd.Series(model_mlp.predict(x_test).reshape(-1,), index=y_test.index, name='predicted_total_points_next_gameweek')"
   ],
   "metadata": {
    "collapsed": false,
    "pycharm": {
     "name": "#%%\n"
    }
   }
  },
  {
   "cell_type": "code",
   "execution_count": 32,
   "outputs": [
    {
     "data": {
      "text/plain": "        predicted_total_points_next_gameweek                 name  GW  \\\n69942                               8.482849    Mohamed_Salah_191   4   \n55441                               8.000189    Mohamed_Salah_253  18   \n81319                               7.845495    Mohamed_Salah_191  24   \n115301                              7.770132        Mohamed Salah   1   \n117086                              7.610651        Mohamed Salah   4   \n...                                      ...                  ...  ..   \n491                                 4.118396   Branislav_Ivanovic   1   \n106575                              4.118009    Kasper Schmeichel  26   \n94974                               4.117443          Timo Werner   9   \n56546                               4.117311  Kieran_Trippier_357  20   \n25220                               4.116906         Stephen_Ward   3   \n\n        element  total_points_next_gameweek   season  assists  assists-3  \\\n69942       191                         9.0  2019-20      1.0   0.333333   \n55441       253                        12.0  2018-19      1.0   0.333333   \n81319       191                        14.0  2019-20      0.0   0.333333   \n115301      233                         3.0  2021-22      2.0   2.000000   \n117086      233                        12.0  2021-22      0.0   0.000000   \n...         ...                         ...      ...      ...        ...   \n491          76                         2.0  2016-17      0.0   0.000000   \n106575      217                         2.0  2020-21      0.0   0.000000   \n94974       117                         2.0  2020-21      1.0   0.333333   \n56546       357                         6.0  2018-19      0.0   0.333333   \n25220        78                         8.0  2017-18      0.0   0.000000   \n\n        assists-6  assists-all  ...  opponent_next_xGA  opponent_next_NPxGA  \\\n69942    0.500000     0.500000  ...           1.397500             1.397500   \n55441    0.333333     0.333333  ...           1.597778             1.597778   \n81319    0.166667     0.217391  ...           1.953000             1.801000   \n115301   2.000000     2.000000  ...           1.690000             1.690000   \n117086   0.500000     0.500000  ...           0.855000             0.855000   \n...           ...          ...  ...                ...                  ...   \n491      0.000000     0.000000  ...           0.940000             0.940000   \n106575   0.000000     0.000000  ...           0.893333             0.807778   \n94974    0.333333     0.333333  ...           1.007143             0.790000   \n56546    0.166667     0.250000  ...           1.682000             1.530000   \n25220    0.000000     0.000000  ...           1.850000             1.850000   \n\n        opponent_next_NPxGD  opponent_next_DC  opponent_next_ODC  \\\n69942             -0.685000          3.500000           8.250000   \n55441             -0.534444          4.333333           7.000000   \n81319             -0.883000          4.900000           7.500000   \n115301             0.110000          3.000000           7.000000   \n117086             0.327500          5.250000           8.000000   \n...                     ...               ...                ...   \n491               -0.760000          4.000000           6.000000   \n106575             0.715556         10.333333           6.555556   \n94974              0.944286          4.285714           5.714286   \n56546             -0.518000          3.700000           8.000000   \n25220             -1.006667          5.000000           5.666667   \n\n        opponent_next_xPTS  position_DEF  position_FWD  position_GK  \\\n69942             0.790000           0.0           0.0          0.0   \n55441             0.984444           0.0           0.0          0.0   \n81319             0.785000           0.0           0.0          0.0   \n115301            1.460000           0.0           0.0          0.0   \n117086            1.570000           0.0           0.0          0.0   \n...                    ...           ...           ...          ...   \n491               0.590000           1.0           0.0          0.0   \n106575            1.986667           0.0           0.0          1.0   \n94974             1.984286           0.0           1.0          0.0   \n56546             1.047000           1.0           0.0          0.0   \n25220             0.696667           1.0           0.0          0.0   \n\n        position_MID  \n69942            1.0  \n55441            1.0  \n81319            1.0  \n115301           1.0  \n117086           1.0  \n...              ...  \n491              0.0  \n106575           0.0  \n94974            0.0  \n56546            0.0  \n25220            0.0  \n\n[1000 rows x 120 columns]",
      "text/html": "<div>\n<style scoped>\n    .dataframe tbody tr th:only-of-type {\n        vertical-align: middle;\n    }\n\n    .dataframe tbody tr th {\n        vertical-align: top;\n    }\n\n    .dataframe thead th {\n        text-align: right;\n    }\n</style>\n<table border=\"1\" class=\"dataframe\">\n  <thead>\n    <tr style=\"text-align: right;\">\n      <th></th>\n      <th>predicted_total_points_next_gameweek</th>\n      <th>name</th>\n      <th>GW</th>\n      <th>element</th>\n      <th>total_points_next_gameweek</th>\n      <th>season</th>\n      <th>assists</th>\n      <th>assists-3</th>\n      <th>assists-6</th>\n      <th>assists-all</th>\n      <th>...</th>\n      <th>opponent_next_xGA</th>\n      <th>opponent_next_NPxGA</th>\n      <th>opponent_next_NPxGD</th>\n      <th>opponent_next_DC</th>\n      <th>opponent_next_ODC</th>\n      <th>opponent_next_xPTS</th>\n      <th>position_DEF</th>\n      <th>position_FWD</th>\n      <th>position_GK</th>\n      <th>position_MID</th>\n    </tr>\n  </thead>\n  <tbody>\n    <tr>\n      <th>69942</th>\n      <td>8.482849</td>\n      <td>Mohamed_Salah_191</td>\n      <td>4</td>\n      <td>191</td>\n      <td>9.0</td>\n      <td>2019-20</td>\n      <td>1.0</td>\n      <td>0.333333</td>\n      <td>0.500000</td>\n      <td>0.500000</td>\n      <td>...</td>\n      <td>1.397500</td>\n      <td>1.397500</td>\n      <td>-0.685000</td>\n      <td>3.500000</td>\n      <td>8.250000</td>\n      <td>0.790000</td>\n      <td>0.0</td>\n      <td>0.0</td>\n      <td>0.0</td>\n      <td>1.0</td>\n    </tr>\n    <tr>\n      <th>55441</th>\n      <td>8.000189</td>\n      <td>Mohamed_Salah_253</td>\n      <td>18</td>\n      <td>253</td>\n      <td>12.0</td>\n      <td>2018-19</td>\n      <td>1.0</td>\n      <td>0.333333</td>\n      <td>0.333333</td>\n      <td>0.333333</td>\n      <td>...</td>\n      <td>1.597778</td>\n      <td>1.597778</td>\n      <td>-0.534444</td>\n      <td>4.333333</td>\n      <td>7.000000</td>\n      <td>0.984444</td>\n      <td>0.0</td>\n      <td>0.0</td>\n      <td>0.0</td>\n      <td>1.0</td>\n    </tr>\n    <tr>\n      <th>81319</th>\n      <td>7.845495</td>\n      <td>Mohamed_Salah_191</td>\n      <td>24</td>\n      <td>191</td>\n      <td>14.0</td>\n      <td>2019-20</td>\n      <td>0.0</td>\n      <td>0.333333</td>\n      <td>0.166667</td>\n      <td>0.217391</td>\n      <td>...</td>\n      <td>1.953000</td>\n      <td>1.801000</td>\n      <td>-0.883000</td>\n      <td>4.900000</td>\n      <td>7.500000</td>\n      <td>0.785000</td>\n      <td>0.0</td>\n      <td>0.0</td>\n      <td>0.0</td>\n      <td>1.0</td>\n    </tr>\n    <tr>\n      <th>115301</th>\n      <td>7.770132</td>\n      <td>Mohamed Salah</td>\n      <td>1</td>\n      <td>233</td>\n      <td>3.0</td>\n      <td>2021-22</td>\n      <td>2.0</td>\n      <td>2.000000</td>\n      <td>2.000000</td>\n      <td>2.000000</td>\n      <td>...</td>\n      <td>1.690000</td>\n      <td>1.690000</td>\n      <td>0.110000</td>\n      <td>3.000000</td>\n      <td>7.000000</td>\n      <td>1.460000</td>\n      <td>0.0</td>\n      <td>0.0</td>\n      <td>0.0</td>\n      <td>1.0</td>\n    </tr>\n    <tr>\n      <th>117086</th>\n      <td>7.610651</td>\n      <td>Mohamed Salah</td>\n      <td>4</td>\n      <td>233</td>\n      <td>12.0</td>\n      <td>2021-22</td>\n      <td>0.0</td>\n      <td>0.000000</td>\n      <td>0.500000</td>\n      <td>0.500000</td>\n      <td>...</td>\n      <td>0.855000</td>\n      <td>0.855000</td>\n      <td>0.327500</td>\n      <td>5.250000</td>\n      <td>8.000000</td>\n      <td>1.570000</td>\n      <td>0.0</td>\n      <td>0.0</td>\n      <td>0.0</td>\n      <td>1.0</td>\n    </tr>\n    <tr>\n      <th>...</th>\n      <td>...</td>\n      <td>...</td>\n      <td>...</td>\n      <td>...</td>\n      <td>...</td>\n      <td>...</td>\n      <td>...</td>\n      <td>...</td>\n      <td>...</td>\n      <td>...</td>\n      <td>...</td>\n      <td>...</td>\n      <td>...</td>\n      <td>...</td>\n      <td>...</td>\n      <td>...</td>\n      <td>...</td>\n      <td>...</td>\n      <td>...</td>\n      <td>...</td>\n      <td>...</td>\n    </tr>\n    <tr>\n      <th>491</th>\n      <td>4.118396</td>\n      <td>Branislav_Ivanovic</td>\n      <td>1</td>\n      <td>76</td>\n      <td>2.0</td>\n      <td>2016-17</td>\n      <td>0.0</td>\n      <td>0.000000</td>\n      <td>0.000000</td>\n      <td>0.000000</td>\n      <td>...</td>\n      <td>0.940000</td>\n      <td>0.940000</td>\n      <td>-0.760000</td>\n      <td>4.000000</td>\n      <td>6.000000</td>\n      <td>0.590000</td>\n      <td>1.0</td>\n      <td>0.0</td>\n      <td>0.0</td>\n      <td>0.0</td>\n    </tr>\n    <tr>\n      <th>106575</th>\n      <td>4.118009</td>\n      <td>Kasper Schmeichel</td>\n      <td>26</td>\n      <td>217</td>\n      <td>2.0</td>\n      <td>2020-21</td>\n      <td>0.0</td>\n      <td>0.000000</td>\n      <td>0.000000</td>\n      <td>0.000000</td>\n      <td>...</td>\n      <td>0.893333</td>\n      <td>0.807778</td>\n      <td>0.715556</td>\n      <td>10.333333</td>\n      <td>6.555556</td>\n      <td>1.986667</td>\n      <td>0.0</td>\n      <td>0.0</td>\n      <td>1.0</td>\n      <td>0.0</td>\n    </tr>\n    <tr>\n      <th>94974</th>\n      <td>4.117443</td>\n      <td>Timo Werner</td>\n      <td>9</td>\n      <td>117</td>\n      <td>2.0</td>\n      <td>2020-21</td>\n      <td>1.0</td>\n      <td>0.333333</td>\n      <td>0.333333</td>\n      <td>0.333333</td>\n      <td>...</td>\n      <td>1.007143</td>\n      <td>0.790000</td>\n      <td>0.944286</td>\n      <td>4.285714</td>\n      <td>5.714286</td>\n      <td>1.984286</td>\n      <td>0.0</td>\n      <td>1.0</td>\n      <td>0.0</td>\n      <td>0.0</td>\n    </tr>\n    <tr>\n      <th>56546</th>\n      <td>4.117311</td>\n      <td>Kieran_Trippier_357</td>\n      <td>20</td>\n      <td>357</td>\n      <td>6.0</td>\n      <td>2018-19</td>\n      <td>0.0</td>\n      <td>0.333333</td>\n      <td>0.166667</td>\n      <td>0.250000</td>\n      <td>...</td>\n      <td>1.682000</td>\n      <td>1.530000</td>\n      <td>-0.518000</td>\n      <td>3.700000</td>\n      <td>8.000000</td>\n      <td>1.047000</td>\n      <td>1.0</td>\n      <td>0.0</td>\n      <td>0.0</td>\n      <td>0.0</td>\n    </tr>\n    <tr>\n      <th>25220</th>\n      <td>4.116906</td>\n      <td>Stephen_Ward</td>\n      <td>3</td>\n      <td>78</td>\n      <td>8.0</td>\n      <td>2017-18</td>\n      <td>0.0</td>\n      <td>0.000000</td>\n      <td>0.000000</td>\n      <td>0.000000</td>\n      <td>...</td>\n      <td>1.850000</td>\n      <td>1.850000</td>\n      <td>-1.006667</td>\n      <td>5.000000</td>\n      <td>5.666667</td>\n      <td>0.696667</td>\n      <td>1.0</td>\n      <td>0.0</td>\n      <td>0.0</td>\n      <td>0.0</td>\n    </tr>\n  </tbody>\n</table>\n<p>1000 rows × 120 columns</p>\n</div>"
     },
     "execution_count": 32,
     "metadata": {},
     "output_type": "execute_result"
    }
   ],
   "source": [
    "predictions_mlp = pd.concat([y_pred_mlp, x_test_reversed], axis=1)\n",
    "#preview predictions_mlp sorted by predicted total points descending\n",
    "predictions_mlp.sort_values(by='predicted_total_points_next_gameweek', ascending=False).head(1000)"
   ],
   "metadata": {
    "collapsed": false,
    "pycharm": {
     "name": "#%%\n"
    }
   }
  },
  {
   "cell_type": "markdown",
   "source": [
    "## Train on baseline XGBoost model"
   ],
   "metadata": {
    "collapsed": false,
    "pycharm": {
     "name": "#%% md\n"
    }
   }
  },
  {
   "cell_type": "code",
   "execution_count": 33,
   "outputs": [],
   "source": [
    "import xgboost as xgb"
   ],
   "metadata": {
    "collapsed": false,
    "pycharm": {
     "name": "#%%\n"
    }
   }
  },
  {
   "cell_type": "code",
   "execution_count": 34,
   "outputs": [],
   "source": [
    "model_xgb = xgb.XGBRegressor()"
   ],
   "metadata": {
    "collapsed": false,
    "pycharm": {
     "name": "#%%\n"
    }
   }
  },
  {
   "cell_type": "code",
   "execution_count": 35,
   "outputs": [
    {
     "data": {
      "text/plain": "XGBRegressor(base_score=0.5, booster='gbtree', callbacks=None,\n             colsample_bylevel=1, colsample_bynode=1, colsample_bytree=1,\n             early_stopping_rounds=None, enable_categorical=False,\n             eval_metric=None, gamma=0, gpu_id=-1, grow_policy='depthwise',\n             importance_type=None, interaction_constraints='',\n             learning_rate=0.300000012, max_bin=256, max_cat_to_onehot=4,\n             max_delta_step=0, max_depth=6, max_leaves=0, min_child_weight=1,\n             missing=nan, monotone_constraints='()', n_estimators=100, n_jobs=0,\n             num_parallel_tree=1, predictor='auto', random_state=0, reg_alpha=0,\n             reg_lambda=1, ...)"
     },
     "execution_count": 35,
     "metadata": {},
     "output_type": "execute_result"
    }
   ],
   "source": [
    "model_xgb.fit(x_train, y_train)"
   ],
   "metadata": {
    "collapsed": false,
    "pycharm": {
     "name": "#%%\n"
    }
   }
  },
  {
   "cell_type": "code",
   "execution_count": 36,
   "outputs": [],
   "source": [
    "# create series to keep indexes and name same as in the original y data\n",
    "y_pred_xgb = pd.Series(model_xgb.predict(x_test), index=y_test.index,\n",
    "                        name='predicted_total_points_next_gameweek')"
   ],
   "metadata": {
    "collapsed": false,
    "pycharm": {
     "name": "#%%\n"
    }
   }
  },
  {
   "cell_type": "code",
   "execution_count": 37,
   "outputs": [
    {
     "data": {
      "text/plain": "        predicted_total_points_next_gameweek                    name  GW  \\\n91840                              16.599508         Kevin De Bruyne   3   \n115304                             14.742012  Trent Alexander-Arnold   1   \n4162                               11.817992               Joe_Allen   8   \n5273                               11.799948      Zlatan_Ibrahimovic  10   \n92638                              11.246256             Timo Werner   5   \n74891                              11.054451     Kevin_De Bruyne_215  13   \n55288                              10.953720         Eden_Hazard_122  17   \n110640                             10.623285         Matheus Pereira  32   \n22988                              10.622760              Harry_Kane  37   \n48488                              10.596080         David_Silva_271   5   \n\n        element  total_points_next_gameweek   season  assists  assists-3  \\\n91840       272                         2.0  2020-21      0.0   0.500000   \n115304      237                        12.0  2021-22      0.0   0.000000   \n4162        202                         2.0  2016-17      0.0   0.000000   \n5273        272                        12.0  2016-17      0.0   0.000000   \n92638       117                         2.0  2020-21      1.0   0.333333   \n74891       215                        10.0  2019-20      0.0   0.000000   \n55288       122                         2.0  2018-19      1.0   1.333333   \n110640      481                        10.0  2020-21      0.0   0.666667   \n22988       403                        17.0  2016-17      1.0   0.333333   \n48488       271                         0.0  2018-19      0.0   0.000000   \n\n        assists-6  assists-all  ...  opponent_next_xGA  opponent_next_NPxGA  \\\n91840    0.500000     0.500000  ...           2.080000             1.320000   \n115304   0.000000     0.000000  ...           1.690000             1.690000   \n4162     0.000000     0.000000  ...           2.467143             2.031429   \n5273     0.166667     0.100000  ...           2.155000             1.900000   \n92638    0.400000     0.400000  ...           2.265000             1.695000   \n74891    0.166667     0.769231  ...           1.882857             1.882857   \n55288    0.833333     0.529412  ...           1.180000             1.180000   \n110640   0.333333     0.187500  ...           1.461250             1.366250   \n22988    0.500000     0.189189  ...           1.750000             1.560000   \n48488    0.000000     0.000000  ...           1.688000             1.232000   \n\n        opponent_next_NPxGD  opponent_next_DC  opponent_next_ODC  \\\n91840             -0.510000          3.000000          11.333333   \n115304             0.110000          3.000000           7.000000   \n4162              -1.404286          2.714286          12.857143   \n5273              -0.598333          4.333333          12.833333   \n92638             -0.825000          7.500000           6.250000   \n74891             -0.960000          2.714286          11.000000   \n55288             -0.061111          3.666667           6.888889   \n110640            -0.422500          5.625000           6.875000   \n22988             -0.537500          5.750000           6.250000   \n48488             -0.166000          4.200000           8.800000   \n\n        opponent_next_xPTS  position_DEF  position_FWD  position_GK  \\\n91840             0.863333           0.0           0.0          0.0   \n115304            1.460000           1.0           0.0          0.0   \n4162              0.644286           0.0           0.0          0.0   \n5273              0.990000           0.0           1.0          0.0   \n92638             0.935000           0.0           1.0          0.0   \n74891             0.751429           0.0           0.0          0.0   \n55288             1.493333           0.0           0.0          0.0   \n110640            0.958750           0.0           0.0          0.0   \n22988             0.875000           0.0           1.0          0.0   \n48488             0.970000           0.0           0.0          0.0   \n\n        position_MID  \n91840            1.0  \n115304           0.0  \n4162             1.0  \n5273             0.0  \n92638            0.0  \n74891            1.0  \n55288            1.0  \n110640           1.0  \n22988            0.0  \n48488            1.0  \n\n[10 rows x 120 columns]",
      "text/html": "<div>\n<style scoped>\n    .dataframe tbody tr th:only-of-type {\n        vertical-align: middle;\n    }\n\n    .dataframe tbody tr th {\n        vertical-align: top;\n    }\n\n    .dataframe thead th {\n        text-align: right;\n    }\n</style>\n<table border=\"1\" class=\"dataframe\">\n  <thead>\n    <tr style=\"text-align: right;\">\n      <th></th>\n      <th>predicted_total_points_next_gameweek</th>\n      <th>name</th>\n      <th>GW</th>\n      <th>element</th>\n      <th>total_points_next_gameweek</th>\n      <th>season</th>\n      <th>assists</th>\n      <th>assists-3</th>\n      <th>assists-6</th>\n      <th>assists-all</th>\n      <th>...</th>\n      <th>opponent_next_xGA</th>\n      <th>opponent_next_NPxGA</th>\n      <th>opponent_next_NPxGD</th>\n      <th>opponent_next_DC</th>\n      <th>opponent_next_ODC</th>\n      <th>opponent_next_xPTS</th>\n      <th>position_DEF</th>\n      <th>position_FWD</th>\n      <th>position_GK</th>\n      <th>position_MID</th>\n    </tr>\n  </thead>\n  <tbody>\n    <tr>\n      <th>91840</th>\n      <td>16.599508</td>\n      <td>Kevin De Bruyne</td>\n      <td>3</td>\n      <td>272</td>\n      <td>2.0</td>\n      <td>2020-21</td>\n      <td>0.0</td>\n      <td>0.500000</td>\n      <td>0.500000</td>\n      <td>0.500000</td>\n      <td>...</td>\n      <td>2.080000</td>\n      <td>1.320000</td>\n      <td>-0.510000</td>\n      <td>3.000000</td>\n      <td>11.333333</td>\n      <td>0.863333</td>\n      <td>0.0</td>\n      <td>0.0</td>\n      <td>0.0</td>\n      <td>1.0</td>\n    </tr>\n    <tr>\n      <th>115304</th>\n      <td>14.742012</td>\n      <td>Trent Alexander-Arnold</td>\n      <td>1</td>\n      <td>237</td>\n      <td>12.0</td>\n      <td>2021-22</td>\n      <td>0.0</td>\n      <td>0.000000</td>\n      <td>0.000000</td>\n      <td>0.000000</td>\n      <td>...</td>\n      <td>1.690000</td>\n      <td>1.690000</td>\n      <td>0.110000</td>\n      <td>3.000000</td>\n      <td>7.000000</td>\n      <td>1.460000</td>\n      <td>1.0</td>\n      <td>0.0</td>\n      <td>0.0</td>\n      <td>0.0</td>\n    </tr>\n    <tr>\n      <th>4162</th>\n      <td>11.817992</td>\n      <td>Joe_Allen</td>\n      <td>8</td>\n      <td>202</td>\n      <td>2.0</td>\n      <td>2016-17</td>\n      <td>0.0</td>\n      <td>0.000000</td>\n      <td>0.000000</td>\n      <td>0.000000</td>\n      <td>...</td>\n      <td>2.467143</td>\n      <td>2.031429</td>\n      <td>-1.404286</td>\n      <td>2.714286</td>\n      <td>12.857143</td>\n      <td>0.644286</td>\n      <td>0.0</td>\n      <td>0.0</td>\n      <td>0.0</td>\n      <td>1.0</td>\n    </tr>\n    <tr>\n      <th>5273</th>\n      <td>11.799948</td>\n      <td>Zlatan_Ibrahimovic</td>\n      <td>10</td>\n      <td>272</td>\n      <td>12.0</td>\n      <td>2016-17</td>\n      <td>0.0</td>\n      <td>0.000000</td>\n      <td>0.166667</td>\n      <td>0.100000</td>\n      <td>...</td>\n      <td>2.155000</td>\n      <td>1.900000</td>\n      <td>-0.598333</td>\n      <td>4.333333</td>\n      <td>12.833333</td>\n      <td>0.990000</td>\n      <td>0.0</td>\n      <td>1.0</td>\n      <td>0.0</td>\n      <td>0.0</td>\n    </tr>\n    <tr>\n      <th>92638</th>\n      <td>11.246256</td>\n      <td>Timo Werner</td>\n      <td>5</td>\n      <td>117</td>\n      <td>2.0</td>\n      <td>2020-21</td>\n      <td>1.0</td>\n      <td>0.333333</td>\n      <td>0.400000</td>\n      <td>0.400000</td>\n      <td>...</td>\n      <td>2.265000</td>\n      <td>1.695000</td>\n      <td>-0.825000</td>\n      <td>7.500000</td>\n      <td>6.250000</td>\n      <td>0.935000</td>\n      <td>0.0</td>\n      <td>1.0</td>\n      <td>0.0</td>\n      <td>0.0</td>\n    </tr>\n    <tr>\n      <th>74891</th>\n      <td>11.054451</td>\n      <td>Kevin_De Bruyne_215</td>\n      <td>13</td>\n      <td>215</td>\n      <td>10.0</td>\n      <td>2019-20</td>\n      <td>0.0</td>\n      <td>0.000000</td>\n      <td>0.166667</td>\n      <td>0.769231</td>\n      <td>...</td>\n      <td>1.882857</td>\n      <td>1.882857</td>\n      <td>-0.960000</td>\n      <td>2.714286</td>\n      <td>11.000000</td>\n      <td>0.751429</td>\n      <td>0.0</td>\n      <td>0.0</td>\n      <td>0.0</td>\n      <td>1.0</td>\n    </tr>\n    <tr>\n      <th>55288</th>\n      <td>10.953720</td>\n      <td>Eden_Hazard_122</td>\n      <td>17</td>\n      <td>122</td>\n      <td>2.0</td>\n      <td>2018-19</td>\n      <td>1.0</td>\n      <td>1.333333</td>\n      <td>0.833333</td>\n      <td>0.529412</td>\n      <td>...</td>\n      <td>1.180000</td>\n      <td>1.180000</td>\n      <td>-0.061111</td>\n      <td>3.666667</td>\n      <td>6.888889</td>\n      <td>1.493333</td>\n      <td>0.0</td>\n      <td>0.0</td>\n      <td>0.0</td>\n      <td>1.0</td>\n    </tr>\n    <tr>\n      <th>110640</th>\n      <td>10.623285</td>\n      <td>Matheus Pereira</td>\n      <td>32</td>\n      <td>481</td>\n      <td>10.0</td>\n      <td>2020-21</td>\n      <td>0.0</td>\n      <td>0.666667</td>\n      <td>0.333333</td>\n      <td>0.187500</td>\n      <td>...</td>\n      <td>1.461250</td>\n      <td>1.366250</td>\n      <td>-0.422500</td>\n      <td>5.625000</td>\n      <td>6.875000</td>\n      <td>0.958750</td>\n      <td>0.0</td>\n      <td>0.0</td>\n      <td>0.0</td>\n      <td>1.0</td>\n    </tr>\n    <tr>\n      <th>22988</th>\n      <td>10.622760</td>\n      <td>Harry_Kane</td>\n      <td>37</td>\n      <td>403</td>\n      <td>17.0</td>\n      <td>2016-17</td>\n      <td>1.0</td>\n      <td>0.333333</td>\n      <td>0.500000</td>\n      <td>0.189189</td>\n      <td>...</td>\n      <td>1.750000</td>\n      <td>1.560000</td>\n      <td>-0.537500</td>\n      <td>5.750000</td>\n      <td>6.250000</td>\n      <td>0.875000</td>\n      <td>0.0</td>\n      <td>1.0</td>\n      <td>0.0</td>\n      <td>0.0</td>\n    </tr>\n    <tr>\n      <th>48488</th>\n      <td>10.596080</td>\n      <td>David_Silva_271</td>\n      <td>5</td>\n      <td>271</td>\n      <td>0.0</td>\n      <td>2018-19</td>\n      <td>0.0</td>\n      <td>0.000000</td>\n      <td>0.000000</td>\n      <td>0.000000</td>\n      <td>...</td>\n      <td>1.688000</td>\n      <td>1.232000</td>\n      <td>-0.166000</td>\n      <td>4.200000</td>\n      <td>8.800000</td>\n      <td>0.970000</td>\n      <td>0.0</td>\n      <td>0.0</td>\n      <td>0.0</td>\n      <td>1.0</td>\n    </tr>\n  </tbody>\n</table>\n<p>10 rows × 120 columns</p>\n</div>"
     },
     "execution_count": 37,
     "metadata": {},
     "output_type": "execute_result"
    }
   ],
   "source": [
    "predictions_xgb = pd.concat([y_pred_xgb, x_test_reversed], axis=1)\n",
    "#preview predictions_xgb sorted by predicted total points descending\n",
    "predictions_xgb.sort_values(by='predicted_total_points_next_gameweek', ascending=False).head(10)"
   ],
   "metadata": {
    "collapsed": false,
    "pycharm": {
     "name": "#%%\n"
    }
   }
  },
  {
   "cell_type": "code",
   "execution_count": 38,
   "outputs": [
    {
     "data": {
      "text/plain": "4.431977703906927"
     },
     "execution_count": 38,
     "metadata": {},
     "output_type": "execute_result"
    }
   ],
   "source": [
    "mean_squared_error(y_pred_xgb, y_test)"
   ],
   "metadata": {
    "collapsed": false,
    "pycharm": {
     "name": "#%%\n"
    }
   }
  },
  {
   "cell_type": "code",
   "execution_count": 39,
   "outputs": [
    {
     "name": "stdout",
     "output_type": "stream",
     "text": [
      "Feature 0: assists, Score: 0.0006900000153109431\n",
      "Feature 1: assists-3, Score: 0.0013200000394135714\n",
      "Feature 2: assists-6, Score: 0.0019600000232458115\n",
      "Feature 3: assists-all, Score: 0.0021200000774115324\n",
      "Feature 4: bonus, Score: 0.001500000013038516\n",
      "Feature 5: bonus-3, Score: 0.00203999993391335\n",
      "Feature 6: bonus-6, Score: 0.0019399999873712659\n",
      "Feature 7: bonus-all, Score: 0.0028299998957663774\n",
      "Feature 8: bps, Score: 0.0022799998987466097\n",
      "Feature 9: bps-3, Score: 0.002899999963119626\n",
      "Feature 10: bps-6, Score: 0.0036700000055134296\n",
      "Feature 11: bps-all, Score: 0.003640000009909272\n",
      "Feature 12: clean_sheets, Score: 0.0017800000496208668\n",
      "Feature 13: clean_sheets-3, Score: 0.003490000031888485\n",
      "Feature 14: clean_sheets-6, Score: 0.002859999891370535\n",
      "Feature 15: clean_sheets-all, Score: 0.0034000000450760126\n",
      "Feature 16: creativity, Score: 0.002630000002682209\n",
      "Feature 17: creativity-3, Score: 0.004139999859035015\n",
      "Feature 18: creativity-6, Score: 0.0032500000670552254\n",
      "Feature 19: creativity-all, Score: 0.004230000078678131\n",
      "Feature 20: goals_conceded, Score: 0.003490000031888485\n",
      "Feature 21: goals_conceded-3, Score: 0.0035699999425560236\n",
      "Feature 22: goals_conceded-6, Score: 0.004050000105053186\n",
      "Feature 23: goals_conceded-all, Score: 0.003590000094845891\n",
      "Feature 24: goals_scored, Score: 9.999999747378752e-05\n",
      "Feature 25: goals_scored-3, Score: 0.0030900000128895044\n",
      "Feature 26: goals_scored-6, Score: 0.0016700000269338489\n",
      "Feature 27: goals_scored-all, Score: 0.004540000110864639\n",
      "Feature 28: ict_index, Score: 0.016540000215172768\n",
      "Feature 29: ict_index-3, Score: 0.008449999615550041\n",
      "Feature 30: ict_index-6, Score: 0.00395999988541007\n",
      "Feature 31: ict_index-all, Score: 0.00431999983265996\n",
      "Feature 32: influence, Score: 0.0035200000274926424\n",
      "Feature 33: influence-3, Score: 0.0056500001810491085\n",
      "Feature 34: influence-6, Score: 0.004040000028908253\n",
      "Feature 35: influence-all, Score: 0.004279999993741512\n",
      "Feature 36: minutes, Score: 0.4425300061702728\n",
      "Feature 37: minutes-3, Score: 0.02078000083565712\n",
      "Feature 38: minutes-6, Score: 0.005489999894052744\n",
      "Feature 39: minutes-all, Score: 0.004459999967366457\n",
      "Feature 40: own_goals, Score: 0.001500000013038516\n",
      "Feature 41: own_goals-3, Score: 0.0037299999967217445\n",
      "Feature 42: own_goals-6, Score: 0.0013299999991431832\n",
      "Feature 43: own_goals-all, Score: 0.003019999945536256\n",
      "Feature 44: penalties_missed, Score: 0.007160000037401915\n",
      "Feature 45: penalties_missed-3, Score: 0.007780000101774931\n",
      "Feature 46: penalties_missed-6, Score: 0.004730000160634518\n",
      "Feature 47: penalties_missed-all, Score: 0.005960000213235617\n",
      "Feature 48: penalties_saved, Score: 0.0024999999441206455\n",
      "Feature 49: penalties_saved-3, Score: 0.0\n",
      "Feature 50: penalties_saved-6, Score: 0.00203000009059906\n",
      "Feature 51: penalties_saved-all, Score: 0.0015300000086426735\n",
      "Feature 52: red_cards, Score: 0.007170000113546848\n",
      "Feature 53: red_cards-3, Score: 0.0\n",
      "Feature 54: red_cards-6, Score: 0.0031300000846385956\n",
      "Feature 55: red_cards-all, Score: 0.003700000001117587\n",
      "Feature 56: saves, Score: 0.005429999902844429\n",
      "Feature 57: saves-3, Score: 0.0022100000642240047\n",
      "Feature 58: saves-6, Score: 0.005260000005364418\n",
      "Feature 59: saves-all, Score: 0.005350000225007534\n",
      "Feature 60: selected, Score: 0.010160000063478947\n",
      "Feature 61: selected-3, Score: 0.004290000069886446\n",
      "Feature 62: selected-6, Score: 0.008790000341832638\n",
      "Feature 63: selected-all, Score: 0.004530000034719706\n",
      "Feature 64: player_team_score, Score: 0.0031900000758469105\n",
      "Feature 65: player_team_score-3, Score: 0.004480000119656324\n",
      "Feature 66: player_team_score-6, Score: 0.004019999876618385\n",
      "Feature 67: player_team_score-all, Score: 0.0049299998208880424\n",
      "Feature 68: opponent_team_score, Score: 0.0037400000728666782\n",
      "Feature 69: opponent_team_score-3, Score: 0.0031900000758469105\n",
      "Feature 70: opponent_team_score-6, Score: 0.004279999993741512\n",
      "Feature 71: opponent_team_score-all, Score: 0.004699999932199717\n",
      "Feature 72: threat, Score: 0.00419999985024333\n",
      "Feature 73: threat-3, Score: 0.00430000014603138\n",
      "Feature 74: threat-6, Score: 0.004040000028908253\n",
      "Feature 75: threat-all, Score: 0.005880000069737434\n",
      "Feature 76: total_points, Score: 0.00750999990850687\n",
      "Feature 77: total_points-3, Score: 0.011409999802708626\n",
      "Feature 78: total_points-6, Score: 0.017109999433159828\n",
      "Feature 79: total_points-all, Score: 0.02604999952018261\n",
      "Feature 80: transfers_in, Score: 0.0053900000639259815\n",
      "Feature 81: transfers_in-3, Score: 0.0038300000596791506\n",
      "Feature 82: transfers_in-6, Score: 0.004769999999552965\n",
      "Feature 83: transfers_in-all, Score: 0.0042500002309679985\n",
      "Feature 84: transfers_out, Score: 0.003370000049471855\n",
      "Feature 85: transfers_out-3, Score: 0.004989999812096357\n",
      "Feature 86: transfers_out-6, Score: 0.004240000154823065\n",
      "Feature 87: transfers_out-all, Score: 0.00443999981507659\n",
      "Feature 88: value, Score: 0.012419999577105045\n",
      "Feature 89: value-3, Score: 0.005799999926239252\n",
      "Feature 90: value-6, Score: 0.01181000005453825\n",
      "Feature 91: value-all, Score: 0.010230000130832195\n",
      "Feature 92: was_home, Score: 0.005799999926239252\n",
      "Feature 93: yellow_cards, Score: 0.0034199999645352364\n",
      "Feature 94: yellow_cards-3, Score: 0.0029100000392645597\n",
      "Feature 95: yellow_cards-6, Score: 0.0030799999367445707\n",
      "Feature 96: yellow_cards-all, Score: 0.0031500000040978193\n",
      "Feature 97: opponent_next_Position, Score: 0.005189999938011169\n",
      "Feature 98: opponent_next_PPDA, Score: 0.004459999967366457\n",
      "Feature 99: opponent_next_OPPDA, Score: 0.005520000122487545\n",
      "Feature 100: opponent_next_G, Score: 0.005059999879449606\n",
      "Feature 101: opponent_next_GA, Score: 0.004089999943971634\n",
      "Feature 102: opponent_next_xG, Score: 0.0048500001430511475\n",
      "Feature 103: opponent_next_NPxG, Score: 0.005539999809116125\n",
      "Feature 104: opponent_next_xGA, Score: 0.004689999856054783\n",
      "Feature 105: opponent_next_NPxGA, Score: 0.004920000210404396\n",
      "Feature 106: opponent_next_NPxGD, Score: 0.00773000018671155\n",
      "Feature 107: opponent_next_DC, Score: 0.007199999876320362\n",
      "Feature 108: opponent_next_ODC, Score: 0.004410000052303076\n",
      "Feature 109: opponent_next_xPTS, Score: 0.005779999773949385\n",
      "Feature 110: position_DEF, Score: 0.005979999899864197\n",
      "Feature 111: position_FWD, Score: 0.0037899999879300594\n",
      "Feature 112: position_GK, Score: 0.0\n",
      "Feature 113: position_MID, Score: 0.01181000005453825\n"
     ]
    },
    {
     "data": {
      "text/plain": "<Figure size 432x288 with 1 Axes>",
      "image/png": "[encoded data removed]"
     },
     "metadata": {
      "needs_background": "light"
     },
     "output_type": "display_data"
    }
   ],
   "source": [
    "# summarize feature importance\n",
    "importance = model_xgb.feature_importances_\n",
    "for i,v in enumerate(importance):\n",
    "    print(f'Feature {i}: {x_train.columns[i]}, Score: {round(v,5)}')\n",
    "# plot feature importance\n",
    "plt.bar([x for x in range(len(importance))], importance)\n",
    "plt.show()"
   ],
   "metadata": {
    "collapsed": false,
    "pycharm": {
     "name": "#%%\n"
    }
   }
  },
  {
   "cell_type": "code",
   "execution_count": null,
   "outputs": [],
   "source": [],
   "metadata": {
    "collapsed": false,
    "pycharm": {
     "name": "#%%\n"
    }
   }
  }
 ],
 "metadata": {
  "kernelspec": {
   "display_name": "Python 3",
   "language": "python",
   "name": "python3"
  },
  "language_info": {
   "codemirror_mode": {
    "name": "ipython",
    "version": 2
   },
   "file_extension": ".py",
   "mimetype": "text/x-python",
   "name": "python",
   "nbconvert_exporter": "python",
   "pygments_lexer": "ipython2",
   "version": "2.7.6"
  }
 },
 "nbformat": 4,
 "nbformat_minor": 0
}