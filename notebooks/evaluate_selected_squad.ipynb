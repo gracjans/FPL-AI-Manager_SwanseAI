{
 "cells": [
  {
   "cell_type": "code",
   "execution_count": 130,
   "metadata": {
    "collapsed": true,
    "pycharm": {
     "name": "#%%\n"
    }
   },
   "outputs": [
    {
     "name": "stdout",
     "output_type": "stream",
     "text": [
      "The autoreload extension is already loaded. To reload it, use:\n",
      "  %reload_ext autoreload\n"
     ]
    }
   ],
   "source": [
    "%load_ext autoreload\n",
    "%autoreload 2"
   ]
  },
  {
   "cell_type": "markdown",
   "source": [
    "# Evaluate model predictions\n",
    "### Select best predicted squad and compare gained points with average points from specific gameweek"
   ],
   "metadata": {
    "collapsed": false,
    "pycharm": {
     "name": "#%% md\n"
    }
   }
  },
  {
   "cell_type": "code",
   "execution_count": 132,
   "outputs": [],
   "source": [
    "import pandas as pd\n",
    "import tensorflow as tf\n",
    "\n",
    "from src.data.data_loader import load_average_pts\n",
    "from src.features.data_engineering import preprocess_merged_seasons\n",
    "from src.features.data_engineering import reverse_processing\n",
    "\n",
    "from src.modeling.train_model import train_mlp_model\n",
    "from src.modeling.predictions import merge_reversed_data_with_predictions"
   ],
   "metadata": {
    "collapsed": false,
    "pycharm": {
     "name": "#%%\n"
    }
   }
  },
  {
   "cell_type": "code",
   "execution_count": 42,
   "outputs": [],
   "source": [
    "average_pts = load_average_pts()"
   ],
   "metadata": {
    "collapsed": false,
    "pycharm": {
     "name": "#%%\n"
    }
   }
  },
  {
   "cell_type": "code",
   "execution_count": 43,
   "outputs": [
    {
     "data": {
      "text/plain": "   GW  AVG_PTS_2016/17  AVG_PTS_2018/19  AVG_PTS_2021/22\n0   1               44               53               69\n1   2               56               59               56\n2   3               40               48               54\n3   4               41               43               57\n4   5               47               46               55",
      "text/html": "<div>\n<style scoped>\n    .dataframe tbody tr th:only-of-type {\n        vertical-align: middle;\n    }\n\n    .dataframe tbody tr th {\n        vertical-align: top;\n    }\n\n    .dataframe thead th {\n        text-align: right;\n    }\n</style>\n<table border=\"1\" class=\"dataframe\">\n  <thead>\n    <tr style=\"text-align: right;\">\n      <th></th>\n      <th>GW</th>\n      <th>AVG_PTS_2016/17</th>\n      <th>AVG_PTS_2018/19</th>\n      <th>AVG_PTS_2021/22</th>\n    </tr>\n  </thead>\n  <tbody>\n    <tr>\n      <th>0</th>\n      <td>1</td>\n      <td>44</td>\n      <td>53</td>\n      <td>69</td>\n    </tr>\n    <tr>\n      <th>1</th>\n      <td>2</td>\n      <td>56</td>\n      <td>59</td>\n      <td>56</td>\n    </tr>\n    <tr>\n      <th>2</th>\n      <td>3</td>\n      <td>40</td>\n      <td>48</td>\n      <td>54</td>\n    </tr>\n    <tr>\n      <th>3</th>\n      <td>4</td>\n      <td>41</td>\n      <td>43</td>\n      <td>57</td>\n    </tr>\n    <tr>\n      <th>4</th>\n      <td>5</td>\n      <td>47</td>\n      <td>46</td>\n      <td>55</td>\n    </tr>\n  </tbody>\n</table>\n</div>"
     },
     "execution_count": 43,
     "metadata": {},
     "output_type": "execute_result"
    }
   ],
   "source": [
    "average_pts.head()"
   ],
   "metadata": {
    "collapsed": false,
    "pycharm": {
     "name": "#%%\n"
    }
   }
  },
  {
   "cell_type": "markdown",
   "source": [
    "## Load specific test gameweek data\n",
    "**NOTE:** To properly evaluate model predictions comparing it with average points from specific gameweek, remember to leave performance sample of every player from specific gameweek in test dataset"
   ],
   "metadata": {
    "collapsed": false,
    "pycharm": {
     "name": "#%% md\n"
    }
   }
  },
  {
   "cell_type": "code",
   "execution_count": 44,
   "outputs": [],
   "source": [
    "test_subset = (['2016-17', [35,36,37]], ['2021-22', [27,28,29]])\n",
    "\n",
    "(x_train, y_train), (x_test, y_test), (x_train_target, x_test_target), x_scaler = preprocess_merged_seasons(random_split=False, test_subset=test_subset)"
   ],
   "metadata": {
    "collapsed": false,
    "pycharm": {
     "name": "#%%\n"
    }
   }
  },
  {
   "cell_type": "code",
   "execution_count": 45,
   "outputs": [
    {
     "name": "stdout",
     "output_type": "stream",
     "text": [
      "['2016-17' '2021-22']\n",
      "[35 36 37 27 28 29]\n"
     ]
    }
   ],
   "source": [
    "# preview unique values in 'season' and 'GW' columns from x_test_target\n",
    "print(x_test_target.season.unique())\n",
    "print(x_test_target.GW.unique())"
   ],
   "metadata": {
    "collapsed": false,
    "pycharm": {
     "name": "#%%\n"
    }
   }
  },
  {
   "cell_type": "markdown",
   "source": [
    "## Train MLP model"
   ],
   "metadata": {
    "collapsed": false,
    "pycharm": {
     "name": "#%% md\n"
    }
   }
  },
  {
   "cell_type": "code",
   "execution_count": 46,
   "outputs": [],
   "source": [
    "model = tf.keras.models.Sequential()\n",
    "\n",
    "model.add(tf.keras.layers.Dense(units=128, activation='relu', input_shape=(x_train.shape[1],)))\n",
    "model.add(tf.keras.layers.Dense(units=256, activation='relu'))\n",
    "model.add(tf.keras.layers.Dense(units=256, activation='relu'))\n",
    "model.add(tf.keras.layers.Dense(units=126, activation='relu'))\n",
    "model.add(tf.keras.layers.Dense(units=64, activation='relu'))\n",
    "model.add(tf.keras.layers.Dense(units=1, activation='linear'))"
   ],
   "metadata": {
    "collapsed": false,
    "pycharm": {
     "name": "#%%\n"
    }
   }
  },
  {
   "cell_type": "code",
   "execution_count": 47,
   "outputs": [
    {
     "name": "stdout",
     "output_type": "stream",
     "text": [
      "Epoch 1/30\n",
      "6249/6249 [==============================] - 9s 1ms/step - loss: 4.7316 - val_loss: 4.3831\n",
      "Epoch 2/30\n",
      "6249/6249 [==============================] - 8s 1ms/step - loss: 4.6539 - val_loss: 4.4448\n",
      "Epoch 3/30\n",
      "6249/6249 [==============================] - 8s 1ms/step - loss: 4.6349 - val_loss: 4.3382\n",
      "Epoch 4/30\n",
      "6249/6249 [==============================] - 7s 1ms/step - loss: 4.6217 - val_loss: 4.3515\n",
      "Epoch 5/30\n",
      "6249/6249 [==============================] - 8s 1ms/step - loss: 4.6075 - val_loss: 4.3679\n",
      "Epoch 6/30\n",
      "6249/6249 [==============================] - 7s 1ms/step - loss: 4.5979 - val_loss: 4.3475\n",
      "Epoch 7/30\n",
      "6249/6249 [==============================] - 7s 1ms/step - loss: 4.5964 - val_loss: 4.3399\n",
      "Epoch 8/30\n",
      "6249/6249 [==============================] - 8s 1ms/step - loss: 4.5904 - val_loss: 4.4083\n",
      "Epoch 9/30\n",
      "6249/6249 [==============================] - 8s 1ms/step - loss: 4.5828 - val_loss: 4.3328\n",
      "Epoch 10/30\n",
      "6249/6249 [==============================] - 8s 1ms/step - loss: 4.5799 - val_loss: 4.3657\n",
      "Epoch 11/30\n",
      "6249/6249 [==============================] - 7s 1ms/step - loss: 4.5779 - val_loss: 4.3196\n",
      "Epoch 12/30\n",
      "6249/6249 [==============================] - 8s 1ms/step - loss: 4.5705 - val_loss: 4.3659\n",
      "Epoch 13/30\n",
      "6249/6249 [==============================] - 8s 1ms/step - loss: 4.5646 - val_loss: 4.3446\n",
      "Epoch 14/30\n",
      "6249/6249 [==============================] - 7s 1ms/step - loss: 4.5592 - val_loss: 4.3445\n",
      "Epoch 15/30\n",
      "6249/6249 [==============================] - 8s 1ms/step - loss: 4.5577 - val_loss: 4.3153\n",
      "Epoch 16/30\n",
      "6249/6249 [==============================] - 8s 1ms/step - loss: 4.5521 - val_loss: 4.3339\n",
      "Epoch 17/30\n",
      "6249/6249 [==============================] - 9s 1ms/step - loss: 4.5538 - val_loss: 4.3474\n",
      "Epoch 18/30\n",
      "6249/6249 [==============================] - 8s 1ms/step - loss: 4.5509 - val_loss: 4.3735\n",
      "Epoch 19/30\n",
      "6249/6249 [==============================] - 7s 1ms/step - loss: 4.5444 - val_loss: 4.3312\n",
      "Epoch 20/30\n",
      "6249/6249 [==============================] - 7s 1ms/step - loss: 4.5419 - val_loss: 4.3420\n",
      "Epoch 21/30\n",
      "6249/6249 [==============================] - 7s 1ms/step - loss: 4.5358 - val_loss: 4.3299\n",
      "Epoch 22/30\n",
      "6249/6249 [==============================] - 7s 1ms/step - loss: 4.5318 - val_loss: 4.3240\n",
      "Epoch 23/30\n",
      "6249/6249 [==============================] - 8s 1ms/step - loss: 4.5339 - val_loss: 4.3236\n",
      "Epoch 24/30\n",
      "6249/6249 [==============================] - 8s 1ms/step - loss: 4.5297 - val_loss: 4.3266\n",
      "Epoch 25/30\n",
      "6249/6249 [==============================] - 8s 1ms/step - loss: 4.5238 - val_loss: 4.3448\n",
      "Epoch 26/30\n",
      "6249/6249 [==============================] - 8s 1ms/step - loss: 4.5171 - val_loss: 4.3780\n",
      "Epoch 27/30\n",
      "6249/6249 [==============================] - 8s 1ms/step - loss: 4.5212 - val_loss: 4.3359\n",
      "Epoch 28/30\n",
      "6249/6249 [==============================] - 8s 1ms/step - loss: 4.5079 - val_loss: 4.3488\n",
      "Epoch 29/30\n",
      "6249/6249 [==============================] - 7s 1ms/step - loss: 4.5099 - val_loss: 4.3488\n",
      "Epoch 30/30\n",
      "6249/6249 [==============================] - 7s 1ms/step - loss: 4.5129 - val_loss: 4.3391\n"
     ]
    }
   ],
   "source": [
    "model = train_mlp_model(model, x_train, y_train)"
   ],
   "metadata": {
    "collapsed": false,
    "pycharm": {
     "name": "#%%\n"
    }
   }
  },
  {
   "cell_type": "code",
   "execution_count": 49,
   "outputs": [],
   "source": [
    "import os\n",
    "root_dir = os.path.dirname(os.path.abspath(''))"
   ],
   "metadata": {
    "collapsed": false,
    "pycharm": {
     "name": "#%%\n"
    }
   }
  },
  {
   "cell_type": "code",
   "execution_count": 50,
   "outputs": [],
   "source": [
    "model.save(root_dir + '\\\\models\\\\baseline\\\\mlp_model_06-07-22.h5')"
   ],
   "metadata": {
    "collapsed": false,
    "pycharm": {
     "name": "#%%\n"
    }
   }
  },
  {
   "cell_type": "markdown",
   "source": [
    "## Make predictions on specific test subset"
   ],
   "metadata": {
    "collapsed": false,
    "pycharm": {
     "name": "#%% md\n"
    }
   }
  },
  {
   "cell_type": "code",
   "execution_count": 51,
   "outputs": [],
   "source": [
    "model = tf.keras.models.load_model(root_dir + '\\\\models\\\\baseline\\\\mlp_model_06-07-22.h5')"
   ],
   "metadata": {
    "collapsed": false,
    "pycharm": {
     "name": "#%%\n"
    }
   }
  },
  {
   "cell_type": "code",
   "execution_count": 52,
   "outputs": [],
   "source": [
    "x_test_reversed = reverse_processing(x_test, x_scaler, x_test_target)"
   ],
   "metadata": {
    "collapsed": false,
    "pycharm": {
     "name": "#%%\n"
    }
   }
  },
  {
   "cell_type": "code",
   "execution_count": 53,
   "outputs": [],
   "source": [
    "predictions_merged = merge_reversed_data_with_predictions(model, x_test, y_test, x_test_reversed)"
   ],
   "metadata": {
    "collapsed": false,
    "pycharm": {
     "name": "#%%\n"
    }
   }
  },
  {
   "cell_type": "markdown",
   "source": [
    "### Evaluate model predictions naively for gameweek 27 in 2021-22 season\n",
    "At this moment, I do not take price constraints into account."
   ],
   "metadata": {
    "collapsed": false,
    "pycharm": {
     "name": "#%% md\n"
    }
   }
  },
  {
   "cell_type": "code",
   "execution_count": 113,
   "outputs": [],
   "source": [
    "# get data from predictions_merged only for 2021-22 season and gameweek 27\n",
    "predictions_merged_27 = predictions_merged[(predictions_merged.season == '2021-22') & (predictions_merged.GW == 27)]\n",
    "# sort predictions_merged_27 by predicted points in descending order\n",
    "predictions_merged_27 = predictions_merged_27.sort_values(by='predicted_total_points_next_gameweek', ascending=False)"
   ],
   "metadata": {
    "collapsed": false,
    "pycharm": {
     "name": "#%%\n"
    }
   }
  },
  {
   "cell_type": "code",
   "execution_count": 129,
   "outputs": [],
   "source": [
    "# get first row from predictions_merged_27 and double 'total_points_next_gameweek' value, because this player would be chosen as a capitan\n",
    "predictions_merged_27.iloc[0, predictions_merged_27.columns.get_loc('total_points_next_gameweek')] *= 2"
   ],
   "metadata": {
    "collapsed": false,
    "pycharm": {
     "name": "#%%\n"
    }
   }
  },
  {
   "cell_type": "code",
   "execution_count": 124,
   "outputs": [],
   "source": [
    "# get goalkeepers from predictions_merged_27 (with 1 in 'position_GK' column)\n",
    "df_gk_27 = predictions_merged_27[predictions_merged_27.position_GK == 1]\n",
    "df_def_27 = predictions_merged_27[predictions_merged_27.position_DEF == 1]\n",
    "df_mid_27 = predictions_merged_27[predictions_merged_27.position_MID == 1]\n",
    "df_fwd_27 = predictions_merged_27[predictions_merged_27.position_FWD == 1]"
   ],
   "metadata": {
    "collapsed": false,
    "pycharm": {
     "name": "#%%\n"
    }
   }
  },
  {
   "cell_type": "code",
   "execution_count": 125,
   "outputs": [],
   "source": [
    "# get one top row from df_gk, four top from df_def, four top from df_mid, two top from df_fwd and concatenate them into one dataframe\n",
    "df_top_11_27 = pd.concat([df_gk_27.head(1), df_def_27.head(4), df_mid_27.head(4), df_fwd_27.head(2)])"
   ],
   "metadata": {
    "collapsed": false,
    "pycharm": {
     "name": "#%%\n"
    }
   }
  },
  {
   "cell_type": "code",
   "execution_count": 126,
   "outputs": [
    {
     "data": {
      "text/plain": "                                       name  total_points_next_gameweek  \\\n131336                            Nick Pope                         2.0   \n131050           JoÃ£o Pedro Cavaco Cancelo                         2.0   \n130820        RÃºben Santos Gato Alves Dias                         0.0   \n131096                      Aymeric Laporte                         2.0   \n130904                              Ben Mee                         1.0   \n131057                      Kevin De Bruyne                        36.0   \n131119                        Heung-Min Son                         7.0   \n130995        Bruno Miguel Borges Fernandes                         2.0   \n130913                      Raheem Sterling                         0.0   \n131348                           Harry Kane                        13.0   \n131043  Cristiano Ronaldo dos Santos Aveiro                         0.0   \n\n        transfers_balance  value  \n131336           105427.0   54.0  \n131050            35950.0   71.0  \n130820            45820.0   63.0  \n131096            10139.0   58.0  \n130904           315689.0   48.0  \n131057           -24780.0  119.0  \n131119           281052.0  108.0  \n130995           135480.0  117.0  \n130913            55949.0  107.0  \n131348           156443.0  122.0  \n131043           -82154.0  124.0  ",
      "text/html": "<div>\n<style scoped>\n    .dataframe tbody tr th:only-of-type {\n        vertical-align: middle;\n    }\n\n    .dataframe tbody tr th {\n        vertical-align: top;\n    }\n\n    .dataframe thead th {\n        text-align: right;\n    }\n</style>\n<table border=\"1\" class=\"dataframe\">\n  <thead>\n    <tr style=\"text-align: right;\">\n      <th></th>\n      <th>name</th>\n      <th>total_points_next_gameweek</th>\n      <th>transfers_balance</th>\n      <th>value</th>\n    </tr>\n  </thead>\n  <tbody>\n    <tr>\n      <th>131336</th>\n      <td>Nick Pope</td>\n      <td>2.0</td>\n      <td>105427.0</td>\n      <td>54.0</td>\n    </tr>\n    <tr>\n      <th>131050</th>\n      <td>JoÃ£o Pedro Cavaco Cancelo</td>\n      <td>2.0</td>\n      <td>35950.0</td>\n      <td>71.0</td>\n    </tr>\n    <tr>\n      <th>130820</th>\n      <td>RÃºben Santos Gato Alves Dias</td>\n      <td>0.0</td>\n      <td>45820.0</td>\n      <td>63.0</td>\n    </tr>\n    <tr>\n      <th>131096</th>\n      <td>Aymeric Laporte</td>\n      <td>2.0</td>\n      <td>10139.0</td>\n      <td>58.0</td>\n    </tr>\n    <tr>\n      <th>130904</th>\n      <td>Ben Mee</td>\n      <td>1.0</td>\n      <td>315689.0</td>\n      <td>48.0</td>\n    </tr>\n    <tr>\n      <th>131057</th>\n      <td>Kevin De Bruyne</td>\n      <td>36.0</td>\n      <td>-24780.0</td>\n      <td>119.0</td>\n    </tr>\n    <tr>\n      <th>131119</th>\n      <td>Heung-Min Son</td>\n      <td>7.0</td>\n      <td>281052.0</td>\n      <td>108.0</td>\n    </tr>\n    <tr>\n      <th>130995</th>\n      <td>Bruno Miguel Borges Fernandes</td>\n      <td>2.0</td>\n      <td>135480.0</td>\n      <td>117.0</td>\n    </tr>\n    <tr>\n      <th>130913</th>\n      <td>Raheem Sterling</td>\n      <td>0.0</td>\n      <td>55949.0</td>\n      <td>107.0</td>\n    </tr>\n    <tr>\n      <th>131348</th>\n      <td>Harry Kane</td>\n      <td>13.0</td>\n      <td>156443.0</td>\n      <td>122.0</td>\n    </tr>\n    <tr>\n      <th>131043</th>\n      <td>Cristiano Ronaldo dos Santos Aveiro</td>\n      <td>0.0</td>\n      <td>-82154.0</td>\n      <td>124.0</td>\n    </tr>\n  </tbody>\n</table>\n</div>"
     },
     "execution_count": 126,
     "metadata": {},
     "output_type": "execute_result"
    }
   ],
   "source": [
    "# get 'name', 'total_points_next_gameweek', 'transfers_balance', 'value' columns from df_top_11\n",
    "df_top_11_27[['name', 'total_points_next_gameweek', 'transfers_balance', 'value']]"
   ],
   "metadata": {
    "collapsed": false,
    "pycharm": {
     "name": "#%%\n"
    }
   }
  },
  {
   "cell_type": "code",
   "execution_count": 127,
   "outputs": [
    {
     "data": {
      "text/plain": "65.0"
     },
     "execution_count": 127,
     "metadata": {},
     "output_type": "execute_result"
    }
   ],
   "source": [
    "df_top_11_27.total_points_next_gameweek.sum()"
   ],
   "metadata": {
    "collapsed": false,
    "pycharm": {
     "name": "#%%\n"
    }
   }
  },
  {
   "cell_type": "code",
   "execution_count": 128,
   "outputs": [
    {
     "data": {
      "text/plain": "40"
     },
     "execution_count": 128,
     "metadata": {},
     "output_type": "execute_result"
    }
   ],
   "source": [
    "# get number of avg points from avg_pts where season is 2021-22 and gameweek is 27\n",
    "\n",
    "average_pts.loc[average_pts['GW'] == 27, ['AVG_PTS_2021/22']].values[0][0]"
   ],
   "metadata": {
    "collapsed": false,
    "pycharm": {
     "name": "#%%\n"
    }
   }
  },
  {
   "cell_type": "code",
   "execution_count": null,
   "outputs": [],
   "source": [],
   "metadata": {
    "collapsed": false,
    "pycharm": {
     "name": "#%%\n"
    }
   }
  }
 ],
 "metadata": {
  "kernelspec": {
   "display_name": "Python 3",
   "language": "python",
   "name": "python3"
  },
  "language_info": {
   "codemirror_mode": {
    "name": "ipython",
    "version": 2
   },
   "file_extension": ".py",
   "mimetype": "text/x-python",
   "name": "python",
   "nbconvert_exporter": "python",
   "pygments_lexer": "ipython2",
   "version": "2.7.6"
  }
 },
 "nbformat": 4,
 "nbformat_minor": 0
}