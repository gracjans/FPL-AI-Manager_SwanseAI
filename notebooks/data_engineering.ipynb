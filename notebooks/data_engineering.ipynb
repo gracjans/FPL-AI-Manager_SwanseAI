{
 "cells": [
  {
   "cell_type": "markdown",
   "metadata": {
    "pycharm": {
     "name": "#%% md\n"
    }
   },
   "source": [
    "# FPL data engeeniering"
   ]
  },
  {
   "cell_type": "code",
   "execution_count": 2,
   "outputs": [],
   "source": [
    "# %load_ext autoreload\n",
    "# %autoreload 2"
   ],
   "metadata": {
    "collapsed": false,
    "pycharm": {
     "name": "#%%\n"
    }
   }
  },
  {
   "cell_type": "code",
   "execution_count": 1,
   "metadata": {
    "pycharm": {
     "name": "#%%\n"
    }
   },
   "outputs": [],
   "source": [
    "import pandas as pd\n",
    "from sklearn.preprocessing import MinMaxScaler\n",
    "from sklearn.model_selection import train_test_split\n",
    "\n",
    "from src.data.data_loader import load_raw_data"
   ]
  },
  {
   "cell_type": "markdown",
   "metadata": {
    "pycharm": {
     "name": "#%% md\n"
    }
   },
   "source": [
    "Import data and prepare it for MLP model"
   ]
  },
  {
   "cell_type": "markdown",
   "metadata": {
    "pycharm": {
     "name": "#%% md\n"
    }
   },
   "source": [
    "## 2020-21 season data engineering for baseline model\n",
    "Predict next game total_points based only on single previous game"
   ]
  },
  {
   "cell_type": "code",
   "execution_count": 3,
   "metadata": {
    "pycharm": {
     "name": "#%%\n"
    }
   },
   "outputs": [],
   "source": [
    "data_2021 = load_raw_data('2020-21')"
   ]
  },
  {
   "cell_type": "code",
   "execution_count": 4,
   "metadata": {
    "pycharm": {
     "name": "#%%\n"
    }
   },
   "outputs": [],
   "source": [
    "# add 'total_points_next_gameweek' column where total_points_next_gameweek = total_points from next 'GW' for each 'element'\n",
    "data_2021['total_points_next_gameweek'] = data_2021.groupby('element')['total_points'].shift(-1)"
   ]
  },
  {
   "cell_type": "code",
   "execution_count": 5,
   "outputs": [
    {
     "data": {
      "text/plain": "              name  GW  total_points  total_points_next_gameweek\n8     Adam Lallana   1             1                         1.0\n434   Adam Lallana   2             1                         2.0\n973   Adam Lallana   3             2                         1.0\n1527  Adam Lallana   4             1                         2.0\n2089  Adam Lallana   5             2                         3.0\n2806  Adam Lallana   6             3                         2.0\n3396  Adam Lallana   7             2                         3.0\n3995  Adam Lallana   8             3                         4.0\n4595  Adam Lallana   9             4                         1.0\n5196  Adam Lallana  10             1                         0.0",
      "text/html": "<div>\n<style scoped>\n    .dataframe tbody tr th:only-of-type {\n        vertical-align: middle;\n    }\n\n    .dataframe tbody tr th {\n        vertical-align: top;\n    }\n\n    .dataframe thead th {\n        text-align: right;\n    }\n</style>\n<table border=\"1\" class=\"dataframe\">\n  <thead>\n    <tr style=\"text-align: right;\">\n      <th></th>\n      <th>name</th>\n      <th>GW</th>\n      <th>total_points</th>\n      <th>total_points_next_gameweek</th>\n    </tr>\n  </thead>\n  <tbody>\n    <tr>\n      <th>8</th>\n      <td>Adam Lallana</td>\n      <td>1</td>\n      <td>1</td>\n      <td>1.0</td>\n    </tr>\n    <tr>\n      <th>434</th>\n      <td>Adam Lallana</td>\n      <td>2</td>\n      <td>1</td>\n      <td>2.0</td>\n    </tr>\n    <tr>\n      <th>973</th>\n      <td>Adam Lallana</td>\n      <td>3</td>\n      <td>2</td>\n      <td>1.0</td>\n    </tr>\n    <tr>\n      <th>1527</th>\n      <td>Adam Lallana</td>\n      <td>4</td>\n      <td>1</td>\n      <td>2.0</td>\n    </tr>\n    <tr>\n      <th>2089</th>\n      <td>Adam Lallana</td>\n      <td>5</td>\n      <td>2</td>\n      <td>3.0</td>\n    </tr>\n    <tr>\n      <th>2806</th>\n      <td>Adam Lallana</td>\n      <td>6</td>\n      <td>3</td>\n      <td>2.0</td>\n    </tr>\n    <tr>\n      <th>3396</th>\n      <td>Adam Lallana</td>\n      <td>7</td>\n      <td>2</td>\n      <td>3.0</td>\n    </tr>\n    <tr>\n      <th>3995</th>\n      <td>Adam Lallana</td>\n      <td>8</td>\n      <td>3</td>\n      <td>4.0</td>\n    </tr>\n    <tr>\n      <th>4595</th>\n      <td>Adam Lallana</td>\n      <td>9</td>\n      <td>4</td>\n      <td>1.0</td>\n    </tr>\n    <tr>\n      <th>5196</th>\n      <td>Adam Lallana</td>\n      <td>10</td>\n      <td>1</td>\n      <td>0.0</td>\n    </tr>\n  </tbody>\n</table>\n</div>"
     },
     "execution_count": 5,
     "metadata": {},
     "output_type": "execute_result"
    }
   ],
   "source": [
    "# preview 'name', 'GW', 'total_points', 'total_points_next_gameweek' columns of data with 'Adam Lallana' name sorted by 'GW'\n",
    "data_2021[data_2021['name'] == 'Adam Lallana'].sort_values('GW').head(10)[['name', 'GW', 'total_points', 'total_points_next_gameweek']]"
   ],
   "metadata": {
    "collapsed": false,
    "pycharm": {
     "name": "#%%\n"
    }
   }
  },
  {
   "cell_type": "markdown",
   "source": [
    "**NOTE:** Model won't have any information about for which player the prediction is made."
   ],
   "metadata": {
    "collapsed": false,
    "pycharm": {
     "name": "#%% md\n"
    }
   }
  },
  {
   "cell_type": "code",
   "execution_count": 6,
   "outputs": [],
   "source": [
    "# create data_2021_processed dataframe without 'name', 'team', 'fixture', 'kickoff_time', 'opponent_team', 'round', 'team_h_score', 'team_a_score'\n",
    "data_2021_processed = data_2021.drop(['name', 'team', 'fixture', 'kickoff_time', 'opponent_team', 'round', 'team_h_score', 'team_a_score'], axis=1)"
   ],
   "metadata": {
    "collapsed": false,
    "pycharm": {
     "name": "#%%\n"
    }
   }
  },
  {
   "cell_type": "code",
   "execution_count": 7,
   "outputs": [],
   "source": [
    "# extract 'GW', 'element' and 'total_points_next_gameweek' from data_2021_processed\n",
    "data_2021_extract_target = data_2021_processed[['GW', 'element', 'total_points_next_gameweek']]"
   ],
   "metadata": {
    "collapsed": false,
    "pycharm": {
     "name": "#%%\n"
    }
   }
  },
  {
   "cell_type": "code",
   "execution_count": 8,
   "outputs": [],
   "source": [
    "# drop 'GW' and 'element' from data_2021_processed\n",
    "data_2021_processed = data_2021_processed.drop(['GW', 'element'], axis=1)"
   ],
   "metadata": {
    "collapsed": false,
    "pycharm": {
     "name": "#%%\n"
    }
   }
  },
  {
   "cell_type": "code",
   "execution_count": 9,
   "outputs": [],
   "source": [
    "# one-hot encode 'position' column\n",
    "data_2021_processed = pd.get_dummies(data_2021_processed, columns=['position'])"
   ],
   "metadata": {
    "collapsed": false,
    "pycharm": {
     "name": "#%%\n"
    }
   }
  },
  {
   "cell_type": "code",
   "execution_count": 10,
   "outputs": [],
   "source": [
    "# change 'was_home' column to binary\n",
    "data_2021_processed['was_home'] = data_2021_processed['was_home'].map({True: 1, False: 0})"
   ],
   "metadata": {
    "collapsed": false,
    "pycharm": {
     "name": "#%%\n"
    }
   }
  },
  {
   "cell_type": "code",
   "execution_count": 11,
   "outputs": [],
   "source": [
    "# drop rows with NaN values\n",
    "data_2021_processed = data_2021_processed.dropna()"
   ],
   "metadata": {
    "collapsed": false,
    "pycharm": {
     "name": "#%%\n"
    }
   }
  },
  {
   "cell_type": "code",
   "execution_count": 12,
   "outputs": [
    {
     "data": {
      "text/plain": "    xP  assists  bonus  bps  clean_sheets  creativity  goals_conceded  \\\n0  0.5        0      0   -3             0         0.3               2   \n1  2.1        0      0   11             0        11.2               2   \n2  0.0        0      0    0             0         0.0               0   \n3  2.5        0      0   12             0         0.0               2   \n4  1.3        0      0   20             1        44.6               0   \n5  0.4        0      0   -2             0         1.8               3   \n6  2.2        0      0    6             1         1.8               0   \n7  0.0        0      0    0             0         0.0               0   \n8  1.2        0      0    6             0        27.2               1   \n9  0.6        0      0   14             0        11.8               3   \n\n   goals_scored  ict_index  influence  ...  transfers_in  transfers_out  \\\n0             0        3.4        1.2  ...             0              0   \n1             0        2.2       10.4  ...             0              0   \n2             0        0.0        0.0  ...             0              0   \n3             0        1.8       18.2  ...             0              0   \n4             0        6.9       20.4  ...             0              0   \n5             0        0.2        0.0  ...             0              0   \n6             0        3.2       12.8  ...             0              0   \n7             0        0.0        0.0  ...             0              0   \n8             0        3.6        6.8  ...             0              0   \n9             0        2.8       14.8  ...             0              0   \n\n   value  was_home  yellow_cards  total_points_next_gameweek  position_DEF  \\\n0     55         1             0                         8.0             0   \n1     50         1             0                         1.0             1   \n2     50         1             0                         0.0             0   \n3     50         1             0                         2.0             0   \n4     55         0             0                         1.0             0   \n5     50         1             0                         1.0             0   \n6     65         0             0                         2.0             0   \n7     50         0             0                         0.0             0   \n8     65         1             0                         1.0             0   \n9     45         1             0                         6.0             1   \n\n   position_FWD  position_GK  position_MID  \n0             1            0             0  \n1             0            0             0  \n2             0            0             1  \n3             0            1             0  \n4             0            0             1  \n5             0            0             1  \n6             0            0             1  \n7             0            0             1  \n8             0            0             1  \n9             0            0             0  \n\n[10 rows x 30 columns]",
      "text/html": "<div>\n<style scoped>\n    .dataframe tbody tr th:only-of-type {\n        vertical-align: middle;\n    }\n\n    .dataframe tbody tr th {\n        vertical-align: top;\n    }\n\n    .dataframe thead th {\n        text-align: right;\n    }\n</style>\n<table border=\"1\" class=\"dataframe\">\n  <thead>\n    <tr style=\"text-align: right;\">\n      <th></th>\n      <th>xP</th>\n      <th>assists</th>\n      <th>bonus</th>\n      <th>bps</th>\n      <th>clean_sheets</th>\n      <th>creativity</th>\n      <th>goals_conceded</th>\n      <th>goals_scored</th>\n      <th>ict_index</th>\n      <th>influence</th>\n      <th>...</th>\n      <th>transfers_in</th>\n      <th>transfers_out</th>\n      <th>value</th>\n      <th>was_home</th>\n      <th>yellow_cards</th>\n      <th>total_points_next_gameweek</th>\n      <th>position_DEF</th>\n      <th>position_FWD</th>\n      <th>position_GK</th>\n      <th>position_MID</th>\n    </tr>\n  </thead>\n  <tbody>\n    <tr>\n      <th>0</th>\n      <td>0.5</td>\n      <td>0</td>\n      <td>0</td>\n      <td>-3</td>\n      <td>0</td>\n      <td>0.3</td>\n      <td>2</td>\n      <td>0</td>\n      <td>3.4</td>\n      <td>1.2</td>\n      <td>...</td>\n      <td>0</td>\n      <td>0</td>\n      <td>55</td>\n      <td>1</td>\n      <td>0</td>\n      <td>8.0</td>\n      <td>0</td>\n      <td>1</td>\n      <td>0</td>\n      <td>0</td>\n    </tr>\n    <tr>\n      <th>1</th>\n      <td>2.1</td>\n      <td>0</td>\n      <td>0</td>\n      <td>11</td>\n      <td>0</td>\n      <td>11.2</td>\n      <td>2</td>\n      <td>0</td>\n      <td>2.2</td>\n      <td>10.4</td>\n      <td>...</td>\n      <td>0</td>\n      <td>0</td>\n      <td>50</td>\n      <td>1</td>\n      <td>0</td>\n      <td>1.0</td>\n      <td>1</td>\n      <td>0</td>\n      <td>0</td>\n      <td>0</td>\n    </tr>\n    <tr>\n      <th>2</th>\n      <td>0.0</td>\n      <td>0</td>\n      <td>0</td>\n      <td>0</td>\n      <td>0</td>\n      <td>0.0</td>\n      <td>0</td>\n      <td>0</td>\n      <td>0.0</td>\n      <td>0.0</td>\n      <td>...</td>\n      <td>0</td>\n      <td>0</td>\n      <td>50</td>\n      <td>1</td>\n      <td>0</td>\n      <td>0.0</td>\n      <td>0</td>\n      <td>0</td>\n      <td>0</td>\n      <td>1</td>\n    </tr>\n    <tr>\n      <th>3</th>\n      <td>2.5</td>\n      <td>0</td>\n      <td>0</td>\n      <td>12</td>\n      <td>0</td>\n      <td>0.0</td>\n      <td>2</td>\n      <td>0</td>\n      <td>1.8</td>\n      <td>18.2</td>\n      <td>...</td>\n      <td>0</td>\n      <td>0</td>\n      <td>50</td>\n      <td>1</td>\n      <td>0</td>\n      <td>2.0</td>\n      <td>0</td>\n      <td>0</td>\n      <td>1</td>\n      <td>0</td>\n    </tr>\n    <tr>\n      <th>4</th>\n      <td>1.3</td>\n      <td>0</td>\n      <td>0</td>\n      <td>20</td>\n      <td>1</td>\n      <td>44.6</td>\n      <td>0</td>\n      <td>0</td>\n      <td>6.9</td>\n      <td>20.4</td>\n      <td>...</td>\n      <td>0</td>\n      <td>0</td>\n      <td>55</td>\n      <td>0</td>\n      <td>0</td>\n      <td>1.0</td>\n      <td>0</td>\n      <td>0</td>\n      <td>0</td>\n      <td>1</td>\n    </tr>\n    <tr>\n      <th>5</th>\n      <td>0.4</td>\n      <td>0</td>\n      <td>0</td>\n      <td>-2</td>\n      <td>0</td>\n      <td>1.8</td>\n      <td>3</td>\n      <td>0</td>\n      <td>0.2</td>\n      <td>0.0</td>\n      <td>...</td>\n      <td>0</td>\n      <td>0</td>\n      <td>50</td>\n      <td>1</td>\n      <td>0</td>\n      <td>1.0</td>\n      <td>0</td>\n      <td>0</td>\n      <td>0</td>\n      <td>1</td>\n    </tr>\n    <tr>\n      <th>6</th>\n      <td>2.2</td>\n      <td>0</td>\n      <td>0</td>\n      <td>6</td>\n      <td>1</td>\n      <td>1.8</td>\n      <td>0</td>\n      <td>0</td>\n      <td>3.2</td>\n      <td>12.8</td>\n      <td>...</td>\n      <td>0</td>\n      <td>0</td>\n      <td>65</td>\n      <td>0</td>\n      <td>0</td>\n      <td>2.0</td>\n      <td>0</td>\n      <td>0</td>\n      <td>0</td>\n      <td>1</td>\n    </tr>\n    <tr>\n      <th>7</th>\n      <td>0.0</td>\n      <td>0</td>\n      <td>0</td>\n      <td>0</td>\n      <td>0</td>\n      <td>0.0</td>\n      <td>0</td>\n      <td>0</td>\n      <td>0.0</td>\n      <td>0.0</td>\n      <td>...</td>\n      <td>0</td>\n      <td>0</td>\n      <td>50</td>\n      <td>0</td>\n      <td>0</td>\n      <td>0.0</td>\n      <td>0</td>\n      <td>0</td>\n      <td>0</td>\n      <td>1</td>\n    </tr>\n    <tr>\n      <th>8</th>\n      <td>1.2</td>\n      <td>0</td>\n      <td>0</td>\n      <td>6</td>\n      <td>0</td>\n      <td>27.2</td>\n      <td>1</td>\n      <td>0</td>\n      <td>3.6</td>\n      <td>6.8</td>\n      <td>...</td>\n      <td>0</td>\n      <td>0</td>\n      <td>65</td>\n      <td>1</td>\n      <td>0</td>\n      <td>1.0</td>\n      <td>0</td>\n      <td>0</td>\n      <td>0</td>\n      <td>1</td>\n    </tr>\n    <tr>\n      <th>9</th>\n      <td>0.6</td>\n      <td>0</td>\n      <td>0</td>\n      <td>14</td>\n      <td>0</td>\n      <td>11.8</td>\n      <td>3</td>\n      <td>0</td>\n      <td>2.8</td>\n      <td>14.8</td>\n      <td>...</td>\n      <td>0</td>\n      <td>0</td>\n      <td>45</td>\n      <td>1</td>\n      <td>0</td>\n      <td>6.0</td>\n      <td>1</td>\n      <td>0</td>\n      <td>0</td>\n      <td>0</td>\n    </tr>\n  </tbody>\n</table>\n<p>10 rows × 30 columns</p>\n</div>"
     },
     "execution_count": 12,
     "metadata": {},
     "output_type": "execute_result"
    }
   ],
   "source": [
    "data_2021_processed.head(10)"
   ],
   "metadata": {
    "collapsed": false,
    "pycharm": {
     "name": "#%%\n"
    }
   }
  },
  {
   "cell_type": "code",
   "execution_count": 13,
   "outputs": [],
   "source": [
    "X_2021 = data_2021_processed.drop(['total_points_next_gameweek'], axis=1)\n",
    "y_2021 = data_2021_processed['total_points_next_gameweek']"
   ],
   "metadata": {
    "collapsed": false,
    "pycharm": {
     "name": "#%%\n"
    }
   }
  },
  {
   "cell_type": "code",
   "execution_count": 14,
   "outputs": [],
   "source": [
    "# scale X data\n",
    "X_scaler = MinMaxScaler(feature_range=(0, 1))\n",
    "X_2021_scaled = pd.DataFrame(X_scaler.fit_transform(X_2021), columns = X_2021.columns)"
   ],
   "metadata": {
    "collapsed": false,
    "pycharm": {
     "name": "#%%\n"
    }
   }
  },
  {
   "cell_type": "code",
   "execution_count": 15,
   "outputs": [],
   "source": [
    "# split data into train and test sets\n",
    "X_train_2021, X_test_2021, y_train_2021, y_test_2021 = train_test_split(X_2021_scaled, y_2021, test_size=0.2, random_state=42)"
   ],
   "metadata": {
    "collapsed": false,
    "pycharm": {
     "name": "#%%\n"
    }
   }
  },
  {
   "cell_type": "code",
   "execution_count": 16,
   "outputs": [
    {
     "data": {
      "text/plain": "             xP  assists  bonus       bps  clean_sheets  creativity  \\\n19010  0.409483      0.0    0.0  0.214953           1.0    0.104923   \n3950   0.107759      0.0    0.0  0.130841           0.0    0.000000   \n19536  0.267241      0.0    0.0  0.158879           0.0    0.000000   \n8239   0.107759      0.0    0.0  0.130841           0.0    0.000000   \n16267  0.064655      0.0    0.0  0.130841           0.0    0.000000   \n\n       goals_conceded  goals_scored  ict_index  influence  ...  \\\n19010        0.000000           0.0   0.134146   0.064470  ...   \n3950         0.000000           0.0   0.000000   0.000000  ...   \n19536        0.111111           0.0   0.003049   0.007163  ...   \n8239         0.000000           0.0   0.000000   0.000000  ...   \n16267        0.000000           0.0   0.000000   0.000000  ...   \n\n       transfers_balance  transfers_in  transfers_out     value  was_home  \\\n19010           0.420871      0.013690       0.003569  0.433333       0.0   \n3950            0.413320      0.000023       0.001676  0.166667       0.0   \n19536           0.419214      0.012464       0.005685  0.111111       0.0   \n8239            0.406885      0.000055       0.016730  0.133333       1.0   \n16267           0.414020      0.000039       0.000066  0.077778       0.0   \n\n       yellow_cards  position_DEF  position_FWD  position_GK  position_MID  \n19010           0.0           0.0           0.0          0.0           1.0  \n3950            0.0           0.0           0.0          0.0           1.0  \n19536           0.0           0.0           1.0          0.0           0.0  \n8239            0.0           0.0           0.0          0.0           1.0  \n16267           0.0           0.0           0.0          0.0           1.0  \n\n[5 rows x 29 columns]",
      "text/html": "<div>\n<style scoped>\n    .dataframe tbody tr th:only-of-type {\n        vertical-align: middle;\n    }\n\n    .dataframe tbody tr th {\n        vertical-align: top;\n    }\n\n    .dataframe thead th {\n        text-align: right;\n    }\n</style>\n<table border=\"1\" class=\"dataframe\">\n  <thead>\n    <tr style=\"text-align: right;\">\n      <th></th>\n      <th>xP</th>\n      <th>assists</th>\n      <th>bonus</th>\n      <th>bps</th>\n      <th>clean_sheets</th>\n      <th>creativity</th>\n      <th>goals_conceded</th>\n      <th>goals_scored</th>\n      <th>ict_index</th>\n      <th>influence</th>\n      <th>...</th>\n      <th>transfers_balance</th>\n      <th>transfers_in</th>\n      <th>transfers_out</th>\n      <th>value</th>\n      <th>was_home</th>\n      <th>yellow_cards</th>\n      <th>position_DEF</th>\n      <th>position_FWD</th>\n      <th>position_GK</th>\n      <th>position_MID</th>\n    </tr>\n  </thead>\n  <tbody>\n    <tr>\n      <th>19010</th>\n      <td>0.409483</td>\n      <td>0.0</td>\n      <td>0.0</td>\n      <td>0.214953</td>\n      <td>1.0</td>\n      <td>0.104923</td>\n      <td>0.000000</td>\n      <td>0.0</td>\n      <td>0.134146</td>\n      <td>0.064470</td>\n      <td>...</td>\n      <td>0.420871</td>\n      <td>0.013690</td>\n      <td>0.003569</td>\n      <td>0.433333</td>\n      <td>0.0</td>\n      <td>0.0</td>\n      <td>0.0</td>\n      <td>0.0</td>\n      <td>0.0</td>\n      <td>1.0</td>\n    </tr>\n    <tr>\n      <th>3950</th>\n      <td>0.107759</td>\n      <td>0.0</td>\n      <td>0.0</td>\n      <td>0.130841</td>\n      <td>0.0</td>\n      <td>0.000000</td>\n      <td>0.000000</td>\n      <td>0.0</td>\n      <td>0.000000</td>\n      <td>0.000000</td>\n      <td>...</td>\n      <td>0.413320</td>\n      <td>0.000023</td>\n      <td>0.001676</td>\n      <td>0.166667</td>\n      <td>0.0</td>\n      <td>0.0</td>\n      <td>0.0</td>\n      <td>0.0</td>\n      <td>0.0</td>\n      <td>1.0</td>\n    </tr>\n    <tr>\n      <th>19536</th>\n      <td>0.267241</td>\n      <td>0.0</td>\n      <td>0.0</td>\n      <td>0.158879</td>\n      <td>0.0</td>\n      <td>0.000000</td>\n      <td>0.111111</td>\n      <td>0.0</td>\n      <td>0.003049</td>\n      <td>0.007163</td>\n      <td>...</td>\n      <td>0.419214</td>\n      <td>0.012464</td>\n      <td>0.005685</td>\n      <td>0.111111</td>\n      <td>0.0</td>\n      <td>0.0</td>\n      <td>0.0</td>\n      <td>1.0</td>\n      <td>0.0</td>\n      <td>0.0</td>\n    </tr>\n    <tr>\n      <th>8239</th>\n      <td>0.107759</td>\n      <td>0.0</td>\n      <td>0.0</td>\n      <td>0.130841</td>\n      <td>0.0</td>\n      <td>0.000000</td>\n      <td>0.000000</td>\n      <td>0.0</td>\n      <td>0.000000</td>\n      <td>0.000000</td>\n      <td>...</td>\n      <td>0.406885</td>\n      <td>0.000055</td>\n      <td>0.016730</td>\n      <td>0.133333</td>\n      <td>1.0</td>\n      <td>0.0</td>\n      <td>0.0</td>\n      <td>0.0</td>\n      <td>0.0</td>\n      <td>1.0</td>\n    </tr>\n    <tr>\n      <th>16267</th>\n      <td>0.064655</td>\n      <td>0.0</td>\n      <td>0.0</td>\n      <td>0.130841</td>\n      <td>0.0</td>\n      <td>0.000000</td>\n      <td>0.000000</td>\n      <td>0.0</td>\n      <td>0.000000</td>\n      <td>0.000000</td>\n      <td>...</td>\n      <td>0.414020</td>\n      <td>0.000039</td>\n      <td>0.000066</td>\n      <td>0.077778</td>\n      <td>0.0</td>\n      <td>0.0</td>\n      <td>0.0</td>\n      <td>0.0</td>\n      <td>0.0</td>\n      <td>1.0</td>\n    </tr>\n  </tbody>\n</table>\n<p>5 rows × 29 columns</p>\n</div>"
     },
     "execution_count": 16,
     "metadata": {},
     "output_type": "execute_result"
    }
   ],
   "source": [
    "X_train_2021.head()"
   ],
   "metadata": {
    "collapsed": false,
    "pycharm": {
     "name": "#%%\n"
    }
   }
  },
  {
   "cell_type": "code",
   "execution_count": 17,
   "outputs": [
    {
     "data": {
      "text/plain": "             xP  assists     bonus       bps  clean_sheets  creativity  \\\n11387  0.237069      0.0  0.666667  0.429907           0.0    0.020178   \n2055   0.323276      0.0  0.000000  0.252336           0.0    0.004036   \n18887  0.107759      0.0  0.000000  0.130841           0.0    0.000000   \n3353   0.107759      0.0  0.000000  0.130841           0.0    0.000000   \n11466  0.206897      0.0  0.000000  0.177570           0.0    0.000807   \n\n       goals_conceded  goals_scored  ict_index  influence  ...  \\\n11387        0.222222          0.25   0.234756   0.289398  ...   \n2055         0.777778          0.00   0.048780   0.110315  ...   \n18887        0.000000          0.00   0.000000   0.000000  ...   \n3353         0.000000          0.00   0.000000   0.000000  ...   \n11466        0.222222          0.00   0.042683   0.083095  ...   \n\n       transfers_balance  transfers_in  transfers_out     value  was_home  \\\n11387           0.407318      0.001784       0.018190  0.266667       1.0   \n2055            0.407962      0.039257       0.070173  0.300000       0.0   \n18887           0.414023      0.000000       0.000001  0.055556       0.0   \n3353            0.413927      0.000005       0.000234  0.122222       1.0   \n11466           0.412423      0.001793       0.006294  0.166667       1.0   \n\n       yellow_cards  position_DEF  position_FWD  position_GK  position_MID  \n11387           0.0           0.0           1.0          0.0           0.0  \n2055            1.0           1.0           0.0          0.0           0.0  \n18887           0.0           0.0           0.0          0.0           1.0  \n3353            0.0           1.0           0.0          0.0           0.0  \n11466           1.0           1.0           0.0          0.0           0.0  \n\n[5 rows x 29 columns]",
      "text/html": "<div>\n<style scoped>\n    .dataframe tbody tr th:only-of-type {\n        vertical-align: middle;\n    }\n\n    .dataframe tbody tr th {\n        vertical-align: top;\n    }\n\n    .dataframe thead th {\n        text-align: right;\n    }\n</style>\n<table border=\"1\" class=\"dataframe\">\n  <thead>\n    <tr style=\"text-align: right;\">\n      <th></th>\n      <th>xP</th>\n      <th>assists</th>\n      <th>bonus</th>\n      <th>bps</th>\n      <th>clean_sheets</th>\n      <th>creativity</th>\n      <th>goals_conceded</th>\n      <th>goals_scored</th>\n      <th>ict_index</th>\n      <th>influence</th>\n      <th>...</th>\n      <th>transfers_balance</th>\n      <th>transfers_in</th>\n      <th>transfers_out</th>\n      <th>value</th>\n      <th>was_home</th>\n      <th>yellow_cards</th>\n      <th>position_DEF</th>\n      <th>position_FWD</th>\n      <th>position_GK</th>\n      <th>position_MID</th>\n    </tr>\n  </thead>\n  <tbody>\n    <tr>\n      <th>11387</th>\n      <td>0.237069</td>\n      <td>0.0</td>\n      <td>0.666667</td>\n      <td>0.429907</td>\n      <td>0.0</td>\n      <td>0.020178</td>\n      <td>0.222222</td>\n      <td>0.25</td>\n      <td>0.234756</td>\n      <td>0.289398</td>\n      <td>...</td>\n      <td>0.407318</td>\n      <td>0.001784</td>\n      <td>0.018190</td>\n      <td>0.266667</td>\n      <td>1.0</td>\n      <td>0.0</td>\n      <td>0.0</td>\n      <td>1.0</td>\n      <td>0.0</td>\n      <td>0.0</td>\n    </tr>\n    <tr>\n      <th>2055</th>\n      <td>0.323276</td>\n      <td>0.0</td>\n      <td>0.000000</td>\n      <td>0.252336</td>\n      <td>0.0</td>\n      <td>0.004036</td>\n      <td>0.777778</td>\n      <td>0.00</td>\n      <td>0.048780</td>\n      <td>0.110315</td>\n      <td>...</td>\n      <td>0.407962</td>\n      <td>0.039257</td>\n      <td>0.070173</td>\n      <td>0.300000</td>\n      <td>0.0</td>\n      <td>1.0</td>\n      <td>1.0</td>\n      <td>0.0</td>\n      <td>0.0</td>\n      <td>0.0</td>\n    </tr>\n    <tr>\n      <th>18887</th>\n      <td>0.107759</td>\n      <td>0.0</td>\n      <td>0.000000</td>\n      <td>0.130841</td>\n      <td>0.0</td>\n      <td>0.000000</td>\n      <td>0.000000</td>\n      <td>0.00</td>\n      <td>0.000000</td>\n      <td>0.000000</td>\n      <td>...</td>\n      <td>0.414023</td>\n      <td>0.000000</td>\n      <td>0.000001</td>\n      <td>0.055556</td>\n      <td>0.0</td>\n      <td>0.0</td>\n      <td>0.0</td>\n      <td>0.0</td>\n      <td>0.0</td>\n      <td>1.0</td>\n    </tr>\n    <tr>\n      <th>3353</th>\n      <td>0.107759</td>\n      <td>0.0</td>\n      <td>0.000000</td>\n      <td>0.130841</td>\n      <td>0.0</td>\n      <td>0.000000</td>\n      <td>0.000000</td>\n      <td>0.00</td>\n      <td>0.000000</td>\n      <td>0.000000</td>\n      <td>...</td>\n      <td>0.413927</td>\n      <td>0.000005</td>\n      <td>0.000234</td>\n      <td>0.122222</td>\n      <td>1.0</td>\n      <td>0.0</td>\n      <td>1.0</td>\n      <td>0.0</td>\n      <td>0.0</td>\n      <td>0.0</td>\n    </tr>\n    <tr>\n      <th>11466</th>\n      <td>0.206897</td>\n      <td>0.0</td>\n      <td>0.000000</td>\n      <td>0.177570</td>\n      <td>0.0</td>\n      <td>0.000807</td>\n      <td>0.222222</td>\n      <td>0.00</td>\n      <td>0.042683</td>\n      <td>0.083095</td>\n      <td>...</td>\n      <td>0.412423</td>\n      <td>0.001793</td>\n      <td>0.006294</td>\n      <td>0.166667</td>\n      <td>1.0</td>\n      <td>1.0</td>\n      <td>1.0</td>\n      <td>0.0</td>\n      <td>0.0</td>\n      <td>0.0</td>\n    </tr>\n  </tbody>\n</table>\n<p>5 rows × 29 columns</p>\n</div>"
     },
     "execution_count": 17,
     "metadata": {},
     "output_type": "execute_result"
    }
   ],
   "source": [
    "X_test_2021.head()"
   ],
   "metadata": {
    "collapsed": false,
    "pycharm": {
     "name": "#%%\n"
    }
   }
  },
  {
   "cell_type": "code",
   "execution_count": 18,
   "outputs": [
    {
     "data": {
      "text/plain": "19010    6.0\n3950     0.0\n19536    2.0\n8239     0.0\n16267    0.0\nName: total_points_next_gameweek, dtype: float64"
     },
     "execution_count": 18,
     "metadata": {},
     "output_type": "execute_result"
    }
   ],
   "source": [
    "y_train_2021.head()"
   ],
   "metadata": {
    "collapsed": false,
    "pycharm": {
     "name": "#%%\n"
    }
   }
  },
  {
   "cell_type": "code",
   "execution_count": 19,
   "outputs": [
    {
     "data": {
      "text/plain": "11387    2.0\n2055     1.0\n18887    0.0\n3353     0.0\n11466    1.0\nName: total_points_next_gameweek, dtype: float64"
     },
     "execution_count": 19,
     "metadata": {},
     "output_type": "execute_result"
    }
   ],
   "source": [
    "y_test_2021.head()"
   ],
   "metadata": {
    "collapsed": false,
    "pycharm": {
     "name": "#%%\n"
    }
   }
  },
  {
   "cell_type": "code",
   "execution_count": null,
   "outputs": [],
   "source": [],
   "metadata": {
    "collapsed": false,
    "pycharm": {
     "name": "#%%\n"
    }
   }
  }
 ],
 "metadata": {
  "interpreter": {
   "hash": "bbb22d9559f6976b31c36950d3631592f33fcfe361ba08906d3d31a17b5db64c"
  },
  "kernelspec": {
   "display_name": "Python 3.9.7 64-bit ('venv': venv)",
   "language": "python",
   "name": "python3"
  },
  "language_info": {
   "codemirror_mode": {
    "name": "ipython",
    "version": 3
   },
   "file_extension": ".py",
   "mimetype": "text/x-python",
   "name": "python",
   "nbconvert_exporter": "python",
   "pygments_lexer": "ipython3",
   "version": "3.9.13"
  },
  "orig_nbformat": 4
 },
 "nbformat": 4,
 "nbformat_minor": 2
}