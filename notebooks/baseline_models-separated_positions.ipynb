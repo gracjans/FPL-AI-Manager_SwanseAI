{
 "cells": [
  {
   "cell_type": "markdown",
   "source": [
    "# Train simple baseline models on merged seasons (full) data with historical rolling features and with data about next opponent team and positions separated data"
   ],
   "metadata": {
    "collapsed": false,
    "pycharm": {
     "name": "#%% md\n"
    }
   }
  },
  {
   "cell_type": "code",
   "execution_count": 1,
   "outputs": [],
   "source": [
    "import pandas as pd\n",
    "import matplotlib.pyplot as plt\n",
    "\n",
    "from src.data.data_loader import load_master_team_list\n",
    "from src.data.data_loader import load_understat_team_stats\n",
    "from src.features.data_engineering import preprocess_seasons_data, reverse_processing, get_oponent_team_stats\n",
    "from src.features.utils import idx_to_team_name, str_date_days_forward"
   ],
   "metadata": {
    "collapsed": false,
    "pycharm": {
     "name": "#%%\n"
    }
   }
  },
  {
   "cell_type": "code",
   "execution_count": 2,
   "outputs": [],
   "source": [
    "from src.data.data_loader import load_average_pts\n",
    "\n",
    "average_pts = load_average_pts()"
   ],
   "metadata": {
    "collapsed": false,
    "pycharm": {
     "name": "#%%\n"
    }
   }
  },
  {
   "cell_type": "code",
   "execution_count": 10,
   "outputs": [],
   "source": [
    "import os\n",
    "\n",
    "# load data by position\n",
    "data_intermediate_path = os.path.dirname(os.getcwd()) + '\\\\data\\\\intermediate\\\\'\n",
    "\n",
    "data_gk = pd.read_csv(data_intermediate_path + 'separate/gk.csv')\n",
    "data_def = pd.read_csv(data_intermediate_path + 'separate/def.csv')\n",
    "data_mid = pd.read_csv(data_intermediate_path + 'separate/mid.csv')\n",
    "data_fwd = pd.read_csv(data_intermediate_path + 'separate/fwd.csv')"
   ],
   "metadata": {
    "collapsed": false,
    "pycharm": {
     "name": "#%%\n"
    }
   }
  },
  {
   "cell_type": "code",
   "execution_count": 11,
   "outputs": [],
   "source": [
    "rolling_columns_gk = ['bonus', 'bps', 'clean_sheets', 'goals_conceded', 'influence', 'minutes',\n",
    "                      'penalties_saved', 'saves', 'selected', 'player_team_score', 'opponent_team_score',\n",
    "                      'total_points', 'transfers_in', 'transfers_out','value']\n",
    "\n",
    "rolling_columns_def = ['assists', 'bonus', 'bps', 'clean_sheets', 'creativity', 'goals_conceded', 'goals_scored',\n",
    "                       'ict_index', 'influence', 'minutes', 'selected', 'player_team_score', 'opponent_team_score',\n",
    "                       'threat', 'total_points', 'transfers_in', 'transfers_out', 'value', 'yellow_cards']\n",
    "\n",
    "rolling_columns_mid = ['assists', 'bonus', 'bps', 'clean_sheets', 'creativity', 'goals_conceded', 'goals_scored',\n",
    "                       'ict_index', 'influence', 'minutes', 'selected', 'player_team_score', 'opponent_team_score',\n",
    "                       'threat', 'total_points', 'transfers_in', 'transfers_out', 'value', 'yellow_cards']\n",
    "\n",
    "rolling_columns_fwd = ['assists', 'bonus', 'bps', 'creativity', 'goals_scored', 'ict_index', 'influence',\n",
    "                       'minutes', 'selected', 'player_team_score', 'opponent_team_score', 'threat',\n",
    "                       'total_points', 'transfers_in', 'transfers_out', 'value', 'yellow_cards']\n",
    "\n",
    "times = ['all', 6, 3]\n",
    "\n",
    "test_subset_XL = (['2016-17', [4, 8, 9, 14, 18, 20, 21, 26, 32]], ['2018-19', [1, 2, 3, 4, 5, 6, 7, 8, 9, 10]], ['2021-22', [17, 18, 19, 20, 21, 22, 23, 24, 25, 26]])"
   ],
   "metadata": {
    "collapsed": false,
    "pycharm": {
     "name": "#%%\n"
    }
   }
  },
  {
   "cell_type": "code",
   "execution_count": 12,
   "outputs": [],
   "source": [
    "(x_train_gk, y_train_gk), (x_test_gk, y_test_gk), (x_train_target_gk, x_test_target_gk), x_scaler_gk = preprocess_seasons_data(data_gk, random_split=True, test_subset=test_subset_XL, rolling_features=True, rolling_columns=rolling_columns_gk, rolling_times=times, opponent_team_stats=True)\n",
    "\n",
    "(x_train_def, y_train_def), (x_test_def, y_test_def), (x_train_target_def, x_test_target_def), x_scaler_def = preprocess_seasons_data(data_def, random_split=True, test_subset=test_subset_XL, rolling_features=True, rolling_columns=rolling_columns_def, rolling_times=times, opponent_team_stats=True)\n",
    "\n",
    "(x_train_mid, y_train_mid), (x_test_mid, y_test_mid), (x_train_target_mid, x_test_target_mid), x_scaler_mid = preprocess_seasons_data(data_mid, random_split=True, test_subset=test_subset_XL, rolling_features=True, rolling_columns=rolling_columns_mid, rolling_times=times, opponent_team_stats=True)\n",
    "\n",
    "(x_train_fwd, y_train_fwd), (x_test_fwd, y_test_fwd), (x_train_target_fwd, x_test_target_fwd), x_scaler_fwd = preprocess_seasons_data(data_fwd, random_split=True, test_subset=test_subset_XL, rolling_features=True, rolling_columns=rolling_columns_fwd, rolling_times=times, opponent_team_stats=True)"
   ],
   "metadata": {
    "collapsed": false,
    "pycharm": {
     "name": "#%%\n"
    }
   }
  },
  {
   "cell_type": "markdown",
   "source": [
    "## Train on baseline Dummy model"
   ],
   "metadata": {
    "collapsed": false,
    "pycharm": {
     "name": "#%% md\n"
    }
   }
  },
  {
   "cell_type": "code",
   "execution_count": 19,
   "outputs": [],
   "source": [
    "from sklearn.dummy import DummyRegressor\n",
    "from sklearn.metrics import mean_squared_error"
   ],
   "metadata": {
    "collapsed": false,
    "pycharm": {
     "name": "#%%\n"
    }
   }
  },
  {
   "cell_type": "code",
   "execution_count": 20,
   "outputs": [
    {
     "data": {
      "text/plain": "DummyRegressor()"
     },
     "execution_count": 20,
     "metadata": {},
     "output_type": "execute_result"
    }
   ],
   "source": [
    "dummy_regr_gk = DummyRegressor(strategy=\"mean\")\n",
    "dummy_regr_gk.fit(x_train_gk, y_train_gk)\n",
    "\n",
    "dummy_regr_def = DummyRegressor(strategy=\"mean\")\n",
    "dummy_regr_def.fit(x_train_def, y_train_def)\n",
    "\n",
    "dummy_regr_mid = DummyRegressor(strategy=\"mean\")\n",
    "dummy_regr_mid.fit(x_train_mid, y_train_mid)\n",
    "\n",
    "dummy_regr_fwd = DummyRegressor(strategy=\"mean\")\n",
    "dummy_regr_fwd.fit(x_train_fwd, y_train_fwd)"
   ],
   "metadata": {
    "collapsed": false,
    "pycharm": {
     "name": "#%%\n"
    }
   }
  },
  {
   "cell_type": "code",
   "execution_count": 21,
   "outputs": [],
   "source": [
    "y_pred_gk = dummy_regr_gk.predict(x_test_gk)\n",
    "y_pred_def = dummy_regr_def.predict(x_test_def)\n",
    "y_pred_mid = dummy_regr_mid.predict(x_test_mid)\n",
    "y_pred_fwd = dummy_regr_fwd.predict(x_test_fwd)"
   ],
   "metadata": {
    "collapsed": false,
    "pycharm": {
     "name": "#%%\n"
    }
   }
  },
  {
   "cell_type": "code",
   "execution_count": 22,
   "outputs": [
    {
     "data": {
      "text/plain": "4.898789656592843"
     },
     "execution_count": 22,
     "metadata": {},
     "output_type": "execute_result"
    }
   ],
   "source": [
    "mean_squared_error(y_pred_gk, y_test_gk)"
   ],
   "metadata": {
    "collapsed": false,
    "pycharm": {
     "name": "#%%\n"
    }
   }
  },
  {
   "cell_type": "code",
   "execution_count": 23,
   "outputs": [
    {
     "data": {
      "text/plain": "6.263342308849872"
     },
     "execution_count": 23,
     "metadata": {},
     "output_type": "execute_result"
    }
   ],
   "source": [
    "mean_squared_error(y_pred_def, y_test_def)"
   ],
   "metadata": {
    "collapsed": false,
    "pycharm": {
     "name": "#%%\n"
    }
   }
  },
  {
   "cell_type": "code",
   "execution_count": 24,
   "outputs": [
    {
     "data": {
      "text/plain": "5.9069129491351"
     },
     "execution_count": 24,
     "metadata": {},
     "output_type": "execute_result"
    }
   ],
   "source": [
    "mean_squared_error(y_pred_mid, y_test_mid)"
   ],
   "metadata": {
    "collapsed": false,
    "pycharm": {
     "name": "#%%\n"
    }
   }
  },
  {
   "cell_type": "code",
   "execution_count": 25,
   "outputs": [
    {
     "data": {
      "text/plain": "7.027382892899582"
     },
     "execution_count": 25,
     "metadata": {},
     "output_type": "execute_result"
    }
   ],
   "source": [
    "mean_squared_error(y_pred_fwd, y_test_fwd)"
   ],
   "metadata": {
    "collapsed": false,
    "pycharm": {
     "name": "#%%\n"
    }
   }
  },
  {
   "cell_type": "markdown",
   "source": [
    "### Train baseline MLP model"
   ],
   "metadata": {
    "collapsed": false,
    "pycharm": {
     "name": "#%% md\n"
    }
   }
  },
  {
   "cell_type": "code",
   "execution_count": 27,
   "outputs": [],
   "source": [
    "import tensorflow as tf"
   ],
   "metadata": {
    "collapsed": false,
    "pycharm": {
     "name": "#%%\n"
    }
   }
  },
  {
   "cell_type": "markdown",
   "source": [
    "### MLP GK"
   ],
   "metadata": {
    "collapsed": false,
    "pycharm": {
     "name": "#%% md\n"
    }
   }
  },
  {
   "cell_type": "code",
   "execution_count": 28,
   "outputs": [],
   "source": [
    "model_mlp_gk = tf.keras.models.Sequential()\n",
    "\n",
    "model_mlp_gk.add(tf.keras.layers.Dense(units=128, activation='relu', input_shape=(x_train_gk.shape[1],)))\n",
    "model_mlp_gk.add(tf.keras.layers.Dense(units=256, activation='relu'))\n",
    "model_mlp_gk.add(tf.keras.layers.Dense(units=64, activation='relu'))\n",
    "model_mlp_gk.add(tf.keras.layers.Dense(units=1, activation='linear'))\n"
   ],
   "metadata": {
    "collapsed": false,
    "pycharm": {
     "name": "#%%\n"
    }
   }
  },
  {
   "cell_type": "code",
   "execution_count": 29,
   "outputs": [],
   "source": [
    "model_mlp_gk.compile(optimizer='adam',\n",
    "                  loss='mse')"
   ],
   "metadata": {
    "collapsed": false,
    "pycharm": {
     "name": "#%%model_mlp.compile(optimizer='adam', loss='mse')\n"
    }
   }
  },
  {
   "cell_type": "code",
   "execution_count": 30,
   "outputs": [
    {
     "name": "stdout",
     "output_type": "stream",
     "text": [
      "Epoch 1/15\n",
      "492/492 [==============================] - 1s 1ms/step - loss: 3.1183 - val_loss: 3.0846\n",
      "Epoch 2/15\n",
      "492/492 [==============================] - 1s 1ms/step - loss: 2.9769 - val_loss: 3.1593\n",
      "Epoch 3/15\n",
      "492/492 [==============================] - 1s 1ms/step - loss: 2.9481 - val_loss: 3.0184\n",
      "Epoch 4/15\n",
      "492/492 [==============================] - 1s 1ms/step - loss: 2.9132 - val_loss: 3.0327\n",
      "Epoch 5/15\n",
      "492/492 [==============================] - 1s 1ms/step - loss: 2.9197 - val_loss: 3.1859\n",
      "Epoch 6/15\n",
      "492/492 [==============================] - 1s 1ms/step - loss: 2.9093 - val_loss: 3.0435\n",
      "Epoch 7/15\n",
      "492/492 [==============================] - 1s 1ms/step - loss: 2.8761 - val_loss: 3.0422\n",
      "Epoch 8/15\n",
      "492/492 [==============================] - 1s 1ms/step - loss: 2.8776 - val_loss: 3.0532\n",
      "Epoch 9/15\n",
      "492/492 [==============================] - 1s 1ms/step - loss: 2.8667 - val_loss: 3.1012\n",
      "Epoch 10/15\n",
      "492/492 [==============================] - 1s 1ms/step - loss: 2.8432 - val_loss: 3.1899\n",
      "Epoch 11/15\n",
      "492/492 [==============================] - 1s 1ms/step - loss: 2.8242 - val_loss: 3.0943\n",
      "Epoch 12/15\n",
      "492/492 [==============================] - 1s 1ms/step - loss: 2.8249 - val_loss: 3.1250\n",
      "Epoch 13/15\n",
      "492/492 [==============================] - 1s 1ms/step - loss: 2.8096 - val_loss: 3.1065\n",
      "Epoch 14/15\n",
      "492/492 [==============================] - 1s 1ms/step - loss: 2.7860 - val_loss: 3.1452\n",
      "Epoch 15/15\n",
      "492/492 [==============================] - 1s 1ms/step - loss: 2.7644 - val_loss: 3.1494\n"
     ]
    }
   ],
   "source": [
    "history_gk = model_mlp_gk.fit(x_train_gk, y_train_gk,\n",
    "                        batch_size=16,\n",
    "                        epochs=15,\n",
    "                        validation_split=0.3)"
   ],
   "metadata": {
    "collapsed": false,
    "pycharm": {
     "name": "#%%\n"
    }
   }
  },
  {
   "cell_type": "code",
   "execution_count": 31,
   "outputs": [
    {
     "name": "stdout",
     "output_type": "stream",
     "text": [
      "Test loss: 2.7315902709960938\n"
     ]
    }
   ],
   "source": [
    "score_gk = model_mlp_gk.evaluate(x_test_gk, y_test_gk, verbose=0)\n",
    "print('Test loss:', score_gk)"
   ],
   "metadata": {
    "collapsed": false,
    "pycharm": {
     "name": "#%%\n"
    }
   }
  },
  {
   "cell_type": "markdown",
   "source": [
    "### MLP DEF"
   ],
   "metadata": {
    "collapsed": false,
    "pycharm": {
     "name": "#%% md\n"
    }
   }
  },
  {
   "cell_type": "code",
   "execution_count": 32,
   "outputs": [],
   "source": [
    "model_mlp_def = tf.keras.models.Sequential()\n",
    "\n",
    "model_mlp_def.add(tf.keras.layers.Dense(units=128, activation='relu', input_shape=(x_train_def.shape[1],)))\n",
    "model_mlp_def.add(tf.keras.layers.Dense(units=256, activation='relu'))\n",
    "model_mlp_def.add(tf.keras.layers.Dense(units=64, activation='relu'))\n",
    "model_mlp_def.add(tf.keras.layers.Dense(units=1, activation='linear'))\n"
   ],
   "metadata": {
    "collapsed": false,
    "pycharm": {
     "name": "#%%\n"
    }
   }
  },
  {
   "cell_type": "code",
   "execution_count": 33,
   "outputs": [],
   "source": [
    "model_mlp_def.compile(optimizer='adam',\n",
    "                  loss='mse')"
   ],
   "metadata": {
    "collapsed": false,
    "pycharm": {
     "name": "#%%model_mlp.compile(optimizer='adam', loss='mse')\n"
    }
   }
  },
  {
   "cell_type": "code",
   "execution_count": 34,
   "outputs": [
    {
     "name": "stdout",
     "output_type": "stream",
     "text": [
      "Epoch 1/15\n",
      "1536/1536 [==============================] - 2s 1ms/step - loss: 4.9038 - val_loss: 4.7660\n",
      "Epoch 2/15\n",
      "1536/1536 [==============================] - 2s 1ms/step - loss: 4.8214 - val_loss: 4.7531\n",
      "Epoch 3/15\n",
      "1536/1536 [==============================] - 2s 1ms/step - loss: 4.7925 - val_loss: 4.7687\n",
      "Epoch 4/15\n",
      "1536/1536 [==============================] - 2s 1ms/step - loss: 4.7773 - val_loss: 4.8165\n",
      "Epoch 5/15\n",
      "1536/1536 [==============================] - 2s 998us/step - loss: 4.7744 - val_loss: 4.9028\n",
      "Epoch 6/15\n",
      "1536/1536 [==============================] - 2s 1ms/step - loss: 4.7652 - val_loss: 4.7794\n",
      "Epoch 7/15\n",
      "1536/1536 [==============================] - 2s 1ms/step - loss: 4.7524 - val_loss: 4.7349\n",
      "Epoch 8/15\n",
      "1536/1536 [==============================] - 2s 1ms/step - loss: 4.7527 - val_loss: 4.7580\n",
      "Epoch 9/15\n",
      "1536/1536 [==============================] - 2s 1ms/step - loss: 4.7300 - val_loss: 4.7498\n",
      "Epoch 10/15\n",
      "1536/1536 [==============================] - 2s 1ms/step - loss: 4.7298 - val_loss: 4.7822\n",
      "Epoch 11/15\n",
      "1536/1536 [==============================] - 2s 1ms/step - loss: 4.7228 - val_loss: 4.7526\n",
      "Epoch 12/15\n",
      "1536/1536 [==============================] - 2s 1ms/step - loss: 4.6982 - val_loss: 4.7865\n",
      "Epoch 13/15\n",
      "1536/1536 [==============================] - 2s 1ms/step - loss: 4.6841 - val_loss: 4.7740\n",
      "Epoch 14/15\n",
      "1536/1536 [==============================] - 2s 1ms/step - loss: 4.6679 - val_loss: 4.7622\n",
      "Epoch 15/15\n",
      "1536/1536 [==============================] - 2s 1ms/step - loss: 4.6603 - val_loss: 4.7795\n"
     ]
    }
   ],
   "source": [
    "history_def = model_mlp_def.fit(x_train_def, y_train_def,\n",
    "                        batch_size=16,\n",
    "                        epochs=15,\n",
    "                        validation_split=0.3)"
   ],
   "metadata": {
    "collapsed": false,
    "pycharm": {
     "name": "#%%\n"
    }
   }
  },
  {
   "cell_type": "code",
   "execution_count": 35,
   "outputs": [
    {
     "name": "stdout",
     "output_type": "stream",
     "text": [
      "Test loss: 4.776841640472412\n"
     ]
    }
   ],
   "source": [
    "score_def = model_mlp_def.evaluate(x_test_def, y_test_def, verbose=0)\n",
    "print('Test loss:', score_def)"
   ],
   "metadata": {
    "collapsed": false,
    "pycharm": {
     "name": "#%%\n"
    }
   }
  },
  {
   "cell_type": "markdown",
   "source": [
    "### MLP MID"
   ],
   "metadata": {
    "collapsed": false,
    "pycharm": {
     "name": "#%% md\n"
    }
   },
   "execution_count": 35
  },
  {
   "cell_type": "code",
   "execution_count": 36,
   "outputs": [],
   "source": [
    "model_mlp_mid = tf.keras.models.Sequential()\n",
    "\n",
    "model_mlp_mid.add(tf.keras.layers.Dense(units=128, activation='relu', input_shape=(x_train_mid.shape[1],)))\n",
    "model_mlp_mid.add(tf.keras.layers.Dense(units=256, activation='relu'))\n",
    "model_mlp_mid.add(tf.keras.layers.Dense(units=64, activation='relu'))\n",
    "model_mlp_mid.add(tf.keras.layers.Dense(units=1, activation='linear'))\n"
   ],
   "metadata": {
    "collapsed": false,
    "pycharm": {
     "name": "#%%\n"
    }
   }
  },
  {
   "cell_type": "code",
   "execution_count": 37,
   "outputs": [],
   "source": [
    "model_mlp_mid.compile(optimizer='adam',\n",
    "                  loss='mse')"
   ],
   "metadata": {
    "collapsed": false,
    "pycharm": {
     "name": "#%%model_mlp.compile(optimizer='adam', loss='mse')\n"
    }
   }
  },
  {
   "cell_type": "code",
   "execution_count": 38,
   "outputs": [
    {
     "name": "stdout",
     "output_type": "stream",
     "text": [
      "Epoch 1/15\n",
      "1867/1867 [==============================] - 2s 1ms/step - loss: 4.4283 - val_loss: 4.4681\n",
      "Epoch 2/15\n",
      "1867/1867 [==============================] - 2s 1ms/step - loss: 4.3402 - val_loss: 4.3162\n",
      "Epoch 3/15\n",
      "1867/1867 [==============================] - 2s 1ms/step - loss: 4.3241 - val_loss: 4.3997\n",
      "Epoch 4/15\n",
      "1867/1867 [==============================] - 2s 1ms/step - loss: 4.3148 - val_loss: 4.2917\n",
      "Epoch 5/15\n",
      "1867/1867 [==============================] - 2s 1ms/step - loss: 4.2967 - val_loss: 4.2937\n",
      "Epoch 6/15\n",
      "1867/1867 [==============================] - 2s 1ms/step - loss: 4.2986 - val_loss: 4.3085\n",
      "Epoch 7/15\n",
      "1867/1867 [==============================] - 2s 1ms/step - loss: 4.2818 - val_loss: 4.3438\n",
      "Epoch 8/15\n",
      "1867/1867 [==============================] - 2s 1ms/step - loss: 4.2838 - val_loss: 4.2866\n",
      "Epoch 9/15\n",
      "1867/1867 [==============================] - 2s 1ms/step - loss: 4.2692 - val_loss: 4.3207\n",
      "Epoch 10/15\n",
      "1867/1867 [==============================] - 2s 1ms/step - loss: 4.2528 - val_loss: 4.2913\n",
      "Epoch 11/15\n",
      "1867/1867 [==============================] - 2s 991us/step - loss: 4.2592 - val_loss: 4.3804\n",
      "Epoch 12/15\n",
      "1867/1867 [==============================] - 2s 1ms/step - loss: 4.2443 - val_loss: 4.2984\n",
      "Epoch 13/15\n",
      "1867/1867 [==============================] - 2s 1ms/step - loss: 4.2417 - val_loss: 4.3091\n",
      "Epoch 14/15\n",
      "1867/1867 [==============================] - 2s 1ms/step - loss: 4.2339 - val_loss: 4.3161\n",
      "Epoch 15/15\n",
      "1867/1867 [==============================] - 2s 1ms/step - loss: 4.2296 - val_loss: 4.3087\n"
     ]
    }
   ],
   "source": [
    "history_mid = model_mlp_mid.fit(x_train_mid, y_train_mid,\n",
    "                        batch_size=16,\n",
    "                        epochs=15,\n",
    "                        validation_split=0.3)"
   ],
   "metadata": {
    "collapsed": false,
    "pycharm": {
     "name": "#%%\n"
    }
   }
  },
  {
   "cell_type": "code",
   "execution_count": 39,
   "outputs": [
    {
     "name": "stdout",
     "output_type": "stream",
     "text": [
      "Test loss: 4.210040092468262\n"
     ]
    }
   ],
   "source": [
    "score_mid = model_mlp_mid.evaluate(x_test_mid, y_test_mid, verbose=0)\n",
    "print('Test loss:', score_mid)"
   ],
   "metadata": {
    "collapsed": false,
    "pycharm": {
     "name": "#%%\n"
    }
   }
  },
  {
   "cell_type": "markdown",
   "source": [
    "### MLP FWD"
   ],
   "metadata": {
    "collapsed": false,
    "pycharm": {
     "name": "#%% md\n"
    }
   },
   "execution_count": 39
  },
  {
   "cell_type": "code",
   "execution_count": 40,
   "outputs": [],
   "source": [
    "model_mlp_fwd = tf.keras.models.Sequential()\n",
    "\n",
    "model_mlp_fwd.add(tf.keras.layers.Dense(units=128, activation='relu', input_shape=(x_train_fwd.shape[1],)))\n",
    "model_mlp_fwd.add(tf.keras.layers.Dense(units=256, activation='relu'))\n",
    "model_mlp_fwd.add(tf.keras.layers.Dense(units=64, activation='relu'))\n",
    "model_mlp_fwd.add(tf.keras.layers.Dense(units=1, activation='linear'))\n"
   ],
   "metadata": {
    "collapsed": false,
    "pycharm": {
     "name": "#%%\n"
    }
   }
  },
  {
   "cell_type": "code",
   "execution_count": 41,
   "outputs": [],
   "source": [
    "model_mlp_fwd.compile(optimizer='adam',\n",
    "                  loss='mse')"
   ],
   "metadata": {
    "collapsed": false,
    "pycharm": {
     "name": "#%%model_mlp.compile(optimizer='adam', loss='mse')\n"
    }
   }
  },
  {
   "cell_type": "code",
   "execution_count": 42,
   "outputs": [
    {
     "name": "stdout",
     "output_type": "stream",
     "text": [
      "Epoch 1/15\n",
      "631/631 [==============================] - 1s 1ms/step - loss: 5.4412 - val_loss: 5.3865\n",
      "Epoch 2/15\n",
      "631/631 [==============================] - 1s 1ms/step - loss: 5.2551 - val_loss: 5.6546\n",
      "Epoch 3/15\n",
      "631/631 [==============================] - 1s 1ms/step - loss: 5.2276 - val_loss: 5.3958\n",
      "Epoch 4/15\n",
      "631/631 [==============================] - 1s 1ms/step - loss: 5.2025 - val_loss: 5.4789\n",
      "Epoch 5/15\n",
      "631/631 [==============================] - 1s 987us/step - loss: 5.1718 - val_loss: 5.3339\n",
      "Epoch 6/15\n",
      "631/631 [==============================] - 1s 982us/step - loss: 5.1557 - val_loss: 5.4740\n",
      "Epoch 7/15\n",
      "631/631 [==============================] - 1s 1ms/step - loss: 5.1679 - val_loss: 5.4917\n",
      "Epoch 8/15\n",
      "631/631 [==============================] - 1s 1ms/step - loss: 5.1687 - val_loss: 5.3434\n",
      "Epoch 9/15\n",
      "631/631 [==============================] - 1s 1ms/step - loss: 5.1688 - val_loss: 5.3718\n",
      "Epoch 10/15\n",
      "631/631 [==============================] - 1s 1ms/step - loss: 5.0942 - val_loss: 5.7750\n",
      "Epoch 11/15\n",
      "631/631 [==============================] - 1s 1ms/step - loss: 5.0877 - val_loss: 5.3848\n",
      "Epoch 12/15\n",
      "631/631 [==============================] - 1s 1ms/step - loss: 5.0363 - val_loss: 5.3558\n",
      "Epoch 13/15\n",
      "631/631 [==============================] - 1s 1ms/step - loss: 5.0317 - val_loss: 5.3936\n",
      "Epoch 14/15\n",
      "631/631 [==============================] - 1s 1ms/step - loss: 5.0103 - val_loss: 5.3744\n",
      "Epoch 15/15\n",
      "631/631 [==============================] - 1s 1ms/step - loss: 4.9468 - val_loss: 5.6835\n"
     ]
    }
   ],
   "source": [
    "history_fwd = model_mlp_fwd.fit(x_train_fwd, y_train_fwd,\n",
    "                        batch_size=16,\n",
    "                        epochs=15,\n",
    "                        validation_split=0.3)"
   ],
   "metadata": {
    "collapsed": false,
    "pycharm": {
     "name": "#%%\n"
    }
   }
  },
  {
   "cell_type": "code",
   "execution_count": 43,
   "outputs": [
    {
     "name": "stdout",
     "output_type": "stream",
     "text": [
      "Test loss: 5.272583484649658\n"
     ]
    }
   ],
   "source": [
    "score_fwd = model_mlp_fwd.evaluate(x_test_fwd, y_test_fwd, verbose=0)\n",
    "print('Test loss:', score_fwd)"
   ],
   "metadata": {
    "collapsed": false,
    "pycharm": {
     "name": "#%%\n"
    }
   }
  },
  {
   "cell_type": "markdown",
   "source": [
    "## Train on baseline XGBoost model"
   ],
   "metadata": {
    "collapsed": false,
    "pycharm": {
     "name": "#%% md\n"
    }
   }
  },
  {
   "cell_type": "code",
   "execution_count": 44,
   "outputs": [],
   "source": [
    "import xgboost as xgb"
   ],
   "metadata": {
    "collapsed": false,
    "pycharm": {
     "name": "#%%\n"
    }
   }
  },
  {
   "cell_type": "markdown",
   "source": [
    "### XGB GK"
   ],
   "metadata": {
    "collapsed": false,
    "pycharm": {
     "name": "#%% md\n"
    }
   }
  },
  {
   "cell_type": "code",
   "execution_count": 45,
   "outputs": [],
   "source": [
    "model_xgb_gk = xgb.XGBRegressor()"
   ],
   "metadata": {
    "collapsed": false,
    "pycharm": {
     "name": "#%%\n"
    }
   }
  },
  {
   "cell_type": "code",
   "execution_count": 46,
   "outputs": [
    {
     "data": {
      "text/plain": "XGBRegressor(base_score=0.5, booster='gbtree', callbacks=None,\n             colsample_bylevel=1, colsample_bynode=1, colsample_bytree=1,\n             early_stopping_rounds=None, enable_categorical=False,\n             eval_metric=None, gamma=0, gpu_id=-1, grow_policy='depthwise',\n             importance_type=None, interaction_constraints='',\n             learning_rate=0.300000012, max_bin=256, max_cat_to_onehot=4,\n             max_delta_step=0, max_depth=6, max_leaves=0, min_child_weight=1,\n             missing=nan, monotone_constraints='()', n_estimators=100, n_jobs=0,\n             num_parallel_tree=1, predictor='auto', random_state=0, reg_alpha=0,\n             reg_lambda=1, ...)"
     },
     "execution_count": 46,
     "metadata": {},
     "output_type": "execute_result"
    }
   ],
   "source": [
    "model_xgb_gk.fit(x_train_gk, y_train_gk)"
   ],
   "metadata": {
    "collapsed": false,
    "pycharm": {
     "name": "#%%\n"
    }
   }
  },
  {
   "cell_type": "code",
   "execution_count": 47,
   "outputs": [],
   "source": [
    "# create series to keep indexes and name same as in the original y data\n",
    "y_pred_xgb_gk = pd.Series(model_xgb_gk.predict(x_test_gk), index=y_test_gk.index,\n",
    "                       name='predicted_total_points_next_gameweek')"
   ],
   "metadata": {
    "collapsed": false,
    "pycharm": {
     "name": "#%%\n"
    }
   }
  },
  {
   "cell_type": "code",
   "execution_count": 48,
   "outputs": [
    {
     "data": {
      "text/plain": "3.1491762980915836"
     },
     "execution_count": 48,
     "metadata": {},
     "output_type": "execute_result"
    }
   ],
   "source": [
    "mean_squared_error(y_pred_xgb_gk, y_test_gk)"
   ],
   "metadata": {
    "collapsed": false,
    "pycharm": {
     "name": "#%%\n"
    }
   }
  },
  {
   "cell_type": "markdown",
   "source": [
    "### XGB DEF"
   ],
   "metadata": {
    "collapsed": false,
    "pycharm": {
     "name": "#%% md\n"
    }
   }
  },
  {
   "cell_type": "code",
   "execution_count": 49,
   "outputs": [],
   "source": [
    "model_xgb_def = xgb.XGBRegressor()"
   ],
   "metadata": {
    "collapsed": false,
    "pycharm": {
     "name": "#%%\n"
    }
   }
  },
  {
   "cell_type": "code",
   "execution_count": 50,
   "outputs": [
    {
     "data": {
      "text/plain": "XGBRegressor(base_score=0.5, booster='gbtree', callbacks=None,\n             colsample_bylevel=1, colsample_bynode=1, colsample_bytree=1,\n             early_stopping_rounds=None, enable_categorical=False,\n             eval_metric=None, gamma=0, gpu_id=-1, grow_policy='depthwise',\n             importance_type=None, interaction_constraints='',\n             learning_rate=0.300000012, max_bin=256, max_cat_to_onehot=4,\n             max_delta_step=0, max_depth=6, max_leaves=0, min_child_weight=1,\n             missing=nan, monotone_constraints='()', n_estimators=100, n_jobs=0,\n             num_parallel_tree=1, predictor='auto', random_state=0, reg_alpha=0,\n             reg_lambda=1, ...)"
     },
     "execution_count": 50,
     "metadata": {},
     "output_type": "execute_result"
    }
   ],
   "source": [
    "model_xgb_def.fit(x_train_def, y_train_def)"
   ],
   "metadata": {
    "collapsed": false,
    "pycharm": {
     "name": "#%%\n"
    }
   }
  },
  {
   "cell_type": "code",
   "execution_count": 51,
   "outputs": [],
   "source": [
    "# create series to keep indexes and name same as in the original y data\n",
    "y_pred_xgb_def = pd.Series(model_xgb_def.predict(x_test_def), index=y_test_def.index,\n",
    "                       name='predicted_total_points_next_gameweek')"
   ],
   "metadata": {
    "collapsed": false,
    "pycharm": {
     "name": "#%%\n"
    }
   }
  },
  {
   "cell_type": "code",
   "execution_count": 52,
   "outputs": [
    {
     "data": {
      "text/plain": "4.881946248012564"
     },
     "execution_count": 52,
     "metadata": {},
     "output_type": "execute_result"
    }
   ],
   "source": [
    "mean_squared_error(y_pred_xgb_def, y_test_def)"
   ],
   "metadata": {
    "collapsed": false,
    "pycharm": {
     "name": "#%%\n"
    }
   }
  },
  {
   "cell_type": "markdown",
   "source": [
    "### XGB MID"
   ],
   "metadata": {
    "collapsed": false,
    "pycharm": {
     "name": "#%% md\n"
    }
   }
  },
  {
   "cell_type": "code",
   "execution_count": 53,
   "outputs": [],
   "source": [
    "model_xgb_mid = xgb.XGBRegressor()"
   ],
   "metadata": {
    "collapsed": false,
    "pycharm": {
     "name": "#%%\n"
    }
   }
  },
  {
   "cell_type": "code",
   "execution_count": 54,
   "outputs": [
    {
     "data": {
      "text/plain": "XGBRegressor(base_score=0.5, booster='gbtree', callbacks=None,\n             colsample_bylevel=1, colsample_bynode=1, colsample_bytree=1,\n             early_stopping_rounds=None, enable_categorical=False,\n             eval_metric=None, gamma=0, gpu_id=-1, grow_policy='depthwise',\n             importance_type=None, interaction_constraints='',\n             learning_rate=0.300000012, max_bin=256, max_cat_to_onehot=4,\n             max_delta_step=0, max_depth=6, max_leaves=0, min_child_weight=1,\n             missing=nan, monotone_constraints='()', n_estimators=100, n_jobs=0,\n             num_parallel_tree=1, predictor='auto', random_state=0, reg_alpha=0,\n             reg_lambda=1, ...)"
     },
     "execution_count": 54,
     "metadata": {},
     "output_type": "execute_result"
    }
   ],
   "source": [
    "model_xgb_mid.fit(x_train_mid, y_train_mid)"
   ],
   "metadata": {
    "collapsed": false,
    "pycharm": {
     "name": "#%%\n"
    }
   }
  },
  {
   "cell_type": "code",
   "execution_count": 55,
   "outputs": [],
   "source": [
    "# create series to keep indexes and name same as in the original y data\n",
    "y_pred_xgb_mid = pd.Series(model_xgb_mid.predict(x_test_mid), index=y_test_mid.index,\n",
    "                       name='predicted_total_points_next_gameweek')"
   ],
   "metadata": {
    "collapsed": false,
    "pycharm": {
     "name": "#%%\n"
    }
   }
  },
  {
   "cell_type": "code",
   "execution_count": 56,
   "outputs": [
    {
     "data": {
      "text/plain": "4.638671892398152"
     },
     "execution_count": 56,
     "metadata": {},
     "output_type": "execute_result"
    }
   ],
   "source": [
    "mean_squared_error(y_pred_xgb_mid, y_test_mid)"
   ],
   "metadata": {
    "collapsed": false,
    "pycharm": {
     "name": "#%%\n"
    }
   }
  },
  {
   "cell_type": "markdown",
   "source": [
    "### XGB FWD"
   ],
   "metadata": {
    "collapsed": false,
    "pycharm": {
     "name": "#%% md\n"
    }
   }
  },
  {
   "cell_type": "code",
   "execution_count": 57,
   "outputs": [],
   "source": [
    "model_xgb_fwd = xgb.XGBRegressor()"
   ],
   "metadata": {
    "collapsed": false,
    "pycharm": {
     "name": "#%%\n"
    }
   }
  },
  {
   "cell_type": "code",
   "execution_count": 58,
   "outputs": [
    {
     "data": {
      "text/plain": "XGBRegressor(base_score=0.5, booster='gbtree', callbacks=None,\n             colsample_bylevel=1, colsample_bynode=1, colsample_bytree=1,\n             early_stopping_rounds=None, enable_categorical=False,\n             eval_metric=None, gamma=0, gpu_id=-1, grow_policy='depthwise',\n             importance_type=None, interaction_constraints='',\n             learning_rate=0.300000012, max_bin=256, max_cat_to_onehot=4,\n             max_delta_step=0, max_depth=6, max_leaves=0, min_child_weight=1,\n             missing=nan, monotone_constraints='()', n_estimators=100, n_jobs=0,\n             num_parallel_tree=1, predictor='auto', random_state=0, reg_alpha=0,\n             reg_lambda=1, ...)"
     },
     "execution_count": 58,
     "metadata": {},
     "output_type": "execute_result"
    }
   ],
   "source": [
    "model_xgb_fwd.fit(x_train_fwd, y_train_fwd)"
   ],
   "metadata": {
    "collapsed": false,
    "pycharm": {
     "name": "#%%\n"
    }
   }
  },
  {
   "cell_type": "code",
   "execution_count": 59,
   "outputs": [],
   "source": [
    "# create series to keep indexes and name same as in the original y data\n",
    "y_pred_xgb_fwd = pd.Series(model_xgb_fwd.predict(x_test_fwd), index=y_test_fwd.index,\n",
    "                       name='predicted_total_points_next_gameweek')"
   ],
   "metadata": {
    "collapsed": false,
    "pycharm": {
     "name": "#%%\n"
    }
   }
  },
  {
   "cell_type": "code",
   "execution_count": 60,
   "outputs": [
    {
     "data": {
      "text/plain": "5.72651565642211"
     },
     "execution_count": 60,
     "metadata": {},
     "output_type": "execute_result"
    }
   ],
   "source": [
    "mean_squared_error(y_pred_xgb_fwd, y_test_fwd)"
   ],
   "metadata": {
    "collapsed": false,
    "pycharm": {
     "name": "#%%\n"
    }
   }
  },
  {
   "cell_type": "markdown",
   "source": [
    "## Models separated field and gk"
   ],
   "metadata": {
    "collapsed": false,
    "pycharm": {
     "name": "#%% md\n"
    }
   }
  },
  {
   "cell_type": "code",
   "execution_count": 61,
   "outputs": [],
   "source": [
    "# load data by position\n",
    "data_intermediate_path = os.path.dirname(os.getcwd()) + '\\\\data\\\\intermediate\\\\'\n",
    "\n",
    "data_gk = pd.read_csv(data_intermediate_path + 'separate/gk.csv')\n",
    "data_field = pd.read_csv(data_intermediate_path + 'separate/field.csv')"
   ],
   "metadata": {
    "collapsed": false,
    "pycharm": {
     "name": "#%%\n"
    }
   }
  },
  {
   "cell_type": "code",
   "execution_count": 62,
   "outputs": [],
   "source": [
    "rolling_columns_field = ['assists', 'bonus', 'bps', 'clean_sheets', 'creativity', 'goals_conceded', 'goals_scored',\n",
    "                       'ict_index', 'influence', 'minutes', 'selected', 'player_team_score', 'opponent_team_score',\n",
    "                       'threat', 'total_points', 'transfers_in', 'transfers_out', 'value', 'yellow_cards']"
   ],
   "metadata": {
    "collapsed": false,
    "pycharm": {
     "name": "#%%\n"
    }
   }
  },
  {
   "cell_type": "code",
   "execution_count": null,
   "outputs": [],
   "source": [
    "(x_train_gk, y_train_gk), (x_test_gk, y_test_gk), (x_train_target_gk, x_test_target_gk), x_scaler_gk = preprocess_seasons_data(data_gk, random_split=True, test_subset=test_subset_XL, rolling_features=True, rolling_columns=rolling_columns_gk, rolling_times=times, opponent_team_stats=True)\n",
    "\n",
    "(x_train_field, y_train_field), (x_test_field, y_test_field), (x_train_target_field, x_test_target_field), x_scaler_field = preprocess_seasons_data(data_field, random_split=True, test_subset=test_subset_XL, rolling_features=True, rolling_columns=rolling_columns_field, rolling_times=times, opponent_team_stats=True)"
   ],
   "metadata": {
    "collapsed": false,
    "pycharm": {
     "name": "#%%\n"
    }
   }
  },
  {
   "cell_type": "markdown",
   "source": [
    "### Dummy regressor"
   ],
   "metadata": {
    "collapsed": false,
    "pycharm": {
     "name": "#%% md\n"
    }
   }
  },
  {
   "cell_type": "code",
   "execution_count": 64,
   "outputs": [
    {
     "data": {
      "text/plain": "DummyRegressor()"
     },
     "execution_count": 64,
     "metadata": {},
     "output_type": "execute_result"
    }
   ],
   "source": [
    "dummy_regr_gk = DummyRegressor(strategy=\"mean\")\n",
    "dummy_regr_gk.fit(x_train_gk, y_train_gk)\n",
    "\n",
    "dummy_regr_field = DummyRegressor(strategy=\"mean\")\n",
    "dummy_regr_field.fit(x_train_field, y_train_field)"
   ],
   "metadata": {
    "collapsed": false,
    "pycharm": {
     "name": "#%%\n"
    }
   }
  },
  {
   "cell_type": "code",
   "execution_count": 65,
   "outputs": [],
   "source": [
    "y_pred_gk = dummy_regr_gk.predict(x_test_gk)\n",
    "y_pred_field = dummy_regr_field.predict(x_test_field)"
   ],
   "metadata": {
    "collapsed": false,
    "pycharm": {
     "name": "#%%\n"
    }
   }
  },
  {
   "cell_type": "code",
   "execution_count": 66,
   "outputs": [
    {
     "data": {
      "text/plain": "4.898789656592843"
     },
     "execution_count": 66,
     "metadata": {},
     "output_type": "execute_result"
    }
   ],
   "source": [
    "mean_squared_error(y_pred_gk, y_test_gk)"
   ],
   "metadata": {
    "collapsed": false,
    "pycharm": {
     "name": "#%%\n"
    }
   }
  },
  {
   "cell_type": "code",
   "execution_count": 67,
   "outputs": [
    {
     "data": {
      "text/plain": "6.620080025357256"
     },
     "execution_count": 67,
     "metadata": {},
     "output_type": "execute_result"
    }
   ],
   "source": [
    "mean_squared_error(y_pred_field, y_test_field)"
   ],
   "metadata": {
    "collapsed": false,
    "pycharm": {
     "name": "#%%\n"
    }
   }
  },
  {
   "cell_type": "markdown",
   "source": [
    "### MLP GK"
   ],
   "metadata": {
    "collapsed": false,
    "pycharm": {
     "name": "#%% md\n"
    }
   }
  },
  {
   "cell_type": "code",
   "execution_count": 68,
   "outputs": [],
   "source": [
    "model_mlp_gk = tf.keras.models.Sequential()\n",
    "\n",
    "model_mlp_gk.add(tf.keras.layers.Dense(units=128, activation='relu', input_shape=(x_train_gk.shape[1],)))\n",
    "model_mlp_gk.add(tf.keras.layers.Dense(units=256, activation='relu'))\n",
    "model_mlp_gk.add(tf.keras.layers.Dense(units=64, activation='relu'))\n",
    "model_mlp_gk.add(tf.keras.layers.Dense(units=1, activation='linear'))\n"
   ],
   "metadata": {
    "collapsed": false,
    "pycharm": {
     "name": "#%%\n"
    }
   }
  },
  {
   "cell_type": "code",
   "execution_count": 69,
   "outputs": [],
   "source": [
    "model_mlp_gk.compile(optimizer='adam',\n",
    "                  loss='mse')"
   ],
   "metadata": {
    "collapsed": false,
    "pycharm": {
     "name": "#%%model_mlp.compile(optimizer='adam', loss='mse')\n"
    }
   }
  },
  {
   "cell_type": "code",
   "execution_count": 70,
   "outputs": [
    {
     "name": "stdout",
     "output_type": "stream",
     "text": [
      "Epoch 1/15\n",
      "492/492 [==============================] - 1s 1ms/step - loss: 3.0985 - val_loss: 3.1441\n",
      "Epoch 2/15\n",
      "492/492 [==============================] - 1s 1ms/step - loss: 3.0070 - val_loss: 3.0397\n",
      "Epoch 3/15\n",
      "492/492 [==============================] - 1s 1ms/step - loss: 2.9489 - val_loss: 3.0665\n",
      "Epoch 4/15\n",
      "492/492 [==============================] - 1s 1ms/step - loss: 2.9463 - val_loss: 3.1107\n",
      "Epoch 5/15\n",
      "492/492 [==============================] - 1s 1ms/step - loss: 2.9491 - val_loss: 3.0903\n",
      "Epoch 6/15\n",
      "492/492 [==============================] - 1s 1ms/step - loss: 2.9335 - val_loss: 3.0337\n",
      "Epoch 7/15\n",
      "492/492 [==============================] - 1s 1ms/step - loss: 2.9103 - val_loss: 3.0669\n",
      "Epoch 8/15\n",
      "492/492 [==============================] - 1s 1ms/step - loss: 2.8777 - val_loss: 3.5968\n",
      "Epoch 9/15\n",
      "492/492 [==============================] - 1s 1ms/step - loss: 2.8897 - val_loss: 3.0518\n",
      "Epoch 10/15\n",
      "492/492 [==============================] - 1s 1ms/step - loss: 2.8687 - val_loss: 3.0848\n",
      "Epoch 11/15\n",
      "492/492 [==============================] - 0s 1ms/step - loss: 2.8708 - val_loss: 3.2056\n",
      "Epoch 12/15\n",
      "492/492 [==============================] - 1s 1ms/step - loss: 2.8498 - val_loss: 3.0841\n",
      "Epoch 13/15\n",
      "492/492 [==============================] - 1s 1ms/step - loss: 2.8214 - val_loss: 3.1219\n",
      "Epoch 14/15\n",
      "492/492 [==============================] - 1s 1ms/step - loss: 2.8031 - val_loss: 3.1015\n",
      "Epoch 15/15\n",
      "492/492 [==============================] - 1s 1ms/step - loss: 2.7870 - val_loss: 3.1509\n"
     ]
    }
   ],
   "source": [
    "history_gk = model_mlp_gk.fit(x_train_gk, y_train_gk,\n",
    "                        batch_size=16,\n",
    "                        epochs=15,\n",
    "                        validation_split=0.3)"
   ],
   "metadata": {
    "collapsed": false,
    "pycharm": {
     "name": "#%%\n"
    }
   }
  },
  {
   "cell_type": "code",
   "execution_count": 71,
   "outputs": [
    {
     "name": "stdout",
     "output_type": "stream",
     "text": [
      "Test loss: 2.7077624797821045\n"
     ]
    }
   ],
   "source": [
    "score_gk = model_mlp_gk.evaluate(x_test_gk, y_test_gk, verbose=0)\n",
    "print('Test loss:', score_gk)"
   ],
   "metadata": {
    "collapsed": false,
    "pycharm": {
     "name": "#%%\n"
    }
   }
  },
  {
   "cell_type": "markdown",
   "source": [
    "### MLP field"
   ],
   "metadata": {
    "collapsed": false,
    "pycharm": {
     "name": "#%% md\n"
    }
   }
  },
  {
   "cell_type": "code",
   "execution_count": 72,
   "outputs": [],
   "source": [
    "model_mlp_field = tf.keras.models.Sequential()\n",
    "\n",
    "model_mlp_field.add(tf.keras.layers.Dense(units=128, activation='relu', input_shape=(x_train_field.shape[1],)))\n",
    "model_mlp_field.add(tf.keras.layers.Dense(units=256, activation='relu'))\n",
    "model_mlp_field.add(tf.keras.layers.Dense(units=64, activation='relu'))\n",
    "model_mlp_field.add(tf.keras.layers.Dense(units=1, activation='linear'))\n"
   ],
   "metadata": {
    "collapsed": false,
    "pycharm": {
     "name": "#%%\n"
    }
   }
  },
  {
   "cell_type": "code",
   "execution_count": 73,
   "outputs": [],
   "source": [
    "model_mlp_field.compile(optimizer='adam',\n",
    "                  loss='mse')"
   ],
   "metadata": {
    "collapsed": false,
    "pycharm": {
     "name": "#%%model_mlp.compile(optimizer='adam', loss='mse')\n"
    }
   }
  },
  {
   "cell_type": "code",
   "execution_count": 74,
   "outputs": [
    {
     "name": "stdout",
     "output_type": "stream",
     "text": [
      "Epoch 1/15\n",
      "4034/4034 [==============================] - 5s 1ms/step - loss: 4.7041 - val_loss: 4.4676\n",
      "Epoch 2/15\n",
      "4034/4034 [==============================] - 4s 1ms/step - loss: 4.6452 - val_loss: 4.5260\n",
      "Epoch 3/15\n",
      "4034/4034 [==============================] - 4s 1ms/step - loss: 4.6145 - val_loss: 4.4450\n",
      "Epoch 4/15\n",
      "4034/4034 [==============================] - 4s 998us/step - loss: 4.6057 - val_loss: 4.4671\n",
      "Epoch 5/15\n",
      "4034/4034 [==============================] - 4s 1ms/step - loss: 4.5943 - val_loss: 4.4788\n",
      "Epoch 6/15\n",
      "4034/4034 [==============================] - 4s 1ms/step - loss: 4.5884 - val_loss: 4.4751\n",
      "Epoch 7/15\n",
      "4034/4034 [==============================] - 4s 1ms/step - loss: 4.5851 - val_loss: 4.4476\n",
      "Epoch 8/15\n",
      "4034/4034 [==============================] - 4s 1ms/step - loss: 4.5824 - val_loss: 4.4370\n",
      "Epoch 9/15\n",
      "4034/4034 [==============================] - 4s 1ms/step - loss: 4.5728 - val_loss: 4.4940\n",
      "Epoch 10/15\n",
      "4034/4034 [==============================] - 4s 1ms/step - loss: 4.5629 - val_loss: 4.4521\n",
      "Epoch 11/15\n",
      "4034/4034 [==============================] - 4s 1ms/step - loss: 4.5600 - val_loss: 4.4403\n",
      "Epoch 12/15\n",
      "4034/4034 [==============================] - 4s 1ms/step - loss: 4.5544 - val_loss: 4.4439\n",
      "Epoch 13/15\n",
      "4034/4034 [==============================] - 4s 1ms/step - loss: 4.5427 - val_loss: 4.4650\n",
      "Epoch 14/15\n",
      "4034/4034 [==============================] - 4s 1ms/step - loss: 4.5448 - val_loss: 4.4738\n",
      "Epoch 15/15\n",
      "4034/4034 [==============================] - 4s 1ms/step - loss: 4.5310 - val_loss: 4.4753\n"
     ]
    }
   ],
   "source": [
    "history_field = model_mlp_field.fit(x_train_field, y_train_field,\n",
    "                        batch_size=16,\n",
    "                        epochs=15,\n",
    "                        validation_split=0.3)"
   ],
   "metadata": {
    "collapsed": false,
    "pycharm": {
     "name": "#%%\n"
    }
   }
  },
  {
   "cell_type": "code",
   "execution_count": 75,
   "outputs": [
    {
     "name": "stdout",
     "output_type": "stream",
     "text": [
      "Test loss: 4.823612689971924\n"
     ]
    }
   ],
   "source": [
    "score_field = model_mlp_field.evaluate(x_test_field, y_test_field, verbose=0)\n",
    "print('Test loss:', score_field)"
   ],
   "metadata": {
    "collapsed": false,
    "pycharm": {
     "name": "#%%\n"
    }
   }
  },
  {
   "cell_type": "markdown",
   "source": [
    "### XGB GK"
   ],
   "metadata": {
    "collapsed": false,
    "pycharm": {
     "name": "#%% md\n"
    }
   }
  },
  {
   "cell_type": "code",
   "execution_count": 76,
   "outputs": [],
   "source": [
    "model_xgb_gk = xgb.XGBRegressor()"
   ],
   "metadata": {
    "collapsed": false,
    "pycharm": {
     "name": "#%%\n"
    }
   }
  },
  {
   "cell_type": "code",
   "execution_count": 77,
   "outputs": [
    {
     "data": {
      "text/plain": "XGBRegressor(base_score=0.5, booster='gbtree', callbacks=None,\n             colsample_bylevel=1, colsample_bynode=1, colsample_bytree=1,\n             early_stopping_rounds=None, enable_categorical=False,\n             eval_metric=None, gamma=0, gpu_id=-1, grow_policy='depthwise',\n             importance_type=None, interaction_constraints='',\n             learning_rate=0.300000012, max_bin=256, max_cat_to_onehot=4,\n             max_delta_step=0, max_depth=6, max_leaves=0, min_child_weight=1,\n             missing=nan, monotone_constraints='()', n_estimators=100, n_jobs=0,\n             num_parallel_tree=1, predictor='auto', random_state=0, reg_alpha=0,\n             reg_lambda=1, ...)"
     },
     "execution_count": 77,
     "metadata": {},
     "output_type": "execute_result"
    }
   ],
   "source": [
    "model_xgb_gk.fit(x_train_gk, y_train_gk)"
   ],
   "metadata": {
    "collapsed": false,
    "pycharm": {
     "name": "#%%\n"
    }
   }
  },
  {
   "cell_type": "code",
   "execution_count": 78,
   "outputs": [],
   "source": [
    "# create series to keep indexes and name same as in the original y data\n",
    "y_pred_xgb_gk = pd.Series(model_xgb_gk.predict(x_test_gk), index=y_test_gk.index,\n",
    "                       name='predicted_total_points_next_gameweek')"
   ],
   "metadata": {
    "collapsed": false,
    "pycharm": {
     "name": "#%%\n"
    }
   }
  },
  {
   "cell_type": "code",
   "execution_count": 79,
   "outputs": [
    {
     "data": {
      "text/plain": "3.1491762980915836"
     },
     "execution_count": 79,
     "metadata": {},
     "output_type": "execute_result"
    }
   ],
   "source": [
    "mean_squared_error(y_pred_xgb_gk, y_test_gk)"
   ],
   "metadata": {
    "collapsed": false,
    "pycharm": {
     "name": "#%%\n"
    }
   }
  },
  {
   "cell_type": "markdown",
   "source": [
    "### XGB field"
   ],
   "metadata": {
    "collapsed": false,
    "pycharm": {
     "name": "#%% md\n"
    }
   }
  },
  {
   "cell_type": "code",
   "execution_count": 80,
   "outputs": [],
   "source": [
    "model_xgb_field = xgb.XGBRegressor()"
   ],
   "metadata": {
    "collapsed": false,
    "pycharm": {
     "name": "#%%\n"
    }
   }
  },
  {
   "cell_type": "code",
   "execution_count": 81,
   "outputs": [
    {
     "data": {
      "text/plain": "XGBRegressor(base_score=0.5, booster='gbtree', callbacks=None,\n             colsample_bylevel=1, colsample_bynode=1, colsample_bytree=1,\n             early_stopping_rounds=None, enable_categorical=False,\n             eval_metric=None, gamma=0, gpu_id=-1, grow_policy='depthwise',\n             importance_type=None, interaction_constraints='',\n             learning_rate=0.300000012, max_bin=256, max_cat_to_onehot=4,\n             max_delta_step=0, max_depth=6, max_leaves=0, min_child_weight=1,\n             missing=nan, monotone_constraints='()', n_estimators=100, n_jobs=0,\n             num_parallel_tree=1, predictor='auto', random_state=0, reg_alpha=0,\n             reg_lambda=1, ...)"
     },
     "execution_count": 81,
     "metadata": {},
     "output_type": "execute_result"
    }
   ],
   "source": [
    "model_xgb_field.fit(x_train_field, y_train_field)"
   ],
   "metadata": {
    "collapsed": false,
    "pycharm": {
     "name": "#%%\n"
    }
   }
  },
  {
   "cell_type": "code",
   "execution_count": 82,
   "outputs": [],
   "source": [
    "# create series to keep indexes and name same as in the original y data\n",
    "y_pred_xgb_field = pd.Series(model_xgb_field.predict(x_test_field), index=y_test_field.index,\n",
    "                       name='predicted_total_points_next_gameweek')"
   ],
   "metadata": {
    "collapsed": false,
    "pycharm": {
     "name": "#%%\n"
    }
   }
  },
  {
   "cell_type": "code",
   "execution_count": 83,
   "outputs": [
    {
     "data": {
      "text/plain": "4.995369267983375"
     },
     "execution_count": 83,
     "metadata": {},
     "output_type": "execute_result"
    }
   ],
   "source": [
    "mean_squared_error(y_pred_xgb_field, y_test_field)"
   ],
   "metadata": {
    "collapsed": false,
    "pycharm": {
     "name": "#%%\n"
    }
   }
  },
  {
   "cell_type": "code",
   "execution_count": null,
   "outputs": [],
   "source": [],
   "metadata": {
    "collapsed": false,
    "pycharm": {
     "name": "#%%\n"
    }
   }
  }
 ],
 "metadata": {
  "kernelspec": {
   "display_name": "Python 3",
   "language": "python",
   "name": "python3"
  },
  "language_info": {
   "codemirror_mode": {
    "name": "ipython",
    "version": 2
   },
   "file_extension": ".py",
   "mimetype": "text/x-python",
   "name": "python",
   "nbconvert_exporter": "python",
   "pygments_lexer": "ipython2",
   "version": "2.7.6"
  }
 },
 "nbformat": 4,
 "nbformat_minor": 0
}