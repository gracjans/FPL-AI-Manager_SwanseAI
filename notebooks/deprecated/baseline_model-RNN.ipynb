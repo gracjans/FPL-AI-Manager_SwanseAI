{
 "cells": [
  {
   "cell_type": "markdown",
   "source": [
    "# Baseline model traning and prediction **(notebook deprecated)**\n",
    "**NOTE: I initially tried to use the LSTM model, but after more thought, I decided to use the MLP model.**\n",
    "~~It's baseline model traning and prediction. **This model uses only data from FPL, and it's build with simple RNN.**~~"
   ],
   "metadata": {
    "collapsed": false,
    "pycharm": {
     "name": "#%% md\n"
    }
   }
  },
  {
   "cell_type": "code",
   "execution_count": 26,
   "outputs": [],
   "source": [
    "# import libraries\n",
    "import os\n",
    "import pandas as pd\n",
    "import numpy as np\n",
    "import matplotlib.pyplot as plt\n",
    "from sklearn.preprocessing import MinMaxScaler\n",
    "from keras.preprocessing.sequence import TimeseriesGenerator\n",
    "from keras.models import Sequential\n",
    "from keras.layers import Dense\n",
    "from keras.layers import LSTM"
   ],
   "metadata": {
    "collapsed": false,
    "pycharm": {
     "name": "#%%#import libraries\n"
    }
   }
  },
  {
   "cell_type": "code",
   "execution_count": 27,
   "outputs": [],
   "source": [
    "data_path = os.path.dirname(os.getcwd()) + '\\\\data\\\\Fantasy-Premier-League'\n",
    "merged_gw_2021_path = data_path + '\\\\2020-21\\\\gws\\\\merged_gw.csv'"
   ],
   "metadata": {
    "collapsed": false,
    "pycharm": {
     "name": "#%%\n"
    }
   }
  },
  {
   "cell_type": "code",
   "execution_count": 28,
   "outputs": [],
   "source": [
    "merged_gw_2021 = pd.read_csv(merged_gw_2021_path, encoding='latin-1')"
   ],
   "metadata": {
    "collapsed": false,
    "pycharm": {
     "name": "#%%\n"
    }
   }
  },
  {
   "cell_type": "code",
   "execution_count": 29,
   "outputs": [
    {
     "data": {
      "text/plain": "(24365, 36)"
     },
     "execution_count": 29,
     "metadata": {},
     "output_type": "execute_result"
    }
   ],
   "source": [
    "merged_gw_2021.shape"
   ],
   "metadata": {
    "collapsed": false,
    "pycharm": {
     "name": "#%%\n"
    }
   }
  },
  {
   "cell_type": "code",
   "execution_count": 30,
   "outputs": [
    {
     "data": {
      "text/plain": "                  name position           team   xP  assists  bonus  bps  \\\n0       Aaron Connolly      FWD       Brighton  0.5        0      0   -3   \n1      Aaron Cresswell      DEF       West Ham  2.1        0      0   11   \n2           Aaron Mooy      MID       Brighton  0.0        0      0    0   \n3       Aaron Ramsdale       GK  Sheffield Utd  2.5        0      0   12   \n4  Abdoulaye DoucourÃ©      MID        Everton  1.3        0      0   20   \n\n   clean_sheets  creativity  element  ...  team_h_score  threat  total_points  \\\n0             0         0.3       78  ...             1    32.0             1   \n1             0        11.2      435  ...             0     0.0             1   \n2             0         0.0       60  ...             1     0.0             0   \n3             0         0.0      483  ...             0     0.0             1   \n4             1        44.6      512  ...             0     4.0             3   \n\n   transfers_balance  transfers_in transfers_out  value  was_home  \\\n0                  0             0             0     55      True   \n1                  0             0             0     50      True   \n2                  0             0             0     50      True   \n3                  0             0             0     50      True   \n4                  0             0             0     55     False   \n\n   yellow_cards  GW  \n0             0   1  \n1             0   1  \n2             0   1  \n3             0   1  \n4             0   1  \n\n[5 rows x 36 columns]",
      "text/html": "<div>\n<style scoped>\n    .dataframe tbody tr th:only-of-type {\n        vertical-align: middle;\n    }\n\n    .dataframe tbody tr th {\n        vertical-align: top;\n    }\n\n    .dataframe thead th {\n        text-align: right;\n    }\n</style>\n<table border=\"1\" class=\"dataframe\">\n  <thead>\n    <tr style=\"text-align: right;\">\n      <th></th>\n      <th>name</th>\n      <th>position</th>\n      <th>team</th>\n      <th>xP</th>\n      <th>assists</th>\n      <th>bonus</th>\n      <th>bps</th>\n      <th>clean_sheets</th>\n      <th>creativity</th>\n      <th>element</th>\n      <th>...</th>\n      <th>team_h_score</th>\n      <th>threat</th>\n      <th>total_points</th>\n      <th>transfers_balance</th>\n      <th>transfers_in</th>\n      <th>transfers_out</th>\n      <th>value</th>\n      <th>was_home</th>\n      <th>yellow_cards</th>\n      <th>GW</th>\n    </tr>\n  </thead>\n  <tbody>\n    <tr>\n      <th>0</th>\n      <td>Aaron Connolly</td>\n      <td>FWD</td>\n      <td>Brighton</td>\n      <td>0.5</td>\n      <td>0</td>\n      <td>0</td>\n      <td>-3</td>\n      <td>0</td>\n      <td>0.3</td>\n      <td>78</td>\n      <td>...</td>\n      <td>1</td>\n      <td>32.0</td>\n      <td>1</td>\n      <td>0</td>\n      <td>0</td>\n      <td>0</td>\n      <td>55</td>\n      <td>True</td>\n      <td>0</td>\n      <td>1</td>\n    </tr>\n    <tr>\n      <th>1</th>\n      <td>Aaron Cresswell</td>\n      <td>DEF</td>\n      <td>West Ham</td>\n      <td>2.1</td>\n      <td>0</td>\n      <td>0</td>\n      <td>11</td>\n      <td>0</td>\n      <td>11.2</td>\n      <td>435</td>\n      <td>...</td>\n      <td>0</td>\n      <td>0.0</td>\n      <td>1</td>\n      <td>0</td>\n      <td>0</td>\n      <td>0</td>\n      <td>50</td>\n      <td>True</td>\n      <td>0</td>\n      <td>1</td>\n    </tr>\n    <tr>\n      <th>2</th>\n      <td>Aaron Mooy</td>\n      <td>MID</td>\n      <td>Brighton</td>\n      <td>0.0</td>\n      <td>0</td>\n      <td>0</td>\n      <td>0</td>\n      <td>0</td>\n      <td>0.0</td>\n      <td>60</td>\n      <td>...</td>\n      <td>1</td>\n      <td>0.0</td>\n      <td>0</td>\n      <td>0</td>\n      <td>0</td>\n      <td>0</td>\n      <td>50</td>\n      <td>True</td>\n      <td>0</td>\n      <td>1</td>\n    </tr>\n    <tr>\n      <th>3</th>\n      <td>Aaron Ramsdale</td>\n      <td>GK</td>\n      <td>Sheffield Utd</td>\n      <td>2.5</td>\n      <td>0</td>\n      <td>0</td>\n      <td>12</td>\n      <td>0</td>\n      <td>0.0</td>\n      <td>483</td>\n      <td>...</td>\n      <td>0</td>\n      <td>0.0</td>\n      <td>1</td>\n      <td>0</td>\n      <td>0</td>\n      <td>0</td>\n      <td>50</td>\n      <td>True</td>\n      <td>0</td>\n      <td>1</td>\n    </tr>\n    <tr>\n      <th>4</th>\n      <td>Abdoulaye DoucourÃ©</td>\n      <td>MID</td>\n      <td>Everton</td>\n      <td>1.3</td>\n      <td>0</td>\n      <td>0</td>\n      <td>20</td>\n      <td>1</td>\n      <td>44.6</td>\n      <td>512</td>\n      <td>...</td>\n      <td>0</td>\n      <td>4.0</td>\n      <td>3</td>\n      <td>0</td>\n      <td>0</td>\n      <td>0</td>\n      <td>55</td>\n      <td>False</td>\n      <td>0</td>\n      <td>1</td>\n    </tr>\n  </tbody>\n</table>\n<p>5 rows × 36 columns</p>\n</div>"
     },
     "execution_count": 30,
     "metadata": {},
     "output_type": "execute_result"
    }
   ],
   "source": [
    "merged_gw_2021.head()"
   ],
   "metadata": {
    "collapsed": false,
    "pycharm": {
     "name": "#%%\n"
    }
   }
  },
  {
   "cell_type": "code",
   "execution_count": 31,
   "outputs": [],
   "source": [
    "# sort rows by column 'GW' ascending\n",
    "merged_gw_2021.sort_values(by='GW', inplace=True)"
   ],
   "metadata": {
    "collapsed": false,
    "pycharm": {
     "name": "#%%\n"
    }
   }
  },
  {
   "cell_type": "markdown",
   "source": [
    "## Data preprocessing"
   ],
   "metadata": {
    "collapsed": false,
    "pycharm": {
     "name": "#%% md\n"
    }
   }
  },
  {
   "cell_type": "code",
   "execution_count": 32,
   "outputs": [
    {
     "name": "stdout",
     "output_type": "stream",
     "text": [
      "Number of unique names:  712\n"
     ]
    }
   ],
   "source": [
    "# count number of unique names\n",
    "unique_names = merged_gw_2021['name'].nunique()\n",
    "print('Number of unique names: ', unique_names)"
   ],
   "metadata": {
    "collapsed": false,
    "pycharm": {
     "name": "#%%\n"
    }
   }
  },
  {
   "cell_type": "code",
   "execution_count": 33,
   "outputs": [],
   "source": [
    "# one hot encode 'element' column from merged_gw_2021\n",
    "merged_gw_2021 = pd.get_dummies(merged_gw_2021, columns=['element'])"
   ],
   "metadata": {
    "collapsed": false,
    "pycharm": {
     "name": "#%%\n"
    }
   }
  },
  {
   "cell_type": "code",
   "execution_count": 34,
   "outputs": [],
   "source": [
    "# one hot encode 'position' column from merged_gw_2021\n",
    "merged_gw_2021 = pd.get_dummies(merged_gw_2021, columns=['position'])"
   ],
   "metadata": {
    "collapsed": false,
    "pycharm": {
     "name": "#%%\n"
    }
   }
  },
  {
   "cell_type": "code",
   "execution_count": 35,
   "outputs": [
    {
     "data": {
      "text/plain": "                   name       team   xP  assists  bonus  bps  clean_sheets  \\\n0        Aaron Connolly   Brighton  0.5        0      0   -3             0   \n289  Maxime Le Marchand     Fulham  0.6        0      0    0             0   \n288        Matt Ritchie  Newcastle  0.7        0      0    0             0   \n287       Matt Phillips  West Brom  0.8        0      0    0             0   \n286          Matt Macey    Arsenal  2.0        0      0    0             0   \n\n     creativity  fixture  goals_conceded  ...  element_708  element_709  \\\n0           0.3        7               2  ...            0            0   \n289         0.0        2               0  ...            0            0   \n288         0.0        6               0  ...            0            0   \n287         0.0        5               0  ...            0            0   \n286         0.0        2               0  ...            0            0   \n\n     element_710 element_711  element_712  element_713  position_DEF  \\\n0              0           0            0            0             0   \n289            0           0            0            0             1   \n288            0           0            0            0             0   \n287            0           0            0            0             0   \n286            0           0            0            0             0   \n\n     position_FWD  position_GK  position_MID  \n0               1            0             0  \n289             0            0             0  \n288             0            0             1  \n287             0            0             1  \n286             0            1             0  \n\n[5 rows x 751 columns]",
      "text/html": "<div>\n<style scoped>\n    .dataframe tbody tr th:only-of-type {\n        vertical-align: middle;\n    }\n\n    .dataframe tbody tr th {\n        vertical-align: top;\n    }\n\n    .dataframe thead th {\n        text-align: right;\n    }\n</style>\n<table border=\"1\" class=\"dataframe\">\n  <thead>\n    <tr style=\"text-align: right;\">\n      <th></th>\n      <th>name</th>\n      <th>team</th>\n      <th>xP</th>\n      <th>assists</th>\n      <th>bonus</th>\n      <th>bps</th>\n      <th>clean_sheets</th>\n      <th>creativity</th>\n      <th>fixture</th>\n      <th>goals_conceded</th>\n      <th>...</th>\n      <th>element_708</th>\n      <th>element_709</th>\n      <th>element_710</th>\n      <th>element_711</th>\n      <th>element_712</th>\n      <th>element_713</th>\n      <th>position_DEF</th>\n      <th>position_FWD</th>\n      <th>position_GK</th>\n      <th>position_MID</th>\n    </tr>\n  </thead>\n  <tbody>\n    <tr>\n      <th>0</th>\n      <td>Aaron Connolly</td>\n      <td>Brighton</td>\n      <td>0.5</td>\n      <td>0</td>\n      <td>0</td>\n      <td>-3</td>\n      <td>0</td>\n      <td>0.3</td>\n      <td>7</td>\n      <td>2</td>\n      <td>...</td>\n      <td>0</td>\n      <td>0</td>\n      <td>0</td>\n      <td>0</td>\n      <td>0</td>\n      <td>0</td>\n      <td>0</td>\n      <td>1</td>\n      <td>0</td>\n      <td>0</td>\n    </tr>\n    <tr>\n      <th>289</th>\n      <td>Maxime Le Marchand</td>\n      <td>Fulham</td>\n      <td>0.6</td>\n      <td>0</td>\n      <td>0</td>\n      <td>0</td>\n      <td>0</td>\n      <td>0.0</td>\n      <td>2</td>\n      <td>0</td>\n      <td>...</td>\n      <td>0</td>\n      <td>0</td>\n      <td>0</td>\n      <td>0</td>\n      <td>0</td>\n      <td>0</td>\n      <td>1</td>\n      <td>0</td>\n      <td>0</td>\n      <td>0</td>\n    </tr>\n    <tr>\n      <th>288</th>\n      <td>Matt Ritchie</td>\n      <td>Newcastle</td>\n      <td>0.7</td>\n      <td>0</td>\n      <td>0</td>\n      <td>0</td>\n      <td>0</td>\n      <td>0.0</td>\n      <td>6</td>\n      <td>0</td>\n      <td>...</td>\n      <td>0</td>\n      <td>0</td>\n      <td>0</td>\n      <td>0</td>\n      <td>0</td>\n      <td>0</td>\n      <td>0</td>\n      <td>0</td>\n      <td>0</td>\n      <td>1</td>\n    </tr>\n    <tr>\n      <th>287</th>\n      <td>Matt Phillips</td>\n      <td>West Brom</td>\n      <td>0.8</td>\n      <td>0</td>\n      <td>0</td>\n      <td>0</td>\n      <td>0</td>\n      <td>0.0</td>\n      <td>5</td>\n      <td>0</td>\n      <td>...</td>\n      <td>0</td>\n      <td>0</td>\n      <td>0</td>\n      <td>0</td>\n      <td>0</td>\n      <td>0</td>\n      <td>0</td>\n      <td>0</td>\n      <td>0</td>\n      <td>1</td>\n    </tr>\n    <tr>\n      <th>286</th>\n      <td>Matt Macey</td>\n      <td>Arsenal</td>\n      <td>2.0</td>\n      <td>0</td>\n      <td>0</td>\n      <td>0</td>\n      <td>0</td>\n      <td>0.0</td>\n      <td>2</td>\n      <td>0</td>\n      <td>...</td>\n      <td>0</td>\n      <td>0</td>\n      <td>0</td>\n      <td>0</td>\n      <td>0</td>\n      <td>0</td>\n      <td>0</td>\n      <td>0</td>\n      <td>1</td>\n      <td>0</td>\n    </tr>\n  </tbody>\n</table>\n<p>5 rows × 751 columns</p>\n</div>"
     },
     "execution_count": 35,
     "metadata": {},
     "output_type": "execute_result"
    }
   ],
   "source": [
    "merged_gw_2021.head()"
   ],
   "metadata": {
    "collapsed": false,
    "pycharm": {
     "name": "#%%\n"
    }
   }
  },
  {
   "cell_type": "code",
   "execution_count": 36,
   "outputs": [],
   "source": [
    "teams_2021_path = data_path + '\\\\2020-21\\\\teams.csv'\n",
    "teams_2021 = pd.read_csv(teams_2021_path, encoding='latin-1')"
   ],
   "metadata": {
    "collapsed": false,
    "pycharm": {
     "name": "#%%\n"
    }
   }
  },
  {
   "cell_type": "code",
   "execution_count": 37,
   "outputs": [],
   "source": [
    "# change 'opponent_team' column from merged_gw_2021 to 'name' column from teams_2021 where 'opponent_team' is equal to 'id'\n",
    "merged_gw_2021['opponent_team'] = merged_gw_2021['opponent_team'].map(teams_2021.set_index('id')['name'])"
   ],
   "metadata": {
    "collapsed": false,
    "pycharm": {
     "name": "#%%\n"
    }
   }
  },
  {
   "cell_type": "code",
   "execution_count": 38,
   "outputs": [],
   "source": [
    "# one hot encode 'team' and 'opponent_team' column from merged_gw_2021\n",
    "merged_gw_2021 = pd.get_dummies(merged_gw_2021, columns=['team', 'opponent_team'])"
   ],
   "metadata": {
    "collapsed": false,
    "pycharm": {
     "name": "#%%\n"
    }
   }
  },
  {
   "cell_type": "code",
   "execution_count": 39,
   "outputs": [
    {
     "data": {
      "text/plain": "                         name   xP  assists  bonus  bps  clean_sheets  \\\n0              Aaron Connolly  0.5        0      0   -3             0   \n289        Maxime Le Marchand  0.6        0      0    0             0   \n288              Matt Ritchie  0.7        0      0    0             0   \n287             Matt Phillips  0.8        0      0    0             0   \n286                Matt Macey  2.0        0      0    0             0   \n...                       ...  ...      ...    ...  ...           ...   \n23892  Pierre-Emile HÃ¸jbjerg  2.0        0      0   15             0   \n23893      Ãaglar SÃ¶yÃ¼ncÃ¼  0.0        0      0   16             0   \n23894             Harry Lewis -0.5        0      0    0             0   \n23874          Kenneth Zohore  0.0        0      0    0             0   \n24364    Raphael Dias Belloli  5.5        1      0   24             0   \n\n       creativity  fixture  goals_conceded  goals_scored  ...  \\\n0             0.3        7               2             0  ...   \n289           0.0        2               0             0  ...   \n288           0.0        6               0             0  ...   \n287           0.0        5               0             0  ...   \n286           0.0        2               0             0  ...   \n...           ...      ...             ...           ...  ...   \n23892         4.7      373               2             0  ...   \n23893         0.7      373               4             0  ...   \n23894         0.0      377               0             0  ...   \n23874         0.0      372               0             0  ...   \n24364        60.2      372               1             0  ...   \n\n       opponent_team_Liverpool  opponent_team_Man City opponent_team_Man Utd  \\\n0                            0                       0                     0   \n289                          0                       0                     0   \n288                          0                       0                     0   \n287                          0                       0                     0   \n286                          0                       0                     0   \n...                        ...                     ...                   ...   \n23892                        0                       0                     0   \n23893                        0                       0                     0   \n23894                        0                       0                     0   \n23874                        0                       0                     0   \n24364                        0                       0                     0   \n\n       opponent_team_Newcastle  opponent_team_Sheffield Utd  \\\n0                            0                            0   \n289                          0                            0   \n288                          0                            0   \n287                          0                            0   \n286                          0                            0   \n...                        ...                          ...   \n23892                        0                            0   \n23893                        0                            0   \n23894                        0                            0   \n23874                        0                            0   \n24364                        0                            0   \n\n       opponent_team_Southampton  opponent_team_Spurs  \\\n0                              0                    0   \n289                            0                    0   \n288                            0                    0   \n287                            0                    0   \n286                            0                    0   \n...                          ...                  ...   \n23892                          0                    0   \n23893                          0                    1   \n23894                          0                    0   \n23874                          0                    0   \n24364                          0                    0   \n\n       opponent_team_West Brom  opponent_team_West Ham  opponent_team_Wolves  \n0                            0                       0                     0  \n289                          0                       0                     0  \n288                          0                       1                     0  \n287                          0                       0                     0  \n286                          0                       0                     0  \n...                        ...                     ...                   ...  \n23892                        0                       0                     0  \n23893                        0                       0                     0  \n23894                        0                       1                     0  \n23874                        0                       0                     0  \n24364                        1                       0                     0  \n\n[24365 rows x 789 columns]",
      "text/html": "<div>\n<style scoped>\n    .dataframe tbody tr th:only-of-type {\n        vertical-align: middle;\n    }\n\n    .dataframe tbody tr th {\n        vertical-align: top;\n    }\n\n    .dataframe thead th {\n        text-align: right;\n    }\n</style>\n<table border=\"1\" class=\"dataframe\">\n  <thead>\n    <tr style=\"text-align: right;\">\n      <th></th>\n      <th>name</th>\n      <th>xP</th>\n      <th>assists</th>\n      <th>bonus</th>\n      <th>bps</th>\n      <th>clean_sheets</th>\n      <th>creativity</th>\n      <th>fixture</th>\n      <th>goals_conceded</th>\n      <th>goals_scored</th>\n      <th>...</th>\n      <th>opponent_team_Liverpool</th>\n      <th>opponent_team_Man City</th>\n      <th>opponent_team_Man Utd</th>\n      <th>opponent_team_Newcastle</th>\n      <th>opponent_team_Sheffield Utd</th>\n      <th>opponent_team_Southampton</th>\n      <th>opponent_team_Spurs</th>\n      <th>opponent_team_West Brom</th>\n      <th>opponent_team_West Ham</th>\n      <th>opponent_team_Wolves</th>\n    </tr>\n  </thead>\n  <tbody>\n    <tr>\n      <th>0</th>\n      <td>Aaron Connolly</td>\n      <td>0.5</td>\n      <td>0</td>\n      <td>0</td>\n      <td>-3</td>\n      <td>0</td>\n      <td>0.3</td>\n      <td>7</td>\n      <td>2</td>\n      <td>0</td>\n      <td>...</td>\n      <td>0</td>\n      <td>0</td>\n      <td>0</td>\n      <td>0</td>\n      <td>0</td>\n      <td>0</td>\n      <td>0</td>\n      <td>0</td>\n      <td>0</td>\n      <td>0</td>\n    </tr>\n    <tr>\n      <th>289</th>\n      <td>Maxime Le Marchand</td>\n      <td>0.6</td>\n      <td>0</td>\n      <td>0</td>\n      <td>0</td>\n      <td>0</td>\n      <td>0.0</td>\n      <td>2</td>\n      <td>0</td>\n      <td>0</td>\n      <td>...</td>\n      <td>0</td>\n      <td>0</td>\n      <td>0</td>\n      <td>0</td>\n      <td>0</td>\n      <td>0</td>\n      <td>0</td>\n      <td>0</td>\n      <td>0</td>\n      <td>0</td>\n    </tr>\n    <tr>\n      <th>288</th>\n      <td>Matt Ritchie</td>\n      <td>0.7</td>\n      <td>0</td>\n      <td>0</td>\n      <td>0</td>\n      <td>0</td>\n      <td>0.0</td>\n      <td>6</td>\n      <td>0</td>\n      <td>0</td>\n      <td>...</td>\n      <td>0</td>\n      <td>0</td>\n      <td>0</td>\n      <td>0</td>\n      <td>0</td>\n      <td>0</td>\n      <td>0</td>\n      <td>0</td>\n      <td>1</td>\n      <td>0</td>\n    </tr>\n    <tr>\n      <th>287</th>\n      <td>Matt Phillips</td>\n      <td>0.8</td>\n      <td>0</td>\n      <td>0</td>\n      <td>0</td>\n      <td>0</td>\n      <td>0.0</td>\n      <td>5</td>\n      <td>0</td>\n      <td>0</td>\n      <td>...</td>\n      <td>0</td>\n      <td>0</td>\n      <td>0</td>\n      <td>0</td>\n      <td>0</td>\n      <td>0</td>\n      <td>0</td>\n      <td>0</td>\n      <td>0</td>\n      <td>0</td>\n    </tr>\n    <tr>\n      <th>286</th>\n      <td>Matt Macey</td>\n      <td>2.0</td>\n      <td>0</td>\n      <td>0</td>\n      <td>0</td>\n      <td>0</td>\n      <td>0.0</td>\n      <td>2</td>\n      <td>0</td>\n      <td>0</td>\n      <td>...</td>\n      <td>0</td>\n      <td>0</td>\n      <td>0</td>\n      <td>0</td>\n      <td>0</td>\n      <td>0</td>\n      <td>0</td>\n      <td>0</td>\n      <td>0</td>\n      <td>0</td>\n    </tr>\n    <tr>\n      <th>...</th>\n      <td>...</td>\n      <td>...</td>\n      <td>...</td>\n      <td>...</td>\n      <td>...</td>\n      <td>...</td>\n      <td>...</td>\n      <td>...</td>\n      <td>...</td>\n      <td>...</td>\n      <td>...</td>\n      <td>...</td>\n      <td>...</td>\n      <td>...</td>\n      <td>...</td>\n      <td>...</td>\n      <td>...</td>\n      <td>...</td>\n      <td>...</td>\n      <td>...</td>\n      <td>...</td>\n    </tr>\n    <tr>\n      <th>23892</th>\n      <td>Pierre-Emile HÃ¸jbjerg</td>\n      <td>2.0</td>\n      <td>0</td>\n      <td>0</td>\n      <td>15</td>\n      <td>0</td>\n      <td>4.7</td>\n      <td>373</td>\n      <td>2</td>\n      <td>0</td>\n      <td>...</td>\n      <td>0</td>\n      <td>0</td>\n      <td>0</td>\n      <td>0</td>\n      <td>0</td>\n      <td>0</td>\n      <td>0</td>\n      <td>0</td>\n      <td>0</td>\n      <td>0</td>\n    </tr>\n    <tr>\n      <th>23893</th>\n      <td>Ãaglar SÃ¶yÃ¼ncÃ¼</td>\n      <td>0.0</td>\n      <td>0</td>\n      <td>0</td>\n      <td>16</td>\n      <td>0</td>\n      <td>0.7</td>\n      <td>373</td>\n      <td>4</td>\n      <td>0</td>\n      <td>...</td>\n      <td>0</td>\n      <td>0</td>\n      <td>0</td>\n      <td>0</td>\n      <td>0</td>\n      <td>0</td>\n      <td>1</td>\n      <td>0</td>\n      <td>0</td>\n      <td>0</td>\n    </tr>\n    <tr>\n      <th>23894</th>\n      <td>Harry Lewis</td>\n      <td>-0.5</td>\n      <td>0</td>\n      <td>0</td>\n      <td>0</td>\n      <td>0</td>\n      <td>0.0</td>\n      <td>377</td>\n      <td>0</td>\n      <td>0</td>\n      <td>...</td>\n      <td>0</td>\n      <td>0</td>\n      <td>0</td>\n      <td>0</td>\n      <td>0</td>\n      <td>0</td>\n      <td>0</td>\n      <td>0</td>\n      <td>1</td>\n      <td>0</td>\n    </tr>\n    <tr>\n      <th>23874</th>\n      <td>Kenneth Zohore</td>\n      <td>0.0</td>\n      <td>0</td>\n      <td>0</td>\n      <td>0</td>\n      <td>0</td>\n      <td>0.0</td>\n      <td>372</td>\n      <td>0</td>\n      <td>0</td>\n      <td>...</td>\n      <td>0</td>\n      <td>0</td>\n      <td>0</td>\n      <td>0</td>\n      <td>0</td>\n      <td>0</td>\n      <td>0</td>\n      <td>0</td>\n      <td>0</td>\n      <td>0</td>\n    </tr>\n    <tr>\n      <th>24364</th>\n      <td>Raphael Dias Belloli</td>\n      <td>5.5</td>\n      <td>1</td>\n      <td>0</td>\n      <td>24</td>\n      <td>0</td>\n      <td>60.2</td>\n      <td>372</td>\n      <td>1</td>\n      <td>0</td>\n      <td>...</td>\n      <td>0</td>\n      <td>0</td>\n      <td>0</td>\n      <td>0</td>\n      <td>0</td>\n      <td>0</td>\n      <td>0</td>\n      <td>1</td>\n      <td>0</td>\n      <td>0</td>\n    </tr>\n  </tbody>\n</table>\n<p>24365 rows × 789 columns</p>\n</div>"
     },
     "execution_count": 39,
     "metadata": {},
     "output_type": "execute_result"
    }
   ],
   "source": [
    "merged_gw_2021"
   ],
   "metadata": {
    "collapsed": false,
    "pycharm": {
     "name": "#%%\n"
    }
   }
  },
  {
   "cell_type": "code",
   "execution_count": 40,
   "outputs": [],
   "source": [
    "# drop 'fixture', 'kickoff_time', 'round' column from merged_gw_2021\n",
    "merged_gw_2021.drop(['fixture', 'kickoff_time', 'round'], axis=1, inplace=True)"
   ],
   "metadata": {
    "collapsed": false,
    "pycharm": {
     "name": "#%%\n"
    }
   }
  },
  {
   "cell_type": "code",
   "execution_count": 41,
   "outputs": [],
   "source": [
    "# change was_home column to binary\n",
    "merged_gw_2021['was_home'] = merged_gw_2021['was_home'].map({True: 1, False: 0})"
   ],
   "metadata": {
    "collapsed": false,
    "pycharm": {
     "name": "#%%\n"
    }
   }
  },
  {
   "cell_type": "code",
   "execution_count": 42,
   "outputs": [
    {
     "data": {
      "text/plain": "                         name   xP  assists  bonus  bps  clean_sheets  \\\n0              Aaron Connolly  0.5        0      0   -3             0   \n289        Maxime Le Marchand  0.6        0      0    0             0   \n288              Matt Ritchie  0.7        0      0    0             0   \n287             Matt Phillips  0.8        0      0    0             0   \n286                Matt Macey  2.0        0      0    0             0   \n...                       ...  ...      ...    ...  ...           ...   \n23892  Pierre-Emile HÃ¸jbjerg  2.0        0      0   15             0   \n23893      Ãaglar SÃ¶yÃ¼ncÃ¼  0.0        0      0   16             0   \n23894             Harry Lewis -0.5        0      0    0             0   \n23874          Kenneth Zohore  0.0        0      0    0             0   \n24364    Raphael Dias Belloli  5.5        1      0   24             0   \n\n       creativity  goals_conceded  goals_scored  ict_index  ...  \\\n0             0.3               2             0        3.4  ...   \n289           0.0               0             0        0.0  ...   \n288           0.0               0             0        0.0  ...   \n287           0.0               0             0        0.0  ...   \n286           0.0               0             0        0.0  ...   \n...           ...             ...           ...        ...  ...   \n23892         4.7               2             0        1.8  ...   \n23893         0.7               4             0        4.3  ...   \n23894         0.0               0             0        0.0  ...   \n23874         0.0               0             0        0.0  ...   \n24364        60.2               1             0       12.9  ...   \n\n       opponent_team_Liverpool  opponent_team_Man City  opponent_team_Man Utd  \\\n0                            0                       0                      0   \n289                          0                       0                      0   \n288                          0                       0                      0   \n287                          0                       0                      0   \n286                          0                       0                      0   \n...                        ...                     ...                    ...   \n23892                        0                       0                      0   \n23893                        0                       0                      0   \n23894                        0                       0                      0   \n23874                        0                       0                      0   \n24364                        0                       0                      0   \n\n       opponent_team_Newcastle  opponent_team_Sheffield Utd  \\\n0                            0                            0   \n289                          0                            0   \n288                          0                            0   \n287                          0                            0   \n286                          0                            0   \n...                        ...                          ...   \n23892                        0                            0   \n23893                        0                            0   \n23894                        0                            0   \n23874                        0                            0   \n24364                        0                            0   \n\n       opponent_team_Southampton  opponent_team_Spurs  \\\n0                              0                    0   \n289                            0                    0   \n288                            0                    0   \n287                            0                    0   \n286                            0                    0   \n...                          ...                  ...   \n23892                          0                    0   \n23893                          0                    1   \n23894                          0                    0   \n23874                          0                    0   \n24364                          0                    0   \n\n       opponent_team_West Brom  opponent_team_West Ham  opponent_team_Wolves  \n0                            0                       0                     0  \n289                          0                       0                     0  \n288                          0                       1                     0  \n287                          0                       0                     0  \n286                          0                       0                     0  \n...                        ...                     ...                   ...  \n23892                        0                       0                     0  \n23893                        0                       0                     0  \n23894                        0                       1                     0  \n23874                        0                       0                     0  \n24364                        1                       0                     0  \n\n[24365 rows x 786 columns]",
      "text/html": "<div>\n<style scoped>\n    .dataframe tbody tr th:only-of-type {\n        vertical-align: middle;\n    }\n\n    .dataframe tbody tr th {\n        vertical-align: top;\n    }\n\n    .dataframe thead th {\n        text-align: right;\n    }\n</style>\n<table border=\"1\" class=\"dataframe\">\n  <thead>\n    <tr style=\"text-align: right;\">\n      <th></th>\n      <th>name</th>\n      <th>xP</th>\n      <th>assists</th>\n      <th>bonus</th>\n      <th>bps</th>\n      <th>clean_sheets</th>\n      <th>creativity</th>\n      <th>goals_conceded</th>\n      <th>goals_scored</th>\n      <th>ict_index</th>\n      <th>...</th>\n      <th>opponent_team_Liverpool</th>\n      <th>opponent_team_Man City</th>\n      <th>opponent_team_Man Utd</th>\n      <th>opponent_team_Newcastle</th>\n      <th>opponent_team_Sheffield Utd</th>\n      <th>opponent_team_Southampton</th>\n      <th>opponent_team_Spurs</th>\n      <th>opponent_team_West Brom</th>\n      <th>opponent_team_West Ham</th>\n      <th>opponent_team_Wolves</th>\n    </tr>\n  </thead>\n  <tbody>\n    <tr>\n      <th>0</th>\n      <td>Aaron Connolly</td>\n      <td>0.5</td>\n      <td>0</td>\n      <td>0</td>\n      <td>-3</td>\n      <td>0</td>\n      <td>0.3</td>\n      <td>2</td>\n      <td>0</td>\n      <td>3.4</td>\n      <td>...</td>\n      <td>0</td>\n      <td>0</td>\n      <td>0</td>\n      <td>0</td>\n      <td>0</td>\n      <td>0</td>\n      <td>0</td>\n      <td>0</td>\n      <td>0</td>\n      <td>0</td>\n    </tr>\n    <tr>\n      <th>289</th>\n      <td>Maxime Le Marchand</td>\n      <td>0.6</td>\n      <td>0</td>\n      <td>0</td>\n      <td>0</td>\n      <td>0</td>\n      <td>0.0</td>\n      <td>0</td>\n      <td>0</td>\n      <td>0.0</td>\n      <td>...</td>\n      <td>0</td>\n      <td>0</td>\n      <td>0</td>\n      <td>0</td>\n      <td>0</td>\n      <td>0</td>\n      <td>0</td>\n      <td>0</td>\n      <td>0</td>\n      <td>0</td>\n    </tr>\n    <tr>\n      <th>288</th>\n      <td>Matt Ritchie</td>\n      <td>0.7</td>\n      <td>0</td>\n      <td>0</td>\n      <td>0</td>\n      <td>0</td>\n      <td>0.0</td>\n      <td>0</td>\n      <td>0</td>\n      <td>0.0</td>\n      <td>...</td>\n      <td>0</td>\n      <td>0</td>\n      <td>0</td>\n      <td>0</td>\n      <td>0</td>\n      <td>0</td>\n      <td>0</td>\n      <td>0</td>\n      <td>1</td>\n      <td>0</td>\n    </tr>\n    <tr>\n      <th>287</th>\n      <td>Matt Phillips</td>\n      <td>0.8</td>\n      <td>0</td>\n      <td>0</td>\n      <td>0</td>\n      <td>0</td>\n      <td>0.0</td>\n      <td>0</td>\n      <td>0</td>\n      <td>0.0</td>\n      <td>...</td>\n      <td>0</td>\n      <td>0</td>\n      <td>0</td>\n      <td>0</td>\n      <td>0</td>\n      <td>0</td>\n      <td>0</td>\n      <td>0</td>\n      <td>0</td>\n      <td>0</td>\n    </tr>\n    <tr>\n      <th>286</th>\n      <td>Matt Macey</td>\n      <td>2.0</td>\n      <td>0</td>\n      <td>0</td>\n      <td>0</td>\n      <td>0</td>\n      <td>0.0</td>\n      <td>0</td>\n      <td>0</td>\n      <td>0.0</td>\n      <td>...</td>\n      <td>0</td>\n      <td>0</td>\n      <td>0</td>\n      <td>0</td>\n      <td>0</td>\n      <td>0</td>\n      <td>0</td>\n      <td>0</td>\n      <td>0</td>\n      <td>0</td>\n    </tr>\n    <tr>\n      <th>...</th>\n      <td>...</td>\n      <td>...</td>\n      <td>...</td>\n      <td>...</td>\n      <td>...</td>\n      <td>...</td>\n      <td>...</td>\n      <td>...</td>\n      <td>...</td>\n      <td>...</td>\n      <td>...</td>\n      <td>...</td>\n      <td>...</td>\n      <td>...</td>\n      <td>...</td>\n      <td>...</td>\n      <td>...</td>\n      <td>...</td>\n      <td>...</td>\n      <td>...</td>\n      <td>...</td>\n    </tr>\n    <tr>\n      <th>23892</th>\n      <td>Pierre-Emile HÃ¸jbjerg</td>\n      <td>2.0</td>\n      <td>0</td>\n      <td>0</td>\n      <td>15</td>\n      <td>0</td>\n      <td>4.7</td>\n      <td>2</td>\n      <td>0</td>\n      <td>1.8</td>\n      <td>...</td>\n      <td>0</td>\n      <td>0</td>\n      <td>0</td>\n      <td>0</td>\n      <td>0</td>\n      <td>0</td>\n      <td>0</td>\n      <td>0</td>\n      <td>0</td>\n      <td>0</td>\n    </tr>\n    <tr>\n      <th>23893</th>\n      <td>Ãaglar SÃ¶yÃ¼ncÃ¼</td>\n      <td>0.0</td>\n      <td>0</td>\n      <td>0</td>\n      <td>16</td>\n      <td>0</td>\n      <td>0.7</td>\n      <td>4</td>\n      <td>0</td>\n      <td>4.3</td>\n      <td>...</td>\n      <td>0</td>\n      <td>0</td>\n      <td>0</td>\n      <td>0</td>\n      <td>0</td>\n      <td>0</td>\n      <td>1</td>\n      <td>0</td>\n      <td>0</td>\n      <td>0</td>\n    </tr>\n    <tr>\n      <th>23894</th>\n      <td>Harry Lewis</td>\n      <td>-0.5</td>\n      <td>0</td>\n      <td>0</td>\n      <td>0</td>\n      <td>0</td>\n      <td>0.0</td>\n      <td>0</td>\n      <td>0</td>\n      <td>0.0</td>\n      <td>...</td>\n      <td>0</td>\n      <td>0</td>\n      <td>0</td>\n      <td>0</td>\n      <td>0</td>\n      <td>0</td>\n      <td>0</td>\n      <td>0</td>\n      <td>1</td>\n      <td>0</td>\n    </tr>\n    <tr>\n      <th>23874</th>\n      <td>Kenneth Zohore</td>\n      <td>0.0</td>\n      <td>0</td>\n      <td>0</td>\n      <td>0</td>\n      <td>0</td>\n      <td>0.0</td>\n      <td>0</td>\n      <td>0</td>\n      <td>0.0</td>\n      <td>...</td>\n      <td>0</td>\n      <td>0</td>\n      <td>0</td>\n      <td>0</td>\n      <td>0</td>\n      <td>0</td>\n      <td>0</td>\n      <td>0</td>\n      <td>0</td>\n      <td>0</td>\n    </tr>\n    <tr>\n      <th>24364</th>\n      <td>Raphael Dias Belloli</td>\n      <td>5.5</td>\n      <td>1</td>\n      <td>0</td>\n      <td>24</td>\n      <td>0</td>\n      <td>60.2</td>\n      <td>1</td>\n      <td>0</td>\n      <td>12.9</td>\n      <td>...</td>\n      <td>0</td>\n      <td>0</td>\n      <td>0</td>\n      <td>0</td>\n      <td>0</td>\n      <td>0</td>\n      <td>0</td>\n      <td>1</td>\n      <td>0</td>\n      <td>0</td>\n    </tr>\n  </tbody>\n</table>\n<p>24365 rows × 786 columns</p>\n</div>"
     },
     "execution_count": 42,
     "metadata": {},
     "output_type": "execute_result"
    }
   ],
   "source": [
    "merged_gw_2021"
   ],
   "metadata": {
    "collapsed": false,
    "pycharm": {
     "name": "#%%\n"
    }
   }
  },
  {
   "cell_type": "markdown",
   "source": [
    "## Split to train and test sets and scale data"
   ],
   "metadata": {
    "collapsed": false,
    "pycharm": {
     "name": "#%% md\n"
    }
   }
  },
  {
   "cell_type": "code",
   "execution_count": 43,
   "outputs": [],
   "source": [
    "# split merged_gw_2021 into test set, where GW is greater than 35, and rest of the data is for training\n",
    "train = merged_gw_2021[merged_gw_2021['GW'] < 35]\n",
    "test = merged_gw_2021[merged_gw_2021['GW'] >= 35]"
   ],
   "metadata": {
    "collapsed": false,
    "pycharm": {
     "name": "#%%\n"
    }
   }
  },
  {
   "cell_type": "code",
   "execution_count": 44,
   "outputs": [
    {
     "name": "stdout",
     "output_type": "stream",
     "text": [
      "(21323, 784) (21323, 1)\n"
     ]
    }
   ],
   "source": [
    "X_train = train.drop(['name', 'total_points'], axis=1).copy()\n",
    "y_train = train[['total_points']].copy()\n",
    "\n",
    "print(X_train.shape, y_train.shape)"
   ],
   "metadata": {
    "collapsed": false,
    "pycharm": {
     "name": "#%%\n"
    }
   }
  },
  {
   "cell_type": "code",
   "execution_count": 45,
   "outputs": [
    {
     "name": "stdout",
     "output_type": "stream",
     "text": [
      "(3042, 784) (3042, 1)\n"
     ]
    }
   ],
   "source": [
    "X_test = test.drop(['name', 'total_points'], axis=1).copy()\n",
    "y_test = test[['total_points']].copy()\n",
    "\n",
    "print(X_test.shape, y_test.shape)"
   ],
   "metadata": {
    "collapsed": false,
    "pycharm": {
     "name": "#%%\n"
    }
   }
  },
  {
   "cell_type": "code",
   "execution_count": 46,
   "outputs": [
    {
     "name": "stdout",
     "output_type": "stream",
     "text": [
      "(21323, 784)\n",
      "(21323,)\n"
     ]
    }
   ],
   "source": [
    "X_scaler = MinMaxScaler(feature_range=(0, 1))\n",
    "scaled_X_train = X_scaler.fit_transform(X_train)\n",
    "print(scaled_X_train.shape)\n",
    "\n",
    "y_scaler = MinMaxScaler(feature_range=(0, 1))\n",
    "scaled_y_train = y_scaler.fit_transform(y_train).reshape(-1)\n",
    "print(scaled_y_train.shape)"
   ],
   "metadata": {
    "collapsed": false,
    "pycharm": {
     "name": "#%%\n"
    }
   }
  },
  {
   "cell_type": "markdown",
   "source": [
    "## Prepare data with timeseries generator"
   ],
   "metadata": {
    "collapsed": false,
    "pycharm": {
     "name": "#%% md\n"
    }
   }
  },
  {
   "cell_type": "code",
   "execution_count": 47,
   "outputs": [
    {
     "name": "stdout",
     "output_type": "stream",
     "text": [
      "(32, 2136, 784)\n"
     ]
    }
   ],
   "source": [
    "n_input = unique_names * 3 #how many samples/timesteps to look in the past in order to forecast the next sample\n",
    "n_features = X_train.shape[1] # how many predictors/Xs/features we have to predict y\n",
    "b_size = 32 # Number of timeseries samples in each batch\n",
    "generator = TimeseriesGenerator(scaled_X_train, scaled_y_train, length=n_input, batch_size=b_size)\n",
    "\n",
    "print(generator[0][0].shape)"
   ],
   "metadata": {
    "collapsed": false,
    "pycharm": {
     "name": "#%%\n"
    }
   }
  },
  {
   "cell_type": "markdown",
   "source": [
    "## Build LSTM model"
   ],
   "metadata": {
    "collapsed": false,
    "pycharm": {
     "name": "#%% md\n"
    }
   }
  },
  {
   "cell_type": "code",
   "execution_count": 48,
   "outputs": [
    {
     "name": "stdout",
     "output_type": "stream",
     "text": [
      "Model: \"sequential_1\"\n",
      "_________________________________________________________________\n",
      " Layer (type)                Output Shape              Param #   \n",
      "=================================================================\n",
      " lstm_1 (LSTM)               (None, 150)               561000    \n",
      "                                                                 \n",
      " dense_1 (Dense)             (None, 1)                 151       \n",
      "                                                                 \n",
      "=================================================================\n",
      "Total params: 561,151\n",
      "Trainable params: 561,151\n",
      "Non-trainable params: 0\n",
      "_________________________________________________________________\n"
     ]
    }
   ],
   "source": [
    "model = Sequential()\n",
    "model.add(LSTM(150, activation='relu', input_shape=(n_input, n_features)))\n",
    "model.add(Dense(1))\n",
    "model.compile(optimizer='adam', loss='mse')\n",
    "model.summary()"
   ],
   "metadata": {
    "collapsed": false,
    "pycharm": {
     "name": "#%%\n"
    }
   }
  },
  {
   "cell_type": "code",
   "execution_count": null,
   "outputs": [
    {
     "name": "stdout",
     "output_type": "stream",
     "text": [
      "Epoch 1/5\n",
      "600/600 [==============================] - 2777s 5s/step - loss: 0.0068\n",
      "Epoch 2/5\n",
      "525/600 [=========================>....] - ETA: 6:24 - loss: 0.0058"
     ]
    }
   ],
   "source": [
    "model.fit(generator, epochs=5)"
   ],
   "metadata": {
    "collapsed": false,
    "pycharm": {
     "name": "#%%\n",
     "is_executing": true
    }
   }
  },
  {
   "cell_type": "code",
   "execution_count": null,
   "outputs": [],
   "source": [],
   "metadata": {
    "collapsed": false,
    "pycharm": {
     "name": "#%%\n",
     "is_executing": true
    }
   }
  }
 ],
 "metadata": {
  "kernelspec": {
   "display_name": "Python 3",
   "language": "python",
   "name": "python3"
  },
  "language_info": {
   "codemirror_mode": {
    "name": "ipython",
    "version": 2
   },
   "file_extension": ".py",
   "mimetype": "text/x-python",
   "name": "python",
   "nbconvert_exporter": "python",
   "pygments_lexer": "ipython2",
   "version": "2.7.6"
  }
 },
 "nbformat": 4,
 "nbformat_minor": 0
}