{
 "cells": [
  {
   "cell_type": "code",
   "execution_count": 1,
   "outputs": [],
   "source": [
    "import os\n",
    "import pandas as pd\n",
    "\n",
    "from src.squad_selection.select_team import select_team\n",
    "from src.squad_selection.select_team import print_selected_team"
   ],
   "metadata": {
    "collapsed": false,
    "pycharm": {
     "name": "#%%\n"
    }
   }
  },
  {
   "cell_type": "code",
   "execution_count": 2,
   "outputs": [],
   "source": [
    "# load data/raw/Fantasy-Premier-League/2022-23/cleaned_players.csv\n",
    "root_dir = os.path.dirname(os.path.abspath(''))\n",
    "df_season_start = pd.read_csv(root_dir + '/data/raw/Fantasy-Premier-League/2022-23/players_raw.csv')\n",
    "teams = pd.read_csv(root_dir + '/data/raw/Fantasy-Premier-League/2022-23/teams.csv')"
   ],
   "metadata": {
    "collapsed": false,
    "pycharm": {
     "name": "#%%\n"
    }
   }
  },
  {
   "cell_type": "code",
   "execution_count": 3,
   "outputs": [],
   "source": [
    "df_season_start['name'] = df_season_start['first_name'] + ' ' + df_season_start['second_name']"
   ],
   "metadata": {
    "collapsed": false,
    "pycharm": {
     "name": "#%%\n"
    }
   }
  },
  {
   "cell_type": "code",
   "execution_count": 4,
   "outputs": [
    {
     "data": {
      "text/plain": "   assists  bonus  bps chance_of_playing_next_round  \\\n0        0      0    0                         None   \n1        1      2   47                         None   \n2        0      0    0                         None   \n3        0      0    0                         None   \n4        0      0   26                         None   \n\n  chance_of_playing_this_round  clean_sheets    code  \\\n0                         None             0   58822   \n1                         None             1   84450   \n2                         None             0  153256   \n3                         None             0  156074   \n4                         None             1  167199   \n\n  corners_and_indirect_freekicks_order  corners_and_indirect_freekicks_text  \\\n0                                    5                                  NaN   \n1                                 None                                  NaN   \n2                                 None                                  NaN   \n3                                 None                                  NaN   \n4                                 None                                  NaN   \n\n   cost_change_event  ...  total_points  transfers_in  transfers_in_event  \\\n0                  0  ...             0          1933                 572   \n1                  0  ...            14         81514               72513   \n2                 -1  ...             0         25499               19670   \n3                  0  ...             0          1061                 430   \n4                  0  ...             5         17380                4635   \n\n   transfers_out  transfers_out_event  value_form value_season  web_name  \\\n0           9248                 2718         0.0          0.0    Cédric   \n1          20120                10490         1.4          2.8     Xhaka   \n2          33681                15253         0.0          0.0    Elneny   \n3           5060                 1451         0.0          0.0   Holding   \n4          15817                 7119         0.5          1.0    Partey   \n\n   yellow_cards                 name  \n0             0  Cédric Alves Soares  \n1             1         Granit Xhaka  \n2             0       Mohamed Elneny  \n3             0          Rob Holding  \n4             0        Thomas Partey  \n\n[5 rows x 68 columns]",
      "text/html": "<div>\n<style scoped>\n    .dataframe tbody tr th:only-of-type {\n        vertical-align: middle;\n    }\n\n    .dataframe tbody tr th {\n        vertical-align: top;\n    }\n\n    .dataframe thead th {\n        text-align: right;\n    }\n</style>\n<table border=\"1\" class=\"dataframe\">\n  <thead>\n    <tr style=\"text-align: right;\">\n      <th></th>\n      <th>assists</th>\n      <th>bonus</th>\n      <th>bps</th>\n      <th>chance_of_playing_next_round</th>\n      <th>chance_of_playing_this_round</th>\n      <th>clean_sheets</th>\n      <th>code</th>\n      <th>corners_and_indirect_freekicks_order</th>\n      <th>corners_and_indirect_freekicks_text</th>\n      <th>cost_change_event</th>\n      <th>...</th>\n      <th>total_points</th>\n      <th>transfers_in</th>\n      <th>transfers_in_event</th>\n      <th>transfers_out</th>\n      <th>transfers_out_event</th>\n      <th>value_form</th>\n      <th>value_season</th>\n      <th>web_name</th>\n      <th>yellow_cards</th>\n      <th>name</th>\n    </tr>\n  </thead>\n  <tbody>\n    <tr>\n      <th>0</th>\n      <td>0</td>\n      <td>0</td>\n      <td>0</td>\n      <td>None</td>\n      <td>None</td>\n      <td>0</td>\n      <td>58822</td>\n      <td>5</td>\n      <td>NaN</td>\n      <td>0</td>\n      <td>...</td>\n      <td>0</td>\n      <td>1933</td>\n      <td>572</td>\n      <td>9248</td>\n      <td>2718</td>\n      <td>0.0</td>\n      <td>0.0</td>\n      <td>Cédric</td>\n      <td>0</td>\n      <td>Cédric Alves Soares</td>\n    </tr>\n    <tr>\n      <th>1</th>\n      <td>1</td>\n      <td>2</td>\n      <td>47</td>\n      <td>None</td>\n      <td>None</td>\n      <td>1</td>\n      <td>84450</td>\n      <td>None</td>\n      <td>NaN</td>\n      <td>0</td>\n      <td>...</td>\n      <td>14</td>\n      <td>81514</td>\n      <td>72513</td>\n      <td>20120</td>\n      <td>10490</td>\n      <td>1.4</td>\n      <td>2.8</td>\n      <td>Xhaka</td>\n      <td>1</td>\n      <td>Granit Xhaka</td>\n    </tr>\n    <tr>\n      <th>2</th>\n      <td>0</td>\n      <td>0</td>\n      <td>0</td>\n      <td>None</td>\n      <td>None</td>\n      <td>0</td>\n      <td>153256</td>\n      <td>None</td>\n      <td>NaN</td>\n      <td>-1</td>\n      <td>...</td>\n      <td>0</td>\n      <td>25499</td>\n      <td>19670</td>\n      <td>33681</td>\n      <td>15253</td>\n      <td>0.0</td>\n      <td>0.0</td>\n      <td>Elneny</td>\n      <td>0</td>\n      <td>Mohamed Elneny</td>\n    </tr>\n    <tr>\n      <th>3</th>\n      <td>0</td>\n      <td>0</td>\n      <td>0</td>\n      <td>None</td>\n      <td>None</td>\n      <td>0</td>\n      <td>156074</td>\n      <td>None</td>\n      <td>NaN</td>\n      <td>0</td>\n      <td>...</td>\n      <td>0</td>\n      <td>1061</td>\n      <td>430</td>\n      <td>5060</td>\n      <td>1451</td>\n      <td>0.0</td>\n      <td>0.0</td>\n      <td>Holding</td>\n      <td>0</td>\n      <td>Rob Holding</td>\n    </tr>\n    <tr>\n      <th>4</th>\n      <td>0</td>\n      <td>0</td>\n      <td>26</td>\n      <td>None</td>\n      <td>None</td>\n      <td>1</td>\n      <td>167199</td>\n      <td>None</td>\n      <td>NaN</td>\n      <td>0</td>\n      <td>...</td>\n      <td>5</td>\n      <td>17380</td>\n      <td>4635</td>\n      <td>15817</td>\n      <td>7119</td>\n      <td>0.5</td>\n      <td>1.0</td>\n      <td>Partey</td>\n      <td>0</td>\n      <td>Thomas Partey</td>\n    </tr>\n  </tbody>\n</table>\n<p>5 rows × 68 columns</p>\n</div>"
     },
     "execution_count": 4,
     "metadata": {},
     "output_type": "execute_result"
    }
   ],
   "source": [
    "df_season_start.head()"
   ],
   "metadata": {
    "collapsed": false,
    "pycharm": {
     "name": "#%%\n"
    }
   }
  },
  {
   "cell_type": "markdown",
   "source": [
    "## Conclusion\n",
    "There is problem with selecting starting squad for new season, since now we have only premier league data, so there is lask of stats for new players in the league. I'll try to use data about percent of ownership and value to create some simple predictions based on these values."
   ],
   "metadata": {
    "collapsed": false,
    "pycharm": {
     "name": "#%% md\n"
    }
   }
  },
  {
   "cell_type": "code",
   "execution_count": 381,
   "outputs": [],
   "source": [
    "df_start = df_season_start.copy()"
   ],
   "metadata": {
    "collapsed": false,
    "pycharm": {
     "name": "#%%\n"
    }
   }
  },
  {
   "cell_type": "code",
   "execution_count": 382,
   "outputs": [],
   "source": [
    "df_start = df_start[['name', 'id', 'now_cost', 'team', 'element_type', 'selected_by_percent']]"
   ],
   "metadata": {
    "collapsed": false,
    "pycharm": {
     "name": "#%%\n"
    }
   }
  },
  {
   "cell_type": "code",
   "execution_count": 383,
   "outputs": [],
   "source": [
    "df_start.rename(columns={'id': 'element','now_cost': 'value', 'element_type': 'position_id'}, inplace=True)"
   ],
   "metadata": {
    "collapsed": false,
    "pycharm": {
     "name": "#%%\n"
    }
   }
  },
  {
   "cell_type": "code",
   "execution_count": 384,
   "outputs": [],
   "source": [
    "# replace df_start['team'] with teams['name'] where teams['id'] == df_start['team']\n",
    "df_start['team'] = df_start.apply(lambda row: teams.loc[teams['id'] == row['team'], 'name'].values[0], axis=1)\n",
    "df_start['value'] = df_start['value'] / 10\n",
    "df_start['position'] = df_start['position_id'].map({1: 'GK', 2: 'DEF', 3: 'MID', 4: 'FWD'})"
   ],
   "metadata": {
    "collapsed": false,
    "pycharm": {
     "name": "#%%\n"
    }
   }
  },
  {
   "cell_type": "markdown",
   "source": [
    "Create predicted points by multiplying value and ownership percent."
   ],
   "metadata": {
    "collapsed": false,
    "pycharm": {
     "name": "#%% md\n"
    }
   }
  },
  {
   "cell_type": "code",
   "execution_count": 385,
   "outputs": [],
   "source": [
    "df_start['predicted_total_points_next_gameweek'] = df_start['value'] * df_start['selected_by_percent'] / 10"
   ],
   "metadata": {
    "collapsed": false,
    "pycharm": {
     "name": "#%%\n"
    }
   }
  },
  {
   "cell_type": "code",
   "execution_count": 386,
   "outputs": [
    {
     "data": {
      "text/plain": "                           name  element  value           team  position_id  \\\n26    Gabriel Fernando de Jesus       28    8.0        Arsenal            4   \n316               Mohamed Salah      283   13.0      Liverpool            3   \n318      Trent Alexander-Arnold      285    7.5      Liverpool            2   \n342                João Cancelo      306    7.0       Man City            2   \n353               Erling Håland      318   11.5       Man City            4   \n160                 Reece James      146    6.0        Chelsea            2   \n418               Neco Williams      295    4.0  Nott'm Forest            2   \n500                Ivan Perišić      448    5.5          Spurs            2   \n479                  Harry Kane      427   11.5          Spurs            4   \n245  Andreas Hoelgebaum Pereira      346    4.5         Fulham            3   \n480               Son Heung-min      428   12.0          Spurs            3   \n293               Sam Greenwood      237    4.5          Leeds            4   \n326                   Luis Díaz      293    8.0      Liverpool            3   \n11                  Bukayo Saka       13    8.0        Arsenal            3   \n161               Edouard Mendy      147    5.0        Chelsea            1   \n\n     selected_by_percent position  predicted_total_points_next_gameweek  \n26                  75.2      FWD                                60.160  \n316                 61.0      MID                                79.300  \n318                 59.1      DEF                                44.325  \n342                 45.4      DEF                                31.780  \n353                 44.9      FWD                                51.635  \n160                 39.9      DEF                                23.940  \n418                 28.8      DEF                                11.520  \n500                 27.9      DEF                                15.345  \n479                 27.8      FWD                                31.970  \n245                 25.5      MID                                11.475  \n480                 25.1      MID                                30.120  \n293                 24.5      FWD                                11.025  \n326                 22.2      MID                                17.760  \n11                  22.0      MID                                17.600  \n161                 21.1       GK                                10.550  ",
      "text/html": "<div>\n<style scoped>\n    .dataframe tbody tr th:only-of-type {\n        vertical-align: middle;\n    }\n\n    .dataframe tbody tr th {\n        vertical-align: top;\n    }\n\n    .dataframe thead th {\n        text-align: right;\n    }\n</style>\n<table border=\"1\" class=\"dataframe\">\n  <thead>\n    <tr style=\"text-align: right;\">\n      <th></th>\n      <th>name</th>\n      <th>element</th>\n      <th>value</th>\n      <th>team</th>\n      <th>position_id</th>\n      <th>selected_by_percent</th>\n      <th>position</th>\n      <th>predicted_total_points_next_gameweek</th>\n    </tr>\n  </thead>\n  <tbody>\n    <tr>\n      <th>26</th>\n      <td>Gabriel Fernando de Jesus</td>\n      <td>28</td>\n      <td>8.0</td>\n      <td>Arsenal</td>\n      <td>4</td>\n      <td>75.2</td>\n      <td>FWD</td>\n      <td>60.160</td>\n    </tr>\n    <tr>\n      <th>316</th>\n      <td>Mohamed Salah</td>\n      <td>283</td>\n      <td>13.0</td>\n      <td>Liverpool</td>\n      <td>3</td>\n      <td>61.0</td>\n      <td>MID</td>\n      <td>79.300</td>\n    </tr>\n    <tr>\n      <th>318</th>\n      <td>Trent Alexander-Arnold</td>\n      <td>285</td>\n      <td>7.5</td>\n      <td>Liverpool</td>\n      <td>2</td>\n      <td>59.1</td>\n      <td>DEF</td>\n      <td>44.325</td>\n    </tr>\n    <tr>\n      <th>342</th>\n      <td>João Cancelo</td>\n      <td>306</td>\n      <td>7.0</td>\n      <td>Man City</td>\n      <td>2</td>\n      <td>45.4</td>\n      <td>DEF</td>\n      <td>31.780</td>\n    </tr>\n    <tr>\n      <th>353</th>\n      <td>Erling Håland</td>\n      <td>318</td>\n      <td>11.5</td>\n      <td>Man City</td>\n      <td>4</td>\n      <td>44.9</td>\n      <td>FWD</td>\n      <td>51.635</td>\n    </tr>\n    <tr>\n      <th>160</th>\n      <td>Reece James</td>\n      <td>146</td>\n      <td>6.0</td>\n      <td>Chelsea</td>\n      <td>2</td>\n      <td>39.9</td>\n      <td>DEF</td>\n      <td>23.940</td>\n    </tr>\n    <tr>\n      <th>418</th>\n      <td>Neco Williams</td>\n      <td>295</td>\n      <td>4.0</td>\n      <td>Nott'm Forest</td>\n      <td>2</td>\n      <td>28.8</td>\n      <td>DEF</td>\n      <td>11.520</td>\n    </tr>\n    <tr>\n      <th>500</th>\n      <td>Ivan Perišić</td>\n      <td>448</td>\n      <td>5.5</td>\n      <td>Spurs</td>\n      <td>2</td>\n      <td>27.9</td>\n      <td>DEF</td>\n      <td>15.345</td>\n    </tr>\n    <tr>\n      <th>479</th>\n      <td>Harry Kane</td>\n      <td>427</td>\n      <td>11.5</td>\n      <td>Spurs</td>\n      <td>4</td>\n      <td>27.8</td>\n      <td>FWD</td>\n      <td>31.970</td>\n    </tr>\n    <tr>\n      <th>245</th>\n      <td>Andreas Hoelgebaum Pereira</td>\n      <td>346</td>\n      <td>4.5</td>\n      <td>Fulham</td>\n      <td>3</td>\n      <td>25.5</td>\n      <td>MID</td>\n      <td>11.475</td>\n    </tr>\n    <tr>\n      <th>480</th>\n      <td>Son Heung-min</td>\n      <td>428</td>\n      <td>12.0</td>\n      <td>Spurs</td>\n      <td>3</td>\n      <td>25.1</td>\n      <td>MID</td>\n      <td>30.120</td>\n    </tr>\n    <tr>\n      <th>293</th>\n      <td>Sam Greenwood</td>\n      <td>237</td>\n      <td>4.5</td>\n      <td>Leeds</td>\n      <td>4</td>\n      <td>24.5</td>\n      <td>FWD</td>\n      <td>11.025</td>\n    </tr>\n    <tr>\n      <th>326</th>\n      <td>Luis Díaz</td>\n      <td>293</td>\n      <td>8.0</td>\n      <td>Liverpool</td>\n      <td>3</td>\n      <td>22.2</td>\n      <td>MID</td>\n      <td>17.760</td>\n    </tr>\n    <tr>\n      <th>11</th>\n      <td>Bukayo Saka</td>\n      <td>13</td>\n      <td>8.0</td>\n      <td>Arsenal</td>\n      <td>3</td>\n      <td>22.0</td>\n      <td>MID</td>\n      <td>17.600</td>\n    </tr>\n    <tr>\n      <th>161</th>\n      <td>Edouard Mendy</td>\n      <td>147</td>\n      <td>5.0</td>\n      <td>Chelsea</td>\n      <td>1</td>\n      <td>21.1</td>\n      <td>GK</td>\n      <td>10.550</td>\n    </tr>\n  </tbody>\n</table>\n</div>"
     },
     "execution_count": 386,
     "metadata": {},
     "output_type": "execute_result"
    }
   ],
   "source": [
    "df_start.sort_values(by=['selected_by_percent'], ascending=False).head(15)"
   ],
   "metadata": {
    "collapsed": false,
    "pycharm": {
     "name": "#%%\n"
    }
   }
  },
  {
   "cell_type": "markdown",
   "source": [],
   "metadata": {
    "collapsed": false,
    "pycharm": {
     "name": "#%% md\n"
    }
   }
  },
  {
   "cell_type": "code",
   "execution_count": 387,
   "outputs": [],
   "source": [
    "df_start['predicted_total_points_next_gameweek'] = df_start['value'] * df_start['selected_by_percent'] / 10"
   ],
   "metadata": {
    "collapsed": false,
    "pycharm": {
     "name": "#%%\n"
    }
   }
  },
  {
   "cell_type": "code",
   "execution_count": 388,
   "outputs": [
    {
     "name": "stderr",
     "output_type": "stream",
     "text": [
      "d:\\studies\\informatyka\\semestr_3\\fpl_ai_manager\\venv\\lib\\site-packages\\pulp\\pulp.py:1352: UserWarning: Spaces are not permitted in the name. Converted to '_'\n",
      "  warnings.warn(\"Spaces are not permitted in the name. Converted to '_'\")\n"
     ]
    },
    {
     "name": "stdout",
     "output_type": "stream",
     "text": [
      "Total expected score = 450.15799999999996\n"
     ]
    }
   ],
   "source": [
    "decisions, captain_decisions, sub_decisions = select_team(df_start.predicted_total_points_next_gameweek.values, df_start.value.values, df_start.position_id.values, df_start.team.values, total_budget=100, sub_factor=0.3)"
   ],
   "metadata": {
    "collapsed": false,
    "pycharm": {
     "name": "#%%\n"
    }
   }
  },
  {
   "cell_type": "code",
   "execution_count": 389,
   "outputs": [
    {
     "data": {
      "text/plain": "<IPython.core.display.Markdown object>",
      "text/markdown": "**Gabriel Martinelli Silva** Predicted points = 12.36, Price = 6.0, Position = MID"
     },
     "metadata": {},
     "output_type": "display_data"
    },
    {
     "data": {
      "text/plain": "<IPython.core.display.Markdown object>",
      "text/markdown": "**Gabriel Fernando de Jesus** Predicted points = 60.16, Price = 8.0, Position = FWD"
     },
     "metadata": {},
     "output_type": "display_data"
    },
    {
     "data": {
      "text/plain": "<IPython.core.display.Markdown object>",
      "text/markdown": "**Reece James** Predicted points = 23.94, Price = 6.0, Position = DEF"
     },
     "metadata": {},
     "output_type": "display_data"
    },
    {
     "data": {
      "text/plain": "<IPython.core.display.Markdown object>",
      "text/markdown": "**Edouard Mendy** Predicted points = 10.55, Price = 5.0, Position = GK"
     },
     "metadata": {},
     "output_type": "display_data"
    },
    {
     "data": {
      "text/plain": "<IPython.core.display.Markdown object>",
      "text/markdown": "**Mohamed Salah** Predicted points = 79.3, Price = 13.0, Position = MID"
     },
     "metadata": {},
     "output_type": "display_data"
    },
    {
     "data": {
      "text/plain": "<IPython.core.display.Markdown object>",
      "text/markdown": "**Trent Alexander-Arnold** Predicted points = 44.33, Price = 7.5, Position = DEF"
     },
     "metadata": {},
     "output_type": "display_data"
    },
    {
     "data": {
      "text/plain": "<IPython.core.display.Markdown object>",
      "text/markdown": "**Luis Díaz** Predicted points = 17.76, Price = 8.0, Position = MID"
     },
     "metadata": {},
     "output_type": "display_data"
    },
    {
     "data": {
      "text/plain": "<IPython.core.display.Markdown object>",
      "text/markdown": "**João Cancelo** Predicted points = 31.78, Price = 7.0, Position = DEF"
     },
     "metadata": {},
     "output_type": "display_data"
    },
    {
     "data": {
      "text/plain": "<IPython.core.display.Markdown object>",
      "text/markdown": "**Erling Håland** Predicted points = 51.64, Price = 11.5, Position = FWD"
     },
     "metadata": {},
     "output_type": "display_data"
    },
    {
     "data": {
      "text/plain": "<IPython.core.display.Markdown object>",
      "text/markdown": "**Neco Williams** Predicted points = 11.52, Price = 4.0, Position = DEF"
     },
     "metadata": {},
     "output_type": "display_data"
    },
    {
     "data": {
      "text/plain": "<IPython.core.display.Markdown object>",
      "text/markdown": "**Ivan Perišić** Predicted points = 15.34, Price = 5.5, Position = DEF"
     },
     "metadata": {},
     "output_type": "display_data"
    },
    {
     "name": "stdout",
     "output_type": "stream",
     "text": [
      "\n",
      "Subs:\n"
     ]
    },
    {
     "data": {
      "text/plain": "<IPython.core.display.Markdown object>",
      "text/markdown": "**Andreas Hoelgebaum Pereira** Predicted points = 11.47, Price = 4.5, Position = MID"
     },
     "metadata": {},
     "output_type": "display_data"
    },
    {
     "data": {
      "text/plain": "<IPython.core.display.Markdown object>",
      "text/markdown": "**Danny Ward** Predicted points = 7.88, Price = 4.0, Position = GK"
     },
     "metadata": {},
     "output_type": "display_data"
    },
    {
     "data": {
      "text/plain": "<IPython.core.display.Markdown object>",
      "text/markdown": "**Sam Greenwood** Predicted points = 11.03, Price = 4.5, Position = FWD"
     },
     "metadata": {},
     "output_type": "display_data"
    },
    {
     "data": {
      "text/plain": "<IPython.core.display.Markdown object>",
      "text/markdown": "**Pedro Lomba Neto** Predicted points = 10.23, Price = 5.5, Position = MID"
     },
     "metadata": {},
     "output_type": "display_data"
    },
    {
     "name": "stdout",
     "output_type": "stream",
     "text": [
      "\n",
      "Captain:\n"
     ]
    },
    {
     "data": {
      "text/plain": "<IPython.core.display.Markdown object>",
      "text/markdown": "**Mohamed Salah** Predicted points = 79.3, Price = 13.0, Position = MID"
     },
     "metadata": {},
     "output_type": "display_data"
    }
   ],
   "source": [
    "print_selected_team(df_start, decisions, captain_decisions, sub_decisions)"
   ],
   "metadata": {
    "collapsed": false,
    "pycharm": {
     "name": "#%%\n"
    }
   }
  },
  {
   "cell_type": "markdown",
   "source": [
    "## Get transfer for second gameweek"
   ],
   "metadata": {
    "collapsed": false,
    "pycharm": {
     "name": "#%% md\n"
    }
   }
  },
  {
   "cell_type": "code",
   "execution_count": 15,
   "outputs": [],
   "source": [
    "model_path = '/models/baseline/model_mlp_rolling_opponent_stats_features.h5'\n",
    "sclaer_path = '/models/baseline/SCALER-model_mlp_rolling_opponent_stats_features.gz'"
   ],
   "metadata": {
    "collapsed": false,
    "pycharm": {
     "name": "#%%\n"
    }
   }
  },
  {
   "cell_type": "code",
   "execution_count": 17,
   "outputs": [
    {
     "name": "stdout",
     "output_type": "stream",
     "text": [
      "Are there any NaN values? - False\n"
     ]
    },
    {
     "name": "stderr",
     "output_type": "stream",
     "text": [
      "d:\\studies\\informatyka\\semestr_3\\fpl_ai_manager\\venv\\lib\\site-packages\\pulp\\pulp.py:1352: UserWarning: Spaces are not permitted in the name. Converted to '_'\n",
      "  warnings.warn(\"Spaces are not permitted in the name. Converted to '_'\")\n"
     ]
    },
    {
     "name": "stdout",
     "output_type": "stream",
     "text": [
      "Solver status: 1\n",
      "\n",
      "Selected Transfers:\n"
     ]
    },
    {
     "data": {
      "text/plain": "<IPython.core.display.Markdown object>",
      "text/markdown": "Transferred out: **Mohamed Salah**, Predicted points = 14.72, Price = 13.0"
     },
     "metadata": {},
     "output_type": "display_data"
    },
    {
     "data": {
      "text/plain": "<IPython.core.display.Markdown object>",
      "text/markdown": "Transferred in: **Son Heung-min**, Predicted points = 45.24, Price = 12.0"
     },
     "metadata": {},
     "output_type": "display_data"
    },
    {
     "name": "stdout",
     "output_type": "stream",
     "text": [
      "\n",
      "Selected Squad:\n"
     ]
    },
    {
     "data": {
      "text/plain": "<IPython.core.display.Markdown object>",
      "text/markdown": "**Gabriel Martinelli Silva** Predicted points = 13.81, Price = 6.0, Position = MID"
     },
     "metadata": {},
     "output_type": "display_data"
    },
    {
     "data": {
      "text/plain": "<IPython.core.display.Markdown object>",
      "text/markdown": "**Reece James** Predicted points = 9.61, Price = 6.0, Position = DEF"
     },
     "metadata": {},
     "output_type": "display_data"
    },
    {
     "data": {
      "text/plain": "<IPython.core.display.Markdown object>",
      "text/markdown": "**Danny Ward** Predicted points = 11.34, Price = 4.0, Position = GK"
     },
     "metadata": {},
     "output_type": "display_data"
    },
    {
     "data": {
      "text/plain": "<IPython.core.display.Markdown object>",
      "text/markdown": "**Trent Alexander-Arnold** Predicted points = 18.59, Price = 7.5, Position = DEF"
     },
     "metadata": {},
     "output_type": "display_data"
    },
    {
     "data": {
      "text/plain": "<IPython.core.display.Markdown object>",
      "text/markdown": "**Luis Díaz** Predicted points = 12.76, Price = 8.0, Position = MID"
     },
     "metadata": {},
     "output_type": "display_data"
    },
    {
     "data": {
      "text/plain": "<IPython.core.display.Markdown object>",
      "text/markdown": "**João Cancelo** Predicted points = 10.4, Price = 7.0, Position = DEF"
     },
     "metadata": {},
     "output_type": "display_data"
    },
    {
     "data": {
      "text/plain": "<IPython.core.display.Markdown object>",
      "text/markdown": "**Erling Haaland** Predicted points = 16.88, Price = 11.5, Position = FWD"
     },
     "metadata": {},
     "output_type": "display_data"
    },
    {
     "data": {
      "text/plain": "<IPython.core.display.Markdown object>",
      "text/markdown": "**Andreas Hoelgebaum Pereira** Predicted points = 8.49, Price = 4.5, Position = MID"
     },
     "metadata": {},
     "output_type": "display_data"
    },
    {
     "data": {
      "text/plain": "<IPython.core.display.Markdown object>",
      "text/markdown": "**Son Heung-min** Predicted points = 45.24, Price = 12.0, Position = MID"
     },
     "metadata": {},
     "output_type": "display_data"
    },
    {
     "data": {
      "text/plain": "<IPython.core.display.Markdown object>",
      "text/markdown": "**Ivan Perišić** Predicted points = 9.06, Price = 5.5, Position = DEF"
     },
     "metadata": {},
     "output_type": "display_data"
    },
    {
     "data": {
      "text/plain": "<IPython.core.display.Markdown object>",
      "text/markdown": "**Pedro Lomba Neto** Predicted points = 10.51, Price = 5.5, Position = MID"
     },
     "metadata": {},
     "output_type": "display_data"
    },
    {
     "name": "stdout",
     "output_type": "stream",
     "text": [
      "\n",
      "Subs:\n"
     ]
    },
    {
     "data": {
      "text/plain": "<IPython.core.display.Markdown object>",
      "text/markdown": "**Gabriel Fernando de Jesus** Predicted points = 7.82, Price = 8.0, Position = FWD"
     },
     "metadata": {},
     "output_type": "display_data"
    },
    {
     "data": {
      "text/plain": "<IPython.core.display.Markdown object>",
      "text/markdown": "**Edouard Mendy** Predicted points = 9.94, Price = 5.0, Position = GK"
     },
     "metadata": {},
     "output_type": "display_data"
    },
    {
     "data": {
      "text/plain": "<IPython.core.display.Markdown object>",
      "text/markdown": "**Sam Greenwood** Predicted points = 4.15, Price = 4.5, Position = FWD"
     },
     "metadata": {},
     "output_type": "display_data"
    },
    {
     "data": {
      "text/plain": "<IPython.core.display.Markdown object>",
      "text/markdown": "**Neco Williams** Predicted points = 6.97, Price = 4.0, Position = DEF"
     },
     "metadata": {},
     "output_type": "display_data"
    },
    {
     "name": "stdout",
     "output_type": "stream",
     "text": [
      "\n",
      "Captain:\n"
     ]
    },
    {
     "data": {
      "text/plain": "<IPython.core.display.Markdown object>",
      "text/markdown": "**Son Heung-min** Predicted points = 45.24, Price = 12.0, Position = MID"
     },
     "metadata": {},
     "output_type": "display_data"
    }
   ],
   "source": [
    "from src.squad_selection.predict_and_select import predict_and_select_transfer\n",
    "\n",
    "predict_and_select_transfer('2022-23', 1, model_path, sclaer_path, download_newest_data=False)"
   ],
   "metadata": {
    "collapsed": false,
    "pycharm": {
     "name": "#%%\n"
    }
   }
  },
  {
   "cell_type": "markdown",
   "source": [
    "## Get transfer for third gameweek"
   ],
   "metadata": {
    "collapsed": false,
    "pycharm": {
     "name": "#%% md\n"
    }
   }
  },
  {
   "cell_type": "code",
   "execution_count": 4,
   "outputs": [],
   "source": [
    "\n"
   ],
   "metadata": {
    "collapsed": false,
    "pycharm": {
     "name": "#%%\n"
    }
   }
  },
  {
   "cell_type": "code",
   "execution_count": 5,
   "outputs": [],
   "source": [
    "model_path = ['/models/model_mlp_gk.h5', '/models/model_mlp_field.h5']\n",
    "scaler_path = ['/models/scaler_gk.gz', '/models/scaler_field.gz']"
   ],
   "metadata": {
    "collapsed": false,
    "pycharm": {
     "name": "#%%\n"
    }
   }
  },
  {
   "cell_type": "code",
   "execution_count": 6,
   "outputs": [
    {
     "name": "stdout",
     "output_type": "stream",
     "text": [
      "Are there any NaN values? - False\n",
      "Are there any NaN values? - False\n"
     ]
    },
    {
     "name": "stderr",
     "output_type": "stream",
     "text": [
      "d:\\studies\\informatyka\\semestr_3\\fpl_ai_manager\\venv\\lib\\site-packages\\pulp\\pulp.py:1352: UserWarning: Spaces are not permitted in the name. Converted to '_'\n",
      "  warnings.warn(\"Spaces are not permitted in the name. Converted to '_'\")\n"
     ]
    },
    {
     "name": "stdout",
     "output_type": "stream",
     "text": [
      "Solver status: 1\n",
      "\n",
      "Selected Transfers:\n"
     ]
    },
    {
     "data": {
      "text/plain": "<IPython.core.display.Markdown object>",
      "text/markdown": "Transferred in: **Oleksandr Zinchenko**, Predicted points = 11.7, Price = 5.1"
     },
     "metadata": {},
     "output_type": "display_data"
    },
    {
     "data": {
      "text/plain": "<IPython.core.display.Markdown object>",
      "text/markdown": "Transferred out: **Ivan Perišić**, Predicted points = 7.81, Price = 5.5"
     },
     "metadata": {},
     "output_type": "display_data"
    },
    {
     "name": "stdout",
     "output_type": "stream",
     "text": [
      "\n",
      "Selected Squad:\n"
     ]
    },
    {
     "data": {
      "text/plain": "<IPython.core.display.Markdown object>",
      "text/markdown": "**Gabriel Martinelli Silva** Predicted points = 14.93, Price = 6.1, Position = MID"
     },
     "metadata": {},
     "output_type": "display_data"
    },
    {
     "data": {
      "text/plain": "<IPython.core.display.Markdown object>",
      "text/markdown": "**Gabriel Fernando de Jesus** Predicted points = 15.45, Price = 8.0, Position = FWD"
     },
     "metadata": {},
     "output_type": "display_data"
    },
    {
     "data": {
      "text/plain": "<IPython.core.display.Markdown object>",
      "text/markdown": "**Reece James** Predicted points = 12.88, Price = 6.0, Position = DEF"
     },
     "metadata": {},
     "output_type": "display_data"
    },
    {
     "data": {
      "text/plain": "<IPython.core.display.Markdown object>",
      "text/markdown": "**Edouard Mendy** Predicted points = 10.42, Price = 5.0, Position = GK"
     },
     "metadata": {},
     "output_type": "display_data"
    },
    {
     "data": {
      "text/plain": "<IPython.core.display.Markdown object>",
      "text/markdown": "**Trent Alexander-Arnold** Predicted points = 15.73, Price = 7.5, Position = DEF"
     },
     "metadata": {},
     "output_type": "display_data"
    },
    {
     "data": {
      "text/plain": "<IPython.core.display.Markdown object>",
      "text/markdown": "**Luis Díaz** Predicted points = 12.75, Price = 8.0, Position = MID"
     },
     "metadata": {},
     "output_type": "display_data"
    },
    {
     "data": {
      "text/plain": "<IPython.core.display.Markdown object>",
      "text/markdown": "**João Cancelo** Predicted points = 13.45, Price = 7.0, Position = DEF"
     },
     "metadata": {},
     "output_type": "display_data"
    },
    {
     "data": {
      "text/plain": "<IPython.core.display.Markdown object>",
      "text/markdown": "**Oleksandr Zinchenko** Predicted points = 11.7, Price = 5.1, Position = DEF"
     },
     "metadata": {},
     "output_type": "display_data"
    },
    {
     "data": {
      "text/plain": "<IPython.core.display.Markdown object>",
      "text/markdown": "**Erling Haaland** Predicted points = 20.0, Price = 11.6, Position = FWD"
     },
     "metadata": {},
     "output_type": "display_data"
    },
    {
     "data": {
      "text/plain": "<IPython.core.display.Markdown object>",
      "text/markdown": "**Son Heung-min** Predicted points = 18.31, Price = 12.0, Position = MID"
     },
     "metadata": {},
     "output_type": "display_data"
    },
    {
     "data": {
      "text/plain": "<IPython.core.display.Markdown object>",
      "text/markdown": "**Pedro Lomba Neto** Predicted points = 10.81, Price = 5.5, Position = MID"
     },
     "metadata": {},
     "output_type": "display_data"
    },
    {
     "name": "stdout",
     "output_type": "stream",
     "text": [
      "\n",
      "Subs:\n"
     ]
    },
    {
     "data": {
      "text/plain": "<IPython.core.display.Markdown object>",
      "text/markdown": "**Sam Greenwood** Predicted points = 3.03, Price = 4.5, Position = FWD"
     },
     "metadata": {},
     "output_type": "display_data"
    },
    {
     "data": {
      "text/plain": "<IPython.core.display.Markdown object>",
      "text/markdown": "**Danny Ward** Predicted points = 9.98, Price = 4.0, Position = GK"
     },
     "metadata": {},
     "output_type": "display_data"
    },
    {
     "data": {
      "text/plain": "<IPython.core.display.Markdown object>",
      "text/markdown": "**Neco Williams** Predicted points = 9.48, Price = 4.0, Position = DEF"
     },
     "metadata": {},
     "output_type": "display_data"
    },
    {
     "data": {
      "text/plain": "<IPython.core.display.Markdown object>",
      "text/markdown": "**Andreas Hoelgebaum Pereira** Predicted points = 6.66, Price = 4.5, Position = MID"
     },
     "metadata": {},
     "output_type": "display_data"
    },
    {
     "name": "stdout",
     "output_type": "stream",
     "text": [
      "\n",
      "Captain:\n"
     ]
    },
    {
     "data": {
      "text/plain": "<IPython.core.display.Markdown object>",
      "text/markdown": "**Erling Haaland** Predicted points = 20.0, Price = 11.6, Position = FWD"
     },
     "metadata": {},
     "output_type": "display_data"
    }
   ],
   "source": [
    "from src.squad_selection.predict_and_select import predict_and_select_transfer\n",
    "\n",
    "predict_and_select_transfer('2022-23', 2, model_path, scaler_path, download_newest_data=False, get_actual_chance_playing=True, position_separated=True)"
   ],
   "metadata": {
    "collapsed": false,
    "pycharm": {
     "name": "#%%\n"
    }
   }
  },
  {
   "cell_type": "code",
   "execution_count": 9,
   "outputs": [
    {
     "data": {
      "text/plain": "     predicted_total_points_next_gameweek                      name  element  \\\n0                                0.004445             Asmir Begović      176   \n1                                0.053461             Asmir Begović      176   \n2                                0.030594             Asmir Begović      176   \n3                                3.379004  Emiliano Martínez Romero       31   \n4                                3.483736  Emiliano Martínez Romero       31   \n..                                    ...                       ...      ...   \n169                              3.650696     Alisson Ramses Becker      281   \n170                              3.410596     Alisson Ramses Becker      281   \n171                              3.134371            Vicente Guaita      152   \n172                              2.924419            Vicente Guaita      152   \n173                              3.194485            Vicente Guaita      152   \n\n               team  GW   season opponent_next_gameweek  value position  \n0           Everton   2  2022-23      Nottingham Forest     40       GK  \n1           Everton   2  2022-23              Brentford     40       GK  \n2           Everton   2  2022-23                  Leeds     40       GK  \n3       Aston Villa   2  2022-23         Crystal Palace     50       GK  \n4       Aston Villa   2  2022-23               West Ham     50       GK  \n..              ...  ..      ...                    ...    ...      ...  \n169       Liverpool   2  2022-23            Bournemouth     55       GK  \n170       Liverpool   2  2022-23       Newcastle United     55       GK  \n171  Crystal Palace   2  2022-23            Aston Villa     45       GK  \n172  Crystal Palace   2  2022-23        Manchester City     45       GK  \n173  Crystal Palace   2  2022-23              Brentford     45       GK  \n\n[174 rows x 9 columns]",
      "text/html": "<div>\n<style scoped>\n    .dataframe tbody tr th:only-of-type {\n        vertical-align: middle;\n    }\n\n    .dataframe tbody tr th {\n        vertical-align: top;\n    }\n\n    .dataframe thead th {\n        text-align: right;\n    }\n</style>\n<table border=\"1\" class=\"dataframe\">\n  <thead>\n    <tr style=\"text-align: right;\">\n      <th></th>\n      <th>predicted_total_points_next_gameweek</th>\n      <th>name</th>\n      <th>element</th>\n      <th>team</th>\n      <th>GW</th>\n      <th>season</th>\n      <th>opponent_next_gameweek</th>\n      <th>value</th>\n      <th>position</th>\n    </tr>\n  </thead>\n  <tbody>\n    <tr>\n      <th>0</th>\n      <td>0.004445</td>\n      <td>Asmir Begović</td>\n      <td>176</td>\n      <td>Everton</td>\n      <td>2</td>\n      <td>2022-23</td>\n      <td>Nottingham Forest</td>\n      <td>40</td>\n      <td>GK</td>\n    </tr>\n    <tr>\n      <th>1</th>\n      <td>0.053461</td>\n      <td>Asmir Begović</td>\n      <td>176</td>\n      <td>Everton</td>\n      <td>2</td>\n      <td>2022-23</td>\n      <td>Brentford</td>\n      <td>40</td>\n      <td>GK</td>\n    </tr>\n    <tr>\n      <th>2</th>\n      <td>0.030594</td>\n      <td>Asmir Begović</td>\n      <td>176</td>\n      <td>Everton</td>\n      <td>2</td>\n      <td>2022-23</td>\n      <td>Leeds</td>\n      <td>40</td>\n      <td>GK</td>\n    </tr>\n    <tr>\n      <th>3</th>\n      <td>3.379004</td>\n      <td>Emiliano Martínez Romero</td>\n      <td>31</td>\n      <td>Aston Villa</td>\n      <td>2</td>\n      <td>2022-23</td>\n      <td>Crystal Palace</td>\n      <td>50</td>\n      <td>GK</td>\n    </tr>\n    <tr>\n      <th>4</th>\n      <td>3.483736</td>\n      <td>Emiliano Martínez Romero</td>\n      <td>31</td>\n      <td>Aston Villa</td>\n      <td>2</td>\n      <td>2022-23</td>\n      <td>West Ham</td>\n      <td>50</td>\n      <td>GK</td>\n    </tr>\n    <tr>\n      <th>...</th>\n      <td>...</td>\n      <td>...</td>\n      <td>...</td>\n      <td>...</td>\n      <td>...</td>\n      <td>...</td>\n      <td>...</td>\n      <td>...</td>\n      <td>...</td>\n    </tr>\n    <tr>\n      <th>169</th>\n      <td>3.650696</td>\n      <td>Alisson Ramses Becker</td>\n      <td>281</td>\n      <td>Liverpool</td>\n      <td>2</td>\n      <td>2022-23</td>\n      <td>Bournemouth</td>\n      <td>55</td>\n      <td>GK</td>\n    </tr>\n    <tr>\n      <th>170</th>\n      <td>3.410596</td>\n      <td>Alisson Ramses Becker</td>\n      <td>281</td>\n      <td>Liverpool</td>\n      <td>2</td>\n      <td>2022-23</td>\n      <td>Newcastle United</td>\n      <td>55</td>\n      <td>GK</td>\n    </tr>\n    <tr>\n      <th>171</th>\n      <td>3.134371</td>\n      <td>Vicente Guaita</td>\n      <td>152</td>\n      <td>Crystal Palace</td>\n      <td>2</td>\n      <td>2022-23</td>\n      <td>Aston Villa</td>\n      <td>45</td>\n      <td>GK</td>\n    </tr>\n    <tr>\n      <th>172</th>\n      <td>2.924419</td>\n      <td>Vicente Guaita</td>\n      <td>152</td>\n      <td>Crystal Palace</td>\n      <td>2</td>\n      <td>2022-23</td>\n      <td>Manchester City</td>\n      <td>45</td>\n      <td>GK</td>\n    </tr>\n    <tr>\n      <th>173</th>\n      <td>3.194485</td>\n      <td>Vicente Guaita</td>\n      <td>152</td>\n      <td>Crystal Palace</td>\n      <td>2</td>\n      <td>2022-23</td>\n      <td>Brentford</td>\n      <td>45</td>\n      <td>GK</td>\n    </tr>\n  </tbody>\n</table>\n<p>174 rows × 9 columns</p>\n</div>"
     },
     "execution_count": 9,
     "metadata": {},
     "output_type": "execute_result"
    }
   ],
   "source": [
    "prediction_df_gk"
   ],
   "metadata": {
    "collapsed": false,
    "pycharm": {
     "name": "#%%\n"
    }
   }
  },
  {
   "cell_type": "code",
   "execution_count": 10,
   "outputs": [
    {
     "data": {
      "text/plain": "      predicted_total_points_next_gameweek                       name  \\\n0                                 0.132556              Kortney Hause   \n1                                 0.169840              Kortney Hause   \n2                                 0.081418              Kortney Hause   \n3                                 3.361469  Philippe Coutinho Correia   \n4                                 3.470936  Philippe Coutinho Correia   \n...                                    ...                        ...   \n1564                              0.890246                  Joel Ward   \n1565                              1.672953                  Joel Ward   \n1566                              1.375211            Roberto Firmino   \n1567                              1.532961            Roberto Firmino   \n1568                              1.066254            Roberto Firmino   \n\n      element            team  GW   season opponent_next_gameweek  value  \\\n0          38     Aston Villa   2  2022-23         Crystal Palace     45   \n1          38     Aston Villa   2  2022-23               West Ham     45   \n2          38     Aston Villa   2  2022-23                Arsenal     45   \n3          29     Aston Villa   2  2022-23         Crystal Palace     70   \n4          29     Aston Villa   2  2022-23               West Ham     70   \n...       ...             ...  ..      ...                    ...    ...   \n1564      156  Crystal Palace   2  2022-23        Manchester City     45   \n1565      156  Crystal Palace   2  2022-23              Brentford     45   \n1566      279       Liverpool   2  2022-23      Manchester United     80   \n1567      279       Liverpool   2  2022-23            Bournemouth     80   \n1568      279       Liverpool   2  2022-23       Newcastle United     80   \n\n     position  \n0         DEF  \n1         DEF  \n2         DEF  \n3         MID  \n4         MID  \n...       ...  \n1564      DEF  \n1565      DEF  \n1566      FWD  \n1567      FWD  \n1568      FWD  \n\n[1569 rows x 9 columns]",
      "text/html": "<div>\n<style scoped>\n    .dataframe tbody tr th:only-of-type {\n        vertical-align: middle;\n    }\n\n    .dataframe tbody tr th {\n        vertical-align: top;\n    }\n\n    .dataframe thead th {\n        text-align: right;\n    }\n</style>\n<table border=\"1\" class=\"dataframe\">\n  <thead>\n    <tr style=\"text-align: right;\">\n      <th></th>\n      <th>predicted_total_points_next_gameweek</th>\n      <th>name</th>\n      <th>element</th>\n      <th>team</th>\n      <th>GW</th>\n      <th>season</th>\n      <th>opponent_next_gameweek</th>\n      <th>value</th>\n      <th>position</th>\n    </tr>\n  </thead>\n  <tbody>\n    <tr>\n      <th>0</th>\n      <td>0.132556</td>\n      <td>Kortney Hause</td>\n      <td>38</td>\n      <td>Aston Villa</td>\n      <td>2</td>\n      <td>2022-23</td>\n      <td>Crystal Palace</td>\n      <td>45</td>\n      <td>DEF</td>\n    </tr>\n    <tr>\n      <th>1</th>\n      <td>0.169840</td>\n      <td>Kortney Hause</td>\n      <td>38</td>\n      <td>Aston Villa</td>\n      <td>2</td>\n      <td>2022-23</td>\n      <td>West Ham</td>\n      <td>45</td>\n      <td>DEF</td>\n    </tr>\n    <tr>\n      <th>2</th>\n      <td>0.081418</td>\n      <td>Kortney Hause</td>\n      <td>38</td>\n      <td>Aston Villa</td>\n      <td>2</td>\n      <td>2022-23</td>\n      <td>Arsenal</td>\n      <td>45</td>\n      <td>DEF</td>\n    </tr>\n    <tr>\n      <th>3</th>\n      <td>3.361469</td>\n      <td>Philippe Coutinho Correia</td>\n      <td>29</td>\n      <td>Aston Villa</td>\n      <td>2</td>\n      <td>2022-23</td>\n      <td>Crystal Palace</td>\n      <td>70</td>\n      <td>MID</td>\n    </tr>\n    <tr>\n      <th>4</th>\n      <td>3.470936</td>\n      <td>Philippe Coutinho Correia</td>\n      <td>29</td>\n      <td>Aston Villa</td>\n      <td>2</td>\n      <td>2022-23</td>\n      <td>West Ham</td>\n      <td>70</td>\n      <td>MID</td>\n    </tr>\n    <tr>\n      <th>...</th>\n      <td>...</td>\n      <td>...</td>\n      <td>...</td>\n      <td>...</td>\n      <td>...</td>\n      <td>...</td>\n      <td>...</td>\n      <td>...</td>\n      <td>...</td>\n    </tr>\n    <tr>\n      <th>1564</th>\n      <td>0.890246</td>\n      <td>Joel Ward</td>\n      <td>156</td>\n      <td>Crystal Palace</td>\n      <td>2</td>\n      <td>2022-23</td>\n      <td>Manchester City</td>\n      <td>45</td>\n      <td>DEF</td>\n    </tr>\n    <tr>\n      <th>1565</th>\n      <td>1.672953</td>\n      <td>Joel Ward</td>\n      <td>156</td>\n      <td>Crystal Palace</td>\n      <td>2</td>\n      <td>2022-23</td>\n      <td>Brentford</td>\n      <td>45</td>\n      <td>DEF</td>\n    </tr>\n    <tr>\n      <th>1566</th>\n      <td>1.375211</td>\n      <td>Roberto Firmino</td>\n      <td>279</td>\n      <td>Liverpool</td>\n      <td>2</td>\n      <td>2022-23</td>\n      <td>Manchester United</td>\n      <td>80</td>\n      <td>FWD</td>\n    </tr>\n    <tr>\n      <th>1567</th>\n      <td>1.532961</td>\n      <td>Roberto Firmino</td>\n      <td>279</td>\n      <td>Liverpool</td>\n      <td>2</td>\n      <td>2022-23</td>\n      <td>Bournemouth</td>\n      <td>80</td>\n      <td>FWD</td>\n    </tr>\n    <tr>\n      <th>1568</th>\n      <td>1.066254</td>\n      <td>Roberto Firmino</td>\n      <td>279</td>\n      <td>Liverpool</td>\n      <td>2</td>\n      <td>2022-23</td>\n      <td>Newcastle United</td>\n      <td>80</td>\n      <td>FWD</td>\n    </tr>\n  </tbody>\n</table>\n<p>1569 rows × 9 columns</p>\n</div>"
     },
     "execution_count": 10,
     "metadata": {},
     "output_type": "execute_result"
    }
   ],
   "source": [
    "prediction_df_field"
   ],
   "metadata": {
    "collapsed": false,
    "pycharm": {
     "name": "#%%\n"
    }
   }
  },
  {
   "cell_type": "code",
   "execution_count": null,
   "outputs": [],
   "source": [],
   "metadata": {
    "collapsed": false,
    "pycharm": {
     "name": "#%%\n"
    }
   }
  }
 ],
 "metadata": {
  "kernelspec": {
   "display_name": "Python 3",
   "language": "python",
   "name": "python3"
  },
  "language_info": {
   "codemirror_mode": {
    "name": "ipython",
    "version": 2
   },
   "file_extension": ".py",
   "mimetype": "text/x-python",
   "name": "python",
   "nbconvert_exporter": "python",
   "pygments_lexer": "ipython2",
   "version": "2.7.6"
  }
 },
 "nbformat": 4,
 "nbformat_minor": 0
}