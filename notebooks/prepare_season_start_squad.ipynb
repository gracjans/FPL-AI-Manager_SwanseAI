{
 "cells": [
  {
   "cell_type": "code",
   "execution_count": 1,
   "outputs": [],
   "source": [
    "import os\n",
    "import pandas as pd\n",
    "\n",
    "from src.squad_selection.select_team import select_team\n",
    "from src.squad_selection.select_team import print_selected_team"
   ],
   "metadata": {
    "collapsed": false,
    "pycharm": {
     "name": "#%%\n"
    }
   }
  },
  {
   "cell_type": "code",
   "execution_count": 2,
   "outputs": [],
   "source": [
    "# load data/raw/Fantasy-Premier-League/2022-23/cleaned_players.csv\n",
    "root_dir = os.path.dirname(os.path.abspath(''))\n",
    "df_season_start = pd.read_csv(root_dir + '/data/raw/Fantasy-Premier-League/2022-23/players_raw.csv')\n",
    "teams = pd.read_csv(root_dir + '/data/raw/Fantasy-Premier-League/2022-23/teams.csv')"
   ],
   "metadata": {
    "collapsed": false,
    "pycharm": {
     "name": "#%%\n"
    }
   }
  },
  {
   "cell_type": "code",
   "execution_count": 3,
   "outputs": [],
   "source": [
    "df_season_start['name'] = df_season_start['first_name'] + ' ' + df_season_start['second_name']"
   ],
   "metadata": {
    "collapsed": false,
    "pycharm": {
     "name": "#%%\n"
    }
   }
  },
  {
   "cell_type": "code",
   "execution_count": 4,
   "outputs": [
    {
     "data": {
      "text/plain": "   assists  bonus  bps chance_of_playing_next_round  \\\n0        0      0    0                         None   \n1        2      2   95                         None   \n2        0      0   15                            0   \n3        0      0    8                         None   \n4        0      0   39                            0   \n\n  chance_of_playing_this_round  clean_sheets    code  \\\n0                         None             0   58822   \n1                         None             2   84450   \n2                           25             0  153256   \n3                         None             0  156074   \n4                           25             2  167199   \n\n  corners_and_indirect_freekicks_order  corners_and_indirect_freekicks_text  \\\n0                                    5                                  NaN   \n1                                 None                                  NaN   \n2                                 None                                  NaN   \n3                                 None                                  NaN   \n4                                 None                                  NaN   \n\n   cost_change_event  ...  total_points  transfers_in  transfers_in_event  \\\n0                  0  ...             0          3518                 296   \n1                  0  ...            24        303352               30131   \n2                  0  ...             2         90062                 710   \n3                  0  ...             2          2480                 342   \n4                  0  ...             8         25368                 103   \n\n   transfers_out  transfers_out_event  value_form value_season  web_name  \\\n0          18466                 1139         0.0          0.0    Cédric   \n1         134055                25786         1.0          4.8     Xhaka   \n2         126457                18264         0.1          0.5    Elneny   \n3          10371                  638         0.1          0.5   Holding   \n4          57694                 6745         0.3          1.6    Partey   \n\n   yellow_cards                 name  \n0             0  Cédric Alves Soares  \n1             1         Granit Xhaka  \n2             0       Mohamed Elneny  \n3             0          Rob Holding  \n4             0        Thomas Partey  \n\n[5 rows x 68 columns]",
      "text/html": "<div>\n<style scoped>\n    .dataframe tbody tr th:only-of-type {\n        vertical-align: middle;\n    }\n\n    .dataframe tbody tr th {\n        vertical-align: top;\n    }\n\n    .dataframe thead th {\n        text-align: right;\n    }\n</style>\n<table border=\"1\" class=\"dataframe\">\n  <thead>\n    <tr style=\"text-align: right;\">\n      <th></th>\n      <th>assists</th>\n      <th>bonus</th>\n      <th>bps</th>\n      <th>chance_of_playing_next_round</th>\n      <th>chance_of_playing_this_round</th>\n      <th>clean_sheets</th>\n      <th>code</th>\n      <th>corners_and_indirect_freekicks_order</th>\n      <th>corners_and_indirect_freekicks_text</th>\n      <th>cost_change_event</th>\n      <th>...</th>\n      <th>total_points</th>\n      <th>transfers_in</th>\n      <th>transfers_in_event</th>\n      <th>transfers_out</th>\n      <th>transfers_out_event</th>\n      <th>value_form</th>\n      <th>value_season</th>\n      <th>web_name</th>\n      <th>yellow_cards</th>\n      <th>name</th>\n    </tr>\n  </thead>\n  <tbody>\n    <tr>\n      <th>0</th>\n      <td>0</td>\n      <td>0</td>\n      <td>0</td>\n      <td>None</td>\n      <td>None</td>\n      <td>0</td>\n      <td>58822</td>\n      <td>5</td>\n      <td>NaN</td>\n      <td>0</td>\n      <td>...</td>\n      <td>0</td>\n      <td>3518</td>\n      <td>296</td>\n      <td>18466</td>\n      <td>1139</td>\n      <td>0.0</td>\n      <td>0.0</td>\n      <td>Cédric</td>\n      <td>0</td>\n      <td>Cédric Alves Soares</td>\n    </tr>\n    <tr>\n      <th>1</th>\n      <td>2</td>\n      <td>2</td>\n      <td>95</td>\n      <td>None</td>\n      <td>None</td>\n      <td>2</td>\n      <td>84450</td>\n      <td>None</td>\n      <td>NaN</td>\n      <td>0</td>\n      <td>...</td>\n      <td>24</td>\n      <td>303352</td>\n      <td>30131</td>\n      <td>134055</td>\n      <td>25786</td>\n      <td>1.0</td>\n      <td>4.8</td>\n      <td>Xhaka</td>\n      <td>1</td>\n      <td>Granit Xhaka</td>\n    </tr>\n    <tr>\n      <th>2</th>\n      <td>0</td>\n      <td>0</td>\n      <td>15</td>\n      <td>0</td>\n      <td>25</td>\n      <td>0</td>\n      <td>153256</td>\n      <td>None</td>\n      <td>NaN</td>\n      <td>0</td>\n      <td>...</td>\n      <td>2</td>\n      <td>90062</td>\n      <td>710</td>\n      <td>126457</td>\n      <td>18264</td>\n      <td>0.1</td>\n      <td>0.5</td>\n      <td>Elneny</td>\n      <td>0</td>\n      <td>Mohamed Elneny</td>\n    </tr>\n    <tr>\n      <th>3</th>\n      <td>0</td>\n      <td>0</td>\n      <td>8</td>\n      <td>None</td>\n      <td>None</td>\n      <td>0</td>\n      <td>156074</td>\n      <td>None</td>\n      <td>NaN</td>\n      <td>0</td>\n      <td>...</td>\n      <td>2</td>\n      <td>2480</td>\n      <td>342</td>\n      <td>10371</td>\n      <td>638</td>\n      <td>0.1</td>\n      <td>0.5</td>\n      <td>Holding</td>\n      <td>0</td>\n      <td>Rob Holding</td>\n    </tr>\n    <tr>\n      <th>4</th>\n      <td>0</td>\n      <td>0</td>\n      <td>39</td>\n      <td>0</td>\n      <td>25</td>\n      <td>2</td>\n      <td>167199</td>\n      <td>None</td>\n      <td>NaN</td>\n      <td>0</td>\n      <td>...</td>\n      <td>8</td>\n      <td>25368</td>\n      <td>103</td>\n      <td>57694</td>\n      <td>6745</td>\n      <td>0.3</td>\n      <td>1.6</td>\n      <td>Partey</td>\n      <td>0</td>\n      <td>Thomas Partey</td>\n    </tr>\n  </tbody>\n</table>\n<p>5 rows × 68 columns</p>\n</div>"
     },
     "execution_count": 4,
     "metadata": {},
     "output_type": "execute_result"
    }
   ],
   "source": [
    "df_season_start.head()"
   ],
   "metadata": {
    "collapsed": false,
    "pycharm": {
     "name": "#%%\n"
    }
   }
  },
  {
   "cell_type": "markdown",
   "source": [
    "## Conclusion\n",
    "There is problem with selecting starting squad for new season, since now we have only premier league data, so there is lask of stats for new players in the league. I'll try to use data about percent of ownership and value to create some simple predictions based on these values."
   ],
   "metadata": {
    "collapsed": false,
    "pycharm": {
     "name": "#%% md\n"
    }
   }
  },
  {
   "cell_type": "code",
   "execution_count": 381,
   "outputs": [],
   "source": [
    "df_start = df_season_start.copy()"
   ],
   "metadata": {
    "collapsed": false,
    "pycharm": {
     "name": "#%%\n"
    }
   }
  },
  {
   "cell_type": "code",
   "execution_count": 382,
   "outputs": [],
   "source": [
    "df_start = df_start[['name', 'id', 'now_cost', 'team', 'element_type', 'selected_by_percent']]"
   ],
   "metadata": {
    "collapsed": false,
    "pycharm": {
     "name": "#%%\n"
    }
   }
  },
  {
   "cell_type": "code",
   "execution_count": 383,
   "outputs": [],
   "source": [
    "df_start.rename(columns={'id': 'element','now_cost': 'value', 'element_type': 'position_id'}, inplace=True)"
   ],
   "metadata": {
    "collapsed": false,
    "pycharm": {
     "name": "#%%\n"
    }
   }
  },
  {
   "cell_type": "code",
   "execution_count": 384,
   "outputs": [],
   "source": [
    "# replace df_start['team'] with teams['name'] where teams['id'] == df_start['team']\n",
    "df_start['team'] = df_start.apply(lambda row: teams.loc[teams['id'] == row['team'], 'name'].values[0], axis=1)\n",
    "df_start['value'] = df_start['value'] / 10\n",
    "df_start['position'] = df_start['position_id'].map({1: 'GK', 2: 'DEF', 3: 'MID', 4: 'FWD'})"
   ],
   "metadata": {
    "collapsed": false,
    "pycharm": {
     "name": "#%%\n"
    }
   }
  },
  {
   "cell_type": "markdown",
   "source": [
    "Create predicted points by multiplying value and ownership percent."
   ],
   "metadata": {
    "collapsed": false,
    "pycharm": {
     "name": "#%% md\n"
    }
   }
  },
  {
   "cell_type": "code",
   "execution_count": 385,
   "outputs": [],
   "source": [
    "df_start['predicted_total_points_next_gameweek'] = df_start['value'] * df_start['selected_by_percent'] / 10"
   ],
   "metadata": {
    "collapsed": false,
    "pycharm": {
     "name": "#%%\n"
    }
   }
  },
  {
   "cell_type": "code",
   "execution_count": 386,
   "outputs": [
    {
     "data": {
      "text/plain": "                           name  element  value           team  position_id  \\\n26    Gabriel Fernando de Jesus       28    8.0        Arsenal            4   \n316               Mohamed Salah      283   13.0      Liverpool            3   \n318      Trent Alexander-Arnold      285    7.5      Liverpool            2   \n342                João Cancelo      306    7.0       Man City            2   \n353               Erling Håland      318   11.5       Man City            4   \n160                 Reece James      146    6.0        Chelsea            2   \n418               Neco Williams      295    4.0  Nott'm Forest            2   \n500                Ivan Perišić      448    5.5          Spurs            2   \n479                  Harry Kane      427   11.5          Spurs            4   \n245  Andreas Hoelgebaum Pereira      346    4.5         Fulham            3   \n480               Son Heung-min      428   12.0          Spurs            3   \n293               Sam Greenwood      237    4.5          Leeds            4   \n326                   Luis Díaz      293    8.0      Liverpool            3   \n11                  Bukayo Saka       13    8.0        Arsenal            3   \n161               Edouard Mendy      147    5.0        Chelsea            1   \n\n     selected_by_percent position  predicted_total_points_next_gameweek  \n26                  75.2      FWD                                60.160  \n316                 61.0      MID                                79.300  \n318                 59.1      DEF                                44.325  \n342                 45.4      DEF                                31.780  \n353                 44.9      FWD                                51.635  \n160                 39.9      DEF                                23.940  \n418                 28.8      DEF                                11.520  \n500                 27.9      DEF                                15.345  \n479                 27.8      FWD                                31.970  \n245                 25.5      MID                                11.475  \n480                 25.1      MID                                30.120  \n293                 24.5      FWD                                11.025  \n326                 22.2      MID                                17.760  \n11                  22.0      MID                                17.600  \n161                 21.1       GK                                10.550  ",
      "text/html": "<div>\n<style scoped>\n    .dataframe tbody tr th:only-of-type {\n        vertical-align: middle;\n    }\n\n    .dataframe tbody tr th {\n        vertical-align: top;\n    }\n\n    .dataframe thead th {\n        text-align: right;\n    }\n</style>\n<table border=\"1\" class=\"dataframe\">\n  <thead>\n    <tr style=\"text-align: right;\">\n      <th></th>\n      <th>name</th>\n      <th>element</th>\n      <th>value</th>\n      <th>team</th>\n      <th>position_id</th>\n      <th>selected_by_percent</th>\n      <th>position</th>\n      <th>predicted_total_points_next_gameweek</th>\n    </tr>\n  </thead>\n  <tbody>\n    <tr>\n      <th>26</th>\n      <td>Gabriel Fernando de Jesus</td>\n      <td>28</td>\n      <td>8.0</td>\n      <td>Arsenal</td>\n      <td>4</td>\n      <td>75.2</td>\n      <td>FWD</td>\n      <td>60.160</td>\n    </tr>\n    <tr>\n      <th>316</th>\n      <td>Mohamed Salah</td>\n      <td>283</td>\n      <td>13.0</td>\n      <td>Liverpool</td>\n      <td>3</td>\n      <td>61.0</td>\n      <td>MID</td>\n      <td>79.300</td>\n    </tr>\n    <tr>\n      <th>318</th>\n      <td>Trent Alexander-Arnold</td>\n      <td>285</td>\n      <td>7.5</td>\n      <td>Liverpool</td>\n      <td>2</td>\n      <td>59.1</td>\n      <td>DEF</td>\n      <td>44.325</td>\n    </tr>\n    <tr>\n      <th>342</th>\n      <td>João Cancelo</td>\n      <td>306</td>\n      <td>7.0</td>\n      <td>Man City</td>\n      <td>2</td>\n      <td>45.4</td>\n      <td>DEF</td>\n      <td>31.780</td>\n    </tr>\n    <tr>\n      <th>353</th>\n      <td>Erling Håland</td>\n      <td>318</td>\n      <td>11.5</td>\n      <td>Man City</td>\n      <td>4</td>\n      <td>44.9</td>\n      <td>FWD</td>\n      <td>51.635</td>\n    </tr>\n    <tr>\n      <th>160</th>\n      <td>Reece James</td>\n      <td>146</td>\n      <td>6.0</td>\n      <td>Chelsea</td>\n      <td>2</td>\n      <td>39.9</td>\n      <td>DEF</td>\n      <td>23.940</td>\n    </tr>\n    <tr>\n      <th>418</th>\n      <td>Neco Williams</td>\n      <td>295</td>\n      <td>4.0</td>\n      <td>Nott'm Forest</td>\n      <td>2</td>\n      <td>28.8</td>\n      <td>DEF</td>\n      <td>11.520</td>\n    </tr>\n    <tr>\n      <th>500</th>\n      <td>Ivan Perišić</td>\n      <td>448</td>\n      <td>5.5</td>\n      <td>Spurs</td>\n      <td>2</td>\n      <td>27.9</td>\n      <td>DEF</td>\n      <td>15.345</td>\n    </tr>\n    <tr>\n      <th>479</th>\n      <td>Harry Kane</td>\n      <td>427</td>\n      <td>11.5</td>\n      <td>Spurs</td>\n      <td>4</td>\n      <td>27.8</td>\n      <td>FWD</td>\n      <td>31.970</td>\n    </tr>\n    <tr>\n      <th>245</th>\n      <td>Andreas Hoelgebaum Pereira</td>\n      <td>346</td>\n      <td>4.5</td>\n      <td>Fulham</td>\n      <td>3</td>\n      <td>25.5</td>\n      <td>MID</td>\n      <td>11.475</td>\n    </tr>\n    <tr>\n      <th>480</th>\n      <td>Son Heung-min</td>\n      <td>428</td>\n      <td>12.0</td>\n      <td>Spurs</td>\n      <td>3</td>\n      <td>25.1</td>\n      <td>MID</td>\n      <td>30.120</td>\n    </tr>\n    <tr>\n      <th>293</th>\n      <td>Sam Greenwood</td>\n      <td>237</td>\n      <td>4.5</td>\n      <td>Leeds</td>\n      <td>4</td>\n      <td>24.5</td>\n      <td>FWD</td>\n      <td>11.025</td>\n    </tr>\n    <tr>\n      <th>326</th>\n      <td>Luis Díaz</td>\n      <td>293</td>\n      <td>8.0</td>\n      <td>Liverpool</td>\n      <td>3</td>\n      <td>22.2</td>\n      <td>MID</td>\n      <td>17.760</td>\n    </tr>\n    <tr>\n      <th>11</th>\n      <td>Bukayo Saka</td>\n      <td>13</td>\n      <td>8.0</td>\n      <td>Arsenal</td>\n      <td>3</td>\n      <td>22.0</td>\n      <td>MID</td>\n      <td>17.600</td>\n    </tr>\n    <tr>\n      <th>161</th>\n      <td>Edouard Mendy</td>\n      <td>147</td>\n      <td>5.0</td>\n      <td>Chelsea</td>\n      <td>1</td>\n      <td>21.1</td>\n      <td>GK</td>\n      <td>10.550</td>\n    </tr>\n  </tbody>\n</table>\n</div>"
     },
     "execution_count": 386,
     "metadata": {},
     "output_type": "execute_result"
    }
   ],
   "source": [
    "df_start.sort_values(by=['selected_by_percent'], ascending=False).head(15)"
   ],
   "metadata": {
    "collapsed": false,
    "pycharm": {
     "name": "#%%\n"
    }
   }
  },
  {
   "cell_type": "markdown",
   "source": [],
   "metadata": {
    "collapsed": false,
    "pycharm": {
     "name": "#%% md\n"
    }
   }
  },
  {
   "cell_type": "code",
   "execution_count": 387,
   "outputs": [],
   "source": [
    "df_start['predicted_total_points_next_gameweek'] = df_start['value'] * df_start['selected_by_percent'] / 10"
   ],
   "metadata": {
    "collapsed": false,
    "pycharm": {
     "name": "#%%\n"
    }
   }
  },
  {
   "cell_type": "code",
   "execution_count": 388,
   "outputs": [
    {
     "name": "stderr",
     "output_type": "stream",
     "text": [
      "d:\\studies\\informatyka\\semestr_3\\fpl_ai_manager\\venv\\lib\\site-packages\\pulp\\pulp.py:1352: UserWarning: Spaces are not permitted in the name. Converted to '_'\n",
      "  warnings.warn(\"Spaces are not permitted in the name. Converted to '_'\")\n"
     ]
    },
    {
     "name": "stdout",
     "output_type": "stream",
     "text": [
      "Total expected score = 450.15799999999996\n"
     ]
    }
   ],
   "source": [
    "decisions, captain_decisions, sub_decisions = select_team(df_start.predicted_total_points_next_gameweek.values, df_start.value.values, df_start.position_id.values, df_start.team.values, total_budget=100, sub_factor=0.3)"
   ],
   "metadata": {
    "collapsed": false,
    "pycharm": {
     "name": "#%%\n"
    }
   }
  },
  {
   "cell_type": "code",
   "execution_count": 389,
   "outputs": [
    {
     "data": {
      "text/plain": "<IPython.core.display.Markdown object>",
      "text/markdown": "**Gabriel Martinelli Silva** Predicted points = 12.36, Price = 6.0, Position = MID"
     },
     "metadata": {},
     "output_type": "display_data"
    },
    {
     "data": {
      "text/plain": "<IPython.core.display.Markdown object>",
      "text/markdown": "**Gabriel Fernando de Jesus** Predicted points = 60.16, Price = 8.0, Position = FWD"
     },
     "metadata": {},
     "output_type": "display_data"
    },
    {
     "data": {
      "text/plain": "<IPython.core.display.Markdown object>",
      "text/markdown": "**Reece James** Predicted points = 23.94, Price = 6.0, Position = DEF"
     },
     "metadata": {},
     "output_type": "display_data"
    },
    {
     "data": {
      "text/plain": "<IPython.core.display.Markdown object>",
      "text/markdown": "**Edouard Mendy** Predicted points = 10.55, Price = 5.0, Position = GK"
     },
     "metadata": {},
     "output_type": "display_data"
    },
    {
     "data": {
      "text/plain": "<IPython.core.display.Markdown object>",
      "text/markdown": "**Mohamed Salah** Predicted points = 79.3, Price = 13.0, Position = MID"
     },
     "metadata": {},
     "output_type": "display_data"
    },
    {
     "data": {
      "text/plain": "<IPython.core.display.Markdown object>",
      "text/markdown": "**Trent Alexander-Arnold** Predicted points = 44.33, Price = 7.5, Position = DEF"
     },
     "metadata": {},
     "output_type": "display_data"
    },
    {
     "data": {
      "text/plain": "<IPython.core.display.Markdown object>",
      "text/markdown": "**Luis Díaz** Predicted points = 17.76, Price = 8.0, Position = MID"
     },
     "metadata": {},
     "output_type": "display_data"
    },
    {
     "data": {
      "text/plain": "<IPython.core.display.Markdown object>",
      "text/markdown": "**João Cancelo** Predicted points = 31.78, Price = 7.0, Position = DEF"
     },
     "metadata": {},
     "output_type": "display_data"
    },
    {
     "data": {
      "text/plain": "<IPython.core.display.Markdown object>",
      "text/markdown": "**Erling Håland** Predicted points = 51.64, Price = 11.5, Position = FWD"
     },
     "metadata": {},
     "output_type": "display_data"
    },
    {
     "data": {
      "text/plain": "<IPython.core.display.Markdown object>",
      "text/markdown": "**Neco Williams** Predicted points = 11.52, Price = 4.0, Position = DEF"
     },
     "metadata": {},
     "output_type": "display_data"
    },
    {
     "data": {
      "text/plain": "<IPython.core.display.Markdown object>",
      "text/markdown": "**Ivan Perišić** Predicted points = 15.34, Price = 5.5, Position = DEF"
     },
     "metadata": {},
     "output_type": "display_data"
    },
    {
     "name": "stdout",
     "output_type": "stream",
     "text": [
      "\n",
      "Subs:\n"
     ]
    },
    {
     "data": {
      "text/plain": "<IPython.core.display.Markdown object>",
      "text/markdown": "**Andreas Hoelgebaum Pereira** Predicted points = 11.47, Price = 4.5, Position = MID"
     },
     "metadata": {},
     "output_type": "display_data"
    },
    {
     "data": {
      "text/plain": "<IPython.core.display.Markdown object>",
      "text/markdown": "**Danny Ward** Predicted points = 7.88, Price = 4.0, Position = GK"
     },
     "metadata": {},
     "output_type": "display_data"
    },
    {
     "data": {
      "text/plain": "<IPython.core.display.Markdown object>",
      "text/markdown": "**Sam Greenwood** Predicted points = 11.03, Price = 4.5, Position = FWD"
     },
     "metadata": {},
     "output_type": "display_data"
    },
    {
     "data": {
      "text/plain": "<IPython.core.display.Markdown object>",
      "text/markdown": "**Pedro Lomba Neto** Predicted points = 10.23, Price = 5.5, Position = MID"
     },
     "metadata": {},
     "output_type": "display_data"
    },
    {
     "name": "stdout",
     "output_type": "stream",
     "text": [
      "\n",
      "Captain:\n"
     ]
    },
    {
     "data": {
      "text/plain": "<IPython.core.display.Markdown object>",
      "text/markdown": "**Mohamed Salah** Predicted points = 79.3, Price = 13.0, Position = MID"
     },
     "metadata": {},
     "output_type": "display_data"
    }
   ],
   "source": [
    "print_selected_team(df_start, decisions, captain_decisions, sub_decisions)"
   ],
   "metadata": {
    "collapsed": false,
    "pycharm": {
     "name": "#%%\n"
    }
   }
  },
  {
   "cell_type": "markdown",
   "source": [
    "## Get transfer for second gameweek"
   ],
   "metadata": {
    "collapsed": false,
    "pycharm": {
     "name": "#%% md\n"
    }
   }
  },
  {
   "cell_type": "code",
   "execution_count": 15,
   "outputs": [],
   "source": [
    "model_path = '/models/baseline/model_mlp_rolling_opponent_stats_features.h5'\n",
    "sclaer_path = '/models/baseline/SCALER-model_mlp_rolling_opponent_stats_features.gz'"
   ],
   "metadata": {
    "collapsed": false,
    "pycharm": {
     "name": "#%%\n"
    }
   }
  },
  {
   "cell_type": "code",
   "execution_count": 17,
   "outputs": [
    {
     "name": "stdout",
     "output_type": "stream",
     "text": [
      "Are there any NaN values? - False\n"
     ]
    },
    {
     "name": "stderr",
     "output_type": "stream",
     "text": [
      "d:\\studies\\informatyka\\semestr_3\\fpl_ai_manager\\venv\\lib\\site-packages\\pulp\\pulp.py:1352: UserWarning: Spaces are not permitted in the name. Converted to '_'\n",
      "  warnings.warn(\"Spaces are not permitted in the name. Converted to '_'\")\n"
     ]
    },
    {
     "name": "stdout",
     "output_type": "stream",
     "text": [
      "Solver status: 1\n",
      "\n",
      "Selected Transfers:\n"
     ]
    },
    {
     "data": {
      "text/plain": "<IPython.core.display.Markdown object>",
      "text/markdown": "Transferred out: **Mohamed Salah**, Predicted points = 14.72, Price = 13.0"
     },
     "metadata": {},
     "output_type": "display_data"
    },
    {
     "data": {
      "text/plain": "<IPython.core.display.Markdown object>",
      "text/markdown": "Transferred in: **Son Heung-min**, Predicted points = 45.24, Price = 12.0"
     },
     "metadata": {},
     "output_type": "display_data"
    },
    {
     "name": "stdout",
     "output_type": "stream",
     "text": [
      "\n",
      "Selected Squad:\n"
     ]
    },
    {
     "data": {
      "text/plain": "<IPython.core.display.Markdown object>",
      "text/markdown": "**Gabriel Martinelli Silva** Predicted points = 13.81, Price = 6.0, Position = MID"
     },
     "metadata": {},
     "output_type": "display_data"
    },
    {
     "data": {
      "text/plain": "<IPython.core.display.Markdown object>",
      "text/markdown": "**Reece James** Predicted points = 9.61, Price = 6.0, Position = DEF"
     },
     "metadata": {},
     "output_type": "display_data"
    },
    {
     "data": {
      "text/plain": "<IPython.core.display.Markdown object>",
      "text/markdown": "**Danny Ward** Predicted points = 11.34, Price = 4.0, Position = GK"
     },
     "metadata": {},
     "output_type": "display_data"
    },
    {
     "data": {
      "text/plain": "<IPython.core.display.Markdown object>",
      "text/markdown": "**Trent Alexander-Arnold** Predicted points = 18.59, Price = 7.5, Position = DEF"
     },
     "metadata": {},
     "output_type": "display_data"
    },
    {
     "data": {
      "text/plain": "<IPython.core.display.Markdown object>",
      "text/markdown": "**Luis Díaz** Predicted points = 12.76, Price = 8.0, Position = MID"
     },
     "metadata": {},
     "output_type": "display_data"
    },
    {
     "data": {
      "text/plain": "<IPython.core.display.Markdown object>",
      "text/markdown": "**João Cancelo** Predicted points = 10.4, Price = 7.0, Position = DEF"
     },
     "metadata": {},
     "output_type": "display_data"
    },
    {
     "data": {
      "text/plain": "<IPython.core.display.Markdown object>",
      "text/markdown": "**Erling Haaland** Predicted points = 16.88, Price = 11.5, Position = FWD"
     },
     "metadata": {},
     "output_type": "display_data"
    },
    {
     "data": {
      "text/plain": "<IPython.core.display.Markdown object>",
      "text/markdown": "**Andreas Hoelgebaum Pereira** Predicted points = 8.49, Price = 4.5, Position = MID"
     },
     "metadata": {},
     "output_type": "display_data"
    },
    {
     "data": {
      "text/plain": "<IPython.core.display.Markdown object>",
      "text/markdown": "**Son Heung-min** Predicted points = 45.24, Price = 12.0, Position = MID"
     },
     "metadata": {},
     "output_type": "display_data"
    },
    {
     "data": {
      "text/plain": "<IPython.core.display.Markdown object>",
      "text/markdown": "**Ivan Perišić** Predicted points = 9.06, Price = 5.5, Position = DEF"
     },
     "metadata": {},
     "output_type": "display_data"
    },
    {
     "data": {
      "text/plain": "<IPython.core.display.Markdown object>",
      "text/markdown": "**Pedro Lomba Neto** Predicted points = 10.51, Price = 5.5, Position = MID"
     },
     "metadata": {},
     "output_type": "display_data"
    },
    {
     "name": "stdout",
     "output_type": "stream",
     "text": [
      "\n",
      "Subs:\n"
     ]
    },
    {
     "data": {
      "text/plain": "<IPython.core.display.Markdown object>",
      "text/markdown": "**Gabriel Fernando de Jesus** Predicted points = 7.82, Price = 8.0, Position = FWD"
     },
     "metadata": {},
     "output_type": "display_data"
    },
    {
     "data": {
      "text/plain": "<IPython.core.display.Markdown object>",
      "text/markdown": "**Edouard Mendy** Predicted points = 9.94, Price = 5.0, Position = GK"
     },
     "metadata": {},
     "output_type": "display_data"
    },
    {
     "data": {
      "text/plain": "<IPython.core.display.Markdown object>",
      "text/markdown": "**Sam Greenwood** Predicted points = 4.15, Price = 4.5, Position = FWD"
     },
     "metadata": {},
     "output_type": "display_data"
    },
    {
     "data": {
      "text/plain": "<IPython.core.display.Markdown object>",
      "text/markdown": "**Neco Williams** Predicted points = 6.97, Price = 4.0, Position = DEF"
     },
     "metadata": {},
     "output_type": "display_data"
    },
    {
     "name": "stdout",
     "output_type": "stream",
     "text": [
      "\n",
      "Captain:\n"
     ]
    },
    {
     "data": {
      "text/plain": "<IPython.core.display.Markdown object>",
      "text/markdown": "**Son Heung-min** Predicted points = 45.24, Price = 12.0, Position = MID"
     },
     "metadata": {},
     "output_type": "display_data"
    }
   ],
   "source": [
    "from src.squad_selection.predict_and_select import predict_and_select_transfer\n",
    "\n",
    "predict_and_select_transfer('2022-23', 1, model_path, sclaer_path, download_newest_data=False)"
   ],
   "metadata": {
    "collapsed": false,
    "pycharm": {
     "name": "#%%\n"
    }
   }
  },
  {
   "cell_type": "markdown",
   "source": [
    "#### FOR PREDICTING TRANSFERS ON GW2, OLD MODEL WAS USED!!!"
   ],
   "metadata": {
    "collapsed": false,
    "pycharm": {
     "name": "#%% md\n"
    }
   }
  },
  {
   "cell_type": "markdown",
   "source": [
    "## Get transfer for third gameweek"
   ],
   "metadata": {
    "collapsed": false,
    "pycharm": {
     "name": "#%% md\n"
    }
   }
  },
  {
   "cell_type": "code",
   "execution_count": 8,
   "outputs": [],
   "source": [
    "model_path = ['/models/model_mlp_gk.h5', '/models/model_mlp_field.h5']\n",
    "scaler_path = ['/models/scaler_gk.gz', '/models/scaler_field.gz']"
   ],
   "metadata": {
    "collapsed": false,
    "pycharm": {
     "name": "#%%\n"
    }
   }
  },
  {
   "cell_type": "code",
   "execution_count": 9,
   "outputs": [
    {
     "name": "stdout",
     "output_type": "stream",
     "text": [
      "Are there any NaN values? - False\n",
      "Are there any NaN values? - False\n"
     ]
    },
    {
     "name": "stderr",
     "output_type": "stream",
     "text": [
      "d:\\studies\\informatyka\\semestr_3\\fpl_ai_manager\\venv\\lib\\site-packages\\pulp\\pulp.py:1352: UserWarning: Spaces are not permitted in the name. Converted to '_'\n",
      "  warnings.warn(\"Spaces are not permitted in the name. Converted to '_'\")\n"
     ]
    },
    {
     "name": "stdout",
     "output_type": "stream",
     "text": [
      "Solver status: 1\n",
      "\n",
      "Selected Transfers:\n"
     ]
    },
    {
     "data": {
      "text/plain": "<IPython.core.display.Markdown object>",
      "text/markdown": "Transferred in: **Mohamed Salah**, Predicted points = 21.34, Price = 13.0"
     },
     "metadata": {},
     "output_type": "display_data"
    },
    {
     "data": {
      "text/plain": "<IPython.core.display.Markdown object>",
      "text/markdown": "Transferred out: **Son Heung-min**, Predicted points = 18.31, Price = 12.0"
     },
     "metadata": {},
     "output_type": "display_data"
    },
    {
     "name": "stdout",
     "output_type": "stream",
     "text": [
      "\n",
      "Selected Squad:\n"
     ]
    },
    {
     "data": {
      "text/plain": "<IPython.core.display.Markdown object>",
      "text/markdown": "**Gabriel Martinelli Silva** Predicted points = 14.93, Price = 6.1, Position = MID"
     },
     "metadata": {},
     "output_type": "display_data"
    },
    {
     "data": {
      "text/plain": "<IPython.core.display.Markdown object>",
      "text/markdown": "**Gabriel Fernando de Jesus** Predicted points = 15.45, Price = 8.0, Position = FWD"
     },
     "metadata": {},
     "output_type": "display_data"
    },
    {
     "data": {
      "text/plain": "<IPython.core.display.Markdown object>",
      "text/markdown": "**Reece James** Predicted points = 12.88, Price = 6.0, Position = DEF"
     },
     "metadata": {},
     "output_type": "display_data"
    },
    {
     "data": {
      "text/plain": "<IPython.core.display.Markdown object>",
      "text/markdown": "**Edouard Mendy** Predicted points = 10.42, Price = 5.0, Position = GK"
     },
     "metadata": {},
     "output_type": "display_data"
    },
    {
     "data": {
      "text/plain": "<IPython.core.display.Markdown object>",
      "text/markdown": "**Mohamed Salah** Predicted points = 21.34, Price = 13.0, Position = MID"
     },
     "metadata": {},
     "output_type": "display_data"
    },
    {
     "data": {
      "text/plain": "<IPython.core.display.Markdown object>",
      "text/markdown": "**Trent Alexander-Arnold** Predicted points = 15.73, Price = 7.5, Position = DEF"
     },
     "metadata": {},
     "output_type": "display_data"
    },
    {
     "data": {
      "text/plain": "<IPython.core.display.Markdown object>",
      "text/markdown": "**Luis Díaz** Predicted points = 12.75, Price = 8.0, Position = MID"
     },
     "metadata": {},
     "output_type": "display_data"
    },
    {
     "data": {
      "text/plain": "<IPython.core.display.Markdown object>",
      "text/markdown": "**Neco Williams** Predicted points = 9.48, Price = 4.0, Position = DEF"
     },
     "metadata": {},
     "output_type": "display_data"
    },
    {
     "data": {
      "text/plain": "<IPython.core.display.Markdown object>",
      "text/markdown": "**João Cancelo** Predicted points = 13.45, Price = 7.0, Position = DEF"
     },
     "metadata": {},
     "output_type": "display_data"
    },
    {
     "data": {
      "text/plain": "<IPython.core.display.Markdown object>",
      "text/markdown": "**Erling Haaland** Predicted points = 20.0, Price = 11.6, Position = FWD"
     },
     "metadata": {},
     "output_type": "display_data"
    },
    {
     "data": {
      "text/plain": "<IPython.core.display.Markdown object>",
      "text/markdown": "**Pedro Lomba Neto** Predicted points = 10.81, Price = 5.5, Position = MID"
     },
     "metadata": {},
     "output_type": "display_data"
    },
    {
     "name": "stdout",
     "output_type": "stream",
     "text": [
      "\n",
      "Subs:\n"
     ]
    },
    {
     "data": {
      "text/plain": "<IPython.core.display.Markdown object>",
      "text/markdown": "**Sam Greenwood** Predicted points = 3.03, Price = 4.5, Position = FWD"
     },
     "metadata": {},
     "output_type": "display_data"
    },
    {
     "data": {
      "text/plain": "<IPython.core.display.Markdown object>",
      "text/markdown": "**Danny Ward** Predicted points = 9.98, Price = 4.0, Position = GK"
     },
     "metadata": {},
     "output_type": "display_data"
    },
    {
     "data": {
      "text/plain": "<IPython.core.display.Markdown object>",
      "text/markdown": "**Andreas Hoelgebaum Pereira** Predicted points = 6.66, Price = 4.5, Position = MID"
     },
     "metadata": {},
     "output_type": "display_data"
    },
    {
     "data": {
      "text/plain": "<IPython.core.display.Markdown object>",
      "text/markdown": "**Ivan Perišić** Predicted points = 7.81, Price = 5.5, Position = DEF"
     },
     "metadata": {},
     "output_type": "display_data"
    },
    {
     "name": "stdout",
     "output_type": "stream",
     "text": [
      "\n",
      "Captain:\n"
     ]
    },
    {
     "data": {
      "text/plain": "<IPython.core.display.Markdown object>",
      "text/markdown": "**Mohamed Salah** Predicted points = 21.34, Price = 13.0, Position = MID"
     },
     "metadata": {},
     "output_type": "display_data"
    }
   ],
   "source": [
    "from src.squad_selection.predict_and_select import predict_and_select_transfer\n",
    "\n",
    "predict_and_select_transfer('2022-23', 2, model_path, scaler_path, download_newest_data=False, get_actual_chance_playing=True, position_separated=True, budget_now=1)"
   ],
   "metadata": {
    "collapsed": false,
    "pycharm": {
     "name": "#%%\n"
    }
   }
  },
  {
   "cell_type": "markdown",
   "source": [
    "## Get transfer for GW 4"
   ],
   "metadata": {
    "collapsed": false,
    "pycharm": {
     "name": "#%% md\n"
    }
   }
  },
  {
   "cell_type": "code",
   "execution_count": 5,
   "outputs": [],
   "source": [
    "model_path = ['/models/model_mlp_gk.h5', '/models/model_mlp_field.h5']\n",
    "scaler_path = ['/models/scaler_gk.gz', '/models/scaler_field.gz']"
   ],
   "metadata": {
    "collapsed": false,
    "pycharm": {
     "name": "#%%\n"
    }
   }
  },
  {
   "cell_type": "code",
   "execution_count": 6,
   "outputs": [
    {
     "name": "stdout",
     "output_type": "stream",
     "text": [
      "Are there any NaN values? - False\n",
      "Are there any NaN values? - False\n"
     ]
    },
    {
     "name": "stderr",
     "output_type": "stream",
     "text": [
      "d:\\studies\\informatyka\\semestr_3\\fpl_ai_manager\\venv\\lib\\site-packages\\pulp\\pulp.py:1352: UserWarning: Spaces are not permitted in the name. Converted to '_'\n",
      "  warnings.warn(\"Spaces are not permitted in the name. Converted to '_'\")\n"
     ]
    },
    {
     "name": "stdout",
     "output_type": "stream",
     "text": [
      "Solver status: 1\n",
      "\n",
      "Selected Transfers:\n"
     ]
    },
    {
     "data": {
      "text/plain": "<IPython.core.display.Markdown object>",
      "text/markdown": "Transferred in: **Oleksandr Zinchenko**, Predicted points = 12.01, Price = 5.2"
     },
     "metadata": {},
     "output_type": "display_data"
    },
    {
     "data": {
      "text/plain": "<IPython.core.display.Markdown object>",
      "text/markdown": "Transferred out: **Ivan Perišić**, Predicted points = 10.31, Price = 5.4"
     },
     "metadata": {},
     "output_type": "display_data"
    },
    {
     "name": "stdout",
     "output_type": "stream",
     "text": [
      "\n",
      "Selected Squad:\n"
     ]
    },
    {
     "data": {
      "text/plain": "<IPython.core.display.Markdown object>",
      "text/markdown": "**Gabriel Martinelli Silva** Predicted points = 15.38, Price = 6.3, Position = MID"
     },
     "metadata": {},
     "output_type": "display_data"
    },
    {
     "data": {
      "text/plain": "<IPython.core.display.Markdown object>",
      "text/markdown": "**Gabriel Fernando de Jesus** Predicted points = 17.84, Price = 8.1, Position = FWD"
     },
     "metadata": {},
     "output_type": "display_data"
    },
    {
     "data": {
      "text/plain": "<IPython.core.display.Markdown object>",
      "text/markdown": "**Reece James** Predicted points = 14.03, Price = 6.1, Position = DEF"
     },
     "metadata": {},
     "output_type": "display_data"
    },
    {
     "data": {
      "text/plain": "<IPython.core.display.Markdown object>",
      "text/markdown": "**Edouard Mendy** Predicted points = 10.63, Price = 5.0, Position = GK"
     },
     "metadata": {},
     "output_type": "display_data"
    },
    {
     "data": {
      "text/plain": "<IPython.core.display.Markdown object>",
      "text/markdown": "**Mohamed Salah** Predicted points = 21.62, Price = 13.0, Position = MID"
     },
     "metadata": {},
     "output_type": "display_data"
    },
    {
     "data": {
      "text/plain": "<IPython.core.display.Markdown object>",
      "text/markdown": "**Trent Alexander-Arnold** Predicted points = 15.37, Price = 7.5, Position = DEF"
     },
     "metadata": {},
     "output_type": "display_data"
    },
    {
     "data": {
      "text/plain": "<IPython.core.display.Markdown object>",
      "text/markdown": "**Luis Díaz** Predicted points = 13.59, Price = 8.0, Position = MID"
     },
     "metadata": {},
     "output_type": "display_data"
    },
    {
     "data": {
      "text/plain": "<IPython.core.display.Markdown object>",
      "text/markdown": "**João Cancelo** Predicted points = 13.8, Price = 7.1, Position = DEF"
     },
     "metadata": {},
     "output_type": "display_data"
    },
    {
     "data": {
      "text/plain": "<IPython.core.display.Markdown object>",
      "text/markdown": "**Oleksandr Zinchenko** Predicted points = 12.01, Price = 5.2, Position = DEF"
     },
     "metadata": {},
     "output_type": "display_data"
    },
    {
     "data": {
      "text/plain": "<IPython.core.display.Markdown object>",
      "text/markdown": "**Erling Haaland** Predicted points = 20.14, Price = 11.7, Position = FWD"
     },
     "metadata": {},
     "output_type": "display_data"
    },
    {
     "data": {
      "text/plain": "<IPython.core.display.Markdown object>",
      "text/markdown": "**Pedro Lomba Neto** Predicted points = 10.7, Price = 5.4, Position = MID"
     },
     "metadata": {},
     "output_type": "display_data"
    },
    {
     "name": "stdout",
     "output_type": "stream",
     "text": [
      "\n",
      "Subs:\n"
     ]
    },
    {
     "data": {
      "text/plain": "<IPython.core.display.Markdown object>",
      "text/markdown": "**Sam Greenwood** Predicted points = 2.85, Price = 4.5, Position = FWD"
     },
     "metadata": {},
     "output_type": "display_data"
    },
    {
     "data": {
      "text/plain": "<IPython.core.display.Markdown object>",
      "text/markdown": "**Danny Ward** Predicted points = 10.03, Price = 4.0, Position = GK"
     },
     "metadata": {},
     "output_type": "display_data"
    },
    {
     "data": {
      "text/plain": "<IPython.core.display.Markdown object>",
      "text/markdown": "**Neco Williams** Predicted points = 9.67, Price = 4.0, Position = DEF"
     },
     "metadata": {},
     "output_type": "display_data"
    },
    {
     "data": {
      "text/plain": "<IPython.core.display.Markdown object>",
      "text/markdown": "**Andreas Hoelgebaum Pereira** Predicted points = 9.35, Price = 4.5, Position = MID"
     },
     "metadata": {},
     "output_type": "display_data"
    },
    {
     "name": "stdout",
     "output_type": "stream",
     "text": [
      "\n",
      "Captain:\n"
     ]
    },
    {
     "data": {
      "text/plain": "<IPython.core.display.Markdown object>",
      "text/markdown": "**Mohamed Salah** Predicted points = 21.62, Price = 13.0, Position = MID"
     },
     "metadata": {},
     "output_type": "display_data"
    }
   ],
   "source": [
    "from src.squad_selection.predict_and_select import predict_and_select_transfer\n",
    "\n",
    "top_15_predictions = predict_and_select_transfer('2022-23', 3, model_path, scaler_path, download_newest_data=False, get_actual_chance_playing=True, position_separated=True, budget_now=0)"
   ],
   "metadata": {
    "collapsed": false,
    "pycharm": {
     "name": "#%%\n"
    }
   }
  },
  {
   "cell_type": "code",
   "execution_count": 7,
   "outputs": [
    {
     "data": {
      "text/plain": "                          name  element position  value             team  GW  \\\n282              Mohamed Salah      283      MID   13.0        Liverpool   3   \n317             Erling Haaland      318      FWD   11.7  Manchester City   3   \n300            Kevin De Bruyne      301      MID   12.1  Manchester City   3   \n426                 Harry Kane      427      FWD   11.4        Tottenham   3   \n27   Gabriel Fernando de Jesus       28      FWD    8.1          Arsenal   3   \n427              Son Heung-min      428      MID   11.9        Tottenham   3   \n18    Gabriel Martinelli Silva       19      MID    6.3          Arsenal   3   \n284     Trent Alexander-Arnold      285      DEF    7.5        Liverpool   3   \n303            Raheem Sterling      304      MID   10.0          Chelsea   3   \n445           Dejan Kulusevski      446      MID    8.2        Tottenham   3   \n299             Ilkay Gündogan      300      MID    7.5  Manchester City   3   \n145                Reece James      146      DEF    6.1          Chelsea   3   \n224             Rodrigo Moreno      225      MID    6.2            Leeds   3   \n313                 Phil Foden      314      MID    8.0  Manchester City   3   \n305               João Cancelo      306      DEF    7.1  Manchester City   3   \n\n      season  predicted_total_points_next_gameweek  next_3_GWs_matches  \\\n282  2022-23                             21.621765                   3   \n317  2022-23                             20.140432                   3   \n300  2022-23                             19.818817                   3   \n426  2022-23                             17.923523                   3   \n27   2022-23                             17.838783                   3   \n427  2022-23                             17.557598                   3   \n18   2022-23                             15.384300                   3   \n284  2022-23                             15.372221                   3   \n303  2022-23                             14.837513                   3   \n445  2022-23                             14.678350                   3   \n299  2022-23                             14.143143                   3   \n145  2022-23                             14.025934                   3   \n224  2022-23                             14.025305                   3   \n313  2022-23                             13.920654                   3   \n305  2022-23                             13.803801                   3   \n\n                               opponent_next_gameweek  position_id  \n282          [Bournemouth, Newcastle United, Everton]            3  \n317  [Crystal Palace, Nottingham Forest, Aston Villa]            4  \n300  [Crystal Palace, Nottingham Forest, Aston Villa]            3  \n426             [Nottingham Forest, West Ham, Fulham]            4  \n27           [Fulham, Aston Villa, Manchester United]            4  \n427             [Nottingham Forest, West Ham, Fulham]            3  \n18           [Fulham, Aston Villa, Manchester United]            3  \n284          [Bournemouth, Newcastle United, Everton]            2  \n303                [Leicester, Southampton, West Ham]            3  \n445             [Nottingham Forest, West Ham, Fulham]            3  \n299  [Crystal Palace, Nottingham Forest, Aston Villa]            3  \n145                [Leicester, Southampton, West Ham]            2  \n224                    [Brighton, Everton, Brentford]            3  \n313  [Crystal Palace, Nottingham Forest, Aston Villa]            3  \n305  [Crystal Palace, Nottingham Forest, Aston Villa]            2  ",
      "text/html": "<div>\n<style scoped>\n    .dataframe tbody tr th:only-of-type {\n        vertical-align: middle;\n    }\n\n    .dataframe tbody tr th {\n        vertical-align: top;\n    }\n\n    .dataframe thead th {\n        text-align: right;\n    }\n</style>\n<table border=\"1\" class=\"dataframe\">\n  <thead>\n    <tr style=\"text-align: right;\">\n      <th></th>\n      <th>name</th>\n      <th>element</th>\n      <th>position</th>\n      <th>value</th>\n      <th>team</th>\n      <th>GW</th>\n      <th>season</th>\n      <th>predicted_total_points_next_gameweek</th>\n      <th>next_3_GWs_matches</th>\n      <th>opponent_next_gameweek</th>\n      <th>position_id</th>\n    </tr>\n  </thead>\n  <tbody>\n    <tr>\n      <th>282</th>\n      <td>Mohamed Salah</td>\n      <td>283</td>\n      <td>MID</td>\n      <td>13.0</td>\n      <td>Liverpool</td>\n      <td>3</td>\n      <td>2022-23</td>\n      <td>21.621765</td>\n      <td>3</td>\n      <td>[Bournemouth, Newcastle United, Everton]</td>\n      <td>3</td>\n    </tr>\n    <tr>\n      <th>317</th>\n      <td>Erling Haaland</td>\n      <td>318</td>\n      <td>FWD</td>\n      <td>11.7</td>\n      <td>Manchester City</td>\n      <td>3</td>\n      <td>2022-23</td>\n      <td>20.140432</td>\n      <td>3</td>\n      <td>[Crystal Palace, Nottingham Forest, Aston Villa]</td>\n      <td>4</td>\n    </tr>\n    <tr>\n      <th>300</th>\n      <td>Kevin De Bruyne</td>\n      <td>301</td>\n      <td>MID</td>\n      <td>12.1</td>\n      <td>Manchester City</td>\n      <td>3</td>\n      <td>2022-23</td>\n      <td>19.818817</td>\n      <td>3</td>\n      <td>[Crystal Palace, Nottingham Forest, Aston Villa]</td>\n      <td>3</td>\n    </tr>\n    <tr>\n      <th>426</th>\n      <td>Harry Kane</td>\n      <td>427</td>\n      <td>FWD</td>\n      <td>11.4</td>\n      <td>Tottenham</td>\n      <td>3</td>\n      <td>2022-23</td>\n      <td>17.923523</td>\n      <td>3</td>\n      <td>[Nottingham Forest, West Ham, Fulham]</td>\n      <td>4</td>\n    </tr>\n    <tr>\n      <th>27</th>\n      <td>Gabriel Fernando de Jesus</td>\n      <td>28</td>\n      <td>FWD</td>\n      <td>8.1</td>\n      <td>Arsenal</td>\n      <td>3</td>\n      <td>2022-23</td>\n      <td>17.838783</td>\n      <td>3</td>\n      <td>[Fulham, Aston Villa, Manchester United]</td>\n      <td>4</td>\n    </tr>\n    <tr>\n      <th>427</th>\n      <td>Son Heung-min</td>\n      <td>428</td>\n      <td>MID</td>\n      <td>11.9</td>\n      <td>Tottenham</td>\n      <td>3</td>\n      <td>2022-23</td>\n      <td>17.557598</td>\n      <td>3</td>\n      <td>[Nottingham Forest, West Ham, Fulham]</td>\n      <td>3</td>\n    </tr>\n    <tr>\n      <th>18</th>\n      <td>Gabriel Martinelli Silva</td>\n      <td>19</td>\n      <td>MID</td>\n      <td>6.3</td>\n      <td>Arsenal</td>\n      <td>3</td>\n      <td>2022-23</td>\n      <td>15.384300</td>\n      <td>3</td>\n      <td>[Fulham, Aston Villa, Manchester United]</td>\n      <td>3</td>\n    </tr>\n    <tr>\n      <th>284</th>\n      <td>Trent Alexander-Arnold</td>\n      <td>285</td>\n      <td>DEF</td>\n      <td>7.5</td>\n      <td>Liverpool</td>\n      <td>3</td>\n      <td>2022-23</td>\n      <td>15.372221</td>\n      <td>3</td>\n      <td>[Bournemouth, Newcastle United, Everton]</td>\n      <td>2</td>\n    </tr>\n    <tr>\n      <th>303</th>\n      <td>Raheem Sterling</td>\n      <td>304</td>\n      <td>MID</td>\n      <td>10.0</td>\n      <td>Chelsea</td>\n      <td>3</td>\n      <td>2022-23</td>\n      <td>14.837513</td>\n      <td>3</td>\n      <td>[Leicester, Southampton, West Ham]</td>\n      <td>3</td>\n    </tr>\n    <tr>\n      <th>445</th>\n      <td>Dejan Kulusevski</td>\n      <td>446</td>\n      <td>MID</td>\n      <td>8.2</td>\n      <td>Tottenham</td>\n      <td>3</td>\n      <td>2022-23</td>\n      <td>14.678350</td>\n      <td>3</td>\n      <td>[Nottingham Forest, West Ham, Fulham]</td>\n      <td>3</td>\n    </tr>\n    <tr>\n      <th>299</th>\n      <td>Ilkay Gündogan</td>\n      <td>300</td>\n      <td>MID</td>\n      <td>7.5</td>\n      <td>Manchester City</td>\n      <td>3</td>\n      <td>2022-23</td>\n      <td>14.143143</td>\n      <td>3</td>\n      <td>[Crystal Palace, Nottingham Forest, Aston Villa]</td>\n      <td>3</td>\n    </tr>\n    <tr>\n      <th>145</th>\n      <td>Reece James</td>\n      <td>146</td>\n      <td>DEF</td>\n      <td>6.1</td>\n      <td>Chelsea</td>\n      <td>3</td>\n      <td>2022-23</td>\n      <td>14.025934</td>\n      <td>3</td>\n      <td>[Leicester, Southampton, West Ham]</td>\n      <td>2</td>\n    </tr>\n    <tr>\n      <th>224</th>\n      <td>Rodrigo Moreno</td>\n      <td>225</td>\n      <td>MID</td>\n      <td>6.2</td>\n      <td>Leeds</td>\n      <td>3</td>\n      <td>2022-23</td>\n      <td>14.025305</td>\n      <td>3</td>\n      <td>[Brighton, Everton, Brentford]</td>\n      <td>3</td>\n    </tr>\n    <tr>\n      <th>313</th>\n      <td>Phil Foden</td>\n      <td>314</td>\n      <td>MID</td>\n      <td>8.0</td>\n      <td>Manchester City</td>\n      <td>3</td>\n      <td>2022-23</td>\n      <td>13.920654</td>\n      <td>3</td>\n      <td>[Crystal Palace, Nottingham Forest, Aston Villa]</td>\n      <td>3</td>\n    </tr>\n    <tr>\n      <th>305</th>\n      <td>João Cancelo</td>\n      <td>306</td>\n      <td>DEF</td>\n      <td>7.1</td>\n      <td>Manchester City</td>\n      <td>3</td>\n      <td>2022-23</td>\n      <td>13.803801</td>\n      <td>3</td>\n      <td>[Crystal Palace, Nottingham Forest, Aston Villa]</td>\n      <td>2</td>\n    </tr>\n  </tbody>\n</table>\n</div>"
     },
     "execution_count": 7,
     "metadata": {},
     "output_type": "execute_result"
    }
   ],
   "source": [
    "top_15_predictions"
   ],
   "metadata": {
    "collapsed": false,
    "pycharm": {
     "name": "#%%\n"
    }
   }
  },
  {
   "cell_type": "markdown",
   "source": [
    "## Get transfer for GW 5"
   ],
   "metadata": {
    "collapsed": false,
    "pycharm": {
     "name": "#%% md\n"
    }
   }
  },
  {
   "cell_type": "code",
   "execution_count": 16,
   "outputs": [],
   "source": [
    "model_path = ['/models/model_mlp_gk.h5', '/models/model_mlp_field.h5']\n",
    "scaler_path = ['/models/scaler_gk.gz', '/models/scaler_field.gz']"
   ],
   "metadata": {
    "collapsed": false,
    "pycharm": {
     "name": "#%%\n"
    }
   }
  },
  {
   "cell_type": "code",
   "execution_count": 17,
   "outputs": [
    {
     "name": "stdout",
     "output_type": "stream",
     "text": [
      "Are there any NaN values? - False\n",
      "Are there any NaN values? - False\n"
     ]
    },
    {
     "name": "stderr",
     "output_type": "stream",
     "text": [
      "d:\\studies\\informatyka\\semestr_3\\fpl_ai_manager\\venv\\lib\\site-packages\\pulp\\pulp.py:1352: UserWarning: Spaces are not permitted in the name. Converted to '_'\n",
      "  warnings.warn(\"Spaces are not permitted in the name. Converted to '_'\")\n"
     ]
    },
    {
     "name": "stdout",
     "output_type": "stream",
     "text": [
      "Solver status: 1\n",
      "\n",
      "Selected Transfers:\n"
     ]
    },
    {
     "data": {
      "text/plain": "<IPython.core.display.Markdown object>",
      "text/markdown": "Transferred out: **Oleksandr Zinchenko**, Predicted points = 6.84, Price = 5.3"
     },
     "metadata": {},
     "output_type": "display_data"
    },
    {
     "data": {
      "text/plain": "<IPython.core.display.Markdown object>",
      "text/markdown": "Transferred in: **Kieran Trippier**, Predicted points = 11.36, Price = 5.1"
     },
     "metadata": {},
     "output_type": "display_data"
    },
    {
     "name": "stdout",
     "output_type": "stream",
     "text": [
      "\n",
      "Selected Squad:\n"
     ]
    },
    {
     "data": {
      "text/plain": "<IPython.core.display.Markdown object>",
      "text/markdown": "**Gabriel Martinelli Silva** Predicted points = 16.57, Price = 6.4, Position = MID"
     },
     "metadata": {},
     "output_type": "display_data"
    },
    {
     "data": {
      "text/plain": "<IPython.core.display.Markdown object>",
      "text/markdown": "**Gabriel Fernando de Jesus** Predicted points = 17.91, Price = 8.2, Position = FWD"
     },
     "metadata": {},
     "output_type": "display_data"
    },
    {
     "data": {
      "text/plain": "<IPython.core.display.Markdown object>",
      "text/markdown": "**Reece James** Predicted points = 13.07, Price = 6.1, Position = DEF"
     },
     "metadata": {},
     "output_type": "display_data"
    },
    {
     "data": {
      "text/plain": "<IPython.core.display.Markdown object>",
      "text/markdown": "**Edouard Mendy** Predicted points = 10.75, Price = 5.0, Position = GK"
     },
     "metadata": {},
     "output_type": "display_data"
    },
    {
     "data": {
      "text/plain": "<IPython.core.display.Markdown object>",
      "text/markdown": "**Mohamed Salah** Predicted points = 21.57, Price = 13.0, Position = MID"
     },
     "metadata": {},
     "output_type": "display_data"
    },
    {
     "data": {
      "text/plain": "<IPython.core.display.Markdown object>",
      "text/markdown": "**Trent Alexander-Arnold** Predicted points = 14.42, Price = 7.5, Position = DEF"
     },
     "metadata": {},
     "output_type": "display_data"
    },
    {
     "data": {
      "text/plain": "<IPython.core.display.Markdown object>",
      "text/markdown": "**Luis Díaz** Predicted points = 14.69, Price = 8.0, Position = MID"
     },
     "metadata": {},
     "output_type": "display_data"
    },
    {
     "data": {
      "text/plain": "<IPython.core.display.Markdown object>",
      "text/markdown": "**João Cancelo** Predicted points = 12.63, Price = 7.1, Position = DEF"
     },
     "metadata": {},
     "output_type": "display_data"
    },
    {
     "data": {
      "text/plain": "<IPython.core.display.Markdown object>",
      "text/markdown": "**Erling Haaland** Predicted points = 19.53, Price = 11.7, Position = FWD"
     },
     "metadata": {},
     "output_type": "display_data"
    },
    {
     "data": {
      "text/plain": "<IPython.core.display.Markdown object>",
      "text/markdown": "**Andreas Hoelgebaum Pereira** Predicted points = 9.75, Price = 4.5, Position = MID"
     },
     "metadata": {},
     "output_type": "display_data"
    },
    {
     "data": {
      "text/plain": "<IPython.core.display.Markdown object>",
      "text/markdown": "**Kieran Trippier** Predicted points = 11.36, Price = 5.1, Position = DEF"
     },
     "metadata": {},
     "output_type": "display_data"
    },
    {
     "name": "stdout",
     "output_type": "stream",
     "text": [
      "\n",
      "Subs:\n"
     ]
    },
    {
     "data": {
      "text/plain": "<IPython.core.display.Markdown object>",
      "text/markdown": "**Sam Greenwood** Predicted points = 1.78, Price = 4.5, Position = FWD"
     },
     "metadata": {},
     "output_type": "display_data"
    },
    {
     "data": {
      "text/plain": "<IPython.core.display.Markdown object>",
      "text/markdown": "**Danny Ward** Predicted points = 10.12, Price = 4.0, Position = GK"
     },
     "metadata": {},
     "output_type": "display_data"
    },
    {
     "data": {
      "text/plain": "<IPython.core.display.Markdown object>",
      "text/markdown": "**Neco Williams** Predicted points = 9.22, Price = 4.1, Position = DEF"
     },
     "metadata": {},
     "output_type": "display_data"
    },
    {
     "data": {
      "text/plain": "<IPython.core.display.Markdown object>",
      "text/markdown": "**Pedro Lomba Neto** Predicted points = 9.31, Price = 5.3, Position = MID"
     },
     "metadata": {},
     "output_type": "display_data"
    },
    {
     "name": "stdout",
     "output_type": "stream",
     "text": [
      "\n",
      "Captain:\n"
     ]
    },
    {
     "data": {
      "text/plain": "<IPython.core.display.Markdown object>",
      "text/markdown": "**Mohamed Salah** Predicted points = 21.57, Price = 13.0, Position = MID"
     },
     "metadata": {},
     "output_type": "display_data"
    }
   ],
   "source": [
    "from src.squad_selection.predict_and_select import predict_and_select_transfer\n",
    "\n",
    "top_15_predictions = predict_and_select_transfer('2022-23', 4, model_path, scaler_path, download_newest_data=False, get_actual_chance_playing=True, position_separated=True, budget_now=0.3)"
   ],
   "metadata": {
    "collapsed": false,
    "pycharm": {
     "name": "#%%\n"
    }
   }
  },
  {
   "cell_type": "code",
   "execution_count": 18,
   "outputs": [
    {
     "data": {
      "text/plain": "                          name  element position  value               team  \\\n282              Mohamed Salah      283      MID   13.0          Liverpool   \n317             Erling Haaland      318      FWD   11.7    Manchester City   \n300            Kevin De Bruyne      301      MID   12.2    Manchester City   \n27   Gabriel Fernando de Jesus       28      FWD    8.2            Arsenal   \n18    Gabriel Martinelli Silva       19      MID    6.4            Arsenal   \n224             Rodrigo Moreno      225      MID    6.4              Leeds   \n426                 Harry Kane      427      FWD   11.4          Tottenham   \n427              Son Heung-min      428      MID   11.9          Tottenham   \n303            Raheem Sterling      304      MID    9.9            Chelsea   \n292                  Luis Díaz      293      MID    8.0          Liverpool   \n284     Trent Alexander-Arnold      285      DEF    7.5          Liverpool   \n103                Pascal Groß      104      MID    5.7           Brighton   \n332     Bruno Borges Fernandes      333      MID    9.8  Manchester United   \n12                 Bukayo Saka       13      MID    7.9            Arsenal   \n313                 Phil Foden      314      MID    8.0    Manchester City   \n\n     GW   season  predicted_total_points_next_gameweek  next_3_GWs_matches  \\\n282   4  2022-23                             21.568079                   3   \n317   4  2022-23                             19.529243                   3   \n300   4  2022-23                             19.342487                   3   \n27    4  2022-23                             17.909311                   3   \n18    4  2022-23                             16.568823                   3   \n224   4  2022-23                             16.398438                   3   \n426   4  2022-23                             16.309010                   3   \n427   4  2022-23                             15.855158                   3   \n303   4  2022-23                             14.990455                   3   \n292   4  2022-23                             14.693094                   3   \n284   4  2022-23                             14.424585                   3   \n103   4  2022-23                             14.077145                   3   \n332   4  2022-23                             14.033987                   3   \n12    4  2022-23                             13.708281                   3   \n313   4  2022-23                             13.670130                   3   \n\n                                opponent_next_gameweek  position_id  \n282  [Newcastle United, Everton, Wolverhampton Wand...            3  \n317        [Nottingham Forest, Aston Villa, Tottenham]            4  \n300        [Nottingham Forest, Aston Villa, Tottenham]            3  \n27           [Aston Villa, Manchester United, Everton]            4  \n18           [Aston Villa, Manchester United, Everton]            3  \n224            [Everton, Brentford, Nottingham Forest]            3  \n426                [West Ham, Fulham, Manchester City]            4  \n427                [West Ham, Fulham, Manchester City]            3  \n303                    [Southampton, West Ham, Fulham]            3  \n292  [Newcastle United, Everton, Wolverhampton Wand...            3  \n284  [Newcastle United, Everton, Wolverhampton Wand...            2  \n103                   [Fulham, Leicester, Bournemouth]            3  \n332               [Leicester, Arsenal, Crystal Palace]            3  \n12           [Aston Villa, Manchester United, Everton]            3  \n313        [Nottingham Forest, Aston Villa, Tottenham]            3  ",
      "text/html": "<div>\n<style scoped>\n    .dataframe tbody tr th:only-of-type {\n        vertical-align: middle;\n    }\n\n    .dataframe tbody tr th {\n        vertical-align: top;\n    }\n\n    .dataframe thead th {\n        text-align: right;\n    }\n</style>\n<table border=\"1\" class=\"dataframe\">\n  <thead>\n    <tr style=\"text-align: right;\">\n      <th></th>\n      <th>name</th>\n      <th>element</th>\n      <th>position</th>\n      <th>value</th>\n      <th>team</th>\n      <th>GW</th>\n      <th>season</th>\n      <th>predicted_total_points_next_gameweek</th>\n      <th>next_3_GWs_matches</th>\n      <th>opponent_next_gameweek</th>\n      <th>position_id</th>\n    </tr>\n  </thead>\n  <tbody>\n    <tr>\n      <th>282</th>\n      <td>Mohamed Salah</td>\n      <td>283</td>\n      <td>MID</td>\n      <td>13.0</td>\n      <td>Liverpool</td>\n      <td>4</td>\n      <td>2022-23</td>\n      <td>21.568079</td>\n      <td>3</td>\n      <td>[Newcastle United, Everton, Wolverhampton Wand...</td>\n      <td>3</td>\n    </tr>\n    <tr>\n      <th>317</th>\n      <td>Erling Haaland</td>\n      <td>318</td>\n      <td>FWD</td>\n      <td>11.7</td>\n      <td>Manchester City</td>\n      <td>4</td>\n      <td>2022-23</td>\n      <td>19.529243</td>\n      <td>3</td>\n      <td>[Nottingham Forest, Aston Villa, Tottenham]</td>\n      <td>4</td>\n    </tr>\n    <tr>\n      <th>300</th>\n      <td>Kevin De Bruyne</td>\n      <td>301</td>\n      <td>MID</td>\n      <td>12.2</td>\n      <td>Manchester City</td>\n      <td>4</td>\n      <td>2022-23</td>\n      <td>19.342487</td>\n      <td>3</td>\n      <td>[Nottingham Forest, Aston Villa, Tottenham]</td>\n      <td>3</td>\n    </tr>\n    <tr>\n      <th>27</th>\n      <td>Gabriel Fernando de Jesus</td>\n      <td>28</td>\n      <td>FWD</td>\n      <td>8.2</td>\n      <td>Arsenal</td>\n      <td>4</td>\n      <td>2022-23</td>\n      <td>17.909311</td>\n      <td>3</td>\n      <td>[Aston Villa, Manchester United, Everton]</td>\n      <td>4</td>\n    </tr>\n    <tr>\n      <th>18</th>\n      <td>Gabriel Martinelli Silva</td>\n      <td>19</td>\n      <td>MID</td>\n      <td>6.4</td>\n      <td>Arsenal</td>\n      <td>4</td>\n      <td>2022-23</td>\n      <td>16.568823</td>\n      <td>3</td>\n      <td>[Aston Villa, Manchester United, Everton]</td>\n      <td>3</td>\n    </tr>\n    <tr>\n      <th>224</th>\n      <td>Rodrigo Moreno</td>\n      <td>225</td>\n      <td>MID</td>\n      <td>6.4</td>\n      <td>Leeds</td>\n      <td>4</td>\n      <td>2022-23</td>\n      <td>16.398438</td>\n      <td>3</td>\n      <td>[Everton, Brentford, Nottingham Forest]</td>\n      <td>3</td>\n    </tr>\n    <tr>\n      <th>426</th>\n      <td>Harry Kane</td>\n      <td>427</td>\n      <td>FWD</td>\n      <td>11.4</td>\n      <td>Tottenham</td>\n      <td>4</td>\n      <td>2022-23</td>\n      <td>16.309010</td>\n      <td>3</td>\n      <td>[West Ham, Fulham, Manchester City]</td>\n      <td>4</td>\n    </tr>\n    <tr>\n      <th>427</th>\n      <td>Son Heung-min</td>\n      <td>428</td>\n      <td>MID</td>\n      <td>11.9</td>\n      <td>Tottenham</td>\n      <td>4</td>\n      <td>2022-23</td>\n      <td>15.855158</td>\n      <td>3</td>\n      <td>[West Ham, Fulham, Manchester City]</td>\n      <td>3</td>\n    </tr>\n    <tr>\n      <th>303</th>\n      <td>Raheem Sterling</td>\n      <td>304</td>\n      <td>MID</td>\n      <td>9.9</td>\n      <td>Chelsea</td>\n      <td>4</td>\n      <td>2022-23</td>\n      <td>14.990455</td>\n      <td>3</td>\n      <td>[Southampton, West Ham, Fulham]</td>\n      <td>3</td>\n    </tr>\n    <tr>\n      <th>292</th>\n      <td>Luis Díaz</td>\n      <td>293</td>\n      <td>MID</td>\n      <td>8.0</td>\n      <td>Liverpool</td>\n      <td>4</td>\n      <td>2022-23</td>\n      <td>14.693094</td>\n      <td>3</td>\n      <td>[Newcastle United, Everton, Wolverhampton Wand...</td>\n      <td>3</td>\n    </tr>\n    <tr>\n      <th>284</th>\n      <td>Trent Alexander-Arnold</td>\n      <td>285</td>\n      <td>DEF</td>\n      <td>7.5</td>\n      <td>Liverpool</td>\n      <td>4</td>\n      <td>2022-23</td>\n      <td>14.424585</td>\n      <td>3</td>\n      <td>[Newcastle United, Everton, Wolverhampton Wand...</td>\n      <td>2</td>\n    </tr>\n    <tr>\n      <th>103</th>\n      <td>Pascal Groß</td>\n      <td>104</td>\n      <td>MID</td>\n      <td>5.7</td>\n      <td>Brighton</td>\n      <td>4</td>\n      <td>2022-23</td>\n      <td>14.077145</td>\n      <td>3</td>\n      <td>[Fulham, Leicester, Bournemouth]</td>\n      <td>3</td>\n    </tr>\n    <tr>\n      <th>332</th>\n      <td>Bruno Borges Fernandes</td>\n      <td>333</td>\n      <td>MID</td>\n      <td>9.8</td>\n      <td>Manchester United</td>\n      <td>4</td>\n      <td>2022-23</td>\n      <td>14.033987</td>\n      <td>3</td>\n      <td>[Leicester, Arsenal, Crystal Palace]</td>\n      <td>3</td>\n    </tr>\n    <tr>\n      <th>12</th>\n      <td>Bukayo Saka</td>\n      <td>13</td>\n      <td>MID</td>\n      <td>7.9</td>\n      <td>Arsenal</td>\n      <td>4</td>\n      <td>2022-23</td>\n      <td>13.708281</td>\n      <td>3</td>\n      <td>[Aston Villa, Manchester United, Everton]</td>\n      <td>3</td>\n    </tr>\n    <tr>\n      <th>313</th>\n      <td>Phil Foden</td>\n      <td>314</td>\n      <td>MID</td>\n      <td>8.0</td>\n      <td>Manchester City</td>\n      <td>4</td>\n      <td>2022-23</td>\n      <td>13.670130</td>\n      <td>3</td>\n      <td>[Nottingham Forest, Aston Villa, Tottenham]</td>\n      <td>3</td>\n    </tr>\n  </tbody>\n</table>\n</div>"
     },
     "execution_count": 18,
     "metadata": {},
     "output_type": "execute_result"
    }
   ],
   "source": [
    "top_15_predictions"
   ],
   "metadata": {
    "collapsed": false,
    "pycharm": {
     "name": "#%%\n"
    }
   }
  },
  {
   "cell_type": "markdown",
   "source": [
    "## Get transfer for GW 6"
   ],
   "metadata": {
    "collapsed": false,
    "pycharm": {
     "name": "#%% md\n"
    }
   }
  },
  {
   "cell_type": "code",
   "execution_count": 5,
   "outputs": [],
   "source": [
    "model_path = ['/models/model_mlp_gk.h5', '/models/model_mlp_field.h5']\n",
    "scaler_path = ['/models/scaler_gk.gz', '/models/scaler_field.gz']"
   ],
   "metadata": {
    "collapsed": false,
    "pycharm": {
     "name": "#%%\n"
    }
   }
  },
  {
   "cell_type": "code",
   "execution_count": 7,
   "outputs": [
    {
     "name": "stdout",
     "output_type": "stream",
     "text": [
      "Downloading newest FPL data\n",
      "Download complete\n",
      "start scraping missing teams data season:  2022-23\n",
      "End of scraping\n",
      "Are there any NaN values? - False\n",
      "Are there any NaN values? - False\n"
     ]
    },
    {
     "name": "stderr",
     "output_type": "stream",
     "text": [
      "d:\\studies\\informatyka\\semestr_3\\fpl_ai_manager\\venv\\lib\\site-packages\\pulp\\pulp.py:1352: UserWarning: Spaces are not permitted in the name. Converted to '_'\n",
      "  warnings.warn(\"Spaces are not permitted in the name. Converted to '_'\")\n"
     ]
    },
    {
     "name": "stdout",
     "output_type": "stream",
     "text": [
      "Solver status: 1\n",
      "\n",
      "Selected Transfers:\n"
     ]
    },
    {
     "data": {
      "text/plain": "<IPython.core.display.Markdown object>",
      "text/markdown": "Transferred out: **Reece James**, Predicted points = 5.99, Price = 6.1"
     },
     "metadata": {},
     "output_type": "display_data"
    },
    {
     "data": {
      "text/plain": "<IPython.core.display.Markdown object>",
      "text/markdown": "Transferred in: **Ivan Perišić**, Predicted points = 10.9, Price = 5.6"
     },
     "metadata": {},
     "output_type": "display_data"
    },
    {
     "name": "stdout",
     "output_type": "stream",
     "text": [
      "\n",
      "Selected Squad:\n"
     ]
    },
    {
     "data": {
      "text/plain": "<IPython.core.display.Markdown object>",
      "text/markdown": "**Gabriel Martinelli Silva** Predicted points = 15.48, Price = 6.4, Position = MID"
     },
     "metadata": {},
     "output_type": "display_data"
    },
    {
     "data": {
      "text/plain": "<IPython.core.display.Markdown object>",
      "text/markdown": "**Gabriel Fernando de Jesus** Predicted points = 17.7, Price = 8.2, Position = FWD"
     },
     "metadata": {},
     "output_type": "display_data"
    },
    {
     "data": {
      "text/plain": "<IPython.core.display.Markdown object>",
      "text/markdown": "**Danny Ward** Predicted points = 10.32, Price = 4.0, Position = GK"
     },
     "metadata": {},
     "output_type": "display_data"
    },
    {
     "data": {
      "text/plain": "<IPython.core.display.Markdown object>",
      "text/markdown": "**Mohamed Salah** Predicted points = 20.69, Price = 13.0, Position = MID"
     },
     "metadata": {},
     "output_type": "display_data"
    },
    {
     "data": {
      "text/plain": "<IPython.core.display.Markdown object>",
      "text/markdown": "**Trent Alexander-Arnold** Predicted points = 15.53, Price = 7.5, Position = DEF"
     },
     "metadata": {},
     "output_type": "display_data"
    },
    {
     "data": {
      "text/plain": "<IPython.core.display.Markdown object>",
      "text/markdown": "**Luis Díaz** Predicted points = 16.17, Price = 8.1, Position = MID"
     },
     "metadata": {},
     "output_type": "display_data"
    },
    {
     "data": {
      "text/plain": "<IPython.core.display.Markdown object>",
      "text/markdown": "**Neco Williams** Predicted points = 10.44, Price = 4.1, Position = DEF"
     },
     "metadata": {},
     "output_type": "display_data"
    },
    {
     "data": {
      "text/plain": "<IPython.core.display.Markdown object>",
      "text/markdown": "**João Cancelo** Predicted points = 13.23, Price = 7.1, Position = DEF"
     },
     "metadata": {},
     "output_type": "display_data"
    },
    {
     "data": {
      "text/plain": "<IPython.core.display.Markdown object>",
      "text/markdown": "**Erling Haaland** Predicted points = 20.38, Price = 11.8, Position = FWD"
     },
     "metadata": {},
     "output_type": "display_data"
    },
    {
     "data": {
      "text/plain": "<IPython.core.display.Markdown object>",
      "text/markdown": "**Kieran Trippier** Predicted points = 12.26, Price = 5.1, Position = DEF"
     },
     "metadata": {},
     "output_type": "display_data"
    },
    {
     "data": {
      "text/plain": "<IPython.core.display.Markdown object>",
      "text/markdown": "**Ivan Perišić** Predicted points = 10.9, Price = 5.6, Position = DEF"
     },
     "metadata": {},
     "output_type": "display_data"
    },
    {
     "name": "stdout",
     "output_type": "stream",
     "text": [
      "\n",
      "Subs:\n"
     ]
    },
    {
     "data": {
      "text/plain": "<IPython.core.display.Markdown object>",
      "text/markdown": "**Edouard Mendy** Predicted points = 10.31, Price = 5.0, Position = GK"
     },
     "metadata": {},
     "output_type": "display_data"
    },
    {
     "data": {
      "text/plain": "<IPython.core.display.Markdown object>",
      "text/markdown": "**Sam Greenwood** Predicted points = 1.3, Price = 4.5, Position = FWD"
     },
     "metadata": {},
     "output_type": "display_data"
    },
    {
     "data": {
      "text/plain": "<IPython.core.display.Markdown object>",
      "text/markdown": "**Andreas Hoelgebaum Pereira** Predicted points = 10.09, Price = 4.5, Position = MID"
     },
     "metadata": {},
     "output_type": "display_data"
    },
    {
     "data": {
      "text/plain": "<IPython.core.display.Markdown object>",
      "text/markdown": "**Pedro Lomba Neto** Predicted points = 8.58, Price = 5.3, Position = MID"
     },
     "metadata": {},
     "output_type": "display_data"
    },
    {
     "name": "stdout",
     "output_type": "stream",
     "text": [
      "\n",
      "Captain:\n"
     ]
    },
    {
     "data": {
      "text/plain": "<IPython.core.display.Markdown object>",
      "text/markdown": "**Mohamed Salah** Predicted points = 20.69, Price = 13.0, Position = MID"
     },
     "metadata": {},
     "output_type": "display_data"
    }
   ],
   "source": [
    "from src.squad_selection.predict_and_select import predict_and_select_transfer\n",
    "\n",
    "top_15_predictions = predict_and_select_transfer('2022-23', 5, model_path, scaler_path, download_newest_data=True, get_actual_chance_playing=True, position_separated=True, budget_now=0.4)"
   ],
   "metadata": {
    "collapsed": false,
    "pycharm": {
     "name": "#%%\n"
    }
   }
  },
  {
   "cell_type": "code",
   "execution_count": null,
   "outputs": [],
   "source": [
    "top_15_predictions"
   ],
   "metadata": {
    "collapsed": false,
    "pycharm": {
     "name": "#%%\n"
    }
   }
  },
  {
   "cell_type": "code",
   "execution_count": null,
   "outputs": [],
   "source": [],
   "metadata": {
    "collapsed": false,
    "pycharm": {
     "name": "#%%\n"
    }
   }
  },
  {
   "cell_type": "markdown",
   "source": [
    "## Get transfer for GW 7"
   ],
   "metadata": {
    "collapsed": false,
    "pycharm": {
     "name": "#%% md\n"
    }
   }
  },
  {
   "cell_type": "code",
   "execution_count": 5,
   "outputs": [],
   "source": [
    "model_path = ['/models/model_mlp_gk.h5', '/models/model_mlp_field.h5']\n",
    "scaler_path = ['/models/scaler_gk.gz', '/models/scaler_field.gz']"
   ],
   "metadata": {
    "collapsed": false,
    "pycharm": {
     "name": "#%%\n"
    }
   }
  },
  {
   "cell_type": "code",
   "execution_count": 6,
   "outputs": [
    {
     "name": "stdout",
     "output_type": "stream",
     "text": [
      "Downloading newest FPL data\n",
      "Download complete\n",
      "start scraping missing teams data season:  2022-23\n",
      "200\n",
      "End of scraping\n",
      "Are there any NaN values? - False\n",
      "Are there any NaN values? - False\n"
     ]
    },
    {
     "name": "stderr",
     "output_type": "stream",
     "text": [
      "d:\\studies\\informatyka\\semestr_3\\fpl_ai_manager\\venv\\lib\\site-packages\\pulp\\pulp.py:1352: UserWarning: Spaces are not permitted in the name. Converted to '_'\n",
      "  warnings.warn(\"Spaces are not permitted in the name. Converted to '_'\")\n"
     ]
    },
    {
     "name": "stdout",
     "output_type": "stream",
     "text": [
      "Solver status: 1\n",
      "\n",
      "Selected Transfers:\n"
     ]
    },
    {
     "data": {
      "text/plain": "<IPython.core.display.Markdown object>",
      "text/markdown": "Transferred in: **Pascal Groß**, Predicted points = 14.03, Price = 5.9"
     },
     "metadata": {},
     "output_type": "display_data"
    },
    {
     "data": {
      "text/plain": "<IPython.core.display.Markdown object>",
      "text/markdown": "Transferred out: **Pedro Lomba Neto**, Predicted points = 8.41, Price = 5.2"
     },
     "metadata": {},
     "output_type": "display_data"
    },
    {
     "name": "stdout",
     "output_type": "stream",
     "text": [
      "\n",
      "Selected Squad:\n"
     ]
    },
    {
     "data": {
      "text/plain": "<IPython.core.display.Markdown object>",
      "text/markdown": "**Gabriel Martinelli Silva** Predicted points = 15.35, Price = 6.5, Position = MID"
     },
     "metadata": {},
     "output_type": "display_data"
    },
    {
     "data": {
      "text/plain": "<IPython.core.display.Markdown object>",
      "text/markdown": "**Gabriel Fernando de Jesus** Predicted points = 16.14, Price = 8.2, Position = FWD"
     },
     "metadata": {},
     "output_type": "display_data"
    },
    {
     "data": {
      "text/plain": "<IPython.core.display.Markdown object>",
      "text/markdown": "**Pascal Groß** Predicted points = 14.03, Price = 5.9, Position = MID"
     },
     "metadata": {},
     "output_type": "display_data"
    },
    {
     "data": {
      "text/plain": "<IPython.core.display.Markdown object>",
      "text/markdown": "**Edouard Mendy** Predicted points = 10.4, Price = 5.0, Position = GK"
     },
     "metadata": {},
     "output_type": "display_data"
    },
    {
     "data": {
      "text/plain": "<IPython.core.display.Markdown object>",
      "text/markdown": "**Mohamed Salah** Predicted points = 20.64, Price = 13.0, Position = MID"
     },
     "metadata": {},
     "output_type": "display_data"
    },
    {
     "data": {
      "text/plain": "<IPython.core.display.Markdown object>",
      "text/markdown": "**Trent Alexander-Arnold** Predicted points = 13.94, Price = 7.5, Position = DEF"
     },
     "metadata": {},
     "output_type": "display_data"
    },
    {
     "data": {
      "text/plain": "<IPython.core.display.Markdown object>",
      "text/markdown": "**Luis Díaz** Predicted points = 15.55, Price = 8.2, Position = MID"
     },
     "metadata": {},
     "output_type": "display_data"
    },
    {
     "data": {
      "text/plain": "<IPython.core.display.Markdown object>",
      "text/markdown": "**Neco Williams** Predicted points = 9.94, Price = 4.1, Position = DEF"
     },
     "metadata": {},
     "output_type": "display_data"
    },
    {
     "data": {
      "text/plain": "<IPython.core.display.Markdown object>",
      "text/markdown": "**João Cancelo** Predicted points = 14.0, Price = 7.1, Position = DEF"
     },
     "metadata": {},
     "output_type": "display_data"
    },
    {
     "data": {
      "text/plain": "<IPython.core.display.Markdown object>",
      "text/markdown": "**Erling Haaland** Predicted points = 20.6, Price = 11.9, Position = FWD"
     },
     "metadata": {},
     "output_type": "display_data"
    },
    {
     "data": {
      "text/plain": "<IPython.core.display.Markdown object>",
      "text/markdown": "**Kieran Trippier** Predicted points = 13.42, Price = 5.1, Position = DEF"
     },
     "metadata": {},
     "output_type": "display_data"
    },
    {
     "name": "stdout",
     "output_type": "stream",
     "text": [
      "\n",
      "Subs:\n"
     ]
    },
    {
     "data": {
      "text/plain": "<IPython.core.display.Markdown object>",
      "text/markdown": "**Sam Greenwood** Predicted points = 2.23, Price = 4.4, Position = FWD"
     },
     "metadata": {},
     "output_type": "display_data"
    },
    {
     "data": {
      "text/plain": "<IPython.core.display.Markdown object>",
      "text/markdown": "**Danny Ward** Predicted points = 10.06, Price = 4.0, Position = GK"
     },
     "metadata": {},
     "output_type": "display_data"
    },
    {
     "data": {
      "text/plain": "<IPython.core.display.Markdown object>",
      "text/markdown": "**Andreas Hoelgebaum Pereira** Predicted points = 9.74, Price = 4.6, Position = MID"
     },
     "metadata": {},
     "output_type": "display_data"
    },
    {
     "data": {
      "text/plain": "<IPython.core.display.Markdown object>",
      "text/markdown": "**Ivan Perišić** Predicted points = 6.07, Price = 5.6, Position = DEF"
     },
     "metadata": {},
     "output_type": "display_data"
    },
    {
     "name": "stdout",
     "output_type": "stream",
     "text": [
      "\n",
      "Captain:\n"
     ]
    },
    {
     "data": {
      "text/plain": "<IPython.core.display.Markdown object>",
      "text/markdown": "**Mohamed Salah** Predicted points = 20.64, Price = 13.0, Position = MID"
     },
     "metadata": {},
     "output_type": "display_data"
    }
   ],
   "source": [
    "from src.squad_selection.predict_and_select import predict_and_select_transfer\n",
    "\n",
    "top_15_predictions = predict_and_select_transfer('2022-23', 6, model_path, scaler_path, download_newest_data=True, get_actual_chance_playing=True, position_separated=True, budget_now=0.8)"
   ],
   "metadata": {
    "collapsed": false,
    "pycharm": {
     "name": "#%%\n"
    }
   }
  },
  {
   "cell_type": "code",
   "execution_count": null,
   "outputs": [],
   "source": [
    "top_15_predictions"
   ],
   "metadata": {
    "collapsed": false,
    "pycharm": {
     "name": "#%%\n"
    }
   }
  }
 ],
 "metadata": {
  "kernelspec": {
   "display_name": "Python 3",
   "language": "python",
   "name": "python3"
  },
  "language_info": {
   "codemirror_mode": {
    "name": "ipython",
    "version": 2
   },
   "file_extension": ".py",
   "mimetype": "text/x-python",
   "name": "python",
   "nbconvert_exporter": "python",
   "pygments_lexer": "ipython2",
   "version": "2.7.6"
  }
 },
 "nbformat": 4,
 "nbformat_minor": 0
}