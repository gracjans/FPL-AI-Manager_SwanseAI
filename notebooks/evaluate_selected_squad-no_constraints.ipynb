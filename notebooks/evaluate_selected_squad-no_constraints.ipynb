{
 "cells": [
  {
   "cell_type": "code",
   "execution_count": 1,
   "metadata": {
    "collapsed": true,
    "pycharm": {
     "name": "#%%\n"
    }
   },
   "outputs": [],
   "source": [
    "%load_ext autoreload\n",
    "%autoreload 2\n",
    "%reload_ext autoreload"
   ]
  },
  {
   "cell_type": "markdown",
   "source": [
    "# Evaluate model predictions\n",
    "### Select best predicted squad and compare gained points with average points from specific gameweek"
   ],
   "metadata": {
    "collapsed": false,
    "pycharm": {
     "name": "#%% md\n"
    }
   }
  },
  {
   "cell_type": "code",
   "execution_count": 1,
   "outputs": [],
   "source": [
    "import pandas as pd\n",
    "import tensorflow as tf\n",
    "import xgboost as xgb\n",
    "import numpy as np\n",
    "import matplotlib.pyplot as plt\n",
    "\n",
    "from src.data.data_loader import load_average_pts\n",
    "from src.features.data_engineering import preprocess_seasons_data\n",
    "from src.features.data_engineering import reverse_processing\n",
    "\n",
    "from src.modeling.train_model import train_mlp_model\n",
    "from src.modeling.predictions import merge_reversed_data_with_predictions\n",
    "from src.modeling.evaluate_squad import squad_selection_without_constraints\n",
    "from src.modeling.evaluate_squad import get_average_pts\n",
    "from src.modeling.evaluate_squad import evaluate_selected_squad_without_constraints"
   ],
   "metadata": {
    "collapsed": false,
    "pycharm": {
     "name": "#%%\n"
    }
   }
  },
  {
   "cell_type": "code",
   "execution_count": 2,
   "outputs": [],
   "source": [
    "average_pts = load_average_pts()"
   ],
   "metadata": {
    "collapsed": false,
    "pycharm": {
     "name": "#%%\n"
    }
   }
  },
  {
   "cell_type": "code",
   "execution_count": 3,
   "outputs": [
    {
     "data": {
      "text/plain": "   GW  AVG_PTS_2016/17  AVG_PTS_2018/19  AVG_PTS_2021/22\n0   1               44               53               69\n1   2               56               59               56\n2   3               40               48               54\n3   4               41               43               57\n4   5               47               46               55",
      "text/html": "<div>\n<style scoped>\n    .dataframe tbody tr th:only-of-type {\n        vertical-align: middle;\n    }\n\n    .dataframe tbody tr th {\n        vertical-align: top;\n    }\n\n    .dataframe thead th {\n        text-align: right;\n    }\n</style>\n<table border=\"1\" class=\"dataframe\">\n  <thead>\n    <tr style=\"text-align: right;\">\n      <th></th>\n      <th>GW</th>\n      <th>AVG_PTS_2016/17</th>\n      <th>AVG_PTS_2018/19</th>\n      <th>AVG_PTS_2021/22</th>\n    </tr>\n  </thead>\n  <tbody>\n    <tr>\n      <th>0</th>\n      <td>1</td>\n      <td>44</td>\n      <td>53</td>\n      <td>69</td>\n    </tr>\n    <tr>\n      <th>1</th>\n      <td>2</td>\n      <td>56</td>\n      <td>59</td>\n      <td>56</td>\n    </tr>\n    <tr>\n      <th>2</th>\n      <td>3</td>\n      <td>40</td>\n      <td>48</td>\n      <td>54</td>\n    </tr>\n    <tr>\n      <th>3</th>\n      <td>4</td>\n      <td>41</td>\n      <td>43</td>\n      <td>57</td>\n    </tr>\n    <tr>\n      <th>4</th>\n      <td>5</td>\n      <td>47</td>\n      <td>46</td>\n      <td>55</td>\n    </tr>\n  </tbody>\n</table>\n</div>"
     },
     "execution_count": 3,
     "metadata": {},
     "output_type": "execute_result"
    }
   ],
   "source": [
    "average_pts.head()"
   ],
   "metadata": {
    "collapsed": false,
    "pycharm": {
     "name": "#%%\n"
    }
   }
  },
  {
   "cell_type": "markdown",
   "source": [
    "## Load specific test gameweek data\n",
    "**NOTE:** To properly evaluate model predictions comparing it with average points from specific gameweek, remember to leave performance sample of every player from specific gameweek in test dataset"
   ],
   "metadata": {
    "collapsed": false,
    "pycharm": {
     "name": "#%% md\n"
    }
   }
  },
  {
   "cell_type": "code",
   "execution_count": 13,
   "outputs": [],
   "source": [
    "test_subset = (['2016-17', [35,36,37]], ['2021-22', [27,28,29]])\n",
    "\n",
    "(x_train, y_train), (x_test, y_test), (x_train_target, x_test_target), x_scaler = preprocess_seasons_data(random_split=False, test_subset=test_subset)"
   ],
   "metadata": {
    "collapsed": false,
    "pycharm": {
     "name": "#%%\n"
    }
   }
  },
  {
   "cell_type": "code",
   "execution_count": 6,
   "outputs": [
    {
     "name": "stdout",
     "output_type": "stream",
     "text": [
      "['2016-17' '2021-22']\n",
      "[35 36 37 27 28 29]\n"
     ]
    }
   ],
   "source": [
    "# preview unique values in 'season' and 'GW' columns from x_test_target\n",
    "print(x_test_target.season.unique())\n",
    "print(x_test_target.GW.unique())"
   ],
   "metadata": {
    "collapsed": false,
    "pycharm": {
     "name": "#%%\n"
    }
   }
  },
  {
   "cell_type": "markdown",
   "source": [
    "## Train MLP and XGBoost models on specific subset and save them"
   ],
   "metadata": {
    "collapsed": false,
    "pycharm": {
     "name": "#%% md\n"
    }
   }
  },
  {
   "cell_type": "code",
   "execution_count": 7,
   "outputs": [],
   "source": [
    "# model = tf.keras.models.Sequential()\n",
    "#\n",
    "# model.add(tf.keras.layers.Dense(units=128, activation='relu', input_shape=(x_train.shape[1],)))\n",
    "# model.add(tf.keras.layers.Dense(units=256, activation='relu'))\n",
    "# model.add(tf.keras.layers.Dense(units=256, activation='relu'))\n",
    "# model.add(tf.keras.layers.Dense(units=126, activation='relu'))\n",
    "# model.add(tf.keras.layers.Dense(units=64, activation='relu'))\n",
    "# model.add(tf.keras.layers.Dense(units=1, activation='linear'))"
   ],
   "metadata": {
    "collapsed": false,
    "pycharm": {
     "name": "#%%\n"
    }
   }
  },
  {
   "cell_type": "code",
   "execution_count": 8,
   "outputs": [],
   "source": [
    "# model_mlp = train_mlp_model(model, x_train, y_train)"
   ],
   "metadata": {
    "collapsed": false,
    "pycharm": {
     "name": "#%%\n"
    }
   }
  },
  {
   "cell_type": "code",
   "execution_count": 9,
   "outputs": [],
   "source": [
    "# model_xgb = xgb.XGBRegressor()\n",
    "# model_xgb.fit(x_train, y_train)"
   ],
   "metadata": {
    "collapsed": false,
    "pycharm": {
     "name": "#%%\n"
    }
   }
  },
  {
   "cell_type": "code",
   "execution_count": 10,
   "outputs": [],
   "source": [
    "import os\n",
    "root_dir = os.path.dirname(os.path.abspath(''))"
   ],
   "metadata": {
    "collapsed": false,
    "pycharm": {
     "name": "#%%\n"
    }
   }
  },
  {
   "cell_type": "code",
   "execution_count": 11,
   "outputs": [],
   "source": [
    "# model_mlp.save(root_dir + '\\\\models\\\\baseline\\\\mlp_model_06-07-22.h5')\n",
    "# model_xgb.save_model(root_dir + '\\\\models\\\\baseline\\\\xgb_model_06-07-22.json')"
   ],
   "metadata": {
    "collapsed": false,
    "pycharm": {
     "name": "#%%\n"
    }
   }
  },
  {
   "cell_type": "markdown",
   "source": [
    "## Make predictions on specific test subset using MLP and XGBoost models"
   ],
   "metadata": {
    "collapsed": false,
    "pycharm": {
     "name": "#%% md\n"
    }
   }
  },
  {
   "cell_type": "code",
   "execution_count": 12,
   "outputs": [],
   "source": [
    "model_mlp = tf.keras.models.load_model(root_dir + '\\\\models\\\\baseline\\\\mlp_model_06-07-22.h5')\n",
    "model_xgb = xgb.XGBRegressor()\n",
    "model_xgb.load_model(root_dir + '\\\\models\\\\baseline\\\\xgb_model_06-07-22.json')"
   ],
   "metadata": {
    "collapsed": false,
    "pycharm": {
     "name": "#%%\n"
    }
   }
  },
  {
   "cell_type": "code",
   "execution_count": 13,
   "outputs": [],
   "source": [
    "x_test_reversed = reverse_processing(x_test, x_scaler, x_test_target)"
   ],
   "metadata": {
    "collapsed": false,
    "pycharm": {
     "name": "#%%\n"
    }
   }
  },
  {
   "cell_type": "code",
   "execution_count": 14,
   "outputs": [],
   "source": [
    "predictions_merged_mlp = merge_reversed_data_with_predictions(model_mlp, x_test, y_test, x_test_reversed)\n",
    "predictions_merged_xgb = merge_reversed_data_with_predictions(model_xgb, x_test, y_test, x_test_reversed)"
   ],
   "metadata": {
    "collapsed": false,
    "pycharm": {
     "name": "#%%\n"
    }
   }
  },
  {
   "cell_type": "markdown",
   "source": [
    "### Evaluate MLP model predictions without constraints for gameweek 27 in 2021-22 season\n",
    "At this moment, I do not take price constraints into account."
   ],
   "metadata": {
    "collapsed": false,
    "pycharm": {
     "name": "#%% md\n"
    }
   }
  },
  {
   "cell_type": "code",
   "execution_count": 15,
   "outputs": [],
   "source": [
    "# get data from predictions_merged only for 2021-22 season and gameweek 27\n",
    "predictions_merged_27 = predictions_merged_mlp[(predictions_merged_mlp.season == '2021-22') & (predictions_merged_mlp.GW == 27)]\n",
    "# sort predictions_merged_27 by predicted points in descending order\n",
    "predictions_merged_27 = predictions_merged_27.sort_values(by='predicted_total_points_next_gameweek', ascending=False)"
   ],
   "metadata": {
    "collapsed": false,
    "pycharm": {
     "name": "#%%\n"
    }
   }
  },
  {
   "cell_type": "code",
   "execution_count": 16,
   "outputs": [],
   "source": [
    "# get first row from predictions_merged_27 and double 'total_points_next_gameweek' value, because this player would be chosen as a capitan\n",
    "predictions_merged_27.iloc[0, predictions_merged_27.columns.get_loc('total_points_next_gameweek')] *= 2"
   ],
   "metadata": {
    "collapsed": false,
    "pycharm": {
     "name": "#%%\n"
    }
   }
  },
  {
   "cell_type": "code",
   "execution_count": 17,
   "outputs": [],
   "source": [
    "# get goalkeepers from predictions_merged_27 (with 1 in 'position_GK' column)\n",
    "# df_gk_27 = predictions_merged_27[predictions_merged_27.position_GK == 1]\n",
    "# df_def_27 = predictions_merged_27[predictions_merged_27.position_DEF == 1]\n",
    "# df_mid_27 = predictions_merged_27[predictions_merged_27.position_MID == 1]\n",
    "# df_fwd_27 = predictions_merged_27[predictions_merged_27.position_FWD == 1]\n",
    "\n",
    "# separate players by position\n",
    "df_top_11_27 = pd.DataFrame()\n",
    "positions = ['position_GK', 'position_DEF', 'position_MID', 'position_FWD']\n",
    "formation = [1, 3, 5, 2]\n",
    "for i, position in enumerate(positions):\n",
    "    # get players with the given position\n",
    "    players = predictions_merged_27[predictions_merged_27[position] == 1].head(formation[i])\n",
    "    # add players to df_top_11 dataframe\n",
    "    df_top_11_27 = pd.concat((df_top_11_27, players), ignore_index=True)"
   ],
   "metadata": {
    "collapsed": false,
    "pycharm": {
     "name": "#%%\n"
    }
   }
  },
  {
   "cell_type": "code",
   "execution_count": 18,
   "outputs": [
    {
     "data": {
      "text/plain": "                                       name  total_points_next_gameweek  \\\n0                                 Nick Pope                         2.0   \n1                JoÃ£o Pedro Cavaco Cancelo                         2.0   \n2             RÃºben Santos Gato Alves Dias                         0.0   \n3                           Aymeric Laporte                         2.0   \n4                           Kevin De Bruyne                        36.0   \n5                             Heung-Min Son                         7.0   \n6             Bruno Miguel Borges Fernandes                         2.0   \n7                           Raheem Sterling                         0.0   \n8   Bernardo Mota Veiga de Carvalho e Silva                         6.0   \n9                                Harry Kane                        13.0   \n10      Cristiano Ronaldo dos Santos Aveiro                         0.0   \n\n    transfers_balance  value  \n0            105427.0   54.0  \n1             35950.0   71.0  \n2             45820.0   63.0  \n3             10139.0   58.0  \n4            -24780.0  119.0  \n5            281052.0  108.0  \n6            135480.0  117.0  \n7             55949.0  107.0  \n8             13991.0   73.0  \n9            156443.0  122.0  \n10           -82154.0  124.0  ",
      "text/html": "<div>\n<style scoped>\n    .dataframe tbody tr th:only-of-type {\n        vertical-align: middle;\n    }\n\n    .dataframe tbody tr th {\n        vertical-align: top;\n    }\n\n    .dataframe thead th {\n        text-align: right;\n    }\n</style>\n<table border=\"1\" class=\"dataframe\">\n  <thead>\n    <tr style=\"text-align: right;\">\n      <th></th>\n      <th>name</th>\n      <th>total_points_next_gameweek</th>\n      <th>transfers_balance</th>\n      <th>value</th>\n    </tr>\n  </thead>\n  <tbody>\n    <tr>\n      <th>0</th>\n      <td>Nick Pope</td>\n      <td>2.0</td>\n      <td>105427.0</td>\n      <td>54.0</td>\n    </tr>\n    <tr>\n      <th>1</th>\n      <td>JoÃ£o Pedro Cavaco Cancelo</td>\n      <td>2.0</td>\n      <td>35950.0</td>\n      <td>71.0</td>\n    </tr>\n    <tr>\n      <th>2</th>\n      <td>RÃºben Santos Gato Alves Dias</td>\n      <td>0.0</td>\n      <td>45820.0</td>\n      <td>63.0</td>\n    </tr>\n    <tr>\n      <th>3</th>\n      <td>Aymeric Laporte</td>\n      <td>2.0</td>\n      <td>10139.0</td>\n      <td>58.0</td>\n    </tr>\n    <tr>\n      <th>4</th>\n      <td>Kevin De Bruyne</td>\n      <td>36.0</td>\n      <td>-24780.0</td>\n      <td>119.0</td>\n    </tr>\n    <tr>\n      <th>5</th>\n      <td>Heung-Min Son</td>\n      <td>7.0</td>\n      <td>281052.0</td>\n      <td>108.0</td>\n    </tr>\n    <tr>\n      <th>6</th>\n      <td>Bruno Miguel Borges Fernandes</td>\n      <td>2.0</td>\n      <td>135480.0</td>\n      <td>117.0</td>\n    </tr>\n    <tr>\n      <th>7</th>\n      <td>Raheem Sterling</td>\n      <td>0.0</td>\n      <td>55949.0</td>\n      <td>107.0</td>\n    </tr>\n    <tr>\n      <th>8</th>\n      <td>Bernardo Mota Veiga de Carvalho e Silva</td>\n      <td>6.0</td>\n      <td>13991.0</td>\n      <td>73.0</td>\n    </tr>\n    <tr>\n      <th>9</th>\n      <td>Harry Kane</td>\n      <td>13.0</td>\n      <td>156443.0</td>\n      <td>122.0</td>\n    </tr>\n    <tr>\n      <th>10</th>\n      <td>Cristiano Ronaldo dos Santos Aveiro</td>\n      <td>0.0</td>\n      <td>-82154.0</td>\n      <td>124.0</td>\n    </tr>\n  </tbody>\n</table>\n</div>"
     },
     "execution_count": 18,
     "metadata": {},
     "output_type": "execute_result"
    }
   ],
   "source": [
    "# get 'name', 'total_points_next_gameweek', 'transfers_balance', 'value' columns from df_top_11\n",
    "df_top_11_27[['name', 'total_points_next_gameweek', 'transfers_balance', 'value']]"
   ],
   "metadata": {
    "collapsed": false,
    "pycharm": {
     "name": "#%%\n"
    }
   }
  },
  {
   "cell_type": "code",
   "execution_count": 19,
   "outputs": [
    {
     "data": {
      "text/plain": "70.0"
     },
     "execution_count": 19,
     "metadata": {},
     "output_type": "execute_result"
    }
   ],
   "source": [
    "df_top_11_27.total_points_next_gameweek.sum()"
   ],
   "metadata": {
    "collapsed": false,
    "pycharm": {
     "name": "#%%\n"
    }
   }
  },
  {
   "cell_type": "code",
   "execution_count": 20,
   "outputs": [
    {
     "data": {
      "text/plain": "40"
     },
     "execution_count": 20,
     "metadata": {},
     "output_type": "execute_result"
    }
   ],
   "source": [
    "# get number of avg points from avg_pts where season is 2021-22 and gameweek is 27\n",
    "\n",
    "average_pts.loc[average_pts['GW'] == 27, ['AVG_PTS_2021/22']].values[0][0]"
   ],
   "metadata": {
    "collapsed": false,
    "pycharm": {
     "name": "#%%\n"
    }
   }
  },
  {
   "cell_type": "markdown",
   "source": [
    "### Evaluate MLP model for whole test_subset"
   ],
   "metadata": {
    "collapsed": false,
    "pycharm": {
     "name": "#%% md\n"
    }
   }
  },
  {
   "cell_type": "code",
   "execution_count": 21,
   "outputs": [],
   "source": [
    "test_subset = (['2016-17', [35,36,37]], ['2021-22', [27,28,29]])"
   ],
   "metadata": {
    "collapsed": false,
    "pycharm": {
     "name": "#%%\n"
    }
   }
  },
  {
   "cell_type": "code",
   "execution_count": 22,
   "outputs": [],
   "source": [
    "results = []\n",
    "gameweeks = []\n",
    "for season in test_subset:\n",
    "    for gameweek in season[1]:\n",
    "        results.append(squad_selection_without_constraints(predictions_merged_mlp, season[0], gameweek))\n",
    "        gameweeks.append((season[0], gameweek))\n",
    "\n",
    "selected_squad_points_mlp = []\n",
    "for result in results:\n",
    "    selected_squad_points_mlp.append(result[1])\n",
    "\n",
    "real_player_average_points = []\n",
    "for gameweek in gameweeks:\n",
    "    real_player_average_points.append(get_average_pts(gameweek[0], gameweek[1]))"
   ],
   "metadata": {
    "collapsed": false,
    "pycharm": {
     "name": "#%%\n"
    }
   }
  },
  {
   "cell_type": "code",
   "execution_count": 23,
   "outputs": [
    {
     "data": {
      "text/plain": "<Figure size 720x432 with 1 Axes>",
      "image/png": "[encoded data removed]"
     },
     "metadata": {
      "needs_background": "light"
     },
     "output_type": "display_data"
    }
   ],
   "source": [
    "plt.figure(figsize=(10,6))\n",
    "\n",
    "X_axis = np.arange(len(gameweeks))\n",
    "\n",
    "plt.bar(X_axis - 0.2, selected_squad_points_mlp, 0.4, label = 'Selected squad points')\n",
    "plt.bar(X_axis + 0.2, real_player_average_points, 0.4, label = 'Real player average points')\n",
    "\n",
    "plt.xticks(X_axis, gameweeks)\n",
    "plt.xlabel(\"Season and GW\")\n",
    "plt.ylabel(\"Points gained\")\n",
    "plt.title(\"Comparison of average pts gained by real players with points gained by squad selected by MLP model\")\n",
    "plt.legend()\n",
    "plt.show()"
   ],
   "metadata": {
    "collapsed": false,
    "pycharm": {
     "name": "#%%\n"
    }
   }
  },
  {
   "cell_type": "markdown",
   "source": [],
   "metadata": {
    "collapsed": false,
    "pycharm": {
     "name": "#%% md\n"
    }
   }
  },
  {
   "cell_type": "code",
   "execution_count": 24,
   "outputs": [
    {
     "name": "stdout",
     "output_type": "stream",
     "text": [
      "Sum of points gained by selected squad: 403.0\n",
      "Sum of points gained by real players: 350\n",
      "Difference: 53.0 pts\n"
     ]
    }
   ],
   "source": [
    "print('Sum of points gained by selected squad:', sum(selected_squad_points_mlp))\n",
    "print('Sum of points gained by real players:', sum(real_player_average_points))\n",
    "print('Difference:', sum(selected_squad_points_mlp) - sum(real_player_average_points), 'pts')"
   ],
   "metadata": {
    "collapsed": false,
    "pycharm": {
     "name": "#%%\n"
    }
   }
  },
  {
   "cell_type": "markdown",
   "source": [
    "### Evaluate XGB model for whole test_subset"
   ],
   "metadata": {
    "collapsed": false,
    "pycharm": {
     "name": "#%% md\n"
    }
   }
  },
  {
   "cell_type": "code",
   "execution_count": 25,
   "outputs": [
    {
     "name": "stdout",
     "output_type": "stream",
     "text": [
      "[43.0, 83.0, 92.0, 35.0, 55.0, 60.0]\n"
     ]
    }
   ],
   "source": [
    "results = []\n",
    "gameweeks = []\n",
    "for season in test_subset:\n",
    "    for gameweek in season[1]:\n",
    "        results.append(squad_selection_without_constraints(predictions_merged_xgb, season[0], gameweek))\n",
    "        gameweeks.append((season[0], gameweek))\n",
    "\n",
    "selected_squad_points_xgb = []\n",
    "for result in results:\n",
    "    selected_squad_points_xgb.append(result[1])\n",
    "\n",
    "print(selected_squad_points_xgb)"
   ],
   "metadata": {
    "collapsed": false,
    "pycharm": {
     "name": "#%%\n"
    }
   }
  },
  {
   "cell_type": "code",
   "execution_count": 26,
   "outputs": [
    {
     "data": {
      "text/plain": "<Figure size 720x432 with 1 Axes>",
      "image/png": "[encoded data removed]"
     },
     "metadata": {
      "needs_background": "light"
     },
     "output_type": "display_data"
    }
   ],
   "source": [
    "plt.figure(figsize=(10,6))\n",
    "\n",
    "X_axis = np.arange(len(gameweeks))\n",
    "\n",
    "plt.bar(X_axis - 0.2, selected_squad_points_xgb, 0.4, label = 'Selected squad points')\n",
    "plt.bar(X_axis + 0.2, real_player_average_points, 0.4, label = 'Real player average points')\n",
    "\n",
    "plt.xticks(X_axis, gameweeks)\n",
    "plt.xlabel(\"Season and GW\")\n",
    "plt.ylabel(\"Points gained\")\n",
    "plt.title(\"Comparison of average pts gained by real players with points gained by squad selected by MLP model\")\n",
    "plt.legend()\n",
    "plt.show()"
   ],
   "metadata": {
    "collapsed": false,
    "pycharm": {
     "name": "#%%\n"
    }
   }
  },
  {
   "cell_type": "code",
   "execution_count": 27,
   "outputs": [
    {
     "name": "stdout",
     "output_type": "stream",
     "text": [
      "Sum of points gained by selected squad: 368.0\n",
      "Sum of points gained by real players: 350\n",
      "Difference: 18.0 pts\n"
     ]
    }
   ],
   "source": [
    "print('Sum of points gained by selected squad:', sum(selected_squad_points_xgb))\n",
    "print('Sum of points gained by real players:', sum(real_player_average_points))\n",
    "print('Difference:', sum(selected_squad_points_xgb) - sum(real_player_average_points), 'pts')"
   ],
   "metadata": {
    "collapsed": false,
    "pycharm": {
     "name": "#%%\n"
    }
   }
  },
  {
   "cell_type": "markdown",
   "source": [
    "### Conclusion\n",
    "These results look promising. Squad selected by AI MLP model seems to gain more points than real players on average. With this test_subset, XGBoost model gained significantly lower amount of points than MLP model, but still more than real average FPL player. But we need to notice that it just simple initial comparison. Predictions are taken from simple baseline model without any price constraints and we tested it only on 6 gameweeks. So it is not very accurate at this moment, but it's a great step towards main goal of this project, which is AI model that can achieve better results than average real player during the whole FPL season."
   ],
   "metadata": {
    "collapsed": false,
    "pycharm": {
     "name": "#%% md\n"
    }
   }
  },
  {
   "cell_type": "code",
   "execution_count": 28,
   "outputs": [
    {
     "data": {
      "text/plain": "<Figure size 936x720 with 1 Axes>",
      "image/png": "[encoded data removed]"
     },
     "metadata": {
      "needs_background": "light"
     },
     "output_type": "display_data"
    }
   ],
   "source": [
    "plt.figure(figsize=(13,10))\n",
    "\n",
    "X_axis = np.arange(len(gameweeks))\n",
    "\n",
    "plt.bar(X_axis - 0.2, selected_squad_points_xgb, 0.2, label = 'Selected squad points XGB')\n",
    "plt.bar(X_axis, real_player_average_points, 0.2, label = 'Real player average points')\n",
    "plt.bar(X_axis + 0.2, selected_squad_points_mlp, 0.2, label = 'Selected squad points MLP')\n",
    "\n",
    "plt.xticks(X_axis, gameweeks)\n",
    "plt.xlabel(\"Season and GW\")\n",
    "plt.ylabel(\"Points gained\")\n",
    "plt.title(\"Comparison of pts gained by squad selected by MLP model with points gained by squad selected by XGB model\")\n",
    "plt.legend()\n",
    "plt.show()"
   ],
   "metadata": {
    "collapsed": false,
    "pycharm": {
     "name": "#%%\n"
    }
   }
  },
  {
   "cell_type": "code",
   "execution_count": 29,
   "outputs": [],
   "source": [
    "# run evaluation on test_subset and log results to mlflow\n",
    "#evaluate_selected_squad_without_constraints(predictions_merged_mlp, test_subset, 'mlp_model_06-07-22')\n",
    "#evaluate_selected_squad_without_constraints(predictions_merged_xgb, test_subset, 'xgb_model_06-07-22')"
   ],
   "metadata": {
    "collapsed": false,
    "pycharm": {
     "name": "#%%\n"
    }
   }
  },
  {
   "cell_type": "markdown",
   "source": [
    "## Evaluate models on bigger test_subset"
   ],
   "metadata": {
    "collapsed": false,
    "pycharm": {
     "name": "#%% md\n"
    }
   }
  },
  {
   "cell_type": "code",
   "execution_count": 4,
   "outputs": [
    {
     "data": {
      "text/plain": "XGBRegressor(base_score=0.5, booster='gbtree', callbacks=None,\n             colsample_bylevel=1, colsample_bynode=1, colsample_bytree=1,\n             early_stopping_rounds=None, enable_categorical=False,\n             eval_metric=None, gamma=0, gpu_id=-1, grow_policy='depthwise',\n             importance_type=None, interaction_constraints='',\n             learning_rate=0.300000012, max_bin=256, max_cat_to_onehot=4,\n             max_delta_step=0, max_depth=6, max_leaves=0, min_child_weight=1,\n             missing=nan, monotone_constraints='()', n_estimators=100, n_jobs=0,\n             num_parallel_tree=1, predictor='auto', random_state=0, reg_alpha=0,\n             reg_lambda=1, ...)"
     },
     "execution_count": 4,
     "metadata": {},
     "output_type": "execute_result"
    }
   ],
   "source": [
    "test_subset_XL = (['2016-17', [4, 8, 9, 14, 18, 20, 21, 26, 32]], ['2018-19', [1, 2, 3, 4, 5, 6, 7, 8, 9, 10]], ['2021-22', [17, 18, 19, 20, 21, 22, 23, 24, 25, 26]])\n",
    "\n",
    "(x_train, y_train), (x_test, y_test), (x_train_target, x_test_target), x_scaler = preprocess_seasons_data(random_split=False, test_subset=test_subset_XL)\n",
    "\n",
    "# Train MLP and XGBoost models on specific subset\n",
    "model = tf.keras.models.Sequential()\n",
    "model.add(tf.keras.layers.Dense(units=128, activation='relu', input_shape=(x_train.shape[1],)))\n",
    "model.add(tf.keras.layers.Dense(units=256, activation='relu'))\n",
    "model.add(tf.keras.layers.Dense(units=256, activation='relu'))\n",
    "model.add(tf.keras.layers.Dense(units=126, activation='relu'))\n",
    "model.add(tf.keras.layers.Dense(units=64, activation='relu'))\n",
    "model.add(tf.keras.layers.Dense(units=1, activation='linear'))\n",
    "model_mlp = train_mlp_model(model, x_train, y_train, verbose=0)\n",
    "\n",
    "model_xgb = xgb.XGBRegressor()\n",
    "model_xgb.fit(x_train, y_train)"
   ],
   "metadata": {
    "collapsed": false,
    "pycharm": {
     "name": "#%%\n"
    }
   }
  },
  {
   "cell_type": "code",
   "execution_count": 5,
   "outputs": [],
   "source": [
    "# Make predictions on specific test subset using MLP and XGBoost models\n",
    "x_test_reversed = reverse_processing(x_test, x_scaler, x_test_target)\n",
    "predictions_merged_mlp = merge_reversed_data_with_predictions(model_mlp, x_test, y_test, x_test_reversed)\n",
    "predictions_merged_xgb = merge_reversed_data_with_predictions(model_xgb, x_test, y_test, x_test_reversed)\n",
    "\n",
    "# Get squad and evaluate it for both models\n",
    "results_mlp, selected_squad_points_mlp, real_player_average_points_mlp, season_gameweeks_mlp = evaluate_selected_squad_without_constraints(predictions_merged_mlp, test_subset_XL, 'mlp_model-no_constraints_test_subset_XL')\n",
    "results_xgb, selected_squad_points_xgb, real_player_average_points_xgb, season_gameweeks_xgb = evaluate_selected_squad_without_constraints(predictions_merged_xgb, test_subset_XL, 'xgb_model-no_constraints_test_subset_XL')"
   ],
   "metadata": {
    "collapsed": false,
    "pycharm": {
     "name": "#%%\n"
    }
   }
  },
  {
   "cell_type": "code",
   "execution_count": 6,
   "outputs": [
    {
     "data": {
      "text/plain": "<Figure size 1440x1080 with 1 Axes>",
      "image/png": "[encoded data removed]"
     },
     "metadata": {
      "needs_background": "light"
     },
     "output_type": "display_data"
    }
   ],
   "source": [
    "plt.figure(figsize=(20,15))\n",
    "\n",
    "X_axis = np.arange(len(season_gameweeks_mlp))\n",
    "\n",
    "plt.bar(X_axis - 0.3, selected_squad_points_xgb, 0.3, label = 'Selected squad points XGB')\n",
    "plt.bar(X_axis, real_player_average_points_mlp, 0.3, label = 'Real player average points')\n",
    "plt.bar(X_axis + 0.3, selected_squad_points_mlp, 0.3, label = 'Selected squad points MLP')\n",
    "\n",
    "plt.xticks(X_axis, season_gameweeks_mlp, rotation=30)\n",
    "plt.xlabel(\"Season and GW\")\n",
    "plt.ylabel(\"Points gained\")\n",
    "plt.title(\"Comparison of pts gained by squad selected by MLP model with points gained by squad selected by XGB model for big test subset\")\n",
    "plt.legend()\n",
    "plt.show()"
   ],
   "metadata": {
    "collapsed": false,
    "pycharm": {
     "name": "#%%\n"
    }
   }
  },
  {
   "cell_type": "markdown",
   "source": [
    "#### MLP model sum of points"
   ],
   "metadata": {
    "collapsed": false,
    "pycharm": {
     "name": "#%% md\n"
    }
   }
  },
  {
   "cell_type": "code",
   "execution_count": 7,
   "outputs": [
    {
     "name": "stdout",
     "output_type": "stream",
     "text": [
      "Sum of points gained by selected squad: 1668.0\n",
      "Sum of points gained by real players: 1391\n",
      "Difference: 277.0 pts\n"
     ]
    }
   ],
   "source": [
    "print('Sum of points gained by selected squad:', sum(selected_squad_points_mlp))\n",
    "print('Sum of points gained by real players:', sum(real_player_average_points_mlp))\n",
    "print('Difference:', sum(selected_squad_points_mlp) - sum(real_player_average_points_mlp), 'pts')"
   ],
   "metadata": {
    "collapsed": false,
    "pycharm": {
     "name": "#%%\n"
    }
   }
  },
  {
   "cell_type": "markdown",
   "source": [
    "#### XGBoost model sum of points"
   ],
   "metadata": {
    "collapsed": false,
    "pycharm": {
     "name": "#%% md\n"
    }
   }
  },
  {
   "cell_type": "code",
   "execution_count": 8,
   "outputs": [
    {
     "name": "stdout",
     "output_type": "stream",
     "text": [
      "Sum of points gained by selected squad: 1576.0\n",
      "Sum of points gained by real players: 1391\n",
      "Difference: 185.0 pts\n"
     ]
    }
   ],
   "source": [
    "print('Sum of points gained by selected squad:', sum(selected_squad_points_xgb))\n",
    "print('Sum of points gained by real players:', sum(real_player_average_points_xgb))\n",
    "print('Difference:', sum(selected_squad_points_xgb) - sum(real_player_average_points_xgb), 'pts')"
   ],
   "metadata": {
    "collapsed": false,
    "pycharm": {
     "name": "#%%\n"
    }
   }
  },
  {
   "cell_type": "markdown",
   "source": [
    "## Conclusion #2\n",
    "With models evaluated on much bigger test subset, we can see that results are still really promising. MLP model still looks better than XGBoost model, making bigger difference in points gained with bigger test subset. However, we need to remember that squads were picked without money/value constraints what is big simplification, cause fitting squad in actual budget constraints is key element of real FPL game. Actually evaluation script just takes best prospects for next gameweek, which usually means taking expensive superstar players.Also these are simple baseline models, trained on data containing information only about one last game player performance.\n",
    "\n",
    "Next steps are to train models on data with more information about historical player performances (previous gameweeks/whole season) and to create more complex script to select best squad with consideration of constraints."
   ],
   "metadata": {
    "collapsed": false,
    "pycharm": {
     "name": "#%% md\n"
    }
   }
  },
  {
   "cell_type": "markdown",
   "source": [
    "# Evaluate models trained on merged seasons data with historical rolling features"
   ],
   "metadata": {
    "collapsed": false,
    "pycharm": {
     "name": "#%% md\n"
    }
   }
  },
  {
   "cell_type": "code",
   "execution_count": 23,
   "outputs": [],
   "source": [
    "rolling_columns = ['assists', 'bonus', 'bps', 'clean_sheets',\n",
    "                   'creativity', 'goals_conceded', 'goals_scored',\n",
    "                   'ict_index', 'influence', 'minutes',\n",
    "                   'own_goals', 'penalties_missed', 'penalties_saved', 'red_cards',\n",
    "                   'saves', 'selected', 'player_team_score', 'opponent_team_score', 'threat',\n",
    "                   'total_points', 'transfers_in', 'transfers_out',\n",
    "                   'value', 'yellow_cards']\n",
    "\n",
    "times = ['all', 6, 3]\n",
    "\n",
    "test_subset_XL = (['2016-17', [4, 8, 9, 14, 18, 20, 21, 26, 32]], ['2018-19', [1, 2, 3, 4, 5, 6, 7, 8, 9, 10]], ['2021-22', [17, 18, 19, 20, 21, 22, 23, 24, 25, 26]])"
   ],
   "metadata": {
    "collapsed": false,
    "pycharm": {
     "name": "#%%\n"
    }
   }
  },
  {
   "cell_type": "code",
   "execution_count": 24,
   "outputs": [],
   "source": [
    "(x_train, y_train), (x_test, y_test), (x_train_target, x_test_target), x_scaler = preprocess_seasons_data(random_split=False, test_subset=test_subset_XL, rolling_features=True, rolling_columns=rolling_columns, rolling_times=times)"
   ],
   "metadata": {
    "collapsed": false,
    "pycharm": {
     "name": "#%%\n"
    }
   }
  },
  {
   "cell_type": "code",
   "execution_count": 25,
   "outputs": [
    {
     "data": {
      "text/plain": "XGBRegressor(base_score=0.5, booster='gbtree', callbacks=None,\n             colsample_bylevel=1, colsample_bynode=1, colsample_bytree=1,\n             early_stopping_rounds=None, enable_categorical=False,\n             eval_metric=None, gamma=0, gpu_id=-1, grow_policy='depthwise',\n             importance_type=None, interaction_constraints='',\n             learning_rate=0.300000012, max_bin=256, max_cat_to_onehot=4,\n             max_delta_step=0, max_depth=6, max_leaves=0, min_child_weight=1,\n             missing=nan, monotone_constraints='()', n_estimators=100, n_jobs=0,\n             num_parallel_tree=1, predictor='auto', random_state=0, reg_alpha=0,\n             reg_lambda=1, ...)"
     },
     "execution_count": 25,
     "metadata": {},
     "output_type": "execute_result"
    }
   ],
   "source": [
    "# Train MLP and XGBoost models on specific subset\n",
    "model = tf.keras.models.Sequential()\n",
    "model.add(tf.keras.layers.Dense(units=128, activation='relu', input_shape=(x_train.shape[1],)))\n",
    "model.add(tf.keras.layers.Dense(units=256, activation='relu'))\n",
    "model.add(tf.keras.layers.Dense(units=256, activation='relu'))\n",
    "model.add(tf.keras.layers.Dense(units=126, activation='relu'))\n",
    "model.add(tf.keras.layers.Dense(units=64, activation='relu'))\n",
    "model.add(tf.keras.layers.Dense(units=1, activation='linear'))\n",
    "model_mlp_rolling = train_mlp_model(model, x_train, y_train, verbose=0)\n",
    "\n",
    "model_xgb_rolling = xgb.XGBRegressor()\n",
    "model_xgb_rolling.fit(x_train, y_train)"
   ],
   "metadata": {
    "collapsed": false,
    "pycharm": {
     "name": "#%%\n"
    }
   }
  },
  {
   "cell_type": "code",
   "execution_count": 26,
   "outputs": [],
   "source": [
    "# Make predictions on specific test subset using MLP and XGBoost models\n",
    "x_test_reversed = reverse_processing(x_test, x_scaler, x_test_target)\n",
    "predictions_merged_mlp_rolling = merge_reversed_data_with_predictions(model_mlp_rolling, x_test, y_test, x_test_reversed)\n",
    "predictions_merged_xgb_rolling = merge_reversed_data_with_predictions(model_xgb_rolling, x_test, y_test, x_test_reversed)\n",
    "\n",
    "# Get squad and evaluate it for both models\n",
    "results_mlp_rolling, selected_squad_points_mlp_rolling, real_player_average_points_mlp, season_gameweeks_mlp_rolling = evaluate_selected_squad_without_constraints(predictions_merged_mlp_rolling, test_subset_XL, 'mlp_model_rolling-no_constraints_test_subset_XL')\n",
    "results_xgb_rolling, selected_squad_points_xgb_rolling, real_player_average_points_xgb, season_gameweeks_xgb_rolling = evaluate_selected_squad_without_constraints(predictions_merged_xgb_rolling, test_subset_XL, 'xgb_model_rolling-no_constraints_test_subset_XL')"
   ],
   "metadata": {
    "collapsed": false,
    "pycharm": {
     "name": "#%%\n"
    }
   }
  },
  {
   "cell_type": "code",
   "execution_count": 27,
   "outputs": [
    {
     "data": {
      "text/plain": "<Figure size 1440x1080 with 1 Axes>",
      "image/png": "[encoded data removed]"
     },
     "metadata": {
      "needs_background": "light"
     },
     "output_type": "display_data"
    }
   ],
   "source": [
    "plt.figure(figsize=(20,15))\n",
    "\n",
    "X_axis = np.arange(len(season_gameweeks_mlp_rolling))\n",
    "\n",
    "plt.bar(X_axis - 0.3, selected_squad_points_xgb_rolling, 0.3, label = 'Selected squad points XGB')\n",
    "plt.bar(X_axis, real_player_average_points_mlp, 0.3, label = 'Real player average points')\n",
    "plt.bar(X_axis + 0.3, selected_squad_points_mlp_rolling, 0.3, label = 'Selected squad points MLP')\n",
    "\n",
    "plt.xticks(X_axis, season_gameweeks_mlp_rolling, rotation=30)\n",
    "plt.xlabel(\"Season and GW\")\n",
    "plt.ylabel(\"Points gained\")\n",
    "plt.title(\"Comparison of pts gained by squad selected by MLP model with points gained by squad selected by XGB model for big test subset\")\n",
    "plt.legend()\n",
    "plt.show()"
   ],
   "metadata": {
    "collapsed": false,
    "pycharm": {
     "name": "#%%\n"
    }
   }
  },
  {
   "cell_type": "markdown",
   "source": [
    "#### MLP model sum of points"
   ],
   "metadata": {
    "collapsed": false,
    "pycharm": {
     "name": "#%% md\n"
    }
   }
  },
  {
   "cell_type": "code",
   "execution_count": 28,
   "outputs": [
    {
     "name": "stdout",
     "output_type": "stream",
     "text": [
      "Sum of points gained by selected squad: 1631.0\n",
      "Sum of points gained by real players: 1391\n",
      "Difference: 240.0 pts\n"
     ]
    }
   ],
   "source": [
    "print('Sum of points gained by selected squad:', sum(selected_squad_points_mlp_rolling))\n",
    "print('Sum of points gained by real players:', sum(real_player_average_points_mlp))\n",
    "print('Difference:', sum(selected_squad_points_mlp_rolling) - sum(real_player_average_points_mlp), 'pts')"
   ],
   "metadata": {
    "collapsed": false,
    "pycharm": {
     "name": "#%%\n"
    }
   }
  },
  {
   "cell_type": "markdown",
   "source": [
    "#### XGBoost model sum of points"
   ],
   "metadata": {
    "collapsed": false,
    "pycharm": {
     "name": "#%% md\n"
    }
   }
  },
  {
   "cell_type": "code",
   "execution_count": 29,
   "outputs": [
    {
     "name": "stdout",
     "output_type": "stream",
     "text": [
      "Sum of points gained by selected squad: 1553.0\n",
      "Sum of points gained by real players: 1391\n",
      "Difference: 162.0 pts\n"
     ]
    }
   ],
   "source": [
    "print('Sum of points gained by selected squad:', sum(selected_squad_points_xgb_rolling))\n",
    "print('Sum of points gained by real players:', sum(real_player_average_points_xgb))\n",
    "print('Difference:', sum(selected_squad_points_xgb_rolling) - sum(real_player_average_points_xgb), 'pts')"
   ],
   "metadata": {
    "collapsed": false,
    "pycharm": {
     "name": "#%%\n"
    }
   }
  },
  {
   "cell_type": "markdown",
   "source": [
    "## Conclusion #3\n",
    "When adding rolling mean historical features to the data, it looks like there is no much difference in the results, even model with additional rolling features gives little worse results. I think that separating players by position and creating different datasets and models will be more effective. Another important change will be to add features with information of next match opponent team strength. Of course I also see a lot of possibilites of improvement in the model in the terms of hyperparameter selection like: rolling features time frames, adding dropout and many more typical hyperparameters of MLP and XGBoost models."
   ],
   "metadata": {
    "collapsed": false,
    "pycharm": {
     "name": "#%% md\n"
    }
   }
  },
  {
   "cell_type": "code",
   "execution_count": null,
   "outputs": [],
   "source": [],
   "metadata": {
    "collapsed": false,
    "pycharm": {
     "name": "#%%\n"
    }
   }
  }
 ],
 "metadata": {
  "kernelspec": {
   "display_name": "Python 3",
   "language": "python",
   "name": "python3"
  },
  "language_info": {
   "codemirror_mode": {
    "name": "ipython",
    "version": 2
   },
   "file_extension": ".py",
   "mimetype": "text/x-python",
   "name": "python",
   "nbconvert_exporter": "python",
   "pygments_lexer": "ipython2",
   "version": "2.7.6"
  }
 },
 "nbformat": 4,
 "nbformat_minor": 0
}