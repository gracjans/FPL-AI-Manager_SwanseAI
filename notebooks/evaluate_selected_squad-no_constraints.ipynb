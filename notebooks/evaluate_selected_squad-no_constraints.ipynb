{
 "cells": [
  {
   "cell_type": "code",
   "execution_count": 1,
   "metadata": {
    "collapsed": true,
    "pycharm": {
     "name": "#%%\n"
    }
   },
   "outputs": [],
   "source": [
    "%load_ext autoreload\n",
    "%autoreload 2\n",
    "%reload_ext autoreload"
   ]
  },
  {
   "cell_type": "markdown",
   "source": [
    "# Evaluate model predictions\n",
    "### Select best predicted squad and compare gained points with average points from specific gameweek"
   ],
   "metadata": {
    "collapsed": false,
    "pycharm": {
     "name": "#%% md\n"
    }
   }
  },
  {
   "cell_type": "code",
   "execution_count": 2,
   "outputs": [],
   "source": [
    "import pandas as pd\n",
    "import tensorflow as tf\n",
    "import xgboost as xgb\n",
    "import numpy as np\n",
    "import matplotlib.pyplot as plt\n",
    "\n",
    "from src.data.data_loader import load_average_pts\n",
    "from src.features.data_engineering import preprocess_seasons_data\n",
    "from src.features.data_engineering import reverse_processing\n",
    "\n",
    "from src.modeling.train_model import train_mlp_model\n",
    "from src.modeling.predictions import merge_reversed_data_with_predictions\n",
    "from src.modeling.evaluate_squad import squad_selection_without_constraints\n",
    "from src.modeling.evaluate_squad import get_average_pts\n",
    "from src.modeling.evaluate_squad import evaluate_selected_squad_without_constraints"
   ],
   "metadata": {
    "collapsed": false,
    "pycharm": {
     "name": "#%%\n"
    }
   }
  },
  {
   "cell_type": "code",
   "execution_count": 3,
   "outputs": [],
   "source": [
    "average_pts = load_average_pts()"
   ],
   "metadata": {
    "collapsed": false,
    "pycharm": {
     "name": "#%%\n"
    }
   }
  },
  {
   "cell_type": "code",
   "execution_count": 4,
   "outputs": [
    {
     "data": {
      "text/plain": "   GW  AVG_PTS_2016/17  AVG_PTS_2018/19  AVG_PTS_2021/22\n0   1               44               53               69\n1   2               56               59               56\n2   3               40               48               54\n3   4               41               43               57\n4   5               47               46               55",
      "text/html": "<div>\n<style scoped>\n    .dataframe tbody tr th:only-of-type {\n        vertical-align: middle;\n    }\n\n    .dataframe tbody tr th {\n        vertical-align: top;\n    }\n\n    .dataframe thead th {\n        text-align: right;\n    }\n</style>\n<table border=\"1\" class=\"dataframe\">\n  <thead>\n    <tr style=\"text-align: right;\">\n      <th></th>\n      <th>GW</th>\n      <th>AVG_PTS_2016/17</th>\n      <th>AVG_PTS_2018/19</th>\n      <th>AVG_PTS_2021/22</th>\n    </tr>\n  </thead>\n  <tbody>\n    <tr>\n      <th>0</th>\n      <td>1</td>\n      <td>44</td>\n      <td>53</td>\n      <td>69</td>\n    </tr>\n    <tr>\n      <th>1</th>\n      <td>2</td>\n      <td>56</td>\n      <td>59</td>\n      <td>56</td>\n    </tr>\n    <tr>\n      <th>2</th>\n      <td>3</td>\n      <td>40</td>\n      <td>48</td>\n      <td>54</td>\n    </tr>\n    <tr>\n      <th>3</th>\n      <td>4</td>\n      <td>41</td>\n      <td>43</td>\n      <td>57</td>\n    </tr>\n    <tr>\n      <th>4</th>\n      <td>5</td>\n      <td>47</td>\n      <td>46</td>\n      <td>55</td>\n    </tr>\n  </tbody>\n</table>\n</div>"
     },
     "execution_count": 4,
     "metadata": {},
     "output_type": "execute_result"
    }
   ],
   "source": [
    "average_pts.head()"
   ],
   "metadata": {
    "collapsed": false,
    "pycharm": {
     "name": "#%%\n"
    }
   }
  },
  {
   "cell_type": "markdown",
   "source": [
    "## Load specific test gameweek data\n",
    "**NOTE:** To properly evaluate model predictions comparing it with average points from specific gameweek, remember to leave performance sample of every player from specific gameweek in test dataset"
   ],
   "metadata": {
    "collapsed": false,
    "pycharm": {
     "name": "#%% md\n"
    }
   }
  },
  {
   "cell_type": "code",
   "execution_count": 5,
   "outputs": [],
   "source": [
    "# test_subset = (['2016-17', [35,36,37]], ['2021-22', [27,28,29]])\n",
    "#\n",
    "# (x_train, y_train), (x_test, y_test), (x_train_target, x_test_target), x_scaler = preprocess_seasons_data(random_split=False, test_subset=test_subset)"
   ],
   "metadata": {
    "collapsed": false,
    "pycharm": {
     "name": "#%%\n"
    }
   }
  },
  {
   "cell_type": "code",
   "execution_count": 6,
   "outputs": [],
   "source": [
    "# # preview unique values in 'season' and 'GW' columns from x_test_target\n",
    "# print(x_test_target.season.unique())\n",
    "# print(x_test_target.GW.unique())"
   ],
   "metadata": {
    "collapsed": false,
    "pycharm": {
     "name": "#%%\n"
    }
   }
  },
  {
   "cell_type": "markdown",
   "source": [
    "## Train MLP and XGBoost models on specific subset and save them"
   ],
   "metadata": {
    "collapsed": false,
    "pycharm": {
     "name": "#%% md\n"
    }
   }
  },
  {
   "cell_type": "code",
   "execution_count": 7,
   "outputs": [],
   "source": [
    "# model = tf.keras.models.Sequential()\n",
    "#\n",
    "# model.add(tf.keras.layers.Dense(units=128, activation='relu', input_shape=(x_train.shape[1],)))\n",
    "# model.add(tf.keras.layers.Dense(units=256, activation='relu'))\n",
    "# model.add(tf.keras.layers.Dense(units=256, activation='relu'))\n",
    "# model.add(tf.keras.layers.Dense(units=126, activation='relu'))\n",
    "# model.add(tf.keras.layers.Dense(units=64, activation='relu'))\n",
    "# model.add(tf.keras.layers.Dense(units=1, activation='linear'))"
   ],
   "metadata": {
    "collapsed": false,
    "pycharm": {
     "name": "#%%\n"
    }
   }
  },
  {
   "cell_type": "code",
   "execution_count": 8,
   "outputs": [],
   "source": [
    "# model_mlp = train_mlp_model(model, x_train, y_train)"
   ],
   "metadata": {
    "collapsed": false,
    "pycharm": {
     "name": "#%%\n"
    }
   }
  },
  {
   "cell_type": "code",
   "execution_count": 9,
   "outputs": [],
   "source": [
    "# model_xgb = xgb.XGBRegressor()\n",
    "# model_xgb.fit(x_train, y_train)"
   ],
   "metadata": {
    "collapsed": false,
    "pycharm": {
     "name": "#%%\n"
    }
   }
  },
  {
   "cell_type": "code",
   "execution_count": 10,
   "outputs": [],
   "source": [
    "import os\n",
    "root_dir = os.path.dirname(os.path.abspath(''))"
   ],
   "metadata": {
    "collapsed": false,
    "pycharm": {
     "name": "#%%\n"
    }
   }
  },
  {
   "cell_type": "code",
   "execution_count": 11,
   "outputs": [],
   "source": [
    "# model_mlp.save(root_dir + '\\\\models\\\\baseline\\\\mlp_model_06-07-22.h5')\n",
    "# model_xgb.save_model(root_dir + '\\\\models\\\\baseline\\\\xgb_model_06-07-22.json')"
   ],
   "metadata": {
    "collapsed": false,
    "pycharm": {
     "name": "#%%\n"
    }
   }
  },
  {
   "cell_type": "markdown",
   "source": [
    "## Make predictions on specific test subset using MLP and XGBoost models"
   ],
   "metadata": {
    "collapsed": false,
    "pycharm": {
     "name": "#%% md\n"
    }
   }
  },
  {
   "cell_type": "code",
   "execution_count": 12,
   "outputs": [],
   "source": [
    "# model_mlp = tf.keras.models.load_model(root_dir + '\\\\models\\\\baseline\\\\mlp_model_06-07-22.h5')\n",
    "# model_xgb = xgb.XGBRegressor()\n",
    "# model_xgb.load_model(root_dir + '\\\\models\\\\baseline\\\\xgb_model_06-07-22.json')"
   ],
   "metadata": {
    "collapsed": false,
    "pycharm": {
     "name": "#%%\n"
    }
   }
  },
  {
   "cell_type": "code",
   "execution_count": 13,
   "outputs": [],
   "source": [
    "# x_test_reversed = reverse_processing(x_test, x_scaler, x_test_target)"
   ],
   "metadata": {
    "collapsed": false,
    "pycharm": {
     "name": "#%%\n"
    }
   }
  },
  {
   "cell_type": "code",
   "execution_count": 14,
   "outputs": [],
   "source": [
    "# predictions_merged_mlp = merge_reversed_data_with_predictions(model_mlp, x_test, y_test, x_test_reversed)\n",
    "# predictions_merged_xgb = merge_reversed_data_with_predictions(model_xgb, x_test, y_test, x_test_reversed)"
   ],
   "metadata": {
    "collapsed": false,
    "pycharm": {
     "name": "#%%\n"
    }
   }
  },
  {
   "cell_type": "markdown",
   "source": [
    "### Evaluate MLP model predictions without constraints for gameweek 27 in 2021-22 season\n",
    "At this moment, I do not take price constraints into account."
   ],
   "metadata": {
    "collapsed": false,
    "pycharm": {
     "name": "#%% md\n"
    }
   }
  },
  {
   "cell_type": "code",
   "execution_count": 15,
   "outputs": [],
   "source": [
    "# # get data from predictions_merged only for 2021-22 season and gameweek 27\n",
    "# predictions_merged_27 = predictions_merged_mlp[(predictions_merged_mlp.season == '2021-22') & (predictions_merged_mlp.GW == 27)]\n",
    "# # sort predictions_merged_27 by predicted points in descending order\n",
    "# predictions_merged_27 = predictions_merged_27.sort_values(by='predicted_total_points_next_gameweek', ascending=False)"
   ],
   "metadata": {
    "collapsed": false,
    "pycharm": {
     "name": "#%%\n"
    }
   }
  },
  {
   "cell_type": "code",
   "execution_count": 16,
   "outputs": [],
   "source": [
    "# # get first row from predictions_merged_27 and double 'total_points_next_gameweek' value, because this player would be chosen as a capitan\n",
    "# predictions_merged_27.iloc[0, predictions_merged_27.columns.get_loc('total_points_next_gameweek')] *= 2"
   ],
   "metadata": {
    "collapsed": false,
    "pycharm": {
     "name": "#%%\n"
    }
   }
  },
  {
   "cell_type": "code",
   "execution_count": 17,
   "outputs": [],
   "source": [
    "# # get goalkeepers from predictions_merged_27 (with 1 in 'position_GK' column)\n",
    "# # df_gk_27 = predictions_merged_27[predictions_merged_27.position_GK == 1]\n",
    "# # df_def_27 = predictions_merged_27[predictions_merged_27.position_DEF == 1]\n",
    "# # df_mid_27 = predictions_merged_27[predictions_merged_27.position_MID == 1]\n",
    "# # df_fwd_27 = predictions_merged_27[predictions_merged_27.position_FWD == 1]\n",
    "#\n",
    "# # separate players by position\n",
    "# df_top_11_27 = pd.DataFrame()\n",
    "# positions = ['position_GK', 'position_DEF', 'position_MID', 'position_FWD']\n",
    "# formation = [1, 3, 5, 2]\n",
    "# for i, position in enumerate(positions):\n",
    "#     # get players with the given position\n",
    "#     players = predictions_merged_27[predictions_merged_27[position] == 1].head(formation[i])\n",
    "#     # add players to df_top_11 dataframe\n",
    "#     df_top_11_27 = pd.concat((df_top_11_27, players), ignore_index=True)"
   ],
   "metadata": {
    "collapsed": false,
    "pycharm": {
     "name": "#%%\n"
    }
   }
  },
  {
   "cell_type": "code",
   "execution_count": 18,
   "outputs": [],
   "source": [
    "# # get 'name', 'total_points_next_gameweek', 'transfers_balance', 'value' columns from df_top_11\n",
    "# df_top_11_27[['name', 'total_points_next_gameweek', 'GW', 'value']]"
   ],
   "metadata": {
    "collapsed": false,
    "pycharm": {
     "name": "#%%\n"
    }
   }
  },
  {
   "cell_type": "code",
   "execution_count": 19,
   "outputs": [],
   "source": [
    "# df_top_11_27.total_points_next_gameweek.sum()"
   ],
   "metadata": {
    "collapsed": false,
    "pycharm": {
     "name": "#%%\n"
    }
   }
  },
  {
   "cell_type": "code",
   "execution_count": 20,
   "outputs": [],
   "source": [
    "# # get number of avg points from avg_pts where season is 2021-22 and gameweek is 27\n",
    "#\n",
    "# average_pts.loc[average_pts['GW'] == 27, ['AVG_PTS_2021/22']].values[0][0]"
   ],
   "metadata": {
    "collapsed": false,
    "pycharm": {
     "name": "#%%\n"
    }
   }
  },
  {
   "cell_type": "markdown",
   "source": [
    "### Evaluate MLP model for whole test_subset"
   ],
   "metadata": {
    "collapsed": false,
    "pycharm": {
     "name": "#%% md\n"
    }
   }
  },
  {
   "cell_type": "code",
   "execution_count": 21,
   "outputs": [],
   "source": [
    "# test_subset = (['2016-17', [35,36,37]], ['2021-22', [27,28,29]])"
   ],
   "metadata": {
    "collapsed": false,
    "pycharm": {
     "name": "#%%\n"
    }
   }
  },
  {
   "cell_type": "code",
   "execution_count": 22,
   "outputs": [],
   "source": [
    "# results = []\n",
    "# gameweeks = []\n",
    "# for season in test_subset:\n",
    "#     for gameweek in season[1]:\n",
    "#         results.append(squad_selection_without_constraints(predictions_merged_mlp, season[0], gameweek))\n",
    "#         gameweeks.append((season[0], gameweek + 1))\n",
    "#\n",
    "# selected_squad_points_mlp = []\n",
    "# for result in results:\n",
    "#     selected_squad_points_mlp.append(result[1])\n",
    "#\n",
    "# real_player_average_points = []\n",
    "# for gameweek in gameweeks:\n",
    "#     real_player_average_points.append(get_average_pts(gameweek[0], gameweek[1]))"
   ],
   "metadata": {
    "collapsed": false,
    "pycharm": {
     "name": "#%%\n"
    }
   }
  },
  {
   "cell_type": "code",
   "execution_count": 23,
   "outputs": [],
   "source": [
    "# plt.figure(figsize=(10,6))\n",
    "#\n",
    "# X_axis = np.arange(len(gameweeks))\n",
    "#\n",
    "# plt.bar(X_axis - 0.2, selected_squad_points_mlp, 0.4, label = 'Selected squad points')\n",
    "# plt.bar(X_axis + 0.2, real_player_average_points, 0.4, label = 'Real player average points')\n",
    "#\n",
    "# plt.xticks(X_axis, gameweeks)\n",
    "# plt.xlabel(\"Season and GW\")\n",
    "# plt.ylabel(\"Points gained\")\n",
    "# plt.title(\"Comparison of average pts gained by real players with points gained by squad selected by MLP model\")\n",
    "# plt.legend()\n",
    "# plt.show()"
   ],
   "metadata": {
    "collapsed": false,
    "pycharm": {
     "name": "#%%\n"
    }
   }
  },
  {
   "cell_type": "markdown",
   "source": [],
   "metadata": {
    "collapsed": false,
    "pycharm": {
     "name": "#%% md\n"
    }
   }
  },
  {
   "cell_type": "code",
   "execution_count": 24,
   "outputs": [],
   "source": [
    "# print('Sum of points gained by selected squad:', sum(selected_squad_points_mlp))\n",
    "# print('Sum of points gained by real players:', sum(real_player_average_points))\n",
    "# print('Difference:', sum(selected_squad_points_mlp) - sum(real_player_average_points), 'pts')"
   ],
   "metadata": {
    "collapsed": false,
    "pycharm": {
     "name": "#%%\n"
    }
   }
  },
  {
   "cell_type": "markdown",
   "source": [
    "### Evaluate XGB model for whole test_subset"
   ],
   "metadata": {
    "collapsed": false,
    "pycharm": {
     "name": "#%% md\n"
    }
   }
  },
  {
   "cell_type": "code",
   "execution_count": 25,
   "outputs": [],
   "source": [
    "# results = []\n",
    "# gameweeks = []\n",
    "# for season in test_subset:\n",
    "#     for gameweek in season[1]:\n",
    "#         results.append(squad_selection_without_constraints(predictions_merged_xgb, season[0], gameweek))\n",
    "#         gameweeks.append((season[0], gameweek + 1))\n",
    "#\n",
    "# selected_squad_points_xgb = []\n",
    "# for result in results:\n",
    "#     selected_squad_points_xgb.append(result[1])\n",
    "#\n",
    "# print(selected_squad_points_xgb)"
   ],
   "metadata": {
    "collapsed": false,
    "pycharm": {
     "name": "#%%\n"
    }
   }
  },
  {
   "cell_type": "code",
   "execution_count": 26,
   "outputs": [],
   "source": [
    "# plt.figure(figsize=(10,6))\n",
    "#\n",
    "# X_axis = np.arange(len(gameweeks))\n",
    "#\n",
    "# plt.bar(X_axis - 0.2, selected_squad_points_xgb, 0.4, label = 'Selected squad points')\n",
    "# plt.bar(X_axis + 0.2, real_player_average_points, 0.4, label = 'Real player average points')\n",
    "#\n",
    "# plt.xticks(X_axis, gameweeks)\n",
    "# plt.xlabel(\"Season and GW\")\n",
    "# plt.ylabel(\"Points gained\")\n",
    "# plt.title(\"Comparison of average pts gained by real players with points gained by squad selected by MLP model\")\n",
    "# plt.legend()\n",
    "# plt.show()"
   ],
   "metadata": {
    "collapsed": false,
    "pycharm": {
     "name": "#%%\n"
    }
   }
  },
  {
   "cell_type": "code",
   "execution_count": 27,
   "outputs": [],
   "source": [
    "# print('Sum of points gained by selected squad:', sum(selected_squad_points_xgb))\n",
    "# print('Sum of points gained by real players:', sum(real_player_average_points))\n",
    "# print('Difference:', sum(selected_squad_points_xgb) - sum(real_player_average_points), 'pts')"
   ],
   "metadata": {
    "collapsed": false,
    "pycharm": {
     "name": "#%%\n"
    }
   }
  },
  {
   "cell_type": "markdown",
   "source": [
    "### Conclusion\n",
    "These results look promising. Squad selected by AI MLP model seems to gain more points than real players on average. With this test_subset, XGBoost model gained significantly lower amount of points than MLP model, but still more than real average FPL player. But we need to notice that it just simple initial comparison. Predictions are taken from simple baseline model without any price constraints and we tested it only on 6 gameweeks. So it is not very accurate at this moment, but it's a great step towards main goal of this project, which is AI model that can achieve better results than average real player during the whole FPL season."
   ],
   "metadata": {
    "collapsed": false,
    "pycharm": {
     "name": "#%% md\n"
    }
   }
  },
  {
   "cell_type": "code",
   "execution_count": 28,
   "outputs": [],
   "source": [
    "# plt.figure(figsize=(13,10))\n",
    "#\n",
    "# X_axis = np.arange(len(gameweeks))\n",
    "#\n",
    "# plt.bar(X_axis - 0.2, selected_squad_points_xgb, 0.2, label = 'Selected squad points XGB')\n",
    "# plt.bar(X_axis, real_player_average_points, 0.2, label = 'Real player average points')\n",
    "# plt.bar(X_axis + 0.2, selected_squad_points_mlp, 0.2, label = 'Selected squad points MLP')\n",
    "#\n",
    "# plt.xticks(X_axis, gameweeks)\n",
    "# plt.xlabel(\"Season and GW\")\n",
    "# plt.ylabel(\"Points gained\")\n",
    "# plt.title(\"Comparison of pts gained by squad selected by MLP model with points gained by squad selected by XGB model\")\n",
    "# plt.legend()\n",
    "# plt.show()"
   ],
   "metadata": {
    "collapsed": false,
    "pycharm": {
     "name": "#%%\n"
    }
   }
  },
  {
   "cell_type": "code",
   "execution_count": 29,
   "outputs": [],
   "source": [
    "# run evaluation on test_subset and log results to mlflow\n",
    "#evaluate_selected_squad_without_constraints(predictions_merged_mlp, test_subset, 'mlp_model_06-07-22')\n",
    "#evaluate_selected_squad_without_constraints(predictions_merged_xgb, test_subset, 'xgb_model_06-07-22')"
   ],
   "metadata": {
    "collapsed": false,
    "pycharm": {
     "name": "#%%\n"
    }
   }
  },
  {
   "cell_type": "markdown",
   "source": [
    "## Evaluate models on bigger test_subset"
   ],
   "metadata": {
    "collapsed": false,
    "pycharm": {
     "name": "#%% md\n"
    }
   }
  },
  {
   "cell_type": "code",
   "execution_count": 30,
   "outputs": [
    {
     "data": {
      "text/plain": "XGBRegressor(base_score=0.5, booster='gbtree', callbacks=None,\n             colsample_bylevel=1, colsample_bynode=1, colsample_bytree=1,\n             early_stopping_rounds=None, enable_categorical=False,\n             eval_metric=None, gamma=0, gpu_id=-1, grow_policy='depthwise',\n             importance_type=None, interaction_constraints='',\n             learning_rate=0.300000012, max_bin=256, max_cat_to_onehot=4,\n             max_delta_step=0, max_depth=6, max_leaves=0, min_child_weight=1,\n             missing=nan, monotone_constraints='()', n_estimators=100, n_jobs=0,\n             num_parallel_tree=1, predictor='auto', random_state=0, reg_alpha=0,\n             reg_lambda=1, ...)"
     },
     "execution_count": 30,
     "metadata": {},
     "output_type": "execute_result"
    }
   ],
   "source": [
    "test_subset_XL = (['2016-17', [4, 8, 9, 14, 18, 20, 21, 26, 32]], ['2018-19', [1, 2, 3, 4, 5, 6, 7, 8, 9, 10]], ['2021-22', [17, 18, 19, 20, 21, 22, 23, 24, 25, 26]])\n",
    "\n",
    "(x_train, y_train), (x_test, y_test), (x_train_target, x_test_target), x_scaler = preprocess_seasons_data(random_split=False, test_subset=test_subset_XL)\n",
    "\n",
    "# Train MLP and XGBoost models on specific subset\n",
    "model = tf.keras.models.Sequential()\n",
    "model.add(tf.keras.layers.Dense(units=128, activation='relu', input_shape=(x_train.shape[1],)))\n",
    "model.add(tf.keras.layers.Dense(units=256, activation='relu'))\n",
    "model.add(tf.keras.layers.Dense(units=126, activation='relu'))\n",
    "model.add(tf.keras.layers.Dense(units=64, activation='relu'))\n",
    "model.add(tf.keras.layers.Dense(units=1, activation='linear'))\n",
    "model_mlp = train_mlp_model(model, x_train, y_train, verbose=0)\n",
    "\n",
    "model_xgb = xgb.XGBRegressor()\n",
    "model_xgb.fit(x_train, y_train)"
   ],
   "metadata": {
    "collapsed": false,
    "pycharm": {
     "name": "#%%\n"
    }
   }
  },
  {
   "cell_type": "code",
   "execution_count": 31,
   "outputs": [],
   "source": [
    "# Make predictions on specific test subset using MLP and XGBoost models\n",
    "x_test_reversed = reverse_processing(x_test, x_scaler, x_test_target)\n",
    "predictions_merged_mlp = merge_reversed_data_with_predictions(model_mlp, x_test, y_test, x_test_reversed)\n",
    "predictions_merged_xgb = merge_reversed_data_with_predictions(model_xgb, x_test, y_test, x_test_reversed)\n",
    "\n",
    "# Get squad and evaluate it for both models\n",
    "results_mlp, selected_squad_points_mlp, real_player_average_points_mlp, season_gameweeks_mlp = evaluate_selected_squad_without_constraints(predictions_merged_mlp, test_subset_XL, 'mlp_model-no_constraints_test_subset_XL')\n",
    "results_xgb, selected_squad_points_xgb, real_player_average_points_xgb, season_gameweeks_xgb = evaluate_selected_squad_without_constraints(predictions_merged_xgb, test_subset_XL, 'xgb_model-no_constraints_test_subset_XL')"
   ],
   "metadata": {
    "collapsed": false,
    "pycharm": {
     "name": "#%%\n"
    }
   }
  },
  {
   "cell_type": "code",
   "execution_count": 32,
   "outputs": [
    {
     "data": {
      "text/plain": "<Figure size 1440x1080 with 1 Axes>",
      "image/png": "[encoded data removed]"
     },
     "metadata": {
      "needs_background": "light"
     },
     "output_type": "display_data"
    }
   ],
   "source": [
    "plt.figure(figsize=(20,15))\n",
    "\n",
    "X_axis = np.arange(len(season_gameweeks_mlp))\n",
    "\n",
    "plt.bar(X_axis - 0.3, selected_squad_points_xgb, 0.3, label = 'Selected squad points XGB')\n",
    "plt.bar(X_axis, real_player_average_points_mlp, 0.3, label = 'Real player average points')\n",
    "plt.bar(X_axis + 0.3, selected_squad_points_mlp, 0.3, label = 'Selected squad points MLP')\n",
    "\n",
    "plt.xticks(X_axis, season_gameweeks_mlp, rotation=30)\n",
    "plt.xlabel(\"Season and GW\")\n",
    "plt.ylabel(\"Points gained\")\n",
    "plt.title(\"Comparison of pts gained by squad selected by MLP model with points gained by squad selected by XGB model for big test subset\")\n",
    "plt.legend()\n",
    "plt.show()"
   ],
   "metadata": {
    "collapsed": false,
    "pycharm": {
     "name": "#%%\n"
    }
   }
  },
  {
   "cell_type": "markdown",
   "source": [
    "#### MLP model sum of points"
   ],
   "metadata": {
    "collapsed": false,
    "pycharm": {
     "name": "#%% md\n"
    }
   }
  },
  {
   "cell_type": "code",
   "execution_count": 33,
   "outputs": [
    {
     "name": "stdout",
     "output_type": "stream",
     "text": [
      "Sum of points gained by selected squad: 1624.0\n",
      "Sum of points gained by real players: 1386\n",
      "Difference: 238.0 pts\n"
     ]
    }
   ],
   "source": [
    "print('Sum of points gained by selected squad:', sum(selected_squad_points_mlp))\n",
    "print('Sum of points gained by real players:', sum(real_player_average_points_mlp))\n",
    "print('Difference:', sum(selected_squad_points_mlp) - sum(real_player_average_points_mlp), 'pts')"
   ],
   "metadata": {
    "collapsed": false,
    "pycharm": {
     "name": "#%%\n"
    }
   }
  },
  {
   "cell_type": "markdown",
   "source": [
    "#### XGBoost model sum of points"
   ],
   "metadata": {
    "collapsed": false,
    "pycharm": {
     "name": "#%% md\n"
    }
   }
  },
  {
   "cell_type": "code",
   "execution_count": 34,
   "outputs": [
    {
     "name": "stdout",
     "output_type": "stream",
     "text": [
      "Sum of points gained by selected squad: 1548.0\n",
      "Sum of points gained by real players: 1386\n",
      "Difference: 162.0 pts\n"
     ]
    }
   ],
   "source": [
    "print('Sum of points gained by selected squad:', sum(selected_squad_points_xgb))\n",
    "print('Sum of points gained by real players:', sum(real_player_average_points_xgb))\n",
    "print('Difference:', sum(selected_squad_points_xgb) - sum(real_player_average_points_xgb), 'pts')"
   ],
   "metadata": {
    "collapsed": false,
    "pycharm": {
     "name": "#%%\n"
    }
   }
  },
  {
   "cell_type": "markdown",
   "source": [
    "## Conclusion #2\n",
    "With models evaluated on much bigger test subset, we can see that results are still really promising. MLP model still looks better than XGBoost model, making bigger difference in points gained with bigger test subset. However, we need to remember that squads were picked without money/value constraints what is big simplification, cause fitting squad in actual budget constraints is key element of real FPL game. Actually evaluation script just takes best prospects for next gameweek, which usually means taking expensive superstar players.Also these are simple baseline models, trained on data containing information only about one last game player performance.\n",
    "\n",
    "Next steps are to train models on data with more information about historical player performances (previous gameweeks/whole season) and to create more complex script to select best squad with consideration of constraints."
   ],
   "metadata": {
    "collapsed": false,
    "pycharm": {
     "name": "#%% md\n"
    }
   }
  },
  {
   "cell_type": "markdown",
   "source": [
    "# Evaluate models trained on merged seasons data with historical rolling features"
   ],
   "metadata": {
    "collapsed": false,
    "pycharm": {
     "name": "#%% md\n"
    }
   }
  },
  {
   "cell_type": "code",
   "execution_count": 35,
   "outputs": [],
   "source": [
    "rolling_columns = ['assists', 'bonus', 'bps', 'clean_sheets',\n",
    "                   'creativity', 'goals_conceded', 'goals_scored',\n",
    "                   'ict_index', 'influence', 'minutes',\n",
    "                   'own_goals', 'penalties_missed', 'penalties_saved', 'red_cards',\n",
    "                   'saves', 'selected', 'player_team_score', 'opponent_team_score', 'threat',\n",
    "                   'total_points', 'transfers_in', 'transfers_out',\n",
    "                   'value', 'yellow_cards']\n",
    "\n",
    "times = ['all', 6, 3]\n",
    "\n",
    "test_subset_XL = (['2016-17', [4, 8, 9, 14, 18, 20, 21, 26, 32]], ['2018-19', [1, 2, 3, 4, 5, 6, 7, 8, 9, 10]], ['2021-22', [17, 18, 19, 20, 21, 22, 23, 24, 25, 26]])"
   ],
   "metadata": {
    "collapsed": false,
    "pycharm": {
     "name": "#%%\n"
    }
   }
  },
  {
   "cell_type": "code",
   "execution_count": 36,
   "outputs": [],
   "source": [
    "(x_train, y_train), (x_test, y_test), (x_train_target, x_test_target), x_scaler = preprocess_seasons_data(random_split=False, test_subset=test_subset_XL, rolling_features=True, rolling_columns=rolling_columns, rolling_times=times)"
   ],
   "metadata": {
    "collapsed": false,
    "pycharm": {
     "name": "#%%\n"
    }
   }
  },
  {
   "cell_type": "code",
   "execution_count": 37,
   "outputs": [
    {
     "data": {
      "text/plain": "XGBRegressor(base_score=0.5, booster='gbtree', callbacks=None,\n             colsample_bylevel=1, colsample_bynode=1, colsample_bytree=1,\n             early_stopping_rounds=None, enable_categorical=False,\n             eval_metric=None, gamma=0, gpu_id=-1, grow_policy='depthwise',\n             importance_type=None, interaction_constraints='',\n             learning_rate=0.300000012, max_bin=256, max_cat_to_onehot=4,\n             max_delta_step=0, max_depth=6, max_leaves=0, min_child_weight=1,\n             missing=nan, monotone_constraints='()', n_estimators=100, n_jobs=0,\n             num_parallel_tree=1, predictor='auto', random_state=0, reg_alpha=0,\n             reg_lambda=1, ...)"
     },
     "execution_count": 37,
     "metadata": {},
     "output_type": "execute_result"
    }
   ],
   "source": [
    "# Train MLP and XGBoost models on specific subset\n",
    "model = tf.keras.models.Sequential()\n",
    "model.add(tf.keras.layers.Dense(units=128, activation='relu', input_shape=(x_train.shape[1],)))\n",
    "model.add(tf.keras.layers.Dense(units=256, activation='relu'))\n",
    "model.add(tf.keras.layers.Dense(units=126, activation='relu'))\n",
    "model.add(tf.keras.layers.Dense(units=64, activation='relu'))\n",
    "model.add(tf.keras.layers.Dense(units=1, activation='linear'))\n",
    "model_mlp_rolling = train_mlp_model(model, x_train, y_train, verbose=0)\n",
    "\n",
    "model_xgb_rolling = xgb.XGBRegressor()\n",
    "model_xgb_rolling.fit(x_train, y_train)"
   ],
   "metadata": {
    "collapsed": false,
    "pycharm": {
     "name": "#%%\n"
    }
   }
  },
  {
   "cell_type": "code",
   "execution_count": 38,
   "outputs": [],
   "source": [
    "# Make predictions on specific test subset using MLP and XGBoost models\n",
    "x_test_reversed = reverse_processing(x_test, x_scaler, x_test_target)\n",
    "predictions_merged_mlp_rolling = merge_reversed_data_with_predictions(model_mlp_rolling, x_test, y_test, x_test_reversed)\n",
    "predictions_merged_xgb_rolling = merge_reversed_data_with_predictions(model_xgb_rolling, x_test, y_test, x_test_reversed)\n",
    "\n",
    "# Get squad and evaluate it for both models\n",
    "results_mlp_rolling, selected_squad_points_mlp_rolling, real_player_average_points_mlp, season_gameweeks_mlp_rolling = evaluate_selected_squad_without_constraints(predictions_merged_mlp_rolling, test_subset_XL, 'mlp_model_ROLLING-no_constraints_test_subset_XL')\n",
    "results_xgb_rolling, selected_squad_points_xgb_rolling, real_player_average_points_xgb, season_gameweeks_xgb_rolling = evaluate_selected_squad_without_constraints(predictions_merged_xgb_rolling, test_subset_XL, 'xgb_model_ROLLING-no_constraints_test_subset_XL')"
   ],
   "metadata": {
    "collapsed": false,
    "pycharm": {
     "name": "#%%\n"
    }
   }
  },
  {
   "cell_type": "code",
   "execution_count": 39,
   "outputs": [
    {
     "data": {
      "text/plain": "<Figure size 1440x1080 with 1 Axes>",
      "image/png": "[encoded data removed]"
     },
     "metadata": {
      "needs_background": "light"
     },
     "output_type": "display_data"
    }
   ],
   "source": [
    "plt.figure(figsize=(20,15))\n",
    "\n",
    "X_axis = np.arange(len(season_gameweeks_mlp_rolling))\n",
    "\n",
    "plt.bar(X_axis - 0.3, selected_squad_points_xgb_rolling, 0.3, label = 'Selected squad points XGB')\n",
    "plt.bar(X_axis, real_player_average_points_mlp, 0.3, label = 'Real player average points')\n",
    "plt.bar(X_axis + 0.3, selected_squad_points_mlp_rolling, 0.3, label = 'Selected squad points MLP')\n",
    "\n",
    "plt.xticks(X_axis, season_gameweeks_mlp_rolling, rotation=30)\n",
    "plt.xlabel(\"Season and GW\")\n",
    "plt.ylabel(\"Points gained\")\n",
    "plt.title(\"Comparison of pts gained by squad selected by MLP model with points gained by squad selected by XGB model for big test subset\")\n",
    "plt.legend()\n",
    "plt.show()"
   ],
   "metadata": {
    "collapsed": false,
    "pycharm": {
     "name": "#%%\n"
    }
   }
  },
  {
   "cell_type": "markdown",
   "source": [
    "#### MLP model sum of points"
   ],
   "metadata": {
    "collapsed": false,
    "pycharm": {
     "name": "#%% md\n"
    }
   }
  },
  {
   "cell_type": "code",
   "execution_count": 40,
   "outputs": [
    {
     "name": "stdout",
     "output_type": "stream",
     "text": [
      "Sum of points gained by selected squad: 1667.0\n",
      "Sum of points gained by real players: 1386\n",
      "Difference: 281.0 pts\n"
     ]
    }
   ],
   "source": [
    "print('Sum of points gained by selected squad:', sum(selected_squad_points_mlp_rolling))\n",
    "print('Sum of points gained by real players:', sum(real_player_average_points_mlp))\n",
    "print('Difference:', sum(selected_squad_points_mlp_rolling) - sum(real_player_average_points_mlp), 'pts')"
   ],
   "metadata": {
    "collapsed": false,
    "pycharm": {
     "name": "#%%\n"
    }
   }
  },
  {
   "cell_type": "markdown",
   "source": [
    "#### XGBoost model sum of points"
   ],
   "metadata": {
    "collapsed": false,
    "pycharm": {
     "name": "#%% md\n"
    }
   }
  },
  {
   "cell_type": "code",
   "execution_count": 41,
   "outputs": [
    {
     "name": "stdout",
     "output_type": "stream",
     "text": [
      "Sum of points gained by selected squad: 1495.0\n",
      "Sum of points gained by real players: 1386\n",
      "Difference: 109.0 pts\n"
     ]
    }
   ],
   "source": [
    "print('Sum of points gained by selected squad:', sum(selected_squad_points_xgb_rolling))\n",
    "print('Sum of points gained by real players:', sum(real_player_average_points_xgb))\n",
    "print('Difference:', sum(selected_squad_points_xgb_rolling) - sum(real_player_average_points_xgb), 'pts')"
   ],
   "metadata": {
    "collapsed": false,
    "pycharm": {
     "name": "#%%\n"
    }
   }
  },
  {
   "cell_type": "markdown",
   "source": [
    "## Conclusion #3\n",
    "When adding rolling mean historical features to the data, it looks like there is no much difference in the results, even model with additional rolling features gives little worse results. I think that separating players by position and creating different datasets and models will be more effective. Another important change will be to add features with information of next match opponent team strength. Of course I also see a lot of possibilites of improvement in the model in the terms of hyperparameter selection like: rolling features time frames, adding dropout and many more typical hyperparameters of MLP and XGBoost models."
   ],
   "metadata": {
    "collapsed": false,
    "pycharm": {
     "name": "#%% md\n"
    }
   }
  },
  {
   "cell_type": "markdown",
   "source": [
    "# Evaluate models trained on merged seasons data with historical rolling features and with data about next game opponent team"
   ],
   "metadata": {
    "collapsed": false,
    "pycharm": {
     "name": "#%% md\n"
    }
   }
  },
  {
   "cell_type": "code",
   "execution_count": 42,
   "outputs": [],
   "source": [
    "rolling_columns = ['assists', 'bonus', 'bps', 'clean_sheets',\n",
    "                   'creativity', 'goals_conceded', 'goals_scored',\n",
    "                   'ict_index', 'influence', 'minutes',\n",
    "                   'own_goals', 'penalties_missed', 'penalties_saved', 'red_cards',\n",
    "                   'saves', 'selected', 'player_team_score', 'opponent_team_score', 'threat',\n",
    "                   'total_points', 'transfers_in', 'transfers_out',\n",
    "                   'value', 'yellow_cards']\n",
    "\n",
    "times = ['all', 6, 3]\n",
    "\n",
    "test_subset_XL = (['2016-17', [4, 8, 9, 14, 18, 20, 21, 26, 32]], ['2018-19', [1, 2, 3, 4, 5, 6, 7, 8, 9, 10]], ['2021-22', [17, 18, 19, 20, 21, 22, 23, 24, 25, 26]])"
   ],
   "metadata": {
    "collapsed": false,
    "pycharm": {
     "name": "#%%\n"
    }
   }
  },
  {
   "cell_type": "code",
   "execution_count": 43,
   "outputs": [],
   "source": [
    "(x_train, y_train), (x_test, y_test), (x_train_target, x_test_target), x_scaler = preprocess_seasons_data(random_split=False, test_subset=test_subset_XL, rolling_features=True, rolling_columns=rolling_columns, rolling_times=times, opponent_team_stats=True)"
   ],
   "metadata": {
    "collapsed": false,
    "pycharm": {
     "name": "#%%\n"
    }
   }
  },
  {
   "cell_type": "code",
   "execution_count": 44,
   "outputs": [
    {
     "data": {
      "text/plain": "XGBRegressor(base_score=0.5, booster='gbtree', callbacks=None,\n             colsample_bylevel=1, colsample_bynode=1, colsample_bytree=1,\n             early_stopping_rounds=None, enable_categorical=False,\n             eval_metric=None, gamma=0, gpu_id=-1, grow_policy='depthwise',\n             importance_type=None, interaction_constraints='',\n             learning_rate=0.300000012, max_bin=256, max_cat_to_onehot=4,\n             max_delta_step=0, max_depth=6, max_leaves=0, min_child_weight=1,\n             missing=nan, monotone_constraints='()', n_estimators=100, n_jobs=0,\n             num_parallel_tree=1, predictor='auto', random_state=0, reg_alpha=0,\n             reg_lambda=1, ...)"
     },
     "execution_count": 44,
     "metadata": {},
     "output_type": "execute_result"
    }
   ],
   "source": [
    "# Train MLP and XGBoost models on specific subset\n",
    "model = tf.keras.models.Sequential()\n",
    "model.add(tf.keras.layers.Dense(units=128, activation='relu', input_shape=(x_train.shape[1],)))\n",
    "model.add(tf.keras.layers.Dense(units=256, activation='relu'))\n",
    "model.add(tf.keras.layers.Dense(units=126, activation='relu'))\n",
    "model.add(tf.keras.layers.Dense(units=64, activation='relu'))\n",
    "model.add(tf.keras.layers.Dense(units=1, activation='linear'))\n",
    "model_mlp_rolling_opponent_stats = train_mlp_model(model, x_train, y_train, verbose=0)\n",
    "\n",
    "model_xgb_rolling_opponent_stats = xgb.XGBRegressor()\n",
    "model_xgb_rolling_opponent_stats.fit(x_train, y_train)"
   ],
   "metadata": {
    "collapsed": false,
    "pycharm": {
     "name": "#%%\n"
    }
   }
  },
  {
   "cell_type": "code",
   "execution_count": 45,
   "outputs": [],
   "source": [
    "# Make predictions on specific test subset using MLP and XGBoost models\n",
    "x_test_reversed = reverse_processing(x_test, x_scaler, x_test_target)\n",
    "predictions_merged_mlp_rolling_opponent_stats = merge_reversed_data_with_predictions(model_mlp_rolling_opponent_stats, x_test, y_test, x_test_reversed)\n",
    "predictions_merged_xgb_rolling_opponent_stats = merge_reversed_data_with_predictions(model_xgb_rolling_opponent_stats, x_test, y_test, x_test_reversed)\n",
    "\n",
    "# Get squad and evaluate it for both models\n",
    "results_mlp_rolling_opponent_stats, selected_squad_points_mlp_rolling_opponent_stats, real_player_average_points_mlp, season_gameweeks_mlp_rolling_opponent_stats = evaluate_selected_squad_without_constraints(predictions_merged_mlp_rolling_opponent_stats, test_subset_XL, 'mlp_model_rolling_OPPONENT-STATS_no_constraints_test_subset_XL')\n",
    "results_xgb_rolling_opponent_stats, selected_squad_points_xgb_rolling_opponent_stats, real_player_average_points_xgb, season_gameweeks_xgb_rolling_opponent_stats = evaluate_selected_squad_without_constraints(predictions_merged_xgb_rolling_opponent_stats, test_subset_XL, 'xgb_model_rolling_OPPONENT-STATS_no_constraints_test_subset_XL')"
   ],
   "metadata": {
    "collapsed": false,
    "pycharm": {
     "name": "#%%\n"
    }
   }
  },
  {
   "cell_type": "code",
   "execution_count": 46,
   "outputs": [
    {
     "data": {
      "text/plain": "<Figure size 1440x1080 with 1 Axes>",
      "image/png": "[encoded data removed]"
     },
     "metadata": {
      "needs_background": "light"
     },
     "output_type": "display_data"
    }
   ],
   "source": [
    "plt.figure(figsize=(20,15))\n",
    "\n",
    "X_axis = np.arange(len(season_gameweeks_mlp_rolling))\n",
    "\n",
    "plt.bar(X_axis - 0.3, selected_squad_points_xgb_rolling_opponent_stats, 0.3, label = 'Selected squad points XGB')\n",
    "plt.bar(X_axis, real_player_average_points_mlp, 0.3, label = 'Real player average points')\n",
    "plt.bar(X_axis + 0.3, selected_squad_points_mlp_rolling_opponent_stats, 0.3, label = 'Selected squad points MLP')\n",
    "\n",
    "plt.xticks(X_axis, season_gameweeks_mlp_rolling, rotation=30)\n",
    "plt.xlabel(\"Season and GW\")\n",
    "plt.ylabel(\"Points gained\")\n",
    "plt.title(\"Comparison of pts gained by squad selected by MLP model with points gained by squad selected by XGB model for big test subset\")\n",
    "plt.legend()\n",
    "plt.show()"
   ],
   "metadata": {
    "collapsed": false,
    "pycharm": {
     "name": "#%%\n"
    }
   }
  },
  {
   "cell_type": "markdown",
   "source": [
    "#### MLP model sum of points"
   ],
   "metadata": {
    "collapsed": false,
    "pycharm": {
     "name": "#%% md\n"
    }
   }
  },
  {
   "cell_type": "code",
   "execution_count": 47,
   "outputs": [
    {
     "name": "stdout",
     "output_type": "stream",
     "text": [
      "Sum of points gained by selected squad: 1743.0\n",
      "Sum of points gained by real players: 1386\n",
      "Difference: 357.0 pts\n"
     ]
    }
   ],
   "source": [
    "print('Sum of points gained by selected squad:', sum(selected_squad_points_mlp_rolling_opponent_stats))\n",
    "print('Sum of points gained by real players:', sum(real_player_average_points_mlp))\n",
    "print('Difference:', sum(selected_squad_points_mlp_rolling_opponent_stats) - sum(real_player_average_points_mlp), 'pts')"
   ],
   "metadata": {
    "collapsed": false,
    "pycharm": {
     "name": "#%%\n"
    }
   }
  },
  {
   "cell_type": "markdown",
   "source": [
    "#### XGBoost model sum of points"
   ],
   "metadata": {
    "collapsed": false,
    "pycharm": {
     "name": "#%% md\n"
    }
   }
  },
  {
   "cell_type": "code",
   "execution_count": 48,
   "outputs": [
    {
     "name": "stdout",
     "output_type": "stream",
     "text": [
      "Sum of points gained by selected squad: 1639.0\n",
      "Sum of points gained by real players: 1386\n",
      "Difference: 253.0 pts\n"
     ]
    }
   ],
   "source": [
    "print('Sum of points gained by selected squad:', sum(selected_squad_points_xgb_rolling_opponent_stats))\n",
    "print('Sum of points gained by real players:', sum(real_player_average_points_xgb))\n",
    "print('Difference:', sum(selected_squad_points_xgb_rolling_opponent_stats) - sum(real_player_average_points_xgb), 'pts')"
   ],
   "metadata": {
    "collapsed": false,
    "pycharm": {
     "name": "#%%\n"
    }
   }
  },
  {
   "cell_type": "markdown",
   "source": [
    "## Conclusion #4\n",
    "We can see that after adding stats of next gameweek opponent team to the training data, the model improves its performance significantly. Still, baseline MLP model gives us a better result than baseline XGBoost model. Difference of 384 points between MLP model trained with opponent team stats information and average FPL player is impressive. Anyway, we need to rememeber that squad is selected without money constraints. So after training data seems to be prepared pretty well, I will try to do some hyperparameter tuning and feature selection. Also, main idea is to create four different models, each one trained on different position (or two models, where one is for goalkeepers and second for players on the field)."
   ],
   "metadata": {
    "collapsed": false,
    "pycharm": {
     "name": "#%% md\n"
    }
   }
  },
  {
   "cell_type": "code",
   "execution_count": 49,
   "outputs": [
    {
     "data": {
      "text/plain": "[(                  name  total_points_next_gameweek  value\n  0            Petr_Cech                         1.0   55.0\n  1      Leighton_Baines                         2.0   55.0\n  2      Héctor_Bellerín                         2.0   65.0\n  3           Wes_Morgan                         6.0   50.0\n  4      Kevin_De Bruyne                        28.0  105.0\n  5        Dimitri_Payet                        10.0   94.0\n  6           Mesut_Özil                         2.0   96.0\n  7       Alexis_Sánchez                        10.0  110.0\n  8   Manuel_Agudo Durán                         3.0   90.0\n  9   Zlatan_Ibrahimovic                         5.0  118.0\n  10       Sergio_Agüero                         0.0  130.0,\n  69.0),\n (                    name  total_points_next_gameweek  value\n  0              Petr_Cech                         7.0   55.0\n  1        Nathaniel_Clyne                         2.0   55.0\n  2       Shkodran_Mustafi                         5.0   60.0\n  3          Nacho_Monreal                         6.0   60.0\n  4        Kevin_De Bruyne                         2.0  106.0\n  5           Theo_Walcott                         3.0   77.0\n  6         Alexis_Sánchez                         3.0  113.0\n  7          Bamidele_Alli                         2.0   82.0\n  8        Roberto_Firmino                         5.0   85.0\n  9          Romelu_Lukaku                         5.0   94.0\n  10  Diego_Da Silva Costa                         2.0  101.0,\n  42.0),\n (                  name  total_points_next_gameweek  value\n  0        Claudio_Bravo                         6.0   55.0\n  1      Héctor_Bellerín                         2.0   66.0\n  2    Laurent_Koscielny                         2.0   63.0\n  3          Daley_Blind                         8.0   57.0\n  4       Alexis_Sánchez                        26.0  113.0\n  5         Theo_Walcott                         0.0   80.0\n  6           Mesut_Özil                         5.0   96.0\n  7      Kevin_De Bruyne                         4.0  107.0\n  8        Bamidele_Alli                         2.0   82.0\n  9   Zlatan_Ibrahimovic                         2.0  113.0\n  10       Sergio_Agüero                        16.0  131.0,\n  73.0),\n (                          name  total_points_next_gameweek  value\n  0                    Petr_Cech                         3.0   55.0\n  1   David_Luiz Moreira Marinho                        12.0   61.0\n  2                Marcos_Alonso                         6.0   62.0\n  3            César_Azpilicueta                         9.0   62.0\n  4                   Mesut_Özil                        10.0   96.0\n  5              Kevin_De Bruyne                         2.0  108.0\n  6               Alexis_Sánchez                         5.0  114.0\n  7                  Eden_Hazard                         3.0  103.0\n  8                   Sadio_Mané                         8.0   93.0\n  9         Diego_Da Silva Costa                         8.0  106.0\n  10           Christian_Benteke                         6.0   75.0,\n  72.0),\n (                  name  total_points_next_gameweek  value\n  0         David_de Gea                         2.0   54.0\n  1          Kyle_Walker                         0.0   62.0\n  2           Danny_Rose                         6.0   59.0\n  3        Marcos_Alonso                         3.0   64.0\n  4       Alexis_Sánchez                        12.0  119.0\n  5           Paul_Pogba                        10.0   83.0\n  6          Eden_Hazard                         5.0  104.0\n  7        Bamidele_Alli                        14.0   81.0\n  8    Christian_Eriksen                         2.0   86.0\n  9           Harry_Kane                        16.0  111.0\n  10  Zlatan_Ibrahimovic                         5.0  115.0,\n  75.0),\n (                    name  total_points_next_gameweek  value\n  0            Hugo_Lloris                         6.0   55.0\n  1             Danny_Rose                        12.0   60.0\n  2            Kyle_Walker                        11.0   61.0\n  3      Toby_Alderweireld                         6.0   63.0\n  4         Alexis_Sánchez                        11.0  119.0\n  5      Christian_Eriksen                        10.0   86.0\n  6            Eden_Hazard                         6.0  104.0\n  7        Kevin_De Bruyne                         2.0  106.0\n  8          Bamidele_Alli                         6.0   83.0\n  9          Sergio_Agüero                         2.0  128.0\n  10  Diego_Da Silva Costa                         0.0  107.0,\n  72.0),\n (                       name  total_points_next_gameweek  value\n  0               Hugo_Lloris                         2.0   55.0\n  1                Danny_Rose                         2.0   60.0\n  2           Leighton_Baines                         6.0   55.0\n  3               Kyle_Walker                         6.0   61.0\n  4            Alexis_Sánchez                         8.0  119.0\n  5               Eden_Hazard                         3.0  104.0\n  6           Roberto_Firmino                        14.0   84.0\n  7   Willian_Borges Da Silva                         1.0   72.0\n  8           Kevin_De Bruyne                        13.0  106.0\n  9             Romelu_Lukaku                         2.0   95.0\n  10       Zlatan_Ibrahimovic                         2.0  116.0,\n  59.0),\n (                    name  total_points_next_gameweek  value\n  0            Joel_Robles                         4.0   47.0\n  1            Kyle_Walker                         1.0   64.0\n  2      Ramiro_Funes Mori                         1.0   47.0\n  3        Leighton_Baines                         1.0   57.0\n  4      Christian_Eriksen                         2.0   87.0\n  5            Eden_Hazard                        11.0  103.0\n  6          Bamidele_Alli                        12.0   88.0\n  7       Gylfi_Sigurdsson                         5.0   75.0\n  8           Nacer_Chadli                         2.0   60.0\n  9   Diego_Da Silva Costa                         9.0  107.0\n  10            Harry_Kane                        13.0  112.0,\n  61.0),\n (                 name  total_points_next_gameweek  value\n  0     Wayne_Hennessey                         1.0   43.0\n  1    Shkodran_Mustafi                         0.0   58.0\n  2       Mamadou_Sakho                         1.0   48.0\n  3   Toby_Alderweireld                         6.0   63.0\n  4      Alexis_Sánchez                         7.0  117.0\n  5   Christian_Eriksen                         7.0   88.0\n  6       Bamidele_Alli                         6.0   91.0\n  7          Mesut_Özil                        10.0   94.0\n  8     Roberto_Firmino                        11.0   85.0\n  9          Harry_Kane                        24.0  112.0\n  10  Christian_Benteke                         6.0   71.0,\n  79.0),\n (                            name  total_points_next_gameweek  value\n  0      Alisson_Ramses Becker_468                         6.0   55.0\n  1     Trent_Alexander-Arnold_245                        10.0   50.0\n  2            Virgil_van Dijk_246                         6.0   60.0\n  3           Andrew_Robertson_247                         7.0   60.0\n  4              Mohamed_Salah_253                         9.0  130.0\n  5             Alexis_Sánchez_295                         0.0  105.0\n  6            Raheem_Sterling_270                         0.0  110.0\n  7                Eden_Hazard_122                         4.0  105.0\n  8                  Mesut_Özil_13                         2.0   85.0\n  9              Sergio_Agüero_280                        20.0  110.0\n  10  Pierre-Emerick_Aubameyang_23                         2.0  110.0,\n  66.0),\n (                             name  total_points_next_gameweek  value\n  0   Ederson_Santana de Moraes_260                         2.0   55.0\n  1                José_Holebas_378                         9.0   46.0\n  2      Trent_Alexander-Arnold_245                         5.0   50.0\n  3           César_Azpilicueta_113                         2.0   65.0\n  4               Mohamed_Salah_253                        16.0  130.0\n  5                 Eden_Hazard_122                         8.0  105.0\n  6                  Leroy_Sané_275                         1.0   95.0\n  7                  Sadio_Mané_251                         3.0   97.0\n  8             Roberto_Pereyra_391                         8.0   61.0\n  9                  Harry_Kane_372                        10.0  125.0\n  10               Steve_Mounie_211                         2.0   60.0,\n  66.0),\n (                             name  total_points_next_gameweek  value\n  0                 Hugo_Lloris_351                         0.0   55.0\n  1      Trent_Alexander-Arnold_245                         2.0   50.0\n  2             Aymeric_Laporte_268                         2.0   55.0\n  3               Michael_Keane_162                         0.0   50.0\n  4               Mohamed_Salah_253                         2.0  130.0\n  5                 David_Silva_271                         2.0   84.0\n  6             Raheem_Sterling_270                        10.0  110.0\n  7                  Sadio_Mané_251                        10.0   98.0\n  8                 Eden_Hazard_122                        11.0  105.0\n  9    Pierre-Emerick_Aubameyang_23                        16.0  110.0\n  10  Gabriel Fernando_de Jesus_281                         1.0  105.0,\n  56.0),\n (                          name  total_points_next_gameweek  value\n  0          Jordan_Pickford_154                         1.0   50.0\n  1   Trent_Alexander-Arnold_245                         6.0   50.0\n  2              Nacho_Monreal_5                         2.0   55.0\n  3           Benjamin_Mendy_267                         0.0   64.0\n  4               Paul_Pogba_302                         2.0   82.0\n  5            Mohamed_Salah_253                         2.0  130.0\n  6              Eden_Hazard_122                        20.0  106.0\n  7          Raheem_Sterling_270                         8.0  110.0\n  8              David_Silva_271                        11.0   85.0\n  9       Alexandre_Lacazette_22                        10.0   94.0\n  10           Sergio_Agüero_280                         7.0  113.0,\n  69.0),\n (                                  name  total_points_next_gameweek  value\n  0        Ederson_Santana de Moraes_260                         6.0   56.0\n  1                    Harry_Maguire_220                         2.0   55.0\n  2                  Kieran_Trippier_357                         4.0   60.0\n  3                César_Azpilicueta_113                         6.0   64.0\n  4                    Mohamed_Salah_253                        16.0  130.0\n  5                      Eden_Hazard_122                         3.0  107.0\n  6                  Raheem_Sterling_270                         6.0  110.0\n  7                       Sadio_Mané_251                         3.0  100.0\n  8   Lucas_Rodrigues Moura da Silva_370                         3.0   73.0\n  9                       Harry_Kane_372                         9.0  125.0\n  10                   Sergio_Agüero_280                         6.0  114.0,\n  64.0),\n (                          name  total_points_next_gameweek  value\n  0    Alisson_Ramses Becker_468                         3.0   56.0\n  1            Marcos_Alonso_115                         2.0   69.0\n  2   Trent_Alexander-Arnold_245                         2.0   50.0\n  3         Andrew_Robertson_247                         2.0   62.0\n  4            Mohamed_Salah_253                         4.0  130.0\n  5               Paul_Pogba_302                         2.0   82.0\n  6          Raheem_Sterling_270                        14.0  110.0\n  7               Leroy_Sané_275                         6.0   92.0\n  8              David_Silva_271                         3.0   86.0\n  9            Romelu_Lukaku_306                         2.0  111.0\n  10              Harry_Kane_372                        13.0  124.0,\n  53.0),\n (                                  name  total_points_next_gameweek  value\n  0        Ederson_Santana de Moraes_260                        14.0   57.0\n  1                    Marcos_Alonso_115                         6.0   69.0\n  2                  Kieran_Trippier_357                         7.0   61.0\n  3                        Luke_Shaw_286                         0.0   51.0\n  4                      Eden_Hazard_122                        14.0  110.0\n  5                 Gylfi_Sigurdsson_172                        10.0   73.0\n  6   Lucas_Rodrigues Moura da Silva_370                         3.0   74.0\n  7                       Paul_Pogba_302                         4.0   82.0\n  8                        Mesut_Özil_13                         0.0   83.0\n  9                    Romelu_Lukaku_306                         2.0  111.0\n  10                      Harry_Kane_372                         1.0  124.0,\n  61.0),\n (                      name  total_points_next_gameweek  value\n  0           Mathew_Ryan_47                        11.0   45.0\n  1        Marcos_Alonso_115                         1.0   69.0\n  2     Andrew_Robertson_247                         8.0   63.0\n  3      Kieran_Trippier_357                         6.0   62.0\n  4        Mohamed_Salah_253                        16.0  129.0\n  5           Sadio_Mané_251                         0.0   99.0\n  6      Raheem_Sterling_270                         0.0  111.0\n  7     Gylfi_Sigurdsson_172                         3.0   73.0\n  8          Eden_Hazard_122                         1.0  112.0\n  9           Harry_Kane_372                         2.0  125.0\n  10  Alexandre_Lacazette_22                         2.0   95.0,\n  50.0),\n (                             name  total_points_next_gameweek  value\n  0   Ederson_Santana de Moraes_260                         8.0   57.0\n  1               Marcos_Alonso_115                        11.0   70.0\n  2            Andrew_Robertson_247                         0.0   63.0\n  3              Benjamin_Mendy_267                         6.0   62.0\n  4               Mohamed_Salah_253                        30.0  128.0\n  5                 Eden_Hazard_122                         0.0  114.0\n  6                Riyad_Mahrez_223                        11.0   86.0\n  7              Ryan_Sessegnon_184                         2.0   61.0\n  8            Gylfi_Sigurdsson_172                         8.0   74.0\n  9    Pierre-Emerick_Aubameyang_23                         8.0  107.0\n  10        Aleksandar_Mitrovic_480                         1.0   69.0,\n  85.0),\n (                         name  total_points_next_gameweek  value\n  0   Alisson_Ramses Becker_468                         3.0   56.0\n  1         Antonio_Rüdiger_118                         2.0   59.0\n  2           Marcos_Alonso_115                         6.0   70.0\n  3           Harry_Maguire_220                         1.0   55.0\n  4              Paul_Pogba_302                         4.0   80.0\n  5             Eden_Hazard_122                         4.0  114.0\n  6        Gylfi_Sigurdsson_172                         5.0   74.0\n  7           Mohamed_Salah_253                         2.0  129.0\n  8            Riyad_Mahrez_223                         0.0   86.0\n  9              Harry_Kane_372                         7.0  124.0\n  10        Roberto_Firmino_257                         2.0   93.0,\n  36.0),\n (                                       name  total_points_next_gameweek  value\n  0                             Edouard Mendy                         6.0   63.0\n  1                          Andrew Robertson                         9.0   71.0\n  2                          Antonio RÃ¼diger                         5.0   62.0\n  3             RÃºben Santos Gato Alves Dias                        12.0   61.0\n  4                           Ilkay GÃ¼ndogan                         0.0   73.0\n  5                               Mason Mount                         3.0   76.0\n  6   Bernardo Mota Veiga de Carvalho e Silva                         2.0   77.0\n  7                                Diogo Jota                         7.0   80.0\n  8                           Kevin De Bruyne                         3.0  118.0\n  9                           Michail Antonio                         5.0   79.0\n  10                            Romelu Lukaku                         0.0  115.0,\n  52.0),\n (                             name  total_points_next_gameweek  value\n  0       Ederson Santana de Moraes                         2.0   60.0\n  1   RÃºben Santos Gato Alves Dias                         4.0   61.0\n  2                Antonio RÃ¼diger                         2.0   62.0\n  3              Gabriel MagalhÃ£es                         6.0   52.0\n  4                   Heung-Min Son                         8.0  103.0\n  5                     Sadio ManÃ©                         2.0  119.0\n  6                     Mason Mount                         2.0   77.0\n  7                      Diogo Jota                         2.0   80.0\n  8                 Kevin De Bruyne                         7.0  118.0\n  9       Gabriel Fernando de Jesus                         0.0   86.0\n  10                     Harry Kane                         6.0  121.0,\n  41.0),\n (                                   name  total_points_next_gameweek  value\n  0                        Aaron Ramsdale                         1.0   52.0\n  1                      Sergio ReguilÃ³n                         0.0   52.0\n  2         RÃºben Santos Gato Alves Dias                         6.0   62.0\n  3                       Aymeric Laporte                         6.0   55.0\n  4                         Heung-Min Son                        12.0  104.0\n  5         Bruno Miguel Borges Fernandes                         0.0  116.0\n  6                       Raheem Sterling                         0.0  106.0\n  7                       Kevin De Bruyne                         8.0  119.0\n  8                           Mason Mount                         4.0   77.0\n  9                            Harry Kane                         6.0  121.0\n  10  Cristiano Ronaldo dos Santos Aveiro                        12.0  125.0,\n  55.0),\n (                             name  total_points_next_gameweek  value\n  0       Ederson Santana de Moraes                         2.0   60.0\n  1   RÃºben Santos Gato Alves Dias                         2.0   62.0\n  2                 Aymeric Laporte                         6.0   55.0\n  3      JoÃ£o Pedro Cavaco Cancelo                         2.0   69.0\n  4                   Heung-Min Son                         6.0  105.0\n  5   Bruno Miguel Borges Fernandes                         1.0  116.0\n  6                   Mohamed Salah                         7.0  130.0\n  7               James Ward-Prowse                         7.0   63.0\n  8                     Sadio ManÃ©                         6.0  118.0\n  9                      Harry Kane                         4.0  121.0\n  10      Gabriel Fernando de Jesus                         2.0   87.0,\n  45.0),\n (                                   name  total_points_next_gameweek  value\n  0                      Lukasz Fabianski                         7.0   50.0\n  1                        Kieran Tierney                         8.0   49.0\n  2                Trent Alexander-Arnold                        10.0   83.0\n  3         RÃºben Santos Gato Alves Dias                         0.0   62.0\n  4                         Heung-Min Son                         0.0  106.0\n  5                           Bukayo Saka                         3.0   63.0\n  6                           Sadio ManÃ©                         0.0  118.0\n  7                          Jarrod Bowen                         7.0   66.0\n  8                          Jarrod Bowen                        16.0   66.0\n  9                            Harry Kane                        22.0  122.0\n  10  Cristiano Ronaldo dos Santos Aveiro                         0.0  125.0,\n  73.0),\n (                             name  total_points_next_gameweek  value\n  0                      Ben Foster                         0.0   41.0\n  1                   Ethan Pinnock                         1.0   45.0\n  2                  Pontus Jansson                         0.0   46.0\n  3      JoÃ£o Pedro Cavaco Cancelo                         2.0   70.0\n  4   Bruno Miguel Borges Fernandes                        18.0  116.0\n  5                 Kevin De Bruyne                         8.0  120.0\n  6                    Jarrod Bowen                         2.0   67.0\n  7                      Diogo Jota                         5.0   83.0\n  8   Bruno Miguel Borges Fernandes                         3.0  116.0\n  9                      Ivan Toney                         7.0   66.0\n  10         Richarlison de Andrade                         2.0   74.0,\n  48.0),\n (                                   name  total_points_next_gameweek  value\n  0                            Ben Foster                         2.0   41.0\n  1                Trent Alexander-Arnold                         6.0   84.0\n  2         RÃºben Santos Gato Alves Dias                         6.0   63.0\n  3            JoÃ£o Pedro Cavaco Cancelo                         7.0   71.0\n  4         Bruno Miguel Borges Fernandes                         4.0  117.0\n  5                       Kevin De Bruyne                        11.0  121.0\n  6                          Jarrod Bowen                        11.0   68.0\n  7                            Diogo Jota                        16.0   84.0\n  8                       Raheem Sterling                         9.0  107.0\n  9                            Harry Kane                         2.0  123.0\n  10  Cristiano Ronaldo dos Santos Aveiro                         1.0  125.0,\n  75.0),\n (                             name  total_points_next_gameweek  value\n  0                      Ben Foster                         2.0   41.0\n  1                Andrew Robertson                         7.0   71.0\n  2          Trent Alexander-Arnold                         6.0   85.0\n  3                 Virgil van Dijk                         6.0   67.0\n  4   Bruno Miguel Borges Fernandes                         4.0  117.0\n  5                    Jarrod Bowen                        13.0   69.0\n  6                 Kevin De Bruyne                         0.0  122.0\n  7                   Heung-Min Son                         2.0  106.0\n  8                      Diogo Jota                         1.0   85.0\n  9                      Harry Kane                         2.0  123.0\n  10                Michail Antonio                         2.0   79.0,\n  45.0),\n (                             name  total_points_next_gameweek  value\n  0       Ederson Santana de Moraes                         1.0   61.0\n  1          Trent Alexander-Arnold                         0.0   85.0\n  2                 Virgil van Dijk                         2.0   67.0\n  3                Andrew Robertson                         0.0   71.0\n  4   Bruno Miguel Borges Fernandes                        24.0  117.0\n  5                   Mohamed Salah                        10.0  129.0\n  6   Bruno Miguel Borges Fernandes                        10.0  117.0\n  7                 Raheem Sterling                         2.0  107.0\n  8                 Kevin De Bruyne                         2.0  122.0\n  9                 Michail Antonio                         2.0   78.0\n  10            Allan Saint-Maximin                         0.0   69.0,\n  53.0),\n (                                   name  total_points_next_gameweek  value\n  0                            Ben Foster                         0.0   41.0\n  1                Trent Alexander-Arnold                        12.0   85.0\n  2                       Virgil van Dijk                         6.0   67.0\n  3                      Andrew Robertson                         6.0   72.0\n  4         Bruno Miguel Borges Fernandes                         6.0  117.0\n  5                       Raheem Sterling                         3.0  107.0\n  6                       Kevin De Bruyne                         3.0  120.0\n  7                         Heung-Min Son                         2.0  107.0\n  8                         Mohamed Salah                         3.0  131.0\n  9                   Alexandre Lacazette                         5.0   83.0\n  10  Cristiano Ronaldo dos Santos Aveiro                         2.0  125.0,\n  48.0)]"
     },
     "execution_count": 49,
     "metadata": {},
     "output_type": "execute_result"
    }
   ],
   "source": [
    "results_mlp_rolling_opponent_stats"
   ],
   "metadata": {
    "collapsed": false,
    "pycharm": {
     "name": "#%%\n"
    }
   }
  },
  {
   "cell_type": "markdown",
   "source": [
    "# Evaluate models trained on merged seasons data with historical rolling features and with data about next game opponent team and feature engineering"
   ],
   "metadata": {
    "collapsed": false,
    "pycharm": {
     "name": "#%% md\n"
    }
   }
  },
  {
   "cell_type": "code",
   "execution_count": 50,
   "outputs": [],
   "source": [
    "rolling_columns = ['assists', 'bonus', 'bps', 'clean_sheets',\n",
    "                   'creativity', 'goals_conceded', 'goals_scored',\n",
    "                   'ict_index', 'influence', 'minutes',\n",
    "                   'saves', 'selected', 'player_team_score', 'opponent_team_score', 'threat',\n",
    "                   'total_points', 'transfers_in', 'transfers_out',\n",
    "                   'value', 'yellow_cards']\n",
    "\n",
    "times = ['all', 6, 3]\n",
    "\n",
    "test_subset_XL = (['2016-17', [4, 8, 9, 14, 18, 20, 21, 26, 32]], ['2018-19', [1, 2, 3, 4, 5, 6, 7, 8, 9, 10]], ['2021-22', [17, 18, 19, 20, 21, 22, 23, 24, 25, 26]])"
   ],
   "metadata": {
    "collapsed": false,
    "pycharm": {
     "name": "#%%\n"
    }
   }
  },
  {
   "cell_type": "code",
   "execution_count": 51,
   "outputs": [],
   "source": [
    "from src.features.data_engineering import get_merged_seasons_data\n",
    "\n",
    "drop_features = ['own_goals', 'penalties_missed', 'penalties_saved', 'red_cards']\n",
    "data = get_merged_seasons_data()\n",
    "data = data.drop(drop_features, axis=1)"
   ],
   "metadata": {
    "collapsed": false,
    "pycharm": {
     "name": "#%%\n"
    }
   }
  },
  {
   "cell_type": "code",
   "execution_count": 52,
   "outputs": [],
   "source": [
    "(x_train, y_train), (x_test, y_test), (x_train_target, x_test_target), x_scaler = preprocess_seasons_data(data, random_split=False, test_subset=test_subset_XL, rolling_features=True, rolling_columns=rolling_columns, rolling_times=times, opponent_team_stats=True)"
   ],
   "metadata": {
    "collapsed": false,
    "pycharm": {
     "name": "#%%\n"
    }
   }
  },
  {
   "cell_type": "code",
   "execution_count": 53,
   "outputs": [
    {
     "data": {
      "text/plain": "XGBRegressor(base_score=0.5, booster='gbtree', callbacks=None,\n             colsample_bylevel=1, colsample_bynode=1, colsample_bytree=1,\n             early_stopping_rounds=None, enable_categorical=False,\n             eval_metric=None, gamma=0, gpu_id=-1, grow_policy='depthwise',\n             importance_type=None, interaction_constraints='',\n             learning_rate=0.300000012, max_bin=256, max_cat_to_onehot=4,\n             max_delta_step=0, max_depth=6, max_leaves=0, min_child_weight=1,\n             missing=nan, monotone_constraints='()', n_estimators=100, n_jobs=0,\n             num_parallel_tree=1, predictor='auto', random_state=0, reg_alpha=0,\n             reg_lambda=1, ...)"
     },
     "execution_count": 53,
     "metadata": {},
     "output_type": "execute_result"
    }
   ],
   "source": [
    "# Train MLP and XGBoost models on specific subset\n",
    "model = tf.keras.models.Sequential()\n",
    "model.add(tf.keras.layers.Dense(units=128, activation='relu', input_shape=(x_train.shape[1],)))\n",
    "model.add(tf.keras.layers.Dense(units=256, activation='relu'))\n",
    "model.add(tf.keras.layers.Dense(units=126, activation='relu'))\n",
    "model.add(tf.keras.layers.Dense(units=64, activation='relu'))\n",
    "model.add(tf.keras.layers.Dense(units=1, activation='linear'))\n",
    "model_mlp_rolling_opponent_stats_features = train_mlp_model(model, x_train, y_train, verbose=0)\n",
    "\n",
    "model_xgb_rolling_opponent_stats_features = xgb.XGBRegressor()\n",
    "model_xgb_rolling_opponent_stats_features.fit(x_train, y_train)"
   ],
   "metadata": {
    "collapsed": false,
    "pycharm": {
     "name": "#%%\n"
    }
   }
  },
  {
   "cell_type": "code",
   "execution_count": 54,
   "outputs": [],
   "source": [
    "# Make predictions on specific test subset using MLP and XGBoost models\n",
    "x_test_reversed = reverse_processing(x_test, x_scaler, x_test_target)\n",
    "predictions_merged_mlp_rolling_opponent_stats_features = merge_reversed_data_with_predictions(model_mlp_rolling_opponent_stats_features, x_test, y_test, x_test_reversed)\n",
    "predictions_merged_xgb_rolling_opponent_stats_features = merge_reversed_data_with_predictions(model_xgb_rolling_opponent_stats_features, x_test, y_test, x_test_reversed)\n",
    "\n",
    "# Get squad and evaluate it for both models\n",
    "results_mlp_rolling_opponent_stats_features, selected_squad_points_mlp_rolling_opponent_stats_features, real_player_average_points_mlp_features, season_gameweeks_mlp_rolling_opponent_stats_features = evaluate_selected_squad_without_constraints(predictions_merged_mlp_rolling_opponent_stats_features, test_subset_XL, 'mlp_model_rolling_OPPONENT-STATS-FEATURES_no_constraints_test_subset_XL')\n",
    "results_xgb_rolling_opponent_stats_features, selected_squad_points_xgb_rolling_opponent_stats_features, real_player_average_points_xgb_features, season_gameweeks_xgb_rolling_opponent_stats_features = evaluate_selected_squad_without_constraints(predictions_merged_xgb_rolling_opponent_stats_features, test_subset_XL, 'xgb_model_rolling_OPPONENT-STATS-FEATURES_no_constraints_test_subset_XL')"
   ],
   "metadata": {
    "collapsed": false,
    "pycharm": {
     "name": "#%%\n"
    }
   }
  },
  {
   "cell_type": "code",
   "execution_count": 55,
   "outputs": [
    {
     "data": {
      "text/plain": "<Figure size 1440x1080 with 1 Axes>",
      "image/png": "[encoded data removed]"
     },
     "metadata": {
      "needs_background": "light"
     },
     "output_type": "display_data"
    }
   ],
   "source": [
    "plt.figure(figsize=(20,15))\n",
    "\n",
    "X_axis = np.arange(len(season_gameweeks_mlp_rolling))\n",
    "\n",
    "plt.bar(X_axis - 0.3, selected_squad_points_xgb_rolling_opponent_stats_features, 0.3, label = 'Selected squad points XGB')\n",
    "plt.bar(X_axis, real_player_average_points_mlp, 0.3, label = 'Real player average points')\n",
    "plt.bar(X_axis + 0.3, selected_squad_points_mlp_rolling_opponent_stats_features, 0.3, label = 'Selected squad points MLP')\n",
    "\n",
    "plt.xticks(X_axis, season_gameweeks_mlp_rolling, rotation=30)\n",
    "plt.xlabel(\"Season and GW\")\n",
    "plt.ylabel(\"Points gained\")\n",
    "plt.title(\"Comparison of pts gained by squad selected by MLP model with points gained by squad selected by XGB model for big test subset\")\n",
    "plt.legend()\n",
    "plt.show()"
   ],
   "metadata": {
    "collapsed": false,
    "pycharm": {
     "name": "#%%\n"
    }
   }
  },
  {
   "cell_type": "markdown",
   "source": [
    "#### MLP model sum of points"
   ],
   "metadata": {
    "collapsed": false,
    "pycharm": {
     "name": "#%% md\n"
    }
   }
  },
  {
   "cell_type": "code",
   "execution_count": 56,
   "outputs": [
    {
     "name": "stdout",
     "output_type": "stream",
     "text": [
      "Sum of points gained by selected squad: 1703.0\n",
      "Sum of points gained by real players: 1386\n",
      "Difference: 317.0 pts\n"
     ]
    }
   ],
   "source": [
    "print('Sum of points gained by selected squad:', sum(selected_squad_points_mlp_rolling_opponent_stats_features))\n",
    "print('Sum of points gained by real players:', sum(real_player_average_points_mlp))\n",
    "print('Difference:', sum(selected_squad_points_mlp_rolling_opponent_stats_features) - sum(real_player_average_points_mlp), 'pts')"
   ],
   "metadata": {
    "collapsed": false,
    "pycharm": {
     "name": "#%%\n"
    }
   }
  },
  {
   "cell_type": "markdown",
   "source": [
    "#### XGBoost model sum of points"
   ],
   "metadata": {
    "collapsed": false,
    "pycharm": {
     "name": "#%% md\n"
    }
   }
  },
  {
   "cell_type": "code",
   "execution_count": 57,
   "outputs": [
    {
     "name": "stdout",
     "output_type": "stream",
     "text": [
      "Sum of points gained by selected squad: 1794.0\n",
      "Sum of points gained by real players: 1386\n",
      "Difference: 408.0 pts\n"
     ]
    }
   ],
   "source": [
    "print('Sum of points gained by selected squad:', sum(selected_squad_points_xgb_rolling_opponent_stats_features))\n",
    "print('Sum of points gained by real players:', sum(real_player_average_points_xgb))\n",
    "print('Difference:', sum(selected_squad_points_xgb_rolling_opponent_stats_features) - sum(real_player_average_points_xgb), 'pts')"
   ],
   "metadata": {
    "collapsed": false,
    "pycharm": {
     "name": "#%%\n"
    }
   }
  },
  {
   "cell_type": "code",
   "execution_count": 57,
   "outputs": [],
   "source": [],
   "metadata": {
    "collapsed": false,
    "pycharm": {
     "name": "#%%\n"
    }
   }
  }
 ],
 "metadata": {
  "kernelspec": {
   "display_name": "Python 3",
   "language": "python",
   "name": "python3"
  },
  "language_info": {
   "codemirror_mode": {
    "name": "ipython",
    "version": 2
   },
   "file_extension": ".py",
   "mimetype": "text/x-python",
   "name": "python",
   "nbconvert_exporter": "python",
   "pygments_lexer": "ipython2",
   "version": "2.7.6"
  }
 },
 "nbformat": 4,
 "nbformat_minor": 0
}