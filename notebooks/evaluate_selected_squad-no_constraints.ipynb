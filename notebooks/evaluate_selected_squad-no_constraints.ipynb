{
 "cells": [
  {
   "cell_type": "code",
   "execution_count": 33,
   "metadata": {
    "collapsed": true,
    "pycharm": {
     "name": "#%%\n"
    }
   },
   "outputs": [
    {
     "name": "stdout",
     "output_type": "stream",
     "text": [
      "The autoreload extension is already loaded. To reload it, use:\n",
      "  %reload_ext autoreload\n"
     ]
    }
   ],
   "source": [
    "%load_ext autoreload\n",
    "%autoreload 2\n",
    "%reload_ext autoreload"
   ]
  },
  {
   "cell_type": "markdown",
   "source": [
    "# Evaluate model predictions\n",
    "### Select best predicted squad and compare gained points with average points from specific gameweek"
   ],
   "metadata": {
    "collapsed": false,
    "pycharm": {
     "name": "#%% md\n"
    }
   }
  },
  {
   "cell_type": "code",
   "execution_count": 34,
   "outputs": [],
   "source": [
    "import pandas as pd\n",
    "import tensorflow as tf\n",
    "import xgboost as xgb\n",
    "import numpy as np\n",
    "import matplotlib.pyplot as plt\n",
    "\n",
    "from src.data.data_loader import load_average_pts\n",
    "from src.features.data_engineering import preprocess_seasons_data\n",
    "from src.features.data_engineering import reverse_processing\n",
    "\n",
    "from src.modeling.train_model import train_mlp_model\n",
    "from src.modeling.predictions import merge_reversed_data_with_predictions\n",
    "from src.modeling.evaluate_squad import squad_selection_without_constraints\n",
    "from src.modeling.evaluate_squad import get_average_pts\n",
    "from src.modeling.evaluate_squad import evaluate_selected_squad_without_constraints"
   ],
   "metadata": {
    "collapsed": false,
    "pycharm": {
     "name": "#%%\n"
    }
   }
  },
  {
   "cell_type": "code",
   "execution_count": 35,
   "outputs": [],
   "source": [
    "average_pts = load_average_pts()"
   ],
   "metadata": {
    "collapsed": false,
    "pycharm": {
     "name": "#%%\n"
    }
   }
  },
  {
   "cell_type": "code",
   "execution_count": 36,
   "outputs": [
    {
     "data": {
      "text/plain": "   GW  AVG_PTS_2016/17  AVG_PTS_2018/19  AVG_PTS_2021/22\n0   1               44               53               69\n1   2               56               59               56\n2   3               40               48               54\n3   4               41               43               57\n4   5               47               46               55",
      "text/html": "<div>\n<style scoped>\n    .dataframe tbody tr th:only-of-type {\n        vertical-align: middle;\n    }\n\n    .dataframe tbody tr th {\n        vertical-align: top;\n    }\n\n    .dataframe thead th {\n        text-align: right;\n    }\n</style>\n<table border=\"1\" class=\"dataframe\">\n  <thead>\n    <tr style=\"text-align: right;\">\n      <th></th>\n      <th>GW</th>\n      <th>AVG_PTS_2016/17</th>\n      <th>AVG_PTS_2018/19</th>\n      <th>AVG_PTS_2021/22</th>\n    </tr>\n  </thead>\n  <tbody>\n    <tr>\n      <th>0</th>\n      <td>1</td>\n      <td>44</td>\n      <td>53</td>\n      <td>69</td>\n    </tr>\n    <tr>\n      <th>1</th>\n      <td>2</td>\n      <td>56</td>\n      <td>59</td>\n      <td>56</td>\n    </tr>\n    <tr>\n      <th>2</th>\n      <td>3</td>\n      <td>40</td>\n      <td>48</td>\n      <td>54</td>\n    </tr>\n    <tr>\n      <th>3</th>\n      <td>4</td>\n      <td>41</td>\n      <td>43</td>\n      <td>57</td>\n    </tr>\n    <tr>\n      <th>4</th>\n      <td>5</td>\n      <td>47</td>\n      <td>46</td>\n      <td>55</td>\n    </tr>\n  </tbody>\n</table>\n</div>"
     },
     "execution_count": 36,
     "metadata": {},
     "output_type": "execute_result"
    }
   ],
   "source": [
    "average_pts.head()"
   ],
   "metadata": {
    "collapsed": false,
    "pycharm": {
     "name": "#%%\n"
    }
   }
  },
  {
   "cell_type": "markdown",
   "source": [
    "## Load specific test gameweek data\n",
    "**NOTE:** To properly evaluate model predictions comparing it with average points from specific gameweek, remember to leave performance sample of every player from specific gameweek in test dataset"
   ],
   "metadata": {
    "collapsed": false,
    "pycharm": {
     "name": "#%% md\n"
    }
   }
  },
  {
   "cell_type": "code",
   "execution_count": 37,
   "outputs": [],
   "source": [
    "test_subset = (['2016-17', [35,36,37]], ['2021-22', [27,28,29]])\n",
    "\n",
    "(x_train, y_train), (x_test, y_test), (x_train_target, x_test_target), x_scaler = preprocess_seasons_data(random_split=False, test_subset=test_subset)"
   ],
   "metadata": {
    "collapsed": false,
    "pycharm": {
     "name": "#%%\n"
    }
   }
  },
  {
   "cell_type": "code",
   "execution_count": 38,
   "outputs": [
    {
     "name": "stdout",
     "output_type": "stream",
     "text": [
      "['2016-17' '2021-22']\n",
      "[35 36 37 27 28 29]\n"
     ]
    }
   ],
   "source": [
    "# preview unique values in 'season' and 'GW' columns from x_test_target\n",
    "print(x_test_target.season.unique())\n",
    "print(x_test_target.GW.unique())"
   ],
   "metadata": {
    "collapsed": false,
    "pycharm": {
     "name": "#%%\n"
    }
   }
  },
  {
   "cell_type": "markdown",
   "source": [
    "## Train MLP and XGBoost models on specific subset and save them"
   ],
   "metadata": {
    "collapsed": false,
    "pycharm": {
     "name": "#%% md\n"
    }
   }
  },
  {
   "cell_type": "code",
   "execution_count": 39,
   "outputs": [],
   "source": [
    "# model = tf.keras.models.Sequential()\n",
    "#\n",
    "# model.add(tf.keras.layers.Dense(units=128, activation='relu', input_shape=(x_train.shape[1],)))\n",
    "# model.add(tf.keras.layers.Dense(units=256, activation='relu'))\n",
    "# model.add(tf.keras.layers.Dense(units=256, activation='relu'))\n",
    "# model.add(tf.keras.layers.Dense(units=126, activation='relu'))\n",
    "# model.add(tf.keras.layers.Dense(units=64, activation='relu'))\n",
    "# model.add(tf.keras.layers.Dense(units=1, activation='linear'))"
   ],
   "metadata": {
    "collapsed": false,
    "pycharm": {
     "name": "#%%\n"
    }
   }
  },
  {
   "cell_type": "code",
   "execution_count": 40,
   "outputs": [],
   "source": [
    "# model_mlp = train_mlp_model(model, x_train, y_train)"
   ],
   "metadata": {
    "collapsed": false,
    "pycharm": {
     "name": "#%%\n"
    }
   }
  },
  {
   "cell_type": "code",
   "execution_count": 41,
   "outputs": [],
   "source": [
    "# model_xgb = xgb.XGBRegressor()\n",
    "# model_xgb.fit(x_train, y_train)"
   ],
   "metadata": {
    "collapsed": false,
    "pycharm": {
     "name": "#%%\n"
    }
   }
  },
  {
   "cell_type": "code",
   "execution_count": 42,
   "outputs": [],
   "source": [
    "import os\n",
    "root_dir = os.path.dirname(os.path.abspath(''))"
   ],
   "metadata": {
    "collapsed": false,
    "pycharm": {
     "name": "#%%\n"
    }
   }
  },
  {
   "cell_type": "code",
   "execution_count": 43,
   "outputs": [],
   "source": [
    "# model_mlp.save(root_dir + '\\\\models\\\\baseline\\\\mlp_model_06-07-22.h5')\n",
    "# model_xgb.save_model(root_dir + '\\\\models\\\\baseline\\\\xgb_model_06-07-22.json')"
   ],
   "metadata": {
    "collapsed": false,
    "pycharm": {
     "name": "#%%\n"
    }
   }
  },
  {
   "cell_type": "markdown",
   "source": [
    "## Make predictions on specific test subset using MLP and XGBoost models"
   ],
   "metadata": {
    "collapsed": false,
    "pycharm": {
     "name": "#%% md\n"
    }
   }
  },
  {
   "cell_type": "code",
   "execution_count": 44,
   "outputs": [],
   "source": [
    "model_mlp = tf.keras.models.load_model(root_dir + '\\\\models\\\\baseline\\\\mlp_model_06-07-22.h5')\n",
    "model_xgb = xgb.XGBRegressor()\n",
    "model_xgb.load_model(root_dir + '\\\\models\\\\baseline\\\\xgb_model_06-07-22.json')"
   ],
   "metadata": {
    "collapsed": false,
    "pycharm": {
     "name": "#%%\n"
    }
   }
  },
  {
   "cell_type": "code",
   "execution_count": 45,
   "outputs": [],
   "source": [
    "x_test_reversed = reverse_processing(x_test, x_scaler, x_test_target)"
   ],
   "metadata": {
    "collapsed": false,
    "pycharm": {
     "name": "#%%\n"
    }
   }
  },
  {
   "cell_type": "code",
   "execution_count": 46,
   "outputs": [],
   "source": [
    "predictions_merged_mlp = merge_reversed_data_with_predictions(model_mlp, x_test, y_test, x_test_reversed)\n",
    "predictions_merged_xgb = merge_reversed_data_with_predictions(model_xgb, x_test, y_test, x_test_reversed)"
   ],
   "metadata": {
    "collapsed": false,
    "pycharm": {
     "name": "#%%\n"
    }
   }
  },
  {
   "cell_type": "markdown",
   "source": [
    "### Evaluate MLP model predictions without constraints for gameweek 27 in 2021-22 season\n",
    "At this moment, I do not take price constraints into account."
   ],
   "metadata": {
    "collapsed": false,
    "pycharm": {
     "name": "#%% md\n"
    }
   }
  },
  {
   "cell_type": "code",
   "execution_count": 47,
   "outputs": [],
   "source": [
    "# get data from predictions_merged only for 2021-22 season and gameweek 27\n",
    "predictions_merged_27 = predictions_merged_mlp[(predictions_merged_mlp.season == '2021-22') & (predictions_merged_mlp.GW == 27)]\n",
    "# sort predictions_merged_27 by predicted points in descending order\n",
    "predictions_merged_27 = predictions_merged_27.sort_values(by='predicted_total_points_next_gameweek', ascending=False)"
   ],
   "metadata": {
    "collapsed": false,
    "pycharm": {
     "name": "#%%\n"
    }
   }
  },
  {
   "cell_type": "code",
   "execution_count": 48,
   "outputs": [],
   "source": [
    "# get first row from predictions_merged_27 and double 'total_points_next_gameweek' value, because this player would be chosen as a capitan\n",
    "predictions_merged_27.iloc[0, predictions_merged_27.columns.get_loc('total_points_next_gameweek')] *= 2"
   ],
   "metadata": {
    "collapsed": false,
    "pycharm": {
     "name": "#%%\n"
    }
   }
  },
  {
   "cell_type": "code",
   "execution_count": 49,
   "outputs": [
    {
     "name": "stderr",
     "output_type": "stream",
     "text": [
      "C:\\Users\\gracj\\AppData\\Local\\Temp\\ipykernel_9620\\4101679064.py:15: FutureWarning: The frame.append method is deprecated and will be removed from pandas in a future version. Use pandas.concat instead.\n",
      "  df_top_11_27 = df_top_11_27.append(players.head(formation[i]), ignore_index=True)\n"
     ]
    }
   ],
   "source": [
    "# get goalkeepers from predictions_merged_27 (with 1 in 'position_GK' column)\n",
    "# df_gk_27 = predictions_merged_27[predictions_merged_27.position_GK == 1]\n",
    "# df_def_27 = predictions_merged_27[predictions_merged_27.position_DEF == 1]\n",
    "# df_mid_27 = predictions_merged_27[predictions_merged_27.position_MID == 1]\n",
    "# df_fwd_27 = predictions_merged_27[predictions_merged_27.position_FWD == 1]\n",
    "\n",
    "# separate players by position\n",
    "df_top_11_27 = pd.DataFrame()\n",
    "positions = ['position_GK', 'position_DEF', 'position_MID', 'position_FWD']\n",
    "formation = [1, 3, 5, 2]\n",
    "for i, position in enumerate(positions):\n",
    "    # get players with the given position\n",
    "    players = predictions_merged_27[predictions_merged_27[position] == 1]\n",
    "    # add players to df_top_11 dataframe\n",
    "    df_top_11_27 = df_top_11_27.append(players.head(formation[i]), ignore_index=True)"
   ],
   "metadata": {
    "collapsed": false,
    "pycharm": {
     "name": "#%%\n"
    }
   }
  },
  {
   "cell_type": "code",
   "execution_count": 50,
   "outputs": [
    {
     "data": {
      "text/plain": "                                       name  total_points_next_gameweek  \\\n0                                 Nick Pope                         2.0   \n1                JoÃ£o Pedro Cavaco Cancelo                         2.0   \n2             RÃºben Santos Gato Alves Dias                         0.0   \n3                           Aymeric Laporte                         2.0   \n4                           Kevin De Bruyne                        36.0   \n5                             Heung-Min Son                         7.0   \n6             Bruno Miguel Borges Fernandes                         2.0   \n7                           Raheem Sterling                         0.0   \n8   Bernardo Mota Veiga de Carvalho e Silva                         6.0   \n9                                Harry Kane                        13.0   \n10      Cristiano Ronaldo dos Santos Aveiro                         0.0   \n\n    transfers_balance  value  \n0            105427.0   54.0  \n1             35950.0   71.0  \n2             45820.0   63.0  \n3             10139.0   58.0  \n4            -24780.0  119.0  \n5            281052.0  108.0  \n6            135480.0  117.0  \n7             55949.0  107.0  \n8             13991.0   73.0  \n9            156443.0  122.0  \n10           -82154.0  124.0  ",
      "text/html": "<div>\n<style scoped>\n    .dataframe tbody tr th:only-of-type {\n        vertical-align: middle;\n    }\n\n    .dataframe tbody tr th {\n        vertical-align: top;\n    }\n\n    .dataframe thead th {\n        text-align: right;\n    }\n</style>\n<table border=\"1\" class=\"dataframe\">\n  <thead>\n    <tr style=\"text-align: right;\">\n      <th></th>\n      <th>name</th>\n      <th>total_points_next_gameweek</th>\n      <th>transfers_balance</th>\n      <th>value</th>\n    </tr>\n  </thead>\n  <tbody>\n    <tr>\n      <th>0</th>\n      <td>Nick Pope</td>\n      <td>2.0</td>\n      <td>105427.0</td>\n      <td>54.0</td>\n    </tr>\n    <tr>\n      <th>1</th>\n      <td>JoÃ£o Pedro Cavaco Cancelo</td>\n      <td>2.0</td>\n      <td>35950.0</td>\n      <td>71.0</td>\n    </tr>\n    <tr>\n      <th>2</th>\n      <td>RÃºben Santos Gato Alves Dias</td>\n      <td>0.0</td>\n      <td>45820.0</td>\n      <td>63.0</td>\n    </tr>\n    <tr>\n      <th>3</th>\n      <td>Aymeric Laporte</td>\n      <td>2.0</td>\n      <td>10139.0</td>\n      <td>58.0</td>\n    </tr>\n    <tr>\n      <th>4</th>\n      <td>Kevin De Bruyne</td>\n      <td>36.0</td>\n      <td>-24780.0</td>\n      <td>119.0</td>\n    </tr>\n    <tr>\n      <th>5</th>\n      <td>Heung-Min Son</td>\n      <td>7.0</td>\n      <td>281052.0</td>\n      <td>108.0</td>\n    </tr>\n    <tr>\n      <th>6</th>\n      <td>Bruno Miguel Borges Fernandes</td>\n      <td>2.0</td>\n      <td>135480.0</td>\n      <td>117.0</td>\n    </tr>\n    <tr>\n      <th>7</th>\n      <td>Raheem Sterling</td>\n      <td>0.0</td>\n      <td>55949.0</td>\n      <td>107.0</td>\n    </tr>\n    <tr>\n      <th>8</th>\n      <td>Bernardo Mota Veiga de Carvalho e Silva</td>\n      <td>6.0</td>\n      <td>13991.0</td>\n      <td>73.0</td>\n    </tr>\n    <tr>\n      <th>9</th>\n      <td>Harry Kane</td>\n      <td>13.0</td>\n      <td>156443.0</td>\n      <td>122.0</td>\n    </tr>\n    <tr>\n      <th>10</th>\n      <td>Cristiano Ronaldo dos Santos Aveiro</td>\n      <td>0.0</td>\n      <td>-82154.0</td>\n      <td>124.0</td>\n    </tr>\n  </tbody>\n</table>\n</div>"
     },
     "execution_count": 50,
     "metadata": {},
     "output_type": "execute_result"
    }
   ],
   "source": [
    "# get 'name', 'total_points_next_gameweek', 'transfers_balance', 'value' columns from df_top_11\n",
    "df_top_11_27[['name', 'total_points_next_gameweek', 'transfers_balance', 'value']]"
   ],
   "metadata": {
    "collapsed": false,
    "pycharm": {
     "name": "#%%\n"
    }
   }
  },
  {
   "cell_type": "code",
   "execution_count": 51,
   "outputs": [
    {
     "data": {
      "text/plain": "70.0"
     },
     "execution_count": 51,
     "metadata": {},
     "output_type": "execute_result"
    }
   ],
   "source": [
    "df_top_11_27.total_points_next_gameweek.sum()"
   ],
   "metadata": {
    "collapsed": false,
    "pycharm": {
     "name": "#%%\n"
    }
   }
  },
  {
   "cell_type": "code",
   "execution_count": 52,
   "outputs": [
    {
     "data": {
      "text/plain": "40"
     },
     "execution_count": 52,
     "metadata": {},
     "output_type": "execute_result"
    }
   ],
   "source": [
    "# get number of avg points from avg_pts where season is 2021-22 and gameweek is 27\n",
    "\n",
    "average_pts.loc[average_pts['GW'] == 27, ['AVG_PTS_2021/22']].values[0][0]"
   ],
   "metadata": {
    "collapsed": false,
    "pycharm": {
     "name": "#%%\n"
    }
   }
  },
  {
   "cell_type": "markdown",
   "source": [
    "### Evaluate MLP model for whole test_subset"
   ],
   "metadata": {
    "collapsed": false,
    "pycharm": {
     "name": "#%% md\n"
    }
   }
  },
  {
   "cell_type": "code",
   "execution_count": 53,
   "outputs": [],
   "source": [
    "test_subset = (['2016-17', [35,36,37]], ['2021-22', [27,28,29]])"
   ],
   "metadata": {
    "collapsed": false,
    "pycharm": {
     "name": "#%%\n"
    }
   }
  },
  {
   "cell_type": "code",
   "execution_count": 54,
   "outputs": [],
   "source": [
    "results = []\n",
    "gameweeks = []\n",
    "for season in test_subset:\n",
    "    for gameweek in season[1]:\n",
    "        results.append(squad_selection_without_constraints(predictions_merged_mlp, season[0], gameweek))\n",
    "        gameweeks.append((season[0], gameweek))\n",
    "\n",
    "selected_squad_points_mlp = []\n",
    "for result in results:\n",
    "    selected_squad_points_mlp.append(result[1])\n",
    "\n",
    "real_player_average_points = []\n",
    "for gameweek in gameweeks:\n",
    "    real_player_average_points.append(get_average_pts(gameweek[0], gameweek[1]))"
   ],
   "metadata": {
    "collapsed": false,
    "pycharm": {
     "name": "#%%\n"
    }
   }
  },
  {
   "cell_type": "code",
   "execution_count": 55,
   "outputs": [
    {
     "data": {
      "text/plain": "<Figure size 720x432 with 1 Axes>",
      "image/png": "[encoded data removed]"
     },
     "metadata": {
      "needs_background": "light"
     },
     "output_type": "display_data"
    }
   ],
   "source": [
    "plt.figure(figsize=(10,6))\n",
    "\n",
    "X_axis = np.arange(len(gameweeks))\n",
    "\n",
    "plt.bar(X_axis - 0.2, selected_squad_points_mlp, 0.4, label = 'Selected squad points')\n",
    "plt.bar(X_axis + 0.2, real_player_average_points, 0.4, label = 'Real player average points')\n",
    "\n",
    "plt.xticks(X_axis, gameweeks)\n",
    "plt.xlabel(\"Season and GW\")\n",
    "plt.ylabel(\"Points gained\")\n",
    "plt.title(\"Comparison of average pts gained by real players with points gained by squad selected by MLP model\")\n",
    "plt.legend()\n",
    "plt.show()"
   ],
   "metadata": {
    "collapsed": false,
    "pycharm": {
     "name": "#%%\n"
    }
   }
  },
  {
   "cell_type": "markdown",
   "source": [],
   "metadata": {
    "collapsed": false,
    "pycharm": {
     "name": "#%% md\n"
    }
   }
  },
  {
   "cell_type": "code",
   "execution_count": 56,
   "outputs": [
    {
     "name": "stdout",
     "output_type": "stream",
     "text": [
      "Sum of points gained by selected squad: 403.0\n",
      "Sum of points gained by real players: 350\n",
      "Difference: 53.0 pts\n"
     ]
    }
   ],
   "source": [
    "print('Sum of points gained by selected squad:', sum(selected_squad_points_mlp))\n",
    "print('Sum of points gained by real players:', sum(real_player_average_points))\n",
    "print('Difference:', sum(selected_squad_points_mlp) - sum(real_player_average_points), 'pts')"
   ],
   "metadata": {
    "collapsed": false,
    "pycharm": {
     "name": "#%%\n"
    }
   }
  },
  {
   "cell_type": "markdown",
   "source": [
    "### Evaluate XGB model for whole test_subset"
   ],
   "metadata": {
    "collapsed": false,
    "pycharm": {
     "name": "#%% md\n"
    }
   }
  },
  {
   "cell_type": "code",
   "execution_count": null,
   "outputs": [],
   "source": [
    "gameweeks = []\n",
    "for season in test_subset:\n",
    "    for gameweek in season[1]:\n",
    "        results.append(squad_selection_without_constraints(predictions_merged_xgb, season[0], gameweek))\n",
    "        gameweeks.append((season[0], gameweek))\n",
    "\n",
    "selected_squad_points_xgb = []\n",
    "for result in results:\n",
    "    selected_squad_points_xgb.append(result[1])"
   ],
   "metadata": {
    "collapsed": false,
    "pycharm": {
     "name": "#%%\n"
    }
   }
  },
  {
   "cell_type": "code",
   "execution_count": 59,
   "outputs": [
    {
     "data": {
      "text/plain": "<Figure size 720x432 with 1 Axes>",
      "image/png": "[encoded data removed]"
     },
     "metadata": {
      "needs_background": "light"
     },
     "output_type": "display_data"
    }
   ],
   "source": [
    "plt.figure(figsize=(10,6))\n",
    "\n",
    "X_axis = np.arange(len(gameweeks))\n",
    "\n",
    "plt.bar(X_axis - 0.2, selected_squad_points_xgb, 0.4, label = 'Selected squad points')\n",
    "plt.bar(X_axis + 0.2, real_player_average_points, 0.4, label = 'Real player average points')\n",
    "\n",
    "plt.xticks(X_axis, gameweeks)\n",
    "plt.xlabel(\"Season and GW\")\n",
    "plt.ylabel(\"Points gained\")\n",
    "plt.title(\"Comparison of average pts gained by real players with points gained by squad selected by XGB model\")\n",
    "plt.legend()\n",
    "plt.show()"
   ],
   "metadata": {
    "collapsed": false,
    "pycharm": {
     "name": "#%%\n"
    }
   }
  },
  {
   "cell_type": "code",
   "execution_count": 61,
   "outputs": [
    {
     "name": "stdout",
     "output_type": "stream",
     "text": [
      "Sum of points gained by selected squad: 368.0\n",
      "Sum of points gained by real players: 350\n",
      "Difference: 18.0 pts\n"
     ]
    }
   ],
   "source": [
    "print('Sum of points gained by selected squad:', sum(selected_squad_points_xgb))\n",
    "print('Sum of points gained by real players:', sum(real_player_average_points))\n",
    "print('Difference:', sum(selected_squad_points_xgb) - sum(real_player_average_points), 'pts')"
   ],
   "metadata": {
    "collapsed": false,
    "pycharm": {
     "name": "#%%\n"
    }
   }
  },
  {
   "cell_type": "markdown",
   "source": [
    "### Conclusion\n",
    "These results look promising. Squad selected by AI MLP model seems to gain more points than real players on average. With this test_subset, XGBoost model gained significantly lower amount of points than MLP model, but still more than real average FPL player. But we need to notice that it just simple initial comparison. Predictions are taken from simple baseline model without any price constraints and we tested it only on 6 gameweeks. So it is not very accurate at this moment, but it's a great step towards main goal of this project, which is AI model that can achieve better results than average real player during the whole FPL season."
   ],
   "metadata": {
    "collapsed": false,
    "pycharm": {
     "name": "#%% md\n"
    }
   }
  },
  {
   "cell_type": "code",
   "execution_count": 64,
   "outputs": [
    {
     "data": {
      "text/plain": "<Figure size 792x504 with 1 Axes>",
      "image/png": "[encoded data removed]"
     },
     "metadata": {
      "needs_background": "light"
     },
     "output_type": "display_data"
    }
   ],
   "source": [
    "plt.figure(figsize=(11,7))\n",
    "\n",
    "X_axis = np.arange(len(gameweeks))\n",
    "\n",
    "plt.bar(X_axis - 0.2, selected_squad_points_xgb, 0.4, label = 'Selected squad points XGB')\n",
    "plt.bar(X_axis + 0.2, selected_squad_points_mlp, 0.4, label = 'Selected squad points MLP')\n",
    "\n",
    "plt.xticks(X_axis, gameweeks)\n",
    "plt.xlabel(\"Season and GW\")\n",
    "plt.ylabel(\"Points gained\")\n",
    "plt.title(\"Comparison of pts gained by squad selected by MLP model with points gained by squad selected by XGB model\")\n",
    "plt.legend()\n",
    "plt.show()"
   ],
   "metadata": {
    "collapsed": false,
    "pycharm": {
     "name": "#%%\n"
    }
   }
  },
  {
   "cell_type": "code",
   "execution_count": 57,
   "outputs": [],
   "source": [
    "# run evaluation on test_subset and log results to mlflow\n",
    "evaluate_selected_squad_without_constraints(predictions_merged_mlp, test_subset, 'mlp_model_06-07-22')\n",
    "evaluate_selected_squad_without_constraints(predictions_merged_xgb, test_subset, 'xgb_model_06-07-22')"
   ],
   "metadata": {
    "collapsed": false,
    "pycharm": {
     "name": "#%%\n"
    }
   }
  }
 ],
 "metadata": {
  "kernelspec": {
   "display_name": "Python 3",
   "language": "python",
   "name": "python3"
  },
  "language_info": {
   "codemirror_mode": {
    "name": "ipython",
    "version": 2
   },
   "file_extension": ".py",
   "mimetype": "text/x-python",
   "name": "python",
   "nbconvert_exporter": "python",
   "pygments_lexer": "ipython2",
   "version": "2.7.6"
  }
 },
 "nbformat": 4,
 "nbformat_minor": 0
}