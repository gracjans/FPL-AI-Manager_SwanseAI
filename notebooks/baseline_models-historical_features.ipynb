{
 "cells": [
  {
   "cell_type": "markdown",
   "source": [
    "# Train simple baseline models on merged seasons (full) data with historical rolling features"
   ],
   "metadata": {
    "collapsed": false,
    "pycharm": {
     "name": "#%% md\n"
    }
   }
  },
  {
   "cell_type": "code",
   "execution_count": 14,
   "outputs": [],
   "source": [
    "import pandas as pd\n",
    "import matplotlib.pyplot as plt\n",
    "\n",
    "from src.features.data_engineering import preprocess_seasons_data, reverse_processing"
   ],
   "metadata": {
    "collapsed": false,
    "pycharm": {
     "name": "#%%\n"
    }
   }
  },
  {
   "cell_type": "code",
   "execution_count": 15,
   "outputs": [],
   "source": [
    "rolling_columns = ['assists', 'bonus', 'bps', 'clean_sheets',\n",
    "                   'creativity', 'goals_conceded', 'goals_scored',\n",
    "                   'ict_index', 'influence', 'minutes',\n",
    "                   'own_goals', 'penalties_missed', 'penalties_saved', 'red_cards',\n",
    "                   'saves', 'selected', 'player_team_score', 'opponent_team_score', 'threat',\n",
    "                   'total_points', 'transfers_in', 'transfers_out',\n",
    "                   'value', 'yellow_cards']\n",
    "\n",
    "times = ['all', 6, 3]"
   ],
   "metadata": {
    "collapsed": false,
    "pycharm": {
     "name": "#%%\n"
    }
   }
  },
  {
   "cell_type": "code",
   "execution_count": 16,
   "outputs": [],
   "source": [
    "(x_train, y_train), (x_test, y_test), (x_train_target, x_test_target), x_scaler = preprocess_seasons_data(rolling_features=True, rolling_columns=rolling_columns, rolling_times=times)"
   ],
   "metadata": {
    "collapsed": false,
    "pycharm": {
     "name": "#%%\n"
    }
   }
  },
  {
   "cell_type": "markdown",
   "source": [
    "## Train on baseline Dummy model"
   ],
   "metadata": {
    "collapsed": false,
    "pycharm": {
     "name": "#%% md\n"
    }
   }
  },
  {
   "cell_type": "code",
   "execution_count": 17,
   "outputs": [],
   "source": [
    "from sklearn.dummy import DummyRegressor\n",
    "from sklearn.metrics import mean_squared_error"
   ],
   "metadata": {
    "collapsed": false,
    "pycharm": {
     "name": "#%%\n"
    }
   }
  },
  {
   "cell_type": "code",
   "execution_count": 18,
   "outputs": [
    {
     "data": {
      "text/plain": "DummyRegressor()"
     },
     "execution_count": 18,
     "metadata": {},
     "output_type": "execute_result"
    }
   ],
   "source": [
    "dummy_regr = DummyRegressor(strategy=\"mean\")\n",
    "dummy_regr.fit(x_train, y_train)"
   ],
   "metadata": {
    "collapsed": false,
    "pycharm": {
     "name": "#%%\n"
    }
   }
  },
  {
   "cell_type": "code",
   "execution_count": 19,
   "outputs": [],
   "source": [
    "y_pred = dummy_regr.predict(x_test)"
   ],
   "metadata": {
    "collapsed": false,
    "pycharm": {
     "name": "#%%\n"
    }
   }
  },
  {
   "cell_type": "code",
   "execution_count": 20,
   "outputs": [
    {
     "data": {
      "text/plain": "6.229359266000692"
     },
     "execution_count": 20,
     "metadata": {},
     "output_type": "execute_result"
    }
   ],
   "source": [
    "mean_squared_error(y_pred, y_test)"
   ],
   "metadata": {
    "collapsed": false,
    "pycharm": {
     "name": "#%%\n"
    }
   }
  },
  {
   "cell_type": "markdown",
   "source": [
    "## Train on baseline decision tree model"
   ],
   "metadata": {
    "collapsed": false,
    "pycharm": {
     "name": "#%% md\n"
    }
   }
  },
  {
   "cell_type": "code",
   "execution_count": 21,
   "outputs": [],
   "source": [
    "from sklearn.tree import DecisionTreeRegressor"
   ],
   "metadata": {
    "collapsed": false,
    "pycharm": {
     "name": "#%%\n"
    }
   }
  },
  {
   "cell_type": "code",
   "execution_count": 22,
   "outputs": [
    {
     "data": {
      "text/plain": "DecisionTreeRegressor()"
     },
     "execution_count": 22,
     "metadata": {},
     "output_type": "execute_result"
    }
   ],
   "source": [
    "tree_regr = DecisionTreeRegressor()\n",
    "tree_regr.fit(x_train, y_train)"
   ],
   "metadata": {
    "collapsed": false,
    "pycharm": {
     "name": "#%%\n"
    }
   }
  },
  {
   "cell_type": "code",
   "execution_count": 23,
   "outputs": [],
   "source": [
    "y_pred = tree_regr.predict(x_test)"
   ],
   "metadata": {
    "collapsed": false,
    "pycharm": {
     "name": "#%%\n"
    }
   }
  },
  {
   "cell_type": "code",
   "execution_count": 24,
   "outputs": [
    {
     "data": {
      "text/plain": "9.377090657473019"
     },
     "execution_count": 24,
     "metadata": {},
     "output_type": "execute_result"
    }
   ],
   "source": [
    "mean_squared_error(y_pred, y_test)"
   ],
   "metadata": {
    "collapsed": false,
    "pycharm": {
     "name": "#%%\n"
    }
   }
  },
  {
   "cell_type": "code",
   "execution_count": 24,
   "outputs": [],
   "source": [],
   "metadata": {
    "collapsed": false,
    "pycharm": {
     "name": "#%%\n"
    }
   }
  },
  {
   "cell_type": "markdown",
   "source": [
    "## Train on baseline SVR model"
   ],
   "metadata": {
    "collapsed": false,
    "pycharm": {
     "name": "#%% md\n"
    }
   }
  },
  {
   "cell_type": "code",
   "execution_count": 25,
   "outputs": [],
   "source": [
    "from sklearn.svm import LinearSVR"
   ],
   "metadata": {
    "collapsed": false,
    "pycharm": {
     "name": "#%%from sklearn import svm\n"
    }
   }
  },
  {
   "cell_type": "code",
   "execution_count": 26,
   "outputs": [
    {
     "name": "stderr",
     "output_type": "stream",
     "text": [
      "d:\\studies\\informatyka\\semestr_3\\fpl_ai_manager\\venv\\lib\\site-packages\\sklearn\\svm\\_base.py:1206: ConvergenceWarning: Liblinear failed to converge, increase the number of iterations.\n",
      "  warnings.warn(\n"
     ]
    },
    {
     "data": {
      "text/plain": "LinearSVR()"
     },
     "execution_count": 26,
     "metadata": {},
     "output_type": "execute_result"
    }
   ],
   "source": [
    "model_svr = LinearSVR()\n",
    "model_svr.fit(x_train, y_train)"
   ],
   "metadata": {
    "collapsed": false,
    "pycharm": {
     "name": "#%%\n"
    }
   }
  },
  {
   "cell_type": "code",
   "execution_count": 27,
   "outputs": [],
   "source": [
    "# create series to keep indexes and name same as in the original y data\n",
    "y_pred_svr = pd.Series(model_svr.predict(x_test), index=y_test.index, name='predicted_total_points_next_gameweek')"
   ],
   "metadata": {
    "collapsed": false,
    "pycharm": {
     "name": "#%%\n"
    }
   }
  },
  {
   "cell_type": "code",
   "execution_count": 28,
   "outputs": [
    {
     "data": {
      "text/plain": "5.086576911674206"
     },
     "execution_count": 28,
     "metadata": {},
     "output_type": "execute_result"
    }
   ],
   "source": [
    "mean_squared_error(y_pred_svr, y_test)"
   ],
   "metadata": {
    "collapsed": false,
    "pycharm": {
     "name": "#%%\n"
    }
   }
  },
  {
   "cell_type": "markdown",
   "source": [
    "## Merge results with footballers extracted target data"
   ],
   "metadata": {
    "collapsed": false,
    "pycharm": {
     "name": "#%% md\n"
    }
   }
  },
  {
   "cell_type": "code",
   "execution_count": 29,
   "outputs": [],
   "source": [
    "x_test_reversed = reverse_processing(x_test, x_scaler, x_test_target)"
   ],
   "metadata": {
    "collapsed": false,
    "pycharm": {
     "name": "#%%\n"
    }
   }
  },
  {
   "cell_type": "code",
   "execution_count": 30,
   "outputs": [],
   "source": [
    "predictions_svr = pd.concat([y_pred_svr, x_test_reversed], axis=1)"
   ],
   "metadata": {
    "collapsed": false,
    "pycharm": {
     "name": "#%%\n"
    }
   }
  },
  {
   "cell_type": "code",
   "execution_count": 31,
   "outputs": [
    {
     "data": {
      "text/plain": "        predicted_total_points_next_gameweek                           name  \\\n90610                               4.635159                  Mohamed Salah   \n120165                              3.973421                  Mohamed Salah   \n115301                              3.884683                  Mohamed Salah   \n123173                              3.743763                  Mohamed Salah   \n91186                               3.718524                  Heung-Min Son   \n92563                               3.657328                  Jack Grealish   \n124201                              3.634584                  Mohamed Salah   \n95887                               3.440401  Bruno Miguel Borges Fernandes   \n22988                               3.431024                     Harry_Kane   \n115422                              3.416360                  Mohamed Salah   \n\n        GW  element  total_points_next_gameweek   season  assists  assists-3  \\\n90610    1      254                         3.0  2020-21      0.0   0.000000   \n120165   9      233                         5.0  2021-22      1.0   1.000000   \n115301   1      233                         3.0  2021-22      2.0   2.000000   \n123173  14      233                         6.0  2021-22      0.0   0.333333   \n91186    2      390                         1.0  2020-21      0.0   0.000000   \n92563    4       37                         3.0  2020-21      3.0   1.000000   \n124201  16      233                         8.0  2021-22      0.0   0.333333   \n95887   10      302                         6.0  2020-21      1.0   0.666667   \n22988   37      403                        17.0  2016-17      1.0   0.333333   \n115422   2      233                        10.0  2021-22      0.0   1.000000   \n\n        assists-6  assists-all  ...   value-all  was_home  yellow_cards  \\\n90610    0.000000     0.000000  ...  120.000000       1.0           0.0   \n120165   0.666667     0.666667  ...  126.000000       0.0           0.0   \n115301   2.000000     2.000000  ...  125.000000       0.0           0.0   \n123173   0.666667     0.642857  ...  127.285714       0.0           0.0   \n91186    0.000000     0.000000  ...   89.500000       0.0           0.0   \n92563    1.000000     1.000000  ...   70.000000       1.0           0.0   \n124201   0.500000     0.625000  ...  127.687500       1.0           0.0   \n95887    0.500000     0.444444  ...  105.555556       0.0           0.0   \n22988    0.500000     0.189189  ...  111.108108       0.0           0.0   \n115422   1.000000     1.000000  ...  125.500000       1.0           0.0   \n\n        yellow_cards-3  yellow_cards-6  yellow_cards-all  position_DEF  \\\n90610         0.000000        0.000000          0.000000           0.0   \n120165        0.000000        0.166667          0.111111           0.0   \n115301        0.000000        0.000000          0.000000           0.0   \n123173        0.000000        0.000000          0.071429           0.0   \n91186         0.000000        0.000000          0.000000           0.0   \n92563         0.000000        0.000000          0.000000           0.0   \n124201        0.000000        0.000000          0.062500           0.0   \n95887         0.333333        0.166667          0.222222           0.0   \n22988         0.000000        0.333333          0.081081           0.0   \n115422        0.000000        0.000000          0.000000           0.0   \n\n        position_FWD  position_GK  position_MID  \n90610            0.0          0.0           1.0  \n120165           0.0          0.0           1.0  \n115301           0.0          0.0           1.0  \n123173           0.0          0.0           1.0  \n91186            0.0          0.0           1.0  \n92563            0.0          0.0           1.0  \n124201           0.0          0.0           1.0  \n95887            0.0          0.0           1.0  \n22988            1.0          0.0           0.0  \n115422           0.0          0.0           1.0  \n\n[10 rows x 107 columns]",
      "text/html": "<div>\n<style scoped>\n    .dataframe tbody tr th:only-of-type {\n        vertical-align: middle;\n    }\n\n    .dataframe tbody tr th {\n        vertical-align: top;\n    }\n\n    .dataframe thead th {\n        text-align: right;\n    }\n</style>\n<table border=\"1\" class=\"dataframe\">\n  <thead>\n    <tr style=\"text-align: right;\">\n      <th></th>\n      <th>predicted_total_points_next_gameweek</th>\n      <th>name</th>\n      <th>GW</th>\n      <th>element</th>\n      <th>total_points_next_gameweek</th>\n      <th>season</th>\n      <th>assists</th>\n      <th>assists-3</th>\n      <th>assists-6</th>\n      <th>assists-all</th>\n      <th>...</th>\n      <th>value-all</th>\n      <th>was_home</th>\n      <th>yellow_cards</th>\n      <th>yellow_cards-3</th>\n      <th>yellow_cards-6</th>\n      <th>yellow_cards-all</th>\n      <th>position_DEF</th>\n      <th>position_FWD</th>\n      <th>position_GK</th>\n      <th>position_MID</th>\n    </tr>\n  </thead>\n  <tbody>\n    <tr>\n      <th>90610</th>\n      <td>4.635159</td>\n      <td>Mohamed Salah</td>\n      <td>1</td>\n      <td>254</td>\n      <td>3.0</td>\n      <td>2020-21</td>\n      <td>0.0</td>\n      <td>0.000000</td>\n      <td>0.000000</td>\n      <td>0.000000</td>\n      <td>...</td>\n      <td>120.000000</td>\n      <td>1.0</td>\n      <td>0.0</td>\n      <td>0.000000</td>\n      <td>0.000000</td>\n      <td>0.000000</td>\n      <td>0.0</td>\n      <td>0.0</td>\n      <td>0.0</td>\n      <td>1.0</td>\n    </tr>\n    <tr>\n      <th>120165</th>\n      <td>3.973421</td>\n      <td>Mohamed Salah</td>\n      <td>9</td>\n      <td>233</td>\n      <td>5.0</td>\n      <td>2021-22</td>\n      <td>1.0</td>\n      <td>1.000000</td>\n      <td>0.666667</td>\n      <td>0.666667</td>\n      <td>...</td>\n      <td>126.000000</td>\n      <td>0.0</td>\n      <td>0.0</td>\n      <td>0.000000</td>\n      <td>0.166667</td>\n      <td>0.111111</td>\n      <td>0.0</td>\n      <td>0.0</td>\n      <td>0.0</td>\n      <td>1.0</td>\n    </tr>\n    <tr>\n      <th>115301</th>\n      <td>3.884683</td>\n      <td>Mohamed Salah</td>\n      <td>1</td>\n      <td>233</td>\n      <td>3.0</td>\n      <td>2021-22</td>\n      <td>2.0</td>\n      <td>2.000000</td>\n      <td>2.000000</td>\n      <td>2.000000</td>\n      <td>...</td>\n      <td>125.000000</td>\n      <td>0.0</td>\n      <td>0.0</td>\n      <td>0.000000</td>\n      <td>0.000000</td>\n      <td>0.000000</td>\n      <td>0.0</td>\n      <td>0.0</td>\n      <td>0.0</td>\n      <td>1.0</td>\n    </tr>\n    <tr>\n      <th>123173</th>\n      <td>3.743763</td>\n      <td>Mohamed Salah</td>\n      <td>14</td>\n      <td>233</td>\n      <td>6.0</td>\n      <td>2021-22</td>\n      <td>0.0</td>\n      <td>0.333333</td>\n      <td>0.666667</td>\n      <td>0.642857</td>\n      <td>...</td>\n      <td>127.285714</td>\n      <td>0.0</td>\n      <td>0.0</td>\n      <td>0.000000</td>\n      <td>0.000000</td>\n      <td>0.071429</td>\n      <td>0.0</td>\n      <td>0.0</td>\n      <td>0.0</td>\n      <td>1.0</td>\n    </tr>\n    <tr>\n      <th>91186</th>\n      <td>3.718524</td>\n      <td>Heung-Min Son</td>\n      <td>2</td>\n      <td>390</td>\n      <td>1.0</td>\n      <td>2020-21</td>\n      <td>0.0</td>\n      <td>0.000000</td>\n      <td>0.000000</td>\n      <td>0.000000</td>\n      <td>...</td>\n      <td>89.500000</td>\n      <td>0.0</td>\n      <td>0.0</td>\n      <td>0.000000</td>\n      <td>0.000000</td>\n      <td>0.000000</td>\n      <td>0.0</td>\n      <td>0.0</td>\n      <td>0.0</td>\n      <td>1.0</td>\n    </tr>\n    <tr>\n      <th>92563</th>\n      <td>3.657328</td>\n      <td>Jack Grealish</td>\n      <td>4</td>\n      <td>37</td>\n      <td>3.0</td>\n      <td>2020-21</td>\n      <td>3.0</td>\n      <td>1.000000</td>\n      <td>1.000000</td>\n      <td>1.000000</td>\n      <td>...</td>\n      <td>70.000000</td>\n      <td>1.0</td>\n      <td>0.0</td>\n      <td>0.000000</td>\n      <td>0.000000</td>\n      <td>0.000000</td>\n      <td>0.0</td>\n      <td>0.0</td>\n      <td>0.0</td>\n      <td>1.0</td>\n    </tr>\n    <tr>\n      <th>124201</th>\n      <td>3.634584</td>\n      <td>Mohamed Salah</td>\n      <td>16</td>\n      <td>233</td>\n      <td>8.0</td>\n      <td>2021-22</td>\n      <td>0.0</td>\n      <td>0.333333</td>\n      <td>0.500000</td>\n      <td>0.625000</td>\n      <td>...</td>\n      <td>127.687500</td>\n      <td>1.0</td>\n      <td>0.0</td>\n      <td>0.000000</td>\n      <td>0.000000</td>\n      <td>0.062500</td>\n      <td>0.0</td>\n      <td>0.0</td>\n      <td>0.0</td>\n      <td>1.0</td>\n    </tr>\n    <tr>\n      <th>95887</th>\n      <td>3.440401</td>\n      <td>Bruno Miguel Borges Fernandes</td>\n      <td>10</td>\n      <td>302</td>\n      <td>6.0</td>\n      <td>2020-21</td>\n      <td>1.0</td>\n      <td>0.666667</td>\n      <td>0.500000</td>\n      <td>0.444444</td>\n      <td>...</td>\n      <td>105.555556</td>\n      <td>0.0</td>\n      <td>0.0</td>\n      <td>0.333333</td>\n      <td>0.166667</td>\n      <td>0.222222</td>\n      <td>0.0</td>\n      <td>0.0</td>\n      <td>0.0</td>\n      <td>1.0</td>\n    </tr>\n    <tr>\n      <th>22988</th>\n      <td>3.431024</td>\n      <td>Harry_Kane</td>\n      <td>37</td>\n      <td>403</td>\n      <td>17.0</td>\n      <td>2016-17</td>\n      <td>1.0</td>\n      <td>0.333333</td>\n      <td>0.500000</td>\n      <td>0.189189</td>\n      <td>...</td>\n      <td>111.108108</td>\n      <td>0.0</td>\n      <td>0.0</td>\n      <td>0.000000</td>\n      <td>0.333333</td>\n      <td>0.081081</td>\n      <td>0.0</td>\n      <td>1.0</td>\n      <td>0.0</td>\n      <td>0.0</td>\n    </tr>\n    <tr>\n      <th>115422</th>\n      <td>3.416360</td>\n      <td>Mohamed Salah</td>\n      <td>2</td>\n      <td>233</td>\n      <td>10.0</td>\n      <td>2021-22</td>\n      <td>0.0</td>\n      <td>1.000000</td>\n      <td>1.000000</td>\n      <td>1.000000</td>\n      <td>...</td>\n      <td>125.500000</td>\n      <td>1.0</td>\n      <td>0.0</td>\n      <td>0.000000</td>\n      <td>0.000000</td>\n      <td>0.000000</td>\n      <td>0.0</td>\n      <td>0.0</td>\n      <td>0.0</td>\n      <td>1.0</td>\n    </tr>\n  </tbody>\n</table>\n<p>10 rows × 107 columns</p>\n</div>"
     },
     "execution_count": 31,
     "metadata": {},
     "output_type": "execute_result"
    }
   ],
   "source": [
    "#preview predictions_svr sorted by predicted total points descending\n",
    "predictions_svr.sort_values(by='predicted_total_points_next_gameweek', ascending=False).head(10)"
   ],
   "metadata": {
    "collapsed": false,
    "pycharm": {
     "name": "#%%\n"
    }
   }
  },
  {
   "cell_type": "markdown",
   "source": [
    "### Train baseline MLP model"
   ],
   "metadata": {
    "collapsed": false,
    "pycharm": {
     "name": "#%% md\n"
    }
   }
  },
  {
   "cell_type": "code",
   "execution_count": 32,
   "outputs": [],
   "source": [
    "import tensorflow as tf"
   ],
   "metadata": {
    "collapsed": false,
    "pycharm": {
     "name": "#%%\n"
    }
   }
  },
  {
   "cell_type": "code",
   "execution_count": 33,
   "outputs": [],
   "source": [
    "model_mlp = tf.keras.models.Sequential()\n",
    "\n",
    "model_mlp.add(tf.keras.layers.Dense(units=128, activation='relu', input_shape=(x_train.shape[1],)))\n",
    "model_mlp.add(tf.keras.layers.Dense(units=256, activation='relu'))\n",
    "model_mlp.add(tf.keras.layers.Dense(units=256, activation='relu'))\n",
    "model_mlp.add(tf.keras.layers.Dense(units=126, activation='relu'))\n",
    "model_mlp.add(tf.keras.layers.Dense(units=64, activation='relu'))\n",
    "model_mlp.add(tf.keras.layers.Dense(units=1, activation='linear'))\n"
   ],
   "metadata": {
    "collapsed": false,
    "pycharm": {
     "name": "#%%\n"
    }
   }
  },
  {
   "cell_type": "code",
   "execution_count": 34,
   "outputs": [],
   "source": [
    "model_mlp.compile(optimizer='adam',\n",
    "                  loss='mse')"
   ],
   "metadata": {
    "collapsed": false,
    "pycharm": {
     "name": "#%%model_mlp.compile(optimizer='adam', loss='mse')\n"
    }
   }
  },
  {
   "cell_type": "code",
   "execution_count": 35,
   "outputs": [
    {
     "name": "stdout",
     "output_type": "stream",
     "text": [
      "Epoch 1/15\n",
      "4533/4533 [==============================] - 6s 1ms/step - loss: 4.6198 - val_loss: 4.4820\n",
      "Epoch 2/15\n",
      "4533/4533 [==============================] - 6s 1ms/step - loss: 4.5281 - val_loss: 4.4620\n",
      "Epoch 3/15\n",
      "4533/4533 [==============================] - 6s 1ms/step - loss: 4.5203 - val_loss: 4.6863\n",
      "Epoch 4/15\n",
      "4533/4533 [==============================] - 6s 1ms/step - loss: 4.5029 - val_loss: 4.5997\n",
      "Epoch 5/15\n",
      "4533/4533 [==============================] - 6s 1ms/step - loss: 4.4864 - val_loss: 4.5160\n",
      "Epoch 6/15\n",
      "4533/4533 [==============================] - 6s 1ms/step - loss: 4.4837 - val_loss: 4.4829\n",
      "Epoch 7/15\n",
      "4533/4533 [==============================] - 6s 1ms/step - loss: 4.4779 - val_loss: 4.4627\n",
      "Epoch 8/15\n",
      "4533/4533 [==============================] - 7s 1ms/step - loss: 4.4649 - val_loss: 4.4641\n",
      "Epoch 9/15\n",
      "4533/4533 [==============================] - 6s 1ms/step - loss: 4.4659 - val_loss: 4.5162\n",
      "Epoch 10/15\n",
      "4533/4533 [==============================] - 6s 1ms/step - loss: 4.4567 - val_loss: 4.4705\n",
      "Epoch 11/15\n",
      "4533/4533 [==============================] - 6s 1ms/step - loss: 4.4459 - val_loss: 4.4702\n",
      "Epoch 12/15\n",
      "4533/4533 [==============================] - 6s 1ms/step - loss: 4.4330 - val_loss: 4.4988\n",
      "Epoch 13/15\n",
      "4533/4533 [==============================] - 6s 1ms/step - loss: 4.4296 - val_loss: 4.5654\n",
      "Epoch 14/15\n",
      "4533/4533 [==============================] - 6s 1ms/step - loss: 4.4299 - val_loss: 4.4909\n",
      "Epoch 15/15\n",
      "4533/4533 [==============================] - 6s 1ms/step - loss: 4.4141 - val_loss: 4.4842\n"
     ]
    }
   ],
   "source": [
    "history = model_mlp.fit(x_train, y_train,\n",
    "                        batch_size=16,\n",
    "                        epochs=15,\n",
    "                        validation_split=0.3)"
   ],
   "metadata": {
    "collapsed": false,
    "pycharm": {
     "name": "#%%\n"
    }
   }
  },
  {
   "cell_type": "code",
   "execution_count": 36,
   "outputs": [
    {
     "name": "stdout",
     "output_type": "stream",
     "text": [
      "Test loss: 4.474314212799072\n"
     ]
    }
   ],
   "source": [
    "score = model_mlp.evaluate(x_test, y_test, verbose=0)\n",
    "print('Test loss:', score)"
   ],
   "metadata": {
    "collapsed": false,
    "pycharm": {
     "name": "#%%\n"
    }
   }
  },
  {
   "cell_type": "code",
   "execution_count": 37,
   "outputs": [
    {
     "data": {
      "text/plain": "<Figure size 432x288 with 1 Axes>",
      "image/png": "[encoded data removed]"
     },
     "metadata": {
      "needs_background": "light"
     },
     "output_type": "display_data"
    }
   ],
   "source": [
    "# Plot training & validation loss values\n",
    "plt.plot(history.history['loss'])\n",
    "plt.plot(history.history['val_loss'])\n",
    "plt.title('Model loss')\n",
    "plt.ylabel('Loss')\n",
    "plt.xlabel('Epoch')\n",
    "plt.legend(['Train', 'Test'], loc='upper left')\n",
    "plt.show()"
   ],
   "metadata": {
    "collapsed": false,
    "pycharm": {
     "name": "#%%\n"
    }
   }
  },
  {
   "cell_type": "code",
   "execution_count": 38,
   "outputs": [],
   "source": [
    "y_pred_mlp = pd.Series(model_mlp.predict(x_test).reshape(-1,), index=y_test.index, name='predicted_total_points_next_gameweek')"
   ],
   "metadata": {
    "collapsed": false,
    "pycharm": {
     "name": "#%%\n"
    }
   }
  },
  {
   "cell_type": "code",
   "execution_count": 47,
   "outputs": [
    {
     "data": {
      "text/plain": "        predicted_total_points_next_gameweek                           name  \\\n123173                              7.110708                  Mohamed Salah   \n57658                               7.107231              Mohamed_Salah_253   \n51821                               6.782342              Mohamed_Salah_253   \n63286                               6.781772            Raheem_Sterling_270   \n115422                              6.776352                  Mohamed Salah   \n54005                               6.766160              Mohamed_Salah_253   \n92744                               6.718550  Bruno Miguel Borges Fernandes   \n97143                               6.580189                  Mohamed Salah   \n68636                               6.499481              Mohamed_Salah_191   \n78285                               6.487237                Sadio_ManÃ©_192   \n\n        GW  element  total_points_next_gameweek   season  assists  assists-3  \\\n123173  14      233                         6.0  2021-22      0.0   0.333333   \n57658   21      253                        11.0  2018-19      0.0   0.666667   \n51821   11      253                         8.0  2018-19      0.0   0.666667   \n63286   32      270                         0.0  2018-19      0.0   0.000000   \n115422   2      233                        10.0  2021-22      0.0   1.000000   \n54005   15      253                        21.0  2018-19      1.0   0.333333   \n92744    5      302                         3.0  2020-21      1.0   0.666667   \n97143   12      254                         7.0  2020-21      0.0   0.666667   \n68636    2      191                        15.0  2019-20      0.0   0.500000   \n78285   19      192                        11.0  2019-20      1.0   0.666667   \n\n        assists-6  assists-all  ...   value-all  was_home  yellow_cards  \\\n123173   0.666667     0.642857  ...  127.285714       0.0           0.0   \n57658    0.500000     0.380952  ...  130.142857       0.0           0.0   \n51821    0.333333     0.363636  ...  129.545455       0.0           0.0   \n63286    0.166667     0.419355  ...  112.677419       0.0           0.0   \n115422   1.000000     1.000000  ...  125.500000       1.0           0.0   \n54005    0.500000     0.333333  ...  129.666667       0.0           0.0   \n92744    0.500000     0.500000  ...  105.000000       0.0           0.0   \n97143    0.333333     0.250000  ...  122.250000       0.0           0.0   \n68636    0.500000     0.500000  ...  125.000000       0.0           0.0   \n78285    0.666667     0.444444  ...  118.388889       0.0           0.0   \n\n        yellow_cards-3  yellow_cards-6  yellow_cards-all  position_DEF  \\\n123173        0.000000            0.00          0.071429           0.0   \n57658         0.000000            0.00          0.000000           0.0   \n51821         0.000000            0.00          0.000000           0.0   \n63286         0.000000            0.00          0.064516           0.0   \n115422        0.000000            0.00          0.000000           0.0   \n54005         0.000000            0.00          0.000000           0.0   \n92744         0.333333            0.25          0.250000           0.0   \n97143         0.000000            0.00          0.000000           0.0   \n68636         0.000000            0.00          0.000000           0.0   \n78285         0.000000            0.00          0.055556           0.0   \n\n        position_FWD  position_GK  position_MID  \n123173           0.0          0.0           1.0  \n57658            0.0          0.0           1.0  \n51821            0.0          0.0           1.0  \n63286            0.0          0.0           1.0  \n115422           0.0          0.0           1.0  \n54005            0.0          0.0           1.0  \n92744            0.0          0.0           1.0  \n97143            0.0          0.0           1.0  \n68636            0.0          0.0           1.0  \n78285            0.0          0.0           1.0  \n\n[10 rows x 107 columns]",
      "text/html": "<div>\n<style scoped>\n    .dataframe tbody tr th:only-of-type {\n        vertical-align: middle;\n    }\n\n    .dataframe tbody tr th {\n        vertical-align: top;\n    }\n\n    .dataframe thead th {\n        text-align: right;\n    }\n</style>\n<table border=\"1\" class=\"dataframe\">\n  <thead>\n    <tr style=\"text-align: right;\">\n      <th></th>\n      <th>predicted_total_points_next_gameweek</th>\n      <th>name</th>\n      <th>GW</th>\n      <th>element</th>\n      <th>total_points_next_gameweek</th>\n      <th>season</th>\n      <th>assists</th>\n      <th>assists-3</th>\n      <th>assists-6</th>\n      <th>assists-all</th>\n      <th>...</th>\n      <th>value-all</th>\n      <th>was_home</th>\n      <th>yellow_cards</th>\n      <th>yellow_cards-3</th>\n      <th>yellow_cards-6</th>\n      <th>yellow_cards-all</th>\n      <th>position_DEF</th>\n      <th>position_FWD</th>\n      <th>position_GK</th>\n      <th>position_MID</th>\n    </tr>\n  </thead>\n  <tbody>\n    <tr>\n      <th>123173</th>\n      <td>7.110708</td>\n      <td>Mohamed Salah</td>\n      <td>14</td>\n      <td>233</td>\n      <td>6.0</td>\n      <td>2021-22</td>\n      <td>0.0</td>\n      <td>0.333333</td>\n      <td>0.666667</td>\n      <td>0.642857</td>\n      <td>...</td>\n      <td>127.285714</td>\n      <td>0.0</td>\n      <td>0.0</td>\n      <td>0.000000</td>\n      <td>0.00</td>\n      <td>0.071429</td>\n      <td>0.0</td>\n      <td>0.0</td>\n      <td>0.0</td>\n      <td>1.0</td>\n    </tr>\n    <tr>\n      <th>57658</th>\n      <td>7.107231</td>\n      <td>Mohamed_Salah_253</td>\n      <td>21</td>\n      <td>253</td>\n      <td>11.0</td>\n      <td>2018-19</td>\n      <td>0.0</td>\n      <td>0.666667</td>\n      <td>0.500000</td>\n      <td>0.380952</td>\n      <td>...</td>\n      <td>130.142857</td>\n      <td>0.0</td>\n      <td>0.0</td>\n      <td>0.000000</td>\n      <td>0.00</td>\n      <td>0.000000</td>\n      <td>0.0</td>\n      <td>0.0</td>\n      <td>0.0</td>\n      <td>1.0</td>\n    </tr>\n    <tr>\n      <th>51821</th>\n      <td>6.782342</td>\n      <td>Mohamed_Salah_253</td>\n      <td>11</td>\n      <td>253</td>\n      <td>8.0</td>\n      <td>2018-19</td>\n      <td>0.0</td>\n      <td>0.666667</td>\n      <td>0.333333</td>\n      <td>0.363636</td>\n      <td>...</td>\n      <td>129.545455</td>\n      <td>0.0</td>\n      <td>0.0</td>\n      <td>0.000000</td>\n      <td>0.00</td>\n      <td>0.000000</td>\n      <td>0.0</td>\n      <td>0.0</td>\n      <td>0.0</td>\n      <td>1.0</td>\n    </tr>\n    <tr>\n      <th>63286</th>\n      <td>6.781772</td>\n      <td>Raheem_Sterling_270</td>\n      <td>32</td>\n      <td>270</td>\n      <td>0.0</td>\n      <td>2018-19</td>\n      <td>0.0</td>\n      <td>0.000000</td>\n      <td>0.166667</td>\n      <td>0.419355</td>\n      <td>...</td>\n      <td>112.677419</td>\n      <td>0.0</td>\n      <td>0.0</td>\n      <td>0.000000</td>\n      <td>0.00</td>\n      <td>0.064516</td>\n      <td>0.0</td>\n      <td>0.0</td>\n      <td>0.0</td>\n      <td>1.0</td>\n    </tr>\n    <tr>\n      <th>115422</th>\n      <td>6.776352</td>\n      <td>Mohamed Salah</td>\n      <td>2</td>\n      <td>233</td>\n      <td>10.0</td>\n      <td>2021-22</td>\n      <td>0.0</td>\n      <td>1.000000</td>\n      <td>1.000000</td>\n      <td>1.000000</td>\n      <td>...</td>\n      <td>125.500000</td>\n      <td>1.0</td>\n      <td>0.0</td>\n      <td>0.000000</td>\n      <td>0.00</td>\n      <td>0.000000</td>\n      <td>0.0</td>\n      <td>0.0</td>\n      <td>0.0</td>\n      <td>1.0</td>\n    </tr>\n    <tr>\n      <th>54005</th>\n      <td>6.766160</td>\n      <td>Mohamed_Salah_253</td>\n      <td>15</td>\n      <td>253</td>\n      <td>21.0</td>\n      <td>2018-19</td>\n      <td>1.0</td>\n      <td>0.333333</td>\n      <td>0.500000</td>\n      <td>0.333333</td>\n      <td>...</td>\n      <td>129.666667</td>\n      <td>0.0</td>\n      <td>0.0</td>\n      <td>0.000000</td>\n      <td>0.00</td>\n      <td>0.000000</td>\n      <td>0.0</td>\n      <td>0.0</td>\n      <td>0.0</td>\n      <td>1.0</td>\n    </tr>\n    <tr>\n      <th>92744</th>\n      <td>6.718550</td>\n      <td>Bruno Miguel Borges Fernandes</td>\n      <td>5</td>\n      <td>302</td>\n      <td>3.0</td>\n      <td>2020-21</td>\n      <td>1.0</td>\n      <td>0.666667</td>\n      <td>0.500000</td>\n      <td>0.500000</td>\n      <td>...</td>\n      <td>105.000000</td>\n      <td>0.0</td>\n      <td>0.0</td>\n      <td>0.333333</td>\n      <td>0.25</td>\n      <td>0.250000</td>\n      <td>0.0</td>\n      <td>0.0</td>\n      <td>0.0</td>\n      <td>1.0</td>\n    </tr>\n    <tr>\n      <th>97143</th>\n      <td>6.580189</td>\n      <td>Mohamed Salah</td>\n      <td>12</td>\n      <td>254</td>\n      <td>7.0</td>\n      <td>2020-21</td>\n      <td>0.0</td>\n      <td>0.666667</td>\n      <td>0.333333</td>\n      <td>0.250000</td>\n      <td>...</td>\n      <td>122.250000</td>\n      <td>0.0</td>\n      <td>0.0</td>\n      <td>0.000000</td>\n      <td>0.00</td>\n      <td>0.000000</td>\n      <td>0.0</td>\n      <td>0.0</td>\n      <td>0.0</td>\n      <td>1.0</td>\n    </tr>\n    <tr>\n      <th>68636</th>\n      <td>6.499481</td>\n      <td>Mohamed_Salah_191</td>\n      <td>2</td>\n      <td>191</td>\n      <td>15.0</td>\n      <td>2019-20</td>\n      <td>0.0</td>\n      <td>0.500000</td>\n      <td>0.500000</td>\n      <td>0.500000</td>\n      <td>...</td>\n      <td>125.000000</td>\n      <td>0.0</td>\n      <td>0.0</td>\n      <td>0.000000</td>\n      <td>0.00</td>\n      <td>0.000000</td>\n      <td>0.0</td>\n      <td>0.0</td>\n      <td>0.0</td>\n      <td>1.0</td>\n    </tr>\n    <tr>\n      <th>78285</th>\n      <td>6.487237</td>\n      <td>Sadio_ManÃ©_192</td>\n      <td>19</td>\n      <td>192</td>\n      <td>11.0</td>\n      <td>2019-20</td>\n      <td>1.0</td>\n      <td>0.666667</td>\n      <td>0.666667</td>\n      <td>0.444444</td>\n      <td>...</td>\n      <td>118.388889</td>\n      <td>0.0</td>\n      <td>0.0</td>\n      <td>0.000000</td>\n      <td>0.00</td>\n      <td>0.055556</td>\n      <td>0.0</td>\n      <td>0.0</td>\n      <td>0.0</td>\n      <td>1.0</td>\n    </tr>\n  </tbody>\n</table>\n<p>10 rows × 107 columns</p>\n</div>"
     },
     "execution_count": 47,
     "metadata": {},
     "output_type": "execute_result"
    }
   ],
   "source": [
    "predictions_mlp = pd.concat([y_pred_mlp, x_test_reversed], axis=1)\n",
    "#preview predictions_mlp sorted by predicted total points descending\n",
    "predictions_mlp.sort_values(by='predicted_total_points_next_gameweek', ascending=False).head(10)"
   ],
   "metadata": {
    "collapsed": false,
    "pycharm": {
     "name": "#%%\n"
    }
   }
  },
  {
   "cell_type": "markdown",
   "source": [
    "## Train on baseline XGBoost model"
   ],
   "metadata": {
    "collapsed": false,
    "pycharm": {
     "name": "#%% md\n"
    }
   }
  },
  {
   "cell_type": "code",
   "execution_count": 40,
   "outputs": [],
   "source": [
    "import xgboost as xgb"
   ],
   "metadata": {
    "collapsed": false,
    "pycharm": {
     "name": "#%%\n"
    }
   }
  },
  {
   "cell_type": "code",
   "execution_count": 41,
   "outputs": [],
   "source": [
    "model_xgb = xgb.XGBRegressor()"
   ],
   "metadata": {
    "collapsed": false,
    "pycharm": {
     "name": "#%%\n"
    }
   }
  },
  {
   "cell_type": "code",
   "execution_count": 42,
   "outputs": [
    {
     "data": {
      "text/plain": "XGBRegressor(base_score=0.5, booster='gbtree', callbacks=None,\n             colsample_bylevel=1, colsample_bynode=1, colsample_bytree=1,\n             early_stopping_rounds=None, enable_categorical=False,\n             eval_metric=None, gamma=0, gpu_id=-1, grow_policy='depthwise',\n             importance_type=None, interaction_constraints='',\n             learning_rate=0.300000012, max_bin=256, max_cat_to_onehot=4,\n             max_delta_step=0, max_depth=6, max_leaves=0, min_child_weight=1,\n             missing=nan, monotone_constraints='()', n_estimators=100, n_jobs=0,\n             num_parallel_tree=1, predictor='auto', random_state=0, reg_alpha=0,\n             reg_lambda=1, ...)"
     },
     "execution_count": 42,
     "metadata": {},
     "output_type": "execute_result"
    }
   ],
   "source": [
    "model_xgb.fit(x_train, y_train)"
   ],
   "metadata": {
    "collapsed": false,
    "pycharm": {
     "name": "#%%\n"
    }
   }
  },
  {
   "cell_type": "code",
   "execution_count": 43,
   "outputs": [],
   "source": [
    "# create series to keep indexes and name same as in the original y data\n",
    "y_pred_xgb = pd.Series(model_xgb.predict(x_test), index=y_test.index,\n",
    "                        name='predicted_total_points_next_gameweek')"
   ],
   "metadata": {
    "collapsed": false,
    "pycharm": {
     "name": "#%%\n"
    }
   }
  },
  {
   "cell_type": "code",
   "execution_count": 44,
   "outputs": [
    {
     "data": {
      "text/plain": "        predicted_total_points_next_gameweek                           name  \\\n37215                              11.021213                  Mohamed_Salah   \n95887                              10.671134  Bruno Miguel Borges Fernandes   \n23852                              10.388957                  Wilfried_Zaha   \n8205                                9.972853              Christian_Benteke   \n36532                               9.813643                Kevin_De Bruyne   \n53593                               9.368018                Eden_Hazard_122   \n57658                               9.160844              Mohamed_Salah_253   \n28658                               9.136830                Kevin_De Bruyne   \n110925                              9.062270                     Chris Wood   \n115334                              9.021613                Freddie Woodman   \n\n        GW  element  total_points_next_gameweek   season  assists  assists-3  \\\n37215   24      234                         8.0  2017-18      0.0   0.333333   \n95887   10      302                         6.0  2020-21      1.0   0.666667   \n23852    1      126                         0.0  2017-18      0.0   0.000000   \n8205    15      213                         2.0  2016-17      0.0   0.333333   \n36532   23      252                         6.0  2017-18      0.0   0.666667   \n53593   14      122                         5.0  2018-19      1.0   0.333333   \n57658   21      253                        11.0  2018-19      0.0   0.666667   \n28658   10      252                        10.0  2017-18      0.0   1.000000   \n110925  33       91                         6.0  2020-21      1.0   0.666667   \n115334   1      513                         1.0  2021-22      0.0   0.000000   \n\n        assists-6  assists-all  ...   value-all  was_home  yellow_cards  \\\n37215    0.666667     0.333333  ...   95.666667       0.0           0.0   \n95887    0.500000     0.444444  ...  105.555556       0.0           0.0   \n23852    0.000000     0.000000  ...   70.000000       1.0           0.0   \n8205     0.166667     0.066667  ...   75.600000       0.0           0.0   \n36532    0.500000     0.478261  ...  101.086957       0.0           0.0   \n53593    0.333333     0.357143  ...  109.714286       1.0           0.0   \n57658    0.500000     0.380952  ...  130.142857       0.0           0.0   \n28658    0.666667     0.600000  ...   99.900000       0.0           0.0   \n110925   0.500000     0.090909  ...   62.515152       0.0           0.0   \n115334   0.000000     0.000000  ...   45.000000       1.0           0.0   \n\n        yellow_cards-3  yellow_cards-6  yellow_cards-all  position_DEF  \\\n37215         0.000000        0.000000          0.000000           0.0   \n95887         0.333333        0.166667          0.222222           0.0   \n23852         0.000000        0.000000          0.000000           0.0   \n8205          0.333333        0.166667          0.200000           0.0   \n36532         0.000000        0.000000          0.043478           0.0   \n53593         0.333333        0.333333          0.142857           0.0   \n57658         0.000000        0.000000          0.000000           0.0   \n28658         0.000000        0.000000          0.000000           0.0   \n110925        0.000000        0.000000          0.000000           0.0   \n115334        0.000000        0.000000          0.000000           0.0   \n\n        position_FWD  position_GK  position_MID  \n37215            0.0          0.0           1.0  \n95887            0.0          0.0           1.0  \n23852            0.0          0.0           1.0  \n8205             1.0          0.0           0.0  \n36532            0.0          0.0           1.0  \n53593            0.0          0.0           1.0  \n57658            0.0          0.0           1.0  \n28658            0.0          0.0           1.0  \n110925           1.0          0.0           0.0  \n115334           0.0          1.0           0.0  \n\n[10 rows x 107 columns]",
      "text/html": "<div>\n<style scoped>\n    .dataframe tbody tr th:only-of-type {\n        vertical-align: middle;\n    }\n\n    .dataframe tbody tr th {\n        vertical-align: top;\n    }\n\n    .dataframe thead th {\n        text-align: right;\n    }\n</style>\n<table border=\"1\" class=\"dataframe\">\n  <thead>\n    <tr style=\"text-align: right;\">\n      <th></th>\n      <th>predicted_total_points_next_gameweek</th>\n      <th>name</th>\n      <th>GW</th>\n      <th>element</th>\n      <th>total_points_next_gameweek</th>\n      <th>season</th>\n      <th>assists</th>\n      <th>assists-3</th>\n      <th>assists-6</th>\n      <th>assists-all</th>\n      <th>...</th>\n      <th>value-all</th>\n      <th>was_home</th>\n      <th>yellow_cards</th>\n      <th>yellow_cards-3</th>\n      <th>yellow_cards-6</th>\n      <th>yellow_cards-all</th>\n      <th>position_DEF</th>\n      <th>position_FWD</th>\n      <th>position_GK</th>\n      <th>position_MID</th>\n    </tr>\n  </thead>\n  <tbody>\n    <tr>\n      <th>37215</th>\n      <td>11.021213</td>\n      <td>Mohamed_Salah</td>\n      <td>24</td>\n      <td>234</td>\n      <td>8.0</td>\n      <td>2017-18</td>\n      <td>0.0</td>\n      <td>0.333333</td>\n      <td>0.666667</td>\n      <td>0.333333</td>\n      <td>...</td>\n      <td>95.666667</td>\n      <td>0.0</td>\n      <td>0.0</td>\n      <td>0.000000</td>\n      <td>0.000000</td>\n      <td>0.000000</td>\n      <td>0.0</td>\n      <td>0.0</td>\n      <td>0.0</td>\n      <td>1.0</td>\n    </tr>\n    <tr>\n      <th>95887</th>\n      <td>10.671134</td>\n      <td>Bruno Miguel Borges Fernandes</td>\n      <td>10</td>\n      <td>302</td>\n      <td>6.0</td>\n      <td>2020-21</td>\n      <td>1.0</td>\n      <td>0.666667</td>\n      <td>0.500000</td>\n      <td>0.444444</td>\n      <td>...</td>\n      <td>105.555556</td>\n      <td>0.0</td>\n      <td>0.0</td>\n      <td>0.333333</td>\n      <td>0.166667</td>\n      <td>0.222222</td>\n      <td>0.0</td>\n      <td>0.0</td>\n      <td>0.0</td>\n      <td>1.0</td>\n    </tr>\n    <tr>\n      <th>23852</th>\n      <td>10.388957</td>\n      <td>Wilfried_Zaha</td>\n      <td>1</td>\n      <td>126</td>\n      <td>0.0</td>\n      <td>2017-18</td>\n      <td>0.0</td>\n      <td>0.000000</td>\n      <td>0.000000</td>\n      <td>0.000000</td>\n      <td>...</td>\n      <td>70.000000</td>\n      <td>1.0</td>\n      <td>0.0</td>\n      <td>0.000000</td>\n      <td>0.000000</td>\n      <td>0.000000</td>\n      <td>0.0</td>\n      <td>0.0</td>\n      <td>0.0</td>\n      <td>1.0</td>\n    </tr>\n    <tr>\n      <th>8205</th>\n      <td>9.972853</td>\n      <td>Christian_Benteke</td>\n      <td>15</td>\n      <td>213</td>\n      <td>2.0</td>\n      <td>2016-17</td>\n      <td>0.0</td>\n      <td>0.333333</td>\n      <td>0.166667</td>\n      <td>0.066667</td>\n      <td>...</td>\n      <td>75.600000</td>\n      <td>0.0</td>\n      <td>0.0</td>\n      <td>0.333333</td>\n      <td>0.166667</td>\n      <td>0.200000</td>\n      <td>0.0</td>\n      <td>1.0</td>\n      <td>0.0</td>\n      <td>0.0</td>\n    </tr>\n    <tr>\n      <th>36532</th>\n      <td>9.813643</td>\n      <td>Kevin_De Bruyne</td>\n      <td>23</td>\n      <td>252</td>\n      <td>6.0</td>\n      <td>2017-18</td>\n      <td>0.0</td>\n      <td>0.666667</td>\n      <td>0.500000</td>\n      <td>0.478261</td>\n      <td>...</td>\n      <td>101.086957</td>\n      <td>0.0</td>\n      <td>0.0</td>\n      <td>0.000000</td>\n      <td>0.000000</td>\n      <td>0.043478</td>\n      <td>0.0</td>\n      <td>0.0</td>\n      <td>0.0</td>\n      <td>1.0</td>\n    </tr>\n    <tr>\n      <th>53593</th>\n      <td>9.368018</td>\n      <td>Eden_Hazard_122</td>\n      <td>14</td>\n      <td>122</td>\n      <td>5.0</td>\n      <td>2018-19</td>\n      <td>1.0</td>\n      <td>0.333333</td>\n      <td>0.333333</td>\n      <td>0.357143</td>\n      <td>...</td>\n      <td>109.714286</td>\n      <td>1.0</td>\n      <td>0.0</td>\n      <td>0.333333</td>\n      <td>0.333333</td>\n      <td>0.142857</td>\n      <td>0.0</td>\n      <td>0.0</td>\n      <td>0.0</td>\n      <td>1.0</td>\n    </tr>\n    <tr>\n      <th>57658</th>\n      <td>9.160844</td>\n      <td>Mohamed_Salah_253</td>\n      <td>21</td>\n      <td>253</td>\n      <td>11.0</td>\n      <td>2018-19</td>\n      <td>0.0</td>\n      <td>0.666667</td>\n      <td>0.500000</td>\n      <td>0.380952</td>\n      <td>...</td>\n      <td>130.142857</td>\n      <td>0.0</td>\n      <td>0.0</td>\n      <td>0.000000</td>\n      <td>0.000000</td>\n      <td>0.000000</td>\n      <td>0.0</td>\n      <td>0.0</td>\n      <td>0.0</td>\n      <td>1.0</td>\n    </tr>\n    <tr>\n      <th>28658</th>\n      <td>9.136830</td>\n      <td>Kevin_De Bruyne</td>\n      <td>10</td>\n      <td>252</td>\n      <td>10.0</td>\n      <td>2017-18</td>\n      <td>0.0</td>\n      <td>1.000000</td>\n      <td>0.666667</td>\n      <td>0.600000</td>\n      <td>...</td>\n      <td>99.900000</td>\n      <td>0.0</td>\n      <td>0.0</td>\n      <td>0.000000</td>\n      <td>0.000000</td>\n      <td>0.000000</td>\n      <td>0.0</td>\n      <td>0.0</td>\n      <td>0.0</td>\n      <td>1.0</td>\n    </tr>\n    <tr>\n      <th>110925</th>\n      <td>9.062270</td>\n      <td>Chris Wood</td>\n      <td>33</td>\n      <td>91</td>\n      <td>6.0</td>\n      <td>2020-21</td>\n      <td>1.0</td>\n      <td>0.666667</td>\n      <td>0.500000</td>\n      <td>0.090909</td>\n      <td>...</td>\n      <td>62.515152</td>\n      <td>0.0</td>\n      <td>0.0</td>\n      <td>0.000000</td>\n      <td>0.000000</td>\n      <td>0.000000</td>\n      <td>0.0</td>\n      <td>1.0</td>\n      <td>0.0</td>\n      <td>0.0</td>\n    </tr>\n    <tr>\n      <th>115334</th>\n      <td>9.021613</td>\n      <td>Freddie Woodman</td>\n      <td>1</td>\n      <td>513</td>\n      <td>1.0</td>\n      <td>2021-22</td>\n      <td>0.0</td>\n      <td>0.000000</td>\n      <td>0.000000</td>\n      <td>0.000000</td>\n      <td>...</td>\n      <td>45.000000</td>\n      <td>1.0</td>\n      <td>0.0</td>\n      <td>0.000000</td>\n      <td>0.000000</td>\n      <td>0.000000</td>\n      <td>0.0</td>\n      <td>0.0</td>\n      <td>1.0</td>\n      <td>0.0</td>\n    </tr>\n  </tbody>\n</table>\n<p>10 rows × 107 columns</p>\n</div>"
     },
     "execution_count": 44,
     "metadata": {},
     "output_type": "execute_result"
    }
   ],
   "source": [
    "predictions_xgb = pd.concat([y_pred_xgb, x_test_reversed], axis=1)\n",
    "#preview predictions_xgb sorted by predicted total points descending\n",
    "predictions_xgb.sort_values(by='predicted_total_points_next_gameweek', ascending=False).head(10)"
   ],
   "metadata": {
    "collapsed": false,
    "pycharm": {
     "name": "#%%\n"
    }
   }
  },
  {
   "cell_type": "code",
   "execution_count": 45,
   "outputs": [
    {
     "data": {
      "text/plain": "4.555912158158739"
     },
     "execution_count": 45,
     "metadata": {},
     "output_type": "execute_result"
    }
   ],
   "source": [
    "mean_squared_error(y_pred_xgb, y_test)"
   ],
   "metadata": {
    "collapsed": false,
    "pycharm": {
     "name": "#%%\n"
    }
   }
  },
  {
   "cell_type": "code",
   "execution_count": 46,
   "outputs": [
    {
     "name": "stdout",
     "output_type": "stream",
     "text": [
      "Feature 0: assists, Score: 0.0007800000021234155\n",
      "Feature 1: assists-3, Score: 0.0017999999690800905\n",
      "Feature 2: assists-6, Score: 0.0020600000862032175\n",
      "Feature 3: assists-all, Score: 0.0026700000744313\n",
      "Feature 4: bonus, Score: 0.0015200000489130616\n",
      "Feature 5: bonus-3, Score: 0.003109999932348728\n",
      "Feature 6: bonus-6, Score: 0.0024300001095980406\n",
      "Feature 7: bonus-all, Score: 0.004100000020116568\n",
      "Feature 8: bps, Score: 0.0028699999675154686\n",
      "Feature 9: bps-3, Score: 0.004900000058114529\n",
      "Feature 10: bps-6, Score: 0.0044999998062849045\n",
      "Feature 11: bps-all, Score: 0.005429999902844429\n",
      "Feature 12: clean_sheets, Score: 0.004980000201612711\n",
      "Feature 13: clean_sheets-3, Score: 0.0031900000758469105\n",
      "Feature 14: clean_sheets-6, Score: 0.004559999797493219\n",
      "Feature 15: clean_sheets-all, Score: 0.004310000222176313\n",
      "Feature 16: creativity, Score: 0.004470000043511391\n",
      "Feature 17: creativity-3, Score: 0.005890000145882368\n",
      "Feature 18: creativity-6, Score: 0.004749999847263098\n",
      "Feature 19: creativity-all, Score: 0.004910000134259462\n",
      "Feature 20: goals_conceded, Score: 0.0031500000040978193\n",
      "Feature 21: goals_conceded-3, Score: 0.004000000189989805\n",
      "Feature 22: goals_conceded-6, Score: 0.004290000069886446\n",
      "Feature 23: goals_conceded-all, Score: 0.00558000011369586\n",
      "Feature 24: goals_scored, Score: 0.0077599999494850636\n",
      "Feature 25: goals_scored-3, Score: 0.003010000102221966\n",
      "Feature 26: goals_scored-6, Score: 0.002940000034868717\n",
      "Feature 27: goals_scored-all, Score: 0.004559999797493219\n",
      "Feature 28: ict_index, Score: 0.024940000846982002\n",
      "Feature 29: ict_index-3, Score: 0.017470000311732292\n",
      "Feature 30: ict_index-6, Score: 0.011749999597668648\n",
      "Feature 31: ict_index-all, Score: 0.005679999943822622\n",
      "Feature 32: influence, Score: 0.005439999978989363\n",
      "Feature 33: influence-3, Score: 0.006260000169277191\n",
      "Feature 34: influence-6, Score: 0.005309999920427799\n",
      "Feature 35: influence-all, Score: 0.0055599999614059925\n",
      "Feature 36: minutes, Score: 0.41464999318122864\n",
      "Feature 37: minutes-3, Score: 0.005590000189840794\n",
      "Feature 38: minutes-6, Score: 0.008500000461935997\n",
      "Feature 39: minutes-all, Score: 0.00535999983549118\n",
      "Feature 40: own_goals, Score: 0.004029999952763319\n",
      "Feature 41: own_goals-3, Score: 0.0\n",
      "Feature 42: own_goals-6, Score: 0.0037899999879300594\n",
      "Feature 43: own_goals-all, Score: 0.004840000066906214\n",
      "Feature 44: penalties_missed, Score: 0.011289999820291996\n",
      "Feature 45: penalties_missed-3, Score: 0.0\n",
      "Feature 46: penalties_missed-6, Score: 0.0031399999279528856\n",
      "Feature 47: penalties_missed-all, Score: 0.007329999934881926\n",
      "Feature 48: penalties_saved, Score: 0.0\n",
      "Feature 49: penalties_saved-3, Score: 0.003599999938160181\n",
      "Feature 50: penalties_saved-6, Score: 0.0009699999936856329\n",
      "Feature 51: penalties_saved-all, Score: 0.002319999970495701\n",
      "Feature 52: red_cards, Score: 0.011880000121891499\n",
      "Feature 53: red_cards-3, Score: 0.001979999942705035\n",
      "Feature 54: red_cards-6, Score: 0.006209999788552523\n",
      "Feature 55: red_cards-all, Score: 0.00494999997317791\n",
      "Feature 56: saves, Score: 0.0044999998062849045\n",
      "Feature 57: saves-3, Score: 0.0018599999602884054\n",
      "Feature 58: saves-6, Score: 0.005150000099092722\n",
      "Feature 59: saves-all, Score: 0.00913000013679266\n",
      "Feature 60: selected, Score: 0.005239999853074551\n",
      "Feature 61: selected-3, Score: 0.005090000107884407\n",
      "Feature 62: selected-6, Score: 0.009239999577403069\n",
      "Feature 63: selected-all, Score: 0.006409999914467335\n",
      "Feature 64: player_team_score, Score: 0.004619999788701534\n",
      "Feature 65: player_team_score-3, Score: 0.005090000107884407\n",
      "Feature 66: player_team_score-6, Score: 0.005520000122487545\n",
      "Feature 67: player_team_score-all, Score: 0.005929999984800816\n",
      "Feature 68: opponent_team_score, Score: 0.004449999891221523\n",
      "Feature 69: opponent_team_score-3, Score: 0.004009999800473452\n",
      "Feature 70: opponent_team_score-6, Score: 0.0047900001518428326\n",
      "Feature 71: opponent_team_score-all, Score: 0.0052999998442828655\n",
      "Feature 72: threat, Score: 0.004240000154823065\n",
      "Feature 73: threat-3, Score: 0.006519999820739031\n",
      "Feature 74: threat-6, Score: 0.005140000022947788\n",
      "Feature 75: threat-all, Score: 0.006390000227838755\n",
      "Feature 76: total_points, Score: 0.007360000163316727\n",
      "Feature 77: total_points-3, Score: 0.010259999893605709\n",
      "Feature 78: total_points-6, Score: 0.010060000233352184\n",
      "Feature 79: total_points-all, Score: 0.03988000005483627\n",
      "Feature 80: transfers_in, Score: 0.006839999929070473\n",
      "Feature 81: transfers_in-3, Score: 0.005210000090301037\n",
      "Feature 82: transfers_in-6, Score: 0.0053900000639259815\n",
      "Feature 83: transfers_in-all, Score: 0.005630000028759241\n",
      "Feature 84: transfers_out, Score: 0.005169999785721302\n",
      "Feature 85: transfers_out-3, Score: 0.005630000028759241\n",
      "Feature 86: transfers_out-6, Score: 0.005059999879449606\n",
      "Feature 87: transfers_out-all, Score: 0.0056500001810491085\n",
      "Feature 88: value, Score: 0.013530000112950802\n",
      "Feature 89: value-3, Score: 0.013269999995827675\n",
      "Feature 90: value-6, Score: 0.00880999956279993\n",
      "Feature 91: value-all, Score: 0.01363999955356121\n",
      "Feature 92: was_home, Score: 0.006339999847114086\n",
      "Feature 93: yellow_cards, Score: 0.007430000230669975\n",
      "Feature 94: yellow_cards-3, Score: 0.004900000058114529\n",
      "Feature 95: yellow_cards-6, Score: 0.005100000184029341\n",
      "Feature 96: yellow_cards-all, Score: 0.004900000058114529\n",
      "Feature 97: position_DEF, Score: 0.002859999891370535\n",
      "Feature 98: position_FWD, Score: 0.002950000111013651\n",
      "Feature 99: position_GK, Score: 0.0\n",
      "Feature 100: position_MID, Score: 0.004129999782890081\n"
     ]
    },
    {
     "data": {
      "text/plain": "<Figure size 432x288 with 1 Axes>",
      "image/png": "[encoded data removed]"
     },
     "metadata": {
      "needs_background": "light"
     },
     "output_type": "display_data"
    }
   ],
   "source": [
    "# summarize feature importance\n",
    "importance = model_xgb.feature_importances_\n",
    "for i,v in enumerate(importance):\n",
    "    print(f'Feature {i}: {x_train.columns[i]}, Score: {round(v,5)}')\n",
    "# plot feature importance\n",
    "plt.bar([x for x in range(len(importance))], importance)\n",
    "plt.show()"
   ],
   "metadata": {
    "collapsed": false,
    "pycharm": {
     "name": "#%%\n"
    }
   }
  }
 ],
 "metadata": {
  "kernelspec": {
   "display_name": "Python 3",
   "language": "python",
   "name": "python3"
  },
  "language_info": {
   "codemirror_mode": {
    "name": "ipython",
    "version": 2
   },
   "file_extension": ".py",
   "mimetype": "text/x-python",
   "name": "python",
   "nbconvert_exporter": "python",
   "pygments_lexer": "ipython2",
   "version": "2.7.6"
  }
 },
 "nbformat": 4,
 "nbformat_minor": 0
}