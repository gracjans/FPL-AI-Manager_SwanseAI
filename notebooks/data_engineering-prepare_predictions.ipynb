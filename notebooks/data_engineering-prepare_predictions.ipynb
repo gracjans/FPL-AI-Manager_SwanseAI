{
 "cells": [
  {
   "cell_type": "code",
   "execution_count": 1,
   "metadata": {
    "collapsed": false,
    "pycharm": {
     "name": "#%%\n"
    }
   },
   "outputs": [],
   "source": [
    "import pandas as pd\n",
    "import numpy as np\n",
    "import matplotlib.pyplot as plt\n",
    "\n",
    "from src.data.data_loader import load_master_team_list\n",
    "from src.data.data_loader import load_understat_team_stats\n",
    "from src.features.data_engineering import preprocess_seasons_data, reverse_processing, get_oponent_team_stats, get_merged_seasons_data\n",
    "from src.features.utils import idx_to_team_name, str_date_days_forward\n",
    "\n",
    "import xgboost as xgb"
   ]
  },
  {
   "cell_type": "code",
   "execution_count": 2,
   "outputs": [],
   "source": [
    "rolling_columns = ['assists', 'bonus', 'bps', 'clean_sheets',\n",
    "                   'creativity', 'goals_conceded', 'goals_scored',\n",
    "                   'ict_index', 'influence', 'minutes',\n",
    "                   'saves', 'selected', 'player_team_score', 'opponent_team_score', 'threat',\n",
    "                   'total_points', 'transfers_in', 'transfers_out',\n",
    "                   'value', 'yellow_cards']\n",
    "\n",
    "times = ['all', 6, 3]\n",
    "\n",
    "test_subset_XL = (['2016-17', [4, 8, 9, 14, 18, 20, 21, 26, 32]], ['2018-19', [1, 2, 3, 4, 5, 6, 7, 8, 9, 10]], ['2021-22', [17, 18, 19, 20, 21, 22, 23, 24, 25, 26]])"
   ],
   "metadata": {
    "collapsed": false,
    "pycharm": {
     "name": "#%%\n"
    }
   }
  },
  {
   "cell_type": "code",
   "execution_count": 3,
   "outputs": [],
   "source": [
    "from src.features.data_engineering import get_merged_seasons_data\n",
    "\n",
    "drop_features = ['own_goals', 'penalties_missed', 'penalties_saved', 'red_cards']\n",
    "data = get_merged_seasons_data()\n",
    "data = data.drop(drop_features, axis=1)"
   ],
   "metadata": {
    "collapsed": false,
    "pycharm": {
     "name": "#%%\n"
    }
   }
  },
  {
   "cell_type": "code",
   "execution_count": 4,
   "outputs": [],
   "source": [
    "(x_train, y_train), (x_test, y_test), (x_train_target, x_test_target), x_scaler = preprocess_seasons_data(data, random_split=False, test_subset=test_subset_XL, rolling_features=False, rolling_columns=rolling_columns, rolling_times=times, opponent_team_stats=False)"
   ],
   "metadata": {
    "collapsed": false,
    "pycharm": {
     "name": "#%%\n"
    }
   }
  },
  {
   "cell_type": "code",
   "execution_count": 5,
   "metadata": {
    "collapsed": false,
    "pycharm": {
     "name": "#%%\n"
    }
   },
   "outputs": [],
   "source": [
    "model_xgb = xgb.XGBRegressor()"
   ]
  },
  {
   "cell_type": "code",
   "execution_count": 6,
   "metadata": {
    "collapsed": false,
    "pycharm": {
     "name": "#%%\n"
    }
   },
   "outputs": [
    {
     "data": {
      "text/plain": "XGBRegressor(base_score=0.5, booster='gbtree', callbacks=None,\n             colsample_bylevel=1, colsample_bynode=1, colsample_bytree=1,\n             early_stopping_rounds=None, enable_categorical=False,\n             eval_metric=None, gamma=0, gpu_id=-1, grow_policy='depthwise',\n             importance_type=None, interaction_constraints='',\n             learning_rate=0.300000012, max_bin=256, max_cat_to_onehot=4,\n             max_delta_step=0, max_depth=6, max_leaves=0, min_child_weight=1,\n             missing=nan, monotone_constraints='()', n_estimators=100, n_jobs=0,\n             num_parallel_tree=1, predictor='auto', random_state=0, reg_alpha=0,\n             reg_lambda=1, ...)"
     },
     "execution_count": 6,
     "metadata": {},
     "output_type": "execute_result"
    }
   ],
   "source": [
    "model_xgb.fit(x_train, y_train)"
   ]
  },
  {
   "cell_type": "code",
   "execution_count": 7,
   "outputs": [],
   "source": [
    "x_test_reversed = reverse_processing(x_test, x_scaler, x_test_target)"
   ],
   "metadata": {
    "collapsed": false,
    "pycharm": {
     "name": "#%%\n"
    }
   }
  },
  {
   "cell_type": "code",
   "execution_count": 8,
   "metadata": {
    "collapsed": false,
    "pycharm": {
     "name": "#%%\n"
    }
   },
   "outputs": [],
   "source": [
    "# create series to keep indexes and name same as in the original y data\n",
    "y_pred_xgb = pd.Series(model_xgb.predict(x_test), index=y_test.index,\n",
    "                        name='predicted_total_points_next_gameweek')"
   ]
  },
  {
   "cell_type": "code",
   "execution_count": 9,
   "outputs": [
    {
     "data": {
      "text/plain": "        predicted_total_points_next_gameweek                           name  \\\n130595                             13.344357                  Mohamed Salah   \n125207                             12.045697                  Mohamed Salah   \n15488                              10.955445                     Harry_Kane   \n130251                             10.754548     JoÃ£o Pedro Cavaco Cancelo   \n128562                             10.509310  Bruno Miguel Borges Fernandes   \n10181                              10.368421             Zlatan_Ibrahimovic   \n126629                             10.336879                  Mohamed Salah   \n50234                              10.295902                 Paul_Pogba_302   \n4122                                9.428675                Kevin_De Bruyne   \n4269                                8.845166                  Callum_Wilson   \n\n        GW  element  value  total_points_next_gameweek   season  assists  \\\n130595  26      233    131                         3.0  2021-22      1.0   \n125207  18      233    131                         0.0  2021-22      0.0   \n15488   26      403    112                        13.0  2016-17      1.0   \n130251  26      256     72                         9.0  2021-22      0.0   \n128562  24      277    117                         2.0  2021-22      0.0   \n10181   18      272    115                         5.0  2016-17      2.0   \n126629  21      233    129                         0.0  2021-22      0.0   \n50234    8      302     81                         2.0  2018-19      1.0   \n4122     8      235    106                         1.0  2016-17      0.0   \n4269     8       49     64                         2.0  2016-17      1.0   \n\n        bonus   bps  ...  saves   selected  player_team_score  \\\n130595    2.0  54.0  ...    0.0  5419768.0                6.0   \n125207    0.0   8.0  ...    0.0  6483921.0                2.0   \n15488     3.0  94.0  ...    0.0   890180.0                4.0   \n130251    0.0  20.0  ...    0.0  3845997.0                2.0   \n128562    0.0  20.0  ...    0.0  1805775.0                1.0   \n10181     3.0  55.0  ...    0.0  1744404.0                3.0   \n126629    0.0  25.0  ...    0.0  5447666.0                2.0   \n50234     0.0  26.0  ...    0.0   845475.0                3.0   \n4122      0.0   6.0  ...    0.0   329474.0                1.0   \n4269      0.0  35.0  ...    0.0   106209.0                6.0   \n\n        opponent_team_score  threat  total_points  transfers_in  \\\n130595                  0.0    89.0          18.0     1263924.0   \n125207                  2.0    40.0           2.0       29513.0   \n15488                   0.0    50.0          20.0       96719.0   \n130251                  3.0    31.0           1.0       25871.0   \n128562                  1.0    53.0           2.0      132610.0   \n10181                   1.0    65.0          15.0      544685.0   \n126629                  2.0    65.0           7.0       52331.0   \n50234                   2.0    75.0           4.0       16808.0   \n4122                    1.0    75.0           0.0       17492.0   \n4269                    1.0    55.0           9.0       35553.0   \n\n        transfers_out  yellow_cards  position  \n130595         7849.0           0.0       MID  \n125207        15369.0           0.0       MID  \n15488         42698.0           0.0       FWD  \n130251       199834.0           0.0       DEF  \n128562       153784.0           0.0       MID  \n10181          2906.0           0.0       FWD  \n126629       311864.0           0.0       MID  \n50234        112543.0           1.0       MID  \n4122          99251.0           0.0       MID  \n4269           3431.0           0.0       FWD  \n\n[10 rows x 27 columns]",
      "text/html": "<div>\n<style scoped>\n    .dataframe tbody tr th:only-of-type {\n        vertical-align: middle;\n    }\n\n    .dataframe tbody tr th {\n        vertical-align: top;\n    }\n\n    .dataframe thead th {\n        text-align: right;\n    }\n</style>\n<table border=\"1\" class=\"dataframe\">\n  <thead>\n    <tr style=\"text-align: right;\">\n      <th></th>\n      <th>predicted_total_points_next_gameweek</th>\n      <th>name</th>\n      <th>GW</th>\n      <th>element</th>\n      <th>value</th>\n      <th>total_points_next_gameweek</th>\n      <th>season</th>\n      <th>assists</th>\n      <th>bonus</th>\n      <th>bps</th>\n      <th>...</th>\n      <th>saves</th>\n      <th>selected</th>\n      <th>player_team_score</th>\n      <th>opponent_team_score</th>\n      <th>threat</th>\n      <th>total_points</th>\n      <th>transfers_in</th>\n      <th>transfers_out</th>\n      <th>yellow_cards</th>\n      <th>position</th>\n    </tr>\n  </thead>\n  <tbody>\n    <tr>\n      <th>130595</th>\n      <td>13.344357</td>\n      <td>Mohamed Salah</td>\n      <td>26</td>\n      <td>233</td>\n      <td>131</td>\n      <td>3.0</td>\n      <td>2021-22</td>\n      <td>1.0</td>\n      <td>2.0</td>\n      <td>54.0</td>\n      <td>...</td>\n      <td>0.0</td>\n      <td>5419768.0</td>\n      <td>6.0</td>\n      <td>0.0</td>\n      <td>89.0</td>\n      <td>18.0</td>\n      <td>1263924.0</td>\n      <td>7849.0</td>\n      <td>0.0</td>\n      <td>MID</td>\n    </tr>\n    <tr>\n      <th>125207</th>\n      <td>12.045697</td>\n      <td>Mohamed Salah</td>\n      <td>18</td>\n      <td>233</td>\n      <td>131</td>\n      <td>0.0</td>\n      <td>2021-22</td>\n      <td>0.0</td>\n      <td>0.0</td>\n      <td>8.0</td>\n      <td>...</td>\n      <td>0.0</td>\n      <td>6483921.0</td>\n      <td>2.0</td>\n      <td>2.0</td>\n      <td>40.0</td>\n      <td>2.0</td>\n      <td>29513.0</td>\n      <td>15369.0</td>\n      <td>0.0</td>\n      <td>MID</td>\n    </tr>\n    <tr>\n      <th>15488</th>\n      <td>10.955445</td>\n      <td>Harry_Kane</td>\n      <td>26</td>\n      <td>403</td>\n      <td>112</td>\n      <td>13.0</td>\n      <td>2016-17</td>\n      <td>1.0</td>\n      <td>3.0</td>\n      <td>94.0</td>\n      <td>...</td>\n      <td>0.0</td>\n      <td>890180.0</td>\n      <td>4.0</td>\n      <td>0.0</td>\n      <td>50.0</td>\n      <td>20.0</td>\n      <td>96719.0</td>\n      <td>42698.0</td>\n      <td>0.0</td>\n      <td>FWD</td>\n    </tr>\n    <tr>\n      <th>130251</th>\n      <td>10.754548</td>\n      <td>JoÃ£o Pedro Cavaco Cancelo</td>\n      <td>26</td>\n      <td>256</td>\n      <td>72</td>\n      <td>9.0</td>\n      <td>2021-22</td>\n      <td>0.0</td>\n      <td>0.0</td>\n      <td>20.0</td>\n      <td>...</td>\n      <td>0.0</td>\n      <td>3845997.0</td>\n      <td>2.0</td>\n      <td>3.0</td>\n      <td>31.0</td>\n      <td>1.0</td>\n      <td>25871.0</td>\n      <td>199834.0</td>\n      <td>0.0</td>\n      <td>DEF</td>\n    </tr>\n    <tr>\n      <th>128562</th>\n      <td>10.509310</td>\n      <td>Bruno Miguel Borges Fernandes</td>\n      <td>24</td>\n      <td>277</td>\n      <td>117</td>\n      <td>2.0</td>\n      <td>2021-22</td>\n      <td>0.0</td>\n      <td>0.0</td>\n      <td>20.0</td>\n      <td>...</td>\n      <td>0.0</td>\n      <td>1805775.0</td>\n      <td>1.0</td>\n      <td>1.0</td>\n      <td>53.0</td>\n      <td>2.0</td>\n      <td>132610.0</td>\n      <td>153784.0</td>\n      <td>0.0</td>\n      <td>MID</td>\n    </tr>\n    <tr>\n      <th>10181</th>\n      <td>10.368421</td>\n      <td>Zlatan_Ibrahimovic</td>\n      <td>18</td>\n      <td>272</td>\n      <td>115</td>\n      <td>5.0</td>\n      <td>2016-17</td>\n      <td>2.0</td>\n      <td>3.0</td>\n      <td>55.0</td>\n      <td>...</td>\n      <td>0.0</td>\n      <td>1744404.0</td>\n      <td>3.0</td>\n      <td>1.0</td>\n      <td>65.0</td>\n      <td>15.0</td>\n      <td>544685.0</td>\n      <td>2906.0</td>\n      <td>0.0</td>\n      <td>FWD</td>\n    </tr>\n    <tr>\n      <th>126629</th>\n      <td>10.336879</td>\n      <td>Mohamed Salah</td>\n      <td>21</td>\n      <td>233</td>\n      <td>129</td>\n      <td>0.0</td>\n      <td>2021-22</td>\n      <td>0.0</td>\n      <td>0.0</td>\n      <td>25.0</td>\n      <td>...</td>\n      <td>0.0</td>\n      <td>5447666.0</td>\n      <td>2.0</td>\n      <td>2.0</td>\n      <td>65.0</td>\n      <td>7.0</td>\n      <td>52331.0</td>\n      <td>311864.0</td>\n      <td>0.0</td>\n      <td>MID</td>\n    </tr>\n    <tr>\n      <th>50234</th>\n      <td>10.295902</td>\n      <td>Paul_Pogba_302</td>\n      <td>8</td>\n      <td>302</td>\n      <td>81</td>\n      <td>2.0</td>\n      <td>2018-19</td>\n      <td>1.0</td>\n      <td>0.0</td>\n      <td>26.0</td>\n      <td>...</td>\n      <td>0.0</td>\n      <td>845475.0</td>\n      <td>3.0</td>\n      <td>2.0</td>\n      <td>75.0</td>\n      <td>4.0</td>\n      <td>16808.0</td>\n      <td>112543.0</td>\n      <td>1.0</td>\n      <td>MID</td>\n    </tr>\n    <tr>\n      <th>4122</th>\n      <td>9.428675</td>\n      <td>Kevin_De Bruyne</td>\n      <td>8</td>\n      <td>235</td>\n      <td>106</td>\n      <td>1.0</td>\n      <td>2016-17</td>\n      <td>0.0</td>\n      <td>0.0</td>\n      <td>6.0</td>\n      <td>...</td>\n      <td>0.0</td>\n      <td>329474.0</td>\n      <td>1.0</td>\n      <td>1.0</td>\n      <td>75.0</td>\n      <td>0.0</td>\n      <td>17492.0</td>\n      <td>99251.0</td>\n      <td>0.0</td>\n      <td>MID</td>\n    </tr>\n    <tr>\n      <th>4269</th>\n      <td>8.845166</td>\n      <td>Callum_Wilson</td>\n      <td>8</td>\n      <td>49</td>\n      <td>64</td>\n      <td>2.0</td>\n      <td>2016-17</td>\n      <td>1.0</td>\n      <td>0.0</td>\n      <td>35.0</td>\n      <td>...</td>\n      <td>0.0</td>\n      <td>106209.0</td>\n      <td>6.0</td>\n      <td>1.0</td>\n      <td>55.0</td>\n      <td>9.0</td>\n      <td>35553.0</td>\n      <td>3431.0</td>\n      <td>0.0</td>\n      <td>FWD</td>\n    </tr>\n  </tbody>\n</table>\n<p>10 rows × 27 columns</p>\n</div>"
     },
     "execution_count": 9,
     "metadata": {},
     "output_type": "execute_result"
    }
   ],
   "source": [
    "predictions_xgb = pd.concat([y_pred_xgb, x_test_reversed], axis=1)\n",
    "#preview predictions_xgb sorted by predicted total points descending\n",
    "predictions_xgb.sort_values(by='predicted_total_points_next_gameweek', ascending=False).head(10)"
   ],
   "metadata": {
    "collapsed": false,
    "pycharm": {
     "name": "#%%\n"
    }
   }
  },
  {
   "cell_type": "code",
   "execution_count": 9,
   "outputs": [],
   "source": [],
   "metadata": {
    "collapsed": false,
    "pycharm": {
     "name": "#%%\n"
    }
   }
  }
 ],
 "metadata": {
  "kernelspec": {
   "display_name": "Python 3.9.7 64-bit ('venv': venv)",
   "language": "python",
   "name": "python3"
  },
  "language_info": {
   "codemirror_mode": {
    "name": "ipython",
    "version": 3
   },
   "file_extension": ".py",
   "mimetype": "text/x-python",
   "name": "python",
   "nbconvert_exporter": "python",
   "pygments_lexer": "ipython3",
   "version": "3.9.13"
  },
  "orig_nbformat": 4,
  "vscode": {
   "interpreter": {
    "hash": "bbb22d9559f6976b31c36950d3631592f33fcfe361ba08906d3d31a17b5db64c"
   }
  }
 },
 "nbformat": 4,
 "nbformat_minor": 2
}