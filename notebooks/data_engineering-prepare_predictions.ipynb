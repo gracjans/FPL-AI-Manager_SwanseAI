{
 "cells": [
  {
   "cell_type": "code",
   "execution_count": 1,
   "metadata": {
    "collapsed": false,
    "pycharm": {
     "name": "#%%\n"
    }
   },
   "outputs": [],
   "source": [
    "import os\n",
    "import joblib\n",
    "import tensorflow as tf\n",
    "import pandas as pd\n",
    "\n",
    "from src.features.data_engineering import preprocess_prediction_data\n",
    "from src.squad_selection.select_team import select_team, print_selected_team"
   ]
  },
  {
   "cell_type": "code",
   "execution_count": 2,
   "outputs": [],
   "source": [
    "rolling_columns = ['assists', 'bonus', 'bps', 'clean_sheets',\n",
    "                   'creativity', 'goals_conceded', 'goals_scored',\n",
    "                   'ict_index', 'influence', 'minutes',\n",
    "                   'saves', 'selected', 'player_team_score', 'opponent_team_score', 'threat',\n",
    "                   'total_points', 'transfers_in', 'transfers_out',\n",
    "                   'value', 'yellow_cards']\n",
    "\n",
    "times = ['all', 6, 3]"
   ],
   "metadata": {
    "collapsed": false,
    "pycharm": {
     "name": "#%%\n"
    }
   }
  },
  {
   "cell_type": "code",
   "execution_count": 3,
   "outputs": [
    {
     "name": "stdout",
     "output_type": "stream",
     "text": [
      "Are there any NaN values? - False\n"
     ]
    }
   ],
   "source": [
    "x_prediction, x_target = preprocess_prediction_data('2021-22', 30, rolling_columns=rolling_columns, rolling_times=times, opponent_team_stats=True)"
   ],
   "metadata": {
    "collapsed": false,
    "pycharm": {
     "name": "#%%\n"
    }
   }
  },
  {
   "cell_type": "code",
   "execution_count": 4,
   "outputs": [
    {
     "data": {
      "text/plain": "               name  element     team  GW   season   opponent_next_gameweek  \\\n17621  Owen Dodgson      565  Burnley  29  2021-22          Manchester City   \n17621  Owen Dodgson      565  Burnley  29  2021-22                  Everton   \n17621  Owen Dodgson      565  Burnley  29  2021-22                  Norwich   \n17621  Owen Dodgson      565  Burnley  29  2021-22                 West Ham   \n17621  Owen Dodgson      565  Burnley  29  2021-22              Southampton   \n17621  Owen Dodgson      565  Burnley  29  2021-22  Wolverhampton Wanderers   \n17598    Sam Waller      708  Burnley  29  2021-22          Manchester City   \n17598    Sam Waller      708  Burnley  29  2021-22                  Everton   \n17598    Sam Waller      708  Burnley  29  2021-22                  Norwich   \n17598    Sam Waller      708  Burnley  29  2021-22                 West Ham   \n\n       value position  \n17621     39      DEF  \n17621     39      DEF  \n17621     39      DEF  \n17621     39      DEF  \n17621     39      DEF  \n17621     39      DEF  \n17598     40       GK  \n17598     40       GK  \n17598     40       GK  \n17598     40       GK  ",
      "text/html": "<div>\n<style scoped>\n    .dataframe tbody tr th:only-of-type {\n        vertical-align: middle;\n    }\n\n    .dataframe tbody tr th {\n        vertical-align: top;\n    }\n\n    .dataframe thead th {\n        text-align: right;\n    }\n</style>\n<table border=\"1\" class=\"dataframe\">\n  <thead>\n    <tr style=\"text-align: right;\">\n      <th></th>\n      <th>name</th>\n      <th>element</th>\n      <th>team</th>\n      <th>GW</th>\n      <th>season</th>\n      <th>opponent_next_gameweek</th>\n      <th>value</th>\n      <th>position</th>\n    </tr>\n  </thead>\n  <tbody>\n    <tr>\n      <th>17621</th>\n      <td>Owen Dodgson</td>\n      <td>565</td>\n      <td>Burnley</td>\n      <td>29</td>\n      <td>2021-22</td>\n      <td>Manchester City</td>\n      <td>39</td>\n      <td>DEF</td>\n    </tr>\n    <tr>\n      <th>17621</th>\n      <td>Owen Dodgson</td>\n      <td>565</td>\n      <td>Burnley</td>\n      <td>29</td>\n      <td>2021-22</td>\n      <td>Everton</td>\n      <td>39</td>\n      <td>DEF</td>\n    </tr>\n    <tr>\n      <th>17621</th>\n      <td>Owen Dodgson</td>\n      <td>565</td>\n      <td>Burnley</td>\n      <td>29</td>\n      <td>2021-22</td>\n      <td>Norwich</td>\n      <td>39</td>\n      <td>DEF</td>\n    </tr>\n    <tr>\n      <th>17621</th>\n      <td>Owen Dodgson</td>\n      <td>565</td>\n      <td>Burnley</td>\n      <td>29</td>\n      <td>2021-22</td>\n      <td>West Ham</td>\n      <td>39</td>\n      <td>DEF</td>\n    </tr>\n    <tr>\n      <th>17621</th>\n      <td>Owen Dodgson</td>\n      <td>565</td>\n      <td>Burnley</td>\n      <td>29</td>\n      <td>2021-22</td>\n      <td>Southampton</td>\n      <td>39</td>\n      <td>DEF</td>\n    </tr>\n    <tr>\n      <th>17621</th>\n      <td>Owen Dodgson</td>\n      <td>565</td>\n      <td>Burnley</td>\n      <td>29</td>\n      <td>2021-22</td>\n      <td>Wolverhampton Wanderers</td>\n      <td>39</td>\n      <td>DEF</td>\n    </tr>\n    <tr>\n      <th>17598</th>\n      <td>Sam Waller</td>\n      <td>708</td>\n      <td>Burnley</td>\n      <td>29</td>\n      <td>2021-22</td>\n      <td>Manchester City</td>\n      <td>40</td>\n      <td>GK</td>\n    </tr>\n    <tr>\n      <th>17598</th>\n      <td>Sam Waller</td>\n      <td>708</td>\n      <td>Burnley</td>\n      <td>29</td>\n      <td>2021-22</td>\n      <td>Everton</td>\n      <td>40</td>\n      <td>GK</td>\n    </tr>\n    <tr>\n      <th>17598</th>\n      <td>Sam Waller</td>\n      <td>708</td>\n      <td>Burnley</td>\n      <td>29</td>\n      <td>2021-22</td>\n      <td>Norwich</td>\n      <td>40</td>\n      <td>GK</td>\n    </tr>\n    <tr>\n      <th>17598</th>\n      <td>Sam Waller</td>\n      <td>708</td>\n      <td>Burnley</td>\n      <td>29</td>\n      <td>2021-22</td>\n      <td>West Ham</td>\n      <td>40</td>\n      <td>GK</td>\n    </tr>\n  </tbody>\n</table>\n</div>"
     },
     "execution_count": 4,
     "metadata": {},
     "output_type": "execute_result"
    }
   ],
   "source": [
    "x_target.head(10)"
   ],
   "metadata": {
    "collapsed": false,
    "pycharm": {
     "name": "#%%\n"
    }
   }
  },
  {
   "cell_type": "code",
   "execution_count": 5,
   "outputs": [],
   "source": [
    "# load 'model_mlp_rolling_opponent_stats_features' model\n",
    "root_dir = os.path.dirname(os.path.abspath(''))\n",
    "model = tf.keras.models.load_model(root_dir + '/models/baseline/model_mlp_rolling_opponent_stats_features.h5')\n",
    "x_scaler = joblib.load(root_dir + '/models/baseline/SCALER-model_mlp_rolling_opponent_stats_features.gz')"
   ],
   "metadata": {
    "collapsed": false,
    "pycharm": {
     "name": "#%%\n"
    }
   }
  },
  {
   "cell_type": "code",
   "execution_count": 6,
   "outputs": [
    {
     "name": "stdout",
     "output_type": "stream",
     "text": [
      "Model: \"sequential\"\n",
      "_________________________________________________________________\n",
      " Layer (type)                Output Shape              Param #   \n",
      "=================================================================\n",
      " dense (Dense)               (None, 128)               12544     \n",
      "                                                                 \n",
      " dense_1 (Dense)             (None, 256)               33024     \n",
      "                                                                 \n",
      " dense_2 (Dense)             (None, 126)               32382     \n",
      "                                                                 \n",
      " dense_3 (Dense)             (None, 64)                8128      \n",
      "                                                                 \n",
      " dense_4 (Dense)             (None, 1)                 65        \n",
      "                                                                 \n",
      "=================================================================\n",
      "Total params: 86,143\n",
      "Trainable params: 86,143\n",
      "Non-trainable params: 0\n",
      "_________________________________________________________________\n"
     ]
    }
   ],
   "source": [
    "model.summary()"
   ],
   "metadata": {
    "collapsed": false,
    "pycharm": {
     "name": "#%%\n"
    }
   }
  },
  {
   "cell_type": "code",
   "execution_count": 7,
   "outputs": [],
   "source": [
    "y_pred = pd.Series(model.predict(x_scaler.transform(x_prediction)).reshape(-1, ), index=x_prediction.index, name='predicted_total_points_next_gameweek')\n",
    "prediction_df = pd.concat([y_pred, x_target], axis=1)"
   ],
   "metadata": {
    "collapsed": false,
    "pycharm": {
     "name": "#%%\n"
    }
   }
  },
  {
   "cell_type": "code",
   "execution_count": 8,
   "outputs": [
    {
     "data": {
      "text/plain": "       predicted_total_points_next_gameweek             name  element  \\\n17621                              0.000961     Owen Dodgson      565   \n17621                              0.037667     Owen Dodgson      565   \n17621                              0.051699     Owen Dodgson      565   \n17621                              0.004169     Owen Dodgson      565   \n17621                              0.013536     Owen Dodgson      565   \n...                                     ...              ...      ...   \n18728                              0.217791  Alphonse Areola      489   \n18674                              0.044222   Jamal Baptiste      554   \n18674                              0.026542   Jamal Baptiste      554   \n18674                              0.056511   Jamal Baptiste      554   \n18674                              0.032458   Jamal Baptiste      554   \n\n           team  GW   season opponent_next_gameweek  value position  \n17621   Burnley  29  2021-22        Manchester City     39      DEF  \n17621   Burnley  29  2021-22                Everton     39      DEF  \n17621   Burnley  29  2021-22                Norwich     39      DEF  \n17621   Burnley  29  2021-22               West Ham     39      DEF  \n17621   Burnley  29  2021-22            Southampton     39      DEF  \n...         ...  ..      ...                    ...    ...      ...  \n18728  West Ham  30  2021-22                Chelsea     47       GK  \n18674  West Ham  30  2021-22                Everton     40      DEF  \n18674  West Ham  30  2021-22              Brentford     40      DEF  \n18674  West Ham  30  2021-22                Burnley     40      DEF  \n18674  West Ham  30  2021-22                Chelsea     40      DEF  \n\n[3047 rows x 9 columns]",
      "text/html": "<div>\n<style scoped>\n    .dataframe tbody tr th:only-of-type {\n        vertical-align: middle;\n    }\n\n    .dataframe tbody tr th {\n        vertical-align: top;\n    }\n\n    .dataframe thead th {\n        text-align: right;\n    }\n</style>\n<table border=\"1\" class=\"dataframe\">\n  <thead>\n    <tr style=\"text-align: right;\">\n      <th></th>\n      <th>predicted_total_points_next_gameweek</th>\n      <th>name</th>\n      <th>element</th>\n      <th>team</th>\n      <th>GW</th>\n      <th>season</th>\n      <th>opponent_next_gameweek</th>\n      <th>value</th>\n      <th>position</th>\n    </tr>\n  </thead>\n  <tbody>\n    <tr>\n      <th>17621</th>\n      <td>0.000961</td>\n      <td>Owen Dodgson</td>\n      <td>565</td>\n      <td>Burnley</td>\n      <td>29</td>\n      <td>2021-22</td>\n      <td>Manchester City</td>\n      <td>39</td>\n      <td>DEF</td>\n    </tr>\n    <tr>\n      <th>17621</th>\n      <td>0.037667</td>\n      <td>Owen Dodgson</td>\n      <td>565</td>\n      <td>Burnley</td>\n      <td>29</td>\n      <td>2021-22</td>\n      <td>Everton</td>\n      <td>39</td>\n      <td>DEF</td>\n    </tr>\n    <tr>\n      <th>17621</th>\n      <td>0.051699</td>\n      <td>Owen Dodgson</td>\n      <td>565</td>\n      <td>Burnley</td>\n      <td>29</td>\n      <td>2021-22</td>\n      <td>Norwich</td>\n      <td>39</td>\n      <td>DEF</td>\n    </tr>\n    <tr>\n      <th>17621</th>\n      <td>0.004169</td>\n      <td>Owen Dodgson</td>\n      <td>565</td>\n      <td>Burnley</td>\n      <td>29</td>\n      <td>2021-22</td>\n      <td>West Ham</td>\n      <td>39</td>\n      <td>DEF</td>\n    </tr>\n    <tr>\n      <th>17621</th>\n      <td>0.013536</td>\n      <td>Owen Dodgson</td>\n      <td>565</td>\n      <td>Burnley</td>\n      <td>29</td>\n      <td>2021-22</td>\n      <td>Southampton</td>\n      <td>39</td>\n      <td>DEF</td>\n    </tr>\n    <tr>\n      <th>...</th>\n      <td>...</td>\n      <td>...</td>\n      <td>...</td>\n      <td>...</td>\n      <td>...</td>\n      <td>...</td>\n      <td>...</td>\n      <td>...</td>\n      <td>...</td>\n    </tr>\n    <tr>\n      <th>18728</th>\n      <td>0.217791</td>\n      <td>Alphonse Areola</td>\n      <td>489</td>\n      <td>West Ham</td>\n      <td>30</td>\n      <td>2021-22</td>\n      <td>Chelsea</td>\n      <td>47</td>\n      <td>GK</td>\n    </tr>\n    <tr>\n      <th>18674</th>\n      <td>0.044222</td>\n      <td>Jamal Baptiste</td>\n      <td>554</td>\n      <td>West Ham</td>\n      <td>30</td>\n      <td>2021-22</td>\n      <td>Everton</td>\n      <td>40</td>\n      <td>DEF</td>\n    </tr>\n    <tr>\n      <th>18674</th>\n      <td>0.026542</td>\n      <td>Jamal Baptiste</td>\n      <td>554</td>\n      <td>West Ham</td>\n      <td>30</td>\n      <td>2021-22</td>\n      <td>Brentford</td>\n      <td>40</td>\n      <td>DEF</td>\n    </tr>\n    <tr>\n      <th>18674</th>\n      <td>0.056511</td>\n      <td>Jamal Baptiste</td>\n      <td>554</td>\n      <td>West Ham</td>\n      <td>30</td>\n      <td>2021-22</td>\n      <td>Burnley</td>\n      <td>40</td>\n      <td>DEF</td>\n    </tr>\n    <tr>\n      <th>18674</th>\n      <td>0.032458</td>\n      <td>Jamal Baptiste</td>\n      <td>554</td>\n      <td>West Ham</td>\n      <td>30</td>\n      <td>2021-22</td>\n      <td>Chelsea</td>\n      <td>40</td>\n      <td>DEF</td>\n    </tr>\n  </tbody>\n</table>\n<p>3047 rows × 9 columns</p>\n</div>"
     },
     "execution_count": 8,
     "metadata": {},
     "output_type": "execute_result"
    }
   ],
   "source": [
    "prediction_df"
   ],
   "metadata": {
    "collapsed": false,
    "pycharm": {
     "name": "#%%\n"
    }
   }
  },
  {
   "cell_type": "code",
   "execution_count": 9,
   "outputs": [],
   "source": [
    "# group prediction_df by 'name', 'element', 'team', 'GW\", 'season', sum up 'predicted_total_points_next_gameweek' and make 'opponent_next_gameweek' items a list\n",
    "prediction_df_sum = prediction_df.groupby(['name', 'element', 'position', 'value', 'team', 'GW', 'season']).sum().reset_index()\n",
    "list_of_opponents = prediction_df.groupby(['name', 'element', 'team', 'GW', 'season'])['opponent_next_gameweek'].apply(list).reset_index()['opponent_next_gameweek']\n",
    "\n",
    "prediction_df_sum['next_4_GWs_matches'] = list_of_opponents.apply(lambda x: len(x))\n",
    "prediction_df_sum['opponent_next_gameweek'] = list_of_opponents\n",
    "\n",
    "# divide 'value' column by 100\n",
    "prediction_df_sum['value'] = prediction_df_sum['value'] / 10\n",
    "\n",
    "# replace position str by int\n",
    "prediction_df_sum['position_id'] = prediction_df_sum['position'].replace({'GK': 1, 'DEF': 2, 'MID': 3, 'FWD': 4})"
   ],
   "metadata": {
    "collapsed": false,
    "pycharm": {
     "name": "#%%\n"
    }
   }
  },
  {
   "cell_type": "code",
   "execution_count": 10,
   "outputs": [
    {
     "data": {
      "text/plain": "                 name  element position  value             team  GW   season  \\\n0      Aaron Connolly       72      FWD    5.3         Brighton  29  2021-22   \n1     Aaron Cresswell      411      DEF    5.4         West Ham  30  2021-22   \n2        Aaron Lennon      575      MID    4.9          Burnley  29  2021-22   \n3      Aaron Ramsdale      559       GK    5.1          Arsenal  30  2021-22   \n4        Aaron Ramsey      496      MID    4.4      Aston Villa  30  2021-22   \n..                ...      ...      ...    ...              ...  ..      ...   \n708          Zach Awe      705      DEF    4.0          Arsenal  30  2021-22   \n709      Zack Steffen      260       GK    4.4  Manchester City  29  2021-22   \n710       Zak Swanson      711      DEF    4.0          Arsenal  30  2021-22   \n711  Álvaro Fernández      556       GK    4.5        Brentford  30  2021-22   \n712    Çaglar Söyüncü      217      DEF    4.9        Leicester  30  2021-22   \n\n     predicted_total_points_next_gameweek  next_4_GWs_matches  \\\n0                                0.385969                   5   \n1                               13.169465                   4   \n2                               14.788957                   6   \n3                               10.169611                   5   \n4                               -0.048319                   3   \n..                                    ...                 ...   \n708                             -0.181945                   5   \n709                              0.340187                   4   \n710                             -0.187515                   5   \n711                              0.305082                   4   \n712                             15.140131                   5   \n\n                                opponent_next_gameweek  position_id  \n0    [Norwich, Arsenal, Tottenham, Manchester City,...            4  \n1               [Everton, Brentford, Burnley, Chelsea]            2  \n2    [Manchester City, Everton, Norwich, West Ham, ...            3  \n3    [Crystal Palace, Brighton, Southampton, Chelse...            1  \n4      [Wolverhampton Wanderers, Tottenham, Leicester]            3  \n..                                                 ...          ...  \n708  [Crystal Palace, Brighton, Southampton, Chelse...            2  \n709            [Burnley, Liverpool, Brighton, Watford]            1  \n710  [Crystal Palace, Brighton, Southampton, Chelse...            2  \n711            [Chelsea, West Ham, Watford, Tottenham]            1  \n712  [Manchester United, Crystal Palace, Newcastle ...            2  \n\n[713 rows x 11 columns]",
      "text/html": "<div>\n<style scoped>\n    .dataframe tbody tr th:only-of-type {\n        vertical-align: middle;\n    }\n\n    .dataframe tbody tr th {\n        vertical-align: top;\n    }\n\n    .dataframe thead th {\n        text-align: right;\n    }\n</style>\n<table border=\"1\" class=\"dataframe\">\n  <thead>\n    <tr style=\"text-align: right;\">\n      <th></th>\n      <th>name</th>\n      <th>element</th>\n      <th>position</th>\n      <th>value</th>\n      <th>team</th>\n      <th>GW</th>\n      <th>season</th>\n      <th>predicted_total_points_next_gameweek</th>\n      <th>next_4_GWs_matches</th>\n      <th>opponent_next_gameweek</th>\n      <th>position_id</th>\n    </tr>\n  </thead>\n  <tbody>\n    <tr>\n      <th>0</th>\n      <td>Aaron Connolly</td>\n      <td>72</td>\n      <td>FWD</td>\n      <td>5.3</td>\n      <td>Brighton</td>\n      <td>29</td>\n      <td>2021-22</td>\n      <td>0.385969</td>\n      <td>5</td>\n      <td>[Norwich, Arsenal, Tottenham, Manchester City,...</td>\n      <td>4</td>\n    </tr>\n    <tr>\n      <th>1</th>\n      <td>Aaron Cresswell</td>\n      <td>411</td>\n      <td>DEF</td>\n      <td>5.4</td>\n      <td>West Ham</td>\n      <td>30</td>\n      <td>2021-22</td>\n      <td>13.169465</td>\n      <td>4</td>\n      <td>[Everton, Brentford, Burnley, Chelsea]</td>\n      <td>2</td>\n    </tr>\n    <tr>\n      <th>2</th>\n      <td>Aaron Lennon</td>\n      <td>575</td>\n      <td>MID</td>\n      <td>4.9</td>\n      <td>Burnley</td>\n      <td>29</td>\n      <td>2021-22</td>\n      <td>14.788957</td>\n      <td>6</td>\n      <td>[Manchester City, Everton, Norwich, West Ham, ...</td>\n      <td>3</td>\n    </tr>\n    <tr>\n      <th>3</th>\n      <td>Aaron Ramsdale</td>\n      <td>559</td>\n      <td>GK</td>\n      <td>5.1</td>\n      <td>Arsenal</td>\n      <td>30</td>\n      <td>2021-22</td>\n      <td>10.169611</td>\n      <td>5</td>\n      <td>[Crystal Palace, Brighton, Southampton, Chelse...</td>\n      <td>1</td>\n    </tr>\n    <tr>\n      <th>4</th>\n      <td>Aaron Ramsey</td>\n      <td>496</td>\n      <td>MID</td>\n      <td>4.4</td>\n      <td>Aston Villa</td>\n      <td>30</td>\n      <td>2021-22</td>\n      <td>-0.048319</td>\n      <td>3</td>\n      <td>[Wolverhampton Wanderers, Tottenham, Leicester]</td>\n      <td>3</td>\n    </tr>\n    <tr>\n      <th>...</th>\n      <td>...</td>\n      <td>...</td>\n      <td>...</td>\n      <td>...</td>\n      <td>...</td>\n      <td>...</td>\n      <td>...</td>\n      <td>...</td>\n      <td>...</td>\n      <td>...</td>\n      <td>...</td>\n    </tr>\n    <tr>\n      <th>708</th>\n      <td>Zach Awe</td>\n      <td>705</td>\n      <td>DEF</td>\n      <td>4.0</td>\n      <td>Arsenal</td>\n      <td>30</td>\n      <td>2021-22</td>\n      <td>-0.181945</td>\n      <td>5</td>\n      <td>[Crystal Palace, Brighton, Southampton, Chelse...</td>\n      <td>2</td>\n    </tr>\n    <tr>\n      <th>709</th>\n      <td>Zack Steffen</td>\n      <td>260</td>\n      <td>GK</td>\n      <td>4.4</td>\n      <td>Manchester City</td>\n      <td>29</td>\n      <td>2021-22</td>\n      <td>0.340187</td>\n      <td>4</td>\n      <td>[Burnley, Liverpool, Brighton, Watford]</td>\n      <td>1</td>\n    </tr>\n    <tr>\n      <th>710</th>\n      <td>Zak Swanson</td>\n      <td>711</td>\n      <td>DEF</td>\n      <td>4.0</td>\n      <td>Arsenal</td>\n      <td>30</td>\n      <td>2021-22</td>\n      <td>-0.187515</td>\n      <td>5</td>\n      <td>[Crystal Palace, Brighton, Southampton, Chelse...</td>\n      <td>2</td>\n    </tr>\n    <tr>\n      <th>711</th>\n      <td>Álvaro Fernández</td>\n      <td>556</td>\n      <td>GK</td>\n      <td>4.5</td>\n      <td>Brentford</td>\n      <td>30</td>\n      <td>2021-22</td>\n      <td>0.305082</td>\n      <td>4</td>\n      <td>[Chelsea, West Ham, Watford, Tottenham]</td>\n      <td>1</td>\n    </tr>\n    <tr>\n      <th>712</th>\n      <td>Çaglar Söyüncü</td>\n      <td>217</td>\n      <td>DEF</td>\n      <td>4.9</td>\n      <td>Leicester</td>\n      <td>30</td>\n      <td>2021-22</td>\n      <td>15.140131</td>\n      <td>5</td>\n      <td>[Manchester United, Crystal Palace, Newcastle ...</td>\n      <td>2</td>\n    </tr>\n  </tbody>\n</table>\n<p>713 rows × 11 columns</p>\n</div>"
     },
     "execution_count": 10,
     "metadata": {},
     "output_type": "execute_result"
    }
   ],
   "source": [
    "prediction_df_sum"
   ],
   "metadata": {
    "collapsed": false,
    "pycharm": {
     "name": "#%%\n"
    }
   }
  },
  {
   "cell_type": "markdown",
   "source": [
    "## Select team"
   ],
   "metadata": {
    "collapsed": false,
    "pycharm": {
     "name": "#%% md\n"
    }
   }
  },
  {
   "cell_type": "code",
   "execution_count": 11,
   "outputs": [
    {
     "name": "stderr",
     "output_type": "stream",
     "text": [
      "d:\\studies\\informatyka\\semestr_3\\fpl_ai_manager\\venv\\lib\\site-packages\\pulp\\pulp.py:1352: UserWarning: Spaces are not permitted in the name. Converted to '_'\n",
      "  warnings.warn(\"Spaces are not permitted in the name. Converted to '_'\")\n"
     ]
    },
    {
     "name": "stdout",
     "output_type": "stream",
     "text": [
      "Total expected score = 269.25628447532654\n"
     ]
    }
   ],
   "source": [
    "decisions, captain_decisions, sub_decisions = select_team(prediction_df_sum.predicted_total_points_next_gameweek.values, prediction_df_sum.value.values, prediction_df_sum.position_id.values, prediction_df_sum.team.values, total_budget=100, sub_factor=0.15)"
   ],
   "metadata": {
    "collapsed": false,
    "pycharm": {
     "name": "#%%\n"
    }
   }
  },
  {
   "cell_type": "code",
   "execution_count": 12,
   "outputs": [
    {
     "data": {
      "text/plain": "                 name  element position  value             team  GW   season  \\\n0      Aaron Connolly       72      FWD    5.3         Brighton  29  2021-22   \n1     Aaron Cresswell      411      DEF    5.4         West Ham  30  2021-22   \n2        Aaron Lennon      575      MID    4.9          Burnley  29  2021-22   \n3      Aaron Ramsdale      559       GK    5.1          Arsenal  30  2021-22   \n4        Aaron Ramsey      496      MID    4.4      Aston Villa  30  2021-22   \n..                ...      ...      ...    ...              ...  ..      ...   \n708          Zach Awe      705      DEF    4.0          Arsenal  30  2021-22   \n709      Zack Steffen      260       GK    4.4  Manchester City  29  2021-22   \n710       Zak Swanson      711      DEF    4.0          Arsenal  30  2021-22   \n711  Álvaro Fernández      556       GK    4.5        Brentford  30  2021-22   \n712    Çaglar Söyüncü      217      DEF    4.9        Leicester  30  2021-22   \n\n     predicted_total_points_next_gameweek  next_4_GWs_matches  \\\n0                                0.385969                   5   \n1                               13.169465                   4   \n2                               14.788957                   6   \n3                               10.169611                   5   \n4                               -0.048319                   3   \n..                                    ...                 ...   \n708                             -0.181945                   5   \n709                              0.340187                   4   \n710                             -0.187515                   5   \n711                              0.305082                   4   \n712                             15.140131                   5   \n\n                                opponent_next_gameweek  position_id  \n0    [Norwich, Arsenal, Tottenham, Manchester City,...            4  \n1               [Everton, Brentford, Burnley, Chelsea]            2  \n2    [Manchester City, Everton, Norwich, West Ham, ...            3  \n3    [Crystal Palace, Brighton, Southampton, Chelse...            1  \n4      [Wolverhampton Wanderers, Tottenham, Leicester]            3  \n..                                                 ...          ...  \n708  [Crystal Palace, Brighton, Southampton, Chelse...            2  \n709            [Burnley, Liverpool, Brighton, Watford]            1  \n710  [Crystal Palace, Brighton, Southampton, Chelse...            2  \n711            [Chelsea, West Ham, Watford, Tottenham]            1  \n712  [Manchester United, Crystal Palace, Newcastle ...            2  \n\n[713 rows x 11 columns]",
      "text/html": "<div>\n<style scoped>\n    .dataframe tbody tr th:only-of-type {\n        vertical-align: middle;\n    }\n\n    .dataframe tbody tr th {\n        vertical-align: top;\n    }\n\n    .dataframe thead th {\n        text-align: right;\n    }\n</style>\n<table border=\"1\" class=\"dataframe\">\n  <thead>\n    <tr style=\"text-align: right;\">\n      <th></th>\n      <th>name</th>\n      <th>element</th>\n      <th>position</th>\n      <th>value</th>\n      <th>team</th>\n      <th>GW</th>\n      <th>season</th>\n      <th>predicted_total_points_next_gameweek</th>\n      <th>next_4_GWs_matches</th>\n      <th>opponent_next_gameweek</th>\n      <th>position_id</th>\n    </tr>\n  </thead>\n  <tbody>\n    <tr>\n      <th>0</th>\n      <td>Aaron Connolly</td>\n      <td>72</td>\n      <td>FWD</td>\n      <td>5.3</td>\n      <td>Brighton</td>\n      <td>29</td>\n      <td>2021-22</td>\n      <td>0.385969</td>\n      <td>5</td>\n      <td>[Norwich, Arsenal, Tottenham, Manchester City,...</td>\n      <td>4</td>\n    </tr>\n    <tr>\n      <th>1</th>\n      <td>Aaron Cresswell</td>\n      <td>411</td>\n      <td>DEF</td>\n      <td>5.4</td>\n      <td>West Ham</td>\n      <td>30</td>\n      <td>2021-22</td>\n      <td>13.169465</td>\n      <td>4</td>\n      <td>[Everton, Brentford, Burnley, Chelsea]</td>\n      <td>2</td>\n    </tr>\n    <tr>\n      <th>2</th>\n      <td>Aaron Lennon</td>\n      <td>575</td>\n      <td>MID</td>\n      <td>4.9</td>\n      <td>Burnley</td>\n      <td>29</td>\n      <td>2021-22</td>\n      <td>14.788957</td>\n      <td>6</td>\n      <td>[Manchester City, Everton, Norwich, West Ham, ...</td>\n      <td>3</td>\n    </tr>\n    <tr>\n      <th>3</th>\n      <td>Aaron Ramsdale</td>\n      <td>559</td>\n      <td>GK</td>\n      <td>5.1</td>\n      <td>Arsenal</td>\n      <td>30</td>\n      <td>2021-22</td>\n      <td>10.169611</td>\n      <td>5</td>\n      <td>[Crystal Palace, Brighton, Southampton, Chelse...</td>\n      <td>1</td>\n    </tr>\n    <tr>\n      <th>4</th>\n      <td>Aaron Ramsey</td>\n      <td>496</td>\n      <td>MID</td>\n      <td>4.4</td>\n      <td>Aston Villa</td>\n      <td>30</td>\n      <td>2021-22</td>\n      <td>-0.048319</td>\n      <td>3</td>\n      <td>[Wolverhampton Wanderers, Tottenham, Leicester]</td>\n      <td>3</td>\n    </tr>\n    <tr>\n      <th>...</th>\n      <td>...</td>\n      <td>...</td>\n      <td>...</td>\n      <td>...</td>\n      <td>...</td>\n      <td>...</td>\n      <td>...</td>\n      <td>...</td>\n      <td>...</td>\n      <td>...</td>\n      <td>...</td>\n    </tr>\n    <tr>\n      <th>708</th>\n      <td>Zach Awe</td>\n      <td>705</td>\n      <td>DEF</td>\n      <td>4.0</td>\n      <td>Arsenal</td>\n      <td>30</td>\n      <td>2021-22</td>\n      <td>-0.181945</td>\n      <td>5</td>\n      <td>[Crystal Palace, Brighton, Southampton, Chelse...</td>\n      <td>2</td>\n    </tr>\n    <tr>\n      <th>709</th>\n      <td>Zack Steffen</td>\n      <td>260</td>\n      <td>GK</td>\n      <td>4.4</td>\n      <td>Manchester City</td>\n      <td>29</td>\n      <td>2021-22</td>\n      <td>0.340187</td>\n      <td>4</td>\n      <td>[Burnley, Liverpool, Brighton, Watford]</td>\n      <td>1</td>\n    </tr>\n    <tr>\n      <th>710</th>\n      <td>Zak Swanson</td>\n      <td>711</td>\n      <td>DEF</td>\n      <td>4.0</td>\n      <td>Arsenal</td>\n      <td>30</td>\n      <td>2021-22</td>\n      <td>-0.187515</td>\n      <td>5</td>\n      <td>[Crystal Palace, Brighton, Southampton, Chelse...</td>\n      <td>2</td>\n    </tr>\n    <tr>\n      <th>711</th>\n      <td>Álvaro Fernández</td>\n      <td>556</td>\n      <td>GK</td>\n      <td>4.5</td>\n      <td>Brentford</td>\n      <td>30</td>\n      <td>2021-22</td>\n      <td>0.305082</td>\n      <td>4</td>\n      <td>[Chelsea, West Ham, Watford, Tottenham]</td>\n      <td>1</td>\n    </tr>\n    <tr>\n      <th>712</th>\n      <td>Çaglar Söyüncü</td>\n      <td>217</td>\n      <td>DEF</td>\n      <td>4.9</td>\n      <td>Leicester</td>\n      <td>30</td>\n      <td>2021-22</td>\n      <td>15.140131</td>\n      <td>5</td>\n      <td>[Manchester United, Crystal Palace, Newcastle ...</td>\n      <td>2</td>\n    </tr>\n  </tbody>\n</table>\n<p>713 rows × 11 columns</p>\n</div>"
     },
     "execution_count": 12,
     "metadata": {},
     "output_type": "execute_result"
    }
   ],
   "source": [
    "prediction_df_sum"
   ],
   "metadata": {
    "collapsed": false,
    "pycharm": {
     "name": "#%%\n"
    }
   }
  },
  {
   "cell_type": "code",
   "execution_count": 13,
   "outputs": [
    {
     "data": {
      "text/plain": "<IPython.core.display.Markdown object>",
      "text/markdown": "**Alexandre Lacazette** Predicted points = 21.78, Price = 8.4, Position = FWD"
     },
     "metadata": {},
     "output_type": "display_data"
    },
    {
     "data": {
      "text/plain": "<IPython.core.display.Markdown object>",
      "text/markdown": "**Andrew Robertson** Predicted points = 19.09, Price = 7.2, Position = DEF"
     },
     "metadata": {},
     "output_type": "display_data"
    },
    {
     "data": {
      "text/plain": "<IPython.core.display.Markdown object>",
      "text/markdown": "**Bukayo Saka** Predicted points = 24.37, Price = 6.7, Position = MID"
     },
     "metadata": {},
     "output_type": "display_data"
    },
    {
     "data": {
      "text/plain": "<IPython.core.display.Markdown object>",
      "text/markdown": "**Fabian Schär** Predicted points = 16.04, Price = 4.3, Position = DEF"
     },
     "metadata": {},
     "output_type": "display_data"
    },
    {
     "data": {
      "text/plain": "<IPython.core.display.Markdown object>",
      "text/markdown": "**Harry Kane** Predicted points = 24.99, Price = 12.4, Position = FWD"
     },
     "metadata": {},
     "output_type": "display_data"
    },
    {
     "data": {
      "text/plain": "<IPython.core.display.Markdown object>",
      "text/markdown": "**Harvey Barnes** Predicted points = 20.1, Price = 6.5, Position = MID"
     },
     "metadata": {},
     "output_type": "display_data"
    },
    {
     "data": {
      "text/plain": "<IPython.core.display.Markdown object>",
      "text/markdown": "**James Maddison** Predicted points = 19.95, Price = 6.7, Position = MID"
     },
     "metadata": {},
     "output_type": "display_data"
    },
    {
     "data": {
      "text/plain": "<IPython.core.display.Markdown object>",
      "text/markdown": "**Kai Havertz** Predicted points = 23.15, Price = 7.8, Position = MID"
     },
     "metadata": {},
     "output_type": "display_data"
    },
    {
     "data": {
      "text/plain": "<IPython.core.display.Markdown object>",
      "text/markdown": "**Kevin De Bruyne** Predicted points = 25.04, Price = 11.8, Position = MID"
     },
     "metadata": {},
     "output_type": "display_data"
    },
    {
     "data": {
      "text/plain": "<IPython.core.display.Markdown object>",
      "text/markdown": "**Matt Doherty** Predicted points = 17.58, Price = 4.8, Position = DEF"
     },
     "metadata": {},
     "output_type": "display_data"
    },
    {
     "data": {
      "text/plain": "<IPython.core.display.Markdown object>",
      "text/markdown": "**Nick Pope** Predicted points = 23.28, Price = 5.4, Position = GK"
     },
     "metadata": {},
     "output_type": "display_data"
    },
    {
     "name": "stdout",
     "output_type": "stream",
     "text": [
      "\n",
      "Subs:\n"
     ]
    },
    {
     "data": {
      "text/plain": "<IPython.core.display.Markdown object>",
      "text/markdown": "**Armando Broja** Predicted points = 13.58, Price = 5.5, Position = FWD"
     },
     "metadata": {},
     "output_type": "display_data"
    },
    {
     "data": {
      "text/plain": "<IPython.core.display.Markdown object>",
      "text/markdown": "**Cédric Soares** Predicted points = 14.89, Price = 4.2, Position = DEF"
     },
     "metadata": {},
     "output_type": "display_data"
    },
    {
     "data": {
      "text/plain": "<IPython.core.display.Markdown object>",
      "text/markdown": "**Daniel Amartey** Predicted points = 13.92, Price = 3.9, Position = DEF"
     },
     "metadata": {},
     "output_type": "display_data"
    },
    {
     "data": {
      "text/plain": "<IPython.core.display.Markdown object>",
      "text/markdown": "**Martin Dubravka** Predicted points = 16.57, Price = 4.4, Position = GK"
     },
     "metadata": {},
     "output_type": "display_data"
    },
    {
     "name": "stdout",
     "output_type": "stream",
     "text": [
      "\n",
      "Captain:\n"
     ]
    },
    {
     "data": {
      "text/plain": "<IPython.core.display.Markdown object>",
      "text/markdown": "**Kevin De Bruyne** Predicted points = 25.04, Price = 11.8, Position = MID"
     },
     "metadata": {},
     "output_type": "display_data"
    }
   ],
   "source": [
    "print_selected_team(prediction_df_sum, decisions, captain_decisions, sub_decisions)"
   ],
   "metadata": {
    "collapsed": false,
    "pycharm": {
     "name": "#%%\n"
    }
   }
  },
  {
   "cell_type": "code",
   "execution_count": 13,
   "outputs": [],
   "source": [],
   "metadata": {
    "collapsed": false,
    "pycharm": {
     "name": "#%%\n"
    }
   }
  }
 ],
 "metadata": {
  "kernelspec": {
   "display_name": "Python 3.9.7 64-bit ('venv': venv)",
   "language": "python",
   "name": "python3"
  },
  "language_info": {
   "codemirror_mode": {
    "name": "ipython",
    "version": 3
   },
   "file_extension": ".py",
   "mimetype": "text/x-python",
   "name": "python",
   "nbconvert_exporter": "python",
   "pygments_lexer": "ipython3",
   "version": "3.9.13"
  },
  "orig_nbformat": 4,
  "vscode": {
   "interpreter": {
    "hash": "bbb22d9559f6976b31c36950d3631592f33fcfe361ba08906d3d31a17b5db64c"
   }
  }
 },
 "nbformat": 4,
 "nbformat_minor": 2
}