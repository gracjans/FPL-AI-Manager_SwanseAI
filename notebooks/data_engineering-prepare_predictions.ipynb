{
 "cells": [
  {
   "cell_type": "code",
   "execution_count": 1,
   "metadata": {
    "collapsed": false,
    "pycharm": {
     "name": "#%%\n"
    }
   },
   "outputs": [],
   "source": [
    "from src.features.data_engineering import preprocess_prediction_data"
   ]
  },
  {
   "cell_type": "code",
   "execution_count": 2,
   "outputs": [],
   "source": [
    "rolling_columns = ['assists', 'bonus', 'bps', 'clean_sheets',\n",
    "                   'creativity', 'goals_conceded', 'goals_scored',\n",
    "                   'ict_index', 'influence', 'minutes',\n",
    "                   'saves', 'selected', 'player_team_score', 'opponent_team_score', 'threat',\n",
    "                   'total_points', 'transfers_in', 'transfers_out',\n",
    "                   'value', 'yellow_cards']\n",
    "\n",
    "times = ['all', 6, 3]\n",
    "\n",
    "test_subset_XL = (['2018-19', [1, 2, 3, 4, 5, 6, 7, 8, 9, 10]], ['2021-22', [17, 18, 19, 20, 21, 22, 23, 24, 25, 26, 28, 29]])"
   ],
   "metadata": {
    "collapsed": false,
    "pycharm": {
     "name": "#%%\n"
    }
   }
  },
  {
   "cell_type": "code",
   "execution_count": 3,
   "outputs": [
    {
     "name": "stdout",
     "output_type": "stream",
     "text": [
      "Are there any NaN values? - False\n"
     ]
    }
   ],
   "source": [
    "x_prediction, x_target = preprocess_prediction_data('2021-22', 30, rolling_columns=rolling_columns, rolling_times=times, opponent_team_stats=True)"
   ],
   "metadata": {
    "collapsed": false,
    "pycharm": {
     "name": "#%%\n"
    }
   }
  },
  {
   "cell_type": "code",
   "execution_count": 4,
   "outputs": [
    {
     "data": {
      "text/plain": "       assists  assists-3  assists-6  assists-all  bonus  bonus-3  bonus-6  \\\n18445        0   0.333333   0.166667          0.1      0      0.0      0.0   \n18445        0   0.333333   0.166667          0.1      0      0.0      0.0   \n18445        0   0.333333   0.166667          0.1      0      0.0      0.0   \n18461        0   0.000000   0.000000          0.0      0      0.0      0.0   \n18461        0   0.000000   0.000000          0.0      0      0.0      0.0   \n18461        0   0.000000   0.000000          0.0      0      0.0      0.0   \n18482        0   0.000000   0.000000          0.0      0      0.0      0.0   \n18482        0   0.000000   0.000000          0.0      0      0.0      0.0   \n18482        0   0.000000   0.000000          0.0      0      0.0      0.0   \n18447        0   0.000000   0.000000          0.0      0      0.0      0.0   \n\n       bonus-all  bps     bps-3  ...  opponent_next_xGA  opponent_next_NPxGA  \\\n18445        0.0    5  5.666667  ...           1.222222             1.222222   \n18445        0.0    5  5.666667  ...           0.997778             0.997778   \n18445        0.0    5  5.666667  ...           1.416000             1.340000   \n18461        0.0    0  0.000000  ...           1.493750             1.493750   \n18461        0.0    0  0.000000  ...           1.247000             1.247000   \n18461        0.0    0  0.000000  ...           1.202500             1.107500   \n18482        0.0    0  0.000000  ...           1.222222             1.222222   \n18482        0.0    0  0.000000  ...           0.997778             0.997778   \n18482        0.0    0  0.000000  ...           1.416000             1.340000   \n18447        0.0    0  0.000000  ...           1.493750             1.493750   \n\n       opponent_next_NPxGD  opponent_next_DC  opponent_next_ODC  \\\n18445             -0.04000          7.111111           5.000000   \n18445              0.22000          5.444444           6.555556   \n18445             -0.49600          4.000000           8.100000   \n18461              0.20875          6.250000           7.875000   \n18461             -0.23000          5.200000           7.200000   \n18461             -0.19250          5.000000           6.875000   \n18482             -0.04000          7.111111           5.000000   \n18482              0.22000          5.444444           6.555556   \n18482             -0.49600          4.000000           8.100000   \n18447              0.20875          6.250000           7.875000   \n\n       opponent_next_xPTS  position_DEF  position_FWD  position_GK  \\\n18445            1.292222             0             0            0   \n18445            1.446667             0             0            0   \n18445            0.899000             0             0            0   \n18461            1.512500             0             0            0   \n18461            1.206000             0             0            0   \n18461            1.336250             0             0            0   \n18482            1.292222             0             0            1   \n18482            1.446667             0             0            1   \n18482            0.899000             0             0            1   \n18447            1.512500             1             0            0   \n\n       position_MID  \n18445             1  \n18445             1  \n18445             1  \n18461             1  \n18461             1  \n18461             1  \n18482             0  \n18482             0  \n18482             0  \n18447             0  \n\n[10 rows x 97 columns]",
      "text/html": "<div>\n<style scoped>\n    .dataframe tbody tr th:only-of-type {\n        vertical-align: middle;\n    }\n\n    .dataframe tbody tr th {\n        vertical-align: top;\n    }\n\n    .dataframe thead th {\n        text-align: right;\n    }\n</style>\n<table border=\"1\" class=\"dataframe\">\n  <thead>\n    <tr style=\"text-align: right;\">\n      <th></th>\n      <th>assists</th>\n      <th>assists-3</th>\n      <th>assists-6</th>\n      <th>assists-all</th>\n      <th>bonus</th>\n      <th>bonus-3</th>\n      <th>bonus-6</th>\n      <th>bonus-all</th>\n      <th>bps</th>\n      <th>bps-3</th>\n      <th>...</th>\n      <th>opponent_next_xGA</th>\n      <th>opponent_next_NPxGA</th>\n      <th>opponent_next_NPxGD</th>\n      <th>opponent_next_DC</th>\n      <th>opponent_next_ODC</th>\n      <th>opponent_next_xPTS</th>\n      <th>position_DEF</th>\n      <th>position_FWD</th>\n      <th>position_GK</th>\n      <th>position_MID</th>\n    </tr>\n  </thead>\n  <tbody>\n    <tr>\n      <th>18445</th>\n      <td>0</td>\n      <td>0.333333</td>\n      <td>0.166667</td>\n      <td>0.1</td>\n      <td>0</td>\n      <td>0.0</td>\n      <td>0.0</td>\n      <td>0.0</td>\n      <td>5</td>\n      <td>5.666667</td>\n      <td>...</td>\n      <td>1.222222</td>\n      <td>1.222222</td>\n      <td>-0.04000</td>\n      <td>7.111111</td>\n      <td>5.000000</td>\n      <td>1.292222</td>\n      <td>0</td>\n      <td>0</td>\n      <td>0</td>\n      <td>1</td>\n    </tr>\n    <tr>\n      <th>18445</th>\n      <td>0</td>\n      <td>0.333333</td>\n      <td>0.166667</td>\n      <td>0.1</td>\n      <td>0</td>\n      <td>0.0</td>\n      <td>0.0</td>\n      <td>0.0</td>\n      <td>5</td>\n      <td>5.666667</td>\n      <td>...</td>\n      <td>0.997778</td>\n      <td>0.997778</td>\n      <td>0.22000</td>\n      <td>5.444444</td>\n      <td>6.555556</td>\n      <td>1.446667</td>\n      <td>0</td>\n      <td>0</td>\n      <td>0</td>\n      <td>1</td>\n    </tr>\n    <tr>\n      <th>18445</th>\n      <td>0</td>\n      <td>0.333333</td>\n      <td>0.166667</td>\n      <td>0.1</td>\n      <td>0</td>\n      <td>0.0</td>\n      <td>0.0</td>\n      <td>0.0</td>\n      <td>5</td>\n      <td>5.666667</td>\n      <td>...</td>\n      <td>1.416000</td>\n      <td>1.340000</td>\n      <td>-0.49600</td>\n      <td>4.000000</td>\n      <td>8.100000</td>\n      <td>0.899000</td>\n      <td>0</td>\n      <td>0</td>\n      <td>0</td>\n      <td>1</td>\n    </tr>\n    <tr>\n      <th>18461</th>\n      <td>0</td>\n      <td>0.000000</td>\n      <td>0.000000</td>\n      <td>0.0</td>\n      <td>0</td>\n      <td>0.0</td>\n      <td>0.0</td>\n      <td>0.0</td>\n      <td>0</td>\n      <td>0.000000</td>\n      <td>...</td>\n      <td>1.493750</td>\n      <td>1.493750</td>\n      <td>0.20875</td>\n      <td>6.250000</td>\n      <td>7.875000</td>\n      <td>1.512500</td>\n      <td>0</td>\n      <td>0</td>\n      <td>0</td>\n      <td>1</td>\n    </tr>\n    <tr>\n      <th>18461</th>\n      <td>0</td>\n      <td>0.000000</td>\n      <td>0.000000</td>\n      <td>0.0</td>\n      <td>0</td>\n      <td>0.0</td>\n      <td>0.0</td>\n      <td>0.0</td>\n      <td>0</td>\n      <td>0.000000</td>\n      <td>...</td>\n      <td>1.247000</td>\n      <td>1.247000</td>\n      <td>-0.23000</td>\n      <td>5.200000</td>\n      <td>7.200000</td>\n      <td>1.206000</td>\n      <td>0</td>\n      <td>0</td>\n      <td>0</td>\n      <td>1</td>\n    </tr>\n    <tr>\n      <th>18461</th>\n      <td>0</td>\n      <td>0.000000</td>\n      <td>0.000000</td>\n      <td>0.0</td>\n      <td>0</td>\n      <td>0.0</td>\n      <td>0.0</td>\n      <td>0.0</td>\n      <td>0</td>\n      <td>0.000000</td>\n      <td>...</td>\n      <td>1.202500</td>\n      <td>1.107500</td>\n      <td>-0.19250</td>\n      <td>5.000000</td>\n      <td>6.875000</td>\n      <td>1.336250</td>\n      <td>0</td>\n      <td>0</td>\n      <td>0</td>\n      <td>1</td>\n    </tr>\n    <tr>\n      <th>18482</th>\n      <td>0</td>\n      <td>0.000000</td>\n      <td>0.000000</td>\n      <td>0.0</td>\n      <td>0</td>\n      <td>0.0</td>\n      <td>0.0</td>\n      <td>0.0</td>\n      <td>0</td>\n      <td>0.000000</td>\n      <td>...</td>\n      <td>1.222222</td>\n      <td>1.222222</td>\n      <td>-0.04000</td>\n      <td>7.111111</td>\n      <td>5.000000</td>\n      <td>1.292222</td>\n      <td>0</td>\n      <td>0</td>\n      <td>1</td>\n      <td>0</td>\n    </tr>\n    <tr>\n      <th>18482</th>\n      <td>0</td>\n      <td>0.000000</td>\n      <td>0.000000</td>\n      <td>0.0</td>\n      <td>0</td>\n      <td>0.0</td>\n      <td>0.0</td>\n      <td>0.0</td>\n      <td>0</td>\n      <td>0.000000</td>\n      <td>...</td>\n      <td>0.997778</td>\n      <td>0.997778</td>\n      <td>0.22000</td>\n      <td>5.444444</td>\n      <td>6.555556</td>\n      <td>1.446667</td>\n      <td>0</td>\n      <td>0</td>\n      <td>1</td>\n      <td>0</td>\n    </tr>\n    <tr>\n      <th>18482</th>\n      <td>0</td>\n      <td>0.000000</td>\n      <td>0.000000</td>\n      <td>0.0</td>\n      <td>0</td>\n      <td>0.0</td>\n      <td>0.0</td>\n      <td>0.0</td>\n      <td>0</td>\n      <td>0.000000</td>\n      <td>...</td>\n      <td>1.416000</td>\n      <td>1.340000</td>\n      <td>-0.49600</td>\n      <td>4.000000</td>\n      <td>8.100000</td>\n      <td>0.899000</td>\n      <td>0</td>\n      <td>0</td>\n      <td>1</td>\n      <td>0</td>\n    </tr>\n    <tr>\n      <th>18447</th>\n      <td>0</td>\n      <td>0.000000</td>\n      <td>0.000000</td>\n      <td>0.0</td>\n      <td>0</td>\n      <td>0.0</td>\n      <td>0.0</td>\n      <td>0.0</td>\n      <td>0</td>\n      <td>0.000000</td>\n      <td>...</td>\n      <td>1.493750</td>\n      <td>1.493750</td>\n      <td>0.20875</td>\n      <td>6.250000</td>\n      <td>7.875000</td>\n      <td>1.512500</td>\n      <td>1</td>\n      <td>0</td>\n      <td>0</td>\n      <td>0</td>\n    </tr>\n  </tbody>\n</table>\n<p>10 rows × 97 columns</p>\n</div>"
     },
     "execution_count": 4,
     "metadata": {},
     "output_type": "execute_result"
    }
   ],
   "source": [
    "x_prediction.head(10)"
   ],
   "metadata": {
    "collapsed": false,
    "pycharm": {
     "name": "#%%\n"
    }
   }
  },
  {
   "cell_type": "code",
   "execution_count": 5,
   "outputs": [
    {
     "data": {
      "text/plain": "                                 name  element                     team  GW  \\\n18445  Francisco Jorge Tomás Oliveira      689  Wolverhampton Wanderers  30   \n18445  Francisco Jorge Tomás Oliveira      689  Wolverhampton Wanderers  30   \n18445  Francisco Jorge Tomás Oliveira      689  Wolverhampton Wanderers  30   \n18461           Crysencio Summerville      551                    Leeds  30   \n18461           Crysencio Summerville      551                    Leeds  30   \n18461           Crysencio Summerville      551                    Leeds  30   \n18482             Andreas Söndergaard      444  Wolverhampton Wanderers  30   \n18482             Andreas Söndergaard      444  Wolverhampton Wanderers  30   \n18482             Andreas Söndergaard      444  Wolverhampton Wanderers  30   \n18447                      Kris Moore      657                    Leeds  30   \n\n        season opponent_next_gameweek  \n18445  2021-22            Aston Villa  \n18445  2021-22       Newcastle United  \n18445  2021-22                Burnley  \n18461  2021-22            Southampton  \n18461  2021-22                Watford  \n18461  2021-22         Crystal Palace  \n18482  2021-22            Aston Villa  \n18482  2021-22       Newcastle United  \n18482  2021-22                Burnley  \n18447  2021-22            Southampton  ",
      "text/html": "<div>\n<style scoped>\n    .dataframe tbody tr th:only-of-type {\n        vertical-align: middle;\n    }\n\n    .dataframe tbody tr th {\n        vertical-align: top;\n    }\n\n    .dataframe thead th {\n        text-align: right;\n    }\n</style>\n<table border=\"1\" class=\"dataframe\">\n  <thead>\n    <tr style=\"text-align: right;\">\n      <th></th>\n      <th>name</th>\n      <th>element</th>\n      <th>team</th>\n      <th>GW</th>\n      <th>season</th>\n      <th>opponent_next_gameweek</th>\n    </tr>\n  </thead>\n  <tbody>\n    <tr>\n      <th>18445</th>\n      <td>Francisco Jorge Tomás Oliveira</td>\n      <td>689</td>\n      <td>Wolverhampton Wanderers</td>\n      <td>30</td>\n      <td>2021-22</td>\n      <td>Aston Villa</td>\n    </tr>\n    <tr>\n      <th>18445</th>\n      <td>Francisco Jorge Tomás Oliveira</td>\n      <td>689</td>\n      <td>Wolverhampton Wanderers</td>\n      <td>30</td>\n      <td>2021-22</td>\n      <td>Newcastle United</td>\n    </tr>\n    <tr>\n      <th>18445</th>\n      <td>Francisco Jorge Tomás Oliveira</td>\n      <td>689</td>\n      <td>Wolverhampton Wanderers</td>\n      <td>30</td>\n      <td>2021-22</td>\n      <td>Burnley</td>\n    </tr>\n    <tr>\n      <th>18461</th>\n      <td>Crysencio Summerville</td>\n      <td>551</td>\n      <td>Leeds</td>\n      <td>30</td>\n      <td>2021-22</td>\n      <td>Southampton</td>\n    </tr>\n    <tr>\n      <th>18461</th>\n      <td>Crysencio Summerville</td>\n      <td>551</td>\n      <td>Leeds</td>\n      <td>30</td>\n      <td>2021-22</td>\n      <td>Watford</td>\n    </tr>\n    <tr>\n      <th>18461</th>\n      <td>Crysencio Summerville</td>\n      <td>551</td>\n      <td>Leeds</td>\n      <td>30</td>\n      <td>2021-22</td>\n      <td>Crystal Palace</td>\n    </tr>\n    <tr>\n      <th>18482</th>\n      <td>Andreas Söndergaard</td>\n      <td>444</td>\n      <td>Wolverhampton Wanderers</td>\n      <td>30</td>\n      <td>2021-22</td>\n      <td>Aston Villa</td>\n    </tr>\n    <tr>\n      <th>18482</th>\n      <td>Andreas Söndergaard</td>\n      <td>444</td>\n      <td>Wolverhampton Wanderers</td>\n      <td>30</td>\n      <td>2021-22</td>\n      <td>Newcastle United</td>\n    </tr>\n    <tr>\n      <th>18482</th>\n      <td>Andreas Söndergaard</td>\n      <td>444</td>\n      <td>Wolverhampton Wanderers</td>\n      <td>30</td>\n      <td>2021-22</td>\n      <td>Burnley</td>\n    </tr>\n    <tr>\n      <th>18447</th>\n      <td>Kris Moore</td>\n      <td>657</td>\n      <td>Leeds</td>\n      <td>30</td>\n      <td>2021-22</td>\n      <td>Southampton</td>\n    </tr>\n  </tbody>\n</table>\n</div>"
     },
     "execution_count": 5,
     "metadata": {},
     "output_type": "execute_result"
    }
   ],
   "source": [
    "x_target.head(10)"
   ],
   "metadata": {
    "collapsed": false,
    "pycharm": {
     "name": "#%%\n"
    }
   }
  },
  {
   "cell_type": "code",
   "execution_count": null,
   "outputs": [],
   "source": [],
   "metadata": {
    "collapsed": false,
    "pycharm": {
     "name": "#%%\n"
    }
   }
  }
 ],
 "metadata": {
  "kernelspec": {
   "display_name": "Python 3.9.7 64-bit ('venv': venv)",
   "language": "python",
   "name": "python3"
  },
  "language_info": {
   "codemirror_mode": {
    "name": "ipython",
    "version": 3
   },
   "file_extension": ".py",
   "mimetype": "text/x-python",
   "name": "python",
   "nbconvert_exporter": "python",
   "pygments_lexer": "ipython3",
   "version": "3.9.13"
  },
  "orig_nbformat": 4,
  "vscode": {
   "interpreter": {
    "hash": "bbb22d9559f6976b31c36950d3631592f33fcfe361ba08906d3d31a17b5db64c"
   }
  }
 },
 "nbformat": 4,
 "nbformat_minor": 2
}