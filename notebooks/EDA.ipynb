{
 "cells": [
  {
   "cell_type": "markdown",
   "metadata": {
    "pycharm": {
     "name": "#%% md\n"
    }
   },
   "source": [
    "# FPL Exploratory Data Analysis"
   ]
  },
  {
   "cell_type": "code",
   "execution_count": 1,
   "metadata": {
    "pycharm": {
     "name": "#%%\n"
    }
   },
   "outputs": [],
   "source": [
    "import os\n",
    "\n",
    "import pandas as pd"
   ]
  },
  {
   "cell_type": "markdown",
   "metadata": {
    "pycharm": {
     "name": "#%% md\n"
    }
   },
   "source": [
    "## 1. Inspect cleaned_merged_seasons"
   ]
  },
  {
   "cell_type": "code",
   "execution_count": 2,
   "outputs": [
    {
     "name": "stdout",
     "output_type": "stream",
     "text": [
      "D:\\Studies\\Informatyka\\Semestr_3\\FPL_AI_manager\\data\\raw\\Fantasy-Premier-League\n"
     ]
    }
   ],
   "source": [
    "root_dir = os.path.dirname(os.path.abspath(''))\n",
    "\n",
    "data_fpl_dir = root_dir + '\\\\data\\\\raw\\\\Fantasy-Premier-League'\n",
    "\n",
    "print(data_fpl_dir)"
   ],
   "metadata": {
    "collapsed": false,
    "pycharm": {
     "name": "#%%\n"
    }
   }
  },
  {
   "cell_type": "code",
   "execution_count": 3,
   "metadata": {
    "pycharm": {
     "name": "#%%\n"
    }
   },
   "outputs": [],
   "source": [
    "cleaned_merged_seasons = pd.read_csv(data_fpl_dir + '\\\\cleaned_merged_seasons.csv', index_col=0, low_memory=False)"
   ]
  },
  {
   "cell_type": "code",
   "execution_count": 4,
   "metadata": {
    "pycharm": {
     "name": "#%%\n"
    }
   },
   "outputs": [
    {
     "data": {
      "text/plain": "Index(['season_x', 'name', 'position', 'team_x', 'assists', 'bonus', 'bps',\n       'clean_sheets', 'creativity', 'element', 'fixture', 'goals_conceded',\n       'goals_scored', 'ict_index', 'influence', 'kickoff_time', 'minutes',\n       'opponent_team', 'opp_team_name', 'own_goals', 'penalties_missed',\n       'penalties_saved', 'red_cards', 'round', 'saves', 'selected',\n       'team_a_score', 'team_h_score', 'threat', 'total_points',\n       'transfers_balance', 'transfers_in', 'transfers_out', 'value',\n       'was_home', 'yellow_cards', 'GW'],\n      dtype='object')"
     },
     "execution_count": 4,
     "metadata": {},
     "output_type": "execute_result"
    }
   ],
   "source": [
    "# column names for the cleaned merged seasons dataframe\n",
    "cleaned_merged_seasons.columns"
   ]
  },
  {
   "cell_type": "code",
   "execution_count": 5,
   "metadata": {
    "pycharm": {
     "name": "#%%\n"
    }
   },
   "outputs": [
    {
     "data": {
      "text/plain": "True"
     },
     "execution_count": 5,
     "metadata": {},
     "output_type": "execute_result"
    }
   ],
   "source": [
    "# check if in every row of the cleaned merged seasons dataframe 'round' column is equal to the 'GW' column\n",
    "cleaned_merged_seasons['round'].equals(cleaned_merged_seasons['GW'])"
   ]
  },
  {
   "cell_type": "markdown",
   "metadata": {
    "pycharm": {
     "name": "#%% md\n"
    }
   },
   "source": [
    "Column 'round' is equal to the 'GW' column (delete redundant column)\n",
    "\n",
    "Conclusion:\n",
    "**cleaned_merged_seasons data is not updated every game week, so it's better to use data from specific seasons folders**"
   ]
  },
  {
   "cell_type": "markdown",
   "metadata": {
    "pycharm": {
     "name": "#%% md\n"
    }
   },
   "source": [
    "## 2. Inspect data in season/gws folder"
   ]
  },
  {
   "cell_type": "markdown",
   "metadata": {
    "pycharm": {
     "name": "#%% md\n"
    }
   },
   "source": [
    "### 2.1 Inspect gws/gw1 data"
   ]
  },
  {
   "cell_type": "code",
   "execution_count": 6,
   "metadata": {
    "pycharm": {
     "name": "#%%\n"
    }
   },
   "outputs": [],
   "source": [
    "gws_gw1 = pd.read_csv(data_fpl_dir + '\\\\2021-22\\\\gws\\\\gw1.csv')"
   ]
  },
  {
   "cell_type": "code",
   "execution_count": 7,
   "metadata": {
    "pycharm": {
     "name": "#%%\n"
    }
   },
   "outputs": [
    {
     "data": {
      "text/plain": "Index(['name', 'position', 'team', 'xP', 'assists', 'bonus', 'bps',\n       'clean_sheets', 'creativity', 'element', 'fixture', 'goals_conceded',\n       'goals_scored', 'ict_index', 'influence', 'kickoff_time', 'minutes',\n       'opponent_team', 'own_goals', 'penalties_missed', 'penalties_saved',\n       'red_cards', 'round', 'saves', 'selected', 'team_a_score',\n       'team_h_score', 'threat', 'total_points', 'transfers_balance',\n       'transfers_in', 'transfers_out', 'value', 'was_home', 'yellow_cards'],\n      dtype='object')"
     },
     "execution_count": 7,
     "metadata": {},
     "output_type": "execute_result"
    }
   ],
   "source": [
    "gws_gw1.columns"
   ]
  },
  {
   "cell_type": "markdown",
   "metadata": {
    "pycharm": {
     "name": "#%% md\n"
    }
   },
   "source": [
    "### 2.2 Inspect gws/xP1 data"
   ]
  },
  {
   "cell_type": "code",
   "execution_count": 8,
   "metadata": {
    "pycharm": {
     "name": "#%%\n"
    }
   },
   "outputs": [],
   "source": [
    "gws_xP1 = pd.read_csv(data_fpl_dir + '\\\\2021-22\\\\gws\\\\xP1.csv')"
   ]
  },
  {
   "cell_type": "code",
   "execution_count": 9,
   "metadata": {
    "pycharm": {
     "name": "#%%\n"
    }
   },
   "outputs": [
    {
     "data": {
      "text/plain": "   id   xP\n0   1  3.6\n1   2  2.0\n2   3  3.3\n3   4  1.1\n4   5  2.7",
      "text/html": "<div>\n<style scoped>\n    .dataframe tbody tr th:only-of-type {\n        vertical-align: middle;\n    }\n\n    .dataframe tbody tr th {\n        vertical-align: top;\n    }\n\n    .dataframe thead th {\n        text-align: right;\n    }\n</style>\n<table border=\"1\" class=\"dataframe\">\n  <thead>\n    <tr style=\"text-align: right;\">\n      <th></th>\n      <th>id</th>\n      <th>xP</th>\n    </tr>\n  </thead>\n  <tbody>\n    <tr>\n      <th>0</th>\n      <td>1</td>\n      <td>3.6</td>\n    </tr>\n    <tr>\n      <th>1</th>\n      <td>2</td>\n      <td>2.0</td>\n    </tr>\n    <tr>\n      <th>2</th>\n      <td>3</td>\n      <td>3.3</td>\n    </tr>\n    <tr>\n      <th>3</th>\n      <td>4</td>\n      <td>1.1</td>\n    </tr>\n    <tr>\n      <th>4</th>\n      <td>5</td>\n      <td>2.7</td>\n    </tr>\n  </tbody>\n</table>\n</div>"
     },
     "execution_count": 9,
     "metadata": {},
     "output_type": "execute_result"
    }
   ],
   "source": [
    "gws_xP1.head()"
   ]
  },
  {
   "cell_type": "markdown",
   "metadata": {
    "pycharm": {
     "name": "#%% md\n"
    }
   },
   "source": [
    "#### Check if data in gws_xP1 is the same as in 'xP' column of gws_gw1"
   ]
  },
  {
   "cell_type": "code",
   "execution_count": 10,
   "metadata": {
    "pycharm": {
     "name": "#%%\n"
    }
   },
   "outputs": [],
   "source": [
    "gws_xP1_sorted = gws_xP1.sort_values(by='id').reset_index(drop=True)"
   ]
  },
  {
   "cell_type": "code",
   "execution_count": 11,
   "metadata": {
    "pycharm": {
     "name": "#%%\n"
    }
   },
   "outputs": [],
   "source": [
    "extracted_xP1_sorted = gws_gw1[['element', 'xP']].sort_values(by='element').rename(columns={'element': 'id'}).reset_index(drop=True)"
   ]
  },
  {
   "cell_type": "code",
   "execution_count": 12,
   "metadata": {
    "pycharm": {
     "name": "#%%\n"
    }
   },
   "outputs": [
    {
     "data": {
      "text/plain": "True"
     },
     "execution_count": 12,
     "metadata": {},
     "output_type": "execute_result"
    }
   ],
   "source": [
    "# compare gws_xP1 and extracted_xP1\n",
    "gws_xP1_sorted.compare(extracted_xP1_sorted)\n",
    "gws_xP1_sorted.equals(extracted_xP1_sorted)"
   ]
  },
  {
   "cell_type": "markdown",
   "metadata": {
    "pycharm": {
     "name": "#%% md\n"
    }
   },
   "source": [
    "Conclusion:\n",
    "**Data from xPN files is presented as a column in game weeks data, so there is no need to use these files**"
   ]
  },
  {
   "cell_type": "markdown",
   "metadata": {
    "pycharm": {
     "name": "#%% md\n"
    }
   },
   "source": [
    "### 2.3 Inspect gws/merged_gw data"
   ]
  },
  {
   "cell_type": "code",
   "execution_count": 13,
   "metadata": {
    "pycharm": {
     "name": "#%%\n"
    }
   },
   "outputs": [],
   "source": [
    "merged_gw = pd.read_csv(data_fpl_dir + '\\\\2021-22\\\\gws\\\\merged_gw.csv')"
   ]
  },
  {
   "cell_type": "code",
   "execution_count": 14,
   "metadata": {
    "pycharm": {
     "name": "#%%\n"
    }
   },
   "outputs": [
    {
     "data": {
      "text/plain": "Index(['name', 'position', 'team', 'xP', 'assists', 'bonus', 'bps',\n       'clean_sheets', 'creativity', 'element', 'fixture', 'goals_conceded',\n       'goals_scored', 'ict_index', 'influence', 'kickoff_time', 'minutes',\n       'opponent_team', 'own_goals', 'penalties_missed', 'penalties_saved',\n       'red_cards', 'round', 'saves', 'selected', 'team_a_score',\n       'team_h_score', 'threat', 'total_points', 'transfers_balance',\n       'transfers_in', 'transfers_out', 'value', 'was_home', 'yellow_cards',\n       'GW'],\n      dtype='object')"
     },
     "execution_count": 14,
     "metadata": {},
     "output_type": "execute_result"
    }
   ],
   "source": [
    "merged_gw.columns"
   ]
  },
  {
   "cell_type": "code",
   "execution_count": 15,
   "metadata": {
    "pycharm": {
     "name": "#%%\n"
    }
   },
   "outputs": [
    {
     "data": {
      "text/plain": "True"
     },
     "execution_count": 15,
     "metadata": {},
     "output_type": "execute_result"
    }
   ],
   "source": [
    "merged_gw['round'].equals(merged_gw['GW'])"
   ]
  },
  {
   "cell_type": "code",
   "execution_count": 16,
   "metadata": {
    "pycharm": {
     "name": "#%%\n"
    }
   },
   "outputs": [
    {
     "data": {
      "text/plain": "Index(['GW'], dtype='object')"
     },
     "execution_count": 16,
     "metadata": {},
     "output_type": "execute_result"
    }
   ],
   "source": [
    "# show differences between columns in merged_gw and gws_gw1\n",
    "merged_gw.columns.difference(gws_gw1.columns)"
   ]
  },
  {
   "cell_type": "code",
   "execution_count": 17,
   "metadata": {
    "pycharm": {
     "name": "#%%\n"
    }
   },
   "outputs": [],
   "source": [
    "# combine every file which name starts with 'gw' to a list\n",
    "gws_files = [f for f in os.listdir(data_fpl_dir + '\\\\2021-22\\\\gws') if f.startswith('gw')]"
   ]
  },
  {
   "cell_type": "code",
   "execution_count": 18,
   "metadata": {
    "pycharm": {
     "name": "#%%\n"
    }
   },
   "outputs": [],
   "source": [
    "# combine every cvs file in gws_files into single pandas dataframe\n",
    "gws_merged = pd.concat([pd.read_csv(data_fpl_dir + f'\\\\2021-22\\\\gws\\\\{f}') for f in gws_files])"
   ]
  },
  {
   "cell_type": "code",
   "execution_count": 19,
   "metadata": {
    "pycharm": {
     "name": "#%%\n"
    }
   },
   "outputs": [
    {
     "data": {
      "text/plain": "Index(['GW'], dtype='object')"
     },
     "execution_count": 19,
     "metadata": {},
     "output_type": "execute_result"
    }
   ],
   "source": [
    "# show differences between columns in merged_gw and gws_merged\n",
    "merged_gw.columns.difference(gws_merged.columns)"
   ]
  },
  {
   "cell_type": "code",
   "execution_count": 20,
   "metadata": {
    "pycharm": {
     "name": "#%%\n"
    }
   },
   "outputs": [],
   "source": [
    "# delete GW column from merged_gw\n",
    "merged_gw = merged_gw.drop(columns=['GW'])"
   ]
  },
  {
   "cell_type": "code",
   "execution_count": 21,
   "metadata": {
    "pycharm": {
     "name": "#%%\n"
    }
   },
   "outputs": [
    {
     "data": {
      "text/plain": "True"
     },
     "execution_count": 21,
     "metadata": {},
     "output_type": "execute_result"
    }
   ],
   "source": [
    "# compare shapes of merged_gw and gws_merged\n",
    "merged_gw.shape == gws_merged.shape"
   ]
  },
  {
   "cell_type": "markdown",
   "metadata": {
    "pycharm": {
     "name": "#%% md\n"
    }
   },
   "source": [
    "Conclusion:\n",
    "**merged_gw.csv contains data from every game week, so it's preferable to just use it instead of loading every gw data separately**\n",
    "It contains additional column 'GW' which is equal to the 'round' column (delete redundant column)"
   ]
  },
  {
   "cell_type": "markdown",
   "metadata": {
    "pycharm": {
     "name": "#%% md\n"
    }
   },
   "source": [
    "## 3. Inspect players data"
   ]
  },
  {
   "cell_type": "markdown",
   "metadata": {
    "pycharm": {
     "name": "#%% md\n"
    }
   },
   "source": [
    "### 3.1 Inspect players/Player_Name"
   ]
  },
  {
   "cell_type": "code",
   "execution_count": 22,
   "metadata": {
    "pycharm": {
     "name": "#%%\n"
    }
   },
   "outputs": [],
   "source": [
    "moder_gw = pd.read_csv(data_fpl_dir + '\\\\2021-22\\\\players\\\\Jakub_Moder_75\\\\gw.csv')"
   ]
  },
  {
   "cell_type": "code",
   "execution_count": 23,
   "metadata": {
    "pycharm": {
     "name": "#%%\n"
    }
   },
   "outputs": [
    {
     "data": {
      "text/plain": "Index(['assists', 'bonus', 'bps', 'clean_sheets', 'creativity', 'element',\n       'fixture', 'goals_conceded', 'goals_scored', 'ict_index', 'influence',\n       'kickoff_time', 'minutes', 'opponent_team', 'own_goals',\n       'penalties_missed', 'penalties_saved', 'red_cards', 'round', 'saves',\n       'selected', 'team_a_score', 'team_h_score', 'threat', 'total_points',\n       'transfers_balance', 'transfers_in', 'transfers_out', 'value',\n       'was_home', 'yellow_cards'],\n      dtype='object')"
     },
     "execution_count": 23,
     "metadata": {},
     "output_type": "execute_result"
    }
   ],
   "source": [
    "moder_gw.columns"
   ]
  },
  {
   "cell_type": "code",
   "execution_count": 24,
   "metadata": {
    "pycharm": {
     "name": "#%%\n"
    }
   },
   "outputs": [
    {
     "data": {
      "text/plain": "Index(['name', 'position', 'team', 'xP'], dtype='object')"
     },
     "execution_count": 24,
     "metadata": {},
     "output_type": "execute_result"
    }
   ],
   "source": [
    "# show differences between columns in merged_gw and moder_gw\n",
    "merged_gw.columns.difference(moder_gw.columns)"
   ]
  },
  {
   "cell_type": "markdown",
   "metadata": {
    "pycharm": {
     "name": "#%% md\n"
    }
   },
   "source": [
    "Conclusion:\n",
    "**It looks like there is also no point using data from 'players' folder**\n",
    "Each player has his own 'gw.csv' file with data from each game week, but it's preferable to get that data from 'merged_gw.csv' file where that information is in a single file.\n",
    "There is also 'hisotry.csv' file of every player which is overview of previous season, but it's also not needed since I use more detailed data from previous seasons"
   ]
  },
  {
   "cell_type": "markdown",
   "metadata": {
    "pycharm": {
     "name": "#%% md\n"
    }
   },
   "source": [
    "## 4. Inspect understat data"
   ]
  },
  {
   "cell_type": "markdown",
   "metadata": {
    "pycharm": {
     "name": "#%% md\n"
    }
   },
   "source": [
    "### 4.1 Inspect understat/Player_Name"
   ]
  },
  {
   "cell_type": "code",
   "execution_count": 25,
   "metadata": {
    "pycharm": {
     "name": "#%%\n"
    }
   },
   "outputs": [],
   "source": [
    "moder_understat = pd.read_csv(data_fpl_dir + '\\\\2021-22\\\\understat\\\\Jakub_Moder_9284.csv')"
   ]
  },
  {
   "cell_type": "code",
   "execution_count": 26,
   "metadata": {
    "pycharm": {
     "name": "#%%\n"
    }
   },
   "outputs": [
    {
     "data": {
      "text/plain": "   goals  shots        xG  time position             h_team          a_team  \\\n0      0      0  0.000000    10      Sub           Brighton       Tottenham   \n1      0      0  0.000000    62       MC   Newcastle United        Brighton   \n2      0      1  0.046313    65       MC           Brighton     Aston Villa   \n3      0      0  0.000000    57       MR           Brighton         Burnley   \n4      0      3  0.380553    90      AMC  Manchester United        Brighton   \n5      0      3  0.308855    90       MC            Watford        Brighton   \n6      0      1  0.017743    90      AMC          Leicester        Brighton   \n7      0      1  0.094756    90       FW           Brighton         Chelsea   \n8      0      2  0.530660    90      AMC           Brighton  Crystal Palace   \n9      0      0  0.000000     6      Sub            Everton        Brighton   \n\n   h_goals  a_goals        date     id  season  roster_id        xA  assists  \\\n0        0        2  2022-03-16  16528    2021     520734  0.000000        0   \n1        2        1  2022-03-05  16651    2021     517569  0.138703        0   \n2        0        2  2022-02-26  16638    2021     516112  0.022925        0   \n3        0        3  2022-02-19  16628    2021     514181  0.000000        0   \n4        2        0  2022-02-15  16549    2021     513778  0.314073        0   \n5        0        2  2022-02-12  16625    2021     512693  0.293531        0   \n6        1        1  2022-01-23  16602    2021     510224  0.000000        0   \n7        1        1  2022-01-18  16607    2021     508923  0.000000        0   \n8        1        1  2022-01-14  16587    2021     507825  0.000000        0   \n9        2        3  2022-01-02  16580    2021     505591  0.000000        0   \n\n   key_passes  npg      npxG   xGChain  xGBuildup  \n0           0    0  0.000000  0.000000   0.000000  \n1           1    0  0.000000  0.138703   0.000000  \n2           1    0  0.046313  0.069237   0.000000  \n3           0    0  0.000000  0.000000   0.000000  \n4           1    0  0.380553  1.063944   0.369318  \n5           1    0  0.308855  0.482250   0.000000  \n6           0    0  0.017743  0.239173   0.221430  \n7           0    0  0.094756  0.550490   0.455734  \n8           0    0  0.530660  0.530660   0.000000  \n9           0    0  0.000000  0.000000   0.000000  ",
      "text/html": "<div>\n<style scoped>\n    .dataframe tbody tr th:only-of-type {\n        vertical-align: middle;\n    }\n\n    .dataframe tbody tr th {\n        vertical-align: top;\n    }\n\n    .dataframe thead th {\n        text-align: right;\n    }\n</style>\n<table border=\"1\" class=\"dataframe\">\n  <thead>\n    <tr style=\"text-align: right;\">\n      <th></th>\n      <th>goals</th>\n      <th>shots</th>\n      <th>xG</th>\n      <th>time</th>\n      <th>position</th>\n      <th>h_team</th>\n      <th>a_team</th>\n      <th>h_goals</th>\n      <th>a_goals</th>\n      <th>date</th>\n      <th>id</th>\n      <th>season</th>\n      <th>roster_id</th>\n      <th>xA</th>\n      <th>assists</th>\n      <th>key_passes</th>\n      <th>npg</th>\n      <th>npxG</th>\n      <th>xGChain</th>\n      <th>xGBuildup</th>\n    </tr>\n  </thead>\n  <tbody>\n    <tr>\n      <th>0</th>\n      <td>0</td>\n      <td>0</td>\n      <td>0.000000</td>\n      <td>10</td>\n      <td>Sub</td>\n      <td>Brighton</td>\n      <td>Tottenham</td>\n      <td>0</td>\n      <td>2</td>\n      <td>2022-03-16</td>\n      <td>16528</td>\n      <td>2021</td>\n      <td>520734</td>\n      <td>0.000000</td>\n      <td>0</td>\n      <td>0</td>\n      <td>0</td>\n      <td>0.000000</td>\n      <td>0.000000</td>\n      <td>0.000000</td>\n    </tr>\n    <tr>\n      <th>1</th>\n      <td>0</td>\n      <td>0</td>\n      <td>0.000000</td>\n      <td>62</td>\n      <td>MC</td>\n      <td>Newcastle United</td>\n      <td>Brighton</td>\n      <td>2</td>\n      <td>1</td>\n      <td>2022-03-05</td>\n      <td>16651</td>\n      <td>2021</td>\n      <td>517569</td>\n      <td>0.138703</td>\n      <td>0</td>\n      <td>1</td>\n      <td>0</td>\n      <td>0.000000</td>\n      <td>0.138703</td>\n      <td>0.000000</td>\n    </tr>\n    <tr>\n      <th>2</th>\n      <td>0</td>\n      <td>1</td>\n      <td>0.046313</td>\n      <td>65</td>\n      <td>MC</td>\n      <td>Brighton</td>\n      <td>Aston Villa</td>\n      <td>0</td>\n      <td>2</td>\n      <td>2022-02-26</td>\n      <td>16638</td>\n      <td>2021</td>\n      <td>516112</td>\n      <td>0.022925</td>\n      <td>0</td>\n      <td>1</td>\n      <td>0</td>\n      <td>0.046313</td>\n      <td>0.069237</td>\n      <td>0.000000</td>\n    </tr>\n    <tr>\n      <th>3</th>\n      <td>0</td>\n      <td>0</td>\n      <td>0.000000</td>\n      <td>57</td>\n      <td>MR</td>\n      <td>Brighton</td>\n      <td>Burnley</td>\n      <td>0</td>\n      <td>3</td>\n      <td>2022-02-19</td>\n      <td>16628</td>\n      <td>2021</td>\n      <td>514181</td>\n      <td>0.000000</td>\n      <td>0</td>\n      <td>0</td>\n      <td>0</td>\n      <td>0.000000</td>\n      <td>0.000000</td>\n      <td>0.000000</td>\n    </tr>\n    <tr>\n      <th>4</th>\n      <td>0</td>\n      <td>3</td>\n      <td>0.380553</td>\n      <td>90</td>\n      <td>AMC</td>\n      <td>Manchester United</td>\n      <td>Brighton</td>\n      <td>2</td>\n      <td>0</td>\n      <td>2022-02-15</td>\n      <td>16549</td>\n      <td>2021</td>\n      <td>513778</td>\n      <td>0.314073</td>\n      <td>0</td>\n      <td>1</td>\n      <td>0</td>\n      <td>0.380553</td>\n      <td>1.063944</td>\n      <td>0.369318</td>\n    </tr>\n    <tr>\n      <th>5</th>\n      <td>0</td>\n      <td>3</td>\n      <td>0.308855</td>\n      <td>90</td>\n      <td>MC</td>\n      <td>Watford</td>\n      <td>Brighton</td>\n      <td>0</td>\n      <td>2</td>\n      <td>2022-02-12</td>\n      <td>16625</td>\n      <td>2021</td>\n      <td>512693</td>\n      <td>0.293531</td>\n      <td>0</td>\n      <td>1</td>\n      <td>0</td>\n      <td>0.308855</td>\n      <td>0.482250</td>\n      <td>0.000000</td>\n    </tr>\n    <tr>\n      <th>6</th>\n      <td>0</td>\n      <td>1</td>\n      <td>0.017743</td>\n      <td>90</td>\n      <td>AMC</td>\n      <td>Leicester</td>\n      <td>Brighton</td>\n      <td>1</td>\n      <td>1</td>\n      <td>2022-01-23</td>\n      <td>16602</td>\n      <td>2021</td>\n      <td>510224</td>\n      <td>0.000000</td>\n      <td>0</td>\n      <td>0</td>\n      <td>0</td>\n      <td>0.017743</td>\n      <td>0.239173</td>\n      <td>0.221430</td>\n    </tr>\n    <tr>\n      <th>7</th>\n      <td>0</td>\n      <td>1</td>\n      <td>0.094756</td>\n      <td>90</td>\n      <td>FW</td>\n      <td>Brighton</td>\n      <td>Chelsea</td>\n      <td>1</td>\n      <td>1</td>\n      <td>2022-01-18</td>\n      <td>16607</td>\n      <td>2021</td>\n      <td>508923</td>\n      <td>0.000000</td>\n      <td>0</td>\n      <td>0</td>\n      <td>0</td>\n      <td>0.094756</td>\n      <td>0.550490</td>\n      <td>0.455734</td>\n    </tr>\n    <tr>\n      <th>8</th>\n      <td>0</td>\n      <td>2</td>\n      <td>0.530660</td>\n      <td>90</td>\n      <td>AMC</td>\n      <td>Brighton</td>\n      <td>Crystal Palace</td>\n      <td>1</td>\n      <td>1</td>\n      <td>2022-01-14</td>\n      <td>16587</td>\n      <td>2021</td>\n      <td>507825</td>\n      <td>0.000000</td>\n      <td>0</td>\n      <td>0</td>\n      <td>0</td>\n      <td>0.530660</td>\n      <td>0.530660</td>\n      <td>0.000000</td>\n    </tr>\n    <tr>\n      <th>9</th>\n      <td>0</td>\n      <td>0</td>\n      <td>0.000000</td>\n      <td>6</td>\n      <td>Sub</td>\n      <td>Everton</td>\n      <td>Brighton</td>\n      <td>2</td>\n      <td>3</td>\n      <td>2022-01-02</td>\n      <td>16580</td>\n      <td>2021</td>\n      <td>505591</td>\n      <td>0.000000</td>\n      <td>0</td>\n      <td>0</td>\n      <td>0</td>\n      <td>0.000000</td>\n      <td>0.000000</td>\n      <td>0.000000</td>\n    </tr>\n  </tbody>\n</table>\n</div>"
     },
     "execution_count": 26,
     "metadata": {},
     "output_type": "execute_result"
    }
   ],
   "source": [
    "moder_understat.head(10)"
   ]
  },
  {
   "cell_type": "markdown",
   "metadata": {
    "pycharm": {
     "name": "#%% md\n"
    }
   },
   "source": [
    "Conclusion:\n",
    "Understat folder contains each player individual csv data file, with information about every of their Premier League appearances. Understat data offers some intresting metrics which can be helpful for traning model.\n",
    "**There is a need to merge understat data with data from 'merged_gw.csv' file, probably by adding important columns like 'xG', 'xA', 'npxG', 'xGChain' to merged gw data if player name and match date is equal.**"
   ]
  },
  {
   "cell_type": "markdown",
   "metadata": {
    "pycharm": {
     "name": "#%% md\n"
    }
   },
   "source": [
    "## 5. Inspect cleaned_players.csv"
   ]
  },
  {
   "cell_type": "code",
   "execution_count": 27,
   "metadata": {
    "pycharm": {
     "name": "#%%\n"
    }
   },
   "outputs": [],
   "source": [
    "cleaned_players = pd.read_csv(data_fpl_dir + '\\\\2021-22\\\\cleaned_players.csv')"
   ]
  },
  {
   "cell_type": "code",
   "execution_count": 28,
   "metadata": {
    "pycharm": {
     "name": "#%%\n"
    }
   },
   "outputs": [
    {
     "data": {
      "text/plain": "       first_name      second_name  goals_scored  assists  total_points  \\\n0           Bernd             Leno             0        0            10   \n1      Rúnar Alex        Rúnarsson             0        0             0   \n2         Willian  Borges Da Silva             0        0             0   \n3  Pierre-Emerick       Aubameyang             4        1            44   \n4          Cédric           Soares             0        0            24   \n5       Alexandre        Lacazette             4        8            81   \n6          Granit            Xhaka             0        1            33   \n7           Pablo             Marí             0        0             1   \n8          Héctor         Bellerín             0        0             0   \n9            Sead        Kolasinac             0        0             0   \n\n   minutes  goals_conceded  creativity  influence  threat  bonus  bps  \\\n0      360               9         0.0       85.0     0.0      0   69   \n1        0               0         0.0        0.0     0.0      0    0   \n2        0               0         0.0        0.0     0.0      0    0   \n3     1036              16       132.4      217.6   582.0      7  131   \n4      829              14       144.2      147.2    56.0      0  160   \n5     1523              11       366.5      372.0   703.0      3  286   \n6     1455              21       304.2      212.8   167.0      0  190   \n7      180               4        12.3       55.4    11.0      0   35   \n8        0               0         0.0        0.0     0.0      0    0   \n9       91               5         0.2        4.2     0.0      0    6   \n\n   ict_index  clean_sheets  red_cards  yellow_cards  selected_by_percent  \\\n0        8.5             1          0             0                  0.9   \n1        0.0             0          0             0                  0.5   \n2        0.0             0          0             0                  0.1   \n3       92.9             6          0             3                  1.3   \n4       34.8             3          0             3                  0.3   \n5      144.1            10          0             0                  8.7   \n6       68.4             6          1             6                  0.3   \n7        7.9             0          0             1                  0.1   \n8        0.0             0          0             0                  0.2   \n9        0.4             0          0             1                  0.1   \n\n   now_cost element_type  \n0        45           GK  \n1        40           GK  \n2        63          MID  \n3        96          FWD  \n4        42          DEF  \n5        84          FWD  \n6        48          MID  \n7        42          DEF  \n8        48          DEF  \n9        42          DEF  ",
      "text/html": "<div>\n<style scoped>\n    .dataframe tbody tr th:only-of-type {\n        vertical-align: middle;\n    }\n\n    .dataframe tbody tr th {\n        vertical-align: top;\n    }\n\n    .dataframe thead th {\n        text-align: right;\n    }\n</style>\n<table border=\"1\" class=\"dataframe\">\n  <thead>\n    <tr style=\"text-align: right;\">\n      <th></th>\n      <th>first_name</th>\n      <th>second_name</th>\n      <th>goals_scored</th>\n      <th>assists</th>\n      <th>total_points</th>\n      <th>minutes</th>\n      <th>goals_conceded</th>\n      <th>creativity</th>\n      <th>influence</th>\n      <th>threat</th>\n      <th>bonus</th>\n      <th>bps</th>\n      <th>ict_index</th>\n      <th>clean_sheets</th>\n      <th>red_cards</th>\n      <th>yellow_cards</th>\n      <th>selected_by_percent</th>\n      <th>now_cost</th>\n      <th>element_type</th>\n    </tr>\n  </thead>\n  <tbody>\n    <tr>\n      <th>0</th>\n      <td>Bernd</td>\n      <td>Leno</td>\n      <td>0</td>\n      <td>0</td>\n      <td>10</td>\n      <td>360</td>\n      <td>9</td>\n      <td>0.0</td>\n      <td>85.0</td>\n      <td>0.0</td>\n      <td>0</td>\n      <td>69</td>\n      <td>8.5</td>\n      <td>1</td>\n      <td>0</td>\n      <td>0</td>\n      <td>0.9</td>\n      <td>45</td>\n      <td>GK</td>\n    </tr>\n    <tr>\n      <th>1</th>\n      <td>Rúnar Alex</td>\n      <td>Rúnarsson</td>\n      <td>0</td>\n      <td>0</td>\n      <td>0</td>\n      <td>0</td>\n      <td>0</td>\n      <td>0.0</td>\n      <td>0.0</td>\n      <td>0.0</td>\n      <td>0</td>\n      <td>0</td>\n      <td>0.0</td>\n      <td>0</td>\n      <td>0</td>\n      <td>0</td>\n      <td>0.5</td>\n      <td>40</td>\n      <td>GK</td>\n    </tr>\n    <tr>\n      <th>2</th>\n      <td>Willian</td>\n      <td>Borges Da Silva</td>\n      <td>0</td>\n      <td>0</td>\n      <td>0</td>\n      <td>0</td>\n      <td>0</td>\n      <td>0.0</td>\n      <td>0.0</td>\n      <td>0.0</td>\n      <td>0</td>\n      <td>0</td>\n      <td>0.0</td>\n      <td>0</td>\n      <td>0</td>\n      <td>0</td>\n      <td>0.1</td>\n      <td>63</td>\n      <td>MID</td>\n    </tr>\n    <tr>\n      <th>3</th>\n      <td>Pierre-Emerick</td>\n      <td>Aubameyang</td>\n      <td>4</td>\n      <td>1</td>\n      <td>44</td>\n      <td>1036</td>\n      <td>16</td>\n      <td>132.4</td>\n      <td>217.6</td>\n      <td>582.0</td>\n      <td>7</td>\n      <td>131</td>\n      <td>92.9</td>\n      <td>6</td>\n      <td>0</td>\n      <td>3</td>\n      <td>1.3</td>\n      <td>96</td>\n      <td>FWD</td>\n    </tr>\n    <tr>\n      <th>4</th>\n      <td>Cédric</td>\n      <td>Soares</td>\n      <td>0</td>\n      <td>0</td>\n      <td>24</td>\n      <td>829</td>\n      <td>14</td>\n      <td>144.2</td>\n      <td>147.2</td>\n      <td>56.0</td>\n      <td>0</td>\n      <td>160</td>\n      <td>34.8</td>\n      <td>3</td>\n      <td>0</td>\n      <td>3</td>\n      <td>0.3</td>\n      <td>42</td>\n      <td>DEF</td>\n    </tr>\n    <tr>\n      <th>5</th>\n      <td>Alexandre</td>\n      <td>Lacazette</td>\n      <td>4</td>\n      <td>8</td>\n      <td>81</td>\n      <td>1523</td>\n      <td>11</td>\n      <td>366.5</td>\n      <td>372.0</td>\n      <td>703.0</td>\n      <td>3</td>\n      <td>286</td>\n      <td>144.1</td>\n      <td>10</td>\n      <td>0</td>\n      <td>0</td>\n      <td>8.7</td>\n      <td>84</td>\n      <td>FWD</td>\n    </tr>\n    <tr>\n      <th>6</th>\n      <td>Granit</td>\n      <td>Xhaka</td>\n      <td>0</td>\n      <td>1</td>\n      <td>33</td>\n      <td>1455</td>\n      <td>21</td>\n      <td>304.2</td>\n      <td>212.8</td>\n      <td>167.0</td>\n      <td>0</td>\n      <td>190</td>\n      <td>68.4</td>\n      <td>6</td>\n      <td>1</td>\n      <td>6</td>\n      <td>0.3</td>\n      <td>48</td>\n      <td>MID</td>\n    </tr>\n    <tr>\n      <th>7</th>\n      <td>Pablo</td>\n      <td>Marí</td>\n      <td>0</td>\n      <td>0</td>\n      <td>1</td>\n      <td>180</td>\n      <td>4</td>\n      <td>12.3</td>\n      <td>55.4</td>\n      <td>11.0</td>\n      <td>0</td>\n      <td>35</td>\n      <td>7.9</td>\n      <td>0</td>\n      <td>0</td>\n      <td>1</td>\n      <td>0.1</td>\n      <td>42</td>\n      <td>DEF</td>\n    </tr>\n    <tr>\n      <th>8</th>\n      <td>Héctor</td>\n      <td>Bellerín</td>\n      <td>0</td>\n      <td>0</td>\n      <td>0</td>\n      <td>0</td>\n      <td>0</td>\n      <td>0.0</td>\n      <td>0.0</td>\n      <td>0.0</td>\n      <td>0</td>\n      <td>0</td>\n      <td>0.0</td>\n      <td>0</td>\n      <td>0</td>\n      <td>0</td>\n      <td>0.2</td>\n      <td>48</td>\n      <td>DEF</td>\n    </tr>\n    <tr>\n      <th>9</th>\n      <td>Sead</td>\n      <td>Kolasinac</td>\n      <td>0</td>\n      <td>0</td>\n      <td>0</td>\n      <td>91</td>\n      <td>5</td>\n      <td>0.2</td>\n      <td>4.2</td>\n      <td>0.0</td>\n      <td>0</td>\n      <td>6</td>\n      <td>0.4</td>\n      <td>0</td>\n      <td>0</td>\n      <td>1</td>\n      <td>0.1</td>\n      <td>42</td>\n      <td>DEF</td>\n    </tr>\n  </tbody>\n</table>\n</div>"
     },
     "execution_count": 28,
     "metadata": {},
     "output_type": "execute_result"
    }
   ],
   "source": [
    "cleaned_players.head(10)"
   ]
  },
  {
   "cell_type": "markdown",
   "metadata": {
    "pycharm": {
     "name": "#%% md\n"
    }
   },
   "source": [
    "Conclusion:\n",
    "Cleaned players data contains rows with overall summary of each player seasons stats so far.\n",
    "**Merged_gw dataframe contains deeper information about players performance, but maybe cleaned_players data could be useful to exctract some more whole season specific metrics.**"
   ]
  },
  {
   "cell_type": "markdown",
   "metadata": {
    "pycharm": {
     "name": "#%% md\n"
    }
   },
   "source": [
    "## 6. Inspect players_raw.csv"
   ]
  },
  {
   "cell_type": "code",
   "execution_count": 29,
   "metadata": {
    "pycharm": {
     "name": "#%%\n"
    }
   },
   "outputs": [],
   "source": [
    "raw_players = pd.read_csv(data_fpl_dir + '\\\\2021-22\\\\players_raw.csv')"
   ]
  },
  {
   "cell_type": "code",
   "execution_count": 30,
   "metadata": {
    "pycharm": {
     "name": "#%%\n"
    }
   },
   "outputs": [
    {
     "data": {
      "text/plain": "   assists  bonus  bps chance_of_playing_next_round  \\\n0        0      0   69                          100   \n1        0      0    0                            0   \n2        0      0    0                            0   \n3        1      7  131                            0   \n4        0      0  160                          100   \n5        8      3  286                          100   \n6        1      0  190                          100   \n7        0      0   35                            0   \n8        0      0    0                            0   \n9        0      0    6                            0   \n\n  chance_of_playing_this_round  clean_sheets    code  \\\n0                          100             1   80201   \n1                            0             0  115918   \n2                            0             0   47431   \n3                            0             6   54694   \n4                          100             3   58822   \n5                          100            10   59966   \n6                          100             6   84450   \n7                            0             0   92371   \n8                            0             0   98745   \n9                            0             0  111457   \n\n  corners_and_indirect_freekicks_order  corners_and_indirect_freekicks_text  \\\n0                                 None                                  NaN   \n1                                 None                                  NaN   \n2                                 None                                  NaN   \n3                                 None                                  NaN   \n4                                 None                                  NaN   \n5                                 None                                  NaN   \n6                                 None                                  NaN   \n7                                 None                                  NaN   \n8                                 None                                  NaN   \n9                                 None                                  NaN   \n\n   cost_change_event  ...  threat_rank_type  total_points  transfers_in  \\\n0                  0  ...                60            10         67262   \n1                  0  ...                19             0         19017   \n2                  0  ...               294             0           914   \n3                  0  ...                17            44        742898   \n4                  0  ...               106            24         29652   \n5                  0  ...                11            81       1601108   \n6                  0  ...               108            33         29634   \n7                  0  ...               150             1          5760   \n8                  0  ...               239             0          3737   \n9                  0  ...               219             0          3727   \n\n   transfers_in_event  transfers_out  transfers_out_event value_form  \\\n0                2275         190721                  165        0.2   \n1                   0          79275                   45        0.0   \n2                   0          20487                    1        0.0   \n3                   0         895817                  206        0.0   \n4                 891          29825                  188        0.6   \n5               12669        1040858                11443        0.6   \n6                 133          88253                   94        0.5   \n7                   0          14914                    9        0.0   \n8                   0          70597                    7        0.0   \n9                   0          11552                    3        0.0   \n\n   value_season    web_name  yellow_cards  \n0           2.2        Leno             0  \n1           0.0   Rúnarsson             0  \n2           0.0     Willian             0  \n3           4.6  Aubameyang             3  \n4           5.7      Cédric             3  \n5           9.6   Lacazette             0  \n6           6.9       Xhaka             6  \n7           0.2        Marí             1  \n8           0.0    Bellerín             0  \n9           0.0   Kolasinac             1  \n\n[10 rows x 67 columns]",
      "text/html": "<div>\n<style scoped>\n    .dataframe tbody tr th:only-of-type {\n        vertical-align: middle;\n    }\n\n    .dataframe tbody tr th {\n        vertical-align: top;\n    }\n\n    .dataframe thead th {\n        text-align: right;\n    }\n</style>\n<table border=\"1\" class=\"dataframe\">\n  <thead>\n    <tr style=\"text-align: right;\">\n      <th></th>\n      <th>assists</th>\n      <th>bonus</th>\n      <th>bps</th>\n      <th>chance_of_playing_next_round</th>\n      <th>chance_of_playing_this_round</th>\n      <th>clean_sheets</th>\n      <th>code</th>\n      <th>corners_and_indirect_freekicks_order</th>\n      <th>corners_and_indirect_freekicks_text</th>\n      <th>cost_change_event</th>\n      <th>...</th>\n      <th>threat_rank_type</th>\n      <th>total_points</th>\n      <th>transfers_in</th>\n      <th>transfers_in_event</th>\n      <th>transfers_out</th>\n      <th>transfers_out_event</th>\n      <th>value_form</th>\n      <th>value_season</th>\n      <th>web_name</th>\n      <th>yellow_cards</th>\n    </tr>\n  </thead>\n  <tbody>\n    <tr>\n      <th>0</th>\n      <td>0</td>\n      <td>0</td>\n      <td>69</td>\n      <td>100</td>\n      <td>100</td>\n      <td>1</td>\n      <td>80201</td>\n      <td>None</td>\n      <td>NaN</td>\n      <td>0</td>\n      <td>...</td>\n      <td>60</td>\n      <td>10</td>\n      <td>67262</td>\n      <td>2275</td>\n      <td>190721</td>\n      <td>165</td>\n      <td>0.2</td>\n      <td>2.2</td>\n      <td>Leno</td>\n      <td>0</td>\n    </tr>\n    <tr>\n      <th>1</th>\n      <td>0</td>\n      <td>0</td>\n      <td>0</td>\n      <td>0</td>\n      <td>0</td>\n      <td>0</td>\n      <td>115918</td>\n      <td>None</td>\n      <td>NaN</td>\n      <td>0</td>\n      <td>...</td>\n      <td>19</td>\n      <td>0</td>\n      <td>19017</td>\n      <td>0</td>\n      <td>79275</td>\n      <td>45</td>\n      <td>0.0</td>\n      <td>0.0</td>\n      <td>Rúnarsson</td>\n      <td>0</td>\n    </tr>\n    <tr>\n      <th>2</th>\n      <td>0</td>\n      <td>0</td>\n      <td>0</td>\n      <td>0</td>\n      <td>0</td>\n      <td>0</td>\n      <td>47431</td>\n      <td>None</td>\n      <td>NaN</td>\n      <td>0</td>\n      <td>...</td>\n      <td>294</td>\n      <td>0</td>\n      <td>914</td>\n      <td>0</td>\n      <td>20487</td>\n      <td>1</td>\n      <td>0.0</td>\n      <td>0.0</td>\n      <td>Willian</td>\n      <td>0</td>\n    </tr>\n    <tr>\n      <th>3</th>\n      <td>1</td>\n      <td>7</td>\n      <td>131</td>\n      <td>0</td>\n      <td>0</td>\n      <td>6</td>\n      <td>54694</td>\n      <td>None</td>\n      <td>NaN</td>\n      <td>0</td>\n      <td>...</td>\n      <td>17</td>\n      <td>44</td>\n      <td>742898</td>\n      <td>0</td>\n      <td>895817</td>\n      <td>206</td>\n      <td>0.0</td>\n      <td>4.6</td>\n      <td>Aubameyang</td>\n      <td>3</td>\n    </tr>\n    <tr>\n      <th>4</th>\n      <td>0</td>\n      <td>0</td>\n      <td>160</td>\n      <td>100</td>\n      <td>100</td>\n      <td>3</td>\n      <td>58822</td>\n      <td>None</td>\n      <td>NaN</td>\n      <td>0</td>\n      <td>...</td>\n      <td>106</td>\n      <td>24</td>\n      <td>29652</td>\n      <td>891</td>\n      <td>29825</td>\n      <td>188</td>\n      <td>0.6</td>\n      <td>5.7</td>\n      <td>Cédric</td>\n      <td>3</td>\n    </tr>\n    <tr>\n      <th>5</th>\n      <td>8</td>\n      <td>3</td>\n      <td>286</td>\n      <td>100</td>\n      <td>100</td>\n      <td>10</td>\n      <td>59966</td>\n      <td>None</td>\n      <td>NaN</td>\n      <td>0</td>\n      <td>...</td>\n      <td>11</td>\n      <td>81</td>\n      <td>1601108</td>\n      <td>12669</td>\n      <td>1040858</td>\n      <td>11443</td>\n      <td>0.6</td>\n      <td>9.6</td>\n      <td>Lacazette</td>\n      <td>0</td>\n    </tr>\n    <tr>\n      <th>6</th>\n      <td>1</td>\n      <td>0</td>\n      <td>190</td>\n      <td>100</td>\n      <td>100</td>\n      <td>6</td>\n      <td>84450</td>\n      <td>None</td>\n      <td>NaN</td>\n      <td>0</td>\n      <td>...</td>\n      <td>108</td>\n      <td>33</td>\n      <td>29634</td>\n      <td>133</td>\n      <td>88253</td>\n      <td>94</td>\n      <td>0.5</td>\n      <td>6.9</td>\n      <td>Xhaka</td>\n      <td>6</td>\n    </tr>\n    <tr>\n      <th>7</th>\n      <td>0</td>\n      <td>0</td>\n      <td>35</td>\n      <td>0</td>\n      <td>0</td>\n      <td>0</td>\n      <td>92371</td>\n      <td>None</td>\n      <td>NaN</td>\n      <td>0</td>\n      <td>...</td>\n      <td>150</td>\n      <td>1</td>\n      <td>5760</td>\n      <td>0</td>\n      <td>14914</td>\n      <td>9</td>\n      <td>0.0</td>\n      <td>0.2</td>\n      <td>Marí</td>\n      <td>1</td>\n    </tr>\n    <tr>\n      <th>8</th>\n      <td>0</td>\n      <td>0</td>\n      <td>0</td>\n      <td>0</td>\n      <td>0</td>\n      <td>0</td>\n      <td>98745</td>\n      <td>None</td>\n      <td>NaN</td>\n      <td>0</td>\n      <td>...</td>\n      <td>239</td>\n      <td>0</td>\n      <td>3737</td>\n      <td>0</td>\n      <td>70597</td>\n      <td>7</td>\n      <td>0.0</td>\n      <td>0.0</td>\n      <td>Bellerín</td>\n      <td>0</td>\n    </tr>\n    <tr>\n      <th>9</th>\n      <td>0</td>\n      <td>0</td>\n      <td>6</td>\n      <td>0</td>\n      <td>0</td>\n      <td>0</td>\n      <td>111457</td>\n      <td>None</td>\n      <td>NaN</td>\n      <td>0</td>\n      <td>...</td>\n      <td>219</td>\n      <td>0</td>\n      <td>3727</td>\n      <td>0</td>\n      <td>11552</td>\n      <td>3</td>\n      <td>0.0</td>\n      <td>0.0</td>\n      <td>Kolasinac</td>\n      <td>1</td>\n    </tr>\n  </tbody>\n</table>\n<p>10 rows × 67 columns</p>\n</div>"
     },
     "execution_count": 30,
     "metadata": {},
     "output_type": "execute_result"
    }
   ],
   "source": [
    "raw_players.head(10)"
   ]
  },
  {
   "cell_type": "code",
   "execution_count": 31,
   "metadata": {
    "pycharm": {
     "name": "#%%\n"
    }
   },
   "outputs": [
    {
     "data": {
      "text/plain": "Index(['assists', 'bonus', 'bps', 'chance_of_playing_next_round',\n       'chance_of_playing_this_round', 'clean_sheets', 'code',\n       'corners_and_indirect_freekicks_order',\n       'corners_and_indirect_freekicks_text', 'cost_change_event',\n       'cost_change_event_fall', 'cost_change_start', 'cost_change_start_fall',\n       'creativity', 'creativity_rank', 'creativity_rank_type',\n       'direct_freekicks_order', 'direct_freekicks_text', 'dreamteam_count',\n       'element_type', 'ep_next', 'ep_this', 'event_points', 'first_name',\n       'form', 'goals_conceded', 'goals_scored', 'ict_index', 'ict_index_rank',\n       'ict_index_rank_type', 'id', 'in_dreamteam', 'influence',\n       'influence_rank', 'influence_rank_type', 'minutes', 'news',\n       'news_added', 'now_cost', 'own_goals', 'penalties_missed',\n       'penalties_order', 'penalties_saved', 'penalties_text', 'photo',\n       'points_per_game', 'red_cards', 'saves', 'second_name',\n       'selected_by_percent', 'special', 'squad_number', 'status', 'team',\n       'team_code', 'threat', 'threat_rank', 'threat_rank_type',\n       'total_points', 'transfers_in', 'transfers_in_event', 'transfers_out',\n       'transfers_out_event', 'value_form', 'value_season', 'web_name',\n       'yellow_cards'],\n      dtype='object')"
     },
     "execution_count": 31,
     "metadata": {},
     "output_type": "execute_result"
    }
   ],
   "source": [
    "raw_players.columns"
   ]
  },
  {
   "cell_type": "markdown",
   "metadata": {
    "pycharm": {
     "name": "#%% md\n"
    }
   },
   "source": [
    "Conclusion:\n",
    "Raw players data can be treated as an extended version of cleaned_players. There is much more information (especially information like number of players transfers this game week, actual injury news, freekicks order).\n",
    "**I should probably make my own version of 'cleaned_players' dataframe with more detailed information gained from raw_players data.**\n"
   ]
  },
  {
   "cell_type": "markdown",
   "metadata": {
    "pycharm": {
     "name": "#%% md\n"
    }
   },
   "source": [
    "## 7. Inspect fixtures.csv"
   ]
  },
  {
   "cell_type": "code",
   "execution_count": 32,
   "metadata": {
    "pycharm": {
     "name": "#%%\n"
    }
   },
   "outputs": [],
   "source": [
    "fixtures = pd.read_csv(data_fpl_dir + '\\\\2021-22\\\\fixtures.csv')"
   ]
  },
  {
   "cell_type": "code",
   "execution_count": 33,
   "metadata": {
    "pycharm": {
     "name": "#%%\n"
    }
   },
   "outputs": [
    {
     "data": {
      "text/plain": "       code  event  finished  finished_provisional  id          kickoff_time  \\\n10  2210276    1.0      True                  True   6  2021-08-14T11:30:00Z   \n11  2210272    1.0      True                  True   2  2021-08-14T14:00:00Z   \n12  2210273    1.0      True                  True   3  2021-08-14T14:00:00Z   \n13  2210274    1.0      True                  True   4  2021-08-14T14:00:00Z   \n14  2210275    1.0      True                  True   5  2021-08-14T14:00:00Z   \n15  2210280    1.0      True                  True   8  2021-08-14T14:00:00Z   \n16  2210278    1.0      True                  True   7  2021-08-14T16:30:00Z   \n17  2210277    1.0      True                  True   9  2021-08-15T13:00:00Z   \n18  2210279    1.0      True                  True  10  2021-08-15T15:30:00Z   \n19  2210286    2.0      True                  True  15  2021-08-21T11:30:00Z   \n\n    minutes  provisional_start_time started  team_a  team_a_score  team_h  \\\n10       90                   False    True      10           1.0      13   \n11       90                   False    True       4           2.0       5   \n12       90                   False    True       7           0.0       6   \n13       90                   False    True      16           1.0       8   \n14       90                   False    True      20           0.0       9   \n15       90                   False    True       2           2.0      18   \n16       90                   False    True      11           3.0      15   \n17       90                   False    True      19           4.0      14   \n18       90                   False    True      12           0.0      17   \n19       90                   False    True       5           0.0      11   \n\n    team_h_score                                              stats  \\\n10           5.0  [{'identifier': 'goals_scored', 'a': [{'value'...   \n11           1.0  [{'identifier': 'goals_scored', 'a': [{'value'...   \n12           3.0  [{'identifier': 'goals_scored', 'a': [], 'h': ...   \n13           3.0  [{'identifier': 'goals_scored', 'a': [{'value'...   \n14           1.0  [{'identifier': 'goals_scored', 'a': [], 'h': ...   \n15           3.0  [{'identifier': 'goals_scored', 'a': [{'value'...   \n16           0.0  [{'identifier': 'goals_scored', 'a': [{'value'...   \n17           2.0  [{'identifier': 'goals_scored', 'a': [{'value'...   \n18           1.0  [{'identifier': 'goals_scored', 'a': [], 'h': ...   \n19           2.0  [{'identifier': 'goals_scored', 'a': [], 'h': ...   \n\n    team_h_difficulty  team_a_difficulty  pulse_id  \n10                  2                  4     66347  \n11                  3                  2     66343  \n12                  2                  5     66344  \n13                  2                  2     66345  \n14                  3                  3     66346  \n15                  3                  2     66351  \n16                  4                  2     66349  \n17                  3                  2     66348  \n18                  5                  4     66350  \n19                  2                  5     66357  ",
      "text/html": "<div>\n<style scoped>\n    .dataframe tbody tr th:only-of-type {\n        vertical-align: middle;\n    }\n\n    .dataframe tbody tr th {\n        vertical-align: top;\n    }\n\n    .dataframe thead th {\n        text-align: right;\n    }\n</style>\n<table border=\"1\" class=\"dataframe\">\n  <thead>\n    <tr style=\"text-align: right;\">\n      <th></th>\n      <th>code</th>\n      <th>event</th>\n      <th>finished</th>\n      <th>finished_provisional</th>\n      <th>id</th>\n      <th>kickoff_time</th>\n      <th>minutes</th>\n      <th>provisional_start_time</th>\n      <th>started</th>\n      <th>team_a</th>\n      <th>team_a_score</th>\n      <th>team_h</th>\n      <th>team_h_score</th>\n      <th>stats</th>\n      <th>team_h_difficulty</th>\n      <th>team_a_difficulty</th>\n      <th>pulse_id</th>\n    </tr>\n  </thead>\n  <tbody>\n    <tr>\n      <th>10</th>\n      <td>2210276</td>\n      <td>1.0</td>\n      <td>True</td>\n      <td>True</td>\n      <td>6</td>\n      <td>2021-08-14T11:30:00Z</td>\n      <td>90</td>\n      <td>False</td>\n      <td>True</td>\n      <td>10</td>\n      <td>1.0</td>\n      <td>13</td>\n      <td>5.0</td>\n      <td>[{'identifier': 'goals_scored', 'a': [{'value'...</td>\n      <td>2</td>\n      <td>4</td>\n      <td>66347</td>\n    </tr>\n    <tr>\n      <th>11</th>\n      <td>2210272</td>\n      <td>1.0</td>\n      <td>True</td>\n      <td>True</td>\n      <td>2</td>\n      <td>2021-08-14T14:00:00Z</td>\n      <td>90</td>\n      <td>False</td>\n      <td>True</td>\n      <td>4</td>\n      <td>2.0</td>\n      <td>5</td>\n      <td>1.0</td>\n      <td>[{'identifier': 'goals_scored', 'a': [{'value'...</td>\n      <td>3</td>\n      <td>2</td>\n      <td>66343</td>\n    </tr>\n    <tr>\n      <th>12</th>\n      <td>2210273</td>\n      <td>1.0</td>\n      <td>True</td>\n      <td>True</td>\n      <td>3</td>\n      <td>2021-08-14T14:00:00Z</td>\n      <td>90</td>\n      <td>False</td>\n      <td>True</td>\n      <td>7</td>\n      <td>0.0</td>\n      <td>6</td>\n      <td>3.0</td>\n      <td>[{'identifier': 'goals_scored', 'a': [], 'h': ...</td>\n      <td>2</td>\n      <td>5</td>\n      <td>66344</td>\n    </tr>\n    <tr>\n      <th>13</th>\n      <td>2210274</td>\n      <td>1.0</td>\n      <td>True</td>\n      <td>True</td>\n      <td>4</td>\n      <td>2021-08-14T14:00:00Z</td>\n      <td>90</td>\n      <td>False</td>\n      <td>True</td>\n      <td>16</td>\n      <td>1.0</td>\n      <td>8</td>\n      <td>3.0</td>\n      <td>[{'identifier': 'goals_scored', 'a': [{'value'...</td>\n      <td>2</td>\n      <td>2</td>\n      <td>66345</td>\n    </tr>\n    <tr>\n      <th>14</th>\n      <td>2210275</td>\n      <td>1.0</td>\n      <td>True</td>\n      <td>True</td>\n      <td>5</td>\n      <td>2021-08-14T14:00:00Z</td>\n      <td>90</td>\n      <td>False</td>\n      <td>True</td>\n      <td>20</td>\n      <td>0.0</td>\n      <td>9</td>\n      <td>1.0</td>\n      <td>[{'identifier': 'goals_scored', 'a': [], 'h': ...</td>\n      <td>3</td>\n      <td>3</td>\n      <td>66346</td>\n    </tr>\n    <tr>\n      <th>15</th>\n      <td>2210280</td>\n      <td>1.0</td>\n      <td>True</td>\n      <td>True</td>\n      <td>8</td>\n      <td>2021-08-14T14:00:00Z</td>\n      <td>90</td>\n      <td>False</td>\n      <td>True</td>\n      <td>2</td>\n      <td>2.0</td>\n      <td>18</td>\n      <td>3.0</td>\n      <td>[{'identifier': 'goals_scored', 'a': [{'value'...</td>\n      <td>3</td>\n      <td>2</td>\n      <td>66351</td>\n    </tr>\n    <tr>\n      <th>16</th>\n      <td>2210278</td>\n      <td>1.0</td>\n      <td>True</td>\n      <td>True</td>\n      <td>7</td>\n      <td>2021-08-14T16:30:00Z</td>\n      <td>90</td>\n      <td>False</td>\n      <td>True</td>\n      <td>11</td>\n      <td>3.0</td>\n      <td>15</td>\n      <td>0.0</td>\n      <td>[{'identifier': 'goals_scored', 'a': [{'value'...</td>\n      <td>4</td>\n      <td>2</td>\n      <td>66349</td>\n    </tr>\n    <tr>\n      <th>17</th>\n      <td>2210277</td>\n      <td>1.0</td>\n      <td>True</td>\n      <td>True</td>\n      <td>9</td>\n      <td>2021-08-15T13:00:00Z</td>\n      <td>90</td>\n      <td>False</td>\n      <td>True</td>\n      <td>19</td>\n      <td>4.0</td>\n      <td>14</td>\n      <td>2.0</td>\n      <td>[{'identifier': 'goals_scored', 'a': [{'value'...</td>\n      <td>3</td>\n      <td>2</td>\n      <td>66348</td>\n    </tr>\n    <tr>\n      <th>18</th>\n      <td>2210279</td>\n      <td>1.0</td>\n      <td>True</td>\n      <td>True</td>\n      <td>10</td>\n      <td>2021-08-15T15:30:00Z</td>\n      <td>90</td>\n      <td>False</td>\n      <td>True</td>\n      <td>12</td>\n      <td>0.0</td>\n      <td>17</td>\n      <td>1.0</td>\n      <td>[{'identifier': 'goals_scored', 'a': [], 'h': ...</td>\n      <td>5</td>\n      <td>4</td>\n      <td>66350</td>\n    </tr>\n    <tr>\n      <th>19</th>\n      <td>2210286</td>\n      <td>2.0</td>\n      <td>True</td>\n      <td>True</td>\n      <td>15</td>\n      <td>2021-08-21T11:30:00Z</td>\n      <td>90</td>\n      <td>False</td>\n      <td>True</td>\n      <td>5</td>\n      <td>0.0</td>\n      <td>11</td>\n      <td>2.0</td>\n      <td>[{'identifier': 'goals_scored', 'a': [], 'h': ...</td>\n      <td>2</td>\n      <td>5</td>\n      <td>66357</td>\n    </tr>\n  </tbody>\n</table>\n</div>"
     },
     "execution_count": 33,
     "metadata": {},
     "output_type": "execute_result"
    }
   ],
   "source": [
    "fixtures[10:20]"
   ]
  },
  {
   "cell_type": "markdown",
   "metadata": {
    "pycharm": {
     "name": "#%% md\n"
    }
   },
   "source": [
    "Conclusion:\n",
    "Fixtures data contains information about each fixture each game week. There is bool column with information if match is already finished, and information about scores.\n",
    "**Data from this table is especially useful when predicting the best players to buy and play next few games.**"
   ]
  },
  {
   "cell_type": "markdown",
   "metadata": {
    "pycharm": {
     "name": "#%% md\n"
    }
   },
   "source": [
    "## 8. teams.csv, id_dict.csv, player_idlist.csv"
   ]
  },
  {
   "cell_type": "markdown",
   "metadata": {
    "pycharm": {
     "name": "#%% md\n"
    }
   },
   "source": [
    "There are also csv files with information with player or team ID, which can be helpful in joining data from different tables etc."
   ]
  }
 ],
 "metadata": {
  "kernelspec": {
   "display_name": "Python 3 (ipykernel)",
   "language": "python",
   "name": "python3"
  },
  "language_info": {
   "codemirror_mode": {
    "name": "ipython",
    "version": 3
   },
   "file_extension": ".py",
   "mimetype": "text/x-python",
   "name": "python",
   "nbconvert_exporter": "python",
   "pygments_lexer": "ipython3",
   "version": "3.9.2"
  }
 },
 "nbformat": 4,
 "nbformat_minor": 1
}