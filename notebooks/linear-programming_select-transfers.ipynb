{
 "cells": [
  {
   "cell_type": "code",
   "execution_count": 1,
   "outputs": [],
   "source": [
    "from IPython.display import display, Markdown, Latex"
   ],
   "metadata": {
    "collapsed": false,
    "pycharm": {
     "name": "#%%\n"
    }
   }
  },
  {
   "cell_type": "markdown",
   "source": [
    "# Play with pulp library and select squad with constraints using linear programming"
   ],
   "metadata": {
    "collapsed": false,
    "pycharm": {
     "name": "#%% md\n"
    }
   }
  },
  {
   "cell_type": "code",
   "execution_count": 2,
   "outputs": [],
   "source": [
    "import pandas as pd\n",
    "import pulp\n",
    "import numpy as np\n",
    "import os"
   ],
   "metadata": {
    "collapsed": false,
    "pycharm": {
     "name": "#%%\n"
    }
   }
  },
  {
   "cell_type": "code",
   "execution_count": 3,
   "outputs": [
    {
     "data": {
      "text/plain": "                  name position       team   xP  assists  bonus  bps  \\\n18732       Kurt Zouma      DEF   West Ham  2.6        0      0    6   \n18733  Aaron Cresswell      DEF   West Ham  3.8        0      0   15   \n18734       John Ruddy       GK     Wolves  0.5        0      0    0   \n18735    Wilfred Ndidi      MID  Leicester  0.5        0      0    0   \n18736  Ryan Fredericks      DEF   West Ham  0.2        0      0    0   \n\n       clean_sheets  creativity  element  ...  team_h_score  threat  \\\n18732             0         1.8      128  ...             3     0.0   \n18733             0        14.8      411  ...             3     4.0   \n18734             0         0.0      452  ...             2     0.0   \n18735             0         0.0      216  ...             2     0.0   \n18736             0         0.0      415  ...             3     0.0   \n\n       total_points  transfers_balance  transfers_in transfers_out  value  \\\n18732            -1              10796         12551          1755     54   \n18733             1              18750         35570         16820     54   \n18734             0                 63           170           107     43   \n18735             0               -207           538           745     48   \n18736             0                 81           139            58     44   \n\n       was_home  yellow_cards  GW  \n18732     False             0  30  \n18733     False             0  30  \n18734      True             0  30  \n18735      True             0  30  \n18736     False             0  30  \n\n[5 rows x 36 columns]",
      "text/html": "<div>\n<style scoped>\n    .dataframe tbody tr th:only-of-type {\n        vertical-align: middle;\n    }\n\n    .dataframe tbody tr th {\n        vertical-align: top;\n    }\n\n    .dataframe thead th {\n        text-align: right;\n    }\n</style>\n<table border=\"1\" class=\"dataframe\">\n  <thead>\n    <tr style=\"text-align: right;\">\n      <th></th>\n      <th>name</th>\n      <th>position</th>\n      <th>team</th>\n      <th>xP</th>\n      <th>assists</th>\n      <th>bonus</th>\n      <th>bps</th>\n      <th>clean_sheets</th>\n      <th>creativity</th>\n      <th>element</th>\n      <th>...</th>\n      <th>team_h_score</th>\n      <th>threat</th>\n      <th>total_points</th>\n      <th>transfers_balance</th>\n      <th>transfers_in</th>\n      <th>transfers_out</th>\n      <th>value</th>\n      <th>was_home</th>\n      <th>yellow_cards</th>\n      <th>GW</th>\n    </tr>\n  </thead>\n  <tbody>\n    <tr>\n      <th>18732</th>\n      <td>Kurt Zouma</td>\n      <td>DEF</td>\n      <td>West Ham</td>\n      <td>2.6</td>\n      <td>0</td>\n      <td>0</td>\n      <td>6</td>\n      <td>0</td>\n      <td>1.8</td>\n      <td>128</td>\n      <td>...</td>\n      <td>3</td>\n      <td>0.0</td>\n      <td>-1</td>\n      <td>10796</td>\n      <td>12551</td>\n      <td>1755</td>\n      <td>54</td>\n      <td>False</td>\n      <td>0</td>\n      <td>30</td>\n    </tr>\n    <tr>\n      <th>18733</th>\n      <td>Aaron Cresswell</td>\n      <td>DEF</td>\n      <td>West Ham</td>\n      <td>3.8</td>\n      <td>0</td>\n      <td>0</td>\n      <td>15</td>\n      <td>0</td>\n      <td>14.8</td>\n      <td>411</td>\n      <td>...</td>\n      <td>3</td>\n      <td>4.0</td>\n      <td>1</td>\n      <td>18750</td>\n      <td>35570</td>\n      <td>16820</td>\n      <td>54</td>\n      <td>False</td>\n      <td>0</td>\n      <td>30</td>\n    </tr>\n    <tr>\n      <th>18734</th>\n      <td>John Ruddy</td>\n      <td>GK</td>\n      <td>Wolves</td>\n      <td>0.5</td>\n      <td>0</td>\n      <td>0</td>\n      <td>0</td>\n      <td>0</td>\n      <td>0.0</td>\n      <td>452</td>\n      <td>...</td>\n      <td>2</td>\n      <td>0.0</td>\n      <td>0</td>\n      <td>63</td>\n      <td>170</td>\n      <td>107</td>\n      <td>43</td>\n      <td>True</td>\n      <td>0</td>\n      <td>30</td>\n    </tr>\n    <tr>\n      <th>18735</th>\n      <td>Wilfred Ndidi</td>\n      <td>MID</td>\n      <td>Leicester</td>\n      <td>0.5</td>\n      <td>0</td>\n      <td>0</td>\n      <td>0</td>\n      <td>0</td>\n      <td>0.0</td>\n      <td>216</td>\n      <td>...</td>\n      <td>2</td>\n      <td>0.0</td>\n      <td>0</td>\n      <td>-207</td>\n      <td>538</td>\n      <td>745</td>\n      <td>48</td>\n      <td>True</td>\n      <td>0</td>\n      <td>30</td>\n    </tr>\n    <tr>\n      <th>18736</th>\n      <td>Ryan Fredericks</td>\n      <td>DEF</td>\n      <td>West Ham</td>\n      <td>0.2</td>\n      <td>0</td>\n      <td>0</td>\n      <td>0</td>\n      <td>0</td>\n      <td>0.0</td>\n      <td>415</td>\n      <td>...</td>\n      <td>3</td>\n      <td>0.0</td>\n      <td>0</td>\n      <td>81</td>\n      <td>139</td>\n      <td>58</td>\n      <td>44</td>\n      <td>False</td>\n      <td>0</td>\n      <td>30</td>\n    </tr>\n  </tbody>\n</table>\n<p>5 rows × 36 columns</p>\n</div>"
     },
     "execution_count": 3,
     "metadata": {},
     "output_type": "execute_result"
    }
   ],
   "source": [
    "data_path = os.path.dirname(os.getcwd()) + '\\\\data\\\\raw\\\\Fantasy-Premier-League\\\\'\n",
    "\n",
    "data_2021 = pd.read_csv(data_path + '2021-22/gws/merged_gw.csv')\n",
    "data_2021.tail()"
   ],
   "metadata": {
    "collapsed": false,
    "pycharm": {
     "name": "#%%\n"
    }
   }
  },
  {
   "cell_type": "markdown",
   "source": [
    "# Create solver on whole season data"
   ],
   "metadata": {
    "collapsed": false,
    "pycharm": {
     "name": "#%% md\n"
    }
   }
  },
  {
   "cell_type": "code",
   "execution_count": 4,
   "outputs": [
    {
     "data": {
      "text/plain": "                          name       team  position  value  total_points\n502              Mohamed Salah  Liverpool         3   13.3           222\n683     Trent Alexander-Arnold  Liverpool         2    8.5           187\n264              Heung-Min Son      Spurs         3   10.9           165\n368  João Pedro Cavaco Cancelo   Man City         2    7.2           162\n317               Jarrod Bowen   West Ham         3    7.1           153\n695            Virgil van Dijk  Liverpool         2    6.8           150\n40            Andrew Robertson  Liverpool         2    7.2           142\n620                 Sadio Mané  Liverpool         3   12.0           140\n29       Alisson Ramses Becker  Liverpool         1    6.0           138\n103                Bukayo Saka    Arsenal         3    6.7           138",
      "text/html": "<div>\n<style scoped>\n    .dataframe tbody tr th:only-of-type {\n        vertical-align: middle;\n    }\n\n    .dataframe tbody tr th {\n        vertical-align: top;\n    }\n\n    .dataframe thead th {\n        text-align: right;\n    }\n</style>\n<table border=\"1\" class=\"dataframe\">\n  <thead>\n    <tr style=\"text-align: right;\">\n      <th></th>\n      <th>name</th>\n      <th>team</th>\n      <th>position</th>\n      <th>value</th>\n      <th>total_points</th>\n    </tr>\n  </thead>\n  <tbody>\n    <tr>\n      <th>502</th>\n      <td>Mohamed Salah</td>\n      <td>Liverpool</td>\n      <td>3</td>\n      <td>13.3</td>\n      <td>222</td>\n    </tr>\n    <tr>\n      <th>683</th>\n      <td>Trent Alexander-Arnold</td>\n      <td>Liverpool</td>\n      <td>2</td>\n      <td>8.5</td>\n      <td>187</td>\n    </tr>\n    <tr>\n      <th>264</th>\n      <td>Heung-Min Son</td>\n      <td>Spurs</td>\n      <td>3</td>\n      <td>10.9</td>\n      <td>165</td>\n    </tr>\n    <tr>\n      <th>368</th>\n      <td>João Pedro Cavaco Cancelo</td>\n      <td>Man City</td>\n      <td>2</td>\n      <td>7.2</td>\n      <td>162</td>\n    </tr>\n    <tr>\n      <th>317</th>\n      <td>Jarrod Bowen</td>\n      <td>West Ham</td>\n      <td>3</td>\n      <td>7.1</td>\n      <td>153</td>\n    </tr>\n    <tr>\n      <th>695</th>\n      <td>Virgil van Dijk</td>\n      <td>Liverpool</td>\n      <td>2</td>\n      <td>6.8</td>\n      <td>150</td>\n    </tr>\n    <tr>\n      <th>40</th>\n      <td>Andrew Robertson</td>\n      <td>Liverpool</td>\n      <td>2</td>\n      <td>7.2</td>\n      <td>142</td>\n    </tr>\n    <tr>\n      <th>620</th>\n      <td>Sadio Mané</td>\n      <td>Liverpool</td>\n      <td>3</td>\n      <td>12.0</td>\n      <td>140</td>\n    </tr>\n    <tr>\n      <th>29</th>\n      <td>Alisson Ramses Becker</td>\n      <td>Liverpool</td>\n      <td>1</td>\n      <td>6.0</td>\n      <td>138</td>\n    </tr>\n    <tr>\n      <th>103</th>\n      <td>Bukayo Saka</td>\n      <td>Arsenal</td>\n      <td>3</td>\n      <td>6.7</td>\n      <td>138</td>\n    </tr>\n  </tbody>\n</table>\n</div>"
     },
     "execution_count": 4,
     "metadata": {},
     "output_type": "execute_result"
    }
   ],
   "source": [
    "# data_2021 grouped by name and sum of 'total_points'\n",
    "gw_sum = data_2021[['name', 'team', 'position', 'total_points', 'value']]\n",
    "gw_sum = gw_sum.groupby(['name', 'team', 'position']).agg({'value': 'max', 'total_points': 'sum'}).reset_index()\n",
    "gw_sum['value'] = gw_sum['value'] / 10\n",
    "gw_sum['position'] = gw_sum['position'].replace({'GK': 1, 'DEF': 2, 'MID': 3, 'FWD': 4})\n",
    "gw_sum.sort_values(by='total_points', ascending=False).head(10)"
   ],
   "metadata": {
    "collapsed": false,
    "pycharm": {
     "name": "#%%\n"
    }
   }
  },
  {
   "cell_type": "code",
   "execution_count": 5,
   "outputs": [],
   "source": [
    "def select_team(expected_scores, prices, positions, clubs, total_budget=100, sub_factor=0.15):\n",
    "    num_players = len(expected_scores)\n",
    "    model = pulp.LpProblem(\"Constrained value maximisation\", pulp.LpMaximize)\n",
    "    decisions = [\n",
    "        pulp.LpVariable(\"x{}\".format(i), lowBound=0, upBound=1, cat='Integer')\n",
    "        for i in range(num_players)\n",
    "    ]\n",
    "    captain_decisions = [\n",
    "        pulp.LpVariable(\"y{}\".format(i), lowBound=0, upBound=1, cat='Integer')\n",
    "        for i in range(num_players)\n",
    "    ]\n",
    "    sub_decisions = [\n",
    "        pulp.LpVariable(\"z{}\".format(i), lowBound=0, upBound=1, cat='Integer')\n",
    "        for i in range(num_players)\n",
    "    ]\n",
    "\n",
    "\n",
    "    # objective function:\n",
    "    model += sum((captain_decisions[i] + decisions[i] + sub_decisions[i]*sub_factor) * expected_scores[i]\n",
    "                 for i in range(num_players)), \"Objective\"\n",
    "\n",
    "    # cost constraint\n",
    "    model += sum((decisions[i] + sub_decisions[i]) * prices[i] for i in range(num_players)) <= total_budget  # total cost\n",
    "\n",
    "    # position constraints\n",
    "    # 1 starting goalkeeper\n",
    "    model += sum(decisions[i] for i in range(num_players) if positions[i] == 1) == 1\n",
    "    # 2 total goalkeepers\n",
    "    model += sum(decisions[i] + sub_decisions[i] for i in range(num_players) if positions[i] == 1) == 2\n",
    "\n",
    "    # 3-5 starting defenders\n",
    "    model += sum(decisions[i] for i in range(num_players) if positions[i] == 2) >= 3\n",
    "    model += sum(decisions[i] for i in range(num_players) if positions[i] == 2) <= 5\n",
    "    # 5 total defenders\n",
    "    model += sum(decisions[i] + sub_decisions[i] for i in range(num_players) if positions[i] == 2) == 5\n",
    "\n",
    "    # 3-5 starting midfielders\n",
    "    model += sum(decisions[i] for i in range(num_players) if positions[i] == 3) >= 3\n",
    "    model += sum(decisions[i] for i in range(num_players) if positions[i] == 3) <= 5\n",
    "    # 5 total midfielders\n",
    "    model += sum(decisions[i] + sub_decisions[i] for i in range(num_players) if positions[i] == 3) == 5\n",
    "\n",
    "    # 1-3 starting attackers\n",
    "    model += sum(decisions[i] for i in range(num_players) if positions[i] == 4) >= 1\n",
    "    model += sum(decisions[i] for i in range(num_players) if positions[i] == 4) <= 3\n",
    "    # 3 total attackers\n",
    "    model += sum(decisions[i] + sub_decisions[i] for i in range(num_players) if positions[i] == 4) == 3\n",
    "\n",
    "    # club constraint\n",
    "    for club_id in np.unique(clubs):\n",
    "        model += sum(decisions[i] + sub_decisions[i] for i in range(num_players) if clubs[i] == club_id) <= 3  # max 3 players\n",
    "\n",
    "    model += sum(decisions) == 11  # total team size\n",
    "    model += sum(captain_decisions) == 1  # 1 captain\n",
    "\n",
    "    for i in range(num_players):\n",
    "        model += (decisions[i] - captain_decisions[i]) >= 0  # captain must also be on team\n",
    "        model += (decisions[i] + sub_decisions[i]) <= 1  # subs must not be on team\n",
    "\n",
    "    model.solve()\n",
    "    print(\"Total expected score = {}\".format(model.objective.value()))\n",
    "\n",
    "    return decisions, captain_decisions, sub_decisions"
   ],
   "metadata": {
    "collapsed": false,
    "pycharm": {
     "name": "#%%\n"
    }
   }
  },
  {
   "cell_type": "code",
   "execution_count": 6,
   "outputs": [],
   "source": [
    "import pulp\n",
    "import numpy as np\n",
    "\n",
    "position_data = {\n",
    "    \"gk\": {\"position_id\": 1, \"min_starters\": 1, \"max_starters\": 1, \"num_total\": 2},\n",
    "    \"df\": {\"position_id\": 2, \"min_starters\": 3, \"max_starters\": 5, \"num_total\": 5},\n",
    "    \"mf\": {\"position_id\": 3, \"min_starters\": 3, \"max_starters\": 5, \"num_total\": 5},\n",
    "    \"fw\": {\"position_id\": 4, \"min_starters\": 1, \"max_starters\": 3, \"num_total\": 3},\n",
    "}\n",
    "\n",
    "\n",
    "def get_decision_array(name, length):\n",
    "    return np.array([\n",
    "        pulp.LpVariable(\"{}_{}\".format(name, i), lowBound=0, upBound=1, cat='Integer')\n",
    "        for i in range(length)\n",
    "    ])\n",
    "\n",
    "\n",
    "class TransferOptimiser:\n",
    "    def __init__(self, expected_scores, buy_prices, sell_prices, positions, clubs):\n",
    "        self.expected_scores = expected_scores\n",
    "        self.buy_prices = buy_prices\n",
    "        self.sell_prices = sell_prices\n",
    "        self.positions = positions\n",
    "        self.clubs = clubs\n",
    "        self.num_players = len(buy_prices)\n",
    "\n",
    "    def instantiate_decision_arrays(self):\n",
    "        # we will make transfers in and out of the squad, and then pick subs and captains from that squad\n",
    "        transfer_in_decisions_free = get_decision_array(\"transfer_in_free\", self.num_players)\n",
    "        transfer_in_decisions_paid = get_decision_array(\"transfer_in_paid\", self.num_players)\n",
    "        transfer_out_decisions = get_decision_array(\"transfer_out_paid\", self.num_players)\n",
    "        # total transfers in will be useful later\n",
    "        transfer_in_decisions = transfer_in_decisions_free + transfer_in_decisions_paid\n",
    "\n",
    "        sub_decisions = get_decision_array(\"subs\", self.num_players)\n",
    "        captain_decisions = get_decision_array(\"captain\", self.num_players)\n",
    "        return transfer_in_decisions_free, transfer_in_decisions_paid, transfer_out_decisions, transfer_in_decisions, sub_decisions, captain_decisions\n",
    "\n",
    "    def encode_player_indices(self, indices):\n",
    "        decisions = np.zeros(self.num_players)\n",
    "        decisions[indices] = 1\n",
    "        return decisions\n",
    "\n",
    "    def apply_transfer_constraints(self, model, transfer_in_decisions_free, transfer_in_decisions,\n",
    "                                   transfer_out_decisions, budget_now):\n",
    "        # only 1 free transfer\n",
    "        model += sum(transfer_in_decisions_free) <= 1\n",
    "\n",
    "        # budget constraint\n",
    "        transfer_in_cost = sum(transfer_in_decisions * self.buy_prices)\n",
    "        transfer_out_cost = sum(transfer_out_decisions * self.sell_prices)\n",
    "        budget_next_week = budget_now + transfer_out_cost - transfer_in_cost\n",
    "        model += budget_next_week >= 0\n",
    "\n",
    "\n",
    "    def solve(self, current_squad_indices, budget_now, sub_factor):\n",
    "        current_squad_decisions = self.encode_player_indices(current_squad_indices)\n",
    "\n",
    "        model = pulp.LpProblem(\"Transfer optimisation\", pulp.LpMaximize)\n",
    "        transfer_in_decisions_free, transfer_in_decisions_paid, transfer_out_decisions, transfer_in_decisions, sub_decisions, captain_decisions = self.instantiate_decision_arrays()\n",
    "\n",
    "        # calculate new team from current team + transfers\n",
    "        next_week_squad = current_squad_decisions + transfer_in_decisions - transfer_out_decisions\n",
    "        starters = next_week_squad - sub_decisions\n",
    "\n",
    "        # points penalty for additional transfers\n",
    "        transfer_penalty = sum(transfer_in_decisions_paid) * 4\n",
    "\n",
    "        self.apply_transfer_constraints(model, transfer_in_decisions_free, transfer_in_decisions,\n",
    "                                        transfer_out_decisions, budget_now)\n",
    "        self.apply_formation_constraints(model, squad=next_week_squad, starters=starters,\n",
    "                                         subs=sub_decisions, captains=captain_decisions)\n",
    "\n",
    "        # objective function:\n",
    "        model += self.get_objective(starters, sub_decisions, captain_decisions, sub_factor, transfer_penalty, self.expected_scores), \"Objective\"\n",
    "        status = model.solve()\n",
    "\n",
    "        print(\"Solver status: {}\".format(status))\n",
    "\n",
    "        return transfer_in_decisions, transfer_out_decisions, starters, sub_decisions, captain_decisions\n",
    "\n",
    "    def get_objective(self, starters, subs, captains, sub_factor, transfer_penalty, scores):\n",
    "        starter_points = sum(starters * scores)\n",
    "        sub_points = sum(subs * scores) * sub_factor\n",
    "        captain_points = sum(captains * scores)\n",
    "        return starter_points + sub_points + captain_points - transfer_penalty\n",
    "\n",
    "    def apply_formation_constraints(self, model, squad, starters, subs, captains):\n",
    "        for position, data in position_data.items():\n",
    "            # formation constraints\n",
    "            model += sum(starter for starter, position in zip(starters, self.positions) if position == data[\"position_id\"]) >= data[\"min_starters\"]\n",
    "            model += sum(starter for starter, position in zip(starters, self.positions) if position == data[\"position_id\"]) <= data[\"max_starters\"]\n",
    "            model += sum(selected for selected, position in zip(squad, self.positions) if position == data[\"position_id\"]) == data[\"num_total\"]\n",
    "\n",
    "        # club constraint\n",
    "        for club_id in np.unique(self.clubs):\n",
    "            model += sum(selected for selected, club in zip(squad, self.clubs) if club == club_id) <= 3  # max 3 players\n",
    "\n",
    "        # total team size\n",
    "        model += sum(starters) == 11\n",
    "        model += sum(squad) == 15\n",
    "        model += sum(captains) == 1\n",
    "\n",
    "        for i in range(self.num_players):\n",
    "            model += (starters[i] - captains[i]) >= 0  # captain must also be on team\n",
    "            model += (starters[i] + subs[i]) <= 1  # subs must not be on team"
   ],
   "metadata": {
    "collapsed": false,
    "pycharm": {
     "name": "#%%\n"
    }
   }
  },
  {
   "cell_type": "code",
   "execution_count": 7,
   "outputs": [
    {
     "name": "stderr",
     "output_type": "stream",
     "text": [
      "d:\\studies\\informatyka\\semestr_3\\fpl_ai_manager\\venv\\lib\\site-packages\\pulp\\pulp.py:1352: UserWarning: Spaces are not permitted in the name. Converted to '_'\n",
      "  warnings.warn(\"Spaces are not permitted in the name. Converted to '_'\")\n"
     ]
    },
    {
     "name": "stdout",
     "output_type": "stream",
     "text": [
      "Total expected score = 2265.0\n"
     ]
    },
    {
     "data": {
      "text/plain": "<IPython.core.display.Markdown object>",
      "text/markdown": "**Alisson Ramses Becker** Points = 138, Price = 6.0"
     },
     "metadata": {},
     "output_type": "display_data"
    },
    {
     "data": {
      "text/plain": "<IPython.core.display.Markdown object>",
      "text/markdown": "**Aymeric Laporte** Points = 123, Price = 5.8"
     },
     "metadata": {},
     "output_type": "display_data"
    },
    {
     "data": {
      "text/plain": "<IPython.core.display.Markdown object>",
      "text/markdown": "**Bukayo Saka** Points = 138, Price = 6.7"
     },
     "metadata": {},
     "output_type": "display_data"
    },
    {
     "data": {
      "text/plain": "<IPython.core.display.Markdown object>",
      "text/markdown": "**Conor Gallagher** Points = 123, Price = 6.2"
     },
     "metadata": {},
     "output_type": "display_data"
    },
    {
     "data": {
      "text/plain": "<IPython.core.display.Markdown object>",
      "text/markdown": "**Emmanuel Dennis** Points = 115, Price = 6.2"
     },
     "metadata": {},
     "output_type": "display_data"
    },
    {
     "data": {
      "text/plain": "<IPython.core.display.Markdown object>",
      "text/markdown": "**Jacob Ramsey** Points = 95, Price = 4.8"
     },
     "metadata": {},
     "output_type": "display_data"
    },
    {
     "data": {
      "text/plain": "<IPython.core.display.Markdown object>",
      "text/markdown": "**Jarrod Bowen** Points = 153, Price = 7.1"
     },
     "metadata": {},
     "output_type": "display_data"
    },
    {
     "data": {
      "text/plain": "<IPython.core.display.Markdown object>",
      "text/markdown": "**João Pedro Cavaco Cancelo** Points = 162, Price = 7.2"
     },
     "metadata": {},
     "output_type": "display_data"
    },
    {
     "data": {
      "text/plain": "<IPython.core.display.Markdown object>",
      "text/markdown": "**Matthew Cash** Points = 120, Price = 5.2"
     },
     "metadata": {},
     "output_type": "display_data"
    },
    {
     "data": {
      "text/plain": "<IPython.core.display.Markdown object>",
      "text/markdown": "**Mohamed Salah** Points = 222, Price = 13.3"
     },
     "metadata": {},
     "output_type": "display_data"
    },
    {
     "data": {
      "text/plain": "<IPython.core.display.Markdown object>",
      "text/markdown": "**Teemu Pukki** Points = 104, Price = 6.0"
     },
     "metadata": {},
     "output_type": "display_data"
    },
    {
     "name": "stdout",
     "output_type": "stream",
     "text": [
      "\n",
      "Subs:\n"
     ]
    },
    {
     "data": {
      "text/plain": "<IPython.core.display.Markdown object>",
      "text/markdown": "**Conor Coady** Points = 123, Price = 4.9"
     },
     "metadata": {},
     "output_type": "display_data"
    },
    {
     "data": {
      "text/plain": "<IPython.core.display.Markdown object>",
      "text/markdown": "**Ivan Toney** Points = 109, Price = 6.7"
     },
     "metadata": {},
     "output_type": "display_data"
    },
    {
     "data": {
      "text/plain": "<IPython.core.display.Markdown object>",
      "text/markdown": "**José Malheiro de Sá** Points = 131, Price = 5.3"
     },
     "metadata": {},
     "output_type": "display_data"
    },
    {
     "data": {
      "text/plain": "<IPython.core.display.Markdown object>",
      "text/markdown": "**Trent Alexander-Arnold** Points = 187, Price = 8.5"
     },
     "metadata": {},
     "output_type": "display_data"
    },
    {
     "name": "stdout",
     "output_type": "stream",
     "text": [
      "\n",
      "Captain:\n"
     ]
    },
    {
     "data": {
      "text/plain": "<IPython.core.display.Markdown object>",
      "text/markdown": "**Mohamed Salah** Points = 222, Price = 13.3"
     },
     "metadata": {},
     "output_type": "display_data"
    }
   ],
   "source": [
    "decisions, captain_decisions, sub_decisions = select_team(gw_sum.total_points.values, gw_sum.value.values,\n",
    "                                                          gw_sum.position.values, gw_sum.team.values, sub_factor=1)\n",
    "\n",
    "player_indices = []\n",
    "\n",
    "# print results\n",
    "for i in range(gw_sum.shape[0]):\n",
    "    if decisions[i].value() != 0:\n",
    "        display(\n",
    "            Markdown(\"**{}** Points = {}, Price = {}\".format(gw_sum.name[i], gw_sum.total_points[i], gw_sum.value[i])))\n",
    "        player_indices.append(i)\n",
    "print()\n",
    "print(\"Subs:\")\n",
    "# print results\n",
    "for i in range(gw_sum.shape[0]):\n",
    "    if sub_decisions[i].value() == 1:\n",
    "        display(\n",
    "            Markdown(\"**{}** Points = {}, Price = {}\".format(gw_sum.name[i], gw_sum.total_points[i], gw_sum.value[i])))\n",
    "        player_indices.append(i)\n",
    "\n",
    "print()\n",
    "print(\"Captain:\")\n",
    "# print results\n",
    "for i in range(gw_sum.shape[0]):\n",
    "    if captain_decisions[i].value() == 1:\n",
    "        display(\n",
    "            Markdown(\"**{}** Points = {}, Price = {}\".format(gw_sum.name[i], gw_sum.total_points[i], gw_sum.value[i])))"
   ],
   "metadata": {
    "collapsed": false,
    "pycharm": {
     "name": "#%%\n"
    }
   }
  },
  {
   "cell_type": "code",
   "execution_count": 8,
   "outputs": [
    {
     "data": {
      "text/plain": "[29, 65, 103, 138, 207, 288, 317, 368, 479, 502, 660, 136, 280, 366, 683]"
     },
     "execution_count": 8,
     "metadata": {},
     "output_type": "execute_result"
    }
   ],
   "source": [
    "player_indices"
   ],
   "metadata": {
    "collapsed": false,
    "pycharm": {
     "name": "#%%\n"
    }
   }
  },
  {
   "cell_type": "markdown",
   "source": [
    "## Transfer Optimiser"
   ],
   "metadata": {
    "collapsed": false,
    "pycharm": {
     "name": "#%% md\n"
    }
   }
  },
  {
   "cell_type": "code",
   "execution_count": 23,
   "outputs": [
    {
     "name": "stdout",
     "output_type": "stream",
     "text": [
      "Solver status: 1\n"
     ]
    }
   ],
   "source": [
    "opt = TransferOptimiser(gw_sum.total_points.values, gw_sum.value.values, gw_sum.value.values, gw_sum.position.values, gw_sum.team.values)\n",
    "\n",
    "transfer_in_decisions, transfer_out_decisions, starters, sub_decisions, captain_decisions = opt.solve(player_indices, budget_now=0.5, sub_factor=0.15)"
   ],
   "metadata": {
    "collapsed": false,
    "pycharm": {
     "name": "#%%\n"
    }
   }
  },
  {
   "cell_type": "code",
   "execution_count": 24,
   "outputs": [
    {
     "name": "stdout",
     "output_type": "stream",
     "text": [
      "Transferred in: Aaron Ramsdale 117 5.2\n",
      "Transferred out: Alisson Ramses Becker 138 6.0\n",
      "Transferred out: Aymeric Laporte 123 5.8\n",
      "Transferred in: Virgil van Dijk 150 6.8\n"
     ]
    }
   ],
   "source": [
    "for i in range(len(transfer_in_decisions)):\n",
    "    if transfer_in_decisions[i].value() == 1:\n",
    "        print(\"Transferred in: {} {} {}\".format(gw_sum.name[i], gw_sum.total_points[i], gw_sum.value[i]))\n",
    "    if transfer_out_decisions[i].value() == 1:\n",
    "        print(\"Transferred out: {} {} {}\".format(gw_sum.name[i], gw_sum.total_points[i], gw_sum.value[i]))"
   ],
   "metadata": {
    "collapsed": false,
    "pycharm": {
     "name": "#%%\n"
    }
   }
  },
  {
   "cell_type": "code",
   "execution_count": null,
   "outputs": [],
   "source": [],
   "metadata": {
    "collapsed": false,
    "pycharm": {
     "name": "#%%\n"
    }
   }
  }
 ],
 "metadata": {
  "kernelspec": {
   "display_name": "Python 3",
   "language": "python",
   "name": "python3"
  },
  "language_info": {
   "codemirror_mode": {
    "name": "ipython",
    "version": 2
   },
   "file_extension": ".py",
   "mimetype": "text/x-python",
   "name": "python",
   "nbconvert_exporter": "python",
   "pygments_lexer": "ipython2",
   "version": "2.7.6"
  }
 },
 "nbformat": 4,
 "nbformat_minor": 0
}