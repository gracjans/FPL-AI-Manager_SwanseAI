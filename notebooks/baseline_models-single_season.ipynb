{
 "cells": [
  {
   "cell_type": "code",
   "execution_count": 1,
   "outputs": [],
   "source": [
    "# %load_ext autoreload\n",
    "# %autoreload 2"
   ],
   "metadata": {
    "collapsed": false,
    "pycharm": {
     "name": "#%%\n"
    }
   }
  },
  {
   "cell_type": "markdown",
   "source": [
    "# Train simple baseline models on limited, single season data"
   ],
   "metadata": {
    "collapsed": false,
    "pycharm": {
     "name": "#%% md\n"
    }
   }
  },
  {
   "cell_type": "code",
   "execution_count": 1,
   "outputs": [],
   "source": [
    "import pandas as pd\n",
    "import matplotlib.pyplot as plt\n",
    "\n",
    "from src.features.data_engineering import preprocess_single_season, reverse_processing"
   ],
   "metadata": {
    "collapsed": false,
    "pycharm": {
     "name": "#%%\n"
    }
   }
  },
  {
   "cell_type": "markdown",
   "source": [
    "##### Train on 2020-21 season data"
   ],
   "metadata": {
    "collapsed": false,
    "pycharm": {
     "name": "#%% md\n"
    }
   }
  },
  {
   "cell_type": "code",
   "execution_count": 2,
   "outputs": [],
   "source": [
    "(x_train_2021, y_train_2021), (x_test_2021, y_test_2021), (x_train_2021_target, x_test_2021_target), x_2021_scaler = preprocess_single_season('2020-21')\n",
    "\n",
    "# (x_train_1617, y_train_1617), (x_test_1617, y_test_1617), (x_train_1617_target, x_test_1617_target), x_1617_scaler = preprocess_single_season('2016-17')"
   ],
   "metadata": {
    "collapsed": false,
    "pycharm": {
     "name": "#%%\n"
    }
   }
  },
  {
   "cell_type": "markdown",
   "source": [
    "## Train on baseline Dummy model"
   ],
   "metadata": {
    "collapsed": false,
    "pycharm": {
     "name": "#%% md\n"
    }
   }
  },
  {
   "cell_type": "code",
   "execution_count": 3,
   "outputs": [],
   "source": [
    "from sklearn.dummy import DummyRegressor\n",
    "from sklearn.metrics import mean_squared_error"
   ],
   "metadata": {
    "collapsed": false,
    "pycharm": {
     "name": "#%%\n"
    }
   }
  },
  {
   "cell_type": "code",
   "execution_count": 4,
   "outputs": [
    {
     "data": {
      "text/plain": "DummyRegressor()"
     },
     "execution_count": 4,
     "metadata": {},
     "output_type": "execute_result"
    }
   ],
   "source": [
    "dummy_regr = DummyRegressor(strategy=\"mean\")\n",
    "dummy_regr.fit(x_train_2021, y_train_2021)"
   ],
   "metadata": {
    "collapsed": false,
    "pycharm": {
     "name": "#%%\n"
    }
   }
  },
  {
   "cell_type": "code",
   "execution_count": 5,
   "outputs": [],
   "source": [
    "y_pred_2021 = dummy_regr.predict(x_test_2021)"
   ],
   "metadata": {
    "collapsed": false,
    "pycharm": {
     "name": "#%%\n"
    }
   }
  },
  {
   "cell_type": "code",
   "execution_count": 6,
   "outputs": [
    {
     "data": {
      "text/plain": "6.18489872538868"
     },
     "execution_count": 6,
     "metadata": {},
     "output_type": "execute_result"
    }
   ],
   "source": [
    "mean_squared_error(y_pred_2021, y_test_2021)"
   ],
   "metadata": {
    "collapsed": false,
    "pycharm": {
     "name": "#%%\n"
    }
   }
  },
  {
   "cell_type": "markdown",
   "source": [
    "## Train on baseline decision tree model"
   ],
   "metadata": {
    "collapsed": false,
    "pycharm": {
     "name": "#%% md\n"
    }
   }
  },
  {
   "cell_type": "code",
   "execution_count": 7,
   "outputs": [],
   "source": [
    "from sklearn.tree import DecisionTreeRegressor"
   ],
   "metadata": {
    "collapsed": false,
    "pycharm": {
     "name": "#%%\n"
    }
   }
  },
  {
   "cell_type": "code",
   "execution_count": 8,
   "outputs": [
    {
     "data": {
      "text/plain": "DecisionTreeRegressor()"
     },
     "execution_count": 8,
     "metadata": {},
     "output_type": "execute_result"
    }
   ],
   "source": [
    "tree_regr = DecisionTreeRegressor()\n",
    "tree_regr.fit(x_train_2021, y_train_2021)"
   ],
   "metadata": {
    "collapsed": false,
    "pycharm": {
     "name": "#%%\n"
    }
   }
  },
  {
   "cell_type": "code",
   "execution_count": 9,
   "outputs": [],
   "source": [
    "y_pred_2021 = tree_regr.predict(x_test_2021)"
   ],
   "metadata": {
    "collapsed": false,
    "pycharm": {
     "name": "#%%\n"
    }
   }
  },
  {
   "cell_type": "code",
   "execution_count": 10,
   "outputs": [
    {
     "data": {
      "text/plain": "9.01861551469034"
     },
     "execution_count": 10,
     "metadata": {},
     "output_type": "execute_result"
    }
   ],
   "source": [
    "mean_squared_error(y_pred_2021, y_test_2021)"
   ],
   "metadata": {
    "collapsed": false,
    "pycharm": {
     "name": "#%%\n"
    }
   }
  },
  {
   "cell_type": "code",
   "execution_count": 11,
   "outputs": [
    {
     "name": "stdout",
     "output_type": "stream",
     "text": [
      "Feature 0: xP, Score: 0.0679\n",
      "Feature 1: assists, Score: 0.00283\n",
      "Feature 2: bonus, Score: 0.00339\n",
      "Feature 3: bps, Score: 0.04059\n",
      "Feature 4: clean_sheets, Score: 0.00244\n",
      "Feature 5: creativity, Score: 0.05855\n",
      "Feature 6: goals_conceded, Score: 0.01292\n",
      "Feature 7: goals_scored, Score: 0.00047\n",
      "Feature 8: ict_index, Score: 0.03954\n",
      "Feature 9: influence, Score: 0.04902\n",
      "Feature 10: minutes, Score: 0.25192\n",
      "Feature 11: own_goals, Score: 2e-05\n",
      "Feature 12: penalties_missed, Score: 0.00269\n",
      "Feature 13: penalties_saved, Score: 0.0\n",
      "Feature 14: red_cards, Score: 4e-05\n",
      "Feature 15: saves, Score: 0.00377\n",
      "Feature 16: selected, Score: 0.11587\n",
      "Feature 17: threat, Score: 0.02574\n",
      "Feature 18: total_points, Score: 0.01411\n",
      "Feature 19: transfers_balance, Score: 0.07263\n",
      "Feature 20: transfers_in, Score: 0.07607\n",
      "Feature 21: transfers_out, Score: 0.0682\n",
      "Feature 22: value, Score: 0.06303\n",
      "Feature 23: was_home, Score: 0.00986\n",
      "Feature 24: yellow_cards, Score: 0.00244\n",
      "Feature 25: position_DEF, Score: 0.00703\n",
      "Feature 26: position_FWD, Score: 0.00221\n",
      "Feature 27: position_GK, Score: 0.00061\n",
      "Feature 28: position_MID, Score: 0.00613\n"
     ]
    },
    {
     "data": {
      "text/plain": "<Figure size 432x288 with 1 Axes>",
      "image/png": "[encoded data removed]"
     },
     "metadata": {
      "needs_background": "light"
     },
     "output_type": "display_data"
    }
   ],
   "source": [
    "# summarize feature importance\n",
    "importance = tree_regr.feature_importances_\n",
    "for i,v in enumerate(importance):\n",
    "    print(f'Feature {i}: {x_train_2021.columns[i]}, Score: {round(v,5)}')\n",
    "# plot feature importance\n",
    "plt.bar([x for x in range(len(importance))], importance)\n",
    "plt.show()"
   ],
   "metadata": {
    "collapsed": false,
    "pycharm": {
     "name": "#%%\n"
    }
   }
  },
  {
   "cell_type": "markdown",
   "source": [
    "## Train on baseline SVR model"
   ],
   "metadata": {
    "collapsed": false,
    "pycharm": {
     "name": "#%% md\n"
    }
   }
  },
  {
   "cell_type": "code",
   "execution_count": 12,
   "outputs": [],
   "source": [
    "from sklearn.svm import LinearSVR"
   ],
   "metadata": {
    "collapsed": false,
    "pycharm": {
     "name": "#%%from sklearn import svm\n"
    }
   }
  },
  {
   "cell_type": "code",
   "execution_count": 13,
   "outputs": [
    {
     "name": "stderr",
     "output_type": "stream",
     "text": [
      "d:\\studies\\informatyka\\semestr_3\\fpl_ai_manager\\venv\\lib\\site-packages\\sklearn\\svm\\_base.py:1206: ConvergenceWarning: Liblinear failed to converge, increase the number of iterations.\n",
      "  warnings.warn(\n"
     ]
    },
    {
     "data": {
      "text/plain": "LinearSVR()"
     },
     "execution_count": 13,
     "metadata": {},
     "output_type": "execute_result"
    }
   ],
   "source": [
    "model_svr = LinearSVR()\n",
    "model_svr.fit(x_train_2021, y_train_2021)"
   ],
   "metadata": {
    "collapsed": false,
    "pycharm": {
     "name": "#%%\n"
    }
   }
  },
  {
   "cell_type": "code",
   "execution_count": 14,
   "outputs": [],
   "source": [
    "# create series to keep indexes and name same as in the original y data\n",
    "y_pred_2021 = pd.Series(model_svr.predict(x_test_2021), index=y_test_2021.index, name='predicted_total_points_next_gameweek')"
   ],
   "metadata": {
    "collapsed": false,
    "pycharm": {
     "name": "#%%\n"
    }
   }
  },
  {
   "cell_type": "code",
   "execution_count": 15,
   "outputs": [
    {
     "data": {
      "text/plain": "5.208508857692168"
     },
     "execution_count": 15,
     "metadata": {},
     "output_type": "execute_result"
    }
   ],
   "source": [
    "mean_squared_error(y_pred_2021, y_test_2021)"
   ],
   "metadata": {
    "collapsed": false,
    "pycharm": {
     "name": "#%%\n"
    }
   }
  },
  {
   "cell_type": "markdown",
   "source": [
    "## Merge results with footballers extracted target data"
   ],
   "metadata": {
    "collapsed": false,
    "pycharm": {
     "name": "#%% md\n"
    }
   }
  },
  {
   "cell_type": "code",
   "execution_count": 16,
   "outputs": [],
   "source": [
    "x_test_reversed = reverse_processing(x_test_2021, x_2021_scaler, x_test_2021_target)"
   ],
   "metadata": {
    "collapsed": false,
    "pycharm": {
     "name": "#%%\n"
    }
   }
  },
  {
   "cell_type": "code",
   "execution_count": 17,
   "outputs": [],
   "source": [
    "x_test_reversed_svr = pd.concat([y_pred_2021, x_test_reversed], axis=1)"
   ],
   "metadata": {
    "collapsed": false,
    "pycharm": {
     "name": "#%%\n"
    }
   }
  },
  {
   "cell_type": "code",
   "execution_count": 18,
   "outputs": [
    {
     "data": {
      "text/plain": "       predicted_total_points_next_gameweek                   name  GW  \\\n18785                              4.168371          Sam Johnstone  31   \n451                                4.128603  Alisson Ramses Becker   2   \n21725                              4.066503          Edouard Mendy  35   \n22536                              3.994964           Scott Carson  36   \n19585                              3.116722      Kelechi Iheanacho  32   \n5359                               3.106923             Diogo Jota  10   \n1202                               3.069687       James RodrÃ­guez   3   \n12160                              3.059664        Ilkay GÃ¼ndogan  21   \n15938                              3.013583  Dominic Calvert-Lewin  26   \n5047                               3.005065           Hakim Ziyech   9   \n\n       element  total_points_next_gameweek   xP  assists  bonus   bps  \\\n18785      417                         2.0  9.5      0.0    3.0  45.0   \n451        252                         2.0  8.0      0.0    2.0  41.0   \n21725      548                         0.0  0.0      0.0    3.0  36.0   \n22536      608                         0.0  3.3      0.0    1.0  27.0   \n19585      233                        12.0  8.0      0.0    0.0  30.0   \n5359       468                         1.0  7.7      0.0    2.0  23.0   \n1202       508                        18.0  5.7      0.0    0.0  16.0   \n12160      271                         8.0  8.8      0.0    0.0  17.0   \n15938      164                         2.0  9.7      0.0    0.0   0.0   \n5047       114                         2.0  9.8      0.0    0.0  10.0   \n\n       clean_sheets  ...  transfers_balance  transfers_in  transfers_out  \\\n18785           1.0  ...              937.0       16469.0        15532.0   \n451             1.0  ...           -92351.0       10612.0       102963.0   \n21725           0.0  ...             6142.0       34232.0        28090.0   \n22536           0.0  ...              -55.0        1047.0         1102.0   \n19585           1.0  ...           712878.0      720792.0         7914.0   \n5359            0.0  ...           783351.0      803730.0        20379.0   \n1202            0.0  ...           682098.0      806071.0       123973.0   \n12160           1.0  ...           674097.0      687138.0        13041.0   \n15938           1.0  ...           765433.0      811559.0        46126.0   \n5047            1.0  ...           745737.0      764461.0        18724.0   \n\n       value  was_home  yellow_cards  position_DEF  position_FWD  position_GK  \\\n18785   45.0       1.0           0.0           0.0           0.0          1.0   \n451     60.0       0.0           0.0           0.0           0.0          1.0   \n21725   52.0       0.0           0.0           0.0           0.0          1.0   \n22536   39.0       0.0           0.0           0.0           0.0          1.0   \n19585   60.0       1.0           0.0           0.0           1.0          0.0   \n5359    67.0       0.0           0.0           0.0           0.0          0.0   \n1202    76.0       0.0           0.0           0.0           0.0          0.0   \n12160   58.0       1.0           0.0           0.0           0.0          0.0   \n15938   78.0       1.0           0.0           0.0           1.0          0.0   \n5047    82.0       0.0           0.0           0.0           0.0          0.0   \n\n       position_MID  \n18785           0.0  \n451             0.0  \n21725           0.0  \n22536           0.0  \n19585           0.0  \n5359            1.0  \n1202            1.0  \n12160           1.0  \n15938           0.0  \n5047            1.0  \n\n[10 rows x 34 columns]",
      "text/html": "<div>\n<style scoped>\n    .dataframe tbody tr th:only-of-type {\n        vertical-align: middle;\n    }\n\n    .dataframe tbody tr th {\n        vertical-align: top;\n    }\n\n    .dataframe thead th {\n        text-align: right;\n    }\n</style>\n<table border=\"1\" class=\"dataframe\">\n  <thead>\n    <tr style=\"text-align: right;\">\n      <th></th>\n      <th>predicted_total_points_next_gameweek</th>\n      <th>name</th>\n      <th>GW</th>\n      <th>element</th>\n      <th>total_points_next_gameweek</th>\n      <th>xP</th>\n      <th>assists</th>\n      <th>bonus</th>\n      <th>bps</th>\n      <th>clean_sheets</th>\n      <th>...</th>\n      <th>transfers_balance</th>\n      <th>transfers_in</th>\n      <th>transfers_out</th>\n      <th>value</th>\n      <th>was_home</th>\n      <th>yellow_cards</th>\n      <th>position_DEF</th>\n      <th>position_FWD</th>\n      <th>position_GK</th>\n      <th>position_MID</th>\n    </tr>\n  </thead>\n  <tbody>\n    <tr>\n      <th>18785</th>\n      <td>4.168371</td>\n      <td>Sam Johnstone</td>\n      <td>31</td>\n      <td>417</td>\n      <td>2.0</td>\n      <td>9.5</td>\n      <td>0.0</td>\n      <td>3.0</td>\n      <td>45.0</td>\n      <td>1.0</td>\n      <td>...</td>\n      <td>937.0</td>\n      <td>16469.0</td>\n      <td>15532.0</td>\n      <td>45.0</td>\n      <td>1.0</td>\n      <td>0.0</td>\n      <td>0.0</td>\n      <td>0.0</td>\n      <td>1.0</td>\n      <td>0.0</td>\n    </tr>\n    <tr>\n      <th>451</th>\n      <td>4.128603</td>\n      <td>Alisson Ramses Becker</td>\n      <td>2</td>\n      <td>252</td>\n      <td>2.0</td>\n      <td>8.0</td>\n      <td>0.0</td>\n      <td>2.0</td>\n      <td>41.0</td>\n      <td>1.0</td>\n      <td>...</td>\n      <td>-92351.0</td>\n      <td>10612.0</td>\n      <td>102963.0</td>\n      <td>60.0</td>\n      <td>0.0</td>\n      <td>0.0</td>\n      <td>0.0</td>\n      <td>0.0</td>\n      <td>1.0</td>\n      <td>0.0</td>\n    </tr>\n    <tr>\n      <th>21725</th>\n      <td>4.066503</td>\n      <td>Edouard Mendy</td>\n      <td>35</td>\n      <td>548</td>\n      <td>0.0</td>\n      <td>0.0</td>\n      <td>0.0</td>\n      <td>3.0</td>\n      <td>36.0</td>\n      <td>0.0</td>\n      <td>...</td>\n      <td>6142.0</td>\n      <td>34232.0</td>\n      <td>28090.0</td>\n      <td>52.0</td>\n      <td>0.0</td>\n      <td>0.0</td>\n      <td>0.0</td>\n      <td>0.0</td>\n      <td>1.0</td>\n      <td>0.0</td>\n    </tr>\n    <tr>\n      <th>22536</th>\n      <td>3.994964</td>\n      <td>Scott Carson</td>\n      <td>36</td>\n      <td>608</td>\n      <td>0.0</td>\n      <td>3.3</td>\n      <td>0.0</td>\n      <td>1.0</td>\n      <td>27.0</td>\n      <td>0.0</td>\n      <td>...</td>\n      <td>-55.0</td>\n      <td>1047.0</td>\n      <td>1102.0</td>\n      <td>39.0</td>\n      <td>0.0</td>\n      <td>0.0</td>\n      <td>0.0</td>\n      <td>0.0</td>\n      <td>1.0</td>\n      <td>0.0</td>\n    </tr>\n    <tr>\n      <th>19585</th>\n      <td>3.116722</td>\n      <td>Kelechi Iheanacho</td>\n      <td>32</td>\n      <td>233</td>\n      <td>12.0</td>\n      <td>8.0</td>\n      <td>0.0</td>\n      <td>0.0</td>\n      <td>30.0</td>\n      <td>1.0</td>\n      <td>...</td>\n      <td>712878.0</td>\n      <td>720792.0</td>\n      <td>7914.0</td>\n      <td>60.0</td>\n      <td>1.0</td>\n      <td>0.0</td>\n      <td>0.0</td>\n      <td>1.0</td>\n      <td>0.0</td>\n      <td>0.0</td>\n    </tr>\n    <tr>\n      <th>5359</th>\n      <td>3.106923</td>\n      <td>Diogo Jota</td>\n      <td>10</td>\n      <td>468</td>\n      <td>1.0</td>\n      <td>7.7</td>\n      <td>0.0</td>\n      <td>2.0</td>\n      <td>23.0</td>\n      <td>0.0</td>\n      <td>...</td>\n      <td>783351.0</td>\n      <td>803730.0</td>\n      <td>20379.0</td>\n      <td>67.0</td>\n      <td>0.0</td>\n      <td>0.0</td>\n      <td>0.0</td>\n      <td>0.0</td>\n      <td>0.0</td>\n      <td>1.0</td>\n    </tr>\n    <tr>\n      <th>1202</th>\n      <td>3.069687</td>\n      <td>James RodrÃ­guez</td>\n      <td>3</td>\n      <td>508</td>\n      <td>18.0</td>\n      <td>5.7</td>\n      <td>0.0</td>\n      <td>0.0</td>\n      <td>16.0</td>\n      <td>0.0</td>\n      <td>...</td>\n      <td>682098.0</td>\n      <td>806071.0</td>\n      <td>123973.0</td>\n      <td>76.0</td>\n      <td>0.0</td>\n      <td>0.0</td>\n      <td>0.0</td>\n      <td>0.0</td>\n      <td>0.0</td>\n      <td>1.0</td>\n    </tr>\n    <tr>\n      <th>12160</th>\n      <td>3.059664</td>\n      <td>Ilkay GÃ¼ndogan</td>\n      <td>21</td>\n      <td>271</td>\n      <td>8.0</td>\n      <td>8.8</td>\n      <td>0.0</td>\n      <td>0.0</td>\n      <td>17.0</td>\n      <td>1.0</td>\n      <td>...</td>\n      <td>674097.0</td>\n      <td>687138.0</td>\n      <td>13041.0</td>\n      <td>58.0</td>\n      <td>1.0</td>\n      <td>0.0</td>\n      <td>0.0</td>\n      <td>0.0</td>\n      <td>0.0</td>\n      <td>1.0</td>\n    </tr>\n    <tr>\n      <th>15938</th>\n      <td>3.013583</td>\n      <td>Dominic Calvert-Lewin</td>\n      <td>26</td>\n      <td>164</td>\n      <td>2.0</td>\n      <td>9.7</td>\n      <td>0.0</td>\n      <td>0.0</td>\n      <td>0.0</td>\n      <td>1.0</td>\n      <td>...</td>\n      <td>765433.0</td>\n      <td>811559.0</td>\n      <td>46126.0</td>\n      <td>78.0</td>\n      <td>1.0</td>\n      <td>0.0</td>\n      <td>0.0</td>\n      <td>1.0</td>\n      <td>0.0</td>\n      <td>0.0</td>\n    </tr>\n    <tr>\n      <th>5047</th>\n      <td>3.005065</td>\n      <td>Hakim Ziyech</td>\n      <td>9</td>\n      <td>114</td>\n      <td>2.0</td>\n      <td>9.8</td>\n      <td>0.0</td>\n      <td>0.0</td>\n      <td>10.0</td>\n      <td>1.0</td>\n      <td>...</td>\n      <td>745737.0</td>\n      <td>764461.0</td>\n      <td>18724.0</td>\n      <td>82.0</td>\n      <td>0.0</td>\n      <td>0.0</td>\n      <td>0.0</td>\n      <td>0.0</td>\n      <td>0.0</td>\n      <td>1.0</td>\n    </tr>\n  </tbody>\n</table>\n<p>10 rows × 34 columns</p>\n</div>"
     },
     "execution_count": 18,
     "metadata": {},
     "output_type": "execute_result"
    }
   ],
   "source": [
    "#preview x_test_reversed sorted by predicted total points descending\n",
    "x_test_reversed_svr.sort_values(by='predicted_total_points_next_gameweek', ascending=False).head(10)"
   ],
   "metadata": {
    "collapsed": false,
    "pycharm": {
     "name": "#%%\n"
    }
   }
  },
  {
   "cell_type": "markdown",
   "source": [
    "## Train on baseline Multi-layer Perceptron model"
   ],
   "metadata": {
    "collapsed": false,
    "pycharm": {
     "name": "#%% md\n"
    }
   }
  },
  {
   "cell_type": "code",
   "execution_count": 207,
   "outputs": [],
   "source": [
    "import tensorflow as tf"
   ],
   "metadata": {
    "collapsed": false,
    "pycharm": {
     "name": "#%%\n"
    }
   }
  },
  {
   "cell_type": "code",
   "execution_count": 208,
   "outputs": [],
   "source": [
    "model_mlp = tf.keras.models.Sequential()\n",
    "\n",
    "model_mlp.add(tf.keras.layers.Dense(units=32, activation='relu', input_shape=(x_train_2021.shape[1],)))\n",
    "model_mlp.add(tf.keras.layers.Dense(units=16, activation='relu'))\n",
    "model_mlp.add(tf.keras.layers.Dense(units=1, activation='linear'))\n"
   ],
   "metadata": {
    "collapsed": false,
    "pycharm": {
     "name": "#%%\n"
    }
   }
  },
  {
   "cell_type": "code",
   "execution_count": 209,
   "outputs": [],
   "source": [
    "model_mlp.compile(optimizer='adam',\n",
    "                  loss='mse')"
   ],
   "metadata": {
    "collapsed": false,
    "pycharm": {
     "name": "#%%model_mlp.compile(optimizer='adam', loss='mse')\n"
    }
   }
  },
  {
   "cell_type": "code",
   "execution_count": 210,
   "outputs": [
    {
     "name": "stdout",
     "output_type": "stream",
     "text": [
      "Epoch 1/30\n",
      "3784/3784 [==============================] - 3s 673us/step - loss: 4.6616 - val_loss: 4.0493\n",
      "Epoch 2/30\n",
      "3784/3784 [==============================] - 3s 662us/step - loss: 4.4683 - val_loss: 3.9901\n",
      "Epoch 3/30\n",
      "3784/3784 [==============================] - 2s 659us/step - loss: 4.4428 - val_loss: 4.0164\n",
      "Epoch 4/30\n",
      "3784/3784 [==============================] - 2s 644us/step - loss: 4.4352 - val_loss: 4.0672\n",
      "Epoch 5/30\n",
      "3784/3784 [==============================] - 3s 671us/step - loss: 4.4296 - val_loss: 3.9783\n",
      "Epoch 6/30\n",
      "3784/3784 [==============================] - 2s 646us/step - loss: 4.4177 - val_loss: 4.0472\n",
      "Epoch 7/30\n",
      "3784/3784 [==============================] - 3s 662us/step - loss: 4.4134 - val_loss: 3.9946\n",
      "Epoch 8/30\n",
      "3784/3784 [==============================] - 3s 661us/step - loss: 4.4069 - val_loss: 4.0522\n",
      "Epoch 9/30\n",
      "3784/3784 [==============================] - 2s 643us/step - loss: 4.3975 - val_loss: 4.0025\n",
      "Epoch 10/30\n",
      "3784/3784 [==============================] - 3s 675us/step - loss: 4.3939 - val_loss: 4.0260\n",
      "Epoch 11/30\n",
      "3784/3784 [==============================] - 2s 645us/step - loss: 4.3769 - val_loss: 4.0010\n",
      "Epoch 12/30\n",
      "3784/3784 [==============================] - 3s 662us/step - loss: 4.3753 - val_loss: 4.0100\n",
      "Epoch 13/30\n",
      "3784/3784 [==============================] - 2s 656us/step - loss: 4.3719 - val_loss: 4.0651\n",
      "Epoch 14/30\n",
      "3784/3784 [==============================] - 3s 669us/step - loss: 4.3574 - val_loss: 4.0262\n",
      "Epoch 15/30\n",
      "3784/3784 [==============================] - 3s 674us/step - loss: 4.3547 - val_loss: 3.9903\n",
      "Epoch 16/30\n",
      "3784/3784 [==============================] - 2s 643us/step - loss: 4.3530 - val_loss: 4.0206\n",
      "Epoch 17/30\n",
      "3784/3784 [==============================] - 3s 665us/step - loss: 4.3489 - val_loss: 4.0466\n",
      "Epoch 18/30\n",
      "3784/3784 [==============================] - 2s 644us/step - loss: 4.3369 - val_loss: 4.1318\n",
      "Epoch 19/30\n",
      "3784/3784 [==============================] - 2s 642us/step - loss: 4.3332 - val_loss: 4.0214\n",
      "Epoch 20/30\n",
      "3784/3784 [==============================] - 3s 666us/step - loss: 4.3319 - val_loss: 4.0256\n",
      "Epoch 21/30\n",
      "3784/3784 [==============================] - 2s 644us/step - loss: 4.3175 - val_loss: 4.0016\n",
      "Epoch 22/30\n",
      "3784/3784 [==============================] - 3s 661us/step - loss: 4.3044 - val_loss: 4.0227\n",
      "Epoch 23/30\n",
      "3784/3784 [==============================] - 2s 646us/step - loss: 4.3096 - val_loss: 4.0194\n",
      "Epoch 24/30\n",
      "3784/3784 [==============================] - 2s 643us/step - loss: 4.2960 - val_loss: 3.9949\n",
      "Epoch 25/30\n",
      "3784/3784 [==============================] - 3s 667us/step - loss: 4.2864 - val_loss: 3.9807\n",
      "Epoch 26/30\n",
      "3784/3784 [==============================] - 2s 644us/step - loss: 4.2862 - val_loss: 4.0183\n",
      "Epoch 27/30\n",
      "3784/3784 [==============================] - 3s 663us/step - loss: 4.2946 - val_loss: 3.9731\n",
      "Epoch 28/30\n",
      "3784/3784 [==============================] - 2s 648us/step - loss: 4.2725 - val_loss: 4.0780\n",
      "Epoch 29/30\n",
      "3784/3784 [==============================] - 2s 643us/step - loss: 4.2734 - val_loss: 4.0492\n",
      "Epoch 30/30\n",
      "3784/3784 [==============================] - 3s 667us/step - loss: 4.2604 - val_loss: 4.0221\n"
     ]
    }
   ],
   "source": [
    "history = model_mlp.fit(x_train_2021, y_train_2021,\n",
    "                        batch_size=4,\n",
    "                        epochs=30,\n",
    "                        validation_split=0.2)"
   ],
   "metadata": {
    "collapsed": false,
    "pycharm": {
     "name": "#%%\n"
    }
   }
  },
  {
   "cell_type": "code",
   "execution_count": 211,
   "outputs": [
    {
     "name": "stdout",
     "output_type": "stream",
     "text": [
      "Test loss: 4.728095054626465\n"
     ]
    }
   ],
   "source": [
    "score = model_mlp.evaluate(x_test_2021, y_test_2021, verbose=0)\n",
    "print('Test loss:', score)"
   ],
   "metadata": {
    "collapsed": false,
    "pycharm": {
     "name": "#%%\n"
    }
   }
  },
  {
   "cell_type": "code",
   "execution_count": 212,
   "outputs": [
    {
     "data": {
      "text/plain": "<Figure size 432x288 with 1 Axes>",
      "image/png": "[encoded data removed]"
     },
     "metadata": {
      "needs_background": "light"
     },
     "output_type": "display_data"
    }
   ],
   "source": [
    "# Plot training & validation loss values\n",
    "plt.plot(history.history['loss'])\n",
    "plt.plot(history.history['val_loss'])\n",
    "plt.title('Model loss')\n",
    "plt.ylabel('Loss')\n",
    "plt.xlabel('Epoch')\n",
    "plt.legend(['Train', 'Test'], loc='upper left')\n",
    "plt.show()"
   ],
   "metadata": {
    "collapsed": false,
    "pycharm": {
     "name": "#%%\n"
    }
   }
  },
  {
   "cell_type": "markdown",
   "source": [
    "MLP model is achieving the lowest loss value from all baseline models."
   ],
   "metadata": {
    "collapsed": false,
    "pycharm": {
     "name": "#%% md\n"
    }
   }
  },
  {
   "cell_type": "code",
   "execution_count": 213,
   "outputs": [],
   "source": [
    "y_pred_2021_mlp = pd.Series(model_mlp.predict(x_test_2021).reshape(-1,), index=y_test_2021.index, name='predicted_total_points_next_gameweek')"
   ],
   "metadata": {
    "collapsed": false,
    "pycharm": {
     "name": "#%%\n"
    }
   }
  },
  {
   "cell_type": "code",
   "execution_count": 217,
   "outputs": [
    {
     "data": {
      "text/plain": "       predicted_total_points_next_gameweek                   name  GW  \\\n10194                             10.181931        Kevin De Bruyne  19   \n451                                7.502029  Alisson Ramses Becker   2   \n14258                              7.089135        Ilkay GÃ¼ndogan  24   \n7672                               6.132590          Heung-Min Son  14   \n18785                              6.088678          Sam Johnstone  31   \n1443                               6.081779            Sadio ManÃ©   3   \n1412                               6.079928         RaÃºl JimÃ©nez   3   \n15380                              5.960415            Timo Werner  26   \n5716                               5.767989        Kevin De Bruyne  11   \n11000                              5.742733        Aaron Cresswell  19   \n\n       element  total_points_next_gameweek    xP  assists  bonus   bps  \\\n10194      272                         0.0  14.0      0.0    0.0  10.0   \n451        252                         2.0   8.0      0.0    2.0  41.0   \n14258      271                         3.0  20.7      0.0    0.0   0.0   \n7672       390                         3.0   6.4      0.0    0.0   3.0   \n18785      417                         2.0   9.5      0.0    3.0  45.0   \n1443       251                         0.0   8.8      0.0    1.0  22.0   \n1412       460                         2.0   4.7      0.0    0.0  -1.0   \n15380      117                         2.0   8.6      0.0    0.0   3.0   \n5716       272                         3.0  10.2      1.0    3.0  41.0   \n11000      435                         5.0  13.4      0.0    0.0  14.0   \n\n       clean_sheets  ...  transfers_balance  transfers_in  transfers_out  \\\n10194           0.0  ...           395204.0      436458.0        41254.0   \n451             1.0  ...           -92351.0       10612.0       102963.0   \n14258           0.0  ...           788107.0      806253.0        18146.0   \n7672            0.0  ...           154155.0      170409.0        16254.0   \n18785           1.0  ...              937.0       16469.0        15532.0   \n1443            0.0  ...            55243.0      122337.0        67094.0   \n1412            0.0  ...           198215.0      349218.0       151003.0   \n15380           0.0  ...           -62681.0       28529.0        91210.0   \n5716            1.0  ...           308791.0      328451.0        19660.0   \n11000           0.0  ...           286229.0      317337.0        31108.0   \n\n       value  was_home  yellow_cards  position_DEF  position_FWD  position_GK  \\\n10194  118.0       1.0           0.0           0.0           0.0          0.0   \n451     60.0       0.0           0.0           0.0           0.0          1.0   \n14258   60.0       0.0           0.0           0.0           0.0          0.0   \n7672    97.0       1.0           0.0           0.0           0.0          0.0   \n18785   45.0       1.0           0.0           0.0           0.0          1.0   \n1443   119.0       1.0           1.0           0.0           0.0          0.0   \n1412    85.0       0.0           0.0           0.0           1.0          0.0   \n15380   92.0       1.0           0.0           0.0           1.0          0.0   \n5716   117.0       1.0           0.0           0.0           0.0          0.0   \n11000   54.0       1.0           0.0           1.0           0.0          0.0   \n\n       position_MID  \n10194           1.0  \n451             0.0  \n14258           1.0  \n7672            1.0  \n18785           0.0  \n1443            1.0  \n1412            0.0  \n15380           0.0  \n5716            1.0  \n11000           0.0  \n\n[10 rows x 34 columns]",
      "text/html": "<div>\n<style scoped>\n    .dataframe tbody tr th:only-of-type {\n        vertical-align: middle;\n    }\n\n    .dataframe tbody tr th {\n        vertical-align: top;\n    }\n\n    .dataframe thead th {\n        text-align: right;\n    }\n</style>\n<table border=\"1\" class=\"dataframe\">\n  <thead>\n    <tr style=\"text-align: right;\">\n      <th></th>\n      <th>predicted_total_points_next_gameweek</th>\n      <th>name</th>\n      <th>GW</th>\n      <th>element</th>\n      <th>total_points_next_gameweek</th>\n      <th>xP</th>\n      <th>assists</th>\n      <th>bonus</th>\n      <th>bps</th>\n      <th>clean_sheets</th>\n      <th>...</th>\n      <th>transfers_balance</th>\n      <th>transfers_in</th>\n      <th>transfers_out</th>\n      <th>value</th>\n      <th>was_home</th>\n      <th>yellow_cards</th>\n      <th>position_DEF</th>\n      <th>position_FWD</th>\n      <th>position_GK</th>\n      <th>position_MID</th>\n    </tr>\n  </thead>\n  <tbody>\n    <tr>\n      <th>10194</th>\n      <td>10.181931</td>\n      <td>Kevin De Bruyne</td>\n      <td>19</td>\n      <td>272</td>\n      <td>0.0</td>\n      <td>14.0</td>\n      <td>0.0</td>\n      <td>0.0</td>\n      <td>10.0</td>\n      <td>0.0</td>\n      <td>...</td>\n      <td>395204.0</td>\n      <td>436458.0</td>\n      <td>41254.0</td>\n      <td>118.0</td>\n      <td>1.0</td>\n      <td>0.0</td>\n      <td>0.0</td>\n      <td>0.0</td>\n      <td>0.0</td>\n      <td>1.0</td>\n    </tr>\n    <tr>\n      <th>451</th>\n      <td>7.502029</td>\n      <td>Alisson Ramses Becker</td>\n      <td>2</td>\n      <td>252</td>\n      <td>2.0</td>\n      <td>8.0</td>\n      <td>0.0</td>\n      <td>2.0</td>\n      <td>41.0</td>\n      <td>1.0</td>\n      <td>...</td>\n      <td>-92351.0</td>\n      <td>10612.0</td>\n      <td>102963.0</td>\n      <td>60.0</td>\n      <td>0.0</td>\n      <td>0.0</td>\n      <td>0.0</td>\n      <td>0.0</td>\n      <td>1.0</td>\n      <td>0.0</td>\n    </tr>\n    <tr>\n      <th>14258</th>\n      <td>7.089135</td>\n      <td>Ilkay GÃ¼ndogan</td>\n      <td>24</td>\n      <td>271</td>\n      <td>3.0</td>\n      <td>20.7</td>\n      <td>0.0</td>\n      <td>0.0</td>\n      <td>0.0</td>\n      <td>0.0</td>\n      <td>...</td>\n      <td>788107.0</td>\n      <td>806253.0</td>\n      <td>18146.0</td>\n      <td>60.0</td>\n      <td>0.0</td>\n      <td>0.0</td>\n      <td>0.0</td>\n      <td>0.0</td>\n      <td>0.0</td>\n      <td>1.0</td>\n    </tr>\n    <tr>\n      <th>7672</th>\n      <td>6.132590</td>\n      <td>Heung-Min Son</td>\n      <td>14</td>\n      <td>390</td>\n      <td>3.0</td>\n      <td>6.4</td>\n      <td>0.0</td>\n      <td>0.0</td>\n      <td>3.0</td>\n      <td>0.0</td>\n      <td>...</td>\n      <td>154155.0</td>\n      <td>170409.0</td>\n      <td>16254.0</td>\n      <td>97.0</td>\n      <td>1.0</td>\n      <td>0.0</td>\n      <td>0.0</td>\n      <td>0.0</td>\n      <td>0.0</td>\n      <td>1.0</td>\n    </tr>\n    <tr>\n      <th>18785</th>\n      <td>6.088678</td>\n      <td>Sam Johnstone</td>\n      <td>31</td>\n      <td>417</td>\n      <td>2.0</td>\n      <td>9.5</td>\n      <td>0.0</td>\n      <td>3.0</td>\n      <td>45.0</td>\n      <td>1.0</td>\n      <td>...</td>\n      <td>937.0</td>\n      <td>16469.0</td>\n      <td>15532.0</td>\n      <td>45.0</td>\n      <td>1.0</td>\n      <td>0.0</td>\n      <td>0.0</td>\n      <td>0.0</td>\n      <td>1.0</td>\n      <td>0.0</td>\n    </tr>\n    <tr>\n      <th>1443</th>\n      <td>6.081779</td>\n      <td>Sadio ManÃ©</td>\n      <td>3</td>\n      <td>251</td>\n      <td>0.0</td>\n      <td>8.8</td>\n      <td>0.0</td>\n      <td>1.0</td>\n      <td>22.0</td>\n      <td>0.0</td>\n      <td>...</td>\n      <td>55243.0</td>\n      <td>122337.0</td>\n      <td>67094.0</td>\n      <td>119.0</td>\n      <td>1.0</td>\n      <td>1.0</td>\n      <td>0.0</td>\n      <td>0.0</td>\n      <td>0.0</td>\n      <td>1.0</td>\n    </tr>\n    <tr>\n      <th>1412</th>\n      <td>6.079928</td>\n      <td>RaÃºl JimÃ©nez</td>\n      <td>3</td>\n      <td>460</td>\n      <td>2.0</td>\n      <td>4.7</td>\n      <td>0.0</td>\n      <td>0.0</td>\n      <td>-1.0</td>\n      <td>0.0</td>\n      <td>...</td>\n      <td>198215.0</td>\n      <td>349218.0</td>\n      <td>151003.0</td>\n      <td>85.0</td>\n      <td>0.0</td>\n      <td>0.0</td>\n      <td>0.0</td>\n      <td>1.0</td>\n      <td>0.0</td>\n      <td>0.0</td>\n    </tr>\n    <tr>\n      <th>15380</th>\n      <td>5.960415</td>\n      <td>Timo Werner</td>\n      <td>26</td>\n      <td>117</td>\n      <td>2.0</td>\n      <td>8.6</td>\n      <td>0.0</td>\n      <td>0.0</td>\n      <td>3.0</td>\n      <td>0.0</td>\n      <td>...</td>\n      <td>-62681.0</td>\n      <td>28529.0</td>\n      <td>91210.0</td>\n      <td>92.0</td>\n      <td>1.0</td>\n      <td>0.0</td>\n      <td>0.0</td>\n      <td>1.0</td>\n      <td>0.0</td>\n      <td>0.0</td>\n    </tr>\n    <tr>\n      <th>5716</th>\n      <td>5.767989</td>\n      <td>Kevin De Bruyne</td>\n      <td>11</td>\n      <td>272</td>\n      <td>3.0</td>\n      <td>10.2</td>\n      <td>1.0</td>\n      <td>3.0</td>\n      <td>41.0</td>\n      <td>1.0</td>\n      <td>...</td>\n      <td>308791.0</td>\n      <td>328451.0</td>\n      <td>19660.0</td>\n      <td>117.0</td>\n      <td>1.0</td>\n      <td>0.0</td>\n      <td>0.0</td>\n      <td>0.0</td>\n      <td>0.0</td>\n      <td>1.0</td>\n    </tr>\n    <tr>\n      <th>11000</th>\n      <td>5.742733</td>\n      <td>Aaron Cresswell</td>\n      <td>19</td>\n      <td>435</td>\n      <td>5.0</td>\n      <td>13.4</td>\n      <td>0.0</td>\n      <td>0.0</td>\n      <td>14.0</td>\n      <td>0.0</td>\n      <td>...</td>\n      <td>286229.0</td>\n      <td>317337.0</td>\n      <td>31108.0</td>\n      <td>54.0</td>\n      <td>1.0</td>\n      <td>0.0</td>\n      <td>1.0</td>\n      <td>0.0</td>\n      <td>0.0</td>\n      <td>0.0</td>\n    </tr>\n  </tbody>\n</table>\n<p>10 rows × 34 columns</p>\n</div>"
     },
     "execution_count": 217,
     "metadata": {},
     "output_type": "execute_result"
    }
   ],
   "source": [
    "x_test_reversed_mlp = pd.concat([y_pred_2021_mlp, x_test_reversed], axis=1)\n",
    "#preview x_test_reversed sorted by predicted total points descending\n",
    "x_test_reversed_mlp.sort_values(by='predicted_total_points_next_gameweek', ascending=False).head(10)"
   ],
   "metadata": {
    "collapsed": false,
    "pycharm": {
     "name": "#%%\n"
    }
   }
  }
 ],
 "metadata": {
  "kernelspec": {
   "display_name": "Python 3",
   "language": "python",
   "name": "python3"
  },
  "language_info": {
   "codemirror_mode": {
    "name": "ipython",
    "version": 2
   },
   "file_extension": ".py",
   "mimetype": "text/x-python",
   "name": "python",
   "nbconvert_exporter": "python",
   "pygments_lexer": "ipython2",
   "version": "2.7.6"
  }
 },
 "nbformat": 4,
 "nbformat_minor": 0
}