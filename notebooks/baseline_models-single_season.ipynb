{
 "cells": [
  {
   "cell_type": "code",
   "execution_count": 1,
   "outputs": [],
   "source": [
    "# %load_ext autoreload\n",
    "# %autoreload 2"
   ],
   "metadata": {
    "collapsed": false,
    "pycharm": {
     "name": "#%%\n"
    }
   }
  },
  {
   "cell_type": "markdown",
   "source": [
    "# Train simple baseline models on limited, single season data"
   ],
   "metadata": {
    "collapsed": false,
    "pycharm": {
     "name": "#%% md\n"
    }
   }
  },
  {
   "cell_type": "code",
   "execution_count": 2,
   "outputs": [],
   "source": [
    "import pandas as pd\n",
    "import matplotlib.pyplot as plt\n",
    "\n",
    "from src.features.data_engineering import preprocess_single_season, reverse_processing"
   ],
   "metadata": {
    "collapsed": false,
    "pycharm": {
     "name": "#%%\n"
    }
   }
  },
  {
   "cell_type": "markdown",
   "source": [
    "##### Train on 2020-21 season data"
   ],
   "metadata": {
    "collapsed": false,
    "pycharm": {
     "name": "#%% md\n"
    }
   }
  },
  {
   "cell_type": "code",
   "execution_count": 3,
   "outputs": [],
   "source": [
    "(x_train_2021, y_train_2021), (x_test_2021, y_test_2021), (x_train_2021_target, x_test_2021_target), x_2021_scaler = preprocess_single_season('2020-21')\n",
    "\n",
    "# (x_train_1617, y_train_1617), (x_test_1617, y_test_1617), (x_train_1617_target, x_test_1617_target), x_1617_scaler = preprocess_single_season('2016-17')"
   ],
   "metadata": {
    "collapsed": false,
    "pycharm": {
     "name": "#%%\n"
    }
   }
  },
  {
   "cell_type": "markdown",
   "source": [
    "## Train on baseline Dummy model"
   ],
   "metadata": {
    "collapsed": false,
    "pycharm": {
     "name": "#%% md\n"
    }
   }
  },
  {
   "cell_type": "code",
   "execution_count": 4,
   "outputs": [],
   "source": [
    "from sklearn.dummy import DummyRegressor\n",
    "from sklearn.metrics import mean_squared_error"
   ],
   "metadata": {
    "collapsed": false,
    "pycharm": {
     "name": "#%%\n"
    }
   }
  },
  {
   "cell_type": "code",
   "execution_count": 5,
   "outputs": [
    {
     "data": {
      "text/plain": "DummyRegressor()"
     },
     "execution_count": 5,
     "metadata": {},
     "output_type": "execute_result"
    }
   ],
   "source": [
    "dummy_regr = DummyRegressor(strategy=\"mean\")\n",
    "dummy_regr.fit(x_train_2021, y_train_2021)"
   ],
   "metadata": {
    "collapsed": false,
    "pycharm": {
     "name": "#%%\n"
    }
   }
  },
  {
   "cell_type": "code",
   "execution_count": 6,
   "outputs": [],
   "source": [
    "y_pred_2021 = dummy_regr.predict(x_test_2021)"
   ],
   "metadata": {
    "collapsed": false,
    "pycharm": {
     "name": "#%%\n"
    }
   }
  },
  {
   "cell_type": "code",
   "execution_count": 7,
   "outputs": [
    {
     "data": {
      "text/plain": "6.18489872538868"
     },
     "execution_count": 7,
     "metadata": {},
     "output_type": "execute_result"
    }
   ],
   "source": [
    "mean_squared_error(y_pred_2021, y_test_2021)"
   ],
   "metadata": {
    "collapsed": false,
    "pycharm": {
     "name": "#%%\n"
    }
   }
  },
  {
   "cell_type": "markdown",
   "source": [
    "## Train on baseline decision tree model"
   ],
   "metadata": {
    "collapsed": false,
    "pycharm": {
     "name": "#%% md\n"
    }
   }
  },
  {
   "cell_type": "code",
   "execution_count": 8,
   "outputs": [],
   "source": [
    "from sklearn.tree import DecisionTreeRegressor"
   ],
   "metadata": {
    "collapsed": false,
    "pycharm": {
     "name": "#%%\n"
    }
   }
  },
  {
   "cell_type": "code",
   "execution_count": 9,
   "outputs": [
    {
     "data": {
      "text/plain": "DecisionTreeRegressor()"
     },
     "execution_count": 9,
     "metadata": {},
     "output_type": "execute_result"
    }
   ],
   "source": [
    "tree_regr = DecisionTreeRegressor()\n",
    "tree_regr.fit(x_train_2021, y_train_2021)"
   ],
   "metadata": {
    "collapsed": false,
    "pycharm": {
     "name": "#%%\n"
    }
   }
  },
  {
   "cell_type": "code",
   "execution_count": 10,
   "outputs": [],
   "source": [
    "y_pred_2021 = tree_regr.predict(x_test_2021)"
   ],
   "metadata": {
    "collapsed": false,
    "pycharm": {
     "name": "#%%\n"
    }
   }
  },
  {
   "cell_type": "code",
   "execution_count": 11,
   "outputs": [
    {
     "data": {
      "text/plain": "8.996104417670683"
     },
     "execution_count": 11,
     "metadata": {},
     "output_type": "execute_result"
    }
   ],
   "source": [
    "mean_squared_error(y_pred_2021, y_test_2021)"
   ],
   "metadata": {
    "collapsed": false,
    "pycharm": {
     "name": "#%%\n"
    }
   }
  },
  {
   "cell_type": "code",
   "execution_count": 12,
   "outputs": [
    {
     "name": "stdout",
     "output_type": "stream",
     "text": [
      "Feature 0: xP, Score: 0.06957\n",
      "Feature 1: assists, Score: 0.00282\n",
      "Feature 2: bonus, Score: 0.00151\n",
      "Feature 3: bps, Score: 0.03994\n",
      "Feature 4: clean_sheets, Score: 0.00193\n",
      "Feature 5: creativity, Score: 0.05696\n",
      "Feature 6: goals_conceded, Score: 0.01299\n",
      "Feature 7: goals_scored, Score: 0.00035\n",
      "Feature 8: ict_index, Score: 0.04169\n",
      "Feature 9: influence, Score: 0.05033\n",
      "Feature 10: minutes, Score: 0.25232\n",
      "Feature 11: own_goals, Score: 1e-05\n",
      "Feature 12: penalties_missed, Score: 0.00233\n",
      "Feature 13: penalties_saved, Score: 0.0\n",
      "Feature 14: red_cards, Score: 0.0\n",
      "Feature 15: saves, Score: 0.00348\n",
      "Feature 16: selected, Score: 0.11608\n",
      "Feature 17: threat, Score: 0.02745\n",
      "Feature 18: total_points, Score: 0.01221\n",
      "Feature 19: transfers_balance, Score: 0.06892\n",
      "Feature 20: transfers_in, Score: 0.07205\n",
      "Feature 21: transfers_out, Score: 0.07738\n",
      "Feature 22: value, Score: 0.06386\n",
      "Feature 23: was_home, Score: 0.00865\n",
      "Feature 24: yellow_cards, Score: 0.00264\n",
      "Feature 25: position_DEF, Score: 0.00564\n",
      "Feature 26: position_FWD, Score: 0.00258\n",
      "Feature 27: position_GK, Score: 0.00062\n",
      "Feature 28: position_MID, Score: 0.0057\n"
     ]
    },
    {
     "data": {
      "text/plain": "<Figure size 432x288 with 1 Axes>",
      "image/png": "[encoded data removed]"
     },
     "metadata": {
      "needs_background": "light"
     },
     "output_type": "display_data"
    }
   ],
   "source": [
    "# summarize feature importance\n",
    "importance = tree_regr.feature_importances_\n",
    "for i,v in enumerate(importance):\n",
    "    print(f'Feature {i}: {x_train_2021.columns[i]}, Score: {round(v,5)}')\n",
    "# plot feature importance\n",
    "plt.bar([x for x in range(len(importance))], importance)\n",
    "plt.show()"
   ],
   "metadata": {
    "collapsed": false,
    "pycharm": {
     "name": "#%%\n"
    }
   }
  },
  {
   "cell_type": "markdown",
   "source": [
    "## Train on baseline SVR model"
   ],
   "metadata": {
    "collapsed": false,
    "pycharm": {
     "name": "#%% md\n"
    }
   }
  },
  {
   "cell_type": "code",
   "execution_count": 13,
   "outputs": [],
   "source": [
    "from sklearn.svm import LinearSVR"
   ],
   "metadata": {
    "collapsed": false,
    "pycharm": {
     "name": "#%%from sklearn import svm\n"
    }
   }
  },
  {
   "cell_type": "code",
   "execution_count": 14,
   "outputs": [
    {
     "name": "stderr",
     "output_type": "stream",
     "text": [
      "d:\\studies\\informatyka\\semestr_3\\fpl_ai_manager\\venv\\lib\\site-packages\\sklearn\\svm\\_base.py:1206: ConvergenceWarning: Liblinear failed to converge, increase the number of iterations.\n",
      "  warnings.warn(\n"
     ]
    },
    {
     "data": {
      "text/plain": "LinearSVR()"
     },
     "execution_count": 14,
     "metadata": {},
     "output_type": "execute_result"
    }
   ],
   "source": [
    "model_svr = LinearSVR()\n",
    "model_svr.fit(x_train_2021, y_train_2021)"
   ],
   "metadata": {
    "collapsed": false,
    "pycharm": {
     "name": "#%%\n"
    }
   }
  },
  {
   "cell_type": "code",
   "execution_count": 15,
   "outputs": [],
   "source": [
    "# create series to keep indexes and name same as in the original y data\n",
    "y_pred_2021 = pd.Series(model_svr.predict(x_test_2021), index=y_test_2021.index, name='predicted_total_points_next_gameweek')"
   ],
   "metadata": {
    "collapsed": false,
    "pycharm": {
     "name": "#%%\n"
    }
   }
  },
  {
   "cell_type": "code",
   "execution_count": 16,
   "outputs": [
    {
     "data": {
      "text/plain": "5.212035505530282"
     },
     "execution_count": 16,
     "metadata": {},
     "output_type": "execute_result"
    }
   ],
   "source": [
    "mean_squared_error(y_pred_2021, y_test_2021)"
   ],
   "metadata": {
    "collapsed": false,
    "pycharm": {
     "name": "#%%\n"
    }
   }
  },
  {
   "cell_type": "markdown",
   "source": [
    "## Merge results with footballers extracted target data"
   ],
   "metadata": {
    "collapsed": false,
    "pycharm": {
     "name": "#%% md\n"
    }
   }
  },
  {
   "cell_type": "code",
   "execution_count": 17,
   "outputs": [],
   "source": [
    "x_test_reversed = reverse_processing(x_test_2021, x_2021_scaler, x_test_2021_target)"
   ],
   "metadata": {
    "collapsed": false,
    "pycharm": {
     "name": "#%%\n"
    }
   }
  },
  {
   "cell_type": "code",
   "execution_count": 18,
   "outputs": [],
   "source": [
    "predictions_svr_2021 = pd.concat([y_pred_2021, x_test_reversed], axis=1)"
   ],
   "metadata": {
    "collapsed": false,
    "pycharm": {
     "name": "#%%\n"
    }
   }
  },
  {
   "cell_type": "code",
   "execution_count": 19,
   "outputs": [
    {
     "data": {
      "text/plain": "       predicted_total_points_next_gameweek                   name  GW  \\\n18785                              4.158296          Sam Johnstone  31   \n451                                4.119587  Alisson Ramses Becker   2   \n21725                              4.062341          Edouard Mendy  35   \n22536                              3.991650           Scott Carson  36   \n19585                              3.101593      Kelechi Iheanacho  32   \n5359                               3.097279             Diogo Jota  10   \n1202                               3.060454       James RodrÃ­guez   3   \n12160                              3.047102        Ilkay GÃ¼ndogan  21   \n15938                              3.002705  Dominic Calvert-Lewin  26   \n5047                               2.993536           Hakim Ziyech   9   \n\n       element  total_points_next_gameweek   xP  assists  bonus   bps  \\\n18785      417                         2.0  9.5      0.0    3.0  45.0   \n451        252                         2.0  8.0      0.0    2.0  41.0   \n21725      548                         0.0  0.0      0.0    3.0  36.0   \n22536      608                         0.0  3.3      0.0    1.0  27.0   \n19585      233                        12.0  8.0      0.0    0.0  30.0   \n5359       468                         1.0  7.7      0.0    2.0  23.0   \n1202       508                        18.0  5.7      0.0    0.0  16.0   \n12160      271                         8.0  8.8      0.0    0.0  17.0   \n15938      164                         2.0  9.7      0.0    0.0   0.0   \n5047       114                         2.0  9.8      0.0    0.0  10.0   \n\n       clean_sheets  ...  transfers_balance  transfers_in  transfers_out  \\\n18785           1.0  ...              937.0       16469.0        15532.0   \n451             1.0  ...           -92351.0       10612.0       102963.0   \n21725           0.0  ...             6142.0       34232.0        28090.0   \n22536           0.0  ...              -55.0        1047.0         1102.0   \n19585           1.0  ...           712878.0      720792.0         7914.0   \n5359            0.0  ...           783351.0      803730.0        20379.0   \n1202            0.0  ...           682098.0      806071.0       123973.0   \n12160           1.0  ...           674097.0      687138.0        13041.0   \n15938           1.0  ...           765433.0      811559.0        46126.0   \n5047            1.0  ...           745737.0      764461.0        18724.0   \n\n       value  was_home  yellow_cards  position_DEF  position_FWD  position_GK  \\\n18785   45.0       1.0           0.0           0.0           0.0          1.0   \n451     60.0       0.0           0.0           0.0           0.0          1.0   \n21725   52.0       0.0           0.0           0.0           0.0          1.0   \n22536   39.0       0.0           0.0           0.0           0.0          1.0   \n19585   60.0       1.0           0.0           0.0           1.0          0.0   \n5359    67.0       0.0           0.0           0.0           0.0          0.0   \n1202    76.0       0.0           0.0           0.0           0.0          0.0   \n12160   58.0       1.0           0.0           0.0           0.0          0.0   \n15938   78.0       1.0           0.0           0.0           1.0          0.0   \n5047    82.0       0.0           0.0           0.0           0.0          0.0   \n\n       position_MID  \n18785           0.0  \n451             0.0  \n21725           0.0  \n22536           0.0  \n19585           0.0  \n5359            1.0  \n1202            1.0  \n12160           1.0  \n15938           0.0  \n5047            1.0  \n\n[10 rows x 34 columns]",
      "text/html": "<div>\n<style scoped>\n    .dataframe tbody tr th:only-of-type {\n        vertical-align: middle;\n    }\n\n    .dataframe tbody tr th {\n        vertical-align: top;\n    }\n\n    .dataframe thead th {\n        text-align: right;\n    }\n</style>\n<table border=\"1\" class=\"dataframe\">\n  <thead>\n    <tr style=\"text-align: right;\">\n      <th></th>\n      <th>predicted_total_points_next_gameweek</th>\n      <th>name</th>\n      <th>GW</th>\n      <th>element</th>\n      <th>total_points_next_gameweek</th>\n      <th>xP</th>\n      <th>assists</th>\n      <th>bonus</th>\n      <th>bps</th>\n      <th>clean_sheets</th>\n      <th>...</th>\n      <th>transfers_balance</th>\n      <th>transfers_in</th>\n      <th>transfers_out</th>\n      <th>value</th>\n      <th>was_home</th>\n      <th>yellow_cards</th>\n      <th>position_DEF</th>\n      <th>position_FWD</th>\n      <th>position_GK</th>\n      <th>position_MID</th>\n    </tr>\n  </thead>\n  <tbody>\n    <tr>\n      <th>18785</th>\n      <td>4.158296</td>\n      <td>Sam Johnstone</td>\n      <td>31</td>\n      <td>417</td>\n      <td>2.0</td>\n      <td>9.5</td>\n      <td>0.0</td>\n      <td>3.0</td>\n      <td>45.0</td>\n      <td>1.0</td>\n      <td>...</td>\n      <td>937.0</td>\n      <td>16469.0</td>\n      <td>15532.0</td>\n      <td>45.0</td>\n      <td>1.0</td>\n      <td>0.0</td>\n      <td>0.0</td>\n      <td>0.0</td>\n      <td>1.0</td>\n      <td>0.0</td>\n    </tr>\n    <tr>\n      <th>451</th>\n      <td>4.119587</td>\n      <td>Alisson Ramses Becker</td>\n      <td>2</td>\n      <td>252</td>\n      <td>2.0</td>\n      <td>8.0</td>\n      <td>0.0</td>\n      <td>2.0</td>\n      <td>41.0</td>\n      <td>1.0</td>\n      <td>...</td>\n      <td>-92351.0</td>\n      <td>10612.0</td>\n      <td>102963.0</td>\n      <td>60.0</td>\n      <td>0.0</td>\n      <td>0.0</td>\n      <td>0.0</td>\n      <td>0.0</td>\n      <td>1.0</td>\n      <td>0.0</td>\n    </tr>\n    <tr>\n      <th>21725</th>\n      <td>4.062341</td>\n      <td>Edouard Mendy</td>\n      <td>35</td>\n      <td>548</td>\n      <td>0.0</td>\n      <td>0.0</td>\n      <td>0.0</td>\n      <td>3.0</td>\n      <td>36.0</td>\n      <td>0.0</td>\n      <td>...</td>\n      <td>6142.0</td>\n      <td>34232.0</td>\n      <td>28090.0</td>\n      <td>52.0</td>\n      <td>0.0</td>\n      <td>0.0</td>\n      <td>0.0</td>\n      <td>0.0</td>\n      <td>1.0</td>\n      <td>0.0</td>\n    </tr>\n    <tr>\n      <th>22536</th>\n      <td>3.991650</td>\n      <td>Scott Carson</td>\n      <td>36</td>\n      <td>608</td>\n      <td>0.0</td>\n      <td>3.3</td>\n      <td>0.0</td>\n      <td>1.0</td>\n      <td>27.0</td>\n      <td>0.0</td>\n      <td>...</td>\n      <td>-55.0</td>\n      <td>1047.0</td>\n      <td>1102.0</td>\n      <td>39.0</td>\n      <td>0.0</td>\n      <td>0.0</td>\n      <td>0.0</td>\n      <td>0.0</td>\n      <td>1.0</td>\n      <td>0.0</td>\n    </tr>\n    <tr>\n      <th>19585</th>\n      <td>3.101593</td>\n      <td>Kelechi Iheanacho</td>\n      <td>32</td>\n      <td>233</td>\n      <td>12.0</td>\n      <td>8.0</td>\n      <td>0.0</td>\n      <td>0.0</td>\n      <td>30.0</td>\n      <td>1.0</td>\n      <td>...</td>\n      <td>712878.0</td>\n      <td>720792.0</td>\n      <td>7914.0</td>\n      <td>60.0</td>\n      <td>1.0</td>\n      <td>0.0</td>\n      <td>0.0</td>\n      <td>1.0</td>\n      <td>0.0</td>\n      <td>0.0</td>\n    </tr>\n    <tr>\n      <th>5359</th>\n      <td>3.097279</td>\n      <td>Diogo Jota</td>\n      <td>10</td>\n      <td>468</td>\n      <td>1.0</td>\n      <td>7.7</td>\n      <td>0.0</td>\n      <td>2.0</td>\n      <td>23.0</td>\n      <td>0.0</td>\n      <td>...</td>\n      <td>783351.0</td>\n      <td>803730.0</td>\n      <td>20379.0</td>\n      <td>67.0</td>\n      <td>0.0</td>\n      <td>0.0</td>\n      <td>0.0</td>\n      <td>0.0</td>\n      <td>0.0</td>\n      <td>1.0</td>\n    </tr>\n    <tr>\n      <th>1202</th>\n      <td>3.060454</td>\n      <td>James RodrÃ­guez</td>\n      <td>3</td>\n      <td>508</td>\n      <td>18.0</td>\n      <td>5.7</td>\n      <td>0.0</td>\n      <td>0.0</td>\n      <td>16.0</td>\n      <td>0.0</td>\n      <td>...</td>\n      <td>682098.0</td>\n      <td>806071.0</td>\n      <td>123973.0</td>\n      <td>76.0</td>\n      <td>0.0</td>\n      <td>0.0</td>\n      <td>0.0</td>\n      <td>0.0</td>\n      <td>0.0</td>\n      <td>1.0</td>\n    </tr>\n    <tr>\n      <th>12160</th>\n      <td>3.047102</td>\n      <td>Ilkay GÃ¼ndogan</td>\n      <td>21</td>\n      <td>271</td>\n      <td>8.0</td>\n      <td>8.8</td>\n      <td>0.0</td>\n      <td>0.0</td>\n      <td>17.0</td>\n      <td>1.0</td>\n      <td>...</td>\n      <td>674097.0</td>\n      <td>687138.0</td>\n      <td>13041.0</td>\n      <td>58.0</td>\n      <td>1.0</td>\n      <td>0.0</td>\n      <td>0.0</td>\n      <td>0.0</td>\n      <td>0.0</td>\n      <td>1.0</td>\n    </tr>\n    <tr>\n      <th>15938</th>\n      <td>3.002705</td>\n      <td>Dominic Calvert-Lewin</td>\n      <td>26</td>\n      <td>164</td>\n      <td>2.0</td>\n      <td>9.7</td>\n      <td>0.0</td>\n      <td>0.0</td>\n      <td>0.0</td>\n      <td>1.0</td>\n      <td>...</td>\n      <td>765433.0</td>\n      <td>811559.0</td>\n      <td>46126.0</td>\n      <td>78.0</td>\n      <td>1.0</td>\n      <td>0.0</td>\n      <td>0.0</td>\n      <td>1.0</td>\n      <td>0.0</td>\n      <td>0.0</td>\n    </tr>\n    <tr>\n      <th>5047</th>\n      <td>2.993536</td>\n      <td>Hakim Ziyech</td>\n      <td>9</td>\n      <td>114</td>\n      <td>2.0</td>\n      <td>9.8</td>\n      <td>0.0</td>\n      <td>0.0</td>\n      <td>10.0</td>\n      <td>1.0</td>\n      <td>...</td>\n      <td>745737.0</td>\n      <td>764461.0</td>\n      <td>18724.0</td>\n      <td>82.0</td>\n      <td>0.0</td>\n      <td>0.0</td>\n      <td>0.0</td>\n      <td>0.0</td>\n      <td>0.0</td>\n      <td>1.0</td>\n    </tr>\n  </tbody>\n</table>\n<p>10 rows × 34 columns</p>\n</div>"
     },
     "execution_count": 19,
     "metadata": {},
     "output_type": "execute_result"
    }
   ],
   "source": [
    "#preview x_test_reversed sorted by predicted total points descending\n",
    "predictions_svr_2021.sort_values(by='predicted_total_points_next_gameweek', ascending=False).head(10)"
   ],
   "metadata": {
    "collapsed": false,
    "pycharm": {
     "name": "#%%\n"
    }
   }
  },
  {
   "cell_type": "markdown",
   "source": [
    "## Train on baseline Multi-layer Perceptron model"
   ],
   "metadata": {
    "collapsed": false,
    "pycharm": {
     "name": "#%% md\n"
    }
   }
  },
  {
   "cell_type": "code",
   "execution_count": 20,
   "outputs": [],
   "source": [
    "import tensorflow as tf"
   ],
   "metadata": {
    "collapsed": false,
    "pycharm": {
     "name": "#%%\n"
    }
   }
  },
  {
   "cell_type": "code",
   "execution_count": 21,
   "outputs": [],
   "source": [
    "model_mlp = tf.keras.models.Sequential()\n",
    "\n",
    "model_mlp.add(tf.keras.layers.Dense(units=32, activation='relu', input_shape=(x_train_2021.shape[1],)))\n",
    "model_mlp.add(tf.keras.layers.Dense(units=16, activation='relu'))\n",
    "model_mlp.add(tf.keras.layers.Dense(units=1, activation='linear'))\n"
   ],
   "metadata": {
    "collapsed": false,
    "pycharm": {
     "name": "#%%\n"
    }
   }
  },
  {
   "cell_type": "code",
   "execution_count": 22,
   "outputs": [],
   "source": [
    "model_mlp.compile(optimizer='adam',\n",
    "                  loss='mse')"
   ],
   "metadata": {
    "collapsed": false,
    "pycharm": {
     "name": "#%%model_mlp.compile(optimizer='adam', loss='mse')\n"
    }
   }
  },
  {
   "cell_type": "code",
   "execution_count": null,
   "outputs": [
    {
     "name": "stdout",
     "output_type": "stream",
     "text": [
      "Epoch 1/30\n",
      "3784/3784 [==============================] - 4s 826us/step - loss: 4.6766 - val_loss: 4.0122\n",
      "Epoch 2/30\n",
      "3784/3784 [==============================] - 3s 802us/step - loss: 4.4863 - val_loss: 4.0433\n",
      "Epoch 3/30\n",
      "3784/3784 [==============================] - 3s 724us/step - loss: 4.4536 - val_loss: 4.0086\n",
      "Epoch 4/30\n",
      "3784/3784 [==============================] - 3s 750us/step - loss: 4.4319 - val_loss: 4.1535\n",
      "Epoch 5/30\n",
      "3784/3784 [==============================] - 3s 806us/step - loss: 4.4264 - val_loss: 3.9911\n",
      "Epoch 6/30\n",
      "3784/3784 [==============================] - 3s 749us/step - loss: 4.4079 - val_loss: 4.0165\n",
      "Epoch 7/30\n",
      "3784/3784 [==============================] - 3s 753us/step - loss: 4.4015 - val_loss: 4.0100\n",
      "Epoch 8/30\n",
      "3784/3784 [==============================] - 3s 758us/step - loss: 4.3954 - val_loss: 4.0259\n",
      "Epoch 9/30\n",
      "3784/3784 [==============================] - 3s 773us/step - loss: 4.3786 - val_loss: 4.0087\n",
      "Epoch 10/30\n",
      "3784/3784 [==============================] - 3s 780us/step - loss: 4.3710 - val_loss: 4.0651\n",
      "Epoch 11/30\n",
      "1997/3784 [==============>...............] - ETA: 1s - loss: 4.3696"
     ]
    }
   ],
   "source": [
    "history = model_mlp.fit(x_train_2021, y_train_2021,\n",
    "                        batch_size=4,\n",
    "                        epochs=30,\n",
    "                        validation_split=0.2)"
   ],
   "metadata": {
    "collapsed": false,
    "pycharm": {
     "name": "#%%\n",
     "is_executing": true
    }
   }
  },
  {
   "cell_type": "code",
   "execution_count": null,
   "outputs": [],
   "source": [
    "score = model_mlp.evaluate(x_test_2021, y_test_2021, verbose=0)\n",
    "print('Test loss:', score)"
   ],
   "metadata": {
    "collapsed": false,
    "pycharm": {
     "name": "#%%\n",
     "is_executing": true
    }
   }
  },
  {
   "cell_type": "code",
   "execution_count": null,
   "outputs": [],
   "source": [
    "# Plot training & validation loss values\n",
    "plt.plot(history.history['loss'])\n",
    "plt.plot(history.history['val_loss'])\n",
    "plt.title('Model loss')\n",
    "plt.ylabel('Loss')\n",
    "plt.xlabel('Epoch')\n",
    "plt.legend(['Train', 'Test'], loc='upper left')\n",
    "plt.show()"
   ],
   "metadata": {
    "collapsed": false,
    "pycharm": {
     "name": "#%%\n",
     "is_executing": true
    }
   }
  },
  {
   "cell_type": "markdown",
   "source": [
    "MLP model is achieving the lowest loss value from all baseline models."
   ],
   "metadata": {
    "collapsed": false,
    "pycharm": {
     "name": "#%% md\n"
    }
   }
  },
  {
   "cell_type": "code",
   "execution_count": null,
   "outputs": [],
   "source": [
    "y_pred_2021_mlp = pd.Series(model_mlp.predict(x_test_2021).reshape(-1,), index=y_test_2021.index, name='predicted_total_points_next_gameweek')"
   ],
   "metadata": {
    "collapsed": false,
    "pycharm": {
     "name": "#%%\n",
     "is_executing": true
    }
   }
  },
  {
   "cell_type": "code",
   "execution_count": null,
   "outputs": [],
   "source": [
    "predictions_mlp_2021 = pd.concat([y_pred_2021_mlp, x_test_reversed], axis=1)\n",
    "#preview x_test_reversed sorted by predicted total points descending\n",
    "predictions_mlp_2021.sort_values(by='predicted_total_points_next_gameweek', ascending=False).head(10)"
   ],
   "metadata": {
    "collapsed": false,
    "pycharm": {
     "name": "#%%\n"
    }
   }
  },
  {
   "cell_type": "code",
   "execution_count": null,
   "outputs": [],
   "source": [],
   "metadata": {
    "collapsed": false,
    "pycharm": {
     "name": "#%%\n"
    }
   }
  }
 ],
 "metadata": {
  "kernelspec": {
   "display_name": "Python 3",
   "language": "python",
   "name": "python3"
  },
  "language_info": {
   "codemirror_mode": {
    "name": "ipython",
    "version": 2
   },
   "file_extension": ".py",
   "mimetype": "text/x-python",
   "name": "python",
   "nbconvert_exporter": "python",
   "pygments_lexer": "ipython2",
   "version": "2.7.6"
  }
 },
 "nbformat": 4,
 "nbformat_minor": 0
}