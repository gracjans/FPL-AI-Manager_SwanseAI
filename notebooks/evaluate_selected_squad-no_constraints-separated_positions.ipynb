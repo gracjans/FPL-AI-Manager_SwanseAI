{
 "cells": [
  {
   "cell_type": "markdown",
   "source": [
    "# Evaluate models predictions (each model trained on different data - separated by players positions)\n",
    "### Select best predicted squad and compare gained points with average points from specific gameweek"
   ],
   "metadata": {
    "collapsed": false,
    "pycharm": {
     "name": "#%% md\n"
    }
   }
  },
  {
   "cell_type": "code",
   "execution_count": 1,
   "metadata": {
    "collapsed": true,
    "pycharm": {
     "name": "#%%\n"
    }
   },
   "outputs": [],
   "source": [
    "import pandas as pd\n",
    "import tensorflow as tf\n",
    "import xgboost as xgb\n",
    "import numpy as np\n",
    "import matplotlib.pyplot as plt\n",
    "import os\n",
    "\n",
    "from src.data.data_loader import load_average_pts\n",
    "from src.features.data_engineering import preprocess_seasons_data\n",
    "from src.features.data_engineering import reverse_processing\n",
    "\n",
    "from src.modeling.train_model import train_mlp_model\n",
    "from src.modeling.predictions import merge_reversed_data_with_predictions\n",
    "from src.modeling.evaluate_squad import squad_selection_without_constraints\n",
    "from src.modeling.evaluate_squad import get_average_pts\n",
    "from src.modeling.evaluate_squad import evaluate_selected_squad_without_constraints"
   ]
  },
  {
   "cell_type": "code",
   "execution_count": 2,
   "outputs": [],
   "source": [
    "average_pts = load_average_pts()"
   ],
   "metadata": {
    "collapsed": false,
    "pycharm": {
     "name": "#%%\n"
    }
   }
  },
  {
   "cell_type": "code",
   "execution_count": 3,
   "outputs": [
    {
     "data": {
      "text/plain": "   GW  AVG_PTS_2016/17  AVG_PTS_2018/19  AVG_PTS_2021/22\n0   1               44               53               69\n1   2               56               59               56\n2   3               40               48               54\n3   4               41               43               57\n4   5               47               46               55",
      "text/html": "<div>\n<style scoped>\n    .dataframe tbody tr th:only-of-type {\n        vertical-align: middle;\n    }\n\n    .dataframe tbody tr th {\n        vertical-align: top;\n    }\n\n    .dataframe thead th {\n        text-align: right;\n    }\n</style>\n<table border=\"1\" class=\"dataframe\">\n  <thead>\n    <tr style=\"text-align: right;\">\n      <th></th>\n      <th>GW</th>\n      <th>AVG_PTS_2016/17</th>\n      <th>AVG_PTS_2018/19</th>\n      <th>AVG_PTS_2021/22</th>\n    </tr>\n  </thead>\n  <tbody>\n    <tr>\n      <th>0</th>\n      <td>1</td>\n      <td>44</td>\n      <td>53</td>\n      <td>69</td>\n    </tr>\n    <tr>\n      <th>1</th>\n      <td>2</td>\n      <td>56</td>\n      <td>59</td>\n      <td>56</td>\n    </tr>\n    <tr>\n      <th>2</th>\n      <td>3</td>\n      <td>40</td>\n      <td>48</td>\n      <td>54</td>\n    </tr>\n    <tr>\n      <th>3</th>\n      <td>4</td>\n      <td>41</td>\n      <td>43</td>\n      <td>57</td>\n    </tr>\n    <tr>\n      <th>4</th>\n      <td>5</td>\n      <td>47</td>\n      <td>46</td>\n      <td>55</td>\n    </tr>\n  </tbody>\n</table>\n</div>"
     },
     "execution_count": 3,
     "metadata": {},
     "output_type": "execute_result"
    }
   ],
   "source": [
    "average_pts.head()"
   ],
   "metadata": {
    "collapsed": false,
    "pycharm": {
     "name": "#%%\n"
    }
   }
  },
  {
   "cell_type": "markdown",
   "source": [
    "#### Load training data"
   ],
   "metadata": {
    "collapsed": false,
    "pycharm": {
     "name": "#%% md\n"
    }
   }
  },
  {
   "cell_type": "code",
   "execution_count": 4,
   "outputs": [],
   "source": [
    "# load data by position\n",
    "data_intermediate_path = os.path.dirname(os.getcwd()) + '\\\\data\\\\intermediate\\\\'\n",
    "\n",
    "data_gk = pd.read_csv(data_intermediate_path + 'separate/gk.csv')\n",
    "data_def = pd.read_csv(data_intermediate_path + 'separate/def.csv')\n",
    "data_mid = pd.read_csv(data_intermediate_path + 'separate/mid.csv')\n",
    "data_fwd = pd.read_csv(data_intermediate_path + 'separate/fwd.csv')"
   ],
   "metadata": {
    "collapsed": false,
    "pycharm": {
     "name": "#%%\n"
    }
   }
  },
  {
   "cell_type": "markdown",
   "source": [
    "# Evaluate models trained on merged seasons data with historical rolling features and with data about next game opponent team"
   ],
   "metadata": {
    "collapsed": false,
    "pycharm": {
     "name": "#%% md\n"
    }
   }
  },
  {
   "cell_type": "code",
   "execution_count": 5,
   "outputs": [],
   "source": [
    "rolling_columns_gk = ['bonus', 'bps', 'clean_sheets', 'goals_conceded', 'influence', 'minutes',\n",
    "                      'penalties_saved', 'saves', 'selected', 'player_team_score', 'opponent_team_score',\n",
    "                      'total_points', 'transfers_in', 'transfers_out','value']\n",
    "\n",
    "rolling_columns_def = ['assists', 'bonus', 'bps', 'clean_sheets', 'creativity', 'goals_conceded', 'goals_scored',\n",
    "                       'ict_index', 'influence', 'minutes', 'selected', 'player_team_score', 'opponent_team_score',\n",
    "                       'threat', 'total_points', 'transfers_in', 'transfers_out', 'value', 'yellow_cards']\n",
    "\n",
    "rolling_columns_mid = ['assists', 'bonus', 'bps', 'clean_sheets', 'creativity', 'goals_conceded', 'goals_scored',\n",
    "                       'ict_index', 'influence', 'minutes', 'selected', 'player_team_score', 'opponent_team_score',\n",
    "                       'threat', 'total_points', 'transfers_in', 'transfers_out', 'value', 'yellow_cards']\n",
    "\n",
    "rolling_columns_fwd = ['assists', 'bonus', 'bps', 'creativity', 'goals_scored', 'ict_index', 'influence',\n",
    "                       'minutes', 'selected', 'player_team_score', 'opponent_team_score', 'threat',\n",
    "                       'total_points', 'transfers_in', 'transfers_out', 'value', 'yellow_cards']\n",
    "\n",
    "times = ['all', 6, 3]\n",
    "\n",
    "test_subset_XL = (['2016-17', [4, 8, 9, 14, 18, 20, 21, 26, 32]], ['2018-19', [1, 2, 3, 4, 5, 6, 7, 8, 9, 10]], ['2021-22', [17, 18, 19, 20, 21, 22, 23, 24, 25, 26]])"
   ],
   "metadata": {
    "collapsed": false,
    "pycharm": {
     "name": "#%%\n"
    }
   }
  },
  {
   "cell_type": "code",
   "execution_count": 6,
   "outputs": [],
   "source": [
    "(x_train_gk, y_train_gk), (x_test_gk, y_test_gk), (x_train_target_gk, x_test_target_gk), x_scaler_gk = preprocess_seasons_data(data_gk, random_split=False, test_subset=test_subset_XL, rolling_features=True, rolling_columns=rolling_columns_gk, rolling_times=times, opponent_team_stats=True)\n",
    "\n",
    "(x_train_def, y_train_def), (x_test_def, y_test_def), (x_train_target_def, x_test_target_def), x_scaler_def = preprocess_seasons_data(data_def, random_split=False, test_subset=test_subset_XL, rolling_features=True, rolling_columns=rolling_columns_def, rolling_times=times, opponent_team_stats=True)\n",
    "\n",
    "(x_train_mid, y_train_mid), (x_test_mid, y_test_mid), (x_train_target_mid, x_test_target_mid), x_scaler_mid = preprocess_seasons_data(data_mid, random_split=False, test_subset=test_subset_XL, rolling_features=True, rolling_columns=rolling_columns_mid, rolling_times=times, opponent_team_stats=True)\n",
    "\n",
    "(x_train_fwd, y_train_fwd), (x_test_fwd, y_test_fwd), (x_train_target_fwd, x_test_target_fwd), x_scaler_fwd = preprocess_seasons_data(data_fwd, random_split=False, test_subset=test_subset_XL, rolling_features=True, rolling_columns=rolling_columns_fwd, rolling_times=times, opponent_team_stats=True)"
   ],
   "metadata": {
    "collapsed": false,
    "pycharm": {
     "name": "#%%\n"
    }
   }
  },
  {
   "cell_type": "code",
   "execution_count": 7,
   "outputs": [],
   "source": [
    "def train_baseline_mlp(x_train, y_train, x_test, x_scaler, x_test_target):\n",
    "    model_mlp = tf.keras.models.Sequential()\n",
    "\n",
    "    model_mlp.add(tf.keras.layers.Dense(units=128, activation='relu', input_shape=(x_train.shape[1],)))\n",
    "\n",
    "    if len(x_train) > 50000:\n",
    "        model_mlp.add(tf.keras.layers.Dense(units=256, activation='relu'))\n",
    "\n",
    "    model_mlp.add(tf.keras.layers.Dense(units=64, activation='relu'))\n",
    "    model_mlp.add(tf.keras.layers.Dense(units=1, activation='linear'))\n",
    "\n",
    "    model_mlp.compile(optimizer='adam', loss='mse')\n",
    "\n",
    "    history = model_mlp.fit(x_train, y_train,\n",
    "                            batch_size=16,\n",
    "                            epochs=20,\n",
    "                            validation_split=0.3,\n",
    "                            verbose=0)\n",
    "\n",
    "    x_test_reversed = reverse_processing(x_test, x_scaler, x_test_target)\n",
    "\n",
    "    return model_mlp, x_test_reversed"
   ],
   "metadata": {
    "collapsed": false,
    "pycharm": {
     "name": "#%%\n"
    }
   }
  },
  {
   "cell_type": "code",
   "execution_count": 8,
   "outputs": [],
   "source": [
    "def train_baseline_xgb(x_train, y_train, x_test, x_scaler, x_test_target):\n",
    "    model_xgb = xgb.XGBRegressor()\n",
    "    model_xgb.fit(x_train, y_train)\n",
    "\n",
    "    x_test_reversed = reverse_processing(x_test, x_scaler, x_test_target)\n",
    "\n",
    "    return model_xgb, x_test_reversed"
   ],
   "metadata": {
    "collapsed": false,
    "pycharm": {
     "name": "#%%\n"
    }
   }
  },
  {
   "cell_type": "code",
   "execution_count": 9,
   "outputs": [],
   "source": [
    "# Make predictions on specific test subset using MLP and XGBoost models\n",
    "model_mlp_gk, x_test_reversed_gk = train_baseline_mlp(x_train_gk, y_train_gk, x_test_gk, x_scaler_gk, x_test_target_gk)\n",
    "predictions_mlp_gk = merge_reversed_data_with_predictions(model_mlp_gk, x_test_gk, y_test_gk, x_test_reversed_gk)\n",
    "\n",
    "model_mlp_def, x_test_reversed_def = train_baseline_mlp(x_train_def, y_train_def, x_test_def, x_scaler_def, x_test_target_def)\n",
    "predictions_mlp_def = merge_reversed_data_with_predictions(model_mlp_def, x_test_def, y_test_def, x_test_reversed_def)\n",
    "\n",
    "model_mlp_mid, x_test_reversed_mid = train_baseline_mlp(x_train_mid, y_train_mid, x_test_mid, x_scaler_mid, x_test_target_mid)\n",
    "predictions_mlp_mid = merge_reversed_data_with_predictions(model_mlp_mid, x_test_mid, y_test_mid, x_test_reversed_mid)\n",
    "\n",
    "model_mlp_fwd, x_test_reversed_fwd = train_baseline_mlp(x_train_fwd, y_train_fwd, x_test_fwd, x_scaler_fwd, x_test_target_fwd)\n",
    "predictions_mlp_fwd = merge_reversed_data_with_predictions(model_mlp_fwd, x_test_fwd, y_test_fwd, x_test_reversed_fwd)\n",
    "\n",
    "# concatenate predictions_mlp_gk with predictions_mlp_def, predictions_mlp_mid and predictions_mlp_fwd\n",
    "predictions_mlp_merged = pd.concat([predictions_mlp_gk, predictions_mlp_def, predictions_mlp_mid, predictions_mlp_fwd])"
   ],
   "metadata": {
    "collapsed": false,
    "pycharm": {
     "name": "#%%\n"
    }
   }
  },
  {
   "cell_type": "code",
   "execution_count": 10,
   "outputs": [],
   "source": [
    "model_xgb_gk, x_test_reversed_gk = train_baseline_xgb(x_train_gk, y_train_gk, x_test_gk, x_scaler_gk, x_test_target_gk)\n",
    "predictions_xgb_gk = merge_reversed_data_with_predictions(model_xgb_gk, x_test_gk, y_test_gk, x_test_reversed_gk)\n",
    "\n",
    "model_xgb_def, x_test_reversed_def = train_baseline_xgb(x_train_def, y_train_def, x_test_def, x_scaler_def, x_test_target_def)\n",
    "predictions_xgb_def = merge_reversed_data_with_predictions(model_xgb_def, x_test_def, y_test_def, x_test_reversed_def)\n",
    "\n",
    "model_xgb_mid, x_test_reversed_mid = train_baseline_xgb(x_train_mid, y_train_mid, x_test_mid, x_scaler_mid, x_test_target_mid)\n",
    "predictions_xgb_mid = merge_reversed_data_with_predictions(model_xgb_mid, x_test_mid, y_test_mid, x_test_reversed_mid)\n",
    "\n",
    "model_xgb_fwd, x_test_reversed_fwd = train_baseline_xgb(x_train_fwd, y_train_fwd, x_test_fwd, x_scaler_fwd, x_test_target_fwd)\n",
    "predictions_xgb_fwd = merge_reversed_data_with_predictions(model_xgb_fwd, x_test_fwd, y_test_fwd, x_test_reversed_fwd)\n",
    "\n",
    "# concatenate predictions_xgb_gk with predictions_xgb_def, predictions_xgb_mid and predictions_xgb_fwd\n",
    "predictions_xgb_merged = pd.concat([predictions_xgb_gk, predictions_xgb_def, predictions_xgb_mid, predictions_xgb_fwd])"
   ],
   "metadata": {
    "collapsed": false,
    "pycharm": {
     "name": "#%%\n"
    }
   }
  },
  {
   "cell_type": "code",
   "execution_count": 11,
   "outputs": [],
   "source": [
    "# Get squad and evaluate it for both models\n",
    "results_mlp, selected_squad_points_mlp, real_player_average_points_mlp, season_gameweeks_mlp = evaluate_selected_squad_without_constraints(predictions_mlp_merged, test_subset_XL, 'mlp_model-no_constraints_SPEARATE_test_subset_XL')\n",
    "results_xgb, selected_squad_points_xgb, real_player_average_points_xgb, season_gameweeks_xgb = evaluate_selected_squad_without_constraints(predictions_xgb_merged, test_subset_XL, 'xgb_model-no_constraints_SPEARATE_test_subset_XL')"
   ],
   "metadata": {
    "collapsed": false,
    "pycharm": {
     "name": "#%%\n"
    }
   }
  },
  {
   "cell_type": "code",
   "execution_count": 12,
   "outputs": [
    {
     "data": {
      "text/plain": "<Figure size 1440x1080 with 1 Axes>",
      "image/png": "[encoded data removed]"
     },
     "metadata": {
      "needs_background": "light"
     },
     "output_type": "display_data"
    }
   ],
   "source": [
    "plt.figure(figsize=(20,15))\n",
    "\n",
    "X_axis = np.arange(len(season_gameweeks_mlp))\n",
    "\n",
    "plt.bar(X_axis - 0.3, selected_squad_points_xgb, 0.3, label = 'Selected squad points XGB')\n",
    "plt.bar(X_axis, real_player_average_points_mlp, 0.3, label = 'Real player average points')\n",
    "plt.bar(X_axis + 0.3, selected_squad_points_mlp, 0.3, label = 'Selected squad points MLP')\n",
    "\n",
    "plt.xticks(X_axis, season_gameweeks_mlp, rotation=30)\n",
    "plt.xlabel(\"Season and GW\")\n",
    "plt.ylabel(\"Points gained\")\n",
    "plt.title(\"Comparison of pts gained by squad selected by MLP model with points gained by squad selected by XGB model for big test subset\")\n",
    "plt.legend()\n",
    "plt.show()"
   ],
   "metadata": {
    "collapsed": false,
    "pycharm": {
     "name": "#%%\n"
    }
   }
  },
  {
   "cell_type": "markdown",
   "source": [
    "#### MLP model sum of points"
   ],
   "metadata": {
    "collapsed": false,
    "pycharm": {
     "name": "#%% md\n"
    }
   }
  },
  {
   "cell_type": "code",
   "execution_count": 13,
   "outputs": [
    {
     "name": "stdout",
     "output_type": "stream",
     "text": [
      "Sum of points gained by selected squad: 1831.0\n",
      "Sum of points gained by real players: 1386\n",
      "Difference: 445.0 pts\n"
     ]
    }
   ],
   "source": [
    "print('Sum of points gained by selected squad:', sum(selected_squad_points_mlp))\n",
    "print('Sum of points gained by real players:', sum(real_player_average_points_mlp))\n",
    "print('Difference:', sum(selected_squad_points_mlp) - sum(real_player_average_points_mlp), 'pts')"
   ],
   "metadata": {
    "collapsed": false,
    "pycharm": {
     "name": "#%%\n"
    }
   }
  },
  {
   "cell_type": "markdown",
   "source": [
    "#### XGBoost model sum of points"
   ],
   "metadata": {
    "collapsed": false,
    "pycharm": {
     "name": "#%% md\n"
    }
   }
  },
  {
   "cell_type": "code",
   "execution_count": 14,
   "outputs": [
    {
     "name": "stdout",
     "output_type": "stream",
     "text": [
      "Sum of points gained by selected squad: 1497.0\n",
      "Sum of points gained by real players: 1386\n",
      "Difference: 111.0 pts\n"
     ]
    }
   ],
   "source": [
    "print('Sum of points gained by selected squad:', sum(selected_squad_points_xgb))\n",
    "print('Sum of points gained by real players:', sum(real_player_average_points_xgb))\n",
    "print('Difference:', sum(selected_squad_points_xgb) - sum(real_player_average_points_xgb), 'pts')"
   ],
   "metadata": {
    "collapsed": false,
    "pycharm": {
     "name": "#%%\n"
    }
   }
  },
  {
   "cell_type": "markdown",
   "source": [
    "### Conclustion #1\n",
    "MLP model seems to gain much more points than XGBoost model when 4 different models are trained with data separated by player position. It's strange for me, because I was expecting that XGB model will be better, when datasets are smaller. Comparing to the models trained with all data together, MLP model seems to have similar performance, but XGB model seems to be worse. Now I will try to train models separated on GK data and Field_players data."
   ],
   "metadata": {
    "collapsed": false,
    "pycharm": {
     "name": "#%% md\n"
    }
   }
  },
  {
   "cell_type": "markdown",
   "source": [
    "## Train two separate models (GK and Field_players)"
   ],
   "metadata": {
    "collapsed": false,
    "pycharm": {
     "name": "#%% md\n"
    }
   }
  },
  {
   "cell_type": "code",
   "execution_count": 15,
   "outputs": [],
   "source": [
    "# load data by position\n",
    "data_intermediate_path = os.path.dirname(os.getcwd()) + '\\\\data\\\\intermediate\\\\'\n",
    "\n",
    "data_gk = pd.read_csv(data_intermediate_path + 'separate/gk.csv')\n",
    "data_field = pd.read_csv(data_intermediate_path + 'separate/field.csv')"
   ],
   "metadata": {
    "collapsed": false,
    "pycharm": {
     "name": "#%%\n"
    }
   }
  },
  {
   "cell_type": "code",
   "execution_count": 16,
   "outputs": [],
   "source": [
    "rolling_columns_field = ['assists', 'bonus', 'bps', 'clean_sheets', 'creativity', 'goals_conceded', 'goals_scored',\n",
    "                       'ict_index', 'influence', 'minutes', 'selected', 'player_team_score', 'opponent_team_score',\n",
    "                       'threat', 'total_points', 'transfers_in', 'transfers_out', 'value', 'yellow_cards']"
   ],
   "metadata": {
    "collapsed": false,
    "pycharm": {
     "name": "#%%\n"
    }
   }
  },
  {
   "cell_type": "code",
   "execution_count": 17,
   "outputs": [],
   "source": [
    "(x_train_gk, y_train_gk), (x_test_gk, y_test_gk), (x_train_target_gk, x_test_target_gk), x_scaler_gk = preprocess_seasons_data(data_gk, random_split=False, test_subset=test_subset_XL, rolling_features=True, rolling_columns=rolling_columns_gk, rolling_times=times, opponent_team_stats=True)\n",
    "\n",
    "(x_train_field, y_train_field), (x_test_field, y_test_field), (x_train_target_field, x_test_target_field), x_scaler_field = preprocess_seasons_data(data_field, random_split=False, test_subset=test_subset_XL, rolling_features=True, rolling_columns=rolling_columns_field, rolling_times=times, opponent_team_stats=True)"
   ],
   "metadata": {
    "collapsed": false,
    "pycharm": {
     "name": "#%%\n"
    }
   }
  },
  {
   "cell_type": "code",
   "execution_count": 18,
   "outputs": [],
   "source": [
    "# Make predictions on specific test subset using MLP and XGBoost models\n",
    "model_mlp_gk, x_test_reversed_gk = train_baseline_mlp(x_train_gk, y_train_gk, x_test_gk, x_scaler_gk, x_test_target_gk)\n",
    "predictions_mlp_gk = merge_reversed_data_with_predictions(model_mlp_gk, x_test_gk, y_test_gk, x_test_reversed_gk)\n",
    "\n",
    "model_mlp_field, x_test_reversed_field = train_baseline_mlp(x_train_field, y_train_field, x_test_field, x_scaler_field, x_test_target_field)\n",
    "predictions_mlp_field = merge_reversed_data_with_predictions(model_mlp_field, x_test_field, y_test_field, x_test_reversed_field)\n",
    "\n",
    "# concatenate predictions_mlp_gk with predictions_mlp_def, predictions_mlp_mid and predictions_mlp_fwd\n",
    "predictions_mlp_merged_field = pd.concat([predictions_mlp_gk, predictions_mlp_field])"
   ],
   "metadata": {
    "collapsed": false,
    "pycharm": {
     "name": "#%%\n"
    }
   }
  },
  {
   "cell_type": "code",
   "execution_count": 19,
   "outputs": [],
   "source": [
    "model_xgb_gk, x_test_reversed_gk = train_baseline_xgb(x_train_gk, y_train_gk, x_test_gk, x_scaler_gk, x_test_target_gk)\n",
    "predictions_xgb_gk = merge_reversed_data_with_predictions(model_xgb_gk, x_test_gk, y_test_gk, x_test_reversed_gk)\n",
    "\n",
    "model_xgb_field, x_test_reversed_field = train_baseline_xgb(x_train_field, y_train_field, x_test_field, x_scaler_field, x_test_target_field)\n",
    "predictions_xgb_field = merge_reversed_data_with_predictions(model_xgb_field, x_test_field, y_test_field, x_test_reversed_field)\n",
    "\n",
    "# concatenate predictions_xgb_gk with predictions_xgb_def, predictions_xgb_mid and predictions_xgb_fwd\n",
    "predictions_xgb_merged_field = pd.concat([predictions_xgb_gk, predictions_xgb_field])"
   ],
   "metadata": {
    "collapsed": false,
    "pycharm": {
     "name": "#%%\n"
    }
   }
  },
  {
   "cell_type": "code",
   "execution_count": 20,
   "outputs": [],
   "source": [
    "# Get squad and evaluate it for both models\n",
    "results_mlp_field, selected_squad_points_mlp_field, real_player_average_points_mlp_field, season_gameweeks_mlp_field = evaluate_selected_squad_without_constraints(predictions_mlp_merged_field, test_subset_XL, 'mlp_model-no_constraints_FIELD_test_subset_XL')\n",
    "results_xgb_field, selected_squad_points_xgb_field, real_player_average_points_xgb_field, season_gameweeks_xgb_field = evaluate_selected_squad_without_constraints(predictions_xgb_merged_field, test_subset_XL, 'xgb_model-no_constraints_FIELD_test_subset_XL')"
   ],
   "metadata": {
    "collapsed": false,
    "pycharm": {
     "name": "#%%\n"
    }
   }
  },
  {
   "cell_type": "code",
   "execution_count": 21,
   "outputs": [
    {
     "data": {
      "text/plain": "<Figure size 1440x1080 with 1 Axes>",
      "image/png": "[encoded data removed]"
     },
     "metadata": {
      "needs_background": "light"
     },
     "output_type": "display_data"
    }
   ],
   "source": [
    "plt.figure(figsize=(20,15))\n",
    "\n",
    "X_axis = np.arange(len(season_gameweeks_mlp))\n",
    "\n",
    "plt.bar(X_axis - 0.3, selected_squad_points_xgb_field, 0.3, label = 'Selected squad points XGB')\n",
    "plt.bar(X_axis, real_player_average_points_mlp_field, 0.3, label = 'Real player average points')\n",
    "plt.bar(X_axis + 0.3, selected_squad_points_mlp_field, 0.3, label = 'Selected squad points MLP')\n",
    "\n",
    "plt.xticks(X_axis, season_gameweeks_mlp, rotation=30)\n",
    "plt.xlabel(\"Season and GW\")\n",
    "plt.ylabel(\"Points gained\")\n",
    "plt.title(\"Comparison of pts gained by squad selected by MLP model with points gained by squad selected by XGB model for big test subset\")\n",
    "plt.legend()\n",
    "plt.show()"
   ],
   "metadata": {
    "collapsed": false,
    "pycharm": {
     "name": "#%%\n"
    }
   }
  },
  {
   "cell_type": "markdown",
   "source": [
    "#### MLP model sum of points"
   ],
   "metadata": {
    "collapsed": false,
    "pycharm": {
     "name": "#%% md\n"
    }
   }
  },
  {
   "cell_type": "code",
   "execution_count": 22,
   "outputs": [
    {
     "name": "stdout",
     "output_type": "stream",
     "text": [
      "Sum of points gained by selected squad: 1768.0\n",
      "Sum of points gained by real players: 1386\n",
      "Difference: 382.0 pts\n"
     ]
    }
   ],
   "source": [
    "print('Sum of points gained by selected squad:', sum(selected_squad_points_mlp_field))\n",
    "print('Sum of points gained by real players:', sum(real_player_average_points_mlp))\n",
    "print('Difference:', sum(selected_squad_points_mlp_field) - sum(real_player_average_points_mlp), 'pts')"
   ],
   "metadata": {
    "collapsed": false,
    "pycharm": {
     "name": "#%%\n"
    }
   }
  },
  {
   "cell_type": "markdown",
   "source": [
    "#### XGBoost model sum of points"
   ],
   "metadata": {
    "collapsed": false,
    "pycharm": {
     "name": "#%% md\n"
    }
   }
  },
  {
   "cell_type": "code",
   "execution_count": 23,
   "outputs": [
    {
     "name": "stdout",
     "output_type": "stream",
     "text": [
      "Sum of points gained by selected squad: 1586.0\n",
      "Sum of points gained by real players: 1386\n",
      "Difference: 200.0 pts\n"
     ]
    }
   ],
   "source": [
    "print('Sum of points gained by selected squad:', sum(selected_squad_points_xgb_field))\n",
    "print('Sum of points gained by real players:', sum(real_player_average_points_xgb))\n",
    "print('Difference:', sum(selected_squad_points_xgb_field) - sum(real_player_average_points_xgb), 'pts')"
   ],
   "metadata": {
    "collapsed": false,
    "pycharm": {
     "name": "#%%\n"
    }
   }
  },
  {
   "cell_type": "code",
   "execution_count": 24,
   "outputs": [
    {
     "data": {
      "text/plain": "[(                  name  total_points_next_gameweek  value\n  0    Kasper_Schmeichel                         0.0   50.0\n  1     Shkodran_Mustafi                         2.0   60.0\n  2           Scott_Dann                         8.0   55.0\n  3      Héctor_Bellerín                         2.0   65.0\n  4       Alexis_Sánchez                        20.0  110.0\n  5   Manuel_Agudo Durán                         3.0   90.0\n  6           Mesut_Özil                         2.0   96.0\n  7          Eden_Hazard                         2.0  103.0\n  8          David_Silva                         0.0   89.0\n  9          Jamie_Vardy                         6.0   99.0\n  10          Harry_Kane                         9.0  109.0,\n  54.0),\n (                              name  total_points_next_gameweek  value\n  0   Adrián_San Miguel del Castillo                         6.0   50.0\n  1                  Héctor_Bellerín                         7.0   65.0\n  2                  Nathaniel_Clyne                         2.0   55.0\n  3                      Kyle_Walker                         6.0   60.0\n  4                   Alexis_Sánchez                         6.0  113.0\n  5                    Heung-Min_Son                         3.0   77.0\n  6                  Kevin_De Bruyne                         1.0  106.0\n  7                     Theo_Walcott                         3.0   77.0\n  8                Christian_Eriksen                         3.0   82.0\n  9                    Romelu_Lukaku                         5.0   94.0\n  10                   Jermain_Defoe                         2.0   73.0,\n  44.0),\n (                 name  total_points_next_gameweek  value\n  0      Heurelho_Gomes                         6.0   49.0\n  1     Héctor_Bellerín                         2.0   66.0\n  2   Laurent_Koscielny                         2.0   63.0\n  3    Shkodran_Mustafi                         2.0   60.0\n  4      Alexis_Sánchez                        26.0  113.0\n  5     Kevin_De Bruyne                         4.0  107.0\n  6     Roberto_Firmino                         6.0   85.0\n  7        Theo_Walcott                         0.0   80.0\n  8          Sadio_Mané                         2.0   90.0\n  9       Sergio_Agüero                        16.0  131.0\n  10      Romelu_Lukaku                        12.0   96.0,\n  78.0),\n (                          name  total_points_next_gameweek  value\n  0               David_Marshall                         2.0   45.0\n  1   David_Luiz Moreira Marinho                         6.0   61.0\n  2                Marcos_Alonso                         6.0   62.0\n  3            César_Azpilicueta                         9.0   62.0\n  4                  Eden_Hazard                         6.0  103.0\n  5              Kevin_De Bruyne                         2.0  108.0\n  6                   Sadio_Mané                         8.0   93.0\n  7               Alexis_Sánchez                         5.0  114.0\n  8                   Mesut_Özil                        10.0   96.0\n  9                Sergio_Agüero                         0.0  131.0\n  10               Jermain_Defoe                         2.0   76.0,\n  56.0),\n (                 name  total_points_next_gameweek  value\n  0           Petr_Cech                         7.0   54.0\n  1         Kyle_Walker                         0.0   62.0\n  2       Marcos_Alonso                         3.0   64.0\n  3   Laurent_Koscielny                         6.0   64.0\n  4      Alexis_Sánchez                        12.0  119.0\n  5         Eden_Hazard                         5.0  104.0\n  6          Mesut_Özil                         0.0   96.0\n  7   Christian_Eriksen                         2.0   86.0\n  8          Paul_Pogba                        10.0   83.0\n  9       Romelu_Lukaku                         2.0   94.0\n  10         Harry_Kane                        16.0  111.0,\n  63.0),\n (                 name  total_points_next_gameweek  value\n  0        David_de Gea                         3.0   54.0\n  1          Danny_Rose                         6.0   60.0\n  2         Kyle_Walker                        11.0   61.0\n  3   Toby_Alderweireld                         6.0   63.0\n  4      Alexis_Sánchez                        22.0  119.0\n  5         Eden_Hazard                         6.0  104.0\n  6     Kevin_De Bruyne                         2.0  106.0\n  7       Dimitri_Payet                         0.0   91.0\n  8       Bamidele_Alli                         6.0   83.0\n  9          Harry_Kane                        17.0  110.0\n  10      Jermain_Defoe                         6.0   77.0,\n  85.0),\n (                  name  total_points_next_gameweek  value\n  0      Eldin_Jakupovic                         2.0   39.0\n  1        Marcos_Alonso                         6.0   65.0\n  2          Gary_Cahill                        15.0   64.0\n  3     Antonio_Valencia                         2.0   54.0\n  4       Alexis_Sánchez                        16.0  119.0\n  5          Eden_Hazard                         3.0  104.0\n  6        Bamidele_Alli                         6.0   86.0\n  7      Roberto_Firmino                        14.0   84.0\n  8      Kevin_De Bruyne                        13.0  106.0\n  9   Zlatan_Ibrahimovic                         2.0  116.0\n  10       Romelu_Lukaku                         2.0   95.0,\n  81.0),\n (                    name  total_points_next_gameweek  value\n  0        Jordan_Pickford                         2.0   41.0\n  1          Marcos_Alonso                         2.0   68.0\n  2            Kyle_Walker                         1.0   64.0\n  3         Gareth_McAuley                         1.0   51.0\n  4            Eden_Hazard                        22.0  103.0\n  5          Bamidele_Alli                        12.0   88.0\n  6       Gylfi_Sigurdsson                         5.0   75.0\n  7             Sadio_Mané                        13.0   94.0\n  8      Philippe_Coutinho                         2.0   82.0\n  9          Romelu_Lukaku                         6.0   99.0\n  10  Diego_Da Silva Costa                         9.0  107.0,\n  75.0),\n (                 name  total_points_next_gameweek  value\n  0     Darren_Randolph                         1.0   44.0\n  1     Héctor_Bellerín                         1.0   65.0\n  2     Nathaniel_Clyne                         6.0   58.0\n  3         Kyle_Walker                         6.0   65.0\n  4     Roberto_Firmino                        22.0   85.0\n  5      Alexis_Sánchez                         7.0  117.0\n  6   Christian_Eriksen                         7.0   88.0\n  7       Bamidele_Alli                         6.0   91.0\n  8          Mesut_Özil                        10.0   94.0\n  9       Sergio_Agüero                         6.0  128.0\n  10      Romelu_Lukaku                         6.0  104.0,\n  78.0),\n (                            name  total_points_next_gameweek  value\n  0                 Mathew_Ryan_47                         1.0   45.0\n  1           Davinson_Sánchez_359                         2.0   60.0\n  2            Virgil_van Dijk_246                         6.0   60.0\n  3              Marcos_Alonso_115                        13.0   65.0\n  4             Alexis_Sánchez_295                         0.0  105.0\n  5              Mohamed_Salah_253                         9.0  130.0\n  6                Eden_Hazard_122                         4.0  105.0\n  7          Christian_Eriksen_364                         2.0   95.0\n  8                 Sadio_Mané_251                        10.0   95.0\n  9   Pierre-Emerick_Aubameyang_23                         2.0  110.0\n  10                Harry_Kane_372                         7.0  125.0,\n  56.0),\n (                            name  total_points_next_gameweek  value\n  0                    Petr_Cech_1                         3.0   50.0\n  1          César_Azpilicueta_113                         2.0   65.0\n  2           Andrew_Robertson_247                         9.0   60.0\n  3               José_Holebas_378                         9.0   46.0\n  4              Mohamed_Salah_253                        16.0  130.0\n  5                Eden_Hazard_122                         8.0  105.0\n  6                 Leroy_Sané_275                         1.0   95.0\n  7          Christian_Eriksen_364                         6.0   95.0\n  8                 Sadio_Mané_251                         3.0   97.0\n  9                 Harry_Kane_372                        10.0  125.0\n  10  Pierre-Emerick_Aubameyang_23                         2.0  110.0,\n  69.0),\n (                            name  total_points_next_gameweek  value\n  0           Lukasz_Fabianski_400                         3.0   45.0\n  1              Michael_Keane_162                         0.0   50.0\n  2             Benjamin_Mendy_267                         5.0   63.0\n  3            Aymeric_Laporte_268                         2.0   55.0\n  4              Mohamed_Salah_253                         4.0  130.0\n  5            Raheem_Sterling_270                        10.0  110.0\n  6                 Sadio_Mané_251                        10.0   98.0\n  7                David_Silva_271                         2.0   84.0\n  8                 Leroy_Sané_275                         0.0   94.0\n  9   Pierre-Emerick_Aubameyang_23                         8.0  110.0\n  10             Sergio_Agüero_280                         6.0  112.0,\n  50.0),\n (                                 name  total_points_next_gameweek  value\n  0   Rui Pedro_dos Santos Patrício_454                         6.0   45.0\n  1               César_Azpilicueta_113                         2.0   65.0\n  2                  Shkodran_Mustafi_7                         2.0   54.0\n  3                  Benjamin_Mendy_267                         0.0   64.0\n  4                   Mohamed_Salah_253                         4.0  130.0\n  5                     David_Silva_271                        11.0   85.0\n  6                     Eden_Hazard_122                        20.0  106.0\n  7                      Sadio_Mané_251                         2.0   99.0\n  8         Pedro_Rodríguez Ledesma_125                         2.0   67.0\n  9                   Sergio_Agüero_280                         7.0  113.0\n  10       Pierre-Emerick_Aubameyang_23                         5.0  109.0,\n  61.0),\n (                                    name  total_points_next_gameweek  value\n  0                    Wayne_Hennessey_135                         8.0   45.0\n  1                      Marcos_Alonso_115                         6.0   68.0\n  2                    Kieran_Trippier_357                         4.0   60.0\n  3   Ricardo Domingos_Barbosa Pereira_221                         0.0   51.0\n  4                      Mohamed_Salah_253                        16.0  130.0\n  5                        Eden_Hazard_122                         3.0  107.0\n  6                         Sadio_Mané_251                         3.0  100.0\n  7                  Christian_Eriksen_364                         2.0   93.0\n  8                        David_Silva_271                         0.0   85.0\n  9                      Sergio_Agüero_280                         6.0  114.0\n  10                        Harry_Kane_372                         9.0  125.0,\n  57.0),\n (                     name  total_points_next_gameweek  value\n  0   Kepa_Arrizabalaga_498                         3.0   55.0\n  1     Kieran_Trippier_357                        11.0   60.0\n  2         Kyle_Walker_265                         7.0   65.0\n  3      Jan_Vertonghen_355                         1.0   60.0\n  4     Raheem_Sterling_270                        28.0  110.0\n  5         Eden_Hazard_122                        10.0  109.0\n  6       Mohamed_Salah_253                         2.0  130.0\n  7   Christian_Eriksen_364                         0.0   93.0\n  8      Alexis_Sánchez_295                         0.0  102.0\n  9          Harry_Kane_372                        13.0  124.0\n  10      Romelu_Lukaku_306                         2.0  111.0,\n  77.0),\n (                             name  total_points_next_gameweek  value\n  0   Ederson_Santana de Moraes_260                         7.0   57.0\n  1             Kieran_Trippier_357                         7.0   61.0\n  2               Marcos_Alonso_115                         6.0   69.0\n  3                  Danny_Rose_354                         6.0   59.0\n  4               Mohamed_Salah_253                         6.0  129.0\n  5                 Eden_Hazard_122                        14.0  110.0\n  6             Raheem_Sterling_270                         3.0  110.0\n  7                  Paul_Pogba_302                         4.0   82.0\n  8                  Leroy_Sané_275                         1.0   92.0\n  9                  Harry_Kane_372                         1.0  124.0\n  10              Romelu_Lukaku_306                         2.0  111.0,\n  57.0),\n (                       name  total_points_next_gameweek  value\n  0         Neil_Etheridge_88                         1.0   46.0\n  1       Kieran_Trippier_357                         6.0   62.0\n  2         Marcos_Alonso_115                         1.0   69.0\n  3      Andrew_Robertson_247                         8.0   63.0\n  4         Mohamed_Salah_253                        16.0  129.0\n  5       Raheem_Sterling_270                         0.0  111.0\n  6           Eden_Hazard_122                         1.0  112.0\n  7            Leroy_Sané_275                         7.0   92.0\n  8      Gylfi_Sigurdsson_172                         3.0   73.0\n  9            Harry_Kane_372                         2.0  125.0\n  10  Aleksandar_Mitrovic_480                         5.0   70.0,\n  50.0),\n (                             name  total_points_next_gameweek  value\n  0   Ederson_Santana de Moraes_260                         8.0   57.0\n  1               Marcos_Alonso_115                        11.0   70.0\n  2             Antonio_Rüdiger_118                         6.0   59.0\n  3            Andrew_Robertson_247                         0.0   63.0\n  4                 Eden_Hazard_122                         0.0  114.0\n  5               Mohamed_Salah_253                        15.0  128.0\n  6                  Leroy_Sané_275                         0.0   92.0\n  7                 David_Silva_271                         3.0   85.0\n  8                  Paul_Pogba_302                         8.0   81.0\n  9          Alexandre_Lacazette_22                         2.0   97.0\n  10              Romelu_Lukaku_306                         1.0  109.0,\n  54.0),\n (                      name  total_points_next_gameweek  value\n  0     Lukasz_Fabianski_400                         1.0   45.0\n  1        Marcos_Alonso_115                         6.0   70.0\n  2        Harry_Maguire_220                         1.0   55.0\n  3      Antonio_Rüdiger_118                         2.0   59.0\n  4          Eden_Hazard_122                         8.0  114.0\n  5      Raheem_Sterling_270                        21.0  112.0\n  6        Mohamed_Salah_253                         2.0  129.0\n  7           Paul_Pogba_302                         2.0   80.0\n  8           Leroy_Sané_275                        14.0   92.0\n  9           Harry_Kane_372                         7.0  124.0\n  10  Alexandre_Lacazette_22                         6.0   98.0,\n  70.0),\n (                                       name  total_points_next_gameweek  value\n  0                 Ederson Santana de Moraes                         6.0   60.0\n  1                          Antonio RÃ¼diger                         5.0   62.0\n  2                          Andrew Robertson                         9.0   71.0\n  3                    Trent Alexander-Arnold                         7.0   82.0\n  4   Bernardo Mota Veiga de Carvalho e Silva                         4.0   77.0\n  5                               Mason Mount                         3.0   76.0\n  6                               Sadio ManÃ©                         2.0  119.0\n  7                           Ilkay GÃ¼ndogan                         0.0   73.0\n  8                             Mohamed Salah                         2.0  131.0\n  9                           Michail Antonio                         5.0   79.0\n  10                            Romelu Lukaku                         0.0  115.0,\n  43.0),\n (                          name  total_points_next_gameweek  value\n  0    Ederson Santana de Moraes                         2.0   60.0\n  1   JoÃ£o Pedro Cavaco Cancelo                         4.0   68.0\n  2                  Reece James                         0.0   63.0\n  3             Antonio RÃ¼diger                         2.0   62.0\n  4                Mohamed Salah                         0.0  131.0\n  5                Heung-Min Son                         8.0  103.0\n  6                   Phil Foden                         1.0   81.0\n  7                  Sadio ManÃ©                         2.0  119.0\n  8             Emile Smith Rowe                         6.0   60.0\n  9                   Harry Kane                         6.0  121.0\n  10         Alexandre Lacazette                        11.0   84.0,\n  42.0),\n (                                   name  total_points_next_gameweek  value\n  0                        Aaron Ramsdale                         1.0   52.0\n  1         RÃºben Santos Gato Alves Dias                         6.0   62.0\n  2            JoÃ£o Pedro Cavaco Cancelo                         6.0   68.0\n  3                      Antonio RÃ¼diger                         1.0   62.0\n  4                       Kevin De Bruyne                        16.0  119.0\n  5                         Heung-Min Son                         6.0  104.0\n  6                          Riyad Mahrez                         0.0   86.0\n  7                            Phil Foden                        11.0   81.0\n  8         Bruno Miguel Borges Fernandes                         0.0  116.0\n  9                            Harry Kane                         6.0  121.0\n  10  Cristiano Ronaldo dos Santos Aveiro                        12.0  125.0,\n  65.0),\n (                                   name  total_points_next_gameweek  value\n  0             Ederson Santana de Moraes                         2.0   60.0\n  1                Trent Alexander-Arnold                         4.0   83.0\n  2            JoÃ£o Pedro Cavaco Cancelo                         2.0   69.0\n  3                         Harry Maguire                         0.0   54.0\n  4                         Heung-Min Son                        12.0  105.0\n  5                         Mohamed Salah                         7.0  130.0\n  6                            Diogo Jota                         5.0   81.0\n  7                           Sadio ManÃ©                         6.0  118.0\n  8         Bruno Miguel Borges Fernandes                         1.0  116.0\n  9                            Harry Kane                         2.0  121.0\n  10  Cristiano Ronaldo dos Santos Aveiro                         2.0  125.0,\n  43.0),\n (                                   name  total_points_next_gameweek  value\n  0                              Tim Krul                         3.0   45.0\n  1                Trent Alexander-Arnold                        10.0   83.0\n  2            JoÃ£o Pedro Cavaco Cancelo                        11.0   69.0\n  3                        Kieran Tierney                         8.0   49.0\n  4                         Heung-Min Son                         0.0  106.0\n  5                      Emile Smith Rowe                         3.0   60.0\n  6                       Kevin De Bruyne                        11.0  119.0\n  7                           Sadio ManÃ©                         0.0  118.0\n  8                           Bukayo Saka                         3.0   63.0\n  9                            Harry Kane                        11.0  122.0\n  10  Cristiano Ronaldo dos Santos Aveiro                         0.0  125.0,\n  60.0),\n (                             name  total_points_next_gameweek  value\n  0                        Tim Krul                         0.0   45.0\n  1          Trent Alexander-Arnold                         2.0   84.0\n  2      JoÃ£o Pedro Cavaco Cancelo                         2.0   70.0\n  3                 Virgil van Dijk                         8.0   66.0\n  4                     Mason Mount                         4.0   77.0\n  5   Bruno Miguel Borges Fernandes                         3.0  116.0\n  6   Bruno Miguel Borges Fernandes                         9.0  116.0\n  7                    Jarrod Bowen                         2.0   67.0\n  8            Raphael Dias Belloli                         2.0   65.0\n  9                      Harry Kane                         2.0  122.0\n  10                  Romelu Lukaku                         2.0  115.0,\n  36.0),\n (                             name  total_points_next_gameweek  value\n  0                      Ben Foster                         2.0   41.0\n  1          Trent Alexander-Arnold                         6.0   84.0\n  2      JoÃ£o Pedro Cavaco Cancelo                         7.0   71.0\n  3                Antonio RÃ¼diger                         6.0   62.0\n  4   Bruno Miguel Borges Fernandes                         4.0  117.0\n  5                      Diogo Jota                        16.0   84.0\n  6                 Kevin De Bruyne                        11.0  121.0\n  7                   Mohamed Salah                         1.0  127.0\n  8                    Jarrod Bowen                        11.0   68.0\n  9                      Harry Kane                         2.0  123.0\n  10                  Romelu Lukaku                         2.0  115.0,\n  68.0),\n (                             name  total_points_next_gameweek  value\n  0                Lukasz Fabianski                         1.0   50.0\n  1          Trent Alexander-Arnold                         6.0   85.0\n  2      JoÃ£o Pedro Cavaco Cancelo                         0.0   71.0\n  3                 Virgil van Dijk                         6.0   67.0\n  4   Bruno Miguel Borges Fernandes                         4.0  117.0\n  5                   Mohamed Salah                         3.0  127.0\n  6                 Raheem Sterling                        18.0  108.0\n  7                    Jarrod Bowen                        13.0   69.0\n  8                      Diogo Jota                         1.0   85.0\n  9                      Harry Kane                         2.0  123.0\n  10            Alexandre Lacazette                         5.0   84.0,\n  59.0),\n (                             name  total_points_next_gameweek  value\n  0           JosÃ© Malheiro de SÃ¡                         4.0   52.0\n  1          Trent Alexander-Arnold                         0.0   85.0\n  2                 Virgil van Dijk                         2.0   67.0\n  3      JoÃ£o Pedro Cavaco Cancelo                         1.0   72.0\n  4                      Diogo Jota                         0.0   85.0\n  5                   Mohamed Salah                        10.0  129.0\n  6   Bruno Miguel Borges Fernandes                        10.0  117.0\n  7   Bruno Miguel Borges Fernandes                        12.0  117.0\n  8                   Heung-Min Son                        10.0  107.0\n  9                 Roberto Firmino                         0.0   87.0\n  10                 RaÃºl JimÃ©nez                         5.0   74.0,\n  54.0),\n (                             name  total_points_next_gameweek  value\n  0                    David de Gea                         6.0   53.0\n  1          Trent Alexander-Arnold                         6.0   85.0\n  2          Trent Alexander-Arnold                        12.0   85.0\n  3      JoÃ£o Pedro Cavaco Cancelo                         9.0   72.0\n  4                   Heung-Min Son                        18.0  107.0\n  5                 Raheem Sterling                         3.0  107.0\n  6                     Bukayo Saka                        12.0   65.0\n  7                 Kevin De Bruyne                         3.0  120.0\n  8   Bruno Miguel Borges Fernandes                         3.0  117.0\n  9                      Harry Kane                        11.0  122.0\n  10                  Romelu Lukaku                         0.0  115.0,\n  83.0)]"
     },
     "execution_count": 24,
     "metadata": {},
     "output_type": "execute_result"
    }
   ],
   "source": [
    "results_mlp_field"
   ],
   "metadata": {
    "collapsed": false,
    "pycharm": {
     "name": "#%%\n"
    }
   }
  },
  {
   "cell_type": "code",
   "execution_count": 24,
   "outputs": [],
   "source": [],
   "metadata": {
    "collapsed": false,
    "pycharm": {
     "name": "#%%\n"
    }
   }
  }
 ],
 "metadata": {
  "kernelspec": {
   "display_name": "Python 3",
   "language": "python",
   "name": "python3"
  },
  "language_info": {
   "codemirror_mode": {
    "name": "ipython",
    "version": 2
   },
   "file_extension": ".py",
   "mimetype": "text/x-python",
   "name": "python",
   "nbconvert_exporter": "python",
   "pygments_lexer": "ipython2",
   "version": "2.7.6"
  }
 },
 "nbformat": 4,
 "nbformat_minor": 0
}