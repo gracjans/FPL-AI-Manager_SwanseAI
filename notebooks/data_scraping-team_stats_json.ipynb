{
 "cells": [
  {
   "cell_type": "code",
   "execution_count": 2,
   "outputs": [],
   "source": [
    "import pandas as pd\n",
    "\n",
    "from src.data.data_loader import get_league_table\n",
    "import asyncio\n",
    "from src.features.utils import idx_to_team_name, str_date_months_back, str_date_days_forward\n",
    "from src.data.data_loader import load_master_team_list\n",
    "from src.features.data_engineering import get_merged_seasons_data\n",
    "import time\n",
    "import json"
   ],
   "metadata": {
    "collapsed": false,
    "pycharm": {
     "name": "#%%\n"
    }
   }
  },
  {
   "cell_type": "markdown",
   "source": [
    "# Scraping data about next opponent team stats and saving into json"
   ],
   "metadata": {
    "collapsed": false,
    "pycharm": {
     "name": "#%% md\n"
    }
   }
  },
  {
   "cell_type": "code",
   "execution_count": 3,
   "outputs": [],
   "source": [
    "data = get_merged_seasons_data()\n",
    "\n",
    "data = data.copy()"
   ],
   "metadata": {
    "collapsed": false,
    "pycharm": {
     "name": "#%%\n"
    }
   }
  },
  {
   "cell_type": "code",
   "execution_count": 4,
   "outputs": [],
   "source": [
    "data['opponent_next_gameweek'] = data.sort_values('kickoff_time').groupby(['season', 'element'])['opponent_team'].shift(-1)"
   ],
   "metadata": {
    "collapsed": false,
    "pycharm": {
     "name": "#%%\n"
    }
   }
  },
  {
   "cell_type": "code",
   "execution_count": 5,
   "outputs": [],
   "source": [
    "# dropna() to remove rows with NaN values\n",
    "data = data.dropna(subset=['opponent_next_gameweek']).astype({'opponent_next_gameweek': int})"
   ],
   "metadata": {
    "collapsed": false,
    "pycharm": {
     "name": "#%%\n"
    }
   }
  },
  {
   "cell_type": "code",
   "execution_count": 6,
   "outputs": [],
   "source": [
    "master_team_list = load_master_team_list()"
   ],
   "metadata": {
    "collapsed": false,
    "pycharm": {
     "name": "#%%\n"
    }
   }
  },
  {
   "cell_type": "code",
   "execution_count": 7,
   "outputs": [],
   "source": [
    "def scrape_team_stats(row, master_team_list, table_dict):\n",
    "    columns_to_get = ['Position', 'PPDA', 'OPPDA', 'G', 'GA', 'xG', 'NPxG', 'xGA', 'NPxGA', 'NPxGD', 'DC', 'ODC', 'xPTS']\n",
    "    opponent_team = idx_to_team_name(master_team_list, row['opponent_next_gameweek'], row['season'])\n",
    "\n",
    "    season_year = row['season'].split('-')[0]\n",
    "    date = str_date_days_forward(row['kickoff_time'].split('T')[0], 2)\n",
    "\n",
    "    key = date + '_' + opponent_team\n",
    "\n",
    "    # if key is in the dict, pass\n",
    "    if key in table_dict:\n",
    "        return\n",
    "\n",
    "    date_back = str_date_months_back(date, 2)\n",
    "\n",
    "    table = asyncio.run(get_league_table(season_year, date_back, date))\n",
    "\n",
    "    # get row from table where Team == opponent_team\n",
    "    table_opponent = table.loc[table['Team'] == opponent_team]\n",
    "\n",
    "    cols_normalize = table_opponent.filter(items=columns_to_get[3:]).columns\n",
    "    table_opponent[cols_normalize] = table_opponent[cols_normalize].divide(table_opponent['M'], axis=0)\n",
    "\n",
    "    value = table_opponent[columns_to_get].add_prefix('opponent_next_')\n",
    "\n",
    "    table_dict[key] = value.to_dict()\n",
    "    len_dict = len(table_dict)\n",
    "    if len_dict % 50 == 0:\n",
    "        print(len_dict)\n",
    "\n",
    "    return True"
   ],
   "metadata": {
    "collapsed": false,
    "pycharm": {
     "name": "#%%\n"
    }
   }
  },
  {
   "cell_type": "code",
   "execution_count": 8,
   "outputs": [],
   "source": [
    "seasons = list(data['season'].unique())"
   ],
   "metadata": {
    "collapsed": false,
    "pycharm": {
     "name": "#%%\n"
    }
   }
  },
  {
   "cell_type": "code",
   "execution_count": 9,
   "outputs": [
    {
     "data": {
      "text/plain": "['2016-17', '2017-18', '2018-19', '2019-20', '2020-21', '2021-22']"
     },
     "execution_count": 9,
     "metadata": {},
     "output_type": "execute_result"
    }
   ],
   "source": [
    "seasons"
   ],
   "metadata": {
    "collapsed": false,
    "pycharm": {
     "name": "#%%\n"
    }
   }
  },
  {
   "cell_type": "code",
   "execution_count": 11,
   "outputs": [
    {
     "name": "stdout",
     "output_type": "stream",
     "text": [
      "start scraping season:  2016-17\n",
      "50\n",
      "100\n",
      "150\n",
      "200\n",
      "error\n",
      "250\n",
      "300\n",
      "error\n",
      "350\n",
      "400\n",
      "450\n",
      "500\n",
      "550\n",
      "600\n",
      "650\n",
      "700\n",
      "start scraping season:  2017-18\n",
      "50\n",
      "100\n",
      "150\n",
      "200\n",
      "error\n",
      "250\n",
      "300\n",
      "350\n",
      "400\n",
      "450\n",
      "500\n",
      "550\n",
      "600\n",
      "error\n",
      "650\n",
      "700\n",
      "start scraping season:  2018-19\n",
      "50\n",
      "100\n",
      "150\n",
      "200\n",
      "250\n",
      "300\n",
      "350\n",
      "400\n",
      "450\n",
      "500\n",
      "550\n",
      "600\n",
      "650\n",
      "700\n",
      "start scraping season:  2019-20\n",
      "50\n",
      "100\n",
      "150\n",
      "200\n",
      "250\n",
      "300\n",
      "350\n",
      "400\n",
      "450\n",
      "500\n",
      "550\n",
      "600\n",
      "650\n",
      "700\n",
      "start scraping season:  2020-21\n",
      "50\n",
      "100\n",
      "150\n",
      "200\n",
      "250\n",
      "300\n",
      "350\n",
      "400\n",
      "450\n",
      "500\n",
      "550\n",
      "600\n",
      "650\n",
      "700\n"
     ]
    }
   ],
   "source": [
    "\n",
    "team_stats = {}\n",
    "for season in seasons:\n",
    "    team_stats[season] = load_understat_team_stats(season)\n",
    "\n",
    "for s in seasons:\n",
    "    table_dict = {}\n",
    "    result = None\n",
    "    data_season = data[data['season'] == s].copy()\n",
    "    print('start scraping season: ', s)\n",
    "\n",
    "    while result is None:\n",
    "        try:\n",
    "            # connect\n",
    "            result = data_season.apply(lambda row: scrape_team_stats(row, master_team_list, table_dict), axis=1)\n",
    "        except:\n",
    "            print('error')\n",
    "            time.sleep(5)\n",
    "            pass\n",
    "\n",
    "    with open(f'stats{s}.json', 'w') as convert_file:\n",
    "        convert_file.write(json.dumps(table_dict))"
   ],
   "metadata": {
    "collapsed": false,
    "pycharm": {
     "name": "#%%\n"
    }
   }
  },
  {
   "cell_type": "code",
   "execution_count": 17,
   "outputs": [],
   "source": [
    "from src.data.data_loader import load_understat_team_stats\n",
    "\n",
    "def scrape_team_stats_season_loop(data, season):\n",
    "    table_dict = load_understat_team_stats(season)\n",
    "    result = None\n",
    "    data_season = data[data['season'] == season].copy()\n",
    "    print('start scraping season: ', season)\n",
    "\n",
    "    while result is None:\n",
    "        try:\n",
    "            # connect\n",
    "            result = data_season.apply(lambda row: scrape_team_stats(row, master_team_list, table_dict), axis=1)\n",
    "        except:\n",
    "            print('error')\n",
    "            time.sleep(5)\n",
    "            pass\n",
    "\n",
    "    with open(f'stats{season}.json', 'w') as convert_file:\n",
    "        convert_file.write(json.dumps(table_dict))"
   ],
   "metadata": {
    "collapsed": false,
    "pycharm": {
     "name": "#%%\n"
    }
   }
  },
  {
   "cell_type": "code",
   "execution_count": 16,
   "outputs": [
    {
     "name": "stdout",
     "output_type": "stream",
     "text": [
      "<class 'dict'>\n"
     ]
    }
   ],
   "source": [
    "scrape_team_stats_season_loop('2021-22')"
   ],
   "metadata": {
    "collapsed": false,
    "pycharm": {
     "name": "#%%\n"
    }
   }
  },
  {
   "cell_type": "code",
   "execution_count": null,
   "outputs": [],
   "source": [
    "# df_opponent = pd.concat([r for r in opponent_data], ignore_index=True)\n",
    "# data_processed = pd.concat([data, df_opponent.set_index(data.index)], axis=1)"
   ],
   "metadata": {
    "collapsed": false,
    "pycharm": {
     "name": "#%%\n"
    }
   }
  },
  {
   "cell_type": "code",
   "execution_count": 13,
   "outputs": [],
   "source": [
    "# load stats2021.json into table_dict\n",
    "with open('stats2020-21.json') as f:\n",
    "    table_dict = json.load(f)"
   ],
   "metadata": {
    "collapsed": false,
    "pycharm": {
     "name": "#%%\n"
    }
   }
  },
  {
   "cell_type": "code",
   "execution_count": 18,
   "outputs": [
    {
     "data": {
      "text/plain": "    opponent_next_Position  opponent_next_PPDA  opponent_next_OPPDA  \\\n15                      16                6.41                24.18   \n\n    opponent_next_G  opponent_next_GA  opponent_next_xG  opponent_next_NPxG  \\\n15              0.0               2.0              0.86                0.86   \n\n    opponent_next_xGA  opponent_next_NPxGA  opponent_next_NPxGD  \\\n15               1.66                 1.66                 -0.8   \n\n    opponent_next_DC  opponent_next_ODC  opponent_next_xPTS  \n15               5.0               10.0                 0.7  ",
      "text/html": "<div>\n<style scoped>\n    .dataframe tbody tr th:only-of-type {\n        vertical-align: middle;\n    }\n\n    .dataframe tbody tr th {\n        vertical-align: top;\n    }\n\n    .dataframe thead th {\n        text-align: right;\n    }\n</style>\n<table border=\"1\" class=\"dataframe\">\n  <thead>\n    <tr style=\"text-align: right;\">\n      <th></th>\n      <th>opponent_next_Position</th>\n      <th>opponent_next_PPDA</th>\n      <th>opponent_next_OPPDA</th>\n      <th>opponent_next_G</th>\n      <th>opponent_next_GA</th>\n      <th>opponent_next_xG</th>\n      <th>opponent_next_NPxG</th>\n      <th>opponent_next_xGA</th>\n      <th>opponent_next_NPxGA</th>\n      <th>opponent_next_NPxGD</th>\n      <th>opponent_next_DC</th>\n      <th>opponent_next_ODC</th>\n      <th>opponent_next_xPTS</th>\n    </tr>\n  </thead>\n  <tbody>\n    <tr>\n      <th>15</th>\n      <td>16</td>\n      <td>6.41</td>\n      <td>24.18</td>\n      <td>0.0</td>\n      <td>2.0</td>\n      <td>0.86</td>\n      <td>0.86</td>\n      <td>1.66</td>\n      <td>1.66</td>\n      <td>-0.8</td>\n      <td>5.0</td>\n      <td>10.0</td>\n      <td>0.7</td>\n    </tr>\n  </tbody>\n</table>\n</div>"
     },
     "execution_count": 18,
     "metadata": {},
     "output_type": "execute_result"
    }
   ],
   "source": [
    "pd.DataFrame(table_dict['2020-09-14_West Ham'])"
   ],
   "metadata": {
    "collapsed": false,
    "pycharm": {
     "name": "#%%\n"
    }
   }
  }
 ],
 "metadata": {
  "kernelspec": {
   "display_name": "Python 3",
   "language": "python",
   "name": "python3"
  },
  "language_info": {
   "codemirror_mode": {
    "name": "ipython",
    "version": 2
   },
   "file_extension": ".py",
   "mimetype": "text/x-python",
   "name": "python",
   "nbconvert_exporter": "python",
   "pygments_lexer": "ipython2",
   "version": "2.7.6"
  }
 },
 "nbformat": 4,
 "nbformat_minor": 0
}