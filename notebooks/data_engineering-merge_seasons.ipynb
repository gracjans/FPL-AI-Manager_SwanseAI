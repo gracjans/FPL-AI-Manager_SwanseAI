{
 "cells": [
  {
   "cell_type": "markdown",
   "source": [
    "# Merge different seasons data into one dataframe\n",
    "Different seasons contain different features, so there is a need to do some engineering to merge them."
   ],
   "metadata": {
    "collapsed": false,
    "pycharm": {
     "name": "#%% md\n"
    }
   }
  },
  {
   "cell_type": "code",
   "execution_count": 141,
   "outputs": [],
   "source": [
    "# %load_ext autoreload\n",
    "# %autoreload 2"
   ],
   "metadata": {
    "collapsed": false,
    "pycharm": {
     "name": "#%%\n"
    }
   }
  },
  {
   "cell_type": "code",
   "execution_count": 143,
   "outputs": [],
   "source": [
    "import pandas as pd\n",
    "from sklearn.preprocessing import MinMaxScaler\n",
    "from sklearn.model_selection import train_test_split\n",
    "\n",
    "from src.data.data_loader import load_merged_gw_data\n",
    "from src.data.data_loader import load_players_raw_data"
   ],
   "metadata": {
    "collapsed": false,
    "pycharm": {
     "name": "#%%\n"
    }
   }
  },
  {
   "cell_type": "code",
   "execution_count": 144,
   "outputs": [],
   "source": [
    "seasons = ['2016-17', '2017-18', '2018-19', '2019-20', '2020-21', '2021-22']"
   ],
   "metadata": {
    "collapsed": false,
    "pycharm": {
     "name": "#%%\n"
    }
   }
  },
  {
   "cell_type": "code",
   "execution_count": 145,
   "outputs": [],
   "source": [
    "data = {}\n",
    "for season in seasons:\n",
    "    data[season] = load_merged_gw_data(season)"
   ],
   "metadata": {
    "collapsed": false,
    "pycharm": {
     "name": "#%%\n"
    }
   }
  },
  {
   "cell_type": "code",
   "execution_count": 146,
   "outputs": [
    {
     "name": "stdout",
     "output_type": "stream",
     "text": [
      "Season 2016-17 data shape:  (23679, 56)\n",
      "Season 2017-18 data shape:  (22467, 56)\n",
      "Season 2018-19 data shape:  (21790, 56)\n",
      "Season 2019-20 data shape:  (22560, 33)\n",
      "Season 2020-21 data shape:  (24365, 36)\n",
      "Season 2021-22 data shape:  (18737, 36)\n"
     ]
    }
   ],
   "source": [
    "for season in data:\n",
    "    print(f'Season {season} data shape: ', data[season].shape)"
   ],
   "metadata": {
    "collapsed": false,
    "pycharm": {
     "name": "#%%\n"
    }
   }
  },
  {
   "cell_type": "code",
   "execution_count": 147,
   "outputs": [
    {
     "name": "stdout",
     "output_type": "stream",
     "text": [
      "Season 2016-17 and 2017-18 features are equal:  True\n",
      "Season 2017-18 and 2018-19 features are equal:  True\n",
      "Season 2018-19 and 2019-20 features are equal:  False\n",
      "Season 2019-20 and 2020-21 features are equal:  False\n",
      "Season 2020-21 and 2021-22 features are equal:  True\n"
     ]
    }
   ],
   "source": [
    "for season in list(data.keys())[:-1]:\n",
    "    next_season = list(data.keys())[list(data.keys()).index(season) + 1]\n",
    "    print(f'Season {season} and {next_season} features are equal: ', data[season].columns.equals(data[next_season].columns))"
   ],
   "metadata": {
    "collapsed": false,
    "pycharm": {
     "name": "#%%\n"
    }
   }
  },
  {
   "cell_type": "markdown",
   "source": [
    "#### There were some changes with datasets for 19-20 and 20-21 seasons.\n",
    "I'll normalize every dataset to have same features as 2019-20 season dataset and I'll add position column."
   ],
   "metadata": {
    "collapsed": false,
    "pycharm": {
     "name": "#%% md\n"
    }
   }
  },
  {
   "cell_type": "markdown",
   "source": [
    "## Make every season dataset use same features"
   ],
   "metadata": {
    "collapsed": false,
    "pycharm": {
     "name": "#%% md\n"
    }
   }
  },
  {
   "cell_type": "code",
   "execution_count": 148,
   "outputs": [],
   "source": [
    "# get common features for every season\n",
    "common_features = data['2018-19'].columns.intersection(data['2019-20'].columns).intersection(data['2020-21'].columns)"
   ],
   "metadata": {
    "collapsed": false,
    "pycharm": {
     "name": "#%%\n"
    }
   }
  },
  {
   "cell_type": "code",
   "execution_count": 149,
   "outputs": [],
   "source": [
    "# delete every column from dataframes that is not in common_features\n",
    "for season in data:\n",
    "    data[season] = data[season][common_features]"
   ],
   "metadata": {
    "collapsed": false,
    "pycharm": {
     "name": "#%%\n"
    }
   }
  },
  {
   "cell_type": "code",
   "execution_count": 150,
   "outputs": [
    {
     "name": "stdout",
     "output_type": "stream",
     "text": [
      "Season 2016-17 data shape after selecting only common features:  (23679, 33)\n",
      "Season 2017-18 data shape after selecting only common features:  (22467, 33)\n",
      "Season 2018-19 data shape after selecting only common features:  (21790, 33)\n",
      "Season 2019-20 data shape after selecting only common features:  (22560, 33)\n",
      "Season 2020-21 data shape after selecting only common features:  (24365, 33)\n",
      "Season 2021-22 data shape after selecting only common features:  (18737, 33)\n"
     ]
    }
   ],
   "source": [
    "for season in data:\n",
    "    print(f'Season {season} data shape after selecting only common features: ', data[season].shape)"
   ],
   "metadata": {
    "collapsed": false,
    "pycharm": {
     "name": "#%%\n"
    }
   }
  },
  {
   "cell_type": "markdown",
   "source": [
    "#### Every season dataset has now the same features."
   ],
   "metadata": {
    "collapsed": false,
    "pycharm": {
     "name": "#%% md\n"
    }
   }
  },
  {
   "cell_type": "code",
   "execution_count": 151,
   "outputs": [
    {
     "name": "stdout",
     "output_type": "stream",
     "text": [
      "Index(['name', 'assists', 'bonus', 'bps', 'clean_sheets', 'creativity',\n",
      "       'element', 'fixture', 'goals_conceded', 'goals_scored', 'ict_index',\n",
      "       'influence', 'kickoff_time', 'minutes', 'opponent_team', 'own_goals',\n",
      "       'penalties_missed', 'penalties_saved', 'red_cards', 'round', 'saves',\n",
      "       'selected', 'team_a_score', 'team_h_score', 'threat', 'total_points',\n",
      "       'transfers_balance', 'transfers_in', 'transfers_out', 'value',\n",
      "       'was_home', 'yellow_cards', 'GW'],\n",
      "      dtype='object')\n"
     ]
    }
   ],
   "source": [
    "print(common_features)"
   ],
   "metadata": {
    "collapsed": false,
    "pycharm": {
     "name": "#%%\n"
    }
   }
  },
  {
   "cell_type": "markdown",
   "source": [
    "## Add position column to every season dataset"
   ],
   "metadata": {
    "collapsed": false,
    "pycharm": {
     "name": "#%% md\n"
    }
   }
  },
  {
   "cell_type": "code",
   "execution_count": 152,
   "outputs": [],
   "source": [
    "# load 'players_raw' for every season\n",
    "players_raw = {}\n",
    "for season in seasons:\n",
    "    players_raw[season] = load_players_raw_data(season)"
   ],
   "metadata": {
    "collapsed": false,
    "pycharm": {
     "name": "#%%\n"
    }
   }
  },
  {
   "cell_type": "code",
   "execution_count": 153,
   "outputs": [],
   "source": [
    "# leave only 'id' and 'element_type' columns\n",
    "player_position = {}\n",
    "for season in players_raw:\n",
    "    player_position[season] = players_raw[season][['id', 'element_type']].rename(columns={'id': 'element', 'element_type': 'position'})"
   ],
   "metadata": {
    "collapsed": false,
    "pycharm": {
     "name": "#%%\n"
    }
   }
  },
  {
   "cell_type": "code",
   "execution_count": 154,
   "outputs": [],
   "source": [
    "# change values from element type to 1: GK, 2: DEF, 3: MID, 4: FWD\n",
    "for season in player_position:\n",
    "    player_position[season]['position'].replace({1: 'GK', 2: 'DEF', 3: 'MID', 4: 'FWD'}, inplace=True)"
   ],
   "metadata": {
    "collapsed": false,
    "pycharm": {
     "name": "#%%\n"
    }
   }
  },
  {
   "cell_type": "code",
   "execution_count": 155,
   "outputs": [
    {
     "data": {
      "text/plain": "   element position\n0        1       GK\n1        2       GK\n2        3      DEF\n3        4      DEF\n4        5      DEF",
      "text/html": "<div>\n<style scoped>\n    .dataframe tbody tr th:only-of-type {\n        vertical-align: middle;\n    }\n\n    .dataframe tbody tr th {\n        vertical-align: top;\n    }\n\n    .dataframe thead th {\n        text-align: right;\n    }\n</style>\n<table border=\"1\" class=\"dataframe\">\n  <thead>\n    <tr style=\"text-align: right;\">\n      <th></th>\n      <th>element</th>\n      <th>position</th>\n    </tr>\n  </thead>\n  <tbody>\n    <tr>\n      <th>0</th>\n      <td>1</td>\n      <td>GK</td>\n    </tr>\n    <tr>\n      <th>1</th>\n      <td>2</td>\n      <td>GK</td>\n    </tr>\n    <tr>\n      <th>2</th>\n      <td>3</td>\n      <td>DEF</td>\n    </tr>\n    <tr>\n      <th>3</th>\n      <td>4</td>\n      <td>DEF</td>\n    </tr>\n    <tr>\n      <th>4</th>\n      <td>5</td>\n      <td>DEF</td>\n    </tr>\n  </tbody>\n</table>\n</div>"
     },
     "execution_count": 155,
     "metadata": {},
     "output_type": "execute_result"
    }
   ],
   "source": [
    "player_position['2018-19'].head()"
   ],
   "metadata": {
    "collapsed": false,
    "pycharm": {
     "name": "#%%\n"
    }
   }
  },
  {
   "cell_type": "code",
   "execution_count": 156,
   "outputs": [],
   "source": [
    "# add position column to every season dataset\n",
    "for season in player_position:\n",
    "    data[season] = pd.merge(data[season], player_position[season], on='element', how='left')"
   ],
   "metadata": {
    "collapsed": false,
    "pycharm": {
     "name": "#%%\n"
    }
   }
  },
  {
   "cell_type": "code",
   "execution_count": 157,
   "outputs": [
    {
     "data": {
      "text/plain": "                    name  assists  bonus  bps  clean_sheets  creativity  \\\n0    Aaron_Cresswell_402        0      0    0             0         0.0   \n1        Aaron_Lennon_83        0      0    6             1        12.3   \n2         Aaron_Mooy_199        0      0   24             0        18.2   \n3        Aaron_Ramsey_14        0      0    7             0        10.8   \n4  Aaron_Wan-Bissaka_145        1      3   38             1        14.0   \n\n   element  fixture  goals_conceded  goals_scored  ...  threat  total_points  \\\n0      402        5               0             0  ...     0.0             0   \n1       83        8               0             0  ...    17.0             3   \n2      199        4               3             0  ...     0.0             2   \n3       14        1               1             0  ...     9.0             1   \n4      145        3               0             0  ...     0.0            12   \n\n  transfers_balance  transfers_in  transfers_out  value  was_home  \\\n0                 0             0              0     55     False   \n1                 0             0              0     50     False   \n2                 0             0              0     55      True   \n3                 0             0              0     75      True   \n4                 0             0              0     40     False   \n\n   yellow_cards  GW  position  \n0             0   1       DEF  \n1             0   1       MID  \n2             0   1       MID  \n3             0   1       MID  \n4             0   1       DEF  \n\n[5 rows x 34 columns]",
      "text/html": "<div>\n<style scoped>\n    .dataframe tbody tr th:only-of-type {\n        vertical-align: middle;\n    }\n\n    .dataframe tbody tr th {\n        vertical-align: top;\n    }\n\n    .dataframe thead th {\n        text-align: right;\n    }\n</style>\n<table border=\"1\" class=\"dataframe\">\n  <thead>\n    <tr style=\"text-align: right;\">\n      <th></th>\n      <th>name</th>\n      <th>assists</th>\n      <th>bonus</th>\n      <th>bps</th>\n      <th>clean_sheets</th>\n      <th>creativity</th>\n      <th>element</th>\n      <th>fixture</th>\n      <th>goals_conceded</th>\n      <th>goals_scored</th>\n      <th>...</th>\n      <th>threat</th>\n      <th>total_points</th>\n      <th>transfers_balance</th>\n      <th>transfers_in</th>\n      <th>transfers_out</th>\n      <th>value</th>\n      <th>was_home</th>\n      <th>yellow_cards</th>\n      <th>GW</th>\n      <th>position</th>\n    </tr>\n  </thead>\n  <tbody>\n    <tr>\n      <th>0</th>\n      <td>Aaron_Cresswell_402</td>\n      <td>0</td>\n      <td>0</td>\n      <td>0</td>\n      <td>0</td>\n      <td>0.0</td>\n      <td>402</td>\n      <td>5</td>\n      <td>0</td>\n      <td>0</td>\n      <td>...</td>\n      <td>0.0</td>\n      <td>0</td>\n      <td>0</td>\n      <td>0</td>\n      <td>0</td>\n      <td>55</td>\n      <td>False</td>\n      <td>0</td>\n      <td>1</td>\n      <td>DEF</td>\n    </tr>\n    <tr>\n      <th>1</th>\n      <td>Aaron_Lennon_83</td>\n      <td>0</td>\n      <td>0</td>\n      <td>6</td>\n      <td>1</td>\n      <td>12.3</td>\n      <td>83</td>\n      <td>8</td>\n      <td>0</td>\n      <td>0</td>\n      <td>...</td>\n      <td>17.0</td>\n      <td>3</td>\n      <td>0</td>\n      <td>0</td>\n      <td>0</td>\n      <td>50</td>\n      <td>False</td>\n      <td>0</td>\n      <td>1</td>\n      <td>MID</td>\n    </tr>\n    <tr>\n      <th>2</th>\n      <td>Aaron_Mooy_199</td>\n      <td>0</td>\n      <td>0</td>\n      <td>24</td>\n      <td>0</td>\n      <td>18.2</td>\n      <td>199</td>\n      <td>4</td>\n      <td>3</td>\n      <td>0</td>\n      <td>...</td>\n      <td>0.0</td>\n      <td>2</td>\n      <td>0</td>\n      <td>0</td>\n      <td>0</td>\n      <td>55</td>\n      <td>True</td>\n      <td>0</td>\n      <td>1</td>\n      <td>MID</td>\n    </tr>\n    <tr>\n      <th>3</th>\n      <td>Aaron_Ramsey_14</td>\n      <td>0</td>\n      <td>0</td>\n      <td>7</td>\n      <td>0</td>\n      <td>10.8</td>\n      <td>14</td>\n      <td>1</td>\n      <td>1</td>\n      <td>0</td>\n      <td>...</td>\n      <td>9.0</td>\n      <td>1</td>\n      <td>0</td>\n      <td>0</td>\n      <td>0</td>\n      <td>75</td>\n      <td>True</td>\n      <td>0</td>\n      <td>1</td>\n      <td>MID</td>\n    </tr>\n    <tr>\n      <th>4</th>\n      <td>Aaron_Wan-Bissaka_145</td>\n      <td>1</td>\n      <td>3</td>\n      <td>38</td>\n      <td>1</td>\n      <td>14.0</td>\n      <td>145</td>\n      <td>3</td>\n      <td>0</td>\n      <td>0</td>\n      <td>...</td>\n      <td>0.0</td>\n      <td>12</td>\n      <td>0</td>\n      <td>0</td>\n      <td>0</td>\n      <td>40</td>\n      <td>False</td>\n      <td>0</td>\n      <td>1</td>\n      <td>DEF</td>\n    </tr>\n  </tbody>\n</table>\n<p>5 rows × 34 columns</p>\n</div>"
     },
     "execution_count": 157,
     "metadata": {},
     "output_type": "execute_result"
    }
   ],
   "source": [
    "data['2018-19'].head()"
   ],
   "metadata": {
    "collapsed": false,
    "pycharm": {
     "name": "#%%for season in data:\n"
    }
   }
  },
  {
   "cell_type": "code",
   "execution_count": 161,
   "outputs": [],
   "source": [
    "# make data one single dataframe\n",
    "data_merged = pd.concat(data.values(), ignore_index=True)"
   ],
   "metadata": {
    "collapsed": false,
    "pycharm": {
     "name": "#%%\n"
    }
   }
  }
 ],
 "metadata": {
  "kernelspec": {
   "display_name": "Python 3",
   "language": "python",
   "name": "python3"
  },
  "language_info": {
   "codemirror_mode": {
    "name": "ipython",
    "version": 2
   },
   "file_extension": ".py",
   "mimetype": "text/x-python",
   "name": "python",
   "nbconvert_exporter": "python",
   "pygments_lexer": "ipython2",
   "version": "2.7.6"
  }
 },
 "nbformat": 4,
 "nbformat_minor": 0
}