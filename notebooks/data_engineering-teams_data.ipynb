{
 "cells": [
  {
   "cell_type": "code",
   "execution_count": 137,
   "outputs": [],
   "source": [
    "import asyncio\n",
    "import pandas as pd\n",
    "\n",
    "from src.features.data_engineering import get_merged_seasons_data, update_team_score_feature\n",
    "from src.data.data_loader import get_league_table, load_master_team_list\n",
    "from src.features.utils import idx_to_team_name, str_date_months_back"
   ],
   "metadata": {
    "collapsed": false,
    "pycharm": {
     "name": "#%%\n"
    }
   }
  },
  {
   "cell_type": "markdown",
   "source": [
    "# Add features with information about player team performance and next match opponent team performance from last two months"
   ],
   "metadata": {
    "collapsed": false,
    "pycharm": {
     "name": "#%% md\n"
    }
   }
  },
  {
   "cell_type": "code",
   "execution_count": 138,
   "outputs": [],
   "source": [
    "df_table = asyncio.run(get_league_table(2019, '2019-10-01', '2019-12-31'))"
   ],
   "metadata": {
    "collapsed": false,
    "pycharm": {
     "name": "#%%\n"
    }
   }
  },
  {
   "cell_type": "code",
   "execution_count": 139,
   "outputs": [
    {
     "data": {
      "text/plain": "   Position                     Team   M   W  D  L   G  GA  PTS     xG   NPxG  \\\n0         1                Liverpool  12  11  1  0  29   9   34  25.99  23.70   \n1         2                Leicester  13   9  1  3  30  14   28  24.55  21.51   \n2         3          Manchester City  13   8  1  4  27  16   25  29.88  28.21   \n3         4                  Chelsea  13   8  0  5  21  15   24  23.57  22.81   \n4         5  Wolverhampton Wanderers  13   6  5  2  20  14   23  18.99  18.23   \n\n     xGA  NPxGA  NPxGD   PPDA  OPPDA   DC  ODC   xPTS  \n0   9.77   9.77  13.93   8.45  18.30  135   52  25.77  \n1  20.19  17.91   3.60   8.92  12.33   98   93  21.61  \n2  13.08  12.32  15.89   8.27  22.38  187   43  27.66  \n3  14.16  13.40   9.41   8.18  14.05  122   66  24.05  \n4  14.14  13.23   5.00  11.66  10.07   68   80  21.34  ",
      "text/html": "<div>\n<style scoped>\n    .dataframe tbody tr th:only-of-type {\n        vertical-align: middle;\n    }\n\n    .dataframe tbody tr th {\n        vertical-align: top;\n    }\n\n    .dataframe thead th {\n        text-align: right;\n    }\n</style>\n<table border=\"1\" class=\"dataframe\">\n  <thead>\n    <tr style=\"text-align: right;\">\n      <th></th>\n      <th>Position</th>\n      <th>Team</th>\n      <th>M</th>\n      <th>W</th>\n      <th>D</th>\n      <th>L</th>\n      <th>G</th>\n      <th>GA</th>\n      <th>PTS</th>\n      <th>xG</th>\n      <th>NPxG</th>\n      <th>xGA</th>\n      <th>NPxGA</th>\n      <th>NPxGD</th>\n      <th>PPDA</th>\n      <th>OPPDA</th>\n      <th>DC</th>\n      <th>ODC</th>\n      <th>xPTS</th>\n    </tr>\n  </thead>\n  <tbody>\n    <tr>\n      <th>0</th>\n      <td>1</td>\n      <td>Liverpool</td>\n      <td>12</td>\n      <td>11</td>\n      <td>1</td>\n      <td>0</td>\n      <td>29</td>\n      <td>9</td>\n      <td>34</td>\n      <td>25.99</td>\n      <td>23.70</td>\n      <td>9.77</td>\n      <td>9.77</td>\n      <td>13.93</td>\n      <td>8.45</td>\n      <td>18.30</td>\n      <td>135</td>\n      <td>52</td>\n      <td>25.77</td>\n    </tr>\n    <tr>\n      <th>1</th>\n      <td>2</td>\n      <td>Leicester</td>\n      <td>13</td>\n      <td>9</td>\n      <td>1</td>\n      <td>3</td>\n      <td>30</td>\n      <td>14</td>\n      <td>28</td>\n      <td>24.55</td>\n      <td>21.51</td>\n      <td>20.19</td>\n      <td>17.91</td>\n      <td>3.60</td>\n      <td>8.92</td>\n      <td>12.33</td>\n      <td>98</td>\n      <td>93</td>\n      <td>21.61</td>\n    </tr>\n    <tr>\n      <th>2</th>\n      <td>3</td>\n      <td>Manchester City</td>\n      <td>13</td>\n      <td>8</td>\n      <td>1</td>\n      <td>4</td>\n      <td>27</td>\n      <td>16</td>\n      <td>25</td>\n      <td>29.88</td>\n      <td>28.21</td>\n      <td>13.08</td>\n      <td>12.32</td>\n      <td>15.89</td>\n      <td>8.27</td>\n      <td>22.38</td>\n      <td>187</td>\n      <td>43</td>\n      <td>27.66</td>\n    </tr>\n    <tr>\n      <th>3</th>\n      <td>4</td>\n      <td>Chelsea</td>\n      <td>13</td>\n      <td>8</td>\n      <td>0</td>\n      <td>5</td>\n      <td>21</td>\n      <td>15</td>\n      <td>24</td>\n      <td>23.57</td>\n      <td>22.81</td>\n      <td>14.16</td>\n      <td>13.40</td>\n      <td>9.41</td>\n      <td>8.18</td>\n      <td>14.05</td>\n      <td>122</td>\n      <td>66</td>\n      <td>24.05</td>\n    </tr>\n    <tr>\n      <th>4</th>\n      <td>5</td>\n      <td>Wolverhampton Wanderers</td>\n      <td>13</td>\n      <td>6</td>\n      <td>5</td>\n      <td>2</td>\n      <td>20</td>\n      <td>14</td>\n      <td>23</td>\n      <td>18.99</td>\n      <td>18.23</td>\n      <td>14.14</td>\n      <td>13.23</td>\n      <td>5.00</td>\n      <td>11.66</td>\n      <td>10.07</td>\n      <td>68</td>\n      <td>80</td>\n      <td>21.34</td>\n    </tr>\n  </tbody>\n</table>\n</div>"
     },
     "execution_count": 139,
     "metadata": {},
     "output_type": "execute_result"
    }
   ],
   "source": [
    "df_table.head()"
   ],
   "metadata": {
    "collapsed": false,
    "pycharm": {
     "name": "#%%\n"
    }
   }
  },
  {
   "cell_type": "code",
   "execution_count": 141,
   "outputs": [],
   "source": [
    "data = update_team_score_feature(get_merged_seasons_data())"
   ],
   "metadata": {
    "collapsed": false,
    "pycharm": {
     "name": "#%%\n"
    }
   }
  },
  {
   "cell_type": "markdown",
   "source": [
    "## For now, work only with single season data"
   ],
   "metadata": {
    "collapsed": false,
    "pycharm": {
     "name": "#%% md\n"
    }
   }
  },
  {
   "cell_type": "code",
   "execution_count": 142,
   "outputs": [],
   "source": [
    "data19 = data[data['season'] == '2019-20']"
   ],
   "metadata": {
    "collapsed": false,
    "pycharm": {
     "name": "#%%\n"
    }
   }
  },
  {
   "cell_type": "markdown",
   "source": [
    "### And start with only one player, to make it simpler to test"
   ],
   "metadata": {
    "collapsed": false,
    "pycharm": {
     "name": "#%% md\n"
    }
   }
  },
  {
   "cell_type": "code",
   "execution_count": 143,
   "outputs": [],
   "source": [
    "data_kdb = data19[data19['name'] == 'Kevin_De Bruyne_215']"
   ],
   "metadata": {
    "collapsed": false,
    "pycharm": {
     "name": "#%%\n"
    }
   }
  },
  {
   "cell_type": "code",
   "execution_count": 145,
   "outputs": [],
   "source": [
    "df_table_kdb_gw1 = asyncio.run(get_league_table(2019, '2019-06-10', '2019-08-10'))"
   ],
   "metadata": {
    "collapsed": false,
    "pycharm": {
     "name": "#%%\n"
    }
   }
  },
  {
   "cell_type": "code",
   "execution_count": 146,
   "outputs": [
    {
     "data": {
      "text/plain": "   Position             Team  M  W  D  L  G  GA  PTS    xG  NPxG   xGA  NPxGA  \\\n0         1  Manchester City  1  1  0  0  5   0    3  3.18  2.42  1.20   1.20   \n1         2        Liverpool  1  1  0  0  4   1    3  2.23  2.23  0.84   0.84   \n2         3          Burnley  1  1  0  0  3   0    3  0.91  0.91  1.09   1.09   \n3         4         Brighton  1  1  0  0  3   0    3  0.86  0.86  0.67   0.67   \n4         5        Tottenham  1  1  0  0  3   1    3  2.57  2.57  0.64   0.64   \n\n   NPxGD   PPDA  OPPDA  DC  ODC  xPTS  \n0   1.22   6.94  16.40   9    1  2.63  \n1   1.39   5.94  21.45  11    5  2.39  \n2  -0.18   9.28   5.50   0    9  1.14  \n3   0.19  11.50   9.79   5    7  1.55  \n4   1.93   5.25  13.42  15    2  2.59  ",
      "text/html": "<div>\n<style scoped>\n    .dataframe tbody tr th:only-of-type {\n        vertical-align: middle;\n    }\n\n    .dataframe tbody tr th {\n        vertical-align: top;\n    }\n\n    .dataframe thead th {\n        text-align: right;\n    }\n</style>\n<table border=\"1\" class=\"dataframe\">\n  <thead>\n    <tr style=\"text-align: right;\">\n      <th></th>\n      <th>Position</th>\n      <th>Team</th>\n      <th>M</th>\n      <th>W</th>\n      <th>D</th>\n      <th>L</th>\n      <th>G</th>\n      <th>GA</th>\n      <th>PTS</th>\n      <th>xG</th>\n      <th>NPxG</th>\n      <th>xGA</th>\n      <th>NPxGA</th>\n      <th>NPxGD</th>\n      <th>PPDA</th>\n      <th>OPPDA</th>\n      <th>DC</th>\n      <th>ODC</th>\n      <th>xPTS</th>\n    </tr>\n  </thead>\n  <tbody>\n    <tr>\n      <th>0</th>\n      <td>1</td>\n      <td>Manchester City</td>\n      <td>1</td>\n      <td>1</td>\n      <td>0</td>\n      <td>0</td>\n      <td>5</td>\n      <td>0</td>\n      <td>3</td>\n      <td>3.18</td>\n      <td>2.42</td>\n      <td>1.20</td>\n      <td>1.20</td>\n      <td>1.22</td>\n      <td>6.94</td>\n      <td>16.40</td>\n      <td>9</td>\n      <td>1</td>\n      <td>2.63</td>\n    </tr>\n    <tr>\n      <th>1</th>\n      <td>2</td>\n      <td>Liverpool</td>\n      <td>1</td>\n      <td>1</td>\n      <td>0</td>\n      <td>0</td>\n      <td>4</td>\n      <td>1</td>\n      <td>3</td>\n      <td>2.23</td>\n      <td>2.23</td>\n      <td>0.84</td>\n      <td>0.84</td>\n      <td>1.39</td>\n      <td>5.94</td>\n      <td>21.45</td>\n      <td>11</td>\n      <td>5</td>\n      <td>2.39</td>\n    </tr>\n    <tr>\n      <th>2</th>\n      <td>3</td>\n      <td>Burnley</td>\n      <td>1</td>\n      <td>1</td>\n      <td>0</td>\n      <td>0</td>\n      <td>3</td>\n      <td>0</td>\n      <td>3</td>\n      <td>0.91</td>\n      <td>0.91</td>\n      <td>1.09</td>\n      <td>1.09</td>\n      <td>-0.18</td>\n      <td>9.28</td>\n      <td>5.50</td>\n      <td>0</td>\n      <td>9</td>\n      <td>1.14</td>\n    </tr>\n    <tr>\n      <th>3</th>\n      <td>4</td>\n      <td>Brighton</td>\n      <td>1</td>\n      <td>1</td>\n      <td>0</td>\n      <td>0</td>\n      <td>3</td>\n      <td>0</td>\n      <td>3</td>\n      <td>0.86</td>\n      <td>0.86</td>\n      <td>0.67</td>\n      <td>0.67</td>\n      <td>0.19</td>\n      <td>11.50</td>\n      <td>9.79</td>\n      <td>5</td>\n      <td>7</td>\n      <td>1.55</td>\n    </tr>\n    <tr>\n      <th>4</th>\n      <td>5</td>\n      <td>Tottenham</td>\n      <td>1</td>\n      <td>1</td>\n      <td>0</td>\n      <td>0</td>\n      <td>3</td>\n      <td>1</td>\n      <td>3</td>\n      <td>2.57</td>\n      <td>2.57</td>\n      <td>0.64</td>\n      <td>0.64</td>\n      <td>1.93</td>\n      <td>5.25</td>\n      <td>13.42</td>\n      <td>15</td>\n      <td>2</td>\n      <td>2.59</td>\n    </tr>\n  </tbody>\n</table>\n</div>"
     },
     "execution_count": 146,
     "metadata": {},
     "output_type": "execute_result"
    }
   ],
   "source": [
    "df_table_kdb_gw1.head()"
   ],
   "metadata": {
    "collapsed": false,
    "pycharm": {
     "name": "#%%\n"
    }
   }
  },
  {
   "cell_type": "code",
   "execution_count": 147,
   "outputs": [],
   "source": [
    "column_to_get = ['Position', 'PPDA', 'OPPDA', 'G', 'GA', 'xG', 'NPxG', 'xGA', 'NPxGA', 'NPxGD', 'DC', 'ODC', 'xPTS']"
   ],
   "metadata": {
    "collapsed": false,
    "pycharm": {
     "name": "#%%\n"
    }
   }
  },
  {
   "cell_type": "code",
   "execution_count": 148,
   "outputs": [],
   "source": [
    "master_team_list = load_master_team_list()"
   ],
   "metadata": {
    "collapsed": false,
    "pycharm": {
     "name": "#%%\n"
    }
   }
  },
  {
   "cell_type": "code",
   "execution_count": 149,
   "outputs": [
    {
     "data": {
      "text/plain": "    season  team       team_name\n0  2016-17     1         Arsenal\n1  2016-17     2     Bournemouth\n2  2016-17     3         Burnley\n3  2016-17     4         Chelsea\n4  2016-17     5  Crystal Palace",
      "text/html": "<div>\n<style scoped>\n    .dataframe tbody tr th:only-of-type {\n        vertical-align: middle;\n    }\n\n    .dataframe tbody tr th {\n        vertical-align: top;\n    }\n\n    .dataframe thead th {\n        text-align: right;\n    }\n</style>\n<table border=\"1\" class=\"dataframe\">\n  <thead>\n    <tr style=\"text-align: right;\">\n      <th></th>\n      <th>season</th>\n      <th>team</th>\n      <th>team_name</th>\n    </tr>\n  </thead>\n  <tbody>\n    <tr>\n      <th>0</th>\n      <td>2016-17</td>\n      <td>1</td>\n      <td>Arsenal</td>\n    </tr>\n    <tr>\n      <th>1</th>\n      <td>2016-17</td>\n      <td>2</td>\n      <td>Bournemouth</td>\n    </tr>\n    <tr>\n      <th>2</th>\n      <td>2016-17</td>\n      <td>3</td>\n      <td>Burnley</td>\n    </tr>\n    <tr>\n      <th>3</th>\n      <td>2016-17</td>\n      <td>4</td>\n      <td>Chelsea</td>\n    </tr>\n    <tr>\n      <th>4</th>\n      <td>2016-17</td>\n      <td>5</td>\n      <td>Crystal Palace</td>\n    </tr>\n  </tbody>\n</table>\n</div>"
     },
     "execution_count": 149,
     "metadata": {},
     "output_type": "execute_result"
    }
   ],
   "source": [
    "master_team_list.head(5)"
   ],
   "metadata": {
    "collapsed": false,
    "pycharm": {
     "name": "#%%\n"
    }
   }
  },
  {
   "cell_type": "code",
   "execution_count": 150,
   "outputs": [
    {
     "name": "stdout",
     "output_type": "stream",
     "text": [
      "Arsenal\n"
     ]
    }
   ],
   "source": [
    "print(idx_to_team_name(master_team_list, 1, '2019-20'))"
   ],
   "metadata": {
    "collapsed": false,
    "pycharm": {
     "name": "#%%\n"
    }
   }
  },
  {
   "cell_type": "markdown",
   "source": [
    "## Add next game opponent team stats for player from last two months"
   ],
   "metadata": {
    "collapsed": false,
    "pycharm": {
     "name": "#%% md\n"
    }
   }
  },
  {
   "cell_type": "code",
   "execution_count": 151,
   "outputs": [
    {
     "data": {
      "text/plain": "                      name  assists  bonus  bps  clean_sheets  creativity  \\\n68002  Kevin_De Bruyne_215        1      1   37             1        37.4   \n\n       element  fixture  goals_conceded  goals_scored  ...  total_points  \\\n68002      215        8               0             0  ...             7   \n\n       transfers_balance transfers_in  transfers_out  value  was_home  \\\n68002                  0            0              0     95     False   \n\n       yellow_cards  GW  position   season  \n68002             0   1       MID  2019-20  \n\n[1 rows x 35 columns]",
      "text/html": "<div>\n<style scoped>\n    .dataframe tbody tr th:only-of-type {\n        vertical-align: middle;\n    }\n\n    .dataframe tbody tr th {\n        vertical-align: top;\n    }\n\n    .dataframe thead th {\n        text-align: right;\n    }\n</style>\n<table border=\"1\" class=\"dataframe\">\n  <thead>\n    <tr style=\"text-align: right;\">\n      <th></th>\n      <th>name</th>\n      <th>assists</th>\n      <th>bonus</th>\n      <th>bps</th>\n      <th>clean_sheets</th>\n      <th>creativity</th>\n      <th>element</th>\n      <th>fixture</th>\n      <th>goals_conceded</th>\n      <th>goals_scored</th>\n      <th>...</th>\n      <th>total_points</th>\n      <th>transfers_balance</th>\n      <th>transfers_in</th>\n      <th>transfers_out</th>\n      <th>value</th>\n      <th>was_home</th>\n      <th>yellow_cards</th>\n      <th>GW</th>\n      <th>position</th>\n      <th>season</th>\n    </tr>\n  </thead>\n  <tbody>\n    <tr>\n      <th>68002</th>\n      <td>Kevin_De Bruyne_215</td>\n      <td>1</td>\n      <td>1</td>\n      <td>37</td>\n      <td>1</td>\n      <td>37.4</td>\n      <td>215</td>\n      <td>8</td>\n      <td>0</td>\n      <td>0</td>\n      <td>...</td>\n      <td>7</td>\n      <td>0</td>\n      <td>0</td>\n      <td>0</td>\n      <td>95</td>\n      <td>False</td>\n      <td>0</td>\n      <td>1</td>\n      <td>MID</td>\n      <td>2019-20</td>\n    </tr>\n  </tbody>\n</table>\n<p>1 rows × 35 columns</p>\n</div>"
     },
     "execution_count": 151,
     "metadata": {},
     "output_type": "execute_result"
    }
   ],
   "source": [
    "data_kdb.head(1)"
   ],
   "metadata": {
    "collapsed": false,
    "pycharm": {
     "name": "#%%\n"
    }
   }
  },
  {
   "cell_type": "code",
   "execution_count": 152,
   "outputs": [
    {
     "data": {
      "text/plain": "    Position  PPDA  OPPDA  G  GA   xG  NPxG  xGA  NPxGA  NPxGD  DC  ODC  xPTS\n11        12   0.0    0.0  0   0  0.0   0.0  0.0    0.0    0.0   0    0   0.0",
      "text/html": "<div>\n<style scoped>\n    .dataframe tbody tr th:only-of-type {\n        vertical-align: middle;\n    }\n\n    .dataframe tbody tr th {\n        vertical-align: top;\n    }\n\n    .dataframe thead th {\n        text-align: right;\n    }\n</style>\n<table border=\"1\" class=\"dataframe\">\n  <thead>\n    <tr style=\"text-align: right;\">\n      <th></th>\n      <th>Position</th>\n      <th>PPDA</th>\n      <th>OPPDA</th>\n      <th>G</th>\n      <th>GA</th>\n      <th>xG</th>\n      <th>NPxG</th>\n      <th>xGA</th>\n      <th>NPxGA</th>\n      <th>NPxGD</th>\n      <th>DC</th>\n      <th>ODC</th>\n      <th>xPTS</th>\n    </tr>\n  </thead>\n  <tbody>\n    <tr>\n      <th>11</th>\n      <td>12</td>\n      <td>0.0</td>\n      <td>0.0</td>\n      <td>0</td>\n      <td>0</td>\n      <td>0.0</td>\n      <td>0.0</td>\n      <td>0.0</td>\n      <td>0.0</td>\n      <td>0.0</td>\n      <td>0</td>\n      <td>0</td>\n      <td>0.0</td>\n    </tr>\n  </tbody>\n</table>\n</div>"
     },
     "execution_count": 152,
     "metadata": {},
     "output_type": "execute_result"
    }
   ],
   "source": [
    "df_table_kdb_gw1.loc[df_table_kdb_gw1['Team'] == 'Arsenal'][column_to_get].squeeze(axis=1)"
   ],
   "metadata": {
    "collapsed": false,
    "pycharm": {
     "name": "#%%\n"
    }
   }
  },
  {
   "cell_type": "code",
   "execution_count": 153,
   "outputs": [],
   "source": [
    "data_kdb = data_kdb.copy()\n",
    "data_kdb['opponent_next_gameweek'] = data_kdb.sort_values('kickoff_time').groupby(['season', 'element'])['opponent_team'].shift(-1)"
   ],
   "metadata": {
    "collapsed": false,
    "pycharm": {
     "name": "#%%\n"
    }
   }
  },
  {
   "cell_type": "code",
   "execution_count": 154,
   "outputs": [],
   "source": [
    "# dropna() to remove rows with NaN values\n",
    "data_kdb = data_kdb.dropna(subset=['opponent_next_gameweek']).astype({'opponent_next_gameweek': int})"
   ],
   "metadata": {
    "collapsed": false,
    "pycharm": {
     "name": "#%%\n"
    }
   }
  },
  {
   "cell_type": "code",
   "execution_count": 158,
   "outputs": [],
   "source": [
    "def add_team_stats(row):\n",
    "    columns_to_get = ['Position', 'PPDA', 'OPPDA', 'G', 'GA', 'xG', 'NPxG', 'xGA', 'NPxGA', 'NPxGD', 'DC', 'ODC', 'xPTS']\n",
    "    opponent_team = idx_to_team_name(master_team_list, row['opponent_next_gameweek'], row['season'])\n",
    "\n",
    "    season_year = row['season'].split('-')[0]\n",
    "    date = row['kickoff_time'].split('T')[0]\n",
    "\n",
    "    date_back = str_date_months_back(date, 2)\n",
    "    table = asyncio.run(get_league_table(season_year, date_back, date))\n",
    "\n",
    "    # get row from table where Team == opponent_team\n",
    "    table_opponent = table.loc[table['Team'] == opponent_team]\n",
    "\n",
    "    cols_normalize = table_opponent.filter(items=columns_to_get[3:]).columns\n",
    "    table_opponent[cols_normalize] = table_opponent[cols_normalize].divide(table_opponent['M'], axis=0)\n",
    "\n",
    "    table_opponent = table_opponent[columns_to_get].add_prefix('opponent_next_')\n",
    "\n",
    "    return table_opponent"
   ],
   "metadata": {
    "collapsed": false,
    "pycharm": {
     "name": "#%%\n"
    }
   }
  },
  {
   "cell_type": "code",
   "execution_count": 159,
   "outputs": [],
   "source": [
    "#data_kdb['Position'], data_kdb['G'], data_kdb['xG'] = data_kdb.apply(lambda row: add_team_stats(row, column_to_get), axis=1)\n",
    "data_stats = data_kdb.apply(lambda row: add_team_stats(row), axis=1)"
   ],
   "metadata": {
    "collapsed": false,
    "pycharm": {
     "name": "#%%\n"
    }
   }
  },
  {
   "cell_type": "code",
   "execution_count": 160,
   "outputs": [],
   "source": [
    "df_stacked = pd.concat([r for r in data_stats], ignore_index=True)"
   ],
   "metadata": {
    "collapsed": false,
    "pycharm": {
     "name": "#%%\n"
    }
   }
  },
  {
   "cell_type": "code",
   "execution_count": 161,
   "outputs": [],
   "source": [
    "# merge df_stacked with data_kdb\n",
    "data_kdb_concat = pd.concat([data_kdb, df_stacked.set_index(data_kdb.index)], axis=1)"
   ],
   "metadata": {
    "collapsed": false,
    "pycharm": {
     "name": "#%%\n"
    }
   }
  },
  {
   "cell_type": "code",
   "execution_count": 162,
   "outputs": [
    {
     "data": {
      "text/plain": "                      name  assists  bonus  bps  clean_sheets  creativity  \\\n68002  Kevin_De Bruyne_215        1      1   37             1        37.4   \n68821  Kevin_De Bruyne_215        2      3   44             0       127.7   \n69384  Kevin_De Bruyne_215        1      0   22             0        42.3   \n69602  Kevin_De Bruyne_215        1      2   41             1        26.7   \n70408  Kevin_De Bruyne_215        0      0    6             0        36.8   \n70716  Kevin_De Bruyne_215        2      3   66             1       109.4   \n71516  Kevin_De Bruyne_215        2      1   30             0        33.6   \n72097  Kevin_De Bruyne_215        0      0    0             0         0.0   \n72649  Kevin_De Bruyne_215        0      0    8             1        34.8   \n72842  Kevin_De Bruyne_215        1      0   24             1        91.1   \n73414  Kevin_De Bruyne_215        0      0   21             0        61.9   \n74430  Kevin_De Bruyne_215        0      0   18             0        52.1   \n74891  Kevin_De Bruyne_215        0      0   28             0        38.1   \n75062  Kevin_De Bruyne_215        0      3   35             0        91.1   \n75666  Kevin_De Bruyne_215        0      0   13             1        46.9   \n76380  Kevin_De Bruyne_215        0      0   19             0        80.3   \n77181  Kevin_De Bruyne_215        1      3   59             1        32.0   \n77680  Kevin_De Bruyne_215        1      0   28             0        86.6   \n78386  Kevin_De Bruyne_215        1      0   21             0        13.8   \n78943  Kevin_De Bruyne_215        1      3   34             1        17.8   \n79383  Kevin_De Bruyne_215        0      0   13             0        27.3   \n80123  Kevin_De Bruyne_215        2      0   34             1        40.7   \n80541  Kevin_De Bruyne_215        0      0   21             0       104.8   \n80859  Kevin_De Bruyne_215        1      1   30             1        55.6   \n82038  Kevin_De Bruyne_215        0      0   10             0        46.4   \n82672  Kevin_De Bruyne_215        1      3   51             1        87.1   \n82993  Kevin_De Bruyne_215        0      0    2             1        35.6   \n84342  Kevin_De Bruyne_215        0      0    0             0         0.0   \n84445  Kevin_De Bruyne_215        0      0    0             0         0.0   \n84590  Kevin_De Bruyne_215        1      3   43             1        34.9   \n85236  Kevin_De Bruyne_215        0      0    4             0        21.3   \n85887  Kevin_De Bruyne_215        0      2   29             0        27.8   \n86507  Kevin_De Bruyne_215        1      3   42             1        56.7   \n87092  Kevin_De Bruyne_215        0      0    2             0        23.8   \n87438  Kevin_De Bruyne_215        1      1   32             1        89.8   \n88138  Kevin_De Bruyne_215        0      0   19             1        62.0   \n88648  Kevin_De Bruyne_215        0      0    0             0         0.0   \n89590  Kevin_De Bruyne_215        1      0   32             1        83.1   \n\n       element  fixture  goals_conceded  goals_scored  ...  opponent_G  \\\n68002      215        8               0             0  ...    3.000000   \n68821      215       16               2             0  ...    1.500000   \n69384      215       22               1             0  ...    1.333333   \n69602      215       37               0             1  ...    1.500000   \n70408      215       46               0             0  ...    0.500000   \n70716      215       57               0             1  ...    0.833333   \n71516      215       65               1             0  ...    1.285714   \n72097      215       75               0             0  ...    1.000000   \n72649      215       84               0             0  ...    1.857143   \n72842      215       95               0             0  ...    0.857143   \n73414      215      107               1             0  ...    1.857143   \n74430      215      114               3             0  ...    2.625000   \n74891      215      127               1             1  ...    1.166667   \n75062      215      136               2             1  ...    1.428571   \n75666      215      142               0             0  ...    1.714286   \n76380      215      155               2             0  ...    1.142857   \n77181      215      161               0             2  ...    2.888889   \n77680      215      175               1             0  ...    1.555556   \n78386      215      190               1             0  ...    1.555556   \n78943      215      195               0             1  ...    1.300000   \n79383      215      205               1             0  ...    1.090909   \n80123      215      211               0             0  ...    1.000000   \n80541      215      225               2             0  ...    1.090909   \n80859      215      236               0             0  ...    1.636364   \n82038      215      248               2             0  ...    1.181818   \n82672      215      256               0             1  ...    1.555556   \n82993      215      265               0             0  ...    1.500000   \n84342      215      287               0             0  ...    1.714286   \n84445      215      275               0             0  ...    1.714286   \n84590      215      275               0             1  ...         NaN   \n85236      215      295               0             0  ...    2.000000   \n85887      215      302               2             1  ...    2.000000   \n86507      215      317               0             1  ...    2.000000   \n87092      215      328               0             0  ...    2.500000   \n87438      215      337               0             0  ...    0.800000   \n88138      215      343               0             0  ...    0.600000   \n88648      215      357               0             0  ...    1.000000   \n89590      215      369               0             0  ...    0.125000   \n\n       opponent_GA opponent_xG  opponent_NPxG  opponent_xGA  opponent_NPxGA  \\\n68002     1.000000    2.570000       2.570000      0.640000        0.640000   \n68821     1.000000    1.485000       1.105000      1.625000        1.625000   \n69384     1.000000    1.420000       1.420000      1.253333        1.253333   \n69602     2.500000    1.295000       1.295000      1.815000        1.815000   \n70408     2.000000    1.310000       1.310000      1.547500        1.357500   \n70716     1.500000    1.261667       1.261667      1.138333        1.138333   \n71516     1.571429    1.265714       1.157143      1.360000        1.251429   \n72097     1.000000    1.080000       0.890000      1.295000        1.200000   \n72649     1.142857    1.691429       1.561429      1.511429        1.402857   \n72842     2.857143    1.255714       1.147143      1.955714        1.738571   \n73414     0.857143    2.184286       1.967143      0.811429        0.811429   \n74430     1.000000    2.435000       2.340000      1.100000        1.005000   \n74891     1.666667    0.961667       0.961667      1.746667        1.746667   \n75062     1.571429    1.748571       1.638571      1.145714        1.145714   \n75666     1.428571    1.964286       1.745714      1.204286        1.204286   \n76380     1.714286    1.287143       1.178571      1.500000        1.261429   \n77181     0.444444    2.300000       2.045556      0.922222        0.922222   \n77680     1.111111    1.573333       1.573333      0.903333        0.903333   \n78386     1.000000    1.548889       1.464444      0.883333        0.798889   \n78943     1.400000    1.417000       1.417000      1.327000        1.327000   \n79383     1.909091    1.110909       1.041818      2.237273        2.168182   \n80123     0.800000    0.792000       0.792000      1.399000        1.399000   \n80541     1.181818    1.410000       1.340909      1.090000        1.020909   \n80859     1.272727    1.467273       1.398182      1.224545        1.017273   \n82038     1.818182    1.070000       0.931818      1.948182        1.740909   \n82672     1.666667    1.601111       1.345556      1.772222        1.518889   \n82993     0.875000    1.581250       1.486250      1.103750        1.103750   \n84342     0.857143    1.518571       1.518571      1.795714        1.687143   \n84445     0.857143    1.518571       1.518571      1.795714        1.687143   \n84590          NaN         NaN            NaN           NaN             NaN   \n85236     1.000000    1.140000       1.140000      1.570000        1.570000   \n85887     0.000000    1.615000       1.615000      0.345000        0.345000   \n86507     1.000000    1.316667       1.316667      1.070000        1.070000   \n87092     1.000000    1.635000       1.635000      1.277500        1.277500   \n87438     1.400000    1.070000       0.918000      1.114000        1.114000   \n88138     2.400000    0.836000       0.684000      1.370000        1.218000   \n88648     1.666667    1.055000       0.801667      1.461667        1.335000   \n89590     2.250000    0.515000       0.515000      1.825000        1.825000   \n\n       opponent_NPxGD  opponent_DC  opponent_ODC  opponent_xPTS  \n68002        1.930000    15.000000      2.000000       2.590000  \n68821       -0.520000     6.500000      9.000000       1.190000  \n69384        0.166667     6.333333      5.666667       1.483333  \n69602       -0.517500     6.000000     10.250000       1.030000  \n70408       -0.045000     9.000000      5.250000       1.195000  \n70716        0.123333     7.166667      4.000000       1.460000  \n71516       -0.094286     4.571429      6.571429       1.298571  \n72097       -0.311250     6.750000      6.125000       1.236250  \n72649        0.158571     6.000000     10.142857       1.442857  \n72842       -0.591429     5.428571      7.428571       1.082857  \n73414        1.155714    11.857143      3.000000       2.144286  \n74430        1.335000     8.375000      4.125000       2.116250  \n74891       -0.786667     2.666667     10.500000       0.838333  \n75062        0.492857     4.571429      5.428571       1.831429  \n75666        0.541429     6.285714      3.571429       1.677143  \n76380       -0.082857     7.714286      6.142857       1.204286  \n77181        1.124444     9.222222      5.666667       2.091111  \n77680        0.670000     6.333333      5.222222       1.874444  \n78386        0.665556     6.444444      4.777778       1.884444  \n78943        0.090000     5.900000      5.400000       1.441000  \n79383       -1.126364     5.000000      9.909091       0.704545  \n80123       -0.606000     6.700000      7.700000       0.869000  \n80541        0.320000     5.454545      6.363636       1.684545  \n80859        0.380909     6.636364      6.363636       1.508182  \n82038       -0.809091     4.818182      8.090909       0.784545  \n82672       -0.173333     7.666667      6.000000       1.460000  \n82993        0.383750     7.750000      6.125000       1.655000  \n84342       -0.168571     6.857143      6.571429       1.312857  \n84445       -0.168571     6.857143      6.571429       1.312857  \n84590             NaN          NaN           NaN            NaN  \n85236       -0.430000    10.000000      0.000000       0.940000  \n85887        1.270000    12.000000      0.500000       2.110000  \n86507        0.246667     6.333333      4.666667       1.616667  \n87092        0.357500     7.250000      6.500000       1.610000  \n87438       -0.196000     4.400000      9.000000       1.372000  \n88138       -0.534000     4.800000      6.800000       0.912000  \n88648       -0.533333     5.666667      5.000000       1.043333  \n89590       -1.310000     3.625000      8.000000       0.623750  \n\n[38 rows x 49 columns]",
      "text/html": "<div>\n<style scoped>\n    .dataframe tbody tr th:only-of-type {\n        vertical-align: middle;\n    }\n\n    .dataframe tbody tr th {\n        vertical-align: top;\n    }\n\n    .dataframe thead th {\n        text-align: right;\n    }\n</style>\n<table border=\"1\" class=\"dataframe\">\n  <thead>\n    <tr style=\"text-align: right;\">\n      <th></th>\n      <th>name</th>\n      <th>assists</th>\n      <th>bonus</th>\n      <th>bps</th>\n      <th>clean_sheets</th>\n      <th>creativity</th>\n      <th>element</th>\n      <th>fixture</th>\n      <th>goals_conceded</th>\n      <th>goals_scored</th>\n      <th>...</th>\n      <th>opponent_G</th>\n      <th>opponent_GA</th>\n      <th>opponent_xG</th>\n      <th>opponent_NPxG</th>\n      <th>opponent_xGA</th>\n      <th>opponent_NPxGA</th>\n      <th>opponent_NPxGD</th>\n      <th>opponent_DC</th>\n      <th>opponent_ODC</th>\n      <th>opponent_xPTS</th>\n    </tr>\n  </thead>\n  <tbody>\n    <tr>\n      <th>68002</th>\n      <td>Kevin_De Bruyne_215</td>\n      <td>1</td>\n      <td>1</td>\n      <td>37</td>\n      <td>1</td>\n      <td>37.4</td>\n      <td>215</td>\n      <td>8</td>\n      <td>0</td>\n      <td>0</td>\n      <td>...</td>\n      <td>3.000000</td>\n      <td>1.000000</td>\n      <td>2.570000</td>\n      <td>2.570000</td>\n      <td>0.640000</td>\n      <td>0.640000</td>\n      <td>1.930000</td>\n      <td>15.000000</td>\n      <td>2.000000</td>\n      <td>2.590000</td>\n    </tr>\n    <tr>\n      <th>68821</th>\n      <td>Kevin_De Bruyne_215</td>\n      <td>2</td>\n      <td>3</td>\n      <td>44</td>\n      <td>0</td>\n      <td>127.7</td>\n      <td>215</td>\n      <td>16</td>\n      <td>2</td>\n      <td>0</td>\n      <td>...</td>\n      <td>1.500000</td>\n      <td>1.000000</td>\n      <td>1.485000</td>\n      <td>1.105000</td>\n      <td>1.625000</td>\n      <td>1.625000</td>\n      <td>-0.520000</td>\n      <td>6.500000</td>\n      <td>9.000000</td>\n      <td>1.190000</td>\n    </tr>\n    <tr>\n      <th>69384</th>\n      <td>Kevin_De Bruyne_215</td>\n      <td>1</td>\n      <td>0</td>\n      <td>22</td>\n      <td>0</td>\n      <td>42.3</td>\n      <td>215</td>\n      <td>22</td>\n      <td>1</td>\n      <td>0</td>\n      <td>...</td>\n      <td>1.333333</td>\n      <td>1.000000</td>\n      <td>1.420000</td>\n      <td>1.420000</td>\n      <td>1.253333</td>\n      <td>1.253333</td>\n      <td>0.166667</td>\n      <td>6.333333</td>\n      <td>5.666667</td>\n      <td>1.483333</td>\n    </tr>\n    <tr>\n      <th>69602</th>\n      <td>Kevin_De Bruyne_215</td>\n      <td>1</td>\n      <td>2</td>\n      <td>41</td>\n      <td>1</td>\n      <td>26.7</td>\n      <td>215</td>\n      <td>37</td>\n      <td>0</td>\n      <td>1</td>\n      <td>...</td>\n      <td>1.500000</td>\n      <td>2.500000</td>\n      <td>1.295000</td>\n      <td>1.295000</td>\n      <td>1.815000</td>\n      <td>1.815000</td>\n      <td>-0.517500</td>\n      <td>6.000000</td>\n      <td>10.250000</td>\n      <td>1.030000</td>\n    </tr>\n    <tr>\n      <th>70408</th>\n      <td>Kevin_De Bruyne_215</td>\n      <td>0</td>\n      <td>0</td>\n      <td>6</td>\n      <td>0</td>\n      <td>36.8</td>\n      <td>215</td>\n      <td>46</td>\n      <td>0</td>\n      <td>0</td>\n      <td>...</td>\n      <td>0.500000</td>\n      <td>2.000000</td>\n      <td>1.310000</td>\n      <td>1.310000</td>\n      <td>1.547500</td>\n      <td>1.357500</td>\n      <td>-0.045000</td>\n      <td>9.000000</td>\n      <td>5.250000</td>\n      <td>1.195000</td>\n    </tr>\n    <tr>\n      <th>70716</th>\n      <td>Kevin_De Bruyne_215</td>\n      <td>2</td>\n      <td>3</td>\n      <td>66</td>\n      <td>1</td>\n      <td>109.4</td>\n      <td>215</td>\n      <td>57</td>\n      <td>0</td>\n      <td>1</td>\n      <td>...</td>\n      <td>0.833333</td>\n      <td>1.500000</td>\n      <td>1.261667</td>\n      <td>1.261667</td>\n      <td>1.138333</td>\n      <td>1.138333</td>\n      <td>0.123333</td>\n      <td>7.166667</td>\n      <td>4.000000</td>\n      <td>1.460000</td>\n    </tr>\n    <tr>\n      <th>71516</th>\n      <td>Kevin_De Bruyne_215</td>\n      <td>2</td>\n      <td>1</td>\n      <td>30</td>\n      <td>0</td>\n      <td>33.6</td>\n      <td>215</td>\n      <td>65</td>\n      <td>1</td>\n      <td>0</td>\n      <td>...</td>\n      <td>1.285714</td>\n      <td>1.571429</td>\n      <td>1.265714</td>\n      <td>1.157143</td>\n      <td>1.360000</td>\n      <td>1.251429</td>\n      <td>-0.094286</td>\n      <td>4.571429</td>\n      <td>6.571429</td>\n      <td>1.298571</td>\n    </tr>\n    <tr>\n      <th>72097</th>\n      <td>Kevin_De Bruyne_215</td>\n      <td>0</td>\n      <td>0</td>\n      <td>0</td>\n      <td>0</td>\n      <td>0.0</td>\n      <td>215</td>\n      <td>75</td>\n      <td>0</td>\n      <td>0</td>\n      <td>...</td>\n      <td>1.000000</td>\n      <td>1.000000</td>\n      <td>1.080000</td>\n      <td>0.890000</td>\n      <td>1.295000</td>\n      <td>1.200000</td>\n      <td>-0.311250</td>\n      <td>6.750000</td>\n      <td>6.125000</td>\n      <td>1.236250</td>\n    </tr>\n    <tr>\n      <th>72649</th>\n      <td>Kevin_De Bruyne_215</td>\n      <td>0</td>\n      <td>0</td>\n      <td>8</td>\n      <td>1</td>\n      <td>34.8</td>\n      <td>215</td>\n      <td>84</td>\n      <td>0</td>\n      <td>0</td>\n      <td>...</td>\n      <td>1.857143</td>\n      <td>1.142857</td>\n      <td>1.691429</td>\n      <td>1.561429</td>\n      <td>1.511429</td>\n      <td>1.402857</td>\n      <td>0.158571</td>\n      <td>6.000000</td>\n      <td>10.142857</td>\n      <td>1.442857</td>\n    </tr>\n    <tr>\n      <th>72842</th>\n      <td>Kevin_De Bruyne_215</td>\n      <td>1</td>\n      <td>0</td>\n      <td>24</td>\n      <td>1</td>\n      <td>91.1</td>\n      <td>215</td>\n      <td>95</td>\n      <td>0</td>\n      <td>0</td>\n      <td>...</td>\n      <td>0.857143</td>\n      <td>2.857143</td>\n      <td>1.255714</td>\n      <td>1.147143</td>\n      <td>1.955714</td>\n      <td>1.738571</td>\n      <td>-0.591429</td>\n      <td>5.428571</td>\n      <td>7.428571</td>\n      <td>1.082857</td>\n    </tr>\n    <tr>\n      <th>73414</th>\n      <td>Kevin_De Bruyne_215</td>\n      <td>0</td>\n      <td>0</td>\n      <td>21</td>\n      <td>0</td>\n      <td>61.9</td>\n      <td>215</td>\n      <td>107</td>\n      <td>1</td>\n      <td>0</td>\n      <td>...</td>\n      <td>1.857143</td>\n      <td>0.857143</td>\n      <td>2.184286</td>\n      <td>1.967143</td>\n      <td>0.811429</td>\n      <td>0.811429</td>\n      <td>1.155714</td>\n      <td>11.857143</td>\n      <td>3.000000</td>\n      <td>2.144286</td>\n    </tr>\n    <tr>\n      <th>74430</th>\n      <td>Kevin_De Bruyne_215</td>\n      <td>0</td>\n      <td>0</td>\n      <td>18</td>\n      <td>0</td>\n      <td>52.1</td>\n      <td>215</td>\n      <td>114</td>\n      <td>3</td>\n      <td>0</td>\n      <td>...</td>\n      <td>2.625000</td>\n      <td>1.000000</td>\n      <td>2.435000</td>\n      <td>2.340000</td>\n      <td>1.100000</td>\n      <td>1.005000</td>\n      <td>1.335000</td>\n      <td>8.375000</td>\n      <td>4.125000</td>\n      <td>2.116250</td>\n    </tr>\n    <tr>\n      <th>74891</th>\n      <td>Kevin_De Bruyne_215</td>\n      <td>0</td>\n      <td>0</td>\n      <td>28</td>\n      <td>0</td>\n      <td>38.1</td>\n      <td>215</td>\n      <td>127</td>\n      <td>1</td>\n      <td>1</td>\n      <td>...</td>\n      <td>1.166667</td>\n      <td>1.666667</td>\n      <td>0.961667</td>\n      <td>0.961667</td>\n      <td>1.746667</td>\n      <td>1.746667</td>\n      <td>-0.786667</td>\n      <td>2.666667</td>\n      <td>10.500000</td>\n      <td>0.838333</td>\n    </tr>\n    <tr>\n      <th>75062</th>\n      <td>Kevin_De Bruyne_215</td>\n      <td>0</td>\n      <td>3</td>\n      <td>35</td>\n      <td>0</td>\n      <td>91.1</td>\n      <td>215</td>\n      <td>136</td>\n      <td>2</td>\n      <td>1</td>\n      <td>...</td>\n      <td>1.428571</td>\n      <td>1.571429</td>\n      <td>1.748571</td>\n      <td>1.638571</td>\n      <td>1.145714</td>\n      <td>1.145714</td>\n      <td>0.492857</td>\n      <td>4.571429</td>\n      <td>5.428571</td>\n      <td>1.831429</td>\n    </tr>\n    <tr>\n      <th>75666</th>\n      <td>Kevin_De Bruyne_215</td>\n      <td>0</td>\n      <td>0</td>\n      <td>13</td>\n      <td>1</td>\n      <td>46.9</td>\n      <td>215</td>\n      <td>142</td>\n      <td>0</td>\n      <td>0</td>\n      <td>...</td>\n      <td>1.714286</td>\n      <td>1.428571</td>\n      <td>1.964286</td>\n      <td>1.745714</td>\n      <td>1.204286</td>\n      <td>1.204286</td>\n      <td>0.541429</td>\n      <td>6.285714</td>\n      <td>3.571429</td>\n      <td>1.677143</td>\n    </tr>\n    <tr>\n      <th>76380</th>\n      <td>Kevin_De Bruyne_215</td>\n      <td>0</td>\n      <td>0</td>\n      <td>19</td>\n      <td>0</td>\n      <td>80.3</td>\n      <td>215</td>\n      <td>155</td>\n      <td>2</td>\n      <td>0</td>\n      <td>...</td>\n      <td>1.142857</td>\n      <td>1.714286</td>\n      <td>1.287143</td>\n      <td>1.178571</td>\n      <td>1.500000</td>\n      <td>1.261429</td>\n      <td>-0.082857</td>\n      <td>7.714286</td>\n      <td>6.142857</td>\n      <td>1.204286</td>\n    </tr>\n    <tr>\n      <th>77181</th>\n      <td>Kevin_De Bruyne_215</td>\n      <td>1</td>\n      <td>3</td>\n      <td>59</td>\n      <td>1</td>\n      <td>32.0</td>\n      <td>215</td>\n      <td>161</td>\n      <td>0</td>\n      <td>2</td>\n      <td>...</td>\n      <td>2.888889</td>\n      <td>0.444444</td>\n      <td>2.300000</td>\n      <td>2.045556</td>\n      <td>0.922222</td>\n      <td>0.922222</td>\n      <td>1.124444</td>\n      <td>9.222222</td>\n      <td>5.666667</td>\n      <td>2.091111</td>\n    </tr>\n    <tr>\n      <th>77680</th>\n      <td>Kevin_De Bruyne_215</td>\n      <td>1</td>\n      <td>0</td>\n      <td>28</td>\n      <td>0</td>\n      <td>86.6</td>\n      <td>215</td>\n      <td>175</td>\n      <td>1</td>\n      <td>0</td>\n      <td>...</td>\n      <td>1.555556</td>\n      <td>1.111111</td>\n      <td>1.573333</td>\n      <td>1.573333</td>\n      <td>0.903333</td>\n      <td>0.903333</td>\n      <td>0.670000</td>\n      <td>6.333333</td>\n      <td>5.222222</td>\n      <td>1.874444</td>\n    </tr>\n    <tr>\n      <th>78386</th>\n      <td>Kevin_De Bruyne_215</td>\n      <td>1</td>\n      <td>0</td>\n      <td>21</td>\n      <td>0</td>\n      <td>13.8</td>\n      <td>215</td>\n      <td>190</td>\n      <td>1</td>\n      <td>0</td>\n      <td>...</td>\n      <td>1.555556</td>\n      <td>1.000000</td>\n      <td>1.548889</td>\n      <td>1.464444</td>\n      <td>0.883333</td>\n      <td>0.798889</td>\n      <td>0.665556</td>\n      <td>6.444444</td>\n      <td>4.777778</td>\n      <td>1.884444</td>\n    </tr>\n    <tr>\n      <th>78943</th>\n      <td>Kevin_De Bruyne_215</td>\n      <td>1</td>\n      <td>3</td>\n      <td>34</td>\n      <td>1</td>\n      <td>17.8</td>\n      <td>215</td>\n      <td>195</td>\n      <td>0</td>\n      <td>1</td>\n      <td>...</td>\n      <td>1.300000</td>\n      <td>1.400000</td>\n      <td>1.417000</td>\n      <td>1.417000</td>\n      <td>1.327000</td>\n      <td>1.327000</td>\n      <td>0.090000</td>\n      <td>5.900000</td>\n      <td>5.400000</td>\n      <td>1.441000</td>\n    </tr>\n    <tr>\n      <th>79383</th>\n      <td>Kevin_De Bruyne_215</td>\n      <td>0</td>\n      <td>0</td>\n      <td>13</td>\n      <td>0</td>\n      <td>27.3</td>\n      <td>215</td>\n      <td>205</td>\n      <td>1</td>\n      <td>0</td>\n      <td>...</td>\n      <td>1.090909</td>\n      <td>1.909091</td>\n      <td>1.110909</td>\n      <td>1.041818</td>\n      <td>2.237273</td>\n      <td>2.168182</td>\n      <td>-1.126364</td>\n      <td>5.000000</td>\n      <td>9.909091</td>\n      <td>0.704545</td>\n    </tr>\n    <tr>\n      <th>80123</th>\n      <td>Kevin_De Bruyne_215</td>\n      <td>2</td>\n      <td>0</td>\n      <td>34</td>\n      <td>1</td>\n      <td>40.7</td>\n      <td>215</td>\n      <td>211</td>\n      <td>0</td>\n      <td>0</td>\n      <td>...</td>\n      <td>1.000000</td>\n      <td>0.800000</td>\n      <td>0.792000</td>\n      <td>0.792000</td>\n      <td>1.399000</td>\n      <td>1.399000</td>\n      <td>-0.606000</td>\n      <td>6.700000</td>\n      <td>7.700000</td>\n      <td>0.869000</td>\n    </tr>\n    <tr>\n      <th>80541</th>\n      <td>Kevin_De Bruyne_215</td>\n      <td>0</td>\n      <td>0</td>\n      <td>21</td>\n      <td>0</td>\n      <td>104.8</td>\n      <td>215</td>\n      <td>225</td>\n      <td>2</td>\n      <td>0</td>\n      <td>...</td>\n      <td>1.090909</td>\n      <td>1.181818</td>\n      <td>1.410000</td>\n      <td>1.340909</td>\n      <td>1.090000</td>\n      <td>1.020909</td>\n      <td>0.320000</td>\n      <td>5.454545</td>\n      <td>6.363636</td>\n      <td>1.684545</td>\n    </tr>\n    <tr>\n      <th>80859</th>\n      <td>Kevin_De Bruyne_215</td>\n      <td>1</td>\n      <td>1</td>\n      <td>30</td>\n      <td>1</td>\n      <td>55.6</td>\n      <td>215</td>\n      <td>236</td>\n      <td>0</td>\n      <td>0</td>\n      <td>...</td>\n      <td>1.636364</td>\n      <td>1.272727</td>\n      <td>1.467273</td>\n      <td>1.398182</td>\n      <td>1.224545</td>\n      <td>1.017273</td>\n      <td>0.380909</td>\n      <td>6.636364</td>\n      <td>6.363636</td>\n      <td>1.508182</td>\n    </tr>\n    <tr>\n      <th>82038</th>\n      <td>Kevin_De Bruyne_215</td>\n      <td>0</td>\n      <td>0</td>\n      <td>10</td>\n      <td>0</td>\n      <td>46.4</td>\n      <td>215</td>\n      <td>248</td>\n      <td>2</td>\n      <td>0</td>\n      <td>...</td>\n      <td>1.181818</td>\n      <td>1.818182</td>\n      <td>1.070000</td>\n      <td>0.931818</td>\n      <td>1.948182</td>\n      <td>1.740909</td>\n      <td>-0.809091</td>\n      <td>4.818182</td>\n      <td>8.090909</td>\n      <td>0.784545</td>\n    </tr>\n    <tr>\n      <th>82672</th>\n      <td>Kevin_De Bruyne_215</td>\n      <td>1</td>\n      <td>3</td>\n      <td>51</td>\n      <td>1</td>\n      <td>87.1</td>\n      <td>215</td>\n      <td>256</td>\n      <td>0</td>\n      <td>1</td>\n      <td>...</td>\n      <td>1.555556</td>\n      <td>1.666667</td>\n      <td>1.601111</td>\n      <td>1.345556</td>\n      <td>1.772222</td>\n      <td>1.518889</td>\n      <td>-0.173333</td>\n      <td>7.666667</td>\n      <td>6.000000</td>\n      <td>1.460000</td>\n    </tr>\n    <tr>\n      <th>82993</th>\n      <td>Kevin_De Bruyne_215</td>\n      <td>0</td>\n      <td>0</td>\n      <td>2</td>\n      <td>1</td>\n      <td>35.6</td>\n      <td>215</td>\n      <td>265</td>\n      <td>0</td>\n      <td>0</td>\n      <td>...</td>\n      <td>1.500000</td>\n      <td>0.875000</td>\n      <td>1.581250</td>\n      <td>1.486250</td>\n      <td>1.103750</td>\n      <td>1.103750</td>\n      <td>0.383750</td>\n      <td>7.750000</td>\n      <td>6.125000</td>\n      <td>1.655000</td>\n    </tr>\n    <tr>\n      <th>84342</th>\n      <td>Kevin_De Bruyne_215</td>\n      <td>0</td>\n      <td>0</td>\n      <td>0</td>\n      <td>0</td>\n      <td>0.0</td>\n      <td>215</td>\n      <td>287</td>\n      <td>0</td>\n      <td>0</td>\n      <td>...</td>\n      <td>1.714286</td>\n      <td>0.857143</td>\n      <td>1.518571</td>\n      <td>1.518571</td>\n      <td>1.795714</td>\n      <td>1.687143</td>\n      <td>-0.168571</td>\n      <td>6.857143</td>\n      <td>6.571429</td>\n      <td>1.312857</td>\n    </tr>\n    <tr>\n      <th>84445</th>\n      <td>Kevin_De Bruyne_215</td>\n      <td>0</td>\n      <td>0</td>\n      <td>0</td>\n      <td>0</td>\n      <td>0.0</td>\n      <td>215</td>\n      <td>275</td>\n      <td>0</td>\n      <td>0</td>\n      <td>...</td>\n      <td>1.714286</td>\n      <td>0.857143</td>\n      <td>1.518571</td>\n      <td>1.518571</td>\n      <td>1.795714</td>\n      <td>1.687143</td>\n      <td>-0.168571</td>\n      <td>6.857143</td>\n      <td>6.571429</td>\n      <td>1.312857</td>\n    </tr>\n    <tr>\n      <th>84590</th>\n      <td>Kevin_De Bruyne_215</td>\n      <td>1</td>\n      <td>3</td>\n      <td>43</td>\n      <td>1</td>\n      <td>34.9</td>\n      <td>215</td>\n      <td>275</td>\n      <td>0</td>\n      <td>1</td>\n      <td>...</td>\n      <td>NaN</td>\n      <td>NaN</td>\n      <td>NaN</td>\n      <td>NaN</td>\n      <td>NaN</td>\n      <td>NaN</td>\n      <td>NaN</td>\n      <td>NaN</td>\n      <td>NaN</td>\n      <td>NaN</td>\n    </tr>\n    <tr>\n      <th>85236</th>\n      <td>Kevin_De Bruyne_215</td>\n      <td>0</td>\n      <td>0</td>\n      <td>4</td>\n      <td>0</td>\n      <td>21.3</td>\n      <td>215</td>\n      <td>295</td>\n      <td>0</td>\n      <td>0</td>\n      <td>...</td>\n      <td>2.000000</td>\n      <td>1.000000</td>\n      <td>1.140000</td>\n      <td>1.140000</td>\n      <td>1.570000</td>\n      <td>1.570000</td>\n      <td>-0.430000</td>\n      <td>10.000000</td>\n      <td>0.000000</td>\n      <td>0.940000</td>\n    </tr>\n    <tr>\n      <th>85887</th>\n      <td>Kevin_De Bruyne_215</td>\n      <td>0</td>\n      <td>2</td>\n      <td>29</td>\n      <td>0</td>\n      <td>27.8</td>\n      <td>215</td>\n      <td>302</td>\n      <td>2</td>\n      <td>1</td>\n      <td>...</td>\n      <td>2.000000</td>\n      <td>0.000000</td>\n      <td>1.615000</td>\n      <td>1.615000</td>\n      <td>0.345000</td>\n      <td>0.345000</td>\n      <td>1.270000</td>\n      <td>12.000000</td>\n      <td>0.500000</td>\n      <td>2.110000</td>\n    </tr>\n    <tr>\n      <th>86507</th>\n      <td>Kevin_De Bruyne_215</td>\n      <td>1</td>\n      <td>3</td>\n      <td>42</td>\n      <td>1</td>\n      <td>56.7</td>\n      <td>215</td>\n      <td>317</td>\n      <td>0</td>\n      <td>1</td>\n      <td>...</td>\n      <td>2.000000</td>\n      <td>1.000000</td>\n      <td>1.316667</td>\n      <td>1.316667</td>\n      <td>1.070000</td>\n      <td>1.070000</td>\n      <td>0.246667</td>\n      <td>6.333333</td>\n      <td>4.666667</td>\n      <td>1.616667</td>\n    </tr>\n    <tr>\n      <th>87092</th>\n      <td>Kevin_De Bruyne_215</td>\n      <td>0</td>\n      <td>0</td>\n      <td>2</td>\n      <td>0</td>\n      <td>23.8</td>\n      <td>215</td>\n      <td>328</td>\n      <td>0</td>\n      <td>0</td>\n      <td>...</td>\n      <td>2.500000</td>\n      <td>1.000000</td>\n      <td>1.635000</td>\n      <td>1.635000</td>\n      <td>1.277500</td>\n      <td>1.277500</td>\n      <td>0.357500</td>\n      <td>7.250000</td>\n      <td>6.500000</td>\n      <td>1.610000</td>\n    </tr>\n    <tr>\n      <th>87438</th>\n      <td>Kevin_De Bruyne_215</td>\n      <td>1</td>\n      <td>1</td>\n      <td>32</td>\n      <td>1</td>\n      <td>89.8</td>\n      <td>215</td>\n      <td>337</td>\n      <td>0</td>\n      <td>0</td>\n      <td>...</td>\n      <td>0.800000</td>\n      <td>1.400000</td>\n      <td>1.070000</td>\n      <td>0.918000</td>\n      <td>1.114000</td>\n      <td>1.114000</td>\n      <td>-0.196000</td>\n      <td>4.400000</td>\n      <td>9.000000</td>\n      <td>1.372000</td>\n    </tr>\n    <tr>\n      <th>88138</th>\n      <td>Kevin_De Bruyne_215</td>\n      <td>0</td>\n      <td>0</td>\n      <td>19</td>\n      <td>1</td>\n      <td>62.0</td>\n      <td>215</td>\n      <td>343</td>\n      <td>0</td>\n      <td>0</td>\n      <td>...</td>\n      <td>0.600000</td>\n      <td>2.400000</td>\n      <td>0.836000</td>\n      <td>0.684000</td>\n      <td>1.370000</td>\n      <td>1.218000</td>\n      <td>-0.534000</td>\n      <td>4.800000</td>\n      <td>6.800000</td>\n      <td>0.912000</td>\n    </tr>\n    <tr>\n      <th>88648</th>\n      <td>Kevin_De Bruyne_215</td>\n      <td>0</td>\n      <td>0</td>\n      <td>0</td>\n      <td>0</td>\n      <td>0.0</td>\n      <td>215</td>\n      <td>357</td>\n      <td>0</td>\n      <td>0</td>\n      <td>...</td>\n      <td>1.000000</td>\n      <td>1.666667</td>\n      <td>1.055000</td>\n      <td>0.801667</td>\n      <td>1.461667</td>\n      <td>1.335000</td>\n      <td>-0.533333</td>\n      <td>5.666667</td>\n      <td>5.000000</td>\n      <td>1.043333</td>\n    </tr>\n    <tr>\n      <th>89590</th>\n      <td>Kevin_De Bruyne_215</td>\n      <td>1</td>\n      <td>0</td>\n      <td>32</td>\n      <td>1</td>\n      <td>83.1</td>\n      <td>215</td>\n      <td>369</td>\n      <td>0</td>\n      <td>0</td>\n      <td>...</td>\n      <td>0.125000</td>\n      <td>2.250000</td>\n      <td>0.515000</td>\n      <td>0.515000</td>\n      <td>1.825000</td>\n      <td>1.825000</td>\n      <td>-1.310000</td>\n      <td>3.625000</td>\n      <td>8.000000</td>\n      <td>0.623750</td>\n    </tr>\n  </tbody>\n</table>\n<p>38 rows × 49 columns</p>\n</div>"
     },
     "execution_count": 162,
     "metadata": {},
     "output_type": "execute_result"
    }
   ],
   "source": [
    "data_kdb_concat"
   ],
   "metadata": {
    "collapsed": false,
    "pycharm": {
     "name": "#%%\n"
    }
   }
  },
  {
   "cell_type": "code",
   "execution_count": null,
   "outputs": [],
   "source": [
    "# TODO:\n",
    "# - take average of xG, G etc stats per game +++\n",
    "# - create feature 'opponent_next_game' for which new columns will be created +++\n",
    "# - think about to add player club stats (need to encode club name for every player)"
   ],
   "metadata": {
    "collapsed": false,
    "pycharm": {
     "name": "#%%\n"
    }
   }
  },
  {
   "cell_type": "code",
   "execution_count": null,
   "outputs": [],
   "source": [],
   "metadata": {
    "collapsed": false,
    "pycharm": {
     "name": "#%%\n"
    }
   }
  }
 ],
 "metadata": {
  "kernelspec": {
   "display_name": "Python 3",
   "language": "python",
   "name": "python3"
  },
  "language_info": {
   "codemirror_mode": {
    "name": "ipython",
    "version": 2
   },
   "file_extension": ".py",
   "mimetype": "text/x-python",
   "name": "python",
   "nbconvert_exporter": "python",
   "pygments_lexer": "ipython2",
   "version": "2.7.6"
  }
 },
 "nbformat": 4,
 "nbformat_minor": 0
}