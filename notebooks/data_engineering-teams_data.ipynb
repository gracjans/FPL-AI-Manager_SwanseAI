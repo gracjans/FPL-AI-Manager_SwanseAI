{
 "cells": [
  {
   "cell_type": "code",
   "execution_count": 1,
   "outputs": [],
   "source": [
    "import asyncio\n",
    "import pandas as pd\n",
    "\n",
    "from src.features.data_engineering import get_merged_seasons_data, update_team_score_feature\n",
    "from src.data.data_loader import get_league_table, load_master_team_list\n",
    "from src.features.utils import idx_to_team_name, str_date_months_back"
   ],
   "metadata": {
    "collapsed": false,
    "pycharm": {
     "name": "#%%\n"
    }
   }
  },
  {
   "cell_type": "markdown",
   "source": [
    "# Add features with information about player team performance and next match opponent team performance from last two months"
   ],
   "metadata": {
    "collapsed": false,
    "pycharm": {
     "name": "#%% md\n"
    }
   }
  },
  {
   "cell_type": "code",
   "execution_count": 2,
   "outputs": [],
   "source": [
    "df_table = asyncio.run(get_league_table(2019, '2019-10-01', '2019-12-31'))"
   ],
   "metadata": {
    "collapsed": false,
    "pycharm": {
     "name": "#%%\n"
    }
   }
  },
  {
   "cell_type": "code",
   "execution_count": 3,
   "outputs": [
    {
     "data": {
      "text/plain": "   Position                     Team   M   W  D  L   G  GA  PTS     xG   NPxG  \\\n0         1                Liverpool  12  11  1  0  29   9   34  25.99  23.70   \n1         2                Leicester  13   9  1  3  30  14   28  24.55  21.51   \n2         3          Manchester City  13   8  1  4  27  16   25  29.88  28.21   \n3         4                  Chelsea  13   8  0  5  21  15   24  23.57  22.81   \n4         5  Wolverhampton Wanderers  13   6  5  2  20  14   23  18.99  18.23   \n\n     xGA  NPxGA  NPxGD   PPDA  OPPDA   DC  ODC   xPTS  \n0   9.77   9.77  13.93   8.45  18.30  135   52  25.77  \n1  20.19  17.91   3.60   8.92  12.33   98   93  21.61  \n2  13.08  12.32  15.89   8.27  22.38  187   43  27.66  \n3  14.16  13.40   9.41   8.18  14.05  122   66  24.05  \n4  14.14  13.23   5.00  11.66  10.07   68   80  21.34  ",
      "text/html": "<div>\n<style scoped>\n    .dataframe tbody tr th:only-of-type {\n        vertical-align: middle;\n    }\n\n    .dataframe tbody tr th {\n        vertical-align: top;\n    }\n\n    .dataframe thead th {\n        text-align: right;\n    }\n</style>\n<table border=\"1\" class=\"dataframe\">\n  <thead>\n    <tr style=\"text-align: right;\">\n      <th></th>\n      <th>Position</th>\n      <th>Team</th>\n      <th>M</th>\n      <th>W</th>\n      <th>D</th>\n      <th>L</th>\n      <th>G</th>\n      <th>GA</th>\n      <th>PTS</th>\n      <th>xG</th>\n      <th>NPxG</th>\n      <th>xGA</th>\n      <th>NPxGA</th>\n      <th>NPxGD</th>\n      <th>PPDA</th>\n      <th>OPPDA</th>\n      <th>DC</th>\n      <th>ODC</th>\n      <th>xPTS</th>\n    </tr>\n  </thead>\n  <tbody>\n    <tr>\n      <th>0</th>\n      <td>1</td>\n      <td>Liverpool</td>\n      <td>12</td>\n      <td>11</td>\n      <td>1</td>\n      <td>0</td>\n      <td>29</td>\n      <td>9</td>\n      <td>34</td>\n      <td>25.99</td>\n      <td>23.70</td>\n      <td>9.77</td>\n      <td>9.77</td>\n      <td>13.93</td>\n      <td>8.45</td>\n      <td>18.30</td>\n      <td>135</td>\n      <td>52</td>\n      <td>25.77</td>\n    </tr>\n    <tr>\n      <th>1</th>\n      <td>2</td>\n      <td>Leicester</td>\n      <td>13</td>\n      <td>9</td>\n      <td>1</td>\n      <td>3</td>\n      <td>30</td>\n      <td>14</td>\n      <td>28</td>\n      <td>24.55</td>\n      <td>21.51</td>\n      <td>20.19</td>\n      <td>17.91</td>\n      <td>3.60</td>\n      <td>8.92</td>\n      <td>12.33</td>\n      <td>98</td>\n      <td>93</td>\n      <td>21.61</td>\n    </tr>\n    <tr>\n      <th>2</th>\n      <td>3</td>\n      <td>Manchester City</td>\n      <td>13</td>\n      <td>8</td>\n      <td>1</td>\n      <td>4</td>\n      <td>27</td>\n      <td>16</td>\n      <td>25</td>\n      <td>29.88</td>\n      <td>28.21</td>\n      <td>13.08</td>\n      <td>12.32</td>\n      <td>15.89</td>\n      <td>8.27</td>\n      <td>22.38</td>\n      <td>187</td>\n      <td>43</td>\n      <td>27.66</td>\n    </tr>\n    <tr>\n      <th>3</th>\n      <td>4</td>\n      <td>Chelsea</td>\n      <td>13</td>\n      <td>8</td>\n      <td>0</td>\n      <td>5</td>\n      <td>21</td>\n      <td>15</td>\n      <td>24</td>\n      <td>23.57</td>\n      <td>22.81</td>\n      <td>14.16</td>\n      <td>13.40</td>\n      <td>9.41</td>\n      <td>8.18</td>\n      <td>14.05</td>\n      <td>122</td>\n      <td>66</td>\n      <td>24.05</td>\n    </tr>\n    <tr>\n      <th>4</th>\n      <td>5</td>\n      <td>Wolverhampton Wanderers</td>\n      <td>13</td>\n      <td>6</td>\n      <td>5</td>\n      <td>2</td>\n      <td>20</td>\n      <td>14</td>\n      <td>23</td>\n      <td>18.99</td>\n      <td>18.23</td>\n      <td>14.14</td>\n      <td>13.23</td>\n      <td>5.00</td>\n      <td>11.66</td>\n      <td>10.07</td>\n      <td>68</td>\n      <td>80</td>\n      <td>21.34</td>\n    </tr>\n  </tbody>\n</table>\n</div>"
     },
     "execution_count": 3,
     "metadata": {},
     "output_type": "execute_result"
    }
   ],
   "source": [
    "df_table.head()"
   ],
   "metadata": {
    "collapsed": false,
    "pycharm": {
     "name": "#%%\n"
    }
   }
  },
  {
   "cell_type": "code",
   "execution_count": 4,
   "outputs": [
    {
     "data": {
      "text/plain": "    Position     Team   M  W  D  L   G  GA  PTS     xG   NPxG    xGA  NPxGA  \\\n16        17  Arsenal  13  2  6  5  14  19   12  15.42  14.66  16.94  15.27   \n\n    NPxGD   PPDA  OPPDA  DC  ODC  xPTS  \n16  -0.61  10.36  11.22  93   85  16.8  ",
      "text/html": "<div>\n<style scoped>\n    .dataframe tbody tr th:only-of-type {\n        vertical-align: middle;\n    }\n\n    .dataframe tbody tr th {\n        vertical-align: top;\n    }\n\n    .dataframe thead th {\n        text-align: right;\n    }\n</style>\n<table border=\"1\" class=\"dataframe\">\n  <thead>\n    <tr style=\"text-align: right;\">\n      <th></th>\n      <th>Position</th>\n      <th>Team</th>\n      <th>M</th>\n      <th>W</th>\n      <th>D</th>\n      <th>L</th>\n      <th>G</th>\n      <th>GA</th>\n      <th>PTS</th>\n      <th>xG</th>\n      <th>NPxG</th>\n      <th>xGA</th>\n      <th>NPxGA</th>\n      <th>NPxGD</th>\n      <th>PPDA</th>\n      <th>OPPDA</th>\n      <th>DC</th>\n      <th>ODC</th>\n      <th>xPTS</th>\n    </tr>\n  </thead>\n  <tbody>\n    <tr>\n      <th>16</th>\n      <td>17</td>\n      <td>Arsenal</td>\n      <td>13</td>\n      <td>2</td>\n      <td>6</td>\n      <td>5</td>\n      <td>14</td>\n      <td>19</td>\n      <td>12</td>\n      <td>15.42</td>\n      <td>14.66</td>\n      <td>16.94</td>\n      <td>15.27</td>\n      <td>-0.61</td>\n      <td>10.36</td>\n      <td>11.22</td>\n      <td>93</td>\n      <td>85</td>\n      <td>16.8</td>\n    </tr>\n  </tbody>\n</table>\n</div>"
     },
     "execution_count": 4,
     "metadata": {},
     "output_type": "execute_result"
    }
   ],
   "source": [
    "# get row from df_table where Team == 'Arsenal'\n",
    "df_table.loc[df_table['Team'] == 'Arsenal']"
   ],
   "metadata": {
    "collapsed": false,
    "pycharm": {
     "name": "#%%\n"
    }
   }
  },
  {
   "cell_type": "code",
   "execution_count": 5,
   "outputs": [],
   "source": [
    "data = update_team_score_feature(get_merged_seasons_data())"
   ],
   "metadata": {
    "collapsed": false,
    "pycharm": {
     "name": "#%%\n"
    }
   }
  },
  {
   "cell_type": "markdown",
   "source": [
    "## For now, work only with single season data"
   ],
   "metadata": {
    "collapsed": false,
    "pycharm": {
     "name": "#%% md\n"
    }
   }
  },
  {
   "cell_type": "code",
   "execution_count": 6,
   "outputs": [],
   "source": [
    "data19 = data[data['season'] == '2019-20']"
   ],
   "metadata": {
    "collapsed": false,
    "pycharm": {
     "name": "#%%\n"
    }
   }
  },
  {
   "cell_type": "markdown",
   "source": [
    "### And start with only one player, to make it simpler to test"
   ],
   "metadata": {
    "collapsed": false,
    "pycharm": {
     "name": "#%% md\n"
    }
   }
  },
  {
   "cell_type": "code",
   "execution_count": 7,
   "outputs": [],
   "source": [
    "data_kdb = data19[data19['name'] == 'Kevin_De Bruyne_215']"
   ],
   "metadata": {
    "collapsed": false,
    "pycharm": {
     "name": "#%%\n"
    }
   }
  },
  {
   "cell_type": "code",
   "execution_count": 8,
   "outputs": [
    {
     "data": {
      "text/plain": "                      name  assists  bonus  bps  clean_sheets  creativity  \\\n68002  Kevin_De Bruyne_215        1      1   37             1        37.4   \n68821  Kevin_De Bruyne_215        2      3   44             0       127.7   \n69384  Kevin_De Bruyne_215        1      0   22             0        42.3   \n69602  Kevin_De Bruyne_215        1      2   41             1        26.7   \n70408  Kevin_De Bruyne_215        0      0    6             0        36.8   \n70716  Kevin_De Bruyne_215        2      3   66             1       109.4   \n71516  Kevin_De Bruyne_215        2      1   30             0        33.6   \n72097  Kevin_De Bruyne_215        0      0    0             0         0.0   \n72649  Kevin_De Bruyne_215        0      0    8             1        34.8   \n72842  Kevin_De Bruyne_215        1      0   24             1        91.1   \n\n       element  fixture  goals_conceded  goals_scored  ...  total_points  \\\n68002      215        8               0             0  ...             7   \n68821      215       16               2             0  ...            11   \n69384      215       22               1             0  ...             5   \n69602      215       37               0             1  ...            13   \n70408      215       46               0             0  ...             1   \n70716      215       57               0             1  ...            17   \n71516      215       65               1             0  ...             9   \n72097      215       75               0             0  ...             0   \n72649      215       84               0             0  ...             3   \n72842      215       95               0             0  ...             6   \n\n       transfers_balance transfers_in  transfers_out  value  was_home  \\\n68002                  0            0              0     95     False   \n68821               2049        81457          79408     95      True   \n69384             460538       510105          49567     96     False   \n69602             293070       373295          80225     97      True   \n70408             399792       438722          38930     98     False   \n70716              35783       135252          99469     98      True   \n71516             388729       412503          23774     99     False   \n72097            -653701       141393         795094    100      True   \n72649              96039       270262         174223    100     False   \n72842             297701       311175          13474    101      True   \n\n       yellow_cards  GW  position   season  \n68002             0   1       MID  2019-20  \n68821             0   2       MID  2019-20  \n69384             0   3       MID  2019-20  \n69602             0   4       MID  2019-20  \n70408             0   5       MID  2019-20  \n70716             0   6       MID  2019-20  \n71516             0   7       MID  2019-20  \n72097             0   8       MID  2019-20  \n72649             0   9       MID  2019-20  \n72842             0  10       MID  2019-20  \n\n[10 rows x 35 columns]",
      "text/html": "<div>\n<style scoped>\n    .dataframe tbody tr th:only-of-type {\n        vertical-align: middle;\n    }\n\n    .dataframe tbody tr th {\n        vertical-align: top;\n    }\n\n    .dataframe thead th {\n        text-align: right;\n    }\n</style>\n<table border=\"1\" class=\"dataframe\">\n  <thead>\n    <tr style=\"text-align: right;\">\n      <th></th>\n      <th>name</th>\n      <th>assists</th>\n      <th>bonus</th>\n      <th>bps</th>\n      <th>clean_sheets</th>\n      <th>creativity</th>\n      <th>element</th>\n      <th>fixture</th>\n      <th>goals_conceded</th>\n      <th>goals_scored</th>\n      <th>...</th>\n      <th>total_points</th>\n      <th>transfers_balance</th>\n      <th>transfers_in</th>\n      <th>transfers_out</th>\n      <th>value</th>\n      <th>was_home</th>\n      <th>yellow_cards</th>\n      <th>GW</th>\n      <th>position</th>\n      <th>season</th>\n    </tr>\n  </thead>\n  <tbody>\n    <tr>\n      <th>68002</th>\n      <td>Kevin_De Bruyne_215</td>\n      <td>1</td>\n      <td>1</td>\n      <td>37</td>\n      <td>1</td>\n      <td>37.4</td>\n      <td>215</td>\n      <td>8</td>\n      <td>0</td>\n      <td>0</td>\n      <td>...</td>\n      <td>7</td>\n      <td>0</td>\n      <td>0</td>\n      <td>0</td>\n      <td>95</td>\n      <td>False</td>\n      <td>0</td>\n      <td>1</td>\n      <td>MID</td>\n      <td>2019-20</td>\n    </tr>\n    <tr>\n      <th>68821</th>\n      <td>Kevin_De Bruyne_215</td>\n      <td>2</td>\n      <td>3</td>\n      <td>44</td>\n      <td>0</td>\n      <td>127.7</td>\n      <td>215</td>\n      <td>16</td>\n      <td>2</td>\n      <td>0</td>\n      <td>...</td>\n      <td>11</td>\n      <td>2049</td>\n      <td>81457</td>\n      <td>79408</td>\n      <td>95</td>\n      <td>True</td>\n      <td>0</td>\n      <td>2</td>\n      <td>MID</td>\n      <td>2019-20</td>\n    </tr>\n    <tr>\n      <th>69384</th>\n      <td>Kevin_De Bruyne_215</td>\n      <td>1</td>\n      <td>0</td>\n      <td>22</td>\n      <td>0</td>\n      <td>42.3</td>\n      <td>215</td>\n      <td>22</td>\n      <td>1</td>\n      <td>0</td>\n      <td>...</td>\n      <td>5</td>\n      <td>460538</td>\n      <td>510105</td>\n      <td>49567</td>\n      <td>96</td>\n      <td>False</td>\n      <td>0</td>\n      <td>3</td>\n      <td>MID</td>\n      <td>2019-20</td>\n    </tr>\n    <tr>\n      <th>69602</th>\n      <td>Kevin_De Bruyne_215</td>\n      <td>1</td>\n      <td>2</td>\n      <td>41</td>\n      <td>1</td>\n      <td>26.7</td>\n      <td>215</td>\n      <td>37</td>\n      <td>0</td>\n      <td>1</td>\n      <td>...</td>\n      <td>13</td>\n      <td>293070</td>\n      <td>373295</td>\n      <td>80225</td>\n      <td>97</td>\n      <td>True</td>\n      <td>0</td>\n      <td>4</td>\n      <td>MID</td>\n      <td>2019-20</td>\n    </tr>\n    <tr>\n      <th>70408</th>\n      <td>Kevin_De Bruyne_215</td>\n      <td>0</td>\n      <td>0</td>\n      <td>6</td>\n      <td>0</td>\n      <td>36.8</td>\n      <td>215</td>\n      <td>46</td>\n      <td>0</td>\n      <td>0</td>\n      <td>...</td>\n      <td>1</td>\n      <td>399792</td>\n      <td>438722</td>\n      <td>38930</td>\n      <td>98</td>\n      <td>False</td>\n      <td>0</td>\n      <td>5</td>\n      <td>MID</td>\n      <td>2019-20</td>\n    </tr>\n    <tr>\n      <th>70716</th>\n      <td>Kevin_De Bruyne_215</td>\n      <td>2</td>\n      <td>3</td>\n      <td>66</td>\n      <td>1</td>\n      <td>109.4</td>\n      <td>215</td>\n      <td>57</td>\n      <td>0</td>\n      <td>1</td>\n      <td>...</td>\n      <td>17</td>\n      <td>35783</td>\n      <td>135252</td>\n      <td>99469</td>\n      <td>98</td>\n      <td>True</td>\n      <td>0</td>\n      <td>6</td>\n      <td>MID</td>\n      <td>2019-20</td>\n    </tr>\n    <tr>\n      <th>71516</th>\n      <td>Kevin_De Bruyne_215</td>\n      <td>2</td>\n      <td>1</td>\n      <td>30</td>\n      <td>0</td>\n      <td>33.6</td>\n      <td>215</td>\n      <td>65</td>\n      <td>1</td>\n      <td>0</td>\n      <td>...</td>\n      <td>9</td>\n      <td>388729</td>\n      <td>412503</td>\n      <td>23774</td>\n      <td>99</td>\n      <td>False</td>\n      <td>0</td>\n      <td>7</td>\n      <td>MID</td>\n      <td>2019-20</td>\n    </tr>\n    <tr>\n      <th>72097</th>\n      <td>Kevin_De Bruyne_215</td>\n      <td>0</td>\n      <td>0</td>\n      <td>0</td>\n      <td>0</td>\n      <td>0.0</td>\n      <td>215</td>\n      <td>75</td>\n      <td>0</td>\n      <td>0</td>\n      <td>...</td>\n      <td>0</td>\n      <td>-653701</td>\n      <td>141393</td>\n      <td>795094</td>\n      <td>100</td>\n      <td>True</td>\n      <td>0</td>\n      <td>8</td>\n      <td>MID</td>\n      <td>2019-20</td>\n    </tr>\n    <tr>\n      <th>72649</th>\n      <td>Kevin_De Bruyne_215</td>\n      <td>0</td>\n      <td>0</td>\n      <td>8</td>\n      <td>1</td>\n      <td>34.8</td>\n      <td>215</td>\n      <td>84</td>\n      <td>0</td>\n      <td>0</td>\n      <td>...</td>\n      <td>3</td>\n      <td>96039</td>\n      <td>270262</td>\n      <td>174223</td>\n      <td>100</td>\n      <td>False</td>\n      <td>0</td>\n      <td>9</td>\n      <td>MID</td>\n      <td>2019-20</td>\n    </tr>\n    <tr>\n      <th>72842</th>\n      <td>Kevin_De Bruyne_215</td>\n      <td>1</td>\n      <td>0</td>\n      <td>24</td>\n      <td>1</td>\n      <td>91.1</td>\n      <td>215</td>\n      <td>95</td>\n      <td>0</td>\n      <td>0</td>\n      <td>...</td>\n      <td>6</td>\n      <td>297701</td>\n      <td>311175</td>\n      <td>13474</td>\n      <td>101</td>\n      <td>True</td>\n      <td>0</td>\n      <td>10</td>\n      <td>MID</td>\n      <td>2019-20</td>\n    </tr>\n  </tbody>\n</table>\n<p>10 rows × 35 columns</p>\n</div>"
     },
     "execution_count": 8,
     "metadata": {},
     "output_type": "execute_result"
    }
   ],
   "source": [
    "data_kdb.head(10)"
   ],
   "metadata": {
    "collapsed": false,
    "pycharm": {
     "name": "#%%\n"
    }
   }
  },
  {
   "cell_type": "code",
   "execution_count": 9,
   "outputs": [],
   "source": [
    "df_table_kdb_gw1 = asyncio.run(get_league_table(2019, '2019-06-10', '2019-08-10'))"
   ],
   "metadata": {
    "collapsed": false,
    "pycharm": {
     "name": "#%%\n"
    }
   }
  },
  {
   "cell_type": "code",
   "execution_count": 10,
   "outputs": [
    {
     "data": {
      "text/plain": "   Position             Team  M  W  D  L  G  GA  PTS    xG  NPxG   xGA  NPxGA  \\\n0         1  Manchester City  1  1  0  0  5   0    3  3.18  2.42  1.20   1.20   \n1         2        Liverpool  1  1  0  0  4   1    3  2.23  2.23  0.84   0.84   \n2         3          Burnley  1  1  0  0  3   0    3  0.91  0.91  1.09   1.09   \n3         4         Brighton  1  1  0  0  3   0    3  0.86  0.86  0.67   0.67   \n4         5        Tottenham  1  1  0  0  3   1    3  2.57  2.57  0.64   0.64   \n\n   NPxGD   PPDA  OPPDA  DC  ODC  xPTS  \n0   1.22   6.94  16.40   9    1  2.63  \n1   1.39   5.94  21.45  11    5  2.39  \n2  -0.18   9.28   5.50   0    9  1.14  \n3   0.19  11.50   9.79   5    7  1.55  \n4   1.93   5.25  13.42  15    2  2.59  ",
      "text/html": "<div>\n<style scoped>\n    .dataframe tbody tr th:only-of-type {\n        vertical-align: middle;\n    }\n\n    .dataframe tbody tr th {\n        vertical-align: top;\n    }\n\n    .dataframe thead th {\n        text-align: right;\n    }\n</style>\n<table border=\"1\" class=\"dataframe\">\n  <thead>\n    <tr style=\"text-align: right;\">\n      <th></th>\n      <th>Position</th>\n      <th>Team</th>\n      <th>M</th>\n      <th>W</th>\n      <th>D</th>\n      <th>L</th>\n      <th>G</th>\n      <th>GA</th>\n      <th>PTS</th>\n      <th>xG</th>\n      <th>NPxG</th>\n      <th>xGA</th>\n      <th>NPxGA</th>\n      <th>NPxGD</th>\n      <th>PPDA</th>\n      <th>OPPDA</th>\n      <th>DC</th>\n      <th>ODC</th>\n      <th>xPTS</th>\n    </tr>\n  </thead>\n  <tbody>\n    <tr>\n      <th>0</th>\n      <td>1</td>\n      <td>Manchester City</td>\n      <td>1</td>\n      <td>1</td>\n      <td>0</td>\n      <td>0</td>\n      <td>5</td>\n      <td>0</td>\n      <td>3</td>\n      <td>3.18</td>\n      <td>2.42</td>\n      <td>1.20</td>\n      <td>1.20</td>\n      <td>1.22</td>\n      <td>6.94</td>\n      <td>16.40</td>\n      <td>9</td>\n      <td>1</td>\n      <td>2.63</td>\n    </tr>\n    <tr>\n      <th>1</th>\n      <td>2</td>\n      <td>Liverpool</td>\n      <td>1</td>\n      <td>1</td>\n      <td>0</td>\n      <td>0</td>\n      <td>4</td>\n      <td>1</td>\n      <td>3</td>\n      <td>2.23</td>\n      <td>2.23</td>\n      <td>0.84</td>\n      <td>0.84</td>\n      <td>1.39</td>\n      <td>5.94</td>\n      <td>21.45</td>\n      <td>11</td>\n      <td>5</td>\n      <td>2.39</td>\n    </tr>\n    <tr>\n      <th>2</th>\n      <td>3</td>\n      <td>Burnley</td>\n      <td>1</td>\n      <td>1</td>\n      <td>0</td>\n      <td>0</td>\n      <td>3</td>\n      <td>0</td>\n      <td>3</td>\n      <td>0.91</td>\n      <td>0.91</td>\n      <td>1.09</td>\n      <td>1.09</td>\n      <td>-0.18</td>\n      <td>9.28</td>\n      <td>5.50</td>\n      <td>0</td>\n      <td>9</td>\n      <td>1.14</td>\n    </tr>\n    <tr>\n      <th>3</th>\n      <td>4</td>\n      <td>Brighton</td>\n      <td>1</td>\n      <td>1</td>\n      <td>0</td>\n      <td>0</td>\n      <td>3</td>\n      <td>0</td>\n      <td>3</td>\n      <td>0.86</td>\n      <td>0.86</td>\n      <td>0.67</td>\n      <td>0.67</td>\n      <td>0.19</td>\n      <td>11.50</td>\n      <td>9.79</td>\n      <td>5</td>\n      <td>7</td>\n      <td>1.55</td>\n    </tr>\n    <tr>\n      <th>4</th>\n      <td>5</td>\n      <td>Tottenham</td>\n      <td>1</td>\n      <td>1</td>\n      <td>0</td>\n      <td>0</td>\n      <td>3</td>\n      <td>1</td>\n      <td>3</td>\n      <td>2.57</td>\n      <td>2.57</td>\n      <td>0.64</td>\n      <td>0.64</td>\n      <td>1.93</td>\n      <td>5.25</td>\n      <td>13.42</td>\n      <td>15</td>\n      <td>2</td>\n      <td>2.59</td>\n    </tr>\n  </tbody>\n</table>\n</div>"
     },
     "execution_count": 10,
     "metadata": {},
     "output_type": "execute_result"
    }
   ],
   "source": [
    "df_table_kdb_gw1.head()"
   ],
   "metadata": {
    "collapsed": false,
    "pycharm": {
     "name": "#%%\n"
    }
   }
  },
  {
   "cell_type": "code",
   "execution_count": 11,
   "outputs": [],
   "source": [
    "column_to_get = ['Position', 'G', 'GA', 'xG', 'NPxG', 'xGA', 'NPxGA', 'NPxGD', 'PPDA', 'OPPDA', 'DC', 'ODC', 'xPTS']"
   ],
   "metadata": {
    "collapsed": false,
    "pycharm": {
     "name": "#%%\n"
    }
   }
  },
  {
   "cell_type": "code",
   "execution_count": 12,
   "outputs": [],
   "source": [
    "master_team_list = load_master_team_list()"
   ],
   "metadata": {
    "collapsed": false,
    "pycharm": {
     "name": "#%%\n"
    }
   }
  },
  {
   "cell_type": "code",
   "execution_count": 13,
   "outputs": [
    {
     "data": {
      "text/plain": "    season  team       team_name\n0  2016-17     1         Arsenal\n1  2016-17     2     Bournemouth\n2  2016-17     3         Burnley\n3  2016-17     4         Chelsea\n4  2016-17     5  Crystal Palace",
      "text/html": "<div>\n<style scoped>\n    .dataframe tbody tr th:only-of-type {\n        vertical-align: middle;\n    }\n\n    .dataframe tbody tr th {\n        vertical-align: top;\n    }\n\n    .dataframe thead th {\n        text-align: right;\n    }\n</style>\n<table border=\"1\" class=\"dataframe\">\n  <thead>\n    <tr style=\"text-align: right;\">\n      <th></th>\n      <th>season</th>\n      <th>team</th>\n      <th>team_name</th>\n    </tr>\n  </thead>\n  <tbody>\n    <tr>\n      <th>0</th>\n      <td>2016-17</td>\n      <td>1</td>\n      <td>Arsenal</td>\n    </tr>\n    <tr>\n      <th>1</th>\n      <td>2016-17</td>\n      <td>2</td>\n      <td>Bournemouth</td>\n    </tr>\n    <tr>\n      <th>2</th>\n      <td>2016-17</td>\n      <td>3</td>\n      <td>Burnley</td>\n    </tr>\n    <tr>\n      <th>3</th>\n      <td>2016-17</td>\n      <td>4</td>\n      <td>Chelsea</td>\n    </tr>\n    <tr>\n      <th>4</th>\n      <td>2016-17</td>\n      <td>5</td>\n      <td>Crystal Palace</td>\n    </tr>\n  </tbody>\n</table>\n</div>"
     },
     "execution_count": 13,
     "metadata": {},
     "output_type": "execute_result"
    }
   ],
   "source": [
    "master_team_list.head(5)"
   ],
   "metadata": {
    "collapsed": false,
    "pycharm": {
     "name": "#%%\n"
    }
   }
  },
  {
   "cell_type": "code",
   "execution_count": 14,
   "outputs": [
    {
     "name": "stdout",
     "output_type": "stream",
     "text": [
      "Arsenal\n"
     ]
    }
   ],
   "source": [
    "print(idx_to_team_name(master_team_list, 1, '2019-20'))"
   ],
   "metadata": {
    "collapsed": false,
    "pycharm": {
     "name": "#%%\n"
    }
   }
  },
  {
   "cell_type": "markdown",
   "source": [
    "## Add opponent team stats for player from last two months"
   ],
   "metadata": {
    "collapsed": false,
    "pycharm": {
     "name": "#%% md\n"
    }
   }
  },
  {
   "cell_type": "code",
   "execution_count": 15,
   "outputs": [
    {
     "data": {
      "text/plain": "                      name  assists  bonus  bps  clean_sheets  creativity  \\\n68002  Kevin_De Bruyne_215        1      1   37             1        37.4   \n\n       element  fixture  goals_conceded  goals_scored  ...  total_points  \\\n68002      215        8               0             0  ...             7   \n\n       transfers_balance transfers_in  transfers_out  value  was_home  \\\n68002                  0            0              0     95     False   \n\n       yellow_cards  GW  position   season  \n68002             0   1       MID  2019-20  \n\n[1 rows x 35 columns]",
      "text/html": "<div>\n<style scoped>\n    .dataframe tbody tr th:only-of-type {\n        vertical-align: middle;\n    }\n\n    .dataframe tbody tr th {\n        vertical-align: top;\n    }\n\n    .dataframe thead th {\n        text-align: right;\n    }\n</style>\n<table border=\"1\" class=\"dataframe\">\n  <thead>\n    <tr style=\"text-align: right;\">\n      <th></th>\n      <th>name</th>\n      <th>assists</th>\n      <th>bonus</th>\n      <th>bps</th>\n      <th>clean_sheets</th>\n      <th>creativity</th>\n      <th>element</th>\n      <th>fixture</th>\n      <th>goals_conceded</th>\n      <th>goals_scored</th>\n      <th>...</th>\n      <th>total_points</th>\n      <th>transfers_balance</th>\n      <th>transfers_in</th>\n      <th>transfers_out</th>\n      <th>value</th>\n      <th>was_home</th>\n      <th>yellow_cards</th>\n      <th>GW</th>\n      <th>position</th>\n      <th>season</th>\n    </tr>\n  </thead>\n  <tbody>\n    <tr>\n      <th>68002</th>\n      <td>Kevin_De Bruyne_215</td>\n      <td>1</td>\n      <td>1</td>\n      <td>37</td>\n      <td>1</td>\n      <td>37.4</td>\n      <td>215</td>\n      <td>8</td>\n      <td>0</td>\n      <td>0</td>\n      <td>...</td>\n      <td>7</td>\n      <td>0</td>\n      <td>0</td>\n      <td>0</td>\n      <td>95</td>\n      <td>False</td>\n      <td>0</td>\n      <td>1</td>\n      <td>MID</td>\n      <td>2019-20</td>\n    </tr>\n  </tbody>\n</table>\n<p>1 rows × 35 columns</p>\n</div>"
     },
     "execution_count": 15,
     "metadata": {},
     "output_type": "execute_result"
    }
   ],
   "source": [
    "data_kdb.head(1)"
   ],
   "metadata": {
    "collapsed": false,
    "pycharm": {
     "name": "#%%\n"
    }
   }
  },
  {
   "cell_type": "code",
   "execution_count": 16,
   "outputs": [
    {
     "data": {
      "text/plain": "    Position  G  GA   xG  NPxG  xGA  NPxGA  NPxGD  PPDA  OPPDA  DC  ODC  xPTS\n11        12  0   0  0.0   0.0  0.0    0.0    0.0   0.0    0.0   0    0   0.0",
      "text/html": "<div>\n<style scoped>\n    .dataframe tbody tr th:only-of-type {\n        vertical-align: middle;\n    }\n\n    .dataframe tbody tr th {\n        vertical-align: top;\n    }\n\n    .dataframe thead th {\n        text-align: right;\n    }\n</style>\n<table border=\"1\" class=\"dataframe\">\n  <thead>\n    <tr style=\"text-align: right;\">\n      <th></th>\n      <th>Position</th>\n      <th>G</th>\n      <th>GA</th>\n      <th>xG</th>\n      <th>NPxG</th>\n      <th>xGA</th>\n      <th>NPxGA</th>\n      <th>NPxGD</th>\n      <th>PPDA</th>\n      <th>OPPDA</th>\n      <th>DC</th>\n      <th>ODC</th>\n      <th>xPTS</th>\n    </tr>\n  </thead>\n  <tbody>\n    <tr>\n      <th>11</th>\n      <td>12</td>\n      <td>0</td>\n      <td>0</td>\n      <td>0.0</td>\n      <td>0.0</td>\n      <td>0.0</td>\n      <td>0.0</td>\n      <td>0.0</td>\n      <td>0.0</td>\n      <td>0.0</td>\n      <td>0</td>\n      <td>0</td>\n      <td>0.0</td>\n    </tr>\n  </tbody>\n</table>\n</div>"
     },
     "execution_count": 16,
     "metadata": {},
     "output_type": "execute_result"
    }
   ],
   "source": [
    "df_table_kdb_gw1.loc[df_table_kdb_gw1['Team'] == 'Arsenal'][column_to_get].squeeze(axis=1)"
   ],
   "metadata": {
    "collapsed": false,
    "pycharm": {
     "name": "#%%\n"
    }
   }
  },
  {
   "cell_type": "code",
   "execution_count": 17,
   "outputs": [],
   "source": [
    "column_to_get = ['Position', 'G', 'xG']"
   ],
   "metadata": {
    "collapsed": false,
    "pycharm": {
     "name": "#%%\n"
    }
   }
  },
  {
   "cell_type": "code",
   "execution_count": 18,
   "outputs": [],
   "source": [
    "def add_team_stats(row, column_to_get):\n",
    "    opponent_team = idx_to_team_name(master_team_list, row['opponent_team'], row['season'])\n",
    "\n",
    "    season_year = row['season'].split('-')[0]\n",
    "    date = row['kickoff_time'].split('T')[0]\n",
    "\n",
    "    date_back = str_date_months_back(date, 2)\n",
    "    table = asyncio.run(get_league_table(season_year, date_back, date))\n",
    "\n",
    "    # get row from table where Team == opponent_team\n",
    "    table_opponent = table.loc[table['Team'] == opponent_team]\n",
    "    table_opponent = table_opponent[column_to_get]\n",
    "\n",
    "    return table_opponent"
   ],
   "metadata": {
    "collapsed": false,
    "pycharm": {
     "name": "#%%\n"
    }
   }
  },
  {
   "cell_type": "code",
   "execution_count": 19,
   "outputs": [],
   "source": [
    "#data_kdb['Position'], data_kdb['G'], data_kdb['xG'] = data_kdb.apply(lambda row: add_team_stats(row, column_to_get), axis=1)\n",
    "data_stats = data_kdb.apply(lambda row: add_team_stats(row, column_to_get), axis=1)"
   ],
   "metadata": {
    "collapsed": false,
    "pycharm": {
     "name": "#%%\n"
    }
   }
  },
  {
   "cell_type": "code",
   "execution_count": 20,
   "outputs": [],
   "source": [
    "df_stacked = pd.concat([r for r in data_stats], ignore_index=True)"
   ],
   "metadata": {
    "collapsed": false,
    "pycharm": {
     "name": "#%%\n"
    }
   }
  },
  {
   "cell_type": "markdown",
   "source": [],
   "metadata": {
    "collapsed": false,
    "pycharm": {
     "name": "#%% md\n"
    }
   }
  },
  {
   "cell_type": "code",
   "execution_count": 21,
   "outputs": [
    {
     "data": {
      "text/plain": "   Position   G     xG\n0        20   0   1.20\n1         5   5   2.65\n2        12   4   4.86\n3        16   4   5.12\n4        12   9   6.93\n5        20   4   8.42\n6        15   6   9.93\n7        11  11  10.05\n8         5   8   8.14\n9        11  11  11.96",
      "text/html": "<div>\n<style scoped>\n    .dataframe tbody tr th:only-of-type {\n        vertical-align: middle;\n    }\n\n    .dataframe tbody tr th {\n        vertical-align: top;\n    }\n\n    .dataframe thead th {\n        text-align: right;\n    }\n</style>\n<table border=\"1\" class=\"dataframe\">\n  <thead>\n    <tr style=\"text-align: right;\">\n      <th></th>\n      <th>Position</th>\n      <th>G</th>\n      <th>xG</th>\n    </tr>\n  </thead>\n  <tbody>\n    <tr>\n      <th>0</th>\n      <td>20</td>\n      <td>0</td>\n      <td>1.20</td>\n    </tr>\n    <tr>\n      <th>1</th>\n      <td>5</td>\n      <td>5</td>\n      <td>2.65</td>\n    </tr>\n    <tr>\n      <th>2</th>\n      <td>12</td>\n      <td>4</td>\n      <td>4.86</td>\n    </tr>\n    <tr>\n      <th>3</th>\n      <td>16</td>\n      <td>4</td>\n      <td>5.12</td>\n    </tr>\n    <tr>\n      <th>4</th>\n      <td>12</td>\n      <td>9</td>\n      <td>6.93</td>\n    </tr>\n    <tr>\n      <th>5</th>\n      <td>20</td>\n      <td>4</td>\n      <td>8.42</td>\n    </tr>\n    <tr>\n      <th>6</th>\n      <td>15</td>\n      <td>6</td>\n      <td>9.93</td>\n    </tr>\n    <tr>\n      <th>7</th>\n      <td>11</td>\n      <td>11</td>\n      <td>10.05</td>\n    </tr>\n    <tr>\n      <th>8</th>\n      <td>5</td>\n      <td>8</td>\n      <td>8.14</td>\n    </tr>\n    <tr>\n      <th>9</th>\n      <td>11</td>\n      <td>11</td>\n      <td>11.96</td>\n    </tr>\n  </tbody>\n</table>\n</div>"
     },
     "execution_count": 21,
     "metadata": {},
     "output_type": "execute_result"
    }
   ],
   "source": [
    "df_stacked.head(10)"
   ],
   "metadata": {
    "collapsed": false,
    "pycharm": {
     "name": "#%%\n"
    }
   }
  },
  {
   "cell_type": "code",
   "execution_count": 22,
   "outputs": [],
   "source": [
    "# merge df_stacked with data_kdb\n",
    "data_kdb_concat = pd.concat([data_kdb, df_stacked.set_index(data_kdb.index)], axis=1)"
   ],
   "metadata": {
    "collapsed": false,
    "pycharm": {
     "name": "#%%\n"
    }
   }
  },
  {
   "cell_type": "code",
   "execution_count": 23,
   "outputs": [
    {
     "data": {
      "text/plain": "                      name  assists  bonus  bps  clean_sheets  creativity  \\\n68002  Kevin_De Bruyne_215        1      1   37             1        37.4   \n68821  Kevin_De Bruyne_215        2      3   44             0       127.7   \n69384  Kevin_De Bruyne_215        1      0   22             0        42.3   \n69602  Kevin_De Bruyne_215        1      2   41             1        26.7   \n70408  Kevin_De Bruyne_215        0      0    6             0        36.8   \n70716  Kevin_De Bruyne_215        2      3   66             1       109.4   \n71516  Kevin_De Bruyne_215        2      1   30             0        33.6   \n72097  Kevin_De Bruyne_215        0      0    0             0         0.0   \n72649  Kevin_De Bruyne_215        0      0    8             1        34.8   \n72842  Kevin_De Bruyne_215        1      0   24             1        91.1   \n73414  Kevin_De Bruyne_215        0      0   21             0        61.9   \n74430  Kevin_De Bruyne_215        0      0   18             0        52.1   \n74891  Kevin_De Bruyne_215        0      0   28             0        38.1   \n75062  Kevin_De Bruyne_215        0      3   35             0        91.1   \n75666  Kevin_De Bruyne_215        0      0   13             1        46.9   \n76380  Kevin_De Bruyne_215        0      0   19             0        80.3   \n77181  Kevin_De Bruyne_215        1      3   59             1        32.0   \n77680  Kevin_De Bruyne_215        1      0   28             0        86.6   \n78386  Kevin_De Bruyne_215        1      0   21             0        13.8   \n78943  Kevin_De Bruyne_215        1      3   34             1        17.8   \n79383  Kevin_De Bruyne_215        0      0   13             0        27.3   \n80123  Kevin_De Bruyne_215        2      0   34             1        40.7   \n80541  Kevin_De Bruyne_215        0      0   21             0       104.8   \n80859  Kevin_De Bruyne_215        1      1   30             1        55.6   \n82038  Kevin_De Bruyne_215        0      0   10             0        46.4   \n82672  Kevin_De Bruyne_215        1      3   51             1        87.1   \n82993  Kevin_De Bruyne_215        0      0    2             1        35.6   \n84342  Kevin_De Bruyne_215        0      0    0             0         0.0   \n84445  Kevin_De Bruyne_215        0      0    0             0         0.0   \n84590  Kevin_De Bruyne_215        1      3   43             1        34.9   \n85236  Kevin_De Bruyne_215        0      0    4             0        21.3   \n85887  Kevin_De Bruyne_215        0      2   29             0        27.8   \n86507  Kevin_De Bruyne_215        1      3   42             1        56.7   \n87092  Kevin_De Bruyne_215        0      0    2             0        23.8   \n87438  Kevin_De Bruyne_215        1      1   32             1        89.8   \n88138  Kevin_De Bruyne_215        0      0   19             1        62.0   \n88648  Kevin_De Bruyne_215        0      0    0             0         0.0   \n89590  Kevin_De Bruyne_215        1      0   32             1        83.1   \n89954  Kevin_De Bruyne_215        1      3   70             1       133.5   \n\n       element  fixture  goals_conceded  goals_scored  ...  transfers_out  \\\n68002      215        8               0             0  ...              0   \n68821      215       16               2             0  ...          79408   \n69384      215       22               1             0  ...          49567   \n69602      215       37               0             1  ...          80225   \n70408      215       46               0             0  ...          38930   \n70716      215       57               0             1  ...          99469   \n71516      215       65               1             0  ...          23774   \n72097      215       75               0             0  ...         795094   \n72649      215       84               0             0  ...         174223   \n72842      215       95               0             0  ...          13474   \n73414      215      107               1             0  ...          29113   \n74430      215      114               3             0  ...          81702   \n74891      215      127               1             1  ...         125798   \n75062      215      136               2             1  ...          55823   \n75666      215      142               0             0  ...          16102   \n76380      215      155               2             0  ...          96471   \n77181      215      161               0             2  ...         264085   \n77680      215      175               1             0  ...          16809   \n78386      215      190               1             0  ...          27695   \n78943      215      195               0             1  ...          28865   \n79383      215      205               1             0  ...          23853   \n80123      215      211               0             0  ...          44469   \n80541      215      225               2             0  ...          37493   \n80859      215      236               0             0  ...         205600   \n82038      215      248               2             0  ...          46671   \n82672      215      256               0             1  ...          72025   \n82993      215      265               0             0  ...          83117   \n84342      215      287               0             0  ...         264756   \n84445      215      275               0             0  ...         264756   \n84590      215      275               0             1  ...          59723   \n85236      215      295               0             0  ...          59723   \n85887      215      302               2             1  ...          43333   \n86507      215      317               0             1  ...          51363   \n87092      215      328               0             0  ...          28935   \n87438      215      337               0             0  ...          28693   \n88138      215      343               0             0  ...          44903   \n88648      215      357               0             0  ...          92722   \n89590      215      369               0             0  ...         146431   \n89954      215      377               0             2  ...         142919   \n\n       value was_home  yellow_cards  GW  position   season  Position   G  \\\n68002     95    False             0   1       MID  2019-20        20   0   \n68821     95     True             0   2       MID  2019-20         5   5   \n69384     96    False             0   3       MID  2019-20        12   4   \n69602     97     True             0   4       MID  2019-20        16   4   \n70408     98    False             0   5       MID  2019-20        12   9   \n70716     98     True             0   6       MID  2019-20        20   4   \n71516     99    False             0   7       MID  2019-20        15   6   \n72097    100     True             0   8       MID  2019-20        11  11   \n72649    100    False             0   9       MID  2019-20         5   8   \n72842    101     True             0  10       MID  2019-20        11  11   \n73414    102     True             0  11       MID  2019-20        19   6   \n74430    102    False             0  12       MID  2019-20         1  16   \n74891    102     True             0  13       MID  2019-20         3  16   \n75062    102    False             0  14       MID  2019-20         6   9   \n75666    102    False             0  15       MID  2019-20        13  11   \n76380    103     True             1  16       MID  2019-20         4  16   \n77181    102    False             0  17       MID  2019-20        16  11   \n77680    103     True             1  18       MID  2019-20         2  25   \n78386    104    False             0  19       MID  2019-20         3  16   \n78943    105     True             0  20       MID  2019-20         7  14   \n79383    106     True             0  21       MID  2019-20        11  14   \n80123    106    False             0  22       MID  2019-20        15  11   \n80541    107     True             0  23       MID  2019-20         9  12   \n80859    107    False             0  24       MID  2019-20         9  12   \n82038    107    False             0  25       MID  2019-20         5  16   \n82672    108     True             0  26       MID  2019-20        20  11   \n82993    108    False             0  27       MID  2019-20        12  13   \n84342    107    False             0  29       MID  2019-20         3  12   \n84445    107     True             0  29       MID  2019-20         4  12   \n84590    106     True             0  39       MID  2019-20        20   0   \n85236    106     True             0  39       MID  2019-20        20   0   \n85887    106    False             1  40       MID  2019-20         3   4   \n86507    107     True             0  41       MID  2019-20        11   4   \n87092    107    False             0  42       MID  2019-20         3   7   \n87438    108     True             0  43       MID  2019-20         9  10   \n88138    108    False             0  44       MID  2019-20        15   4   \n88648    108     True             0  45       MID  2019-20        18   8   \n89590    107    False             0  46       MID  2019-20        17   7   \n89954    106     True             0  47       MID  2019-20        20   1   \n\n          xG  \n68002   1.20  \n68821   2.65  \n69384   4.86  \n69602   5.12  \n70408   6.93  \n70716   8.42  \n71516   9.93  \n72097  10.05  \n72649   8.14  \n72842  11.96  \n73414   8.92  \n74430  16.62  \n74891  16.00  \n75062   6.62  \n75666  12.72  \n76380  15.89  \n77181  11.09  \n77680  20.88  \n78386  14.62  \n78943  15.17  \n79383  15.02  \n80123  12.13  \n80541   8.51  \n80859  16.29  \n82038  13.65  \n82672   9.93  \n82993  14.12  \n84342  13.21  \n84445  10.63  \n84590   0.50  \n85236   0.03  \n85887   5.35  \n86507   4.05  \n87092   4.57  \n87438   6.76  \n88138   5.50  \n88648   8.39  \n89590   7.50  \n89954   4.91  \n\n[39 rows x 38 columns]",
      "text/html": "<div>\n<style scoped>\n    .dataframe tbody tr th:only-of-type {\n        vertical-align: middle;\n    }\n\n    .dataframe tbody tr th {\n        vertical-align: top;\n    }\n\n    .dataframe thead th {\n        text-align: right;\n    }\n</style>\n<table border=\"1\" class=\"dataframe\">\n  <thead>\n    <tr style=\"text-align: right;\">\n      <th></th>\n      <th>name</th>\n      <th>assists</th>\n      <th>bonus</th>\n      <th>bps</th>\n      <th>clean_sheets</th>\n      <th>creativity</th>\n      <th>element</th>\n      <th>fixture</th>\n      <th>goals_conceded</th>\n      <th>goals_scored</th>\n      <th>...</th>\n      <th>transfers_out</th>\n      <th>value</th>\n      <th>was_home</th>\n      <th>yellow_cards</th>\n      <th>GW</th>\n      <th>position</th>\n      <th>season</th>\n      <th>Position</th>\n      <th>G</th>\n      <th>xG</th>\n    </tr>\n  </thead>\n  <tbody>\n    <tr>\n      <th>68002</th>\n      <td>Kevin_De Bruyne_215</td>\n      <td>1</td>\n      <td>1</td>\n      <td>37</td>\n      <td>1</td>\n      <td>37.4</td>\n      <td>215</td>\n      <td>8</td>\n      <td>0</td>\n      <td>0</td>\n      <td>...</td>\n      <td>0</td>\n      <td>95</td>\n      <td>False</td>\n      <td>0</td>\n      <td>1</td>\n      <td>MID</td>\n      <td>2019-20</td>\n      <td>20</td>\n      <td>0</td>\n      <td>1.20</td>\n    </tr>\n    <tr>\n      <th>68821</th>\n      <td>Kevin_De Bruyne_215</td>\n      <td>2</td>\n      <td>3</td>\n      <td>44</td>\n      <td>0</td>\n      <td>127.7</td>\n      <td>215</td>\n      <td>16</td>\n      <td>2</td>\n      <td>0</td>\n      <td>...</td>\n      <td>79408</td>\n      <td>95</td>\n      <td>True</td>\n      <td>0</td>\n      <td>2</td>\n      <td>MID</td>\n      <td>2019-20</td>\n      <td>5</td>\n      <td>5</td>\n      <td>2.65</td>\n    </tr>\n    <tr>\n      <th>69384</th>\n      <td>Kevin_De Bruyne_215</td>\n      <td>1</td>\n      <td>0</td>\n      <td>22</td>\n      <td>0</td>\n      <td>42.3</td>\n      <td>215</td>\n      <td>22</td>\n      <td>1</td>\n      <td>0</td>\n      <td>...</td>\n      <td>49567</td>\n      <td>96</td>\n      <td>False</td>\n      <td>0</td>\n      <td>3</td>\n      <td>MID</td>\n      <td>2019-20</td>\n      <td>12</td>\n      <td>4</td>\n      <td>4.86</td>\n    </tr>\n    <tr>\n      <th>69602</th>\n      <td>Kevin_De Bruyne_215</td>\n      <td>1</td>\n      <td>2</td>\n      <td>41</td>\n      <td>1</td>\n      <td>26.7</td>\n      <td>215</td>\n      <td>37</td>\n      <td>0</td>\n      <td>1</td>\n      <td>...</td>\n      <td>80225</td>\n      <td>97</td>\n      <td>True</td>\n      <td>0</td>\n      <td>4</td>\n      <td>MID</td>\n      <td>2019-20</td>\n      <td>16</td>\n      <td>4</td>\n      <td>5.12</td>\n    </tr>\n    <tr>\n      <th>70408</th>\n      <td>Kevin_De Bruyne_215</td>\n      <td>0</td>\n      <td>0</td>\n      <td>6</td>\n      <td>0</td>\n      <td>36.8</td>\n      <td>215</td>\n      <td>46</td>\n      <td>0</td>\n      <td>0</td>\n      <td>...</td>\n      <td>38930</td>\n      <td>98</td>\n      <td>False</td>\n      <td>0</td>\n      <td>5</td>\n      <td>MID</td>\n      <td>2019-20</td>\n      <td>12</td>\n      <td>9</td>\n      <td>6.93</td>\n    </tr>\n    <tr>\n      <th>70716</th>\n      <td>Kevin_De Bruyne_215</td>\n      <td>2</td>\n      <td>3</td>\n      <td>66</td>\n      <td>1</td>\n      <td>109.4</td>\n      <td>215</td>\n      <td>57</td>\n      <td>0</td>\n      <td>1</td>\n      <td>...</td>\n      <td>99469</td>\n      <td>98</td>\n      <td>True</td>\n      <td>0</td>\n      <td>6</td>\n      <td>MID</td>\n      <td>2019-20</td>\n      <td>20</td>\n      <td>4</td>\n      <td>8.42</td>\n    </tr>\n    <tr>\n      <th>71516</th>\n      <td>Kevin_De Bruyne_215</td>\n      <td>2</td>\n      <td>1</td>\n      <td>30</td>\n      <td>0</td>\n      <td>33.6</td>\n      <td>215</td>\n      <td>65</td>\n      <td>1</td>\n      <td>0</td>\n      <td>...</td>\n      <td>23774</td>\n      <td>99</td>\n      <td>False</td>\n      <td>0</td>\n      <td>7</td>\n      <td>MID</td>\n      <td>2019-20</td>\n      <td>15</td>\n      <td>6</td>\n      <td>9.93</td>\n    </tr>\n    <tr>\n      <th>72097</th>\n      <td>Kevin_De Bruyne_215</td>\n      <td>0</td>\n      <td>0</td>\n      <td>0</td>\n      <td>0</td>\n      <td>0.0</td>\n      <td>215</td>\n      <td>75</td>\n      <td>0</td>\n      <td>0</td>\n      <td>...</td>\n      <td>795094</td>\n      <td>100</td>\n      <td>True</td>\n      <td>0</td>\n      <td>8</td>\n      <td>MID</td>\n      <td>2019-20</td>\n      <td>11</td>\n      <td>11</td>\n      <td>10.05</td>\n    </tr>\n    <tr>\n      <th>72649</th>\n      <td>Kevin_De Bruyne_215</td>\n      <td>0</td>\n      <td>0</td>\n      <td>8</td>\n      <td>1</td>\n      <td>34.8</td>\n      <td>215</td>\n      <td>84</td>\n      <td>0</td>\n      <td>0</td>\n      <td>...</td>\n      <td>174223</td>\n      <td>100</td>\n      <td>False</td>\n      <td>0</td>\n      <td>9</td>\n      <td>MID</td>\n      <td>2019-20</td>\n      <td>5</td>\n      <td>8</td>\n      <td>8.14</td>\n    </tr>\n    <tr>\n      <th>72842</th>\n      <td>Kevin_De Bruyne_215</td>\n      <td>1</td>\n      <td>0</td>\n      <td>24</td>\n      <td>1</td>\n      <td>91.1</td>\n      <td>215</td>\n      <td>95</td>\n      <td>0</td>\n      <td>0</td>\n      <td>...</td>\n      <td>13474</td>\n      <td>101</td>\n      <td>True</td>\n      <td>0</td>\n      <td>10</td>\n      <td>MID</td>\n      <td>2019-20</td>\n      <td>11</td>\n      <td>11</td>\n      <td>11.96</td>\n    </tr>\n    <tr>\n      <th>73414</th>\n      <td>Kevin_De Bruyne_215</td>\n      <td>0</td>\n      <td>0</td>\n      <td>21</td>\n      <td>0</td>\n      <td>61.9</td>\n      <td>215</td>\n      <td>107</td>\n      <td>1</td>\n      <td>0</td>\n      <td>...</td>\n      <td>29113</td>\n      <td>102</td>\n      <td>True</td>\n      <td>0</td>\n      <td>11</td>\n      <td>MID</td>\n      <td>2019-20</td>\n      <td>19</td>\n      <td>6</td>\n      <td>8.92</td>\n    </tr>\n    <tr>\n      <th>74430</th>\n      <td>Kevin_De Bruyne_215</td>\n      <td>0</td>\n      <td>0</td>\n      <td>18</td>\n      <td>0</td>\n      <td>52.1</td>\n      <td>215</td>\n      <td>114</td>\n      <td>3</td>\n      <td>0</td>\n      <td>...</td>\n      <td>81702</td>\n      <td>102</td>\n      <td>False</td>\n      <td>0</td>\n      <td>12</td>\n      <td>MID</td>\n      <td>2019-20</td>\n      <td>1</td>\n      <td>16</td>\n      <td>16.62</td>\n    </tr>\n    <tr>\n      <th>74891</th>\n      <td>Kevin_De Bruyne_215</td>\n      <td>0</td>\n      <td>0</td>\n      <td>28</td>\n      <td>0</td>\n      <td>38.1</td>\n      <td>215</td>\n      <td>127</td>\n      <td>1</td>\n      <td>1</td>\n      <td>...</td>\n      <td>125798</td>\n      <td>102</td>\n      <td>True</td>\n      <td>0</td>\n      <td>13</td>\n      <td>MID</td>\n      <td>2019-20</td>\n      <td>3</td>\n      <td>16</td>\n      <td>16.00</td>\n    </tr>\n    <tr>\n      <th>75062</th>\n      <td>Kevin_De Bruyne_215</td>\n      <td>0</td>\n      <td>3</td>\n      <td>35</td>\n      <td>0</td>\n      <td>91.1</td>\n      <td>215</td>\n      <td>136</td>\n      <td>2</td>\n      <td>1</td>\n      <td>...</td>\n      <td>55823</td>\n      <td>102</td>\n      <td>False</td>\n      <td>0</td>\n      <td>14</td>\n      <td>MID</td>\n      <td>2019-20</td>\n      <td>6</td>\n      <td>9</td>\n      <td>6.62</td>\n    </tr>\n    <tr>\n      <th>75666</th>\n      <td>Kevin_De Bruyne_215</td>\n      <td>0</td>\n      <td>0</td>\n      <td>13</td>\n      <td>1</td>\n      <td>46.9</td>\n      <td>215</td>\n      <td>142</td>\n      <td>0</td>\n      <td>0</td>\n      <td>...</td>\n      <td>16102</td>\n      <td>102</td>\n      <td>False</td>\n      <td>0</td>\n      <td>15</td>\n      <td>MID</td>\n      <td>2019-20</td>\n      <td>13</td>\n      <td>11</td>\n      <td>12.72</td>\n    </tr>\n    <tr>\n      <th>76380</th>\n      <td>Kevin_De Bruyne_215</td>\n      <td>0</td>\n      <td>0</td>\n      <td>19</td>\n      <td>0</td>\n      <td>80.3</td>\n      <td>215</td>\n      <td>155</td>\n      <td>2</td>\n      <td>0</td>\n      <td>...</td>\n      <td>96471</td>\n      <td>103</td>\n      <td>True</td>\n      <td>1</td>\n      <td>16</td>\n      <td>MID</td>\n      <td>2019-20</td>\n      <td>4</td>\n      <td>16</td>\n      <td>15.89</td>\n    </tr>\n    <tr>\n      <th>77181</th>\n      <td>Kevin_De Bruyne_215</td>\n      <td>1</td>\n      <td>3</td>\n      <td>59</td>\n      <td>1</td>\n      <td>32.0</td>\n      <td>215</td>\n      <td>161</td>\n      <td>0</td>\n      <td>2</td>\n      <td>...</td>\n      <td>264085</td>\n      <td>102</td>\n      <td>False</td>\n      <td>0</td>\n      <td>17</td>\n      <td>MID</td>\n      <td>2019-20</td>\n      <td>16</td>\n      <td>11</td>\n      <td>11.09</td>\n    </tr>\n    <tr>\n      <th>77680</th>\n      <td>Kevin_De Bruyne_215</td>\n      <td>1</td>\n      <td>0</td>\n      <td>28</td>\n      <td>0</td>\n      <td>86.6</td>\n      <td>215</td>\n      <td>175</td>\n      <td>1</td>\n      <td>0</td>\n      <td>...</td>\n      <td>16809</td>\n      <td>103</td>\n      <td>True</td>\n      <td>1</td>\n      <td>18</td>\n      <td>MID</td>\n      <td>2019-20</td>\n      <td>2</td>\n      <td>25</td>\n      <td>20.88</td>\n    </tr>\n    <tr>\n      <th>78386</th>\n      <td>Kevin_De Bruyne_215</td>\n      <td>1</td>\n      <td>0</td>\n      <td>21</td>\n      <td>0</td>\n      <td>13.8</td>\n      <td>215</td>\n      <td>190</td>\n      <td>1</td>\n      <td>0</td>\n      <td>...</td>\n      <td>27695</td>\n      <td>104</td>\n      <td>False</td>\n      <td>0</td>\n      <td>19</td>\n      <td>MID</td>\n      <td>2019-20</td>\n      <td>3</td>\n      <td>16</td>\n      <td>14.62</td>\n    </tr>\n    <tr>\n      <th>78943</th>\n      <td>Kevin_De Bruyne_215</td>\n      <td>1</td>\n      <td>3</td>\n      <td>34</td>\n      <td>1</td>\n      <td>17.8</td>\n      <td>215</td>\n      <td>195</td>\n      <td>0</td>\n      <td>1</td>\n      <td>...</td>\n      <td>28865</td>\n      <td>105</td>\n      <td>True</td>\n      <td>0</td>\n      <td>20</td>\n      <td>MID</td>\n      <td>2019-20</td>\n      <td>7</td>\n      <td>14</td>\n      <td>15.17</td>\n    </tr>\n    <tr>\n      <th>79383</th>\n      <td>Kevin_De Bruyne_215</td>\n      <td>0</td>\n      <td>0</td>\n      <td>13</td>\n      <td>0</td>\n      <td>27.3</td>\n      <td>215</td>\n      <td>205</td>\n      <td>1</td>\n      <td>0</td>\n      <td>...</td>\n      <td>23853</td>\n      <td>106</td>\n      <td>True</td>\n      <td>0</td>\n      <td>21</td>\n      <td>MID</td>\n      <td>2019-20</td>\n      <td>11</td>\n      <td>14</td>\n      <td>15.02</td>\n    </tr>\n    <tr>\n      <th>80123</th>\n      <td>Kevin_De Bruyne_215</td>\n      <td>2</td>\n      <td>0</td>\n      <td>34</td>\n      <td>1</td>\n      <td>40.7</td>\n      <td>215</td>\n      <td>211</td>\n      <td>0</td>\n      <td>0</td>\n      <td>...</td>\n      <td>44469</td>\n      <td>106</td>\n      <td>False</td>\n      <td>0</td>\n      <td>22</td>\n      <td>MID</td>\n      <td>2019-20</td>\n      <td>15</td>\n      <td>11</td>\n      <td>12.13</td>\n    </tr>\n    <tr>\n      <th>80541</th>\n      <td>Kevin_De Bruyne_215</td>\n      <td>0</td>\n      <td>0</td>\n      <td>21</td>\n      <td>0</td>\n      <td>104.8</td>\n      <td>215</td>\n      <td>225</td>\n      <td>2</td>\n      <td>0</td>\n      <td>...</td>\n      <td>37493</td>\n      <td>107</td>\n      <td>True</td>\n      <td>0</td>\n      <td>23</td>\n      <td>MID</td>\n      <td>2019-20</td>\n      <td>9</td>\n      <td>12</td>\n      <td>8.51</td>\n    </tr>\n    <tr>\n      <th>80859</th>\n      <td>Kevin_De Bruyne_215</td>\n      <td>1</td>\n      <td>1</td>\n      <td>30</td>\n      <td>1</td>\n      <td>55.6</td>\n      <td>215</td>\n      <td>236</td>\n      <td>0</td>\n      <td>0</td>\n      <td>...</td>\n      <td>205600</td>\n      <td>107</td>\n      <td>False</td>\n      <td>0</td>\n      <td>24</td>\n      <td>MID</td>\n      <td>2019-20</td>\n      <td>9</td>\n      <td>12</td>\n      <td>16.29</td>\n    </tr>\n    <tr>\n      <th>82038</th>\n      <td>Kevin_De Bruyne_215</td>\n      <td>0</td>\n      <td>0</td>\n      <td>10</td>\n      <td>0</td>\n      <td>46.4</td>\n      <td>215</td>\n      <td>248</td>\n      <td>2</td>\n      <td>0</td>\n      <td>...</td>\n      <td>46671</td>\n      <td>107</td>\n      <td>False</td>\n      <td>0</td>\n      <td>25</td>\n      <td>MID</td>\n      <td>2019-20</td>\n      <td>5</td>\n      <td>16</td>\n      <td>13.65</td>\n    </tr>\n    <tr>\n      <th>82672</th>\n      <td>Kevin_De Bruyne_215</td>\n      <td>1</td>\n      <td>3</td>\n      <td>51</td>\n      <td>1</td>\n      <td>87.1</td>\n      <td>215</td>\n      <td>256</td>\n      <td>0</td>\n      <td>1</td>\n      <td>...</td>\n      <td>72025</td>\n      <td>108</td>\n      <td>True</td>\n      <td>0</td>\n      <td>26</td>\n      <td>MID</td>\n      <td>2019-20</td>\n      <td>20</td>\n      <td>11</td>\n      <td>9.93</td>\n    </tr>\n    <tr>\n      <th>82993</th>\n      <td>Kevin_De Bruyne_215</td>\n      <td>0</td>\n      <td>0</td>\n      <td>2</td>\n      <td>1</td>\n      <td>35.6</td>\n      <td>215</td>\n      <td>265</td>\n      <td>0</td>\n      <td>0</td>\n      <td>...</td>\n      <td>83117</td>\n      <td>108</td>\n      <td>False</td>\n      <td>0</td>\n      <td>27</td>\n      <td>MID</td>\n      <td>2019-20</td>\n      <td>12</td>\n      <td>13</td>\n      <td>14.12</td>\n    </tr>\n    <tr>\n      <th>84342</th>\n      <td>Kevin_De Bruyne_215</td>\n      <td>0</td>\n      <td>0</td>\n      <td>0</td>\n      <td>0</td>\n      <td>0.0</td>\n      <td>215</td>\n      <td>287</td>\n      <td>0</td>\n      <td>0</td>\n      <td>...</td>\n      <td>264756</td>\n      <td>107</td>\n      <td>False</td>\n      <td>0</td>\n      <td>29</td>\n      <td>MID</td>\n      <td>2019-20</td>\n      <td>3</td>\n      <td>12</td>\n      <td>13.21</td>\n    </tr>\n    <tr>\n      <th>84445</th>\n      <td>Kevin_De Bruyne_215</td>\n      <td>0</td>\n      <td>0</td>\n      <td>0</td>\n      <td>0</td>\n      <td>0.0</td>\n      <td>215</td>\n      <td>275</td>\n      <td>0</td>\n      <td>0</td>\n      <td>...</td>\n      <td>264756</td>\n      <td>107</td>\n      <td>True</td>\n      <td>0</td>\n      <td>29</td>\n      <td>MID</td>\n      <td>2019-20</td>\n      <td>4</td>\n      <td>12</td>\n      <td>10.63</td>\n    </tr>\n    <tr>\n      <th>84590</th>\n      <td>Kevin_De Bruyne_215</td>\n      <td>1</td>\n      <td>3</td>\n      <td>43</td>\n      <td>1</td>\n      <td>34.9</td>\n      <td>215</td>\n      <td>275</td>\n      <td>0</td>\n      <td>1</td>\n      <td>...</td>\n      <td>59723</td>\n      <td>106</td>\n      <td>True</td>\n      <td>0</td>\n      <td>39</td>\n      <td>MID</td>\n      <td>2019-20</td>\n      <td>20</td>\n      <td>0</td>\n      <td>0.50</td>\n    </tr>\n    <tr>\n      <th>85236</th>\n      <td>Kevin_De Bruyne_215</td>\n      <td>0</td>\n      <td>0</td>\n      <td>4</td>\n      <td>0</td>\n      <td>21.3</td>\n      <td>215</td>\n      <td>295</td>\n      <td>0</td>\n      <td>0</td>\n      <td>...</td>\n      <td>59723</td>\n      <td>106</td>\n      <td>True</td>\n      <td>0</td>\n      <td>39</td>\n      <td>MID</td>\n      <td>2019-20</td>\n      <td>20</td>\n      <td>0</td>\n      <td>0.03</td>\n    </tr>\n    <tr>\n      <th>85887</th>\n      <td>Kevin_De Bruyne_215</td>\n      <td>0</td>\n      <td>2</td>\n      <td>29</td>\n      <td>0</td>\n      <td>27.8</td>\n      <td>215</td>\n      <td>302</td>\n      <td>2</td>\n      <td>1</td>\n      <td>...</td>\n      <td>43333</td>\n      <td>106</td>\n      <td>False</td>\n      <td>1</td>\n      <td>40</td>\n      <td>MID</td>\n      <td>2019-20</td>\n      <td>3</td>\n      <td>4</td>\n      <td>5.35</td>\n    </tr>\n    <tr>\n      <th>86507</th>\n      <td>Kevin_De Bruyne_215</td>\n      <td>1</td>\n      <td>3</td>\n      <td>42</td>\n      <td>1</td>\n      <td>56.7</td>\n      <td>215</td>\n      <td>317</td>\n      <td>0</td>\n      <td>1</td>\n      <td>...</td>\n      <td>51363</td>\n      <td>107</td>\n      <td>True</td>\n      <td>0</td>\n      <td>41</td>\n      <td>MID</td>\n      <td>2019-20</td>\n      <td>11</td>\n      <td>4</td>\n      <td>4.05</td>\n    </tr>\n    <tr>\n      <th>87092</th>\n      <td>Kevin_De Bruyne_215</td>\n      <td>0</td>\n      <td>0</td>\n      <td>2</td>\n      <td>0</td>\n      <td>23.8</td>\n      <td>215</td>\n      <td>328</td>\n      <td>0</td>\n      <td>0</td>\n      <td>...</td>\n      <td>28935</td>\n      <td>107</td>\n      <td>False</td>\n      <td>0</td>\n      <td>42</td>\n      <td>MID</td>\n      <td>2019-20</td>\n      <td>3</td>\n      <td>7</td>\n      <td>4.57</td>\n    </tr>\n    <tr>\n      <th>87438</th>\n      <td>Kevin_De Bruyne_215</td>\n      <td>1</td>\n      <td>1</td>\n      <td>32</td>\n      <td>1</td>\n      <td>89.8</td>\n      <td>215</td>\n      <td>337</td>\n      <td>0</td>\n      <td>0</td>\n      <td>...</td>\n      <td>28693</td>\n      <td>108</td>\n      <td>True</td>\n      <td>0</td>\n      <td>43</td>\n      <td>MID</td>\n      <td>2019-20</td>\n      <td>9</td>\n      <td>10</td>\n      <td>6.76</td>\n    </tr>\n    <tr>\n      <th>88138</th>\n      <td>Kevin_De Bruyne_215</td>\n      <td>0</td>\n      <td>0</td>\n      <td>19</td>\n      <td>1</td>\n      <td>62.0</td>\n      <td>215</td>\n      <td>343</td>\n      <td>0</td>\n      <td>0</td>\n      <td>...</td>\n      <td>44903</td>\n      <td>108</td>\n      <td>False</td>\n      <td>0</td>\n      <td>44</td>\n      <td>MID</td>\n      <td>2019-20</td>\n      <td>15</td>\n      <td>4</td>\n      <td>5.50</td>\n    </tr>\n    <tr>\n      <th>88648</th>\n      <td>Kevin_De Bruyne_215</td>\n      <td>0</td>\n      <td>0</td>\n      <td>0</td>\n      <td>0</td>\n      <td>0.0</td>\n      <td>215</td>\n      <td>357</td>\n      <td>0</td>\n      <td>0</td>\n      <td>...</td>\n      <td>92722</td>\n      <td>108</td>\n      <td>True</td>\n      <td>0</td>\n      <td>45</td>\n      <td>MID</td>\n      <td>2019-20</td>\n      <td>18</td>\n      <td>8</td>\n      <td>8.39</td>\n    </tr>\n    <tr>\n      <th>89590</th>\n      <td>Kevin_De Bruyne_215</td>\n      <td>1</td>\n      <td>0</td>\n      <td>32</td>\n      <td>1</td>\n      <td>83.1</td>\n      <td>215</td>\n      <td>369</td>\n      <td>0</td>\n      <td>0</td>\n      <td>...</td>\n      <td>146431</td>\n      <td>107</td>\n      <td>False</td>\n      <td>0</td>\n      <td>46</td>\n      <td>MID</td>\n      <td>2019-20</td>\n      <td>17</td>\n      <td>7</td>\n      <td>7.50</td>\n    </tr>\n    <tr>\n      <th>89954</th>\n      <td>Kevin_De Bruyne_215</td>\n      <td>1</td>\n      <td>3</td>\n      <td>70</td>\n      <td>1</td>\n      <td>133.5</td>\n      <td>215</td>\n      <td>377</td>\n      <td>0</td>\n      <td>2</td>\n      <td>...</td>\n      <td>142919</td>\n      <td>106</td>\n      <td>True</td>\n      <td>0</td>\n      <td>47</td>\n      <td>MID</td>\n      <td>2019-20</td>\n      <td>20</td>\n      <td>1</td>\n      <td>4.91</td>\n    </tr>\n  </tbody>\n</table>\n<p>39 rows × 38 columns</p>\n</div>"
     },
     "execution_count": 23,
     "metadata": {},
     "output_type": "execute_result"
    }
   ],
   "source": [
    "data_kdb_concat"
   ],
   "metadata": {
    "collapsed": false,
    "pycharm": {
     "name": "#%%\n"
    }
   }
  },
  {
   "cell_type": "code",
   "execution_count": 24,
   "outputs": [],
   "source": [
    "# TODO:\n",
    "# - take average of xG, G etc stats per game\n",
    "# - create feature 'opponent_next_game' for which new columns will be created\n",
    "# - think about to add player club stats (need to encode club name for every player)"
   ],
   "metadata": {
    "collapsed": false,
    "pycharm": {
     "name": "#%%\n"
    }
   }
  }
 ],
 "metadata": {
  "kernelspec": {
   "display_name": "Python 3",
   "language": "python",
   "name": "python3"
  },
  "language_info": {
   "codemirror_mode": {
    "name": "ipython",
    "version": 2
   },
   "file_extension": ".py",
   "mimetype": "text/x-python",
   "name": "python",
   "nbconvert_exporter": "python",
   "pygments_lexer": "ipython2",
   "version": "2.7.6"
  }
 },
 "nbformat": 4,
 "nbformat_minor": 0
}