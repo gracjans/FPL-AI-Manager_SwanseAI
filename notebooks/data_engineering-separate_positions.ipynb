{
 "cells": [
  {
   "cell_type": "markdown",
   "source": [
    "# Separate data into different positions and do feature selection in order to train different models"
   ],
   "metadata": {
    "collapsed": false,
    "pycharm": {
     "name": "#%% md\n"
    }
   }
  },
  {
   "cell_type": "code",
   "execution_count": 1,
   "outputs": [],
   "source": [
    "from src.features.data_engineering import get_merged_seasons_data"
   ],
   "metadata": {
    "collapsed": false,
    "pycharm": {
     "name": "#%%\n"
    }
   }
  },
  {
   "cell_type": "code",
   "execution_count": 2,
   "outputs": [],
   "source": [
    "data = get_merged_seasons_data()"
   ],
   "metadata": {
    "collapsed": false,
    "pycharm": {
     "name": "#%%\n"
    }
   }
  },
  {
   "cell_type": "markdown",
   "source": [
    "## Separate data into different positions"
   ],
   "metadata": {
    "collapsed": false,
    "pycharm": {
     "name": "#%% md\n"
    }
   }
  },
  {
   "cell_type": "code",
   "execution_count": 5,
   "outputs": [],
   "source": [
    "data_gk = data[data['position'] == 'GK']\n",
    "data_def = data[data['position'] == 'DEF']\n",
    "data_mid = data[data['position'] == 'MID']\n",
    "data_fd = data[data['position'] == 'FWD']"
   ],
   "metadata": {
    "collapsed": false,
    "pycharm": {
     "name": "#%%\n"
    }
   }
  },
  {
   "cell_type": "code",
   "execution_count": 9,
   "outputs": [
    {
     "data": {
      "text/plain": "                     name  assists  bonus  bps  clean_sheets  creativity  \\\n2       Ron-Robert_Zieler        0      0    0             0         0.0   \n13         Allan_McGregor        0      0    0             0         0.0   \n23        Eldin_Jakupovic        0      0   16             0         0.0   \n26           Dusan_Kuciak        0      0    0             0         0.0   \n28      Kasper_Schmeichel        0      0   14             0         0.0   \n...                   ...      ...    ...  ...           ...         ...   \n133569           Joe Hart        0      0    0             0         0.0   \n133571    Alphonse Areola        0      0    0             0         0.0   \n133581    Darren Randolph        0      0    0             0         0.0   \n133582  Pierluigi Gollini        0      0    0             0         0.0   \n133585   Lukasz Fabianski        0      0   12             0         0.0   \n\n        element  fixture  goals_conceded  goals_scored  ...  total_points  \\\n2           166        4               0             0  ...             0   \n13          146        4               0             0  ...             0   \n23          147        4               1             0  ...             3   \n26          517        4               0             0  ...             0   \n28          165        4               2             0  ...             2   \n...         ...      ...             ...           ...  ...           ...   \n133569      352      298               0             0  ...             0   \n133571      489      298               0             0  ...             0   \n133581      407      298               0             0  ...             0   \n133582      486      298               0             0  ...             0   \n133585      408      298               3             0  ...             1   \n\n        transfers_balance transfers_in  transfers_out  value  was_home  \\\n2                       0            0              0     45     False   \n13                      0            0              0     45      True   \n23                      0            0              0     40      True   \n26                      0            0              0     40      True   \n28                      0            0              0     50     False   \n...                   ...          ...            ...    ...       ...   \n133569                 -4            0              4     45      True   \n133571                 60          432            372     47     False   \n133581                114          203             89     43     False   \n133582               -105           39            144     43      True   \n133585               4408         8084           3676     50     False   \n\n        yellow_cards  GW  position   season  \n2                  0   1        GK  2016-17  \n13                 0   1        GK  2016-17  \n23                 0   1        GK  2016-17  \n26                 0   1        GK  2016-17  \n28                 0   1        GK  2016-17  \n...              ...  ..       ...      ...  \n133569             0  30        GK  2021-22  \n133571             0  30        GK  2021-22  \n133581             0  30        GK  2021-22  \n133582             0  30        GK  2021-22  \n133585             0  30        GK  2021-22  \n\n[14504 rows x 35 columns]",
      "text/html": "<div>\n<style scoped>\n    .dataframe tbody tr th:only-of-type {\n        vertical-align: middle;\n    }\n\n    .dataframe tbody tr th {\n        vertical-align: top;\n    }\n\n    .dataframe thead th {\n        text-align: right;\n    }\n</style>\n<table border=\"1\" class=\"dataframe\">\n  <thead>\n    <tr style=\"text-align: right;\">\n      <th></th>\n      <th>name</th>\n      <th>assists</th>\n      <th>bonus</th>\n      <th>bps</th>\n      <th>clean_sheets</th>\n      <th>creativity</th>\n      <th>element</th>\n      <th>fixture</th>\n      <th>goals_conceded</th>\n      <th>goals_scored</th>\n      <th>...</th>\n      <th>total_points</th>\n      <th>transfers_balance</th>\n      <th>transfers_in</th>\n      <th>transfers_out</th>\n      <th>value</th>\n      <th>was_home</th>\n      <th>yellow_cards</th>\n      <th>GW</th>\n      <th>position</th>\n      <th>season</th>\n    </tr>\n  </thead>\n  <tbody>\n    <tr>\n      <th>2</th>\n      <td>Ron-Robert_Zieler</td>\n      <td>0</td>\n      <td>0</td>\n      <td>0</td>\n      <td>0</td>\n      <td>0.0</td>\n      <td>166</td>\n      <td>4</td>\n      <td>0</td>\n      <td>0</td>\n      <td>...</td>\n      <td>0</td>\n      <td>0</td>\n      <td>0</td>\n      <td>0</td>\n      <td>45</td>\n      <td>False</td>\n      <td>0</td>\n      <td>1</td>\n      <td>GK</td>\n      <td>2016-17</td>\n    </tr>\n    <tr>\n      <th>13</th>\n      <td>Allan_McGregor</td>\n      <td>0</td>\n      <td>0</td>\n      <td>0</td>\n      <td>0</td>\n      <td>0.0</td>\n      <td>146</td>\n      <td>4</td>\n      <td>0</td>\n      <td>0</td>\n      <td>...</td>\n      <td>0</td>\n      <td>0</td>\n      <td>0</td>\n      <td>0</td>\n      <td>45</td>\n      <td>True</td>\n      <td>0</td>\n      <td>1</td>\n      <td>GK</td>\n      <td>2016-17</td>\n    </tr>\n    <tr>\n      <th>23</th>\n      <td>Eldin_Jakupovic</td>\n      <td>0</td>\n      <td>0</td>\n      <td>16</td>\n      <td>0</td>\n      <td>0.0</td>\n      <td>147</td>\n      <td>4</td>\n      <td>1</td>\n      <td>0</td>\n      <td>...</td>\n      <td>3</td>\n      <td>0</td>\n      <td>0</td>\n      <td>0</td>\n      <td>40</td>\n      <td>True</td>\n      <td>0</td>\n      <td>1</td>\n      <td>GK</td>\n      <td>2016-17</td>\n    </tr>\n    <tr>\n      <th>26</th>\n      <td>Dusan_Kuciak</td>\n      <td>0</td>\n      <td>0</td>\n      <td>0</td>\n      <td>0</td>\n      <td>0.0</td>\n      <td>517</td>\n      <td>4</td>\n      <td>0</td>\n      <td>0</td>\n      <td>...</td>\n      <td>0</td>\n      <td>0</td>\n      <td>0</td>\n      <td>0</td>\n      <td>40</td>\n      <td>True</td>\n      <td>0</td>\n      <td>1</td>\n      <td>GK</td>\n      <td>2016-17</td>\n    </tr>\n    <tr>\n      <th>28</th>\n      <td>Kasper_Schmeichel</td>\n      <td>0</td>\n      <td>0</td>\n      <td>14</td>\n      <td>0</td>\n      <td>0.0</td>\n      <td>165</td>\n      <td>4</td>\n      <td>2</td>\n      <td>0</td>\n      <td>...</td>\n      <td>2</td>\n      <td>0</td>\n      <td>0</td>\n      <td>0</td>\n      <td>50</td>\n      <td>False</td>\n      <td>0</td>\n      <td>1</td>\n      <td>GK</td>\n      <td>2016-17</td>\n    </tr>\n    <tr>\n      <th>...</th>\n      <td>...</td>\n      <td>...</td>\n      <td>...</td>\n      <td>...</td>\n      <td>...</td>\n      <td>...</td>\n      <td>...</td>\n      <td>...</td>\n      <td>...</td>\n      <td>...</td>\n      <td>...</td>\n      <td>...</td>\n      <td>...</td>\n      <td>...</td>\n      <td>...</td>\n      <td>...</td>\n      <td>...</td>\n      <td>...</td>\n      <td>...</td>\n      <td>...</td>\n      <td>...</td>\n    </tr>\n    <tr>\n      <th>133569</th>\n      <td>Joe Hart</td>\n      <td>0</td>\n      <td>0</td>\n      <td>0</td>\n      <td>0</td>\n      <td>0.0</td>\n      <td>352</td>\n      <td>298</td>\n      <td>0</td>\n      <td>0</td>\n      <td>...</td>\n      <td>0</td>\n      <td>-4</td>\n      <td>0</td>\n      <td>4</td>\n      <td>45</td>\n      <td>True</td>\n      <td>0</td>\n      <td>30</td>\n      <td>GK</td>\n      <td>2021-22</td>\n    </tr>\n    <tr>\n      <th>133571</th>\n      <td>Alphonse Areola</td>\n      <td>0</td>\n      <td>0</td>\n      <td>0</td>\n      <td>0</td>\n      <td>0.0</td>\n      <td>489</td>\n      <td>298</td>\n      <td>0</td>\n      <td>0</td>\n      <td>...</td>\n      <td>0</td>\n      <td>60</td>\n      <td>432</td>\n      <td>372</td>\n      <td>47</td>\n      <td>False</td>\n      <td>0</td>\n      <td>30</td>\n      <td>GK</td>\n      <td>2021-22</td>\n    </tr>\n    <tr>\n      <th>133581</th>\n      <td>Darren Randolph</td>\n      <td>0</td>\n      <td>0</td>\n      <td>0</td>\n      <td>0</td>\n      <td>0.0</td>\n      <td>407</td>\n      <td>298</td>\n      <td>0</td>\n      <td>0</td>\n      <td>...</td>\n      <td>0</td>\n      <td>114</td>\n      <td>203</td>\n      <td>89</td>\n      <td>43</td>\n      <td>False</td>\n      <td>0</td>\n      <td>30</td>\n      <td>GK</td>\n      <td>2021-22</td>\n    </tr>\n    <tr>\n      <th>133582</th>\n      <td>Pierluigi Gollini</td>\n      <td>0</td>\n      <td>0</td>\n      <td>0</td>\n      <td>0</td>\n      <td>0.0</td>\n      <td>486</td>\n      <td>298</td>\n      <td>0</td>\n      <td>0</td>\n      <td>...</td>\n      <td>0</td>\n      <td>-105</td>\n      <td>39</td>\n      <td>144</td>\n      <td>43</td>\n      <td>True</td>\n      <td>0</td>\n      <td>30</td>\n      <td>GK</td>\n      <td>2021-22</td>\n    </tr>\n    <tr>\n      <th>133585</th>\n      <td>Lukasz Fabianski</td>\n      <td>0</td>\n      <td>0</td>\n      <td>12</td>\n      <td>0</td>\n      <td>0.0</td>\n      <td>408</td>\n      <td>298</td>\n      <td>3</td>\n      <td>0</td>\n      <td>...</td>\n      <td>1</td>\n      <td>4408</td>\n      <td>8084</td>\n      <td>3676</td>\n      <td>50</td>\n      <td>False</td>\n      <td>0</td>\n      <td>30</td>\n      <td>GK</td>\n      <td>2021-22</td>\n    </tr>\n  </tbody>\n</table>\n<p>14504 rows × 35 columns</p>\n</div>"
     },
     "execution_count": 9,
     "metadata": {},
     "output_type": "execute_result"
    }
   ],
   "source": [
    "data_gk"
   ],
   "metadata": {
    "collapsed": false,
    "pycharm": {
     "name": "#%%\n"
    }
   }
  },
  {
   "cell_type": "code",
   "execution_count": null,
   "outputs": [],
   "source": [],
   "metadata": {
    "collapsed": false,
    "pycharm": {
     "name": "#%%\n"
    }
   }
  }
 ],
 "metadata": {
  "kernelspec": {
   "display_name": "Python 3",
   "language": "python",
   "name": "python3"
  },
  "language_info": {
   "codemirror_mode": {
    "name": "ipython",
    "version": 2
   },
   "file_extension": ".py",
   "mimetype": "text/x-python",
   "name": "python",
   "nbconvert_exporter": "python",
   "pygments_lexer": "ipython2",
   "version": "2.7.6"
  }
 },
 "nbformat": 4,
 "nbformat_minor": 0
}