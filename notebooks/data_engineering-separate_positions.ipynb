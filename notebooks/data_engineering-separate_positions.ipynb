{
 "cells": [
  {
   "cell_type": "markdown",
   "source": [
    "# Separate data into different positions and do feature selection in order to train different models"
   ],
   "metadata": {
    "collapsed": false,
    "pycharm": {
     "name": "#%% md\n"
    }
   }
  },
  {
   "cell_type": "code",
   "execution_count": 2,
   "outputs": [],
   "source": [
    "import os\n",
    "from src.features.data_engineering import get_merged_seasons_data"
   ],
   "metadata": {
    "collapsed": false,
    "pycharm": {
     "name": "#%%\n"
    }
   }
  },
  {
   "cell_type": "code",
   "execution_count": 3,
   "outputs": [],
   "source": [
    "data = get_merged_seasons_data()"
   ],
   "metadata": {
    "collapsed": false,
    "pycharm": {
     "name": "#%%\n"
    }
   }
  },
  {
   "cell_type": "markdown",
   "source": [
    "## Separate data into different positions"
   ],
   "metadata": {
    "collapsed": false,
    "pycharm": {
     "name": "#%% md\n"
    }
   }
  },
  {
   "cell_type": "code",
   "execution_count": 4,
   "outputs": [],
   "source": [
    "data_gk = data[data['position'] == 'GK']\n",
    "data_def = data[data['position'] == 'DEF']\n",
    "data_mid = data[data['position'] == 'MID']\n",
    "data_fwd = data[data['position'] == 'FWD']"
   ],
   "metadata": {
    "collapsed": false,
    "pycharm": {
     "name": "#%%\n"
    }
   }
  },
  {
   "cell_type": "code",
   "execution_count": 5,
   "outputs": [
    {
     "name": "stdout",
     "output_type": "stream",
     "text": [
      "GK len: 15267\n",
      "DEF len: 47611\n",
      "MID len: 57922\n",
      "FWD len: 19508\n"
     ]
    }
   ],
   "source": [
    "print('GK len:', len(data_gk))\n",
    "print('DEF len:', len(data_def))\n",
    "print('MID len:', len(data_mid))\n",
    "print('FWD len:', len(data_fwd))"
   ],
   "metadata": {
    "collapsed": false,
    "pycharm": {
     "name": "#%%\n"
    }
   }
  },
  {
   "cell_type": "markdown",
   "source": [
    "## Feature selection for different positions"
   ],
   "metadata": {
    "collapsed": false,
    "pycharm": {
     "name": "#%% md\n"
    }
   }
  },
  {
   "cell_type": "code",
   "execution_count": 6,
   "outputs": [
    {
     "data": {
      "text/plain": "Index(['name', 'assists', 'bonus', 'bps', 'clean_sheets', 'creativity',\n       'element', 'fixture', 'goals_conceded', 'goals_scored', 'ict_index',\n       'influence', 'kickoff_time', 'minutes', 'opponent_team', 'own_goals',\n       'penalties_missed', 'penalties_saved', 'red_cards', 'round', 'saves',\n       'selected', 'team_a_score', 'team_h_score', 'threat', 'total_points',\n       'transfers_balance', 'transfers_in', 'transfers_out', 'value',\n       'was_home', 'yellow_cards', 'GW', 'position', 'season'],\n      dtype='object')"
     },
     "execution_count": 6,
     "metadata": {},
     "output_type": "execute_result"
    }
   ],
   "source": [
    "# preview columns from data\n",
    "data.columns"
   ],
   "metadata": {
    "collapsed": false,
    "pycharm": {
     "name": "#%%\n"
    }
   }
  },
  {
   "cell_type": "markdown",
   "source": [
    "Remember about so called 'target features':\n",
    "- (['name', 'GW', 'element', 'total_points_next_gameweek', 'season'])\n",
    "\n",
    "And about features dropped during preprocessing:\n",
    "- (['fixture', 'kickoff_time', 'opponent_team', 'round', 'transfers_balance', 'was_home'])"
   ],
   "metadata": {
    "collapsed": false,
    "pycharm": {
     "name": "#%% md\n"
    }
   }
  },
  {
   "cell_type": "markdown",
   "source": [
    "### Select features to drop"
   ],
   "metadata": {
    "collapsed": false,
    "pycharm": {
     "name": "#%% md\n"
    }
   }
  },
  {
   "cell_type": "code",
   "execution_count": 7,
   "outputs": [
    {
     "data": {
      "text/plain": "            assists         bonus           bps  clean_sheets    creativity  \\\ncount  15267.000000  15267.000000  15267.000000  15267.000000  15267.000000   \nmean       0.000852      0.082203      5.474553      0.084365      0.079708   \nstd        0.029169      0.421938      9.313818      0.277943      0.926182   \nmin        0.000000      0.000000     -7.000000      0.000000      0.000000   \n25%        0.000000      0.000000      0.000000      0.000000      0.000000   \n50%        0.000000      0.000000      0.000000      0.000000      0.000000   \n75%        0.000000      0.000000     11.000000      0.000000      0.000000   \nmax        1.000000      3.000000     54.000000      1.000000     30.000000   \n\n            element       fixture  goals_conceded  goals_scored     ict_index  \\\ncount  15267.000000  15267.000000    15267.000000  15267.000000  15267.000000   \nmean     332.074998    199.043034        0.411803      0.000066      0.675909   \nstd      189.028235    108.228868        0.937661      0.008093      1.301005   \nmin        1.000000      1.000000        0.000000      0.000000      0.000000   \n25%      166.000000    107.000000        0.000000      0.000000      0.000000   \n50%      333.000000    203.000000        0.000000      0.000000      0.000000   \n75%      506.000000    293.000000        0.000000      0.000000      0.900000   \nmax      708.000000    380.000000        9.000000      1.000000     10.300000   \n\n       ...  team_a_score  team_h_score        threat  total_points  \\\ncount  ...  15262.000000  15262.000000  15267.000000  15267.000000   \nmean   ...      1.239811      1.502359      0.006681      1.091308   \nstd    ...      1.215960      1.305039      0.260923      2.273843   \nmin    ...      0.000000      0.000000      0.000000     -3.000000   \n25%    ...      0.000000      1.000000      0.000000      0.000000   \n50%    ...      1.000000      1.000000      0.000000      0.000000   \n75%    ...      2.000000      2.000000      0.000000      1.000000   \nmax    ...      9.000000      9.000000     18.000000     17.000000   \n\n       transfers_balance   transfers_in  transfers_out         value  \\\ncount       1.526700e+04   15267.000000   1.526700e+04  15267.000000   \nmean        5.298106e+02    7336.096679   6.806286e+03     44.905875   \nstd         2.503994e+04   22115.549325   1.990492e+04      4.848968   \nmin        -1.035061e+06       0.000000   0.000000e+00     39.000000   \n25%        -1.057000e+03      49.000000   1.390000e+02     40.000000   \n50%        -7.200000e+01     331.000000   8.720000e+02     44.000000   \n75%         7.850000e+01    4437.500000   6.439000e+03     48.000000   \nmax         4.190200e+05  459020.000000   1.039664e+06     63.000000   \n\n       yellow_cards            GW  \ncount  15267.000000  15267.000000  \nmean       0.011397     20.972228  \nstd        0.106151     11.541131  \nmin        0.000000      1.000000  \n25%        0.000000     11.000000  \n50%        0.000000     21.000000  \n75%        0.000000     30.000000  \nmax        1.000000     47.000000  \n\n[8 rows x 30 columns]",
      "text/html": "<div>\n<style scoped>\n    .dataframe tbody tr th:only-of-type {\n        vertical-align: middle;\n    }\n\n    .dataframe tbody tr th {\n        vertical-align: top;\n    }\n\n    .dataframe thead th {\n        text-align: right;\n    }\n</style>\n<table border=\"1\" class=\"dataframe\">\n  <thead>\n    <tr style=\"text-align: right;\">\n      <th></th>\n      <th>assists</th>\n      <th>bonus</th>\n      <th>bps</th>\n      <th>clean_sheets</th>\n      <th>creativity</th>\n      <th>element</th>\n      <th>fixture</th>\n      <th>goals_conceded</th>\n      <th>goals_scored</th>\n      <th>ict_index</th>\n      <th>...</th>\n      <th>team_a_score</th>\n      <th>team_h_score</th>\n      <th>threat</th>\n      <th>total_points</th>\n      <th>transfers_balance</th>\n      <th>transfers_in</th>\n      <th>transfers_out</th>\n      <th>value</th>\n      <th>yellow_cards</th>\n      <th>GW</th>\n    </tr>\n  </thead>\n  <tbody>\n    <tr>\n      <th>count</th>\n      <td>15267.000000</td>\n      <td>15267.000000</td>\n      <td>15267.000000</td>\n      <td>15267.000000</td>\n      <td>15267.000000</td>\n      <td>15267.000000</td>\n      <td>15267.000000</td>\n      <td>15267.000000</td>\n      <td>15267.000000</td>\n      <td>15267.000000</td>\n      <td>...</td>\n      <td>15262.000000</td>\n      <td>15262.000000</td>\n      <td>15267.000000</td>\n      <td>15267.000000</td>\n      <td>1.526700e+04</td>\n      <td>15267.000000</td>\n      <td>1.526700e+04</td>\n      <td>15267.000000</td>\n      <td>15267.000000</td>\n      <td>15267.000000</td>\n    </tr>\n    <tr>\n      <th>mean</th>\n      <td>0.000852</td>\n      <td>0.082203</td>\n      <td>5.474553</td>\n      <td>0.084365</td>\n      <td>0.079708</td>\n      <td>332.074998</td>\n      <td>199.043034</td>\n      <td>0.411803</td>\n      <td>0.000066</td>\n      <td>0.675909</td>\n      <td>...</td>\n      <td>1.239811</td>\n      <td>1.502359</td>\n      <td>0.006681</td>\n      <td>1.091308</td>\n      <td>5.298106e+02</td>\n      <td>7336.096679</td>\n      <td>6.806286e+03</td>\n      <td>44.905875</td>\n      <td>0.011397</td>\n      <td>20.972228</td>\n    </tr>\n    <tr>\n      <th>std</th>\n      <td>0.029169</td>\n      <td>0.421938</td>\n      <td>9.313818</td>\n      <td>0.277943</td>\n      <td>0.926182</td>\n      <td>189.028235</td>\n      <td>108.228868</td>\n      <td>0.937661</td>\n      <td>0.008093</td>\n      <td>1.301005</td>\n      <td>...</td>\n      <td>1.215960</td>\n      <td>1.305039</td>\n      <td>0.260923</td>\n      <td>2.273843</td>\n      <td>2.503994e+04</td>\n      <td>22115.549325</td>\n      <td>1.990492e+04</td>\n      <td>4.848968</td>\n      <td>0.106151</td>\n      <td>11.541131</td>\n    </tr>\n    <tr>\n      <th>min</th>\n      <td>0.000000</td>\n      <td>0.000000</td>\n      <td>-7.000000</td>\n      <td>0.000000</td>\n      <td>0.000000</td>\n      <td>1.000000</td>\n      <td>1.000000</td>\n      <td>0.000000</td>\n      <td>0.000000</td>\n      <td>0.000000</td>\n      <td>...</td>\n      <td>0.000000</td>\n      <td>0.000000</td>\n      <td>0.000000</td>\n      <td>-3.000000</td>\n      <td>-1.035061e+06</td>\n      <td>0.000000</td>\n      <td>0.000000e+00</td>\n      <td>39.000000</td>\n      <td>0.000000</td>\n      <td>1.000000</td>\n    </tr>\n    <tr>\n      <th>25%</th>\n      <td>0.000000</td>\n      <td>0.000000</td>\n      <td>0.000000</td>\n      <td>0.000000</td>\n      <td>0.000000</td>\n      <td>166.000000</td>\n      <td>107.000000</td>\n      <td>0.000000</td>\n      <td>0.000000</td>\n      <td>0.000000</td>\n      <td>...</td>\n      <td>0.000000</td>\n      <td>1.000000</td>\n      <td>0.000000</td>\n      <td>0.000000</td>\n      <td>-1.057000e+03</td>\n      <td>49.000000</td>\n      <td>1.390000e+02</td>\n      <td>40.000000</td>\n      <td>0.000000</td>\n      <td>11.000000</td>\n    </tr>\n    <tr>\n      <th>50%</th>\n      <td>0.000000</td>\n      <td>0.000000</td>\n      <td>0.000000</td>\n      <td>0.000000</td>\n      <td>0.000000</td>\n      <td>333.000000</td>\n      <td>203.000000</td>\n      <td>0.000000</td>\n      <td>0.000000</td>\n      <td>0.000000</td>\n      <td>...</td>\n      <td>1.000000</td>\n      <td>1.000000</td>\n      <td>0.000000</td>\n      <td>0.000000</td>\n      <td>-7.200000e+01</td>\n      <td>331.000000</td>\n      <td>8.720000e+02</td>\n      <td>44.000000</td>\n      <td>0.000000</td>\n      <td>21.000000</td>\n    </tr>\n    <tr>\n      <th>75%</th>\n      <td>0.000000</td>\n      <td>0.000000</td>\n      <td>11.000000</td>\n      <td>0.000000</td>\n      <td>0.000000</td>\n      <td>506.000000</td>\n      <td>293.000000</td>\n      <td>0.000000</td>\n      <td>0.000000</td>\n      <td>0.900000</td>\n      <td>...</td>\n      <td>2.000000</td>\n      <td>2.000000</td>\n      <td>0.000000</td>\n      <td>1.000000</td>\n      <td>7.850000e+01</td>\n      <td>4437.500000</td>\n      <td>6.439000e+03</td>\n      <td>48.000000</td>\n      <td>0.000000</td>\n      <td>30.000000</td>\n    </tr>\n    <tr>\n      <th>max</th>\n      <td>1.000000</td>\n      <td>3.000000</td>\n      <td>54.000000</td>\n      <td>1.000000</td>\n      <td>30.000000</td>\n      <td>708.000000</td>\n      <td>380.000000</td>\n      <td>9.000000</td>\n      <td>1.000000</td>\n      <td>10.300000</td>\n      <td>...</td>\n      <td>9.000000</td>\n      <td>9.000000</td>\n      <td>18.000000</td>\n      <td>17.000000</td>\n      <td>4.190200e+05</td>\n      <td>459020.000000</td>\n      <td>1.039664e+06</td>\n      <td>63.000000</td>\n      <td>1.000000</td>\n      <td>47.000000</td>\n    </tr>\n  </tbody>\n</table>\n<p>8 rows × 30 columns</p>\n</div>"
     },
     "execution_count": 7,
     "metadata": {},
     "output_type": "execute_result"
    }
   ],
   "source": [
    "data_gk.describe()"
   ],
   "metadata": {
    "collapsed": false,
    "pycharm": {
     "name": "#%%\n"
    }
   }
  },
  {
   "cell_type": "code",
   "execution_count": 8,
   "outputs": [],
   "source": [
    "drop_features_gk = ['assists', 'creativity', 'goals_scored', 'ict_index', 'own_goals', 'penalties_missed', 'red_cards', 'threat', 'yellow_cards']"
   ],
   "metadata": {
    "collapsed": false,
    "pycharm": {
     "name": "#%%\n"
    }
   }
  },
  {
   "cell_type": "code",
   "execution_count": 9,
   "outputs": [
    {
     "data": {
      "text/plain": "            assists         bonus           bps  clean_sheets    creativity  \\\ncount  47611.000000  47611.000000  47611.000000  47611.000000  47611.000000   \nmean       0.025540      0.099998      6.959148      0.111088      3.384966   \nstd        0.166821      0.456991      9.874363      0.314244      8.466178   \nmin        0.000000      0.000000    -12.000000      0.000000      0.000000   \n25%        0.000000      0.000000      0.000000      0.000000      0.000000   \n50%        0.000000      0.000000      0.000000      0.000000      0.000000   \n75%        0.000000      0.000000     13.000000      0.000000      1.300000   \nmax        3.000000      3.000000     75.000000      1.000000    109.500000   \n\n            element       fixture  goals_conceded  goals_scored     ict_index  \\\ncount  47611.000000  47611.000000    47611.000000  47611.000000  47611.000000   \nmean     302.160866    197.046964        0.548382      0.016950      1.426072   \nstd      179.302312    109.321642        1.028448      0.131663      2.263910   \nmin        1.000000      1.000000        0.000000      0.000000      0.000000   \n25%      148.000000    103.000000        0.000000      0.000000      0.000000   \n50%      300.000000    201.000000        0.000000      0.000000      0.000000   \n75%      446.000000    292.000000        1.000000      0.000000      2.400000   \nmax      730.000000    380.000000        9.000000      2.000000     22.800000   \n\n       ...  team_a_score  team_h_score        threat  total_points  \\\ncount  ...  47586.000000  47586.000000  47611.000000  47611.000000   \nmean   ...      1.241773      1.505506      2.933482      1.290878   \nstd    ...      1.219413      1.304715      8.129947      2.504407   \nmin    ...      0.000000      0.000000      0.000000     -7.000000   \n25%    ...      0.000000      1.000000      0.000000      0.000000   \n50%    ...      1.000000      1.000000      0.000000      0.000000   \n75%    ...      2.000000      2.000000      1.000000      1.000000   \nmax    ...      9.000000      9.000000    152.000000     24.000000   \n\n       transfers_balance   transfers_in  transfers_out         value  \\\ncount       4.761100e+04   47611.000000   4.761100e+04  47611.000000   \nmean        6.671422e+02    9150.101783   8.482334e+03     46.704039   \nstd         3.699204e+04   31749.682901   2.771543e+04      6.213925   \nmin        -1.012731e+06       0.000000   0.000000e+00     37.000000   \n25%        -1.400000e+03      54.000000   1.710000e+02     43.000000   \n50%        -7.400000e+01     436.000000   1.185000e+03     45.000000   \n75%         1.670000e+02    4179.000000   6.036500e+03     50.000000   \nmax         9.350820e+05  941215.000000   1.025064e+06     85.000000   \n\n       yellow_cards            GW  \ncount  47611.000000  47611.000000  \nmean       0.063746     20.743022  \nstd        0.244302     11.633362  \nmin        0.000000      1.000000  \n25%        0.000000     11.000000  \n50%        0.000000     21.000000  \n75%        0.000000     30.000000  \nmax        1.000000     47.000000  \n\n[8 rows x 30 columns]",
      "text/html": "<div>\n<style scoped>\n    .dataframe tbody tr th:only-of-type {\n        vertical-align: middle;\n    }\n\n    .dataframe tbody tr th {\n        vertical-align: top;\n    }\n\n    .dataframe thead th {\n        text-align: right;\n    }\n</style>\n<table border=\"1\" class=\"dataframe\">\n  <thead>\n    <tr style=\"text-align: right;\">\n      <th></th>\n      <th>assists</th>\n      <th>bonus</th>\n      <th>bps</th>\n      <th>clean_sheets</th>\n      <th>creativity</th>\n      <th>element</th>\n      <th>fixture</th>\n      <th>goals_conceded</th>\n      <th>goals_scored</th>\n      <th>ict_index</th>\n      <th>...</th>\n      <th>team_a_score</th>\n      <th>team_h_score</th>\n      <th>threat</th>\n      <th>total_points</th>\n      <th>transfers_balance</th>\n      <th>transfers_in</th>\n      <th>transfers_out</th>\n      <th>value</th>\n      <th>yellow_cards</th>\n      <th>GW</th>\n    </tr>\n  </thead>\n  <tbody>\n    <tr>\n      <th>count</th>\n      <td>47611.000000</td>\n      <td>47611.000000</td>\n      <td>47611.000000</td>\n      <td>47611.000000</td>\n      <td>47611.000000</td>\n      <td>47611.000000</td>\n      <td>47611.000000</td>\n      <td>47611.000000</td>\n      <td>47611.000000</td>\n      <td>47611.000000</td>\n      <td>...</td>\n      <td>47586.000000</td>\n      <td>47586.000000</td>\n      <td>47611.000000</td>\n      <td>47611.000000</td>\n      <td>4.761100e+04</td>\n      <td>47611.000000</td>\n      <td>4.761100e+04</td>\n      <td>47611.000000</td>\n      <td>47611.000000</td>\n      <td>47611.000000</td>\n    </tr>\n    <tr>\n      <th>mean</th>\n      <td>0.025540</td>\n      <td>0.099998</td>\n      <td>6.959148</td>\n      <td>0.111088</td>\n      <td>3.384966</td>\n      <td>302.160866</td>\n      <td>197.046964</td>\n      <td>0.548382</td>\n      <td>0.016950</td>\n      <td>1.426072</td>\n      <td>...</td>\n      <td>1.241773</td>\n      <td>1.505506</td>\n      <td>2.933482</td>\n      <td>1.290878</td>\n      <td>6.671422e+02</td>\n      <td>9150.101783</td>\n      <td>8.482334e+03</td>\n      <td>46.704039</td>\n      <td>0.063746</td>\n      <td>20.743022</td>\n    </tr>\n    <tr>\n      <th>std</th>\n      <td>0.166821</td>\n      <td>0.456991</td>\n      <td>9.874363</td>\n      <td>0.314244</td>\n      <td>8.466178</td>\n      <td>179.302312</td>\n      <td>109.321642</td>\n      <td>1.028448</td>\n      <td>0.131663</td>\n      <td>2.263910</td>\n      <td>...</td>\n      <td>1.219413</td>\n      <td>1.304715</td>\n      <td>8.129947</td>\n      <td>2.504407</td>\n      <td>3.699204e+04</td>\n      <td>31749.682901</td>\n      <td>2.771543e+04</td>\n      <td>6.213925</td>\n      <td>0.244302</td>\n      <td>11.633362</td>\n    </tr>\n    <tr>\n      <th>min</th>\n      <td>0.000000</td>\n      <td>0.000000</td>\n      <td>-12.000000</td>\n      <td>0.000000</td>\n      <td>0.000000</td>\n      <td>1.000000</td>\n      <td>1.000000</td>\n      <td>0.000000</td>\n      <td>0.000000</td>\n      <td>0.000000</td>\n      <td>...</td>\n      <td>0.000000</td>\n      <td>0.000000</td>\n      <td>0.000000</td>\n      <td>-7.000000</td>\n      <td>-1.012731e+06</td>\n      <td>0.000000</td>\n      <td>0.000000e+00</td>\n      <td>37.000000</td>\n      <td>0.000000</td>\n      <td>1.000000</td>\n    </tr>\n    <tr>\n      <th>25%</th>\n      <td>0.000000</td>\n      <td>0.000000</td>\n      <td>0.000000</td>\n      <td>0.000000</td>\n      <td>0.000000</td>\n      <td>148.000000</td>\n      <td>103.000000</td>\n      <td>0.000000</td>\n      <td>0.000000</td>\n      <td>0.000000</td>\n      <td>...</td>\n      <td>0.000000</td>\n      <td>1.000000</td>\n      <td>0.000000</td>\n      <td>0.000000</td>\n      <td>-1.400000e+03</td>\n      <td>54.000000</td>\n      <td>1.710000e+02</td>\n      <td>43.000000</td>\n      <td>0.000000</td>\n      <td>11.000000</td>\n    </tr>\n    <tr>\n      <th>50%</th>\n      <td>0.000000</td>\n      <td>0.000000</td>\n      <td>0.000000</td>\n      <td>0.000000</td>\n      <td>0.000000</td>\n      <td>300.000000</td>\n      <td>201.000000</td>\n      <td>0.000000</td>\n      <td>0.000000</td>\n      <td>0.000000</td>\n      <td>...</td>\n      <td>1.000000</td>\n      <td>1.000000</td>\n      <td>0.000000</td>\n      <td>0.000000</td>\n      <td>-7.400000e+01</td>\n      <td>436.000000</td>\n      <td>1.185000e+03</td>\n      <td>45.000000</td>\n      <td>0.000000</td>\n      <td>21.000000</td>\n    </tr>\n    <tr>\n      <th>75%</th>\n      <td>0.000000</td>\n      <td>0.000000</td>\n      <td>13.000000</td>\n      <td>0.000000</td>\n      <td>1.300000</td>\n      <td>446.000000</td>\n      <td>292.000000</td>\n      <td>1.000000</td>\n      <td>0.000000</td>\n      <td>2.400000</td>\n      <td>...</td>\n      <td>2.000000</td>\n      <td>2.000000</td>\n      <td>1.000000</td>\n      <td>1.000000</td>\n      <td>1.670000e+02</td>\n      <td>4179.000000</td>\n      <td>6.036500e+03</td>\n      <td>50.000000</td>\n      <td>0.000000</td>\n      <td>30.000000</td>\n    </tr>\n    <tr>\n      <th>max</th>\n      <td>3.000000</td>\n      <td>3.000000</td>\n      <td>75.000000</td>\n      <td>1.000000</td>\n      <td>109.500000</td>\n      <td>730.000000</td>\n      <td>380.000000</td>\n      <td>9.000000</td>\n      <td>2.000000</td>\n      <td>22.800000</td>\n      <td>...</td>\n      <td>9.000000</td>\n      <td>9.000000</td>\n      <td>152.000000</td>\n      <td>24.000000</td>\n      <td>9.350820e+05</td>\n      <td>941215.000000</td>\n      <td>1.025064e+06</td>\n      <td>85.000000</td>\n      <td>1.000000</td>\n      <td>47.000000</td>\n    </tr>\n  </tbody>\n</table>\n<p>8 rows × 30 columns</p>\n</div>"
     },
     "execution_count": 9,
     "metadata": {},
     "output_type": "execute_result"
    }
   ],
   "source": [
    "data_def.describe()"
   ],
   "metadata": {
    "collapsed": false,
    "pycharm": {
     "name": "#%%\n"
    }
   }
  },
  {
   "cell_type": "code",
   "execution_count": 10,
   "outputs": [],
   "source": [
    "drop_features_def = ['own_goals', 'penalties_missed', 'penalties_saved', 'red_cards', 'saves']"
   ],
   "metadata": {
    "collapsed": false,
    "pycharm": {
     "name": "#%%\n"
    }
   }
  },
  {
   "cell_type": "code",
   "execution_count": 11,
   "outputs": [
    {
     "data": {
      "text/plain": "            assists         bonus           bps  clean_sheets    creativity  \\\ncount  57922.000000  57922.000000  57922.000000  57922.000000  57922.000000   \nmean       0.056507      0.093885      5.719157      0.108784      7.119506   \nstd        0.253225      0.463168      9.237676      0.311371     13.381443   \nmin        0.000000      0.000000    -14.000000      0.000000      0.000000   \n25%        0.000000      0.000000      0.000000      0.000000      0.000000   \n50%        0.000000      0.000000      0.000000      0.000000      0.000000   \n75%        0.000000      0.000000      9.000000      0.000000     10.700000   \nmax        4.000000      3.000000     93.000000      1.000000    170.900000   \n\n            element       fixture  goals_conceded  goals_scored     ict_index  \\\ncount  57922.000000  57922.000000    57922.000000  57922.000000  57922.000000   \nmean     308.469528    198.174735        0.488243      0.054090      2.059801   \nstd      180.338521    109.328979        0.944814      0.251359      3.466613   \nmin        1.000000      1.000000        0.000000      0.000000      0.000000   \n25%      155.000000    104.000000        0.000000      0.000000      0.000000   \n50%      301.000000    202.000000        0.000000      0.000000      0.000000   \n75%      458.000000    293.000000        1.000000      0.000000      3.000000   \nmax      737.000000    380.000000        9.000000      4.000000     35.800000   \n\n       ...  team_a_score  team_h_score        threat  total_points  \\\ncount  ...  57900.000000  57900.000000  57922.000000  57922.000000   \nmean   ...      1.247237      1.519326      6.587376      1.398104   \nstd    ...      1.224810      1.317185     14.375928      2.470625   \nmin    ...      0.000000      0.000000      0.000000     -2.000000   \n25%    ...      0.000000      1.000000      0.000000      0.000000   \n50%    ...      1.000000      1.000000      0.000000      0.000000   \n75%    ...      2.000000      2.000000      6.000000      2.000000   \nmax    ...      9.000000      9.000000    181.000000     29.000000   \n\n       transfers_balance  transfers_in  transfers_out         value  \\\ncount       5.792200e+04  5.792200e+04   5.792200e+04  57922.000000   \nmean        9.341700e+02  1.053914e+04   9.604768e+03     54.150616   \nstd         5.435454e+04  4.686353e+04   3.950957e+04     13.225818   \nmin        -1.857821e+06  0.000000e+00   0.000000e+00     40.000000   \n25%        -8.600000e+02  2.700000e+01   6.600000e+01     45.000000   \n50%        -4.600000e+01  2.050000e+02   5.600000e+02     50.000000   \n75%         1.100000e+01  2.345000e+03   4.295000e+03     57.000000   \nmax         1.907229e+06  1.991731e+06   1.872898e+06    136.000000   \n\n       yellow_cards            GW  \ncount  57922.000000  57922.000000  \nmean       0.059632     20.866994  \nstd        0.236806     11.638579  \nmin        0.000000      1.000000  \n25%        0.000000     11.000000  \n50%        0.000000     21.000000  \n75%        0.000000     30.000000  \nmax        1.000000     47.000000  \n\n[8 rows x 30 columns]",
      "text/html": "<div>\n<style scoped>\n    .dataframe tbody tr th:only-of-type {\n        vertical-align: middle;\n    }\n\n    .dataframe tbody tr th {\n        vertical-align: top;\n    }\n\n    .dataframe thead th {\n        text-align: right;\n    }\n</style>\n<table border=\"1\" class=\"dataframe\">\n  <thead>\n    <tr style=\"text-align: right;\">\n      <th></th>\n      <th>assists</th>\n      <th>bonus</th>\n      <th>bps</th>\n      <th>clean_sheets</th>\n      <th>creativity</th>\n      <th>element</th>\n      <th>fixture</th>\n      <th>goals_conceded</th>\n      <th>goals_scored</th>\n      <th>ict_index</th>\n      <th>...</th>\n      <th>team_a_score</th>\n      <th>team_h_score</th>\n      <th>threat</th>\n      <th>total_points</th>\n      <th>transfers_balance</th>\n      <th>transfers_in</th>\n      <th>transfers_out</th>\n      <th>value</th>\n      <th>yellow_cards</th>\n      <th>GW</th>\n    </tr>\n  </thead>\n  <tbody>\n    <tr>\n      <th>count</th>\n      <td>57922.000000</td>\n      <td>57922.000000</td>\n      <td>57922.000000</td>\n      <td>57922.000000</td>\n      <td>57922.000000</td>\n      <td>57922.000000</td>\n      <td>57922.000000</td>\n      <td>57922.000000</td>\n      <td>57922.000000</td>\n      <td>57922.000000</td>\n      <td>...</td>\n      <td>57900.000000</td>\n      <td>57900.000000</td>\n      <td>57922.000000</td>\n      <td>57922.000000</td>\n      <td>5.792200e+04</td>\n      <td>5.792200e+04</td>\n      <td>5.792200e+04</td>\n      <td>57922.000000</td>\n      <td>57922.000000</td>\n      <td>57922.000000</td>\n    </tr>\n    <tr>\n      <th>mean</th>\n      <td>0.056507</td>\n      <td>0.093885</td>\n      <td>5.719157</td>\n      <td>0.108784</td>\n      <td>7.119506</td>\n      <td>308.469528</td>\n      <td>198.174735</td>\n      <td>0.488243</td>\n      <td>0.054090</td>\n      <td>2.059801</td>\n      <td>...</td>\n      <td>1.247237</td>\n      <td>1.519326</td>\n      <td>6.587376</td>\n      <td>1.398104</td>\n      <td>9.341700e+02</td>\n      <td>1.053914e+04</td>\n      <td>9.604768e+03</td>\n      <td>54.150616</td>\n      <td>0.059632</td>\n      <td>20.866994</td>\n    </tr>\n    <tr>\n      <th>std</th>\n      <td>0.253225</td>\n      <td>0.463168</td>\n      <td>9.237676</td>\n      <td>0.311371</td>\n      <td>13.381443</td>\n      <td>180.338521</td>\n      <td>109.328979</td>\n      <td>0.944814</td>\n      <td>0.251359</td>\n      <td>3.466613</td>\n      <td>...</td>\n      <td>1.224810</td>\n      <td>1.317185</td>\n      <td>14.375928</td>\n      <td>2.470625</td>\n      <td>5.435454e+04</td>\n      <td>4.686353e+04</td>\n      <td>3.950957e+04</td>\n      <td>13.225818</td>\n      <td>0.236806</td>\n      <td>11.638579</td>\n    </tr>\n    <tr>\n      <th>min</th>\n      <td>0.000000</td>\n      <td>0.000000</td>\n      <td>-14.000000</td>\n      <td>0.000000</td>\n      <td>0.000000</td>\n      <td>1.000000</td>\n      <td>1.000000</td>\n      <td>0.000000</td>\n      <td>0.000000</td>\n      <td>0.000000</td>\n      <td>...</td>\n      <td>0.000000</td>\n      <td>0.000000</td>\n      <td>0.000000</td>\n      <td>-2.000000</td>\n      <td>-1.857821e+06</td>\n      <td>0.000000e+00</td>\n      <td>0.000000e+00</td>\n      <td>40.000000</td>\n      <td>0.000000</td>\n      <td>1.000000</td>\n    </tr>\n    <tr>\n      <th>25%</th>\n      <td>0.000000</td>\n      <td>0.000000</td>\n      <td>0.000000</td>\n      <td>0.000000</td>\n      <td>0.000000</td>\n      <td>155.000000</td>\n      <td>104.000000</td>\n      <td>0.000000</td>\n      <td>0.000000</td>\n      <td>0.000000</td>\n      <td>...</td>\n      <td>0.000000</td>\n      <td>1.000000</td>\n      <td>0.000000</td>\n      <td>0.000000</td>\n      <td>-8.600000e+02</td>\n      <td>2.700000e+01</td>\n      <td>6.600000e+01</td>\n      <td>45.000000</td>\n      <td>0.000000</td>\n      <td>11.000000</td>\n    </tr>\n    <tr>\n      <th>50%</th>\n      <td>0.000000</td>\n      <td>0.000000</td>\n      <td>0.000000</td>\n      <td>0.000000</td>\n      <td>0.000000</td>\n      <td>301.000000</td>\n      <td>202.000000</td>\n      <td>0.000000</td>\n      <td>0.000000</td>\n      <td>0.000000</td>\n      <td>...</td>\n      <td>1.000000</td>\n      <td>1.000000</td>\n      <td>0.000000</td>\n      <td>0.000000</td>\n      <td>-4.600000e+01</td>\n      <td>2.050000e+02</td>\n      <td>5.600000e+02</td>\n      <td>50.000000</td>\n      <td>0.000000</td>\n      <td>21.000000</td>\n    </tr>\n    <tr>\n      <th>75%</th>\n      <td>0.000000</td>\n      <td>0.000000</td>\n      <td>9.000000</td>\n      <td>0.000000</td>\n      <td>10.700000</td>\n      <td>458.000000</td>\n      <td>293.000000</td>\n      <td>1.000000</td>\n      <td>0.000000</td>\n      <td>3.000000</td>\n      <td>...</td>\n      <td>2.000000</td>\n      <td>2.000000</td>\n      <td>6.000000</td>\n      <td>2.000000</td>\n      <td>1.100000e+01</td>\n      <td>2.345000e+03</td>\n      <td>4.295000e+03</td>\n      <td>57.000000</td>\n      <td>0.000000</td>\n      <td>30.000000</td>\n    </tr>\n    <tr>\n      <th>max</th>\n      <td>4.000000</td>\n      <td>3.000000</td>\n      <td>93.000000</td>\n      <td>1.000000</td>\n      <td>170.900000</td>\n      <td>737.000000</td>\n      <td>380.000000</td>\n      <td>9.000000</td>\n      <td>4.000000</td>\n      <td>35.800000</td>\n      <td>...</td>\n      <td>9.000000</td>\n      <td>9.000000</td>\n      <td>181.000000</td>\n      <td>29.000000</td>\n      <td>1.907229e+06</td>\n      <td>1.991731e+06</td>\n      <td>1.872898e+06</td>\n      <td>136.000000</td>\n      <td>1.000000</td>\n      <td>47.000000</td>\n    </tr>\n  </tbody>\n</table>\n<p>8 rows × 30 columns</p>\n</div>"
     },
     "execution_count": 11,
     "metadata": {},
     "output_type": "execute_result"
    }
   ],
   "source": [
    "data_mid.describe()"
   ],
   "metadata": {
    "collapsed": false,
    "pycharm": {
     "name": "#%%\n"
    }
   }
  },
  {
   "cell_type": "code",
   "execution_count": 12,
   "outputs": [],
   "source": [
    "drop_features_mid = ['own_goals', 'penalties_missed', 'penalties_saved', 'red_cards', 'saves']"
   ],
   "metadata": {
    "collapsed": false,
    "pycharm": {
     "name": "#%%\n"
    }
   }
  },
  {
   "cell_type": "code",
   "execution_count": 13,
   "outputs": [
    {
     "data": {
      "text/plain": "            assists         bonus           bps  clean_sheets    creativity  \\\ncount  19508.000000  19508.000000  19508.000000  19508.000000  19508.000000   \nmean       0.051825      0.161882      4.733084      0.087144      4.573139   \nstd        0.242655      0.617526     11.029191      0.282053      9.063182   \nmin        0.000000      0.000000    -19.000000      0.000000      0.000000   \n25%        0.000000      0.000000      0.000000      0.000000      0.000000   \n50%        0.000000      0.000000      0.000000      0.000000      0.000000   \n75%        0.000000      0.000000      3.000000      0.000000      3.800000   \nmax        4.000000      3.000000    128.000000      1.000000     92.000000   \n\n            element       fixture  goals_conceded  goals_scored     ict_index  \\\ncount  19508.000000  19508.000000    19508.000000  19508.000000  19508.000000   \nmean     320.552286    198.745694        0.432489      0.109596      2.210801   \nstd      185.651113    109.087114        0.891628      0.367440      3.959847   \nmin        4.000000      1.000000        0.000000      0.000000      0.000000   \n25%      153.000000    105.000000        0.000000      0.000000      0.000000   \n50%      327.000000    203.000000        0.000000      0.000000      0.000000   \n75%      480.000000    294.000000        1.000000      0.000000      3.000000   \nmax      735.000000    380.000000        9.000000      4.000000     31.500000   \n\n       ...  team_a_score  team_h_score        threat  total_points  \\\ncount  ...  19501.000000  19501.000000  19508.000000  19508.000000   \nmean   ...      1.229937      1.507666     11.464835      1.453660   \nstd    ...      1.212308      1.290997     21.433914      2.707575   \nmin    ...      0.000000      0.000000      0.000000     -2.000000   \n25%    ...      0.000000      1.000000      0.000000      0.000000   \n50%    ...      1.000000      1.000000      0.000000      0.000000   \n75%    ...      2.000000      2.000000     16.000000      2.000000   \nmax    ...      9.000000      9.000000    199.000000     24.000000   \n\n       transfers_balance  transfers_in  transfers_out         value  \\\ncount       1.950800e+04  1.950800e+04   1.950800e+04  19508.000000   \nmean        1.849246e+03  2.020592e+04   1.835548e+04     60.694484   \nstd         7.775192e+04  6.638475e+04   5.686969e+04     17.119851   \nmin        -1.734284e+06  0.000000e+00   0.000000e+00     42.000000   \n25%        -2.237750e+03  8.000000e+01   2.407500e+02     49.000000   \n50%        -9.500000e+01  8.375000e+02   1.878500e+03     56.000000   \n75%         1.280000e+02  8.450000e+03   1.197575e+04     65.000000   \nmax         1.983733e+06  2.104464e+06   1.782662e+06    132.000000   \n\n       yellow_cards            GW  \ncount  19508.000000  19508.000000  \nmean       0.039984     20.916752  \nstd        0.195926     11.603276  \nmin        0.000000      1.000000  \n25%        0.000000     11.000000  \n50%        0.000000     21.000000  \n75%        0.000000     30.000000  \nmax        1.000000     47.000000  \n\n[8 rows x 30 columns]",
      "text/html": "<div>\n<style scoped>\n    .dataframe tbody tr th:only-of-type {\n        vertical-align: middle;\n    }\n\n    .dataframe tbody tr th {\n        vertical-align: top;\n    }\n\n    .dataframe thead th {\n        text-align: right;\n    }\n</style>\n<table border=\"1\" class=\"dataframe\">\n  <thead>\n    <tr style=\"text-align: right;\">\n      <th></th>\n      <th>assists</th>\n      <th>bonus</th>\n      <th>bps</th>\n      <th>clean_sheets</th>\n      <th>creativity</th>\n      <th>element</th>\n      <th>fixture</th>\n      <th>goals_conceded</th>\n      <th>goals_scored</th>\n      <th>ict_index</th>\n      <th>...</th>\n      <th>team_a_score</th>\n      <th>team_h_score</th>\n      <th>threat</th>\n      <th>total_points</th>\n      <th>transfers_balance</th>\n      <th>transfers_in</th>\n      <th>transfers_out</th>\n      <th>value</th>\n      <th>yellow_cards</th>\n      <th>GW</th>\n    </tr>\n  </thead>\n  <tbody>\n    <tr>\n      <th>count</th>\n      <td>19508.000000</td>\n      <td>19508.000000</td>\n      <td>19508.000000</td>\n      <td>19508.000000</td>\n      <td>19508.000000</td>\n      <td>19508.000000</td>\n      <td>19508.000000</td>\n      <td>19508.000000</td>\n      <td>19508.000000</td>\n      <td>19508.000000</td>\n      <td>...</td>\n      <td>19501.000000</td>\n      <td>19501.000000</td>\n      <td>19508.000000</td>\n      <td>19508.000000</td>\n      <td>1.950800e+04</td>\n      <td>1.950800e+04</td>\n      <td>1.950800e+04</td>\n      <td>19508.000000</td>\n      <td>19508.000000</td>\n      <td>19508.000000</td>\n    </tr>\n    <tr>\n      <th>mean</th>\n      <td>0.051825</td>\n      <td>0.161882</td>\n      <td>4.733084</td>\n      <td>0.087144</td>\n      <td>4.573139</td>\n      <td>320.552286</td>\n      <td>198.745694</td>\n      <td>0.432489</td>\n      <td>0.109596</td>\n      <td>2.210801</td>\n      <td>...</td>\n      <td>1.229937</td>\n      <td>1.507666</td>\n      <td>11.464835</td>\n      <td>1.453660</td>\n      <td>1.849246e+03</td>\n      <td>2.020592e+04</td>\n      <td>1.835548e+04</td>\n      <td>60.694484</td>\n      <td>0.039984</td>\n      <td>20.916752</td>\n    </tr>\n    <tr>\n      <th>std</th>\n      <td>0.242655</td>\n      <td>0.617526</td>\n      <td>11.029191</td>\n      <td>0.282053</td>\n      <td>9.063182</td>\n      <td>185.651113</td>\n      <td>109.087114</td>\n      <td>0.891628</td>\n      <td>0.367440</td>\n      <td>3.959847</td>\n      <td>...</td>\n      <td>1.212308</td>\n      <td>1.290997</td>\n      <td>21.433914</td>\n      <td>2.707575</td>\n      <td>7.775192e+04</td>\n      <td>6.638475e+04</td>\n      <td>5.686969e+04</td>\n      <td>17.119851</td>\n      <td>0.195926</td>\n      <td>11.603276</td>\n    </tr>\n    <tr>\n      <th>min</th>\n      <td>0.000000</td>\n      <td>0.000000</td>\n      <td>-19.000000</td>\n      <td>0.000000</td>\n      <td>0.000000</td>\n      <td>4.000000</td>\n      <td>1.000000</td>\n      <td>0.000000</td>\n      <td>0.000000</td>\n      <td>0.000000</td>\n      <td>...</td>\n      <td>0.000000</td>\n      <td>0.000000</td>\n      <td>0.000000</td>\n      <td>-2.000000</td>\n      <td>-1.734284e+06</td>\n      <td>0.000000e+00</td>\n      <td>0.000000e+00</td>\n      <td>42.000000</td>\n      <td>0.000000</td>\n      <td>1.000000</td>\n    </tr>\n    <tr>\n      <th>25%</th>\n      <td>0.000000</td>\n      <td>0.000000</td>\n      <td>0.000000</td>\n      <td>0.000000</td>\n      <td>0.000000</td>\n      <td>153.000000</td>\n      <td>105.000000</td>\n      <td>0.000000</td>\n      <td>0.000000</td>\n      <td>0.000000</td>\n      <td>...</td>\n      <td>0.000000</td>\n      <td>1.000000</td>\n      <td>0.000000</td>\n      <td>0.000000</td>\n      <td>-2.237750e+03</td>\n      <td>8.000000e+01</td>\n      <td>2.407500e+02</td>\n      <td>49.000000</td>\n      <td>0.000000</td>\n      <td>11.000000</td>\n    </tr>\n    <tr>\n      <th>50%</th>\n      <td>0.000000</td>\n      <td>0.000000</td>\n      <td>0.000000</td>\n      <td>0.000000</td>\n      <td>0.000000</td>\n      <td>327.000000</td>\n      <td>203.000000</td>\n      <td>0.000000</td>\n      <td>0.000000</td>\n      <td>0.000000</td>\n      <td>...</td>\n      <td>1.000000</td>\n      <td>1.000000</td>\n      <td>0.000000</td>\n      <td>0.000000</td>\n      <td>-9.500000e+01</td>\n      <td>8.375000e+02</td>\n      <td>1.878500e+03</td>\n      <td>56.000000</td>\n      <td>0.000000</td>\n      <td>21.000000</td>\n    </tr>\n    <tr>\n      <th>75%</th>\n      <td>0.000000</td>\n      <td>0.000000</td>\n      <td>3.000000</td>\n      <td>0.000000</td>\n      <td>3.800000</td>\n      <td>480.000000</td>\n      <td>294.000000</td>\n      <td>1.000000</td>\n      <td>0.000000</td>\n      <td>3.000000</td>\n      <td>...</td>\n      <td>2.000000</td>\n      <td>2.000000</td>\n      <td>16.000000</td>\n      <td>2.000000</td>\n      <td>1.280000e+02</td>\n      <td>8.450000e+03</td>\n      <td>1.197575e+04</td>\n      <td>65.000000</td>\n      <td>0.000000</td>\n      <td>30.000000</td>\n    </tr>\n    <tr>\n      <th>max</th>\n      <td>4.000000</td>\n      <td>3.000000</td>\n      <td>128.000000</td>\n      <td>1.000000</td>\n      <td>92.000000</td>\n      <td>735.000000</td>\n      <td>380.000000</td>\n      <td>9.000000</td>\n      <td>4.000000</td>\n      <td>31.500000</td>\n      <td>...</td>\n      <td>9.000000</td>\n      <td>9.000000</td>\n      <td>199.000000</td>\n      <td>24.000000</td>\n      <td>1.983733e+06</td>\n      <td>2.104464e+06</td>\n      <td>1.782662e+06</td>\n      <td>132.000000</td>\n      <td>1.000000</td>\n      <td>47.000000</td>\n    </tr>\n  </tbody>\n</table>\n<p>8 rows × 30 columns</p>\n</div>"
     },
     "execution_count": 13,
     "metadata": {},
     "output_type": "execute_result"
    }
   ],
   "source": [
    "data_fwd.describe()"
   ],
   "metadata": {
    "collapsed": false,
    "pycharm": {
     "name": "#%%\n"
    }
   }
  },
  {
   "cell_type": "code",
   "execution_count": 14,
   "outputs": [],
   "source": [
    "drop_features_fwd = ['clean_sheets', 'goals_conceded', 'own_goals', 'penalties_missed', 'penalties_saved', 'red_cards', 'saves']"
   ],
   "metadata": {
    "collapsed": false,
    "pycharm": {
     "name": "#%%\n"
    }
   }
  },
  {
   "cell_type": "markdown",
   "source": [
    "### Drop features and save data to intermediate folder"
   ],
   "metadata": {
    "collapsed": false,
    "pycharm": {
     "name": "#%% md\n"
    }
   }
  },
  {
   "cell_type": "code",
   "execution_count": 15,
   "outputs": [],
   "source": [
    "data_gk = data_gk.drop(drop_features_gk, axis=1)\n",
    "data_def = data_def.drop(drop_features_def, axis=1)\n",
    "data_mid = data_mid.drop(drop_features_mid, axis=1)\n",
    "data_fwd = data_fwd.drop(drop_features_fwd, axis=1)"
   ],
   "metadata": {
    "collapsed": false,
    "pycharm": {
     "name": "#%%\n"
    }
   }
  },
  {
   "cell_type": "code",
   "execution_count": 16,
   "outputs": [],
   "source": [
    "data_intermediate_path = os.path.dirname(os.getcwd()) + '\\\\data\\\\intermediate\\\\'"
   ],
   "metadata": {
    "collapsed": false,
    "pycharm": {
     "name": "#%%\n"
    }
   }
  },
  {
   "cell_type": "code",
   "execution_count": 17,
   "outputs": [],
   "source": [
    "data_gk.to_csv(data_intermediate_path + 'separate/gk_full.csv', index=False)\n",
    "data_def.to_csv(data_intermediate_path + 'separate/def_full.csv', index=False)\n",
    "data_mid.to_csv(data_intermediate_path + 'separate/mid_full.csv', index=False)\n",
    "data_fwd.to_csv(data_intermediate_path + 'separate/fwd_full.csv', index=False)"
   ],
   "metadata": {
    "collapsed": false,
    "pycharm": {
     "name": "#%%\n"
    }
   }
  },
  {
   "cell_type": "markdown",
   "source": [
    "## Separate data for GK and Field players"
   ],
   "metadata": {
    "collapsed": false,
    "pycharm": {
     "name": "#%% md\n"
    }
   }
  },
  {
   "cell_type": "code",
   "execution_count": 18,
   "outputs": [
    {
     "name": "stdout",
     "output_type": "stream",
     "text": [
      "GK len: 15267\n",
      "Field players: 125041\n"
     ]
    }
   ],
   "source": [
    "data_field_players = data.drop(data_gk.index)\n",
    "print('GK len:', len(data_gk))\n",
    "print('Field players:', len(data_field_players))"
   ],
   "metadata": {
    "collapsed": false,
    "pycharm": {
     "name": "#%%\n"
    }
   }
  },
  {
   "cell_type": "code",
   "execution_count": 19,
   "outputs": [],
   "source": [
    "drop_features_field = ['own_goals', 'penalties_missed', 'penalties_saved', 'red_cards', 'saves']\n",
    "data_field_players = data_field_players.drop(drop_features_field, axis=1)"
   ],
   "metadata": {
    "collapsed": false,
    "pycharm": {
     "name": "#%%\n"
    }
   }
  },
  {
   "cell_type": "code",
   "execution_count": 20,
   "outputs": [],
   "source": [
    "data_field_players.to_csv(data_intermediate_path + 'separate/field_full.csv', index=False)"
   ],
   "metadata": {
    "collapsed": false,
    "pycharm": {
     "name": "#%%\n"
    }
   }
  },
  {
   "cell_type": "code",
   "execution_count": null,
   "outputs": [],
   "source": [],
   "metadata": {
    "collapsed": false,
    "pycharm": {
     "name": "#%%\n"
    }
   }
  }
 ],
 "metadata": {
  "kernelspec": {
   "display_name": "Python 3",
   "language": "python",
   "name": "python3"
  },
  "language_info": {
   "codemirror_mode": {
    "name": "ipython",
    "version": 2
   },
   "file_extension": ".py",
   "mimetype": "text/x-python",
   "name": "python",
   "nbconvert_exporter": "python",
   "pygments_lexer": "ipython2",
   "version": "2.7.6"
  }
 },
 "nbformat": 4,
 "nbformat_minor": 0
}