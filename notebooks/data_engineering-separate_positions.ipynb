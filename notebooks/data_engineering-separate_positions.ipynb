{
 "cells": [
  {
   "cell_type": "markdown",
   "source": [
    "# Separate data into different positions and do feature selection in order to train different models"
   ],
   "metadata": {
    "collapsed": false,
    "pycharm": {
     "name": "#%% md\n"
    }
   }
  },
  {
   "cell_type": "code",
   "execution_count": 45,
   "outputs": [],
   "source": [
    "import os\n",
    "from src.features.data_engineering import get_merged_seasons_data"
   ],
   "metadata": {
    "collapsed": false,
    "pycharm": {
     "name": "#%%\n"
    }
   }
  },
  {
   "cell_type": "code",
   "execution_count": 46,
   "outputs": [],
   "source": [
    "data = get_merged_seasons_data()"
   ],
   "metadata": {
    "collapsed": false,
    "pycharm": {
     "name": "#%%\n"
    }
   }
  },
  {
   "cell_type": "markdown",
   "source": [
    "## Separate data into different positions"
   ],
   "metadata": {
    "collapsed": false,
    "pycharm": {
     "name": "#%% md\n"
    }
   }
  },
  {
   "cell_type": "code",
   "execution_count": 47,
   "outputs": [],
   "source": [
    "data_gk = data[data['position'] == 'GK']\n",
    "data_def = data[data['position'] == 'DEF']\n",
    "data_mid = data[data['position'] == 'MID']\n",
    "data_fwd = data[data['position'] == 'FWD']"
   ],
   "metadata": {
    "collapsed": false,
    "pycharm": {
     "name": "#%%\n"
    }
   }
  },
  {
   "cell_type": "code",
   "execution_count": 48,
   "outputs": [
    {
     "name": "stdout",
     "output_type": "stream",
     "text": [
      "GK len: 14504\n",
      "DEF len: 45353\n",
      "MID len: 55126\n",
      "FWD len: 18615\n"
     ]
    }
   ],
   "source": [
    "print('GK len:', len(data_gk))\n",
    "print('DEF len:', len(data_def))\n",
    "print('MID len:', len(data_mid))\n",
    "print('FWD len:', len(data_fwd))"
   ],
   "metadata": {
    "collapsed": false,
    "pycharm": {
     "name": "#%%\n"
    }
   }
  },
  {
   "cell_type": "markdown",
   "source": [
    "## Feature selection for different positions"
   ],
   "metadata": {
    "collapsed": false,
    "pycharm": {
     "name": "#%% md\n"
    }
   }
  },
  {
   "cell_type": "code",
   "execution_count": 49,
   "outputs": [
    {
     "data": {
      "text/plain": "Index(['name', 'assists', 'bonus', 'bps', 'clean_sheets', 'creativity',\n       'element', 'fixture', 'goals_conceded', 'goals_scored', 'ict_index',\n       'influence', 'kickoff_time', 'minutes', 'opponent_team', 'own_goals',\n       'penalties_missed', 'penalties_saved', 'red_cards', 'round', 'saves',\n       'selected', 'team_a_score', 'team_h_score', 'threat', 'total_points',\n       'transfers_balance', 'transfers_in', 'transfers_out', 'value',\n       'was_home', 'yellow_cards', 'GW', 'position', 'season'],\n      dtype='object')"
     },
     "execution_count": 49,
     "metadata": {},
     "output_type": "execute_result"
    }
   ],
   "source": [
    "# preview columns from data\n",
    "data.columns"
   ],
   "metadata": {
    "collapsed": false,
    "pycharm": {
     "name": "#%%\n"
    }
   }
  },
  {
   "cell_type": "markdown",
   "source": [
    "Remember about so called 'target features':\n",
    "- (['name', 'GW', 'element', 'total_points_next_gameweek', 'season'])\n",
    "\n",
    "And about features dropped during preprocessing:\n",
    "- (['fixture', 'kickoff_time', 'opponent_team', 'round', 'transfers_balance', 'was_home'])"
   ],
   "metadata": {
    "collapsed": false,
    "pycharm": {
     "name": "#%% md\n"
    }
   }
  },
  {
   "cell_type": "markdown",
   "source": [
    "### Select features to drop"
   ],
   "metadata": {
    "collapsed": false,
    "pycharm": {
     "name": "#%% md\n"
    }
   }
  },
  {
   "cell_type": "code",
   "execution_count": 50,
   "outputs": [
    {
     "data": {
      "text/plain": "            assists         bonus           bps  clean_sheets    creativity  \\\ncount  14504.000000  14504.000000  14504.000000  14504.000000  14504.000000   \nmean       0.000896      0.083149      5.535990      0.085494      0.081833   \nstd        0.029926      0.423872      9.355694      0.279625      0.939281   \nmin        0.000000      0.000000     -7.000000      0.000000      0.000000   \n25%        0.000000      0.000000      0.000000      0.000000      0.000000   \n50%        0.000000      0.000000      0.000000      0.000000      0.000000   \n75%        0.000000      0.000000     11.000000      0.000000      0.000000   \nmax        1.000000      3.000000     54.000000      1.000000     30.000000   \n\n            element       fixture  goals_conceded  goals_scored     ict_index  \\\ncount  14504.000000  14504.000000    14504.000000  14504.000000  14504.000000   \nmean     329.473318    192.275510        0.414782      0.000069      0.686025   \nstd      187.487637    106.365156        0.938966      0.008303      1.308831   \nmin        1.000000      1.000000        0.000000      0.000000      0.000000   \n25%      165.000000    102.000000        0.000000      0.000000      0.000000   \n50%      329.000000    194.000000        0.000000      0.000000      0.000000   \n75%      495.000000    281.000000        0.000000      0.000000      1.000000   \nmax      708.000000    380.000000        9.000000      1.000000     10.300000   \n\n       ...  team_a_score  team_h_score        threat  total_points  \\\ncount  ...  14499.000000  14499.000000  14504.000000  14504.000000   \nmean   ...      1.234223      1.496862      0.007033      1.104592   \nstd    ...      1.205719      1.306483      0.267694      2.286974   \nmin    ...      0.000000      0.000000      0.000000     -3.000000   \n25%    ...      0.000000      1.000000      0.000000      0.000000   \n50%    ...      1.000000      1.000000      0.000000      0.000000   \n75%    ...      2.000000      2.000000      0.000000      1.000000   \nmax    ...      9.000000      9.000000     18.000000     17.000000   \n\n       transfers_balance   transfers_in  transfers_out         value  \\\ncount       1.450400e+04   14504.000000   1.450400e+04  14504.000000   \nmean        4.984468e+02    7382.392581   6.883946e+03     44.969388   \nstd         2.526136e+04   22281.962485   2.017316e+04      4.820750   \nmin        -1.035061e+06       0.000000   0.000000e+00     39.000000   \n25%        -1.089000e+03      50.000000   1.410000e+02     40.000000   \n50%        -7.600000e+01     337.000000   8.965000e+02     44.000000   \n75%         7.500000e+01    4468.750000   6.557500e+03     48.000000   \nmax         4.190200e+05  459020.000000   1.039664e+06     63.000000   \n\n       yellow_cards            GW  \ncount  14504.000000  14504.000000  \nmean       0.011514     20.256481  \nstd        0.106688     11.388042  \nmin        0.000000      1.000000  \n25%        0.000000     11.000000  \n50%        0.000000     20.000000  \n75%        0.000000     29.000000  \nmax        1.000000     47.000000  \n\n[8 rows x 30 columns]",
      "text/html": "<div>\n<style scoped>\n    .dataframe tbody tr th:only-of-type {\n        vertical-align: middle;\n    }\n\n    .dataframe tbody tr th {\n        vertical-align: top;\n    }\n\n    .dataframe thead th {\n        text-align: right;\n    }\n</style>\n<table border=\"1\" class=\"dataframe\">\n  <thead>\n    <tr style=\"text-align: right;\">\n      <th></th>\n      <th>assists</th>\n      <th>bonus</th>\n      <th>bps</th>\n      <th>clean_sheets</th>\n      <th>creativity</th>\n      <th>element</th>\n      <th>fixture</th>\n      <th>goals_conceded</th>\n      <th>goals_scored</th>\n      <th>ict_index</th>\n      <th>...</th>\n      <th>team_a_score</th>\n      <th>team_h_score</th>\n      <th>threat</th>\n      <th>total_points</th>\n      <th>transfers_balance</th>\n      <th>transfers_in</th>\n      <th>transfers_out</th>\n      <th>value</th>\n      <th>yellow_cards</th>\n      <th>GW</th>\n    </tr>\n  </thead>\n  <tbody>\n    <tr>\n      <th>count</th>\n      <td>14504.000000</td>\n      <td>14504.000000</td>\n      <td>14504.000000</td>\n      <td>14504.000000</td>\n      <td>14504.000000</td>\n      <td>14504.000000</td>\n      <td>14504.000000</td>\n      <td>14504.000000</td>\n      <td>14504.000000</td>\n      <td>14504.000000</td>\n      <td>...</td>\n      <td>14499.000000</td>\n      <td>14499.000000</td>\n      <td>14504.000000</td>\n      <td>14504.000000</td>\n      <td>1.450400e+04</td>\n      <td>14504.000000</td>\n      <td>1.450400e+04</td>\n      <td>14504.000000</td>\n      <td>14504.000000</td>\n      <td>14504.000000</td>\n    </tr>\n    <tr>\n      <th>mean</th>\n      <td>0.000896</td>\n      <td>0.083149</td>\n      <td>5.535990</td>\n      <td>0.085494</td>\n      <td>0.081833</td>\n      <td>329.473318</td>\n      <td>192.275510</td>\n      <td>0.414782</td>\n      <td>0.000069</td>\n      <td>0.686025</td>\n      <td>...</td>\n      <td>1.234223</td>\n      <td>1.496862</td>\n      <td>0.007033</td>\n      <td>1.104592</td>\n      <td>4.984468e+02</td>\n      <td>7382.392581</td>\n      <td>6.883946e+03</td>\n      <td>44.969388</td>\n      <td>0.011514</td>\n      <td>20.256481</td>\n    </tr>\n    <tr>\n      <th>std</th>\n      <td>0.029926</td>\n      <td>0.423872</td>\n      <td>9.355694</td>\n      <td>0.279625</td>\n      <td>0.939281</td>\n      <td>187.487637</td>\n      <td>106.365156</td>\n      <td>0.938966</td>\n      <td>0.008303</td>\n      <td>1.308831</td>\n      <td>...</td>\n      <td>1.205719</td>\n      <td>1.306483</td>\n      <td>0.267694</td>\n      <td>2.286974</td>\n      <td>2.526136e+04</td>\n      <td>22281.962485</td>\n      <td>2.017316e+04</td>\n      <td>4.820750</td>\n      <td>0.106688</td>\n      <td>11.388042</td>\n    </tr>\n    <tr>\n      <th>min</th>\n      <td>0.000000</td>\n      <td>0.000000</td>\n      <td>-7.000000</td>\n      <td>0.000000</td>\n      <td>0.000000</td>\n      <td>1.000000</td>\n      <td>1.000000</td>\n      <td>0.000000</td>\n      <td>0.000000</td>\n      <td>0.000000</td>\n      <td>...</td>\n      <td>0.000000</td>\n      <td>0.000000</td>\n      <td>0.000000</td>\n      <td>-3.000000</td>\n      <td>-1.035061e+06</td>\n      <td>0.000000</td>\n      <td>0.000000e+00</td>\n      <td>39.000000</td>\n      <td>0.000000</td>\n      <td>1.000000</td>\n    </tr>\n    <tr>\n      <th>25%</th>\n      <td>0.000000</td>\n      <td>0.000000</td>\n      <td>0.000000</td>\n      <td>0.000000</td>\n      <td>0.000000</td>\n      <td>165.000000</td>\n      <td>102.000000</td>\n      <td>0.000000</td>\n      <td>0.000000</td>\n      <td>0.000000</td>\n      <td>...</td>\n      <td>0.000000</td>\n      <td>1.000000</td>\n      <td>0.000000</td>\n      <td>0.000000</td>\n      <td>-1.089000e+03</td>\n      <td>50.000000</td>\n      <td>1.410000e+02</td>\n      <td>40.000000</td>\n      <td>0.000000</td>\n      <td>11.000000</td>\n    </tr>\n    <tr>\n      <th>50%</th>\n      <td>0.000000</td>\n      <td>0.000000</td>\n      <td>0.000000</td>\n      <td>0.000000</td>\n      <td>0.000000</td>\n      <td>329.000000</td>\n      <td>194.000000</td>\n      <td>0.000000</td>\n      <td>0.000000</td>\n      <td>0.000000</td>\n      <td>...</td>\n      <td>1.000000</td>\n      <td>1.000000</td>\n      <td>0.000000</td>\n      <td>0.000000</td>\n      <td>-7.600000e+01</td>\n      <td>337.000000</td>\n      <td>8.965000e+02</td>\n      <td>44.000000</td>\n      <td>0.000000</td>\n      <td>20.000000</td>\n    </tr>\n    <tr>\n      <th>75%</th>\n      <td>0.000000</td>\n      <td>0.000000</td>\n      <td>11.000000</td>\n      <td>0.000000</td>\n      <td>0.000000</td>\n      <td>495.000000</td>\n      <td>281.000000</td>\n      <td>0.000000</td>\n      <td>0.000000</td>\n      <td>1.000000</td>\n      <td>...</td>\n      <td>2.000000</td>\n      <td>2.000000</td>\n      <td>0.000000</td>\n      <td>1.000000</td>\n      <td>7.500000e+01</td>\n      <td>4468.750000</td>\n      <td>6.557500e+03</td>\n      <td>48.000000</td>\n      <td>0.000000</td>\n      <td>29.000000</td>\n    </tr>\n    <tr>\n      <th>max</th>\n      <td>1.000000</td>\n      <td>3.000000</td>\n      <td>54.000000</td>\n      <td>1.000000</td>\n      <td>30.000000</td>\n      <td>708.000000</td>\n      <td>380.000000</td>\n      <td>9.000000</td>\n      <td>1.000000</td>\n      <td>10.300000</td>\n      <td>...</td>\n      <td>9.000000</td>\n      <td>9.000000</td>\n      <td>18.000000</td>\n      <td>17.000000</td>\n      <td>4.190200e+05</td>\n      <td>459020.000000</td>\n      <td>1.039664e+06</td>\n      <td>63.000000</td>\n      <td>1.000000</td>\n      <td>47.000000</td>\n    </tr>\n  </tbody>\n</table>\n<p>8 rows × 30 columns</p>\n</div>"
     },
     "execution_count": 50,
     "metadata": {},
     "output_type": "execute_result"
    }
   ],
   "source": [
    "data_gk.describe()"
   ],
   "metadata": {
    "collapsed": false,
    "pycharm": {
     "name": "#%%\n"
    }
   }
  },
  {
   "cell_type": "code",
   "execution_count": 51,
   "outputs": [],
   "source": [
    "drop_features_gk = ['assists', 'creativity', 'goals_scored', 'ict_index', 'own_goals', 'penalties_missed', 'red_cards', 'threat', 'yellow_cards']"
   ],
   "metadata": {
    "collapsed": false,
    "pycharm": {
     "name": "#%%\n"
    }
   }
  },
  {
   "cell_type": "code",
   "execution_count": 52,
   "outputs": [
    {
     "data": {
      "text/plain": "            assists         bonus           bps  clean_sheets    creativity  \\\ncount  45353.000000  45353.000000  45353.000000  45353.000000  45353.000000   \nmean       0.025842      0.101118      7.015920      0.112209      3.417029   \nstd        0.167980      0.459563      9.905467      0.315626      8.498592   \nmin        0.000000      0.000000    -12.000000      0.000000      0.000000   \n25%        0.000000      0.000000      0.000000      0.000000      0.000000   \n50%        0.000000      0.000000      0.000000      0.000000      0.000000   \n75%        0.000000      0.000000     13.000000      0.000000      1.300000   \nmax        3.000000      3.000000     75.000000      1.000000    109.500000   \n\n            element       fixture  goals_conceded  goals_scored     ict_index  \\\ncount  45353.000000  45353.000000    45353.000000  45353.000000  45353.000000   \nmean     299.456464    190.515534        0.550636      0.016846      1.441501   \nstd      177.287403    107.499723        1.028436      0.131407      2.269528   \nmin        1.000000      1.000000        0.000000      0.000000      0.000000   \n25%      146.000000     98.000000        0.000000      0.000000      0.000000   \n50%      297.000000    192.000000        0.000000      0.000000      0.000000   \n75%      443.000000    281.000000        1.000000      0.000000      2.400000   \nmax      713.000000    380.000000        9.000000      2.000000     22.800000   \n\n       ...  team_a_score  team_h_score        threat  total_points  \\\ncount  ...  45328.000000  45328.000000  45353.000000  45353.000000   \nmean   ...      1.236785      1.500441      2.954909      1.300928   \nstd    ...      1.209492      1.305887      8.143801      2.512014   \nmin    ...      0.000000      0.000000      0.000000     -7.000000   \n25%    ...      0.000000      1.000000      0.000000      0.000000   \n50%    ...      1.000000      1.000000      0.000000      0.000000   \n75%    ...      2.000000      2.000000      2.000000      1.000000   \nmax    ...      9.000000      9.000000    152.000000     24.000000   \n\n       transfers_balance   transfers_in  transfers_out         value  \\\ncount       4.535300e+04   45353.000000   4.535300e+04  45353.000000   \nmean        6.462538e+02    9168.141093   8.521231e+03     46.786034   \nstd         3.700206e+04   31944.028488   2.767015e+04      6.209284   \nmin        -1.012731e+06       0.000000   0.000000e+00     37.000000   \n25%        -1.451000e+03      55.000000   1.810000e+02     43.000000   \n50%        -8.300000e+01     442.000000   1.216000e+03     45.000000   \n75%         1.590000e+02    4163.000000   6.120000e+03     50.000000   \nmax         9.350820e+05  941215.000000   1.025064e+06     85.000000   \n\n       yellow_cards            GW  \ncount  45353.000000  45353.000000  \nmean       0.064384     20.053337  \nstd        0.245438     11.480167  \nmin        0.000000      1.000000  \n25%        0.000000     10.000000  \n50%        0.000000     20.000000  \n75%        0.000000     29.000000  \nmax        1.000000     47.000000  \n\n[8 rows x 30 columns]",
      "text/html": "<div>\n<style scoped>\n    .dataframe tbody tr th:only-of-type {\n        vertical-align: middle;\n    }\n\n    .dataframe tbody tr th {\n        vertical-align: top;\n    }\n\n    .dataframe thead th {\n        text-align: right;\n    }\n</style>\n<table border=\"1\" class=\"dataframe\">\n  <thead>\n    <tr style=\"text-align: right;\">\n      <th></th>\n      <th>assists</th>\n      <th>bonus</th>\n      <th>bps</th>\n      <th>clean_sheets</th>\n      <th>creativity</th>\n      <th>element</th>\n      <th>fixture</th>\n      <th>goals_conceded</th>\n      <th>goals_scored</th>\n      <th>ict_index</th>\n      <th>...</th>\n      <th>team_a_score</th>\n      <th>team_h_score</th>\n      <th>threat</th>\n      <th>total_points</th>\n      <th>transfers_balance</th>\n      <th>transfers_in</th>\n      <th>transfers_out</th>\n      <th>value</th>\n      <th>yellow_cards</th>\n      <th>GW</th>\n    </tr>\n  </thead>\n  <tbody>\n    <tr>\n      <th>count</th>\n      <td>45353.000000</td>\n      <td>45353.000000</td>\n      <td>45353.000000</td>\n      <td>45353.000000</td>\n      <td>45353.000000</td>\n      <td>45353.000000</td>\n      <td>45353.000000</td>\n      <td>45353.000000</td>\n      <td>45353.000000</td>\n      <td>45353.000000</td>\n      <td>...</td>\n      <td>45328.000000</td>\n      <td>45328.000000</td>\n      <td>45353.000000</td>\n      <td>45353.000000</td>\n      <td>4.535300e+04</td>\n      <td>45353.000000</td>\n      <td>4.535300e+04</td>\n      <td>45353.000000</td>\n      <td>45353.000000</td>\n      <td>45353.000000</td>\n    </tr>\n    <tr>\n      <th>mean</th>\n      <td>0.025842</td>\n      <td>0.101118</td>\n      <td>7.015920</td>\n      <td>0.112209</td>\n      <td>3.417029</td>\n      <td>299.456464</td>\n      <td>190.515534</td>\n      <td>0.550636</td>\n      <td>0.016846</td>\n      <td>1.441501</td>\n      <td>...</td>\n      <td>1.236785</td>\n      <td>1.500441</td>\n      <td>2.954909</td>\n      <td>1.300928</td>\n      <td>6.462538e+02</td>\n      <td>9168.141093</td>\n      <td>8.521231e+03</td>\n      <td>46.786034</td>\n      <td>0.064384</td>\n      <td>20.053337</td>\n    </tr>\n    <tr>\n      <th>std</th>\n      <td>0.167980</td>\n      <td>0.459563</td>\n      <td>9.905467</td>\n      <td>0.315626</td>\n      <td>8.498592</td>\n      <td>177.287403</td>\n      <td>107.499723</td>\n      <td>1.028436</td>\n      <td>0.131407</td>\n      <td>2.269528</td>\n      <td>...</td>\n      <td>1.209492</td>\n      <td>1.305887</td>\n      <td>8.143801</td>\n      <td>2.512014</td>\n      <td>3.700206e+04</td>\n      <td>31944.028488</td>\n      <td>2.767015e+04</td>\n      <td>6.209284</td>\n      <td>0.245438</td>\n      <td>11.480167</td>\n    </tr>\n    <tr>\n      <th>min</th>\n      <td>0.000000</td>\n      <td>0.000000</td>\n      <td>-12.000000</td>\n      <td>0.000000</td>\n      <td>0.000000</td>\n      <td>1.000000</td>\n      <td>1.000000</td>\n      <td>0.000000</td>\n      <td>0.000000</td>\n      <td>0.000000</td>\n      <td>...</td>\n      <td>0.000000</td>\n      <td>0.000000</td>\n      <td>0.000000</td>\n      <td>-7.000000</td>\n      <td>-1.012731e+06</td>\n      <td>0.000000</td>\n      <td>0.000000e+00</td>\n      <td>37.000000</td>\n      <td>0.000000</td>\n      <td>1.000000</td>\n    </tr>\n    <tr>\n      <th>25%</th>\n      <td>0.000000</td>\n      <td>0.000000</td>\n      <td>0.000000</td>\n      <td>0.000000</td>\n      <td>0.000000</td>\n      <td>146.000000</td>\n      <td>98.000000</td>\n      <td>0.000000</td>\n      <td>0.000000</td>\n      <td>0.000000</td>\n      <td>...</td>\n      <td>0.000000</td>\n      <td>1.000000</td>\n      <td>0.000000</td>\n      <td>0.000000</td>\n      <td>-1.451000e+03</td>\n      <td>55.000000</td>\n      <td>1.810000e+02</td>\n      <td>43.000000</td>\n      <td>0.000000</td>\n      <td>10.000000</td>\n    </tr>\n    <tr>\n      <th>50%</th>\n      <td>0.000000</td>\n      <td>0.000000</td>\n      <td>0.000000</td>\n      <td>0.000000</td>\n      <td>0.000000</td>\n      <td>297.000000</td>\n      <td>192.000000</td>\n      <td>0.000000</td>\n      <td>0.000000</td>\n      <td>0.000000</td>\n      <td>...</td>\n      <td>1.000000</td>\n      <td>1.000000</td>\n      <td>0.000000</td>\n      <td>0.000000</td>\n      <td>-8.300000e+01</td>\n      <td>442.000000</td>\n      <td>1.216000e+03</td>\n      <td>45.000000</td>\n      <td>0.000000</td>\n      <td>20.000000</td>\n    </tr>\n    <tr>\n      <th>75%</th>\n      <td>0.000000</td>\n      <td>0.000000</td>\n      <td>13.000000</td>\n      <td>0.000000</td>\n      <td>1.300000</td>\n      <td>443.000000</td>\n      <td>281.000000</td>\n      <td>1.000000</td>\n      <td>0.000000</td>\n      <td>2.400000</td>\n      <td>...</td>\n      <td>2.000000</td>\n      <td>2.000000</td>\n      <td>2.000000</td>\n      <td>1.000000</td>\n      <td>1.590000e+02</td>\n      <td>4163.000000</td>\n      <td>6.120000e+03</td>\n      <td>50.000000</td>\n      <td>0.000000</td>\n      <td>29.000000</td>\n    </tr>\n    <tr>\n      <th>max</th>\n      <td>3.000000</td>\n      <td>3.000000</td>\n      <td>75.000000</td>\n      <td>1.000000</td>\n      <td>109.500000</td>\n      <td>713.000000</td>\n      <td>380.000000</td>\n      <td>9.000000</td>\n      <td>2.000000</td>\n      <td>22.800000</td>\n      <td>...</td>\n      <td>9.000000</td>\n      <td>9.000000</td>\n      <td>152.000000</td>\n      <td>24.000000</td>\n      <td>9.350820e+05</td>\n      <td>941215.000000</td>\n      <td>1.025064e+06</td>\n      <td>85.000000</td>\n      <td>1.000000</td>\n      <td>47.000000</td>\n    </tr>\n  </tbody>\n</table>\n<p>8 rows × 30 columns</p>\n</div>"
     },
     "execution_count": 52,
     "metadata": {},
     "output_type": "execute_result"
    }
   ],
   "source": [
    "data_def.describe()"
   ],
   "metadata": {
    "collapsed": false,
    "pycharm": {
     "name": "#%%\n"
    }
   }
  },
  {
   "cell_type": "code",
   "execution_count": 53,
   "outputs": [],
   "source": [
    "drop_features_def = ['own_goals', 'penalties_missed', 'penalties_saved', 'red_cards', 'saves']"
   ],
   "metadata": {
    "collapsed": false,
    "pycharm": {
     "name": "#%%\n"
    }
   }
  },
  {
   "cell_type": "code",
   "execution_count": 54,
   "outputs": [
    {
     "data": {
      "text/plain": "            assists         bonus           bps  clean_sheets    creativity  \\\ncount  55126.000000  55126.000000  55126.000000  55126.000000  55126.000000   \nmean       0.056833      0.094148      5.767968      0.109894      7.213297   \nstd        0.253803      0.463828      9.253016      0.312760     13.457418   \nmin        0.000000      0.000000    -14.000000      0.000000      0.000000   \n25%        0.000000      0.000000      0.000000      0.000000      0.000000   \n50%        0.000000      0.000000      0.000000      0.000000      0.000000   \n75%        0.000000      0.000000      9.000000      0.000000     10.900000   \nmax        4.000000      3.000000     93.000000      1.000000    170.900000   \n\n            element       fixture  goals_conceded  goals_scored     ict_index  \\\ncount  55126.000000  55126.000000    55126.000000  55126.000000  55126.000000   \nmean     305.888728    191.580379        0.491202      0.054185      2.085564   \nstd      177.974122    107.540642        0.945799      0.251080      3.482679   \nmin        1.000000      1.000000        0.000000      0.000000      0.000000   \n25%      155.000000    100.000000        0.000000      0.000000      0.000000   \n50%      299.000000    194.000000        0.000000      0.000000      0.000000   \n75%      453.000000    282.000000        1.000000      0.000000      3.100000   \nmax      714.000000    380.000000        9.000000      4.000000     35.800000   \n\n       ...  team_a_score  team_h_score        threat  total_points  \\\ncount  ...  55104.000000  55104.000000  55126.000000  55126.000000   \nmean   ...      1.241870      1.514845      6.663643      1.406451   \nstd    ...      1.215104      1.318324     14.457536      2.469952   \nmin    ...      0.000000      0.000000      0.000000     -2.000000   \n25%    ...      0.000000      1.000000      0.000000      0.000000   \n50%    ...      1.000000      1.000000      0.000000      0.000000   \n75%    ...      2.000000      2.000000      6.000000      2.000000   \nmax    ...      9.000000      9.000000    181.000000     29.000000   \n\n       transfers_balance  transfers_in  transfers_out         value  \\\ncount       5.512600e+04  5.512600e+04   5.512600e+04  55126.000000   \nmean        9.089597e+02  1.061898e+04   9.709814e+03     54.208540   \nstd         5.475263e+04  4.719898e+04   3.984044e+04     13.250668   \nmin        -1.857821e+06  0.000000e+00   0.000000e+00     40.000000   \n25%        -8.960000e+02  2.800000e+01   7.100000e+01     45.000000   \n50%        -5.000000e+01  2.130000e+02   5.835000e+02     50.000000   \n75%         1.000000e+01  2.383750e+03   4.388750e+03     58.000000   \nmax         1.907229e+06  1.991731e+06   1.872898e+06    136.000000   \n\n       yellow_cards            GW  \ncount  55126.000000  55126.000000  \nmean       0.060461     20.169884  \nstd        0.238342     11.489364  \nmin        0.000000      1.000000  \n25%        0.000000     10.000000  \n50%        0.000000     20.000000  \n75%        0.000000     29.000000  \nmax        1.000000     47.000000  \n\n[8 rows x 30 columns]",
      "text/html": "<div>\n<style scoped>\n    .dataframe tbody tr th:only-of-type {\n        vertical-align: middle;\n    }\n\n    .dataframe tbody tr th {\n        vertical-align: top;\n    }\n\n    .dataframe thead th {\n        text-align: right;\n    }\n</style>\n<table border=\"1\" class=\"dataframe\">\n  <thead>\n    <tr style=\"text-align: right;\">\n      <th></th>\n      <th>assists</th>\n      <th>bonus</th>\n      <th>bps</th>\n      <th>clean_sheets</th>\n      <th>creativity</th>\n      <th>element</th>\n      <th>fixture</th>\n      <th>goals_conceded</th>\n      <th>goals_scored</th>\n      <th>ict_index</th>\n      <th>...</th>\n      <th>team_a_score</th>\n      <th>team_h_score</th>\n      <th>threat</th>\n      <th>total_points</th>\n      <th>transfers_balance</th>\n      <th>transfers_in</th>\n      <th>transfers_out</th>\n      <th>value</th>\n      <th>yellow_cards</th>\n      <th>GW</th>\n    </tr>\n  </thead>\n  <tbody>\n    <tr>\n      <th>count</th>\n      <td>55126.000000</td>\n      <td>55126.000000</td>\n      <td>55126.000000</td>\n      <td>55126.000000</td>\n      <td>55126.000000</td>\n      <td>55126.000000</td>\n      <td>55126.000000</td>\n      <td>55126.000000</td>\n      <td>55126.000000</td>\n      <td>55126.000000</td>\n      <td>...</td>\n      <td>55104.000000</td>\n      <td>55104.000000</td>\n      <td>55126.000000</td>\n      <td>55126.000000</td>\n      <td>5.512600e+04</td>\n      <td>5.512600e+04</td>\n      <td>5.512600e+04</td>\n      <td>55126.000000</td>\n      <td>55126.000000</td>\n      <td>55126.000000</td>\n    </tr>\n    <tr>\n      <th>mean</th>\n      <td>0.056833</td>\n      <td>0.094148</td>\n      <td>5.767968</td>\n      <td>0.109894</td>\n      <td>7.213297</td>\n      <td>305.888728</td>\n      <td>191.580379</td>\n      <td>0.491202</td>\n      <td>0.054185</td>\n      <td>2.085564</td>\n      <td>...</td>\n      <td>1.241870</td>\n      <td>1.514845</td>\n      <td>6.663643</td>\n      <td>1.406451</td>\n      <td>9.089597e+02</td>\n      <td>1.061898e+04</td>\n      <td>9.709814e+03</td>\n      <td>54.208540</td>\n      <td>0.060461</td>\n      <td>20.169884</td>\n    </tr>\n    <tr>\n      <th>std</th>\n      <td>0.253803</td>\n      <td>0.463828</td>\n      <td>9.253016</td>\n      <td>0.312760</td>\n      <td>13.457418</td>\n      <td>177.974122</td>\n      <td>107.540642</td>\n      <td>0.945799</td>\n      <td>0.251080</td>\n      <td>3.482679</td>\n      <td>...</td>\n      <td>1.215104</td>\n      <td>1.318324</td>\n      <td>14.457536</td>\n      <td>2.469952</td>\n      <td>5.475263e+04</td>\n      <td>4.719898e+04</td>\n      <td>3.984044e+04</td>\n      <td>13.250668</td>\n      <td>0.238342</td>\n      <td>11.489364</td>\n    </tr>\n    <tr>\n      <th>min</th>\n      <td>0.000000</td>\n      <td>0.000000</td>\n      <td>-14.000000</td>\n      <td>0.000000</td>\n      <td>0.000000</td>\n      <td>1.000000</td>\n      <td>1.000000</td>\n      <td>0.000000</td>\n      <td>0.000000</td>\n      <td>0.000000</td>\n      <td>...</td>\n      <td>0.000000</td>\n      <td>0.000000</td>\n      <td>0.000000</td>\n      <td>-2.000000</td>\n      <td>-1.857821e+06</td>\n      <td>0.000000e+00</td>\n      <td>0.000000e+00</td>\n      <td>40.000000</td>\n      <td>0.000000</td>\n      <td>1.000000</td>\n    </tr>\n    <tr>\n      <th>25%</th>\n      <td>0.000000</td>\n      <td>0.000000</td>\n      <td>0.000000</td>\n      <td>0.000000</td>\n      <td>0.000000</td>\n      <td>155.000000</td>\n      <td>100.000000</td>\n      <td>0.000000</td>\n      <td>0.000000</td>\n      <td>0.000000</td>\n      <td>...</td>\n      <td>0.000000</td>\n      <td>1.000000</td>\n      <td>0.000000</td>\n      <td>0.000000</td>\n      <td>-8.960000e+02</td>\n      <td>2.800000e+01</td>\n      <td>7.100000e+01</td>\n      <td>45.000000</td>\n      <td>0.000000</td>\n      <td>10.000000</td>\n    </tr>\n    <tr>\n      <th>50%</th>\n      <td>0.000000</td>\n      <td>0.000000</td>\n      <td>0.000000</td>\n      <td>0.000000</td>\n      <td>0.000000</td>\n      <td>299.000000</td>\n      <td>194.000000</td>\n      <td>0.000000</td>\n      <td>0.000000</td>\n      <td>0.000000</td>\n      <td>...</td>\n      <td>1.000000</td>\n      <td>1.000000</td>\n      <td>0.000000</td>\n      <td>0.000000</td>\n      <td>-5.000000e+01</td>\n      <td>2.130000e+02</td>\n      <td>5.835000e+02</td>\n      <td>50.000000</td>\n      <td>0.000000</td>\n      <td>20.000000</td>\n    </tr>\n    <tr>\n      <th>75%</th>\n      <td>0.000000</td>\n      <td>0.000000</td>\n      <td>9.000000</td>\n      <td>0.000000</td>\n      <td>10.900000</td>\n      <td>453.000000</td>\n      <td>282.000000</td>\n      <td>1.000000</td>\n      <td>0.000000</td>\n      <td>3.100000</td>\n      <td>...</td>\n      <td>2.000000</td>\n      <td>2.000000</td>\n      <td>6.000000</td>\n      <td>2.000000</td>\n      <td>1.000000e+01</td>\n      <td>2.383750e+03</td>\n      <td>4.388750e+03</td>\n      <td>58.000000</td>\n      <td>0.000000</td>\n      <td>29.000000</td>\n    </tr>\n    <tr>\n      <th>max</th>\n      <td>4.000000</td>\n      <td>3.000000</td>\n      <td>93.000000</td>\n      <td>1.000000</td>\n      <td>170.900000</td>\n      <td>714.000000</td>\n      <td>380.000000</td>\n      <td>9.000000</td>\n      <td>4.000000</td>\n      <td>35.800000</td>\n      <td>...</td>\n      <td>9.000000</td>\n      <td>9.000000</td>\n      <td>181.000000</td>\n      <td>29.000000</td>\n      <td>1.907229e+06</td>\n      <td>1.991731e+06</td>\n      <td>1.872898e+06</td>\n      <td>136.000000</td>\n      <td>1.000000</td>\n      <td>47.000000</td>\n    </tr>\n  </tbody>\n</table>\n<p>8 rows × 30 columns</p>\n</div>"
     },
     "execution_count": 54,
     "metadata": {},
     "output_type": "execute_result"
    }
   ],
   "source": [
    "data_mid.describe()"
   ],
   "metadata": {
    "collapsed": false,
    "pycharm": {
     "name": "#%%\n"
    }
   }
  },
  {
   "cell_type": "code",
   "execution_count": 55,
   "outputs": [],
   "source": [
    "drop_features_mid = ['own_goals', 'penalties_missed', 'penalties_saved', 'red_cards', 'saves']"
   ],
   "metadata": {
    "collapsed": false,
    "pycharm": {
     "name": "#%%\n"
    }
   }
  },
  {
   "cell_type": "code",
   "execution_count": 56,
   "outputs": [
    {
     "data": {
      "text/plain": "            assists         bonus           bps  clean_sheets    creativity  \\\ncount  18615.000000  18615.000000  18615.000000  18615.000000  18615.000000   \nmean       0.052216      0.163309      4.775020      0.088155      4.623717   \nstd        0.243454      0.620014     11.043327      0.283527      9.093162   \nmin        0.000000      0.000000    -19.000000      0.000000      0.000000   \n25%        0.000000      0.000000      0.000000      0.000000      0.000000   \n50%        0.000000      0.000000      0.000000      0.000000      0.000000   \n75%        0.000000      0.000000      4.000000      0.000000      3.900000   \nmax        4.000000      3.000000    114.000000      1.000000     92.000000   \n\n            element       fixture  goals_conceded  goals_scored     ict_index  \\\ncount  18615.000000  18615.000000    18615.000000  18615.000000  18615.000000   \nmean     318.231104    192.584851        0.433253      0.110771      2.237534   \nstd      184.143104    107.460852        0.889658      0.368351      3.971370   \nmin        4.000000      1.000000        0.000000      0.000000      0.000000   \n25%      152.000000    101.000000        0.000000      0.000000      0.000000   \n50%      326.000000    195.000000        0.000000      0.000000      0.000000   \n75%      476.000000    283.000000        1.000000      0.000000      3.000000   \nmax      711.000000    380.000000        9.000000      4.000000     31.100000   \n\n       ...  team_a_score  team_h_score        threat  total_points  \\\ncount  ...  18608.000000  18608.000000  18615.000000  18615.000000   \nmean   ...      1.223828      1.504837     11.604781      1.466882   \nstd    ...      1.201224      1.291700     21.515047      2.713212   \nmin    ...      0.000000      0.000000      0.000000     -2.000000   \n25%    ...      0.000000      1.000000      0.000000      0.000000   \n50%    ...      1.000000      1.000000      0.000000      0.000000   \n75%    ...      2.000000      2.000000     17.000000      2.000000   \nmax    ...      9.000000      9.000000    199.000000     24.000000   \n\n       transfers_balance  transfers_in  transfers_out         value  \\\ncount       1.861500e+04  1.861500e+04   1.861500e+04  18615.000000   \nmean        1.755410e+03  2.016722e+04   1.841057e+04     60.730164   \nstd         7.829593e+04  6.685945e+04   5.747027e+04     17.124864   \nmin        -1.734284e+06  0.000000e+00   0.000000e+00     42.000000   \n25%        -2.258500e+03  8.500000e+01   2.420000e+02     49.000000   \n50%        -1.000000e+02  8.210000e+02   1.862000e+03     56.000000   \n75%         1.115000e+02  8.211000e+03   1.183950e+04     65.000000   \nmax         1.983733e+06  2.104464e+06   1.782662e+06    132.000000   \n\n       yellow_cards            GW  \ncount  18615.000000  18615.000000  \nmean       0.039860     20.259683  \nstd        0.195636     11.463868  \nmin        0.000000      1.000000  \n25%        0.000000     11.000000  \n50%        0.000000     20.000000  \n75%        0.000000     29.000000  \nmax        1.000000     47.000000  \n\n[8 rows x 30 columns]",
      "text/html": "<div>\n<style scoped>\n    .dataframe tbody tr th:only-of-type {\n        vertical-align: middle;\n    }\n\n    .dataframe tbody tr th {\n        vertical-align: top;\n    }\n\n    .dataframe thead th {\n        text-align: right;\n    }\n</style>\n<table border=\"1\" class=\"dataframe\">\n  <thead>\n    <tr style=\"text-align: right;\">\n      <th></th>\n      <th>assists</th>\n      <th>bonus</th>\n      <th>bps</th>\n      <th>clean_sheets</th>\n      <th>creativity</th>\n      <th>element</th>\n      <th>fixture</th>\n      <th>goals_conceded</th>\n      <th>goals_scored</th>\n      <th>ict_index</th>\n      <th>...</th>\n      <th>team_a_score</th>\n      <th>team_h_score</th>\n      <th>threat</th>\n      <th>total_points</th>\n      <th>transfers_balance</th>\n      <th>transfers_in</th>\n      <th>transfers_out</th>\n      <th>value</th>\n      <th>yellow_cards</th>\n      <th>GW</th>\n    </tr>\n  </thead>\n  <tbody>\n    <tr>\n      <th>count</th>\n      <td>18615.000000</td>\n      <td>18615.000000</td>\n      <td>18615.000000</td>\n      <td>18615.000000</td>\n      <td>18615.000000</td>\n      <td>18615.000000</td>\n      <td>18615.000000</td>\n      <td>18615.000000</td>\n      <td>18615.000000</td>\n      <td>18615.000000</td>\n      <td>...</td>\n      <td>18608.000000</td>\n      <td>18608.000000</td>\n      <td>18615.000000</td>\n      <td>18615.000000</td>\n      <td>1.861500e+04</td>\n      <td>1.861500e+04</td>\n      <td>1.861500e+04</td>\n      <td>18615.000000</td>\n      <td>18615.000000</td>\n      <td>18615.000000</td>\n    </tr>\n    <tr>\n      <th>mean</th>\n      <td>0.052216</td>\n      <td>0.163309</td>\n      <td>4.775020</td>\n      <td>0.088155</td>\n      <td>4.623717</td>\n      <td>318.231104</td>\n      <td>192.584851</td>\n      <td>0.433253</td>\n      <td>0.110771</td>\n      <td>2.237534</td>\n      <td>...</td>\n      <td>1.223828</td>\n      <td>1.504837</td>\n      <td>11.604781</td>\n      <td>1.466882</td>\n      <td>1.755410e+03</td>\n      <td>2.016722e+04</td>\n      <td>1.841057e+04</td>\n      <td>60.730164</td>\n      <td>0.039860</td>\n      <td>20.259683</td>\n    </tr>\n    <tr>\n      <th>std</th>\n      <td>0.243454</td>\n      <td>0.620014</td>\n      <td>11.043327</td>\n      <td>0.283527</td>\n      <td>9.093162</td>\n      <td>184.143104</td>\n      <td>107.460852</td>\n      <td>0.889658</td>\n      <td>0.368351</td>\n      <td>3.971370</td>\n      <td>...</td>\n      <td>1.201224</td>\n      <td>1.291700</td>\n      <td>21.515047</td>\n      <td>2.713212</td>\n      <td>7.829593e+04</td>\n      <td>6.685945e+04</td>\n      <td>5.747027e+04</td>\n      <td>17.124864</td>\n      <td>0.195636</td>\n      <td>11.463868</td>\n    </tr>\n    <tr>\n      <th>min</th>\n      <td>0.000000</td>\n      <td>0.000000</td>\n      <td>-19.000000</td>\n      <td>0.000000</td>\n      <td>0.000000</td>\n      <td>4.000000</td>\n      <td>1.000000</td>\n      <td>0.000000</td>\n      <td>0.000000</td>\n      <td>0.000000</td>\n      <td>...</td>\n      <td>0.000000</td>\n      <td>0.000000</td>\n      <td>0.000000</td>\n      <td>-2.000000</td>\n      <td>-1.734284e+06</td>\n      <td>0.000000e+00</td>\n      <td>0.000000e+00</td>\n      <td>42.000000</td>\n      <td>0.000000</td>\n      <td>1.000000</td>\n    </tr>\n    <tr>\n      <th>25%</th>\n      <td>0.000000</td>\n      <td>0.000000</td>\n      <td>0.000000</td>\n      <td>0.000000</td>\n      <td>0.000000</td>\n      <td>152.000000</td>\n      <td>101.000000</td>\n      <td>0.000000</td>\n      <td>0.000000</td>\n      <td>0.000000</td>\n      <td>...</td>\n      <td>0.000000</td>\n      <td>1.000000</td>\n      <td>0.000000</td>\n      <td>0.000000</td>\n      <td>-2.258500e+03</td>\n      <td>8.500000e+01</td>\n      <td>2.420000e+02</td>\n      <td>49.000000</td>\n      <td>0.000000</td>\n      <td>11.000000</td>\n    </tr>\n    <tr>\n      <th>50%</th>\n      <td>0.000000</td>\n      <td>0.000000</td>\n      <td>0.000000</td>\n      <td>0.000000</td>\n      <td>0.000000</td>\n      <td>326.000000</td>\n      <td>195.000000</td>\n      <td>0.000000</td>\n      <td>0.000000</td>\n      <td>0.000000</td>\n      <td>...</td>\n      <td>1.000000</td>\n      <td>1.000000</td>\n      <td>0.000000</td>\n      <td>0.000000</td>\n      <td>-1.000000e+02</td>\n      <td>8.210000e+02</td>\n      <td>1.862000e+03</td>\n      <td>56.000000</td>\n      <td>0.000000</td>\n      <td>20.000000</td>\n    </tr>\n    <tr>\n      <th>75%</th>\n      <td>0.000000</td>\n      <td>0.000000</td>\n      <td>4.000000</td>\n      <td>0.000000</td>\n      <td>3.900000</td>\n      <td>476.000000</td>\n      <td>283.000000</td>\n      <td>1.000000</td>\n      <td>0.000000</td>\n      <td>3.000000</td>\n      <td>...</td>\n      <td>2.000000</td>\n      <td>2.000000</td>\n      <td>17.000000</td>\n      <td>2.000000</td>\n      <td>1.115000e+02</td>\n      <td>8.211000e+03</td>\n      <td>1.183950e+04</td>\n      <td>65.000000</td>\n      <td>0.000000</td>\n      <td>29.000000</td>\n    </tr>\n    <tr>\n      <th>max</th>\n      <td>4.000000</td>\n      <td>3.000000</td>\n      <td>114.000000</td>\n      <td>1.000000</td>\n      <td>92.000000</td>\n      <td>711.000000</td>\n      <td>380.000000</td>\n      <td>9.000000</td>\n      <td>4.000000</td>\n      <td>31.100000</td>\n      <td>...</td>\n      <td>9.000000</td>\n      <td>9.000000</td>\n      <td>199.000000</td>\n      <td>24.000000</td>\n      <td>1.983733e+06</td>\n      <td>2.104464e+06</td>\n      <td>1.782662e+06</td>\n      <td>132.000000</td>\n      <td>1.000000</td>\n      <td>47.000000</td>\n    </tr>\n  </tbody>\n</table>\n<p>8 rows × 30 columns</p>\n</div>"
     },
     "execution_count": 56,
     "metadata": {},
     "output_type": "execute_result"
    }
   ],
   "source": [
    "data_fwd.describe()"
   ],
   "metadata": {
    "collapsed": false,
    "pycharm": {
     "name": "#%%\n"
    }
   }
  },
  {
   "cell_type": "code",
   "execution_count": 57,
   "outputs": [],
   "source": [
    "drop_features_fwd = ['clean_sheets', 'goals_conceded', 'own_goals', 'penalties_missed', 'penalties_saved', 'red_cards', 'saves']"
   ],
   "metadata": {
    "collapsed": false,
    "pycharm": {
     "name": "#%%\n"
    }
   }
  },
  {
   "cell_type": "markdown",
   "source": [
    "### Drop features and save data to intermediate folder"
   ],
   "metadata": {
    "collapsed": false,
    "pycharm": {
     "name": "#%% md\n"
    }
   }
  },
  {
   "cell_type": "code",
   "execution_count": 58,
   "outputs": [],
   "source": [
    "data_gk = data_gk.drop(drop_features_gk, axis=1)\n",
    "data_def = data_def.drop(drop_features_def, axis=1)\n",
    "data_mid = data_mid.drop(drop_features_mid, axis=1)\n",
    "data_fwd = data_fwd.drop(drop_features_fwd, axis=1)"
   ],
   "metadata": {
    "collapsed": false,
    "pycharm": {
     "name": "#%%\n"
    }
   }
  },
  {
   "cell_type": "code",
   "execution_count": 60,
   "outputs": [],
   "source": [
    "data_intermediate_path = os.path.dirname(os.getcwd()) + '\\\\data\\\\intermediate\\\\'\n",
    "\n",
    "data_gk.to_csv(data_intermediate_path + 'separate/gk.csv', index=False)\n",
    "data_def.to_csv(data_intermediate_path + 'separate/def.csv', index=False)\n",
    "data_mid.to_csv(data_intermediate_path + 'separate/mid.csv', index=False)\n",
    "data_fwd.to_csv(data_intermediate_path + 'separate/fwd.csv', index=False)"
   ],
   "metadata": {
    "collapsed": false,
    "pycharm": {
     "name": "#%%\n"
    }
   }
  },
  {
   "cell_type": "code",
   "execution_count": null,
   "outputs": [],
   "source": [],
   "metadata": {
    "collapsed": false,
    "pycharm": {
     "name": "#%%\n"
    }
   }
  }
 ],
 "metadata": {
  "kernelspec": {
   "display_name": "Python 3",
   "language": "python",
   "name": "python3"
  },
  "language_info": {
   "codemirror_mode": {
    "name": "ipython",
    "version": 2
   },
   "file_extension": ".py",
   "mimetype": "text/x-python",
   "name": "python",
   "nbconvert_exporter": "python",
   "pygments_lexer": "ipython2",
   "version": "2.7.6"
  }
 },
 "nbformat": 4,
 "nbformat_minor": 0
}