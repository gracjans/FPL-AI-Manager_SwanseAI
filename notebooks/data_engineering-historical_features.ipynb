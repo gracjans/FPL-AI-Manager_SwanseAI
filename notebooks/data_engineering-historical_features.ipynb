{
 "cells": [
  {
   "cell_type": "markdown",
   "source": [
    "# Add new features with aggregated historical data for each sample in merged seasons data"
   ],
   "metadata": {
    "collapsed": false,
    "pycharm": {
     "name": "#%% md\n"
    }
   }
  },
  {
   "cell_type": "code",
   "execution_count": 40,
   "metadata": {
    "collapsed": true,
    "pycharm": {
     "name": "#%%\n"
    }
   },
   "outputs": [],
   "source": [
    "from src.features.data_engineering import get_merged_seasons_data"
   ]
  },
  {
   "cell_type": "markdown",
   "source": [
    "## Load merged seasons dataframe"
   ],
   "metadata": {
    "collapsed": false,
    "pycharm": {
     "name": "#%% md\n"
    }
   }
  },
  {
   "cell_type": "code",
   "execution_count": 41,
   "outputs": [],
   "source": [
    "data = get_merged_seasons_data()"
   ],
   "metadata": {
    "collapsed": false,
    "pycharm": {
     "name": "#%%\n"
    }
   }
  },
  {
   "cell_type": "code",
   "execution_count": 42,
   "outputs": [
    {
     "data": {
      "text/plain": "                name  assists  bonus  bps  clean_sheets  creativity  element  \\\n0     Leonardo_Ulloa        0      0    2             0         0.1      185   \n1    Christian_Fuchs        0      0   17             0        13.8      168   \n2  Ron-Robert_Zieler        0      0    0             0         0.0      166   \n3      Moses_Odubajo        0      0    0             0         0.0      151   \n4   Robert_Snodgrass        0      3   40             0        37.7      155   \n\n   fixture  goals_conceded  goals_scored  ...  total_points  \\\n0        4               0             0  ...             1   \n1        4               2             0  ...             0   \n2        4               0             0  ...             0   \n3        4               0             0  ...             0   \n4        4               1             1  ...            10   \n\n   transfers_balance transfers_in  transfers_out  value  was_home  \\\n0                  0            0              0     60     False   \n1                  0            0              0     55     False   \n2                  0            0              0     45     False   \n3                  0            0              0     45      True   \n4                  0            0              0     55      True   \n\n   yellow_cards  GW  position   season  \n0             0   1       FWD  2016-17  \n1             1   1       DEF  2016-17  \n2             0   1        GK  2016-17  \n3             0   1       DEF  2016-17  \n4             0   1       MID  2016-17  \n\n[5 rows x 35 columns]",
      "text/html": "<div>\n<style scoped>\n    .dataframe tbody tr th:only-of-type {\n        vertical-align: middle;\n    }\n\n    .dataframe tbody tr th {\n        vertical-align: top;\n    }\n\n    .dataframe thead th {\n        text-align: right;\n    }\n</style>\n<table border=\"1\" class=\"dataframe\">\n  <thead>\n    <tr style=\"text-align: right;\">\n      <th></th>\n      <th>name</th>\n      <th>assists</th>\n      <th>bonus</th>\n      <th>bps</th>\n      <th>clean_sheets</th>\n      <th>creativity</th>\n      <th>element</th>\n      <th>fixture</th>\n      <th>goals_conceded</th>\n      <th>goals_scored</th>\n      <th>...</th>\n      <th>total_points</th>\n      <th>transfers_balance</th>\n      <th>transfers_in</th>\n      <th>transfers_out</th>\n      <th>value</th>\n      <th>was_home</th>\n      <th>yellow_cards</th>\n      <th>GW</th>\n      <th>position</th>\n      <th>season</th>\n    </tr>\n  </thead>\n  <tbody>\n    <tr>\n      <th>0</th>\n      <td>Leonardo_Ulloa</td>\n      <td>0</td>\n      <td>0</td>\n      <td>2</td>\n      <td>0</td>\n      <td>0.1</td>\n      <td>185</td>\n      <td>4</td>\n      <td>0</td>\n      <td>0</td>\n      <td>...</td>\n      <td>1</td>\n      <td>0</td>\n      <td>0</td>\n      <td>0</td>\n      <td>60</td>\n      <td>False</td>\n      <td>0</td>\n      <td>1</td>\n      <td>FWD</td>\n      <td>2016-17</td>\n    </tr>\n    <tr>\n      <th>1</th>\n      <td>Christian_Fuchs</td>\n      <td>0</td>\n      <td>0</td>\n      <td>17</td>\n      <td>0</td>\n      <td>13.8</td>\n      <td>168</td>\n      <td>4</td>\n      <td>2</td>\n      <td>0</td>\n      <td>...</td>\n      <td>0</td>\n      <td>0</td>\n      <td>0</td>\n      <td>0</td>\n      <td>55</td>\n      <td>False</td>\n      <td>1</td>\n      <td>1</td>\n      <td>DEF</td>\n      <td>2016-17</td>\n    </tr>\n    <tr>\n      <th>2</th>\n      <td>Ron-Robert_Zieler</td>\n      <td>0</td>\n      <td>0</td>\n      <td>0</td>\n      <td>0</td>\n      <td>0.0</td>\n      <td>166</td>\n      <td>4</td>\n      <td>0</td>\n      <td>0</td>\n      <td>...</td>\n      <td>0</td>\n      <td>0</td>\n      <td>0</td>\n      <td>0</td>\n      <td>45</td>\n      <td>False</td>\n      <td>0</td>\n      <td>1</td>\n      <td>GK</td>\n      <td>2016-17</td>\n    </tr>\n    <tr>\n      <th>3</th>\n      <td>Moses_Odubajo</td>\n      <td>0</td>\n      <td>0</td>\n      <td>0</td>\n      <td>0</td>\n      <td>0.0</td>\n      <td>151</td>\n      <td>4</td>\n      <td>0</td>\n      <td>0</td>\n      <td>...</td>\n      <td>0</td>\n      <td>0</td>\n      <td>0</td>\n      <td>0</td>\n      <td>45</td>\n      <td>True</td>\n      <td>0</td>\n      <td>1</td>\n      <td>DEF</td>\n      <td>2016-17</td>\n    </tr>\n    <tr>\n      <th>4</th>\n      <td>Robert_Snodgrass</td>\n      <td>0</td>\n      <td>3</td>\n      <td>40</td>\n      <td>0</td>\n      <td>37.7</td>\n      <td>155</td>\n      <td>4</td>\n      <td>1</td>\n      <td>1</td>\n      <td>...</td>\n      <td>10</td>\n      <td>0</td>\n      <td>0</td>\n      <td>0</td>\n      <td>55</td>\n      <td>True</td>\n      <td>0</td>\n      <td>1</td>\n      <td>MID</td>\n      <td>2016-17</td>\n    </tr>\n  </tbody>\n</table>\n<p>5 rows × 35 columns</p>\n</div>"
     },
     "execution_count": 42,
     "metadata": {},
     "output_type": "execute_result"
    }
   ],
   "source": [
    "data.head()"
   ],
   "metadata": {
    "collapsed": false,
    "pycharm": {
     "name": "#%%\n"
    }
   }
  },
  {
   "cell_type": "markdown",
   "source": [
    "## For now, work only with single season data"
   ],
   "metadata": {
    "collapsed": false,
    "pycharm": {
     "name": "#%% md\n"
    }
   }
  },
  {
   "cell_type": "code",
   "execution_count": 43,
   "outputs": [],
   "source": [
    "data19 = data[data['season'] == '2019-20']"
   ],
   "metadata": {
    "collapsed": false,
    "pycharm": {
     "name": "#%%\n"
    }
   }
  },
  {
   "cell_type": "markdown",
   "source": [
    "### And start with only one player, to make it simpler to test"
   ],
   "metadata": {
    "collapsed": false,
    "pycharm": {
     "name": "#%% md\n"
    }
   }
  },
  {
   "cell_type": "code",
   "execution_count": 44,
   "outputs": [],
   "source": [
    "data_auba = data19[data19['name'] == 'Pierre-Emerick_Aubameyang_11']"
   ],
   "metadata": {
    "collapsed": false,
    "pycharm": {
     "name": "#%%\n"
    }
   }
  },
  {
   "cell_type": "code",
   "execution_count": 45,
   "outputs": [],
   "source": [
    "data_auba.insert(4, 'bps-3', data_auba.groupby('element', as_index=False)['bps'].rolling(3, min_periods=1).mean()['bps'])"
   ],
   "metadata": {
    "collapsed": false,
    "pycharm": {
     "name": "#%%\n"
    }
   }
  },
  {
   "cell_type": "code",
   "execution_count": 46,
   "outputs": [
    {
     "data": {
      "text/plain": "                               name  assists  bonus  bps      bps-3  \\\n68333  Pierre-Emerick_Aubameyang_11        0      0   25  25.000000   \n68465  Pierre-Emerick_Aubameyang_11        0      1   25  25.000000   \n69329  Pierre-Emerick_Aubameyang_11        1      0   17  22.333333   \n70012  Pierre-Emerick_Aubameyang_11        0      3   35  25.666667   \n70528  Pierre-Emerick_Aubameyang_11        0      3   54  35.333333   \n71072  Pierre-Emerick_Aubameyang_11        0      0   26  38.333333   \n71667  Pierre-Emerick_Aubameyang_11        0      3   33  37.666667   \n72049  Pierre-Emerick_Aubameyang_11        0      0    0  19.666667   \n72770  Pierre-Emerick_Aubameyang_11        0      0    7  13.333333   \n73192  Pierre-Emerick_Aubameyang_11        0      0    5   4.000000   \n73504  Pierre-Emerick_Aubameyang_11        0      2   27  13.000000   \n74247  Pierre-Emerick_Aubameyang_11        0      0   10  14.000000   \n74671  Pierre-Emerick_Aubameyang_11        1      0   10  15.666667   \n75466  Pierre-Emerick_Aubameyang_11        0      3   58  26.000000   \n76120  Pierre-Emerick_Aubameyang_11        0      0   10  26.000000   \n\n       clean_sheets  creativity  element  fixture  goals_conceded  ...  \\\n68333             1         6.5       11       10               0  ...   \n68465             0        18.9       11       11               1  ...   \n69329             0        25.3       11       24               3  ...   \n70012             0        26.6       11       31               2  ...   \n70528             0         2.2       11       49               2  ...   \n71072             0         1.6       11       51               2  ...   \n71667             0        25.7       11       67               1  ...   \n72049             1        12.8       11       71               0  ...   \n72770             0         4.7       11       88               1  ...   \n73192             0        12.4       11       91               2  ...   \n73504             0        10.6       11      101               1  ...   \n74247             0        30.3       11      113               2  ...   \n74671             0        11.1       11      121               2  ...   \n75466             0        22.3       11      137               2  ...   \n76120             0        21.3       11      141               2  ...   \n\n       total_points  transfers_balance  transfers_in transfers_out  value  \\\n68333             6                  0             0             0    110   \n68465             6             113772        181990         68218    110   \n69329             5            -248663         52971        301634    110   \n70012             9            -109901         59121        169022    110   \n70528            13             -59610         66384        125994    110   \n71072             5             117466        158891         41425    110   \n71667             9             -30817         72845        103662    110   \n72049             2             201560        219717         18157    110   \n72770             2             133927        185133         51206    111   \n73192             2              52748        105976         53228    111   \n73504             8            -162894         42836        205730    111   \n74247             2             -52840         36266         89106    110   \n74671             5             -85518         75823        161341    110   \n75466            13            -133989         49088        183077    109   \n76120             2              81531        101589         20058    109   \n\n       was_home  yellow_cards  GW  position   season  \n68333     False             0   1       FWD  2019-20  \n68465      True             1   2       FWD  2019-20  \n69329     False             0   3       FWD  2019-20  \n70012      True             0   4       FWD  2019-20  \n70528     False             0   5       FWD  2019-20  \n71072      True             1   6       FWD  2019-20  \n71667     False             0   7       FWD  2019-20  \n72049      True             0   8       FWD  2019-20  \n72770     False             0   9       FWD  2019-20  \n73192      True             0  10       FWD  2019-20  \n73504      True             0  11       FWD  2019-20  \n74247     False             0  12       FWD  2019-20  \n74671      True             0  13       FWD  2019-20  \n75466     False             0  14       FWD  2019-20  \n76120      True             0  15       FWD  2019-20  \n\n[15 rows x 36 columns]",
      "text/html": "<div>\n<style scoped>\n    .dataframe tbody tr th:only-of-type {\n        vertical-align: middle;\n    }\n\n    .dataframe tbody tr th {\n        vertical-align: top;\n    }\n\n    .dataframe thead th {\n        text-align: right;\n    }\n</style>\n<table border=\"1\" class=\"dataframe\">\n  <thead>\n    <tr style=\"text-align: right;\">\n      <th></th>\n      <th>name</th>\n      <th>assists</th>\n      <th>bonus</th>\n      <th>bps</th>\n      <th>bps-3</th>\n      <th>clean_sheets</th>\n      <th>creativity</th>\n      <th>element</th>\n      <th>fixture</th>\n      <th>goals_conceded</th>\n      <th>...</th>\n      <th>total_points</th>\n      <th>transfers_balance</th>\n      <th>transfers_in</th>\n      <th>transfers_out</th>\n      <th>value</th>\n      <th>was_home</th>\n      <th>yellow_cards</th>\n      <th>GW</th>\n      <th>position</th>\n      <th>season</th>\n    </tr>\n  </thead>\n  <tbody>\n    <tr>\n      <th>68333</th>\n      <td>Pierre-Emerick_Aubameyang_11</td>\n      <td>0</td>\n      <td>0</td>\n      <td>25</td>\n      <td>25.000000</td>\n      <td>1</td>\n      <td>6.5</td>\n      <td>11</td>\n      <td>10</td>\n      <td>0</td>\n      <td>...</td>\n      <td>6</td>\n      <td>0</td>\n      <td>0</td>\n      <td>0</td>\n      <td>110</td>\n      <td>False</td>\n      <td>0</td>\n      <td>1</td>\n      <td>FWD</td>\n      <td>2019-20</td>\n    </tr>\n    <tr>\n      <th>68465</th>\n      <td>Pierre-Emerick_Aubameyang_11</td>\n      <td>0</td>\n      <td>1</td>\n      <td>25</td>\n      <td>25.000000</td>\n      <td>0</td>\n      <td>18.9</td>\n      <td>11</td>\n      <td>11</td>\n      <td>1</td>\n      <td>...</td>\n      <td>6</td>\n      <td>113772</td>\n      <td>181990</td>\n      <td>68218</td>\n      <td>110</td>\n      <td>True</td>\n      <td>1</td>\n      <td>2</td>\n      <td>FWD</td>\n      <td>2019-20</td>\n    </tr>\n    <tr>\n      <th>69329</th>\n      <td>Pierre-Emerick_Aubameyang_11</td>\n      <td>1</td>\n      <td>0</td>\n      <td>17</td>\n      <td>22.333333</td>\n      <td>0</td>\n      <td>25.3</td>\n      <td>11</td>\n      <td>24</td>\n      <td>3</td>\n      <td>...</td>\n      <td>5</td>\n      <td>-248663</td>\n      <td>52971</td>\n      <td>301634</td>\n      <td>110</td>\n      <td>False</td>\n      <td>0</td>\n      <td>3</td>\n      <td>FWD</td>\n      <td>2019-20</td>\n    </tr>\n    <tr>\n      <th>70012</th>\n      <td>Pierre-Emerick_Aubameyang_11</td>\n      <td>0</td>\n      <td>3</td>\n      <td>35</td>\n      <td>25.666667</td>\n      <td>0</td>\n      <td>26.6</td>\n      <td>11</td>\n      <td>31</td>\n      <td>2</td>\n      <td>...</td>\n      <td>9</td>\n      <td>-109901</td>\n      <td>59121</td>\n      <td>169022</td>\n      <td>110</td>\n      <td>True</td>\n      <td>0</td>\n      <td>4</td>\n      <td>FWD</td>\n      <td>2019-20</td>\n    </tr>\n    <tr>\n      <th>70528</th>\n      <td>Pierre-Emerick_Aubameyang_11</td>\n      <td>0</td>\n      <td>3</td>\n      <td>54</td>\n      <td>35.333333</td>\n      <td>0</td>\n      <td>2.2</td>\n      <td>11</td>\n      <td>49</td>\n      <td>2</td>\n      <td>...</td>\n      <td>13</td>\n      <td>-59610</td>\n      <td>66384</td>\n      <td>125994</td>\n      <td>110</td>\n      <td>False</td>\n      <td>0</td>\n      <td>5</td>\n      <td>FWD</td>\n      <td>2019-20</td>\n    </tr>\n    <tr>\n      <th>71072</th>\n      <td>Pierre-Emerick_Aubameyang_11</td>\n      <td>0</td>\n      <td>0</td>\n      <td>26</td>\n      <td>38.333333</td>\n      <td>0</td>\n      <td>1.6</td>\n      <td>11</td>\n      <td>51</td>\n      <td>2</td>\n      <td>...</td>\n      <td>5</td>\n      <td>117466</td>\n      <td>158891</td>\n      <td>41425</td>\n      <td>110</td>\n      <td>True</td>\n      <td>1</td>\n      <td>6</td>\n      <td>FWD</td>\n      <td>2019-20</td>\n    </tr>\n    <tr>\n      <th>71667</th>\n      <td>Pierre-Emerick_Aubameyang_11</td>\n      <td>0</td>\n      <td>3</td>\n      <td>33</td>\n      <td>37.666667</td>\n      <td>0</td>\n      <td>25.7</td>\n      <td>11</td>\n      <td>67</td>\n      <td>1</td>\n      <td>...</td>\n      <td>9</td>\n      <td>-30817</td>\n      <td>72845</td>\n      <td>103662</td>\n      <td>110</td>\n      <td>False</td>\n      <td>0</td>\n      <td>7</td>\n      <td>FWD</td>\n      <td>2019-20</td>\n    </tr>\n    <tr>\n      <th>72049</th>\n      <td>Pierre-Emerick_Aubameyang_11</td>\n      <td>0</td>\n      <td>0</td>\n      <td>0</td>\n      <td>19.666667</td>\n      <td>1</td>\n      <td>12.8</td>\n      <td>11</td>\n      <td>71</td>\n      <td>0</td>\n      <td>...</td>\n      <td>2</td>\n      <td>201560</td>\n      <td>219717</td>\n      <td>18157</td>\n      <td>110</td>\n      <td>True</td>\n      <td>0</td>\n      <td>8</td>\n      <td>FWD</td>\n      <td>2019-20</td>\n    </tr>\n    <tr>\n      <th>72770</th>\n      <td>Pierre-Emerick_Aubameyang_11</td>\n      <td>0</td>\n      <td>0</td>\n      <td>7</td>\n      <td>13.333333</td>\n      <td>0</td>\n      <td>4.7</td>\n      <td>11</td>\n      <td>88</td>\n      <td>1</td>\n      <td>...</td>\n      <td>2</td>\n      <td>133927</td>\n      <td>185133</td>\n      <td>51206</td>\n      <td>111</td>\n      <td>False</td>\n      <td>0</td>\n      <td>9</td>\n      <td>FWD</td>\n      <td>2019-20</td>\n    </tr>\n    <tr>\n      <th>73192</th>\n      <td>Pierre-Emerick_Aubameyang_11</td>\n      <td>0</td>\n      <td>0</td>\n      <td>5</td>\n      <td>4.000000</td>\n      <td>0</td>\n      <td>12.4</td>\n      <td>11</td>\n      <td>91</td>\n      <td>2</td>\n      <td>...</td>\n      <td>2</td>\n      <td>52748</td>\n      <td>105976</td>\n      <td>53228</td>\n      <td>111</td>\n      <td>True</td>\n      <td>0</td>\n      <td>10</td>\n      <td>FWD</td>\n      <td>2019-20</td>\n    </tr>\n    <tr>\n      <th>73504</th>\n      <td>Pierre-Emerick_Aubameyang_11</td>\n      <td>0</td>\n      <td>2</td>\n      <td>27</td>\n      <td>13.000000</td>\n      <td>0</td>\n      <td>10.6</td>\n      <td>11</td>\n      <td>101</td>\n      <td>1</td>\n      <td>...</td>\n      <td>8</td>\n      <td>-162894</td>\n      <td>42836</td>\n      <td>205730</td>\n      <td>111</td>\n      <td>True</td>\n      <td>0</td>\n      <td>11</td>\n      <td>FWD</td>\n      <td>2019-20</td>\n    </tr>\n    <tr>\n      <th>74247</th>\n      <td>Pierre-Emerick_Aubameyang_11</td>\n      <td>0</td>\n      <td>0</td>\n      <td>10</td>\n      <td>14.000000</td>\n      <td>0</td>\n      <td>30.3</td>\n      <td>11</td>\n      <td>113</td>\n      <td>2</td>\n      <td>...</td>\n      <td>2</td>\n      <td>-52840</td>\n      <td>36266</td>\n      <td>89106</td>\n      <td>110</td>\n      <td>False</td>\n      <td>0</td>\n      <td>12</td>\n      <td>FWD</td>\n      <td>2019-20</td>\n    </tr>\n    <tr>\n      <th>74671</th>\n      <td>Pierre-Emerick_Aubameyang_11</td>\n      <td>1</td>\n      <td>0</td>\n      <td>10</td>\n      <td>15.666667</td>\n      <td>0</td>\n      <td>11.1</td>\n      <td>11</td>\n      <td>121</td>\n      <td>2</td>\n      <td>...</td>\n      <td>5</td>\n      <td>-85518</td>\n      <td>75823</td>\n      <td>161341</td>\n      <td>110</td>\n      <td>True</td>\n      <td>0</td>\n      <td>13</td>\n      <td>FWD</td>\n      <td>2019-20</td>\n    </tr>\n    <tr>\n      <th>75466</th>\n      <td>Pierre-Emerick_Aubameyang_11</td>\n      <td>0</td>\n      <td>3</td>\n      <td>58</td>\n      <td>26.000000</td>\n      <td>0</td>\n      <td>22.3</td>\n      <td>11</td>\n      <td>137</td>\n      <td>2</td>\n      <td>...</td>\n      <td>13</td>\n      <td>-133989</td>\n      <td>49088</td>\n      <td>183077</td>\n      <td>109</td>\n      <td>False</td>\n      <td>0</td>\n      <td>14</td>\n      <td>FWD</td>\n      <td>2019-20</td>\n    </tr>\n    <tr>\n      <th>76120</th>\n      <td>Pierre-Emerick_Aubameyang_11</td>\n      <td>0</td>\n      <td>0</td>\n      <td>10</td>\n      <td>26.000000</td>\n      <td>0</td>\n      <td>21.3</td>\n      <td>11</td>\n      <td>141</td>\n      <td>2</td>\n      <td>...</td>\n      <td>2</td>\n      <td>81531</td>\n      <td>101589</td>\n      <td>20058</td>\n      <td>109</td>\n      <td>True</td>\n      <td>0</td>\n      <td>15</td>\n      <td>FWD</td>\n      <td>2019-20</td>\n    </tr>\n  </tbody>\n</table>\n<p>15 rows × 36 columns</p>\n</div>"
     },
     "execution_count": 46,
     "metadata": {},
     "output_type": "execute_result"
    }
   ],
   "source": [
    "data_auba.head(15)"
   ],
   "metadata": {
    "collapsed": false,
    "pycharm": {
     "name": "#%%\n"
    }
   }
  },
  {
   "cell_type": "markdown",
   "source": [],
   "metadata": {
    "collapsed": false,
    "pycharm": {
     "name": "#%% md\n"
    }
   }
  },
  {
   "cell_type": "code",
   "execution_count": 47,
   "outputs": [],
   "source": [
    "def update_team_score_feature(df):\n",
    "    \"\"\"\n",
    "    Create feature 'player_team_score' - team_h_score if was_home, team_a_score otherwise and 'opponent_team_score' likewise\n",
    "    \"\"\"\n",
    "    player_team_score = df.apply(lambda row: row['team_h_score'] if row['was_home'] else row['team_a_score'], axis=1)\n",
    "    opponent_team_score = df.apply(lambda row: row['team_a_score'] if row['was_home'] else row['team_h_score'], axis=1)\n",
    "\n",
    "    df.insert(list(df.columns).index('team_a_score'), 'player_team_score', player_team_score)\n",
    "    df.insert(list(df.columns).index('team_h_score'), 'opponent_team_score', opponent_team_score)\n",
    "    df.drop(['team_h_score', 'team_a_score'], axis=1, inplace=True)\n",
    "\n",
    "    return df"
   ],
   "metadata": {
    "collapsed": false,
    "pycharm": {
     "name": "#%%\n"
    }
   }
  },
  {
   "cell_type": "code",
   "execution_count": 48,
   "outputs": [],
   "source": [
    "def create_rolling_features(df, rolling_columns, times):\n",
    "    for t in times:\n",
    "        t_str = '-all' if t == 'all' else '-' + str(t)\n",
    "        t = df.groupby(['season', 'element'], as_index=False).size()['size'][0] if t == 'all' else t\n",
    "        for col in rolling_columns:\n",
    "            insert_loc = list(df.columns).index(col) + 1\n",
    "            df.insert(insert_loc, col + t_str, df.groupby(['season', 'element'], as_index=False)[col].rolling(t, min_periods=1).mean()[col])\n",
    "    return df"
   ],
   "metadata": {
    "collapsed": false,
    "pycharm": {
     "name": "#%%\n"
    }
   }
  },
  {
   "cell_type": "code",
   "execution_count": 49,
   "outputs": [],
   "source": [
    "rolling_columns = ['assists', 'bonus', 'bps', 'clean_sheets',\n",
    "                   'creativity', 'goals_conceded', 'goals_scored',\n",
    "                   'ict_index', 'influence', 'minutes',\n",
    "                   'own_goals', 'penalties_missed', 'penalties_saved', 'red_cards',\n",
    "                   'saves', 'selected', 'player_team_score', 'opponent_team_score', 'threat',\n",
    "                   'total_points', 'transfers_in', 'transfers_out',\n",
    "                   'value', 'yellow_cards']"
   ],
   "metadata": {
    "collapsed": false,
    "pycharm": {
     "name": "#%%\n"
    }
   }
  },
  {
   "cell_type": "code",
   "execution_count": 50,
   "outputs": [],
   "source": [
    "times = ['all', 6, 3]"
   ],
   "metadata": {
    "collapsed": false,
    "pycharm": {
     "name": "#%%\n"
    }
   }
  },
  {
   "cell_type": "code",
   "execution_count": 51,
   "outputs": [],
   "source": [
    "data_updated = update_team_score_feature(data.copy())\n",
    "data_rolling = create_rolling_features(data_updated, rolling_columns, times)"
   ],
   "metadata": {
    "collapsed": false,
    "pycharm": {
     "name": "#%%\n"
    }
   }
  },
  {
   "cell_type": "code",
   "execution_count": 58,
   "outputs": [
    {
     "data": {
      "text/plain": "['name',\n 'assists',\n 'assists-3',\n 'assists-6',\n 'assists-all',\n 'bonus',\n 'bonus-3',\n 'bonus-6',\n 'bonus-all',\n 'bps',\n 'bps-3',\n 'bps-6',\n 'bps-all',\n 'clean_sheets',\n 'clean_sheets-3',\n 'clean_sheets-6',\n 'clean_sheets-all',\n 'creativity',\n 'creativity-3',\n 'creativity-6',\n 'creativity-all',\n 'element',\n 'fixture',\n 'goals_conceded',\n 'goals_conceded-3',\n 'goals_conceded-6',\n 'goals_conceded-all',\n 'goals_scored',\n 'goals_scored-3',\n 'goals_scored-6',\n 'goals_scored-all',\n 'ict_index',\n 'ict_index-3',\n 'ict_index-6',\n 'ict_index-all',\n 'influence',\n 'influence-3',\n 'influence-6',\n 'influence-all',\n 'kickoff_time',\n 'minutes',\n 'minutes-3',\n 'minutes-6',\n 'minutes-all',\n 'opponent_team',\n 'own_goals',\n 'own_goals-3',\n 'own_goals-6',\n 'own_goals-all',\n 'penalties_missed',\n 'penalties_missed-3',\n 'penalties_missed-6',\n 'penalties_missed-all',\n 'penalties_saved',\n 'penalties_saved-3',\n 'penalties_saved-6',\n 'penalties_saved-all',\n 'red_cards',\n 'red_cards-3',\n 'red_cards-6',\n 'red_cards-all',\n 'round',\n 'saves',\n 'saves-3',\n 'saves-6',\n 'saves-all',\n 'selected',\n 'selected-3',\n 'selected-6',\n 'selected-all',\n 'player_team_score',\n 'player_team_score-3',\n 'player_team_score-6',\n 'player_team_score-all',\n 'opponent_team_score',\n 'opponent_team_score-3',\n 'opponent_team_score-6',\n 'opponent_team_score-all',\n 'threat',\n 'threat-3',\n 'threat-6',\n 'threat-all',\n 'total_points',\n 'total_points-3',\n 'total_points-6',\n 'total_points-all',\n 'transfers_balance',\n 'transfers_in',\n 'transfers_in-3',\n 'transfers_in-6',\n 'transfers_in-all',\n 'transfers_out',\n 'transfers_out-3',\n 'transfers_out-6',\n 'transfers_out-all',\n 'value',\n 'value-3',\n 'value-6',\n 'value-all',\n 'was_home',\n 'yellow_cards',\n 'yellow_cards-3',\n 'yellow_cards-6',\n 'yellow_cards-all',\n 'GW',\n 'position',\n 'season']"
     },
     "execution_count": 58,
     "metadata": {},
     "output_type": "execute_result"
    }
   ],
   "source": [
    "list(data_rolling.columns)"
   ],
   "metadata": {
    "collapsed": false,
    "pycharm": {
     "name": "#%%\n"
    }
   }
  }
 ],
 "metadata": {
  "kernelspec": {
   "display_name": "Python 3",
   "language": "python",
   "name": "python3"
  },
  "language_info": {
   "codemirror_mode": {
    "name": "ipython",
    "version": 2
   },
   "file_extension": ".py",
   "mimetype": "text/x-python",
   "name": "python",
   "nbconvert_exporter": "python",
   "pygments_lexer": "ipython2",
   "version": "2.7.6"
  }
 },
 "nbformat": 4,
 "nbformat_minor": 0
}