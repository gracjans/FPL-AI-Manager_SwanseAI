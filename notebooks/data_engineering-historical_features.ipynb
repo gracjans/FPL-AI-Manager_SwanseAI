{
 "cells": [
  {
   "cell_type": "markdown",
   "source": [
    "# Add new features with aggregated historical data for each sample in merged seasons data"
   ],
   "metadata": {
    "collapsed": false,
    "pycharm": {
     "name": "#%% md\n"
    }
   }
  },
  {
   "cell_type": "code",
   "execution_count": 70,
   "metadata": {
    "collapsed": true,
    "pycharm": {
     "name": "#%%\n"
    }
   },
   "outputs": [],
   "source": [
    "import pandas as pd\n",
    "\n",
    "from src.features.data_engineering import get_merged_seasons_data"
   ]
  },
  {
   "cell_type": "markdown",
   "source": [
    "## Load merged seasons dataframe"
   ],
   "metadata": {
    "collapsed": false,
    "pycharm": {
     "name": "#%% md\n"
    }
   }
  },
  {
   "cell_type": "code",
   "execution_count": 71,
   "outputs": [],
   "source": [
    "data = get_merged_seasons_data()"
   ],
   "metadata": {
    "collapsed": false,
    "pycharm": {
     "name": "#%%\n"
    }
   }
  },
  {
   "cell_type": "code",
   "execution_count": 72,
   "outputs": [
    {
     "data": {
      "text/plain": "                 name  assists  bonus  bps  clean_sheets  creativity  element  \\\n0     Aaron_Cresswell        0      0    0             0         0.0      454   \n1        Aaron_Lennon        0      0    6             0         0.3      142   \n2        Aaron_Ramsey        0      0    5             0         4.9       16   \n3  Abdoulaye_Doucouré        0      0    0             0         0.0      482   \n4   Abdul Rahman_Baba        0      0    0             0         0.0       80   \n\n   fixture  goals_conceded  goals_scored  ...  total_points  \\\n0       10               0             0  ...             0   \n1        3               0             0  ...             1   \n2        8               3             0  ...             2   \n3        7               0             0  ...             0   \n4       10               0             0  ...             0   \n\n   transfers_balance transfers_in  transfers_out  value  was_home  \\\n0                  0            0              0     55     False   \n1                  0            0              0     60      True   \n2                  0            0              0     80      True   \n3                  0            0              0     50     False   \n4                  0            0              0     55      True   \n\n   yellow_cards  GW  position   season  \n0             0   1       DEF  2016-17  \n1             0   1       MID  2016-17  \n2             0   1       MID  2016-17  \n3             0   1       MID  2016-17  \n4             0   1       DEF  2016-17  \n\n[5 rows x 35 columns]",
      "text/html": "<div>\n<style scoped>\n    .dataframe tbody tr th:only-of-type {\n        vertical-align: middle;\n    }\n\n    .dataframe tbody tr th {\n        vertical-align: top;\n    }\n\n    .dataframe thead th {\n        text-align: right;\n    }\n</style>\n<table border=\"1\" class=\"dataframe\">\n  <thead>\n    <tr style=\"text-align: right;\">\n      <th></th>\n      <th>name</th>\n      <th>assists</th>\n      <th>bonus</th>\n      <th>bps</th>\n      <th>clean_sheets</th>\n      <th>creativity</th>\n      <th>element</th>\n      <th>fixture</th>\n      <th>goals_conceded</th>\n      <th>goals_scored</th>\n      <th>...</th>\n      <th>total_points</th>\n      <th>transfers_balance</th>\n      <th>transfers_in</th>\n      <th>transfers_out</th>\n      <th>value</th>\n      <th>was_home</th>\n      <th>yellow_cards</th>\n      <th>GW</th>\n      <th>position</th>\n      <th>season</th>\n    </tr>\n  </thead>\n  <tbody>\n    <tr>\n      <th>0</th>\n      <td>Aaron_Cresswell</td>\n      <td>0</td>\n      <td>0</td>\n      <td>0</td>\n      <td>0</td>\n      <td>0.0</td>\n      <td>454</td>\n      <td>10</td>\n      <td>0</td>\n      <td>0</td>\n      <td>...</td>\n      <td>0</td>\n      <td>0</td>\n      <td>0</td>\n      <td>0</td>\n      <td>55</td>\n      <td>False</td>\n      <td>0</td>\n      <td>1</td>\n      <td>DEF</td>\n      <td>2016-17</td>\n    </tr>\n    <tr>\n      <th>1</th>\n      <td>Aaron_Lennon</td>\n      <td>0</td>\n      <td>0</td>\n      <td>6</td>\n      <td>0</td>\n      <td>0.3</td>\n      <td>142</td>\n      <td>3</td>\n      <td>0</td>\n      <td>0</td>\n      <td>...</td>\n      <td>1</td>\n      <td>0</td>\n      <td>0</td>\n      <td>0</td>\n      <td>60</td>\n      <td>True</td>\n      <td>0</td>\n      <td>1</td>\n      <td>MID</td>\n      <td>2016-17</td>\n    </tr>\n    <tr>\n      <th>2</th>\n      <td>Aaron_Ramsey</td>\n      <td>0</td>\n      <td>0</td>\n      <td>5</td>\n      <td>0</td>\n      <td>4.9</td>\n      <td>16</td>\n      <td>8</td>\n      <td>3</td>\n      <td>0</td>\n      <td>...</td>\n      <td>2</td>\n      <td>0</td>\n      <td>0</td>\n      <td>0</td>\n      <td>80</td>\n      <td>True</td>\n      <td>0</td>\n      <td>1</td>\n      <td>MID</td>\n      <td>2016-17</td>\n    </tr>\n    <tr>\n      <th>3</th>\n      <td>Abdoulaye_Doucouré</td>\n      <td>0</td>\n      <td>0</td>\n      <td>0</td>\n      <td>0</td>\n      <td>0.0</td>\n      <td>482</td>\n      <td>7</td>\n      <td>0</td>\n      <td>0</td>\n      <td>...</td>\n      <td>0</td>\n      <td>0</td>\n      <td>0</td>\n      <td>0</td>\n      <td>50</td>\n      <td>False</td>\n      <td>0</td>\n      <td>1</td>\n      <td>MID</td>\n      <td>2016-17</td>\n    </tr>\n    <tr>\n      <th>4</th>\n      <td>Abdul Rahman_Baba</td>\n      <td>0</td>\n      <td>0</td>\n      <td>0</td>\n      <td>0</td>\n      <td>0.0</td>\n      <td>80</td>\n      <td>10</td>\n      <td>0</td>\n      <td>0</td>\n      <td>...</td>\n      <td>0</td>\n      <td>0</td>\n      <td>0</td>\n      <td>0</td>\n      <td>55</td>\n      <td>True</td>\n      <td>0</td>\n      <td>1</td>\n      <td>DEF</td>\n      <td>2016-17</td>\n    </tr>\n  </tbody>\n</table>\n<p>5 rows × 35 columns</p>\n</div>"
     },
     "execution_count": 72,
     "metadata": {},
     "output_type": "execute_result"
    }
   ],
   "source": [
    "data.head()"
   ],
   "metadata": {
    "collapsed": false,
    "pycharm": {
     "name": "#%%\n"
    }
   }
  },
  {
   "cell_type": "markdown",
   "source": [
    "## For now, work only with single season data"
   ],
   "metadata": {
    "collapsed": false,
    "pycharm": {
     "name": "#%% md\n"
    }
   }
  },
  {
   "cell_type": "code",
   "execution_count": 73,
   "outputs": [],
   "source": [
    "data19 = data[data['season'] == '2019-20']"
   ],
   "metadata": {
    "collapsed": false,
    "pycharm": {
     "name": "#%%\n"
    }
   }
  },
  {
   "cell_type": "markdown",
   "source": [
    "### And start with only one player, to make it simpler to test"
   ],
   "metadata": {
    "collapsed": false,
    "pycharm": {
     "name": "#%% md\n"
    }
   }
  },
  {
   "cell_type": "code",
   "execution_count": 74,
   "outputs": [],
   "source": [
    "data_auba = data19[data19['name'] == 'Pierre-Emerick_Aubameyang_11']"
   ],
   "metadata": {
    "collapsed": false,
    "pycharm": {
     "name": "#%%\n"
    }
   }
  },
  {
   "cell_type": "code",
   "execution_count": 75,
   "outputs": [],
   "source": [
    "data_auba.insert(4, 'bps-3', data_auba.groupby('element', as_index=False)['bps'].rolling(3, min_periods=1).mean()['bps'])"
   ],
   "metadata": {
    "collapsed": false,
    "pycharm": {
     "name": "#%%\n"
    }
   }
  },
  {
   "cell_type": "code",
   "execution_count": 76,
   "outputs": [
    {
     "data": {
      "text/plain": "                               name  assists  bonus  bps      bps-3  \\\n68354  Pierre-Emerick_Aubameyang_11        0      0   25  25.000000   \n68883  Pierre-Emerick_Aubameyang_11        0      1   25  25.000000   \n69412  Pierre-Emerick_Aubameyang_11        1      0   17  22.333333   \n69944  Pierre-Emerick_Aubameyang_11        0      3   35  25.666667   \n70481  Pierre-Emerick_Aubameyang_11        0      3   54  35.333333   \n71022  Pierre-Emerick_Aubameyang_11        0      0   26  38.333333   \n71568  Pierre-Emerick_Aubameyang_11        0      3   33  37.666667   \n72119  Pierre-Emerick_Aubameyang_11        0      0    0  19.666667   \n72673  Pierre-Emerick_Aubameyang_11        0      0    7  13.333333   \n73229  Pierre-Emerick_Aubameyang_11        0      0    5   4.000000   \n73785  Pierre-Emerick_Aubameyang_11        0      2   27  13.000000   \n74343  Pierre-Emerick_Aubameyang_11        0      0   10  14.000000   \n74903  Pierre-Emerick_Aubameyang_11        1      0   10  15.666667   \n75467  Pierre-Emerick_Aubameyang_11        0      3   58  26.000000   \n76032  Pierre-Emerick_Aubameyang_11        0      0   10  26.000000   \n\n       clean_sheets  creativity  element  fixture  goals_conceded  ...  \\\n68354             1         6.5       11       10               0  ...   \n68883             0        18.9       11       11               1  ...   \n69412             0        25.3       11       24               3  ...   \n69944             0        26.6       11       31               2  ...   \n70481             0         2.2       11       49               2  ...   \n71022             0         1.6       11       51               2  ...   \n71568             0        25.7       11       67               1  ...   \n72119             1        12.8       11       71               0  ...   \n72673             0         4.7       11       88               1  ...   \n73229             0        12.4       11       91               2  ...   \n73785             0        10.6       11      101               1  ...   \n74343             0        30.3       11      113               2  ...   \n74903             0        11.1       11      121               2  ...   \n75467             0        22.3       11      137               2  ...   \n76032             0        21.3       11      141               2  ...   \n\n       total_points  transfers_balance  transfers_in transfers_out  value  \\\n68354             6                  0             0             0    110   \n68883             6             113772        181990         68218    110   \n69412             5            -248663         52971        301634    110   \n69944             9            -109901         59121        169022    110   \n70481            13             -59610         66384        125994    110   \n71022             5             117466        158891         41425    110   \n71568             9             -30817         72845        103662    110   \n72119             2             201560        219717         18157    110   \n72673             2             133927        185133         51206    111   \n73229             2              52748        105976         53228    111   \n73785             8            -162894         42836        205730    111   \n74343             2             -52840         36266         89106    110   \n74903             5             -85518         75823        161341    110   \n75467            13            -133989         49088        183077    109   \n76032             2              81531        101589         20058    109   \n\n       was_home  yellow_cards  GW  position   season  \n68354     False             0   1       FWD  2019-20  \n68883      True             1   2       FWD  2019-20  \n69412     False             0   3       FWD  2019-20  \n69944      True             0   4       FWD  2019-20  \n70481     False             0   5       FWD  2019-20  \n71022      True             1   6       FWD  2019-20  \n71568     False             0   7       FWD  2019-20  \n72119      True             0   8       FWD  2019-20  \n72673     False             0   9       FWD  2019-20  \n73229      True             0  10       FWD  2019-20  \n73785      True             0  11       FWD  2019-20  \n74343     False             0  12       FWD  2019-20  \n74903      True             0  13       FWD  2019-20  \n75467     False             0  14       FWD  2019-20  \n76032      True             0  15       FWD  2019-20  \n\n[15 rows x 36 columns]",
      "text/html": "<div>\n<style scoped>\n    .dataframe tbody tr th:only-of-type {\n        vertical-align: middle;\n    }\n\n    .dataframe tbody tr th {\n        vertical-align: top;\n    }\n\n    .dataframe thead th {\n        text-align: right;\n    }\n</style>\n<table border=\"1\" class=\"dataframe\">\n  <thead>\n    <tr style=\"text-align: right;\">\n      <th></th>\n      <th>name</th>\n      <th>assists</th>\n      <th>bonus</th>\n      <th>bps</th>\n      <th>bps-3</th>\n      <th>clean_sheets</th>\n      <th>creativity</th>\n      <th>element</th>\n      <th>fixture</th>\n      <th>goals_conceded</th>\n      <th>...</th>\n      <th>total_points</th>\n      <th>transfers_balance</th>\n      <th>transfers_in</th>\n      <th>transfers_out</th>\n      <th>value</th>\n      <th>was_home</th>\n      <th>yellow_cards</th>\n      <th>GW</th>\n      <th>position</th>\n      <th>season</th>\n    </tr>\n  </thead>\n  <tbody>\n    <tr>\n      <th>68354</th>\n      <td>Pierre-Emerick_Aubameyang_11</td>\n      <td>0</td>\n      <td>0</td>\n      <td>25</td>\n      <td>25.000000</td>\n      <td>1</td>\n      <td>6.5</td>\n      <td>11</td>\n      <td>10</td>\n      <td>0</td>\n      <td>...</td>\n      <td>6</td>\n      <td>0</td>\n      <td>0</td>\n      <td>0</td>\n      <td>110</td>\n      <td>False</td>\n      <td>0</td>\n      <td>1</td>\n      <td>FWD</td>\n      <td>2019-20</td>\n    </tr>\n    <tr>\n      <th>68883</th>\n      <td>Pierre-Emerick_Aubameyang_11</td>\n      <td>0</td>\n      <td>1</td>\n      <td>25</td>\n      <td>25.000000</td>\n      <td>0</td>\n      <td>18.9</td>\n      <td>11</td>\n      <td>11</td>\n      <td>1</td>\n      <td>...</td>\n      <td>6</td>\n      <td>113772</td>\n      <td>181990</td>\n      <td>68218</td>\n      <td>110</td>\n      <td>True</td>\n      <td>1</td>\n      <td>2</td>\n      <td>FWD</td>\n      <td>2019-20</td>\n    </tr>\n    <tr>\n      <th>69412</th>\n      <td>Pierre-Emerick_Aubameyang_11</td>\n      <td>1</td>\n      <td>0</td>\n      <td>17</td>\n      <td>22.333333</td>\n      <td>0</td>\n      <td>25.3</td>\n      <td>11</td>\n      <td>24</td>\n      <td>3</td>\n      <td>...</td>\n      <td>5</td>\n      <td>-248663</td>\n      <td>52971</td>\n      <td>301634</td>\n      <td>110</td>\n      <td>False</td>\n      <td>0</td>\n      <td>3</td>\n      <td>FWD</td>\n      <td>2019-20</td>\n    </tr>\n    <tr>\n      <th>69944</th>\n      <td>Pierre-Emerick_Aubameyang_11</td>\n      <td>0</td>\n      <td>3</td>\n      <td>35</td>\n      <td>25.666667</td>\n      <td>0</td>\n      <td>26.6</td>\n      <td>11</td>\n      <td>31</td>\n      <td>2</td>\n      <td>...</td>\n      <td>9</td>\n      <td>-109901</td>\n      <td>59121</td>\n      <td>169022</td>\n      <td>110</td>\n      <td>True</td>\n      <td>0</td>\n      <td>4</td>\n      <td>FWD</td>\n      <td>2019-20</td>\n    </tr>\n    <tr>\n      <th>70481</th>\n      <td>Pierre-Emerick_Aubameyang_11</td>\n      <td>0</td>\n      <td>3</td>\n      <td>54</td>\n      <td>35.333333</td>\n      <td>0</td>\n      <td>2.2</td>\n      <td>11</td>\n      <td>49</td>\n      <td>2</td>\n      <td>...</td>\n      <td>13</td>\n      <td>-59610</td>\n      <td>66384</td>\n      <td>125994</td>\n      <td>110</td>\n      <td>False</td>\n      <td>0</td>\n      <td>5</td>\n      <td>FWD</td>\n      <td>2019-20</td>\n    </tr>\n    <tr>\n      <th>71022</th>\n      <td>Pierre-Emerick_Aubameyang_11</td>\n      <td>0</td>\n      <td>0</td>\n      <td>26</td>\n      <td>38.333333</td>\n      <td>0</td>\n      <td>1.6</td>\n      <td>11</td>\n      <td>51</td>\n      <td>2</td>\n      <td>...</td>\n      <td>5</td>\n      <td>117466</td>\n      <td>158891</td>\n      <td>41425</td>\n      <td>110</td>\n      <td>True</td>\n      <td>1</td>\n      <td>6</td>\n      <td>FWD</td>\n      <td>2019-20</td>\n    </tr>\n    <tr>\n      <th>71568</th>\n      <td>Pierre-Emerick_Aubameyang_11</td>\n      <td>0</td>\n      <td>3</td>\n      <td>33</td>\n      <td>37.666667</td>\n      <td>0</td>\n      <td>25.7</td>\n      <td>11</td>\n      <td>67</td>\n      <td>1</td>\n      <td>...</td>\n      <td>9</td>\n      <td>-30817</td>\n      <td>72845</td>\n      <td>103662</td>\n      <td>110</td>\n      <td>False</td>\n      <td>0</td>\n      <td>7</td>\n      <td>FWD</td>\n      <td>2019-20</td>\n    </tr>\n    <tr>\n      <th>72119</th>\n      <td>Pierre-Emerick_Aubameyang_11</td>\n      <td>0</td>\n      <td>0</td>\n      <td>0</td>\n      <td>19.666667</td>\n      <td>1</td>\n      <td>12.8</td>\n      <td>11</td>\n      <td>71</td>\n      <td>0</td>\n      <td>...</td>\n      <td>2</td>\n      <td>201560</td>\n      <td>219717</td>\n      <td>18157</td>\n      <td>110</td>\n      <td>True</td>\n      <td>0</td>\n      <td>8</td>\n      <td>FWD</td>\n      <td>2019-20</td>\n    </tr>\n    <tr>\n      <th>72673</th>\n      <td>Pierre-Emerick_Aubameyang_11</td>\n      <td>0</td>\n      <td>0</td>\n      <td>7</td>\n      <td>13.333333</td>\n      <td>0</td>\n      <td>4.7</td>\n      <td>11</td>\n      <td>88</td>\n      <td>1</td>\n      <td>...</td>\n      <td>2</td>\n      <td>133927</td>\n      <td>185133</td>\n      <td>51206</td>\n      <td>111</td>\n      <td>False</td>\n      <td>0</td>\n      <td>9</td>\n      <td>FWD</td>\n      <td>2019-20</td>\n    </tr>\n    <tr>\n      <th>73229</th>\n      <td>Pierre-Emerick_Aubameyang_11</td>\n      <td>0</td>\n      <td>0</td>\n      <td>5</td>\n      <td>4.000000</td>\n      <td>0</td>\n      <td>12.4</td>\n      <td>11</td>\n      <td>91</td>\n      <td>2</td>\n      <td>...</td>\n      <td>2</td>\n      <td>52748</td>\n      <td>105976</td>\n      <td>53228</td>\n      <td>111</td>\n      <td>True</td>\n      <td>0</td>\n      <td>10</td>\n      <td>FWD</td>\n      <td>2019-20</td>\n    </tr>\n    <tr>\n      <th>73785</th>\n      <td>Pierre-Emerick_Aubameyang_11</td>\n      <td>0</td>\n      <td>2</td>\n      <td>27</td>\n      <td>13.000000</td>\n      <td>0</td>\n      <td>10.6</td>\n      <td>11</td>\n      <td>101</td>\n      <td>1</td>\n      <td>...</td>\n      <td>8</td>\n      <td>-162894</td>\n      <td>42836</td>\n      <td>205730</td>\n      <td>111</td>\n      <td>True</td>\n      <td>0</td>\n      <td>11</td>\n      <td>FWD</td>\n      <td>2019-20</td>\n    </tr>\n    <tr>\n      <th>74343</th>\n      <td>Pierre-Emerick_Aubameyang_11</td>\n      <td>0</td>\n      <td>0</td>\n      <td>10</td>\n      <td>14.000000</td>\n      <td>0</td>\n      <td>30.3</td>\n      <td>11</td>\n      <td>113</td>\n      <td>2</td>\n      <td>...</td>\n      <td>2</td>\n      <td>-52840</td>\n      <td>36266</td>\n      <td>89106</td>\n      <td>110</td>\n      <td>False</td>\n      <td>0</td>\n      <td>12</td>\n      <td>FWD</td>\n      <td>2019-20</td>\n    </tr>\n    <tr>\n      <th>74903</th>\n      <td>Pierre-Emerick_Aubameyang_11</td>\n      <td>1</td>\n      <td>0</td>\n      <td>10</td>\n      <td>15.666667</td>\n      <td>0</td>\n      <td>11.1</td>\n      <td>11</td>\n      <td>121</td>\n      <td>2</td>\n      <td>...</td>\n      <td>5</td>\n      <td>-85518</td>\n      <td>75823</td>\n      <td>161341</td>\n      <td>110</td>\n      <td>True</td>\n      <td>0</td>\n      <td>13</td>\n      <td>FWD</td>\n      <td>2019-20</td>\n    </tr>\n    <tr>\n      <th>75467</th>\n      <td>Pierre-Emerick_Aubameyang_11</td>\n      <td>0</td>\n      <td>3</td>\n      <td>58</td>\n      <td>26.000000</td>\n      <td>0</td>\n      <td>22.3</td>\n      <td>11</td>\n      <td>137</td>\n      <td>2</td>\n      <td>...</td>\n      <td>13</td>\n      <td>-133989</td>\n      <td>49088</td>\n      <td>183077</td>\n      <td>109</td>\n      <td>False</td>\n      <td>0</td>\n      <td>14</td>\n      <td>FWD</td>\n      <td>2019-20</td>\n    </tr>\n    <tr>\n      <th>76032</th>\n      <td>Pierre-Emerick_Aubameyang_11</td>\n      <td>0</td>\n      <td>0</td>\n      <td>10</td>\n      <td>26.000000</td>\n      <td>0</td>\n      <td>21.3</td>\n      <td>11</td>\n      <td>141</td>\n      <td>2</td>\n      <td>...</td>\n      <td>2</td>\n      <td>81531</td>\n      <td>101589</td>\n      <td>20058</td>\n      <td>109</td>\n      <td>True</td>\n      <td>0</td>\n      <td>15</td>\n      <td>FWD</td>\n      <td>2019-20</td>\n    </tr>\n  </tbody>\n</table>\n<p>15 rows × 36 columns</p>\n</div>"
     },
     "execution_count": 76,
     "metadata": {},
     "output_type": "execute_result"
    }
   ],
   "source": [
    "data_auba.head(15)"
   ],
   "metadata": {
    "collapsed": false,
    "pycharm": {
     "name": "#%%\n"
    }
   }
  },
  {
   "cell_type": "code",
   "execution_count": 76,
   "outputs": [],
   "source": [],
   "metadata": {
    "collapsed": false,
    "pycharm": {
     "name": "#%%\n"
    }
   }
  }
 ],
 "metadata": {
  "kernelspec": {
   "display_name": "Python 3",
   "language": "python",
   "name": "python3"
  },
  "language_info": {
   "codemirror_mode": {
    "name": "ipython",
    "version": 2
   },
   "file_extension": ".py",
   "mimetype": "text/x-python",
   "name": "python",
   "nbconvert_exporter": "python",
   "pygments_lexer": "ipython2",
   "version": "2.7.6"
  }
 },
 "nbformat": 4,
 "nbformat_minor": 0
}