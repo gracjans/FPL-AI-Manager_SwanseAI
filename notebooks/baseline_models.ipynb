{
 "cells": [
  {
   "cell_type": "code",
   "execution_count": 83,
   "outputs": [],
   "source": [
    "# %load_ext autoreload\n",
    "# %autoreload 2"
   ],
   "metadata": {
    "collapsed": false,
    "pycharm": {
     "name": "#%%\n"
    }
   }
  },
  {
   "cell_type": "code",
   "execution_count": 84,
   "outputs": [],
   "source": [
    "import pandas as pd\n",
    "from src.features.data_engineering import process_baseline_data, reverse_processing"
   ],
   "metadata": {
    "collapsed": false,
    "pycharm": {
     "name": "#%%\n"
    }
   }
  },
  {
   "cell_type": "code",
   "execution_count": 85,
   "outputs": [],
   "source": [
    "(x_train_2021, y_train_2021), (x_test_2021, y_test_2021), (x_train_2021_target, x_test_2021_target), x_2021_scaler = process_baseline_data('2020-21')"
   ],
   "metadata": {
    "collapsed": false,
    "pycharm": {
     "name": "#%%\n"
    }
   }
  },
  {
   "cell_type": "markdown",
   "source": [
    "### Train on baseline Dummy model"
   ],
   "metadata": {
    "collapsed": false,
    "pycharm": {
     "name": "#%% md\n"
    }
   }
  },
  {
   "cell_type": "code",
   "execution_count": 86,
   "outputs": [],
   "source": [
    "from sklearn.dummy import DummyRegressor\n",
    "from sklearn.metrics import mean_squared_error"
   ],
   "metadata": {
    "collapsed": false,
    "pycharm": {
     "name": "#%%\n"
    }
   }
  },
  {
   "cell_type": "code",
   "execution_count": 87,
   "outputs": [
    {
     "data": {
      "text/plain": "DummyRegressor()"
     },
     "execution_count": 87,
     "metadata": {},
     "output_type": "execute_result"
    }
   ],
   "source": [
    "dummy_regr = DummyRegressor(strategy=\"mean\")\n",
    "dummy_regr.fit(x_train_2021, y_train_2021)"
   ],
   "metadata": {
    "collapsed": false,
    "pycharm": {
     "name": "#%%\n"
    }
   }
  },
  {
   "cell_type": "code",
   "execution_count": 88,
   "outputs": [],
   "source": [
    "y_pred_2021 = dummy_regr.predict(x_test_2021)"
   ],
   "metadata": {
    "collapsed": false,
    "pycharm": {
     "name": "#%%\n"
    }
   }
  },
  {
   "cell_type": "code",
   "execution_count": 89,
   "outputs": [
    {
     "data": {
      "text/plain": "6.18489872538868"
     },
     "execution_count": 89,
     "metadata": {},
     "output_type": "execute_result"
    }
   ],
   "source": [
    "mean_squared_error(y_pred_2021, y_test_2021)"
   ],
   "metadata": {
    "collapsed": false,
    "pycharm": {
     "name": "#%%\n"
    }
   }
  },
  {
   "cell_type": "markdown",
   "source": [
    "### Train on baseline decision tree model"
   ],
   "metadata": {
    "collapsed": false,
    "pycharm": {
     "name": "#%% md\n"
    }
   }
  },
  {
   "cell_type": "code",
   "execution_count": 90,
   "outputs": [],
   "source": [
    "from sklearn.tree import DecisionTreeRegressor"
   ],
   "metadata": {
    "collapsed": false,
    "pycharm": {
     "name": "#%%\n"
    }
   }
  },
  {
   "cell_type": "code",
   "execution_count": 91,
   "outputs": [
    {
     "data": {
      "text/plain": "DecisionTreeRegressor()"
     },
     "execution_count": 91,
     "metadata": {},
     "output_type": "execute_result"
    }
   ],
   "source": [
    "tree_regr = DecisionTreeRegressor()\n",
    "tree_regr.fit(x_train_2021, y_train_2021)"
   ],
   "metadata": {
    "collapsed": false,
    "pycharm": {
     "name": "#%%\n"
    }
   }
  },
  {
   "cell_type": "code",
   "execution_count": 92,
   "outputs": [],
   "source": [
    "y_pred_2021 = tree_regr.predict(x_test_2021)"
   ],
   "metadata": {
    "collapsed": false,
    "pycharm": {
     "name": "#%%\n"
    }
   }
  },
  {
   "cell_type": "code",
   "execution_count": 93,
   "outputs": [
    {
     "data": {
      "text/plain": "9.063214965123652"
     },
     "execution_count": 93,
     "metadata": {},
     "output_type": "execute_result"
    }
   ],
   "source": [
    "mean_squared_error(y_pred_2021, y_test_2021)"
   ],
   "metadata": {
    "collapsed": false,
    "pycharm": {
     "name": "#%%\n"
    }
   }
  },
  {
   "cell_type": "markdown",
   "source": [
    "### Train on baseline SVR model"
   ],
   "metadata": {
    "collapsed": false,
    "pycharm": {
     "name": "#%% md\n"
    }
   }
  },
  {
   "cell_type": "code",
   "execution_count": 94,
   "outputs": [],
   "source": [
    "from sklearn.svm import SVR"
   ],
   "metadata": {
    "collapsed": false,
    "pycharm": {
     "name": "#%%from sklearn import svm\n"
    }
   }
  },
  {
   "cell_type": "code",
   "execution_count": 95,
   "outputs": [
    {
     "data": {
      "text/plain": "SVR()"
     },
     "execution_count": 95,
     "metadata": {},
     "output_type": "execute_result"
    }
   ],
   "source": [
    "model_svr = SVR()\n",
    "model_svr.fit(x_train_2021, y_train_2021)"
   ],
   "metadata": {
    "collapsed": false,
    "pycharm": {
     "name": "#%%\n"
    }
   }
  },
  {
   "cell_type": "code",
   "execution_count": 103,
   "outputs": [],
   "source": [
    "# create series to keep indexes and name same as in the original y data\n",
    "y_pred_2021 = pd.Series(model_svr.predict(x_test_2021), index=y_test_2021.index, name='predicted_total_points_next_gameweek')"
   ],
   "metadata": {
    "collapsed": false,
    "pycharm": {
     "name": "#%%\n"
    }
   }
  },
  {
   "cell_type": "code",
   "execution_count": 104,
   "outputs": [
    {
     "data": {
      "text/plain": "5.1224767586306035"
     },
     "execution_count": 104,
     "metadata": {},
     "output_type": "execute_result"
    }
   ],
   "source": [
    "mean_squared_error(y_pred_2021, y_test_2021)"
   ],
   "metadata": {
    "collapsed": false,
    "pycharm": {
     "name": "#%%\n"
    }
   }
  },
  {
   "cell_type": "markdown",
   "source": [
    "### Merge results with footballers extracted target data"
   ],
   "metadata": {
    "collapsed": false,
    "pycharm": {
     "name": "#%% md\n"
    }
   }
  },
  {
   "cell_type": "code",
   "execution_count": 105,
   "outputs": [],
   "source": [
    "x_test_reversed = reverse_processing(x_test_2021, x_2021_scaler, x_test_2021_target)"
   ],
   "metadata": {
    "collapsed": false,
    "pycharm": {
     "name": "#%%\n"
    }
   }
  },
  {
   "cell_type": "code",
   "execution_count": 106,
   "outputs": [],
   "source": [
    "x_test_reversed = pd.concat([y_pred_2021, x_test_reversed], axis=1)"
   ],
   "metadata": {
    "collapsed": false,
    "pycharm": {
     "name": "#%%\n"
    }
   }
  },
  {
   "cell_type": "code",
   "execution_count": 114,
   "outputs": [
    {
     "data": {
      "text/plain": "       predicted_total_points_next_gameweek                           name  \\\n18785                              4.137765                  Sam Johnstone   \n10194                              3.917257                Kevin De Bruyne   \n6871                               3.889531                Kevin De Bruyne   \n5716                               3.778425                Kevin De Bruyne   \n17763                              3.634279  Bruno Miguel Borges Fernandes   \n10746                              3.617938             Emiliano MartÃ­nez   \n14532                              3.531938  Bruno Miguel Borges Fernandes   \n10791                              3.503502                Ilkay GÃ¼ndogan   \n16973                              3.471460                Ilkay GÃ¼ndogan   \n11000                              3.432576                Aaron Cresswell   \n\n       GW  element  total_points_next_gameweek    xP  assists  bonus   bps  \\\n18785  31      417                         2.0   9.5      0.0    3.0  45.0   \n10194  19      272                         0.0  14.0      0.0    0.0  10.0   \n6871   13      272                         5.0   8.1      0.0    2.0  22.0   \n5716   11      272                         3.0  10.2      1.0    3.0  41.0   \n17763  28      302                         5.0   6.7      0.0    0.0  14.0   \n10746  19       12                         1.0   9.0      0.0    0.0  26.0   \n14532  25      302                         3.0  10.1      1.0    3.0  41.0   \n10791  19      271                        14.0  18.4      0.0    2.0  31.0   \n16973  27      271                         0.0  12.3      0.0    1.0  43.0   \n11000  19      435                         5.0  13.4      0.0    0.0  14.0   \n\n       clean_sheets  ...  transfers_balance  transfers_in  transfers_out  \\\n18785           1.0  ...              937.0       16469.0        15532.0   \n10194           0.0  ...           395204.0      436458.0        41254.0   \n6871            0.0  ...           279336.0      298617.0        19281.0   \n5716            1.0  ...           308791.0      328451.0        19660.0   \n17763           1.0  ...            75377.0      112205.0        36828.0   \n10746           1.0  ...            92429.0      151930.0        59501.0   \n14532           0.0  ...            41622.0       63513.0        21891.0   \n10791           1.0  ...            64588.0       92375.0        27787.0   \n16973           0.0  ...           133344.0      253772.0       120428.0   \n11000           0.0  ...           286229.0      317337.0        31108.0   \n\n       value  was_home  yellow_cards  position_DEF  position_FWD  position_GK  \\\n18785   45.0       1.0           0.0           0.0           0.0          1.0   \n10194  118.0       1.0           0.0           0.0           0.0          0.0   \n6871   119.0       1.0           0.0           0.0           0.0          0.0   \n5716   117.0       1.0           0.0           0.0           0.0          0.0   \n17763  115.0       1.0           0.0           0.0           0.0          0.0   \n10746   51.0       1.0           0.0           0.0           0.0          1.0   \n14532  116.0       1.0           1.0           0.0           0.0          0.0   \n10791   55.0       1.0           0.0           0.0           0.0          0.0   \n16973   62.0       1.0           0.0           0.0           0.0          0.0   \n11000   54.0       1.0           0.0           1.0           0.0          0.0   \n\n       position_MID  \n18785           0.0  \n10194           1.0  \n6871            1.0  \n5716            1.0  \n17763           1.0  \n10746           0.0  \n14532           1.0  \n10791           1.0  \n16973           1.0  \n11000           0.0  \n\n[10 rows x 34 columns]",
      "text/html": "<div>\n<style scoped>\n    .dataframe tbody tr th:only-of-type {\n        vertical-align: middle;\n    }\n\n    .dataframe tbody tr th {\n        vertical-align: top;\n    }\n\n    .dataframe thead th {\n        text-align: right;\n    }\n</style>\n<table border=\"1\" class=\"dataframe\">\n  <thead>\n    <tr style=\"text-align: right;\">\n      <th></th>\n      <th>predicted_total_points_next_gameweek</th>\n      <th>name</th>\n      <th>GW</th>\n      <th>element</th>\n      <th>total_points_next_gameweek</th>\n      <th>xP</th>\n      <th>assists</th>\n      <th>bonus</th>\n      <th>bps</th>\n      <th>clean_sheets</th>\n      <th>...</th>\n      <th>transfers_balance</th>\n      <th>transfers_in</th>\n      <th>transfers_out</th>\n      <th>value</th>\n      <th>was_home</th>\n      <th>yellow_cards</th>\n      <th>position_DEF</th>\n      <th>position_FWD</th>\n      <th>position_GK</th>\n      <th>position_MID</th>\n    </tr>\n  </thead>\n  <tbody>\n    <tr>\n      <th>18785</th>\n      <td>4.137765</td>\n      <td>Sam Johnstone</td>\n      <td>31</td>\n      <td>417</td>\n      <td>2.0</td>\n      <td>9.5</td>\n      <td>0.0</td>\n      <td>3.0</td>\n      <td>45.0</td>\n      <td>1.0</td>\n      <td>...</td>\n      <td>937.0</td>\n      <td>16469.0</td>\n      <td>15532.0</td>\n      <td>45.0</td>\n      <td>1.0</td>\n      <td>0.0</td>\n      <td>0.0</td>\n      <td>0.0</td>\n      <td>1.0</td>\n      <td>0.0</td>\n    </tr>\n    <tr>\n      <th>10194</th>\n      <td>3.917257</td>\n      <td>Kevin De Bruyne</td>\n      <td>19</td>\n      <td>272</td>\n      <td>0.0</td>\n      <td>14.0</td>\n      <td>0.0</td>\n      <td>0.0</td>\n      <td>10.0</td>\n      <td>0.0</td>\n      <td>...</td>\n      <td>395204.0</td>\n      <td>436458.0</td>\n      <td>41254.0</td>\n      <td>118.0</td>\n      <td>1.0</td>\n      <td>0.0</td>\n      <td>0.0</td>\n      <td>0.0</td>\n      <td>0.0</td>\n      <td>1.0</td>\n    </tr>\n    <tr>\n      <th>6871</th>\n      <td>3.889531</td>\n      <td>Kevin De Bruyne</td>\n      <td>13</td>\n      <td>272</td>\n      <td>5.0</td>\n      <td>8.1</td>\n      <td>0.0</td>\n      <td>2.0</td>\n      <td>22.0</td>\n      <td>0.0</td>\n      <td>...</td>\n      <td>279336.0</td>\n      <td>298617.0</td>\n      <td>19281.0</td>\n      <td>119.0</td>\n      <td>1.0</td>\n      <td>0.0</td>\n      <td>0.0</td>\n      <td>0.0</td>\n      <td>0.0</td>\n      <td>1.0</td>\n    </tr>\n    <tr>\n      <th>5716</th>\n      <td>3.778425</td>\n      <td>Kevin De Bruyne</td>\n      <td>11</td>\n      <td>272</td>\n      <td>3.0</td>\n      <td>10.2</td>\n      <td>1.0</td>\n      <td>3.0</td>\n      <td>41.0</td>\n      <td>1.0</td>\n      <td>...</td>\n      <td>308791.0</td>\n      <td>328451.0</td>\n      <td>19660.0</td>\n      <td>117.0</td>\n      <td>1.0</td>\n      <td>0.0</td>\n      <td>0.0</td>\n      <td>0.0</td>\n      <td>0.0</td>\n      <td>1.0</td>\n    </tr>\n    <tr>\n      <th>17763</th>\n      <td>3.634279</td>\n      <td>Bruno Miguel Borges Fernandes</td>\n      <td>28</td>\n      <td>302</td>\n      <td>5.0</td>\n      <td>6.7</td>\n      <td>0.0</td>\n      <td>0.0</td>\n      <td>14.0</td>\n      <td>1.0</td>\n      <td>...</td>\n      <td>75377.0</td>\n      <td>112205.0</td>\n      <td>36828.0</td>\n      <td>115.0</td>\n      <td>1.0</td>\n      <td>0.0</td>\n      <td>0.0</td>\n      <td>0.0</td>\n      <td>0.0</td>\n      <td>1.0</td>\n    </tr>\n    <tr>\n      <th>10746</th>\n      <td>3.617938</td>\n      <td>Emiliano MartÃ­nez</td>\n      <td>19</td>\n      <td>12</td>\n      <td>1.0</td>\n      <td>9.0</td>\n      <td>0.0</td>\n      <td>0.0</td>\n      <td>26.0</td>\n      <td>1.0</td>\n      <td>...</td>\n      <td>92429.0</td>\n      <td>151930.0</td>\n      <td>59501.0</td>\n      <td>51.0</td>\n      <td>1.0</td>\n      <td>0.0</td>\n      <td>0.0</td>\n      <td>0.0</td>\n      <td>1.0</td>\n      <td>0.0</td>\n    </tr>\n    <tr>\n      <th>14532</th>\n      <td>3.531938</td>\n      <td>Bruno Miguel Borges Fernandes</td>\n      <td>25</td>\n      <td>302</td>\n      <td>3.0</td>\n      <td>10.1</td>\n      <td>1.0</td>\n      <td>3.0</td>\n      <td>41.0</td>\n      <td>0.0</td>\n      <td>...</td>\n      <td>41622.0</td>\n      <td>63513.0</td>\n      <td>21891.0</td>\n      <td>116.0</td>\n      <td>1.0</td>\n      <td>1.0</td>\n      <td>0.0</td>\n      <td>0.0</td>\n      <td>0.0</td>\n      <td>1.0</td>\n    </tr>\n    <tr>\n      <th>10791</th>\n      <td>3.503502</td>\n      <td>Ilkay GÃ¼ndogan</td>\n      <td>19</td>\n      <td>271</td>\n      <td>14.0</td>\n      <td>18.4</td>\n      <td>0.0</td>\n      <td>2.0</td>\n      <td>31.0</td>\n      <td>1.0</td>\n      <td>...</td>\n      <td>64588.0</td>\n      <td>92375.0</td>\n      <td>27787.0</td>\n      <td>55.0</td>\n      <td>1.0</td>\n      <td>0.0</td>\n      <td>0.0</td>\n      <td>0.0</td>\n      <td>0.0</td>\n      <td>1.0</td>\n    </tr>\n    <tr>\n      <th>16973</th>\n      <td>3.471460</td>\n      <td>Ilkay GÃ¼ndogan</td>\n      <td>27</td>\n      <td>271</td>\n      <td>0.0</td>\n      <td>12.3</td>\n      <td>0.0</td>\n      <td>1.0</td>\n      <td>43.0</td>\n      <td>0.0</td>\n      <td>...</td>\n      <td>133344.0</td>\n      <td>253772.0</td>\n      <td>120428.0</td>\n      <td>62.0</td>\n      <td>1.0</td>\n      <td>0.0</td>\n      <td>0.0</td>\n      <td>0.0</td>\n      <td>0.0</td>\n      <td>1.0</td>\n    </tr>\n    <tr>\n      <th>11000</th>\n      <td>3.432576</td>\n      <td>Aaron Cresswell</td>\n      <td>19</td>\n      <td>435</td>\n      <td>5.0</td>\n      <td>13.4</td>\n      <td>0.0</td>\n      <td>0.0</td>\n      <td>14.0</td>\n      <td>0.0</td>\n      <td>...</td>\n      <td>286229.0</td>\n      <td>317337.0</td>\n      <td>31108.0</td>\n      <td>54.0</td>\n      <td>1.0</td>\n      <td>0.0</td>\n      <td>1.0</td>\n      <td>0.0</td>\n      <td>0.0</td>\n      <td>0.0</td>\n    </tr>\n  </tbody>\n</table>\n<p>10 rows × 34 columns</p>\n</div>"
     },
     "execution_count": 114,
     "metadata": {},
     "output_type": "execute_result"
    }
   ],
   "source": [
    "#preview x_test_reversed sorted by predicted total points descending\n",
    "x_test_reversed.sort_values(by='predicted_total_points_next_gameweek', ascending=False).head(10)"
   ],
   "metadata": {
    "collapsed": false,
    "pycharm": {
     "name": "#%%\n"
    }
   }
  },
  {
   "cell_type": "code",
   "execution_count": null,
   "outputs": [],
   "source": [],
   "metadata": {
    "collapsed": false,
    "pycharm": {
     "name": "#%%\n"
    }
   }
  }
 ],
 "metadata": {
  "kernelspec": {
   "display_name": "Python 3",
   "language": "python",
   "name": "python3"
  },
  "language_info": {
   "codemirror_mode": {
    "name": "ipython",
    "version": 2
   },
   "file_extension": ".py",
   "mimetype": "text/x-python",
   "name": "python",
   "nbconvert_exporter": "python",
   "pygments_lexer": "ipython2",
   "version": "2.7.6"
  }
 },
 "nbformat": 4,
 "nbformat_minor": 0
}